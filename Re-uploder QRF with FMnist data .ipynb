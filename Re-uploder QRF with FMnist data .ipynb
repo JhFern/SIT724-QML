{
 "cells": [
  {
   "cell_type": "code",
   "execution_count": 1,
   "metadata": {},
   "outputs": [],
   "source": [
    "from sklearn.datasets import load_digits\n",
    "import pandas as pd\n",
    "import matplotlib.pyplot as plt\n",
    "%matplotlib inline \n",
    "from pennylane import numpy as np\n",
    "import pennylane as qml\n",
    "from sklearn.model_selection import train_test_split \n",
    "from sklearn.preprocessing import MaxAbsScaler \n",
    "from sklearn.preprocessing import Normalizer\n",
    "from sklearn.svm import SVC\n",
    "from sklearn.metrics import accuracy_score \n",
    "from sklearn.metrics import confusion_matrix as confusion_matrix\n",
    "from sklearn.metrics import f1_score as f1\n",
    "from sklearn.metrics import recall_score as recall\n",
    "from sklearn.decomposition import PCA \n",
    "from qiskit import *\n",
    "import seaborn as sns\n",
    "import plotly.express as px\n",
    "from sklearn.metrics import f1_score\n",
    "from sklearn.metrics import recall_score\n",
    "from sklearn.metrics import precision_score\n",
    "import pennylane as qml\n",
    "from pennylane import numpy as np\n",
    "from pennylane.optimize import AdamOptimizer, GradientDescentOptimizer\n",
    "from keras.datasets import fashion_mnist\n",
    "import matplotlib.pyplot as plt\n"
   ]
  },
  {
   "cell_type": "code",
   "execution_count": 2,
   "metadata": {},
   "outputs": [],
   "source": [
    "(x_train, y_train), (x_test, y_test) = fashion_mnist.load_data()\n"
   ]
  },
  {
   "cell_type": "code",
   "execution_count": 3,
   "metadata": {},
   "outputs": [
    {
     "name": "stdout",
     "output_type": "stream",
     "text": [
      "(60000, 28, 28)\n"
     ]
    }
   ],
   "source": [
    "print(x_train.shape)\n"
   ]
  },
  {
   "cell_type": "code",
   "execution_count": null,
   "metadata": {},
   "outputs": [],
   "source": [
    "\n",
    "number_of_data_points = 2000\n",
    "y = pd.DataFrame(y_train[0:number_of_data_points])\n"
   ]
  },
  {
   "cell_type": "code",
   "execution_count": null,
   "metadata": {},
   "outputs": [],
   "source": [
    "\n",
    "x_data = pd.DataFrame()\n",
    "for i in range(number_of_data_points):\n",
    "    x=x_train[i]\n",
    "    \n",
    "    new_x = pd.DataFrame()\n",
    "    for j in range(len(x[0])):\n",
    "        new_val = pd.Series()\n",
    "        new_val= pd.concat([new_val,pd.Series(x[j])])\n",
    "\n",
    "\n",
    "        new_x= pd.concat([new_x,(new_val.to_frame().T)],axis=1,ignore_index= True)\n",
    "    x_data = pd.concat([x_data,new_x],ignore_index=False,axis = 0)\n",
    "\n",
    "copyOfx = x_data\n"
   ]
  },
  {
   "cell_type": "code",
   "execution_count": 5,
   "metadata": {},
   "outputs": [
    {
     "data": {
      "text/plain": [
       "array([[0., 0., 0., ..., 0., 0., 0.],\n",
       "       [0., 0., 0., ..., 0., 0., 0.],\n",
       "       [0., 0., 0., ..., 0., 0., 0.],\n",
       "       ...,\n",
       "       [0., 0., 0., ..., 0., 0., 0.],\n",
       "       [0., 0., 0., ..., 0., 0., 0.],\n",
       "       [0., 0., 0., ..., 0., 0., 0.]])"
      ]
     },
     "execution_count": 5,
     "metadata": {},
     "output_type": "execute_result"
    }
   ],
   "source": [
    "\n",
    "\n",
    "scaler = MaxAbsScaler() \n",
    "\n",
    "x_data = scaler.fit_transform(x_data)\n",
    "\n",
    "normalizer = Normalizer().fit(x_data)\n",
    "\n",
    "\n",
    "normalizer.transform(x_data)\n"
   ]
  },
  {
   "cell_type": "code",
   "execution_count": 6,
   "metadata": {},
   "outputs": [],
   "source": [
    "pca = PCA(n_components = 3 ) \n",
    " \n",
    " \n",
    " \n",
    "xs_data = pca.fit_transform(x_data) \n",
    " "
   ]
  },
  {
   "cell_type": "code",
   "execution_count": 7,
   "metadata": {},
   "outputs": [],
   "source": [
    "\n",
    "y_new = y.replace([9,8,7,6,5,4,3,2],0)\n"
   ]
  },
  {
   "cell_type": "code",
   "execution_count": 8,
   "metadata": {},
   "outputs": [],
   "source": [
    "y = y_new"
   ]
  },
  {
   "cell_type": "code",
   "execution_count": 16,
   "metadata": {},
   "outputs": [
    {
     "name": "stdout",
     "output_type": "stream",
     "text": [
      "      0\n",
      "0     0\n",
      "1     0\n",
      "2     0\n",
      "3     0\n",
      "4     0\n",
      "...  ..\n",
      "1995  0\n",
      "1996  1\n",
      "1997  0\n",
      "1998  0\n",
      "1999  0\n",
      "\n",
      "[2000 rows x 1 columns]\n"
     ]
    }
   ],
   "source": [
    "print(y)"
   ]
  },
  {
   "cell_type": "code",
   "execution_count": 9,
   "metadata": {},
   "outputs": [],
   "source": [
    "\n",
    "x_train, x_test, y_train, y_test = train_test_split(xs_data, y, train_size = 0.8)\n",
    "\n",
    "x_traindf = pd.DataFrame(x_train)\n",
    "x_testdf = pd.DataFrame(x_test)\n",
    "y_traindf = pd.DataFrame(y_train)\n",
    "y_testdf = pd.DataFrame(y_test)\n",
    "\n",
    "x_test =np.array(x_test)\n",
    "x_train = np.array(x_train)\n",
    "y_train = np.array(y_train)\n",
    "y_test = np.array(y_test)\n",
    "\n",
    "\n",
    "\n",
    "ylist = []\n",
    "y_train = y_train.transpose()\n",
    "for i in range(len(y_train)):\n",
    "    \n",
    "    ylist.append(y_train[i])\n",
    "\n",
    "\n",
    "y_train = np.array(ylist,requires_grad=False)\n",
    "y_train=y_train[0]\n",
    "\n",
    "ylist = []\n",
    "y_test = y_test.transpose()\n",
    "for i in range(len(y_test)):\n",
    "    \n",
    "    ylist.append(y_test[i])\n",
    "\n",
    "\n",
    "y_test = np.array(ylist,requires_grad=False)\n",
    "y_test=y_test[0]\n",
    "xlist = []\n",
    "\n",
    "for i in range(len(x_train)):\n",
    "    \n",
    "    xlist.append(x_train[i])\n",
    "\n",
    "\n",
    "x_train = np.array(xlist,requires_grad=False)\n",
    "\n",
    "X_train = x_train\n",
    "X_test =x_test\n"
   ]
  },
  {
   "cell_type": "code",
   "execution_count": 10,
   "metadata": {},
   "outputs": [
    {
     "name": "stdout",
     "output_type": "stream",
     "text": [
      "[0 0 0 0 0 0 0 0 0 0 0 0 1 0 0 0 0 0 0 0 0 1 0 0 1 0 0 0 0 0 0 0 1 0 0 0 0\n",
      " 0 1 0 0 0 0 0 0 0 0 0 0 0 0 0 0 0 0 1 0 0 1 0 0 0 0 0 0 0 0 0 0 1 0 0 0 1\n",
      " 0 0 0 1 0 0 0 0 0 0 0 0 0 0 0 0 0 1 0 1 0 0 0 0 0 0 0 1 0 0 0 0 0 0 0 0 0\n",
      " 0 0 0 0 0 0 0 0 0 0 0 0 0 0 1 0 0 0 0 0 1 0 0 0 0 0 0 0 0 1 0 0 0 0 0 0 0\n",
      " 1 0 0 1 0 0 0 0 0 0 1 0 0 0 0 0 1 0 0 1 0 0 0 0 0 0 1 0 0 0 0 0 0 0 0 1 0\n",
      " 0 0 0 0 0 0 0 0 0 0 0 0 0 0 0 0 0 0 1 1 0 0 0 0 0 0 0 0 0 0 0 0 0 0 0 0 0\n",
      " 0 0 0 0 0 0 0 0 1 0 0 0 0 0 0 1 0 0 0 0 0 0 0 0 0 0 0 0 0 0 0 0 0 0 0 0 0\n",
      " 0 0 0 0 0 0 1 0 0 1 0 0 0 0 0 0 0 0 0 0 0 0 0 1 0 0 0 0 0 1 0 1 0 0 0 0 0\n",
      " 0 1 0 0 0 1 0 0 0 0 0 0 0 1 0 0 0 0 0 1 0 0 0 0 0 1 0 0 0 0 0 0 0 0 0 0 0\n",
      " 0 0 0 0 0 0 0 0 0 0 0 0 0 1 0 0 0 0 0 1 0 0 0 0 0 0 1 0 0 0 0 0 0 0 0 0 0\n",
      " 0 0 0 0 0 0 0 0 0 0 0 0 0 0 0 0 0 1 1 0 0 0 0 0 0 0 0 1 0 0]\n"
     ]
    }
   ],
   "source": [
    "print(y_test)"
   ]
  },
  {
   "cell_type": "code",
   "execution_count": 11,
   "metadata": {},
   "outputs": [
    {
     "name": "stdout",
     "output_type": "stream",
     "text": [
      "400\n",
      "400\n",
      "[[ 8.32998969  3.28273407 -1.30266363]\n",
      " [ 4.23962091 -0.86132548 -1.30096782]\n",
      " [-3.0306812   2.45662491  1.6222959 ]\n",
      " ...\n",
      " [ 2.11935293 -5.93053222  1.63219015]\n",
      " [ 7.97113453  3.17686985 -1.3486317 ]\n",
      " [-1.41173137 -0.88484236  0.97847974]]\n"
     ]
    }
   ],
   "source": [
    "\n",
    "X_train = x_train\n",
    "X_test =x_test\n",
    "print(len(y_test))\n",
    "print(len(X_test))\n",
    "print(x_test)\n"
   ]
  },
  {
   "cell_type": "code",
   "execution_count": 12,
   "metadata": {},
   "outputs": [],
   "source": [
    "dev = qml.device(\"lightning.qubit\", wires=1)\n",
    "@qml.qnode(dev)\n",
    "def qcircuit(params, x, y):\n",
    "\n",
    "    for p in params:\n",
    "        qml.Rot(*x, wires=0)\n",
    "        qml.Rot(*p, wires=0)\n",
    "    return qml.expval(qml.Hermitian(y, wires=[0]))\n",
    "\n"
   ]
  },
  {
   "cell_type": "code",
   "execution_count": 13,
   "metadata": {},
   "outputs": [],
   "source": [
    "\n",
    "class Reuploader():\n",
    "    \n",
    "    num_layers =0\n",
    "    learning_rate=0\n",
    "    epochs=0 \n",
    "    batch_size=0\n",
    "    model = np.array\n",
    "    opt = 0\n",
    "    dev=0\n",
    "    params=0\n",
    "    state_labels =0\n",
    "    label_0 = [[1], [0]]\n",
    "    label_1 = [[0], [1]]\n",
    "    \n",
    "   \n",
    "\n",
    "    def __init__(self,dev,num_layers = 4, learning_rate = 0.6, epochs= 10, batch_size = 32, ):\n",
    "\n",
    "        self.num_layers = num_layers\n",
    "        self.learning_rate = learning_rate\n",
    "        self.epochs = epochs\n",
    "        self.batch_size = batch_size\n",
    "        self.opt = AdamOptimizer(learning_rate, beta1=0.9, beta2=0.999)\n",
    "        self.dev = dev \n",
    "        self.params = np.random.uniform(size=(num_layers, 3), requires_grad=True)\n",
    "        self.state_labels = np.array([self.label_0, self.label_1], requires_grad=False)\n",
    "        \n",
    "\n",
    "    \n",
    "    def density_matrix(self,state):\n",
    "        \"\"\"Calculates the density matrix representation of a state.\n",
    "\n",
    "        Args:\n",
    "            state (array[complex]): array representing a quantum state vector\n",
    "\n",
    "        Returns:\n",
    "            dm: (array[complex]): array representing the density matrix\n",
    "        \"\"\"\n",
    "        return state * np.conj(state).T\n",
    "\n",
    "\n",
    "\n",
    "\n",
    "\n",
    "\n",
    "    def cost(self, params, x, y, state_labels=None):\n",
    "        \"\"\"Cost function to be minimized.\n",
    "\n",
    "        Args:\n",
    "            params (array[float]): array of parameters\n",
    "            x (array[float]): 2-d array of input vectors\n",
    "            y (array[float]): 1-d array of targets\n",
    "            state_labels (array[float]): array of state representations for labels\n",
    "\n",
    "        Returns:\n",
    "            float: loss value to be minimized\n",
    "        \"\"\"\n",
    "        # Compute prediction for each input in data batch\n",
    "        loss = 0.0\n",
    "        dm_labels = [self.density_matrix(s) for s in state_labels]\n",
    "        for i in range(len(x)):\n",
    "            f = qcircuit(params, x[i], dm_labels[y[i]])\n",
    "            loss = loss + (1 - f) ** 2\n",
    "        return loss / len(x)\n",
    "\n",
    "    def test(self,params, x, y, state_labels=None):\n",
    "        \"\"\"\n",
    "        Tests on a given set of data.\n",
    "\n",
    "        Args:\n",
    "            params (array[float]): array of parameters\n",
    "            x (array[float]): 2-d array of input vectors\n",
    "            y (array[float]): 1-d array of targets\n",
    "            state_labels (array[float]): 1-d array of state representations for labels\n",
    "\n",
    "        Returns:\n",
    "            predicted (array([int]): predicted labels for test data\n",
    "            output_states (array[float]): output quantum states from the circuit\n",
    "        \"\"\"\n",
    "        fidelity_values = []\n",
    "        dm_labels = [self.density_matrix(s) for s in state_labels]\n",
    "        predicted = []\n",
    "\n",
    "        for i in range(len(x)):\n",
    "            fidel_function = lambda y: qcircuit(params, x[i], y)\n",
    "            fidelities = [fidel_function(dm) for dm in dm_labels]\n",
    "            best_fidel = np.argmax(fidelities)\n",
    "\n",
    "            predicted.append(best_fidel)\n",
    "            fidelity_values.append(fidelities)\n",
    "\n",
    "        return np.array(predicted), np.array(fidelity_values)\n",
    "\n",
    "\n",
    "    def accuracy_score(self,y_true, y_pred):\n",
    "        \"\"\"Accuracy score.\n",
    "\n",
    "        Args:\n",
    "            y_true (array[float]): 1-d array of targets\n",
    "            y_predicted (array[float]): 1-d array of predictions\n",
    "            state_labels (array[float]): 1-d array of state representations for labels\n",
    "\n",
    "        Returns:\n",
    "            score (float): the fraction of correctly classified samples\n",
    "        \"\"\"\n",
    "    \n",
    "        score = y_true == y_pred\n",
    "        return score.sum() / len(y_true)\n",
    "\n",
    "\n",
    "    def iterate_minibatches(self, inputs, targets, batch_size):\n",
    "        \"\"\"\n",
    "        A generator for batches of the input data\n",
    "\n",
    "        Args:\n",
    "            inputs (array[float]): input data\n",
    "            targets (array[float]): targets\n",
    "\n",
    "        Returns:\n",
    "            inputs (array[float]): one batch of input data of length `batch_size`\n",
    "            targets (array[float]): one batch of targets of length `batch_size`\n",
    "        \"\"\"\n",
    "        for start_idx in range(0, inputs.shape[0] - batch_size + 1, batch_size):\n",
    "            idxs = slice(start_idx, start_idx + batch_size)\n",
    "            yield inputs[idxs], targets[idxs]\n",
    "\n",
    "\n",
    "    def fit(self,X_train, y_train):\n",
    "\n",
    "        for it in range(self.epochs):\n",
    "            for Xbatch, ybatch in self.iterate_minibatches(X_train, y_train, batch_size=self.batch_size):\n",
    "                self.params, _, _, _ = self.opt.step(self.cost, self.params, Xbatch, ybatch, self.state_labels)\n",
    "\n",
    "            predicted_train, fidel_train = self.test(self.params, X_train, y_train, self.state_labels)\n",
    "            accuracy_train = self.accuracy_score(y_train, predicted_train)\n",
    "            loss = self.cost(self.params, X_train, y_train, self.state_labels)\n",
    "            \n",
    "\n",
    "            res = [it + 1, loss, accuracy_train]\n",
    "            print(\n",
    "                \"Epoch: {:2d} | Loss: {:3f} |  accuracy: {:3f} \".format(\n",
    "                    *res\n",
    "                )\n",
    "            )\n",
    "    def predict(self,X_test, y_test):\n",
    "\n",
    "        predicted_test, fidel_test = self.test(self.params, X_test, y_test, self.state_labels)\n",
    "\n",
    "        return predicted_test\n",
    "\n",
    "\n",
    "\n",
    "    \n",
    "\n",
    "    \n"
   ]
  },
  {
   "cell_type": "code",
   "execution_count": 15,
   "metadata": {},
   "outputs": [
    {
     "name": "stdout",
     "output_type": "stream",
     "text": [
      "[0 0 0 ... 0 0 0]\n"
     ]
    }
   ],
   "source": [
    "print(y_train)"
   ]
  },
  {
   "cell_type": "code",
   "execution_count": 14,
   "metadata": {},
   "outputs": [
    {
     "name": "stdout",
     "output_type": "stream",
     "text": [
      "Epoch:  1 | Loss: 0.191583 |  accuracy: 0.730000 \n",
      "Epoch:  2 | Loss: 0.185807 |  accuracy: 0.742500 \n",
      "Epoch:  3 | Loss: 0.205918 |  accuracy: 0.725000 \n",
      "Epoch:  4 | Loss: 0.182044 |  accuracy: 0.743750 \n",
      "Epoch:  5 | Loss: 0.191380 |  accuracy: 0.726875 \n",
      "Epoch:  6 | Loss: 0.200376 |  accuracy: 0.716875 \n",
      "Epoch:  7 | Loss: 0.194853 |  accuracy: 0.714375 \n",
      "Epoch:  8 | Loss: 0.193496 |  accuracy: 0.715625 \n",
      "Epoch:  9 | Loss: 0.208062 |  accuracy: 0.706875 \n",
      "Epoch: 10 | Loss: 0.186327 |  accuracy: 0.733750 \n"
     ]
    }
   ],
   "source": [
    "\n",
    "\n",
    "model = Reuploader( dev, num_layers=2)\n",
    "\n",
    "model.fit(X_train, y_train)\n"
   ]
  },
  {
   "cell_type": "code",
   "execution_count": 65,
   "metadata": {},
   "outputs": [],
   "source": [
    "y_pred = model.predict(x_test,y_test)"
   ]
  },
  {
   "cell_type": "code",
   "execution_count": 69,
   "metadata": {},
   "outputs": [
    {
     "data": {
      "application/vnd.plotly.v1+json": {
       "config": {
        "plotlyServerURL": "https://plot.ly"
       },
       "data": [
        {
         "hovertemplate": "color=0<br>x=%{x}<br>y=%{y}<br>z=%{z}<extra></extra>",
         "legendgroup": "0",
         "marker": {
          "color": "#636efa",
          "symbol": "circle"
         },
         "mode": "markers",
         "name": "0",
         "scene": "scene",
         "showlegend": true,
         "type": "scatter3d",
         "x": [
          -4.743768548845113,
          -1.3228412546559067,
          2.785082844307431,
          -6.513378359882725,
          6.808023923430163,
          -0.41164746084191556,
          -0.0685184859996972,
          1.7200588150275906,
          4.6947920415390625,
          3.1678430636869206,
          5.871528141018577,
          5.73005247944524,
          -5.198110782761133,
          -3.0697495974709557,
          -5.733694407063032,
          -4.90986453890313,
          3.5195487436562147,
          -6.290821594793524,
          -5.534047435694155,
          -4.458784876689663,
          -6.762018665424565,
          2.7783960917422417,
          0.7682702619874502,
          -3.4768342821271823,
          -7.218574194736847,
          6.071706923497944,
          2.8826486795098583,
          1.636910469877763,
          9.336975503474939,
          5.868205947770307,
          -3.2956457801035857,
          -1.4378404841376105,
          -5.134546532836779,
          4.059525448978562,
          -6.104528948518106,
          4.26081328719457,
          -7.00633842005011
         ],
         "y": [
          1.220099268603767,
          6.493236225345611,
          2.916499800675734,
          1.4268279089560425,
          3.0941556580030376,
          -2.1521735125645605,
          0.31921202167172236,
          1.2412598389044711,
          3.3815234902220936,
          -4.343195052574395,
          -0.35957894828652126,
          3.1819700719151442,
          2.5407104341447404,
          -1.7343284152359526,
          3.215043901529783,
          1.2920882273547099,
          -4.973525723251861,
          1.029149531342737,
          3.9168958004412624,
          1.554489621372172,
          -0.18823417349166618,
          2.227493574235297,
          -3.4789556358102987,
          3.6472264701923787,
          -1.3083113364854433,
          2.599460417220851,
          2.763371179984298,
          0.3094337528788664,
          5.616835731012946,
          0.0240287741630624,
          2.8872914722857588,
          5.985702935490096,
          0.9363222043102668,
          4.2850817293990255,
          0.1643546215799431,
          -4.48356245755892,
          -2.4927162455767062
         ],
         "z": [
          5.353849031794919,
          -4.493426536196455,
          2.189130238710818,
          -1.894233979015354,
          -0.3398516781187303,
          0.33058969021366114,
          2.5492404962926076,
          1.826359408772072,
          0.29216248140921125,
          -1.1907979884221043,
          0.5306406223866859,
          -0.09734601715746312,
          -0.9078776579160694,
          2.1068004798025166,
          -2.928482877192787,
          2.079149561550557,
          -2.390880452283247,
          -3.145289655563207,
          -3.4688490501426528,
          1.57228607628542,
          -1.7103641502636973,
          1.7041150786260042,
          1.7119294580019493,
          -1.3256139810494314,
          -0.3579624557632136,
          0.13040818192254167,
          2.9297417097899716,
          1.8197772544550268,
          -0.19554942229701586,
          -2.091691535674004,
          -1.4847108789319297,
          0.16687202203162194,
          0.8790839847134494,
          2.2773925717571015,
          -0.3623088973174482,
          -1.1498092041168948,
          0.8825569939962307
         ]
        },
        {
         "hovertemplate": "color=1<br>x=%{x}<br>y=%{y}<br>z=%{z}<extra></extra>",
         "legendgroup": "1",
         "marker": {
          "color": "#EF553B",
          "symbol": "circle"
         },
         "mode": "markers",
         "name": "1",
         "scene": "scene",
         "showlegend": true,
         "type": "scatter3d",
         "x": [
          2.5675585729566666,
          1.663237152763599,
          2.02890069754237
         ],
         "y": [
          -5.5579490502160445,
          -5.939448087475954,
          -5.61302884623932
         ],
         "z": [
          -2.2739398330713287,
          -1.4376111004356689,
          -1.867603329158955
         ]
        }
       ],
       "layout": {
        "legend": {
         "title": {
          "text": "color"
         },
         "tracegroupgap": 0
        },
        "margin": {
         "t": 60
        },
        "scene": {
         "domain": {
          "x": [
           0,
           1
          ],
          "y": [
           0,
           1
          ]
         },
         "xaxis": {
          "title": {
           "text": "x"
          }
         },
         "yaxis": {
          "title": {
           "text": "y"
          }
         },
         "zaxis": {
          "title": {
           "text": "z"
          }
         }
        },
        "template": {
         "data": {
          "bar": [
           {
            "error_x": {
             "color": "#2a3f5f"
            },
            "error_y": {
             "color": "#2a3f5f"
            },
            "marker": {
             "line": {
              "color": "#E5ECF6",
              "width": 0.5
             },
             "pattern": {
              "fillmode": "overlay",
              "size": 10,
              "solidity": 0.2
             }
            },
            "type": "bar"
           }
          ],
          "barpolar": [
           {
            "marker": {
             "line": {
              "color": "#E5ECF6",
              "width": 0.5
             },
             "pattern": {
              "fillmode": "overlay",
              "size": 10,
              "solidity": 0.2
             }
            },
            "type": "barpolar"
           }
          ],
          "carpet": [
           {
            "aaxis": {
             "endlinecolor": "#2a3f5f",
             "gridcolor": "white",
             "linecolor": "white",
             "minorgridcolor": "white",
             "startlinecolor": "#2a3f5f"
            },
            "baxis": {
             "endlinecolor": "#2a3f5f",
             "gridcolor": "white",
             "linecolor": "white",
             "minorgridcolor": "white",
             "startlinecolor": "#2a3f5f"
            },
            "type": "carpet"
           }
          ],
          "choropleth": [
           {
            "colorbar": {
             "outlinewidth": 0,
             "ticks": ""
            },
            "type": "choropleth"
           }
          ],
          "contour": [
           {
            "colorbar": {
             "outlinewidth": 0,
             "ticks": ""
            },
            "colorscale": [
             [
              0,
              "#0d0887"
             ],
             [
              0.1111111111111111,
              "#46039f"
             ],
             [
              0.2222222222222222,
              "#7201a8"
             ],
             [
              0.3333333333333333,
              "#9c179e"
             ],
             [
              0.4444444444444444,
              "#bd3786"
             ],
             [
              0.5555555555555556,
              "#d8576b"
             ],
             [
              0.6666666666666666,
              "#ed7953"
             ],
             [
              0.7777777777777778,
              "#fb9f3a"
             ],
             [
              0.8888888888888888,
              "#fdca26"
             ],
             [
              1,
              "#f0f921"
             ]
            ],
            "type": "contour"
           }
          ],
          "contourcarpet": [
           {
            "colorbar": {
             "outlinewidth": 0,
             "ticks": ""
            },
            "type": "contourcarpet"
           }
          ],
          "heatmap": [
           {
            "colorbar": {
             "outlinewidth": 0,
             "ticks": ""
            },
            "colorscale": [
             [
              0,
              "#0d0887"
             ],
             [
              0.1111111111111111,
              "#46039f"
             ],
             [
              0.2222222222222222,
              "#7201a8"
             ],
             [
              0.3333333333333333,
              "#9c179e"
             ],
             [
              0.4444444444444444,
              "#bd3786"
             ],
             [
              0.5555555555555556,
              "#d8576b"
             ],
             [
              0.6666666666666666,
              "#ed7953"
             ],
             [
              0.7777777777777778,
              "#fb9f3a"
             ],
             [
              0.8888888888888888,
              "#fdca26"
             ],
             [
              1,
              "#f0f921"
             ]
            ],
            "type": "heatmap"
           }
          ],
          "heatmapgl": [
           {
            "colorbar": {
             "outlinewidth": 0,
             "ticks": ""
            },
            "colorscale": [
             [
              0,
              "#0d0887"
             ],
             [
              0.1111111111111111,
              "#46039f"
             ],
             [
              0.2222222222222222,
              "#7201a8"
             ],
             [
              0.3333333333333333,
              "#9c179e"
             ],
             [
              0.4444444444444444,
              "#bd3786"
             ],
             [
              0.5555555555555556,
              "#d8576b"
             ],
             [
              0.6666666666666666,
              "#ed7953"
             ],
             [
              0.7777777777777778,
              "#fb9f3a"
             ],
             [
              0.8888888888888888,
              "#fdca26"
             ],
             [
              1,
              "#f0f921"
             ]
            ],
            "type": "heatmapgl"
           }
          ],
          "histogram": [
           {
            "marker": {
             "pattern": {
              "fillmode": "overlay",
              "size": 10,
              "solidity": 0.2
             }
            },
            "type": "histogram"
           }
          ],
          "histogram2d": [
           {
            "colorbar": {
             "outlinewidth": 0,
             "ticks": ""
            },
            "colorscale": [
             [
              0,
              "#0d0887"
             ],
             [
              0.1111111111111111,
              "#46039f"
             ],
             [
              0.2222222222222222,
              "#7201a8"
             ],
             [
              0.3333333333333333,
              "#9c179e"
             ],
             [
              0.4444444444444444,
              "#bd3786"
             ],
             [
              0.5555555555555556,
              "#d8576b"
             ],
             [
              0.6666666666666666,
              "#ed7953"
             ],
             [
              0.7777777777777778,
              "#fb9f3a"
             ],
             [
              0.8888888888888888,
              "#fdca26"
             ],
             [
              1,
              "#f0f921"
             ]
            ],
            "type": "histogram2d"
           }
          ],
          "histogram2dcontour": [
           {
            "colorbar": {
             "outlinewidth": 0,
             "ticks": ""
            },
            "colorscale": [
             [
              0,
              "#0d0887"
             ],
             [
              0.1111111111111111,
              "#46039f"
             ],
             [
              0.2222222222222222,
              "#7201a8"
             ],
             [
              0.3333333333333333,
              "#9c179e"
             ],
             [
              0.4444444444444444,
              "#bd3786"
             ],
             [
              0.5555555555555556,
              "#d8576b"
             ],
             [
              0.6666666666666666,
              "#ed7953"
             ],
             [
              0.7777777777777778,
              "#fb9f3a"
             ],
             [
              0.8888888888888888,
              "#fdca26"
             ],
             [
              1,
              "#f0f921"
             ]
            ],
            "type": "histogram2dcontour"
           }
          ],
          "mesh3d": [
           {
            "colorbar": {
             "outlinewidth": 0,
             "ticks": ""
            },
            "type": "mesh3d"
           }
          ],
          "parcoords": [
           {
            "line": {
             "colorbar": {
              "outlinewidth": 0,
              "ticks": ""
             }
            },
            "type": "parcoords"
           }
          ],
          "pie": [
           {
            "automargin": true,
            "type": "pie"
           }
          ],
          "scatter": [
           {
            "fillpattern": {
             "fillmode": "overlay",
             "size": 10,
             "solidity": 0.2
            },
            "type": "scatter"
           }
          ],
          "scatter3d": [
           {
            "line": {
             "colorbar": {
              "outlinewidth": 0,
              "ticks": ""
             }
            },
            "marker": {
             "colorbar": {
              "outlinewidth": 0,
              "ticks": ""
             }
            },
            "type": "scatter3d"
           }
          ],
          "scattercarpet": [
           {
            "marker": {
             "colorbar": {
              "outlinewidth": 0,
              "ticks": ""
             }
            },
            "type": "scattercarpet"
           }
          ],
          "scattergeo": [
           {
            "marker": {
             "colorbar": {
              "outlinewidth": 0,
              "ticks": ""
             }
            },
            "type": "scattergeo"
           }
          ],
          "scattergl": [
           {
            "marker": {
             "colorbar": {
              "outlinewidth": 0,
              "ticks": ""
             }
            },
            "type": "scattergl"
           }
          ],
          "scattermapbox": [
           {
            "marker": {
             "colorbar": {
              "outlinewidth": 0,
              "ticks": ""
             }
            },
            "type": "scattermapbox"
           }
          ],
          "scatterpolar": [
           {
            "marker": {
             "colorbar": {
              "outlinewidth": 0,
              "ticks": ""
             }
            },
            "type": "scatterpolar"
           }
          ],
          "scatterpolargl": [
           {
            "marker": {
             "colorbar": {
              "outlinewidth": 0,
              "ticks": ""
             }
            },
            "type": "scatterpolargl"
           }
          ],
          "scatterternary": [
           {
            "marker": {
             "colorbar": {
              "outlinewidth": 0,
              "ticks": ""
             }
            },
            "type": "scatterternary"
           }
          ],
          "surface": [
           {
            "colorbar": {
             "outlinewidth": 0,
             "ticks": ""
            },
            "colorscale": [
             [
              0,
              "#0d0887"
             ],
             [
              0.1111111111111111,
              "#46039f"
             ],
             [
              0.2222222222222222,
              "#7201a8"
             ],
             [
              0.3333333333333333,
              "#9c179e"
             ],
             [
              0.4444444444444444,
              "#bd3786"
             ],
             [
              0.5555555555555556,
              "#d8576b"
             ],
             [
              0.6666666666666666,
              "#ed7953"
             ],
             [
              0.7777777777777778,
              "#fb9f3a"
             ],
             [
              0.8888888888888888,
              "#fdca26"
             ],
             [
              1,
              "#f0f921"
             ]
            ],
            "type": "surface"
           }
          ],
          "table": [
           {
            "cells": {
             "fill": {
              "color": "#EBF0F8"
             },
             "line": {
              "color": "white"
             }
            },
            "header": {
             "fill": {
              "color": "#C8D4E3"
             },
             "line": {
              "color": "white"
             }
            },
            "type": "table"
           }
          ]
         },
         "layout": {
          "annotationdefaults": {
           "arrowcolor": "#2a3f5f",
           "arrowhead": 0,
           "arrowwidth": 1
          },
          "autotypenumbers": "strict",
          "coloraxis": {
           "colorbar": {
            "outlinewidth": 0,
            "ticks": ""
           }
          },
          "colorscale": {
           "diverging": [
            [
             0,
             "#8e0152"
            ],
            [
             0.1,
             "#c51b7d"
            ],
            [
             0.2,
             "#de77ae"
            ],
            [
             0.3,
             "#f1b6da"
            ],
            [
             0.4,
             "#fde0ef"
            ],
            [
             0.5,
             "#f7f7f7"
            ],
            [
             0.6,
             "#e6f5d0"
            ],
            [
             0.7,
             "#b8e186"
            ],
            [
             0.8,
             "#7fbc41"
            ],
            [
             0.9,
             "#4d9221"
            ],
            [
             1,
             "#276419"
            ]
           ],
           "sequential": [
            [
             0,
             "#0d0887"
            ],
            [
             0.1111111111111111,
             "#46039f"
            ],
            [
             0.2222222222222222,
             "#7201a8"
            ],
            [
             0.3333333333333333,
             "#9c179e"
            ],
            [
             0.4444444444444444,
             "#bd3786"
            ],
            [
             0.5555555555555556,
             "#d8576b"
            ],
            [
             0.6666666666666666,
             "#ed7953"
            ],
            [
             0.7777777777777778,
             "#fb9f3a"
            ],
            [
             0.8888888888888888,
             "#fdca26"
            ],
            [
             1,
             "#f0f921"
            ]
           ],
           "sequentialminus": [
            [
             0,
             "#0d0887"
            ],
            [
             0.1111111111111111,
             "#46039f"
            ],
            [
             0.2222222222222222,
             "#7201a8"
            ],
            [
             0.3333333333333333,
             "#9c179e"
            ],
            [
             0.4444444444444444,
             "#bd3786"
            ],
            [
             0.5555555555555556,
             "#d8576b"
            ],
            [
             0.6666666666666666,
             "#ed7953"
            ],
            [
             0.7777777777777778,
             "#fb9f3a"
            ],
            [
             0.8888888888888888,
             "#fdca26"
            ],
            [
             1,
             "#f0f921"
            ]
           ]
          },
          "colorway": [
           "#636efa",
           "#EF553B",
           "#00cc96",
           "#ab63fa",
           "#FFA15A",
           "#19d3f3",
           "#FF6692",
           "#B6E880",
           "#FF97FF",
           "#FECB52"
          ],
          "font": {
           "color": "#2a3f5f"
          },
          "geo": {
           "bgcolor": "white",
           "lakecolor": "white",
           "landcolor": "#E5ECF6",
           "showlakes": true,
           "showland": true,
           "subunitcolor": "white"
          },
          "hoverlabel": {
           "align": "left"
          },
          "hovermode": "closest",
          "mapbox": {
           "style": "light"
          },
          "paper_bgcolor": "white",
          "plot_bgcolor": "#E5ECF6",
          "polar": {
           "angularaxis": {
            "gridcolor": "white",
            "linecolor": "white",
            "ticks": ""
           },
           "bgcolor": "#E5ECF6",
           "radialaxis": {
            "gridcolor": "white",
            "linecolor": "white",
            "ticks": ""
           }
          },
          "scene": {
           "xaxis": {
            "backgroundcolor": "#E5ECF6",
            "gridcolor": "white",
            "gridwidth": 2,
            "linecolor": "white",
            "showbackground": true,
            "ticks": "",
            "zerolinecolor": "white"
           },
           "yaxis": {
            "backgroundcolor": "#E5ECF6",
            "gridcolor": "white",
            "gridwidth": 2,
            "linecolor": "white",
            "showbackground": true,
            "ticks": "",
            "zerolinecolor": "white"
           },
           "zaxis": {
            "backgroundcolor": "#E5ECF6",
            "gridcolor": "white",
            "gridwidth": 2,
            "linecolor": "white",
            "showbackground": true,
            "ticks": "",
            "zerolinecolor": "white"
           }
          },
          "shapedefaults": {
           "line": {
            "color": "#2a3f5f"
           }
          },
          "ternary": {
           "aaxis": {
            "gridcolor": "white",
            "linecolor": "white",
            "ticks": ""
           },
           "baxis": {
            "gridcolor": "white",
            "linecolor": "white",
            "ticks": ""
           },
           "bgcolor": "#E5ECF6",
           "caxis": {
            "gridcolor": "white",
            "linecolor": "white",
            "ticks": ""
           }
          },
          "title": {
           "x": 0.05
          },
          "xaxis": {
           "automargin": true,
           "gridcolor": "white",
           "linecolor": "white",
           "ticks": "",
           "title": {
            "standoff": 15
           },
           "zerolinecolor": "white",
           "zerolinewidth": 2
          },
          "yaxis": {
           "automargin": true,
           "gridcolor": "white",
           "linecolor": "white",
           "ticks": "",
           "title": {
            "standoff": 15
           },
           "zerolinecolor": "white",
           "zerolinewidth": 2
          }
         }
        }
       }
      }
     },
     "metadata": {},
     "output_type": "display_data"
    }
   ],
   "source": [
    "px.scatter_3d(x=x_testdf.iloc[:,0],y=x_testdf.iloc[:,1],z=x_testdf.iloc[:,2], color= y_test)"
   ]
  },
  {
   "cell_type": "code",
   "execution_count": 68,
   "metadata": {},
   "outputs": [
    {
     "data": {
      "application/vnd.plotly.v1+json": {
       "config": {
        "plotlyServerURL": "https://plot.ly"
       },
       "data": [
        {
         "hovertemplate": "x=%{x}<br>y=%{y}<br>z=%{z}<br>color=%{marker.color}<extra></extra>",
         "legendgroup": "",
         "marker": {
          "color": [
           1,
           0,
           0,
           0,
           0,
           1,
           0,
           0,
           0,
           0,
           0,
           0,
           0,
           0,
           0,
           1,
           0,
           0,
           1,
           0,
           0,
           0,
           0,
           0,
           0,
           0,
           0,
           0,
           0,
           0,
           0,
           0,
           0,
           0,
           1,
           0,
           1,
           0,
           0,
           0
          ],
          "coloraxis": "coloraxis",
          "symbol": "circle"
         },
         "mode": "markers",
         "name": "",
         "scene": "scene",
         "showlegend": false,
         "type": "scatter3d",
         "x": [
          -4.743768548845113,
          -1.3228412546559067,
          2.785082844307431,
          -6.513378359882725,
          6.808023923430163,
          2.5675585729566666,
          -0.41164746084191556,
          -0.0685184859996972,
          1.7200588150275906,
          4.6947920415390625,
          3.1678430636869206,
          5.871528141018577,
          5.73005247944524,
          -5.198110782761133,
          1.663237152763599,
          -3.0697495974709557,
          -5.733694407063032,
          -4.90986453890313,
          3.5195487436562147,
          -6.290821594793524,
          -5.534047435694155,
          -4.458784876689663,
          -6.762018665424565,
          2.7783960917422417,
          0.7682702619874502,
          -3.4768342821271823,
          -7.218574194736847,
          6.071706923497944,
          2.8826486795098583,
          1.636910469877763,
          9.336975503474939,
          5.868205947770307,
          -3.2956457801035857,
          -1.4378404841376105,
          2.02890069754237,
          -5.134546532836779,
          4.059525448978562,
          -6.104528948518106,
          4.26081328719457,
          -7.00633842005011
         ],
         "y": [
          1.220099268603767,
          6.493236225345611,
          2.916499800675734,
          1.4268279089560425,
          3.0941556580030376,
          -5.5579490502160445,
          -2.1521735125645605,
          0.31921202167172236,
          1.2412598389044711,
          3.3815234902220936,
          -4.343195052574395,
          -0.35957894828652126,
          3.1819700719151442,
          2.5407104341447404,
          -5.939448087475954,
          -1.7343284152359526,
          3.215043901529783,
          1.2920882273547099,
          -4.973525723251861,
          1.029149531342737,
          3.9168958004412624,
          1.554489621372172,
          -0.18823417349166618,
          2.227493574235297,
          -3.4789556358102987,
          3.6472264701923787,
          -1.3083113364854433,
          2.599460417220851,
          2.763371179984298,
          0.3094337528788664,
          5.616835731012946,
          0.0240287741630624,
          2.8872914722857588,
          5.985702935490096,
          -5.61302884623932,
          0.9363222043102668,
          4.2850817293990255,
          0.1643546215799431,
          -4.48356245755892,
          -2.4927162455767062
         ],
         "z": [
          5.353849031794919,
          -4.493426536196455,
          2.189130238710818,
          -1.894233979015354,
          -0.3398516781187303,
          -2.2739398330713287,
          0.33058969021366114,
          2.5492404962926076,
          1.826359408772072,
          0.29216248140921125,
          -1.1907979884221043,
          0.5306406223866859,
          -0.09734601715746312,
          -0.9078776579160694,
          -1.4376111004356689,
          2.1068004798025166,
          -2.928482877192787,
          2.079149561550557,
          -2.390880452283247,
          -3.145289655563207,
          -3.4688490501426528,
          1.57228607628542,
          -1.7103641502636973,
          1.7041150786260042,
          1.7119294580019493,
          -1.3256139810494314,
          -0.3579624557632136,
          0.13040818192254167,
          2.9297417097899716,
          1.8197772544550268,
          -0.19554942229701586,
          -2.091691535674004,
          -1.4847108789319297,
          0.16687202203162194,
          -1.867603329158955,
          0.8790839847134494,
          2.2773925717571015,
          -0.3623088973174482,
          -1.1498092041168948,
          0.8825569939962307
         ]
        }
       ],
       "layout": {
        "coloraxis": {
         "colorbar": {
          "title": {
           "text": "color"
          }
         },
         "colorscale": [
          [
           0,
           "#0d0887"
          ],
          [
           0.1111111111111111,
           "#46039f"
          ],
          [
           0.2222222222222222,
           "#7201a8"
          ],
          [
           0.3333333333333333,
           "#9c179e"
          ],
          [
           0.4444444444444444,
           "#bd3786"
          ],
          [
           0.5555555555555556,
           "#d8576b"
          ],
          [
           0.6666666666666666,
           "#ed7953"
          ],
          [
           0.7777777777777778,
           "#fb9f3a"
          ],
          [
           0.8888888888888888,
           "#fdca26"
          ],
          [
           1,
           "#f0f921"
          ]
         ]
        },
        "legend": {
         "tracegroupgap": 0
        },
        "margin": {
         "t": 60
        },
        "scene": {
         "domain": {
          "x": [
           0,
           1
          ],
          "y": [
           0,
           1
          ]
         },
         "xaxis": {
          "title": {
           "text": "x"
          }
         },
         "yaxis": {
          "title": {
           "text": "y"
          }
         },
         "zaxis": {
          "title": {
           "text": "z"
          }
         }
        },
        "template": {
         "data": {
          "bar": [
           {
            "error_x": {
             "color": "#2a3f5f"
            },
            "error_y": {
             "color": "#2a3f5f"
            },
            "marker": {
             "line": {
              "color": "#E5ECF6",
              "width": 0.5
             },
             "pattern": {
              "fillmode": "overlay",
              "size": 10,
              "solidity": 0.2
             }
            },
            "type": "bar"
           }
          ],
          "barpolar": [
           {
            "marker": {
             "line": {
              "color": "#E5ECF6",
              "width": 0.5
             },
             "pattern": {
              "fillmode": "overlay",
              "size": 10,
              "solidity": 0.2
             }
            },
            "type": "barpolar"
           }
          ],
          "carpet": [
           {
            "aaxis": {
             "endlinecolor": "#2a3f5f",
             "gridcolor": "white",
             "linecolor": "white",
             "minorgridcolor": "white",
             "startlinecolor": "#2a3f5f"
            },
            "baxis": {
             "endlinecolor": "#2a3f5f",
             "gridcolor": "white",
             "linecolor": "white",
             "minorgridcolor": "white",
             "startlinecolor": "#2a3f5f"
            },
            "type": "carpet"
           }
          ],
          "choropleth": [
           {
            "colorbar": {
             "outlinewidth": 0,
             "ticks": ""
            },
            "type": "choropleth"
           }
          ],
          "contour": [
           {
            "colorbar": {
             "outlinewidth": 0,
             "ticks": ""
            },
            "colorscale": [
             [
              0,
              "#0d0887"
             ],
             [
              0.1111111111111111,
              "#46039f"
             ],
             [
              0.2222222222222222,
              "#7201a8"
             ],
             [
              0.3333333333333333,
              "#9c179e"
             ],
             [
              0.4444444444444444,
              "#bd3786"
             ],
             [
              0.5555555555555556,
              "#d8576b"
             ],
             [
              0.6666666666666666,
              "#ed7953"
             ],
             [
              0.7777777777777778,
              "#fb9f3a"
             ],
             [
              0.8888888888888888,
              "#fdca26"
             ],
             [
              1,
              "#f0f921"
             ]
            ],
            "type": "contour"
           }
          ],
          "contourcarpet": [
           {
            "colorbar": {
             "outlinewidth": 0,
             "ticks": ""
            },
            "type": "contourcarpet"
           }
          ],
          "heatmap": [
           {
            "colorbar": {
             "outlinewidth": 0,
             "ticks": ""
            },
            "colorscale": [
             [
              0,
              "#0d0887"
             ],
             [
              0.1111111111111111,
              "#46039f"
             ],
             [
              0.2222222222222222,
              "#7201a8"
             ],
             [
              0.3333333333333333,
              "#9c179e"
             ],
             [
              0.4444444444444444,
              "#bd3786"
             ],
             [
              0.5555555555555556,
              "#d8576b"
             ],
             [
              0.6666666666666666,
              "#ed7953"
             ],
             [
              0.7777777777777778,
              "#fb9f3a"
             ],
             [
              0.8888888888888888,
              "#fdca26"
             ],
             [
              1,
              "#f0f921"
             ]
            ],
            "type": "heatmap"
           }
          ],
          "heatmapgl": [
           {
            "colorbar": {
             "outlinewidth": 0,
             "ticks": ""
            },
            "colorscale": [
             [
              0,
              "#0d0887"
             ],
             [
              0.1111111111111111,
              "#46039f"
             ],
             [
              0.2222222222222222,
              "#7201a8"
             ],
             [
              0.3333333333333333,
              "#9c179e"
             ],
             [
              0.4444444444444444,
              "#bd3786"
             ],
             [
              0.5555555555555556,
              "#d8576b"
             ],
             [
              0.6666666666666666,
              "#ed7953"
             ],
             [
              0.7777777777777778,
              "#fb9f3a"
             ],
             [
              0.8888888888888888,
              "#fdca26"
             ],
             [
              1,
              "#f0f921"
             ]
            ],
            "type": "heatmapgl"
           }
          ],
          "histogram": [
           {
            "marker": {
             "pattern": {
              "fillmode": "overlay",
              "size": 10,
              "solidity": 0.2
             }
            },
            "type": "histogram"
           }
          ],
          "histogram2d": [
           {
            "colorbar": {
             "outlinewidth": 0,
             "ticks": ""
            },
            "colorscale": [
             [
              0,
              "#0d0887"
             ],
             [
              0.1111111111111111,
              "#46039f"
             ],
             [
              0.2222222222222222,
              "#7201a8"
             ],
             [
              0.3333333333333333,
              "#9c179e"
             ],
             [
              0.4444444444444444,
              "#bd3786"
             ],
             [
              0.5555555555555556,
              "#d8576b"
             ],
             [
              0.6666666666666666,
              "#ed7953"
             ],
             [
              0.7777777777777778,
              "#fb9f3a"
             ],
             [
              0.8888888888888888,
              "#fdca26"
             ],
             [
              1,
              "#f0f921"
             ]
            ],
            "type": "histogram2d"
           }
          ],
          "histogram2dcontour": [
           {
            "colorbar": {
             "outlinewidth": 0,
             "ticks": ""
            },
            "colorscale": [
             [
              0,
              "#0d0887"
             ],
             [
              0.1111111111111111,
              "#46039f"
             ],
             [
              0.2222222222222222,
              "#7201a8"
             ],
             [
              0.3333333333333333,
              "#9c179e"
             ],
             [
              0.4444444444444444,
              "#bd3786"
             ],
             [
              0.5555555555555556,
              "#d8576b"
             ],
             [
              0.6666666666666666,
              "#ed7953"
             ],
             [
              0.7777777777777778,
              "#fb9f3a"
             ],
             [
              0.8888888888888888,
              "#fdca26"
             ],
             [
              1,
              "#f0f921"
             ]
            ],
            "type": "histogram2dcontour"
           }
          ],
          "mesh3d": [
           {
            "colorbar": {
             "outlinewidth": 0,
             "ticks": ""
            },
            "type": "mesh3d"
           }
          ],
          "parcoords": [
           {
            "line": {
             "colorbar": {
              "outlinewidth": 0,
              "ticks": ""
             }
            },
            "type": "parcoords"
           }
          ],
          "pie": [
           {
            "automargin": true,
            "type": "pie"
           }
          ],
          "scatter": [
           {
            "fillpattern": {
             "fillmode": "overlay",
             "size": 10,
             "solidity": 0.2
            },
            "type": "scatter"
           }
          ],
          "scatter3d": [
           {
            "line": {
             "colorbar": {
              "outlinewidth": 0,
              "ticks": ""
             }
            },
            "marker": {
             "colorbar": {
              "outlinewidth": 0,
              "ticks": ""
             }
            },
            "type": "scatter3d"
           }
          ],
          "scattercarpet": [
           {
            "marker": {
             "colorbar": {
              "outlinewidth": 0,
              "ticks": ""
             }
            },
            "type": "scattercarpet"
           }
          ],
          "scattergeo": [
           {
            "marker": {
             "colorbar": {
              "outlinewidth": 0,
              "ticks": ""
             }
            },
            "type": "scattergeo"
           }
          ],
          "scattergl": [
           {
            "marker": {
             "colorbar": {
              "outlinewidth": 0,
              "ticks": ""
             }
            },
            "type": "scattergl"
           }
          ],
          "scattermapbox": [
           {
            "marker": {
             "colorbar": {
              "outlinewidth": 0,
              "ticks": ""
             }
            },
            "type": "scattermapbox"
           }
          ],
          "scatterpolar": [
           {
            "marker": {
             "colorbar": {
              "outlinewidth": 0,
              "ticks": ""
             }
            },
            "type": "scatterpolar"
           }
          ],
          "scatterpolargl": [
           {
            "marker": {
             "colorbar": {
              "outlinewidth": 0,
              "ticks": ""
             }
            },
            "type": "scatterpolargl"
           }
          ],
          "scatterternary": [
           {
            "marker": {
             "colorbar": {
              "outlinewidth": 0,
              "ticks": ""
             }
            },
            "type": "scatterternary"
           }
          ],
          "surface": [
           {
            "colorbar": {
             "outlinewidth": 0,
             "ticks": ""
            },
            "colorscale": [
             [
              0,
              "#0d0887"
             ],
             [
              0.1111111111111111,
              "#46039f"
             ],
             [
              0.2222222222222222,
              "#7201a8"
             ],
             [
              0.3333333333333333,
              "#9c179e"
             ],
             [
              0.4444444444444444,
              "#bd3786"
             ],
             [
              0.5555555555555556,
              "#d8576b"
             ],
             [
              0.6666666666666666,
              "#ed7953"
             ],
             [
              0.7777777777777778,
              "#fb9f3a"
             ],
             [
              0.8888888888888888,
              "#fdca26"
             ],
             [
              1,
              "#f0f921"
             ]
            ],
            "type": "surface"
           }
          ],
          "table": [
           {
            "cells": {
             "fill": {
              "color": "#EBF0F8"
             },
             "line": {
              "color": "white"
             }
            },
            "header": {
             "fill": {
              "color": "#C8D4E3"
             },
             "line": {
              "color": "white"
             }
            },
            "type": "table"
           }
          ]
         },
         "layout": {
          "annotationdefaults": {
           "arrowcolor": "#2a3f5f",
           "arrowhead": 0,
           "arrowwidth": 1
          },
          "autotypenumbers": "strict",
          "coloraxis": {
           "colorbar": {
            "outlinewidth": 0,
            "ticks": ""
           }
          },
          "colorscale": {
           "diverging": [
            [
             0,
             "#8e0152"
            ],
            [
             0.1,
             "#c51b7d"
            ],
            [
             0.2,
             "#de77ae"
            ],
            [
             0.3,
             "#f1b6da"
            ],
            [
             0.4,
             "#fde0ef"
            ],
            [
             0.5,
             "#f7f7f7"
            ],
            [
             0.6,
             "#e6f5d0"
            ],
            [
             0.7,
             "#b8e186"
            ],
            [
             0.8,
             "#7fbc41"
            ],
            [
             0.9,
             "#4d9221"
            ],
            [
             1,
             "#276419"
            ]
           ],
           "sequential": [
            [
             0,
             "#0d0887"
            ],
            [
             0.1111111111111111,
             "#46039f"
            ],
            [
             0.2222222222222222,
             "#7201a8"
            ],
            [
             0.3333333333333333,
             "#9c179e"
            ],
            [
             0.4444444444444444,
             "#bd3786"
            ],
            [
             0.5555555555555556,
             "#d8576b"
            ],
            [
             0.6666666666666666,
             "#ed7953"
            ],
            [
             0.7777777777777778,
             "#fb9f3a"
            ],
            [
             0.8888888888888888,
             "#fdca26"
            ],
            [
             1,
             "#f0f921"
            ]
           ],
           "sequentialminus": [
            [
             0,
             "#0d0887"
            ],
            [
             0.1111111111111111,
             "#46039f"
            ],
            [
             0.2222222222222222,
             "#7201a8"
            ],
            [
             0.3333333333333333,
             "#9c179e"
            ],
            [
             0.4444444444444444,
             "#bd3786"
            ],
            [
             0.5555555555555556,
             "#d8576b"
            ],
            [
             0.6666666666666666,
             "#ed7953"
            ],
            [
             0.7777777777777778,
             "#fb9f3a"
            ],
            [
             0.8888888888888888,
             "#fdca26"
            ],
            [
             1,
             "#f0f921"
            ]
           ]
          },
          "colorway": [
           "#636efa",
           "#EF553B",
           "#00cc96",
           "#ab63fa",
           "#FFA15A",
           "#19d3f3",
           "#FF6692",
           "#B6E880",
           "#FF97FF",
           "#FECB52"
          ],
          "font": {
           "color": "#2a3f5f"
          },
          "geo": {
           "bgcolor": "white",
           "lakecolor": "white",
           "landcolor": "#E5ECF6",
           "showlakes": true,
           "showland": true,
           "subunitcolor": "white"
          },
          "hoverlabel": {
           "align": "left"
          },
          "hovermode": "closest",
          "mapbox": {
           "style": "light"
          },
          "paper_bgcolor": "white",
          "plot_bgcolor": "#E5ECF6",
          "polar": {
           "angularaxis": {
            "gridcolor": "white",
            "linecolor": "white",
            "ticks": ""
           },
           "bgcolor": "#E5ECF6",
           "radialaxis": {
            "gridcolor": "white",
            "linecolor": "white",
            "ticks": ""
           }
          },
          "scene": {
           "xaxis": {
            "backgroundcolor": "#E5ECF6",
            "gridcolor": "white",
            "gridwidth": 2,
            "linecolor": "white",
            "showbackground": true,
            "ticks": "",
            "zerolinecolor": "white"
           },
           "yaxis": {
            "backgroundcolor": "#E5ECF6",
            "gridcolor": "white",
            "gridwidth": 2,
            "linecolor": "white",
            "showbackground": true,
            "ticks": "",
            "zerolinecolor": "white"
           },
           "zaxis": {
            "backgroundcolor": "#E5ECF6",
            "gridcolor": "white",
            "gridwidth": 2,
            "linecolor": "white",
            "showbackground": true,
            "ticks": "",
            "zerolinecolor": "white"
           }
          },
          "shapedefaults": {
           "line": {
            "color": "#2a3f5f"
           }
          },
          "ternary": {
           "aaxis": {
            "gridcolor": "white",
            "linecolor": "white",
            "ticks": ""
           },
           "baxis": {
            "gridcolor": "white",
            "linecolor": "white",
            "ticks": ""
           },
           "bgcolor": "#E5ECF6",
           "caxis": {
            "gridcolor": "white",
            "linecolor": "white",
            "ticks": ""
           }
          },
          "title": {
           "x": 0.05
          },
          "xaxis": {
           "automargin": true,
           "gridcolor": "white",
           "linecolor": "white",
           "ticks": "",
           "title": {
            "standoff": 15
           },
           "zerolinecolor": "white",
           "zerolinewidth": 2
          },
          "yaxis": {
           "automargin": true,
           "gridcolor": "white",
           "linecolor": "white",
           "ticks": "",
           "title": {
            "standoff": 15
           },
           "zerolinecolor": "white",
           "zerolinewidth": 2
          }
         }
        }
       }
      }
     },
     "metadata": {},
     "output_type": "display_data"
    }
   ],
   "source": [
    "px.scatter_3d(x=x_testdf.iloc[:,0],y=x_testdf.iloc[:,1],z=x_testdf.iloc[:,2], color= y_pred)"
   ]
  },
  {
   "cell_type": "code",
   "execution_count": 70,
   "metadata": {},
   "outputs": [
    {
     "name": "stdout",
     "output_type": "stream",
     "text": [
      "Recall(TP/FN+TP ):0.6666666666666666\n",
      "Precsion(TP/FP+TP): 0.3333333333333333 \n",
      "F1 score function of presscion and recall:0.4444444444444444 \n"
     ]
    },
    {
     "data": {
      "image/png": "[encoded data removed]",
      "text/plain": [
       "<Figure size 640x480 with 2 Axes>"
      ]
     },
     "metadata": {},
     "output_type": "display_data"
    }
   ],
   "source": [
    "conMtx = confusion_matrix(y_test,y_pred)\n",
    "sns.heatmap(conMtx)\n",
    "f1 = f1_score(y_test,y_pred)\n",
    "recall = recall_score(y_test,y_pred)\n",
    "pre = precision_score(y_test,y_pred)\n",
    "\n",
    "print(f\"Recall(TP/FN+TP ):{recall}\")\n",
    "print(f\"Precsion(TP/FP+TP): {pre} \")\n",
    "print(f\"F1 score function of presscion and recall:{f1} \")"
   ]
  },
  {
   "cell_type": "code",
   "execution_count": null,
   "metadata": {},
   "outputs": [],
   "source": [
    "model = Reuploader( dev, num_layers=3)\n",
    "\n",
    "model.fit(X_train, y_train)"
   ]
  },
  {
   "cell_type": "code",
   "execution_count": null,
   "metadata": {},
   "outputs": [],
   "source": [
    "model = Reuploader( dev, num_layers=4)\n",
    "\n",
    "model.fit(X_train, y_train)"
   ]
  },
  {
   "cell_type": "code",
   "execution_count": 71,
   "metadata": {},
   "outputs": [
    {
     "name": "stdout",
     "output_type": "stream",
     "text": [
      "Epoch:  1 | Loss: 0.242271 |  accuracy: 0.650000 \n",
      "Epoch:  2 | Loss: 0.284554 |  accuracy: 0.556250 \n",
      "Epoch:  3 | Loss: 0.259819 |  accuracy: 0.587500 \n",
      "Epoch:  4 | Loss: 0.222138 |  accuracy: 0.650000 \n",
      "Epoch:  5 | Loss: 0.188153 |  accuracy: 0.743750 \n",
      "Epoch:  6 | Loss: 0.179805 |  accuracy: 0.743750 \n",
      "Epoch:  7 | Loss: 0.152074 |  accuracy: 0.750000 \n",
      "Epoch:  8 | Loss: 0.138150 |  accuracy: 0.806250 \n",
      "Epoch:  9 | Loss: 0.139095 |  accuracy: 0.800000 \n",
      "Epoch: 10 | Loss: 0.148910 |  accuracy: 0.800000 \n"
     ]
    }
   ],
   "source": [
    "model = Reuploader( dev, num_layers=5)\n",
    "\n",
    "model.fit(X_train, y_train)"
   ]
  },
  {
   "cell_type": "code",
   "execution_count": 72,
   "metadata": {},
   "outputs": [],
   "source": [
    "y_pred = model.predict(x_test,y_test)"
   ]
  },
  {
   "cell_type": "code",
   "execution_count": 73,
   "metadata": {},
   "outputs": [
    {
     "name": "stdout",
     "output_type": "stream",
     "text": [
      "Recall(TP/FN+TP ):0.3333333333333333\n",
      "Precsion(TP/FP+TP): 0.1111111111111111 \n",
      "F1 score function of presscion and recall:0.16666666666666666 \n"
     ]
    },
    {
     "data": {
      "image/png": "[encoded data removed]",
      "text/plain": [
       "<Figure size 640x480 with 2 Axes>"
      ]
     },
     "metadata": {},
     "output_type": "display_data"
    }
   ],
   "source": [
    "conMtx = confusion_matrix(y_test,y_pred)\n",
    "sns.heatmap(conMtx)\n",
    "f1 = f1_score(y_test,y_pred)\n",
    "recall = recall_score(y_test,y_pred)\n",
    "pre = precision_score(y_test,y_pred)\n",
    "\n",
    "print(f\"Recall(TP/FN+TP ):{recall}\")\n",
    "print(f\"Precsion(TP/FP+TP): {pre} \")\n",
    "print(f\"F1 score function of presscion and recall:{f1} \")"
   ]
  },
  {
   "cell_type": "code",
   "execution_count": 74,
   "metadata": {},
   "outputs": [
    {
     "data": {
      "application/vnd.plotly.v1+json": {
       "config": {
        "plotlyServerURL": "https://plot.ly"
       },
       "data": [
        {
         "hovertemplate": "x=%{x}<br>y=%{y}<br>z=%{z}<br>color=%{marker.color}<extra></extra>",
         "legendgroup": "",
         "marker": {
          "color": [
           0,
           1,
           0,
           0,
           0,
           0,
           0,
           0,
           0,
           0,
           1,
           0,
           0,
           1,
           1,
           0,
           0,
           0,
           0,
           0,
           1,
           1,
           0,
           1,
           0,
           0,
           0,
           0,
           0,
           0,
           0,
           0,
           0,
           0,
           0,
           0,
           1,
           1,
           0,
           0
          ],
          "coloraxis": "coloraxis",
          "symbol": "circle"
         },
         "mode": "markers",
         "name": "",
         "scene": "scene",
         "showlegend": false,
         "type": "scatter3d",
         "x": [
          -4.743768548845113,
          -1.3228412546559067,
          2.785082844307431,
          -6.513378359882725,
          6.808023923430163,
          2.5675585729566666,
          -0.41164746084191556,
          -0.0685184859996972,
          1.7200588150275906,
          4.6947920415390625,
          3.1678430636869206,
          5.871528141018577,
          5.73005247944524,
          -5.198110782761133,
          1.663237152763599,
          -3.0697495974709557,
          -5.733694407063032,
          -4.90986453890313,
          3.5195487436562147,
          -6.290821594793524,
          -5.534047435694155,
          -4.458784876689663,
          -6.762018665424565,
          2.7783960917422417,
          0.7682702619874502,
          -3.4768342821271823,
          -7.218574194736847,
          6.071706923497944,
          2.8826486795098583,
          1.636910469877763,
          9.336975503474939,
          5.868205947770307,
          -3.2956457801035857,
          -1.4378404841376105,
          2.02890069754237,
          -5.134546532836779,
          4.059525448978562,
          -6.104528948518106,
          4.26081328719457,
          -7.00633842005011
         ],
         "y": [
          1.220099268603767,
          6.493236225345611,
          2.916499800675734,
          1.4268279089560425,
          3.0941556580030376,
          -5.5579490502160445,
          -2.1521735125645605,
          0.31921202167172236,
          1.2412598389044711,
          3.3815234902220936,
          -4.343195052574395,
          -0.35957894828652126,
          3.1819700719151442,
          2.5407104341447404,
          -5.939448087475954,
          -1.7343284152359526,
          3.215043901529783,
          1.2920882273547099,
          -4.973525723251861,
          1.029149531342737,
          3.9168958004412624,
          1.554489621372172,
          -0.18823417349166618,
          2.227493574235297,
          -3.4789556358102987,
          3.6472264701923787,
          -1.3083113364854433,
          2.599460417220851,
          2.763371179984298,
          0.3094337528788664,
          5.616835731012946,
          0.0240287741630624,
          2.8872914722857588,
          5.985702935490096,
          -5.61302884623932,
          0.9363222043102668,
          4.2850817293990255,
          0.1643546215799431,
          -4.48356245755892,
          -2.4927162455767062
         ],
         "z": [
          5.353849031794919,
          -4.493426536196455,
          2.189130238710818,
          -1.894233979015354,
          -0.3398516781187303,
          -2.2739398330713287,
          0.33058969021366114,
          2.5492404962926076,
          1.826359408772072,
          0.29216248140921125,
          -1.1907979884221043,
          0.5306406223866859,
          -0.09734601715746312,
          -0.9078776579160694,
          -1.4376111004356689,
          2.1068004798025166,
          -2.928482877192787,
          2.079149561550557,
          -2.390880452283247,
          -3.145289655563207,
          -3.4688490501426528,
          1.57228607628542,
          -1.7103641502636973,
          1.7041150786260042,
          1.7119294580019493,
          -1.3256139810494314,
          -0.3579624557632136,
          0.13040818192254167,
          2.9297417097899716,
          1.8197772544550268,
          -0.19554942229701586,
          -2.091691535674004,
          -1.4847108789319297,
          0.16687202203162194,
          -1.867603329158955,
          0.8790839847134494,
          2.2773925717571015,
          -0.3623088973174482,
          -1.1498092041168948,
          0.8825569939962307
         ]
        }
       ],
       "layout": {
        "coloraxis": {
         "colorbar": {
          "title": {
           "text": "color"
          }
         },
         "colorscale": [
          [
           0,
           "#0d0887"
          ],
          [
           0.1111111111111111,
           "#46039f"
          ],
          [
           0.2222222222222222,
           "#7201a8"
          ],
          [
           0.3333333333333333,
           "#9c179e"
          ],
          [
           0.4444444444444444,
           "#bd3786"
          ],
          [
           0.5555555555555556,
           "#d8576b"
          ],
          [
           0.6666666666666666,
           "#ed7953"
          ],
          [
           0.7777777777777778,
           "#fb9f3a"
          ],
          [
           0.8888888888888888,
           "#fdca26"
          ],
          [
           1,
           "#f0f921"
          ]
         ]
        },
        "legend": {
         "tracegroupgap": 0
        },
        "margin": {
         "t": 60
        },
        "scene": {
         "domain": {
          "x": [
           0,
           1
          ],
          "y": [
           0,
           1
          ]
         },
         "xaxis": {
          "title": {
           "text": "x"
          }
         },
         "yaxis": {
          "title": {
           "text": "y"
          }
         },
         "zaxis": {
          "title": {
           "text": "z"
          }
         }
        },
        "template": {
         "data": {
          "bar": [
           {
            "error_x": {
             "color": "#2a3f5f"
            },
            "error_y": {
             "color": "#2a3f5f"
            },
            "marker": {
             "line": {
              "color": "#E5ECF6",
              "width": 0.5
             },
             "pattern": {
              "fillmode": "overlay",
              "size": 10,
              "solidity": 0.2
             }
            },
            "type": "bar"
           }
          ],
          "barpolar": [
           {
            "marker": {
             "line": {
              "color": "#E5ECF6",
              "width": 0.5
             },
             "pattern": {
              "fillmode": "overlay",
              "size": 10,
              "solidity": 0.2
             }
            },
            "type": "barpolar"
           }
          ],
          "carpet": [
           {
            "aaxis": {
             "endlinecolor": "#2a3f5f",
             "gridcolor": "white",
             "linecolor": "white",
             "minorgridcolor": "white",
             "startlinecolor": "#2a3f5f"
            },
            "baxis": {
             "endlinecolor": "#2a3f5f",
             "gridcolor": "white",
             "linecolor": "white",
             "minorgridcolor": "white",
             "startlinecolor": "#2a3f5f"
            },
            "type": "carpet"
           }
          ],
          "choropleth": [
           {
            "colorbar": {
             "outlinewidth": 0,
             "ticks": ""
            },
            "type": "choropleth"
           }
          ],
          "contour": [
           {
            "colorbar": {
             "outlinewidth": 0,
             "ticks": ""
            },
            "colorscale": [
             [
              0,
              "#0d0887"
             ],
             [
              0.1111111111111111,
              "#46039f"
             ],
             [
              0.2222222222222222,
              "#7201a8"
             ],
             [
              0.3333333333333333,
              "#9c179e"
             ],
             [
              0.4444444444444444,
              "#bd3786"
             ],
             [
              0.5555555555555556,
              "#d8576b"
             ],
             [
              0.6666666666666666,
              "#ed7953"
             ],
             [
              0.7777777777777778,
              "#fb9f3a"
             ],
             [
              0.8888888888888888,
              "#fdca26"
             ],
             [
              1,
              "#f0f921"
             ]
            ],
            "type": "contour"
           }
          ],
          "contourcarpet": [
           {
            "colorbar": {
             "outlinewidth": 0,
             "ticks": ""
            },
            "type": "contourcarpet"
           }
          ],
          "heatmap": [
           {
            "colorbar": {
             "outlinewidth": 0,
             "ticks": ""
            },
            "colorscale": [
             [
              0,
              "#0d0887"
             ],
             [
              0.1111111111111111,
              "#46039f"
             ],
             [
              0.2222222222222222,
              "#7201a8"
             ],
             [
              0.3333333333333333,
              "#9c179e"
             ],
             [
              0.4444444444444444,
              "#bd3786"
             ],
             [
              0.5555555555555556,
              "#d8576b"
             ],
             [
              0.6666666666666666,
              "#ed7953"
             ],
             [
              0.7777777777777778,
              "#fb9f3a"
             ],
             [
              0.8888888888888888,
              "#fdca26"
             ],
             [
              1,
              "#f0f921"
             ]
            ],
            "type": "heatmap"
           }
          ],
          "heatmapgl": [
           {
            "colorbar": {
             "outlinewidth": 0,
             "ticks": ""
            },
            "colorscale": [
             [
              0,
              "#0d0887"
             ],
             [
              0.1111111111111111,
              "#46039f"
             ],
             [
              0.2222222222222222,
              "#7201a8"
             ],
             [
              0.3333333333333333,
              "#9c179e"
             ],
             [
              0.4444444444444444,
              "#bd3786"
             ],
             [
              0.5555555555555556,
              "#d8576b"
             ],
             [
              0.6666666666666666,
              "#ed7953"
             ],
             [
              0.7777777777777778,
              "#fb9f3a"
             ],
             [
              0.8888888888888888,
              "#fdca26"
             ],
             [
              1,
              "#f0f921"
             ]
            ],
            "type": "heatmapgl"
           }
          ],
          "histogram": [
           {
            "marker": {
             "pattern": {
              "fillmode": "overlay",
              "size": 10,
              "solidity": 0.2
             }
            },
            "type": "histogram"
           }
          ],
          "histogram2d": [
           {
            "colorbar": {
             "outlinewidth": 0,
             "ticks": ""
            },
            "colorscale": [
             [
              0,
              "#0d0887"
             ],
             [
              0.1111111111111111,
              "#46039f"
             ],
             [
              0.2222222222222222,
              "#7201a8"
             ],
             [
              0.3333333333333333,
              "#9c179e"
             ],
             [
              0.4444444444444444,
              "#bd3786"
             ],
             [
              0.5555555555555556,
              "#d8576b"
             ],
             [
              0.6666666666666666,
              "#ed7953"
             ],
             [
              0.7777777777777778,
              "#fb9f3a"
             ],
             [
              0.8888888888888888,
              "#fdca26"
             ],
             [
              1,
              "#f0f921"
             ]
            ],
            "type": "histogram2d"
           }
          ],
          "histogram2dcontour": [
           {
            "colorbar": {
             "outlinewidth": 0,
             "ticks": ""
            },
            "colorscale": [
             [
              0,
              "#0d0887"
             ],
             [
              0.1111111111111111,
              "#46039f"
             ],
             [
              0.2222222222222222,
              "#7201a8"
             ],
             [
              0.3333333333333333,
              "#9c179e"
             ],
             [
              0.4444444444444444,
              "#bd3786"
             ],
             [
              0.5555555555555556,
              "#d8576b"
             ],
             [
              0.6666666666666666,
              "#ed7953"
             ],
             [
              0.7777777777777778,
              "#fb9f3a"
             ],
             [
              0.8888888888888888,
              "#fdca26"
             ],
             [
              1,
              "#f0f921"
             ]
            ],
            "type": "histogram2dcontour"
           }
          ],
          "mesh3d": [
           {
            "colorbar": {
             "outlinewidth": 0,
             "ticks": ""
            },
            "type": "mesh3d"
           }
          ],
          "parcoords": [
           {
            "line": {
             "colorbar": {
              "outlinewidth": 0,
              "ticks": ""
             }
            },
            "type": "parcoords"
           }
          ],
          "pie": [
           {
            "automargin": true,
            "type": "pie"
           }
          ],
          "scatter": [
           {
            "fillpattern": {
             "fillmode": "overlay",
             "size": 10,
             "solidity": 0.2
            },
            "type": "scatter"
           }
          ],
          "scatter3d": [
           {
            "line": {
             "colorbar": {
              "outlinewidth": 0,
              "ticks": ""
             }
            },
            "marker": {
             "colorbar": {
              "outlinewidth": 0,
              "ticks": ""
             }
            },
            "type": "scatter3d"
           }
          ],
          "scattercarpet": [
           {
            "marker": {
             "colorbar": {
              "outlinewidth": 0,
              "ticks": ""
             }
            },
            "type": "scattercarpet"
           }
          ],
          "scattergeo": [
           {
            "marker": {
             "colorbar": {
              "outlinewidth": 0,
              "ticks": ""
             }
            },
            "type": "scattergeo"
           }
          ],
          "scattergl": [
           {
            "marker": {
             "colorbar": {
              "outlinewidth": 0,
              "ticks": ""
             }
            },
            "type": "scattergl"
           }
          ],
          "scattermapbox": [
           {
            "marker": {
             "colorbar": {
              "outlinewidth": 0,
              "ticks": ""
             }
            },
            "type": "scattermapbox"
           }
          ],
          "scatterpolar": [
           {
            "marker": {
             "colorbar": {
              "outlinewidth": 0,
              "ticks": ""
             }
            },
            "type": "scatterpolar"
           }
          ],
          "scatterpolargl": [
           {
            "marker": {
             "colorbar": {
              "outlinewidth": 0,
              "ticks": ""
             }
            },
            "type": "scatterpolargl"
           }
          ],
          "scatterternary": [
           {
            "marker": {
             "colorbar": {
              "outlinewidth": 0,
              "ticks": ""
             }
            },
            "type": "scatterternary"
           }
          ],
          "surface": [
           {
            "colorbar": {
             "outlinewidth": 0,
             "ticks": ""
            },
            "colorscale": [
             [
              0,
              "#0d0887"
             ],
             [
              0.1111111111111111,
              "#46039f"
             ],
             [
              0.2222222222222222,
              "#7201a8"
             ],
             [
              0.3333333333333333,
              "#9c179e"
             ],
             [
              0.4444444444444444,
              "#bd3786"
             ],
             [
              0.5555555555555556,
              "#d8576b"
             ],
             [
              0.6666666666666666,
              "#ed7953"
             ],
             [
              0.7777777777777778,
              "#fb9f3a"
             ],
             [
              0.8888888888888888,
              "#fdca26"
             ],
             [
              1,
              "#f0f921"
             ]
            ],
            "type": "surface"
           }
          ],
          "table": [
           {
            "cells": {
             "fill": {
              "color": "#EBF0F8"
             },
             "line": {
              "color": "white"
             }
            },
            "header": {
             "fill": {
              "color": "#C8D4E3"
             },
             "line": {
              "color": "white"
             }
            },
            "type": "table"
           }
          ]
         },
         "layout": {
          "annotationdefaults": {
           "arrowcolor": "#2a3f5f",
           "arrowhead": 0,
           "arrowwidth": 1
          },
          "autotypenumbers": "strict",
          "coloraxis": {
           "colorbar": {
            "outlinewidth": 0,
            "ticks": ""
           }
          },
          "colorscale": {
           "diverging": [
            [
             0,
             "#8e0152"
            ],
            [
             0.1,
             "#c51b7d"
            ],
            [
             0.2,
             "#de77ae"
            ],
            [
             0.3,
             "#f1b6da"
            ],
            [
             0.4,
             "#fde0ef"
            ],
            [
             0.5,
             "#f7f7f7"
            ],
            [
             0.6,
             "#e6f5d0"
            ],
            [
             0.7,
             "#b8e186"
            ],
            [
             0.8,
             "#7fbc41"
            ],
            [
             0.9,
             "#4d9221"
            ],
            [
             1,
             "#276419"
            ]
           ],
           "sequential": [
            [
             0,
             "#0d0887"
            ],
            [
             0.1111111111111111,
             "#46039f"
            ],
            [
             0.2222222222222222,
             "#7201a8"
            ],
            [
             0.3333333333333333,
             "#9c179e"
            ],
            [
             0.4444444444444444,
             "#bd3786"
            ],
            [
             0.5555555555555556,
             "#d8576b"
            ],
            [
             0.6666666666666666,
             "#ed7953"
            ],
            [
             0.7777777777777778,
             "#fb9f3a"
            ],
            [
             0.8888888888888888,
             "#fdca26"
            ],
            [
             1,
             "#f0f921"
            ]
           ],
           "sequentialminus": [
            [
             0,
             "#0d0887"
            ],
            [
             0.1111111111111111,
             "#46039f"
            ],
            [
             0.2222222222222222,
             "#7201a8"
            ],
            [
             0.3333333333333333,
             "#9c179e"
            ],
            [
             0.4444444444444444,
             "#bd3786"
            ],
            [
             0.5555555555555556,
             "#d8576b"
            ],
            [
             0.6666666666666666,
             "#ed7953"
            ],
            [
             0.7777777777777778,
             "#fb9f3a"
            ],
            [
             0.8888888888888888,
             "#fdca26"
            ],
            [
             1,
             "#f0f921"
            ]
           ]
          },
          "colorway": [
           "#636efa",
           "#EF553B",
           "#00cc96",
           "#ab63fa",
           "#FFA15A",
           "#19d3f3",
           "#FF6692",
           "#B6E880",
           "#FF97FF",
           "#FECB52"
          ],
          "font": {
           "color": "#2a3f5f"
          },
          "geo": {
           "bgcolor": "white",
           "lakecolor": "white",
           "landcolor": "#E5ECF6",
           "showlakes": true,
           "showland": true,
           "subunitcolor": "white"
          },
          "hoverlabel": {
           "align": "left"
          },
          "hovermode": "closest",
          "mapbox": {
           "style": "light"
          },
          "paper_bgcolor": "white",
          "plot_bgcolor": "#E5ECF6",
          "polar": {
           "angularaxis": {
            "gridcolor": "white",
            "linecolor": "white",
            "ticks": ""
           },
           "bgcolor": "#E5ECF6",
           "radialaxis": {
            "gridcolor": "white",
            "linecolor": "white",
            "ticks": ""
           }
          },
          "scene": {
           "xaxis": {
            "backgroundcolor": "#E5ECF6",
            "gridcolor": "white",
            "gridwidth": 2,
            "linecolor": "white",
            "showbackground": true,
            "ticks": "",
            "zerolinecolor": "white"
           },
           "yaxis": {
            "backgroundcolor": "#E5ECF6",
            "gridcolor": "white",
            "gridwidth": 2,
            "linecolor": "white",
            "showbackground": true,
            "ticks": "",
            "zerolinecolor": "white"
           },
           "zaxis": {
            "backgroundcolor": "#E5ECF6",
            "gridcolor": "white",
            "gridwidth": 2,
            "linecolor": "white",
            "showbackground": true,
            "ticks": "",
            "zerolinecolor": "white"
           }
          },
          "shapedefaults": {
           "line": {
            "color": "#2a3f5f"
           }
          },
          "ternary": {
           "aaxis": {
            "gridcolor": "white",
            "linecolor": "white",
            "ticks": ""
           },
           "baxis": {
            "gridcolor": "white",
            "linecolor": "white",
            "ticks": ""
           },
           "bgcolor": "#E5ECF6",
           "caxis": {
            "gridcolor": "white",
            "linecolor": "white",
            "ticks": ""
           }
          },
          "title": {
           "x": 0.05
          },
          "xaxis": {
           "automargin": true,
           "gridcolor": "white",
           "linecolor": "white",
           "ticks": "",
           "title": {
            "standoff": 15
           },
           "zerolinecolor": "white",
           "zerolinewidth": 2
          },
          "yaxis": {
           "automargin": true,
           "gridcolor": "white",
           "linecolor": "white",
           "ticks": "",
           "title": {
            "standoff": 15
           },
           "zerolinecolor": "white",
           "zerolinewidth": 2
          }
         }
        }
       }
      }
     },
     "metadata": {},
     "output_type": "display_data"
    }
   ],
   "source": [
    "px.scatter_3d(x=x_testdf.iloc[:,0],y=x_testdf.iloc[:,1],z=x_testdf.iloc[:,2], color= y_pred)"
   ]
  },
  {
   "cell_type": "code",
   "execution_count": 75,
   "metadata": {},
   "outputs": [],
   "source": [
    "class QRF:\n",
    "\n",
    " \n",
    "    x_bags = []\n",
    "    y_bags =[]\n",
    "    QDT = []\n",
    "    no_QDT=0\n",
    "    depth =0\n",
    "    sensetivity = 0\n",
    "\n",
    "\n",
    "    def __init__(self, x_train, y_train,  no_QDT, depth =2, sensetivity=0.2 ):\n",
    "\n",
    "        self.X_train= x_train\n",
    "        self.y_train= y_train\n",
    "        self.no_QDT = no_QDT\n",
    "        self.depth = depth\n",
    "        self.x_bags = [[] for j in range(no_QDT)]\n",
    "        self.y_bags = [[] for j in range(no_QDT)]\n",
    "        self.QDT = []\n",
    "        self.sensetivity = sensetivity\n",
    "\n",
    "\n",
    "      \n",
    "\n",
    "\n",
    "    def Create_Models(self):\n",
    "\n",
    "        for i in range(self.no_QDT):\n",
    "            self.QDT.append(Reuploader(dev,self.depth))\n",
    "\n",
    "    \n",
    "    def data_bagging(self):\n",
    "\n",
    "        k=0\n",
    "        \n",
    "        for j in range(self.no_QDT):\n",
    "            x_bags =  []\n",
    "            y_bags = []\n",
    "            for i in range(int(len(self.X_train)/self.no_QDT)):\n",
    "                \n",
    "                \n",
    "                x_bags.append(self.X_train[k])\n",
    "                y_bags.append(self.y_train[k])\n",
    "                k+=1\n",
    "            self.x_bags[j] = (x_bags)\n",
    "            self.y_bags[j] = (y_bags)\n",
    "            \n",
    "    \n",
    "    def train(self):\n",
    "    \n",
    "        self.data_bagging()\n",
    "        self.Create_Models()\n",
    "        print(self.no_QDT)\n",
    "        for i in range(len(self.QDT)):\n",
    "            print(f\" Training QDT no : {i+1}\")\n",
    "            self.QDT[i].fit(np.array(self.x_bags[i]),np.array(self.y_bags[i]))\n",
    "            \n",
    "    \n",
    "    def predict(self,x_test,y_test):\n",
    "        \n",
    "        individual_results = []\n",
    "        result = [3 for x in range(len(x_test))]\n",
    "        sum_of_results = [0 for y in range(len(x_test)) ]\n",
    "        for i  in range(len(self.QDT)):\n",
    "\n",
    "            individual_results.append(self.QDT[i].predict(x_test,y_test))\n",
    "            \n",
    "           \n",
    "\n",
    "            sum_of_results = sum_of_results + individual_results[i]\n",
    "       \n",
    "        for q in range(len(sum_of_results)):\n",
    "            \n",
    "\n",
    "            if sum_of_results[q]/self.no_QDT >= self.sensetivity:\n",
    "                \n",
    "                result[q] = 1\n",
    "            else:\n",
    "                result[q] = 0\n",
    "        print(sum_of_results)\n",
    "                \n",
    "\n",
    "        \n",
    "        \n",
    "        \n",
    "        return result,individual_results\n",
    "\n",
    "\n",
    "\n",
    "        \n",
    "\n",
    "\n",
    "\n",
    "\n",
    "        \n",
    "\n",
    "    \n",
    "        "
   ]
  },
  {
   "cell_type": "code",
   "execution_count": 76,
   "metadata": {},
   "outputs": [
    {
     "name": "stdout",
     "output_type": "stream",
     "text": [
      "2\n",
      " Training QDT no : 1\n",
      "Epoch:  1 | Loss: 0.200912 |  accuracy: 0.737500 \n",
      "Epoch:  2 | Loss: 0.215102 |  accuracy: 0.712500 \n",
      "Epoch:  3 | Loss: 0.207184 |  accuracy: 0.700000 \n",
      "Epoch:  4 | Loss: 0.221980 |  accuracy: 0.675000 \n",
      "Epoch:  5 | Loss: 0.210048 |  accuracy: 0.675000 \n",
      "Epoch:  6 | Loss: 0.193070 |  accuracy: 0.737500 \n",
      "Epoch:  7 | Loss: 0.187984 |  accuracy: 0.725000 \n",
      "Epoch:  8 | Loss: 0.194775 |  accuracy: 0.675000 \n",
      "Epoch:  9 | Loss: 0.200804 |  accuracy: 0.700000 \n",
      "Epoch: 10 | Loss: 0.196691 |  accuracy: 0.712500 \n",
      " Training QDT no : 2\n",
      "Epoch:  1 | Loss: 0.255558 |  accuracy: 0.650000 \n",
      "Epoch:  2 | Loss: 0.188216 |  accuracy: 0.725000 \n",
      "Epoch:  3 | Loss: 0.231986 |  accuracy: 0.650000 \n",
      "Epoch:  4 | Loss: 0.243182 |  accuracy: 0.600000 \n",
      "Epoch:  5 | Loss: 0.217377 |  accuracy: 0.700000 \n",
      "Epoch:  6 | Loss: 0.214473 |  accuracy: 0.737500 \n",
      "Epoch:  7 | Loss: 0.209780 |  accuracy: 0.712500 \n",
      "Epoch:  8 | Loss: 0.200929 |  accuracy: 0.675000 \n",
      "Epoch:  9 | Loss: 0.193775 |  accuracy: 0.737500 \n",
      "Epoch: 10 | Loss: 0.191290 |  accuracy: 0.725000 \n"
     ]
    }
   ],
   "source": [
    "qrf = QRF(X_train,y_train, no_QDT=2, sensetivity=0.5)\n",
    "\n",
    "qrf.train()\n"
   ]
  },
  {
   "cell_type": "code",
   "execution_count": 77,
   "metadata": {},
   "outputs": [
    {
     "name": "stdout",
     "output_type": "stream",
     "text": [
      "[0 0 0 2 0 1 0 0 1 0 1 0 0 0 0 1 0 1 0 1 2 1 0 2 0 0 1 0 0 0 1 0 0 0 1 0 0\n",
      " 0 1 0]\n"
     ]
    }
   ],
   "source": [
    "\n",
    "y_pred,y_ind = qrf.predict(X_test, y_test)\n"
   ]
  },
  {
   "cell_type": "code",
   "execution_count": 78,
   "metadata": {},
   "outputs": [
    {
     "name": "stdout",
     "output_type": "stream",
     "text": [
      "Recall(TP/FN+TP ):0.6666666666666666\n",
      "Precsion(TP/FP+TP): 0.14285714285714285 \n",
      "F1 score function of presscion and recall:0.23529411764705882 \n"
     ]
    },
    {
     "data": {
      "image/png": "[encoded data removed]",
      "text/plain": [
       "<Figure size 640x480 with 2 Axes>"
      ]
     },
     "metadata": {},
     "output_type": "display_data"
    }
   ],
   "source": [
    "conMtx = confusion_matrix(y_test,y_pred)\n",
    "sns.heatmap(conMtx)\n",
    "f1 = f1_score(y_test,y_pred)\n",
    "recall = recall_score(y_test,y_pred)\n",
    "pre = precision_score(y_test,y_pred)\n",
    "\n",
    "print(f\"Recall(TP/FN+TP ):{recall}\")\n",
    "print(f\"Precsion(TP/FP+TP): {pre} \")\n",
    "print(f\"F1 score function of presscion and recall:{f1} \")"
   ]
  },
  {
   "cell_type": "code",
   "execution_count": 79,
   "metadata": {},
   "outputs": [
    {
     "data": {
      "application/vnd.plotly.v1+json": {
       "config": {
        "plotlyServerURL": "https://plot.ly"
       },
       "data": [
        {
         "hovertemplate": "color=0<br>x=%{x}<br>y=%{y}<br>z=%{z}<extra></extra>",
         "legendgroup": "0",
         "marker": {
          "color": "#636efa",
          "symbol": "circle"
         },
         "mode": "markers",
         "name": "0",
         "scene": "scene",
         "showlegend": true,
         "type": "scatter3d",
         "x": [
          -4.743768548845113,
          -1.3228412546559067,
          2.785082844307431,
          -6.513378359882725,
          6.808023923430163,
          -0.41164746084191556,
          -0.0685184859996972,
          1.7200588150275906,
          4.6947920415390625,
          3.1678430636869206,
          5.871528141018577,
          5.73005247944524,
          -5.198110782761133,
          -3.0697495974709557,
          -5.733694407063032,
          -4.90986453890313,
          3.5195487436562147,
          -6.290821594793524,
          -5.534047435694155,
          -4.458784876689663,
          -6.762018665424565,
          2.7783960917422417,
          0.7682702619874502,
          -3.4768342821271823,
          -7.218574194736847,
          6.071706923497944,
          2.8826486795098583,
          1.636910469877763,
          9.336975503474939,
          5.868205947770307,
          -3.2956457801035857,
          -1.4378404841376105,
          -5.134546532836779,
          4.059525448978562,
          -6.104528948518106,
          4.26081328719457,
          -7.00633842005011
         ],
         "y": [
          1.220099268603767,
          6.493236225345611,
          2.916499800675734,
          1.4268279089560425,
          3.0941556580030376,
          -2.1521735125645605,
          0.31921202167172236,
          1.2412598389044711,
          3.3815234902220936,
          -4.343195052574395,
          -0.35957894828652126,
          3.1819700719151442,
          2.5407104341447404,
          -1.7343284152359526,
          3.215043901529783,
          1.2920882273547099,
          -4.973525723251861,
          1.029149531342737,
          3.9168958004412624,
          1.554489621372172,
          -0.18823417349166618,
          2.227493574235297,
          -3.4789556358102987,
          3.6472264701923787,
          -1.3083113364854433,
          2.599460417220851,
          2.763371179984298,
          0.3094337528788664,
          5.616835731012946,
          0.0240287741630624,
          2.8872914722857588,
          5.985702935490096,
          0.9363222043102668,
          4.2850817293990255,
          0.1643546215799431,
          -4.48356245755892,
          -2.4927162455767062
         ],
         "z": [
          5.353849031794919,
          -4.493426536196455,
          2.189130238710818,
          -1.894233979015354,
          -0.3398516781187303,
          0.33058969021366114,
          2.5492404962926076,
          1.826359408772072,
          0.29216248140921125,
          -1.1907979884221043,
          0.5306406223866859,
          -0.09734601715746312,
          -0.9078776579160694,
          2.1068004798025166,
          -2.928482877192787,
          2.079149561550557,
          -2.390880452283247,
          -3.145289655563207,
          -3.4688490501426528,
          1.57228607628542,
          -1.7103641502636973,
          1.7041150786260042,
          1.7119294580019493,
          -1.3256139810494314,
          -0.3579624557632136,
          0.13040818192254167,
          2.9297417097899716,
          1.8197772544550268,
          -0.19554942229701586,
          -2.091691535674004,
          -1.4847108789319297,
          0.16687202203162194,
          0.8790839847134494,
          2.2773925717571015,
          -0.3623088973174482,
          -1.1498092041168948,
          0.8825569939962307
         ]
        },
        {
         "hovertemplate": "color=1<br>x=%{x}<br>y=%{y}<br>z=%{z}<extra></extra>",
         "legendgroup": "1",
         "marker": {
          "color": "#EF553B",
          "symbol": "circle"
         },
         "mode": "markers",
         "name": "1",
         "scene": "scene",
         "showlegend": true,
         "type": "scatter3d",
         "x": [
          2.5675585729566666,
          1.663237152763599,
          2.02890069754237
         ],
         "y": [
          -5.5579490502160445,
          -5.939448087475954,
          -5.61302884623932
         ],
         "z": [
          -2.2739398330713287,
          -1.4376111004356689,
          -1.867603329158955
         ]
        }
       ],
       "layout": {
        "legend": {
         "title": {
          "text": "color"
         },
         "tracegroupgap": 0
        },
        "margin": {
         "t": 60
        },
        "scene": {
         "domain": {
          "x": [
           0,
           1
          ],
          "y": [
           0,
           1
          ]
         },
         "xaxis": {
          "title": {
           "text": "x"
          }
         },
         "yaxis": {
          "title": {
           "text": "y"
          }
         },
         "zaxis": {
          "title": {
           "text": "z"
          }
         }
        },
        "template": {
         "data": {
          "bar": [
           {
            "error_x": {
             "color": "#2a3f5f"
            },
            "error_y": {
             "color": "#2a3f5f"
            },
            "marker": {
             "line": {
              "color": "#E5ECF6",
              "width": 0.5
             },
             "pattern": {
              "fillmode": "overlay",
              "size": 10,
              "solidity": 0.2
             }
            },
            "type": "bar"
           }
          ],
          "barpolar": [
           {
            "marker": {
             "line": {
              "color": "#E5ECF6",
              "width": 0.5
             },
             "pattern": {
              "fillmode": "overlay",
              "size": 10,
              "solidity": 0.2
             }
            },
            "type": "barpolar"
           }
          ],
          "carpet": [
           {
            "aaxis": {
             "endlinecolor": "#2a3f5f",
             "gridcolor": "white",
             "linecolor": "white",
             "minorgridcolor": "white",
             "startlinecolor": "#2a3f5f"
            },
            "baxis": {
             "endlinecolor": "#2a3f5f",
             "gridcolor": "white",
             "linecolor": "white",
             "minorgridcolor": "white",
             "startlinecolor": "#2a3f5f"
            },
            "type": "carpet"
           }
          ],
          "choropleth": [
           {
            "colorbar": {
             "outlinewidth": 0,
             "ticks": ""
            },
            "type": "choropleth"
           }
          ],
          "contour": [
           {
            "colorbar": {
             "outlinewidth": 0,
             "ticks": ""
            },
            "colorscale": [
             [
              0,
              "#0d0887"
             ],
             [
              0.1111111111111111,
              "#46039f"
             ],
             [
              0.2222222222222222,
              "#7201a8"
             ],
             [
              0.3333333333333333,
              "#9c179e"
             ],
             [
              0.4444444444444444,
              "#bd3786"
             ],
             [
              0.5555555555555556,
              "#d8576b"
             ],
             [
              0.6666666666666666,
              "#ed7953"
             ],
             [
              0.7777777777777778,
              "#fb9f3a"
             ],
             [
              0.8888888888888888,
              "#fdca26"
             ],
             [
              1,
              "#f0f921"
             ]
            ],
            "type": "contour"
           }
          ],
          "contourcarpet": [
           {
            "colorbar": {
             "outlinewidth": 0,
             "ticks": ""
            },
            "type": "contourcarpet"
           }
          ],
          "heatmap": [
           {
            "colorbar": {
             "outlinewidth": 0,
             "ticks": ""
            },
            "colorscale": [
             [
              0,
              "#0d0887"
             ],
             [
              0.1111111111111111,
              "#46039f"
             ],
             [
              0.2222222222222222,
              "#7201a8"
             ],
             [
              0.3333333333333333,
              "#9c179e"
             ],
             [
              0.4444444444444444,
              "#bd3786"
             ],
             [
              0.5555555555555556,
              "#d8576b"
             ],
             [
              0.6666666666666666,
              "#ed7953"
             ],
             [
              0.7777777777777778,
              "#fb9f3a"
             ],
             [
              0.8888888888888888,
              "#fdca26"
             ],
             [
              1,
              "#f0f921"
             ]
            ],
            "type": "heatmap"
           }
          ],
          "heatmapgl": [
           {
            "colorbar": {
             "outlinewidth": 0,
             "ticks": ""
            },
            "colorscale": [
             [
              0,
              "#0d0887"
             ],
             [
              0.1111111111111111,
              "#46039f"
             ],
             [
              0.2222222222222222,
              "#7201a8"
             ],
             [
              0.3333333333333333,
              "#9c179e"
             ],
             [
              0.4444444444444444,
              "#bd3786"
             ],
             [
              0.5555555555555556,
              "#d8576b"
             ],
             [
              0.6666666666666666,
              "#ed7953"
             ],
             [
              0.7777777777777778,
              "#fb9f3a"
             ],
             [
              0.8888888888888888,
              "#fdca26"
             ],
             [
              1,
              "#f0f921"
             ]
            ],
            "type": "heatmapgl"
           }
          ],
          "histogram": [
           {
            "marker": {
             "pattern": {
              "fillmode": "overlay",
              "size": 10,
              "solidity": 0.2
             }
            },
            "type": "histogram"
           }
          ],
          "histogram2d": [
           {
            "colorbar": {
             "outlinewidth": 0,
             "ticks": ""
            },
            "colorscale": [
             [
              0,
              "#0d0887"
             ],
             [
              0.1111111111111111,
              "#46039f"
             ],
             [
              0.2222222222222222,
              "#7201a8"
             ],
             [
              0.3333333333333333,
              "#9c179e"
             ],
             [
              0.4444444444444444,
              "#bd3786"
             ],
             [
              0.5555555555555556,
              "#d8576b"
             ],
             [
              0.6666666666666666,
              "#ed7953"
             ],
             [
              0.7777777777777778,
              "#fb9f3a"
             ],
             [
              0.8888888888888888,
              "#fdca26"
             ],
             [
              1,
              "#f0f921"
             ]
            ],
            "type": "histogram2d"
           }
          ],
          "histogram2dcontour": [
           {
            "colorbar": {
             "outlinewidth": 0,
             "ticks": ""
            },
            "colorscale": [
             [
              0,
              "#0d0887"
             ],
             [
              0.1111111111111111,
              "#46039f"
             ],
             [
              0.2222222222222222,
              "#7201a8"
             ],
             [
              0.3333333333333333,
              "#9c179e"
             ],
             [
              0.4444444444444444,
              "#bd3786"
             ],
             [
              0.5555555555555556,
              "#d8576b"
             ],
             [
              0.6666666666666666,
              "#ed7953"
             ],
             [
              0.7777777777777778,
              "#fb9f3a"
             ],
             [
              0.8888888888888888,
              "#fdca26"
             ],
             [
              1,
              "#f0f921"
             ]
            ],
            "type": "histogram2dcontour"
           }
          ],
          "mesh3d": [
           {
            "colorbar": {
             "outlinewidth": 0,
             "ticks": ""
            },
            "type": "mesh3d"
           }
          ],
          "parcoords": [
           {
            "line": {
             "colorbar": {
              "outlinewidth": 0,
              "ticks": ""
             }
            },
            "type": "parcoords"
           }
          ],
          "pie": [
           {
            "automargin": true,
            "type": "pie"
           }
          ],
          "scatter": [
           {
            "fillpattern": {
             "fillmode": "overlay",
             "size": 10,
             "solidity": 0.2
            },
            "type": "scatter"
           }
          ],
          "scatter3d": [
           {
            "line": {
             "colorbar": {
              "outlinewidth": 0,
              "ticks": ""
             }
            },
            "marker": {
             "colorbar": {
              "outlinewidth": 0,
              "ticks": ""
             }
            },
            "type": "scatter3d"
           }
          ],
          "scattercarpet": [
           {
            "marker": {
             "colorbar": {
              "outlinewidth": 0,
              "ticks": ""
             }
            },
            "type": "scattercarpet"
           }
          ],
          "scattergeo": [
           {
            "marker": {
             "colorbar": {
              "outlinewidth": 0,
              "ticks": ""
             }
            },
            "type": "scattergeo"
           }
          ],
          "scattergl": [
           {
            "marker": {
             "colorbar": {
              "outlinewidth": 0,
              "ticks": ""
             }
            },
            "type": "scattergl"
           }
          ],
          "scattermapbox": [
           {
            "marker": {
             "colorbar": {
              "outlinewidth": 0,
              "ticks": ""
             }
            },
            "type": "scattermapbox"
           }
          ],
          "scatterpolar": [
           {
            "marker": {
             "colorbar": {
              "outlinewidth": 0,
              "ticks": ""
             }
            },
            "type": "scatterpolar"
           }
          ],
          "scatterpolargl": [
           {
            "marker": {
             "colorbar": {
              "outlinewidth": 0,
              "ticks": ""
             }
            },
            "type": "scatterpolargl"
           }
          ],
          "scatterternary": [
           {
            "marker": {
             "colorbar": {
              "outlinewidth": 0,
              "ticks": ""
             }
            },
            "type": "scatterternary"
           }
          ],
          "surface": [
           {
            "colorbar": {
             "outlinewidth": 0,
             "ticks": ""
            },
            "colorscale": [
             [
              0,
              "#0d0887"
             ],
             [
              0.1111111111111111,
              "#46039f"
             ],
             [
              0.2222222222222222,
              "#7201a8"
             ],
             [
              0.3333333333333333,
              "#9c179e"
             ],
             [
              0.4444444444444444,
              "#bd3786"
             ],
             [
              0.5555555555555556,
              "#d8576b"
             ],
             [
              0.6666666666666666,
              "#ed7953"
             ],
             [
              0.7777777777777778,
              "#fb9f3a"
             ],
             [
              0.8888888888888888,
              "#fdca26"
             ],
             [
              1,
              "#f0f921"
             ]
            ],
            "type": "surface"
           }
          ],
          "table": [
           {
            "cells": {
             "fill": {
              "color": "#EBF0F8"
             },
             "line": {
              "color": "white"
             }
            },
            "header": {
             "fill": {
              "color": "#C8D4E3"
             },
             "line": {
              "color": "white"
             }
            },
            "type": "table"
           }
          ]
         },
         "layout": {
          "annotationdefaults": {
           "arrowcolor": "#2a3f5f",
           "arrowhead": 0,
           "arrowwidth": 1
          },
          "autotypenumbers": "strict",
          "coloraxis": {
           "colorbar": {
            "outlinewidth": 0,
            "ticks": ""
           }
          },
          "colorscale": {
           "diverging": [
            [
             0,
             "#8e0152"
            ],
            [
             0.1,
             "#c51b7d"
            ],
            [
             0.2,
             "#de77ae"
            ],
            [
             0.3,
             "#f1b6da"
            ],
            [
             0.4,
             "#fde0ef"
            ],
            [
             0.5,
             "#f7f7f7"
            ],
            [
             0.6,
             "#e6f5d0"
            ],
            [
             0.7,
             "#b8e186"
            ],
            [
             0.8,
             "#7fbc41"
            ],
            [
             0.9,
             "#4d9221"
            ],
            [
             1,
             "#276419"
            ]
           ],
           "sequential": [
            [
             0,
             "#0d0887"
            ],
            [
             0.1111111111111111,
             "#46039f"
            ],
            [
             0.2222222222222222,
             "#7201a8"
            ],
            [
             0.3333333333333333,
             "#9c179e"
            ],
            [
             0.4444444444444444,
             "#bd3786"
            ],
            [
             0.5555555555555556,
             "#d8576b"
            ],
            [
             0.6666666666666666,
             "#ed7953"
            ],
            [
             0.7777777777777778,
             "#fb9f3a"
            ],
            [
             0.8888888888888888,
             "#fdca26"
            ],
            [
             1,
             "#f0f921"
            ]
           ],
           "sequentialminus": [
            [
             0,
             "#0d0887"
            ],
            [
             0.1111111111111111,
             "#46039f"
            ],
            [
             0.2222222222222222,
             "#7201a8"
            ],
            [
             0.3333333333333333,
             "#9c179e"
            ],
            [
             0.4444444444444444,
             "#bd3786"
            ],
            [
             0.5555555555555556,
             "#d8576b"
            ],
            [
             0.6666666666666666,
             "#ed7953"
            ],
            [
             0.7777777777777778,
             "#fb9f3a"
            ],
            [
             0.8888888888888888,
             "#fdca26"
            ],
            [
             1,
             "#f0f921"
            ]
           ]
          },
          "colorway": [
           "#636efa",
           "#EF553B",
           "#00cc96",
           "#ab63fa",
           "#FFA15A",
           "#19d3f3",
           "#FF6692",
           "#B6E880",
           "#FF97FF",
           "#FECB52"
          ],
          "font": {
           "color": "#2a3f5f"
          },
          "geo": {
           "bgcolor": "white",
           "lakecolor": "white",
           "landcolor": "#E5ECF6",
           "showlakes": true,
           "showland": true,
           "subunitcolor": "white"
          },
          "hoverlabel": {
           "align": "left"
          },
          "hovermode": "closest",
          "mapbox": {
           "style": "light"
          },
          "paper_bgcolor": "white",
          "plot_bgcolor": "#E5ECF6",
          "polar": {
           "angularaxis": {
            "gridcolor": "white",
            "linecolor": "white",
            "ticks": ""
           },
           "bgcolor": "#E5ECF6",
           "radialaxis": {
            "gridcolor": "white",
            "linecolor": "white",
            "ticks": ""
           }
          },
          "scene": {
           "xaxis": {
            "backgroundcolor": "#E5ECF6",
            "gridcolor": "white",
            "gridwidth": 2,
            "linecolor": "white",
            "showbackground": true,
            "ticks": "",
            "zerolinecolor": "white"
           },
           "yaxis": {
            "backgroundcolor": "#E5ECF6",
            "gridcolor": "white",
            "gridwidth": 2,
            "linecolor": "white",
            "showbackground": true,
            "ticks": "",
            "zerolinecolor": "white"
           },
           "zaxis": {
            "backgroundcolor": "#E5ECF6",
            "gridcolor": "white",
            "gridwidth": 2,
            "linecolor": "white",
            "showbackground": true,
            "ticks": "",
            "zerolinecolor": "white"
           }
          },
          "shapedefaults": {
           "line": {
            "color": "#2a3f5f"
           }
          },
          "ternary": {
           "aaxis": {
            "gridcolor": "white",
            "linecolor": "white",
            "ticks": ""
           },
           "baxis": {
            "gridcolor": "white",
            "linecolor": "white",
            "ticks": ""
           },
           "bgcolor": "#E5ECF6",
           "caxis": {
            "gridcolor": "white",
            "linecolor": "white",
            "ticks": ""
           }
          },
          "title": {
           "x": 0.05
          },
          "xaxis": {
           "automargin": true,
           "gridcolor": "white",
           "linecolor": "white",
           "ticks": "",
           "title": {
            "standoff": 15
           },
           "zerolinecolor": "white",
           "zerolinewidth": 2
          },
          "yaxis": {
           "automargin": true,
           "gridcolor": "white",
           "linecolor": "white",
           "ticks": "",
           "title": {
            "standoff": 15
           },
           "zerolinecolor": "white",
           "zerolinewidth": 2
          }
         }
        }
       }
      }
     },
     "metadata": {},
     "output_type": "display_data"
    }
   ],
   "source": [
    "\n",
    "px.scatter_3d(x=x_testdf.iloc[:,0],y=x_testdf.iloc[:,1],z=x_testdf.iloc[:,2], color= y_test)"
   ]
  },
  {
   "cell_type": "code",
   "execution_count": 80,
   "metadata": {},
   "outputs": [
    {
     "data": {
      "application/vnd.plotly.v1+json": {
       "config": {
        "plotlyServerURL": "https://plot.ly"
       },
       "data": [
        {
         "hovertemplate": "x=%{x}<br>y=%{y}<br>z=%{z}<br>color=%{marker.color}<extra></extra>",
         "legendgroup": "",
         "marker": {
          "color": [
           0,
           0,
           0,
           1,
           0,
           1,
           0,
           0,
           1,
           0,
           1,
           0,
           0,
           0,
           0,
           1,
           0,
           1,
           0,
           1,
           1,
           1,
           0,
           1,
           0,
           0,
           1,
           0,
           0,
           0,
           1,
           0,
           0,
           0,
           1,
           0,
           0,
           0,
           1,
           0
          ],
          "coloraxis": "coloraxis",
          "symbol": "circle"
         },
         "mode": "markers",
         "name": "",
         "scene": "scene",
         "showlegend": false,
         "type": "scatter3d",
         "x": [
          -4.743768548845113,
          -1.3228412546559067,
          2.785082844307431,
          -6.513378359882725,
          6.808023923430163,
          2.5675585729566666,
          -0.41164746084191556,
          -0.0685184859996972,
          1.7200588150275906,
          4.6947920415390625,
          3.1678430636869206,
          5.871528141018577,
          5.73005247944524,
          -5.198110782761133,
          1.663237152763599,
          -3.0697495974709557,
          -5.733694407063032,
          -4.90986453890313,
          3.5195487436562147,
          -6.290821594793524,
          -5.534047435694155,
          -4.458784876689663,
          -6.762018665424565,
          2.7783960917422417,
          0.7682702619874502,
          -3.4768342821271823,
          -7.218574194736847,
          6.071706923497944,
          2.8826486795098583,
          1.636910469877763,
          9.336975503474939,
          5.868205947770307,
          -3.2956457801035857,
          -1.4378404841376105,
          2.02890069754237,
          -5.134546532836779,
          4.059525448978562,
          -6.104528948518106,
          4.26081328719457,
          -7.00633842005011
         ],
         "y": [
          1.220099268603767,
          6.493236225345611,
          2.916499800675734,
          1.4268279089560425,
          3.0941556580030376,
          -5.5579490502160445,
          -2.1521735125645605,
          0.31921202167172236,
          1.2412598389044711,
          3.3815234902220936,
          -4.343195052574395,
          -0.35957894828652126,
          3.1819700719151442,
          2.5407104341447404,
          -5.939448087475954,
          -1.7343284152359526,
          3.215043901529783,
          1.2920882273547099,
          -4.973525723251861,
          1.029149531342737,
          3.9168958004412624,
          1.554489621372172,
          -0.18823417349166618,
          2.227493574235297,
          -3.4789556358102987,
          3.6472264701923787,
          -1.3083113364854433,
          2.599460417220851,
          2.763371179984298,
          0.3094337528788664,
          5.616835731012946,
          0.0240287741630624,
          2.8872914722857588,
          5.985702935490096,
          -5.61302884623932,
          0.9363222043102668,
          4.2850817293990255,
          0.1643546215799431,
          -4.48356245755892,
          -2.4927162455767062
         ],
         "z": [
          5.353849031794919,
          -4.493426536196455,
          2.189130238710818,
          -1.894233979015354,
          -0.3398516781187303,
          -2.2739398330713287,
          0.33058969021366114,
          2.5492404962926076,
          1.826359408772072,
          0.29216248140921125,
          -1.1907979884221043,
          0.5306406223866859,
          -0.09734601715746312,
          -0.9078776579160694,
          -1.4376111004356689,
          2.1068004798025166,
          -2.928482877192787,
          2.079149561550557,
          -2.390880452283247,
          -3.145289655563207,
          -3.4688490501426528,
          1.57228607628542,
          -1.7103641502636973,
          1.7041150786260042,
          1.7119294580019493,
          -1.3256139810494314,
          -0.3579624557632136,
          0.13040818192254167,
          2.9297417097899716,
          1.8197772544550268,
          -0.19554942229701586,
          -2.091691535674004,
          -1.4847108789319297,
          0.16687202203162194,
          -1.867603329158955,
          0.8790839847134494,
          2.2773925717571015,
          -0.3623088973174482,
          -1.1498092041168948,
          0.8825569939962307
         ]
        }
       ],
       "layout": {
        "coloraxis": {
         "colorbar": {
          "title": {
           "text": "color"
          }
         },
         "colorscale": [
          [
           0,
           "#0d0887"
          ],
          [
           0.1111111111111111,
           "#46039f"
          ],
          [
           0.2222222222222222,
           "#7201a8"
          ],
          [
           0.3333333333333333,
           "#9c179e"
          ],
          [
           0.4444444444444444,
           "#bd3786"
          ],
          [
           0.5555555555555556,
           "#d8576b"
          ],
          [
           0.6666666666666666,
           "#ed7953"
          ],
          [
           0.7777777777777778,
           "#fb9f3a"
          ],
          [
           0.8888888888888888,
           "#fdca26"
          ],
          [
           1,
           "#f0f921"
          ]
         ]
        },
        "legend": {
         "tracegroupgap": 0
        },
        "margin": {
         "t": 60
        },
        "scene": {
         "domain": {
          "x": [
           0,
           1
          ],
          "y": [
           0,
           1
          ]
         },
         "xaxis": {
          "title": {
           "text": "x"
          }
         },
         "yaxis": {
          "title": {
           "text": "y"
          }
         },
         "zaxis": {
          "title": {
           "text": "z"
          }
         }
        },
        "template": {
         "data": {
          "bar": [
           {
            "error_x": {
             "color": "#2a3f5f"
            },
            "error_y": {
             "color": "#2a3f5f"
            },
            "marker": {
             "line": {
              "color": "#E5ECF6",
              "width": 0.5
             },
             "pattern": {
              "fillmode": "overlay",
              "size": 10,
              "solidity": 0.2
             }
            },
            "type": "bar"
           }
          ],
          "barpolar": [
           {
            "marker": {
             "line": {
              "color": "#E5ECF6",
              "width": 0.5
             },
             "pattern": {
              "fillmode": "overlay",
              "size": 10,
              "solidity": 0.2
             }
            },
            "type": "barpolar"
           }
          ],
          "carpet": [
           {
            "aaxis": {
             "endlinecolor": "#2a3f5f",
             "gridcolor": "white",
             "linecolor": "white",
             "minorgridcolor": "white",
             "startlinecolor": "#2a3f5f"
            },
            "baxis": {
             "endlinecolor": "#2a3f5f",
             "gridcolor": "white",
             "linecolor": "white",
             "minorgridcolor": "white",
             "startlinecolor": "#2a3f5f"
            },
            "type": "carpet"
           }
          ],
          "choropleth": [
           {
            "colorbar": {
             "outlinewidth": 0,
             "ticks": ""
            },
            "type": "choropleth"
           }
          ],
          "contour": [
           {
            "colorbar": {
             "outlinewidth": 0,
             "ticks": ""
            },
            "colorscale": [
             [
              0,
              "#0d0887"
             ],
             [
              0.1111111111111111,
              "#46039f"
             ],
             [
              0.2222222222222222,
              "#7201a8"
             ],
             [
              0.3333333333333333,
              "#9c179e"
             ],
             [
              0.4444444444444444,
              "#bd3786"
             ],
             [
              0.5555555555555556,
              "#d8576b"
             ],
             [
              0.6666666666666666,
              "#ed7953"
             ],
             [
              0.7777777777777778,
              "#fb9f3a"
             ],
             [
              0.8888888888888888,
              "#fdca26"
             ],
             [
              1,
              "#f0f921"
             ]
            ],
            "type": "contour"
           }
          ],
          "contourcarpet": [
           {
            "colorbar": {
             "outlinewidth": 0,
             "ticks": ""
            },
            "type": "contourcarpet"
           }
          ],
          "heatmap": [
           {
            "colorbar": {
             "outlinewidth": 0,
             "ticks": ""
            },
            "colorscale": [
             [
              0,
              "#0d0887"
             ],
             [
              0.1111111111111111,
              "#46039f"
             ],
             [
              0.2222222222222222,
              "#7201a8"
             ],
             [
              0.3333333333333333,
              "#9c179e"
             ],
             [
              0.4444444444444444,
              "#bd3786"
             ],
             [
              0.5555555555555556,
              "#d8576b"
             ],
             [
              0.6666666666666666,
              "#ed7953"
             ],
             [
              0.7777777777777778,
              "#fb9f3a"
             ],
             [
              0.8888888888888888,
              "#fdca26"
             ],
             [
              1,
              "#f0f921"
             ]
            ],
            "type": "heatmap"
           }
          ],
          "heatmapgl": [
           {
            "colorbar": {
             "outlinewidth": 0,
             "ticks": ""
            },
            "colorscale": [
             [
              0,
              "#0d0887"
             ],
             [
              0.1111111111111111,
              "#46039f"
             ],
             [
              0.2222222222222222,
              "#7201a8"
             ],
             [
              0.3333333333333333,
              "#9c179e"
             ],
             [
              0.4444444444444444,
              "#bd3786"
             ],
             [
              0.5555555555555556,
              "#d8576b"
             ],
             [
              0.6666666666666666,
              "#ed7953"
             ],
             [
              0.7777777777777778,
              "#fb9f3a"
             ],
             [
              0.8888888888888888,
              "#fdca26"
             ],
             [
              1,
              "#f0f921"
             ]
            ],
            "type": "heatmapgl"
           }
          ],
          "histogram": [
           {
            "marker": {
             "pattern": {
              "fillmode": "overlay",
              "size": 10,
              "solidity": 0.2
             }
            },
            "type": "histogram"
           }
          ],
          "histogram2d": [
           {
            "colorbar": {
             "outlinewidth": 0,
             "ticks": ""
            },
            "colorscale": [
             [
              0,
              "#0d0887"
             ],
             [
              0.1111111111111111,
              "#46039f"
             ],
             [
              0.2222222222222222,
              "#7201a8"
             ],
             [
              0.3333333333333333,
              "#9c179e"
             ],
             [
              0.4444444444444444,
              "#bd3786"
             ],
             [
              0.5555555555555556,
              "#d8576b"
             ],
             [
              0.6666666666666666,
              "#ed7953"
             ],
             [
              0.7777777777777778,
              "#fb9f3a"
             ],
             [
              0.8888888888888888,
              "#fdca26"
             ],
             [
              1,
              "#f0f921"
             ]
            ],
            "type": "histogram2d"
           }
          ],
          "histogram2dcontour": [
           {
            "colorbar": {
             "outlinewidth": 0,
             "ticks": ""
            },
            "colorscale": [
             [
              0,
              "#0d0887"
             ],
             [
              0.1111111111111111,
              "#46039f"
             ],
             [
              0.2222222222222222,
              "#7201a8"
             ],
             [
              0.3333333333333333,
              "#9c179e"
             ],
             [
              0.4444444444444444,
              "#bd3786"
             ],
             [
              0.5555555555555556,
              "#d8576b"
             ],
             [
              0.6666666666666666,
              "#ed7953"
             ],
             [
              0.7777777777777778,
              "#fb9f3a"
             ],
             [
              0.8888888888888888,
              "#fdca26"
             ],
             [
              1,
              "#f0f921"
             ]
            ],
            "type": "histogram2dcontour"
           }
          ],
          "mesh3d": [
           {
            "colorbar": {
             "outlinewidth": 0,
             "ticks": ""
            },
            "type": "mesh3d"
           }
          ],
          "parcoords": [
           {
            "line": {
             "colorbar": {
              "outlinewidth": 0,
              "ticks": ""
             }
            },
            "type": "parcoords"
           }
          ],
          "pie": [
           {
            "automargin": true,
            "type": "pie"
           }
          ],
          "scatter": [
           {
            "fillpattern": {
             "fillmode": "overlay",
             "size": 10,
             "solidity": 0.2
            },
            "type": "scatter"
           }
          ],
          "scatter3d": [
           {
            "line": {
             "colorbar": {
              "outlinewidth": 0,
              "ticks": ""
             }
            },
            "marker": {
             "colorbar": {
              "outlinewidth": 0,
              "ticks": ""
             }
            },
            "type": "scatter3d"
           }
          ],
          "scattercarpet": [
           {
            "marker": {
             "colorbar": {
              "outlinewidth": 0,
              "ticks": ""
             }
            },
            "type": "scattercarpet"
           }
          ],
          "scattergeo": [
           {
            "marker": {
             "colorbar": {
              "outlinewidth": 0,
              "ticks": ""
             }
            },
            "type": "scattergeo"
           }
          ],
          "scattergl": [
           {
            "marker": {
             "colorbar": {
              "outlinewidth": 0,
              "ticks": ""
             }
            },
            "type": "scattergl"
           }
          ],
          "scattermapbox": [
           {
            "marker": {
             "colorbar": {
              "outlinewidth": 0,
              "ticks": ""
             }
            },
            "type": "scattermapbox"
           }
          ],
          "scatterpolar": [
           {
            "marker": {
             "colorbar": {
              "outlinewidth": 0,
              "ticks": ""
             }
            },
            "type": "scatterpolar"
           }
          ],
          "scatterpolargl": [
           {
            "marker": {
             "colorbar": {
              "outlinewidth": 0,
              "ticks": ""
             }
            },
            "type": "scatterpolargl"
           }
          ],
          "scatterternary": [
           {
            "marker": {
             "colorbar": {
              "outlinewidth": 0,
              "ticks": ""
             }
            },
            "type": "scatterternary"
           }
          ],
          "surface": [
           {
            "colorbar": {
             "outlinewidth": 0,
             "ticks": ""
            },
            "colorscale": [
             [
              0,
              "#0d0887"
             ],
             [
              0.1111111111111111,
              "#46039f"
             ],
             [
              0.2222222222222222,
              "#7201a8"
             ],
             [
              0.3333333333333333,
              "#9c179e"
             ],
             [
              0.4444444444444444,
              "#bd3786"
             ],
             [
              0.5555555555555556,
              "#d8576b"
             ],
             [
              0.6666666666666666,
              "#ed7953"
             ],
             [
              0.7777777777777778,
              "#fb9f3a"
             ],
             [
              0.8888888888888888,
              "#fdca26"
             ],
             [
              1,
              "#f0f921"
             ]
            ],
            "type": "surface"
           }
          ],
          "table": [
           {
            "cells": {
             "fill": {
              "color": "#EBF0F8"
             },
             "line": {
              "color": "white"
             }
            },
            "header": {
             "fill": {
              "color": "#C8D4E3"
             },
             "line": {
              "color": "white"
             }
            },
            "type": "table"
           }
          ]
         },
         "layout": {
          "annotationdefaults": {
           "arrowcolor": "#2a3f5f",
           "arrowhead": 0,
           "arrowwidth": 1
          },
          "autotypenumbers": "strict",
          "coloraxis": {
           "colorbar": {
            "outlinewidth": 0,
            "ticks": ""
           }
          },
          "colorscale": {
           "diverging": [
            [
             0,
             "#8e0152"
            ],
            [
             0.1,
             "#c51b7d"
            ],
            [
             0.2,
             "#de77ae"
            ],
            [
             0.3,
             "#f1b6da"
            ],
            [
             0.4,
             "#fde0ef"
            ],
            [
             0.5,
             "#f7f7f7"
            ],
            [
             0.6,
             "#e6f5d0"
            ],
            [
             0.7,
             "#b8e186"
            ],
            [
             0.8,
             "#7fbc41"
            ],
            [
             0.9,
             "#4d9221"
            ],
            [
             1,
             "#276419"
            ]
           ],
           "sequential": [
            [
             0,
             "#0d0887"
            ],
            [
             0.1111111111111111,
             "#46039f"
            ],
            [
             0.2222222222222222,
             "#7201a8"
            ],
            [
             0.3333333333333333,
             "#9c179e"
            ],
            [
             0.4444444444444444,
             "#bd3786"
            ],
            [
             0.5555555555555556,
             "#d8576b"
            ],
            [
             0.6666666666666666,
             "#ed7953"
            ],
            [
             0.7777777777777778,
             "#fb9f3a"
            ],
            [
             0.8888888888888888,
             "#fdca26"
            ],
            [
             1,
             "#f0f921"
            ]
           ],
           "sequentialminus": [
            [
             0,
             "#0d0887"
            ],
            [
             0.1111111111111111,
             "#46039f"
            ],
            [
             0.2222222222222222,
             "#7201a8"
            ],
            [
             0.3333333333333333,
             "#9c179e"
            ],
            [
             0.4444444444444444,
             "#bd3786"
            ],
            [
             0.5555555555555556,
             "#d8576b"
            ],
            [
             0.6666666666666666,
             "#ed7953"
            ],
            [
             0.7777777777777778,
             "#fb9f3a"
            ],
            [
             0.8888888888888888,
             "#fdca26"
            ],
            [
             1,
             "#f0f921"
            ]
           ]
          },
          "colorway": [
           "#636efa",
           "#EF553B",
           "#00cc96",
           "#ab63fa",
           "#FFA15A",
           "#19d3f3",
           "#FF6692",
           "#B6E880",
           "#FF97FF",
           "#FECB52"
          ],
          "font": {
           "color": "#2a3f5f"
          },
          "geo": {
           "bgcolor": "white",
           "lakecolor": "white",
           "landcolor": "#E5ECF6",
           "showlakes": true,
           "showland": true,
           "subunitcolor": "white"
          },
          "hoverlabel": {
           "align": "left"
          },
          "hovermode": "closest",
          "mapbox": {
           "style": "light"
          },
          "paper_bgcolor": "white",
          "plot_bgcolor": "#E5ECF6",
          "polar": {
           "angularaxis": {
            "gridcolor": "white",
            "linecolor": "white",
            "ticks": ""
           },
           "bgcolor": "#E5ECF6",
           "radialaxis": {
            "gridcolor": "white",
            "linecolor": "white",
            "ticks": ""
           }
          },
          "scene": {
           "xaxis": {
            "backgroundcolor": "#E5ECF6",
            "gridcolor": "white",
            "gridwidth": 2,
            "linecolor": "white",
            "showbackground": true,
            "ticks": "",
            "zerolinecolor": "white"
           },
           "yaxis": {
            "backgroundcolor": "#E5ECF6",
            "gridcolor": "white",
            "gridwidth": 2,
            "linecolor": "white",
            "showbackground": true,
            "ticks": "",
            "zerolinecolor": "white"
           },
           "zaxis": {
            "backgroundcolor": "#E5ECF6",
            "gridcolor": "white",
            "gridwidth": 2,
            "linecolor": "white",
            "showbackground": true,
            "ticks": "",
            "zerolinecolor": "white"
           }
          },
          "shapedefaults": {
           "line": {
            "color": "#2a3f5f"
           }
          },
          "ternary": {
           "aaxis": {
            "gridcolor": "white",
            "linecolor": "white",
            "ticks": ""
           },
           "baxis": {
            "gridcolor": "white",
            "linecolor": "white",
            "ticks": ""
           },
           "bgcolor": "#E5ECF6",
           "caxis": {
            "gridcolor": "white",
            "linecolor": "white",
            "ticks": ""
           }
          },
          "title": {
           "x": 0.05
          },
          "xaxis": {
           "automargin": true,
           "gridcolor": "white",
           "linecolor": "white",
           "ticks": "",
           "title": {
            "standoff": 15
           },
           "zerolinecolor": "white",
           "zerolinewidth": 2
          },
          "yaxis": {
           "automargin": true,
           "gridcolor": "white",
           "linecolor": "white",
           "ticks": "",
           "title": {
            "standoff": 15
           },
           "zerolinecolor": "white",
           "zerolinewidth": 2
          }
         }
        }
       }
      }
     },
     "metadata": {},
     "output_type": "display_data"
    }
   ],
   "source": [
    "px.scatter_3d(x=x_testdf.iloc[:,0],y=x_testdf.iloc[:,1],z=x_testdf.iloc[:,2], color= y_pred)"
   ]
  },
  {
   "cell_type": "code",
   "execution_count": 81,
   "metadata": {},
   "outputs": [
    {
     "name": "stdout",
     "output_type": "stream",
     "text": [
      "3\n",
      " Training QDT no : 1\n",
      "Epoch:  1 | Loss: 0.189903 |  accuracy: 0.754717 \n",
      "Epoch:  2 | Loss: 0.157017 |  accuracy: 0.754717 \n",
      "Epoch:  3 | Loss: 0.160996 |  accuracy: 0.792453 \n",
      "Epoch:  4 | Loss: 0.193219 |  accuracy: 0.754717 \n",
      "Epoch:  5 | Loss: 0.199281 |  accuracy: 0.735849 \n",
      "Epoch:  6 | Loss: 0.190182 |  accuracy: 0.716981 \n",
      "Epoch:  7 | Loss: 0.172568 |  accuracy: 0.773585 \n",
      "Epoch:  8 | Loss: 0.153652 |  accuracy: 0.792453 \n",
      "Epoch:  9 | Loss: 0.149747 |  accuracy: 0.754717 \n",
      "Epoch: 10 | Loss: 0.154985 |  accuracy: 0.735849 \n",
      " Training QDT no : 2\n",
      "Epoch:  1 | Loss: 0.214195 |  accuracy: 0.698113 \n",
      "Epoch:  2 | Loss: 0.187921 |  accuracy: 0.754717 \n",
      "Epoch:  3 | Loss: 0.187264 |  accuracy: 0.716981 \n",
      "Epoch:  4 | Loss: 0.199379 |  accuracy: 0.660377 \n",
      "Epoch:  5 | Loss: 0.208407 |  accuracy: 0.679245 \n",
      "Epoch:  6 | Loss: 0.223817 |  accuracy: 0.660377 \n",
      "Epoch:  7 | Loss: 0.258967 |  accuracy: 0.641509 \n",
      "Epoch:  8 | Loss: 0.254441 |  accuracy: 0.641509 \n",
      "Epoch:  9 | Loss: 0.224295 |  accuracy: 0.660377 \n",
      "Epoch: 10 | Loss: 0.204461 |  accuracy: 0.698113 \n",
      " Training QDT no : 3\n",
      "Epoch:  1 | Loss: 0.191418 |  accuracy: 0.679245 \n",
      "Epoch:  2 | Loss: 0.228532 |  accuracy: 0.698113 \n",
      "Epoch:  3 | Loss: 0.209546 |  accuracy: 0.735849 \n",
      "Epoch:  4 | Loss: 0.188465 |  accuracy: 0.716981 \n",
      "Epoch:  5 | Loss: 0.197777 |  accuracy: 0.679245 \n",
      "Epoch:  6 | Loss: 0.206561 |  accuracy: 0.698113 \n",
      "Epoch:  7 | Loss: 0.200843 |  accuracy: 0.716981 \n",
      "Epoch:  8 | Loss: 0.194350 |  accuracy: 0.735849 \n",
      "Epoch:  9 | Loss: 0.194431 |  accuracy: 0.735849 \n",
      "Epoch: 10 | Loss: 0.196584 |  accuracy: 0.754717 \n",
      "[1 0 1 1 1 2 2 0 0 0 0 0 1 0 0 2 0 0 2 1 0 0 0 2 1 1 2 1 1 0 0 1 0 1 2 0 1\n",
      " 0 0 0]\n",
      "Recall(TP/FN+TP ):0.6666666666666666\n",
      "Precsion(TP/FP+TP): 0.2857142857142857 \n",
      "F1 score function of presscion and recall:0.4 \n"
     ]
    },
    {
     "data": {
      "image/png": "[encoded data removed]",
      "text/plain": [
       "<Figure size 640x480 with 2 Axes>"
      ]
     },
     "metadata": {},
     "output_type": "display_data"
    }
   ],
   "source": [
    "qrf = QRF(X_train,y_train, no_QDT=3, sensetivity=0.5)\n",
    "\n",
    "qrf.train()\n",
    "y_pred,individual_y = qrf.predict(X_test, y_test)\n",
    "conMtx = confusion_matrix(y_test,y_pred)\n",
    "\n",
    "sns.heatmap(conMtx)\n",
    "f1 = f1_score(y_test,y_pred)\n",
    "recall = recall_score(y_test,y_pred)\n",
    "pre = precision_score(y_test,y_pred)\n",
    "\n",
    "print(f\"Recall(TP/FN+TP ):{recall}\")\n",
    "print(f\"Precsion(TP/FP+TP): {pre} \")\n",
    "print(f\"F1 score function of presscion and recall:{f1} \")"
   ]
  },
  {
   "cell_type": "code",
   "execution_count": 82,
   "metadata": {},
   "outputs": [
    {
     "data": {
      "application/vnd.plotly.v1+json": {
       "config": {
        "plotlyServerURL": "https://plot.ly"
       },
       "data": [
        {
         "hovertemplate": "x=%{x}<br>y=%{y}<br>z=%{z}<br>color=%{marker.color}<extra></extra>",
         "legendgroup": "",
         "marker": {
          "color": [
           0,
           0,
           0,
           0,
           0,
           1,
           1,
           0,
           0,
           0,
           0,
           0,
           0,
           0,
           0,
           1,
           0,
           0,
           1,
           0,
           0,
           0,
           0,
           1,
           0,
           0,
           1,
           0,
           0,
           0,
           0,
           0,
           0,
           0,
           1,
           0,
           0,
           0,
           0,
           0
          ],
          "coloraxis": "coloraxis",
          "symbol": "circle"
         },
         "mode": "markers",
         "name": "",
         "scene": "scene",
         "showlegend": false,
         "type": "scatter3d",
         "x": [
          -4.743768548845113,
          -1.3228412546559067,
          2.785082844307431,
          -6.513378359882725,
          6.808023923430163,
          2.5675585729566666,
          -0.41164746084191556,
          -0.0685184859996972,
          1.7200588150275906,
          4.6947920415390625,
          3.1678430636869206,
          5.871528141018577,
          5.73005247944524,
          -5.198110782761133,
          1.663237152763599,
          -3.0697495974709557,
          -5.733694407063032,
          -4.90986453890313,
          3.5195487436562147,
          -6.290821594793524,
          -5.534047435694155,
          -4.458784876689663,
          -6.762018665424565,
          2.7783960917422417,
          0.7682702619874502,
          -3.4768342821271823,
          -7.218574194736847,
          6.071706923497944,
          2.8826486795098583,
          1.636910469877763,
          9.336975503474939,
          5.868205947770307,
          -3.2956457801035857,
          -1.4378404841376105,
          2.02890069754237,
          -5.134546532836779,
          4.059525448978562,
          -6.104528948518106,
          4.26081328719457,
          -7.00633842005011
         ],
         "y": [
          1.220099268603767,
          6.493236225345611,
          2.916499800675734,
          1.4268279089560425,
          3.0941556580030376,
          -5.5579490502160445,
          -2.1521735125645605,
          0.31921202167172236,
          1.2412598389044711,
          3.3815234902220936,
          -4.343195052574395,
          -0.35957894828652126,
          3.1819700719151442,
          2.5407104341447404,
          -5.939448087475954,
          -1.7343284152359526,
          3.215043901529783,
          1.2920882273547099,
          -4.973525723251861,
          1.029149531342737,
          3.9168958004412624,
          1.554489621372172,
          -0.18823417349166618,
          2.227493574235297,
          -3.4789556358102987,
          3.6472264701923787,
          -1.3083113364854433,
          2.599460417220851,
          2.763371179984298,
          0.3094337528788664,
          5.616835731012946,
          0.0240287741630624,
          2.8872914722857588,
          5.985702935490096,
          -5.61302884623932,
          0.9363222043102668,
          4.2850817293990255,
          0.1643546215799431,
          -4.48356245755892,
          -2.4927162455767062
         ],
         "z": [
          5.353849031794919,
          -4.493426536196455,
          2.189130238710818,
          -1.894233979015354,
          -0.3398516781187303,
          -2.2739398330713287,
          0.33058969021366114,
          2.5492404962926076,
          1.826359408772072,
          0.29216248140921125,
          -1.1907979884221043,
          0.5306406223866859,
          -0.09734601715746312,
          -0.9078776579160694,
          -1.4376111004356689,
          2.1068004798025166,
          -2.928482877192787,
          2.079149561550557,
          -2.390880452283247,
          -3.145289655563207,
          -3.4688490501426528,
          1.57228607628542,
          -1.7103641502636973,
          1.7041150786260042,
          1.7119294580019493,
          -1.3256139810494314,
          -0.3579624557632136,
          0.13040818192254167,
          2.9297417097899716,
          1.8197772544550268,
          -0.19554942229701586,
          -2.091691535674004,
          -1.4847108789319297,
          0.16687202203162194,
          -1.867603329158955,
          0.8790839847134494,
          2.2773925717571015,
          -0.3623088973174482,
          -1.1498092041168948,
          0.8825569939962307
         ]
        }
       ],
       "layout": {
        "coloraxis": {
         "colorbar": {
          "title": {
           "text": "color"
          }
         },
         "colorscale": [
          [
           0,
           "#0d0887"
          ],
          [
           0.1111111111111111,
           "#46039f"
          ],
          [
           0.2222222222222222,
           "#7201a8"
          ],
          [
           0.3333333333333333,
           "#9c179e"
          ],
          [
           0.4444444444444444,
           "#bd3786"
          ],
          [
           0.5555555555555556,
           "#d8576b"
          ],
          [
           0.6666666666666666,
           "#ed7953"
          ],
          [
           0.7777777777777778,
           "#fb9f3a"
          ],
          [
           0.8888888888888888,
           "#fdca26"
          ],
          [
           1,
           "#f0f921"
          ]
         ]
        },
        "legend": {
         "tracegroupgap": 0
        },
        "margin": {
         "t": 60
        },
        "scene": {
         "domain": {
          "x": [
           0,
           1
          ],
          "y": [
           0,
           1
          ]
         },
         "xaxis": {
          "title": {
           "text": "x"
          }
         },
         "yaxis": {
          "title": {
           "text": "y"
          }
         },
         "zaxis": {
          "title": {
           "text": "z"
          }
         }
        },
        "template": {
         "data": {
          "bar": [
           {
            "error_x": {
             "color": "#2a3f5f"
            },
            "error_y": {
             "color": "#2a3f5f"
            },
            "marker": {
             "line": {
              "color": "#E5ECF6",
              "width": 0.5
             },
             "pattern": {
              "fillmode": "overlay",
              "size": 10,
              "solidity": 0.2
             }
            },
            "type": "bar"
           }
          ],
          "barpolar": [
           {
            "marker": {
             "line": {
              "color": "#E5ECF6",
              "width": 0.5
             },
             "pattern": {
              "fillmode": "overlay",
              "size": 10,
              "solidity": 0.2
             }
            },
            "type": "barpolar"
           }
          ],
          "carpet": [
           {
            "aaxis": {
             "endlinecolor": "#2a3f5f",
             "gridcolor": "white",
             "linecolor": "white",
             "minorgridcolor": "white",
             "startlinecolor": "#2a3f5f"
            },
            "baxis": {
             "endlinecolor": "#2a3f5f",
             "gridcolor": "white",
             "linecolor": "white",
             "minorgridcolor": "white",
             "startlinecolor": "#2a3f5f"
            },
            "type": "carpet"
           }
          ],
          "choropleth": [
           {
            "colorbar": {
             "outlinewidth": 0,
             "ticks": ""
            },
            "type": "choropleth"
           }
          ],
          "contour": [
           {
            "colorbar": {
             "outlinewidth": 0,
             "ticks": ""
            },
            "colorscale": [
             [
              0,
              "#0d0887"
             ],
             [
              0.1111111111111111,
              "#46039f"
             ],
             [
              0.2222222222222222,
              "#7201a8"
             ],
             [
              0.3333333333333333,
              "#9c179e"
             ],
             [
              0.4444444444444444,
              "#bd3786"
             ],
             [
              0.5555555555555556,
              "#d8576b"
             ],
             [
              0.6666666666666666,
              "#ed7953"
             ],
             [
              0.7777777777777778,
              "#fb9f3a"
             ],
             [
              0.8888888888888888,
              "#fdca26"
             ],
             [
              1,
              "#f0f921"
             ]
            ],
            "type": "contour"
           }
          ],
          "contourcarpet": [
           {
            "colorbar": {
             "outlinewidth": 0,
             "ticks": ""
            },
            "type": "contourcarpet"
           }
          ],
          "heatmap": [
           {
            "colorbar": {
             "outlinewidth": 0,
             "ticks": ""
            },
            "colorscale": [
             [
              0,
              "#0d0887"
             ],
             [
              0.1111111111111111,
              "#46039f"
             ],
             [
              0.2222222222222222,
              "#7201a8"
             ],
             [
              0.3333333333333333,
              "#9c179e"
             ],
             [
              0.4444444444444444,
              "#bd3786"
             ],
             [
              0.5555555555555556,
              "#d8576b"
             ],
             [
              0.6666666666666666,
              "#ed7953"
             ],
             [
              0.7777777777777778,
              "#fb9f3a"
             ],
             [
              0.8888888888888888,
              "#fdca26"
             ],
             [
              1,
              "#f0f921"
             ]
            ],
            "type": "heatmap"
           }
          ],
          "heatmapgl": [
           {
            "colorbar": {
             "outlinewidth": 0,
             "ticks": ""
            },
            "colorscale": [
             [
              0,
              "#0d0887"
             ],
             [
              0.1111111111111111,
              "#46039f"
             ],
             [
              0.2222222222222222,
              "#7201a8"
             ],
             [
              0.3333333333333333,
              "#9c179e"
             ],
             [
              0.4444444444444444,
              "#bd3786"
             ],
             [
              0.5555555555555556,
              "#d8576b"
             ],
             [
              0.6666666666666666,
              "#ed7953"
             ],
             [
              0.7777777777777778,
              "#fb9f3a"
             ],
             [
              0.8888888888888888,
              "#fdca26"
             ],
             [
              1,
              "#f0f921"
             ]
            ],
            "type": "heatmapgl"
           }
          ],
          "histogram": [
           {
            "marker": {
             "pattern": {
              "fillmode": "overlay",
              "size": 10,
              "solidity": 0.2
             }
            },
            "type": "histogram"
           }
          ],
          "histogram2d": [
           {
            "colorbar": {
             "outlinewidth": 0,
             "ticks": ""
            },
            "colorscale": [
             [
              0,
              "#0d0887"
             ],
             [
              0.1111111111111111,
              "#46039f"
             ],
             [
              0.2222222222222222,
              "#7201a8"
             ],
             [
              0.3333333333333333,
              "#9c179e"
             ],
             [
              0.4444444444444444,
              "#bd3786"
             ],
             [
              0.5555555555555556,
              "#d8576b"
             ],
             [
              0.6666666666666666,
              "#ed7953"
             ],
             [
              0.7777777777777778,
              "#fb9f3a"
             ],
             [
              0.8888888888888888,
              "#fdca26"
             ],
             [
              1,
              "#f0f921"
             ]
            ],
            "type": "histogram2d"
           }
          ],
          "histogram2dcontour": [
           {
            "colorbar": {
             "outlinewidth": 0,
             "ticks": ""
            },
            "colorscale": [
             [
              0,
              "#0d0887"
             ],
             [
              0.1111111111111111,
              "#46039f"
             ],
             [
              0.2222222222222222,
              "#7201a8"
             ],
             [
              0.3333333333333333,
              "#9c179e"
             ],
             [
              0.4444444444444444,
              "#bd3786"
             ],
             [
              0.5555555555555556,
              "#d8576b"
             ],
             [
              0.6666666666666666,
              "#ed7953"
             ],
             [
              0.7777777777777778,
              "#fb9f3a"
             ],
             [
              0.8888888888888888,
              "#fdca26"
             ],
             [
              1,
              "#f0f921"
             ]
            ],
            "type": "histogram2dcontour"
           }
          ],
          "mesh3d": [
           {
            "colorbar": {
             "outlinewidth": 0,
             "ticks": ""
            },
            "type": "mesh3d"
           }
          ],
          "parcoords": [
           {
            "line": {
             "colorbar": {
              "outlinewidth": 0,
              "ticks": ""
             }
            },
            "type": "parcoords"
           }
          ],
          "pie": [
           {
            "automargin": true,
            "type": "pie"
           }
          ],
          "scatter": [
           {
            "fillpattern": {
             "fillmode": "overlay",
             "size": 10,
             "solidity": 0.2
            },
            "type": "scatter"
           }
          ],
          "scatter3d": [
           {
            "line": {
             "colorbar": {
              "outlinewidth": 0,
              "ticks": ""
             }
            },
            "marker": {
             "colorbar": {
              "outlinewidth": 0,
              "ticks": ""
             }
            },
            "type": "scatter3d"
           }
          ],
          "scattercarpet": [
           {
            "marker": {
             "colorbar": {
              "outlinewidth": 0,
              "ticks": ""
             }
            },
            "type": "scattercarpet"
           }
          ],
          "scattergeo": [
           {
            "marker": {
             "colorbar": {
              "outlinewidth": 0,
              "ticks": ""
             }
            },
            "type": "scattergeo"
           }
          ],
          "scattergl": [
           {
            "marker": {
             "colorbar": {
              "outlinewidth": 0,
              "ticks": ""
             }
            },
            "type": "scattergl"
           }
          ],
          "scattermapbox": [
           {
            "marker": {
             "colorbar": {
              "outlinewidth": 0,
              "ticks": ""
             }
            },
            "type": "scattermapbox"
           }
          ],
          "scatterpolar": [
           {
            "marker": {
             "colorbar": {
              "outlinewidth": 0,
              "ticks": ""
             }
            },
            "type": "scatterpolar"
           }
          ],
          "scatterpolargl": [
           {
            "marker": {
             "colorbar": {
              "outlinewidth": 0,
              "ticks": ""
             }
            },
            "type": "scatterpolargl"
           }
          ],
          "scatterternary": [
           {
            "marker": {
             "colorbar": {
              "outlinewidth": 0,
              "ticks": ""
             }
            },
            "type": "scatterternary"
           }
          ],
          "surface": [
           {
            "colorbar": {
             "outlinewidth": 0,
             "ticks": ""
            },
            "colorscale": [
             [
              0,
              "#0d0887"
             ],
             [
              0.1111111111111111,
              "#46039f"
             ],
             [
              0.2222222222222222,
              "#7201a8"
             ],
             [
              0.3333333333333333,
              "#9c179e"
             ],
             [
              0.4444444444444444,
              "#bd3786"
             ],
             [
              0.5555555555555556,
              "#d8576b"
             ],
             [
              0.6666666666666666,
              "#ed7953"
             ],
             [
              0.7777777777777778,
              "#fb9f3a"
             ],
             [
              0.8888888888888888,
              "#fdca26"
             ],
             [
              1,
              "#f0f921"
             ]
            ],
            "type": "surface"
           }
          ],
          "table": [
           {
            "cells": {
             "fill": {
              "color": "#EBF0F8"
             },
             "line": {
              "color": "white"
             }
            },
            "header": {
             "fill": {
              "color": "#C8D4E3"
             },
             "line": {
              "color": "white"
             }
            },
            "type": "table"
           }
          ]
         },
         "layout": {
          "annotationdefaults": {
           "arrowcolor": "#2a3f5f",
           "arrowhead": 0,
           "arrowwidth": 1
          },
          "autotypenumbers": "strict",
          "coloraxis": {
           "colorbar": {
            "outlinewidth": 0,
            "ticks": ""
           }
          },
          "colorscale": {
           "diverging": [
            [
             0,
             "#8e0152"
            ],
            [
             0.1,
             "#c51b7d"
            ],
            [
             0.2,
             "#de77ae"
            ],
            [
             0.3,
             "#f1b6da"
            ],
            [
             0.4,
             "#fde0ef"
            ],
            [
             0.5,
             "#f7f7f7"
            ],
            [
             0.6,
             "#e6f5d0"
            ],
            [
             0.7,
             "#b8e186"
            ],
            [
             0.8,
             "#7fbc41"
            ],
            [
             0.9,
             "#4d9221"
            ],
            [
             1,
             "#276419"
            ]
           ],
           "sequential": [
            [
             0,
             "#0d0887"
            ],
            [
             0.1111111111111111,
             "#46039f"
            ],
            [
             0.2222222222222222,
             "#7201a8"
            ],
            [
             0.3333333333333333,
             "#9c179e"
            ],
            [
             0.4444444444444444,
             "#bd3786"
            ],
            [
             0.5555555555555556,
             "#d8576b"
            ],
            [
             0.6666666666666666,
             "#ed7953"
            ],
            [
             0.7777777777777778,
             "#fb9f3a"
            ],
            [
             0.8888888888888888,
             "#fdca26"
            ],
            [
             1,
             "#f0f921"
            ]
           ],
           "sequentialminus": [
            [
             0,
             "#0d0887"
            ],
            [
             0.1111111111111111,
             "#46039f"
            ],
            [
             0.2222222222222222,
             "#7201a8"
            ],
            [
             0.3333333333333333,
             "#9c179e"
            ],
            [
             0.4444444444444444,
             "#bd3786"
            ],
            [
             0.5555555555555556,
             "#d8576b"
            ],
            [
             0.6666666666666666,
             "#ed7953"
            ],
            [
             0.7777777777777778,
             "#fb9f3a"
            ],
            [
             0.8888888888888888,
             "#fdca26"
            ],
            [
             1,
             "#f0f921"
            ]
           ]
          },
          "colorway": [
           "#636efa",
           "#EF553B",
           "#00cc96",
           "#ab63fa",
           "#FFA15A",
           "#19d3f3",
           "#FF6692",
           "#B6E880",
           "#FF97FF",
           "#FECB52"
          ],
          "font": {
           "color": "#2a3f5f"
          },
          "geo": {
           "bgcolor": "white",
           "lakecolor": "white",
           "landcolor": "#E5ECF6",
           "showlakes": true,
           "showland": true,
           "subunitcolor": "white"
          },
          "hoverlabel": {
           "align": "left"
          },
          "hovermode": "closest",
          "mapbox": {
           "style": "light"
          },
          "paper_bgcolor": "white",
          "plot_bgcolor": "#E5ECF6",
          "polar": {
           "angularaxis": {
            "gridcolor": "white",
            "linecolor": "white",
            "ticks": ""
           },
           "bgcolor": "#E5ECF6",
           "radialaxis": {
            "gridcolor": "white",
            "linecolor": "white",
            "ticks": ""
           }
          },
          "scene": {
           "xaxis": {
            "backgroundcolor": "#E5ECF6",
            "gridcolor": "white",
            "gridwidth": 2,
            "linecolor": "white",
            "showbackground": true,
            "ticks": "",
            "zerolinecolor": "white"
           },
           "yaxis": {
            "backgroundcolor": "#E5ECF6",
            "gridcolor": "white",
            "gridwidth": 2,
            "linecolor": "white",
            "showbackground": true,
            "ticks": "",
            "zerolinecolor": "white"
           },
           "zaxis": {
            "backgroundcolor": "#E5ECF6",
            "gridcolor": "white",
            "gridwidth": 2,
            "linecolor": "white",
            "showbackground": true,
            "ticks": "",
            "zerolinecolor": "white"
           }
          },
          "shapedefaults": {
           "line": {
            "color": "#2a3f5f"
           }
          },
          "ternary": {
           "aaxis": {
            "gridcolor": "white",
            "linecolor": "white",
            "ticks": ""
           },
           "baxis": {
            "gridcolor": "white",
            "linecolor": "white",
            "ticks": ""
           },
           "bgcolor": "#E5ECF6",
           "caxis": {
            "gridcolor": "white",
            "linecolor": "white",
            "ticks": ""
           }
          },
          "title": {
           "x": 0.05
          },
          "xaxis": {
           "automargin": true,
           "gridcolor": "white",
           "linecolor": "white",
           "ticks": "",
           "title": {
            "standoff": 15
           },
           "zerolinecolor": "white",
           "zerolinewidth": 2
          },
          "yaxis": {
           "automargin": true,
           "gridcolor": "white",
           "linecolor": "white",
           "ticks": "",
           "title": {
            "standoff": 15
           },
           "zerolinecolor": "white",
           "zerolinewidth": 2
          }
         }
        }
       }
      }
     },
     "metadata": {},
     "output_type": "display_data"
    }
   ],
   "source": [
    "px.scatter_3d(x=x_testdf.iloc[:,0],y=x_testdf.iloc[:,1],z=x_testdf.iloc[:,2], color= y_pred)"
   ]
  },
  {
   "cell_type": "code",
   "execution_count": 107,
   "metadata": {},
   "outputs": [
    {
     "name": "stdout",
     "output_type": "stream",
     "text": [
      "5\n",
      " Training QDT no : 1\n",
      "Epoch:  1 | Loss: 0.196609 |  accuracy: 0.728125 \n",
      "Epoch:  2 | Loss: 0.190496 |  accuracy: 0.728125 \n",
      "Epoch:  3 | Loss: 0.175672 |  accuracy: 0.768750 \n",
      "Epoch:  4 | Loss: 0.178171 |  accuracy: 0.784375 \n",
      "Epoch:  5 | Loss: 0.184046 |  accuracy: 0.750000 \n",
      "Epoch:  6 | Loss: 0.172952 |  accuracy: 0.746875 \n",
      "Epoch:  7 | Loss: 0.172762 |  accuracy: 0.756250 \n",
      "Epoch:  8 | Loss: 0.160370 |  accuracy: 0.753125 \n",
      "Epoch:  9 | Loss: 0.162369 |  accuracy: 0.771875 \n",
      "Epoch: 10 | Loss: 0.159957 |  accuracy: 0.762500 \n",
      " Training QDT no : 2\n",
      "Epoch:  1 | Loss: 0.211964 |  accuracy: 0.690625 \n",
      "Epoch:  2 | Loss: 0.212838 |  accuracy: 0.681250 \n",
      "Epoch:  3 | Loss: 0.215673 |  accuracy: 0.721875 \n",
      "Epoch:  4 | Loss: 0.200100 |  accuracy: 0.728125 \n",
      "Epoch:  5 | Loss: 0.196982 |  accuracy: 0.715625 \n",
      "Epoch:  6 | Loss: 0.185199 |  accuracy: 0.728125 \n",
      "Epoch:  7 | Loss: 0.182464 |  accuracy: 0.743750 \n",
      "Epoch:  8 | Loss: 0.190897 |  accuracy: 0.731250 \n",
      "Epoch:  9 | Loss: 0.185880 |  accuracy: 0.731250 \n",
      "Epoch: 10 | Loss: 0.190811 |  accuracy: 0.734375 \n",
      " Training QDT no : 3\n",
      "Epoch:  1 | Loss: 0.168097 |  accuracy: 0.750000 \n",
      "Epoch:  2 | Loss: 0.167621 |  accuracy: 0.753125 \n",
      "Epoch:  3 | Loss: 0.162311 |  accuracy: 0.784375 \n",
      "Epoch:  4 | Loss: 0.166761 |  accuracy: 0.753125 \n",
      "Epoch:  5 | Loss: 0.164438 |  accuracy: 0.768750 \n",
      "Epoch:  6 | Loss: 0.163016 |  accuracy: 0.771875 \n",
      "Epoch:  7 | Loss: 0.166672 |  accuracy: 0.746875 \n",
      "Epoch:  8 | Loss: 0.160224 |  accuracy: 0.750000 \n",
      "Epoch:  9 | Loss: 0.160983 |  accuracy: 0.778125 \n",
      "Epoch: 10 | Loss: 0.162753 |  accuracy: 0.771875 \n",
      " Training QDT no : 4\n",
      "Epoch:  1 | Loss: 0.226132 |  accuracy: 0.684375 \n",
      "Epoch:  2 | Loss: 0.215167 |  accuracy: 0.712500 \n",
      "Epoch:  3 | Loss: 0.205089 |  accuracy: 0.703125 \n",
      "Epoch:  4 | Loss: 0.206917 |  accuracy: 0.734375 \n",
      "Epoch:  5 | Loss: 0.208496 |  accuracy: 0.731250 \n",
      "Epoch:  6 | Loss: 0.203976 |  accuracy: 0.725000 \n",
      "Epoch:  7 | Loss: 0.204249 |  accuracy: 0.721875 \n",
      "Epoch:  8 | Loss: 0.201145 |  accuracy: 0.715625 \n",
      "Epoch:  9 | Loss: 0.204714 |  accuracy: 0.715625 \n",
      "Epoch: 10 | Loss: 0.200869 |  accuracy: 0.725000 \n",
      " Training QDT no : 5\n",
      "Epoch:  1 | Loss: 0.204501 |  accuracy: 0.737500 \n",
      "Epoch:  2 | Loss: 0.203719 |  accuracy: 0.715625 \n",
      "Epoch:  3 | Loss: 0.183660 |  accuracy: 0.743750 \n",
      "Epoch:  4 | Loss: 0.184792 |  accuracy: 0.750000 \n",
      "Epoch:  5 | Loss: 0.182933 |  accuracy: 0.746875 \n",
      "Epoch:  6 | Loss: 0.181293 |  accuracy: 0.750000 \n",
      "Epoch:  7 | Loss: 0.182335 |  accuracy: 0.750000 \n",
      "Epoch:  8 | Loss: 0.180529 |  accuracy: 0.750000 \n",
      "Epoch:  9 | Loss: 0.183723 |  accuracy: 0.743750 \n",
      "Epoch: 10 | Loss: 0.181030 |  accuracy: 0.756250 \n",
      "[0 0 3 0 2 3 0 1 0 0 0 1 0 0 0 0 2 2 0 3 0 0 2 0 0 0 0 0 0 0 2 0 0 0 1 3 0\n",
      " 1 0 1 2 0 0 1 0 0 0 1 2 1 3 3 0 2 3 2 0 1 2 3 0 2 0 3 2 2 3 0 1 0 2 1 2 2\n",
      " 2 0 2 3 1 2 3 0 0 1 2 2 2 0 0 0 0 2 1 3 2 2 1 2 3 0 1 3 0 0 1 0 2 1 1 0 2\n",
      " 0 0 2 1 0 2 2 0 1 3 1 0 0 2 0 0 2 0 0 0 0 0 0 1 1 1 2 2 1 2 1 2 0 0 2 2 1\n",
      " 0 0 0 0 0 0 2 2 1 0 1 3 0 3 0 0 0 2 0 2 0 0 0 1 0 2 0 0 0 0 2 0 2 0 2 0 0\n",
      " 1 2 1 0 0 1 0 1 1 0 2 0 0 0 0 1 1 3 0 1 0 3 0 0 2 2 1 0 1 0 0 1 0 3 0 0 0\n",
      " 3 2 0 0 0 0 2 2 1 1 1 2 0 2 1 1 2 2 3 2 2 0 2 2 2 0 0 3 1 0 0 3 1 0 2 0 2\n",
      " 0 1 0 2 0 1 0 3 2 0 2 1 0 3 1 0 0 1 1 2 2 0 0 1 0 2 3 0 1 2 1 3 2 0 3 1 1\n",
      " 2 1 1 2 0 1 0 0 3 2 0 3 1 0 0 0 1 2 1 0 0 0 3 0 3 2 0 0 0 2 3 2 1 2 0 3 0\n",
      " 2 0 0 0 2 2 0 2 0 2 0 0 0 2 0 0 3 1 0 0 0 0 2 0 1 0 1 0 0 1 1 2 1 2 3 0 0\n",
      " 0 0 2 2 0 1 3 2 0 2 0 0 1 2 1 2 1 0 0 0 0 1 0 0 1 0 0 0 1 0]\n",
      "Recall(TP/FN+TP ):0.1\n",
      "Precsion(TP/FP+TP): 0.10256410256410256 \n",
      "F1 score function of presscion and recall:0.10126582278481013 \n"
     ]
    },
    {
     "data": {
      "image/png": "[encoded data removed]",
      "text/plain": [
       "<Figure size 640x480 with 2 Axes>"
      ]
     },
     "metadata": {},
     "output_type": "display_data"
    }
   ],
   "source": [
    "qrf = QRF(X_train,y_train, no_QDT=5, sensetivity= 0.5 ) \n",
    "\n",
    "qrf.train()\n",
    "y_pred,individual_y = qrf.predict(X_test, y_test)\n",
    "conMtx = confusion_matrix(y_test,y_pred)\n",
    "\n",
    "sns.heatmap(conMtx)\n",
    "f1 = f1_score(y_test,y_pred)\n",
    "recall = recall_score(y_test,y_pred)\n",
    "pre = precision_score(y_test,y_pred)\n",
    "\n",
    "print(f\"Recall(TP/FN+TP ):{recall}\")\n",
    "print(f\"Precsion(TP/FP+TP): {pre} \")\n",
    "print(f\"F1 score function of presscion and recall:{f1} \")"
   ]
  },
  {
   "cell_type": "code",
   "execution_count": 105,
   "metadata": {},
   "outputs": [
    {
     "data": {
      "application/vnd.plotly.v1+json": {
       "config": {
        "plotlyServerURL": "https://plot.ly"
       },
       "data": [
        {
         "hovertemplate": "color=0<br>x=%{x}<br>y=%{y}<br>z=%{z}<extra></extra>",
         "legendgroup": "0",
         "marker": {
          "color": "#636efa",
          "symbol": "circle"
         },
         "mode": "markers",
         "name": "0",
         "scene": "scene",
         "showlegend": true,
         "type": "scatter3d",
         "x": [
          7.203924070266284,
          -2.5609447461408976,
          5.639308384843588,
          3.0544859899600856,
          -6.098985707833628,
          -2.3728526512489396,
          -0.276013764174703,
          4.385682289208857,
          -6.032717547532622,
          0.7448612105411531,
          4.5161449985684525,
          1.5156827075875372,
          7.121836399761821,
          -5.330295293312268,
          4.355775422523092,
          2.353249012265955,
          7.769055523595671,
          5.943886762231404,
          -1.2998279762573521,
          -5.9366302822771795,
          -1.6126582808075987,
          7.80816284260002,
          -7.196192724270367,
          -5.319657468638225,
          4.073168104883865,
          2.6707109199446957,
          -6.724122530596802,
          -3.1254244983879524,
          -3.880987825249434,
          -4.08989170254775,
          -1.470767454505767,
          7.1720875795570445,
          2.837311144706925,
          9.705070692541158,
          -2.83926421427601,
          4.375062679302176,
          -6.987198446748858,
          3.2669087997618584,
          -6.055874924226569,
          6.577334463384931,
          -3.524813619415456,
          4.86344367116555,
          -6.247306593066149,
          -4.487311761975919,
          -5.336656691022901,
          -5.032172186633748,
          -6.121763578761868,
          -1.1775877917834565,
          6.9757691392272845,
          -6.099147973242507,
          -6.269976242908781,
          -4.656085087574266,
          0.8173781028402018,
          8.886696257053497,
          -1.4938298320060177,
          -1.6551210471688873,
          -4.642859328516961,
          -4.6697111102439814,
          7.764996842920759,
          3.8009043979655925,
          -0.2187176273894369,
          -1.6487860556465304,
          8.383932149504222,
          5.795469518928827,
          6.739150719031043,
          0.3440537411496029,
          8.517714878400204,
          -5.79362447969959,
          1.5616338560114977,
          5.7485234377568615,
          -4.4468073697316335,
          -2.702803648786404,
          4.392108764151224,
          5.133394290246857,
          6.224329557659949,
          0.6090380133642975,
          6.613587155143442,
          7.1695644805505125,
          7.546902478630216,
          5.200393595332108,
          7.574941077120244,
          3.6814486537555764,
          -4.94738977391632,
          2.5865078657343648,
          -5.881483748151436,
          0.3727887737223328,
          -3.7773644484442683,
          5.094796420317379,
          5.8937199714402,
          1.675795660004064,
          1.6293567876237738,
          -2.432505695743313,
          2.7790489279709427,
          -6.477043555066059,
          1.4193362485089074,
          -2.7694124453410245,
          -0.834254514071135,
          -4.640925724571085,
          3.241439501015477,
          4.101154296851597,
          -5.975654603647307,
          2.260382741385919,
          -6.025802323446821,
          -3.0819980120349615,
          8.88674446840755,
          -6.643030523200058,
          -5.892320454507683,
          -6.787005820462629,
          4.5748283248494115,
          0.06822322532002392,
          -6.545947745404773,
          0.4416615541327203,
          7.540576384912051,
          5.71433411253985,
          5.344697321766783,
          3.484845174827814,
          -6.3397561813403795,
          5.1051716505466445,
          6.085168341603478,
          -4.345743558096068,
          -6.4250362524059055,
          -3.1295097196674395,
          -0.8944897113315989,
          -6.3627176904480125,
          0.8447920364857265,
          0.04525411342577502,
          3.93685908810881,
          -6.232676623702319,
          8.306175953981654,
          6.717014185570476,
          8.229866641619221,
          0.48642241864956837,
          6.15601356148429,
          -6.255283594422233,
          3.7952120420659763,
          4.820785084096091,
          -3.588675907039285,
          2.0849489865816255,
          4.370174427372227,
          6.141471412061204,
          2.6685308561598906,
          5.415065148315906,
          -6.088217133605396,
          8.887344379404631,
          -5.488356028620006,
          6.872019061082452,
          -6.0300238010098495,
          4.38858187162388,
          5.157018595877629,
          -3.0859958113557218,
          5.744144748616372,
          -0.47907389325850575,
          -5.883377228413314,
          6.268058926427664,
          7.065120772154154,
          -3.5420796952256555,
          -5.6884607022100635,
          -5.6187081653041036,
          -4.366281671839374,
          -6.8854255202155805,
          -6.705996829617046,
          6.683736830356249,
          -6.364168415598526,
          5.333876032524296,
          -0.4317475635601301,
          -1.5282644762174407,
          4.183653303759165,
          -0.6798593299135748,
          0.5363492039893308,
          5.012396019136997,
          6.8763503677487705,
          1.3629366975981587,
          6.635513381108584,
          0.15656082919837191,
          -1.659039570383292,
          4.75577679121959,
          6.7812934440753,
          6.077215533559585,
          7.279027490967427,
          1.2961093465449791,
          -2.8587026518427208,
          -1.2119767296952002,
          3.145864891794663,
          4.701438810132844,
          0.16612849006252195,
          2.6618391320933474,
          -5.844616164111117,
          4.995004102340721,
          5.8446142135690735,
          2.7277011732409657,
          2.197627241663937,
          -5.297504383171283,
          3.1326766272942503,
          3.1861470897918656,
          0.1680968875129408,
          3.4997533975925186,
          -4.413635881774421,
          -4.096338537638226,
          4.479207161278834,
          -5.768143145852306,
          -4.69748397390476,
          5.222637960953292,
          -0.5532733352544754,
          -4.418246415171173,
          1.3128333906066194,
          8.307183696701642,
          -5.825120341754317,
          -4.322035218446206,
          -3.365817223413158,
          1.0180489386561267,
          5.527372782869725,
          0.35977681201221773,
          1.521382670224573,
          4.239620914406348,
          1.984331168430736,
          0.15948571970678094,
          10.201392725490104,
          -6.890590542506385,
          -4.943307346467625,
          7.535949399655877,
          -6.177098056930119,
          -0.6743986202514589,
          -0.504440464055116,
          3.4945233763724004,
          5.975160808232789,
          -0.41757488129431886,
          0.4170172391111681,
          -7.2063781436452645,
          0.9873100637570819,
          -0.8075112379743468,
          6.635522613303778,
          5.282823704127352,
          -0.6983452257652862,
          4.433090704320131,
          -5.764607007391443,
          4.314949101813725,
          -6.068227660536056,
          0.24747578778715068,
          -4.687371016410542,
          -0.4413667176214729,
          1.3756031941423696,
          -6.178805408339111,
          -3.542457482170357,
          1.3417642461867534,
          -6.316204278487742,
          -7.412100896535343,
          -0.4565038315075917,
          -3.2095417660218994,
          -6.960542010758957,
          2.7282129981399956,
          -2.5994594091625154,
          -6.238159254000434,
          5.88513792017077,
          4.270500201230068,
          -3.1692547819590184,
          -6.111738712495953,
          7.032184262270077,
          -6.688209623710024,
          7.035434004360644,
          0.23819062401734056,
          -2.0364860700614176,
          -2.613374226723188,
          -2.400892792189283,
          -3.521060410109176,
          3.7816090863378116,
          -4.259500003005203,
          4.251833968211096,
          -3.9638066389196753,
          -1.7440637438047621,
          -4.244617386098421,
          -4.316805697698897,
          -2.2285325144100088,
          5.201922916214635,
          -3.0556125095736815,
          -6.802073002572175,
          -5.508132246334052,
          5.4798644858760115,
          4.190210706964875,
          -3.3911358016362727,
          4.691391148855847,
          3.9328109333380232,
          5.743946429006119,
          -1.2444005894670913,
          4.447893336171812,
          -4.8607692848517265,
          -0.29314544788917235,
          0.7002592080888019,
          -2.067001604638436,
          3.3480361611450853,
          8.041824140033576,
          2.2118174642955872,
          -6.344176412630573,
          -6.6371495842360675,
          1.4684567964379465,
          4.168659633560246,
          2.1950827078478694,
          -7.514904099104621,
          -1.8420922051365003,
          -1.6886746294946204,
          -1.2537298785541302,
          -4.520800610922293,
          8.16540122398699,
          -6.5222911447090555,
          -1.413456919955067,
          -1.150642693731879,
          2.864560686439549,
          -5.76385312269803,
          0.15433257377695705,
          -5.883265895552542,
          5.465407220299672,
          -1.9516880780696026,
          -3.3574515334047694,
          6.733182813355211,
          -5.195204235685138,
          1.3312046067711163,
          3.486050214697071,
          -0.499242787153758,
          0.7029713690542115,
          3.648234123108081,
          2.907356633850534,
          -5.928646274337714,
          8.141918248515289,
          -7.109822383300192,
          0.9208287722058666,
          -2.5389487207371255,
          -1.4170910008823925,
          -5.948200190747999,
          1.4203183519303018,
          -0.24047667610517548,
          0.7856483877506869,
          5.7513858739177826,
          -6.282241864782735,
          8.182036031584357,
          7.3002784634171105,
          -4.233757973718666,
          7.376431330955585,
          -5.667581721233384,
          3.0343771515629103,
          6.260397896085341,
          -7.174841382809283,
          -1.9050023016993276,
          6.111164732137671,
          -3.4226591749549815,
          7.570939571118263,
          6.580656004263795,
          -2.092278193504022,
          4.646631057232095,
          -5.054907745408652,
          -6.808745987754767,
          -6.223908300808526,
          6.955032542478122,
          -3.8231153488356195,
          6.221833521519977,
          -2.5027243249674687,
          6.098921354473524,
          0.06554601790948772,
          2.2740599705651494,
          0.6736784677722947,
          7.747864084002847,
          5.494131687471832
         ],
         "y": [
          -3.185339533496719,
          3.526269370660884,
          1.715346722184464,
          2.6761199648124974,
          1.6756077536208118,
          4.605953165419918,
          6.064169318828853,
          -3.6044118120943005,
          0.8648944850483978,
          -3.6790926430993323,
          -0.496038872170549,
          2.3993437958766384,
          2.830148488875805,
          3.6838602231763926,
          -3.6760238835798034,
          2.6615007527333083,
          4.172387421022121,
          -1.7913736096874482,
          -2.5297373220659654,
          1.7762205555317623,
          -3.1176025987744844,
          -3.1554359053756555,
          -1.3716163147596365,
          3.344300563045576,
          3.8507505702012694,
          5.704011454519014,
          -0.347834093991101,
          0.2158475568958888,
          3.260440286208041,
          -1.5139585753815141,
          5.781652941818434,
          6.787246439193214,
          6.205205588130435,
          3.6816497487804773,
          -1.6200052152681022,
          -3.5992085322084337,
          -0.0623697233251818,
          5.286594306196153,
          2.054718363640078,
          3.0567047136013636,
          5.917604413483832,
          0.6585068575618191,
          0.39016696163920594,
          2.47821111638398,
          -0.4797617354939163,
          0.6415331763181205,
          1.8711731770041138,
          5.077773907597244,
          4.320648381896767,
          1.5332063368216104,
          -0.06029141808885456,
          2.1150881264477412,
          4.55188420197008,
          4.369845136168237,
          -2.010138871868373,
          -4.41901216527134,
          4.468094685026429,
          3.6736038403702542,
          2.244525261060412,
          -3.336247464455602,
          7.454980145946485,
          -4.517296926113486,
          4.561889186239606,
          1.7293381478978926,
          -0.5144604800750756,
          0.9599103209444515,
          3.095507813818702,
          1.5142261141804365,
          -2.5801014650951024,
          -1.3937370016537232,
          1.799424475790517,
          -4.336485358831136,
          -4.522288345554645,
          1.2687090495103257,
          -2.493397807940657,
          -5.1279168805436,
          1.8341563256387274,
          -2.440040371713169,
          6.937287650871799,
          -3.7481810379140788,
          1.8910932872020707,
          -5.259952736962708,
          2.2045300742263847,
          -3.4661610587341753,
          0.5501421857109342,
          0.6044004493496764,
          5.212461877822151,
          -2.4328514269703074,
          4.676439496666554,
          -1.8621846513148004,
          -2.232447505470221,
          -2.2687285251596387,
          1.5306702652232758,
          1.5045133526264443,
          -3.3771668201962015,
          -0.8450983248439535,
          -3.390546180286222,
          3.4291192381188775,
          0.8676830362390612,
          -3.785940226994886,
          1.7426444555055398,
          -5.532239050868793,
          1.1769092484546744,
          2.5737018661800466,
          0.8999626223991334,
          -0.33291622696215356,
          0.529816517025781,
          -1.1455413616969603,
          0.7773965740348976,
          0.3835502864968858,
          1.58161353078441,
          2.317354157285144,
          -0.23727067051344378,
          -0.9366159846535103,
          1.238917746194043,
          2.341518052364701,
          -0.4572071179698685,
          3.240191026239536,
          4.4196498871147485,
          3.165141166929138,
          0.5541986967914634,
          -4.957280316027876,
          3.4486437248192723,
          0.83215321148378,
          0.12568754867085902,
          0.5347201076600563,
          -3.456337586640426,
          0.8301420274310237,
          1.8118829340729827,
          1.2762871635827795,
          4.051788816127994,
          7.104604771602168,
          -3.402323974364893,
          0.8150272976328425,
          1.8636224720552528,
          -2.322268487060278,
          -4.315420290131739,
          0.681111972511005,
          -3.225345763876776,
          3.1282803300508495,
          -0.5039082135098844,
          -2.781771533311857,
          -3.425730739638727,
          1.5062553570113189,
          1.7804326601918115,
          4.292177898695285,
          0.33770848463730124,
          6.988648852593103,
          1.5476964535842583,
          -4.613665536726372,
          -3.2298408388039133,
          -3.428281607440886,
          1.9461247546678935,
          2.7333520080056806,
          3.425679652131938,
          -3.602943605156337,
          0.9789026751272514,
          0.7437612985110426,
          3.879222374805836,
          -1.005011600054948,
          -0.10634409958054315,
          3.5525337855827,
          0.8292459392549735,
          2.450462425602555,
          5.15200486067368,
          -0.7467617472363656,
          -2.7147573047067666,
          -0.8975398603185218,
          0.05856688931035387,
          3.1633412033553556,
          -2.186927414180228,
          -2.012983843039207,
          -2.3006892611986287,
          -2.656145624694889,
          -0.1342475222863593,
          1.0071029619819916,
          3.7978848896184534,
          -0.9898689559715562,
          4.318106788064411,
          2.9679769283789983,
          4.947176902193315,
          3.500966871878339,
          -0.4877913115502468,
          -2.948029727723794,
          6.060834932651681,
          -0.9439382340085127,
          0.9915619027203701,
          1.7642024127884235,
          -2.382392965012137,
          -3.502800680130363,
          -2.326843409352602,
          2.7664960482539698,
          -3.312132457732254,
          -5.319170410411769,
          -5.209032986053288,
          -2.5227704057951703,
          3.8511663037373567,
          -2.498928981468509,
          -0.508954084164474,
          -2.725110908488803,
          2.9749104739874443,
          2.123539093489147,
          5.675125792730779,
          3.3923267233414967,
          -0.5554359771848942,
          -2.2684682894917954,
          2.108870778756932,
          -3.1062927710841484,
          -0.20389681621750622,
          -0.24217096144921108,
          2.7245045830258507,
          7.374493622269858,
          1.476806332221821,
          -0.8613254797809415,
          0.6422470104847502,
          -0.877289673834288,
          3.7234200256473957,
          -1.667859332570511,
          3.5975633493632673,
          4.311362975964905,
          1.2175629551336267,
          1.8542910975416111,
          4.30841564042251,
          1.3047954032865658,
          2.751406318510656,
          -1.8273801092178987,
          -4.759538183929515,
          -1.428241570763867,
          3.1457373392929706,
          -5.184261099599341,
          2.5963728158699952,
          -0.036992172302093125,
          3.8353467402019166,
          1.4971677637726675,
          0.26125162623797404,
          -1.8706404941516024,
          0.5106891321543202,
          0.2202747241618912,
          3.845992151142327,
          4.323476687459889,
          -3.7185396863263285,
          1.301593339397366,
          2.414655455450271,
          -1.25576866491979,
          -0.023649776600793045,
          -1.402538050421342,
          -3.596155218517825,
          -3.1071946347146526,
          -1.3050897760976108,
          2.843105009596784,
          -3.7556244921198187,
          -0.5499498418941419,
          -2.52064150182905,
          -4.321997520337447,
          4.800750845792038,
          0.6463327393797359,
          2.3980945747581597,
          -0.7013470292666453,
          2.229683994762437,
          -4.335700735982119,
          2.9612448512804583,
          -0.6153431242071318,
          4.405986877228041,
          3.801866791638378,
          4.563813363163087,
          -3.444140860081688,
          1.2280310559391967,
          3.919697226605617,
          -3.5863725712937873,
          -4.312719357350898,
          0.492193553716572,
          -1.7691451811444843,
          2.5690270243641793,
          0.3023811285033651,
          0.489211317181429,
          2.389647596182356,
          2.0188971184882045,
          2.1474108685188837,
          3.7271590506832313,
          2.096224746283681,
          1.2234301760823014,
          -2.961288146667391,
          3.2511361292374246,
          -1.4314082188486958,
          2.1121075855718727,
          -2.862579653709002,
          7.74511211704485,
          -0.029496562885368418,
          -1.5083534694680676,
          2.442113079971942,
          2.738713206540722,
          0.684575959883466,
          -0.541756113007171,
          -5.188088669310594,
          1.1334239417929322,
          1.2555549822329024,
          0.6306374042839697,
          4.232576740086362,
          -3.2575614085215823,
          -1.4822113863360866,
          0.08335259117447673,
          4.286413060633223,
          -0.37962488901685465,
          5.623555703224563,
          -3.180046193896092,
          1.718685353971302,
          1.6906523753433356,
          3.7207322601055126,
          1.0594994663828,
          -1.0864442690310134,
          -3.4092172552222486,
          6.383679705852373,
          3.7767909566058555,
          4.151912714280456,
          -0.27027049157340644,
          -3.5620046473202467,
          2.1585465675669333,
          0.7424293379178936,
          -3.772914613161643,
          -0.18691844199793106,
          -2.443576664047903,
          1.982666739720224,
          -0.7336482388739616,
          5.326185456534703,
          -0.54132682772385,
          3.474897045310213,
          2.784965554137515,
          -5.112580702086281,
          5.445797948159613,
          0.8769645012257812,
          2.3100890349922945,
          0.7557508672733261,
          2.6419608101365943,
          3.438882570938854,
          4.751030470300312,
          -1.8868170137756466,
          2.5784779051120403,
          -0.8582146185433623,
          1.5053479102737028,
          -1.4318711130688537,
          6.139312109261375,
          1.1094814321963165,
          6.07826246257586,
          3.4502024429178544,
          -2.3424257386062615,
          5.302474409012479,
          -3.9132743965738994,
          1.5069149901534211,
          -0.7240033489386096,
          0.8771579544044569,
          3.297758738338056,
          3.9969531156750535,
          4.021664455185728,
          6.034305977342252,
          -2.283252227292193,
          0.2701981574538519,
          -3.2234702304552765,
          -3.773327778195204,
          3.6473692232859225,
          3.9622370116131496
         ],
         "z": [
          1.1772062149586162,
          3.0430298910236706,
          -2.229708933650626,
          -3.4826006076448324,
          -0.6684075308173654,
          3.872177594090662,
          0.6935062256239646,
          1.8196825656788025,
          -1.0697224181844496,
          0.5630165217267492,
          -1.4703427088742373,
          -0.3988662362243103,
          -2.9191011117211265,
          1.0618122517876973,
          3.1039958357547124,
          -3.9647959920337037,
          -2.518433261709283,
          1.419600576344029,
          -2.4073690094469242,
          -0.47075839245728957,
          -1.1792763177008898,
          1.6110540721796072,
          -2.5435237517851963,
          -0.04600806101463568,
          -1.7966551890917202,
          0.8581402785156085,
          -1.9538014853491246,
          -3.122243866563067,
          0.401558755968805,
          -3.633220772668833,
          4.5397615461020955,
          -1.3707312752917102,
          1.0031350285265734,
          -0.6629998131085991,
          -1.9245422135936163,
          0.7439428380658922,
          -1.6140385875851186,
          6.281272710453684,
          -0.3345853321883324,
          -2.173381757703676,
          1.5129233664357875,
          -0.8004490275164057,
          -1.5225281976973948,
          1.5856647455501025,
          0.49504490384908467,
          -1.259547288708525,
          -0.5162477186877981,
          -0.04295643310335856,
          -2.9765752662349114,
          -0.06516773726994422,
          -1.2173790345434865,
          1.7768608139463486,
          -1.0613950507378889,
          -2.10022703523807,
          -2.5159344553873604,
          2.3376791728608954,
          1.615039889274413,
          1.364588515239036,
          -2.044222318542216,
          0.42042618039043766,
          -0.03597177187056613,
          0.21581245158498927,
          -1.7036552166148962,
          -1.6945293056101303,
          -0.16618569830701646,
          -3.2313095518921613,
          -2.28162459260435,
          -0.18672260989642223,
          -0.25454079416903747,
          0.012157165817250773,
          0.08739031115031766,
          -0.49150919592869446,
          2.001863099725205,
          -2.0632310585454436,
          1.0632326482278458,
          2.425886863240252,
          -2.287521000499961,
          1.9707992449646121,
          1.801531125617769,
          1.4395229562616922,
          -1.9289963874757872,
          2.5739434431551205,
          1.6406310425157626,
          0.879230736092475,
          -1.2895282949536833,
          -1.979310719576927,
          3.2360872574085313,
          1.654201196848669,
          -1.6113626630789637,
          -0.7910196583406849,
          0.5618533095229759,
          -2.1215007107244213,
          -2.411747342783796,
          0.34142488801724513,
          0.17653359769537574,
          -1.36543167501784,
          0.8971467422618491,
          1.722484834687029,
          -2.3930152316197657,
          0.6433253452023352,
          -0.5978364147414454,
          2.017530625997786,
          -1.170028205267558,
          -1.5849832072971193,
          -0.2680369697386766,
          -0.7395235756074341,
          -1.8896211876255147,
          -2.544805614002773,
          -1.063529200020342,
          1.178777136298457,
          -1.027648422052919,
          3.5575118398141266,
          -0.8843497983927191,
          -0.28585475580232445,
          -1.6383706961342133,
          -2.7008441497475895,
          -2.7787769203656443,
          -3.0446075482601533,
          -1.4796434857035843,
          1.2424613527986637,
          -1.1916372192778777,
          -0.23928794637122444,
          3.0008265163033476,
          -1.200473007471912,
          -2.624899486818146,
          -3.510092301889188,
          2.4845866322353904,
          -1.0038204501797048,
          -1.1586506359822806,
          -0.18391411924846965,
          -2.8381774031207234,
          0.690584881819501,
          2.551757912327164,
          -0.9997604932344545,
          -1.426864289971733,
          0.42251564449408696,
          -0.12177355410307175,
          -2.698666752868173,
          0.34888456938794626,
          -3.386867717975704,
          -0.16400778511032713,
          1.5031472286878804,
          -2.3732285782249813,
          -1.4379994369852034,
          0.08898491796123338,
          -2.289960543046277,
          0.3222147853532649,
          0.579699505685163,
          -0.8828027878155811,
          0.7278349206346544,
          1.6568203347230217,
          -1.153324877929984,
          -0.7646846904610966,
          -1.8849109715353176,
          -2.423789958199642,
          -1.646764274818634,
          -1.1782618757781866,
          -0.4576335629012979,
          1.15463537865807,
          -1.5975642839569353,
          -1.2983249233944432,
          -1.442343104638508,
          -1.5049846295757852,
          -2.115416323545371,
          0.9052132352252605,
          -1.291771716867772,
          0.7456286328751334,
          -2.7547683867957584,
          -2.1530345290564186,
          -2.9532902088822555,
          1.1418585931688492,
          -1.0983850111458615,
          0.5347272315303987,
          -0.5458693295387634,
          -1.79313747974385,
          -3.208864383385833,
          -2.216269469312178,
          0.8784154539214113,
          -2.749556512942869,
          -0.8457377959969742,
          3.6871261141315403,
          5.081525553316774,
          -1.262372586414096,
          2.383924795456416,
          0.7272820723013736,
          -0.6885454959624911,
          -0.834750531937935,
          -2.710428139756239,
          0.9319886335449808,
          0.8979824421974093,
          0.31874301663392357,
          0.24074739450689714,
          0.5564030085862448,
          2.412447566960724,
          1.3517093465109784,
          1.7527520080597758,
          2.4350396380159083,
          -1.736347866260353,
          -0.5400628857083061,
          -2.8636047946929093,
          1.7859098848019843,
          -2.2613709880665374,
          0.4327123881236174,
          1.8964031827861212,
          -2.549291507243993,
          1.7411630930117314,
          -0.08172613430041935,
          -1.1212543006587912,
          -3.534157400499423,
          -1.295166752386674,
          -1.6659802926947713,
          0.9213185618084038,
          3.7316250201041385,
          -1.3009679624271235,
          -1.7275723585719631,
          -2.25935595063271,
          -1.8296236001488277,
          -2.5580329408768057,
          -0.32272602817697255,
          -2.1030309961283704,
          0.3280456758291871,
          3.0596882284991995,
          5.001219215056548,
          -2.9575952566939776,
          -0.8008860669419906,
          -0.3871261511630765,
          0.837312407799695,
          -2.037091285143421,
          -0.6017401725752132,
          1.2115951188224334,
          -1.7357401269987587,
          -0.8583252650746596,
          3.3540600023868916,
          -2.4215807327648182,
          -0.3637614530143229,
          0.26303970896866735,
          -0.9706461633575906,
          -2.2202674160880473,
          2.466487453070217,
          3.837882247174675,
          2.7509983857500537,
          -0.7476753267362707,
          2.6010656349864867,
          -0.9548673441206454,
          -1.4687099109399113,
          -1.9262368154233367,
          2.591931385175227,
          -1.8053039017541834,
          -1.740761177123461,
          -0.46109848336159676,
          -1.855479128020024,
          -1.3310538959195775,
          0.5224115428286843,
          2.2710450211247246,
          3.586963652320579,
          -0.5397322900109583,
          -0.765284126627813,
          -1.388708408559734,
          -1.1676980804177621,
          1.2949583508439004,
          0.9484319186375516,
          -2.2869361369282393,
          3.823695507432437,
          2.7699123457680375,
          0.8373063591458193,
          -2.376053256201926,
          -0.7858442638855804,
          2.825009163916801,
          1.062930575775909,
          -0.9108403328495598,
          -1.4115055348719734,
          -1.7958106462357402,
          -2.4277853782363854,
          -1.2384154997820382,
          -1.8486854168967994,
          -0.7474667358334174,
          -1.4241655005277745,
          -2.7231273745913644,
          2.567097682487478,
          -2.51094839063113,
          -2.3175335554838425,
          1.0824484939367474,
          3.243745538173435,
          0.4216157691857104,
          1.414721494984246,
          -0.8776361153154326,
          0.9314089876823719,
          -1.8450872188622773,
          0.1497953902721247,
          -2.577167019238897,
          -1.7719422097592876,
          -0.8015227621523039,
          -1.7776594301055963,
          2.21182022001533,
          -1.8231401793016062,
          -1.721860601298921,
          -0.3534242488588125,
          0.33240429896061907,
          -0.3405094419971805,
          -2.627889475164317,
          -2.709296469518449,
          -2.3682121817675283,
          -1.2779142189866144,
          0.333609641562322,
          0.8978421968181595,
          -2.7241565712400275,
          -0.2641387180762859,
          -0.43664034991666556,
          -1.3102569871838932,
          1.9348244305813702,
          -1.119827444646594,
          -0.6618444161200021,
          -1.220246273417422,
          2.4159635120789122,
          -1.078262523474065,
          0.454657069905916,
          -0.2960681698283365,
          -3.5093070529356623,
          3.5228072342801284,
          -1.6989401784952156,
          -1.1560980069121964,
          -2.6349240933461755,
          -2.8786374338431306,
          -0.25959717087243417,
          -2.650278273831275,
          2.1827498173444493,
          -0.3486552568936589,
          3.5583369615179845,
          5.63308789052169,
          -0.24356393313331512,
          -2.4927930749866336,
          -1.0438658805402379,
          -2.6143637667013166,
          -1.4476959016496458,
          2.8304578741389057,
          1.6162198433879802,
          1.0836174707393824,
          -0.4274678537946891,
          -2.816452042528848,
          -2.7998946045657394,
          4.735364738250927,
          -0.27021025009662786,
          4.072971929513035,
          -2.9478953676951023,
          0.978261023740988,
          4.338027051693711,
          1.5002896596855009,
          -0.17647859853892256,
          -1.9494487350440926,
          -0.895457759096949,
          -2.9696674438499264,
          3.4108337228601053,
          -2.220881221887456,
          4.300584753442838,
          1.2901654145827561,
          -2.4373082006501146,
          1.9567562747685785,
          1.5241259968830854,
          -1.6758786898239515,
          -2.5105819019553173
         ]
        },
        {
         "hovertemplate": "color=1<br>x=%{x}<br>y=%{y}<br>z=%{z}<extra></extra>",
         "legendgroup": "1",
         "marker": {
          "color": "#EF553B",
          "symbol": "circle"
         },
         "mode": "markers",
         "name": "1",
         "scene": "scene",
         "showlegend": true,
         "type": "scatter3d",
         "x": [
          -1.240233841934954,
          -1.5774545023738993,
          -0.09377963914694347,
          2.1399673594429314,
          0.06499859794175666,
          2.1326143608092423,
          -1.436565244802783,
          -1.432893139163286,
          2.5227131922552277,
          -0.3062512780453204,
          2.092381556303094,
          0.35835619537458774,
          0.39075337518889053,
          0.2052809124272553,
          1.6633869241119832,
          2.6001212998812124,
          -1.3022397366359277,
          0.6597564809847348,
          0.3228782637707304,
          0.35964677606659884,
          -1.4211893721673654,
          -1.1063240331238182,
          1.9212819482151646,
          -0.0599252974849179,
          1.9259061233282002,
          1.8060708887380994,
          -2.2240936611481827,
          -1.6752303124131553,
          2.4693873630715144,
          -1.643108843135457,
          -4.152990161877942,
          0.9424708241693907,
          -2.7689729287564746,
          -2.2282612252682914,
          1.4065632040085099,
          -3.40633172605048,
          -1.9152334389798826,
          -0.410326342372904,
          1.2926112928535944,
          0.9355737518998077
         ],
         "y": [
          -5.684604586907034,
          -5.37053777167198,
          -5.993356378945942,
          -5.5521440555610235,
          -6.075697974272733,
          -5.212324913487973,
          -4.4973985215238,
          -5.564851002082122,
          -5.457908944899903,
          -5.453551336680267,
          -5.320109422761596,
          -2.542774676170988,
          -5.963054265244636,
          -5.216063971353211,
          -5.478230816466301,
          -5.9065214973399165,
          -5.518822683157802,
          -5.5157770703447975,
          -5.64739510283129,
          -5.931470637689995,
          -5.580608760525969,
          -5.363420596244239,
          -2.430103680579609,
          -4.731161846902935,
          -5.466497397437932,
          -5.870570896634507,
          -5.277594452777786,
          -5.057447689796308,
          -6.047337558122858,
          -4.959653407290195,
          -2.5301418690460804,
          -6.0607496922263495,
          -5.40436174090222,
          -4.603226807920073,
          -5.742917456802839,
          -4.049848028479004,
          -5.115803885040928,
          -5.961017398937815,
          -5.805226118606092,
          -5.825746682033371
         ],
         "z": [
          0.7652794645240333,
          0.7305412972868951,
          1.1008457897194321,
          2.3311181810286383,
          1.3332689644039575,
          1.8710164502330906,
          0.08254419362483528,
          0.17391900380849473,
          2.09669299374051,
          1.2590874409601545,
          1.8180471728267942,
          -1.6632917449830817,
          1.1669113160355038,
          0.9116550871120093,
          1.211534484934947,
          1.5965977031049552,
          0.4081815862813534,
          1.0107286841450125,
          1.3891549569021484,
          1.823861413545594,
          0.31476634095383876,
          -0.4968468219780829,
          -1.1656833365394652,
          0.20073967625231814,
          1.5231424837388248,
          1.57691021737552,
          0.03811944588729042,
          0.015666246634661464,
          3.070175206317046,
          2.213898877055682,
          -2.85295088204853,
          1.8077880520419896,
          -0.3178214187646244,
          -0.5141393886108406,
          2.4372851218358096,
          -1.1436344681126274,
          0.1485272362728887,
          1.0557420304772056,
          1.2678340900715608,
          1.9946173429035134
         ]
        }
       ],
       "layout": {
        "legend": {
         "title": {
          "text": "color"
         },
         "tracegroupgap": 0
        },
        "margin": {
         "t": 60
        },
        "scene": {
         "domain": {
          "x": [
           0,
           1
          ],
          "y": [
           0,
           1
          ]
         },
         "xaxis": {
          "title": {
           "text": "x"
          }
         },
         "yaxis": {
          "title": {
           "text": "y"
          }
         },
         "zaxis": {
          "title": {
           "text": "z"
          }
         }
        },
        "template": {
         "data": {
          "bar": [
           {
            "error_x": {
             "color": "#2a3f5f"
            },
            "error_y": {
             "color": "#2a3f5f"
            },
            "marker": {
             "line": {
              "color": "#E5ECF6",
              "width": 0.5
             },
             "pattern": {
              "fillmode": "overlay",
              "size": 10,
              "solidity": 0.2
             }
            },
            "type": "bar"
           }
          ],
          "barpolar": [
           {
            "marker": {
             "line": {
              "color": "#E5ECF6",
              "width": 0.5
             },
             "pattern": {
              "fillmode": "overlay",
              "size": 10,
              "solidity": 0.2
             }
            },
            "type": "barpolar"
           }
          ],
          "carpet": [
           {
            "aaxis": {
             "endlinecolor": "#2a3f5f",
             "gridcolor": "white",
             "linecolor": "white",
             "minorgridcolor": "white",
             "startlinecolor": "#2a3f5f"
            },
            "baxis": {
             "endlinecolor": "#2a3f5f",
             "gridcolor": "white",
             "linecolor": "white",
             "minorgridcolor": "white",
             "startlinecolor": "#2a3f5f"
            },
            "type": "carpet"
           }
          ],
          "choropleth": [
           {
            "colorbar": {
             "outlinewidth": 0,
             "ticks": ""
            },
            "type": "choropleth"
           }
          ],
          "contour": [
           {
            "colorbar": {
             "outlinewidth": 0,
             "ticks": ""
            },
            "colorscale": [
             [
              0,
              "#0d0887"
             ],
             [
              0.1111111111111111,
              "#46039f"
             ],
             [
              0.2222222222222222,
              "#7201a8"
             ],
             [
              0.3333333333333333,
              "#9c179e"
             ],
             [
              0.4444444444444444,
              "#bd3786"
             ],
             [
              0.5555555555555556,
              "#d8576b"
             ],
             [
              0.6666666666666666,
              "#ed7953"
             ],
             [
              0.7777777777777778,
              "#fb9f3a"
             ],
             [
              0.8888888888888888,
              "#fdca26"
             ],
             [
              1,
              "#f0f921"
             ]
            ],
            "type": "contour"
           }
          ],
          "contourcarpet": [
           {
            "colorbar": {
             "outlinewidth": 0,
             "ticks": ""
            },
            "type": "contourcarpet"
           }
          ],
          "heatmap": [
           {
            "colorbar": {
             "outlinewidth": 0,
             "ticks": ""
            },
            "colorscale": [
             [
              0,
              "#0d0887"
             ],
             [
              0.1111111111111111,
              "#46039f"
             ],
             [
              0.2222222222222222,
              "#7201a8"
             ],
             [
              0.3333333333333333,
              "#9c179e"
             ],
             [
              0.4444444444444444,
              "#bd3786"
             ],
             [
              0.5555555555555556,
              "#d8576b"
             ],
             [
              0.6666666666666666,
              "#ed7953"
             ],
             [
              0.7777777777777778,
              "#fb9f3a"
             ],
             [
              0.8888888888888888,
              "#fdca26"
             ],
             [
              1,
              "#f0f921"
             ]
            ],
            "type": "heatmap"
           }
          ],
          "heatmapgl": [
           {
            "colorbar": {
             "outlinewidth": 0,
             "ticks": ""
            },
            "colorscale": [
             [
              0,
              "#0d0887"
             ],
             [
              0.1111111111111111,
              "#46039f"
             ],
             [
              0.2222222222222222,
              "#7201a8"
             ],
             [
              0.3333333333333333,
              "#9c179e"
             ],
             [
              0.4444444444444444,
              "#bd3786"
             ],
             [
              0.5555555555555556,
              "#d8576b"
             ],
             [
              0.6666666666666666,
              "#ed7953"
             ],
             [
              0.7777777777777778,
              "#fb9f3a"
             ],
             [
              0.8888888888888888,
              "#fdca26"
             ],
             [
              1,
              "#f0f921"
             ]
            ],
            "type": "heatmapgl"
           }
          ],
          "histogram": [
           {
            "marker": {
             "pattern": {
              "fillmode": "overlay",
              "size": 10,
              "solidity": 0.2
             }
            },
            "type": "histogram"
           }
          ],
          "histogram2d": [
           {
            "colorbar": {
             "outlinewidth": 0,
             "ticks": ""
            },
            "colorscale": [
             [
              0,
              "#0d0887"
             ],
             [
              0.1111111111111111,
              "#46039f"
             ],
             [
              0.2222222222222222,
              "#7201a8"
             ],
             [
              0.3333333333333333,
              "#9c179e"
             ],
             [
              0.4444444444444444,
              "#bd3786"
             ],
             [
              0.5555555555555556,
              "#d8576b"
             ],
             [
              0.6666666666666666,
              "#ed7953"
             ],
             [
              0.7777777777777778,
              "#fb9f3a"
             ],
             [
              0.8888888888888888,
              "#fdca26"
             ],
             [
              1,
              "#f0f921"
             ]
            ],
            "type": "histogram2d"
           }
          ],
          "histogram2dcontour": [
           {
            "colorbar": {
             "outlinewidth": 0,
             "ticks": ""
            },
            "colorscale": [
             [
              0,
              "#0d0887"
             ],
             [
              0.1111111111111111,
              "#46039f"
             ],
             [
              0.2222222222222222,
              "#7201a8"
             ],
             [
              0.3333333333333333,
              "#9c179e"
             ],
             [
              0.4444444444444444,
              "#bd3786"
             ],
             [
              0.5555555555555556,
              "#d8576b"
             ],
             [
              0.6666666666666666,
              "#ed7953"
             ],
             [
              0.7777777777777778,
              "#fb9f3a"
             ],
             [
              0.8888888888888888,
              "#fdca26"
             ],
             [
              1,
              "#f0f921"
             ]
            ],
            "type": "histogram2dcontour"
           }
          ],
          "mesh3d": [
           {
            "colorbar": {
             "outlinewidth": 0,
             "ticks": ""
            },
            "type": "mesh3d"
           }
          ],
          "parcoords": [
           {
            "line": {
             "colorbar": {
              "outlinewidth": 0,
              "ticks": ""
             }
            },
            "type": "parcoords"
           }
          ],
          "pie": [
           {
            "automargin": true,
            "type": "pie"
           }
          ],
          "scatter": [
           {
            "fillpattern": {
             "fillmode": "overlay",
             "size": 10,
             "solidity": 0.2
            },
            "type": "scatter"
           }
          ],
          "scatter3d": [
           {
            "line": {
             "colorbar": {
              "outlinewidth": 0,
              "ticks": ""
             }
            },
            "marker": {
             "colorbar": {
              "outlinewidth": 0,
              "ticks": ""
             }
            },
            "type": "scatter3d"
           }
          ],
          "scattercarpet": [
           {
            "marker": {
             "colorbar": {
              "outlinewidth": 0,
              "ticks": ""
             }
            },
            "type": "scattercarpet"
           }
          ],
          "scattergeo": [
           {
            "marker": {
             "colorbar": {
              "outlinewidth": 0,
              "ticks": ""
             }
            },
            "type": "scattergeo"
           }
          ],
          "scattergl": [
           {
            "marker": {
             "colorbar": {
              "outlinewidth": 0,
              "ticks": ""
             }
            },
            "type": "scattergl"
           }
          ],
          "scattermapbox": [
           {
            "marker": {
             "colorbar": {
              "outlinewidth": 0,
              "ticks": ""
             }
            },
            "type": "scattermapbox"
           }
          ],
          "scatterpolar": [
           {
            "marker": {
             "colorbar": {
              "outlinewidth": 0,
              "ticks": ""
             }
            },
            "type": "scatterpolar"
           }
          ],
          "scatterpolargl": [
           {
            "marker": {
             "colorbar": {
              "outlinewidth": 0,
              "ticks": ""
             }
            },
            "type": "scatterpolargl"
           }
          ],
          "scatterternary": [
           {
            "marker": {
             "colorbar": {
              "outlinewidth": 0,
              "ticks": ""
             }
            },
            "type": "scatterternary"
           }
          ],
          "surface": [
           {
            "colorbar": {
             "outlinewidth": 0,
             "ticks": ""
            },
            "colorscale": [
             [
              0,
              "#0d0887"
             ],
             [
              0.1111111111111111,
              "#46039f"
             ],
             [
              0.2222222222222222,
              "#7201a8"
             ],
             [
              0.3333333333333333,
              "#9c179e"
             ],
             [
              0.4444444444444444,
              "#bd3786"
             ],
             [
              0.5555555555555556,
              "#d8576b"
             ],
             [
              0.6666666666666666,
              "#ed7953"
             ],
             [
              0.7777777777777778,
              "#fb9f3a"
             ],
             [
              0.8888888888888888,
              "#fdca26"
             ],
             [
              1,
              "#f0f921"
             ]
            ],
            "type": "surface"
           }
          ],
          "table": [
           {
            "cells": {
             "fill": {
              "color": "#EBF0F8"
             },
             "line": {
              "color": "white"
             }
            },
            "header": {
             "fill": {
              "color": "#C8D4E3"
             },
             "line": {
              "color": "white"
             }
            },
            "type": "table"
           }
          ]
         },
         "layout": {
          "annotationdefaults": {
           "arrowcolor": "#2a3f5f",
           "arrowhead": 0,
           "arrowwidth": 1
          },
          "autotypenumbers": "strict",
          "coloraxis": {
           "colorbar": {
            "outlinewidth": 0,
            "ticks": ""
           }
          },
          "colorscale": {
           "diverging": [
            [
             0,
             "#8e0152"
            ],
            [
             0.1,
             "#c51b7d"
            ],
            [
             0.2,
             "#de77ae"
            ],
            [
             0.3,
             "#f1b6da"
            ],
            [
             0.4,
             "#fde0ef"
            ],
            [
             0.5,
             "#f7f7f7"
            ],
            [
             0.6,
             "#e6f5d0"
            ],
            [
             0.7,
             "#b8e186"
            ],
            [
             0.8,
             "#7fbc41"
            ],
            [
             0.9,
             "#4d9221"
            ],
            [
             1,
             "#276419"
            ]
           ],
           "sequential": [
            [
             0,
             "#0d0887"
            ],
            [
             0.1111111111111111,
             "#46039f"
            ],
            [
             0.2222222222222222,
             "#7201a8"
            ],
            [
             0.3333333333333333,
             "#9c179e"
            ],
            [
             0.4444444444444444,
             "#bd3786"
            ],
            [
             0.5555555555555556,
             "#d8576b"
            ],
            [
             0.6666666666666666,
             "#ed7953"
            ],
            [
             0.7777777777777778,
             "#fb9f3a"
            ],
            [
             0.8888888888888888,
             "#fdca26"
            ],
            [
             1,
             "#f0f921"
            ]
           ],
           "sequentialminus": [
            [
             0,
             "#0d0887"
            ],
            [
             0.1111111111111111,
             "#46039f"
            ],
            [
             0.2222222222222222,
             "#7201a8"
            ],
            [
             0.3333333333333333,
             "#9c179e"
            ],
            [
             0.4444444444444444,
             "#bd3786"
            ],
            [
             0.5555555555555556,
             "#d8576b"
            ],
            [
             0.6666666666666666,
             "#ed7953"
            ],
            [
             0.7777777777777778,
             "#fb9f3a"
            ],
            [
             0.8888888888888888,
             "#fdca26"
            ],
            [
             1,
             "#f0f921"
            ]
           ]
          },
          "colorway": [
           "#636efa",
           "#EF553B",
           "#00cc96",
           "#ab63fa",
           "#FFA15A",
           "#19d3f3",
           "#FF6692",
           "#B6E880",
           "#FF97FF",
           "#FECB52"
          ],
          "font": {
           "color": "#2a3f5f"
          },
          "geo": {
           "bgcolor": "white",
           "lakecolor": "white",
           "landcolor": "#E5ECF6",
           "showlakes": true,
           "showland": true,
           "subunitcolor": "white"
          },
          "hoverlabel": {
           "align": "left"
          },
          "hovermode": "closest",
          "mapbox": {
           "style": "light"
          },
          "paper_bgcolor": "white",
          "plot_bgcolor": "#E5ECF6",
          "polar": {
           "angularaxis": {
            "gridcolor": "white",
            "linecolor": "white",
            "ticks": ""
           },
           "bgcolor": "#E5ECF6",
           "radialaxis": {
            "gridcolor": "white",
            "linecolor": "white",
            "ticks": ""
           }
          },
          "scene": {
           "xaxis": {
            "backgroundcolor": "#E5ECF6",
            "gridcolor": "white",
            "gridwidth": 2,
            "linecolor": "white",
            "showbackground": true,
            "ticks": "",
            "zerolinecolor": "white"
           },
           "yaxis": {
            "backgroundcolor": "#E5ECF6",
            "gridcolor": "white",
            "gridwidth": 2,
            "linecolor": "white",
            "showbackground": true,
            "ticks": "",
            "zerolinecolor": "white"
           },
           "zaxis": {
            "backgroundcolor": "#E5ECF6",
            "gridcolor": "white",
            "gridwidth": 2,
            "linecolor": "white",
            "showbackground": true,
            "ticks": "",
            "zerolinecolor": "white"
           }
          },
          "shapedefaults": {
           "line": {
            "color": "#2a3f5f"
           }
          },
          "ternary": {
           "aaxis": {
            "gridcolor": "white",
            "linecolor": "white",
            "ticks": ""
           },
           "baxis": {
            "gridcolor": "white",
            "linecolor": "white",
            "ticks": ""
           },
           "bgcolor": "#E5ECF6",
           "caxis": {
            "gridcolor": "white",
            "linecolor": "white",
            "ticks": ""
           }
          },
          "title": {
           "x": 0.05
          },
          "xaxis": {
           "automargin": true,
           "gridcolor": "white",
           "linecolor": "white",
           "ticks": "",
           "title": {
            "standoff": 15
           },
           "zerolinecolor": "white",
           "zerolinewidth": 2
          },
          "yaxis": {
           "automargin": true,
           "gridcolor": "white",
           "linecolor": "white",
           "ticks": "",
           "title": {
            "standoff": 15
           },
           "zerolinecolor": "white",
           "zerolinewidth": 2
          }
         }
        }
       }
      }
     },
     "metadata": {},
     "output_type": "display_data"
    }
   ],
   "source": [
    "px.scatter_3d(x=x_testdf.iloc[:,0],y=x_testdf.iloc[:,1],z=x_testdf.iloc[:,2], color= y_test)"
   ]
  },
  {
   "cell_type": "code",
   "execution_count": 108,
   "metadata": {},
   "outputs": [
    {
     "data": {
      "application/vnd.plotly.v1+json": {
       "config": {
        "plotlyServerURL": "https://plot.ly"
       },
       "data": [
        {
         "hovertemplate": "x=%{x}<br>y=%{y}<br>z=%{z}<br>color=%{marker.color}<extra></extra>",
         "legendgroup": "",
         "marker": {
          "color": [
           0,
           0,
           1,
           0,
           0,
           1,
           0,
           0,
           0,
           0,
           0,
           0,
           0,
           0,
           0,
           0,
           0,
           0,
           0,
           1,
           0,
           0,
           0,
           0,
           0,
           0,
           0,
           0,
           0,
           0,
           0,
           0,
           0,
           0,
           0,
           1,
           0,
           0,
           0,
           0,
           0,
           0,
           0,
           0,
           0,
           0,
           0,
           0,
           0,
           0,
           1,
           1,
           0,
           0,
           1,
           0,
           0,
           0,
           0,
           1,
           0,
           0,
           0,
           1,
           0,
           0,
           1,
           0,
           0,
           0,
           0,
           0,
           0,
           0,
           0,
           0,
           0,
           1,
           0,
           0,
           1,
           0,
           0,
           0,
           0,
           0,
           0,
           0,
           0,
           0,
           0,
           0,
           0,
           1,
           0,
           0,
           0,
           0,
           1,
           0,
           0,
           1,
           0,
           0,
           0,
           0,
           0,
           0,
           0,
           0,
           0,
           0,
           0,
           0,
           0,
           0,
           0,
           0,
           0,
           0,
           1,
           0,
           0,
           0,
           0,
           0,
           0,
           0,
           0,
           0,
           0,
           0,
           0,
           0,
           0,
           0,
           0,
           0,
           0,
           0,
           0,
           0,
           0,
           0,
           0,
           0,
           0,
           0,
           0,
           0,
           0,
           0,
           0,
           0,
           0,
           0,
           0,
           0,
           0,
           1,
           0,
           1,
           0,
           0,
           0,
           0,
           0,
           0,
           0,
           0,
           0,
           0,
           0,
           0,
           0,
           0,
           0,
           0,
           0,
           0,
           0,
           0,
           0,
           0,
           0,
           0,
           0,
           0,
           0,
           0,
           0,
           0,
           0,
           0,
           0,
           0,
           0,
           0,
           0,
           0,
           0,
           0,
           1,
           0,
           0,
           0,
           1,
           0,
           0,
           0,
           0,
           0,
           0,
           0,
           0,
           0,
           0,
           0,
           1,
           0,
           0,
           0,
           1,
           0,
           0,
           0,
           0,
           0,
           0,
           0,
           0,
           0,
           0,
           0,
           0,
           0,
           0,
           0,
           0,
           0,
           1,
           0,
           0,
           0,
           0,
           0,
           0,
           0,
           0,
           1,
           0,
           0,
           0,
           1,
           0,
           0,
           0,
           0,
           0,
           0,
           0,
           0,
           0,
           0,
           0,
           0,
           1,
           0,
           0,
           0,
           0,
           0,
           1,
           0,
           0,
           0,
           0,
           0,
           0,
           0,
           0,
           0,
           0,
           0,
           0,
           1,
           0,
           0,
           0,
           0,
           1,
           0,
           0,
           1,
           0,
           0,
           0,
           0,
           0,
           0,
           0,
           0,
           0,
           0,
           1,
           0,
           0,
           1,
           0,
           0,
           0,
           0,
           0,
           0,
           0,
           0,
           0,
           0,
           1,
           0,
           1,
           0,
           0,
           0,
           0,
           0,
           1,
           0,
           0,
           0,
           0,
           1,
           0,
           0,
           0,
           0,
           0,
           0,
           0,
           0,
           0,
           0,
           0,
           0,
           0,
           0,
           0,
           0,
           0,
           1,
           0,
           0,
           0,
           0,
           0,
           0,
           0,
           0,
           0,
           0,
           0,
           0,
           0,
           0,
           0,
           0,
           0,
           1,
           0,
           0,
           0,
           0,
           0,
           0,
           0,
           0,
           1,
           0,
           0,
           0,
           0,
           0,
           0,
           0,
           0,
           0,
           0,
           0,
           0,
           0,
           0,
           0,
           0,
           0,
           0,
           0,
           0,
           0,
           0,
           0
          ],
          "coloraxis": "coloraxis",
          "symbol": "circle"
         },
         "mode": "markers",
         "name": "",
         "scene": "scene",
         "showlegend": false,
         "type": "scatter3d",
         "x": [
          7.203924070266284,
          -2.5609447461408976,
          5.639308384843588,
          3.0544859899600856,
          -6.098985707833628,
          -2.3728526512489396,
          -0.276013764174703,
          4.385682289208857,
          -6.032717547532622,
          0.7448612105411531,
          4.5161449985684525,
          1.5156827075875372,
          7.121836399761821,
          -5.330295293312268,
          4.355775422523092,
          2.353249012265955,
          7.769055523595671,
          5.943886762231404,
          -1.2998279762573521,
          -5.9366302822771795,
          -1.6126582808075987,
          7.80816284260002,
          -7.196192724270367,
          -5.319657468638225,
          4.073168104883865,
          -1.240233841934954,
          2.6707109199446957,
          -6.724122530596802,
          -3.1254244983879524,
          -3.880987825249434,
          -4.08989170254775,
          -1.470767454505767,
          7.1720875795570445,
          2.837311144706925,
          9.705070692541158,
          -2.83926421427601,
          4.375062679302176,
          -1.5774545023738993,
          -6.987198446748858,
          3.2669087997618584,
          -6.055874924226569,
          6.577334463384931,
          -3.524813619415456,
          4.86344367116555,
          -6.247306593066149,
          -4.487311761975919,
          -5.336656691022901,
          -5.032172186633748,
          -6.121763578761868,
          -1.1775877917834565,
          6.9757691392272845,
          -6.099147973242507,
          -6.269976242908781,
          -4.656085087574266,
          0.8173781028402018,
          8.886696257053497,
          -0.09377963914694347,
          -1.4938298320060177,
          -1.6551210471688873,
          -4.642859328516961,
          -4.6697111102439814,
          7.764996842920759,
          3.8009043979655925,
          -0.2187176273894369,
          -1.6487860556465304,
          8.383932149504222,
          5.795469518928827,
          6.739150719031043,
          0.3440537411496029,
          8.517714878400204,
          -5.79362447969959,
          1.5616338560114977,
          5.7485234377568615,
          -4.4468073697316335,
          -2.702803648786404,
          2.1399673594429314,
          4.392108764151224,
          5.133394290246857,
          6.224329557659949,
          0.6090380133642975,
          6.613587155143442,
          7.1695644805505125,
          7.546902478630216,
          5.200393595332108,
          7.574941077120244,
          3.6814486537555764,
          -4.94738977391632,
          2.5865078657343648,
          0.06499859794175666,
          -5.881483748151436,
          0.3727887737223328,
          -3.7773644484442683,
          5.094796420317379,
          5.8937199714402,
          1.675795660004064,
          1.6293567876237738,
          -2.432505695743313,
          2.7790489279709427,
          -6.477043555066059,
          1.4193362485089074,
          -2.7694124453410245,
          2.1326143608092423,
          -0.834254514071135,
          -4.640925724571085,
          3.241439501015477,
          4.101154296851597,
          -5.975654603647307,
          2.260382741385919,
          -6.025802323446821,
          -3.0819980120349615,
          8.88674446840755,
          -6.643030523200058,
          -5.892320454507683,
          -6.787005820462629,
          4.5748283248494115,
          0.06822322532002392,
          -6.545947745404773,
          0.4416615541327203,
          7.540576384912051,
          5.71433411253985,
          5.344697321766783,
          3.484845174827814,
          -6.3397561813403795,
          5.1051716505466445,
          6.085168341603478,
          -4.345743558096068,
          -6.4250362524059055,
          -3.1295097196674395,
          -0.8944897113315989,
          -6.3627176904480125,
          0.8447920364857265,
          0.04525411342577502,
          3.93685908810881,
          -6.232676623702319,
          -1.436565244802783,
          8.306175953981654,
          -1.432893139163286,
          6.717014185570476,
          8.229866641619221,
          2.5227131922552277,
          0.48642241864956837,
          -0.3062512780453204,
          2.092381556303094,
          6.15601356148429,
          -6.255283594422233,
          3.7952120420659763,
          4.820785084096091,
          -3.588675907039285,
          2.0849489865816255,
          4.370174427372227,
          6.141471412061204,
          2.6685308561598906,
          5.415065148315906,
          -6.088217133605396,
          8.887344379404631,
          -5.488356028620006,
          6.872019061082452,
          -6.0300238010098495,
          4.38858187162388,
          5.157018595877629,
          0.35835619537458774,
          -3.0859958113557218,
          5.744144748616372,
          -0.47907389325850575,
          0.39075337518889053,
          -5.883377228413314,
          6.268058926427664,
          0.2052809124272553,
          7.065120772154154,
          -3.5420796952256555,
          -5.6884607022100635,
          -5.6187081653041036,
          -4.366281671839374,
          -6.8854255202155805,
          -6.705996829617046,
          6.683736830356249,
          -6.364168415598526,
          5.333876032524296,
          -0.4317475635601301,
          -1.5282644762174407,
          1.6633869241119832,
          4.183653303759165,
          -0.6798593299135748,
          0.5363492039893308,
          5.012396019136997,
          6.8763503677487705,
          1.3629366975981587,
          6.635513381108584,
          0.15656082919837191,
          -1.659039570383292,
          4.75577679121959,
          6.7812934440753,
          6.077215533559585,
          7.279027490967427,
          1.2961093465449791,
          -2.8587026518427208,
          -1.2119767296952002,
          3.145864891794663,
          4.701438810132844,
          0.16612849006252195,
          2.6618391320933474,
          -5.844616164111117,
          4.995004102340721,
          2.6001212998812124,
          5.8446142135690735,
          2.7277011732409657,
          2.197627241663937,
          -5.297504383171283,
          3.1326766272942503,
          3.1861470897918656,
          0.1680968875129408,
          3.4997533975925186,
          -4.413635881774421,
          -4.096338537638226,
          4.479207161278834,
          -5.768143145852306,
          -1.3022397366359277,
          -4.69748397390476,
          5.222637960953292,
          -0.5532733352544754,
          -4.418246415171173,
          1.3128333906066194,
          8.307183696701642,
          -5.825120341754317,
          -4.322035218446206,
          -3.365817223413158,
          1.0180489386561267,
          5.527372782869725,
          0.35977681201221773,
          1.521382670224573,
          0.6597564809847348,
          4.239620914406348,
          1.984331168430736,
          0.15948571970678094,
          10.201392725490104,
          -6.890590542506385,
          0.3228782637707304,
          -4.943307346467625,
          7.535949399655877,
          -6.177098056930119,
          -0.6743986202514589,
          -0.504440464055116,
          3.4945233763724004,
          5.975160808232789,
          -0.41757488129431886,
          0.4170172391111681,
          -7.2063781436452645,
          0.35964677606659884,
          0.9873100637570819,
          -0.8075112379743468,
          6.635522613303778,
          5.282823704127352,
          -0.6983452257652862,
          4.433090704320131,
          -1.4211893721673654,
          -5.764607007391443,
          4.314949101813725,
          -6.068227660536056,
          -1.1063240331238182,
          0.24747578778715068,
          1.9212819482151646,
          -4.687371016410542,
          -0.4413667176214729,
          1.3756031941423696,
          -6.178805408339111,
          -3.542457482170357,
          -0.0599252974849179,
          1.3417642461867534,
          -6.316204278487742,
          -7.412100896535343,
          -0.4565038315075917,
          -3.2095417660218994,
          -6.960542010758957,
          1.9259061233282002,
          2.7282129981399956,
          -2.5994594091625154,
          -6.238159254000434,
          5.88513792017077,
          4.270500201230068,
          -3.1692547819590184,
          -6.111738712495953,
          7.032184262270077,
          -6.688209623710024,
          1.8060708887380994,
          7.035434004360644,
          0.23819062401734056,
          -2.0364860700614176,
          -2.613374226723188,
          -2.400892792189283,
          -3.521060410109176,
          -2.2240936611481827,
          3.7816090863378116,
          -4.259500003005203,
          4.251833968211096,
          -3.9638066389196753,
          -1.7440637438047621,
          -1.6752303124131553,
          -4.244617386098421,
          -4.316805697698897,
          -2.2285325144100088,
          5.201922916214635,
          -3.0556125095736815,
          -6.802073002572175,
          -5.508132246334052,
          5.4798644858760115,
          4.190210706964875,
          -3.3911358016362727,
          4.691391148855847,
          3.9328109333380232,
          2.4693873630715144,
          5.743946429006119,
          -1.2444005894670913,
          4.447893336171812,
          -4.8607692848517265,
          -1.643108843135457,
          -0.29314544788917235,
          -4.152990161877942,
          0.9424708241693907,
          0.7002592080888019,
          -2.067001604638436,
          3.3480361611450853,
          8.041824140033576,
          2.2118174642955872,
          -6.344176412630573,
          -6.6371495842360675,
          1.4684567964379465,
          4.168659633560246,
          2.1950827078478694,
          -7.514904099104621,
          -1.8420922051365003,
          -1.6886746294946204,
          -1.2537298785541302,
          -4.520800610922293,
          8.16540122398699,
          -6.5222911447090555,
          -1.413456919955067,
          -1.150642693731879,
          2.864560686439549,
          -5.76385312269803,
          0.15433257377695705,
          -2.7689729287564746,
          -5.883265895552542,
          5.465407220299672,
          -1.9516880780696026,
          -3.3574515334047694,
          6.733182813355211,
          -5.195204235685138,
          1.3312046067711163,
          3.486050214697071,
          -2.2282612252682914,
          -0.499242787153758,
          0.7029713690542115,
          3.648234123108081,
          2.907356633850534,
          -5.928646274337714,
          8.141918248515289,
          -7.109822383300192,
          0.9208287722058666,
          1.4065632040085099,
          -2.5389487207371255,
          -1.4170910008823925,
          -5.948200190747999,
          1.4203183519303018,
          -3.40633172605048,
          -1.9152334389798826,
          -0.24047667610517548,
          0.7856483877506869,
          5.7513858739177826,
          -6.282241864782735,
          -0.410326342372904,
          8.182036031584357,
          7.3002784634171105,
          -4.233757973718666,
          7.376431330955585,
          -5.667581721233384,
          3.0343771515629103,
          6.260397896085341,
          -7.174841382809283,
          -1.9050023016993276,
          6.111164732137671,
          -3.4226591749549815,
          7.570939571118263,
          6.580656004263795,
          -2.092278193504022,
          4.646631057232095,
          -5.054907745408652,
          -6.808745987754767,
          1.2926112928535944,
          0.9355737518998077,
          -6.223908300808526,
          6.955032542478122,
          -3.8231153488356195,
          6.221833521519977,
          -2.5027243249674687,
          6.098921354473524,
          0.06554601790948772,
          2.2740599705651494,
          0.6736784677722947,
          7.747864084002847,
          5.494131687471832
         ],
         "y": [
          -3.185339533496719,
          3.526269370660884,
          1.715346722184464,
          2.6761199648124974,
          1.6756077536208118,
          4.605953165419918,
          6.064169318828853,
          -3.6044118120943005,
          0.8648944850483978,
          -3.6790926430993323,
          -0.496038872170549,
          2.3993437958766384,
          2.830148488875805,
          3.6838602231763926,
          -3.6760238835798034,
          2.6615007527333083,
          4.172387421022121,
          -1.7913736096874482,
          -2.5297373220659654,
          1.7762205555317623,
          -3.1176025987744844,
          -3.1554359053756555,
          -1.3716163147596365,
          3.344300563045576,
          3.8507505702012694,
          -5.684604586907034,
          5.704011454519014,
          -0.347834093991101,
          0.2158475568958888,
          3.260440286208041,
          -1.5139585753815141,
          5.781652941818434,
          6.787246439193214,
          6.205205588130435,
          3.6816497487804773,
          -1.6200052152681022,
          -3.5992085322084337,
          -5.37053777167198,
          -0.0623697233251818,
          5.286594306196153,
          2.054718363640078,
          3.0567047136013636,
          5.917604413483832,
          0.6585068575618191,
          0.39016696163920594,
          2.47821111638398,
          -0.4797617354939163,
          0.6415331763181205,
          1.8711731770041138,
          5.077773907597244,
          4.320648381896767,
          1.5332063368216104,
          -0.06029141808885456,
          2.1150881264477412,
          4.55188420197008,
          4.369845136168237,
          -5.993356378945942,
          -2.010138871868373,
          -4.41901216527134,
          4.468094685026429,
          3.6736038403702542,
          2.244525261060412,
          -3.336247464455602,
          7.454980145946485,
          -4.517296926113486,
          4.561889186239606,
          1.7293381478978926,
          -0.5144604800750756,
          0.9599103209444515,
          3.095507813818702,
          1.5142261141804365,
          -2.5801014650951024,
          -1.3937370016537232,
          1.799424475790517,
          -4.336485358831136,
          -5.5521440555610235,
          -4.522288345554645,
          1.2687090495103257,
          -2.493397807940657,
          -5.1279168805436,
          1.8341563256387274,
          -2.440040371713169,
          6.937287650871799,
          -3.7481810379140788,
          1.8910932872020707,
          -5.259952736962708,
          2.2045300742263847,
          -3.4661610587341753,
          -6.075697974272733,
          0.5501421857109342,
          0.6044004493496764,
          5.212461877822151,
          -2.4328514269703074,
          4.676439496666554,
          -1.8621846513148004,
          -2.232447505470221,
          -2.2687285251596387,
          1.5306702652232758,
          1.5045133526264443,
          -3.3771668201962015,
          -0.8450983248439535,
          -5.212324913487973,
          -3.390546180286222,
          3.4291192381188775,
          0.8676830362390612,
          -3.785940226994886,
          1.7426444555055398,
          -5.532239050868793,
          1.1769092484546744,
          2.5737018661800466,
          0.8999626223991334,
          -0.33291622696215356,
          0.529816517025781,
          -1.1455413616969603,
          0.7773965740348976,
          0.3835502864968858,
          1.58161353078441,
          2.317354157285144,
          -0.23727067051344378,
          -0.9366159846535103,
          1.238917746194043,
          2.341518052364701,
          -0.4572071179698685,
          3.240191026239536,
          4.4196498871147485,
          3.165141166929138,
          0.5541986967914634,
          -4.957280316027876,
          3.4486437248192723,
          0.83215321148378,
          0.12568754867085902,
          0.5347201076600563,
          -3.456337586640426,
          0.8301420274310237,
          -4.4973985215238,
          1.8118829340729827,
          -5.564851002082122,
          1.2762871635827795,
          4.051788816127994,
          -5.457908944899903,
          7.104604771602168,
          -5.453551336680267,
          -5.320109422761596,
          -3.402323974364893,
          0.8150272976328425,
          1.8636224720552528,
          -2.322268487060278,
          -4.315420290131739,
          0.681111972511005,
          -3.225345763876776,
          3.1282803300508495,
          -0.5039082135098844,
          -2.781771533311857,
          -3.425730739638727,
          1.5062553570113189,
          1.7804326601918115,
          4.292177898695285,
          0.33770848463730124,
          6.988648852593103,
          1.5476964535842583,
          -2.542774676170988,
          -4.613665536726372,
          -3.2298408388039133,
          -3.428281607440886,
          -5.963054265244636,
          1.9461247546678935,
          2.7333520080056806,
          -5.216063971353211,
          3.425679652131938,
          -3.602943605156337,
          0.9789026751272514,
          0.7437612985110426,
          3.879222374805836,
          -1.005011600054948,
          -0.10634409958054315,
          3.5525337855827,
          0.8292459392549735,
          2.450462425602555,
          5.15200486067368,
          -0.7467617472363656,
          -5.478230816466301,
          -2.7147573047067666,
          -0.8975398603185218,
          0.05856688931035387,
          3.1633412033553556,
          -2.186927414180228,
          -2.012983843039207,
          -2.3006892611986287,
          -2.656145624694889,
          -0.1342475222863593,
          1.0071029619819916,
          3.7978848896184534,
          -0.9898689559715562,
          4.318106788064411,
          2.9679769283789983,
          4.947176902193315,
          3.500966871878339,
          -0.4877913115502468,
          -2.948029727723794,
          6.060834932651681,
          -0.9439382340085127,
          0.9915619027203701,
          1.7642024127884235,
          -5.9065214973399165,
          -2.382392965012137,
          -3.502800680130363,
          -2.326843409352602,
          2.7664960482539698,
          -3.312132457732254,
          -5.319170410411769,
          -5.209032986053288,
          -2.5227704057951703,
          3.8511663037373567,
          -2.498928981468509,
          -0.508954084164474,
          -2.725110908488803,
          -5.518822683157802,
          2.9749104739874443,
          2.123539093489147,
          5.675125792730779,
          3.3923267233414967,
          -0.5554359771848942,
          -2.2684682894917954,
          2.108870778756932,
          -3.1062927710841484,
          -0.20389681621750622,
          -0.24217096144921108,
          2.7245045830258507,
          7.374493622269858,
          1.476806332221821,
          -5.5157770703447975,
          -0.8613254797809415,
          0.6422470104847502,
          -0.877289673834288,
          3.7234200256473957,
          -1.667859332570511,
          -5.64739510283129,
          3.5975633493632673,
          4.311362975964905,
          1.2175629551336267,
          1.8542910975416111,
          4.30841564042251,
          1.3047954032865658,
          2.751406318510656,
          -1.8273801092178987,
          -4.759538183929515,
          -1.428241570763867,
          -5.931470637689995,
          3.1457373392929706,
          -5.184261099599341,
          2.5963728158699952,
          -0.036992172302093125,
          3.8353467402019166,
          1.4971677637726675,
          -5.580608760525969,
          0.26125162623797404,
          -1.8706404941516024,
          0.5106891321543202,
          -5.363420596244239,
          0.2202747241618912,
          -2.430103680579609,
          3.845992151142327,
          4.323476687459889,
          -3.7185396863263285,
          1.301593339397366,
          2.414655455450271,
          -4.731161846902935,
          -1.25576866491979,
          -0.023649776600793045,
          -1.402538050421342,
          -3.596155218517825,
          -3.1071946347146526,
          -1.3050897760976108,
          -5.466497397437932,
          2.843105009596784,
          -3.7556244921198187,
          -0.5499498418941419,
          -2.52064150182905,
          -4.321997520337447,
          4.800750845792038,
          0.6463327393797359,
          2.3980945747581597,
          -0.7013470292666453,
          -5.870570896634507,
          2.229683994762437,
          -4.335700735982119,
          2.9612448512804583,
          -0.6153431242071318,
          4.405986877228041,
          3.801866791638378,
          -5.277594452777786,
          4.563813363163087,
          -3.444140860081688,
          1.2280310559391967,
          3.919697226605617,
          -3.5863725712937873,
          -5.057447689796308,
          -4.312719357350898,
          0.492193553716572,
          -1.7691451811444843,
          2.5690270243641793,
          0.3023811285033651,
          0.489211317181429,
          2.389647596182356,
          2.0188971184882045,
          2.1474108685188837,
          3.7271590506832313,
          2.096224746283681,
          1.2234301760823014,
          -6.047337558122858,
          -2.961288146667391,
          3.2511361292374246,
          -1.4314082188486958,
          2.1121075855718727,
          -4.959653407290195,
          -2.862579653709002,
          -2.5301418690460804,
          -6.0607496922263495,
          7.74511211704485,
          -0.029496562885368418,
          -1.5083534694680676,
          2.442113079971942,
          2.738713206540722,
          0.684575959883466,
          -0.541756113007171,
          -5.188088669310594,
          1.1334239417929322,
          1.2555549822329024,
          0.6306374042839697,
          4.232576740086362,
          -3.2575614085215823,
          -1.4822113863360866,
          0.08335259117447673,
          4.286413060633223,
          -0.37962488901685465,
          5.623555703224563,
          -3.180046193896092,
          1.718685353971302,
          1.6906523753433356,
          3.7207322601055126,
          -5.40436174090222,
          1.0594994663828,
          -1.0864442690310134,
          -3.4092172552222486,
          6.383679705852373,
          3.7767909566058555,
          4.151912714280456,
          -0.27027049157340644,
          -3.5620046473202467,
          -4.603226807920073,
          2.1585465675669333,
          0.7424293379178936,
          -3.772914613161643,
          -0.18691844199793106,
          -2.443576664047903,
          1.982666739720224,
          -0.7336482388739616,
          5.326185456534703,
          -5.742917456802839,
          -0.54132682772385,
          3.474897045310213,
          2.784965554137515,
          -5.112580702086281,
          -4.049848028479004,
          -5.115803885040928,
          5.445797948159613,
          0.8769645012257812,
          2.3100890349922945,
          0.7557508672733261,
          -5.961017398937815,
          2.6419608101365943,
          3.438882570938854,
          4.751030470300312,
          -1.8868170137756466,
          2.5784779051120403,
          -0.8582146185433623,
          1.5053479102737028,
          -1.4318711130688537,
          6.139312109261375,
          1.1094814321963165,
          6.07826246257586,
          3.4502024429178544,
          -2.3424257386062615,
          5.302474409012479,
          -3.9132743965738994,
          1.5069149901534211,
          -0.7240033489386096,
          -5.805226118606092,
          -5.825746682033371,
          0.8771579544044569,
          3.297758738338056,
          3.9969531156750535,
          4.021664455185728,
          6.034305977342252,
          -2.283252227292193,
          0.2701981574538519,
          -3.2234702304552765,
          -3.773327778195204,
          3.6473692232859225,
          3.9622370116131496
         ],
         "z": [
          1.1772062149586162,
          3.0430298910236706,
          -2.229708933650626,
          -3.4826006076448324,
          -0.6684075308173654,
          3.872177594090662,
          0.6935062256239646,
          1.8196825656788025,
          -1.0697224181844496,
          0.5630165217267492,
          -1.4703427088742373,
          -0.3988662362243103,
          -2.9191011117211265,
          1.0618122517876973,
          3.1039958357547124,
          -3.9647959920337037,
          -2.518433261709283,
          1.419600576344029,
          -2.4073690094469242,
          -0.47075839245728957,
          -1.1792763177008898,
          1.6110540721796072,
          -2.5435237517851963,
          -0.04600806101463568,
          -1.7966551890917202,
          0.7652794645240333,
          0.8581402785156085,
          -1.9538014853491246,
          -3.122243866563067,
          0.401558755968805,
          -3.633220772668833,
          4.5397615461020955,
          -1.3707312752917102,
          1.0031350285265734,
          -0.6629998131085991,
          -1.9245422135936163,
          0.7439428380658922,
          0.7305412972868951,
          -1.6140385875851186,
          6.281272710453684,
          -0.3345853321883324,
          -2.173381757703676,
          1.5129233664357875,
          -0.8004490275164057,
          -1.5225281976973948,
          1.5856647455501025,
          0.49504490384908467,
          -1.259547288708525,
          -0.5162477186877981,
          -0.04295643310335856,
          -2.9765752662349114,
          -0.06516773726994422,
          -1.2173790345434865,
          1.7768608139463486,
          -1.0613950507378889,
          -2.10022703523807,
          1.1008457897194321,
          -2.5159344553873604,
          2.3376791728608954,
          1.615039889274413,
          1.364588515239036,
          -2.044222318542216,
          0.42042618039043766,
          -0.03597177187056613,
          0.21581245158498927,
          -1.7036552166148962,
          -1.6945293056101303,
          -0.16618569830701646,
          -3.2313095518921613,
          -2.28162459260435,
          -0.18672260989642223,
          -0.25454079416903747,
          0.012157165817250773,
          0.08739031115031766,
          -0.49150919592869446,
          2.3311181810286383,
          2.001863099725205,
          -2.0632310585454436,
          1.0632326482278458,
          2.425886863240252,
          -2.287521000499961,
          1.9707992449646121,
          1.801531125617769,
          1.4395229562616922,
          -1.9289963874757872,
          2.5739434431551205,
          1.6406310425157626,
          0.879230736092475,
          1.3332689644039575,
          -1.2895282949536833,
          -1.979310719576927,
          3.2360872574085313,
          1.654201196848669,
          -1.6113626630789637,
          -0.7910196583406849,
          0.5618533095229759,
          -2.1215007107244213,
          -2.411747342783796,
          0.34142488801724513,
          0.17653359769537574,
          -1.36543167501784,
          1.8710164502330906,
          0.8971467422618491,
          1.722484834687029,
          -2.3930152316197657,
          0.6433253452023352,
          -0.5978364147414454,
          2.017530625997786,
          -1.170028205267558,
          -1.5849832072971193,
          -0.2680369697386766,
          -0.7395235756074341,
          -1.8896211876255147,
          -2.544805614002773,
          -1.063529200020342,
          1.178777136298457,
          -1.027648422052919,
          3.5575118398141266,
          -0.8843497983927191,
          -0.28585475580232445,
          -1.6383706961342133,
          -2.7008441497475895,
          -2.7787769203656443,
          -3.0446075482601533,
          -1.4796434857035843,
          1.2424613527986637,
          -1.1916372192778777,
          -0.23928794637122444,
          3.0008265163033476,
          -1.200473007471912,
          -2.624899486818146,
          -3.510092301889188,
          2.4845866322353904,
          -1.0038204501797048,
          0.08254419362483528,
          -1.1586506359822806,
          0.17391900380849473,
          -0.18391411924846965,
          -2.8381774031207234,
          2.09669299374051,
          0.690584881819501,
          1.2590874409601545,
          1.8180471728267942,
          2.551757912327164,
          -0.9997604932344545,
          -1.426864289971733,
          0.42251564449408696,
          -0.12177355410307175,
          -2.698666752868173,
          0.34888456938794626,
          -3.386867717975704,
          -0.16400778511032713,
          1.5031472286878804,
          -2.3732285782249813,
          -1.4379994369852034,
          0.08898491796123338,
          -2.289960543046277,
          0.3222147853532649,
          0.579699505685163,
          -0.8828027878155811,
          -1.6632917449830817,
          0.7278349206346544,
          1.6568203347230217,
          -1.153324877929984,
          1.1669113160355038,
          -0.7646846904610966,
          -1.8849109715353176,
          0.9116550871120093,
          -2.423789958199642,
          -1.646764274818634,
          -1.1782618757781866,
          -0.4576335629012979,
          1.15463537865807,
          -1.5975642839569353,
          -1.2983249233944432,
          -1.442343104638508,
          -1.5049846295757852,
          -2.115416323545371,
          0.9052132352252605,
          -1.291771716867772,
          1.211534484934947,
          0.7456286328751334,
          -2.7547683867957584,
          -2.1530345290564186,
          -2.9532902088822555,
          1.1418585931688492,
          -1.0983850111458615,
          0.5347272315303987,
          -0.5458693295387634,
          -1.79313747974385,
          -3.208864383385833,
          -2.216269469312178,
          0.8784154539214113,
          -2.749556512942869,
          -0.8457377959969742,
          3.6871261141315403,
          5.081525553316774,
          -1.262372586414096,
          2.383924795456416,
          0.7272820723013736,
          -0.6885454959624911,
          -0.834750531937935,
          -2.710428139756239,
          1.5965977031049552,
          0.9319886335449808,
          0.8979824421974093,
          0.31874301663392357,
          0.24074739450689714,
          0.5564030085862448,
          2.412447566960724,
          1.3517093465109784,
          1.7527520080597758,
          2.4350396380159083,
          -1.736347866260353,
          -0.5400628857083061,
          -2.8636047946929093,
          0.4081815862813534,
          1.7859098848019843,
          -2.2613709880665374,
          0.4327123881236174,
          1.8964031827861212,
          -2.549291507243993,
          1.7411630930117314,
          -0.08172613430041935,
          -1.1212543006587912,
          -3.534157400499423,
          -1.295166752386674,
          -1.6659802926947713,
          0.9213185618084038,
          3.7316250201041385,
          1.0107286841450125,
          -1.3009679624271235,
          -1.7275723585719631,
          -2.25935595063271,
          -1.8296236001488277,
          -2.5580329408768057,
          1.3891549569021484,
          -0.32272602817697255,
          -2.1030309961283704,
          0.3280456758291871,
          3.0596882284991995,
          5.001219215056548,
          -2.9575952566939776,
          -0.8008860669419906,
          -0.3871261511630765,
          0.837312407799695,
          -2.037091285143421,
          1.823861413545594,
          -0.6017401725752132,
          1.2115951188224334,
          -1.7357401269987587,
          -0.8583252650746596,
          3.3540600023868916,
          -2.4215807327648182,
          0.31476634095383876,
          -0.3637614530143229,
          0.26303970896866735,
          -0.9706461633575906,
          -0.4968468219780829,
          -2.2202674160880473,
          -1.1656833365394652,
          2.466487453070217,
          3.837882247174675,
          2.7509983857500537,
          -0.7476753267362707,
          2.6010656349864867,
          0.20073967625231814,
          -0.9548673441206454,
          -1.4687099109399113,
          -1.9262368154233367,
          2.591931385175227,
          -1.8053039017541834,
          -1.740761177123461,
          1.5231424837388248,
          -0.46109848336159676,
          -1.855479128020024,
          -1.3310538959195775,
          0.5224115428286843,
          2.2710450211247246,
          3.586963652320579,
          -0.5397322900109583,
          -0.765284126627813,
          -1.388708408559734,
          1.57691021737552,
          -1.1676980804177621,
          1.2949583508439004,
          0.9484319186375516,
          -2.2869361369282393,
          3.823695507432437,
          2.7699123457680375,
          0.03811944588729042,
          0.8373063591458193,
          -2.376053256201926,
          -0.7858442638855804,
          2.825009163916801,
          1.062930575775909,
          0.015666246634661464,
          -0.9108403328495598,
          -1.4115055348719734,
          -1.7958106462357402,
          -2.4277853782363854,
          -1.2384154997820382,
          -1.8486854168967994,
          -0.7474667358334174,
          -1.4241655005277745,
          -2.7231273745913644,
          2.567097682487478,
          -2.51094839063113,
          -2.3175335554838425,
          3.070175206317046,
          1.0824484939367474,
          3.243745538173435,
          0.4216157691857104,
          1.414721494984246,
          2.213898877055682,
          -0.8776361153154326,
          -2.85295088204853,
          1.8077880520419896,
          0.9314089876823719,
          -1.8450872188622773,
          0.1497953902721247,
          -2.577167019238897,
          -1.7719422097592876,
          -0.8015227621523039,
          -1.7776594301055963,
          2.21182022001533,
          -1.8231401793016062,
          -1.721860601298921,
          -0.3534242488588125,
          0.33240429896061907,
          -0.3405094419971805,
          -2.627889475164317,
          -2.709296469518449,
          -2.3682121817675283,
          -1.2779142189866144,
          0.333609641562322,
          0.8978421968181595,
          -2.7241565712400275,
          -0.2641387180762859,
          -0.43664034991666556,
          -0.3178214187646244,
          -1.3102569871838932,
          1.9348244305813702,
          -1.119827444646594,
          -0.6618444161200021,
          -1.220246273417422,
          2.4159635120789122,
          -1.078262523474065,
          0.454657069905916,
          -0.5141393886108406,
          -0.2960681698283365,
          -3.5093070529356623,
          3.5228072342801284,
          -1.6989401784952156,
          -1.1560980069121964,
          -2.6349240933461755,
          -2.8786374338431306,
          -0.25959717087243417,
          2.4372851218358096,
          -2.650278273831275,
          2.1827498173444493,
          -0.3486552568936589,
          3.5583369615179845,
          -1.1436344681126274,
          0.1485272362728887,
          5.63308789052169,
          -0.24356393313331512,
          -2.4927930749866336,
          -1.0438658805402379,
          1.0557420304772056,
          -2.6143637667013166,
          -1.4476959016496458,
          2.8304578741389057,
          1.6162198433879802,
          1.0836174707393824,
          -0.4274678537946891,
          -2.816452042528848,
          -2.7998946045657394,
          4.735364738250927,
          -0.27021025009662786,
          4.072971929513035,
          -2.9478953676951023,
          0.978261023740988,
          4.338027051693711,
          1.5002896596855009,
          -0.17647859853892256,
          -1.9494487350440926,
          1.2678340900715608,
          1.9946173429035134,
          -0.895457759096949,
          -2.9696674438499264,
          3.4108337228601053,
          -2.220881221887456,
          4.300584753442838,
          1.2901654145827561,
          -2.4373082006501146,
          1.9567562747685785,
          1.5241259968830854,
          -1.6758786898239515,
          -2.5105819019553173
         ]
        }
       ],
       "layout": {
        "coloraxis": {
         "colorbar": {
          "title": {
           "text": "color"
          }
         },
         "colorscale": [
          [
           0,
           "#0d0887"
          ],
          [
           0.1111111111111111,
           "#46039f"
          ],
          [
           0.2222222222222222,
           "#7201a8"
          ],
          [
           0.3333333333333333,
           "#9c179e"
          ],
          [
           0.4444444444444444,
           "#bd3786"
          ],
          [
           0.5555555555555556,
           "#d8576b"
          ],
          [
           0.6666666666666666,
           "#ed7953"
          ],
          [
           0.7777777777777778,
           "#fb9f3a"
          ],
          [
           0.8888888888888888,
           "#fdca26"
          ],
          [
           1,
           "#f0f921"
          ]
         ]
        },
        "legend": {
         "tracegroupgap": 0
        },
        "margin": {
         "t": 60
        },
        "scene": {
         "domain": {
          "x": [
           0,
           1
          ],
          "y": [
           0,
           1
          ]
         },
         "xaxis": {
          "title": {
           "text": "x"
          }
         },
         "yaxis": {
          "title": {
           "text": "y"
          }
         },
         "zaxis": {
          "title": {
           "text": "z"
          }
         }
        },
        "template": {
         "data": {
          "bar": [
           {
            "error_x": {
             "color": "#2a3f5f"
            },
            "error_y": {
             "color": "#2a3f5f"
            },
            "marker": {
             "line": {
              "color": "#E5ECF6",
              "width": 0.5
             },
             "pattern": {
              "fillmode": "overlay",
              "size": 10,
              "solidity": 0.2
             }
            },
            "type": "bar"
           }
          ],
          "barpolar": [
           {
            "marker": {
             "line": {
              "color": "#E5ECF6",
              "width": 0.5
             },
             "pattern": {
              "fillmode": "overlay",
              "size": 10,
              "solidity": 0.2
             }
            },
            "type": "barpolar"
           }
          ],
          "carpet": [
           {
            "aaxis": {
             "endlinecolor": "#2a3f5f",
             "gridcolor": "white",
             "linecolor": "white",
             "minorgridcolor": "white",
             "startlinecolor": "#2a3f5f"
            },
            "baxis": {
             "endlinecolor": "#2a3f5f",
             "gridcolor": "white",
             "linecolor": "white",
             "minorgridcolor": "white",
             "startlinecolor": "#2a3f5f"
            },
            "type": "carpet"
           }
          ],
          "choropleth": [
           {
            "colorbar": {
             "outlinewidth": 0,
             "ticks": ""
            },
            "type": "choropleth"
           }
          ],
          "contour": [
           {
            "colorbar": {
             "outlinewidth": 0,
             "ticks": ""
            },
            "colorscale": [
             [
              0,
              "#0d0887"
             ],
             [
              0.1111111111111111,
              "#46039f"
             ],
             [
              0.2222222222222222,
              "#7201a8"
             ],
             [
              0.3333333333333333,
              "#9c179e"
             ],
             [
              0.4444444444444444,
              "#bd3786"
             ],
             [
              0.5555555555555556,
              "#d8576b"
             ],
             [
              0.6666666666666666,
              "#ed7953"
             ],
             [
              0.7777777777777778,
              "#fb9f3a"
             ],
             [
              0.8888888888888888,
              "#fdca26"
             ],
             [
              1,
              "#f0f921"
             ]
            ],
            "type": "contour"
           }
          ],
          "contourcarpet": [
           {
            "colorbar": {
             "outlinewidth": 0,
             "ticks": ""
            },
            "type": "contourcarpet"
           }
          ],
          "heatmap": [
           {
            "colorbar": {
             "outlinewidth": 0,
             "ticks": ""
            },
            "colorscale": [
             [
              0,
              "#0d0887"
             ],
             [
              0.1111111111111111,
              "#46039f"
             ],
             [
              0.2222222222222222,
              "#7201a8"
             ],
             [
              0.3333333333333333,
              "#9c179e"
             ],
             [
              0.4444444444444444,
              "#bd3786"
             ],
             [
              0.5555555555555556,
              "#d8576b"
             ],
             [
              0.6666666666666666,
              "#ed7953"
             ],
             [
              0.7777777777777778,
              "#fb9f3a"
             ],
             [
              0.8888888888888888,
              "#fdca26"
             ],
             [
              1,
              "#f0f921"
             ]
            ],
            "type": "heatmap"
           }
          ],
          "heatmapgl": [
           {
            "colorbar": {
             "outlinewidth": 0,
             "ticks": ""
            },
            "colorscale": [
             [
              0,
              "#0d0887"
             ],
             [
              0.1111111111111111,
              "#46039f"
             ],
             [
              0.2222222222222222,
              "#7201a8"
             ],
             [
              0.3333333333333333,
              "#9c179e"
             ],
             [
              0.4444444444444444,
              "#bd3786"
             ],
             [
              0.5555555555555556,
              "#d8576b"
             ],
             [
              0.6666666666666666,
              "#ed7953"
             ],
             [
              0.7777777777777778,
              "#fb9f3a"
             ],
             [
              0.8888888888888888,
              "#fdca26"
             ],
             [
              1,
              "#f0f921"
             ]
            ],
            "type": "heatmapgl"
           }
          ],
          "histogram": [
           {
            "marker": {
             "pattern": {
              "fillmode": "overlay",
              "size": 10,
              "solidity": 0.2
             }
            },
            "type": "histogram"
           }
          ],
          "histogram2d": [
           {
            "colorbar": {
             "outlinewidth": 0,
             "ticks": ""
            },
            "colorscale": [
             [
              0,
              "#0d0887"
             ],
             [
              0.1111111111111111,
              "#46039f"
             ],
             [
              0.2222222222222222,
              "#7201a8"
             ],
             [
              0.3333333333333333,
              "#9c179e"
             ],
             [
              0.4444444444444444,
              "#bd3786"
             ],
             [
              0.5555555555555556,
              "#d8576b"
             ],
             [
              0.6666666666666666,
              "#ed7953"
             ],
             [
              0.7777777777777778,
              "#fb9f3a"
             ],
             [
              0.8888888888888888,
              "#fdca26"
             ],
             [
              1,
              "#f0f921"
             ]
            ],
            "type": "histogram2d"
           }
          ],
          "histogram2dcontour": [
           {
            "colorbar": {
             "outlinewidth": 0,
             "ticks": ""
            },
            "colorscale": [
             [
              0,
              "#0d0887"
             ],
             [
              0.1111111111111111,
              "#46039f"
             ],
             [
              0.2222222222222222,
              "#7201a8"
             ],
             [
              0.3333333333333333,
              "#9c179e"
             ],
             [
              0.4444444444444444,
              "#bd3786"
             ],
             [
              0.5555555555555556,
              "#d8576b"
             ],
             [
              0.6666666666666666,
              "#ed7953"
             ],
             [
              0.7777777777777778,
              "#fb9f3a"
             ],
             [
              0.8888888888888888,
              "#fdca26"
             ],
             [
              1,
              "#f0f921"
             ]
            ],
            "type": "histogram2dcontour"
           }
          ],
          "mesh3d": [
           {
            "colorbar": {
             "outlinewidth": 0,
             "ticks": ""
            },
            "type": "mesh3d"
           }
          ],
          "parcoords": [
           {
            "line": {
             "colorbar": {
              "outlinewidth": 0,
              "ticks": ""
             }
            },
            "type": "parcoords"
           }
          ],
          "pie": [
           {
            "automargin": true,
            "type": "pie"
           }
          ],
          "scatter": [
           {
            "fillpattern": {
             "fillmode": "overlay",
             "size": 10,
             "solidity": 0.2
            },
            "type": "scatter"
           }
          ],
          "scatter3d": [
           {
            "line": {
             "colorbar": {
              "outlinewidth": 0,
              "ticks": ""
             }
            },
            "marker": {
             "colorbar": {
              "outlinewidth": 0,
              "ticks": ""
             }
            },
            "type": "scatter3d"
           }
          ],
          "scattercarpet": [
           {
            "marker": {
             "colorbar": {
              "outlinewidth": 0,
              "ticks": ""
             }
            },
            "type": "scattercarpet"
           }
          ],
          "scattergeo": [
           {
            "marker": {
             "colorbar": {
              "outlinewidth": 0,
              "ticks": ""
             }
            },
            "type": "scattergeo"
           }
          ],
          "scattergl": [
           {
            "marker": {
             "colorbar": {
              "outlinewidth": 0,
              "ticks": ""
             }
            },
            "type": "scattergl"
           }
          ],
          "scattermapbox": [
           {
            "marker": {
             "colorbar": {
              "outlinewidth": 0,
              "ticks": ""
             }
            },
            "type": "scattermapbox"
           }
          ],
          "scatterpolar": [
           {
            "marker": {
             "colorbar": {
              "outlinewidth": 0,
              "ticks": ""
             }
            },
            "type": "scatterpolar"
           }
          ],
          "scatterpolargl": [
           {
            "marker": {
             "colorbar": {
              "outlinewidth": 0,
              "ticks": ""
             }
            },
            "type": "scatterpolargl"
           }
          ],
          "scatterternary": [
           {
            "marker": {
             "colorbar": {
              "outlinewidth": 0,
              "ticks": ""
             }
            },
            "type": "scatterternary"
           }
          ],
          "surface": [
           {
            "colorbar": {
             "outlinewidth": 0,
             "ticks": ""
            },
            "colorscale": [
             [
              0,
              "#0d0887"
             ],
             [
              0.1111111111111111,
              "#46039f"
             ],
             [
              0.2222222222222222,
              "#7201a8"
             ],
             [
              0.3333333333333333,
              "#9c179e"
             ],
             [
              0.4444444444444444,
              "#bd3786"
             ],
             [
              0.5555555555555556,
              "#d8576b"
             ],
             [
              0.6666666666666666,
              "#ed7953"
             ],
             [
              0.7777777777777778,
              "#fb9f3a"
             ],
             [
              0.8888888888888888,
              "#fdca26"
             ],
             [
              1,
              "#f0f921"
             ]
            ],
            "type": "surface"
           }
          ],
          "table": [
           {
            "cells": {
             "fill": {
              "color": "#EBF0F8"
             },
             "line": {
              "color": "white"
             }
            },
            "header": {
             "fill": {
              "color": "#C8D4E3"
             },
             "line": {
              "color": "white"
             }
            },
            "type": "table"
           }
          ]
         },
         "layout": {
          "annotationdefaults": {
           "arrowcolor": "#2a3f5f",
           "arrowhead": 0,
           "arrowwidth": 1
          },
          "autotypenumbers": "strict",
          "coloraxis": {
           "colorbar": {
            "outlinewidth": 0,
            "ticks": ""
           }
          },
          "colorscale": {
           "diverging": [
            [
             0,
             "#8e0152"
            ],
            [
             0.1,
             "#c51b7d"
            ],
            [
             0.2,
             "#de77ae"
            ],
            [
             0.3,
             "#f1b6da"
            ],
            [
             0.4,
             "#fde0ef"
            ],
            [
             0.5,
             "#f7f7f7"
            ],
            [
             0.6,
             "#e6f5d0"
            ],
            [
             0.7,
             "#b8e186"
            ],
            [
             0.8,
             "#7fbc41"
            ],
            [
             0.9,
             "#4d9221"
            ],
            [
             1,
             "#276419"
            ]
           ],
           "sequential": [
            [
             0,
             "#0d0887"
            ],
            [
             0.1111111111111111,
             "#46039f"
            ],
            [
             0.2222222222222222,
             "#7201a8"
            ],
            [
             0.3333333333333333,
             "#9c179e"
            ],
            [
             0.4444444444444444,
             "#bd3786"
            ],
            [
             0.5555555555555556,
             "#d8576b"
            ],
            [
             0.6666666666666666,
             "#ed7953"
            ],
            [
             0.7777777777777778,
             "#fb9f3a"
            ],
            [
             0.8888888888888888,
             "#fdca26"
            ],
            [
             1,
             "#f0f921"
            ]
           ],
           "sequentialminus": [
            [
             0,
             "#0d0887"
            ],
            [
             0.1111111111111111,
             "#46039f"
            ],
            [
             0.2222222222222222,
             "#7201a8"
            ],
            [
             0.3333333333333333,
             "#9c179e"
            ],
            [
             0.4444444444444444,
             "#bd3786"
            ],
            [
             0.5555555555555556,
             "#d8576b"
            ],
            [
             0.6666666666666666,
             "#ed7953"
            ],
            [
             0.7777777777777778,
             "#fb9f3a"
            ],
            [
             0.8888888888888888,
             "#fdca26"
            ],
            [
             1,
             "#f0f921"
            ]
           ]
          },
          "colorway": [
           "#636efa",
           "#EF553B",
           "#00cc96",
           "#ab63fa",
           "#FFA15A",
           "#19d3f3",
           "#FF6692",
           "#B6E880",
           "#FF97FF",
           "#FECB52"
          ],
          "font": {
           "color": "#2a3f5f"
          },
          "geo": {
           "bgcolor": "white",
           "lakecolor": "white",
           "landcolor": "#E5ECF6",
           "showlakes": true,
           "showland": true,
           "subunitcolor": "white"
          },
          "hoverlabel": {
           "align": "left"
          },
          "hovermode": "closest",
          "mapbox": {
           "style": "light"
          },
          "paper_bgcolor": "white",
          "plot_bgcolor": "#E5ECF6",
          "polar": {
           "angularaxis": {
            "gridcolor": "white",
            "linecolor": "white",
            "ticks": ""
           },
           "bgcolor": "#E5ECF6",
           "radialaxis": {
            "gridcolor": "white",
            "linecolor": "white",
            "ticks": ""
           }
          },
          "scene": {
           "xaxis": {
            "backgroundcolor": "#E5ECF6",
            "gridcolor": "white",
            "gridwidth": 2,
            "linecolor": "white",
            "showbackground": true,
            "ticks": "",
            "zerolinecolor": "white"
           },
           "yaxis": {
            "backgroundcolor": "#E5ECF6",
            "gridcolor": "white",
            "gridwidth": 2,
            "linecolor": "white",
            "showbackground": true,
            "ticks": "",
            "zerolinecolor": "white"
           },
           "zaxis": {
            "backgroundcolor": "#E5ECF6",
            "gridcolor": "white",
            "gridwidth": 2,
            "linecolor": "white",
            "showbackground": true,
            "ticks": "",
            "zerolinecolor": "white"
           }
          },
          "shapedefaults": {
           "line": {
            "color": "#2a3f5f"
           }
          },
          "ternary": {
           "aaxis": {
            "gridcolor": "white",
            "linecolor": "white",
            "ticks": ""
           },
           "baxis": {
            "gridcolor": "white",
            "linecolor": "white",
            "ticks": ""
           },
           "bgcolor": "#E5ECF6",
           "caxis": {
            "gridcolor": "white",
            "linecolor": "white",
            "ticks": ""
           }
          },
          "title": {
           "x": 0.05
          },
          "xaxis": {
           "automargin": true,
           "gridcolor": "white",
           "linecolor": "white",
           "ticks": "",
           "title": {
            "standoff": 15
           },
           "zerolinecolor": "white",
           "zerolinewidth": 2
          },
          "yaxis": {
           "automargin": true,
           "gridcolor": "white",
           "linecolor": "white",
           "ticks": "",
           "title": {
            "standoff": 15
           },
           "zerolinecolor": "white",
           "zerolinewidth": 2
          }
         }
        }
       }
      }
     },
     "metadata": {},
     "output_type": "display_data"
    }
   ],
   "source": [
    "px.scatter_3d(x=x_testdf.iloc[:,0],y=x_testdf.iloc[:,1],z=x_testdf.iloc[:,2], color= y_pred)"
   ]
  },
  {
   "cell_type": "code",
   "execution_count": 113,
   "metadata": {},
   "outputs": [
    {
     "name": "stdout",
     "output_type": "stream",
     "text": [
      "10\n",
      " Training QDT no : 1\n",
      "Epoch:  1 | Loss: 0.161106 |  accuracy: 0.768750 \n",
      "Epoch:  2 | Loss: 0.157145 |  accuracy: 0.812500 \n",
      "Epoch:  3 | Loss: 0.155701 |  accuracy: 0.768750 \n",
      "Epoch:  4 | Loss: 0.144428 |  accuracy: 0.781250 \n",
      "Epoch:  5 | Loss: 0.142297 |  accuracy: 0.775000 \n",
      "Epoch:  6 | Loss: 0.138773 |  accuracy: 0.800000 \n",
      "Epoch:  7 | Loss: 0.138797 |  accuracy: 0.787500 \n",
      "Epoch:  8 | Loss: 0.137748 |  accuracy: 0.800000 \n",
      "Epoch:  9 | Loss: 0.136229 |  accuracy: 0.800000 \n",
      "Epoch: 10 | Loss: 0.136996 |  accuracy: 0.812500 \n",
      " Training QDT no : 2\n",
      "Epoch:  1 | Loss: 0.218621 |  accuracy: 0.712500 \n",
      "Epoch:  2 | Loss: 0.230419 |  accuracy: 0.668750 \n",
      "Epoch:  3 | Loss: 0.172467 |  accuracy: 0.731250 \n",
      "Epoch:  4 | Loss: 0.184101 |  accuracy: 0.750000 \n",
      "Epoch:  5 | Loss: 0.171609 |  accuracy: 0.718750 \n",
      "Epoch:  6 | Loss: 0.170272 |  accuracy: 0.787500 \n",
      "Epoch:  7 | Loss: 0.171752 |  accuracy: 0.781250 \n",
      "Epoch:  8 | Loss: 0.168676 |  accuracy: 0.768750 \n",
      "Epoch:  9 | Loss: 0.167181 |  accuracy: 0.781250 \n",
      "Epoch: 10 | Loss: 0.167520 |  accuracy: 0.768750 \n",
      " Training QDT no : 3\n",
      "Epoch:  1 | Loss: 0.154387 |  accuracy: 0.787500 \n",
      "Epoch:  2 | Loss: 0.161323 |  accuracy: 0.775000 \n",
      "Epoch:  3 | Loss: 0.153857 |  accuracy: 0.800000 \n",
      "Epoch:  4 | Loss: 0.147919 |  accuracy: 0.806250 \n",
      "Epoch:  5 | Loss: 0.144178 |  accuracy: 0.793750 \n",
      "Epoch:  6 | Loss: 0.145017 |  accuracy: 0.825000 \n",
      "Epoch:  7 | Loss: 0.143886 |  accuracy: 0.825000 \n",
      "Epoch:  8 | Loss: 0.143450 |  accuracy: 0.825000 \n",
      "Epoch:  9 | Loss: 0.143053 |  accuracy: 0.831250 \n",
      "Epoch: 10 | Loss: 0.143879 |  accuracy: 0.825000 \n",
      " Training QDT no : 4\n",
      "Epoch:  1 | Loss: 0.236616 |  accuracy: 0.662500 \n",
      "Epoch:  2 | Loss: 0.216504 |  accuracy: 0.712500 \n",
      "Epoch:  3 | Loss: 0.194993 |  accuracy: 0.687500 \n",
      "Epoch:  4 | Loss: 0.192760 |  accuracy: 0.756250 \n",
      "Epoch:  5 | Loss: 0.184300 |  accuracy: 0.731250 \n",
      "Epoch:  6 | Loss: 0.183583 |  accuracy: 0.743750 \n",
      "Epoch:  7 | Loss: 0.178732 |  accuracy: 0.743750 \n",
      "Epoch:  8 | Loss: 0.172196 |  accuracy: 0.750000 \n",
      "Epoch:  9 | Loss: 0.173137 |  accuracy: 0.775000 \n",
      "Epoch: 10 | Loss: 0.171916 |  accuracy: 0.743750 \n",
      " Training QDT no : 5\n",
      "Epoch:  1 | Loss: 0.147277 |  accuracy: 0.800000 \n",
      "Epoch:  2 | Loss: 0.142097 |  accuracy: 0.793750 \n",
      "Epoch:  3 | Loss: 0.135031 |  accuracy: 0.793750 \n",
      "Epoch:  4 | Loss: 0.130667 |  accuracy: 0.825000 \n",
      "Epoch:  5 | Loss: 0.132794 |  accuracy: 0.781250 \n",
      "Epoch:  6 | Loss: 0.128306 |  accuracy: 0.793750 \n",
      "Epoch:  7 | Loss: 0.126833 |  accuracy: 0.800000 \n",
      "Epoch:  8 | Loss: 0.128622 |  accuracy: 0.775000 \n",
      "Epoch:  9 | Loss: 0.126960 |  accuracy: 0.793750 \n",
      "Epoch: 10 | Loss: 0.126899 |  accuracy: 0.793750 \n",
      " Training QDT no : 6\n",
      "Epoch:  1 | Loss: 0.214343 |  accuracy: 0.750000 \n",
      "Epoch:  2 | Loss: 0.200800 |  accuracy: 0.706250 \n",
      "Epoch:  3 | Loss: 0.186478 |  accuracy: 0.756250 \n",
      "Epoch:  4 | Loss: 0.184314 |  accuracy: 0.750000 \n",
      "Epoch:  5 | Loss: 0.181181 |  accuracy: 0.768750 \n",
      "Epoch:  6 | Loss: 0.182435 |  accuracy: 0.762500 \n",
      "Epoch:  7 | Loss: 0.180412 |  accuracy: 0.762500 \n",
      "Epoch:  8 | Loss: 0.180843 |  accuracy: 0.756250 \n",
      "Epoch:  9 | Loss: 0.180605 |  accuracy: 0.762500 \n",
      "Epoch: 10 | Loss: 0.180147 |  accuracy: 0.750000 \n",
      " Training QDT no : 7\n",
      "Epoch:  1 | Loss: 0.244061 |  accuracy: 0.693750 \n",
      "Epoch:  2 | Loss: 0.226108 |  accuracy: 0.706250 \n",
      "Epoch:  3 | Loss: 0.187658 |  accuracy: 0.737500 \n",
      "Epoch:  4 | Loss: 0.215646 |  accuracy: 0.681250 \n",
      "Epoch:  5 | Loss: 0.188704 |  accuracy: 0.737500 \n",
      "Epoch:  6 | Loss: 0.188324 |  accuracy: 0.750000 \n",
      "Epoch:  7 | Loss: 0.177808 |  accuracy: 0.781250 \n",
      "Epoch:  8 | Loss: 0.177141 |  accuracy: 0.743750 \n",
      "Epoch:  9 | Loss: 0.177181 |  accuracy: 0.762500 \n",
      "Epoch: 10 | Loss: 0.175669 |  accuracy: 0.768750 \n",
      " Training QDT no : 8\n",
      "Epoch:  1 | Loss: 0.198934 |  accuracy: 0.687500 \n",
      "Epoch:  2 | Loss: 0.183417 |  accuracy: 0.743750 \n",
      "Epoch:  3 | Loss: 0.180408 |  accuracy: 0.756250 \n",
      "Epoch:  4 | Loss: 0.179462 |  accuracy: 0.750000 \n",
      "Epoch:  5 | Loss: 0.179275 |  accuracy: 0.750000 \n",
      "Epoch:  6 | Loss: 0.179155 |  accuracy: 0.762500 \n",
      "Epoch:  7 | Loss: 0.178946 |  accuracy: 0.762500 \n",
      "Epoch:  8 | Loss: 0.178604 |  accuracy: 0.762500 \n",
      "Epoch:  9 | Loss: 0.178342 |  accuracy: 0.768750 \n",
      "Epoch: 10 | Loss: 0.178308 |  accuracy: 0.768750 \n",
      " Training QDT no : 9\n",
      "Epoch:  1 | Loss: 0.182406 |  accuracy: 0.725000 \n",
      "Epoch:  2 | Loss: 0.181643 |  accuracy: 0.762500 \n",
      "Epoch:  3 | Loss: 0.173702 |  accuracy: 0.737500 \n",
      "Epoch:  4 | Loss: 0.153939 |  accuracy: 0.800000 \n",
      "Epoch:  5 | Loss: 0.149514 |  accuracy: 0.806250 \n",
      "Epoch:  6 | Loss: 0.152816 |  accuracy: 0.775000 \n",
      "Epoch:  7 | Loss: 0.150143 |  accuracy: 0.793750 \n",
      "Epoch:  8 | Loss: 0.147776 |  accuracy: 0.812500 \n",
      "Epoch:  9 | Loss: 0.146187 |  accuracy: 0.806250 \n",
      "Epoch: 10 | Loss: 0.145329 |  accuracy: 0.812500 \n",
      " Training QDT no : 10\n",
      "Epoch:  1 | Loss: 0.196374 |  accuracy: 0.718750 \n",
      "Epoch:  2 | Loss: 0.189492 |  accuracy: 0.712500 \n",
      "Epoch:  3 | Loss: 0.185842 |  accuracy: 0.693750 \n",
      "Epoch:  4 | Loss: 0.184874 |  accuracy: 0.743750 \n",
      "Epoch:  5 | Loss: 0.182878 |  accuracy: 0.737500 \n",
      "Epoch:  6 | Loss: 0.182194 |  accuracy: 0.743750 \n",
      "Epoch:  7 | Loss: 0.180691 |  accuracy: 0.743750 \n",
      "Epoch:  8 | Loss: 0.180541 |  accuracy: 0.756250 \n",
      "Epoch:  9 | Loss: 0.180627 |  accuracy: 0.762500 \n",
      "Epoch: 10 | Loss: 0.180402 |  accuracy: 0.750000 \n",
      "[0 0 5 1 3 4 0 1 1 0 3 2 0 4 3 0 0 5 1 2 0 0 7 1 1 1 1 0 0 0 4 3 0 0 0 6 0\n",
      " 3 0 2 2 0 0 2 0 2 0 0 2 3 5 2 0 3 4 1 3 3 4 8 5 4 0 2 2 4 5 0 2 0 2 2 3 6\n",
      " 7 1 4 4 5 5 5 4 3 0 4 3 2 0 1 0 0 2 2 3 5 5 0 4 2 0 6 4 0 1 0 0 2 1 1 3 5\n",
      " 0 0 6 3 3 3 3 0 2 5 5 1 0 3 0 0 8 0 1 0 0 1 1 2 4 1 2 0 1 5 5 3 0 1 6 3 5\n",
      " 0 0 0 0 1 0 5 3 3 2 2 5 0 5 0 0 2 2 1 5 0 3 1 1 5 4 0 0 2 4 1 3 4 1 6 0 0\n",
      " 5 2 5 1 0 3 0 1 4 0 4 0 2 0 0 5 0 5 0 4 0 4 0 0 3 7 1 3 0 0 0 1 0 6 0 0 0\n",
      " 5 2 0 0 0 2 5 3 7 3 0 4 0 6 7 2 0 4 6 3 4 0 5 5 6 2 0 4 1 0 1 5 1 0 4 0 4\n",
      " 0 1 2 5 1 1 1 2 5 0 6 1 0 5 4 0 4 0 3 4 3 0 2 1 1 2 1 0 5 2 0 5 4 1 8 0 0\n",
      " 5 4 0 5 3 0 1 2 4 5 0 5 2 0 0 0 4 2 5 0 0 0 7 0 5 3 1 0 0 4 2 1 1 4 0 6 0\n",
      " 0 0 0 0 4 2 2 7 1 1 0 0 1 7 0 0 8 1 1 3 1 1 4 5 4 0 3 0 0 3 5 5 2 3 4 1 3\n",
      " 1 0 4 7 0 3 5 7 0 1 1 0 5 6 1 4 3 4 1 1 0 0 2 1 5 0 0 0 0 1]\n",
      "Recall(TP/FN+TP ):0.1\n",
      "Precsion(TP/FP+TP): 0.14814814814814814 \n",
      "F1 score function of presscion and recall:0.11940298507462688 \n"
     ]
    },
    {
     "data": {
      "image/png": "[encoded data removed]",
      "text/plain": [
       "<Figure size 640x480 with 2 Axes>"
      ]
     },
     "metadata": {},
     "output_type": "display_data"
    }
   ],
   "source": [
    "qrf = QRF(X_train,y_train, no_QDT=10, sensetivity=0.6 ) \n",
    "\n",
    "qrf.train()\n",
    "\n",
    "y_pred,individual_y = qrf.predict(X_test, y_test)\n",
    "\n",
    "conMtx = confusion_matrix(y_test,y_pred)\n",
    "sns.heatmap(conMtx)\n",
    "f1 = f1_score(y_test,y_pred)\n",
    "recall = recall_score(y_test,y_pred)\n",
    "pre = precision_score(y_test,y_pred)\n",
    "\n",
    "print(f\"Recall(TP/FN+TP ):{recall}\")\n",
    "print(f\"Precsion(TP/FP+TP): {pre} \")\n",
    "print(f\"F1 score function of presscion and recall:{f1} \")\n",
    "\n"
   ]
  },
  {
   "cell_type": "code",
   "execution_count": 114,
   "metadata": {},
   "outputs": [
    {
     "data": {
      "application/vnd.plotly.v1+json": {
       "config": {
        "plotlyServerURL": "https://plot.ly"
       },
       "data": [
        {
         "hovertemplate": "x=%{x}<br>y=%{y}<br>z=%{z}<br>color=%{marker.color}<extra></extra>",
         "legendgroup": "",
         "marker": {
          "color": [
           0,
           0,
           0,
           0,
           0,
           0,
           0,
           0,
           0,
           0,
           0,
           0,
           0,
           0,
           0,
           0,
           0,
           0,
           0,
           0,
           0,
           0,
           1,
           0,
           0,
           0,
           0,
           0,
           0,
           0,
           0,
           0,
           0,
           0,
           0,
           1,
           0,
           0,
           0,
           0,
           0,
           0,
           0,
           0,
           0,
           0,
           0,
           0,
           0,
           0,
           0,
           0,
           0,
           0,
           0,
           0,
           0,
           0,
           0,
           1,
           0,
           0,
           0,
           0,
           0,
           0,
           0,
           0,
           0,
           0,
           0,
           0,
           0,
           1,
           1,
           0,
           0,
           0,
           0,
           0,
           0,
           0,
           0,
           0,
           0,
           0,
           0,
           0,
           0,
           0,
           0,
           0,
           0,
           0,
           0,
           0,
           0,
           0,
           0,
           0,
           1,
           0,
           0,
           0,
           0,
           0,
           0,
           0,
           0,
           0,
           0,
           0,
           0,
           1,
           0,
           0,
           0,
           0,
           0,
           0,
           0,
           0,
           0,
           0,
           0,
           0,
           0,
           1,
           0,
           0,
           0,
           0,
           0,
           0,
           0,
           0,
           0,
           0,
           0,
           0,
           0,
           0,
           0,
           0,
           0,
           1,
           0,
           0,
           0,
           0,
           0,
           0,
           0,
           0,
           0,
           0,
           0,
           0,
           0,
           0,
           0,
           0,
           0,
           0,
           0,
           0,
           0,
           0,
           0,
           0,
           0,
           0,
           0,
           0,
           0,
           0,
           0,
           0,
           0,
           0,
           0,
           0,
           1,
           0,
           0,
           0,
           0,
           0,
           0,
           0,
           0,
           0,
           0,
           0,
           0,
           0,
           0,
           0,
           0,
           0,
           0,
           0,
           0,
           0,
           0,
           0,
           0,
           0,
           0,
           0,
           1,
           0,
           0,
           0,
           0,
           0,
           0,
           0,
           1,
           0,
           0,
           0,
           0,
           0,
           0,
           0,
           0,
           0,
           0,
           0,
           1,
           0,
           0,
           0,
           0,
           1,
           1,
           0,
           0,
           0,
           1,
           0,
           0,
           0,
           0,
           0,
           1,
           0,
           0,
           0,
           0,
           0,
           0,
           0,
           0,
           0,
           0,
           0,
           0,
           0,
           0,
           0,
           0,
           0,
           0,
           0,
           0,
           0,
           0,
           1,
           0,
           0,
           0,
           0,
           0,
           0,
           0,
           0,
           0,
           0,
           0,
           0,
           0,
           0,
           0,
           0,
           0,
           0,
           0,
           0,
           0,
           0,
           0,
           1,
           0,
           0,
           0,
           0,
           0,
           0,
           0,
           0,
           0,
           0,
           0,
           0,
           0,
           0,
           0,
           0,
           0,
           0,
           0,
           0,
           0,
           0,
           0,
           0,
           1,
           0,
           0,
           0,
           0,
           0,
           0,
           0,
           0,
           0,
           0,
           0,
           0,
           1,
           0,
           0,
           0,
           0,
           0,
           0,
           0,
           0,
           1,
           0,
           0,
           0,
           0,
           0,
           1,
           0,
           0,
           1,
           0,
           0,
           0,
           0,
           0,
           0,
           0,
           0,
           0,
           0,
           0,
           0,
           0,
           0,
           0,
           0,
           0,
           0,
           0,
           0,
           0,
           0,
           0,
           1,
           0,
           0,
           0,
           1,
           0,
           0,
           0,
           0,
           0,
           1,
           0,
           0,
           0,
           0,
           0,
           0,
           0,
           0,
           0,
           0,
           0,
           0,
           0,
           0,
           0,
           0
          ],
          "coloraxis": "coloraxis",
          "symbol": "circle"
         },
         "mode": "markers",
         "name": "",
         "scene": "scene",
         "showlegend": false,
         "type": "scatter3d",
         "x": [
          7.203924070266284,
          -2.5609447461408976,
          5.639308384843588,
          3.0544859899600856,
          -6.098985707833628,
          -2.3728526512489396,
          -0.276013764174703,
          4.385682289208857,
          -6.032717547532622,
          0.7448612105411531,
          4.5161449985684525,
          1.5156827075875372,
          7.121836399761821,
          -5.330295293312268,
          4.355775422523092,
          2.353249012265955,
          7.769055523595671,
          5.943886762231404,
          -1.2998279762573521,
          -5.9366302822771795,
          -1.6126582808075987,
          7.80816284260002,
          -7.196192724270367,
          -5.319657468638225,
          4.073168104883865,
          -1.240233841934954,
          2.6707109199446957,
          -6.724122530596802,
          -3.1254244983879524,
          -3.880987825249434,
          -4.08989170254775,
          -1.470767454505767,
          7.1720875795570445,
          2.837311144706925,
          9.705070692541158,
          -2.83926421427601,
          4.375062679302176,
          -1.5774545023738993,
          -6.987198446748858,
          3.2669087997618584,
          -6.055874924226569,
          6.577334463384931,
          -3.524813619415456,
          4.86344367116555,
          -6.247306593066149,
          -4.487311761975919,
          -5.336656691022901,
          -5.032172186633748,
          -6.121763578761868,
          -1.1775877917834565,
          6.9757691392272845,
          -6.099147973242507,
          -6.269976242908781,
          -4.656085087574266,
          0.8173781028402018,
          8.886696257053497,
          -0.09377963914694347,
          -1.4938298320060177,
          -1.6551210471688873,
          -4.642859328516961,
          -4.6697111102439814,
          7.764996842920759,
          3.8009043979655925,
          -0.2187176273894369,
          -1.6487860556465304,
          8.383932149504222,
          5.795469518928827,
          6.739150719031043,
          0.3440537411496029,
          8.517714878400204,
          -5.79362447969959,
          1.5616338560114977,
          5.7485234377568615,
          -4.4468073697316335,
          -2.702803648786404,
          2.1399673594429314,
          4.392108764151224,
          5.133394290246857,
          6.224329557659949,
          0.6090380133642975,
          6.613587155143442,
          7.1695644805505125,
          7.546902478630216,
          5.200393595332108,
          7.574941077120244,
          3.6814486537555764,
          -4.94738977391632,
          2.5865078657343648,
          0.06499859794175666,
          -5.881483748151436,
          0.3727887737223328,
          -3.7773644484442683,
          5.094796420317379,
          5.8937199714402,
          1.675795660004064,
          1.6293567876237738,
          -2.432505695743313,
          2.7790489279709427,
          -6.477043555066059,
          1.4193362485089074,
          -2.7694124453410245,
          2.1326143608092423,
          -0.834254514071135,
          -4.640925724571085,
          3.241439501015477,
          4.101154296851597,
          -5.975654603647307,
          2.260382741385919,
          -6.025802323446821,
          -3.0819980120349615,
          8.88674446840755,
          -6.643030523200058,
          -5.892320454507683,
          -6.787005820462629,
          4.5748283248494115,
          0.06822322532002392,
          -6.545947745404773,
          0.4416615541327203,
          7.540576384912051,
          5.71433411253985,
          5.344697321766783,
          3.484845174827814,
          -6.3397561813403795,
          5.1051716505466445,
          6.085168341603478,
          -4.345743558096068,
          -6.4250362524059055,
          -3.1295097196674395,
          -0.8944897113315989,
          -6.3627176904480125,
          0.8447920364857265,
          0.04525411342577502,
          3.93685908810881,
          -6.232676623702319,
          -1.436565244802783,
          8.306175953981654,
          -1.432893139163286,
          6.717014185570476,
          8.229866641619221,
          2.5227131922552277,
          0.48642241864956837,
          -0.3062512780453204,
          2.092381556303094,
          6.15601356148429,
          -6.255283594422233,
          3.7952120420659763,
          4.820785084096091,
          -3.588675907039285,
          2.0849489865816255,
          4.370174427372227,
          6.141471412061204,
          2.6685308561598906,
          5.415065148315906,
          -6.088217133605396,
          8.887344379404631,
          -5.488356028620006,
          6.872019061082452,
          -6.0300238010098495,
          4.38858187162388,
          5.157018595877629,
          0.35835619537458774,
          -3.0859958113557218,
          5.744144748616372,
          -0.47907389325850575,
          0.39075337518889053,
          -5.883377228413314,
          6.268058926427664,
          0.2052809124272553,
          7.065120772154154,
          -3.5420796952256555,
          -5.6884607022100635,
          -5.6187081653041036,
          -4.366281671839374,
          -6.8854255202155805,
          -6.705996829617046,
          6.683736830356249,
          -6.364168415598526,
          5.333876032524296,
          -0.4317475635601301,
          -1.5282644762174407,
          1.6633869241119832,
          4.183653303759165,
          -0.6798593299135748,
          0.5363492039893308,
          5.012396019136997,
          6.8763503677487705,
          1.3629366975981587,
          6.635513381108584,
          0.15656082919837191,
          -1.659039570383292,
          4.75577679121959,
          6.7812934440753,
          6.077215533559585,
          7.279027490967427,
          1.2961093465449791,
          -2.8587026518427208,
          -1.2119767296952002,
          3.145864891794663,
          4.701438810132844,
          0.16612849006252195,
          2.6618391320933474,
          -5.844616164111117,
          4.995004102340721,
          2.6001212998812124,
          5.8446142135690735,
          2.7277011732409657,
          2.197627241663937,
          -5.297504383171283,
          3.1326766272942503,
          3.1861470897918656,
          0.1680968875129408,
          3.4997533975925186,
          -4.413635881774421,
          -4.096338537638226,
          4.479207161278834,
          -5.768143145852306,
          -1.3022397366359277,
          -4.69748397390476,
          5.222637960953292,
          -0.5532733352544754,
          -4.418246415171173,
          1.3128333906066194,
          8.307183696701642,
          -5.825120341754317,
          -4.322035218446206,
          -3.365817223413158,
          1.0180489386561267,
          5.527372782869725,
          0.35977681201221773,
          1.521382670224573,
          0.6597564809847348,
          4.239620914406348,
          1.984331168430736,
          0.15948571970678094,
          10.201392725490104,
          -6.890590542506385,
          0.3228782637707304,
          -4.943307346467625,
          7.535949399655877,
          -6.177098056930119,
          -0.6743986202514589,
          -0.504440464055116,
          3.4945233763724004,
          5.975160808232789,
          -0.41757488129431886,
          0.4170172391111681,
          -7.2063781436452645,
          0.35964677606659884,
          0.9873100637570819,
          -0.8075112379743468,
          6.635522613303778,
          5.282823704127352,
          -0.6983452257652862,
          4.433090704320131,
          -1.4211893721673654,
          -5.764607007391443,
          4.314949101813725,
          -6.068227660536056,
          -1.1063240331238182,
          0.24747578778715068,
          1.9212819482151646,
          -4.687371016410542,
          -0.4413667176214729,
          1.3756031941423696,
          -6.178805408339111,
          -3.542457482170357,
          -0.0599252974849179,
          1.3417642461867534,
          -6.316204278487742,
          -7.412100896535343,
          -0.4565038315075917,
          -3.2095417660218994,
          -6.960542010758957,
          1.9259061233282002,
          2.7282129981399956,
          -2.5994594091625154,
          -6.238159254000434,
          5.88513792017077,
          4.270500201230068,
          -3.1692547819590184,
          -6.111738712495953,
          7.032184262270077,
          -6.688209623710024,
          1.8060708887380994,
          7.035434004360644,
          0.23819062401734056,
          -2.0364860700614176,
          -2.613374226723188,
          -2.400892792189283,
          -3.521060410109176,
          -2.2240936611481827,
          3.7816090863378116,
          -4.259500003005203,
          4.251833968211096,
          -3.9638066389196753,
          -1.7440637438047621,
          -1.6752303124131553,
          -4.244617386098421,
          -4.316805697698897,
          -2.2285325144100088,
          5.201922916214635,
          -3.0556125095736815,
          -6.802073002572175,
          -5.508132246334052,
          5.4798644858760115,
          4.190210706964875,
          -3.3911358016362727,
          4.691391148855847,
          3.9328109333380232,
          2.4693873630715144,
          5.743946429006119,
          -1.2444005894670913,
          4.447893336171812,
          -4.8607692848517265,
          -1.643108843135457,
          -0.29314544788917235,
          -4.152990161877942,
          0.9424708241693907,
          0.7002592080888019,
          -2.067001604638436,
          3.3480361611450853,
          8.041824140033576,
          2.2118174642955872,
          -6.344176412630573,
          -6.6371495842360675,
          1.4684567964379465,
          4.168659633560246,
          2.1950827078478694,
          -7.514904099104621,
          -1.8420922051365003,
          -1.6886746294946204,
          -1.2537298785541302,
          -4.520800610922293,
          8.16540122398699,
          -6.5222911447090555,
          -1.413456919955067,
          -1.150642693731879,
          2.864560686439549,
          -5.76385312269803,
          0.15433257377695705,
          -2.7689729287564746,
          -5.883265895552542,
          5.465407220299672,
          -1.9516880780696026,
          -3.3574515334047694,
          6.733182813355211,
          -5.195204235685138,
          1.3312046067711163,
          3.486050214697071,
          -2.2282612252682914,
          -0.499242787153758,
          0.7029713690542115,
          3.648234123108081,
          2.907356633850534,
          -5.928646274337714,
          8.141918248515289,
          -7.109822383300192,
          0.9208287722058666,
          1.4065632040085099,
          -2.5389487207371255,
          -1.4170910008823925,
          -5.948200190747999,
          1.4203183519303018,
          -3.40633172605048,
          -1.9152334389798826,
          -0.24047667610517548,
          0.7856483877506869,
          5.7513858739177826,
          -6.282241864782735,
          -0.410326342372904,
          8.182036031584357,
          7.3002784634171105,
          -4.233757973718666,
          7.376431330955585,
          -5.667581721233384,
          3.0343771515629103,
          6.260397896085341,
          -7.174841382809283,
          -1.9050023016993276,
          6.111164732137671,
          -3.4226591749549815,
          7.570939571118263,
          6.580656004263795,
          -2.092278193504022,
          4.646631057232095,
          -5.054907745408652,
          -6.808745987754767,
          1.2926112928535944,
          0.9355737518998077,
          -6.223908300808526,
          6.955032542478122,
          -3.8231153488356195,
          6.221833521519977,
          -2.5027243249674687,
          6.098921354473524,
          0.06554601790948772,
          2.2740599705651494,
          0.6736784677722947,
          7.747864084002847,
          5.494131687471832
         ],
         "y": [
          -3.185339533496719,
          3.526269370660884,
          1.715346722184464,
          2.6761199648124974,
          1.6756077536208118,
          4.605953165419918,
          6.064169318828853,
          -3.6044118120943005,
          0.8648944850483978,
          -3.6790926430993323,
          -0.496038872170549,
          2.3993437958766384,
          2.830148488875805,
          3.6838602231763926,
          -3.6760238835798034,
          2.6615007527333083,
          4.172387421022121,
          -1.7913736096874482,
          -2.5297373220659654,
          1.7762205555317623,
          -3.1176025987744844,
          -3.1554359053756555,
          -1.3716163147596365,
          3.344300563045576,
          3.8507505702012694,
          -5.684604586907034,
          5.704011454519014,
          -0.347834093991101,
          0.2158475568958888,
          3.260440286208041,
          -1.5139585753815141,
          5.781652941818434,
          6.787246439193214,
          6.205205588130435,
          3.6816497487804773,
          -1.6200052152681022,
          -3.5992085322084337,
          -5.37053777167198,
          -0.0623697233251818,
          5.286594306196153,
          2.054718363640078,
          3.0567047136013636,
          5.917604413483832,
          0.6585068575618191,
          0.39016696163920594,
          2.47821111638398,
          -0.4797617354939163,
          0.6415331763181205,
          1.8711731770041138,
          5.077773907597244,
          4.320648381896767,
          1.5332063368216104,
          -0.06029141808885456,
          2.1150881264477412,
          4.55188420197008,
          4.369845136168237,
          -5.993356378945942,
          -2.010138871868373,
          -4.41901216527134,
          4.468094685026429,
          3.6736038403702542,
          2.244525261060412,
          -3.336247464455602,
          7.454980145946485,
          -4.517296926113486,
          4.561889186239606,
          1.7293381478978926,
          -0.5144604800750756,
          0.9599103209444515,
          3.095507813818702,
          1.5142261141804365,
          -2.5801014650951024,
          -1.3937370016537232,
          1.799424475790517,
          -4.336485358831136,
          -5.5521440555610235,
          -4.522288345554645,
          1.2687090495103257,
          -2.493397807940657,
          -5.1279168805436,
          1.8341563256387274,
          -2.440040371713169,
          6.937287650871799,
          -3.7481810379140788,
          1.8910932872020707,
          -5.259952736962708,
          2.2045300742263847,
          -3.4661610587341753,
          -6.075697974272733,
          0.5501421857109342,
          0.6044004493496764,
          5.212461877822151,
          -2.4328514269703074,
          4.676439496666554,
          -1.8621846513148004,
          -2.232447505470221,
          -2.2687285251596387,
          1.5306702652232758,
          1.5045133526264443,
          -3.3771668201962015,
          -0.8450983248439535,
          -5.212324913487973,
          -3.390546180286222,
          3.4291192381188775,
          0.8676830362390612,
          -3.785940226994886,
          1.7426444555055398,
          -5.532239050868793,
          1.1769092484546744,
          2.5737018661800466,
          0.8999626223991334,
          -0.33291622696215356,
          0.529816517025781,
          -1.1455413616969603,
          0.7773965740348976,
          0.3835502864968858,
          1.58161353078441,
          2.317354157285144,
          -0.23727067051344378,
          -0.9366159846535103,
          1.238917746194043,
          2.341518052364701,
          -0.4572071179698685,
          3.240191026239536,
          4.4196498871147485,
          3.165141166929138,
          0.5541986967914634,
          -4.957280316027876,
          3.4486437248192723,
          0.83215321148378,
          0.12568754867085902,
          0.5347201076600563,
          -3.456337586640426,
          0.8301420274310237,
          -4.4973985215238,
          1.8118829340729827,
          -5.564851002082122,
          1.2762871635827795,
          4.051788816127994,
          -5.457908944899903,
          7.104604771602168,
          -5.453551336680267,
          -5.320109422761596,
          -3.402323974364893,
          0.8150272976328425,
          1.8636224720552528,
          -2.322268487060278,
          -4.315420290131739,
          0.681111972511005,
          -3.225345763876776,
          3.1282803300508495,
          -0.5039082135098844,
          -2.781771533311857,
          -3.425730739638727,
          1.5062553570113189,
          1.7804326601918115,
          4.292177898695285,
          0.33770848463730124,
          6.988648852593103,
          1.5476964535842583,
          -2.542774676170988,
          -4.613665536726372,
          -3.2298408388039133,
          -3.428281607440886,
          -5.963054265244636,
          1.9461247546678935,
          2.7333520080056806,
          -5.216063971353211,
          3.425679652131938,
          -3.602943605156337,
          0.9789026751272514,
          0.7437612985110426,
          3.879222374805836,
          -1.005011600054948,
          -0.10634409958054315,
          3.5525337855827,
          0.8292459392549735,
          2.450462425602555,
          5.15200486067368,
          -0.7467617472363656,
          -5.478230816466301,
          -2.7147573047067666,
          -0.8975398603185218,
          0.05856688931035387,
          3.1633412033553556,
          -2.186927414180228,
          -2.012983843039207,
          -2.3006892611986287,
          -2.656145624694889,
          -0.1342475222863593,
          1.0071029619819916,
          3.7978848896184534,
          -0.9898689559715562,
          4.318106788064411,
          2.9679769283789983,
          4.947176902193315,
          3.500966871878339,
          -0.4877913115502468,
          -2.948029727723794,
          6.060834932651681,
          -0.9439382340085127,
          0.9915619027203701,
          1.7642024127884235,
          -5.9065214973399165,
          -2.382392965012137,
          -3.502800680130363,
          -2.326843409352602,
          2.7664960482539698,
          -3.312132457732254,
          -5.319170410411769,
          -5.209032986053288,
          -2.5227704057951703,
          3.8511663037373567,
          -2.498928981468509,
          -0.508954084164474,
          -2.725110908488803,
          -5.518822683157802,
          2.9749104739874443,
          2.123539093489147,
          5.675125792730779,
          3.3923267233414967,
          -0.5554359771848942,
          -2.2684682894917954,
          2.108870778756932,
          -3.1062927710841484,
          -0.20389681621750622,
          -0.24217096144921108,
          2.7245045830258507,
          7.374493622269858,
          1.476806332221821,
          -5.5157770703447975,
          -0.8613254797809415,
          0.6422470104847502,
          -0.877289673834288,
          3.7234200256473957,
          -1.667859332570511,
          -5.64739510283129,
          3.5975633493632673,
          4.311362975964905,
          1.2175629551336267,
          1.8542910975416111,
          4.30841564042251,
          1.3047954032865658,
          2.751406318510656,
          -1.8273801092178987,
          -4.759538183929515,
          -1.428241570763867,
          -5.931470637689995,
          3.1457373392929706,
          -5.184261099599341,
          2.5963728158699952,
          -0.036992172302093125,
          3.8353467402019166,
          1.4971677637726675,
          -5.580608760525969,
          0.26125162623797404,
          -1.8706404941516024,
          0.5106891321543202,
          -5.363420596244239,
          0.2202747241618912,
          -2.430103680579609,
          3.845992151142327,
          4.323476687459889,
          -3.7185396863263285,
          1.301593339397366,
          2.414655455450271,
          -4.731161846902935,
          -1.25576866491979,
          -0.023649776600793045,
          -1.402538050421342,
          -3.596155218517825,
          -3.1071946347146526,
          -1.3050897760976108,
          -5.466497397437932,
          2.843105009596784,
          -3.7556244921198187,
          -0.5499498418941419,
          -2.52064150182905,
          -4.321997520337447,
          4.800750845792038,
          0.6463327393797359,
          2.3980945747581597,
          -0.7013470292666453,
          -5.870570896634507,
          2.229683994762437,
          -4.335700735982119,
          2.9612448512804583,
          -0.6153431242071318,
          4.405986877228041,
          3.801866791638378,
          -5.277594452777786,
          4.563813363163087,
          -3.444140860081688,
          1.2280310559391967,
          3.919697226605617,
          -3.5863725712937873,
          -5.057447689796308,
          -4.312719357350898,
          0.492193553716572,
          -1.7691451811444843,
          2.5690270243641793,
          0.3023811285033651,
          0.489211317181429,
          2.389647596182356,
          2.0188971184882045,
          2.1474108685188837,
          3.7271590506832313,
          2.096224746283681,
          1.2234301760823014,
          -6.047337558122858,
          -2.961288146667391,
          3.2511361292374246,
          -1.4314082188486958,
          2.1121075855718727,
          -4.959653407290195,
          -2.862579653709002,
          -2.5301418690460804,
          -6.0607496922263495,
          7.74511211704485,
          -0.029496562885368418,
          -1.5083534694680676,
          2.442113079971942,
          2.738713206540722,
          0.684575959883466,
          -0.541756113007171,
          -5.188088669310594,
          1.1334239417929322,
          1.2555549822329024,
          0.6306374042839697,
          4.232576740086362,
          -3.2575614085215823,
          -1.4822113863360866,
          0.08335259117447673,
          4.286413060633223,
          -0.37962488901685465,
          5.623555703224563,
          -3.180046193896092,
          1.718685353971302,
          1.6906523753433356,
          3.7207322601055126,
          -5.40436174090222,
          1.0594994663828,
          -1.0864442690310134,
          -3.4092172552222486,
          6.383679705852373,
          3.7767909566058555,
          4.151912714280456,
          -0.27027049157340644,
          -3.5620046473202467,
          -4.603226807920073,
          2.1585465675669333,
          0.7424293379178936,
          -3.772914613161643,
          -0.18691844199793106,
          -2.443576664047903,
          1.982666739720224,
          -0.7336482388739616,
          5.326185456534703,
          -5.742917456802839,
          -0.54132682772385,
          3.474897045310213,
          2.784965554137515,
          -5.112580702086281,
          -4.049848028479004,
          -5.115803885040928,
          5.445797948159613,
          0.8769645012257812,
          2.3100890349922945,
          0.7557508672733261,
          -5.961017398937815,
          2.6419608101365943,
          3.438882570938854,
          4.751030470300312,
          -1.8868170137756466,
          2.5784779051120403,
          -0.8582146185433623,
          1.5053479102737028,
          -1.4318711130688537,
          6.139312109261375,
          1.1094814321963165,
          6.07826246257586,
          3.4502024429178544,
          -2.3424257386062615,
          5.302474409012479,
          -3.9132743965738994,
          1.5069149901534211,
          -0.7240033489386096,
          -5.805226118606092,
          -5.825746682033371,
          0.8771579544044569,
          3.297758738338056,
          3.9969531156750535,
          4.021664455185728,
          6.034305977342252,
          -2.283252227292193,
          0.2701981574538519,
          -3.2234702304552765,
          -3.773327778195204,
          3.6473692232859225,
          3.9622370116131496
         ],
         "z": [
          1.1772062149586162,
          3.0430298910236706,
          -2.229708933650626,
          -3.4826006076448324,
          -0.6684075308173654,
          3.872177594090662,
          0.6935062256239646,
          1.8196825656788025,
          -1.0697224181844496,
          0.5630165217267492,
          -1.4703427088742373,
          -0.3988662362243103,
          -2.9191011117211265,
          1.0618122517876973,
          3.1039958357547124,
          -3.9647959920337037,
          -2.518433261709283,
          1.419600576344029,
          -2.4073690094469242,
          -0.47075839245728957,
          -1.1792763177008898,
          1.6110540721796072,
          -2.5435237517851963,
          -0.04600806101463568,
          -1.7966551890917202,
          0.7652794645240333,
          0.8581402785156085,
          -1.9538014853491246,
          -3.122243866563067,
          0.401558755968805,
          -3.633220772668833,
          4.5397615461020955,
          -1.3707312752917102,
          1.0031350285265734,
          -0.6629998131085991,
          -1.9245422135936163,
          0.7439428380658922,
          0.7305412972868951,
          -1.6140385875851186,
          6.281272710453684,
          -0.3345853321883324,
          -2.173381757703676,
          1.5129233664357875,
          -0.8004490275164057,
          -1.5225281976973948,
          1.5856647455501025,
          0.49504490384908467,
          -1.259547288708525,
          -0.5162477186877981,
          -0.04295643310335856,
          -2.9765752662349114,
          -0.06516773726994422,
          -1.2173790345434865,
          1.7768608139463486,
          -1.0613950507378889,
          -2.10022703523807,
          1.1008457897194321,
          -2.5159344553873604,
          2.3376791728608954,
          1.615039889274413,
          1.364588515239036,
          -2.044222318542216,
          0.42042618039043766,
          -0.03597177187056613,
          0.21581245158498927,
          -1.7036552166148962,
          -1.6945293056101303,
          -0.16618569830701646,
          -3.2313095518921613,
          -2.28162459260435,
          -0.18672260989642223,
          -0.25454079416903747,
          0.012157165817250773,
          0.08739031115031766,
          -0.49150919592869446,
          2.3311181810286383,
          2.001863099725205,
          -2.0632310585454436,
          1.0632326482278458,
          2.425886863240252,
          -2.287521000499961,
          1.9707992449646121,
          1.801531125617769,
          1.4395229562616922,
          -1.9289963874757872,
          2.5739434431551205,
          1.6406310425157626,
          0.879230736092475,
          1.3332689644039575,
          -1.2895282949536833,
          -1.979310719576927,
          3.2360872574085313,
          1.654201196848669,
          -1.6113626630789637,
          -0.7910196583406849,
          0.5618533095229759,
          -2.1215007107244213,
          -2.411747342783796,
          0.34142488801724513,
          0.17653359769537574,
          -1.36543167501784,
          1.8710164502330906,
          0.8971467422618491,
          1.722484834687029,
          -2.3930152316197657,
          0.6433253452023352,
          -0.5978364147414454,
          2.017530625997786,
          -1.170028205267558,
          -1.5849832072971193,
          -0.2680369697386766,
          -0.7395235756074341,
          -1.8896211876255147,
          -2.544805614002773,
          -1.063529200020342,
          1.178777136298457,
          -1.027648422052919,
          3.5575118398141266,
          -0.8843497983927191,
          -0.28585475580232445,
          -1.6383706961342133,
          -2.7008441497475895,
          -2.7787769203656443,
          -3.0446075482601533,
          -1.4796434857035843,
          1.2424613527986637,
          -1.1916372192778777,
          -0.23928794637122444,
          3.0008265163033476,
          -1.200473007471912,
          -2.624899486818146,
          -3.510092301889188,
          2.4845866322353904,
          -1.0038204501797048,
          0.08254419362483528,
          -1.1586506359822806,
          0.17391900380849473,
          -0.18391411924846965,
          -2.8381774031207234,
          2.09669299374051,
          0.690584881819501,
          1.2590874409601545,
          1.8180471728267942,
          2.551757912327164,
          -0.9997604932344545,
          -1.426864289971733,
          0.42251564449408696,
          -0.12177355410307175,
          -2.698666752868173,
          0.34888456938794626,
          -3.386867717975704,
          -0.16400778511032713,
          1.5031472286878804,
          -2.3732285782249813,
          -1.4379994369852034,
          0.08898491796123338,
          -2.289960543046277,
          0.3222147853532649,
          0.579699505685163,
          -0.8828027878155811,
          -1.6632917449830817,
          0.7278349206346544,
          1.6568203347230217,
          -1.153324877929984,
          1.1669113160355038,
          -0.7646846904610966,
          -1.8849109715353176,
          0.9116550871120093,
          -2.423789958199642,
          -1.646764274818634,
          -1.1782618757781866,
          -0.4576335629012979,
          1.15463537865807,
          -1.5975642839569353,
          -1.2983249233944432,
          -1.442343104638508,
          -1.5049846295757852,
          -2.115416323545371,
          0.9052132352252605,
          -1.291771716867772,
          1.211534484934947,
          0.7456286328751334,
          -2.7547683867957584,
          -2.1530345290564186,
          -2.9532902088822555,
          1.1418585931688492,
          -1.0983850111458615,
          0.5347272315303987,
          -0.5458693295387634,
          -1.79313747974385,
          -3.208864383385833,
          -2.216269469312178,
          0.8784154539214113,
          -2.749556512942869,
          -0.8457377959969742,
          3.6871261141315403,
          5.081525553316774,
          -1.262372586414096,
          2.383924795456416,
          0.7272820723013736,
          -0.6885454959624911,
          -0.834750531937935,
          -2.710428139756239,
          1.5965977031049552,
          0.9319886335449808,
          0.8979824421974093,
          0.31874301663392357,
          0.24074739450689714,
          0.5564030085862448,
          2.412447566960724,
          1.3517093465109784,
          1.7527520080597758,
          2.4350396380159083,
          -1.736347866260353,
          -0.5400628857083061,
          -2.8636047946929093,
          0.4081815862813534,
          1.7859098848019843,
          -2.2613709880665374,
          0.4327123881236174,
          1.8964031827861212,
          -2.549291507243993,
          1.7411630930117314,
          -0.08172613430041935,
          -1.1212543006587912,
          -3.534157400499423,
          -1.295166752386674,
          -1.6659802926947713,
          0.9213185618084038,
          3.7316250201041385,
          1.0107286841450125,
          -1.3009679624271235,
          -1.7275723585719631,
          -2.25935595063271,
          -1.8296236001488277,
          -2.5580329408768057,
          1.3891549569021484,
          -0.32272602817697255,
          -2.1030309961283704,
          0.3280456758291871,
          3.0596882284991995,
          5.001219215056548,
          -2.9575952566939776,
          -0.8008860669419906,
          -0.3871261511630765,
          0.837312407799695,
          -2.037091285143421,
          1.823861413545594,
          -0.6017401725752132,
          1.2115951188224334,
          -1.7357401269987587,
          -0.8583252650746596,
          3.3540600023868916,
          -2.4215807327648182,
          0.31476634095383876,
          -0.3637614530143229,
          0.26303970896866735,
          -0.9706461633575906,
          -0.4968468219780829,
          -2.2202674160880473,
          -1.1656833365394652,
          2.466487453070217,
          3.837882247174675,
          2.7509983857500537,
          -0.7476753267362707,
          2.6010656349864867,
          0.20073967625231814,
          -0.9548673441206454,
          -1.4687099109399113,
          -1.9262368154233367,
          2.591931385175227,
          -1.8053039017541834,
          -1.740761177123461,
          1.5231424837388248,
          -0.46109848336159676,
          -1.855479128020024,
          -1.3310538959195775,
          0.5224115428286843,
          2.2710450211247246,
          3.586963652320579,
          -0.5397322900109583,
          -0.765284126627813,
          -1.388708408559734,
          1.57691021737552,
          -1.1676980804177621,
          1.2949583508439004,
          0.9484319186375516,
          -2.2869361369282393,
          3.823695507432437,
          2.7699123457680375,
          0.03811944588729042,
          0.8373063591458193,
          -2.376053256201926,
          -0.7858442638855804,
          2.825009163916801,
          1.062930575775909,
          0.015666246634661464,
          -0.9108403328495598,
          -1.4115055348719734,
          -1.7958106462357402,
          -2.4277853782363854,
          -1.2384154997820382,
          -1.8486854168967994,
          -0.7474667358334174,
          -1.4241655005277745,
          -2.7231273745913644,
          2.567097682487478,
          -2.51094839063113,
          -2.3175335554838425,
          3.070175206317046,
          1.0824484939367474,
          3.243745538173435,
          0.4216157691857104,
          1.414721494984246,
          2.213898877055682,
          -0.8776361153154326,
          -2.85295088204853,
          1.8077880520419896,
          0.9314089876823719,
          -1.8450872188622773,
          0.1497953902721247,
          -2.577167019238897,
          -1.7719422097592876,
          -0.8015227621523039,
          -1.7776594301055963,
          2.21182022001533,
          -1.8231401793016062,
          -1.721860601298921,
          -0.3534242488588125,
          0.33240429896061907,
          -0.3405094419971805,
          -2.627889475164317,
          -2.709296469518449,
          -2.3682121817675283,
          -1.2779142189866144,
          0.333609641562322,
          0.8978421968181595,
          -2.7241565712400275,
          -0.2641387180762859,
          -0.43664034991666556,
          -0.3178214187646244,
          -1.3102569871838932,
          1.9348244305813702,
          -1.119827444646594,
          -0.6618444161200021,
          -1.220246273417422,
          2.4159635120789122,
          -1.078262523474065,
          0.454657069905916,
          -0.5141393886108406,
          -0.2960681698283365,
          -3.5093070529356623,
          3.5228072342801284,
          -1.6989401784952156,
          -1.1560980069121964,
          -2.6349240933461755,
          -2.8786374338431306,
          -0.25959717087243417,
          2.4372851218358096,
          -2.650278273831275,
          2.1827498173444493,
          -0.3486552568936589,
          3.5583369615179845,
          -1.1436344681126274,
          0.1485272362728887,
          5.63308789052169,
          -0.24356393313331512,
          -2.4927930749866336,
          -1.0438658805402379,
          1.0557420304772056,
          -2.6143637667013166,
          -1.4476959016496458,
          2.8304578741389057,
          1.6162198433879802,
          1.0836174707393824,
          -0.4274678537946891,
          -2.816452042528848,
          -2.7998946045657394,
          4.735364738250927,
          -0.27021025009662786,
          4.072971929513035,
          -2.9478953676951023,
          0.978261023740988,
          4.338027051693711,
          1.5002896596855009,
          -0.17647859853892256,
          -1.9494487350440926,
          1.2678340900715608,
          1.9946173429035134,
          -0.895457759096949,
          -2.9696674438499264,
          3.4108337228601053,
          -2.220881221887456,
          4.300584753442838,
          1.2901654145827561,
          -2.4373082006501146,
          1.9567562747685785,
          1.5241259968830854,
          -1.6758786898239515,
          -2.5105819019553173
         ]
        }
       ],
       "layout": {
        "coloraxis": {
         "colorbar": {
          "title": {
           "text": "color"
          }
         },
         "colorscale": [
          [
           0,
           "#0d0887"
          ],
          [
           0.1111111111111111,
           "#46039f"
          ],
          [
           0.2222222222222222,
           "#7201a8"
          ],
          [
           0.3333333333333333,
           "#9c179e"
          ],
          [
           0.4444444444444444,
           "#bd3786"
          ],
          [
           0.5555555555555556,
           "#d8576b"
          ],
          [
           0.6666666666666666,
           "#ed7953"
          ],
          [
           0.7777777777777778,
           "#fb9f3a"
          ],
          [
           0.8888888888888888,
           "#fdca26"
          ],
          [
           1,
           "#f0f921"
          ]
         ]
        },
        "legend": {
         "tracegroupgap": 0
        },
        "margin": {
         "t": 60
        },
        "scene": {
         "domain": {
          "x": [
           0,
           1
          ],
          "y": [
           0,
           1
          ]
         },
         "xaxis": {
          "title": {
           "text": "x"
          }
         },
         "yaxis": {
          "title": {
           "text": "y"
          }
         },
         "zaxis": {
          "title": {
           "text": "z"
          }
         }
        },
        "template": {
         "data": {
          "bar": [
           {
            "error_x": {
             "color": "#2a3f5f"
            },
            "error_y": {
             "color": "#2a3f5f"
            },
            "marker": {
             "line": {
              "color": "#E5ECF6",
              "width": 0.5
             },
             "pattern": {
              "fillmode": "overlay",
              "size": 10,
              "solidity": 0.2
             }
            },
            "type": "bar"
           }
          ],
          "barpolar": [
           {
            "marker": {
             "line": {
              "color": "#E5ECF6",
              "width": 0.5
             },
             "pattern": {
              "fillmode": "overlay",
              "size": 10,
              "solidity": 0.2
             }
            },
            "type": "barpolar"
           }
          ],
          "carpet": [
           {
            "aaxis": {
             "endlinecolor": "#2a3f5f",
             "gridcolor": "white",
             "linecolor": "white",
             "minorgridcolor": "white",
             "startlinecolor": "#2a3f5f"
            },
            "baxis": {
             "endlinecolor": "#2a3f5f",
             "gridcolor": "white",
             "linecolor": "white",
             "minorgridcolor": "white",
             "startlinecolor": "#2a3f5f"
            },
            "type": "carpet"
           }
          ],
          "choropleth": [
           {
            "colorbar": {
             "outlinewidth": 0,
             "ticks": ""
            },
            "type": "choropleth"
           }
          ],
          "contour": [
           {
            "colorbar": {
             "outlinewidth": 0,
             "ticks": ""
            },
            "colorscale": [
             [
              0,
              "#0d0887"
             ],
             [
              0.1111111111111111,
              "#46039f"
             ],
             [
              0.2222222222222222,
              "#7201a8"
             ],
             [
              0.3333333333333333,
              "#9c179e"
             ],
             [
              0.4444444444444444,
              "#bd3786"
             ],
             [
              0.5555555555555556,
              "#d8576b"
             ],
             [
              0.6666666666666666,
              "#ed7953"
             ],
             [
              0.7777777777777778,
              "#fb9f3a"
             ],
             [
              0.8888888888888888,
              "#fdca26"
             ],
             [
              1,
              "#f0f921"
             ]
            ],
            "type": "contour"
           }
          ],
          "contourcarpet": [
           {
            "colorbar": {
             "outlinewidth": 0,
             "ticks": ""
            },
            "type": "contourcarpet"
           }
          ],
          "heatmap": [
           {
            "colorbar": {
             "outlinewidth": 0,
             "ticks": ""
            },
            "colorscale": [
             [
              0,
              "#0d0887"
             ],
             [
              0.1111111111111111,
              "#46039f"
             ],
             [
              0.2222222222222222,
              "#7201a8"
             ],
             [
              0.3333333333333333,
              "#9c179e"
             ],
             [
              0.4444444444444444,
              "#bd3786"
             ],
             [
              0.5555555555555556,
              "#d8576b"
             ],
             [
              0.6666666666666666,
              "#ed7953"
             ],
             [
              0.7777777777777778,
              "#fb9f3a"
             ],
             [
              0.8888888888888888,
              "#fdca26"
             ],
             [
              1,
              "#f0f921"
             ]
            ],
            "type": "heatmap"
           }
          ],
          "heatmapgl": [
           {
            "colorbar": {
             "outlinewidth": 0,
             "ticks": ""
            },
            "colorscale": [
             [
              0,
              "#0d0887"
             ],
             [
              0.1111111111111111,
              "#46039f"
             ],
             [
              0.2222222222222222,
              "#7201a8"
             ],
             [
              0.3333333333333333,
              "#9c179e"
             ],
             [
              0.4444444444444444,
              "#bd3786"
             ],
             [
              0.5555555555555556,
              "#d8576b"
             ],
             [
              0.6666666666666666,
              "#ed7953"
             ],
             [
              0.7777777777777778,
              "#fb9f3a"
             ],
             [
              0.8888888888888888,
              "#fdca26"
             ],
             [
              1,
              "#f0f921"
             ]
            ],
            "type": "heatmapgl"
           }
          ],
          "histogram": [
           {
            "marker": {
             "pattern": {
              "fillmode": "overlay",
              "size": 10,
              "solidity": 0.2
             }
            },
            "type": "histogram"
           }
          ],
          "histogram2d": [
           {
            "colorbar": {
             "outlinewidth": 0,
             "ticks": ""
            },
            "colorscale": [
             [
              0,
              "#0d0887"
             ],
             [
              0.1111111111111111,
              "#46039f"
             ],
             [
              0.2222222222222222,
              "#7201a8"
             ],
             [
              0.3333333333333333,
              "#9c179e"
             ],
             [
              0.4444444444444444,
              "#bd3786"
             ],
             [
              0.5555555555555556,
              "#d8576b"
             ],
             [
              0.6666666666666666,
              "#ed7953"
             ],
             [
              0.7777777777777778,
              "#fb9f3a"
             ],
             [
              0.8888888888888888,
              "#fdca26"
             ],
             [
              1,
              "#f0f921"
             ]
            ],
            "type": "histogram2d"
           }
          ],
          "histogram2dcontour": [
           {
            "colorbar": {
             "outlinewidth": 0,
             "ticks": ""
            },
            "colorscale": [
             [
              0,
              "#0d0887"
             ],
             [
              0.1111111111111111,
              "#46039f"
             ],
             [
              0.2222222222222222,
              "#7201a8"
             ],
             [
              0.3333333333333333,
              "#9c179e"
             ],
             [
              0.4444444444444444,
              "#bd3786"
             ],
             [
              0.5555555555555556,
              "#d8576b"
             ],
             [
              0.6666666666666666,
              "#ed7953"
             ],
             [
              0.7777777777777778,
              "#fb9f3a"
             ],
             [
              0.8888888888888888,
              "#fdca26"
             ],
             [
              1,
              "#f0f921"
             ]
            ],
            "type": "histogram2dcontour"
           }
          ],
          "mesh3d": [
           {
            "colorbar": {
             "outlinewidth": 0,
             "ticks": ""
            },
            "type": "mesh3d"
           }
          ],
          "parcoords": [
           {
            "line": {
             "colorbar": {
              "outlinewidth": 0,
              "ticks": ""
             }
            },
            "type": "parcoords"
           }
          ],
          "pie": [
           {
            "automargin": true,
            "type": "pie"
           }
          ],
          "scatter": [
           {
            "fillpattern": {
             "fillmode": "overlay",
             "size": 10,
             "solidity": 0.2
            },
            "type": "scatter"
           }
          ],
          "scatter3d": [
           {
            "line": {
             "colorbar": {
              "outlinewidth": 0,
              "ticks": ""
             }
            },
            "marker": {
             "colorbar": {
              "outlinewidth": 0,
              "ticks": ""
             }
            },
            "type": "scatter3d"
           }
          ],
          "scattercarpet": [
           {
            "marker": {
             "colorbar": {
              "outlinewidth": 0,
              "ticks": ""
             }
            },
            "type": "scattercarpet"
           }
          ],
          "scattergeo": [
           {
            "marker": {
             "colorbar": {
              "outlinewidth": 0,
              "ticks": ""
             }
            },
            "type": "scattergeo"
           }
          ],
          "scattergl": [
           {
            "marker": {
             "colorbar": {
              "outlinewidth": 0,
              "ticks": ""
             }
            },
            "type": "scattergl"
           }
          ],
          "scattermapbox": [
           {
            "marker": {
             "colorbar": {
              "outlinewidth": 0,
              "ticks": ""
             }
            },
            "type": "scattermapbox"
           }
          ],
          "scatterpolar": [
           {
            "marker": {
             "colorbar": {
              "outlinewidth": 0,
              "ticks": ""
             }
            },
            "type": "scatterpolar"
           }
          ],
          "scatterpolargl": [
           {
            "marker": {
             "colorbar": {
              "outlinewidth": 0,
              "ticks": ""
             }
            },
            "type": "scatterpolargl"
           }
          ],
          "scatterternary": [
           {
            "marker": {
             "colorbar": {
              "outlinewidth": 0,
              "ticks": ""
             }
            },
            "type": "scatterternary"
           }
          ],
          "surface": [
           {
            "colorbar": {
             "outlinewidth": 0,
             "ticks": ""
            },
            "colorscale": [
             [
              0,
              "#0d0887"
             ],
             [
              0.1111111111111111,
              "#46039f"
             ],
             [
              0.2222222222222222,
              "#7201a8"
             ],
             [
              0.3333333333333333,
              "#9c179e"
             ],
             [
              0.4444444444444444,
              "#bd3786"
             ],
             [
              0.5555555555555556,
              "#d8576b"
             ],
             [
              0.6666666666666666,
              "#ed7953"
             ],
             [
              0.7777777777777778,
              "#fb9f3a"
             ],
             [
              0.8888888888888888,
              "#fdca26"
             ],
             [
              1,
              "#f0f921"
             ]
            ],
            "type": "surface"
           }
          ],
          "table": [
           {
            "cells": {
             "fill": {
              "color": "#EBF0F8"
             },
             "line": {
              "color": "white"
             }
            },
            "header": {
             "fill": {
              "color": "#C8D4E3"
             },
             "line": {
              "color": "white"
             }
            },
            "type": "table"
           }
          ]
         },
         "layout": {
          "annotationdefaults": {
           "arrowcolor": "#2a3f5f",
           "arrowhead": 0,
           "arrowwidth": 1
          },
          "autotypenumbers": "strict",
          "coloraxis": {
           "colorbar": {
            "outlinewidth": 0,
            "ticks": ""
           }
          },
          "colorscale": {
           "diverging": [
            [
             0,
             "#8e0152"
            ],
            [
             0.1,
             "#c51b7d"
            ],
            [
             0.2,
             "#de77ae"
            ],
            [
             0.3,
             "#f1b6da"
            ],
            [
             0.4,
             "#fde0ef"
            ],
            [
             0.5,
             "#f7f7f7"
            ],
            [
             0.6,
             "#e6f5d0"
            ],
            [
             0.7,
             "#b8e186"
            ],
            [
             0.8,
             "#7fbc41"
            ],
            [
             0.9,
             "#4d9221"
            ],
            [
             1,
             "#276419"
            ]
           ],
           "sequential": [
            [
             0,
             "#0d0887"
            ],
            [
             0.1111111111111111,
             "#46039f"
            ],
            [
             0.2222222222222222,
             "#7201a8"
            ],
            [
             0.3333333333333333,
             "#9c179e"
            ],
            [
             0.4444444444444444,
             "#bd3786"
            ],
            [
             0.5555555555555556,
             "#d8576b"
            ],
            [
             0.6666666666666666,
             "#ed7953"
            ],
            [
             0.7777777777777778,
             "#fb9f3a"
            ],
            [
             0.8888888888888888,
             "#fdca26"
            ],
            [
             1,
             "#f0f921"
            ]
           ],
           "sequentialminus": [
            [
             0,
             "#0d0887"
            ],
            [
             0.1111111111111111,
             "#46039f"
            ],
            [
             0.2222222222222222,
             "#7201a8"
            ],
            [
             0.3333333333333333,
             "#9c179e"
            ],
            [
             0.4444444444444444,
             "#bd3786"
            ],
            [
             0.5555555555555556,
             "#d8576b"
            ],
            [
             0.6666666666666666,
             "#ed7953"
            ],
            [
             0.7777777777777778,
             "#fb9f3a"
            ],
            [
             0.8888888888888888,
             "#fdca26"
            ],
            [
             1,
             "#f0f921"
            ]
           ]
          },
          "colorway": [
           "#636efa",
           "#EF553B",
           "#00cc96",
           "#ab63fa",
           "#FFA15A",
           "#19d3f3",
           "#FF6692",
           "#B6E880",
           "#FF97FF",
           "#FECB52"
          ],
          "font": {
           "color": "#2a3f5f"
          },
          "geo": {
           "bgcolor": "white",
           "lakecolor": "white",
           "landcolor": "#E5ECF6",
           "showlakes": true,
           "showland": true,
           "subunitcolor": "white"
          },
          "hoverlabel": {
           "align": "left"
          },
          "hovermode": "closest",
          "mapbox": {
           "style": "light"
          },
          "paper_bgcolor": "white",
          "plot_bgcolor": "#E5ECF6",
          "polar": {
           "angularaxis": {
            "gridcolor": "white",
            "linecolor": "white",
            "ticks": ""
           },
           "bgcolor": "#E5ECF6",
           "radialaxis": {
            "gridcolor": "white",
            "linecolor": "white",
            "ticks": ""
           }
          },
          "scene": {
           "xaxis": {
            "backgroundcolor": "#E5ECF6",
            "gridcolor": "white",
            "gridwidth": 2,
            "linecolor": "white",
            "showbackground": true,
            "ticks": "",
            "zerolinecolor": "white"
           },
           "yaxis": {
            "backgroundcolor": "#E5ECF6",
            "gridcolor": "white",
            "gridwidth": 2,
            "linecolor": "white",
            "showbackground": true,
            "ticks": "",
            "zerolinecolor": "white"
           },
           "zaxis": {
            "backgroundcolor": "#E5ECF6",
            "gridcolor": "white",
            "gridwidth": 2,
            "linecolor": "white",
            "showbackground": true,
            "ticks": "",
            "zerolinecolor": "white"
           }
          },
          "shapedefaults": {
           "line": {
            "color": "#2a3f5f"
           }
          },
          "ternary": {
           "aaxis": {
            "gridcolor": "white",
            "linecolor": "white",
            "ticks": ""
           },
           "baxis": {
            "gridcolor": "white",
            "linecolor": "white",
            "ticks": ""
           },
           "bgcolor": "#E5ECF6",
           "caxis": {
            "gridcolor": "white",
            "linecolor": "white",
            "ticks": ""
           }
          },
          "title": {
           "x": 0.05
          },
          "xaxis": {
           "automargin": true,
           "gridcolor": "white",
           "linecolor": "white",
           "ticks": "",
           "title": {
            "standoff": 15
           },
           "zerolinecolor": "white",
           "zerolinewidth": 2
          },
          "yaxis": {
           "automargin": true,
           "gridcolor": "white",
           "linecolor": "white",
           "ticks": "",
           "title": {
            "standoff": 15
           },
           "zerolinecolor": "white",
           "zerolinewidth": 2
          }
         }
        }
       }
      }
     },
     "metadata": {},
     "output_type": "display_data"
    }
   ],
   "source": [
    "px.scatter_3d(x=x_testdf.iloc[:,0],y=x_testdf.iloc[:,1],z=x_testdf.iloc[:,2], color= y_pred)"
   ]
  },
  {
   "cell_type": "code",
   "execution_count": 115,
   "metadata": {},
   "outputs": [
    {
     "name": "stdout",
     "output_type": "stream",
     "text": [
      "10\n",
      " Training QDT no : 1\n",
      "Epoch:  1 | Loss: 0.203425 |  accuracy: 0.693750 \n",
      "Epoch:  2 | Loss: 0.179361 |  accuracy: 0.725000 \n",
      "Epoch:  3 | Loss: 0.154319 |  accuracy: 0.800000 \n",
      "Epoch:  4 | Loss: 0.124650 |  accuracy: 0.856250 \n",
      "Epoch:  5 | Loss: 0.094860 |  accuracy: 0.875000 \n",
      "Epoch:  6 | Loss: 0.098508 |  accuracy: 0.881250 \n",
      "Epoch:  7 | Loss: 0.094909 |  accuracy: 0.893750 \n",
      "Epoch:  8 | Loss: 0.092263 |  accuracy: 0.900000 \n",
      "Epoch:  9 | Loss: 0.091020 |  accuracy: 0.900000 \n",
      "Epoch: 10 | Loss: 0.089572 |  accuracy: 0.893750 \n",
      " Training QDT no : 2\n",
      "Epoch:  1 | Loss: 0.307789 |  accuracy: 0.531250 \n",
      "Epoch:  2 | Loss: 0.306241 |  accuracy: 0.531250 \n",
      "Epoch:  3 | Loss: 0.244919 |  accuracy: 0.637500 \n",
      "Epoch:  4 | Loss: 0.206208 |  accuracy: 0.656250 \n",
      "Epoch:  5 | Loss: 0.168673 |  accuracy: 0.750000 \n",
      "Epoch:  6 | Loss: 0.145796 |  accuracy: 0.793750 \n",
      "Epoch:  7 | Loss: 0.132668 |  accuracy: 0.800000 \n",
      "Epoch:  8 | Loss: 0.119734 |  accuracy: 0.856250 \n",
      "Epoch:  9 | Loss: 0.119294 |  accuracy: 0.868750 \n",
      "Epoch: 10 | Loss: 0.116905 |  accuracy: 0.825000 \n",
      " Training QDT no : 3\n",
      "Epoch:  1 | Loss: 0.274225 |  accuracy: 0.587500 \n",
      "Epoch:  2 | Loss: 0.292769 |  accuracy: 0.587500 \n",
      "Epoch:  3 | Loss: 0.205577 |  accuracy: 0.687500 \n",
      "Epoch:  4 | Loss: 0.227477 |  accuracy: 0.681250 \n",
      "Epoch:  5 | Loss: 0.162272 |  accuracy: 0.781250 \n",
      "Epoch:  6 | Loss: 0.176455 |  accuracy: 0.756250 \n",
      "Epoch:  7 | Loss: 0.166573 |  accuracy: 0.768750 \n",
      "Epoch:  8 | Loss: 0.152580 |  accuracy: 0.750000 \n",
      "Epoch:  9 | Loss: 0.134485 |  accuracy: 0.825000 \n",
      "Epoch: 10 | Loss: 0.131640 |  accuracy: 0.825000 \n",
      " Training QDT no : 4\n",
      "Epoch:  1 | Loss: 0.304940 |  accuracy: 0.525000 \n",
      "Epoch:  2 | Loss: 0.269381 |  accuracy: 0.606250 \n",
      "Epoch:  3 | Loss: 0.210807 |  accuracy: 0.693750 \n",
      "Epoch:  4 | Loss: 0.264831 |  accuracy: 0.618750 \n",
      "Epoch:  5 | Loss: 0.208517 |  accuracy: 0.693750 \n",
      "Epoch:  6 | Loss: 0.178137 |  accuracy: 0.743750 \n",
      "Epoch:  7 | Loss: 0.187062 |  accuracy: 0.743750 \n",
      "Epoch:  8 | Loss: 0.191321 |  accuracy: 0.718750 \n",
      "Epoch:  9 | Loss: 0.184219 |  accuracy: 0.706250 \n",
      "Epoch: 10 | Loss: 0.176764 |  accuracy: 0.768750 \n",
      " Training QDT no : 5\n",
      "Epoch:  1 | Loss: 0.364708 |  accuracy: 0.450000 \n",
      "Epoch:  2 | Loss: 0.212745 |  accuracy: 0.693750 \n",
      "Epoch:  3 | Loss: 0.211349 |  accuracy: 0.693750 \n",
      "Epoch:  4 | Loss: 0.212995 |  accuracy: 0.718750 \n",
      "Epoch:  5 | Loss: 0.209799 |  accuracy: 0.693750 \n",
      "Epoch:  6 | Loss: 0.161800 |  accuracy: 0.781250 \n",
      "Epoch:  7 | Loss: 0.142961 |  accuracy: 0.806250 \n",
      "Epoch:  8 | Loss: 0.134485 |  accuracy: 0.787500 \n",
      "Epoch:  9 | Loss: 0.114686 |  accuracy: 0.843750 \n",
      "Epoch: 10 | Loss: 0.108994 |  accuracy: 0.856250 \n",
      " Training QDT no : 6\n",
      "Epoch:  1 | Loss: 0.264166 |  accuracy: 0.600000 \n",
      "Epoch:  2 | Loss: 0.226114 |  accuracy: 0.631250 \n",
      "Epoch:  3 | Loss: 0.205466 |  accuracy: 0.700000 \n",
      "Epoch:  4 | Loss: 0.198355 |  accuracy: 0.737500 \n",
      "Epoch:  5 | Loss: 0.173487 |  accuracy: 0.768750 \n",
      "Epoch:  6 | Loss: 0.163649 |  accuracy: 0.787500 \n",
      "Epoch:  7 | Loss: 0.157607 |  accuracy: 0.793750 \n",
      "Epoch:  8 | Loss: 0.164870 |  accuracy: 0.768750 \n",
      "Epoch:  9 | Loss: 0.162242 |  accuracy: 0.781250 \n",
      "Epoch: 10 | Loss: 0.155687 |  accuracy: 0.793750 \n",
      " Training QDT no : 7\n",
      "Epoch:  1 | Loss: 0.237218 |  accuracy: 0.656250 \n",
      "Epoch:  2 | Loss: 0.199024 |  accuracy: 0.712500 \n",
      "Epoch:  3 | Loss: 0.183762 |  accuracy: 0.737500 \n",
      "Epoch:  4 | Loss: 0.164496 |  accuracy: 0.812500 \n",
      "Epoch:  5 | Loss: 0.167362 |  accuracy: 0.756250 \n",
      "Epoch:  6 | Loss: 0.161595 |  accuracy: 0.793750 \n",
      "Epoch:  7 | Loss: 0.159829 |  accuracy: 0.781250 \n",
      "Epoch:  8 | Loss: 0.156729 |  accuracy: 0.800000 \n",
      "Epoch:  9 | Loss: 0.149482 |  accuracy: 0.806250 \n",
      "Epoch: 10 | Loss: 0.146994 |  accuracy: 0.818750 \n",
      " Training QDT no : 8\n",
      "Epoch:  1 | Loss: 0.260064 |  accuracy: 0.575000 \n",
      "Epoch:  2 | Loss: 0.206373 |  accuracy: 0.712500 \n",
      "Epoch:  3 | Loss: 0.150800 |  accuracy: 0.800000 \n",
      "Epoch:  4 | Loss: 0.162900 |  accuracy: 0.775000 \n",
      "Epoch:  5 | Loss: 0.137015 |  accuracy: 0.837500 \n",
      "Epoch:  6 | Loss: 0.155687 |  accuracy: 0.793750 \n",
      "Epoch:  7 | Loss: 0.130570 |  accuracy: 0.831250 \n",
      "Epoch:  8 | Loss: 0.135847 |  accuracy: 0.843750 \n",
      "Epoch:  9 | Loss: 0.120759 |  accuracy: 0.831250 \n",
      "Epoch: 10 | Loss: 0.111701 |  accuracy: 0.831250 \n",
      " Training QDT no : 9\n",
      "Epoch:  1 | Loss: 0.357108 |  accuracy: 0.475000 \n",
      "Epoch:  2 | Loss: 0.200879 |  accuracy: 0.737500 \n",
      "Epoch:  3 | Loss: 0.252119 |  accuracy: 0.600000 \n",
      "Epoch:  4 | Loss: 0.214396 |  accuracy: 0.700000 \n",
      "Epoch:  5 | Loss: 0.217078 |  accuracy: 0.693750 \n",
      "Epoch:  6 | Loss: 0.192845 |  accuracy: 0.706250 \n",
      "Epoch:  7 | Loss: 0.200107 |  accuracy: 0.693750 \n",
      "Epoch:  8 | Loss: 0.175379 |  accuracy: 0.750000 \n",
      "Epoch:  9 | Loss: 0.162782 |  accuracy: 0.793750 \n",
      "Epoch: 10 | Loss: 0.164058 |  accuracy: 0.775000 \n",
      " Training QDT no : 10\n",
      "Epoch:  1 | Loss: 0.215144 |  accuracy: 0.675000 \n",
      "Epoch:  2 | Loss: 0.165607 |  accuracy: 0.775000 \n",
      "Epoch:  3 | Loss: 0.160471 |  accuracy: 0.775000 \n",
      "Epoch:  4 | Loss: 0.148273 |  accuracy: 0.800000 \n",
      "Epoch:  5 | Loss: 0.133012 |  accuracy: 0.812500 \n",
      "Epoch:  6 | Loss: 0.126950 |  accuracy: 0.831250 \n",
      "Epoch:  7 | Loss: 0.120575 |  accuracy: 0.825000 \n",
      "Epoch:  8 | Loss: 0.114448 |  accuracy: 0.868750 \n",
      "Epoch:  9 | Loss: 0.116422 |  accuracy: 0.850000 \n",
      "Epoch: 10 | Loss: 0.112922 |  accuracy: 0.862500 \n",
      "[1 2 3 3 0 2 0 1 0 2 2 0 0 2 0 3 3 0 1 0 1 2 1 1 3 5 5 1 0 0 5 1 3 1 0 4 1\n",
      " 5 1 5 0 0 2 5 1 2 2 3 0 2 1 1 1 3 1 3 4 3 2 3 0 3 0 2 2 3 3 0 4 0 1 1 3 3\n",
      " 3 4 2 6 0 4 2 3 3 1 3 4 2 0 4 0 1 2 2 1 1 4 2 1 3 0 3 4 0 0 1 1 0 2 0 1 3\n",
      " 2 0 1 4 6 3 2 1 2 2 3 3 0 2 1 0 5 0 0 1 6 0 0 2 1 3 1 5 4 3 8 3 0 0 3 4 3\n",
      " 2 0 0 6 0 0 1 1 5 5 3 5 2 2 0 2 5 0 0 5 0 0 0 2 3 2 0 1 0 1 1 2 1 1 1 0 0\n",
      " 1 1 3 1 4 3 4 1 2 0 2 3 5 0 0 7 0 4 0 1 0 1 1 1 5 4 1 3 1 0 1 3 3 4 1 0 3\n",
      " 2 1 0 2 2 2 3 4 3 3 1 1 2 1 5 0 4 5 2 3 2 2 3 1 1 6 0 5 1 1 2 2 3 3 5 0 6\n",
      " 1 1 4 1 3 0 5 3 3 0 1 1 0 2 1 0 0 3 1 2 3 2 2 2 2 1 4 0 3 1 2 5 3 0 7 3 1\n",
      " 4 1 1 4 0 2 2 1 2 4 2 4 0 2 0 0 2 3 2 1 5 5 2 5 3 2 0 0 0 6 1 1 3 5 0 3 1\n",
      " 3 2 2 0 1 1 2 3 0 2 0 3 2 4 1 1 6 3 2 3 4 1 4 4 2 0 3 0 2 3 1 4 3 1 2 0 4\n",
      " 2 1 6 4 1 6 4 2 4 2 4 2 0 2 1 1 0 5 3 0 0 5 2 3 1 1 1 2 1 1]\n",
      "Recall(TP/FN+TP ):0.325\n",
      "Precsion(TP/FP+TP): 0.325 \n",
      "F1 score function of presscion and recall:0.325 \n"
     ]
    },
    {
     "data": {
      "image/png": "[encoded data removed]",
      "text/plain": [
       "<Figure size 640x480 with 2 Axes>"
      ]
     },
     "metadata": {},
     "output_type": "display_data"
    }
   ],
   "source": [
    "qrf = QRF(X_train,y_train, no_QDT=10,depth=5, sensetivity=0.5 ) \n",
    "\n",
    "qrf.train()\n",
    "\n",
    "y_pred,individual_y = qrf.predict(X_test, y_test)\n",
    "\n",
    "conMtx = confusion_matrix(y_test,y_pred)\n",
    "sns.heatmap(conMtx)\n",
    "f1 = f1_score(y_test,y_pred)\n",
    "recall = recall_score(y_test,y_pred)\n",
    "pre = precision_score(y_test,y_pred)\n",
    "\n",
    "print(f\"Recall(TP/FN+TP ):{recall}\")\n",
    "print(f\"Precsion(TP/FP+TP): {pre} \")\n",
    "print(f\"F1 score function of presscion and recall:{f1} \")\n"
   ]
  },
  {
   "cell_type": "code",
   "execution_count": 116,
   "metadata": {},
   "outputs": [
    {
     "data": {
      "application/vnd.plotly.v1+json": {
       "config": {
        "plotlyServerURL": "https://plot.ly"
       },
       "data": [
        {
         "hovertemplate": "x=%{x}<br>y=%{y}<br>z=%{z}<br>color=%{marker.color}<extra></extra>",
         "legendgroup": "",
         "marker": {
          "color": [
           0,
           0,
           0,
           0,
           0,
           0,
           0,
           0,
           0,
           0,
           0,
           0,
           0,
           0,
           0,
           0,
           0,
           0,
           0,
           0,
           0,
           0,
           0,
           0,
           0,
           1,
           1,
           0,
           0,
           0,
           1,
           0,
           0,
           0,
           0,
           0,
           0,
           1,
           0,
           1,
           0,
           0,
           0,
           1,
           0,
           0,
           0,
           0,
           0,
           0,
           0,
           0,
           0,
           0,
           0,
           0,
           0,
           0,
           0,
           0,
           0,
           0,
           0,
           0,
           0,
           0,
           0,
           0,
           0,
           0,
           0,
           0,
           0,
           0,
           0,
           0,
           0,
           1,
           0,
           0,
           0,
           0,
           0,
           0,
           0,
           0,
           0,
           0,
           0,
           0,
           0,
           0,
           0,
           0,
           0,
           0,
           0,
           0,
           0,
           0,
           0,
           0,
           0,
           0,
           0,
           0,
           0,
           0,
           0,
           0,
           0,
           0,
           0,
           0,
           0,
           1,
           0,
           0,
           0,
           0,
           0,
           0,
           0,
           0,
           0,
           0,
           0,
           1,
           0,
           0,
           0,
           1,
           0,
           0,
           0,
           0,
           0,
           0,
           1,
           0,
           0,
           1,
           0,
           0,
           0,
           0,
           0,
           0,
           0,
           0,
           0,
           1,
           0,
           0,
           0,
           0,
           1,
           1,
           0,
           1,
           0,
           0,
           0,
           0,
           1,
           0,
           0,
           1,
           0,
           0,
           0,
           0,
           0,
           0,
           0,
           0,
           0,
           0,
           0,
           0,
           0,
           0,
           0,
           0,
           0,
           0,
           0,
           0,
           0,
           0,
           0,
           0,
           0,
           0,
           0,
           0,
           0,
           1,
           0,
           0,
           1,
           0,
           0,
           0,
           0,
           0,
           0,
           0,
           0,
           1,
           0,
           0,
           0,
           0,
           0,
           0,
           0,
           0,
           0,
           0,
           0,
           0,
           0,
           0,
           0,
           0,
           0,
           0,
           0,
           0,
           0,
           0,
           0,
           0,
           0,
           0,
           1,
           0,
           0,
           1,
           0,
           0,
           0,
           0,
           0,
           0,
           0,
           1,
           0,
           1,
           0,
           0,
           0,
           0,
           0,
           0,
           1,
           0,
           1,
           0,
           0,
           0,
           0,
           0,
           0,
           1,
           0,
           0,
           0,
           0,
           0,
           0,
           0,
           0,
           0,
           0,
           0,
           0,
           0,
           0,
           0,
           0,
           0,
           0,
           0,
           0,
           0,
           0,
           0,
           0,
           1,
           0,
           0,
           1,
           0,
           0,
           0,
           0,
           0,
           0,
           0,
           0,
           0,
           0,
           0,
           0,
           0,
           0,
           0,
           0,
           0,
           0,
           0,
           0,
           0,
           0,
           1,
           1,
           0,
           1,
           0,
           0,
           0,
           0,
           0,
           1,
           0,
           0,
           0,
           1,
           0,
           0,
           0,
           0,
           0,
           0,
           0,
           0,
           0,
           0,
           0,
           0,
           0,
           0,
           0,
           0,
           0,
           0,
           0,
           1,
           0,
           0,
           0,
           0,
           0,
           0,
           0,
           0,
           0,
           0,
           0,
           0,
           0,
           0,
           0,
           0,
           0,
           0,
           0,
           0,
           0,
           0,
           1,
           0,
           0,
           1,
           0,
           0,
           0,
           0,
           0,
           0,
           0,
           0,
           0,
           0,
           0,
           1,
           0,
           0,
           0,
           1,
           0,
           0,
           0,
           0,
           0,
           0,
           0,
           0
          ],
          "coloraxis": "coloraxis",
          "symbol": "circle"
         },
         "mode": "markers",
         "name": "",
         "scene": "scene",
         "showlegend": false,
         "type": "scatter3d",
         "x": [
          7.203924070266284,
          -2.5609447461408976,
          5.639308384843588,
          3.0544859899600856,
          -6.098985707833628,
          -2.3728526512489396,
          -0.276013764174703,
          4.385682289208857,
          -6.032717547532622,
          0.7448612105411531,
          4.5161449985684525,
          1.5156827075875372,
          7.121836399761821,
          -5.330295293312268,
          4.355775422523092,
          2.353249012265955,
          7.769055523595671,
          5.943886762231404,
          -1.2998279762573521,
          -5.9366302822771795,
          -1.6126582808075987,
          7.80816284260002,
          -7.196192724270367,
          -5.319657468638225,
          4.073168104883865,
          -1.240233841934954,
          2.6707109199446957,
          -6.724122530596802,
          -3.1254244983879524,
          -3.880987825249434,
          -4.08989170254775,
          -1.470767454505767,
          7.1720875795570445,
          2.837311144706925,
          9.705070692541158,
          -2.83926421427601,
          4.375062679302176,
          -1.5774545023738993,
          -6.987198446748858,
          3.2669087997618584,
          -6.055874924226569,
          6.577334463384931,
          -3.524813619415456,
          4.86344367116555,
          -6.247306593066149,
          -4.487311761975919,
          -5.336656691022901,
          -5.032172186633748,
          -6.121763578761868,
          -1.1775877917834565,
          6.9757691392272845,
          -6.099147973242507,
          -6.269976242908781,
          -4.656085087574266,
          0.8173781028402018,
          8.886696257053497,
          -0.09377963914694347,
          -1.4938298320060177,
          -1.6551210471688873,
          -4.642859328516961,
          -4.6697111102439814,
          7.764996842920759,
          3.8009043979655925,
          -0.2187176273894369,
          -1.6487860556465304,
          8.383932149504222,
          5.795469518928827,
          6.739150719031043,
          0.3440537411496029,
          8.517714878400204,
          -5.79362447969959,
          1.5616338560114977,
          5.7485234377568615,
          -4.4468073697316335,
          -2.702803648786404,
          2.1399673594429314,
          4.392108764151224,
          5.133394290246857,
          6.224329557659949,
          0.6090380133642975,
          6.613587155143442,
          7.1695644805505125,
          7.546902478630216,
          5.200393595332108,
          7.574941077120244,
          3.6814486537555764,
          -4.94738977391632,
          2.5865078657343648,
          0.06499859794175666,
          -5.881483748151436,
          0.3727887737223328,
          -3.7773644484442683,
          5.094796420317379,
          5.8937199714402,
          1.675795660004064,
          1.6293567876237738,
          -2.432505695743313,
          2.7790489279709427,
          -6.477043555066059,
          1.4193362485089074,
          -2.7694124453410245,
          2.1326143608092423,
          -0.834254514071135,
          -4.640925724571085,
          3.241439501015477,
          4.101154296851597,
          -5.975654603647307,
          2.260382741385919,
          -6.025802323446821,
          -3.0819980120349615,
          8.88674446840755,
          -6.643030523200058,
          -5.892320454507683,
          -6.787005820462629,
          4.5748283248494115,
          0.06822322532002392,
          -6.545947745404773,
          0.4416615541327203,
          7.540576384912051,
          5.71433411253985,
          5.344697321766783,
          3.484845174827814,
          -6.3397561813403795,
          5.1051716505466445,
          6.085168341603478,
          -4.345743558096068,
          -6.4250362524059055,
          -3.1295097196674395,
          -0.8944897113315989,
          -6.3627176904480125,
          0.8447920364857265,
          0.04525411342577502,
          3.93685908810881,
          -6.232676623702319,
          -1.436565244802783,
          8.306175953981654,
          -1.432893139163286,
          6.717014185570476,
          8.229866641619221,
          2.5227131922552277,
          0.48642241864956837,
          -0.3062512780453204,
          2.092381556303094,
          6.15601356148429,
          -6.255283594422233,
          3.7952120420659763,
          4.820785084096091,
          -3.588675907039285,
          2.0849489865816255,
          4.370174427372227,
          6.141471412061204,
          2.6685308561598906,
          5.415065148315906,
          -6.088217133605396,
          8.887344379404631,
          -5.488356028620006,
          6.872019061082452,
          -6.0300238010098495,
          4.38858187162388,
          5.157018595877629,
          0.35835619537458774,
          -3.0859958113557218,
          5.744144748616372,
          -0.47907389325850575,
          0.39075337518889053,
          -5.883377228413314,
          6.268058926427664,
          0.2052809124272553,
          7.065120772154154,
          -3.5420796952256555,
          -5.6884607022100635,
          -5.6187081653041036,
          -4.366281671839374,
          -6.8854255202155805,
          -6.705996829617046,
          6.683736830356249,
          -6.364168415598526,
          5.333876032524296,
          -0.4317475635601301,
          -1.5282644762174407,
          1.6633869241119832,
          4.183653303759165,
          -0.6798593299135748,
          0.5363492039893308,
          5.012396019136997,
          6.8763503677487705,
          1.3629366975981587,
          6.635513381108584,
          0.15656082919837191,
          -1.659039570383292,
          4.75577679121959,
          6.7812934440753,
          6.077215533559585,
          7.279027490967427,
          1.2961093465449791,
          -2.8587026518427208,
          -1.2119767296952002,
          3.145864891794663,
          4.701438810132844,
          0.16612849006252195,
          2.6618391320933474,
          -5.844616164111117,
          4.995004102340721,
          2.6001212998812124,
          5.8446142135690735,
          2.7277011732409657,
          2.197627241663937,
          -5.297504383171283,
          3.1326766272942503,
          3.1861470897918656,
          0.1680968875129408,
          3.4997533975925186,
          -4.413635881774421,
          -4.096338537638226,
          4.479207161278834,
          -5.768143145852306,
          -1.3022397366359277,
          -4.69748397390476,
          5.222637960953292,
          -0.5532733352544754,
          -4.418246415171173,
          1.3128333906066194,
          8.307183696701642,
          -5.825120341754317,
          -4.322035218446206,
          -3.365817223413158,
          1.0180489386561267,
          5.527372782869725,
          0.35977681201221773,
          1.521382670224573,
          0.6597564809847348,
          4.239620914406348,
          1.984331168430736,
          0.15948571970678094,
          10.201392725490104,
          -6.890590542506385,
          0.3228782637707304,
          -4.943307346467625,
          7.535949399655877,
          -6.177098056930119,
          -0.6743986202514589,
          -0.504440464055116,
          3.4945233763724004,
          5.975160808232789,
          -0.41757488129431886,
          0.4170172391111681,
          -7.2063781436452645,
          0.35964677606659884,
          0.9873100637570819,
          -0.8075112379743468,
          6.635522613303778,
          5.282823704127352,
          -0.6983452257652862,
          4.433090704320131,
          -1.4211893721673654,
          -5.764607007391443,
          4.314949101813725,
          -6.068227660536056,
          -1.1063240331238182,
          0.24747578778715068,
          1.9212819482151646,
          -4.687371016410542,
          -0.4413667176214729,
          1.3756031941423696,
          -6.178805408339111,
          -3.542457482170357,
          -0.0599252974849179,
          1.3417642461867534,
          -6.316204278487742,
          -7.412100896535343,
          -0.4565038315075917,
          -3.2095417660218994,
          -6.960542010758957,
          1.9259061233282002,
          2.7282129981399956,
          -2.5994594091625154,
          -6.238159254000434,
          5.88513792017077,
          4.270500201230068,
          -3.1692547819590184,
          -6.111738712495953,
          7.032184262270077,
          -6.688209623710024,
          1.8060708887380994,
          7.035434004360644,
          0.23819062401734056,
          -2.0364860700614176,
          -2.613374226723188,
          -2.400892792189283,
          -3.521060410109176,
          -2.2240936611481827,
          3.7816090863378116,
          -4.259500003005203,
          4.251833968211096,
          -3.9638066389196753,
          -1.7440637438047621,
          -1.6752303124131553,
          -4.244617386098421,
          -4.316805697698897,
          -2.2285325144100088,
          5.201922916214635,
          -3.0556125095736815,
          -6.802073002572175,
          -5.508132246334052,
          5.4798644858760115,
          4.190210706964875,
          -3.3911358016362727,
          4.691391148855847,
          3.9328109333380232,
          2.4693873630715144,
          5.743946429006119,
          -1.2444005894670913,
          4.447893336171812,
          -4.8607692848517265,
          -1.643108843135457,
          -0.29314544788917235,
          -4.152990161877942,
          0.9424708241693907,
          0.7002592080888019,
          -2.067001604638436,
          3.3480361611450853,
          8.041824140033576,
          2.2118174642955872,
          -6.344176412630573,
          -6.6371495842360675,
          1.4684567964379465,
          4.168659633560246,
          2.1950827078478694,
          -7.514904099104621,
          -1.8420922051365003,
          -1.6886746294946204,
          -1.2537298785541302,
          -4.520800610922293,
          8.16540122398699,
          -6.5222911447090555,
          -1.413456919955067,
          -1.150642693731879,
          2.864560686439549,
          -5.76385312269803,
          0.15433257377695705,
          -2.7689729287564746,
          -5.883265895552542,
          5.465407220299672,
          -1.9516880780696026,
          -3.3574515334047694,
          6.733182813355211,
          -5.195204235685138,
          1.3312046067711163,
          3.486050214697071,
          -2.2282612252682914,
          -0.499242787153758,
          0.7029713690542115,
          3.648234123108081,
          2.907356633850534,
          -5.928646274337714,
          8.141918248515289,
          -7.109822383300192,
          0.9208287722058666,
          1.4065632040085099,
          -2.5389487207371255,
          -1.4170910008823925,
          -5.948200190747999,
          1.4203183519303018,
          -3.40633172605048,
          -1.9152334389798826,
          -0.24047667610517548,
          0.7856483877506869,
          5.7513858739177826,
          -6.282241864782735,
          -0.410326342372904,
          8.182036031584357,
          7.3002784634171105,
          -4.233757973718666,
          7.376431330955585,
          -5.667581721233384,
          3.0343771515629103,
          6.260397896085341,
          -7.174841382809283,
          -1.9050023016993276,
          6.111164732137671,
          -3.4226591749549815,
          7.570939571118263,
          6.580656004263795,
          -2.092278193504022,
          4.646631057232095,
          -5.054907745408652,
          -6.808745987754767,
          1.2926112928535944,
          0.9355737518998077,
          -6.223908300808526,
          6.955032542478122,
          -3.8231153488356195,
          6.221833521519977,
          -2.5027243249674687,
          6.098921354473524,
          0.06554601790948772,
          2.2740599705651494,
          0.6736784677722947,
          7.747864084002847,
          5.494131687471832
         ],
         "y": [
          -3.185339533496719,
          3.526269370660884,
          1.715346722184464,
          2.6761199648124974,
          1.6756077536208118,
          4.605953165419918,
          6.064169318828853,
          -3.6044118120943005,
          0.8648944850483978,
          -3.6790926430993323,
          -0.496038872170549,
          2.3993437958766384,
          2.830148488875805,
          3.6838602231763926,
          -3.6760238835798034,
          2.6615007527333083,
          4.172387421022121,
          -1.7913736096874482,
          -2.5297373220659654,
          1.7762205555317623,
          -3.1176025987744844,
          -3.1554359053756555,
          -1.3716163147596365,
          3.344300563045576,
          3.8507505702012694,
          -5.684604586907034,
          5.704011454519014,
          -0.347834093991101,
          0.2158475568958888,
          3.260440286208041,
          -1.5139585753815141,
          5.781652941818434,
          6.787246439193214,
          6.205205588130435,
          3.6816497487804773,
          -1.6200052152681022,
          -3.5992085322084337,
          -5.37053777167198,
          -0.0623697233251818,
          5.286594306196153,
          2.054718363640078,
          3.0567047136013636,
          5.917604413483832,
          0.6585068575618191,
          0.39016696163920594,
          2.47821111638398,
          -0.4797617354939163,
          0.6415331763181205,
          1.8711731770041138,
          5.077773907597244,
          4.320648381896767,
          1.5332063368216104,
          -0.06029141808885456,
          2.1150881264477412,
          4.55188420197008,
          4.369845136168237,
          -5.993356378945942,
          -2.010138871868373,
          -4.41901216527134,
          4.468094685026429,
          3.6736038403702542,
          2.244525261060412,
          -3.336247464455602,
          7.454980145946485,
          -4.517296926113486,
          4.561889186239606,
          1.7293381478978926,
          -0.5144604800750756,
          0.9599103209444515,
          3.095507813818702,
          1.5142261141804365,
          -2.5801014650951024,
          -1.3937370016537232,
          1.799424475790517,
          -4.336485358831136,
          -5.5521440555610235,
          -4.522288345554645,
          1.2687090495103257,
          -2.493397807940657,
          -5.1279168805436,
          1.8341563256387274,
          -2.440040371713169,
          6.937287650871799,
          -3.7481810379140788,
          1.8910932872020707,
          -5.259952736962708,
          2.2045300742263847,
          -3.4661610587341753,
          -6.075697974272733,
          0.5501421857109342,
          0.6044004493496764,
          5.212461877822151,
          -2.4328514269703074,
          4.676439496666554,
          -1.8621846513148004,
          -2.232447505470221,
          -2.2687285251596387,
          1.5306702652232758,
          1.5045133526264443,
          -3.3771668201962015,
          -0.8450983248439535,
          -5.212324913487973,
          -3.390546180286222,
          3.4291192381188775,
          0.8676830362390612,
          -3.785940226994886,
          1.7426444555055398,
          -5.532239050868793,
          1.1769092484546744,
          2.5737018661800466,
          0.8999626223991334,
          -0.33291622696215356,
          0.529816517025781,
          -1.1455413616969603,
          0.7773965740348976,
          0.3835502864968858,
          1.58161353078441,
          2.317354157285144,
          -0.23727067051344378,
          -0.9366159846535103,
          1.238917746194043,
          2.341518052364701,
          -0.4572071179698685,
          3.240191026239536,
          4.4196498871147485,
          3.165141166929138,
          0.5541986967914634,
          -4.957280316027876,
          3.4486437248192723,
          0.83215321148378,
          0.12568754867085902,
          0.5347201076600563,
          -3.456337586640426,
          0.8301420274310237,
          -4.4973985215238,
          1.8118829340729827,
          -5.564851002082122,
          1.2762871635827795,
          4.051788816127994,
          -5.457908944899903,
          7.104604771602168,
          -5.453551336680267,
          -5.320109422761596,
          -3.402323974364893,
          0.8150272976328425,
          1.8636224720552528,
          -2.322268487060278,
          -4.315420290131739,
          0.681111972511005,
          -3.225345763876776,
          3.1282803300508495,
          -0.5039082135098844,
          -2.781771533311857,
          -3.425730739638727,
          1.5062553570113189,
          1.7804326601918115,
          4.292177898695285,
          0.33770848463730124,
          6.988648852593103,
          1.5476964535842583,
          -2.542774676170988,
          -4.613665536726372,
          -3.2298408388039133,
          -3.428281607440886,
          -5.963054265244636,
          1.9461247546678935,
          2.7333520080056806,
          -5.216063971353211,
          3.425679652131938,
          -3.602943605156337,
          0.9789026751272514,
          0.7437612985110426,
          3.879222374805836,
          -1.005011600054948,
          -0.10634409958054315,
          3.5525337855827,
          0.8292459392549735,
          2.450462425602555,
          5.15200486067368,
          -0.7467617472363656,
          -5.478230816466301,
          -2.7147573047067666,
          -0.8975398603185218,
          0.05856688931035387,
          3.1633412033553556,
          -2.186927414180228,
          -2.012983843039207,
          -2.3006892611986287,
          -2.656145624694889,
          -0.1342475222863593,
          1.0071029619819916,
          3.7978848896184534,
          -0.9898689559715562,
          4.318106788064411,
          2.9679769283789983,
          4.947176902193315,
          3.500966871878339,
          -0.4877913115502468,
          -2.948029727723794,
          6.060834932651681,
          -0.9439382340085127,
          0.9915619027203701,
          1.7642024127884235,
          -5.9065214973399165,
          -2.382392965012137,
          -3.502800680130363,
          -2.326843409352602,
          2.7664960482539698,
          -3.312132457732254,
          -5.319170410411769,
          -5.209032986053288,
          -2.5227704057951703,
          3.8511663037373567,
          -2.498928981468509,
          -0.508954084164474,
          -2.725110908488803,
          -5.518822683157802,
          2.9749104739874443,
          2.123539093489147,
          5.675125792730779,
          3.3923267233414967,
          -0.5554359771848942,
          -2.2684682894917954,
          2.108870778756932,
          -3.1062927710841484,
          -0.20389681621750622,
          -0.24217096144921108,
          2.7245045830258507,
          7.374493622269858,
          1.476806332221821,
          -5.5157770703447975,
          -0.8613254797809415,
          0.6422470104847502,
          -0.877289673834288,
          3.7234200256473957,
          -1.667859332570511,
          -5.64739510283129,
          3.5975633493632673,
          4.311362975964905,
          1.2175629551336267,
          1.8542910975416111,
          4.30841564042251,
          1.3047954032865658,
          2.751406318510656,
          -1.8273801092178987,
          -4.759538183929515,
          -1.428241570763867,
          -5.931470637689995,
          3.1457373392929706,
          -5.184261099599341,
          2.5963728158699952,
          -0.036992172302093125,
          3.8353467402019166,
          1.4971677637726675,
          -5.580608760525969,
          0.26125162623797404,
          -1.8706404941516024,
          0.5106891321543202,
          -5.363420596244239,
          0.2202747241618912,
          -2.430103680579609,
          3.845992151142327,
          4.323476687459889,
          -3.7185396863263285,
          1.301593339397366,
          2.414655455450271,
          -4.731161846902935,
          -1.25576866491979,
          -0.023649776600793045,
          -1.402538050421342,
          -3.596155218517825,
          -3.1071946347146526,
          -1.3050897760976108,
          -5.466497397437932,
          2.843105009596784,
          -3.7556244921198187,
          -0.5499498418941419,
          -2.52064150182905,
          -4.321997520337447,
          4.800750845792038,
          0.6463327393797359,
          2.3980945747581597,
          -0.7013470292666453,
          -5.870570896634507,
          2.229683994762437,
          -4.335700735982119,
          2.9612448512804583,
          -0.6153431242071318,
          4.405986877228041,
          3.801866791638378,
          -5.277594452777786,
          4.563813363163087,
          -3.444140860081688,
          1.2280310559391967,
          3.919697226605617,
          -3.5863725712937873,
          -5.057447689796308,
          -4.312719357350898,
          0.492193553716572,
          -1.7691451811444843,
          2.5690270243641793,
          0.3023811285033651,
          0.489211317181429,
          2.389647596182356,
          2.0188971184882045,
          2.1474108685188837,
          3.7271590506832313,
          2.096224746283681,
          1.2234301760823014,
          -6.047337558122858,
          -2.961288146667391,
          3.2511361292374246,
          -1.4314082188486958,
          2.1121075855718727,
          -4.959653407290195,
          -2.862579653709002,
          -2.5301418690460804,
          -6.0607496922263495,
          7.74511211704485,
          -0.029496562885368418,
          -1.5083534694680676,
          2.442113079971942,
          2.738713206540722,
          0.684575959883466,
          -0.541756113007171,
          -5.188088669310594,
          1.1334239417929322,
          1.2555549822329024,
          0.6306374042839697,
          4.232576740086362,
          -3.2575614085215823,
          -1.4822113863360866,
          0.08335259117447673,
          4.286413060633223,
          -0.37962488901685465,
          5.623555703224563,
          -3.180046193896092,
          1.718685353971302,
          1.6906523753433356,
          3.7207322601055126,
          -5.40436174090222,
          1.0594994663828,
          -1.0864442690310134,
          -3.4092172552222486,
          6.383679705852373,
          3.7767909566058555,
          4.151912714280456,
          -0.27027049157340644,
          -3.5620046473202467,
          -4.603226807920073,
          2.1585465675669333,
          0.7424293379178936,
          -3.772914613161643,
          -0.18691844199793106,
          -2.443576664047903,
          1.982666739720224,
          -0.7336482388739616,
          5.326185456534703,
          -5.742917456802839,
          -0.54132682772385,
          3.474897045310213,
          2.784965554137515,
          -5.112580702086281,
          -4.049848028479004,
          -5.115803885040928,
          5.445797948159613,
          0.8769645012257812,
          2.3100890349922945,
          0.7557508672733261,
          -5.961017398937815,
          2.6419608101365943,
          3.438882570938854,
          4.751030470300312,
          -1.8868170137756466,
          2.5784779051120403,
          -0.8582146185433623,
          1.5053479102737028,
          -1.4318711130688537,
          6.139312109261375,
          1.1094814321963165,
          6.07826246257586,
          3.4502024429178544,
          -2.3424257386062615,
          5.302474409012479,
          -3.9132743965738994,
          1.5069149901534211,
          -0.7240033489386096,
          -5.805226118606092,
          -5.825746682033371,
          0.8771579544044569,
          3.297758738338056,
          3.9969531156750535,
          4.021664455185728,
          6.034305977342252,
          -2.283252227292193,
          0.2701981574538519,
          -3.2234702304552765,
          -3.773327778195204,
          3.6473692232859225,
          3.9622370116131496
         ],
         "z": [
          1.1772062149586162,
          3.0430298910236706,
          -2.229708933650626,
          -3.4826006076448324,
          -0.6684075308173654,
          3.872177594090662,
          0.6935062256239646,
          1.8196825656788025,
          -1.0697224181844496,
          0.5630165217267492,
          -1.4703427088742373,
          -0.3988662362243103,
          -2.9191011117211265,
          1.0618122517876973,
          3.1039958357547124,
          -3.9647959920337037,
          -2.518433261709283,
          1.419600576344029,
          -2.4073690094469242,
          -0.47075839245728957,
          -1.1792763177008898,
          1.6110540721796072,
          -2.5435237517851963,
          -0.04600806101463568,
          -1.7966551890917202,
          0.7652794645240333,
          0.8581402785156085,
          -1.9538014853491246,
          -3.122243866563067,
          0.401558755968805,
          -3.633220772668833,
          4.5397615461020955,
          -1.3707312752917102,
          1.0031350285265734,
          -0.6629998131085991,
          -1.9245422135936163,
          0.7439428380658922,
          0.7305412972868951,
          -1.6140385875851186,
          6.281272710453684,
          -0.3345853321883324,
          -2.173381757703676,
          1.5129233664357875,
          -0.8004490275164057,
          -1.5225281976973948,
          1.5856647455501025,
          0.49504490384908467,
          -1.259547288708525,
          -0.5162477186877981,
          -0.04295643310335856,
          -2.9765752662349114,
          -0.06516773726994422,
          -1.2173790345434865,
          1.7768608139463486,
          -1.0613950507378889,
          -2.10022703523807,
          1.1008457897194321,
          -2.5159344553873604,
          2.3376791728608954,
          1.615039889274413,
          1.364588515239036,
          -2.044222318542216,
          0.42042618039043766,
          -0.03597177187056613,
          0.21581245158498927,
          -1.7036552166148962,
          -1.6945293056101303,
          -0.16618569830701646,
          -3.2313095518921613,
          -2.28162459260435,
          -0.18672260989642223,
          -0.25454079416903747,
          0.012157165817250773,
          0.08739031115031766,
          -0.49150919592869446,
          2.3311181810286383,
          2.001863099725205,
          -2.0632310585454436,
          1.0632326482278458,
          2.425886863240252,
          -2.287521000499961,
          1.9707992449646121,
          1.801531125617769,
          1.4395229562616922,
          -1.9289963874757872,
          2.5739434431551205,
          1.6406310425157626,
          0.879230736092475,
          1.3332689644039575,
          -1.2895282949536833,
          -1.979310719576927,
          3.2360872574085313,
          1.654201196848669,
          -1.6113626630789637,
          -0.7910196583406849,
          0.5618533095229759,
          -2.1215007107244213,
          -2.411747342783796,
          0.34142488801724513,
          0.17653359769537574,
          -1.36543167501784,
          1.8710164502330906,
          0.8971467422618491,
          1.722484834687029,
          -2.3930152316197657,
          0.6433253452023352,
          -0.5978364147414454,
          2.017530625997786,
          -1.170028205267558,
          -1.5849832072971193,
          -0.2680369697386766,
          -0.7395235756074341,
          -1.8896211876255147,
          -2.544805614002773,
          -1.063529200020342,
          1.178777136298457,
          -1.027648422052919,
          3.5575118398141266,
          -0.8843497983927191,
          -0.28585475580232445,
          -1.6383706961342133,
          -2.7008441497475895,
          -2.7787769203656443,
          -3.0446075482601533,
          -1.4796434857035843,
          1.2424613527986637,
          -1.1916372192778777,
          -0.23928794637122444,
          3.0008265163033476,
          -1.200473007471912,
          -2.624899486818146,
          -3.510092301889188,
          2.4845866322353904,
          -1.0038204501797048,
          0.08254419362483528,
          -1.1586506359822806,
          0.17391900380849473,
          -0.18391411924846965,
          -2.8381774031207234,
          2.09669299374051,
          0.690584881819501,
          1.2590874409601545,
          1.8180471728267942,
          2.551757912327164,
          -0.9997604932344545,
          -1.426864289971733,
          0.42251564449408696,
          -0.12177355410307175,
          -2.698666752868173,
          0.34888456938794626,
          -3.386867717975704,
          -0.16400778511032713,
          1.5031472286878804,
          -2.3732285782249813,
          -1.4379994369852034,
          0.08898491796123338,
          -2.289960543046277,
          0.3222147853532649,
          0.579699505685163,
          -0.8828027878155811,
          -1.6632917449830817,
          0.7278349206346544,
          1.6568203347230217,
          -1.153324877929984,
          1.1669113160355038,
          -0.7646846904610966,
          -1.8849109715353176,
          0.9116550871120093,
          -2.423789958199642,
          -1.646764274818634,
          -1.1782618757781866,
          -0.4576335629012979,
          1.15463537865807,
          -1.5975642839569353,
          -1.2983249233944432,
          -1.442343104638508,
          -1.5049846295757852,
          -2.115416323545371,
          0.9052132352252605,
          -1.291771716867772,
          1.211534484934947,
          0.7456286328751334,
          -2.7547683867957584,
          -2.1530345290564186,
          -2.9532902088822555,
          1.1418585931688492,
          -1.0983850111458615,
          0.5347272315303987,
          -0.5458693295387634,
          -1.79313747974385,
          -3.208864383385833,
          -2.216269469312178,
          0.8784154539214113,
          -2.749556512942869,
          -0.8457377959969742,
          3.6871261141315403,
          5.081525553316774,
          -1.262372586414096,
          2.383924795456416,
          0.7272820723013736,
          -0.6885454959624911,
          -0.834750531937935,
          -2.710428139756239,
          1.5965977031049552,
          0.9319886335449808,
          0.8979824421974093,
          0.31874301663392357,
          0.24074739450689714,
          0.5564030085862448,
          2.412447566960724,
          1.3517093465109784,
          1.7527520080597758,
          2.4350396380159083,
          -1.736347866260353,
          -0.5400628857083061,
          -2.8636047946929093,
          0.4081815862813534,
          1.7859098848019843,
          -2.2613709880665374,
          0.4327123881236174,
          1.8964031827861212,
          -2.549291507243993,
          1.7411630930117314,
          -0.08172613430041935,
          -1.1212543006587912,
          -3.534157400499423,
          -1.295166752386674,
          -1.6659802926947713,
          0.9213185618084038,
          3.7316250201041385,
          1.0107286841450125,
          -1.3009679624271235,
          -1.7275723585719631,
          -2.25935595063271,
          -1.8296236001488277,
          -2.5580329408768057,
          1.3891549569021484,
          -0.32272602817697255,
          -2.1030309961283704,
          0.3280456758291871,
          3.0596882284991995,
          5.001219215056548,
          -2.9575952566939776,
          -0.8008860669419906,
          -0.3871261511630765,
          0.837312407799695,
          -2.037091285143421,
          1.823861413545594,
          -0.6017401725752132,
          1.2115951188224334,
          -1.7357401269987587,
          -0.8583252650746596,
          3.3540600023868916,
          -2.4215807327648182,
          0.31476634095383876,
          -0.3637614530143229,
          0.26303970896866735,
          -0.9706461633575906,
          -0.4968468219780829,
          -2.2202674160880473,
          -1.1656833365394652,
          2.466487453070217,
          3.837882247174675,
          2.7509983857500537,
          -0.7476753267362707,
          2.6010656349864867,
          0.20073967625231814,
          -0.9548673441206454,
          -1.4687099109399113,
          -1.9262368154233367,
          2.591931385175227,
          -1.8053039017541834,
          -1.740761177123461,
          1.5231424837388248,
          -0.46109848336159676,
          -1.855479128020024,
          -1.3310538959195775,
          0.5224115428286843,
          2.2710450211247246,
          3.586963652320579,
          -0.5397322900109583,
          -0.765284126627813,
          -1.388708408559734,
          1.57691021737552,
          -1.1676980804177621,
          1.2949583508439004,
          0.9484319186375516,
          -2.2869361369282393,
          3.823695507432437,
          2.7699123457680375,
          0.03811944588729042,
          0.8373063591458193,
          -2.376053256201926,
          -0.7858442638855804,
          2.825009163916801,
          1.062930575775909,
          0.015666246634661464,
          -0.9108403328495598,
          -1.4115055348719734,
          -1.7958106462357402,
          -2.4277853782363854,
          -1.2384154997820382,
          -1.8486854168967994,
          -0.7474667358334174,
          -1.4241655005277745,
          -2.7231273745913644,
          2.567097682487478,
          -2.51094839063113,
          -2.3175335554838425,
          3.070175206317046,
          1.0824484939367474,
          3.243745538173435,
          0.4216157691857104,
          1.414721494984246,
          2.213898877055682,
          -0.8776361153154326,
          -2.85295088204853,
          1.8077880520419896,
          0.9314089876823719,
          -1.8450872188622773,
          0.1497953902721247,
          -2.577167019238897,
          -1.7719422097592876,
          -0.8015227621523039,
          -1.7776594301055963,
          2.21182022001533,
          -1.8231401793016062,
          -1.721860601298921,
          -0.3534242488588125,
          0.33240429896061907,
          -0.3405094419971805,
          -2.627889475164317,
          -2.709296469518449,
          -2.3682121817675283,
          -1.2779142189866144,
          0.333609641562322,
          0.8978421968181595,
          -2.7241565712400275,
          -0.2641387180762859,
          -0.43664034991666556,
          -0.3178214187646244,
          -1.3102569871838932,
          1.9348244305813702,
          -1.119827444646594,
          -0.6618444161200021,
          -1.220246273417422,
          2.4159635120789122,
          -1.078262523474065,
          0.454657069905916,
          -0.5141393886108406,
          -0.2960681698283365,
          -3.5093070529356623,
          3.5228072342801284,
          -1.6989401784952156,
          -1.1560980069121964,
          -2.6349240933461755,
          -2.8786374338431306,
          -0.25959717087243417,
          2.4372851218358096,
          -2.650278273831275,
          2.1827498173444493,
          -0.3486552568936589,
          3.5583369615179845,
          -1.1436344681126274,
          0.1485272362728887,
          5.63308789052169,
          -0.24356393313331512,
          -2.4927930749866336,
          -1.0438658805402379,
          1.0557420304772056,
          -2.6143637667013166,
          -1.4476959016496458,
          2.8304578741389057,
          1.6162198433879802,
          1.0836174707393824,
          -0.4274678537946891,
          -2.816452042528848,
          -2.7998946045657394,
          4.735364738250927,
          -0.27021025009662786,
          4.072971929513035,
          -2.9478953676951023,
          0.978261023740988,
          4.338027051693711,
          1.5002896596855009,
          -0.17647859853892256,
          -1.9494487350440926,
          1.2678340900715608,
          1.9946173429035134,
          -0.895457759096949,
          -2.9696674438499264,
          3.4108337228601053,
          -2.220881221887456,
          4.300584753442838,
          1.2901654145827561,
          -2.4373082006501146,
          1.9567562747685785,
          1.5241259968830854,
          -1.6758786898239515,
          -2.5105819019553173
         ]
        }
       ],
       "layout": {
        "coloraxis": {
         "colorbar": {
          "title": {
           "text": "color"
          }
         },
         "colorscale": [
          [
           0,
           "#0d0887"
          ],
          [
           0.1111111111111111,
           "#46039f"
          ],
          [
           0.2222222222222222,
           "#7201a8"
          ],
          [
           0.3333333333333333,
           "#9c179e"
          ],
          [
           0.4444444444444444,
           "#bd3786"
          ],
          [
           0.5555555555555556,
           "#d8576b"
          ],
          [
           0.6666666666666666,
           "#ed7953"
          ],
          [
           0.7777777777777778,
           "#fb9f3a"
          ],
          [
           0.8888888888888888,
           "#fdca26"
          ],
          [
           1,
           "#f0f921"
          ]
         ]
        },
        "legend": {
         "tracegroupgap": 0
        },
        "margin": {
         "t": 60
        },
        "scene": {
         "domain": {
          "x": [
           0,
           1
          ],
          "y": [
           0,
           1
          ]
         },
         "xaxis": {
          "title": {
           "text": "x"
          }
         },
         "yaxis": {
          "title": {
           "text": "y"
          }
         },
         "zaxis": {
          "title": {
           "text": "z"
          }
         }
        },
        "template": {
         "data": {
          "bar": [
           {
            "error_x": {
             "color": "#2a3f5f"
            },
            "error_y": {
             "color": "#2a3f5f"
            },
            "marker": {
             "line": {
              "color": "#E5ECF6",
              "width": 0.5
             },
             "pattern": {
              "fillmode": "overlay",
              "size": 10,
              "solidity": 0.2
             }
            },
            "type": "bar"
           }
          ],
          "barpolar": [
           {
            "marker": {
             "line": {
              "color": "#E5ECF6",
              "width": 0.5
             },
             "pattern": {
              "fillmode": "overlay",
              "size": 10,
              "solidity": 0.2
             }
            },
            "type": "barpolar"
           }
          ],
          "carpet": [
           {
            "aaxis": {
             "endlinecolor": "#2a3f5f",
             "gridcolor": "white",
             "linecolor": "white",
             "minorgridcolor": "white",
             "startlinecolor": "#2a3f5f"
            },
            "baxis": {
             "endlinecolor": "#2a3f5f",
             "gridcolor": "white",
             "linecolor": "white",
             "minorgridcolor": "white",
             "startlinecolor": "#2a3f5f"
            },
            "type": "carpet"
           }
          ],
          "choropleth": [
           {
            "colorbar": {
             "outlinewidth": 0,
             "ticks": ""
            },
            "type": "choropleth"
           }
          ],
          "contour": [
           {
            "colorbar": {
             "outlinewidth": 0,
             "ticks": ""
            },
            "colorscale": [
             [
              0,
              "#0d0887"
             ],
             [
              0.1111111111111111,
              "#46039f"
             ],
             [
              0.2222222222222222,
              "#7201a8"
             ],
             [
              0.3333333333333333,
              "#9c179e"
             ],
             [
              0.4444444444444444,
              "#bd3786"
             ],
             [
              0.5555555555555556,
              "#d8576b"
             ],
             [
              0.6666666666666666,
              "#ed7953"
             ],
             [
              0.7777777777777778,
              "#fb9f3a"
             ],
             [
              0.8888888888888888,
              "#fdca26"
             ],
             [
              1,
              "#f0f921"
             ]
            ],
            "type": "contour"
           }
          ],
          "contourcarpet": [
           {
            "colorbar": {
             "outlinewidth": 0,
             "ticks": ""
            },
            "type": "contourcarpet"
           }
          ],
          "heatmap": [
           {
            "colorbar": {
             "outlinewidth": 0,
             "ticks": ""
            },
            "colorscale": [
             [
              0,
              "#0d0887"
             ],
             [
              0.1111111111111111,
              "#46039f"
             ],
             [
              0.2222222222222222,
              "#7201a8"
             ],
             [
              0.3333333333333333,
              "#9c179e"
             ],
             [
              0.4444444444444444,
              "#bd3786"
             ],
             [
              0.5555555555555556,
              "#d8576b"
             ],
             [
              0.6666666666666666,
              "#ed7953"
             ],
             [
              0.7777777777777778,
              "#fb9f3a"
             ],
             [
              0.8888888888888888,
              "#fdca26"
             ],
             [
              1,
              "#f0f921"
             ]
            ],
            "type": "heatmap"
           }
          ],
          "heatmapgl": [
           {
            "colorbar": {
             "outlinewidth": 0,
             "ticks": ""
            },
            "colorscale": [
             [
              0,
              "#0d0887"
             ],
             [
              0.1111111111111111,
              "#46039f"
             ],
             [
              0.2222222222222222,
              "#7201a8"
             ],
             [
              0.3333333333333333,
              "#9c179e"
             ],
             [
              0.4444444444444444,
              "#bd3786"
             ],
             [
              0.5555555555555556,
              "#d8576b"
             ],
             [
              0.6666666666666666,
              "#ed7953"
             ],
             [
              0.7777777777777778,
              "#fb9f3a"
             ],
             [
              0.8888888888888888,
              "#fdca26"
             ],
             [
              1,
              "#f0f921"
             ]
            ],
            "type": "heatmapgl"
           }
          ],
          "histogram": [
           {
            "marker": {
             "pattern": {
              "fillmode": "overlay",
              "size": 10,
              "solidity": 0.2
             }
            },
            "type": "histogram"
           }
          ],
          "histogram2d": [
           {
            "colorbar": {
             "outlinewidth": 0,
             "ticks": ""
            },
            "colorscale": [
             [
              0,
              "#0d0887"
             ],
             [
              0.1111111111111111,
              "#46039f"
             ],
             [
              0.2222222222222222,
              "#7201a8"
             ],
             [
              0.3333333333333333,
              "#9c179e"
             ],
             [
              0.4444444444444444,
              "#bd3786"
             ],
             [
              0.5555555555555556,
              "#d8576b"
             ],
             [
              0.6666666666666666,
              "#ed7953"
             ],
             [
              0.7777777777777778,
              "#fb9f3a"
             ],
             [
              0.8888888888888888,
              "#fdca26"
             ],
             [
              1,
              "#f0f921"
             ]
            ],
            "type": "histogram2d"
           }
          ],
          "histogram2dcontour": [
           {
            "colorbar": {
             "outlinewidth": 0,
             "ticks": ""
            },
            "colorscale": [
             [
              0,
              "#0d0887"
             ],
             [
              0.1111111111111111,
              "#46039f"
             ],
             [
              0.2222222222222222,
              "#7201a8"
             ],
             [
              0.3333333333333333,
              "#9c179e"
             ],
             [
              0.4444444444444444,
              "#bd3786"
             ],
             [
              0.5555555555555556,
              "#d8576b"
             ],
             [
              0.6666666666666666,
              "#ed7953"
             ],
             [
              0.7777777777777778,
              "#fb9f3a"
             ],
             [
              0.8888888888888888,
              "#fdca26"
             ],
             [
              1,
              "#f0f921"
             ]
            ],
            "type": "histogram2dcontour"
           }
          ],
          "mesh3d": [
           {
            "colorbar": {
             "outlinewidth": 0,
             "ticks": ""
            },
            "type": "mesh3d"
           }
          ],
          "parcoords": [
           {
            "line": {
             "colorbar": {
              "outlinewidth": 0,
              "ticks": ""
             }
            },
            "type": "parcoords"
           }
          ],
          "pie": [
           {
            "automargin": true,
            "type": "pie"
           }
          ],
          "scatter": [
           {
            "fillpattern": {
             "fillmode": "overlay",
             "size": 10,
             "solidity": 0.2
            },
            "type": "scatter"
           }
          ],
          "scatter3d": [
           {
            "line": {
             "colorbar": {
              "outlinewidth": 0,
              "ticks": ""
             }
            },
            "marker": {
             "colorbar": {
              "outlinewidth": 0,
              "ticks": ""
             }
            },
            "type": "scatter3d"
           }
          ],
          "scattercarpet": [
           {
            "marker": {
             "colorbar": {
              "outlinewidth": 0,
              "ticks": ""
             }
            },
            "type": "scattercarpet"
           }
          ],
          "scattergeo": [
           {
            "marker": {
             "colorbar": {
              "outlinewidth": 0,
              "ticks": ""
             }
            },
            "type": "scattergeo"
           }
          ],
          "scattergl": [
           {
            "marker": {
             "colorbar": {
              "outlinewidth": 0,
              "ticks": ""
             }
            },
            "type": "scattergl"
           }
          ],
          "scattermapbox": [
           {
            "marker": {
             "colorbar": {
              "outlinewidth": 0,
              "ticks": ""
             }
            },
            "type": "scattermapbox"
           }
          ],
          "scatterpolar": [
           {
            "marker": {
             "colorbar": {
              "outlinewidth": 0,
              "ticks": ""
             }
            },
            "type": "scatterpolar"
           }
          ],
          "scatterpolargl": [
           {
            "marker": {
             "colorbar": {
              "outlinewidth": 0,
              "ticks": ""
             }
            },
            "type": "scatterpolargl"
           }
          ],
          "scatterternary": [
           {
            "marker": {
             "colorbar": {
              "outlinewidth": 0,
              "ticks": ""
             }
            },
            "type": "scatterternary"
           }
          ],
          "surface": [
           {
            "colorbar": {
             "outlinewidth": 0,
             "ticks": ""
            },
            "colorscale": [
             [
              0,
              "#0d0887"
             ],
             [
              0.1111111111111111,
              "#46039f"
             ],
             [
              0.2222222222222222,
              "#7201a8"
             ],
             [
              0.3333333333333333,
              "#9c179e"
             ],
             [
              0.4444444444444444,
              "#bd3786"
             ],
             [
              0.5555555555555556,
              "#d8576b"
             ],
             [
              0.6666666666666666,
              "#ed7953"
             ],
             [
              0.7777777777777778,
              "#fb9f3a"
             ],
             [
              0.8888888888888888,
              "#fdca26"
             ],
             [
              1,
              "#f0f921"
             ]
            ],
            "type": "surface"
           }
          ],
          "table": [
           {
            "cells": {
             "fill": {
              "color": "#EBF0F8"
             },
             "line": {
              "color": "white"
             }
            },
            "header": {
             "fill": {
              "color": "#C8D4E3"
             },
             "line": {
              "color": "white"
             }
            },
            "type": "table"
           }
          ]
         },
         "layout": {
          "annotationdefaults": {
           "arrowcolor": "#2a3f5f",
           "arrowhead": 0,
           "arrowwidth": 1
          },
          "autotypenumbers": "strict",
          "coloraxis": {
           "colorbar": {
            "outlinewidth": 0,
            "ticks": ""
           }
          },
          "colorscale": {
           "diverging": [
            [
             0,
             "#8e0152"
            ],
            [
             0.1,
             "#c51b7d"
            ],
            [
             0.2,
             "#de77ae"
            ],
            [
             0.3,
             "#f1b6da"
            ],
            [
             0.4,
             "#fde0ef"
            ],
            [
             0.5,
             "#f7f7f7"
            ],
            [
             0.6,
             "#e6f5d0"
            ],
            [
             0.7,
             "#b8e186"
            ],
            [
             0.8,
             "#7fbc41"
            ],
            [
             0.9,
             "#4d9221"
            ],
            [
             1,
             "#276419"
            ]
           ],
           "sequential": [
            [
             0,
             "#0d0887"
            ],
            [
             0.1111111111111111,
             "#46039f"
            ],
            [
             0.2222222222222222,
             "#7201a8"
            ],
            [
             0.3333333333333333,
             "#9c179e"
            ],
            [
             0.4444444444444444,
             "#bd3786"
            ],
            [
             0.5555555555555556,
             "#d8576b"
            ],
            [
             0.6666666666666666,
             "#ed7953"
            ],
            [
             0.7777777777777778,
             "#fb9f3a"
            ],
            [
             0.8888888888888888,
             "#fdca26"
            ],
            [
             1,
             "#f0f921"
            ]
           ],
           "sequentialminus": [
            [
             0,
             "#0d0887"
            ],
            [
             0.1111111111111111,
             "#46039f"
            ],
            [
             0.2222222222222222,
             "#7201a8"
            ],
            [
             0.3333333333333333,
             "#9c179e"
            ],
            [
             0.4444444444444444,
             "#bd3786"
            ],
            [
             0.5555555555555556,
             "#d8576b"
            ],
            [
             0.6666666666666666,
             "#ed7953"
            ],
            [
             0.7777777777777778,
             "#fb9f3a"
            ],
            [
             0.8888888888888888,
             "#fdca26"
            ],
            [
             1,
             "#f0f921"
            ]
           ]
          },
          "colorway": [
           "#636efa",
           "#EF553B",
           "#00cc96",
           "#ab63fa",
           "#FFA15A",
           "#19d3f3",
           "#FF6692",
           "#B6E880",
           "#FF97FF",
           "#FECB52"
          ],
          "font": {
           "color": "#2a3f5f"
          },
          "geo": {
           "bgcolor": "white",
           "lakecolor": "white",
           "landcolor": "#E5ECF6",
           "showlakes": true,
           "showland": true,
           "subunitcolor": "white"
          },
          "hoverlabel": {
           "align": "left"
          },
          "hovermode": "closest",
          "mapbox": {
           "style": "light"
          },
          "paper_bgcolor": "white",
          "plot_bgcolor": "#E5ECF6",
          "polar": {
           "angularaxis": {
            "gridcolor": "white",
            "linecolor": "white",
            "ticks": ""
           },
           "bgcolor": "#E5ECF6",
           "radialaxis": {
            "gridcolor": "white",
            "linecolor": "white",
            "ticks": ""
           }
          },
          "scene": {
           "xaxis": {
            "backgroundcolor": "#E5ECF6",
            "gridcolor": "white",
            "gridwidth": 2,
            "linecolor": "white",
            "showbackground": true,
            "ticks": "",
            "zerolinecolor": "white"
           },
           "yaxis": {
            "backgroundcolor": "#E5ECF6",
            "gridcolor": "white",
            "gridwidth": 2,
            "linecolor": "white",
            "showbackground": true,
            "ticks": "",
            "zerolinecolor": "white"
           },
           "zaxis": {
            "backgroundcolor": "#E5ECF6",
            "gridcolor": "white",
            "gridwidth": 2,
            "linecolor": "white",
            "showbackground": true,
            "ticks": "",
            "zerolinecolor": "white"
           }
          },
          "shapedefaults": {
           "line": {
            "color": "#2a3f5f"
           }
          },
          "ternary": {
           "aaxis": {
            "gridcolor": "white",
            "linecolor": "white",
            "ticks": ""
           },
           "baxis": {
            "gridcolor": "white",
            "linecolor": "white",
            "ticks": ""
           },
           "bgcolor": "#E5ECF6",
           "caxis": {
            "gridcolor": "white",
            "linecolor": "white",
            "ticks": ""
           }
          },
          "title": {
           "x": 0.05
          },
          "xaxis": {
           "automargin": true,
           "gridcolor": "white",
           "linecolor": "white",
           "ticks": "",
           "title": {
            "standoff": 15
           },
           "zerolinecolor": "white",
           "zerolinewidth": 2
          },
          "yaxis": {
           "automargin": true,
           "gridcolor": "white",
           "linecolor": "white",
           "ticks": "",
           "title": {
            "standoff": 15
           },
           "zerolinecolor": "white",
           "zerolinewidth": 2
          }
         }
        }
       }
      }
     },
     "metadata": {},
     "output_type": "display_data"
    }
   ],
   "source": [
    "px.scatter_3d(x=x_testdf.iloc[:,0],y=x_testdf.iloc[:,1],z=x_testdf.iloc[:,2], color= y_pred)"
   ]
  },
  {
   "cell_type": "code",
   "execution_count": 117,
   "metadata": {},
   "outputs": [
    {
     "name": "stdout",
     "output_type": "stream",
     "text": [
      "Recall(TP/FN+TP ):0.75\n",
      "Precsion(TP/FP+TP): 0.8333333333333334 \n",
      "F1 score function of presscion and recall:0.7894736842105262 \n"
     ]
    },
    {
     "data": {
      "image/png": "[encoded data removed]",
      "text/plain": [
       "<Figure size 640x480 with 2 Axes>"
      ]
     },
     "metadata": {},
     "output_type": "display_data"
    }
   ],
   "source": [
    "from sklearn.ensemble import RandomForestClassifier\n",
    "\n",
    "model = RandomForestClassifier(max_depth=2)\n",
    "model.fit(x_train,y_train)\n",
    "\n",
    "\n",
    "y_pred = model.predict(X_test)\n",
    "\n",
    "conMtx = confusion_matrix(y_test,y_pred)\n",
    "sns.heatmap(conMtx)\n",
    "f1 = f1_score(y_test,y_pred)\n",
    "recall = recall_score(y_test,y_pred)\n",
    "pre = precision_score(y_test,y_pred)\n",
    "\n",
    "print(f\"Recall(TP/FN+TP ):{recall}\")\n",
    "print(f\"Precsion(TP/FP+TP): {pre} \")\n",
    "print(f\"F1 score function of presscion and recall:{f1} \")\n"
   ]
  },
  {
   "cell_type": "code",
   "execution_count": null,
   "metadata": {},
   "outputs": [
    {
     "data": {
      "application/vnd.plotly.v1+json": {
       "config": {
        "plotlyServerURL": "https://plot.ly"
       },
       "data": [
        {
         "hovertemplate": "color=0<br>x=%{x}<br>y=%{y}<br>z=%{z}<extra></extra>",
         "legendgroup": "0",
         "marker": {
          "color": "#636efa",
          "symbol": "circle"
         },
         "mode": "markers",
         "name": "0",
         "scene": "scene",
         "showlegend": true,
         "type": "scatter3d",
         "x": [
          7.203924070266284,
          -2.5609447461408976,
          5.639308384843588,
          3.0544859899600856,
          -6.098985707833628,
          -2.3728526512489396,
          -0.276013764174703,
          4.385682289208857,
          -6.032717547532622,
          0.7448612105411531,
          4.5161449985684525,
          1.5156827075875372,
          7.121836399761821,
          -5.330295293312268,
          4.355775422523092,
          2.353249012265955,
          7.769055523595671,
          5.943886762231404,
          -1.2998279762573521,
          -5.9366302822771795,
          -1.6126582808075987,
          7.80816284260002,
          -7.196192724270367,
          -5.319657468638225,
          4.073168104883865,
          2.6707109199446957,
          -6.724122530596802,
          -3.1254244983879524,
          -3.880987825249434,
          -4.08989170254775,
          -1.470767454505767,
          7.1720875795570445,
          2.837311144706925,
          9.705070692541158,
          -2.83926421427601,
          4.375062679302176,
          -6.987198446748858,
          3.2669087997618584,
          -6.055874924226569,
          6.577334463384931,
          -3.524813619415456,
          4.86344367116555,
          -6.247306593066149,
          -4.487311761975919,
          -5.336656691022901,
          -5.032172186633748,
          -6.121763578761868,
          -1.1775877917834565,
          6.9757691392272845,
          -6.099147973242507,
          -6.269976242908781,
          -4.656085087574266,
          0.8173781028402018,
          8.886696257053497,
          -1.4938298320060177,
          -1.6551210471688873,
          -4.642859328516961,
          -4.6697111102439814,
          7.764996842920759,
          3.8009043979655925,
          -0.2187176273894369,
          -1.6487860556465304,
          8.383932149504222,
          5.795469518928827,
          6.739150719031043,
          0.3440537411496029,
          8.517714878400204,
          -5.79362447969959,
          1.5616338560114977,
          5.7485234377568615,
          -4.4468073697316335,
          -2.702803648786404,
          4.392108764151224,
          5.133394290246857,
          6.224329557659949,
          0.6090380133642975,
          6.613587155143442,
          7.1695644805505125,
          7.546902478630216,
          5.200393595332108,
          7.574941077120244,
          3.6814486537555764,
          -4.94738977391632,
          2.5865078657343648,
          -5.881483748151436,
          0.3727887737223328,
          -3.7773644484442683,
          5.094796420317379,
          5.8937199714402,
          1.675795660004064,
          1.6293567876237738,
          -2.432505695743313,
          2.7790489279709427,
          -6.477043555066059,
          1.4193362485089074,
          -2.7694124453410245,
          -0.834254514071135,
          -4.640925724571085,
          3.241439501015477,
          4.101154296851597,
          -5.975654603647307,
          2.260382741385919,
          -6.025802323446821,
          -3.0819980120349615,
          8.88674446840755,
          -6.643030523200058,
          -5.892320454507683,
          -6.787005820462629,
          4.5748283248494115,
          0.06822322532002392,
          -6.545947745404773,
          0.4416615541327203,
          7.540576384912051,
          5.71433411253985,
          5.344697321766783,
          3.484845174827814,
          -6.3397561813403795,
          5.1051716505466445,
          6.085168341603478,
          -4.345743558096068,
          -6.4250362524059055,
          -3.1295097196674395,
          -0.8944897113315989,
          -6.3627176904480125,
          0.8447920364857265,
          0.04525411342577502,
          3.93685908810881,
          -6.232676623702319,
          8.306175953981654,
          6.717014185570476,
          8.229866641619221,
          0.48642241864956837,
          6.15601356148429,
          -6.255283594422233,
          3.7952120420659763,
          4.820785084096091,
          -3.588675907039285,
          2.0849489865816255,
          4.370174427372227,
          6.141471412061204,
          2.6685308561598906,
          5.415065148315906,
          -6.088217133605396,
          8.887344379404631,
          -5.488356028620006,
          6.872019061082452,
          -6.0300238010098495,
          4.38858187162388,
          5.157018595877629,
          -3.0859958113557218,
          5.744144748616372,
          -0.47907389325850575,
          -5.883377228413314,
          6.268058926427664,
          7.065120772154154,
          -3.5420796952256555,
          -5.6884607022100635,
          -5.6187081653041036,
          -4.366281671839374,
          -6.8854255202155805,
          -6.705996829617046,
          6.683736830356249,
          -6.364168415598526,
          5.333876032524296,
          -0.4317475635601301,
          -1.5282644762174407,
          4.183653303759165,
          -0.6798593299135748,
          0.5363492039893308,
          5.012396019136997,
          6.8763503677487705,
          1.3629366975981587,
          6.635513381108584,
          0.15656082919837191,
          -1.659039570383292,
          4.75577679121959,
          6.7812934440753,
          6.077215533559585,
          7.279027490967427,
          1.2961093465449791,
          -2.8587026518427208,
          -1.2119767296952002,
          3.145864891794663,
          4.701438810132844,
          0.16612849006252195,
          2.6618391320933474,
          -5.844616164111117,
          4.995004102340721,
          5.8446142135690735,
          2.7277011732409657,
          2.197627241663937,
          -5.297504383171283,
          3.1326766272942503,
          3.1861470897918656,
          0.1680968875129408,
          3.4997533975925186,
          -4.413635881774421,
          -4.096338537638226,
          4.479207161278834,
          -5.768143145852306,
          -4.69748397390476,
          5.222637960953292,
          -0.5532733352544754,
          -4.418246415171173,
          1.3128333906066194,
          8.307183696701642,
          -5.825120341754317,
          -4.322035218446206,
          -3.365817223413158,
          1.0180489386561267,
          5.527372782869725,
          0.35977681201221773,
          1.521382670224573,
          4.239620914406348,
          1.984331168430736,
          0.15948571970678094,
          10.201392725490104,
          -6.890590542506385,
          -4.943307346467625,
          7.535949399655877,
          -6.177098056930119,
          -0.6743986202514589,
          -0.504440464055116,
          3.4945233763724004,
          5.975160808232789,
          -0.41757488129431886,
          0.4170172391111681,
          -7.2063781436452645,
          0.9873100637570819,
          -0.8075112379743468,
          6.635522613303778,
          5.282823704127352,
          -0.6983452257652862,
          4.433090704320131,
          -5.764607007391443,
          4.314949101813725,
          -6.068227660536056,
          0.24747578778715068,
          -4.687371016410542,
          -0.4413667176214729,
          1.3756031941423696,
          -6.178805408339111,
          -3.542457482170357,
          1.3417642461867534,
          -6.316204278487742,
          -7.412100896535343,
          -0.4565038315075917,
          -3.2095417660218994,
          -6.960542010758957,
          2.7282129981399956,
          -2.5994594091625154,
          -6.238159254000434,
          5.88513792017077,
          4.270500201230068,
          -3.1692547819590184,
          -6.111738712495953,
          7.032184262270077,
          -6.688209623710024,
          7.035434004360644,
          0.23819062401734056,
          -2.0364860700614176,
          -2.613374226723188,
          -2.400892792189283,
          -3.521060410109176,
          3.7816090863378116,
          -4.259500003005203,
          4.251833968211096,
          -3.9638066389196753,
          -1.7440637438047621,
          -4.244617386098421,
          -4.316805697698897,
          -2.2285325144100088,
          5.201922916214635,
          -3.0556125095736815,
          -6.802073002572175,
          -5.508132246334052,
          5.4798644858760115,
          4.190210706964875,
          -3.3911358016362727,
          4.691391148855847,
          3.9328109333380232,
          5.743946429006119,
          -1.2444005894670913,
          4.447893336171812,
          -4.8607692848517265,
          -0.29314544788917235,
          0.7002592080888019,
          -2.067001604638436,
          3.3480361611450853,
          8.041824140033576,
          2.2118174642955872,
          -6.344176412630573,
          -6.6371495842360675,
          1.4684567964379465,
          4.168659633560246,
          2.1950827078478694,
          -7.514904099104621,
          -1.8420922051365003,
          -1.6886746294946204,
          -1.2537298785541302,
          -4.520800610922293,
          8.16540122398699,
          -6.5222911447090555,
          -1.413456919955067,
          -1.150642693731879,
          2.864560686439549,
          -5.76385312269803,
          0.15433257377695705,
          -5.883265895552542,
          5.465407220299672,
          -1.9516880780696026,
          -3.3574515334047694,
          6.733182813355211,
          -5.195204235685138,
          1.3312046067711163,
          3.486050214697071,
          -0.499242787153758,
          0.7029713690542115,
          3.648234123108081,
          2.907356633850534,
          -5.928646274337714,
          8.141918248515289,
          -7.109822383300192,
          0.9208287722058666,
          -2.5389487207371255,
          -1.4170910008823925,
          -5.948200190747999,
          1.4203183519303018,
          -0.24047667610517548,
          0.7856483877506869,
          5.7513858739177826,
          -6.282241864782735,
          8.182036031584357,
          7.3002784634171105,
          -4.233757973718666,
          7.376431330955585,
          -5.667581721233384,
          3.0343771515629103,
          6.260397896085341,
          -7.174841382809283,
          -1.9050023016993276,
          6.111164732137671,
          -3.4226591749549815,
          7.570939571118263,
          6.580656004263795,
          -2.092278193504022,
          4.646631057232095,
          -5.054907745408652,
          -6.808745987754767,
          -6.223908300808526,
          6.955032542478122,
          -3.8231153488356195,
          6.221833521519977,
          -2.5027243249674687,
          6.098921354473524,
          0.06554601790948772,
          2.2740599705651494,
          0.6736784677722947,
          7.747864084002847,
          5.494131687471832
         ],
         "y": [
          -3.185339533496719,
          3.526269370660884,
          1.715346722184464,
          2.6761199648124974,
          1.6756077536208118,
          4.605953165419918,
          6.064169318828853,
          -3.6044118120943005,
          0.8648944850483978,
          -3.6790926430993323,
          -0.496038872170549,
          2.3993437958766384,
          2.830148488875805,
          3.6838602231763926,
          -3.6760238835798034,
          2.6615007527333083,
          4.172387421022121,
          -1.7913736096874482,
          -2.5297373220659654,
          1.7762205555317623,
          -3.1176025987744844,
          -3.1554359053756555,
          -1.3716163147596365,
          3.344300563045576,
          3.8507505702012694,
          5.704011454519014,
          -0.347834093991101,
          0.2158475568958888,
          3.260440286208041,
          -1.5139585753815141,
          5.781652941818434,
          6.787246439193214,
          6.205205588130435,
          3.6816497487804773,
          -1.6200052152681022,
          -3.5992085322084337,
          -0.0623697233251818,
          5.286594306196153,
          2.054718363640078,
          3.0567047136013636,
          5.917604413483832,
          0.6585068575618191,
          0.39016696163920594,
          2.47821111638398,
          -0.4797617354939163,
          0.6415331763181205,
          1.8711731770041138,
          5.077773907597244,
          4.320648381896767,
          1.5332063368216104,
          -0.06029141808885456,
          2.1150881264477412,
          4.55188420197008,
          4.369845136168237,
          -2.010138871868373,
          -4.41901216527134,
          4.468094685026429,
          3.6736038403702542,
          2.244525261060412,
          -3.336247464455602,
          7.454980145946485,
          -4.517296926113486,
          4.561889186239606,
          1.7293381478978926,
          -0.5144604800750756,
          0.9599103209444515,
          3.095507813818702,
          1.5142261141804365,
          -2.5801014650951024,
          -1.3937370016537232,
          1.799424475790517,
          -4.336485358831136,
          -4.522288345554645,
          1.2687090495103257,
          -2.493397807940657,
          -5.1279168805436,
          1.8341563256387274,
          -2.440040371713169,
          6.937287650871799,
          -3.7481810379140788,
          1.8910932872020707,
          -5.259952736962708,
          2.2045300742263847,
          -3.4661610587341753,
          0.5501421857109342,
          0.6044004493496764,
          5.212461877822151,
          -2.4328514269703074,
          4.676439496666554,
          -1.8621846513148004,
          -2.232447505470221,
          -2.2687285251596387,
          1.5306702652232758,
          1.5045133526264443,
          -3.3771668201962015,
          -0.8450983248439535,
          -3.390546180286222,
          3.4291192381188775,
          0.8676830362390612,
          -3.785940226994886,
          1.7426444555055398,
          -5.532239050868793,
          1.1769092484546744,
          2.5737018661800466,
          0.8999626223991334,
          -0.33291622696215356,
          0.529816517025781,
          -1.1455413616969603,
          0.7773965740348976,
          0.3835502864968858,
          1.58161353078441,
          2.317354157285144,
          -0.23727067051344378,
          -0.9366159846535103,
          1.238917746194043,
          2.341518052364701,
          -0.4572071179698685,
          3.240191026239536,
          4.4196498871147485,
          3.165141166929138,
          0.5541986967914634,
          -4.957280316027876,
          3.4486437248192723,
          0.83215321148378,
          0.12568754867085902,
          0.5347201076600563,
          -3.456337586640426,
          0.8301420274310237,
          1.8118829340729827,
          1.2762871635827795,
          4.051788816127994,
          7.104604771602168,
          -3.402323974364893,
          0.8150272976328425,
          1.8636224720552528,
          -2.322268487060278,
          -4.315420290131739,
          0.681111972511005,
          -3.225345763876776,
          3.1282803300508495,
          -0.5039082135098844,
          -2.781771533311857,
          -3.425730739638727,
          1.5062553570113189,
          1.7804326601918115,
          4.292177898695285,
          0.33770848463730124,
          6.988648852593103,
          1.5476964535842583,
          -4.613665536726372,
          -3.2298408388039133,
          -3.428281607440886,
          1.9461247546678935,
          2.7333520080056806,
          3.425679652131938,
          -3.602943605156337,
          0.9789026751272514,
          0.7437612985110426,
          3.879222374805836,
          -1.005011600054948,
          -0.10634409958054315,
          3.5525337855827,
          0.8292459392549735,
          2.450462425602555,
          5.15200486067368,
          -0.7467617472363656,
          -2.7147573047067666,
          -0.8975398603185218,
          0.05856688931035387,
          3.1633412033553556,
          -2.186927414180228,
          -2.012983843039207,
          -2.3006892611986287,
          -2.656145624694889,
          -0.1342475222863593,
          1.0071029619819916,
          3.7978848896184534,
          -0.9898689559715562,
          4.318106788064411,
          2.9679769283789983,
          4.947176902193315,
          3.500966871878339,
          -0.4877913115502468,
          -2.948029727723794,
          6.060834932651681,
          -0.9439382340085127,
          0.9915619027203701,
          1.7642024127884235,
          -2.382392965012137,
          -3.502800680130363,
          -2.326843409352602,
          2.7664960482539698,
          -3.312132457732254,
          -5.319170410411769,
          -5.209032986053288,
          -2.5227704057951703,
          3.8511663037373567,
          -2.498928981468509,
          -0.508954084164474,
          -2.725110908488803,
          2.9749104739874443,
          2.123539093489147,
          5.675125792730779,
          3.3923267233414967,
          -0.5554359771848942,
          -2.2684682894917954,
          2.108870778756932,
          -3.1062927710841484,
          -0.20389681621750622,
          -0.24217096144921108,
          2.7245045830258507,
          7.374493622269858,
          1.476806332221821,
          -0.8613254797809415,
          0.6422470104847502,
          -0.877289673834288,
          3.7234200256473957,
          -1.667859332570511,
          3.5975633493632673,
          4.311362975964905,
          1.2175629551336267,
          1.8542910975416111,
          4.30841564042251,
          1.3047954032865658,
          2.751406318510656,
          -1.8273801092178987,
          -4.759538183929515,
          -1.428241570763867,
          3.1457373392929706,
          -5.184261099599341,
          2.5963728158699952,
          -0.036992172302093125,
          3.8353467402019166,
          1.4971677637726675,
          0.26125162623797404,
          -1.8706404941516024,
          0.5106891321543202,
          0.2202747241618912,
          3.845992151142327,
          4.323476687459889,
          -3.7185396863263285,
          1.301593339397366,
          2.414655455450271,
          -1.25576866491979,
          -0.023649776600793045,
          -1.402538050421342,
          -3.596155218517825,
          -3.1071946347146526,
          -1.3050897760976108,
          2.843105009596784,
          -3.7556244921198187,
          -0.5499498418941419,
          -2.52064150182905,
          -4.321997520337447,
          4.800750845792038,
          0.6463327393797359,
          2.3980945747581597,
          -0.7013470292666453,
          2.229683994762437,
          -4.335700735982119,
          2.9612448512804583,
          -0.6153431242071318,
          4.405986877228041,
          3.801866791638378,
          4.563813363163087,
          -3.444140860081688,
          1.2280310559391967,
          3.919697226605617,
          -3.5863725712937873,
          -4.312719357350898,
          0.492193553716572,
          -1.7691451811444843,
          2.5690270243641793,
          0.3023811285033651,
          0.489211317181429,
          2.389647596182356,
          2.0188971184882045,
          2.1474108685188837,
          3.7271590506832313,
          2.096224746283681,
          1.2234301760823014,
          -2.961288146667391,
          3.2511361292374246,
          -1.4314082188486958,
          2.1121075855718727,
          -2.862579653709002,
          7.74511211704485,
          -0.029496562885368418,
          -1.5083534694680676,
          2.442113079971942,
          2.738713206540722,
          0.684575959883466,
          -0.541756113007171,
          -5.188088669310594,
          1.1334239417929322,
          1.2555549822329024,
          0.6306374042839697,
          4.232576740086362,
          -3.2575614085215823,
          -1.4822113863360866,
          0.08335259117447673,
          4.286413060633223,
          -0.37962488901685465,
          5.623555703224563,
          -3.180046193896092,
          1.718685353971302,
          1.6906523753433356,
          3.7207322601055126,
          1.0594994663828,
          -1.0864442690310134,
          -3.4092172552222486,
          6.383679705852373,
          3.7767909566058555,
          4.151912714280456,
          -0.27027049157340644,
          -3.5620046473202467,
          2.1585465675669333,
          0.7424293379178936,
          -3.772914613161643,
          -0.18691844199793106,
          -2.443576664047903,
          1.982666739720224,
          -0.7336482388739616,
          5.326185456534703,
          -0.54132682772385,
          3.474897045310213,
          2.784965554137515,
          -5.112580702086281,
          5.445797948159613,
          0.8769645012257812,
          2.3100890349922945,
          0.7557508672733261,
          2.6419608101365943,
          3.438882570938854,
          4.751030470300312,
          -1.8868170137756466,
          2.5784779051120403,
          -0.8582146185433623,
          1.5053479102737028,
          -1.4318711130688537,
          6.139312109261375,
          1.1094814321963165,
          6.07826246257586,
          3.4502024429178544,
          -2.3424257386062615,
          5.302474409012479,
          -3.9132743965738994,
          1.5069149901534211,
          -0.7240033489386096,
          0.8771579544044569,
          3.297758738338056,
          3.9969531156750535,
          4.021664455185728,
          6.034305977342252,
          -2.283252227292193,
          0.2701981574538519,
          -3.2234702304552765,
          -3.773327778195204,
          3.6473692232859225,
          3.9622370116131496
         ],
         "z": [
          1.1772062149586162,
          3.0430298910236706,
          -2.229708933650626,
          -3.4826006076448324,
          -0.6684075308173654,
          3.872177594090662,
          0.6935062256239646,
          1.8196825656788025,
          -1.0697224181844496,
          0.5630165217267492,
          -1.4703427088742373,
          -0.3988662362243103,
          -2.9191011117211265,
          1.0618122517876973,
          3.1039958357547124,
          -3.9647959920337037,
          -2.518433261709283,
          1.419600576344029,
          -2.4073690094469242,
          -0.47075839245728957,
          -1.1792763177008898,
          1.6110540721796072,
          -2.5435237517851963,
          -0.04600806101463568,
          -1.7966551890917202,
          0.8581402785156085,
          -1.9538014853491246,
          -3.122243866563067,
          0.401558755968805,
          -3.633220772668833,
          4.5397615461020955,
          -1.3707312752917102,
          1.0031350285265734,
          -0.6629998131085991,
          -1.9245422135936163,
          0.7439428380658922,
          -1.6140385875851186,
          6.281272710453684,
          -0.3345853321883324,
          -2.173381757703676,
          1.5129233664357875,
          -0.8004490275164057,
          -1.5225281976973948,
          1.5856647455501025,
          0.49504490384908467,
          -1.259547288708525,
          -0.5162477186877981,
          -0.04295643310335856,
          -2.9765752662349114,
          -0.06516773726994422,
          -1.2173790345434865,
          1.7768608139463486,
          -1.0613950507378889,
          -2.10022703523807,
          -2.5159344553873604,
          2.3376791728608954,
          1.615039889274413,
          1.364588515239036,
          -2.044222318542216,
          0.42042618039043766,
          -0.03597177187056613,
          0.21581245158498927,
          -1.7036552166148962,
          -1.6945293056101303,
          -0.16618569830701646,
          -3.2313095518921613,
          -2.28162459260435,
          -0.18672260989642223,
          -0.25454079416903747,
          0.012157165817250773,
          0.08739031115031766,
          -0.49150919592869446,
          2.001863099725205,
          -2.0632310585454436,
          1.0632326482278458,
          2.425886863240252,
          -2.287521000499961,
          1.9707992449646121,
          1.801531125617769,
          1.4395229562616922,
          -1.9289963874757872,
          2.5739434431551205,
          1.6406310425157626,
          0.879230736092475,
          -1.2895282949536833,
          -1.979310719576927,
          3.2360872574085313,
          1.654201196848669,
          -1.6113626630789637,
          -0.7910196583406849,
          0.5618533095229759,
          -2.1215007107244213,
          -2.411747342783796,
          0.34142488801724513,
          0.17653359769537574,
          -1.36543167501784,
          0.8971467422618491,
          1.722484834687029,
          -2.3930152316197657,
          0.6433253452023352,
          -0.5978364147414454,
          2.017530625997786,
          -1.170028205267558,
          -1.5849832072971193,
          -0.2680369697386766,
          -0.7395235756074341,
          -1.8896211876255147,
          -2.544805614002773,
          -1.063529200020342,
          1.178777136298457,
          -1.027648422052919,
          3.5575118398141266,
          -0.8843497983927191,
          -0.28585475580232445,
          -1.6383706961342133,
          -2.7008441497475895,
          -2.7787769203656443,
          -3.0446075482601533,
          -1.4796434857035843,
          1.2424613527986637,
          -1.1916372192778777,
          -0.23928794637122444,
          3.0008265163033476,
          -1.200473007471912,
          -2.624899486818146,
          -3.510092301889188,
          2.4845866322353904,
          -1.0038204501797048,
          -1.1586506359822806,
          -0.18391411924846965,
          -2.8381774031207234,
          0.690584881819501,
          2.551757912327164,
          -0.9997604932344545,
          -1.426864289971733,
          0.42251564449408696,
          -0.12177355410307175,
          -2.698666752868173,
          0.34888456938794626,
          -3.386867717975704,
          -0.16400778511032713,
          1.5031472286878804,
          -2.3732285782249813,
          -1.4379994369852034,
          0.08898491796123338,
          -2.289960543046277,
          0.3222147853532649,
          0.579699505685163,
          -0.8828027878155811,
          0.7278349206346544,
          1.6568203347230217,
          -1.153324877929984,
          -0.7646846904610966,
          -1.8849109715353176,
          -2.423789958199642,
          -1.646764274818634,
          -1.1782618757781866,
          -0.4576335629012979,
          1.15463537865807,
          -1.5975642839569353,
          -1.2983249233944432,
          -1.442343104638508,
          -1.5049846295757852,
          -2.115416323545371,
          0.9052132352252605,
          -1.291771716867772,
          0.7456286328751334,
          -2.7547683867957584,
          -2.1530345290564186,
          -2.9532902088822555,
          1.1418585931688492,
          -1.0983850111458615,
          0.5347272315303987,
          -0.5458693295387634,
          -1.79313747974385,
          -3.208864383385833,
          -2.216269469312178,
          0.8784154539214113,
          -2.749556512942869,
          -0.8457377959969742,
          3.6871261141315403,
          5.081525553316774,
          -1.262372586414096,
          2.383924795456416,
          0.7272820723013736,
          -0.6885454959624911,
          -0.834750531937935,
          -2.710428139756239,
          0.9319886335449808,
          0.8979824421974093,
          0.31874301663392357,
          0.24074739450689714,
          0.5564030085862448,
          2.412447566960724,
          1.3517093465109784,
          1.7527520080597758,
          2.4350396380159083,
          -1.736347866260353,
          -0.5400628857083061,
          -2.8636047946929093,
          1.7859098848019843,
          -2.2613709880665374,
          0.4327123881236174,
          1.8964031827861212,
          -2.549291507243993,
          1.7411630930117314,
          -0.08172613430041935,
          -1.1212543006587912,
          -3.534157400499423,
          -1.295166752386674,
          -1.6659802926947713,
          0.9213185618084038,
          3.7316250201041385,
          -1.3009679624271235,
          -1.7275723585719631,
          -2.25935595063271,
          -1.8296236001488277,
          -2.5580329408768057,
          -0.32272602817697255,
          -2.1030309961283704,
          0.3280456758291871,
          3.0596882284991995,
          5.001219215056548,
          -2.9575952566939776,
          -0.8008860669419906,
          -0.3871261511630765,
          0.837312407799695,
          -2.037091285143421,
          -0.6017401725752132,
          1.2115951188224334,
          -1.7357401269987587,
          -0.8583252650746596,
          3.3540600023868916,
          -2.4215807327648182,
          -0.3637614530143229,
          0.26303970896866735,
          -0.9706461633575906,
          -2.2202674160880473,
          2.466487453070217,
          3.837882247174675,
          2.7509983857500537,
          -0.7476753267362707,
          2.6010656349864867,
          -0.9548673441206454,
          -1.4687099109399113,
          -1.9262368154233367,
          2.591931385175227,
          -1.8053039017541834,
          -1.740761177123461,
          -0.46109848336159676,
          -1.855479128020024,
          -1.3310538959195775,
          0.5224115428286843,
          2.2710450211247246,
          3.586963652320579,
          -0.5397322900109583,
          -0.765284126627813,
          -1.388708408559734,
          -1.1676980804177621,
          1.2949583508439004,
          0.9484319186375516,
          -2.2869361369282393,
          3.823695507432437,
          2.7699123457680375,
          0.8373063591458193,
          -2.376053256201926,
          -0.7858442638855804,
          2.825009163916801,
          1.062930575775909,
          -0.9108403328495598,
          -1.4115055348719734,
          -1.7958106462357402,
          -2.4277853782363854,
          -1.2384154997820382,
          -1.8486854168967994,
          -0.7474667358334174,
          -1.4241655005277745,
          -2.7231273745913644,
          2.567097682487478,
          -2.51094839063113,
          -2.3175335554838425,
          1.0824484939367474,
          3.243745538173435,
          0.4216157691857104,
          1.414721494984246,
          -0.8776361153154326,
          0.9314089876823719,
          -1.8450872188622773,
          0.1497953902721247,
          -2.577167019238897,
          -1.7719422097592876,
          -0.8015227621523039,
          -1.7776594301055963,
          2.21182022001533,
          -1.8231401793016062,
          -1.721860601298921,
          -0.3534242488588125,
          0.33240429896061907,
          -0.3405094419971805,
          -2.627889475164317,
          -2.709296469518449,
          -2.3682121817675283,
          -1.2779142189866144,
          0.333609641562322,
          0.8978421968181595,
          -2.7241565712400275,
          -0.2641387180762859,
          -0.43664034991666556,
          -1.3102569871838932,
          1.9348244305813702,
          -1.119827444646594,
          -0.6618444161200021,
          -1.220246273417422,
          2.4159635120789122,
          -1.078262523474065,
          0.454657069905916,
          -0.2960681698283365,
          -3.5093070529356623,
          3.5228072342801284,
          -1.6989401784952156,
          -1.1560980069121964,
          -2.6349240933461755,
          -2.8786374338431306,
          -0.25959717087243417,
          -2.650278273831275,
          2.1827498173444493,
          -0.3486552568936589,
          3.5583369615179845,
          5.63308789052169,
          -0.24356393313331512,
          -2.4927930749866336,
          -1.0438658805402379,
          -2.6143637667013166,
          -1.4476959016496458,
          2.8304578741389057,
          1.6162198433879802,
          1.0836174707393824,
          -0.4274678537946891,
          -2.816452042528848,
          -2.7998946045657394,
          4.735364738250927,
          -0.27021025009662786,
          4.072971929513035,
          -2.9478953676951023,
          0.978261023740988,
          4.338027051693711,
          1.5002896596855009,
          -0.17647859853892256,
          -1.9494487350440926,
          -0.895457759096949,
          -2.9696674438499264,
          3.4108337228601053,
          -2.220881221887456,
          4.300584753442838,
          1.2901654145827561,
          -2.4373082006501146,
          1.9567562747685785,
          1.5241259968830854,
          -1.6758786898239515,
          -2.5105819019553173
         ]
        },
        {
         "hovertemplate": "color=1<br>x=%{x}<br>y=%{y}<br>z=%{z}<extra></extra>",
         "legendgroup": "1",
         "marker": {
          "color": "#EF553B",
          "symbol": "circle"
         },
         "mode": "markers",
         "name": "1",
         "scene": "scene",
         "showlegend": true,
         "type": "scatter3d",
         "x": [
          -1.240233841934954,
          -1.5774545023738993,
          -0.09377963914694347,
          2.1399673594429314,
          0.06499859794175666,
          2.1326143608092423,
          -1.436565244802783,
          -1.432893139163286,
          2.5227131922552277,
          -0.3062512780453204,
          2.092381556303094,
          0.35835619537458774,
          0.39075337518889053,
          0.2052809124272553,
          1.6633869241119832,
          2.6001212998812124,
          -1.3022397366359277,
          0.6597564809847348,
          0.3228782637707304,
          0.35964677606659884,
          -1.4211893721673654,
          -1.1063240331238182,
          1.9212819482151646,
          -0.0599252974849179,
          1.9259061233282002,
          1.8060708887380994,
          -2.2240936611481827,
          -1.6752303124131553,
          2.4693873630715144,
          -1.643108843135457,
          -4.152990161877942,
          0.9424708241693907,
          -2.7689729287564746,
          -2.2282612252682914,
          1.4065632040085099,
          -3.40633172605048,
          -1.9152334389798826,
          -0.410326342372904,
          1.2926112928535944,
          0.9355737518998077
         ],
         "y": [
          -5.684604586907034,
          -5.37053777167198,
          -5.993356378945942,
          -5.5521440555610235,
          -6.075697974272733,
          -5.212324913487973,
          -4.4973985215238,
          -5.564851002082122,
          -5.457908944899903,
          -5.453551336680267,
          -5.320109422761596,
          -2.542774676170988,
          -5.963054265244636,
          -5.216063971353211,
          -5.478230816466301,
          -5.9065214973399165,
          -5.518822683157802,
          -5.5157770703447975,
          -5.64739510283129,
          -5.931470637689995,
          -5.580608760525969,
          -5.363420596244239,
          -2.430103680579609,
          -4.731161846902935,
          -5.466497397437932,
          -5.870570896634507,
          -5.277594452777786,
          -5.057447689796308,
          -6.047337558122858,
          -4.959653407290195,
          -2.5301418690460804,
          -6.0607496922263495,
          -5.40436174090222,
          -4.603226807920073,
          -5.742917456802839,
          -4.049848028479004,
          -5.115803885040928,
          -5.961017398937815,
          -5.805226118606092,
          -5.825746682033371
         ],
         "z": [
          0.7652794645240333,
          0.7305412972868951,
          1.1008457897194321,
          2.3311181810286383,
          1.3332689644039575,
          1.8710164502330906,
          0.08254419362483528,
          0.17391900380849473,
          2.09669299374051,
          1.2590874409601545,
          1.8180471728267942,
          -1.6632917449830817,
          1.1669113160355038,
          0.9116550871120093,
          1.211534484934947,
          1.5965977031049552,
          0.4081815862813534,
          1.0107286841450125,
          1.3891549569021484,
          1.823861413545594,
          0.31476634095383876,
          -0.4968468219780829,
          -1.1656833365394652,
          0.20073967625231814,
          1.5231424837388248,
          1.57691021737552,
          0.03811944588729042,
          0.015666246634661464,
          3.070175206317046,
          2.213898877055682,
          -2.85295088204853,
          1.8077880520419896,
          -0.3178214187646244,
          -0.5141393886108406,
          2.4372851218358096,
          -1.1436344681126274,
          0.1485272362728887,
          1.0557420304772056,
          1.2678340900715608,
          1.9946173429035134
         ]
        }
       ],
       "layout": {
        "legend": {
         "title": {
          "text": "color"
         },
         "tracegroupgap": 0
        },
        "margin": {
         "t": 60
        },
        "scene": {
         "domain": {
          "x": [
           0,
           1
          ],
          "y": [
           0,
           1
          ]
         },
         "xaxis": {
          "title": {
           "text": "x"
          }
         },
         "yaxis": {
          "title": {
           "text": "y"
          }
         },
         "zaxis": {
          "title": {
           "text": "z"
          }
         }
        },
        "template": {
         "data": {
          "bar": [
           {
            "error_x": {
             "color": "#2a3f5f"
            },
            "error_y": {
             "color": "#2a3f5f"
            },
            "marker": {
             "line": {
              "color": "#E5ECF6",
              "width": 0.5
             },
             "pattern": {
              "fillmode": "overlay",
              "size": 10,
              "solidity": 0.2
             }
            },
            "type": "bar"
           }
          ],
          "barpolar": [
           {
            "marker": {
             "line": {
              "color": "#E5ECF6",
              "width": 0.5
             },
             "pattern": {
              "fillmode": "overlay",
              "size": 10,
              "solidity": 0.2
             }
            },
            "type": "barpolar"
           }
          ],
          "carpet": [
           {
            "aaxis": {
             "endlinecolor": "#2a3f5f",
             "gridcolor": "white",
             "linecolor": "white",
             "minorgridcolor": "white",
             "startlinecolor": "#2a3f5f"
            },
            "baxis": {
             "endlinecolor": "#2a3f5f",
             "gridcolor": "white",
             "linecolor": "white",
             "minorgridcolor": "white",
             "startlinecolor": "#2a3f5f"
            },
            "type": "carpet"
           }
          ],
          "choropleth": [
           {
            "colorbar": {
             "outlinewidth": 0,
             "ticks": ""
            },
            "type": "choropleth"
           }
          ],
          "contour": [
           {
            "colorbar": {
             "outlinewidth": 0,
             "ticks": ""
            },
            "colorscale": [
             [
              0,
              "#0d0887"
             ],
             [
              0.1111111111111111,
              "#46039f"
             ],
             [
              0.2222222222222222,
              "#7201a8"
             ],
             [
              0.3333333333333333,
              "#9c179e"
             ],
             [
              0.4444444444444444,
              "#bd3786"
             ],
             [
              0.5555555555555556,
              "#d8576b"
             ],
             [
              0.6666666666666666,
              "#ed7953"
             ],
             [
              0.7777777777777778,
              "#fb9f3a"
             ],
             [
              0.8888888888888888,
              "#fdca26"
             ],
             [
              1,
              "#f0f921"
             ]
            ],
            "type": "contour"
           }
          ],
          "contourcarpet": [
           {
            "colorbar": {
             "outlinewidth": 0,
             "ticks": ""
            },
            "type": "contourcarpet"
           }
          ],
          "heatmap": [
           {
            "colorbar": {
             "outlinewidth": 0,
             "ticks": ""
            },
            "colorscale": [
             [
              0,
              "#0d0887"
             ],
             [
              0.1111111111111111,
              "#46039f"
             ],
             [
              0.2222222222222222,
              "#7201a8"
             ],
             [
              0.3333333333333333,
              "#9c179e"
             ],
             [
              0.4444444444444444,
              "#bd3786"
             ],
             [
              0.5555555555555556,
              "#d8576b"
             ],
             [
              0.6666666666666666,
              "#ed7953"
             ],
             [
              0.7777777777777778,
              "#fb9f3a"
             ],
             [
              0.8888888888888888,
              "#fdca26"
             ],
             [
              1,
              "#f0f921"
             ]
            ],
            "type": "heatmap"
           }
          ],
          "heatmapgl": [
           {
            "colorbar": {
             "outlinewidth": 0,
             "ticks": ""
            },
            "colorscale": [
             [
              0,
              "#0d0887"
             ],
             [
              0.1111111111111111,
              "#46039f"
             ],
             [
              0.2222222222222222,
              "#7201a8"
             ],
             [
              0.3333333333333333,
              "#9c179e"
             ],
             [
              0.4444444444444444,
              "#bd3786"
             ],
             [
              0.5555555555555556,
              "#d8576b"
             ],
             [
              0.6666666666666666,
              "#ed7953"
             ],
             [
              0.7777777777777778,
              "#fb9f3a"
             ],
             [
              0.8888888888888888,
              "#fdca26"
             ],
             [
              1,
              "#f0f921"
             ]
            ],
            "type": "heatmapgl"
           }
          ],
          "histogram": [
           {
            "marker": {
             "pattern": {
              "fillmode": "overlay",
              "size": 10,
              "solidity": 0.2
             }
            },
            "type": "histogram"
           }
          ],
          "histogram2d": [
           {
            "colorbar": {
             "outlinewidth": 0,
             "ticks": ""
            },
            "colorscale": [
             [
              0,
              "#0d0887"
             ],
             [
              0.1111111111111111,
              "#46039f"
             ],
             [
              0.2222222222222222,
              "#7201a8"
             ],
             [
              0.3333333333333333,
              "#9c179e"
             ],
             [
              0.4444444444444444,
              "#bd3786"
             ],
             [
              0.5555555555555556,
              "#d8576b"
             ],
             [
              0.6666666666666666,
              "#ed7953"
             ],
             [
              0.7777777777777778,
              "#fb9f3a"
             ],
             [
              0.8888888888888888,
              "#fdca26"
             ],
             [
              1,
              "#f0f921"
             ]
            ],
            "type": "histogram2d"
           }
          ],
          "histogram2dcontour": [
           {
            "colorbar": {
             "outlinewidth": 0,
             "ticks": ""
            },
            "colorscale": [
             [
              0,
              "#0d0887"
             ],
             [
              0.1111111111111111,
              "#46039f"
             ],
             [
              0.2222222222222222,
              "#7201a8"
             ],
             [
              0.3333333333333333,
              "#9c179e"
             ],
             [
              0.4444444444444444,
              "#bd3786"
             ],
             [
              0.5555555555555556,
              "#d8576b"
             ],
             [
              0.6666666666666666,
              "#ed7953"
             ],
             [
              0.7777777777777778,
              "#fb9f3a"
             ],
             [
              0.8888888888888888,
              "#fdca26"
             ],
             [
              1,
              "#f0f921"
             ]
            ],
            "type": "histogram2dcontour"
           }
          ],
          "mesh3d": [
           {
            "colorbar": {
             "outlinewidth": 0,
             "ticks": ""
            },
            "type": "mesh3d"
           }
          ],
          "parcoords": [
           {
            "line": {
             "colorbar": {
              "outlinewidth": 0,
              "ticks": ""
             }
            },
            "type": "parcoords"
           }
          ],
          "pie": [
           {
            "automargin": true,
            "type": "pie"
           }
          ],
          "scatter": [
           {
            "fillpattern": {
             "fillmode": "overlay",
             "size": 10,
             "solidity": 0.2
            },
            "type": "scatter"
           }
          ],
          "scatter3d": [
           {
            "line": {
             "colorbar": {
              "outlinewidth": 0,
              "ticks": ""
             }
            },
            "marker": {
             "colorbar": {
              "outlinewidth": 0,
              "ticks": ""
             }
            },
            "type": "scatter3d"
           }
          ],
          "scattercarpet": [
           {
            "marker": {
             "colorbar": {
              "outlinewidth": 0,
              "ticks": ""
             }
            },
            "type": "scattercarpet"
           }
          ],
          "scattergeo": [
           {
            "marker": {
             "colorbar": {
              "outlinewidth": 0,
              "ticks": ""
             }
            },
            "type": "scattergeo"
           }
          ],
          "scattergl": [
           {
            "marker": {
             "colorbar": {
              "outlinewidth": 0,
              "ticks": ""
             }
            },
            "type": "scattergl"
           }
          ],
          "scattermapbox": [
           {
            "marker": {
             "colorbar": {
              "outlinewidth": 0,
              "ticks": ""
             }
            },
            "type": "scattermapbox"
           }
          ],
          "scatterpolar": [
           {
            "marker": {
             "colorbar": {
              "outlinewidth": 0,
              "ticks": ""
             }
            },
            "type": "scatterpolar"
           }
          ],
          "scatterpolargl": [
           {
            "marker": {
             "colorbar": {
              "outlinewidth": 0,
              "ticks": ""
             }
            },
            "type": "scatterpolargl"
           }
          ],
          "scatterternary": [
           {
            "marker": {
             "colorbar": {
              "outlinewidth": 0,
              "ticks": ""
             }
            },
            "type": "scatterternary"
           }
          ],
          "surface": [
           {
            "colorbar": {
             "outlinewidth": 0,
             "ticks": ""
            },
            "colorscale": [
             [
              0,
              "#0d0887"
             ],
             [
              0.1111111111111111,
              "#46039f"
             ],
             [
              0.2222222222222222,
              "#7201a8"
             ],
             [
              0.3333333333333333,
              "#9c179e"
             ],
             [
              0.4444444444444444,
              "#bd3786"
             ],
             [
              0.5555555555555556,
              "#d8576b"
             ],
             [
              0.6666666666666666,
              "#ed7953"
             ],
             [
              0.7777777777777778,
              "#fb9f3a"
             ],
             [
              0.8888888888888888,
              "#fdca26"
             ],
             [
              1,
              "#f0f921"
             ]
            ],
            "type": "surface"
           }
          ],
          "table": [
           {
            "cells": {
             "fill": {
              "color": "#EBF0F8"
             },
             "line": {
              "color": "white"
             }
            },
            "header": {
             "fill": {
              "color": "#C8D4E3"
             },
             "line": {
              "color": "white"
             }
            },
            "type": "table"
           }
          ]
         },
         "layout": {
          "annotationdefaults": {
           "arrowcolor": "#2a3f5f",
           "arrowhead": 0,
           "arrowwidth": 1
          },
          "autotypenumbers": "strict",
          "coloraxis": {
           "colorbar": {
            "outlinewidth": 0,
            "ticks": ""
           }
          },
          "colorscale": {
           "diverging": [
            [
             0,
             "#8e0152"
            ],
            [
             0.1,
             "#c51b7d"
            ],
            [
             0.2,
             "#de77ae"
            ],
            [
             0.3,
             "#f1b6da"
            ],
            [
             0.4,
             "#fde0ef"
            ],
            [
             0.5,
             "#f7f7f7"
            ],
            [
             0.6,
             "#e6f5d0"
            ],
            [
             0.7,
             "#b8e186"
            ],
            [
             0.8,
             "#7fbc41"
            ],
            [
             0.9,
             "#4d9221"
            ],
            [
             1,
             "#276419"
            ]
           ],
           "sequential": [
            [
             0,
             "#0d0887"
            ],
            [
             0.1111111111111111,
             "#46039f"
            ],
            [
             0.2222222222222222,
             "#7201a8"
            ],
            [
             0.3333333333333333,
             "#9c179e"
            ],
            [
             0.4444444444444444,
             "#bd3786"
            ],
            [
             0.5555555555555556,
             "#d8576b"
            ],
            [
             0.6666666666666666,
             "#ed7953"
            ],
            [
             0.7777777777777778,
             "#fb9f3a"
            ],
            [
             0.8888888888888888,
             "#fdca26"
            ],
            [
             1,
             "#f0f921"
            ]
           ],
           "sequentialminus": [
            [
             0,
             "#0d0887"
            ],
            [
             0.1111111111111111,
             "#46039f"
            ],
            [
             0.2222222222222222,
             "#7201a8"
            ],
            [
             0.3333333333333333,
             "#9c179e"
            ],
            [
             0.4444444444444444,
             "#bd3786"
            ],
            [
             0.5555555555555556,
             "#d8576b"
            ],
            [
             0.6666666666666666,
             "#ed7953"
            ],
            [
             0.7777777777777778,
             "#fb9f3a"
            ],
            [
             0.8888888888888888,
             "#fdca26"
            ],
            [
             1,
             "#f0f921"
            ]
           ]
          },
          "colorway": [
           "#636efa",
           "#EF553B",
           "#00cc96",
           "#ab63fa",
           "#FFA15A",
           "#19d3f3",
           "#FF6692",
           "#B6E880",
           "#FF97FF",
           "#FECB52"
          ],
          "font": {
           "color": "#2a3f5f"
          },
          "geo": {
           "bgcolor": "white",
           "lakecolor": "white",
           "landcolor": "#E5ECF6",
           "showlakes": true,
           "showland": true,
           "subunitcolor": "white"
          },
          "hoverlabel": {
           "align": "left"
          },
          "hovermode": "closest",
          "mapbox": {
           "style": "light"
          },
          "paper_bgcolor": "white",
          "plot_bgcolor": "#E5ECF6",
          "polar": {
           "angularaxis": {
            "gridcolor": "white",
            "linecolor": "white",
            "ticks": ""
           },
           "bgcolor": "#E5ECF6",
           "radialaxis": {
            "gridcolor": "white",
            "linecolor": "white",
            "ticks": ""
           }
          },
          "scene": {
           "xaxis": {
            "backgroundcolor": "#E5ECF6",
            "gridcolor": "white",
            "gridwidth": 2,
            "linecolor": "white",
            "showbackground": true,
            "ticks": "",
            "zerolinecolor": "white"
           },
           "yaxis": {
            "backgroundcolor": "#E5ECF6",
            "gridcolor": "white",
            "gridwidth": 2,
            "linecolor": "white",
            "showbackground": true,
            "ticks": "",
            "zerolinecolor": "white"
           },
           "zaxis": {
            "backgroundcolor": "#E5ECF6",
            "gridcolor": "white",
            "gridwidth": 2,
            "linecolor": "white",
            "showbackground": true,
            "ticks": "",
            "zerolinecolor": "white"
           }
          },
          "shapedefaults": {
           "line": {
            "color": "#2a3f5f"
           }
          },
          "ternary": {
           "aaxis": {
            "gridcolor": "white",
            "linecolor": "white",
            "ticks": ""
           },
           "baxis": {
            "gridcolor": "white",
            "linecolor": "white",
            "ticks": ""
           },
           "bgcolor": "#E5ECF6",
           "caxis": {
            "gridcolor": "white",
            "linecolor": "white",
            "ticks": ""
           }
          },
          "title": {
           "x": 0.05
          },
          "xaxis": {
           "automargin": true,
           "gridcolor": "white",
           "linecolor": "white",
           "ticks": "",
           "title": {
            "standoff": 15
           },
           "zerolinecolor": "white",
           "zerolinewidth": 2
          },
          "yaxis": {
           "automargin": true,
           "gridcolor": "white",
           "linecolor": "white",
           "ticks": "",
           "title": {
            "standoff": 15
           },
           "zerolinecolor": "white",
           "zerolinewidth": 2
          }
         }
        }
       }
      }
     },
     "metadata": {},
     "output_type": "display_data"
    }
   ],
   "source": [
    "px.scatter_3d(x=x_testdf.iloc[:,0],y=x_testdf.iloc[:,1],z=x_testdf.iloc[:,2], color= y_test)"
   ]
  },
  {
   "cell_type": "code",
   "execution_count": 119,
   "metadata": {},
   "outputs": [
    {
     "data": {
      "application/vnd.plotly.v1+json": {
       "config": {
        "plotlyServerURL": "https://plot.ly"
       },
       "data": [
        {
         "hovertemplate": "color=0<br>x=%{x}<br>y=%{y}<br>z=%{z}<extra></extra>",
         "legendgroup": "0",
         "marker": {
          "color": "#636efa",
          "symbol": "circle"
         },
         "mode": "markers",
         "name": "0",
         "scene": "scene",
         "showlegend": true,
         "type": "scatter3d",
         "x": [
          7.203924070266284,
          -2.5609447461408976,
          5.639308384843588,
          3.0544859899600856,
          -6.098985707833628,
          -2.3728526512489396,
          -0.276013764174703,
          4.385682289208857,
          -6.032717547532622,
          0.7448612105411531,
          4.5161449985684525,
          1.5156827075875372,
          7.121836399761821,
          -5.330295293312268,
          4.355775422523092,
          2.353249012265955,
          7.769055523595671,
          5.943886762231404,
          -1.2998279762573521,
          -5.9366302822771795,
          -1.6126582808075987,
          7.80816284260002,
          -7.196192724270367,
          -5.319657468638225,
          4.073168104883865,
          2.6707109199446957,
          -6.724122530596802,
          -3.1254244983879524,
          -3.880987825249434,
          -4.08989170254775,
          -1.470767454505767,
          7.1720875795570445,
          2.837311144706925,
          9.705070692541158,
          -2.83926421427601,
          4.375062679302176,
          -6.987198446748858,
          3.2669087997618584,
          -6.055874924226569,
          6.577334463384931,
          -3.524813619415456,
          4.86344367116555,
          -6.247306593066149,
          -4.487311761975919,
          -5.336656691022901,
          -5.032172186633748,
          -6.121763578761868,
          -1.1775877917834565,
          6.9757691392272845,
          -6.099147973242507,
          -6.269976242908781,
          -4.656085087574266,
          0.8173781028402018,
          8.886696257053497,
          -1.4938298320060177,
          -1.6551210471688873,
          -4.642859328516961,
          -4.6697111102439814,
          7.764996842920759,
          3.8009043979655925,
          -0.2187176273894369,
          -1.6487860556465304,
          8.383932149504222,
          5.795469518928827,
          6.739150719031043,
          0.3440537411496029,
          8.517714878400204,
          -5.79362447969959,
          1.5616338560114977,
          5.7485234377568615,
          -4.4468073697316335,
          -2.702803648786404,
          4.392108764151224,
          5.133394290246857,
          6.224329557659949,
          6.613587155143442,
          7.1695644805505125,
          7.546902478630216,
          5.200393595332108,
          7.574941077120244,
          3.6814486537555764,
          -4.94738977391632,
          2.5865078657343648,
          -5.881483748151436,
          0.3727887737223328,
          -3.7773644484442683,
          5.094796420317379,
          5.8937199714402,
          1.675795660004064,
          1.6293567876237738,
          -2.432505695743313,
          2.7790489279709427,
          -6.477043555066059,
          1.4193362485089074,
          -2.7694124453410245,
          -0.834254514071135,
          -4.640925724571085,
          3.241439501015477,
          4.101154296851597,
          -5.975654603647307,
          -6.025802323446821,
          -3.0819980120349615,
          8.88674446840755,
          -6.643030523200058,
          -5.892320454507683,
          -6.787005820462629,
          4.5748283248494115,
          0.06822322532002392,
          -6.545947745404773,
          0.4416615541327203,
          7.540576384912051,
          5.71433411253985,
          5.344697321766783,
          3.484845174827814,
          -6.3397561813403795,
          5.1051716505466445,
          6.085168341603478,
          -4.345743558096068,
          -6.4250362524059055,
          -3.1295097196674395,
          -0.8944897113315989,
          -6.3627176904480125,
          0.8447920364857265,
          0.04525411342577502,
          3.93685908810881,
          -6.232676623702319,
          -1.436565244802783,
          8.306175953981654,
          6.717014185570476,
          8.229866641619221,
          0.48642241864956837,
          6.15601356148429,
          -6.255283594422233,
          3.7952120420659763,
          4.820785084096091,
          -3.588675907039285,
          2.0849489865816255,
          4.370174427372227,
          6.141471412061204,
          2.6685308561598906,
          5.415065148315906,
          -6.088217133605396,
          8.887344379404631,
          -5.488356028620006,
          6.872019061082452,
          -6.0300238010098495,
          4.38858187162388,
          5.157018595877629,
          0.35835619537458774,
          -3.0859958113557218,
          5.744144748616372,
          -0.47907389325850575,
          -5.883377228413314,
          6.268058926427664,
          7.065120772154154,
          -3.5420796952256555,
          -5.6884607022100635,
          -5.6187081653041036,
          -4.366281671839374,
          -6.8854255202155805,
          -6.705996829617046,
          6.683736830356249,
          -6.364168415598526,
          5.333876032524296,
          -0.4317475635601301,
          -1.5282644762174407,
          4.183653303759165,
          -0.6798593299135748,
          0.5363492039893308,
          5.012396019136997,
          6.8763503677487705,
          1.3629366975981587,
          6.635513381108584,
          0.15656082919837191,
          -1.659039570383292,
          4.75577679121959,
          6.7812934440753,
          6.077215533559585,
          7.279027490967427,
          1.2961093465449791,
          -2.8587026518427208,
          -1.2119767296952002,
          3.145864891794663,
          4.701438810132844,
          0.16612849006252195,
          2.6618391320933474,
          -5.844616164111117,
          4.995004102340721,
          5.8446142135690735,
          2.7277011732409657,
          2.197627241663937,
          -5.297504383171283,
          3.1326766272942503,
          3.4997533975925186,
          -4.413635881774421,
          -4.096338537638226,
          4.479207161278834,
          -5.768143145852306,
          -4.69748397390476,
          5.222637960953292,
          -0.5532733352544754,
          -4.418246415171173,
          1.3128333906066194,
          8.307183696701642,
          -5.825120341754317,
          -4.322035218446206,
          -3.365817223413158,
          1.0180489386561267,
          5.527372782869725,
          0.35977681201221773,
          1.521382670224573,
          4.239620914406348,
          1.984331168430736,
          0.15948571970678094,
          10.201392725490104,
          -6.890590542506385,
          -4.943307346467625,
          7.535949399655877,
          -6.177098056930119,
          -0.6743986202514589,
          -0.504440464055116,
          3.4945233763724004,
          5.975160808232789,
          -0.41757488129431886,
          0.4170172391111681,
          -7.2063781436452645,
          0.9873100637570819,
          6.635522613303778,
          5.282823704127352,
          -0.6983452257652862,
          4.433090704320131,
          -5.764607007391443,
          4.314949101813725,
          -6.068227660536056,
          0.24747578778715068,
          1.9212819482151646,
          -4.687371016410542,
          -0.4413667176214729,
          1.3756031941423696,
          -6.178805408339111,
          -3.542457482170357,
          -0.0599252974849179,
          1.3417642461867534,
          -6.316204278487742,
          -7.412100896535343,
          -0.4565038315075917,
          -3.2095417660218994,
          -6.960542010758957,
          2.7282129981399956,
          -2.5994594091625154,
          -6.238159254000434,
          5.88513792017077,
          4.270500201230068,
          -3.1692547819590184,
          -6.111738712495953,
          7.032184262270077,
          -6.688209623710024,
          7.035434004360644,
          0.23819062401734056,
          -2.0364860700614176,
          -2.613374226723188,
          -2.400892792189283,
          -3.521060410109176,
          3.7816090863378116,
          -4.259500003005203,
          4.251833968211096,
          -3.9638066389196753,
          -1.7440637438047621,
          -1.6752303124131553,
          -4.244617386098421,
          -4.316805697698897,
          -2.2285325144100088,
          5.201922916214635,
          -3.0556125095736815,
          -6.802073002572175,
          -5.508132246334052,
          5.4798644858760115,
          4.190210706964875,
          -3.3911358016362727,
          4.691391148855847,
          3.9328109333380232,
          2.4693873630715144,
          5.743946429006119,
          -1.2444005894670913,
          4.447893336171812,
          -4.8607692848517265,
          -1.643108843135457,
          -0.29314544788917235,
          -4.152990161877942,
          0.7002592080888019,
          -2.067001604638436,
          3.3480361611450853,
          8.041824140033576,
          2.2118174642955872,
          -6.344176412630573,
          -6.6371495842360675,
          4.168659633560246,
          2.1950827078478694,
          -7.514904099104621,
          -1.8420922051365003,
          -1.6886746294946204,
          -1.2537298785541302,
          -4.520800610922293,
          8.16540122398699,
          -6.5222911447090555,
          -1.413456919955067,
          -1.150642693731879,
          2.864560686439549,
          -5.76385312269803,
          0.15433257377695705,
          -5.883265895552542,
          5.465407220299672,
          -1.9516880780696026,
          -3.3574515334047694,
          6.733182813355211,
          -5.195204235685138,
          1.3312046067711163,
          3.486050214697071,
          -2.2282612252682914,
          -0.499242787153758,
          0.7029713690542115,
          3.648234123108081,
          2.907356633850534,
          -5.928646274337714,
          8.141918248515289,
          -7.109822383300192,
          0.9208287722058666,
          -2.5389487207371255,
          -1.4170910008823925,
          -5.948200190747999,
          1.4203183519303018,
          -3.40633172605048,
          -0.24047667610517548,
          0.7856483877506869,
          5.7513858739177826,
          -6.282241864782735,
          8.182036031584357,
          7.3002784634171105,
          -4.233757973718666,
          7.376431330955585,
          -5.667581721233384,
          3.0343771515629103,
          6.260397896085341,
          -7.174841382809283,
          -1.9050023016993276,
          6.111164732137671,
          -3.4226591749549815,
          7.570939571118263,
          6.580656004263795,
          -2.092278193504022,
          4.646631057232095,
          -5.054907745408652,
          -6.808745987754767,
          -6.223908300808526,
          6.955032542478122,
          -3.8231153488356195,
          6.221833521519977,
          -2.5027243249674687,
          6.098921354473524,
          0.06554601790948772,
          2.2740599705651494,
          0.6736784677722947,
          7.747864084002847,
          5.494131687471832
         ],
         "y": [
          -3.185339533496719,
          3.526269370660884,
          1.715346722184464,
          2.6761199648124974,
          1.6756077536208118,
          4.605953165419918,
          6.064169318828853,
          -3.6044118120943005,
          0.8648944850483978,
          -3.6790926430993323,
          -0.496038872170549,
          2.3993437958766384,
          2.830148488875805,
          3.6838602231763926,
          -3.6760238835798034,
          2.6615007527333083,
          4.172387421022121,
          -1.7913736096874482,
          -2.5297373220659654,
          1.7762205555317623,
          -3.1176025987744844,
          -3.1554359053756555,
          -1.3716163147596365,
          3.344300563045576,
          3.8507505702012694,
          5.704011454519014,
          -0.347834093991101,
          0.2158475568958888,
          3.260440286208041,
          -1.5139585753815141,
          5.781652941818434,
          6.787246439193214,
          6.205205588130435,
          3.6816497487804773,
          -1.6200052152681022,
          -3.5992085322084337,
          -0.0623697233251818,
          5.286594306196153,
          2.054718363640078,
          3.0567047136013636,
          5.917604413483832,
          0.6585068575618191,
          0.39016696163920594,
          2.47821111638398,
          -0.4797617354939163,
          0.6415331763181205,
          1.8711731770041138,
          5.077773907597244,
          4.320648381896767,
          1.5332063368216104,
          -0.06029141808885456,
          2.1150881264477412,
          4.55188420197008,
          4.369845136168237,
          -2.010138871868373,
          -4.41901216527134,
          4.468094685026429,
          3.6736038403702542,
          2.244525261060412,
          -3.336247464455602,
          7.454980145946485,
          -4.517296926113486,
          4.561889186239606,
          1.7293381478978926,
          -0.5144604800750756,
          0.9599103209444515,
          3.095507813818702,
          1.5142261141804365,
          -2.5801014650951024,
          -1.3937370016537232,
          1.799424475790517,
          -4.336485358831136,
          -4.522288345554645,
          1.2687090495103257,
          -2.493397807940657,
          1.8341563256387274,
          -2.440040371713169,
          6.937287650871799,
          -3.7481810379140788,
          1.8910932872020707,
          -5.259952736962708,
          2.2045300742263847,
          -3.4661610587341753,
          0.5501421857109342,
          0.6044004493496764,
          5.212461877822151,
          -2.4328514269703074,
          4.676439496666554,
          -1.8621846513148004,
          -2.232447505470221,
          -2.2687285251596387,
          1.5306702652232758,
          1.5045133526264443,
          -3.3771668201962015,
          -0.8450983248439535,
          -3.390546180286222,
          3.4291192381188775,
          0.8676830362390612,
          -3.785940226994886,
          1.7426444555055398,
          1.1769092484546744,
          2.5737018661800466,
          0.8999626223991334,
          -0.33291622696215356,
          0.529816517025781,
          -1.1455413616969603,
          0.7773965740348976,
          0.3835502864968858,
          1.58161353078441,
          2.317354157285144,
          -0.23727067051344378,
          -0.9366159846535103,
          1.238917746194043,
          2.341518052364701,
          -0.4572071179698685,
          3.240191026239536,
          4.4196498871147485,
          3.165141166929138,
          0.5541986967914634,
          -4.957280316027876,
          3.4486437248192723,
          0.83215321148378,
          0.12568754867085902,
          0.5347201076600563,
          -3.456337586640426,
          0.8301420274310237,
          -4.4973985215238,
          1.8118829340729827,
          1.2762871635827795,
          4.051788816127994,
          7.104604771602168,
          -3.402323974364893,
          0.8150272976328425,
          1.8636224720552528,
          -2.322268487060278,
          -4.315420290131739,
          0.681111972511005,
          -3.225345763876776,
          3.1282803300508495,
          -0.5039082135098844,
          -2.781771533311857,
          -3.425730739638727,
          1.5062553570113189,
          1.7804326601918115,
          4.292177898695285,
          0.33770848463730124,
          6.988648852593103,
          1.5476964535842583,
          -2.542774676170988,
          -4.613665536726372,
          -3.2298408388039133,
          -3.428281607440886,
          1.9461247546678935,
          2.7333520080056806,
          3.425679652131938,
          -3.602943605156337,
          0.9789026751272514,
          0.7437612985110426,
          3.879222374805836,
          -1.005011600054948,
          -0.10634409958054315,
          3.5525337855827,
          0.8292459392549735,
          2.450462425602555,
          5.15200486067368,
          -0.7467617472363656,
          -2.7147573047067666,
          -0.8975398603185218,
          0.05856688931035387,
          3.1633412033553556,
          -2.186927414180228,
          -2.012983843039207,
          -2.3006892611986287,
          -2.656145624694889,
          -0.1342475222863593,
          1.0071029619819916,
          3.7978848896184534,
          -0.9898689559715562,
          4.318106788064411,
          2.9679769283789983,
          4.947176902193315,
          3.500966871878339,
          -0.4877913115502468,
          -2.948029727723794,
          6.060834932651681,
          -0.9439382340085127,
          0.9915619027203701,
          1.7642024127884235,
          -2.382392965012137,
          -3.502800680130363,
          -2.326843409352602,
          2.7664960482539698,
          -3.312132457732254,
          -2.5227704057951703,
          3.8511663037373567,
          -2.498928981468509,
          -0.508954084164474,
          -2.725110908488803,
          2.9749104739874443,
          2.123539093489147,
          5.675125792730779,
          3.3923267233414967,
          -0.5554359771848942,
          -2.2684682894917954,
          2.108870778756932,
          -3.1062927710841484,
          -0.20389681621750622,
          -0.24217096144921108,
          2.7245045830258507,
          7.374493622269858,
          1.476806332221821,
          -0.8613254797809415,
          0.6422470104847502,
          -0.877289673834288,
          3.7234200256473957,
          -1.667859332570511,
          3.5975633493632673,
          4.311362975964905,
          1.2175629551336267,
          1.8542910975416111,
          4.30841564042251,
          1.3047954032865658,
          2.751406318510656,
          -1.8273801092178987,
          -4.759538183929515,
          -1.428241570763867,
          3.1457373392929706,
          2.5963728158699952,
          -0.036992172302093125,
          3.8353467402019166,
          1.4971677637726675,
          0.26125162623797404,
          -1.8706404941516024,
          0.5106891321543202,
          0.2202747241618912,
          -2.430103680579609,
          3.845992151142327,
          4.323476687459889,
          -3.7185396863263285,
          1.301593339397366,
          2.414655455450271,
          -4.731161846902935,
          -1.25576866491979,
          -0.023649776600793045,
          -1.402538050421342,
          -3.596155218517825,
          -3.1071946347146526,
          -1.3050897760976108,
          2.843105009596784,
          -3.7556244921198187,
          -0.5499498418941419,
          -2.52064150182905,
          -4.321997520337447,
          4.800750845792038,
          0.6463327393797359,
          2.3980945747581597,
          -0.7013470292666453,
          2.229683994762437,
          -4.335700735982119,
          2.9612448512804583,
          -0.6153431242071318,
          4.405986877228041,
          3.801866791638378,
          4.563813363163087,
          -3.444140860081688,
          1.2280310559391967,
          3.919697226605617,
          -3.5863725712937873,
          -5.057447689796308,
          -4.312719357350898,
          0.492193553716572,
          -1.7691451811444843,
          2.5690270243641793,
          0.3023811285033651,
          0.489211317181429,
          2.389647596182356,
          2.0188971184882045,
          2.1474108685188837,
          3.7271590506832313,
          2.096224746283681,
          1.2234301760823014,
          -6.047337558122858,
          -2.961288146667391,
          3.2511361292374246,
          -1.4314082188486958,
          2.1121075855718727,
          -4.959653407290195,
          -2.862579653709002,
          -2.5301418690460804,
          7.74511211704485,
          -0.029496562885368418,
          -1.5083534694680676,
          2.442113079971942,
          2.738713206540722,
          0.684575959883466,
          -0.541756113007171,
          1.1334239417929322,
          1.2555549822329024,
          0.6306374042839697,
          4.232576740086362,
          -3.2575614085215823,
          -1.4822113863360866,
          0.08335259117447673,
          4.286413060633223,
          -0.37962488901685465,
          5.623555703224563,
          -3.180046193896092,
          1.718685353971302,
          1.6906523753433356,
          3.7207322601055126,
          1.0594994663828,
          -1.0864442690310134,
          -3.4092172552222486,
          6.383679705852373,
          3.7767909566058555,
          4.151912714280456,
          -0.27027049157340644,
          -3.5620046473202467,
          -4.603226807920073,
          2.1585465675669333,
          0.7424293379178936,
          -3.772914613161643,
          -0.18691844199793106,
          -2.443576664047903,
          1.982666739720224,
          -0.7336482388739616,
          5.326185456534703,
          -0.54132682772385,
          3.474897045310213,
          2.784965554137515,
          -5.112580702086281,
          -4.049848028479004,
          5.445797948159613,
          0.8769645012257812,
          2.3100890349922945,
          0.7557508672733261,
          2.6419608101365943,
          3.438882570938854,
          4.751030470300312,
          -1.8868170137756466,
          2.5784779051120403,
          -0.8582146185433623,
          1.5053479102737028,
          -1.4318711130688537,
          6.139312109261375,
          1.1094814321963165,
          6.07826246257586,
          3.4502024429178544,
          -2.3424257386062615,
          5.302474409012479,
          -3.9132743965738994,
          1.5069149901534211,
          -0.7240033489386096,
          0.8771579544044569,
          3.297758738338056,
          3.9969531156750535,
          4.021664455185728,
          6.034305977342252,
          -2.283252227292193,
          0.2701981574538519,
          -3.2234702304552765,
          -3.773327778195204,
          3.6473692232859225,
          3.9622370116131496
         ],
         "z": [
          1.1772062149586162,
          3.0430298910236706,
          -2.229708933650626,
          -3.4826006076448324,
          -0.6684075308173654,
          3.872177594090662,
          0.6935062256239646,
          1.8196825656788025,
          -1.0697224181844496,
          0.5630165217267492,
          -1.4703427088742373,
          -0.3988662362243103,
          -2.9191011117211265,
          1.0618122517876973,
          3.1039958357547124,
          -3.9647959920337037,
          -2.518433261709283,
          1.419600576344029,
          -2.4073690094469242,
          -0.47075839245728957,
          -1.1792763177008898,
          1.6110540721796072,
          -2.5435237517851963,
          -0.04600806101463568,
          -1.7966551890917202,
          0.8581402785156085,
          -1.9538014853491246,
          -3.122243866563067,
          0.401558755968805,
          -3.633220772668833,
          4.5397615461020955,
          -1.3707312752917102,
          1.0031350285265734,
          -0.6629998131085991,
          -1.9245422135936163,
          0.7439428380658922,
          -1.6140385875851186,
          6.281272710453684,
          -0.3345853321883324,
          -2.173381757703676,
          1.5129233664357875,
          -0.8004490275164057,
          -1.5225281976973948,
          1.5856647455501025,
          0.49504490384908467,
          -1.259547288708525,
          -0.5162477186877981,
          -0.04295643310335856,
          -2.9765752662349114,
          -0.06516773726994422,
          -1.2173790345434865,
          1.7768608139463486,
          -1.0613950507378889,
          -2.10022703523807,
          -2.5159344553873604,
          2.3376791728608954,
          1.615039889274413,
          1.364588515239036,
          -2.044222318542216,
          0.42042618039043766,
          -0.03597177187056613,
          0.21581245158498927,
          -1.7036552166148962,
          -1.6945293056101303,
          -0.16618569830701646,
          -3.2313095518921613,
          -2.28162459260435,
          -0.18672260989642223,
          -0.25454079416903747,
          0.012157165817250773,
          0.08739031115031766,
          -0.49150919592869446,
          2.001863099725205,
          -2.0632310585454436,
          1.0632326482278458,
          -2.287521000499961,
          1.9707992449646121,
          1.801531125617769,
          1.4395229562616922,
          -1.9289963874757872,
          2.5739434431551205,
          1.6406310425157626,
          0.879230736092475,
          -1.2895282949536833,
          -1.979310719576927,
          3.2360872574085313,
          1.654201196848669,
          -1.6113626630789637,
          -0.7910196583406849,
          0.5618533095229759,
          -2.1215007107244213,
          -2.411747342783796,
          0.34142488801724513,
          0.17653359769537574,
          -1.36543167501784,
          0.8971467422618491,
          1.722484834687029,
          -2.3930152316197657,
          0.6433253452023352,
          -0.5978364147414454,
          -1.170028205267558,
          -1.5849832072971193,
          -0.2680369697386766,
          -0.7395235756074341,
          -1.8896211876255147,
          -2.544805614002773,
          -1.063529200020342,
          1.178777136298457,
          -1.027648422052919,
          3.5575118398141266,
          -0.8843497983927191,
          -0.28585475580232445,
          -1.6383706961342133,
          -2.7008441497475895,
          -2.7787769203656443,
          -3.0446075482601533,
          -1.4796434857035843,
          1.2424613527986637,
          -1.1916372192778777,
          -0.23928794637122444,
          3.0008265163033476,
          -1.200473007471912,
          -2.624899486818146,
          -3.510092301889188,
          2.4845866322353904,
          -1.0038204501797048,
          0.08254419362483528,
          -1.1586506359822806,
          -0.18391411924846965,
          -2.8381774031207234,
          0.690584881819501,
          2.551757912327164,
          -0.9997604932344545,
          -1.426864289971733,
          0.42251564449408696,
          -0.12177355410307175,
          -2.698666752868173,
          0.34888456938794626,
          -3.386867717975704,
          -0.16400778511032713,
          1.5031472286878804,
          -2.3732285782249813,
          -1.4379994369852034,
          0.08898491796123338,
          -2.289960543046277,
          0.3222147853532649,
          0.579699505685163,
          -0.8828027878155811,
          -1.6632917449830817,
          0.7278349206346544,
          1.6568203347230217,
          -1.153324877929984,
          -0.7646846904610966,
          -1.8849109715353176,
          -2.423789958199642,
          -1.646764274818634,
          -1.1782618757781866,
          -0.4576335629012979,
          1.15463537865807,
          -1.5975642839569353,
          -1.2983249233944432,
          -1.442343104638508,
          -1.5049846295757852,
          -2.115416323545371,
          0.9052132352252605,
          -1.291771716867772,
          0.7456286328751334,
          -2.7547683867957584,
          -2.1530345290564186,
          -2.9532902088822555,
          1.1418585931688492,
          -1.0983850111458615,
          0.5347272315303987,
          -0.5458693295387634,
          -1.79313747974385,
          -3.208864383385833,
          -2.216269469312178,
          0.8784154539214113,
          -2.749556512942869,
          -0.8457377959969742,
          3.6871261141315403,
          5.081525553316774,
          -1.262372586414096,
          2.383924795456416,
          0.7272820723013736,
          -0.6885454959624911,
          -0.834750531937935,
          -2.710428139756239,
          0.9319886335449808,
          0.8979824421974093,
          0.31874301663392357,
          0.24074739450689714,
          0.5564030085862448,
          1.7527520080597758,
          2.4350396380159083,
          -1.736347866260353,
          -0.5400628857083061,
          -2.8636047946929093,
          1.7859098848019843,
          -2.2613709880665374,
          0.4327123881236174,
          1.8964031827861212,
          -2.549291507243993,
          1.7411630930117314,
          -0.08172613430041935,
          -1.1212543006587912,
          -3.534157400499423,
          -1.295166752386674,
          -1.6659802926947713,
          0.9213185618084038,
          3.7316250201041385,
          -1.3009679624271235,
          -1.7275723585719631,
          -2.25935595063271,
          -1.8296236001488277,
          -2.5580329408768057,
          -0.32272602817697255,
          -2.1030309961283704,
          0.3280456758291871,
          3.0596882284991995,
          5.001219215056548,
          -2.9575952566939776,
          -0.8008860669419906,
          -0.3871261511630765,
          0.837312407799695,
          -2.037091285143421,
          -0.6017401725752132,
          -1.7357401269987587,
          -0.8583252650746596,
          3.3540600023868916,
          -2.4215807327648182,
          -0.3637614530143229,
          0.26303970896866735,
          -0.9706461633575906,
          -2.2202674160880473,
          -1.1656833365394652,
          2.466487453070217,
          3.837882247174675,
          2.7509983857500537,
          -0.7476753267362707,
          2.6010656349864867,
          0.20073967625231814,
          -0.9548673441206454,
          -1.4687099109399113,
          -1.9262368154233367,
          2.591931385175227,
          -1.8053039017541834,
          -1.740761177123461,
          -0.46109848336159676,
          -1.855479128020024,
          -1.3310538959195775,
          0.5224115428286843,
          2.2710450211247246,
          3.586963652320579,
          -0.5397322900109583,
          -0.765284126627813,
          -1.388708408559734,
          -1.1676980804177621,
          1.2949583508439004,
          0.9484319186375516,
          -2.2869361369282393,
          3.823695507432437,
          2.7699123457680375,
          0.8373063591458193,
          -2.376053256201926,
          -0.7858442638855804,
          2.825009163916801,
          1.062930575775909,
          0.015666246634661464,
          -0.9108403328495598,
          -1.4115055348719734,
          -1.7958106462357402,
          -2.4277853782363854,
          -1.2384154997820382,
          -1.8486854168967994,
          -0.7474667358334174,
          -1.4241655005277745,
          -2.7231273745913644,
          2.567097682487478,
          -2.51094839063113,
          -2.3175335554838425,
          3.070175206317046,
          1.0824484939367474,
          3.243745538173435,
          0.4216157691857104,
          1.414721494984246,
          2.213898877055682,
          -0.8776361153154326,
          -2.85295088204853,
          0.9314089876823719,
          -1.8450872188622773,
          0.1497953902721247,
          -2.577167019238897,
          -1.7719422097592876,
          -0.8015227621523039,
          -1.7776594301055963,
          -1.8231401793016062,
          -1.721860601298921,
          -0.3534242488588125,
          0.33240429896061907,
          -0.3405094419971805,
          -2.627889475164317,
          -2.709296469518449,
          -2.3682121817675283,
          -1.2779142189866144,
          0.333609641562322,
          0.8978421968181595,
          -2.7241565712400275,
          -0.2641387180762859,
          -0.43664034991666556,
          -1.3102569871838932,
          1.9348244305813702,
          -1.119827444646594,
          -0.6618444161200021,
          -1.220246273417422,
          2.4159635120789122,
          -1.078262523474065,
          0.454657069905916,
          -0.5141393886108406,
          -0.2960681698283365,
          -3.5093070529356623,
          3.5228072342801284,
          -1.6989401784952156,
          -1.1560980069121964,
          -2.6349240933461755,
          -2.8786374338431306,
          -0.25959717087243417,
          -2.650278273831275,
          2.1827498173444493,
          -0.3486552568936589,
          3.5583369615179845,
          -1.1436344681126274,
          5.63308789052169,
          -0.24356393313331512,
          -2.4927930749866336,
          -1.0438658805402379,
          -2.6143637667013166,
          -1.4476959016496458,
          2.8304578741389057,
          1.6162198433879802,
          1.0836174707393824,
          -0.4274678537946891,
          -2.816452042528848,
          -2.7998946045657394,
          4.735364738250927,
          -0.27021025009662786,
          4.072971929513035,
          -2.9478953676951023,
          0.978261023740988,
          4.338027051693711,
          1.5002896596855009,
          -0.17647859853892256,
          -1.9494487350440926,
          -0.895457759096949,
          -2.9696674438499264,
          3.4108337228601053,
          -2.220881221887456,
          4.300584753442838,
          1.2901654145827561,
          -2.4373082006501146,
          1.9567562747685785,
          1.5241259968830854,
          -1.6758786898239515,
          -2.5105819019553173
         ]
        },
        {
         "hovertemplate": "color=1<br>x=%{x}<br>y=%{y}<br>z=%{z}<extra></extra>",
         "legendgroup": "1",
         "marker": {
          "color": "#EF553B",
          "symbol": "circle"
         },
         "mode": "markers",
         "name": "1",
         "scene": "scene",
         "showlegend": true,
         "type": "scatter3d",
         "x": [
          -1.240233841934954,
          -1.5774545023738993,
          -0.09377963914694347,
          2.1399673594429314,
          0.6090380133642975,
          0.06499859794175666,
          2.1326143608092423,
          2.260382741385919,
          -1.432893139163286,
          2.5227131922552277,
          -0.3062512780453204,
          2.092381556303094,
          0.39075337518889053,
          0.2052809124272553,
          1.6633869241119832,
          2.6001212998812124,
          3.1861470897918656,
          0.1680968875129408,
          -1.3022397366359277,
          0.6597564809847348,
          0.3228782637707304,
          0.35964677606659884,
          -0.8075112379743468,
          -1.4211893721673654,
          -1.1063240331238182,
          1.9259061233282002,
          1.8060708887380994,
          -2.2240936611481827,
          0.9424708241693907,
          1.4684567964379465,
          -2.7689729287564746,
          1.4065632040085099,
          -1.9152334389798826,
          -0.410326342372904,
          1.2926112928535944,
          0.9355737518998077
         ],
         "y": [
          -5.684604586907034,
          -5.37053777167198,
          -5.993356378945942,
          -5.5521440555610235,
          -5.1279168805436,
          -6.075697974272733,
          -5.212324913487973,
          -5.532239050868793,
          -5.564851002082122,
          -5.457908944899903,
          -5.453551336680267,
          -5.320109422761596,
          -5.963054265244636,
          -5.216063971353211,
          -5.478230816466301,
          -5.9065214973399165,
          -5.319170410411769,
          -5.209032986053288,
          -5.518822683157802,
          -5.5157770703447975,
          -5.64739510283129,
          -5.931470637689995,
          -5.184261099599341,
          -5.580608760525969,
          -5.363420596244239,
          -5.466497397437932,
          -5.870570896634507,
          -5.277594452777786,
          -6.0607496922263495,
          -5.188088669310594,
          -5.40436174090222,
          -5.742917456802839,
          -5.115803885040928,
          -5.961017398937815,
          -5.805226118606092,
          -5.825746682033371
         ],
         "z": [
          0.7652794645240333,
          0.7305412972868951,
          1.1008457897194321,
          2.3311181810286383,
          2.425886863240252,
          1.3332689644039575,
          1.8710164502330906,
          2.017530625997786,
          0.17391900380849473,
          2.09669299374051,
          1.2590874409601545,
          1.8180471728267942,
          1.1669113160355038,
          0.9116550871120093,
          1.211534484934947,
          1.5965977031049552,
          2.412447566960724,
          1.3517093465109784,
          0.4081815862813534,
          1.0107286841450125,
          1.3891549569021484,
          1.823861413545594,
          1.2115951188224334,
          0.31476634095383876,
          -0.4968468219780829,
          1.5231424837388248,
          1.57691021737552,
          0.03811944588729042,
          1.8077880520419896,
          2.21182022001533,
          -0.3178214187646244,
          2.4372851218358096,
          0.1485272362728887,
          1.0557420304772056,
          1.2678340900715608,
          1.9946173429035134
         ]
        }
       ],
       "layout": {
        "legend": {
         "title": {
          "text": "color"
         },
         "tracegroupgap": 0
        },
        "margin": {
         "t": 60
        },
        "scene": {
         "domain": {
          "x": [
           0,
           1
          ],
          "y": [
           0,
           1
          ]
         },
         "xaxis": {
          "title": {
           "text": "x"
          }
         },
         "yaxis": {
          "title": {
           "text": "y"
          }
         },
         "zaxis": {
          "title": {
           "text": "z"
          }
         }
        },
        "template": {
         "data": {
          "bar": [
           {
            "error_x": {
             "color": "#2a3f5f"
            },
            "error_y": {
             "color": "#2a3f5f"
            },
            "marker": {
             "line": {
              "color": "#E5ECF6",
              "width": 0.5
             },
             "pattern": {
              "fillmode": "overlay",
              "size": 10,
              "solidity": 0.2
             }
            },
            "type": "bar"
           }
          ],
          "barpolar": [
           {
            "marker": {
             "line": {
              "color": "#E5ECF6",
              "width": 0.5
             },
             "pattern": {
              "fillmode": "overlay",
              "size": 10,
              "solidity": 0.2
             }
            },
            "type": "barpolar"
           }
          ],
          "carpet": [
           {
            "aaxis": {
             "endlinecolor": "#2a3f5f",
             "gridcolor": "white",
             "linecolor": "white",
             "minorgridcolor": "white",
             "startlinecolor": "#2a3f5f"
            },
            "baxis": {
             "endlinecolor": "#2a3f5f",
             "gridcolor": "white",
             "linecolor": "white",
             "minorgridcolor": "white",
             "startlinecolor": "#2a3f5f"
            },
            "type": "carpet"
           }
          ],
          "choropleth": [
           {
            "colorbar": {
             "outlinewidth": 0,
             "ticks": ""
            },
            "type": "choropleth"
           }
          ],
          "contour": [
           {
            "colorbar": {
             "outlinewidth": 0,
             "ticks": ""
            },
            "colorscale": [
             [
              0,
              "#0d0887"
             ],
             [
              0.1111111111111111,
              "#46039f"
             ],
             [
              0.2222222222222222,
              "#7201a8"
             ],
             [
              0.3333333333333333,
              "#9c179e"
             ],
             [
              0.4444444444444444,
              "#bd3786"
             ],
             [
              0.5555555555555556,
              "#d8576b"
             ],
             [
              0.6666666666666666,
              "#ed7953"
             ],
             [
              0.7777777777777778,
              "#fb9f3a"
             ],
             [
              0.8888888888888888,
              "#fdca26"
             ],
             [
              1,
              "#f0f921"
             ]
            ],
            "type": "contour"
           }
          ],
          "contourcarpet": [
           {
            "colorbar": {
             "outlinewidth": 0,
             "ticks": ""
            },
            "type": "contourcarpet"
           }
          ],
          "heatmap": [
           {
            "colorbar": {
             "outlinewidth": 0,
             "ticks": ""
            },
            "colorscale": [
             [
              0,
              "#0d0887"
             ],
             [
              0.1111111111111111,
              "#46039f"
             ],
             [
              0.2222222222222222,
              "#7201a8"
             ],
             [
              0.3333333333333333,
              "#9c179e"
             ],
             [
              0.4444444444444444,
              "#bd3786"
             ],
             [
              0.5555555555555556,
              "#d8576b"
             ],
             [
              0.6666666666666666,
              "#ed7953"
             ],
             [
              0.7777777777777778,
              "#fb9f3a"
             ],
             [
              0.8888888888888888,
              "#fdca26"
             ],
             [
              1,
              "#f0f921"
             ]
            ],
            "type": "heatmap"
           }
          ],
          "heatmapgl": [
           {
            "colorbar": {
             "outlinewidth": 0,
             "ticks": ""
            },
            "colorscale": [
             [
              0,
              "#0d0887"
             ],
             [
              0.1111111111111111,
              "#46039f"
             ],
             [
              0.2222222222222222,
              "#7201a8"
             ],
             [
              0.3333333333333333,
              "#9c179e"
             ],
             [
              0.4444444444444444,
              "#bd3786"
             ],
             [
              0.5555555555555556,
              "#d8576b"
             ],
             [
              0.6666666666666666,
              "#ed7953"
             ],
             [
              0.7777777777777778,
              "#fb9f3a"
             ],
             [
              0.8888888888888888,
              "#fdca26"
             ],
             [
              1,
              "#f0f921"
             ]
            ],
            "type": "heatmapgl"
           }
          ],
          "histogram": [
           {
            "marker": {
             "pattern": {
              "fillmode": "overlay",
              "size": 10,
              "solidity": 0.2
             }
            },
            "type": "histogram"
           }
          ],
          "histogram2d": [
           {
            "colorbar": {
             "outlinewidth": 0,
             "ticks": ""
            },
            "colorscale": [
             [
              0,
              "#0d0887"
             ],
             [
              0.1111111111111111,
              "#46039f"
             ],
             [
              0.2222222222222222,
              "#7201a8"
             ],
             [
              0.3333333333333333,
              "#9c179e"
             ],
             [
              0.4444444444444444,
              "#bd3786"
             ],
             [
              0.5555555555555556,
              "#d8576b"
             ],
             [
              0.6666666666666666,
              "#ed7953"
             ],
             [
              0.7777777777777778,
              "#fb9f3a"
             ],
             [
              0.8888888888888888,
              "#fdca26"
             ],
             [
              1,
              "#f0f921"
             ]
            ],
            "type": "histogram2d"
           }
          ],
          "histogram2dcontour": [
           {
            "colorbar": {
             "outlinewidth": 0,
             "ticks": ""
            },
            "colorscale": [
             [
              0,
              "#0d0887"
             ],
             [
              0.1111111111111111,
              "#46039f"
             ],
             [
              0.2222222222222222,
              "#7201a8"
             ],
             [
              0.3333333333333333,
              "#9c179e"
             ],
             [
              0.4444444444444444,
              "#bd3786"
             ],
             [
              0.5555555555555556,
              "#d8576b"
             ],
             [
              0.6666666666666666,
              "#ed7953"
             ],
             [
              0.7777777777777778,
              "#fb9f3a"
             ],
             [
              0.8888888888888888,
              "#fdca26"
             ],
             [
              1,
              "#f0f921"
             ]
            ],
            "type": "histogram2dcontour"
           }
          ],
          "mesh3d": [
           {
            "colorbar": {
             "outlinewidth": 0,
             "ticks": ""
            },
            "type": "mesh3d"
           }
          ],
          "parcoords": [
           {
            "line": {
             "colorbar": {
              "outlinewidth": 0,
              "ticks": ""
             }
            },
            "type": "parcoords"
           }
          ],
          "pie": [
           {
            "automargin": true,
            "type": "pie"
           }
          ],
          "scatter": [
           {
            "fillpattern": {
             "fillmode": "overlay",
             "size": 10,
             "solidity": 0.2
            },
            "type": "scatter"
           }
          ],
          "scatter3d": [
           {
            "line": {
             "colorbar": {
              "outlinewidth": 0,
              "ticks": ""
             }
            },
            "marker": {
             "colorbar": {
              "outlinewidth": 0,
              "ticks": ""
             }
            },
            "type": "scatter3d"
           }
          ],
          "scattercarpet": [
           {
            "marker": {
             "colorbar": {
              "outlinewidth": 0,
              "ticks": ""
             }
            },
            "type": "scattercarpet"
           }
          ],
          "scattergeo": [
           {
            "marker": {
             "colorbar": {
              "outlinewidth": 0,
              "ticks": ""
             }
            },
            "type": "scattergeo"
           }
          ],
          "scattergl": [
           {
            "marker": {
             "colorbar": {
              "outlinewidth": 0,
              "ticks": ""
             }
            },
            "type": "scattergl"
           }
          ],
          "scattermapbox": [
           {
            "marker": {
             "colorbar": {
              "outlinewidth": 0,
              "ticks": ""
             }
            },
            "type": "scattermapbox"
           }
          ],
          "scatterpolar": [
           {
            "marker": {
             "colorbar": {
              "outlinewidth": 0,
              "ticks": ""
             }
            },
            "type": "scatterpolar"
           }
          ],
          "scatterpolargl": [
           {
            "marker": {
             "colorbar": {
              "outlinewidth": 0,
              "ticks": ""
             }
            },
            "type": "scatterpolargl"
           }
          ],
          "scatterternary": [
           {
            "marker": {
             "colorbar": {
              "outlinewidth": 0,
              "ticks": ""
             }
            },
            "type": "scatterternary"
           }
          ],
          "surface": [
           {
            "colorbar": {
             "outlinewidth": 0,
             "ticks": ""
            },
            "colorscale": [
             [
              0,
              "#0d0887"
             ],
             [
              0.1111111111111111,
              "#46039f"
             ],
             [
              0.2222222222222222,
              "#7201a8"
             ],
             [
              0.3333333333333333,
              "#9c179e"
             ],
             [
              0.4444444444444444,
              "#bd3786"
             ],
             [
              0.5555555555555556,
              "#d8576b"
             ],
             [
              0.6666666666666666,
              "#ed7953"
             ],
             [
              0.7777777777777778,
              "#fb9f3a"
             ],
             [
              0.8888888888888888,
              "#fdca26"
             ],
             [
              1,
              "#f0f921"
             ]
            ],
            "type": "surface"
           }
          ],
          "table": [
           {
            "cells": {
             "fill": {
              "color": "#EBF0F8"
             },
             "line": {
              "color": "white"
             }
            },
            "header": {
             "fill": {
              "color": "#C8D4E3"
             },
             "line": {
              "color": "white"
             }
            },
            "type": "table"
           }
          ]
         },
         "layout": {
          "annotationdefaults": {
           "arrowcolor": "#2a3f5f",
           "arrowhead": 0,
           "arrowwidth": 1
          },
          "autotypenumbers": "strict",
          "coloraxis": {
           "colorbar": {
            "outlinewidth": 0,
            "ticks": ""
           }
          },
          "colorscale": {
           "diverging": [
            [
             0,
             "#8e0152"
            ],
            [
             0.1,
             "#c51b7d"
            ],
            [
             0.2,
             "#de77ae"
            ],
            [
             0.3,
             "#f1b6da"
            ],
            [
             0.4,
             "#fde0ef"
            ],
            [
             0.5,
             "#f7f7f7"
            ],
            [
             0.6,
             "#e6f5d0"
            ],
            [
             0.7,
             "#b8e186"
            ],
            [
             0.8,
             "#7fbc41"
            ],
            [
             0.9,
             "#4d9221"
            ],
            [
             1,
             "#276419"
            ]
           ],
           "sequential": [
            [
             0,
             "#0d0887"
            ],
            [
             0.1111111111111111,
             "#46039f"
            ],
            [
             0.2222222222222222,
             "#7201a8"
            ],
            [
             0.3333333333333333,
             "#9c179e"
            ],
            [
             0.4444444444444444,
             "#bd3786"
            ],
            [
             0.5555555555555556,
             "#d8576b"
            ],
            [
             0.6666666666666666,
             "#ed7953"
            ],
            [
             0.7777777777777778,
             "#fb9f3a"
            ],
            [
             0.8888888888888888,
             "#fdca26"
            ],
            [
             1,
             "#f0f921"
            ]
           ],
           "sequentialminus": [
            [
             0,
             "#0d0887"
            ],
            [
             0.1111111111111111,
             "#46039f"
            ],
            [
             0.2222222222222222,
             "#7201a8"
            ],
            [
             0.3333333333333333,
             "#9c179e"
            ],
            [
             0.4444444444444444,
             "#bd3786"
            ],
            [
             0.5555555555555556,
             "#d8576b"
            ],
            [
             0.6666666666666666,
             "#ed7953"
            ],
            [
             0.7777777777777778,
             "#fb9f3a"
            ],
            [
             0.8888888888888888,
             "#fdca26"
            ],
            [
             1,
             "#f0f921"
            ]
           ]
          },
          "colorway": [
           "#636efa",
           "#EF553B",
           "#00cc96",
           "#ab63fa",
           "#FFA15A",
           "#19d3f3",
           "#FF6692",
           "#B6E880",
           "#FF97FF",
           "#FECB52"
          ],
          "font": {
           "color": "#2a3f5f"
          },
          "geo": {
           "bgcolor": "white",
           "lakecolor": "white",
           "landcolor": "#E5ECF6",
           "showlakes": true,
           "showland": true,
           "subunitcolor": "white"
          },
          "hoverlabel": {
           "align": "left"
          },
          "hovermode": "closest",
          "mapbox": {
           "style": "light"
          },
          "paper_bgcolor": "white",
          "plot_bgcolor": "#E5ECF6",
          "polar": {
           "angularaxis": {
            "gridcolor": "white",
            "linecolor": "white",
            "ticks": ""
           },
           "bgcolor": "#E5ECF6",
           "radialaxis": {
            "gridcolor": "white",
            "linecolor": "white",
            "ticks": ""
           }
          },
          "scene": {
           "xaxis": {
            "backgroundcolor": "#E5ECF6",
            "gridcolor": "white",
            "gridwidth": 2,
            "linecolor": "white",
            "showbackground": true,
            "ticks": "",
            "zerolinecolor": "white"
           },
           "yaxis": {
            "backgroundcolor": "#E5ECF6",
            "gridcolor": "white",
            "gridwidth": 2,
            "linecolor": "white",
            "showbackground": true,
            "ticks": "",
            "zerolinecolor": "white"
           },
           "zaxis": {
            "backgroundcolor": "#E5ECF6",
            "gridcolor": "white",
            "gridwidth": 2,
            "linecolor": "white",
            "showbackground": true,
            "ticks": "",
            "zerolinecolor": "white"
           }
          },
          "shapedefaults": {
           "line": {
            "color": "#2a3f5f"
           }
          },
          "ternary": {
           "aaxis": {
            "gridcolor": "white",
            "linecolor": "white",
            "ticks": ""
           },
           "baxis": {
            "gridcolor": "white",
            "linecolor": "white",
            "ticks": ""
           },
           "bgcolor": "#E5ECF6",
           "caxis": {
            "gridcolor": "white",
            "linecolor": "white",
            "ticks": ""
           }
          },
          "title": {
           "x": 0.05
          },
          "xaxis": {
           "automargin": true,
           "gridcolor": "white",
           "linecolor": "white",
           "ticks": "",
           "title": {
            "standoff": 15
           },
           "zerolinecolor": "white",
           "zerolinewidth": 2
          },
          "yaxis": {
           "automargin": true,
           "gridcolor": "white",
           "linecolor": "white",
           "ticks": "",
           "title": {
            "standoff": 15
           },
           "zerolinecolor": "white",
           "zerolinewidth": 2
          }
         }
        }
       }
      }
     },
     "metadata": {},
     "output_type": "display_data"
    }
   ],
   "source": [
    "px.scatter_3d(x=x_testdf.iloc[:,0],y=x_testdf.iloc[:,1],z=x_testdf.iloc[:,2], color= y_pred)"
   ]
  },
  {
   "cell_type": "code",
   "execution_count": 120,
   "metadata": {},
   "outputs": [
    {
     "name": "stdout",
     "output_type": "stream",
     "text": [
      "Recall(TP/FN+TP ):0.775\n",
      "Precsion(TP/FP+TP): 0.8857142857142857 \n",
      "F1 score function of presscion and recall:0.8266666666666667 \n"
     ]
    },
    {
     "data": {
      "image/png": "[encoded data removed]",
      "text/plain": [
       "<Figure size 640x480 with 2 Axes>"
      ]
     },
     "metadata": {},
     "output_type": "display_data"
    }
   ],
   "source": [
    "svm = SVC(kernel = 'rbf').fit(x_train, y_train)   \n",
    "\n",
    "y_pred = svm.predict(X_test)\n",
    "\n",
    "conMtx = confusion_matrix(y_test,y_pred)\n",
    "sns.heatmap(conMtx)\n",
    "f1 = f1_score(y_test,y_pred)\n",
    "recall = recall_score(y_test,y_pred)\n",
    "pre = precision_score(y_test,y_pred)\n",
    "\n",
    "print(f\"Recall(TP/FN+TP ):{recall}\")\n",
    "print(f\"Precsion(TP/FP+TP): {pre} \")\n",
    "print(f\"F1 score function of presscion and recall:{f1} \")"
   ]
  },
  {
   "cell_type": "code",
   "execution_count": 121,
   "metadata": {},
   "outputs": [
    {
     "data": {
      "application/vnd.plotly.v1+json": {
       "config": {
        "plotlyServerURL": "https://plot.ly"
       },
       "data": [
        {
         "hovertemplate": "color=0<br>x=%{x}<br>y=%{y}<br>z=%{z}<extra></extra>",
         "legendgroup": "0",
         "marker": {
          "color": "#636efa",
          "symbol": "circle"
         },
         "mode": "markers",
         "name": "0",
         "scene": "scene",
         "showlegend": true,
         "type": "scatter3d",
         "x": [
          7.203924070266284,
          -2.5609447461408976,
          5.639308384843588,
          3.0544859899600856,
          -6.098985707833628,
          -2.3728526512489396,
          -0.276013764174703,
          4.385682289208857,
          -6.032717547532622,
          0.7448612105411531,
          4.5161449985684525,
          1.5156827075875372,
          7.121836399761821,
          -5.330295293312268,
          4.355775422523092,
          2.353249012265955,
          7.769055523595671,
          5.943886762231404,
          -1.2998279762573521,
          -5.9366302822771795,
          -1.6126582808075987,
          7.80816284260002,
          -7.196192724270367,
          -5.319657468638225,
          4.073168104883865,
          2.6707109199446957,
          -6.724122530596802,
          -3.1254244983879524,
          -3.880987825249434,
          -4.08989170254775,
          -1.470767454505767,
          7.1720875795570445,
          2.837311144706925,
          9.705070692541158,
          -2.83926421427601,
          4.375062679302176,
          -6.987198446748858,
          3.2669087997618584,
          -6.055874924226569,
          6.577334463384931,
          -3.524813619415456,
          4.86344367116555,
          -6.247306593066149,
          -4.487311761975919,
          -5.336656691022901,
          -5.032172186633748,
          -6.121763578761868,
          -1.1775877917834565,
          6.9757691392272845,
          -6.099147973242507,
          -6.269976242908781,
          -4.656085087574266,
          0.8173781028402018,
          8.886696257053497,
          -1.4938298320060177,
          -1.6551210471688873,
          -4.642859328516961,
          -4.6697111102439814,
          7.764996842920759,
          3.8009043979655925,
          -0.2187176273894369,
          -1.6487860556465304,
          8.383932149504222,
          5.795469518928827,
          6.739150719031043,
          0.3440537411496029,
          8.517714878400204,
          -5.79362447969959,
          1.5616338560114977,
          5.7485234377568615,
          -4.4468073697316335,
          -2.702803648786404,
          4.392108764151224,
          5.133394290246857,
          6.224329557659949,
          0.6090380133642975,
          6.613587155143442,
          7.1695644805505125,
          7.546902478630216,
          5.200393595332108,
          7.574941077120244,
          3.6814486537555764,
          -4.94738977391632,
          2.5865078657343648,
          -5.881483748151436,
          0.3727887737223328,
          -3.7773644484442683,
          5.094796420317379,
          5.8937199714402,
          1.675795660004064,
          1.6293567876237738,
          -2.432505695743313,
          2.7790489279709427,
          -6.477043555066059,
          1.4193362485089074,
          -2.7694124453410245,
          2.1326143608092423,
          -0.834254514071135,
          -4.640925724571085,
          3.241439501015477,
          4.101154296851597,
          -5.975654603647307,
          -6.025802323446821,
          -3.0819980120349615,
          8.88674446840755,
          -6.643030523200058,
          -5.892320454507683,
          -6.787005820462629,
          4.5748283248494115,
          0.06822322532002392,
          -6.545947745404773,
          0.4416615541327203,
          7.540576384912051,
          5.71433411253985,
          5.344697321766783,
          3.484845174827814,
          -6.3397561813403795,
          5.1051716505466445,
          6.085168341603478,
          -4.345743558096068,
          -6.4250362524059055,
          -3.1295097196674395,
          -0.8944897113315989,
          -6.3627176904480125,
          0.8447920364857265,
          0.04525411342577502,
          3.93685908810881,
          -6.232676623702319,
          -1.436565244802783,
          8.306175953981654,
          6.717014185570476,
          8.229866641619221,
          0.48642241864956837,
          6.15601356148429,
          -6.255283594422233,
          3.7952120420659763,
          4.820785084096091,
          -3.588675907039285,
          2.0849489865816255,
          4.370174427372227,
          6.141471412061204,
          2.6685308561598906,
          5.415065148315906,
          -6.088217133605396,
          8.887344379404631,
          -5.488356028620006,
          6.872019061082452,
          -6.0300238010098495,
          4.38858187162388,
          5.157018595877629,
          0.35835619537458774,
          -3.0859958113557218,
          5.744144748616372,
          -0.47907389325850575,
          -5.883377228413314,
          6.268058926427664,
          7.065120772154154,
          -3.5420796952256555,
          -5.6884607022100635,
          -5.6187081653041036,
          -4.366281671839374,
          -6.8854255202155805,
          -6.705996829617046,
          6.683736830356249,
          -6.364168415598526,
          5.333876032524296,
          -0.4317475635601301,
          -1.5282644762174407,
          4.183653303759165,
          -0.6798593299135748,
          0.5363492039893308,
          5.012396019136997,
          6.8763503677487705,
          1.3629366975981587,
          6.635513381108584,
          0.15656082919837191,
          -1.659039570383292,
          4.75577679121959,
          6.7812934440753,
          6.077215533559585,
          7.279027490967427,
          1.2961093465449791,
          -2.8587026518427208,
          -1.2119767296952002,
          3.145864891794663,
          4.701438810132844,
          0.16612849006252195,
          2.6618391320933474,
          -5.844616164111117,
          4.995004102340721,
          5.8446142135690735,
          2.7277011732409657,
          2.197627241663937,
          -5.297504383171283,
          3.1326766272942503,
          3.1861470897918656,
          3.4997533975925186,
          -4.413635881774421,
          -4.096338537638226,
          4.479207161278834,
          -5.768143145852306,
          -4.69748397390476,
          5.222637960953292,
          -0.5532733352544754,
          -4.418246415171173,
          1.3128333906066194,
          8.307183696701642,
          -5.825120341754317,
          -4.322035218446206,
          -3.365817223413158,
          1.0180489386561267,
          5.527372782869725,
          0.35977681201221773,
          1.521382670224573,
          4.239620914406348,
          1.984331168430736,
          0.15948571970678094,
          10.201392725490104,
          -6.890590542506385,
          -4.943307346467625,
          7.535949399655877,
          -6.177098056930119,
          -0.6743986202514589,
          -0.504440464055116,
          3.4945233763724004,
          5.975160808232789,
          -0.41757488129431886,
          -7.2063781436452645,
          0.9873100637570819,
          6.635522613303778,
          5.282823704127352,
          -0.6983452257652862,
          4.433090704320131,
          -5.764607007391443,
          4.314949101813725,
          -6.068227660536056,
          0.24747578778715068,
          1.9212819482151646,
          -4.687371016410542,
          -0.4413667176214729,
          1.3756031941423696,
          -6.178805408339111,
          -3.542457482170357,
          1.3417642461867534,
          -6.316204278487742,
          -7.412100896535343,
          -0.4565038315075917,
          -3.2095417660218994,
          -6.960542010758957,
          2.7282129981399956,
          -2.5994594091625154,
          -6.238159254000434,
          5.88513792017077,
          4.270500201230068,
          -3.1692547819590184,
          -6.111738712495953,
          7.032184262270077,
          -6.688209623710024,
          7.035434004360644,
          0.23819062401734056,
          -2.0364860700614176,
          -2.613374226723188,
          -2.400892792189283,
          -3.521060410109176,
          3.7816090863378116,
          -4.259500003005203,
          4.251833968211096,
          -3.9638066389196753,
          -1.7440637438047621,
          -4.244617386098421,
          -4.316805697698897,
          -2.2285325144100088,
          5.201922916214635,
          -3.0556125095736815,
          -6.802073002572175,
          -5.508132246334052,
          5.4798644858760115,
          4.190210706964875,
          -3.3911358016362727,
          4.691391148855847,
          3.9328109333380232,
          2.4693873630715144,
          5.743946429006119,
          -1.2444005894670913,
          4.447893336171812,
          -4.8607692848517265,
          -1.643108843135457,
          -0.29314544788917235,
          -4.152990161877942,
          0.7002592080888019,
          -2.067001604638436,
          3.3480361611450853,
          8.041824140033576,
          2.2118174642955872,
          -6.344176412630573,
          -6.6371495842360675,
          1.4684567964379465,
          4.168659633560246,
          2.1950827078478694,
          -7.514904099104621,
          -1.8420922051365003,
          -1.6886746294946204,
          -1.2537298785541302,
          -4.520800610922293,
          8.16540122398699,
          -6.5222911447090555,
          -1.413456919955067,
          -1.150642693731879,
          2.864560686439549,
          -5.76385312269803,
          0.15433257377695705,
          -5.883265895552542,
          5.465407220299672,
          -1.9516880780696026,
          -3.3574515334047694,
          6.733182813355211,
          -5.195204235685138,
          1.3312046067711163,
          3.486050214697071,
          -2.2282612252682914,
          -0.499242787153758,
          0.7029713690542115,
          3.648234123108081,
          2.907356633850534,
          -5.928646274337714,
          8.141918248515289,
          -7.109822383300192,
          0.9208287722058666,
          -2.5389487207371255,
          -1.4170910008823925,
          -5.948200190747999,
          1.4203183519303018,
          -3.40633172605048,
          -0.24047667610517548,
          0.7856483877506869,
          5.7513858739177826,
          -6.282241864782735,
          8.182036031584357,
          7.3002784634171105,
          -4.233757973718666,
          7.376431330955585,
          -5.667581721233384,
          3.0343771515629103,
          6.260397896085341,
          -7.174841382809283,
          -1.9050023016993276,
          6.111164732137671,
          -3.4226591749549815,
          7.570939571118263,
          6.580656004263795,
          -2.092278193504022,
          4.646631057232095,
          -5.054907745408652,
          -6.808745987754767,
          -6.223908300808526,
          6.955032542478122,
          -3.8231153488356195,
          6.221833521519977,
          -2.5027243249674687,
          6.098921354473524,
          0.06554601790948772,
          2.2740599705651494,
          0.6736784677722947,
          7.747864084002847,
          5.494131687471832
         ],
         "y": [
          -3.185339533496719,
          3.526269370660884,
          1.715346722184464,
          2.6761199648124974,
          1.6756077536208118,
          4.605953165419918,
          6.064169318828853,
          -3.6044118120943005,
          0.8648944850483978,
          -3.6790926430993323,
          -0.496038872170549,
          2.3993437958766384,
          2.830148488875805,
          3.6838602231763926,
          -3.6760238835798034,
          2.6615007527333083,
          4.172387421022121,
          -1.7913736096874482,
          -2.5297373220659654,
          1.7762205555317623,
          -3.1176025987744844,
          -3.1554359053756555,
          -1.3716163147596365,
          3.344300563045576,
          3.8507505702012694,
          5.704011454519014,
          -0.347834093991101,
          0.2158475568958888,
          3.260440286208041,
          -1.5139585753815141,
          5.781652941818434,
          6.787246439193214,
          6.205205588130435,
          3.6816497487804773,
          -1.6200052152681022,
          -3.5992085322084337,
          -0.0623697233251818,
          5.286594306196153,
          2.054718363640078,
          3.0567047136013636,
          5.917604413483832,
          0.6585068575618191,
          0.39016696163920594,
          2.47821111638398,
          -0.4797617354939163,
          0.6415331763181205,
          1.8711731770041138,
          5.077773907597244,
          4.320648381896767,
          1.5332063368216104,
          -0.06029141808885456,
          2.1150881264477412,
          4.55188420197008,
          4.369845136168237,
          -2.010138871868373,
          -4.41901216527134,
          4.468094685026429,
          3.6736038403702542,
          2.244525261060412,
          -3.336247464455602,
          7.454980145946485,
          -4.517296926113486,
          4.561889186239606,
          1.7293381478978926,
          -0.5144604800750756,
          0.9599103209444515,
          3.095507813818702,
          1.5142261141804365,
          -2.5801014650951024,
          -1.3937370016537232,
          1.799424475790517,
          -4.336485358831136,
          -4.522288345554645,
          1.2687090495103257,
          -2.493397807940657,
          -5.1279168805436,
          1.8341563256387274,
          -2.440040371713169,
          6.937287650871799,
          -3.7481810379140788,
          1.8910932872020707,
          -5.259952736962708,
          2.2045300742263847,
          -3.4661610587341753,
          0.5501421857109342,
          0.6044004493496764,
          5.212461877822151,
          -2.4328514269703074,
          4.676439496666554,
          -1.8621846513148004,
          -2.232447505470221,
          -2.2687285251596387,
          1.5306702652232758,
          1.5045133526264443,
          -3.3771668201962015,
          -0.8450983248439535,
          -5.212324913487973,
          -3.390546180286222,
          3.4291192381188775,
          0.8676830362390612,
          -3.785940226994886,
          1.7426444555055398,
          1.1769092484546744,
          2.5737018661800466,
          0.8999626223991334,
          -0.33291622696215356,
          0.529816517025781,
          -1.1455413616969603,
          0.7773965740348976,
          0.3835502864968858,
          1.58161353078441,
          2.317354157285144,
          -0.23727067051344378,
          -0.9366159846535103,
          1.238917746194043,
          2.341518052364701,
          -0.4572071179698685,
          3.240191026239536,
          4.4196498871147485,
          3.165141166929138,
          0.5541986967914634,
          -4.957280316027876,
          3.4486437248192723,
          0.83215321148378,
          0.12568754867085902,
          0.5347201076600563,
          -3.456337586640426,
          0.8301420274310237,
          -4.4973985215238,
          1.8118829340729827,
          1.2762871635827795,
          4.051788816127994,
          7.104604771602168,
          -3.402323974364893,
          0.8150272976328425,
          1.8636224720552528,
          -2.322268487060278,
          -4.315420290131739,
          0.681111972511005,
          -3.225345763876776,
          3.1282803300508495,
          -0.5039082135098844,
          -2.781771533311857,
          -3.425730739638727,
          1.5062553570113189,
          1.7804326601918115,
          4.292177898695285,
          0.33770848463730124,
          6.988648852593103,
          1.5476964535842583,
          -2.542774676170988,
          -4.613665536726372,
          -3.2298408388039133,
          -3.428281607440886,
          1.9461247546678935,
          2.7333520080056806,
          3.425679652131938,
          -3.602943605156337,
          0.9789026751272514,
          0.7437612985110426,
          3.879222374805836,
          -1.005011600054948,
          -0.10634409958054315,
          3.5525337855827,
          0.8292459392549735,
          2.450462425602555,
          5.15200486067368,
          -0.7467617472363656,
          -2.7147573047067666,
          -0.8975398603185218,
          0.05856688931035387,
          3.1633412033553556,
          -2.186927414180228,
          -2.012983843039207,
          -2.3006892611986287,
          -2.656145624694889,
          -0.1342475222863593,
          1.0071029619819916,
          3.7978848896184534,
          -0.9898689559715562,
          4.318106788064411,
          2.9679769283789983,
          4.947176902193315,
          3.500966871878339,
          -0.4877913115502468,
          -2.948029727723794,
          6.060834932651681,
          -0.9439382340085127,
          0.9915619027203701,
          1.7642024127884235,
          -2.382392965012137,
          -3.502800680130363,
          -2.326843409352602,
          2.7664960482539698,
          -3.312132457732254,
          -5.319170410411769,
          -2.5227704057951703,
          3.8511663037373567,
          -2.498928981468509,
          -0.508954084164474,
          -2.725110908488803,
          2.9749104739874443,
          2.123539093489147,
          5.675125792730779,
          3.3923267233414967,
          -0.5554359771848942,
          -2.2684682894917954,
          2.108870778756932,
          -3.1062927710841484,
          -0.20389681621750622,
          -0.24217096144921108,
          2.7245045830258507,
          7.374493622269858,
          1.476806332221821,
          -0.8613254797809415,
          0.6422470104847502,
          -0.877289673834288,
          3.7234200256473957,
          -1.667859332570511,
          3.5975633493632673,
          4.311362975964905,
          1.2175629551336267,
          1.8542910975416111,
          4.30841564042251,
          1.3047954032865658,
          2.751406318510656,
          -1.8273801092178987,
          -1.428241570763867,
          3.1457373392929706,
          2.5963728158699952,
          -0.036992172302093125,
          3.8353467402019166,
          1.4971677637726675,
          0.26125162623797404,
          -1.8706404941516024,
          0.5106891321543202,
          0.2202747241618912,
          -2.430103680579609,
          3.845992151142327,
          4.323476687459889,
          -3.7185396863263285,
          1.301593339397366,
          2.414655455450271,
          -1.25576866491979,
          -0.023649776600793045,
          -1.402538050421342,
          -3.596155218517825,
          -3.1071946347146526,
          -1.3050897760976108,
          2.843105009596784,
          -3.7556244921198187,
          -0.5499498418941419,
          -2.52064150182905,
          -4.321997520337447,
          4.800750845792038,
          0.6463327393797359,
          2.3980945747581597,
          -0.7013470292666453,
          2.229683994762437,
          -4.335700735982119,
          2.9612448512804583,
          -0.6153431242071318,
          4.405986877228041,
          3.801866791638378,
          4.563813363163087,
          -3.444140860081688,
          1.2280310559391967,
          3.919697226605617,
          -3.5863725712937873,
          -4.312719357350898,
          0.492193553716572,
          -1.7691451811444843,
          2.5690270243641793,
          0.3023811285033651,
          0.489211317181429,
          2.389647596182356,
          2.0188971184882045,
          2.1474108685188837,
          3.7271590506832313,
          2.096224746283681,
          1.2234301760823014,
          -6.047337558122858,
          -2.961288146667391,
          3.2511361292374246,
          -1.4314082188486958,
          2.1121075855718727,
          -4.959653407290195,
          -2.862579653709002,
          -2.5301418690460804,
          7.74511211704485,
          -0.029496562885368418,
          -1.5083534694680676,
          2.442113079971942,
          2.738713206540722,
          0.684575959883466,
          -0.541756113007171,
          -5.188088669310594,
          1.1334239417929322,
          1.2555549822329024,
          0.6306374042839697,
          4.232576740086362,
          -3.2575614085215823,
          -1.4822113863360866,
          0.08335259117447673,
          4.286413060633223,
          -0.37962488901685465,
          5.623555703224563,
          -3.180046193896092,
          1.718685353971302,
          1.6906523753433356,
          3.7207322601055126,
          1.0594994663828,
          -1.0864442690310134,
          -3.4092172552222486,
          6.383679705852373,
          3.7767909566058555,
          4.151912714280456,
          -0.27027049157340644,
          -3.5620046473202467,
          -4.603226807920073,
          2.1585465675669333,
          0.7424293379178936,
          -3.772914613161643,
          -0.18691844199793106,
          -2.443576664047903,
          1.982666739720224,
          -0.7336482388739616,
          5.326185456534703,
          -0.54132682772385,
          3.474897045310213,
          2.784965554137515,
          -5.112580702086281,
          -4.049848028479004,
          5.445797948159613,
          0.8769645012257812,
          2.3100890349922945,
          0.7557508672733261,
          2.6419608101365943,
          3.438882570938854,
          4.751030470300312,
          -1.8868170137756466,
          2.5784779051120403,
          -0.8582146185433623,
          1.5053479102737028,
          -1.4318711130688537,
          6.139312109261375,
          1.1094814321963165,
          6.07826246257586,
          3.4502024429178544,
          -2.3424257386062615,
          5.302474409012479,
          -3.9132743965738994,
          1.5069149901534211,
          -0.7240033489386096,
          0.8771579544044569,
          3.297758738338056,
          3.9969531156750535,
          4.021664455185728,
          6.034305977342252,
          -2.283252227292193,
          0.2701981574538519,
          -3.2234702304552765,
          -3.773327778195204,
          3.6473692232859225,
          3.9622370116131496
         ],
         "z": [
          1.1772062149586162,
          3.0430298910236706,
          -2.229708933650626,
          -3.4826006076448324,
          -0.6684075308173654,
          3.872177594090662,
          0.6935062256239646,
          1.8196825656788025,
          -1.0697224181844496,
          0.5630165217267492,
          -1.4703427088742373,
          -0.3988662362243103,
          -2.9191011117211265,
          1.0618122517876973,
          3.1039958357547124,
          -3.9647959920337037,
          -2.518433261709283,
          1.419600576344029,
          -2.4073690094469242,
          -0.47075839245728957,
          -1.1792763177008898,
          1.6110540721796072,
          -2.5435237517851963,
          -0.04600806101463568,
          -1.7966551890917202,
          0.8581402785156085,
          -1.9538014853491246,
          -3.122243866563067,
          0.401558755968805,
          -3.633220772668833,
          4.5397615461020955,
          -1.3707312752917102,
          1.0031350285265734,
          -0.6629998131085991,
          -1.9245422135936163,
          0.7439428380658922,
          -1.6140385875851186,
          6.281272710453684,
          -0.3345853321883324,
          -2.173381757703676,
          1.5129233664357875,
          -0.8004490275164057,
          -1.5225281976973948,
          1.5856647455501025,
          0.49504490384908467,
          -1.259547288708525,
          -0.5162477186877981,
          -0.04295643310335856,
          -2.9765752662349114,
          -0.06516773726994422,
          -1.2173790345434865,
          1.7768608139463486,
          -1.0613950507378889,
          -2.10022703523807,
          -2.5159344553873604,
          2.3376791728608954,
          1.615039889274413,
          1.364588515239036,
          -2.044222318542216,
          0.42042618039043766,
          -0.03597177187056613,
          0.21581245158498927,
          -1.7036552166148962,
          -1.6945293056101303,
          -0.16618569830701646,
          -3.2313095518921613,
          -2.28162459260435,
          -0.18672260989642223,
          -0.25454079416903747,
          0.012157165817250773,
          0.08739031115031766,
          -0.49150919592869446,
          2.001863099725205,
          -2.0632310585454436,
          1.0632326482278458,
          2.425886863240252,
          -2.287521000499961,
          1.9707992449646121,
          1.801531125617769,
          1.4395229562616922,
          -1.9289963874757872,
          2.5739434431551205,
          1.6406310425157626,
          0.879230736092475,
          -1.2895282949536833,
          -1.979310719576927,
          3.2360872574085313,
          1.654201196848669,
          -1.6113626630789637,
          -0.7910196583406849,
          0.5618533095229759,
          -2.1215007107244213,
          -2.411747342783796,
          0.34142488801724513,
          0.17653359769537574,
          -1.36543167501784,
          1.8710164502330906,
          0.8971467422618491,
          1.722484834687029,
          -2.3930152316197657,
          0.6433253452023352,
          -0.5978364147414454,
          -1.170028205267558,
          -1.5849832072971193,
          -0.2680369697386766,
          -0.7395235756074341,
          -1.8896211876255147,
          -2.544805614002773,
          -1.063529200020342,
          1.178777136298457,
          -1.027648422052919,
          3.5575118398141266,
          -0.8843497983927191,
          -0.28585475580232445,
          -1.6383706961342133,
          -2.7008441497475895,
          -2.7787769203656443,
          -3.0446075482601533,
          -1.4796434857035843,
          1.2424613527986637,
          -1.1916372192778777,
          -0.23928794637122444,
          3.0008265163033476,
          -1.200473007471912,
          -2.624899486818146,
          -3.510092301889188,
          2.4845866322353904,
          -1.0038204501797048,
          0.08254419362483528,
          -1.1586506359822806,
          -0.18391411924846965,
          -2.8381774031207234,
          0.690584881819501,
          2.551757912327164,
          -0.9997604932344545,
          -1.426864289971733,
          0.42251564449408696,
          -0.12177355410307175,
          -2.698666752868173,
          0.34888456938794626,
          -3.386867717975704,
          -0.16400778511032713,
          1.5031472286878804,
          -2.3732285782249813,
          -1.4379994369852034,
          0.08898491796123338,
          -2.289960543046277,
          0.3222147853532649,
          0.579699505685163,
          -0.8828027878155811,
          -1.6632917449830817,
          0.7278349206346544,
          1.6568203347230217,
          -1.153324877929984,
          -0.7646846904610966,
          -1.8849109715353176,
          -2.423789958199642,
          -1.646764274818634,
          -1.1782618757781866,
          -0.4576335629012979,
          1.15463537865807,
          -1.5975642839569353,
          -1.2983249233944432,
          -1.442343104638508,
          -1.5049846295757852,
          -2.115416323545371,
          0.9052132352252605,
          -1.291771716867772,
          0.7456286328751334,
          -2.7547683867957584,
          -2.1530345290564186,
          -2.9532902088822555,
          1.1418585931688492,
          -1.0983850111458615,
          0.5347272315303987,
          -0.5458693295387634,
          -1.79313747974385,
          -3.208864383385833,
          -2.216269469312178,
          0.8784154539214113,
          -2.749556512942869,
          -0.8457377959969742,
          3.6871261141315403,
          5.081525553316774,
          -1.262372586414096,
          2.383924795456416,
          0.7272820723013736,
          -0.6885454959624911,
          -0.834750531937935,
          -2.710428139756239,
          0.9319886335449808,
          0.8979824421974093,
          0.31874301663392357,
          0.24074739450689714,
          0.5564030085862448,
          2.412447566960724,
          1.7527520080597758,
          2.4350396380159083,
          -1.736347866260353,
          -0.5400628857083061,
          -2.8636047946929093,
          1.7859098848019843,
          -2.2613709880665374,
          0.4327123881236174,
          1.8964031827861212,
          -2.549291507243993,
          1.7411630930117314,
          -0.08172613430041935,
          -1.1212543006587912,
          -3.534157400499423,
          -1.295166752386674,
          -1.6659802926947713,
          0.9213185618084038,
          3.7316250201041385,
          -1.3009679624271235,
          -1.7275723585719631,
          -2.25935595063271,
          -1.8296236001488277,
          -2.5580329408768057,
          -0.32272602817697255,
          -2.1030309961283704,
          0.3280456758291871,
          3.0596882284991995,
          5.001219215056548,
          -2.9575952566939776,
          -0.8008860669419906,
          -0.3871261511630765,
          -2.037091285143421,
          -0.6017401725752132,
          -1.7357401269987587,
          -0.8583252650746596,
          3.3540600023868916,
          -2.4215807327648182,
          -0.3637614530143229,
          0.26303970896866735,
          -0.9706461633575906,
          -2.2202674160880473,
          -1.1656833365394652,
          2.466487453070217,
          3.837882247174675,
          2.7509983857500537,
          -0.7476753267362707,
          2.6010656349864867,
          -0.9548673441206454,
          -1.4687099109399113,
          -1.9262368154233367,
          2.591931385175227,
          -1.8053039017541834,
          -1.740761177123461,
          -0.46109848336159676,
          -1.855479128020024,
          -1.3310538959195775,
          0.5224115428286843,
          2.2710450211247246,
          3.586963652320579,
          -0.5397322900109583,
          -0.765284126627813,
          -1.388708408559734,
          -1.1676980804177621,
          1.2949583508439004,
          0.9484319186375516,
          -2.2869361369282393,
          3.823695507432437,
          2.7699123457680375,
          0.8373063591458193,
          -2.376053256201926,
          -0.7858442638855804,
          2.825009163916801,
          1.062930575775909,
          -0.9108403328495598,
          -1.4115055348719734,
          -1.7958106462357402,
          -2.4277853782363854,
          -1.2384154997820382,
          -1.8486854168967994,
          -0.7474667358334174,
          -1.4241655005277745,
          -2.7231273745913644,
          2.567097682487478,
          -2.51094839063113,
          -2.3175335554838425,
          3.070175206317046,
          1.0824484939367474,
          3.243745538173435,
          0.4216157691857104,
          1.414721494984246,
          2.213898877055682,
          -0.8776361153154326,
          -2.85295088204853,
          0.9314089876823719,
          -1.8450872188622773,
          0.1497953902721247,
          -2.577167019238897,
          -1.7719422097592876,
          -0.8015227621523039,
          -1.7776594301055963,
          2.21182022001533,
          -1.8231401793016062,
          -1.721860601298921,
          -0.3534242488588125,
          0.33240429896061907,
          -0.3405094419971805,
          -2.627889475164317,
          -2.709296469518449,
          -2.3682121817675283,
          -1.2779142189866144,
          0.333609641562322,
          0.8978421968181595,
          -2.7241565712400275,
          -0.2641387180762859,
          -0.43664034991666556,
          -1.3102569871838932,
          1.9348244305813702,
          -1.119827444646594,
          -0.6618444161200021,
          -1.220246273417422,
          2.4159635120789122,
          -1.078262523474065,
          0.454657069905916,
          -0.5141393886108406,
          -0.2960681698283365,
          -3.5093070529356623,
          3.5228072342801284,
          -1.6989401784952156,
          -1.1560980069121964,
          -2.6349240933461755,
          -2.8786374338431306,
          -0.25959717087243417,
          -2.650278273831275,
          2.1827498173444493,
          -0.3486552568936589,
          3.5583369615179845,
          -1.1436344681126274,
          5.63308789052169,
          -0.24356393313331512,
          -2.4927930749866336,
          -1.0438658805402379,
          -2.6143637667013166,
          -1.4476959016496458,
          2.8304578741389057,
          1.6162198433879802,
          1.0836174707393824,
          -0.4274678537946891,
          -2.816452042528848,
          -2.7998946045657394,
          4.735364738250927,
          -0.27021025009662786,
          4.072971929513035,
          -2.9478953676951023,
          0.978261023740988,
          4.338027051693711,
          1.5002896596855009,
          -0.17647859853892256,
          -1.9494487350440926,
          -0.895457759096949,
          -2.9696674438499264,
          3.4108337228601053,
          -2.220881221887456,
          4.300584753442838,
          1.2901654145827561,
          -2.4373082006501146,
          1.9567562747685785,
          1.5241259968830854,
          -1.6758786898239515,
          -2.5105819019553173
         ]
        },
        {
         "hovertemplate": "color=1<br>x=%{x}<br>y=%{y}<br>z=%{z}<extra></extra>",
         "legendgroup": "1",
         "marker": {
          "color": "#EF553B",
          "symbol": "circle"
         },
         "mode": "markers",
         "name": "1",
         "scene": "scene",
         "showlegend": true,
         "type": "scatter3d",
         "x": [
          -1.240233841934954,
          -1.5774545023738993,
          -0.09377963914694347,
          2.1399673594429314,
          0.06499859794175666,
          2.260382741385919,
          -1.432893139163286,
          2.5227131922552277,
          -0.3062512780453204,
          2.092381556303094,
          0.39075337518889053,
          0.2052809124272553,
          1.6633869241119832,
          2.6001212998812124,
          0.1680968875129408,
          -1.3022397366359277,
          0.6597564809847348,
          0.3228782637707304,
          0.4170172391111681,
          0.35964677606659884,
          -0.8075112379743468,
          -1.4211893721673654,
          -1.1063240331238182,
          -0.0599252974849179,
          1.9259061233282002,
          1.8060708887380994,
          -2.2240936611481827,
          -1.6752303124131553,
          0.9424708241693907,
          -2.7689729287564746,
          1.4065632040085099,
          -1.9152334389798826,
          -0.410326342372904,
          1.2926112928535944,
          0.9355737518998077
         ],
         "y": [
          -5.684604586907034,
          -5.37053777167198,
          -5.993356378945942,
          -5.5521440555610235,
          -6.075697974272733,
          -5.532239050868793,
          -5.564851002082122,
          -5.457908944899903,
          -5.453551336680267,
          -5.320109422761596,
          -5.963054265244636,
          -5.216063971353211,
          -5.478230816466301,
          -5.9065214973399165,
          -5.209032986053288,
          -5.518822683157802,
          -5.5157770703447975,
          -5.64739510283129,
          -4.759538183929515,
          -5.931470637689995,
          -5.184261099599341,
          -5.580608760525969,
          -5.363420596244239,
          -4.731161846902935,
          -5.466497397437932,
          -5.870570896634507,
          -5.277594452777786,
          -5.057447689796308,
          -6.0607496922263495,
          -5.40436174090222,
          -5.742917456802839,
          -5.115803885040928,
          -5.961017398937815,
          -5.805226118606092,
          -5.825746682033371
         ],
         "z": [
          0.7652794645240333,
          0.7305412972868951,
          1.1008457897194321,
          2.3311181810286383,
          1.3332689644039575,
          2.017530625997786,
          0.17391900380849473,
          2.09669299374051,
          1.2590874409601545,
          1.8180471728267942,
          1.1669113160355038,
          0.9116550871120093,
          1.211534484934947,
          1.5965977031049552,
          1.3517093465109784,
          0.4081815862813534,
          1.0107286841450125,
          1.3891549569021484,
          0.837312407799695,
          1.823861413545594,
          1.2115951188224334,
          0.31476634095383876,
          -0.4968468219780829,
          0.20073967625231814,
          1.5231424837388248,
          1.57691021737552,
          0.03811944588729042,
          0.015666246634661464,
          1.8077880520419896,
          -0.3178214187646244,
          2.4372851218358096,
          0.1485272362728887,
          1.0557420304772056,
          1.2678340900715608,
          1.9946173429035134
         ]
        }
       ],
       "layout": {
        "legend": {
         "title": {
          "text": "color"
         },
         "tracegroupgap": 0
        },
        "margin": {
         "t": 60
        },
        "scene": {
         "domain": {
          "x": [
           0,
           1
          ],
          "y": [
           0,
           1
          ]
         },
         "xaxis": {
          "title": {
           "text": "x"
          }
         },
         "yaxis": {
          "title": {
           "text": "y"
          }
         },
         "zaxis": {
          "title": {
           "text": "z"
          }
         }
        },
        "template": {
         "data": {
          "bar": [
           {
            "error_x": {
             "color": "#2a3f5f"
            },
            "error_y": {
             "color": "#2a3f5f"
            },
            "marker": {
             "line": {
              "color": "#E5ECF6",
              "width": 0.5
             },
             "pattern": {
              "fillmode": "overlay",
              "size": 10,
              "solidity": 0.2
             }
            },
            "type": "bar"
           }
          ],
          "barpolar": [
           {
            "marker": {
             "line": {
              "color": "#E5ECF6",
              "width": 0.5
             },
             "pattern": {
              "fillmode": "overlay",
              "size": 10,
              "solidity": 0.2
             }
            },
            "type": "barpolar"
           }
          ],
          "carpet": [
           {
            "aaxis": {
             "endlinecolor": "#2a3f5f",
             "gridcolor": "white",
             "linecolor": "white",
             "minorgridcolor": "white",
             "startlinecolor": "#2a3f5f"
            },
            "baxis": {
             "endlinecolor": "#2a3f5f",
             "gridcolor": "white",
             "linecolor": "white",
             "minorgridcolor": "white",
             "startlinecolor": "#2a3f5f"
            },
            "type": "carpet"
           }
          ],
          "choropleth": [
           {
            "colorbar": {
             "outlinewidth": 0,
             "ticks": ""
            },
            "type": "choropleth"
           }
          ],
          "contour": [
           {
            "colorbar": {
             "outlinewidth": 0,
             "ticks": ""
            },
            "colorscale": [
             [
              0,
              "#0d0887"
             ],
             [
              0.1111111111111111,
              "#46039f"
             ],
             [
              0.2222222222222222,
              "#7201a8"
             ],
             [
              0.3333333333333333,
              "#9c179e"
             ],
             [
              0.4444444444444444,
              "#bd3786"
             ],
             [
              0.5555555555555556,
              "#d8576b"
             ],
             [
              0.6666666666666666,
              "#ed7953"
             ],
             [
              0.7777777777777778,
              "#fb9f3a"
             ],
             [
              0.8888888888888888,
              "#fdca26"
             ],
             [
              1,
              "#f0f921"
             ]
            ],
            "type": "contour"
           }
          ],
          "contourcarpet": [
           {
            "colorbar": {
             "outlinewidth": 0,
             "ticks": ""
            },
            "type": "contourcarpet"
           }
          ],
          "heatmap": [
           {
            "colorbar": {
             "outlinewidth": 0,
             "ticks": ""
            },
            "colorscale": [
             [
              0,
              "#0d0887"
             ],
             [
              0.1111111111111111,
              "#46039f"
             ],
             [
              0.2222222222222222,
              "#7201a8"
             ],
             [
              0.3333333333333333,
              "#9c179e"
             ],
             [
              0.4444444444444444,
              "#bd3786"
             ],
             [
              0.5555555555555556,
              "#d8576b"
             ],
             [
              0.6666666666666666,
              "#ed7953"
             ],
             [
              0.7777777777777778,
              "#fb9f3a"
             ],
             [
              0.8888888888888888,
              "#fdca26"
             ],
             [
              1,
              "#f0f921"
             ]
            ],
            "type": "heatmap"
           }
          ],
          "heatmapgl": [
           {
            "colorbar": {
             "outlinewidth": 0,
             "ticks": ""
            },
            "colorscale": [
             [
              0,
              "#0d0887"
             ],
             [
              0.1111111111111111,
              "#46039f"
             ],
             [
              0.2222222222222222,
              "#7201a8"
             ],
             [
              0.3333333333333333,
              "#9c179e"
             ],
             [
              0.4444444444444444,
              "#bd3786"
             ],
             [
              0.5555555555555556,
              "#d8576b"
             ],
             [
              0.6666666666666666,
              "#ed7953"
             ],
             [
              0.7777777777777778,
              "#fb9f3a"
             ],
             [
              0.8888888888888888,
              "#fdca26"
             ],
             [
              1,
              "#f0f921"
             ]
            ],
            "type": "heatmapgl"
           }
          ],
          "histogram": [
           {
            "marker": {
             "pattern": {
              "fillmode": "overlay",
              "size": 10,
              "solidity": 0.2
             }
            },
            "type": "histogram"
           }
          ],
          "histogram2d": [
           {
            "colorbar": {
             "outlinewidth": 0,
             "ticks": ""
            },
            "colorscale": [
             [
              0,
              "#0d0887"
             ],
             [
              0.1111111111111111,
              "#46039f"
             ],
             [
              0.2222222222222222,
              "#7201a8"
             ],
             [
              0.3333333333333333,
              "#9c179e"
             ],
             [
              0.4444444444444444,
              "#bd3786"
             ],
             [
              0.5555555555555556,
              "#d8576b"
             ],
             [
              0.6666666666666666,
              "#ed7953"
             ],
             [
              0.7777777777777778,
              "#fb9f3a"
             ],
             [
              0.8888888888888888,
              "#fdca26"
             ],
             [
              1,
              "#f0f921"
             ]
            ],
            "type": "histogram2d"
           }
          ],
          "histogram2dcontour": [
           {
            "colorbar": {
             "outlinewidth": 0,
             "ticks": ""
            },
            "colorscale": [
             [
              0,
              "#0d0887"
             ],
             [
              0.1111111111111111,
              "#46039f"
             ],
             [
              0.2222222222222222,
              "#7201a8"
             ],
             [
              0.3333333333333333,
              "#9c179e"
             ],
             [
              0.4444444444444444,
              "#bd3786"
             ],
             [
              0.5555555555555556,
              "#d8576b"
             ],
             [
              0.6666666666666666,
              "#ed7953"
             ],
             [
              0.7777777777777778,
              "#fb9f3a"
             ],
             [
              0.8888888888888888,
              "#fdca26"
             ],
             [
              1,
              "#f0f921"
             ]
            ],
            "type": "histogram2dcontour"
           }
          ],
          "mesh3d": [
           {
            "colorbar": {
             "outlinewidth": 0,
             "ticks": ""
            },
            "type": "mesh3d"
           }
          ],
          "parcoords": [
           {
            "line": {
             "colorbar": {
              "outlinewidth": 0,
              "ticks": ""
             }
            },
            "type": "parcoords"
           }
          ],
          "pie": [
           {
            "automargin": true,
            "type": "pie"
           }
          ],
          "scatter": [
           {
            "fillpattern": {
             "fillmode": "overlay",
             "size": 10,
             "solidity": 0.2
            },
            "type": "scatter"
           }
          ],
          "scatter3d": [
           {
            "line": {
             "colorbar": {
              "outlinewidth": 0,
              "ticks": ""
             }
            },
            "marker": {
             "colorbar": {
              "outlinewidth": 0,
              "ticks": ""
             }
            },
            "type": "scatter3d"
           }
          ],
          "scattercarpet": [
           {
            "marker": {
             "colorbar": {
              "outlinewidth": 0,
              "ticks": ""
             }
            },
            "type": "scattercarpet"
           }
          ],
          "scattergeo": [
           {
            "marker": {
             "colorbar": {
              "outlinewidth": 0,
              "ticks": ""
             }
            },
            "type": "scattergeo"
           }
          ],
          "scattergl": [
           {
            "marker": {
             "colorbar": {
              "outlinewidth": 0,
              "ticks": ""
             }
            },
            "type": "scattergl"
           }
          ],
          "scattermapbox": [
           {
            "marker": {
             "colorbar": {
              "outlinewidth": 0,
              "ticks": ""
             }
            },
            "type": "scattermapbox"
           }
          ],
          "scatterpolar": [
           {
            "marker": {
             "colorbar": {
              "outlinewidth": 0,
              "ticks": ""
             }
            },
            "type": "scatterpolar"
           }
          ],
          "scatterpolargl": [
           {
            "marker": {
             "colorbar": {
              "outlinewidth": 0,
              "ticks": ""
             }
            },
            "type": "scatterpolargl"
           }
          ],
          "scatterternary": [
           {
            "marker": {
             "colorbar": {
              "outlinewidth": 0,
              "ticks": ""
             }
            },
            "type": "scatterternary"
           }
          ],
          "surface": [
           {
            "colorbar": {
             "outlinewidth": 0,
             "ticks": ""
            },
            "colorscale": [
             [
              0,
              "#0d0887"
             ],
             [
              0.1111111111111111,
              "#46039f"
             ],
             [
              0.2222222222222222,
              "#7201a8"
             ],
             [
              0.3333333333333333,
              "#9c179e"
             ],
             [
              0.4444444444444444,
              "#bd3786"
             ],
             [
              0.5555555555555556,
              "#d8576b"
             ],
             [
              0.6666666666666666,
              "#ed7953"
             ],
             [
              0.7777777777777778,
              "#fb9f3a"
             ],
             [
              0.8888888888888888,
              "#fdca26"
             ],
             [
              1,
              "#f0f921"
             ]
            ],
            "type": "surface"
           }
          ],
          "table": [
           {
            "cells": {
             "fill": {
              "color": "#EBF0F8"
             },
             "line": {
              "color": "white"
             }
            },
            "header": {
             "fill": {
              "color": "#C8D4E3"
             },
             "line": {
              "color": "white"
             }
            },
            "type": "table"
           }
          ]
         },
         "layout": {
          "annotationdefaults": {
           "arrowcolor": "#2a3f5f",
           "arrowhead": 0,
           "arrowwidth": 1
          },
          "autotypenumbers": "strict",
          "coloraxis": {
           "colorbar": {
            "outlinewidth": 0,
            "ticks": ""
           }
          },
          "colorscale": {
           "diverging": [
            [
             0,
             "#8e0152"
            ],
            [
             0.1,
             "#c51b7d"
            ],
            [
             0.2,
             "#de77ae"
            ],
            [
             0.3,
             "#f1b6da"
            ],
            [
             0.4,
             "#fde0ef"
            ],
            [
             0.5,
             "#f7f7f7"
            ],
            [
             0.6,
             "#e6f5d0"
            ],
            [
             0.7,
             "#b8e186"
            ],
            [
             0.8,
             "#7fbc41"
            ],
            [
             0.9,
             "#4d9221"
            ],
            [
             1,
             "#276419"
            ]
           ],
           "sequential": [
            [
             0,
             "#0d0887"
            ],
            [
             0.1111111111111111,
             "#46039f"
            ],
            [
             0.2222222222222222,
             "#7201a8"
            ],
            [
             0.3333333333333333,
             "#9c179e"
            ],
            [
             0.4444444444444444,
             "#bd3786"
            ],
            [
             0.5555555555555556,
             "#d8576b"
            ],
            [
             0.6666666666666666,
             "#ed7953"
            ],
            [
             0.7777777777777778,
             "#fb9f3a"
            ],
            [
             0.8888888888888888,
             "#fdca26"
            ],
            [
             1,
             "#f0f921"
            ]
           ],
           "sequentialminus": [
            [
             0,
             "#0d0887"
            ],
            [
             0.1111111111111111,
             "#46039f"
            ],
            [
             0.2222222222222222,
             "#7201a8"
            ],
            [
             0.3333333333333333,
             "#9c179e"
            ],
            [
             0.4444444444444444,
             "#bd3786"
            ],
            [
             0.5555555555555556,
             "#d8576b"
            ],
            [
             0.6666666666666666,
             "#ed7953"
            ],
            [
             0.7777777777777778,
             "#fb9f3a"
            ],
            [
             0.8888888888888888,
             "#fdca26"
            ],
            [
             1,
             "#f0f921"
            ]
           ]
          },
          "colorway": [
           "#636efa",
           "#EF553B",
           "#00cc96",
           "#ab63fa",
           "#FFA15A",
           "#19d3f3",
           "#FF6692",
           "#B6E880",
           "#FF97FF",
           "#FECB52"
          ],
          "font": {
           "color": "#2a3f5f"
          },
          "geo": {
           "bgcolor": "white",
           "lakecolor": "white",
           "landcolor": "#E5ECF6",
           "showlakes": true,
           "showland": true,
           "subunitcolor": "white"
          },
          "hoverlabel": {
           "align": "left"
          },
          "hovermode": "closest",
          "mapbox": {
           "style": "light"
          },
          "paper_bgcolor": "white",
          "plot_bgcolor": "#E5ECF6",
          "polar": {
           "angularaxis": {
            "gridcolor": "white",
            "linecolor": "white",
            "ticks": ""
           },
           "bgcolor": "#E5ECF6",
           "radialaxis": {
            "gridcolor": "white",
            "linecolor": "white",
            "ticks": ""
           }
          },
          "scene": {
           "xaxis": {
            "backgroundcolor": "#E5ECF6",
            "gridcolor": "white",
            "gridwidth": 2,
            "linecolor": "white",
            "showbackground": true,
            "ticks": "",
            "zerolinecolor": "white"
           },
           "yaxis": {
            "backgroundcolor": "#E5ECF6",
            "gridcolor": "white",
            "gridwidth": 2,
            "linecolor": "white",
            "showbackground": true,
            "ticks": "",
            "zerolinecolor": "white"
           },
           "zaxis": {
            "backgroundcolor": "#E5ECF6",
            "gridcolor": "white",
            "gridwidth": 2,
            "linecolor": "white",
            "showbackground": true,
            "ticks": "",
            "zerolinecolor": "white"
           }
          },
          "shapedefaults": {
           "line": {
            "color": "#2a3f5f"
           }
          },
          "ternary": {
           "aaxis": {
            "gridcolor": "white",
            "linecolor": "white",
            "ticks": ""
           },
           "baxis": {
            "gridcolor": "white",
            "linecolor": "white",
            "ticks": ""
           },
           "bgcolor": "#E5ECF6",
           "caxis": {
            "gridcolor": "white",
            "linecolor": "white",
            "ticks": ""
           }
          },
          "title": {
           "x": 0.05
          },
          "xaxis": {
           "automargin": true,
           "gridcolor": "white",
           "linecolor": "white",
           "ticks": "",
           "title": {
            "standoff": 15
           },
           "zerolinecolor": "white",
           "zerolinewidth": 2
          },
          "yaxis": {
           "automargin": true,
           "gridcolor": "white",
           "linecolor": "white",
           "ticks": "",
           "title": {
            "standoff": 15
           },
           "zerolinecolor": "white",
           "zerolinewidth": 2
          }
         }
        }
       }
      }
     },
     "metadata": {},
     "output_type": "display_data"
    }
   ],
   "source": [
    "px.scatter_3d(x=x_testdf.iloc[:,0],y=x_testdf.iloc[:,1],z=x_testdf.iloc[:,2], color= y_pred)"
   ]
  }
 ],
 "metadata": {
  "kernelspec": {
   "display_name": "base",
   "language": "python",
   "name": "python3"
  },
  "language_info": {
   "codemirror_mode": {
    "name": "ipython",
    "version": 3
   },
   "file_extension": ".py",
   "mimetype": "text/x-python",
   "name": "python",
   "nbconvert_exporter": "python",
   "pygments_lexer": "ipython3",
   "version": "3.10.9"
  }
 },
 "nbformat": 4,
 "nbformat_minor": 2
}
