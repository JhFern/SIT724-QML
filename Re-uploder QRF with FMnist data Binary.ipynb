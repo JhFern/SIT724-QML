{
 "cells": [
  {
   "cell_type": "code",
   "execution_count": 397,
   "metadata": {},
   "outputs": [],
   "source": [
    "from sklearn.datasets import load_digits\n",
    "import pandas as pd\n",
    "import matplotlib.pyplot as plt\n",
    "%matplotlib inline \n",
    "from pennylane import numpy as np\n",
    "import pennylane as qml\n",
    "from sklearn.model_selection import train_test_split \n",
    "from sklearn.preprocessing import MaxAbsScaler \n",
    "from sklearn.preprocessing import Normalizer\n",
    "from sklearn.svm import SVC\n",
    "from sklearn.metrics import accuracy_score \n",
    "from sklearn.metrics import confusion_matrix as confusion_matrix\n",
    "from sklearn.metrics import f1_score as f1\n",
    "from sklearn.metrics import recall_score as recall\n",
    "from sklearn.decomposition import PCA \n",
    "from qiskit import *\n",
    "import seaborn as sns\n",
    "import plotly.express as px\n",
    "from sklearn.metrics import f1_score\n",
    "from sklearn.metrics import recall_score\n",
    "from sklearn.metrics import precision_score\n",
    "import pennylane as qml\n",
    "from pennylane import numpy as np\n",
    "from pennylane.optimize import AdamOptimizer, GradientDescentOptimizer\n",
    "from keras.datasets import fashion_mnist\n",
    "import matplotlib.pyplot as plt\n"
   ]
  },
  {
   "cell_type": "code",
   "execution_count": 398,
   "metadata": {},
   "outputs": [],
   "source": [
    "(x_train, y_train), (x_test, y_test) = fashion_mnist.load_data()\n"
   ]
  },
  {
   "cell_type": "code",
   "execution_count": 399,
   "metadata": {},
   "outputs": [
    {
     "name": "stdout",
     "output_type": "stream",
     "text": [
      "(60000, 28, 28)\n"
     ]
    }
   ],
   "source": [
    "print(x_train.shape)\n"
   ]
  },
  {
   "cell_type": "code",
   "execution_count": 400,
   "metadata": {},
   "outputs": [],
   "source": [
    "\n",
    "number_of_data_points = 10000\n",
    "y = pd.DataFrame(y_train[0:number_of_data_points])\n"
   ]
  },
  {
   "cell_type": "code",
   "execution_count": 401,
   "metadata": {},
   "outputs": [],
   "source": [
    "\n",
    "x_data = pd.DataFrame()\n",
    "for i in range(number_of_data_points):\n",
    "    x=x_train[i]\n",
    "    \n",
    "    new_x = pd.DataFrame()\n",
    "    for j in range(len(x[0])):\n",
    "        new_val = pd.Series()\n",
    "        new_val= pd.concat([new_val,pd.Series(x[j])])\n",
    "\n",
    "\n",
    "        new_x= pd.concat([new_x,(new_val.to_frame().T)],axis=1,ignore_index= True)\n",
    "    x_data = pd.concat([x_data,new_x],ignore_index=False,axis = 0)\n",
    "\n",
    "copyOfx = x_data\n",
    "copyOfy = y"
   ]
  },
  {
   "cell_type": "code",
   "execution_count": 402,
   "metadata": {},
   "outputs": [
    {
     "name": "stdout",
     "output_type": "stream",
     "text": [
      "      0\n",
      "0     9\n",
      "1     0\n",
      "2     0\n",
      "3     3\n",
      "4     0\n",
      "...  ..\n",
      "9995  7\n",
      "9996  5\n",
      "9997  0\n",
      "9998  6\n",
      "9999  6\n",
      "\n",
      "[10000 rows x 1 columns]\n"
     ]
    }
   ],
   "source": [
    "print(y)"
   ]
  },
  {
   "cell_type": "code",
   "execution_count": 403,
   "metadata": {},
   "outputs": [
    {
     "name": "stdout",
     "output_type": "stream",
     "text": [
      "(10000, 784)\n"
     ]
    }
   ],
   "source": [
    "print(x_data.shape)"
   ]
  },
  {
   "cell_type": "code",
   "execution_count": 404,
   "metadata": {},
   "outputs": [],
   "source": [
    "class_no = 8\n",
    "target_class = 1\n",
    "x_1class = pd.DataFrame()\n",
    "y_1class = pd.DataFrame()\n",
    "\n",
    "for i in range( number_of_data_points):\n",
    "    \n",
    "    if(y.iloc[i,0] == class_no or y.iloc[i,0] == target_class ):\n",
    "        \n",
    "        y_1class = pd.concat([y_1class,y.iloc[i]],ignore_index=False)\n",
    "        x_1class= pd.concat([x_1class,x_data.iloc[i-1:i]],ignore_index=False)\n",
    " \n",
    "\n",
    "x_data= x_1class\n",
    "y=y_1class\n",
    "y = y.astype('int64')\n"
   ]
  },
  {
   "cell_type": "code",
   "execution_count": 405,
   "metadata": {},
   "outputs": [
    {
     "name": "stdout",
     "output_type": "stream",
     "text": [
      "    0\n",
      "0   1\n",
      "0   1\n",
      "0   8\n",
      "0   8\n",
      "0   1\n",
      ".. ..\n",
      "0   1\n",
      "0   1\n",
      "0   1\n",
      "0   8\n",
      "0   1\n",
      "\n",
      "[2017 rows x 1 columns]\n"
     ]
    }
   ],
   "source": [
    "print(y)"
   ]
  },
  {
   "cell_type": "code",
   "execution_count": 406,
   "metadata": {},
   "outputs": [
    {
     "data": {
      "text/plain": [
       "array([[0., 0., 0., ..., 0., 0., 0.],\n",
       "       [0., 0., 0., ..., 0., 0., 0.],\n",
       "       [0., 0., 0., ..., 0., 0., 0.],\n",
       "       ...,\n",
       "       [0., 0., 0., ..., 0., 0., 0.],\n",
       "       [0., 0., 0., ..., 0., 0., 0.],\n",
       "       [0., 0., 0., ..., 0., 0., 0.]])"
      ]
     },
     "execution_count": 406,
     "metadata": {},
     "output_type": "execute_result"
    }
   ],
   "source": [
    "\n",
    "\n",
    "scaler = MaxAbsScaler() \n",
    "\n",
    "x_data = scaler.fit_transform(x_data)\n",
    "\n",
    "normalizer = Normalizer().fit(x_data)\n",
    "\n",
    "\n",
    "normalizer.transform(x_data)\n"
   ]
  },
  {
   "cell_type": "code",
   "execution_count": 407,
   "metadata": {},
   "outputs": [],
   "source": [
    "pca = PCA(n_components = 3 ) \n",
    " \n",
    " \n",
    " \n",
    "xs_data = pca.fit_transform(x_data) \n",
    " "
   ]
  },
  {
   "cell_type": "code",
   "execution_count": 408,
   "metadata": {},
   "outputs": [],
   "source": [
    "\n",
    "y_new = y.replace([class_no],0)\n"
   ]
  },
  {
   "cell_type": "code",
   "execution_count": 409,
   "metadata": {},
   "outputs": [],
   "source": [
    "y = y_new"
   ]
  },
  {
   "cell_type": "code",
   "execution_count": 410,
   "metadata": {},
   "outputs": [],
   "source": [
    "\n",
    "x_train, x_test, y_train, y_test = train_test_split(xs_data, y, train_size = 0.8)\n",
    "\n",
    "x_traindf = pd.DataFrame(x_train)\n",
    "x_testdf = pd.DataFrame(x_test)\n",
    "y_traindf = pd.DataFrame(y_train)\n",
    "y_testdf = pd.DataFrame(y_test)\n",
    "\n",
    "x_test =np.array(x_test)\n",
    "x_train = np.array(x_train)\n",
    "y_train = np.array(y_train)\n",
    "y_test = np.array(y_test)\n",
    "\n",
    "\n",
    "#y_test=y_test.transpose()[0]\n",
    "ylist = []\n",
    "y_train = y_train.transpose()\n",
    "for i in range(len(y_train)):\n",
    "    \n",
    "    ylist.append(y_train[i])\n",
    "\n",
    "\n",
    "y_train = np.array(ylist,requires_grad=False)\n",
    "y_train=y_train[0]\n",
    "\n",
    "ylist = []\n",
    "y_test = y_test.transpose()\n",
    "for i in range(len(y_test)):\n",
    "    \n",
    "    ylist.append(y_test[i])\n",
    "\n",
    "\n",
    "y_test = np.array(ylist,requires_grad=False)\n",
    "y_test=y_test[0]\n",
    "xlist = []\n",
    "\n",
    "for i in range(len(x_train)):\n",
    "    \n",
    "    xlist.append(x_train[i])\n",
    "\n",
    "\n",
    "x_train = np.array(xlist,requires_grad=False)\n",
    "\n",
    "X_train = x_train\n",
    "X_test =x_test\n"
   ]
  },
  {
   "cell_type": "code",
   "execution_count": 411,
   "metadata": {},
   "outputs": [
    {
     "name": "stdout",
     "output_type": "stream",
     "text": [
      "[0 1 1 0 1 0 1 1 0 1 1 0 1 1 1 1 1 0 0 1 1 0 0 1 0 0 1 0 1 1 1 0 1 0 1 1 0\n",
      " 1 1 0 0 0 0 1 0 0 1 1 1 1 1 1 0 0 0 1 0 0 1 0 1 0 1 0 0 0 0 0 0 0 0 0 0 1\n",
      " 1 0 1 0 1 0 1 0 1 0 1 0 0 0 1 1 1 1 0 1 0 0 0 0 0 0 1 1 0 0 0 0 0 1 0 1 1\n",
      " 0 0 0 0 0 0 1 0 1 0 0 1 0 0 0 0 0 1 1 0 0 0 1 0 1 1 1 0 1 1 1 1 1 1 1 0 0\n",
      " 0 0 0 1 0 1 1 0 1 1 1 1 0 1 0 1 0 0 1 0 1 1 1 1 0 1 1 0 1 0 0 0 0 0 1 0 1\n",
      " 1 0 1 1 0 1 0 1 0 1 0 1 1 0 0 0 0 0 0 1 0 1 1 1 0 1 1 0 1 1 1 0 1 0 0 1 0\n",
      " 1 1 1 0 0 0 0 0 1 0 1 1 1 1 1 0 0 1 1 1 1 1 1 1 0 0 1 0 0 0 1 1 0 1 0 1 1\n",
      " 0 1 0 1 0 1 1 1 1 1 0 1 1 1 0 1 0 1 1 1 1 0 0 0 1 1 0 0 1 0 1 1 0 1 1 0 0\n",
      " 1 0 1 0 0 1 1 1 1 0 0 0 0 0 1 1 1 0 0 1 0 1 1 1 1 0 0 1 1 1 1 0 1 1 0 0 1\n",
      " 1 1 0 0 0 0 0 0 0 0 0 1 0 1 0 1 1 1 0 1 0 0 1 1 1 1 0 1 1 1 0 0 1 1 1 1 1\n",
      " 1 1 0 1 0 0 1 1 0 1 1 0 0 1 0 1 1 1 0 0 0 1 1 1 1 1 1 0 0 0 1 0 1 1]\n"
     ]
    }
   ],
   "source": [
    "print(y_test)"
   ]
  },
  {
   "cell_type": "code",
   "execution_count": 412,
   "metadata": {},
   "outputs": [
    {
     "name": "stdout",
     "output_type": "stream",
     "text": [
      "(404, 3)\n",
      "(404,)\n",
      "(1613, 3)\n",
      "(1613,)\n"
     ]
    }
   ],
   "source": [
    "\n",
    "print(X_test.shape)\n",
    "print(y_test.shape)\n",
    "print(x_train.shape)\n",
    "print(y_train.shape)"
   ]
  },
  {
   "cell_type": "code",
   "execution_count": 413,
   "metadata": {},
   "outputs": [
    {
     "name": "stdout",
     "output_type": "stream",
     "text": [
      "[[ 3.96567368 -3.31069978  1.47224897]\n",
      " [-5.55179294  2.47156538 -0.1472932 ]\n",
      " [ 6.68776087  5.18804244 -1.88602966]\n",
      " ...\n",
      " [ 6.39493535 -3.16310155  2.84734542]\n",
      " [ 0.66111018 -5.88244304  1.94833489]\n",
      " [ 4.90521391  2.49290129 -3.49152608]]\n"
     ]
    }
   ],
   "source": [
    "\n",
    "X_train = x_train\n",
    "X_test =x_test\n",
    "print(x_test)\n"
   ]
  },
  {
   "cell_type": "code",
   "execution_count": 414,
   "metadata": {},
   "outputs": [],
   "source": [
    "dev = qml.device(\"lightning.qubit\", wires=1)\n",
    "@qml.qnode(dev)\n",
    "def qcircuit(params, x, y):\n",
    "\n",
    "    for p in params:\n",
    "        qml.Rot(*x, wires=0)\n",
    "        qml.Rot(*p, wires=0)\n",
    "    return qml.expval(qml.Hermitian(y, wires=[0]))\n",
    "\n"
   ]
  },
  {
   "cell_type": "code",
   "execution_count": 415,
   "metadata": {},
   "outputs": [],
   "source": [
    "\n",
    "class Reuploader():\n",
    "    \n",
    "    num_layers =0\n",
    "    learning_rate=0\n",
    "    epochs=0 \n",
    "    batch_size=0\n",
    "    model = np.array\n",
    "    opt = 0\n",
    "    dev=0\n",
    "    params=0\n",
    "    state_labels =0\n",
    "    label_0 = [[1], [0]]\n",
    "    label_1 = [[0], [1]]\n",
    "    \n",
    "   \n",
    "\n",
    "    def __init__(self,dev,num_layers = 4, learning_rate = 0.6, epochs= 10, batch_size = 32, ):\n",
    "\n",
    "        self.num_layers = num_layers\n",
    "        self.learning_rate = learning_rate\n",
    "        self.epochs = epochs\n",
    "        self.batch_size = batch_size\n",
    "        self.opt = AdamOptimizer(learning_rate, beta1=0.9, beta2=0.999)\n",
    "        self.dev = dev \n",
    "        self.params = np.random.uniform(size=(num_layers, 3), requires_grad=True)\n",
    "        self.state_labels = np.array([self.label_0, self.label_1], requires_grad=False)\n",
    "        \n",
    "\n",
    "    \n",
    "    def density_matrix(self,state):\n",
    "        \"\"\"Calculates the density matrix representation of a state.\n",
    "\n",
    "        Args:\n",
    "            state (array[complex]): array representing a quantum state vector\n",
    "\n",
    "        Returns:\n",
    "            dm: (array[complex]): array representing the density matrix\n",
    "        \"\"\"\n",
    "        return state * np.conj(state).T\n",
    "\n",
    "\n",
    "\n",
    "\n",
    "\n",
    "\n",
    "    def cost(self, params, x, y, state_labels=None):\n",
    "        \"\"\"Cost function to be minimized.\n",
    "\n",
    "        Args:\n",
    "            params (array[float]): array of parameters\n",
    "            x (array[float]): 2-d array of input vectors\n",
    "            y (array[float]): 1-d array of targets\n",
    "            state_labels (array[float]): array of state representations for labels\n",
    "\n",
    "        Returns:\n",
    "            float: loss value to be minimized\n",
    "        \"\"\"\n",
    "        # Compute prediction for each input in data batch\n",
    "        loss = 0.0\n",
    "        dm_labels = [self.density_matrix(s) for s in state_labels]\n",
    "        for i in range(len(x)):\n",
    "            f = qcircuit(params, x[i], dm_labels[y[i]])\n",
    "            loss = loss + (1 - f) ** 2\n",
    "        return loss / len(x)\n",
    "\n",
    "    def test(self,params, x, y, state_labels=None):\n",
    "        \"\"\"\n",
    "        Tests on a given set of data.\n",
    "\n",
    "        Args:\n",
    "            params (array[float]): array of parameters\n",
    "            x (array[float]): 2-d array of input vectors\n",
    "            y (array[float]): 1-d array of targets\n",
    "            state_labels (array[float]): 1-d array of state representations for labels\n",
    "\n",
    "        Returns:\n",
    "            predicted (array([int]): predicted labels for test data\n",
    "            output_states (array[float]): output quantum states from the circuit\n",
    "        \"\"\"\n",
    "        fidelity_values = []\n",
    "        dm_labels = [self.density_matrix(s) for s in state_labels]\n",
    "        predicted = []\n",
    "\n",
    "        for i in range(len(x)):\n",
    "            fidel_function = lambda y: qcircuit(params, x[i], y)\n",
    "            fidelities = [fidel_function(dm) for dm in dm_labels]\n",
    "            best_fidel = np.argmax(fidelities)\n",
    "\n",
    "            predicted.append(best_fidel)\n",
    "            fidelity_values.append(fidelities)\n",
    "\n",
    "        return np.array(predicted), np.array(fidelity_values)\n",
    "\n",
    "\n",
    "    def accuracy_score(self,y_true, y_pred):\n",
    "        \"\"\"Accuracy score.\n",
    "\n",
    "        Args:\n",
    "            y_true (array[float]): 1-d array of targets\n",
    "            y_predicted (array[float]): 1-d array of predictions\n",
    "            state_labels (array[float]): 1-d array of state representations for labels\n",
    "\n",
    "        Returns:\n",
    "            score (float): the fraction of correctly classified samples\n",
    "        \"\"\"\n",
    "    \n",
    "        score = y_true == y_pred\n",
    "        return score.sum() / len(y_true)\n",
    "\n",
    "\n",
    "    def iterate_minibatches(self, inputs, targets, batch_size):\n",
    "        \"\"\"\n",
    "        A generator for batches of the input data\n",
    "\n",
    "        Args:\n",
    "            inputs (array[float]): input data\n",
    "            targets (array[float]): targets\n",
    "\n",
    "        Returns:\n",
    "            inputs (array[float]): one batch of input data of length `batch_size`\n",
    "            targets (array[float]): one batch of targets of length `batch_size`\n",
    "        \"\"\"\n",
    "        for start_idx in range(0, inputs.shape[0] - batch_size + 1, batch_size):\n",
    "            idxs = slice(start_idx, start_idx + batch_size)\n",
    "            yield inputs[idxs], targets[idxs]\n",
    "\n",
    "\n",
    "    def fit(self,X_train, y_train):\n",
    "\n",
    "        for it in range(self.epochs):\n",
    "            for Xbatch, ybatch in self.iterate_minibatches(X_train, y_train, batch_size=self.batch_size):\n",
    "                self.params, _, _, _ = self.opt.step(self.cost, self.params, Xbatch, ybatch, self.state_labels)\n",
    "\n",
    "            predicted_train, fidel_train = self.test(self.params, X_train, y_train, self.state_labels)\n",
    "            accuracy_train = self.accuracy_score(y_train, predicted_train)\n",
    "            loss = self.cost(self.params, X_train, y_train, self.state_labels)\n",
    "            \n",
    "\n",
    "            res = [it + 1, loss, accuracy_train]\n",
    "            print(\n",
    "                \"Epoch: {:2d} | Loss: {:3f} |  accuracy: {:3f} \".format(\n",
    "                    *res\n",
    "                )\n",
    "            )\n",
    "    def predict(self,X_test, y_test):\n",
    "\n",
    "        predicted_test, fidel_test = self.test(self.params, X_test, y_test, self.state_labels)\n",
    "\n",
    "        return predicted_test\n",
    "\n",
    "\n",
    "\n",
    "    \n",
    "\n",
    "    \n"
   ]
  },
  {
   "cell_type": "code",
   "execution_count": 416,
   "metadata": {},
   "outputs": [
    {
     "name": "stdout",
     "output_type": "stream",
     "text": [
      "Epoch:  1 | Loss: 0.332030 |  accuracy: 0.500930 \n",
      "Epoch:  2 | Loss: 0.320527 |  accuracy: 0.520769 \n",
      "Epoch:  3 | Loss: 0.308942 |  accuracy: 0.486671 \n",
      "Epoch:  4 | Loss: 0.313154 |  accuracy: 0.515809 \n",
      "Epoch:  5 | Loss: 0.310239 |  accuracy: 0.499070 \n",
      "Epoch:  6 | Loss: 0.301399 |  accuracy: 0.510229 \n",
      "Epoch:  7 | Loss: 0.307623 |  accuracy: 0.508989 \n",
      "Epoch:  8 | Loss: 0.309122 |  accuracy: 0.506510 \n",
      "Epoch:  9 | Loss: 0.324283 |  accuracy: 0.508369 \n",
      "Epoch: 10 | Loss: 0.304005 |  accuracy: 0.508369 \n"
     ]
    }
   ],
   "source": [
    "\n",
    "\n",
    "model = Reuploader( dev, num_layers=2)\n",
    "\n",
    "model.fit(X_train, y_train)\n"
   ]
  },
  {
   "cell_type": "code",
   "execution_count": 417,
   "metadata": {},
   "outputs": [],
   "source": [
    "y_pred = model.predict(x_test,y_test)"
   ]
  },
  {
   "cell_type": "code",
   "execution_count": 418,
   "metadata": {},
   "outputs": [
    {
     "data": {
      "application/vnd.plotly.v1+json": {
       "config": {
        "plotlyServerURL": "https://plot.ly"
       },
       "data": [
        {
         "hovertemplate": "x=%{x}<br>y=%{y}<br>z=%{z}<br>color=%{marker.color}<extra></extra>",
         "legendgroup": "",
         "marker": {
          "color": [
           0,
           1,
           1,
           0,
           1,
           0,
           1,
           1,
           0,
           1,
           1,
           0,
           1,
           1,
           1,
           1,
           1,
           0,
           0,
           1,
           1,
           0,
           0,
           1,
           0,
           0,
           1,
           0,
           1,
           1,
           1,
           0,
           1,
           0,
           1,
           1,
           0,
           1,
           1,
           0,
           0,
           0,
           0,
           1,
           0,
           0,
           1,
           1,
           1,
           1,
           1,
           1,
           0,
           0,
           0,
           1,
           0,
           0,
           1,
           0,
           1,
           0,
           1,
           0,
           0,
           0,
           0,
           0,
           0,
           0,
           0,
           0,
           0,
           1,
           1,
           0,
           1,
           0,
           1,
           0,
           1,
           0,
           1,
           0,
           1,
           0,
           0,
           0,
           1,
           1,
           1,
           1,
           0,
           1,
           0,
           0,
           0,
           0,
           0,
           0,
           1,
           1,
           0,
           0,
           0,
           0,
           0,
           1,
           0,
           1,
           1,
           0,
           0,
           0,
           0,
           0,
           0,
           1,
           0,
           1,
           0,
           0,
           1,
           0,
           0,
           0,
           0,
           0,
           1,
           1,
           0,
           0,
           0,
           1,
           0,
           1,
           1,
           1,
           0,
           1,
           1,
           1,
           1,
           1,
           1,
           1,
           0,
           0,
           0,
           0,
           0,
           1,
           0,
           1,
           1,
           0,
           1,
           1,
           1,
           1,
           0,
           1,
           0,
           1,
           0,
           0,
           1,
           0,
           1,
           1,
           1,
           1,
           0,
           1,
           1,
           0,
           1,
           0,
           0,
           0,
           0,
           0,
           1,
           0,
           1,
           1,
           0,
           1,
           1,
           0,
           1,
           0,
           1,
           0,
           1,
           0,
           1,
           1,
           0,
           0,
           0,
           0,
           0,
           0,
           1,
           0,
           1,
           1,
           1,
           0,
           1,
           1,
           0,
           1,
           1,
           1,
           0,
           1,
           0,
           0,
           1,
           0,
           1,
           1,
           1,
           0,
           0,
           0,
           0,
           0,
           1,
           0,
           1,
           1,
           1,
           1,
           1,
           0,
           0,
           1,
           1,
           1,
           1,
           1,
           1,
           1,
           0,
           0,
           1,
           0,
           0,
           0,
           1,
           1,
           0,
           1,
           0,
           1,
           1,
           0,
           1,
           0,
           1,
           0,
           1,
           1,
           1,
           1,
           1,
           0,
           1,
           1,
           1,
           0,
           1,
           0,
           1,
           1,
           1,
           1,
           0,
           0,
           0,
           1,
           1,
           0,
           0,
           1,
           0,
           1,
           1,
           0,
           1,
           1,
           0,
           0,
           1,
           0,
           1,
           0,
           0,
           1,
           1,
           1,
           1,
           0,
           0,
           0,
           0,
           0,
           1,
           1,
           1,
           0,
           0,
           1,
           0,
           1,
           1,
           1,
           1,
           0,
           0,
           1,
           1,
           1,
           1,
           0,
           1,
           1,
           0,
           0,
           1,
           1,
           1,
           0,
           0,
           0,
           0,
           0,
           0,
           0,
           0,
           0,
           1,
           0,
           1,
           0,
           1,
           1,
           1,
           0,
           1,
           0,
           0,
           1,
           1,
           1,
           1,
           0,
           1,
           1,
           1,
           0,
           0,
           1,
           1,
           1,
           1,
           1,
           1,
           1,
           0,
           1,
           0,
           0,
           1,
           1,
           0,
           1,
           1,
           0,
           0,
           1,
           0,
           1,
           1,
           1,
           0,
           0,
           0,
           1,
           1,
           1,
           1,
           1,
           1,
           0,
           0,
           0,
           1,
           0,
           1,
           1
          ],
          "coloraxis": "coloraxis",
          "symbol": "circle"
         },
         "mode": "markers",
         "name": "",
         "scene": "scene",
         "showlegend": false,
         "type": "scatter3d",
         "x": [
          3.9656736814240294,
          -5.5517929394341605,
          6.68776086674939,
          0.5165362470470959,
          -1.5596724130535877,
          4.972550123670571,
          -6.232714128525154,
          -0.8072380215033506,
          0.9499576013169186,
          9.492600911165113,
          -2.99697496465625,
          -2.2598916225322085,
          6.809141957770477,
          -2.4008166670617874,
          -4.487778515165683,
          -3.564672164484353,
          1.821860641677875,
          2.6083563696508514,
          5.05782548925524,
          -0.9944715878838817,
          2.4044148508820733,
          4.253293958240879,
          5.694606726172606,
          -3.5077609849501292,
          1.0501808737190241,
          0.5733286535866731,
          -0.03213211722131105,
          4.2956173382052745,
          3.6520552698662416,
          2.6018644364635652,
          1.1430602469190294,
          -3.4832137709935904,
          -1.4083618091883023,
          0.8327370226067352,
          -6.572295788329131,
          -5.3080367041636665,
          8.985192617402584,
          4.255884024776311,
          4.522489502335722,
          -6.011055642065317,
          -5.440985775537714,
          7.535164303740893,
          4.50220215657965,
          -6.132016438166981,
          -3.8095696189193764,
          1.3635817836883093,
          0.4612415764085352,
          3.3619791254674776,
          0.3789815661095938,
          3.529745025522083,
          -7.135836961906808,
          -2.1062350789059145,
          0.39262244607905933,
          -3.1598988202367995,
          8.013335482773448,
          6.734525241914259,
          -0.495794456435977,
          2.312205234643183,
          -7.4453281261764745,
          7.218237132269712,
          1.5759095071683231,
          6.998315112054041,
          6.59459239132662,
          4.648736694597558,
          -4.605196460007229,
          3.892003118666156,
          1.3625955789258593,
          8.594919509308816,
          -6.849168546524536,
          -1.6474357917810714,
          -0.9856304345476442,
          4.826131273653971,
          1.4790435360659557,
          -2.393200156423395,
          5.512927013235647,
          0.7367637043070079,
          -0.8962391701277722,
          6.746584373872402,
          4.286756185780559,
          4.367115468505881,
          0.8366407392564068,
          4.769862873102657,
          -1.4907527428279432,
          -0.9178032362067795,
          7.844827108292685,
          7.284613064155981,
          8.574735639321187,
          -6.394849948073911,
          -4.4510635947819335,
          -7.256991092049106,
          1.9987134497734762,
          1.22176173419113,
          -1.6004722868585641,
          4.347408091113051,
          2.661877268423012,
          -6.284305799056836,
          3.4551110878330658,
          0.15621298784895815,
          7.075523786417844,
          -2.2138722106767763,
          1.8521053084829562,
          -2.833561850313176,
          3.759716947404285,
          -0.3360778270327388,
          -5.5855200576481145,
          2.5981175122486775,
          -6.420765287281618,
          -3.2668663712355026,
          -1.3613125490137497,
          -5.17780858168301,
          -6.137385632549194,
          0.5064480531673754,
          -2.475599382143989,
          4.369724073874692,
          -6.56987435820378,
          6.121963904529976,
          -4.392361443468309,
          1.2827956114491645,
          7.625067029219154,
          -3.827067575226624,
          8.832619152421668,
          -6.6530580507920885,
          -6.081290454260132,
          -5.341035134865796,
          -0.5320364379319211,
          0.95791838367645,
          -2.6460413429588354,
          0.6889956057103812,
          6.130486823857481,
          -7.072071547621341,
          6.9529102590635725,
          1.6802252292076802,
          1.1207167528619308,
          -2.4409959991729373,
          2.396816692227452,
          -6.1361114037571864,
          2.5871699391420213,
          4.111753264586642,
          -4.508400906816787,
          0.10658131197084697,
          5.966746971539194,
          -5.138805476153507,
          -3.7465433015758376,
          3.331217436652684,
          8.397255860519893,
          1.6761758460686598,
          -6.234484332155434,
          -3.774717092619199,
          1.9242349974476558,
          -5.7181127027562395,
          6.93703300012437,
          3.301714409969985,
          -0.3803968688782169,
          -0.4535328684081442,
          -5.070351511931833,
          -2.3201557714020327,
          -2.7721465523065265,
          3.026863406684496,
          -6.2419390968111355,
          4.442210988880567,
          2.035081948032831,
          -6.941181260441204,
          6.289671756297102,
          3.019939563501273,
          -4.306039358144579,
          5.838988530126791,
          1.091755622163547,
          4.3397973332741495,
          3.84544505452326,
          2.8190831501859854,
          -4.7018565117790505,
          -1.0075859694583051,
          -5.565002890555519,
          4.920289319911795,
          -4.268454547910402,
          5.93280437344337,
          -0.10703581049958263,
          -0.371051423033105,
          -3.5928759468623843,
          -2.2163588028516745,
          0.6274297512009724,
          -5.829331713198807,
          6.9763122153887345,
          -1.4307654809547061,
          4.058385739138683,
          2.446196208346952,
          1.014906533874973,
          -6.528149755144639,
          7.016287852645483,
          5.217959536885636,
          -7.244681823513475,
          0.6195633695270343,
          -0.5128894732754222,
          5.26427554297757,
          -5.331971062841406,
          -1.9102870631554634,
          8.951016580504318,
          -5.946639571684706,
          3.1514389040001864,
          2.7768720039595722,
          -2.6937886994819875,
          4.628424507711032,
          7.247853090759754,
          2.8003639550241135,
          -4.008432832298981,
          -4.320416961429239,
          0.12443231730286397,
          -4.77615220958908,
          -6.104081007667648,
          6.567656398354147,
          -3.9063453770278977,
          0.09170506687521629,
          -0.4162633806238166,
          -1.4719697681240553,
          0.3748487246503707,
          1.709932919433794,
          -5.6916774111767365,
          -3.2582848749239948,
          0.8614720752171414,
          0.009034731655954791,
          -0.47261341584074235,
          5.711575569427601,
          -6.299204283246334,
          -3.247867146083566,
          -5.698877572172456,
          5.198419944262178,
          -5.855686670225573,
          -6.273518520445829,
          -3.9378675317358915,
          1.9633572175069525,
          2.948661415245559,
          -6.955240739523404,
          -3.961035243372525,
          0.10809520267684454,
          2.6174340656036232,
          1.8717795032545281,
          -0.419924046988076,
          4.971544463099156,
          3.0234594226321994,
          -2.255972573177621,
          7.51846893172724,
          3.818914837888775,
          -2.894074791667501,
          -6.777107843188936,
          1.3307786928078926,
          0.19053648201613915,
          -4.551879954669742,
          -1.4961113906411745,
          -7.0551242722276335,
          2.733731966321695,
          0.09483147846507689,
          -6.0920631755459285,
          -0.4536031276069407,
          -0.9120774721145479,
          -6.590263582705573,
          -6.527641865001269,
          -7.232586091534334,
          -6.130945000391438,
          4.71361332957934,
          2.9524456587802503,
          -3.825351253353931,
          3.6490288705976752,
          6.6236384933109616,
          -5.808879969604677,
          -3.510684954026371,
          -1.0592722192059958,
          -0.605514856443636,
          6.471328085092203,
          -1.8407743070036053,
          -2.039279120262304,
          3.5744824356179947,
          3.0849961827070236,
          -4.944927961610429,
          0.7715731779380314,
          7.292964986821114,
          -0.4972080949299846,
          1.0406146778649294,
          -0.052347994317024076,
          -1.1820156321478823,
          1.6184743671939472,
          1.8472211548030828,
          2.132945277088603,
          -1.3933807259805557,
          -0.7568957080427444,
          2.1848165816499314,
          -1.3217092121579601,
          -0.961174796106354,
          7.2611933035295015,
          2.9926105937820173,
          2.5899430893936684,
          -5.304467968647458,
          1.7496991496597165,
          5.3637026518579125,
          -0.04126648023766285,
          -7.029442020212461,
          -3.022062751657181,
          6.407636332351108,
          -4.005630816167015,
          -0.42776908345153375,
          -3.5889367827761576,
          0.9250005409557759,
          -1.418592656439802,
          -4.6965375271311665,
          -1.0590650815961404,
          1.0768319806793845,
          -5.776503134316031,
          0.7802526820336079,
          -3.1085335481038383,
          -4.3385600581232735,
          -5.278893663960864,
          7.177610026236637,
          -7.848468655778474,
          4.1363633322156,
          5.504180813647925,
          5.272216564317732,
          -0.7427415956957483,
          5.413329620188677,
          5.735878043669804,
          -0.9738331486239443,
          -5.819846473166542,
          8.620839382274033,
          0.2662852064918837,
          -1.8419455789312968,
          -3.0123067877563154,
          4.045191156918947,
          -6.523399033985281,
          -5.84587634825219,
          7.070231673629358,
          1.4709433253731232,
          -4.2236491468123365,
          8.115966687122215,
          -3.63409854347924,
          -4.236966934748565,
          -7.366588298086167,
          -1.9974044075874897,
          6.791615572165819,
          -1.2862268148558826,
          2.680380665384111,
          -1.6431223207993202,
          -4.757245312836285,
          -2.419556963590488,
          -4.184075079411657,
          -4.904546531229709,
          0.47243140704558995,
          -0.5591532485828495,
          8.09664112547297,
          -0.35575474446147365,
          -1.2906821477247283,
          0.1366248526312065,
          3.317532850735335,
          -0.906303524950597,
          0.4386584728918747,
          5.129457866232684,
          3.1211584980461935,
          -5.245374000057831,
          -5.814722916332113,
          6.501390860182107,
          -2.903064961557728,
          -5.619051715243001,
          1.4493141784501071,
          0.9304532312847099,
          -7.238155425857963,
          -2.076623977205213,
          -1.069703587073906,
          -3.226362917434363,
          -4.725060183378911,
          3.0944205278531594,
          5.129687862132644,
          0.8091056844335832,
          5.365257657315671,
          -4.327315931262832,
          -3.6773590831620706,
          -6.685378963723751,
          1.8840804642622073,
          5.904578158800358,
          -1.714225900482045,
          -3.8773173655476896,
          -2.802384789258261,
          -6.713794185329019,
          -1.9295704308971409,
          -0.08948443887991292,
          -5.8694663998294265,
          -1.0912019311456314,
          3.907127017874565,
          -1.848190402098392,
          7.52643807224355,
          -5.52960071208892,
          5.514981041567128,
          -5.050907219938864,
          -2.611047588730541,
          0.6040261434088956,
          4.7627805803907926,
          2.1648553538917326,
          2.3868648664418406,
          3.056658908204565,
          -6.206312451697496,
          1.2199844466981538,
          4.77044890618325,
          4.9114247128714075,
          3.1822572870988566,
          -5.53479141528676,
          6.394935345487679,
          0.6611101820429847,
          4.905213910727297
         ],
         "y": [
          -3.3106997756454777,
          2.471565381880241,
          5.1880424422827485,
          4.917941526740074,
          -4.977259169503069,
          1.0975778198884771,
          1.218381778941,
          -4.652265685840128,
          5.1285391444151065,
          2.0195700083455663,
          -0.9810005499510017,
          -1.1858355152308848,
          2.349707160382813,
          -4.941403878400937,
          4.784438500131286,
          -1.3874846575945898,
          0.29649986044534193,
          6.252996166681427,
          3.0087357255278775,
          -5.947573129429882,
          -3.92725343126418,
          -3.028100390352521,
          2.6684401030062492,
          -3.35462503638377,
          -0.41955104033746893,
          -6.110537880867687,
          5.989937992224073,
          1.0347667519930777,
          -5.016798165026853,
          -2.998321995286056,
          -5.0773666409415945,
          -1.890103611871566,
          0.03355560254404084,
          -6.009386128782078,
          0.34771726501308875,
          -3.5300726989268134,
          -2.422583194951656,
          2.796108799079515,
          -0.07248082224916924,
          0.40885333343986646,
          2.486081634580564,
          3.3172975727831586,
          -3.013523764782179,
          -1.484820486314099,
          4.587005393981478,
          0.4996074998664628,
          6.464200994318604,
          -0.8093270426156481,
          2.242103245206156,
          -4.608201758259806,
          -2.314313152412119,
          4.1866473762084455,
          -5.853603562154204,
          -1.940557735712303,
          2.1940189927869382,
          2.7785858396044176,
          -0.9107446755559346,
          -5.438941490890076,
          -1.7692277570110921,
          -2.346607288570171,
          4.456173868424977,
          -2.1839473542505377,
          2.761327658810309,
          -1.0220627120809944,
          4.748680816511896,
          -3.7054153713517035,
          0.19462830166039893,
          2.3148396892650704,
          -1.0379387517795708,
          -0.7848553478110886,
          -5.7239937945295845,
          -3.629949304306828,
          0.264815824343349,
          0.8819908543543126,
          -3.7723992466796323,
          -3.5656122662541443,
          -5.423846824185196,
          3.0304612573877785,
          1.926803457564504,
          1.3735451550751714,
          -4.108290463164094,
          -2.2609655694296626,
          2.6155532511299158,
          -1.0074902005619206,
          -2.6777905427967714,
          -2.202464807672447,
          5.1536599688609,
          2.085048398725489,
          3.158502749655099,
          -1.522243461188681,
          -4.429805066461291,
          3.6674924851086854,
          -2.7129945495006833,
          -0.14314765144827202,
          -4.479129577500117,
          0.1018316224266826,
          5.1162660673375,
          5.496530776707181,
          -1.9699112879222171,
          -1.8092850246575762,
          0.9616860706671945,
          -2.579591661467413,
          3.5543336425255574,
          4.15618652392014,
          2.0534443440026697,
          -2.896696958042813,
          -0.25062537216289144,
          4.703060518179791,
          5.096016587466489,
          2.1189806454074884,
          1.7193390130381998,
          5.844622212327297,
          5.623636010190012,
          -3.783171641048108,
          0.02327693657825145,
          -1.136653462782048,
          2.5832896632174216,
          2.791267845714356,
          3.0142395563121704,
          4.34428039984735,
          5.807403449246256,
          0.8824078056510382,
          0.6419236285022062,
          1.8160571406490071,
          -1.8043287589952408,
          6.959240100719564,
          -4.659744999400069,
          2.2715552984797194,
          -2.671654520944972,
          -0.03473868291112731,
          1.8165242189910211,
          1.1215926046572862,
          -5.965505769811789,
          5.825084618548901,
          1.729287044152183,
          0.5419681492653129,
          -4.082535467261448,
          -0.11606180349994566,
          -1.3035816835895555,
          -1.14086902739395,
          1.1887184997295228,
          0.13712879571005251,
          4.755982038612792,
          -5.237198866899171,
          3.623625520652763,
          1.6750482045704709,
          0.31076146119252307,
          -4.2933038068092735,
          -5.671119306835711,
          1.8628845870538466,
          3.1042708345086103,
          -4.686775999678279,
          -3.9558903896063184,
          -4.374398998955724,
          3.1283277304981407,
          -2.0092043826365606,
          -3.2958054633424343,
          -4.713759573195561,
          0.903642496184067,
          0.13706544891746913,
          -5.163474027013449,
          0.3978076750664046,
          3.3256086588523273,
          1.3843177653929177,
          -3.697585294599857,
          -2.2804605122026227,
          -5.25934386338875,
          -4.457793150900905,
          2.2388479430302053,
          -4.511612697256899,
          0.24030881844892601,
          6.699994460663882,
          1.9054560933629452,
          -2.2675722813640724,
          -1.4502556817875525,
          -3.227296930857969,
          -0.5219832543498326,
          -2.9696905764509514,
          -4.451616231764638,
          -2.961216763232053,
          -4.048132587910933,
          2.9393112239880756,
          3.0046223717504907,
          7.130488057800291,
          -3.9756353050082964,
          6.121388137318441,
          2.407627840647171,
          -0.25349513670776735,
          -1.5939552865863638,
          -0.4217296413205102,
          -0.23938057508950852,
          1.0046602806012739,
          -3.034511747410599,
          3.292111485924842,
          3.519341058053292,
          6.061045201089446,
          3.4276731395623665,
          0.30931886705649136,
          5.138155180244787,
          -3.1420755509265494,
          -3.278717705581643,
          -0.6942089179369452,
          2.915163257641924,
          -3.158250024079845,
          3.792337136116686,
          4.632634016125034,
          6.25462178958167,
          3.1860039744997684,
          0.6385445654327336,
          -0.8118553429980111,
          4.998602515518412,
          4.341558608427756,
          -5.245291371445144,
          -5.124410466587167,
          0.3468972944129107,
          -3.0293954603762696,
          2.03238838833725,
          -3.3308025670108785,
          -5.22487691737636,
          -4.699955318864831,
          -4.57942865373567,
          -0.9095252130131947,
          -0.2719461578487543,
          -2.7948801605893316,
          1.0167773738842412,
          0.67142350616312,
          1.231150488757552,
          -0.13570587600073988,
          -4.180464810010613,
          -4.399580975654056,
          -5.536381900976213,
          0.20115984096827513,
          -4.256619257580074,
          -3.8976560950848014,
          -5.694550074909388,
          -1.2939792256739215,
          -3.6103995904456037,
          -4.375545944482893,
          -5.014341596615132,
          -1.5668485923413902,
          1.8125968578402658,
          -3.402343788330927,
          -0.1343961404813567,
          -0.7891839677802047,
          1.00875434141002,
          -5.222303675185284,
          3.183709304088915,
          -5.309619572714915,
          0.27671736443986095,
          -1.4165992854033178,
          1.8932524577735321,
          -3.900267697129227,
          -4.2748499248519,
          -5.1786023534431544,
          -0.1250827206878197,
          0.2398482165525455,
          -2.515062231783238,
          0.8039364776535766,
          0.5308316914220125,
          2.339300119720639,
          -4.54961909444338,
          1.7699883638708616,
          4.511989372380631,
          0.04330865077576069,
          2.365313309689063,
          -0.4201806886154988,
          3.3358216924856947,
          2.9001457612497785,
          2.3416729973018398,
          3.1285530254171747,
          -1.415121199916718,
          -5.182084478696072,
          1.4313657732346001,
          -2.906674164168623,
          2.0915376796393654,
          -1.2632480370008503,
          -5.052938413038004,
          -5.52197458429219,
          -5.582344159391939,
          -0.3941035876993264,
          -5.402727018695541,
          4.207545423307107,
          3.3524294847789515,
          -5.724419045569647,
          -4.2353653119633945,
          5.071180928432545,
          -4.929783322394794,
          0.6951465298721446,
          -4.561939927771503,
          2.3537832808338948,
          0.5472431111423711,
          -5.765994772693126,
          3.8246603512362696,
          0.22995001783080882,
          0.7177547473417065,
          4.400300991074658,
          0.2264918746680116,
          -1.6024881026726217,
          -4.722821626227401,
          -4.612277211093812,
          -4.950236952931438,
          -4.950765476227708,
          4.880700561201208,
          0.692401452446804,
          -1.776038720650036,
          1.8149886292222688,
          -4.665069490461076,
          -4.903375824766782,
          3.5121890645737084,
          -3.856457334655436,
          -3.11522081672849,
          -3.2225759184150555,
          0.750091923302083,
          2.9342787722298067,
          -2.2692466816652064,
          -0.25812717108598887,
          2.6622410629094895,
          -2.2584616997943785,
          -4.8634835900247495,
          0.7430407464279195,
          -0.6448107001703381,
          0.5335115749575505,
          -1.5316883459520474,
          -3.499017827484054,
          -3.251378316901504,
          0.050028927536522355,
          1.4365131791922283,
          2.8714024758802377,
          -5.147122434615922,
          -1.348556239456088,
          3.9156470127056373,
          -4.4620089891972095,
          4.6950767614620945,
          -1.5108255103724093,
          4.992068038013248,
          -1.4065317444927883,
          -3.9826138389948693,
          -4.248087074561131,
          5.317375570484288,
          -0.9529291115583169,
          4.9533445811812955,
          3.6439405014900808,
          -3.943115171956477,
          -4.974560291909803,
          0.8968496144318702,
          -1.715940549770096,
          5.098842580619705,
          -1.1571566263798676,
          -4.964254311092363,
          -4.453745063511259,
          -5.599903851967823,
          -5.813315937375844,
          0.48738617095119896,
          -0.5718349443254189,
          1.0119707706165888,
          1.3213559808055853,
          -0.5557206528113463,
          -0.2573741657744375,
          2.0134052005524685,
          -5.530734959698907,
          -5.926842894195562,
          -2.7461839671413624,
          -3.9677381936477487,
          -4.954776275204939,
          -3.3112147817823443,
          2.9551498751156102,
          -2.814257182205435,
          3.078775487286546,
          3.506194964131375,
          2.2552988091333126,
          2.019896794335188,
          4.202720741475909,
          0.18323541295002313,
          5.805651084770785,
          -2.4886472041294136,
          -3.36436971430995,
          4.3396707729144435,
          -4.655383233760825,
          -0.9499943175753088,
          -0.8912851611665326,
          5.243201952706365,
          -1.222011420107349,
          2.8362823735384124,
          -3.795440702008802,
          0.05883576887191507,
          1.6929703636210376,
          1.1711427712207867,
          7.357174509491355,
          0.22095730245155254,
          0.5092113802126098,
          0.5349410139755206,
          -2.818440319510738,
          -3.190750950305842,
          -4.357555391349571,
          -3.150047064790355,
          0.9409074207113898,
          -5.4435594506319775,
          -1.449619560042219,
          1.8514512377648924,
          -0.22005030015837812,
          2.7136564904415144,
          -3.163101550869408,
          -5.88244304372105,
          2.4929012857088395
         ],
         "z": [
          1.4722489690510685,
          -0.14729320172230634,
          -1.886029663001152,
          -0.7691869017971518,
          0.2536750223948029,
          -2.132377352609536,
          -1.3551188596577832,
          1.0587129189514046,
          -0.03548155081925577,
          -1.559627524604471,
          -1.6183600748734843,
          -2.9631857137032145,
          -2.1743009598672476,
          0.624091685103967,
          1.6373281129614543,
          -3.000574384325011,
          1.1357392986256478,
          0.2665079952592612,
          -2.451025979614644,
          0.8230123452412743,
          2.169597391747566,
          1.6497943084540574,
          -3.0660130043724894,
          -1.567117695065192,
          -1.4140314079030452,
          1.689120359745718,
          0.27349691513853575,
          -2.4971222939963567,
          3.8391994314452806,
          -0.2803755513594255,
          1.6260631177848004,
          -3.200789846603023,
          -0.6691597464650287,
          2.0778217045137426,
          -0.7261243403652818,
          -2.137649313339438,
          1.7847377425698059,
          -2.5825392182688978,
          -0.9424382129594164,
          -1.0526403178035604,
          1.2720202423744316,
          -1.9055769965107894,
          1.1337494964578587,
          -1.08436766553824,
          1.4714323648220333,
          -3.182560435778363,
          0.25019391258011203,
          -1.64700908953366,
          2.913755137041582,
          1.248880730290255,
          -2.307319398388402,
          -1.5601360908417448,
          1.896212386681736,
          -2.527446590298879,
          -2.1791692414246917,
          -2.570823686816544,
          -2.0857371715700044,
          3.2717332430769597,
          -1.941487419152553,
          1.4992500413820737,
          3.8840557559279283,
          1.4658536517940182,
          -2.4524644074937525,
          -3.576179811490634,
          2.5418699540754615,
          0.9458290803329059,
          -1.3216949420947168,
          -1.854273297642563,
          -1.4142104618583442,
          -2.3557706259845053,
          1.0125540922541696,
          0.7926257640187584,
          -2.890491138132134,
          -2.6399410329720108,
          1.760389532478404,
          0.2778137906036649,
          1.304191026154766,
          -2.870038642692483,
          -3.0114527670977855,
          -2.3402267199938005,
          1.1360005681292693,
          0.27181135430068054,
          2.717125602141912,
          -1.6651425933345405,
          2.147768873508347,
          1.4917421379214466,
          0.454711393525216,
          -0.005525799029030714,
          1.497192791414035,
          -0.9827284185630513,
          0.7640952959201627,
          0.0970075526897229,
          -0.8859632489511966,
          -0.45740117400404107,
          2.2986736694405567,
          -0.8289146038759126,
          -0.5120993043296731,
          5.371469242064109,
          1.2144778213854357,
          -1.8116930420095305,
          -1.0805047826952425,
          -2.82586753423578,
          -3.3542254583258404,
          4.648267211828637,
          0.7407624241240565,
          0.29083685341099363,
          -1.1503087301170398,
          3.299727324254465,
          -0.13444829363530472,
          0.9768831230539446,
          -0.9478209537444946,
          0.2653877891782863,
          -0.08735042706026855,
          1.9488011541523127,
          -0.9751269108979127,
          1.0325488668405294,
          1.5913339014959667,
          -0.20206277260718558,
          -1.968119040152484,
          2.2706930245574495,
          -1.8181566641128684,
          -0.7830085334720959,
          -1.082561872560737,
          -0.09507780657481699,
          -2.7522216881807187,
          -0.2991552025843005,
          1.0096744430860816,
          -3.9218318718000664,
          0.8401544697999083,
          -2.221706174625877,
          -1.4460643212532474,
          -1.7858077629877602,
          2.482816741381257,
          4.783185954883323,
          -3.929262883418048,
          -1.1094820203463835,
          2.904898720762067,
          -1.4160053915455209,
          0.6146676796809964,
          -1.4374916304029686,
          -0.25264909287699633,
          -1.1354238718170773,
          2.673727015195272,
          2.0659243060880037,
          -0.8771281275947738,
          -0.1552321438616499,
          -1.2614679339844643,
          -0.800045570495708,
          2.841067573977069,
          -1.1765358716119716,
          -0.5507479466639456,
          1.760803348673322,
          1.0314815411675209,
          0.7694652762986243,
          -0.35645262236616604,
          -1.2292754564385466,
          -2.0638505408895753,
          1.9976201485626253,
          -1.016438309643157,
          -1.4399228506286155,
          2.2544798805299173,
          -0.6994436230372454,
          -1.8820854028064322,
          -2.907720512805415,
          -2.2026591594374634,
          0.47363913767774285,
          2.9319662850668595,
          2.8797857121023354,
          -3.7921434233848466,
          2.8650985835074887,
          -0.5728146055552295,
          5.024654083548478,
          0.7075115948743739,
          0.37335666850448473,
          -3.0663097239807846,
          2.0130734300050155,
          -2.2886855912944712,
          -0.9376614649643327,
          0.08534521121088971,
          -0.5351605715832999,
          2.822065676748829,
          -0.3506607162430548,
          -3.1088858497944707,
          4.625723241659141,
          2.9079015316469077,
          -0.39629991955058724,
          5.408925719946299,
          -2.2507459777242245,
          1.3256131383165752,
          -0.9281503583425492,
          -1.3336831012566084,
          -2.2787424826011176,
          -0.7107810322768032,
          -2.189138197888984,
          0.9734766711860551,
          4.022594043854644,
          -2.6378925684243986,
          -1.186330388567172,
          0.2110869883832449,
          -1.059313807107077,
          -1.3563149682921396,
          -0.7101154234410799,
          -2.2497076663797895,
          -0.030614992077619203,
          0.4939442524914692,
          -0.008070919509866398,
          -0.3918209842511972,
          -0.7113438537973144,
          -0.872296025881671,
          -0.1591815693109765,
          3.4997967088972812,
          4.427354780739611,
          1.5363736157988443,
          1.5921766485320303,
          -2.4513678009773865,
          2.6581534137002323,
          0.6422305367216895,
          -1.6996304916885607,
          2.58280249796534,
          1.2692859498538187,
          0.5610956576938876,
          -0.2582078231892454,
          -1.505406749552333,
          -1.9723878394281498,
          -1.8397871820802791,
          -2.1878470108833343,
          -1.4036935342172665,
          -1.7826748536395247,
          0.4184990085592438,
          0.6543617952035158,
          3.4892701420786247,
          -1.1332836551440748,
          0.37272266719428704,
          1.4407708300306714,
          1.6792260828623067,
          -1.4555066260822713,
          2.788087800090676,
          2.6153755104048675,
          3.9686294076439443,
          -3.3266691722605874,
          -1.935642217747657,
          0.47654327433135174,
          -3.689032299423636,
          -1.8612113357809048,
          -3.325743879124766,
          1.6166023335077586,
          -0.9477854245320909,
          -0.007799972495458067,
          -0.743250001120738,
          -0.8621858826441269,
          -1.6124823015151666,
          -1.8275774673511849,
          -2.956922133376495,
          0.6966188078285374,
          -1.1631467224396355,
          -1.0983288481331959,
          -2.783077029327483,
          0.20149843800617886,
          -1.5885406135980153,
          -3.502991187537975,
          0.44578001551573293,
          -0.6187724016771614,
          -2.5054502587961887,
          -0.46421296642344473,
          2.556355326512072,
          -2.8869978573430637,
          -1.499467315791615,
          -2.6350151173003615,
          -0.4054238213073898,
          2.9613568725010797,
          2.959837913935782,
          4.181695478585798,
          -0.6570084699031019,
          -0.6819082296371625,
          -0.59443303732982,
          -2.014450083842762,
          1.824822533103904,
          1.5211001998622564,
          1.4590898710637998,
          -0.9026424991370579,
          1.3703675338850692,
          -0.3382162477727352,
          2.906252644049449,
          1.0180427835350958,
          2.698256113181084,
          -0.0802689438781839,
          2.5417976484343896,
          0.6799093670840102,
          2.819870512598156,
          -2.8172087740533818,
          -0.5895478015663905,
          2.207565453362561,
          -2.7058612319725506,
          -0.7499329317165234,
          -1.943156647298965,
          -1.7385972763504782,
          -0.5626225544674754,
          -2.8448161215677596,
          0.2961371296247579,
          0.5711265955977206,
          1.8082414935697864,
          2.067360757369058,
          2.045322842041999,
          -2.777005979429091,
          -1.7802124497048724,
          -0.2145186798019344,
          1.196534537691692,
          0.060653890889937445,
          1.5494231757760306,
          -1.8983701488948161,
          2.109713612525676,
          -2.191780615466392,
          -0.7192213900278069,
          -3.077934725673539,
          0.40813446723685776,
          -1.5488328282277637,
          -1.6996224656833239,
          1.4754435459126434,
          2.352863583268538,
          -1.1499988271871162,
          1.7605871690790795,
          -2.610534890335488,
          -1.768898241771682,
          -1.3253399821487388,
          1.7546067824542744,
          -1.0459653347220963,
          -0.43749860596643386,
          -3.3064308656827084,
          2.1686436135453957,
          -3.234182476179925,
          -2.2304151924383113,
          0.9911117668249912,
          3.045315082530992,
          -1.8934439673380354,
          3.8763652215158393,
          0.9315600423379066,
          -1.0569273319513528,
          2.8337594276493916,
          4.305248036450231,
          -0.31437767563784896,
          3.484191039824746,
          0.09198811304745705,
          -2.0130105321791456,
          1.0842079663625,
          -3.1975512153672527,
          1.7301938137846764,
          4.856307615015587,
          -2.5092942919957104,
          0.8912465181746052,
          3.1790118270658594,
          0.5906191718197689,
          1.814991533261444,
          -2.571493141672399,
          -1.165054629309858,
          1.1375760109981234,
          -0.37296190145589303,
          0.6093016719541412,
          -2.17370125737427,
          0.03954038747296278,
          3.0886172173893676,
          2.025899979031524,
          -2.5356944480296724,
          -0.9801643576757872,
          2.4869834333498106,
          -1.6161776093619242,
          1.5443752340072994,
          -0.10801421923221101,
          -3.5126340542954124,
          3.9287394585757025,
          -2.811937265778753,
          -0.5723900485332244,
          3.2534029654530814,
          -1.2363787712032732,
          0.2456220901724372,
          1.115542728484556,
          -0.15649364600235235,
          3.347834190399329,
          0.033002227264785626,
          -1.3722631846627307,
          0.3493012554251436,
          4.5664758979182345,
          -0.6302362386538033,
          2.076085929002865,
          1.2031433646379062,
          -1.1063101758798806,
          -0.43977609802815837,
          -1.1328147904447283,
          1.269196690558514,
          -0.3615266065473906,
          0.7389803092642142,
          -3.4849307870115904,
          0.875083308884698,
          -0.34578512531876116,
          2.0189561999195442,
          0.025874648663578564,
          -0.6096727034381759,
          3.1826250160638283,
          -0.06080990123913623,
          -2.8034892785703263,
          -2.042501983686066,
          -0.4457534832085095,
          2.847345415655164,
          1.9483348919256178,
          -3.491526075771734
         ]
        }
       ],
       "layout": {
        "coloraxis": {
         "colorbar": {
          "title": {
           "text": "color"
          }
         },
         "colorscale": [
          [
           0,
           "#0d0887"
          ],
          [
           0.1111111111111111,
           "#46039f"
          ],
          [
           0.2222222222222222,
           "#7201a8"
          ],
          [
           0.3333333333333333,
           "#9c179e"
          ],
          [
           0.4444444444444444,
           "#bd3786"
          ],
          [
           0.5555555555555556,
           "#d8576b"
          ],
          [
           0.6666666666666666,
           "#ed7953"
          ],
          [
           0.7777777777777778,
           "#fb9f3a"
          ],
          [
           0.8888888888888888,
           "#fdca26"
          ],
          [
           1,
           "#f0f921"
          ]
         ]
        },
        "legend": {
         "tracegroupgap": 0
        },
        "margin": {
         "t": 60
        },
        "scene": {
         "domain": {
          "x": [
           0,
           1
          ],
          "y": [
           0,
           1
          ]
         },
         "xaxis": {
          "title": {
           "text": "x"
          }
         },
         "yaxis": {
          "title": {
           "text": "y"
          }
         },
         "zaxis": {
          "title": {
           "text": "z"
          }
         }
        },
        "template": {
         "data": {
          "bar": [
           {
            "error_x": {
             "color": "#2a3f5f"
            },
            "error_y": {
             "color": "#2a3f5f"
            },
            "marker": {
             "line": {
              "color": "#E5ECF6",
              "width": 0.5
             },
             "pattern": {
              "fillmode": "overlay",
              "size": 10,
              "solidity": 0.2
             }
            },
            "type": "bar"
           }
          ],
          "barpolar": [
           {
            "marker": {
             "line": {
              "color": "#E5ECF6",
              "width": 0.5
             },
             "pattern": {
              "fillmode": "overlay",
              "size": 10,
              "solidity": 0.2
             }
            },
            "type": "barpolar"
           }
          ],
          "carpet": [
           {
            "aaxis": {
             "endlinecolor": "#2a3f5f",
             "gridcolor": "white",
             "linecolor": "white",
             "minorgridcolor": "white",
             "startlinecolor": "#2a3f5f"
            },
            "baxis": {
             "endlinecolor": "#2a3f5f",
             "gridcolor": "white",
             "linecolor": "white",
             "minorgridcolor": "white",
             "startlinecolor": "#2a3f5f"
            },
            "type": "carpet"
           }
          ],
          "choropleth": [
           {
            "colorbar": {
             "outlinewidth": 0,
             "ticks": ""
            },
            "type": "choropleth"
           }
          ],
          "contour": [
           {
            "colorbar": {
             "outlinewidth": 0,
             "ticks": ""
            },
            "colorscale": [
             [
              0,
              "#0d0887"
             ],
             [
              0.1111111111111111,
              "#46039f"
             ],
             [
              0.2222222222222222,
              "#7201a8"
             ],
             [
              0.3333333333333333,
              "#9c179e"
             ],
             [
              0.4444444444444444,
              "#bd3786"
             ],
             [
              0.5555555555555556,
              "#d8576b"
             ],
             [
              0.6666666666666666,
              "#ed7953"
             ],
             [
              0.7777777777777778,
              "#fb9f3a"
             ],
             [
              0.8888888888888888,
              "#fdca26"
             ],
             [
              1,
              "#f0f921"
             ]
            ],
            "type": "contour"
           }
          ],
          "contourcarpet": [
           {
            "colorbar": {
             "outlinewidth": 0,
             "ticks": ""
            },
            "type": "contourcarpet"
           }
          ],
          "heatmap": [
           {
            "colorbar": {
             "outlinewidth": 0,
             "ticks": ""
            },
            "colorscale": [
             [
              0,
              "#0d0887"
             ],
             [
              0.1111111111111111,
              "#46039f"
             ],
             [
              0.2222222222222222,
              "#7201a8"
             ],
             [
              0.3333333333333333,
              "#9c179e"
             ],
             [
              0.4444444444444444,
              "#bd3786"
             ],
             [
              0.5555555555555556,
              "#d8576b"
             ],
             [
              0.6666666666666666,
              "#ed7953"
             ],
             [
              0.7777777777777778,
              "#fb9f3a"
             ],
             [
              0.8888888888888888,
              "#fdca26"
             ],
             [
              1,
              "#f0f921"
             ]
            ],
            "type": "heatmap"
           }
          ],
          "heatmapgl": [
           {
            "colorbar": {
             "outlinewidth": 0,
             "ticks": ""
            },
            "colorscale": [
             [
              0,
              "#0d0887"
             ],
             [
              0.1111111111111111,
              "#46039f"
             ],
             [
              0.2222222222222222,
              "#7201a8"
             ],
             [
              0.3333333333333333,
              "#9c179e"
             ],
             [
              0.4444444444444444,
              "#bd3786"
             ],
             [
              0.5555555555555556,
              "#d8576b"
             ],
             [
              0.6666666666666666,
              "#ed7953"
             ],
             [
              0.7777777777777778,
              "#fb9f3a"
             ],
             [
              0.8888888888888888,
              "#fdca26"
             ],
             [
              1,
              "#f0f921"
             ]
            ],
            "type": "heatmapgl"
           }
          ],
          "histogram": [
           {
            "marker": {
             "pattern": {
              "fillmode": "overlay",
              "size": 10,
              "solidity": 0.2
             }
            },
            "type": "histogram"
           }
          ],
          "histogram2d": [
           {
            "colorbar": {
             "outlinewidth": 0,
             "ticks": ""
            },
            "colorscale": [
             [
              0,
              "#0d0887"
             ],
             [
              0.1111111111111111,
              "#46039f"
             ],
             [
              0.2222222222222222,
              "#7201a8"
             ],
             [
              0.3333333333333333,
              "#9c179e"
             ],
             [
              0.4444444444444444,
              "#bd3786"
             ],
             [
              0.5555555555555556,
              "#d8576b"
             ],
             [
              0.6666666666666666,
              "#ed7953"
             ],
             [
              0.7777777777777778,
              "#fb9f3a"
             ],
             [
              0.8888888888888888,
              "#fdca26"
             ],
             [
              1,
              "#f0f921"
             ]
            ],
            "type": "histogram2d"
           }
          ],
          "histogram2dcontour": [
           {
            "colorbar": {
             "outlinewidth": 0,
             "ticks": ""
            },
            "colorscale": [
             [
              0,
              "#0d0887"
             ],
             [
              0.1111111111111111,
              "#46039f"
             ],
             [
              0.2222222222222222,
              "#7201a8"
             ],
             [
              0.3333333333333333,
              "#9c179e"
             ],
             [
              0.4444444444444444,
              "#bd3786"
             ],
             [
              0.5555555555555556,
              "#d8576b"
             ],
             [
              0.6666666666666666,
              "#ed7953"
             ],
             [
              0.7777777777777778,
              "#fb9f3a"
             ],
             [
              0.8888888888888888,
              "#fdca26"
             ],
             [
              1,
              "#f0f921"
             ]
            ],
            "type": "histogram2dcontour"
           }
          ],
          "mesh3d": [
           {
            "colorbar": {
             "outlinewidth": 0,
             "ticks": ""
            },
            "type": "mesh3d"
           }
          ],
          "parcoords": [
           {
            "line": {
             "colorbar": {
              "outlinewidth": 0,
              "ticks": ""
             }
            },
            "type": "parcoords"
           }
          ],
          "pie": [
           {
            "automargin": true,
            "type": "pie"
           }
          ],
          "scatter": [
           {
            "fillpattern": {
             "fillmode": "overlay",
             "size": 10,
             "solidity": 0.2
            },
            "type": "scatter"
           }
          ],
          "scatter3d": [
           {
            "line": {
             "colorbar": {
              "outlinewidth": 0,
              "ticks": ""
             }
            },
            "marker": {
             "colorbar": {
              "outlinewidth": 0,
              "ticks": ""
             }
            },
            "type": "scatter3d"
           }
          ],
          "scattercarpet": [
           {
            "marker": {
             "colorbar": {
              "outlinewidth": 0,
              "ticks": ""
             }
            },
            "type": "scattercarpet"
           }
          ],
          "scattergeo": [
           {
            "marker": {
             "colorbar": {
              "outlinewidth": 0,
              "ticks": ""
             }
            },
            "type": "scattergeo"
           }
          ],
          "scattergl": [
           {
            "marker": {
             "colorbar": {
              "outlinewidth": 0,
              "ticks": ""
             }
            },
            "type": "scattergl"
           }
          ],
          "scattermapbox": [
           {
            "marker": {
             "colorbar": {
              "outlinewidth": 0,
              "ticks": ""
             }
            },
            "type": "scattermapbox"
           }
          ],
          "scatterpolar": [
           {
            "marker": {
             "colorbar": {
              "outlinewidth": 0,
              "ticks": ""
             }
            },
            "type": "scatterpolar"
           }
          ],
          "scatterpolargl": [
           {
            "marker": {
             "colorbar": {
              "outlinewidth": 0,
              "ticks": ""
             }
            },
            "type": "scatterpolargl"
           }
          ],
          "scatterternary": [
           {
            "marker": {
             "colorbar": {
              "outlinewidth": 0,
              "ticks": ""
             }
            },
            "type": "scatterternary"
           }
          ],
          "surface": [
           {
            "colorbar": {
             "outlinewidth": 0,
             "ticks": ""
            },
            "colorscale": [
             [
              0,
              "#0d0887"
             ],
             [
              0.1111111111111111,
              "#46039f"
             ],
             [
              0.2222222222222222,
              "#7201a8"
             ],
             [
              0.3333333333333333,
              "#9c179e"
             ],
             [
              0.4444444444444444,
              "#bd3786"
             ],
             [
              0.5555555555555556,
              "#d8576b"
             ],
             [
              0.6666666666666666,
              "#ed7953"
             ],
             [
              0.7777777777777778,
              "#fb9f3a"
             ],
             [
              0.8888888888888888,
              "#fdca26"
             ],
             [
              1,
              "#f0f921"
             ]
            ],
            "type": "surface"
           }
          ],
          "table": [
           {
            "cells": {
             "fill": {
              "color": "#EBF0F8"
             },
             "line": {
              "color": "white"
             }
            },
            "header": {
             "fill": {
              "color": "#C8D4E3"
             },
             "line": {
              "color": "white"
             }
            },
            "type": "table"
           }
          ]
         },
         "layout": {
          "annotationdefaults": {
           "arrowcolor": "#2a3f5f",
           "arrowhead": 0,
           "arrowwidth": 1
          },
          "autotypenumbers": "strict",
          "coloraxis": {
           "colorbar": {
            "outlinewidth": 0,
            "ticks": ""
           }
          },
          "colorscale": {
           "diverging": [
            [
             0,
             "#8e0152"
            ],
            [
             0.1,
             "#c51b7d"
            ],
            [
             0.2,
             "#de77ae"
            ],
            [
             0.3,
             "#f1b6da"
            ],
            [
             0.4,
             "#fde0ef"
            ],
            [
             0.5,
             "#f7f7f7"
            ],
            [
             0.6,
             "#e6f5d0"
            ],
            [
             0.7,
             "#b8e186"
            ],
            [
             0.8,
             "#7fbc41"
            ],
            [
             0.9,
             "#4d9221"
            ],
            [
             1,
             "#276419"
            ]
           ],
           "sequential": [
            [
             0,
             "#0d0887"
            ],
            [
             0.1111111111111111,
             "#46039f"
            ],
            [
             0.2222222222222222,
             "#7201a8"
            ],
            [
             0.3333333333333333,
             "#9c179e"
            ],
            [
             0.4444444444444444,
             "#bd3786"
            ],
            [
             0.5555555555555556,
             "#d8576b"
            ],
            [
             0.6666666666666666,
             "#ed7953"
            ],
            [
             0.7777777777777778,
             "#fb9f3a"
            ],
            [
             0.8888888888888888,
             "#fdca26"
            ],
            [
             1,
             "#f0f921"
            ]
           ],
           "sequentialminus": [
            [
             0,
             "#0d0887"
            ],
            [
             0.1111111111111111,
             "#46039f"
            ],
            [
             0.2222222222222222,
             "#7201a8"
            ],
            [
             0.3333333333333333,
             "#9c179e"
            ],
            [
             0.4444444444444444,
             "#bd3786"
            ],
            [
             0.5555555555555556,
             "#d8576b"
            ],
            [
             0.6666666666666666,
             "#ed7953"
            ],
            [
             0.7777777777777778,
             "#fb9f3a"
            ],
            [
             0.8888888888888888,
             "#fdca26"
            ],
            [
             1,
             "#f0f921"
            ]
           ]
          },
          "colorway": [
           "#636efa",
           "#EF553B",
           "#00cc96",
           "#ab63fa",
           "#FFA15A",
           "#19d3f3",
           "#FF6692",
           "#B6E880",
           "#FF97FF",
           "#FECB52"
          ],
          "font": {
           "color": "#2a3f5f"
          },
          "geo": {
           "bgcolor": "white",
           "lakecolor": "white",
           "landcolor": "#E5ECF6",
           "showlakes": true,
           "showland": true,
           "subunitcolor": "white"
          },
          "hoverlabel": {
           "align": "left"
          },
          "hovermode": "closest",
          "mapbox": {
           "style": "light"
          },
          "paper_bgcolor": "white",
          "plot_bgcolor": "#E5ECF6",
          "polar": {
           "angularaxis": {
            "gridcolor": "white",
            "linecolor": "white",
            "ticks": ""
           },
           "bgcolor": "#E5ECF6",
           "radialaxis": {
            "gridcolor": "white",
            "linecolor": "white",
            "ticks": ""
           }
          },
          "scene": {
           "xaxis": {
            "backgroundcolor": "#E5ECF6",
            "gridcolor": "white",
            "gridwidth": 2,
            "linecolor": "white",
            "showbackground": true,
            "ticks": "",
            "zerolinecolor": "white"
           },
           "yaxis": {
            "backgroundcolor": "#E5ECF6",
            "gridcolor": "white",
            "gridwidth": 2,
            "linecolor": "white",
            "showbackground": true,
            "ticks": "",
            "zerolinecolor": "white"
           },
           "zaxis": {
            "backgroundcolor": "#E5ECF6",
            "gridcolor": "white",
            "gridwidth": 2,
            "linecolor": "white",
            "showbackground": true,
            "ticks": "",
            "zerolinecolor": "white"
           }
          },
          "shapedefaults": {
           "line": {
            "color": "#2a3f5f"
           }
          },
          "ternary": {
           "aaxis": {
            "gridcolor": "white",
            "linecolor": "white",
            "ticks": ""
           },
           "baxis": {
            "gridcolor": "white",
            "linecolor": "white",
            "ticks": ""
           },
           "bgcolor": "#E5ECF6",
           "caxis": {
            "gridcolor": "white",
            "linecolor": "white",
            "ticks": ""
           }
          },
          "title": {
           "x": 0.05
          },
          "xaxis": {
           "automargin": true,
           "gridcolor": "white",
           "linecolor": "white",
           "ticks": "",
           "title": {
            "standoff": 15
           },
           "zerolinecolor": "white",
           "zerolinewidth": 2
          },
          "yaxis": {
           "automargin": true,
           "gridcolor": "white",
           "linecolor": "white",
           "ticks": "",
           "title": {
            "standoff": 15
           },
           "zerolinecolor": "white",
           "zerolinewidth": 2
          }
         }
        }
       }
      }
     },
     "metadata": {},
     "output_type": "display_data"
    }
   ],
   "source": [
    "px.scatter_3d(x=x_testdf.iloc[:,0],y=x_testdf.iloc[:,1],z=x_testdf.iloc[:,2], color= y_test)"
   ]
  },
  {
   "cell_type": "code",
   "execution_count": 419,
   "metadata": {},
   "outputs": [
    {
     "data": {
      "application/vnd.plotly.v1+json": {
       "config": {
        "plotlyServerURL": "https://plot.ly"
       },
       "data": [
        {
         "hovertemplate": "x=%{x}<br>y=%{y}<br>z=%{z}<br>color=%{marker.color}<extra></extra>",
         "legendgroup": "",
         "marker": {
          "color": [
           0,
           1,
           0,
           0,
           0,
           1,
           1,
           1,
           0,
           0,
           1,
           1,
           0,
           0,
           1,
           0,
           0,
           1,
           0,
           0,
           0,
           0,
           0,
           0,
           0,
           1,
           0,
           0,
           0,
           0,
           1,
           0,
           0,
           1,
           0,
           0,
           1,
           0,
           0,
           1,
           1,
           0,
           0,
           0,
           1,
           1,
           0,
           1,
           1,
           1,
           1,
           1,
           1,
           0,
           0,
           0,
           0,
           1,
           1,
           0,
           1,
           0,
           0,
           1,
           0,
           1,
           0,
           0,
           0,
           1,
           0,
           1,
           0,
           0,
           1,
           1,
           0,
           0,
           0,
           0,
           1,
           1,
           0,
           0,
           0,
           0,
           1,
           1,
           1,
           0,
           1,
           0,
           1,
           0,
           0,
           0,
           1,
           0,
           1,
           1,
           1,
           1,
           1,
           1,
           1,
           0,
           0,
           0,
           1,
           1,
           1,
           0,
           1,
           1,
           0,
           1,
           0,
           1,
           0,
           1,
           0,
           1,
           1,
           1,
           1,
           1,
           1,
           1,
           0,
           0,
           1,
           1,
           1,
           1,
           0,
           1,
           0,
           1,
           0,
           0,
           0,
           0,
           0,
           0,
           1,
           1,
           1,
           0,
           0,
           1,
           0,
           0,
           1,
           0,
           0,
           1,
           0,
           0,
           1,
           1,
           0,
           0,
           1,
           0,
           0,
           1,
           1,
           0,
           0,
           0,
           1,
           0,
           1,
           1,
           0,
           0,
           0,
           0,
           1,
           0,
           1,
           1,
           0,
           1,
           0,
           1,
           1,
           0,
           0,
           0,
           0,
           1,
           1,
           1,
           1,
           1,
           0,
           1,
           1,
           0,
           0,
           1,
           0,
           0,
           0,
           0,
           0,
           0,
           1,
           0,
           0,
           1,
           1,
           0,
           1,
           0,
           1,
           0,
           1,
           1,
           0,
           0,
           0,
           1,
           1,
           1,
           1,
           0,
           1,
           1,
           0,
           0,
           1,
           1,
           0,
           1,
           0,
           0,
           1,
           1,
           0,
           0,
           0,
           0,
           1,
           1,
           0,
           0,
           0,
           1,
           1,
           0,
           0,
           0,
           0,
           0,
           1,
           0,
           1,
           0,
           1,
           0,
           1,
           0,
           0,
           0,
           1,
           0,
           0,
           0,
           1,
           1,
           1,
           0,
           1,
           0,
           1,
           1,
           0,
           0,
           0,
           0,
           1,
           0,
           1,
           1,
           1,
           1,
           0,
           1,
           1,
           0,
           1,
           0,
           1,
           1,
           0,
           0,
           0,
           1,
           1,
           1,
           0,
           1,
           1,
           1,
           1,
           0,
           1,
           0,
           0,
           1,
           0,
           0,
           1,
           0,
           1,
           0,
           1,
           1,
           1,
           1,
           0,
           0,
           0,
           0,
           1,
           0,
           1,
           0,
           1,
           1,
           0,
           0,
           1,
           1,
           1,
           0,
           0,
           0,
           1,
           0,
           0,
           1,
           1,
           1,
           0,
           1,
           0,
           0,
           0,
           1,
           1,
           1,
           1,
           1,
           0,
           0,
           1,
           1,
           1,
           1,
           0,
           1,
           0,
           1,
           0,
           0,
           1,
           0,
           1,
           0,
           0,
           1,
           0,
           0,
           0,
           0,
           0,
           1,
           0,
           0,
           0,
           1,
           0,
           1,
           1,
           0,
           1,
           0,
           1,
           0,
           0,
           0,
           0,
           1,
           1,
           1,
           0,
           0,
           1,
           0,
           1,
           0
          ],
          "coloraxis": "coloraxis",
          "symbol": "circle"
         },
         "mode": "markers",
         "name": "",
         "scene": "scene",
         "showlegend": false,
         "type": "scatter3d",
         "x": [
          3.9656736814240294,
          -5.5517929394341605,
          6.68776086674939,
          0.5165362470470959,
          -1.5596724130535877,
          4.972550123670571,
          -6.232714128525154,
          -0.8072380215033506,
          0.9499576013169186,
          9.492600911165113,
          -2.99697496465625,
          -2.2598916225322085,
          6.809141957770477,
          -2.4008166670617874,
          -4.487778515165683,
          -3.564672164484353,
          1.821860641677875,
          2.6083563696508514,
          5.05782548925524,
          -0.9944715878838817,
          2.4044148508820733,
          4.253293958240879,
          5.694606726172606,
          -3.5077609849501292,
          1.0501808737190241,
          0.5733286535866731,
          -0.03213211722131105,
          4.2956173382052745,
          3.6520552698662416,
          2.6018644364635652,
          1.1430602469190294,
          -3.4832137709935904,
          -1.4083618091883023,
          0.8327370226067352,
          -6.572295788329131,
          -5.3080367041636665,
          8.985192617402584,
          4.255884024776311,
          4.522489502335722,
          -6.011055642065317,
          -5.440985775537714,
          7.535164303740893,
          4.50220215657965,
          -6.132016438166981,
          -3.8095696189193764,
          1.3635817836883093,
          0.4612415764085352,
          3.3619791254674776,
          0.3789815661095938,
          3.529745025522083,
          -7.135836961906808,
          -2.1062350789059145,
          0.39262244607905933,
          -3.1598988202367995,
          8.013335482773448,
          6.734525241914259,
          -0.495794456435977,
          2.312205234643183,
          -7.4453281261764745,
          7.218237132269712,
          1.5759095071683231,
          6.998315112054041,
          6.59459239132662,
          4.648736694597558,
          -4.605196460007229,
          3.892003118666156,
          1.3625955789258593,
          8.594919509308816,
          -6.849168546524536,
          -1.6474357917810714,
          -0.9856304345476442,
          4.826131273653971,
          1.4790435360659557,
          -2.393200156423395,
          5.512927013235647,
          0.7367637043070079,
          -0.8962391701277722,
          6.746584373872402,
          4.286756185780559,
          4.367115468505881,
          0.8366407392564068,
          4.769862873102657,
          -1.4907527428279432,
          -0.9178032362067795,
          7.844827108292685,
          7.284613064155981,
          8.574735639321187,
          -6.394849948073911,
          -4.4510635947819335,
          -7.256991092049106,
          1.9987134497734762,
          1.22176173419113,
          -1.6004722868585641,
          4.347408091113051,
          2.661877268423012,
          -6.284305799056836,
          3.4551110878330658,
          0.15621298784895815,
          7.075523786417844,
          -2.2138722106767763,
          1.8521053084829562,
          -2.833561850313176,
          3.759716947404285,
          -0.3360778270327388,
          -5.5855200576481145,
          2.5981175122486775,
          -6.420765287281618,
          -3.2668663712355026,
          -1.3613125490137497,
          -5.17780858168301,
          -6.137385632549194,
          0.5064480531673754,
          -2.475599382143989,
          4.369724073874692,
          -6.56987435820378,
          6.121963904529976,
          -4.392361443468309,
          1.2827956114491645,
          7.625067029219154,
          -3.827067575226624,
          8.832619152421668,
          -6.6530580507920885,
          -6.081290454260132,
          -5.341035134865796,
          -0.5320364379319211,
          0.95791838367645,
          -2.6460413429588354,
          0.6889956057103812,
          6.130486823857481,
          -7.072071547621341,
          6.9529102590635725,
          1.6802252292076802,
          1.1207167528619308,
          -2.4409959991729373,
          2.396816692227452,
          -6.1361114037571864,
          2.5871699391420213,
          4.111753264586642,
          -4.508400906816787,
          0.10658131197084697,
          5.966746971539194,
          -5.138805476153507,
          -3.7465433015758376,
          3.331217436652684,
          8.397255860519893,
          1.6761758460686598,
          -6.234484332155434,
          -3.774717092619199,
          1.9242349974476558,
          -5.7181127027562395,
          6.93703300012437,
          3.301714409969985,
          -0.3803968688782169,
          -0.4535328684081442,
          -5.070351511931833,
          -2.3201557714020327,
          -2.7721465523065265,
          3.026863406684496,
          -6.2419390968111355,
          4.442210988880567,
          2.035081948032831,
          -6.941181260441204,
          6.289671756297102,
          3.019939563501273,
          -4.306039358144579,
          5.838988530126791,
          1.091755622163547,
          4.3397973332741495,
          3.84544505452326,
          2.8190831501859854,
          -4.7018565117790505,
          -1.0075859694583051,
          -5.565002890555519,
          4.920289319911795,
          -4.268454547910402,
          5.93280437344337,
          -0.10703581049958263,
          -0.371051423033105,
          -3.5928759468623843,
          -2.2163588028516745,
          0.6274297512009724,
          -5.829331713198807,
          6.9763122153887345,
          -1.4307654809547061,
          4.058385739138683,
          2.446196208346952,
          1.014906533874973,
          -6.528149755144639,
          7.016287852645483,
          5.217959536885636,
          -7.244681823513475,
          0.6195633695270343,
          -0.5128894732754222,
          5.26427554297757,
          -5.331971062841406,
          -1.9102870631554634,
          8.951016580504318,
          -5.946639571684706,
          3.1514389040001864,
          2.7768720039595722,
          -2.6937886994819875,
          4.628424507711032,
          7.247853090759754,
          2.8003639550241135,
          -4.008432832298981,
          -4.320416961429239,
          0.12443231730286397,
          -4.77615220958908,
          -6.104081007667648,
          6.567656398354147,
          -3.9063453770278977,
          0.09170506687521629,
          -0.4162633806238166,
          -1.4719697681240553,
          0.3748487246503707,
          1.709932919433794,
          -5.6916774111767365,
          -3.2582848749239948,
          0.8614720752171414,
          0.009034731655954791,
          -0.47261341584074235,
          5.711575569427601,
          -6.299204283246334,
          -3.247867146083566,
          -5.698877572172456,
          5.198419944262178,
          -5.855686670225573,
          -6.273518520445829,
          -3.9378675317358915,
          1.9633572175069525,
          2.948661415245559,
          -6.955240739523404,
          -3.961035243372525,
          0.10809520267684454,
          2.6174340656036232,
          1.8717795032545281,
          -0.419924046988076,
          4.971544463099156,
          3.0234594226321994,
          -2.255972573177621,
          7.51846893172724,
          3.818914837888775,
          -2.894074791667501,
          -6.777107843188936,
          1.3307786928078926,
          0.19053648201613915,
          -4.551879954669742,
          -1.4961113906411745,
          -7.0551242722276335,
          2.733731966321695,
          0.09483147846507689,
          -6.0920631755459285,
          -0.4536031276069407,
          -0.9120774721145479,
          -6.590263582705573,
          -6.527641865001269,
          -7.232586091534334,
          -6.130945000391438,
          4.71361332957934,
          2.9524456587802503,
          -3.825351253353931,
          3.6490288705976752,
          6.6236384933109616,
          -5.808879969604677,
          -3.510684954026371,
          -1.0592722192059958,
          -0.605514856443636,
          6.471328085092203,
          -1.8407743070036053,
          -2.039279120262304,
          3.5744824356179947,
          3.0849961827070236,
          -4.944927961610429,
          0.7715731779380314,
          7.292964986821114,
          -0.4972080949299846,
          1.0406146778649294,
          -0.052347994317024076,
          -1.1820156321478823,
          1.6184743671939472,
          1.8472211548030828,
          2.132945277088603,
          -1.3933807259805557,
          -0.7568957080427444,
          2.1848165816499314,
          -1.3217092121579601,
          -0.961174796106354,
          7.2611933035295015,
          2.9926105937820173,
          2.5899430893936684,
          -5.304467968647458,
          1.7496991496597165,
          5.3637026518579125,
          -0.04126648023766285,
          -7.029442020212461,
          -3.022062751657181,
          6.407636332351108,
          -4.005630816167015,
          -0.42776908345153375,
          -3.5889367827761576,
          0.9250005409557759,
          -1.418592656439802,
          -4.6965375271311665,
          -1.0590650815961404,
          1.0768319806793845,
          -5.776503134316031,
          0.7802526820336079,
          -3.1085335481038383,
          -4.3385600581232735,
          -5.278893663960864,
          7.177610026236637,
          -7.848468655778474,
          4.1363633322156,
          5.504180813647925,
          5.272216564317732,
          -0.7427415956957483,
          5.413329620188677,
          5.735878043669804,
          -0.9738331486239443,
          -5.819846473166542,
          8.620839382274033,
          0.2662852064918837,
          -1.8419455789312968,
          -3.0123067877563154,
          4.045191156918947,
          -6.523399033985281,
          -5.84587634825219,
          7.070231673629358,
          1.4709433253731232,
          -4.2236491468123365,
          8.115966687122215,
          -3.63409854347924,
          -4.236966934748565,
          -7.366588298086167,
          -1.9974044075874897,
          6.791615572165819,
          -1.2862268148558826,
          2.680380665384111,
          -1.6431223207993202,
          -4.757245312836285,
          -2.419556963590488,
          -4.184075079411657,
          -4.904546531229709,
          0.47243140704558995,
          -0.5591532485828495,
          8.09664112547297,
          -0.35575474446147365,
          -1.2906821477247283,
          0.1366248526312065,
          3.317532850735335,
          -0.906303524950597,
          0.4386584728918747,
          5.129457866232684,
          3.1211584980461935,
          -5.245374000057831,
          -5.814722916332113,
          6.501390860182107,
          -2.903064961557728,
          -5.619051715243001,
          1.4493141784501071,
          0.9304532312847099,
          -7.238155425857963,
          -2.076623977205213,
          -1.069703587073906,
          -3.226362917434363,
          -4.725060183378911,
          3.0944205278531594,
          5.129687862132644,
          0.8091056844335832,
          5.365257657315671,
          -4.327315931262832,
          -3.6773590831620706,
          -6.685378963723751,
          1.8840804642622073,
          5.904578158800358,
          -1.714225900482045,
          -3.8773173655476896,
          -2.802384789258261,
          -6.713794185329019,
          -1.9295704308971409,
          -0.08948443887991292,
          -5.8694663998294265,
          -1.0912019311456314,
          3.907127017874565,
          -1.848190402098392,
          7.52643807224355,
          -5.52960071208892,
          5.514981041567128,
          -5.050907219938864,
          -2.611047588730541,
          0.6040261434088956,
          4.7627805803907926,
          2.1648553538917326,
          2.3868648664418406,
          3.056658908204565,
          -6.206312451697496,
          1.2199844466981538,
          4.77044890618325,
          4.9114247128714075,
          3.1822572870988566,
          -5.53479141528676,
          6.394935345487679,
          0.6611101820429847,
          4.905213910727297
         ],
         "y": [
          -3.3106997756454777,
          2.471565381880241,
          5.1880424422827485,
          4.917941526740074,
          -4.977259169503069,
          1.0975778198884771,
          1.218381778941,
          -4.652265685840128,
          5.1285391444151065,
          2.0195700083455663,
          -0.9810005499510017,
          -1.1858355152308848,
          2.349707160382813,
          -4.941403878400937,
          4.784438500131286,
          -1.3874846575945898,
          0.29649986044534193,
          6.252996166681427,
          3.0087357255278775,
          -5.947573129429882,
          -3.92725343126418,
          -3.028100390352521,
          2.6684401030062492,
          -3.35462503638377,
          -0.41955104033746893,
          -6.110537880867687,
          5.989937992224073,
          1.0347667519930777,
          -5.016798165026853,
          -2.998321995286056,
          -5.0773666409415945,
          -1.890103611871566,
          0.03355560254404084,
          -6.009386128782078,
          0.34771726501308875,
          -3.5300726989268134,
          -2.422583194951656,
          2.796108799079515,
          -0.07248082224916924,
          0.40885333343986646,
          2.486081634580564,
          3.3172975727831586,
          -3.013523764782179,
          -1.484820486314099,
          4.587005393981478,
          0.4996074998664628,
          6.464200994318604,
          -0.8093270426156481,
          2.242103245206156,
          -4.608201758259806,
          -2.314313152412119,
          4.1866473762084455,
          -5.853603562154204,
          -1.940557735712303,
          2.1940189927869382,
          2.7785858396044176,
          -0.9107446755559346,
          -5.438941490890076,
          -1.7692277570110921,
          -2.346607288570171,
          4.456173868424977,
          -2.1839473542505377,
          2.761327658810309,
          -1.0220627120809944,
          4.748680816511896,
          -3.7054153713517035,
          0.19462830166039893,
          2.3148396892650704,
          -1.0379387517795708,
          -0.7848553478110886,
          -5.7239937945295845,
          -3.629949304306828,
          0.264815824343349,
          0.8819908543543126,
          -3.7723992466796323,
          -3.5656122662541443,
          -5.423846824185196,
          3.0304612573877785,
          1.926803457564504,
          1.3735451550751714,
          -4.108290463164094,
          -2.2609655694296626,
          2.6155532511299158,
          -1.0074902005619206,
          -2.6777905427967714,
          -2.202464807672447,
          5.1536599688609,
          2.085048398725489,
          3.158502749655099,
          -1.522243461188681,
          -4.429805066461291,
          3.6674924851086854,
          -2.7129945495006833,
          -0.14314765144827202,
          -4.479129577500117,
          0.1018316224266826,
          5.1162660673375,
          5.496530776707181,
          -1.9699112879222171,
          -1.8092850246575762,
          0.9616860706671945,
          -2.579591661467413,
          3.5543336425255574,
          4.15618652392014,
          2.0534443440026697,
          -2.896696958042813,
          -0.25062537216289144,
          4.703060518179791,
          5.096016587466489,
          2.1189806454074884,
          1.7193390130381998,
          5.844622212327297,
          5.623636010190012,
          -3.783171641048108,
          0.02327693657825145,
          -1.136653462782048,
          2.5832896632174216,
          2.791267845714356,
          3.0142395563121704,
          4.34428039984735,
          5.807403449246256,
          0.8824078056510382,
          0.6419236285022062,
          1.8160571406490071,
          -1.8043287589952408,
          6.959240100719564,
          -4.659744999400069,
          2.2715552984797194,
          -2.671654520944972,
          -0.03473868291112731,
          1.8165242189910211,
          1.1215926046572862,
          -5.965505769811789,
          5.825084618548901,
          1.729287044152183,
          0.5419681492653129,
          -4.082535467261448,
          -0.11606180349994566,
          -1.3035816835895555,
          -1.14086902739395,
          1.1887184997295228,
          0.13712879571005251,
          4.755982038612792,
          -5.237198866899171,
          3.623625520652763,
          1.6750482045704709,
          0.31076146119252307,
          -4.2933038068092735,
          -5.671119306835711,
          1.8628845870538466,
          3.1042708345086103,
          -4.686775999678279,
          -3.9558903896063184,
          -4.374398998955724,
          3.1283277304981407,
          -2.0092043826365606,
          -3.2958054633424343,
          -4.713759573195561,
          0.903642496184067,
          0.13706544891746913,
          -5.163474027013449,
          0.3978076750664046,
          3.3256086588523273,
          1.3843177653929177,
          -3.697585294599857,
          -2.2804605122026227,
          -5.25934386338875,
          -4.457793150900905,
          2.2388479430302053,
          -4.511612697256899,
          0.24030881844892601,
          6.699994460663882,
          1.9054560933629452,
          -2.2675722813640724,
          -1.4502556817875525,
          -3.227296930857969,
          -0.5219832543498326,
          -2.9696905764509514,
          -4.451616231764638,
          -2.961216763232053,
          -4.048132587910933,
          2.9393112239880756,
          3.0046223717504907,
          7.130488057800291,
          -3.9756353050082964,
          6.121388137318441,
          2.407627840647171,
          -0.25349513670776735,
          -1.5939552865863638,
          -0.4217296413205102,
          -0.23938057508950852,
          1.0046602806012739,
          -3.034511747410599,
          3.292111485924842,
          3.519341058053292,
          6.061045201089446,
          3.4276731395623665,
          0.30931886705649136,
          5.138155180244787,
          -3.1420755509265494,
          -3.278717705581643,
          -0.6942089179369452,
          2.915163257641924,
          -3.158250024079845,
          3.792337136116686,
          4.632634016125034,
          6.25462178958167,
          3.1860039744997684,
          0.6385445654327336,
          -0.8118553429980111,
          4.998602515518412,
          4.341558608427756,
          -5.245291371445144,
          -5.124410466587167,
          0.3468972944129107,
          -3.0293954603762696,
          2.03238838833725,
          -3.3308025670108785,
          -5.22487691737636,
          -4.699955318864831,
          -4.57942865373567,
          -0.9095252130131947,
          -0.2719461578487543,
          -2.7948801605893316,
          1.0167773738842412,
          0.67142350616312,
          1.231150488757552,
          -0.13570587600073988,
          -4.180464810010613,
          -4.399580975654056,
          -5.536381900976213,
          0.20115984096827513,
          -4.256619257580074,
          -3.8976560950848014,
          -5.694550074909388,
          -1.2939792256739215,
          -3.6103995904456037,
          -4.375545944482893,
          -5.014341596615132,
          -1.5668485923413902,
          1.8125968578402658,
          -3.402343788330927,
          -0.1343961404813567,
          -0.7891839677802047,
          1.00875434141002,
          -5.222303675185284,
          3.183709304088915,
          -5.309619572714915,
          0.27671736443986095,
          -1.4165992854033178,
          1.8932524577735321,
          -3.900267697129227,
          -4.2748499248519,
          -5.1786023534431544,
          -0.1250827206878197,
          0.2398482165525455,
          -2.515062231783238,
          0.8039364776535766,
          0.5308316914220125,
          2.339300119720639,
          -4.54961909444338,
          1.7699883638708616,
          4.511989372380631,
          0.04330865077576069,
          2.365313309689063,
          -0.4201806886154988,
          3.3358216924856947,
          2.9001457612497785,
          2.3416729973018398,
          3.1285530254171747,
          -1.415121199916718,
          -5.182084478696072,
          1.4313657732346001,
          -2.906674164168623,
          2.0915376796393654,
          -1.2632480370008503,
          -5.052938413038004,
          -5.52197458429219,
          -5.582344159391939,
          -0.3941035876993264,
          -5.402727018695541,
          4.207545423307107,
          3.3524294847789515,
          -5.724419045569647,
          -4.2353653119633945,
          5.071180928432545,
          -4.929783322394794,
          0.6951465298721446,
          -4.561939927771503,
          2.3537832808338948,
          0.5472431111423711,
          -5.765994772693126,
          3.8246603512362696,
          0.22995001783080882,
          0.7177547473417065,
          4.400300991074658,
          0.2264918746680116,
          -1.6024881026726217,
          -4.722821626227401,
          -4.612277211093812,
          -4.950236952931438,
          -4.950765476227708,
          4.880700561201208,
          0.692401452446804,
          -1.776038720650036,
          1.8149886292222688,
          -4.665069490461076,
          -4.903375824766782,
          3.5121890645737084,
          -3.856457334655436,
          -3.11522081672849,
          -3.2225759184150555,
          0.750091923302083,
          2.9342787722298067,
          -2.2692466816652064,
          -0.25812717108598887,
          2.6622410629094895,
          -2.2584616997943785,
          -4.8634835900247495,
          0.7430407464279195,
          -0.6448107001703381,
          0.5335115749575505,
          -1.5316883459520474,
          -3.499017827484054,
          -3.251378316901504,
          0.050028927536522355,
          1.4365131791922283,
          2.8714024758802377,
          -5.147122434615922,
          -1.348556239456088,
          3.9156470127056373,
          -4.4620089891972095,
          4.6950767614620945,
          -1.5108255103724093,
          4.992068038013248,
          -1.4065317444927883,
          -3.9826138389948693,
          -4.248087074561131,
          5.317375570484288,
          -0.9529291115583169,
          4.9533445811812955,
          3.6439405014900808,
          -3.943115171956477,
          -4.974560291909803,
          0.8968496144318702,
          -1.715940549770096,
          5.098842580619705,
          -1.1571566263798676,
          -4.964254311092363,
          -4.453745063511259,
          -5.599903851967823,
          -5.813315937375844,
          0.48738617095119896,
          -0.5718349443254189,
          1.0119707706165888,
          1.3213559808055853,
          -0.5557206528113463,
          -0.2573741657744375,
          2.0134052005524685,
          -5.530734959698907,
          -5.926842894195562,
          -2.7461839671413624,
          -3.9677381936477487,
          -4.954776275204939,
          -3.3112147817823443,
          2.9551498751156102,
          -2.814257182205435,
          3.078775487286546,
          3.506194964131375,
          2.2552988091333126,
          2.019896794335188,
          4.202720741475909,
          0.18323541295002313,
          5.805651084770785,
          -2.4886472041294136,
          -3.36436971430995,
          4.3396707729144435,
          -4.655383233760825,
          -0.9499943175753088,
          -0.8912851611665326,
          5.243201952706365,
          -1.222011420107349,
          2.8362823735384124,
          -3.795440702008802,
          0.05883576887191507,
          1.6929703636210376,
          1.1711427712207867,
          7.357174509491355,
          0.22095730245155254,
          0.5092113802126098,
          0.5349410139755206,
          -2.818440319510738,
          -3.190750950305842,
          -4.357555391349571,
          -3.150047064790355,
          0.9409074207113898,
          -5.4435594506319775,
          -1.449619560042219,
          1.8514512377648924,
          -0.22005030015837812,
          2.7136564904415144,
          -3.163101550869408,
          -5.88244304372105,
          2.4929012857088395
         ],
         "z": [
          1.4722489690510685,
          -0.14729320172230634,
          -1.886029663001152,
          -0.7691869017971518,
          0.2536750223948029,
          -2.132377352609536,
          -1.3551188596577832,
          1.0587129189514046,
          -0.03548155081925577,
          -1.559627524604471,
          -1.6183600748734843,
          -2.9631857137032145,
          -2.1743009598672476,
          0.624091685103967,
          1.6373281129614543,
          -3.000574384325011,
          1.1357392986256478,
          0.2665079952592612,
          -2.451025979614644,
          0.8230123452412743,
          2.169597391747566,
          1.6497943084540574,
          -3.0660130043724894,
          -1.567117695065192,
          -1.4140314079030452,
          1.689120359745718,
          0.27349691513853575,
          -2.4971222939963567,
          3.8391994314452806,
          -0.2803755513594255,
          1.6260631177848004,
          -3.200789846603023,
          -0.6691597464650287,
          2.0778217045137426,
          -0.7261243403652818,
          -2.137649313339438,
          1.7847377425698059,
          -2.5825392182688978,
          -0.9424382129594164,
          -1.0526403178035604,
          1.2720202423744316,
          -1.9055769965107894,
          1.1337494964578587,
          -1.08436766553824,
          1.4714323648220333,
          -3.182560435778363,
          0.25019391258011203,
          -1.64700908953366,
          2.913755137041582,
          1.248880730290255,
          -2.307319398388402,
          -1.5601360908417448,
          1.896212386681736,
          -2.527446590298879,
          -2.1791692414246917,
          -2.570823686816544,
          -2.0857371715700044,
          3.2717332430769597,
          -1.941487419152553,
          1.4992500413820737,
          3.8840557559279283,
          1.4658536517940182,
          -2.4524644074937525,
          -3.576179811490634,
          2.5418699540754615,
          0.9458290803329059,
          -1.3216949420947168,
          -1.854273297642563,
          -1.4142104618583442,
          -2.3557706259845053,
          1.0125540922541696,
          0.7926257640187584,
          -2.890491138132134,
          -2.6399410329720108,
          1.760389532478404,
          0.2778137906036649,
          1.304191026154766,
          -2.870038642692483,
          -3.0114527670977855,
          -2.3402267199938005,
          1.1360005681292693,
          0.27181135430068054,
          2.717125602141912,
          -1.6651425933345405,
          2.147768873508347,
          1.4917421379214466,
          0.454711393525216,
          -0.005525799029030714,
          1.497192791414035,
          -0.9827284185630513,
          0.7640952959201627,
          0.0970075526897229,
          -0.8859632489511966,
          -0.45740117400404107,
          2.2986736694405567,
          -0.8289146038759126,
          -0.5120993043296731,
          5.371469242064109,
          1.2144778213854357,
          -1.8116930420095305,
          -1.0805047826952425,
          -2.82586753423578,
          -3.3542254583258404,
          4.648267211828637,
          0.7407624241240565,
          0.29083685341099363,
          -1.1503087301170398,
          3.299727324254465,
          -0.13444829363530472,
          0.9768831230539446,
          -0.9478209537444946,
          0.2653877891782863,
          -0.08735042706026855,
          1.9488011541523127,
          -0.9751269108979127,
          1.0325488668405294,
          1.5913339014959667,
          -0.20206277260718558,
          -1.968119040152484,
          2.2706930245574495,
          -1.8181566641128684,
          -0.7830085334720959,
          -1.082561872560737,
          -0.09507780657481699,
          -2.7522216881807187,
          -0.2991552025843005,
          1.0096744430860816,
          -3.9218318718000664,
          0.8401544697999083,
          -2.221706174625877,
          -1.4460643212532474,
          -1.7858077629877602,
          2.482816741381257,
          4.783185954883323,
          -3.929262883418048,
          -1.1094820203463835,
          2.904898720762067,
          -1.4160053915455209,
          0.6146676796809964,
          -1.4374916304029686,
          -0.25264909287699633,
          -1.1354238718170773,
          2.673727015195272,
          2.0659243060880037,
          -0.8771281275947738,
          -0.1552321438616499,
          -1.2614679339844643,
          -0.800045570495708,
          2.841067573977069,
          -1.1765358716119716,
          -0.5507479466639456,
          1.760803348673322,
          1.0314815411675209,
          0.7694652762986243,
          -0.35645262236616604,
          -1.2292754564385466,
          -2.0638505408895753,
          1.9976201485626253,
          -1.016438309643157,
          -1.4399228506286155,
          2.2544798805299173,
          -0.6994436230372454,
          -1.8820854028064322,
          -2.907720512805415,
          -2.2026591594374634,
          0.47363913767774285,
          2.9319662850668595,
          2.8797857121023354,
          -3.7921434233848466,
          2.8650985835074887,
          -0.5728146055552295,
          5.024654083548478,
          0.7075115948743739,
          0.37335666850448473,
          -3.0663097239807846,
          2.0130734300050155,
          -2.2886855912944712,
          -0.9376614649643327,
          0.08534521121088971,
          -0.5351605715832999,
          2.822065676748829,
          -0.3506607162430548,
          -3.1088858497944707,
          4.625723241659141,
          2.9079015316469077,
          -0.39629991955058724,
          5.408925719946299,
          -2.2507459777242245,
          1.3256131383165752,
          -0.9281503583425492,
          -1.3336831012566084,
          -2.2787424826011176,
          -0.7107810322768032,
          -2.189138197888984,
          0.9734766711860551,
          4.022594043854644,
          -2.6378925684243986,
          -1.186330388567172,
          0.2110869883832449,
          -1.059313807107077,
          -1.3563149682921396,
          -0.7101154234410799,
          -2.2497076663797895,
          -0.030614992077619203,
          0.4939442524914692,
          -0.008070919509866398,
          -0.3918209842511972,
          -0.7113438537973144,
          -0.872296025881671,
          -0.1591815693109765,
          3.4997967088972812,
          4.427354780739611,
          1.5363736157988443,
          1.5921766485320303,
          -2.4513678009773865,
          2.6581534137002323,
          0.6422305367216895,
          -1.6996304916885607,
          2.58280249796534,
          1.2692859498538187,
          0.5610956576938876,
          -0.2582078231892454,
          -1.505406749552333,
          -1.9723878394281498,
          -1.8397871820802791,
          -2.1878470108833343,
          -1.4036935342172665,
          -1.7826748536395247,
          0.4184990085592438,
          0.6543617952035158,
          3.4892701420786247,
          -1.1332836551440748,
          0.37272266719428704,
          1.4407708300306714,
          1.6792260828623067,
          -1.4555066260822713,
          2.788087800090676,
          2.6153755104048675,
          3.9686294076439443,
          -3.3266691722605874,
          -1.935642217747657,
          0.47654327433135174,
          -3.689032299423636,
          -1.8612113357809048,
          -3.325743879124766,
          1.6166023335077586,
          -0.9477854245320909,
          -0.007799972495458067,
          -0.743250001120738,
          -0.8621858826441269,
          -1.6124823015151666,
          -1.8275774673511849,
          -2.956922133376495,
          0.6966188078285374,
          -1.1631467224396355,
          -1.0983288481331959,
          -2.783077029327483,
          0.20149843800617886,
          -1.5885406135980153,
          -3.502991187537975,
          0.44578001551573293,
          -0.6187724016771614,
          -2.5054502587961887,
          -0.46421296642344473,
          2.556355326512072,
          -2.8869978573430637,
          -1.499467315791615,
          -2.6350151173003615,
          -0.4054238213073898,
          2.9613568725010797,
          2.959837913935782,
          4.181695478585798,
          -0.6570084699031019,
          -0.6819082296371625,
          -0.59443303732982,
          -2.014450083842762,
          1.824822533103904,
          1.5211001998622564,
          1.4590898710637998,
          -0.9026424991370579,
          1.3703675338850692,
          -0.3382162477727352,
          2.906252644049449,
          1.0180427835350958,
          2.698256113181084,
          -0.0802689438781839,
          2.5417976484343896,
          0.6799093670840102,
          2.819870512598156,
          -2.8172087740533818,
          -0.5895478015663905,
          2.207565453362561,
          -2.7058612319725506,
          -0.7499329317165234,
          -1.943156647298965,
          -1.7385972763504782,
          -0.5626225544674754,
          -2.8448161215677596,
          0.2961371296247579,
          0.5711265955977206,
          1.8082414935697864,
          2.067360757369058,
          2.045322842041999,
          -2.777005979429091,
          -1.7802124497048724,
          -0.2145186798019344,
          1.196534537691692,
          0.060653890889937445,
          1.5494231757760306,
          -1.8983701488948161,
          2.109713612525676,
          -2.191780615466392,
          -0.7192213900278069,
          -3.077934725673539,
          0.40813446723685776,
          -1.5488328282277637,
          -1.6996224656833239,
          1.4754435459126434,
          2.352863583268538,
          -1.1499988271871162,
          1.7605871690790795,
          -2.610534890335488,
          -1.768898241771682,
          -1.3253399821487388,
          1.7546067824542744,
          -1.0459653347220963,
          -0.43749860596643386,
          -3.3064308656827084,
          2.1686436135453957,
          -3.234182476179925,
          -2.2304151924383113,
          0.9911117668249912,
          3.045315082530992,
          -1.8934439673380354,
          3.8763652215158393,
          0.9315600423379066,
          -1.0569273319513528,
          2.8337594276493916,
          4.305248036450231,
          -0.31437767563784896,
          3.484191039824746,
          0.09198811304745705,
          -2.0130105321791456,
          1.0842079663625,
          -3.1975512153672527,
          1.7301938137846764,
          4.856307615015587,
          -2.5092942919957104,
          0.8912465181746052,
          3.1790118270658594,
          0.5906191718197689,
          1.814991533261444,
          -2.571493141672399,
          -1.165054629309858,
          1.1375760109981234,
          -0.37296190145589303,
          0.6093016719541412,
          -2.17370125737427,
          0.03954038747296278,
          3.0886172173893676,
          2.025899979031524,
          -2.5356944480296724,
          -0.9801643576757872,
          2.4869834333498106,
          -1.6161776093619242,
          1.5443752340072994,
          -0.10801421923221101,
          -3.5126340542954124,
          3.9287394585757025,
          -2.811937265778753,
          -0.5723900485332244,
          3.2534029654530814,
          -1.2363787712032732,
          0.2456220901724372,
          1.115542728484556,
          -0.15649364600235235,
          3.347834190399329,
          0.033002227264785626,
          -1.3722631846627307,
          0.3493012554251436,
          4.5664758979182345,
          -0.6302362386538033,
          2.076085929002865,
          1.2031433646379062,
          -1.1063101758798806,
          -0.43977609802815837,
          -1.1328147904447283,
          1.269196690558514,
          -0.3615266065473906,
          0.7389803092642142,
          -3.4849307870115904,
          0.875083308884698,
          -0.34578512531876116,
          2.0189561999195442,
          0.025874648663578564,
          -0.6096727034381759,
          3.1826250160638283,
          -0.06080990123913623,
          -2.8034892785703263,
          -2.042501983686066,
          -0.4457534832085095,
          2.847345415655164,
          1.9483348919256178,
          -3.491526075771734
         ]
        }
       ],
       "layout": {
        "coloraxis": {
         "colorbar": {
          "title": {
           "text": "color"
          }
         },
         "colorscale": [
          [
           0,
           "#0d0887"
          ],
          [
           0.1111111111111111,
           "#46039f"
          ],
          [
           0.2222222222222222,
           "#7201a8"
          ],
          [
           0.3333333333333333,
           "#9c179e"
          ],
          [
           0.4444444444444444,
           "#bd3786"
          ],
          [
           0.5555555555555556,
           "#d8576b"
          ],
          [
           0.6666666666666666,
           "#ed7953"
          ],
          [
           0.7777777777777778,
           "#fb9f3a"
          ],
          [
           0.8888888888888888,
           "#fdca26"
          ],
          [
           1,
           "#f0f921"
          ]
         ]
        },
        "legend": {
         "tracegroupgap": 0
        },
        "margin": {
         "t": 60
        },
        "scene": {
         "domain": {
          "x": [
           0,
           1
          ],
          "y": [
           0,
           1
          ]
         },
         "xaxis": {
          "title": {
           "text": "x"
          }
         },
         "yaxis": {
          "title": {
           "text": "y"
          }
         },
         "zaxis": {
          "title": {
           "text": "z"
          }
         }
        },
        "template": {
         "data": {
          "bar": [
           {
            "error_x": {
             "color": "#2a3f5f"
            },
            "error_y": {
             "color": "#2a3f5f"
            },
            "marker": {
             "line": {
              "color": "#E5ECF6",
              "width": 0.5
             },
             "pattern": {
              "fillmode": "overlay",
              "size": 10,
              "solidity": 0.2
             }
            },
            "type": "bar"
           }
          ],
          "barpolar": [
           {
            "marker": {
             "line": {
              "color": "#E5ECF6",
              "width": 0.5
             },
             "pattern": {
              "fillmode": "overlay",
              "size": 10,
              "solidity": 0.2
             }
            },
            "type": "barpolar"
           }
          ],
          "carpet": [
           {
            "aaxis": {
             "endlinecolor": "#2a3f5f",
             "gridcolor": "white",
             "linecolor": "white",
             "minorgridcolor": "white",
             "startlinecolor": "#2a3f5f"
            },
            "baxis": {
             "endlinecolor": "#2a3f5f",
             "gridcolor": "white",
             "linecolor": "white",
             "minorgridcolor": "white",
             "startlinecolor": "#2a3f5f"
            },
            "type": "carpet"
           }
          ],
          "choropleth": [
           {
            "colorbar": {
             "outlinewidth": 0,
             "ticks": ""
            },
            "type": "choropleth"
           }
          ],
          "contour": [
           {
            "colorbar": {
             "outlinewidth": 0,
             "ticks": ""
            },
            "colorscale": [
             [
              0,
              "#0d0887"
             ],
             [
              0.1111111111111111,
              "#46039f"
             ],
             [
              0.2222222222222222,
              "#7201a8"
             ],
             [
              0.3333333333333333,
              "#9c179e"
             ],
             [
              0.4444444444444444,
              "#bd3786"
             ],
             [
              0.5555555555555556,
              "#d8576b"
             ],
             [
              0.6666666666666666,
              "#ed7953"
             ],
             [
              0.7777777777777778,
              "#fb9f3a"
             ],
             [
              0.8888888888888888,
              "#fdca26"
             ],
             [
              1,
              "#f0f921"
             ]
            ],
            "type": "contour"
           }
          ],
          "contourcarpet": [
           {
            "colorbar": {
             "outlinewidth": 0,
             "ticks": ""
            },
            "type": "contourcarpet"
           }
          ],
          "heatmap": [
           {
            "colorbar": {
             "outlinewidth": 0,
             "ticks": ""
            },
            "colorscale": [
             [
              0,
              "#0d0887"
             ],
             [
              0.1111111111111111,
              "#46039f"
             ],
             [
              0.2222222222222222,
              "#7201a8"
             ],
             [
              0.3333333333333333,
              "#9c179e"
             ],
             [
              0.4444444444444444,
              "#bd3786"
             ],
             [
              0.5555555555555556,
              "#d8576b"
             ],
             [
              0.6666666666666666,
              "#ed7953"
             ],
             [
              0.7777777777777778,
              "#fb9f3a"
             ],
             [
              0.8888888888888888,
              "#fdca26"
             ],
             [
              1,
              "#f0f921"
             ]
            ],
            "type": "heatmap"
           }
          ],
          "heatmapgl": [
           {
            "colorbar": {
             "outlinewidth": 0,
             "ticks": ""
            },
            "colorscale": [
             [
              0,
              "#0d0887"
             ],
             [
              0.1111111111111111,
              "#46039f"
             ],
             [
              0.2222222222222222,
              "#7201a8"
             ],
             [
              0.3333333333333333,
              "#9c179e"
             ],
             [
              0.4444444444444444,
              "#bd3786"
             ],
             [
              0.5555555555555556,
              "#d8576b"
             ],
             [
              0.6666666666666666,
              "#ed7953"
             ],
             [
              0.7777777777777778,
              "#fb9f3a"
             ],
             [
              0.8888888888888888,
              "#fdca26"
             ],
             [
              1,
              "#f0f921"
             ]
            ],
            "type": "heatmapgl"
           }
          ],
          "histogram": [
           {
            "marker": {
             "pattern": {
              "fillmode": "overlay",
              "size": 10,
              "solidity": 0.2
             }
            },
            "type": "histogram"
           }
          ],
          "histogram2d": [
           {
            "colorbar": {
             "outlinewidth": 0,
             "ticks": ""
            },
            "colorscale": [
             [
              0,
              "#0d0887"
             ],
             [
              0.1111111111111111,
              "#46039f"
             ],
             [
              0.2222222222222222,
              "#7201a8"
             ],
             [
              0.3333333333333333,
              "#9c179e"
             ],
             [
              0.4444444444444444,
              "#bd3786"
             ],
             [
              0.5555555555555556,
              "#d8576b"
             ],
             [
              0.6666666666666666,
              "#ed7953"
             ],
             [
              0.7777777777777778,
              "#fb9f3a"
             ],
             [
              0.8888888888888888,
              "#fdca26"
             ],
             [
              1,
              "#f0f921"
             ]
            ],
            "type": "histogram2d"
           }
          ],
          "histogram2dcontour": [
           {
            "colorbar": {
             "outlinewidth": 0,
             "ticks": ""
            },
            "colorscale": [
             [
              0,
              "#0d0887"
             ],
             [
              0.1111111111111111,
              "#46039f"
             ],
             [
              0.2222222222222222,
              "#7201a8"
             ],
             [
              0.3333333333333333,
              "#9c179e"
             ],
             [
              0.4444444444444444,
              "#bd3786"
             ],
             [
              0.5555555555555556,
              "#d8576b"
             ],
             [
              0.6666666666666666,
              "#ed7953"
             ],
             [
              0.7777777777777778,
              "#fb9f3a"
             ],
             [
              0.8888888888888888,
              "#fdca26"
             ],
             [
              1,
              "#f0f921"
             ]
            ],
            "type": "histogram2dcontour"
           }
          ],
          "mesh3d": [
           {
            "colorbar": {
             "outlinewidth": 0,
             "ticks": ""
            },
            "type": "mesh3d"
           }
          ],
          "parcoords": [
           {
            "line": {
             "colorbar": {
              "outlinewidth": 0,
              "ticks": ""
             }
            },
            "type": "parcoords"
           }
          ],
          "pie": [
           {
            "automargin": true,
            "type": "pie"
           }
          ],
          "scatter": [
           {
            "fillpattern": {
             "fillmode": "overlay",
             "size": 10,
             "solidity": 0.2
            },
            "type": "scatter"
           }
          ],
          "scatter3d": [
           {
            "line": {
             "colorbar": {
              "outlinewidth": 0,
              "ticks": ""
             }
            },
            "marker": {
             "colorbar": {
              "outlinewidth": 0,
              "ticks": ""
             }
            },
            "type": "scatter3d"
           }
          ],
          "scattercarpet": [
           {
            "marker": {
             "colorbar": {
              "outlinewidth": 0,
              "ticks": ""
             }
            },
            "type": "scattercarpet"
           }
          ],
          "scattergeo": [
           {
            "marker": {
             "colorbar": {
              "outlinewidth": 0,
              "ticks": ""
             }
            },
            "type": "scattergeo"
           }
          ],
          "scattergl": [
           {
            "marker": {
             "colorbar": {
              "outlinewidth": 0,
              "ticks": ""
             }
            },
            "type": "scattergl"
           }
          ],
          "scattermapbox": [
           {
            "marker": {
             "colorbar": {
              "outlinewidth": 0,
              "ticks": ""
             }
            },
            "type": "scattermapbox"
           }
          ],
          "scatterpolar": [
           {
            "marker": {
             "colorbar": {
              "outlinewidth": 0,
              "ticks": ""
             }
            },
            "type": "scatterpolar"
           }
          ],
          "scatterpolargl": [
           {
            "marker": {
             "colorbar": {
              "outlinewidth": 0,
              "ticks": ""
             }
            },
            "type": "scatterpolargl"
           }
          ],
          "scatterternary": [
           {
            "marker": {
             "colorbar": {
              "outlinewidth": 0,
              "ticks": ""
             }
            },
            "type": "scatterternary"
           }
          ],
          "surface": [
           {
            "colorbar": {
             "outlinewidth": 0,
             "ticks": ""
            },
            "colorscale": [
             [
              0,
              "#0d0887"
             ],
             [
              0.1111111111111111,
              "#46039f"
             ],
             [
              0.2222222222222222,
              "#7201a8"
             ],
             [
              0.3333333333333333,
              "#9c179e"
             ],
             [
              0.4444444444444444,
              "#bd3786"
             ],
             [
              0.5555555555555556,
              "#d8576b"
             ],
             [
              0.6666666666666666,
              "#ed7953"
             ],
             [
              0.7777777777777778,
              "#fb9f3a"
             ],
             [
              0.8888888888888888,
              "#fdca26"
             ],
             [
              1,
              "#f0f921"
             ]
            ],
            "type": "surface"
           }
          ],
          "table": [
           {
            "cells": {
             "fill": {
              "color": "#EBF0F8"
             },
             "line": {
              "color": "white"
             }
            },
            "header": {
             "fill": {
              "color": "#C8D4E3"
             },
             "line": {
              "color": "white"
             }
            },
            "type": "table"
           }
          ]
         },
         "layout": {
          "annotationdefaults": {
           "arrowcolor": "#2a3f5f",
           "arrowhead": 0,
           "arrowwidth": 1
          },
          "autotypenumbers": "strict",
          "coloraxis": {
           "colorbar": {
            "outlinewidth": 0,
            "ticks": ""
           }
          },
          "colorscale": {
           "diverging": [
            [
             0,
             "#8e0152"
            ],
            [
             0.1,
             "#c51b7d"
            ],
            [
             0.2,
             "#de77ae"
            ],
            [
             0.3,
             "#f1b6da"
            ],
            [
             0.4,
             "#fde0ef"
            ],
            [
             0.5,
             "#f7f7f7"
            ],
            [
             0.6,
             "#e6f5d0"
            ],
            [
             0.7,
             "#b8e186"
            ],
            [
             0.8,
             "#7fbc41"
            ],
            [
             0.9,
             "#4d9221"
            ],
            [
             1,
             "#276419"
            ]
           ],
           "sequential": [
            [
             0,
             "#0d0887"
            ],
            [
             0.1111111111111111,
             "#46039f"
            ],
            [
             0.2222222222222222,
             "#7201a8"
            ],
            [
             0.3333333333333333,
             "#9c179e"
            ],
            [
             0.4444444444444444,
             "#bd3786"
            ],
            [
             0.5555555555555556,
             "#d8576b"
            ],
            [
             0.6666666666666666,
             "#ed7953"
            ],
            [
             0.7777777777777778,
             "#fb9f3a"
            ],
            [
             0.8888888888888888,
             "#fdca26"
            ],
            [
             1,
             "#f0f921"
            ]
           ],
           "sequentialminus": [
            [
             0,
             "#0d0887"
            ],
            [
             0.1111111111111111,
             "#46039f"
            ],
            [
             0.2222222222222222,
             "#7201a8"
            ],
            [
             0.3333333333333333,
             "#9c179e"
            ],
            [
             0.4444444444444444,
             "#bd3786"
            ],
            [
             0.5555555555555556,
             "#d8576b"
            ],
            [
             0.6666666666666666,
             "#ed7953"
            ],
            [
             0.7777777777777778,
             "#fb9f3a"
            ],
            [
             0.8888888888888888,
             "#fdca26"
            ],
            [
             1,
             "#f0f921"
            ]
           ]
          },
          "colorway": [
           "#636efa",
           "#EF553B",
           "#00cc96",
           "#ab63fa",
           "#FFA15A",
           "#19d3f3",
           "#FF6692",
           "#B6E880",
           "#FF97FF",
           "#FECB52"
          ],
          "font": {
           "color": "#2a3f5f"
          },
          "geo": {
           "bgcolor": "white",
           "lakecolor": "white",
           "landcolor": "#E5ECF6",
           "showlakes": true,
           "showland": true,
           "subunitcolor": "white"
          },
          "hoverlabel": {
           "align": "left"
          },
          "hovermode": "closest",
          "mapbox": {
           "style": "light"
          },
          "paper_bgcolor": "white",
          "plot_bgcolor": "#E5ECF6",
          "polar": {
           "angularaxis": {
            "gridcolor": "white",
            "linecolor": "white",
            "ticks": ""
           },
           "bgcolor": "#E5ECF6",
           "radialaxis": {
            "gridcolor": "white",
            "linecolor": "white",
            "ticks": ""
           }
          },
          "scene": {
           "xaxis": {
            "backgroundcolor": "#E5ECF6",
            "gridcolor": "white",
            "gridwidth": 2,
            "linecolor": "white",
            "showbackground": true,
            "ticks": "",
            "zerolinecolor": "white"
           },
           "yaxis": {
            "backgroundcolor": "#E5ECF6",
            "gridcolor": "white",
            "gridwidth": 2,
            "linecolor": "white",
            "showbackground": true,
            "ticks": "",
            "zerolinecolor": "white"
           },
           "zaxis": {
            "backgroundcolor": "#E5ECF6",
            "gridcolor": "white",
            "gridwidth": 2,
            "linecolor": "white",
            "showbackground": true,
            "ticks": "",
            "zerolinecolor": "white"
           }
          },
          "shapedefaults": {
           "line": {
            "color": "#2a3f5f"
           }
          },
          "ternary": {
           "aaxis": {
            "gridcolor": "white",
            "linecolor": "white",
            "ticks": ""
           },
           "baxis": {
            "gridcolor": "white",
            "linecolor": "white",
            "ticks": ""
           },
           "bgcolor": "#E5ECF6",
           "caxis": {
            "gridcolor": "white",
            "linecolor": "white",
            "ticks": ""
           }
          },
          "title": {
           "x": 0.05
          },
          "xaxis": {
           "automargin": true,
           "gridcolor": "white",
           "linecolor": "white",
           "ticks": "",
           "title": {
            "standoff": 15
           },
           "zerolinecolor": "white",
           "zerolinewidth": 2
          },
          "yaxis": {
           "automargin": true,
           "gridcolor": "white",
           "linecolor": "white",
           "ticks": "",
           "title": {
            "standoff": 15
           },
           "zerolinecolor": "white",
           "zerolinewidth": 2
          }
         }
        }
       }
      }
     },
     "metadata": {},
     "output_type": "display_data"
    }
   ],
   "source": [
    "px.scatter_3d(x=x_testdf.iloc[:,0],y=x_testdf.iloc[:,1],z=x_testdf.iloc[:,2], color= y_pred)"
   ]
  },
  {
   "cell_type": "code",
   "execution_count": 420,
   "metadata": {},
   "outputs": [
    {
     "name": "stdout",
     "output_type": "stream",
     "text": [
      "Recall(TP/FN+TP ):0.43601895734597157\n",
      "Precsion(TP/FP+TP): 0.4842105263157895 \n",
      "F1 score function of presscion and recall:0.45885286783042395 \n"
     ]
    },
    {
     "data": {
      "image/png": "[encoded data removed]",
      "text/plain": [
       "<Figure size 640x480 with 2 Axes>"
      ]
     },
     "metadata": {},
     "output_type": "display_data"
    }
   ],
   "source": [
    "conMtx = confusion_matrix(y_test,y_pred)\n",
    "sns.heatmap(conMtx)\n",
    "f1 = f1_score(y_test,y_pred)\n",
    "recall = recall_score(y_test,y_pred)\n",
    "pre = precision_score(y_test,y_pred)\n",
    "\n",
    "print(f\"Recall(TP/FN+TP ):{recall}\")\n",
    "print(f\"Precsion(TP/FP+TP): {pre} \")\n",
    "print(f\"F1 score function of presscion and recall:{f1} \")"
   ]
  },
  {
   "cell_type": "code",
   "execution_count": 421,
   "metadata": {},
   "outputs": [
    {
     "name": "stdout",
     "output_type": "stream",
     "text": [
      "5\n",
      " Training QDT no : 1\n",
      "Epoch:  1 | Loss: 0.320929 |  accuracy: 0.496894 \n",
      "Epoch:  2 | Loss: 0.292106 |  accuracy: 0.518634 \n",
      "Epoch:  3 | Loss: 0.287766 |  accuracy: 0.571429 \n",
      "Epoch:  4 | Loss: 0.293640 |  accuracy: 0.527950 \n",
      "Epoch:  5 | Loss: 0.288354 |  accuracy: 0.537267 \n",
      "Epoch:  6 | Loss: 0.295245 |  accuracy: 0.540373 \n",
      "Epoch:  7 | Loss: 0.288751 |  accuracy: 0.540373 \n",
      "Epoch:  8 | Loss: 0.300453 |  accuracy: 0.512422 \n",
      "Epoch:  9 | Loss: 0.295321 |  accuracy: 0.552795 \n",
      "Epoch: 10 | Loss: 0.280793 |  accuracy: 0.552795 \n",
      " Training QDT no : 2\n",
      "Epoch:  1 | Loss: 0.315767 |  accuracy: 0.524845 \n",
      "Epoch:  2 | Loss: 0.302626 |  accuracy: 0.559006 \n",
      "Epoch:  3 | Loss: 0.294119 |  accuracy: 0.577640 \n",
      "Epoch:  4 | Loss: 0.287688 |  accuracy: 0.509317 \n",
      "Epoch:  5 | Loss: 0.296786 |  accuracy: 0.534161 \n",
      "Epoch:  6 | Loss: 0.273341 |  accuracy: 0.552795 \n",
      "Epoch:  7 | Loss: 0.314447 |  accuracy: 0.540373 \n",
      "Epoch:  8 | Loss: 0.272460 |  accuracy: 0.549689 \n",
      "Epoch:  9 | Loss: 0.284294 |  accuracy: 0.549689 \n",
      "Epoch: 10 | Loss: 0.276461 |  accuracy: 0.531056 \n",
      " Training QDT no : 3\n",
      "Epoch:  1 | Loss: 0.341116 |  accuracy: 0.534161 \n",
      "Epoch:  2 | Loss: 0.311663 |  accuracy: 0.527950 \n",
      "Epoch:  3 | Loss: 0.340806 |  accuracy: 0.484472 \n",
      "Epoch:  4 | Loss: 0.306251 |  accuracy: 0.512422 \n",
      "Epoch:  5 | Loss: 0.305427 |  accuracy: 0.496894 \n",
      "Epoch:  6 | Loss: 0.311023 |  accuracy: 0.506211 \n",
      "Epoch:  7 | Loss: 0.311127 |  accuracy: 0.537267 \n",
      "Epoch:  8 | Loss: 0.284209 |  accuracy: 0.555901 \n",
      "Epoch:  9 | Loss: 0.274877 |  accuracy: 0.527950 \n",
      "Epoch: 10 | Loss: 0.275813 |  accuracy: 0.546584 \n",
      " Training QDT no : 4\n",
      "Epoch:  1 | Loss: 0.315429 |  accuracy: 0.487578 \n",
      "Epoch:  2 | Loss: 0.308641 |  accuracy: 0.481366 \n",
      "Epoch:  3 | Loss: 0.299327 |  accuracy: 0.500000 \n",
      "Epoch:  4 | Loss: 0.315241 |  accuracy: 0.527950 \n",
      "Epoch:  5 | Loss: 0.300721 |  accuracy: 0.515528 \n",
      "Epoch:  6 | Loss: 0.295648 |  accuracy: 0.515528 \n",
      "Epoch:  7 | Loss: 0.293599 |  accuracy: 0.524845 \n",
      "Epoch:  8 | Loss: 0.292307 |  accuracy: 0.524845 \n",
      "Epoch:  9 | Loss: 0.292801 |  accuracy: 0.515528 \n",
      "Epoch: 10 | Loss: 0.291520 |  accuracy: 0.515528 \n",
      " Training QDT no : 5\n",
      "Epoch:  1 | Loss: 0.305489 |  accuracy: 0.484472 \n",
      "Epoch:  2 | Loss: 0.330260 |  accuracy: 0.475155 \n",
      "Epoch:  3 | Loss: 0.293222 |  accuracy: 0.549689 \n",
      "Epoch:  4 | Loss: 0.293794 |  accuracy: 0.546584 \n",
      "Epoch:  5 | Loss: 0.293013 |  accuracy: 0.534161 \n",
      "Epoch:  6 | Loss: 0.305888 |  accuracy: 0.534161 \n",
      "Epoch:  7 | Loss: 0.289450 |  accuracy: 0.537267 \n",
      "Epoch:  8 | Loss: 0.288082 |  accuracy: 0.540373 \n",
      "Epoch:  9 | Loss: 0.304145 |  accuracy: 0.518634 \n",
      "Epoch: 10 | Loss: 0.287261 |  accuracy: 0.534161 \n",
      "[3 2 2 2 2 4 3 3 3 0 3 3 4 3 2 2 3 4 2 3 3 4 3 3 2 4 3 3 2 3 2 0 4 3 2 4 3\n",
      " 3 3 2 4 4 4 1 3 2 3 3 3 2 2 4 3 3 2 4 0 2 2 0 3 0 4 3 0 4 2 2 0 3 4 4 3 2\n",
      " 4 2 3 4 2 3 4 3 2 0 0 0 3 1 2 2 2 3 3 2 1 2 2 2 0 4 2 2 2 2 2 2 3 2 1 3 2\n",
      " 3 3 2 3 2 2 2 4 1 3 1 2 2 3 2 2 3 3 4 5 2 2 3 3 2 3 5 3 1 1 2 1 2 3 4 3 3\n",
      " 3 4 3 1 4 3 4 3 3 1 2 4 2 3 3 2 3 2 1 3 1 3 3 4 1 3 1 5 4 2 4 5 3 2 4 4 2\n",
      " 4 3 3 0 2 2 4 2 3 1 4 4 2 2 5 4 2 4 5 4 3 3 2 2 3 2 2 3 3 4 3 2 3 1 3 2 2\n",
      " 2 4 5 4 3 4 3 2 3 4 3 4 0 3 3 1 1 3 3 4 1 0 1 3 4 1 3 2 4 4 2 2 3 3 3 2 4\n",
      " 2 3 2 3 2 3 5 2 4 1 2 1 2 3 3 2 0 2 3 3 2 2 2 4 3 3 2 1 3 3 2 3 1 2 2 4 5\n",
      " 2 2 2 3 2 3 0 3 3 1 3 4 1 4 5 2 4 2 3 2 1 2 1 2 4 4 1 2 2 3 1 4 0 1 4 1 1\n",
      " 1 3 1 0 3 3 3 3 3 3 3 2 0 1 2 3 2 2 3 4 3 3 1 2 3 2 2 3 2 1 1 3 2 3 2 4 4\n",
      " 4 1 3 4 2 3 2 4 1 2 0 2 4 3 4 3 3 3 3 3 2 3 4 1 5 1 2 1 3 3 2 5 3 2]\n",
      "Recall(TP/FN+TP ):0.5023696682464455\n",
      "Precsion(TP/FP+TP): 0.49074074074074076 \n",
      "F1 score function of presscion and recall:0.4964871194379391 \n"
     ]
    },
    {
     "data": {
      "image/png": "[encoded data removed]",
      "text/plain": [
       "<Figure size 640x480 with 2 Axes>"
      ]
     },
     "metadata": {},
     "output_type": "display_data"
    }
   ],
   "source": [
    "qrf = QRF(X_train,y_train, no_QDT=5, sensetivity= 0.5 ) \n",
    "\n",
    "qrf.train()\n",
    "y_pred,individual_y = qrf.predict(X_test, y_test)\n",
    "conMtx = confusion_matrix(y_test,y_pred)\n",
    "\n",
    "sns.heatmap(conMtx)\n",
    "f1 = f1_score(y_test,y_pred)\n",
    "recall = recall_score(y_test,y_pred)\n",
    "pre = precision_score(y_test,y_pred)\n",
    "\n",
    "print(f\"Recall(TP/FN+TP ):{recall}\")\n",
    "print(f\"Precsion(TP/FP+TP): {pre} \")\n",
    "print(f\"F1 score function of presscion and recall:{f1} \")"
   ]
  },
  {
   "cell_type": "code",
   "execution_count": 422,
   "metadata": {},
   "outputs": [
    {
     "name": "stdout",
     "output_type": "stream",
     "text": [
      "Epoch:  1 | Loss: 0.331495 |  accuracy: 0.495970 \n",
      "Epoch:  2 | Loss: 0.314060 |  accuracy: 0.499690 \n",
      "Epoch:  3 | Loss: 0.329696 |  accuracy: 0.485431 \n",
      "Epoch:  4 | Loss: 0.326502 |  accuracy: 0.508369 \n",
      "Epoch:  5 | Loss: 0.317189 |  accuracy: 0.508989 \n",
      "Epoch:  6 | Loss: 0.318670 |  accuracy: 0.509609 \n",
      "Epoch:  7 | Loss: 0.332934 |  accuracy: 0.507130 \n",
      "Epoch:  8 | Loss: 0.307380 |  accuracy: 0.529448 \n",
      "Epoch:  9 | Loss: 0.306293 |  accuracy: 0.508369 \n",
      "Epoch: 10 | Loss: 0.350347 |  accuracy: 0.513329 \n"
     ]
    }
   ],
   "source": [
    "model = Reuploader( dev, num_layers=3)\n",
    "\n",
    "model.fit(x_train, y_train)"
   ]
  },
  {
   "cell_type": "code",
   "execution_count": 423,
   "metadata": {},
   "outputs": [
    {
     "name": "stdout",
     "output_type": "stream",
     "text": [
      "Epoch:  1 | Loss: 0.313807 |  accuracy: 0.528828 \n",
      "Epoch:  2 | Loss: 0.341036 |  accuracy: 0.501550 \n",
      "Epoch:  3 | Loss: 0.329239 |  accuracy: 0.494730 \n",
      "Epoch:  4 | Loss: 0.336684 |  accuracy: 0.489771 \n",
      "Epoch:  5 | Loss: 0.331929 |  accuracy: 0.508989 \n",
      "Epoch:  6 | Loss: 0.332868 |  accuracy: 0.511469 \n",
      "Epoch:  7 | Loss: 0.331904 |  accuracy: 0.512089 \n",
      "Epoch:  8 | Loss: 0.344433 |  accuracy: 0.507130 \n",
      "Epoch:  9 | Loss: 0.324513 |  accuracy: 0.494110 \n",
      "Epoch: 10 | Loss: 0.340987 |  accuracy: 0.491631 \n"
     ]
    }
   ],
   "source": [
    "model = Reuploader( dev, num_layers=4)\n",
    "\n",
    "model.fit(X_train, y_train)"
   ]
  },
  {
   "cell_type": "code",
   "execution_count": 424,
   "metadata": {},
   "outputs": [
    {
     "name": "stdout",
     "output_type": "stream",
     "text": [
      "Epoch:  1 | Loss: 0.315506 |  accuracy: 0.521389 \n",
      "Epoch:  2 | Loss: 0.330891 |  accuracy: 0.493490 \n",
      "Epoch:  3 | Loss: 0.319745 |  accuracy: 0.500310 \n",
      "Epoch:  4 | Loss: 0.327399 |  accuracy: 0.502170 \n",
      "Epoch:  5 | Loss: 0.324714 |  accuracy: 0.519529 \n",
      "Epoch:  6 | Loss: 0.316547 |  accuracy: 0.508989 \n",
      "Epoch:  7 | Loss: 0.316665 |  accuracy: 0.511469 \n",
      "Epoch:  8 | Loss: 0.335654 |  accuracy: 0.501550 \n",
      "Epoch:  9 | Loss: 0.337324 |  accuracy: 0.496590 \n",
      "Epoch: 10 | Loss: 0.329357 |  accuracy: 0.503410 \n"
     ]
    }
   ],
   "source": [
    "model = Reuploader( dev, num_layers=5)\n",
    "\n",
    "model.fit(X_train, y_train)"
   ]
  },
  {
   "cell_type": "code",
   "execution_count": 425,
   "metadata": {},
   "outputs": [],
   "source": [
    "y_pred = model.predict(x_test,y_test)"
   ]
  },
  {
   "cell_type": "code",
   "execution_count": 426,
   "metadata": {},
   "outputs": [
    {
     "name": "stdout",
     "output_type": "stream",
     "text": [
      "Recall(TP/FN+TP ):0.4976303317535545\n",
      "Precsion(TP/FP+TP): 0.5223880597014925 \n",
      "F1 score function of presscion and recall:0.5097087378640777 \n"
     ]
    },
    {
     "data": {
      "image/png": "[encoded data removed]",
      "text/plain": [
       "<Figure size 640x480 with 2 Axes>"
      ]
     },
     "metadata": {},
     "output_type": "display_data"
    }
   ],
   "source": [
    "conMtx = confusion_matrix(y_test,y_pred)\n",
    "sns.heatmap(conMtx)\n",
    "f1 = f1_score(y_test,y_pred)\n",
    "recall = recall_score(y_test,y_pred)\n",
    "pre = precision_score(y_test,y_pred)\n",
    "\n",
    "print(f\"Recall(TP/FN+TP ):{recall}\")\n",
    "print(f\"Precsion(TP/FP+TP): {pre} \")\n",
    "print(f\"F1 score function of presscion and recall:{f1} \")"
   ]
  },
  {
   "cell_type": "code",
   "execution_count": 427,
   "metadata": {},
   "outputs": [
    {
     "data": {
      "application/vnd.plotly.v1+json": {
       "config": {
        "plotlyServerURL": "https://plot.ly"
       },
       "data": [
        {
         "hovertemplate": "x=%{x}<br>y=%{y}<br>z=%{z}<br>color=%{marker.color}<extra></extra>",
         "legendgroup": "",
         "marker": {
          "color": [
           1,
           1,
           1,
           0,
           1,
           0,
           1,
           0,
           1,
           1,
           0,
           1,
           0,
           1,
           0,
           0,
           1,
           1,
           0,
           0,
           0,
           0,
           0,
           1,
           0,
           1,
           0,
           0,
           0,
           0,
           1,
           0,
           1,
           1,
           0,
           0,
           0,
           0,
           1,
           0,
           0,
           1,
           1,
           0,
           0,
           1,
           1,
           1,
           0,
           1,
           0,
           0,
           1,
           1,
           0,
           0,
           1,
           1,
           1,
           1,
           1,
           1,
           0,
           0,
           1,
           1,
           0,
           0,
           1,
           1,
           1,
           1,
           1,
           0,
           0,
           1,
           1,
           1,
           1,
           0,
           0,
           0,
           1,
           0,
           1,
           1,
           0,
           0,
           0,
           1,
           0,
           1,
           0,
           1,
           1,
           0,
           0,
           0,
           1,
           0,
           0,
           0,
           1,
           0,
           0,
           0,
           0,
           1,
           1,
           0,
           1,
           0,
           1,
           0,
           0,
           0,
           0,
           0,
           1,
           1,
           1,
           0,
           0,
           0,
           0,
           1,
           1,
           0,
           0,
           1,
           1,
           1,
           1,
           1,
           1,
           0,
           0,
           1,
           0,
           0,
           0,
           0,
           1,
           0,
           0,
           0,
           0,
           0,
           1,
           1,
           0,
           0,
           1,
           1,
           0,
           0,
           0,
           1,
           0,
           1,
           1,
           1,
           0,
           1,
           0,
           0,
           1,
           1,
           1,
           1,
           0,
           1,
           0,
           0,
           1,
           1,
           1,
           0,
           0,
           1,
           0,
           0,
           1,
           0,
           1,
           1,
           1,
           1,
           1,
           1,
           1,
           1,
           0,
           0,
           0,
           1,
           1,
           0,
           0,
           1,
           1,
           1,
           0,
           1,
           1,
           1,
           0,
           0,
           0,
           0,
           0,
           1,
           0,
           1,
           1,
           1,
           0,
           1,
           1,
           0,
           1,
           1,
           1,
           1,
           1,
           0,
           1,
           1,
           0,
           0,
           0,
           1,
           0,
           1,
           1,
           1,
           0,
           1,
           0,
           0,
           0,
           1,
           0,
           1,
           1,
           0,
           1,
           1,
           1,
           0,
           0,
           0,
           0,
           0,
           1,
           1,
           0,
           1,
           0,
           0,
           0,
           1,
           1,
           0,
           0,
           1,
           0,
           0,
           1,
           0,
           0,
           0,
           0,
           0,
           1,
           0,
           1,
           1,
           1,
           0,
           1,
           0,
           0,
           1,
           0,
           1,
           1,
           1,
           1,
           0,
           0,
           1,
           0,
           0,
           0,
           0,
           0,
           0,
           0,
           0,
           1,
           1,
           1,
           0,
           0,
           0,
           0,
           1,
           0,
           0,
           1,
           0,
           1,
           0,
           0,
           1,
           0,
           0,
           1,
           0,
           1,
           1,
           1,
           1,
           0,
           0,
           0,
           0,
           1,
           1,
           1,
           0,
           1,
           0,
           0,
           0,
           1,
           1,
           1,
           1,
           1,
           1,
           0,
           0,
           0,
           0,
           1,
           0,
           1,
           1,
           0,
           1,
           0,
           1,
           1,
           0,
           0,
           1,
           0,
           1,
           1,
           0,
           1,
           1,
           1,
           0,
           0,
           0,
           1,
           1,
           0,
           1,
           1,
           0,
           0,
           1,
           1,
           1,
           1,
           1,
           1,
           0,
           0,
           1,
           1,
           0,
           0,
           0,
           0,
           1,
           1,
           0,
           0,
           0,
           1,
           0,
           1,
           1,
           1,
           1,
           0,
           1,
           1,
           1
          ],
          "coloraxis": "coloraxis",
          "symbol": "circle"
         },
         "mode": "markers",
         "name": "",
         "scene": "scene",
         "showlegend": false,
         "type": "scatter3d",
         "x": [
          3.9656736814240294,
          -5.5517929394341605,
          6.68776086674939,
          0.5165362470470959,
          -1.5596724130535877,
          4.972550123670571,
          -6.232714128525154,
          -0.8072380215033506,
          0.9499576013169186,
          9.492600911165113,
          -2.99697496465625,
          -2.2598916225322085,
          6.809141957770477,
          -2.4008166670617874,
          -4.487778515165683,
          -3.564672164484353,
          1.821860641677875,
          2.6083563696508514,
          5.05782548925524,
          -0.9944715878838817,
          2.4044148508820733,
          4.253293958240879,
          5.694606726172606,
          -3.5077609849501292,
          1.0501808737190241,
          0.5733286535866731,
          -0.03213211722131105,
          4.2956173382052745,
          3.6520552698662416,
          2.6018644364635652,
          1.1430602469190294,
          -3.4832137709935904,
          -1.4083618091883023,
          0.8327370226067352,
          -6.572295788329131,
          -5.3080367041636665,
          8.985192617402584,
          4.255884024776311,
          4.522489502335722,
          -6.011055642065317,
          -5.440985775537714,
          7.535164303740893,
          4.50220215657965,
          -6.132016438166981,
          -3.8095696189193764,
          1.3635817836883093,
          0.4612415764085352,
          3.3619791254674776,
          0.3789815661095938,
          3.529745025522083,
          -7.135836961906808,
          -2.1062350789059145,
          0.39262244607905933,
          -3.1598988202367995,
          8.013335482773448,
          6.734525241914259,
          -0.495794456435977,
          2.312205234643183,
          -7.4453281261764745,
          7.218237132269712,
          1.5759095071683231,
          6.998315112054041,
          6.59459239132662,
          4.648736694597558,
          -4.605196460007229,
          3.892003118666156,
          1.3625955789258593,
          8.594919509308816,
          -6.849168546524536,
          -1.6474357917810714,
          -0.9856304345476442,
          4.826131273653971,
          1.4790435360659557,
          -2.393200156423395,
          5.512927013235647,
          0.7367637043070079,
          -0.8962391701277722,
          6.746584373872402,
          4.286756185780559,
          4.367115468505881,
          0.8366407392564068,
          4.769862873102657,
          -1.4907527428279432,
          -0.9178032362067795,
          7.844827108292685,
          7.284613064155981,
          8.574735639321187,
          -6.394849948073911,
          -4.4510635947819335,
          -7.256991092049106,
          1.9987134497734762,
          1.22176173419113,
          -1.6004722868585641,
          4.347408091113051,
          2.661877268423012,
          -6.284305799056836,
          3.4551110878330658,
          0.15621298784895815,
          7.075523786417844,
          -2.2138722106767763,
          1.8521053084829562,
          -2.833561850313176,
          3.759716947404285,
          -0.3360778270327388,
          -5.5855200576481145,
          2.5981175122486775,
          -6.420765287281618,
          -3.2668663712355026,
          -1.3613125490137497,
          -5.17780858168301,
          -6.137385632549194,
          0.5064480531673754,
          -2.475599382143989,
          4.369724073874692,
          -6.56987435820378,
          6.121963904529976,
          -4.392361443468309,
          1.2827956114491645,
          7.625067029219154,
          -3.827067575226624,
          8.832619152421668,
          -6.6530580507920885,
          -6.081290454260132,
          -5.341035134865796,
          -0.5320364379319211,
          0.95791838367645,
          -2.6460413429588354,
          0.6889956057103812,
          6.130486823857481,
          -7.072071547621341,
          6.9529102590635725,
          1.6802252292076802,
          1.1207167528619308,
          -2.4409959991729373,
          2.396816692227452,
          -6.1361114037571864,
          2.5871699391420213,
          4.111753264586642,
          -4.508400906816787,
          0.10658131197084697,
          5.966746971539194,
          -5.138805476153507,
          -3.7465433015758376,
          3.331217436652684,
          8.397255860519893,
          1.6761758460686598,
          -6.234484332155434,
          -3.774717092619199,
          1.9242349974476558,
          -5.7181127027562395,
          6.93703300012437,
          3.301714409969985,
          -0.3803968688782169,
          -0.4535328684081442,
          -5.070351511931833,
          -2.3201557714020327,
          -2.7721465523065265,
          3.026863406684496,
          -6.2419390968111355,
          4.442210988880567,
          2.035081948032831,
          -6.941181260441204,
          6.289671756297102,
          3.019939563501273,
          -4.306039358144579,
          5.838988530126791,
          1.091755622163547,
          4.3397973332741495,
          3.84544505452326,
          2.8190831501859854,
          -4.7018565117790505,
          -1.0075859694583051,
          -5.565002890555519,
          4.920289319911795,
          -4.268454547910402,
          5.93280437344337,
          -0.10703581049958263,
          -0.371051423033105,
          -3.5928759468623843,
          -2.2163588028516745,
          0.6274297512009724,
          -5.829331713198807,
          6.9763122153887345,
          -1.4307654809547061,
          4.058385739138683,
          2.446196208346952,
          1.014906533874973,
          -6.528149755144639,
          7.016287852645483,
          5.217959536885636,
          -7.244681823513475,
          0.6195633695270343,
          -0.5128894732754222,
          5.26427554297757,
          -5.331971062841406,
          -1.9102870631554634,
          8.951016580504318,
          -5.946639571684706,
          3.1514389040001864,
          2.7768720039595722,
          -2.6937886994819875,
          4.628424507711032,
          7.247853090759754,
          2.8003639550241135,
          -4.008432832298981,
          -4.320416961429239,
          0.12443231730286397,
          -4.77615220958908,
          -6.104081007667648,
          6.567656398354147,
          -3.9063453770278977,
          0.09170506687521629,
          -0.4162633806238166,
          -1.4719697681240553,
          0.3748487246503707,
          1.709932919433794,
          -5.6916774111767365,
          -3.2582848749239948,
          0.8614720752171414,
          0.009034731655954791,
          -0.47261341584074235,
          5.711575569427601,
          -6.299204283246334,
          -3.247867146083566,
          -5.698877572172456,
          5.198419944262178,
          -5.855686670225573,
          -6.273518520445829,
          -3.9378675317358915,
          1.9633572175069525,
          2.948661415245559,
          -6.955240739523404,
          -3.961035243372525,
          0.10809520267684454,
          2.6174340656036232,
          1.8717795032545281,
          -0.419924046988076,
          4.971544463099156,
          3.0234594226321994,
          -2.255972573177621,
          7.51846893172724,
          3.818914837888775,
          -2.894074791667501,
          -6.777107843188936,
          1.3307786928078926,
          0.19053648201613915,
          -4.551879954669742,
          -1.4961113906411745,
          -7.0551242722276335,
          2.733731966321695,
          0.09483147846507689,
          -6.0920631755459285,
          -0.4536031276069407,
          -0.9120774721145479,
          -6.590263582705573,
          -6.527641865001269,
          -7.232586091534334,
          -6.130945000391438,
          4.71361332957934,
          2.9524456587802503,
          -3.825351253353931,
          3.6490288705976752,
          6.6236384933109616,
          -5.808879969604677,
          -3.510684954026371,
          -1.0592722192059958,
          -0.605514856443636,
          6.471328085092203,
          -1.8407743070036053,
          -2.039279120262304,
          3.5744824356179947,
          3.0849961827070236,
          -4.944927961610429,
          0.7715731779380314,
          7.292964986821114,
          -0.4972080949299846,
          1.0406146778649294,
          -0.052347994317024076,
          -1.1820156321478823,
          1.6184743671939472,
          1.8472211548030828,
          2.132945277088603,
          -1.3933807259805557,
          -0.7568957080427444,
          2.1848165816499314,
          -1.3217092121579601,
          -0.961174796106354,
          7.2611933035295015,
          2.9926105937820173,
          2.5899430893936684,
          -5.304467968647458,
          1.7496991496597165,
          5.3637026518579125,
          -0.04126648023766285,
          -7.029442020212461,
          -3.022062751657181,
          6.407636332351108,
          -4.005630816167015,
          -0.42776908345153375,
          -3.5889367827761576,
          0.9250005409557759,
          -1.418592656439802,
          -4.6965375271311665,
          -1.0590650815961404,
          1.0768319806793845,
          -5.776503134316031,
          0.7802526820336079,
          -3.1085335481038383,
          -4.3385600581232735,
          -5.278893663960864,
          7.177610026236637,
          -7.848468655778474,
          4.1363633322156,
          5.504180813647925,
          5.272216564317732,
          -0.7427415956957483,
          5.413329620188677,
          5.735878043669804,
          -0.9738331486239443,
          -5.819846473166542,
          8.620839382274033,
          0.2662852064918837,
          -1.8419455789312968,
          -3.0123067877563154,
          4.045191156918947,
          -6.523399033985281,
          -5.84587634825219,
          7.070231673629358,
          1.4709433253731232,
          -4.2236491468123365,
          8.115966687122215,
          -3.63409854347924,
          -4.236966934748565,
          -7.366588298086167,
          -1.9974044075874897,
          6.791615572165819,
          -1.2862268148558826,
          2.680380665384111,
          -1.6431223207993202,
          -4.757245312836285,
          -2.419556963590488,
          -4.184075079411657,
          -4.904546531229709,
          0.47243140704558995,
          -0.5591532485828495,
          8.09664112547297,
          -0.35575474446147365,
          -1.2906821477247283,
          0.1366248526312065,
          3.317532850735335,
          -0.906303524950597,
          0.4386584728918747,
          5.129457866232684,
          3.1211584980461935,
          -5.245374000057831,
          -5.814722916332113,
          6.501390860182107,
          -2.903064961557728,
          -5.619051715243001,
          1.4493141784501071,
          0.9304532312847099,
          -7.238155425857963,
          -2.076623977205213,
          -1.069703587073906,
          -3.226362917434363,
          -4.725060183378911,
          3.0944205278531594,
          5.129687862132644,
          0.8091056844335832,
          5.365257657315671,
          -4.327315931262832,
          -3.6773590831620706,
          -6.685378963723751,
          1.8840804642622073,
          5.904578158800358,
          -1.714225900482045,
          -3.8773173655476896,
          -2.802384789258261,
          -6.713794185329019,
          -1.9295704308971409,
          -0.08948443887991292,
          -5.8694663998294265,
          -1.0912019311456314,
          3.907127017874565,
          -1.848190402098392,
          7.52643807224355,
          -5.52960071208892,
          5.514981041567128,
          -5.050907219938864,
          -2.611047588730541,
          0.6040261434088956,
          4.7627805803907926,
          2.1648553538917326,
          2.3868648664418406,
          3.056658908204565,
          -6.206312451697496,
          1.2199844466981538,
          4.77044890618325,
          4.9114247128714075,
          3.1822572870988566,
          -5.53479141528676,
          6.394935345487679,
          0.6611101820429847,
          4.905213910727297
         ],
         "y": [
          -3.3106997756454777,
          2.471565381880241,
          5.1880424422827485,
          4.917941526740074,
          -4.977259169503069,
          1.0975778198884771,
          1.218381778941,
          -4.652265685840128,
          5.1285391444151065,
          2.0195700083455663,
          -0.9810005499510017,
          -1.1858355152308848,
          2.349707160382813,
          -4.941403878400937,
          4.784438500131286,
          -1.3874846575945898,
          0.29649986044534193,
          6.252996166681427,
          3.0087357255278775,
          -5.947573129429882,
          -3.92725343126418,
          -3.028100390352521,
          2.6684401030062492,
          -3.35462503638377,
          -0.41955104033746893,
          -6.110537880867687,
          5.989937992224073,
          1.0347667519930777,
          -5.016798165026853,
          -2.998321995286056,
          -5.0773666409415945,
          -1.890103611871566,
          0.03355560254404084,
          -6.009386128782078,
          0.34771726501308875,
          -3.5300726989268134,
          -2.422583194951656,
          2.796108799079515,
          -0.07248082224916924,
          0.40885333343986646,
          2.486081634580564,
          3.3172975727831586,
          -3.013523764782179,
          -1.484820486314099,
          4.587005393981478,
          0.4996074998664628,
          6.464200994318604,
          -0.8093270426156481,
          2.242103245206156,
          -4.608201758259806,
          -2.314313152412119,
          4.1866473762084455,
          -5.853603562154204,
          -1.940557735712303,
          2.1940189927869382,
          2.7785858396044176,
          -0.9107446755559346,
          -5.438941490890076,
          -1.7692277570110921,
          -2.346607288570171,
          4.456173868424977,
          -2.1839473542505377,
          2.761327658810309,
          -1.0220627120809944,
          4.748680816511896,
          -3.7054153713517035,
          0.19462830166039893,
          2.3148396892650704,
          -1.0379387517795708,
          -0.7848553478110886,
          -5.7239937945295845,
          -3.629949304306828,
          0.264815824343349,
          0.8819908543543126,
          -3.7723992466796323,
          -3.5656122662541443,
          -5.423846824185196,
          3.0304612573877785,
          1.926803457564504,
          1.3735451550751714,
          -4.108290463164094,
          -2.2609655694296626,
          2.6155532511299158,
          -1.0074902005619206,
          -2.6777905427967714,
          -2.202464807672447,
          5.1536599688609,
          2.085048398725489,
          3.158502749655099,
          -1.522243461188681,
          -4.429805066461291,
          3.6674924851086854,
          -2.7129945495006833,
          -0.14314765144827202,
          -4.479129577500117,
          0.1018316224266826,
          5.1162660673375,
          5.496530776707181,
          -1.9699112879222171,
          -1.8092850246575762,
          0.9616860706671945,
          -2.579591661467413,
          3.5543336425255574,
          4.15618652392014,
          2.0534443440026697,
          -2.896696958042813,
          -0.25062537216289144,
          4.703060518179791,
          5.096016587466489,
          2.1189806454074884,
          1.7193390130381998,
          5.844622212327297,
          5.623636010190012,
          -3.783171641048108,
          0.02327693657825145,
          -1.136653462782048,
          2.5832896632174216,
          2.791267845714356,
          3.0142395563121704,
          4.34428039984735,
          5.807403449246256,
          0.8824078056510382,
          0.6419236285022062,
          1.8160571406490071,
          -1.8043287589952408,
          6.959240100719564,
          -4.659744999400069,
          2.2715552984797194,
          -2.671654520944972,
          -0.03473868291112731,
          1.8165242189910211,
          1.1215926046572862,
          -5.965505769811789,
          5.825084618548901,
          1.729287044152183,
          0.5419681492653129,
          -4.082535467261448,
          -0.11606180349994566,
          -1.3035816835895555,
          -1.14086902739395,
          1.1887184997295228,
          0.13712879571005251,
          4.755982038612792,
          -5.237198866899171,
          3.623625520652763,
          1.6750482045704709,
          0.31076146119252307,
          -4.2933038068092735,
          -5.671119306835711,
          1.8628845870538466,
          3.1042708345086103,
          -4.686775999678279,
          -3.9558903896063184,
          -4.374398998955724,
          3.1283277304981407,
          -2.0092043826365606,
          -3.2958054633424343,
          -4.713759573195561,
          0.903642496184067,
          0.13706544891746913,
          -5.163474027013449,
          0.3978076750664046,
          3.3256086588523273,
          1.3843177653929177,
          -3.697585294599857,
          -2.2804605122026227,
          -5.25934386338875,
          -4.457793150900905,
          2.2388479430302053,
          -4.511612697256899,
          0.24030881844892601,
          6.699994460663882,
          1.9054560933629452,
          -2.2675722813640724,
          -1.4502556817875525,
          -3.227296930857969,
          -0.5219832543498326,
          -2.9696905764509514,
          -4.451616231764638,
          -2.961216763232053,
          -4.048132587910933,
          2.9393112239880756,
          3.0046223717504907,
          7.130488057800291,
          -3.9756353050082964,
          6.121388137318441,
          2.407627840647171,
          -0.25349513670776735,
          -1.5939552865863638,
          -0.4217296413205102,
          -0.23938057508950852,
          1.0046602806012739,
          -3.034511747410599,
          3.292111485924842,
          3.519341058053292,
          6.061045201089446,
          3.4276731395623665,
          0.30931886705649136,
          5.138155180244787,
          -3.1420755509265494,
          -3.278717705581643,
          -0.6942089179369452,
          2.915163257641924,
          -3.158250024079845,
          3.792337136116686,
          4.632634016125034,
          6.25462178958167,
          3.1860039744997684,
          0.6385445654327336,
          -0.8118553429980111,
          4.998602515518412,
          4.341558608427756,
          -5.245291371445144,
          -5.124410466587167,
          0.3468972944129107,
          -3.0293954603762696,
          2.03238838833725,
          -3.3308025670108785,
          -5.22487691737636,
          -4.699955318864831,
          -4.57942865373567,
          -0.9095252130131947,
          -0.2719461578487543,
          -2.7948801605893316,
          1.0167773738842412,
          0.67142350616312,
          1.231150488757552,
          -0.13570587600073988,
          -4.180464810010613,
          -4.399580975654056,
          -5.536381900976213,
          0.20115984096827513,
          -4.256619257580074,
          -3.8976560950848014,
          -5.694550074909388,
          -1.2939792256739215,
          -3.6103995904456037,
          -4.375545944482893,
          -5.014341596615132,
          -1.5668485923413902,
          1.8125968578402658,
          -3.402343788330927,
          -0.1343961404813567,
          -0.7891839677802047,
          1.00875434141002,
          -5.222303675185284,
          3.183709304088915,
          -5.309619572714915,
          0.27671736443986095,
          -1.4165992854033178,
          1.8932524577735321,
          -3.900267697129227,
          -4.2748499248519,
          -5.1786023534431544,
          -0.1250827206878197,
          0.2398482165525455,
          -2.515062231783238,
          0.8039364776535766,
          0.5308316914220125,
          2.339300119720639,
          -4.54961909444338,
          1.7699883638708616,
          4.511989372380631,
          0.04330865077576069,
          2.365313309689063,
          -0.4201806886154988,
          3.3358216924856947,
          2.9001457612497785,
          2.3416729973018398,
          3.1285530254171747,
          -1.415121199916718,
          -5.182084478696072,
          1.4313657732346001,
          -2.906674164168623,
          2.0915376796393654,
          -1.2632480370008503,
          -5.052938413038004,
          -5.52197458429219,
          -5.582344159391939,
          -0.3941035876993264,
          -5.402727018695541,
          4.207545423307107,
          3.3524294847789515,
          -5.724419045569647,
          -4.2353653119633945,
          5.071180928432545,
          -4.929783322394794,
          0.6951465298721446,
          -4.561939927771503,
          2.3537832808338948,
          0.5472431111423711,
          -5.765994772693126,
          3.8246603512362696,
          0.22995001783080882,
          0.7177547473417065,
          4.400300991074658,
          0.2264918746680116,
          -1.6024881026726217,
          -4.722821626227401,
          -4.612277211093812,
          -4.950236952931438,
          -4.950765476227708,
          4.880700561201208,
          0.692401452446804,
          -1.776038720650036,
          1.8149886292222688,
          -4.665069490461076,
          -4.903375824766782,
          3.5121890645737084,
          -3.856457334655436,
          -3.11522081672849,
          -3.2225759184150555,
          0.750091923302083,
          2.9342787722298067,
          -2.2692466816652064,
          -0.25812717108598887,
          2.6622410629094895,
          -2.2584616997943785,
          -4.8634835900247495,
          0.7430407464279195,
          -0.6448107001703381,
          0.5335115749575505,
          -1.5316883459520474,
          -3.499017827484054,
          -3.251378316901504,
          0.050028927536522355,
          1.4365131791922283,
          2.8714024758802377,
          -5.147122434615922,
          -1.348556239456088,
          3.9156470127056373,
          -4.4620089891972095,
          4.6950767614620945,
          -1.5108255103724093,
          4.992068038013248,
          -1.4065317444927883,
          -3.9826138389948693,
          -4.248087074561131,
          5.317375570484288,
          -0.9529291115583169,
          4.9533445811812955,
          3.6439405014900808,
          -3.943115171956477,
          -4.974560291909803,
          0.8968496144318702,
          -1.715940549770096,
          5.098842580619705,
          -1.1571566263798676,
          -4.964254311092363,
          -4.453745063511259,
          -5.599903851967823,
          -5.813315937375844,
          0.48738617095119896,
          -0.5718349443254189,
          1.0119707706165888,
          1.3213559808055853,
          -0.5557206528113463,
          -0.2573741657744375,
          2.0134052005524685,
          -5.530734959698907,
          -5.926842894195562,
          -2.7461839671413624,
          -3.9677381936477487,
          -4.954776275204939,
          -3.3112147817823443,
          2.9551498751156102,
          -2.814257182205435,
          3.078775487286546,
          3.506194964131375,
          2.2552988091333126,
          2.019896794335188,
          4.202720741475909,
          0.18323541295002313,
          5.805651084770785,
          -2.4886472041294136,
          -3.36436971430995,
          4.3396707729144435,
          -4.655383233760825,
          -0.9499943175753088,
          -0.8912851611665326,
          5.243201952706365,
          -1.222011420107349,
          2.8362823735384124,
          -3.795440702008802,
          0.05883576887191507,
          1.6929703636210376,
          1.1711427712207867,
          7.357174509491355,
          0.22095730245155254,
          0.5092113802126098,
          0.5349410139755206,
          -2.818440319510738,
          -3.190750950305842,
          -4.357555391349571,
          -3.150047064790355,
          0.9409074207113898,
          -5.4435594506319775,
          -1.449619560042219,
          1.8514512377648924,
          -0.22005030015837812,
          2.7136564904415144,
          -3.163101550869408,
          -5.88244304372105,
          2.4929012857088395
         ],
         "z": [
          1.4722489690510685,
          -0.14729320172230634,
          -1.886029663001152,
          -0.7691869017971518,
          0.2536750223948029,
          -2.132377352609536,
          -1.3551188596577832,
          1.0587129189514046,
          -0.03548155081925577,
          -1.559627524604471,
          -1.6183600748734843,
          -2.9631857137032145,
          -2.1743009598672476,
          0.624091685103967,
          1.6373281129614543,
          -3.000574384325011,
          1.1357392986256478,
          0.2665079952592612,
          -2.451025979614644,
          0.8230123452412743,
          2.169597391747566,
          1.6497943084540574,
          -3.0660130043724894,
          -1.567117695065192,
          -1.4140314079030452,
          1.689120359745718,
          0.27349691513853575,
          -2.4971222939963567,
          3.8391994314452806,
          -0.2803755513594255,
          1.6260631177848004,
          -3.200789846603023,
          -0.6691597464650287,
          2.0778217045137426,
          -0.7261243403652818,
          -2.137649313339438,
          1.7847377425698059,
          -2.5825392182688978,
          -0.9424382129594164,
          -1.0526403178035604,
          1.2720202423744316,
          -1.9055769965107894,
          1.1337494964578587,
          -1.08436766553824,
          1.4714323648220333,
          -3.182560435778363,
          0.25019391258011203,
          -1.64700908953366,
          2.913755137041582,
          1.248880730290255,
          -2.307319398388402,
          -1.5601360908417448,
          1.896212386681736,
          -2.527446590298879,
          -2.1791692414246917,
          -2.570823686816544,
          -2.0857371715700044,
          3.2717332430769597,
          -1.941487419152553,
          1.4992500413820737,
          3.8840557559279283,
          1.4658536517940182,
          -2.4524644074937525,
          -3.576179811490634,
          2.5418699540754615,
          0.9458290803329059,
          -1.3216949420947168,
          -1.854273297642563,
          -1.4142104618583442,
          -2.3557706259845053,
          1.0125540922541696,
          0.7926257640187584,
          -2.890491138132134,
          -2.6399410329720108,
          1.760389532478404,
          0.2778137906036649,
          1.304191026154766,
          -2.870038642692483,
          -3.0114527670977855,
          -2.3402267199938005,
          1.1360005681292693,
          0.27181135430068054,
          2.717125602141912,
          -1.6651425933345405,
          2.147768873508347,
          1.4917421379214466,
          0.454711393525216,
          -0.005525799029030714,
          1.497192791414035,
          -0.9827284185630513,
          0.7640952959201627,
          0.0970075526897229,
          -0.8859632489511966,
          -0.45740117400404107,
          2.2986736694405567,
          -0.8289146038759126,
          -0.5120993043296731,
          5.371469242064109,
          1.2144778213854357,
          -1.8116930420095305,
          -1.0805047826952425,
          -2.82586753423578,
          -3.3542254583258404,
          4.648267211828637,
          0.7407624241240565,
          0.29083685341099363,
          -1.1503087301170398,
          3.299727324254465,
          -0.13444829363530472,
          0.9768831230539446,
          -0.9478209537444946,
          0.2653877891782863,
          -0.08735042706026855,
          1.9488011541523127,
          -0.9751269108979127,
          1.0325488668405294,
          1.5913339014959667,
          -0.20206277260718558,
          -1.968119040152484,
          2.2706930245574495,
          -1.8181566641128684,
          -0.7830085334720959,
          -1.082561872560737,
          -0.09507780657481699,
          -2.7522216881807187,
          -0.2991552025843005,
          1.0096744430860816,
          -3.9218318718000664,
          0.8401544697999083,
          -2.221706174625877,
          -1.4460643212532474,
          -1.7858077629877602,
          2.482816741381257,
          4.783185954883323,
          -3.929262883418048,
          -1.1094820203463835,
          2.904898720762067,
          -1.4160053915455209,
          0.6146676796809964,
          -1.4374916304029686,
          -0.25264909287699633,
          -1.1354238718170773,
          2.673727015195272,
          2.0659243060880037,
          -0.8771281275947738,
          -0.1552321438616499,
          -1.2614679339844643,
          -0.800045570495708,
          2.841067573977069,
          -1.1765358716119716,
          -0.5507479466639456,
          1.760803348673322,
          1.0314815411675209,
          0.7694652762986243,
          -0.35645262236616604,
          -1.2292754564385466,
          -2.0638505408895753,
          1.9976201485626253,
          -1.016438309643157,
          -1.4399228506286155,
          2.2544798805299173,
          -0.6994436230372454,
          -1.8820854028064322,
          -2.907720512805415,
          -2.2026591594374634,
          0.47363913767774285,
          2.9319662850668595,
          2.8797857121023354,
          -3.7921434233848466,
          2.8650985835074887,
          -0.5728146055552295,
          5.024654083548478,
          0.7075115948743739,
          0.37335666850448473,
          -3.0663097239807846,
          2.0130734300050155,
          -2.2886855912944712,
          -0.9376614649643327,
          0.08534521121088971,
          -0.5351605715832999,
          2.822065676748829,
          -0.3506607162430548,
          -3.1088858497944707,
          4.625723241659141,
          2.9079015316469077,
          -0.39629991955058724,
          5.408925719946299,
          -2.2507459777242245,
          1.3256131383165752,
          -0.9281503583425492,
          -1.3336831012566084,
          -2.2787424826011176,
          -0.7107810322768032,
          -2.189138197888984,
          0.9734766711860551,
          4.022594043854644,
          -2.6378925684243986,
          -1.186330388567172,
          0.2110869883832449,
          -1.059313807107077,
          -1.3563149682921396,
          -0.7101154234410799,
          -2.2497076663797895,
          -0.030614992077619203,
          0.4939442524914692,
          -0.008070919509866398,
          -0.3918209842511972,
          -0.7113438537973144,
          -0.872296025881671,
          -0.1591815693109765,
          3.4997967088972812,
          4.427354780739611,
          1.5363736157988443,
          1.5921766485320303,
          -2.4513678009773865,
          2.6581534137002323,
          0.6422305367216895,
          -1.6996304916885607,
          2.58280249796534,
          1.2692859498538187,
          0.5610956576938876,
          -0.2582078231892454,
          -1.505406749552333,
          -1.9723878394281498,
          -1.8397871820802791,
          -2.1878470108833343,
          -1.4036935342172665,
          -1.7826748536395247,
          0.4184990085592438,
          0.6543617952035158,
          3.4892701420786247,
          -1.1332836551440748,
          0.37272266719428704,
          1.4407708300306714,
          1.6792260828623067,
          -1.4555066260822713,
          2.788087800090676,
          2.6153755104048675,
          3.9686294076439443,
          -3.3266691722605874,
          -1.935642217747657,
          0.47654327433135174,
          -3.689032299423636,
          -1.8612113357809048,
          -3.325743879124766,
          1.6166023335077586,
          -0.9477854245320909,
          -0.007799972495458067,
          -0.743250001120738,
          -0.8621858826441269,
          -1.6124823015151666,
          -1.8275774673511849,
          -2.956922133376495,
          0.6966188078285374,
          -1.1631467224396355,
          -1.0983288481331959,
          -2.783077029327483,
          0.20149843800617886,
          -1.5885406135980153,
          -3.502991187537975,
          0.44578001551573293,
          -0.6187724016771614,
          -2.5054502587961887,
          -0.46421296642344473,
          2.556355326512072,
          -2.8869978573430637,
          -1.499467315791615,
          -2.6350151173003615,
          -0.4054238213073898,
          2.9613568725010797,
          2.959837913935782,
          4.181695478585798,
          -0.6570084699031019,
          -0.6819082296371625,
          -0.59443303732982,
          -2.014450083842762,
          1.824822533103904,
          1.5211001998622564,
          1.4590898710637998,
          -0.9026424991370579,
          1.3703675338850692,
          -0.3382162477727352,
          2.906252644049449,
          1.0180427835350958,
          2.698256113181084,
          -0.0802689438781839,
          2.5417976484343896,
          0.6799093670840102,
          2.819870512598156,
          -2.8172087740533818,
          -0.5895478015663905,
          2.207565453362561,
          -2.7058612319725506,
          -0.7499329317165234,
          -1.943156647298965,
          -1.7385972763504782,
          -0.5626225544674754,
          -2.8448161215677596,
          0.2961371296247579,
          0.5711265955977206,
          1.8082414935697864,
          2.067360757369058,
          2.045322842041999,
          -2.777005979429091,
          -1.7802124497048724,
          -0.2145186798019344,
          1.196534537691692,
          0.060653890889937445,
          1.5494231757760306,
          -1.8983701488948161,
          2.109713612525676,
          -2.191780615466392,
          -0.7192213900278069,
          -3.077934725673539,
          0.40813446723685776,
          -1.5488328282277637,
          -1.6996224656833239,
          1.4754435459126434,
          2.352863583268538,
          -1.1499988271871162,
          1.7605871690790795,
          -2.610534890335488,
          -1.768898241771682,
          -1.3253399821487388,
          1.7546067824542744,
          -1.0459653347220963,
          -0.43749860596643386,
          -3.3064308656827084,
          2.1686436135453957,
          -3.234182476179925,
          -2.2304151924383113,
          0.9911117668249912,
          3.045315082530992,
          -1.8934439673380354,
          3.8763652215158393,
          0.9315600423379066,
          -1.0569273319513528,
          2.8337594276493916,
          4.305248036450231,
          -0.31437767563784896,
          3.484191039824746,
          0.09198811304745705,
          -2.0130105321791456,
          1.0842079663625,
          -3.1975512153672527,
          1.7301938137846764,
          4.856307615015587,
          -2.5092942919957104,
          0.8912465181746052,
          3.1790118270658594,
          0.5906191718197689,
          1.814991533261444,
          -2.571493141672399,
          -1.165054629309858,
          1.1375760109981234,
          -0.37296190145589303,
          0.6093016719541412,
          -2.17370125737427,
          0.03954038747296278,
          3.0886172173893676,
          2.025899979031524,
          -2.5356944480296724,
          -0.9801643576757872,
          2.4869834333498106,
          -1.6161776093619242,
          1.5443752340072994,
          -0.10801421923221101,
          -3.5126340542954124,
          3.9287394585757025,
          -2.811937265778753,
          -0.5723900485332244,
          3.2534029654530814,
          -1.2363787712032732,
          0.2456220901724372,
          1.115542728484556,
          -0.15649364600235235,
          3.347834190399329,
          0.033002227264785626,
          -1.3722631846627307,
          0.3493012554251436,
          4.5664758979182345,
          -0.6302362386538033,
          2.076085929002865,
          1.2031433646379062,
          -1.1063101758798806,
          -0.43977609802815837,
          -1.1328147904447283,
          1.269196690558514,
          -0.3615266065473906,
          0.7389803092642142,
          -3.4849307870115904,
          0.875083308884698,
          -0.34578512531876116,
          2.0189561999195442,
          0.025874648663578564,
          -0.6096727034381759,
          3.1826250160638283,
          -0.06080990123913623,
          -2.8034892785703263,
          -2.042501983686066,
          -0.4457534832085095,
          2.847345415655164,
          1.9483348919256178,
          -3.491526075771734
         ]
        }
       ],
       "layout": {
        "coloraxis": {
         "colorbar": {
          "title": {
           "text": "color"
          }
         },
         "colorscale": [
          [
           0,
           "#0d0887"
          ],
          [
           0.1111111111111111,
           "#46039f"
          ],
          [
           0.2222222222222222,
           "#7201a8"
          ],
          [
           0.3333333333333333,
           "#9c179e"
          ],
          [
           0.4444444444444444,
           "#bd3786"
          ],
          [
           0.5555555555555556,
           "#d8576b"
          ],
          [
           0.6666666666666666,
           "#ed7953"
          ],
          [
           0.7777777777777778,
           "#fb9f3a"
          ],
          [
           0.8888888888888888,
           "#fdca26"
          ],
          [
           1,
           "#f0f921"
          ]
         ]
        },
        "legend": {
         "tracegroupgap": 0
        },
        "margin": {
         "t": 60
        },
        "scene": {
         "domain": {
          "x": [
           0,
           1
          ],
          "y": [
           0,
           1
          ]
         },
         "xaxis": {
          "title": {
           "text": "x"
          }
         },
         "yaxis": {
          "title": {
           "text": "y"
          }
         },
         "zaxis": {
          "title": {
           "text": "z"
          }
         }
        },
        "template": {
         "data": {
          "bar": [
           {
            "error_x": {
             "color": "#2a3f5f"
            },
            "error_y": {
             "color": "#2a3f5f"
            },
            "marker": {
             "line": {
              "color": "#E5ECF6",
              "width": 0.5
             },
             "pattern": {
              "fillmode": "overlay",
              "size": 10,
              "solidity": 0.2
             }
            },
            "type": "bar"
           }
          ],
          "barpolar": [
           {
            "marker": {
             "line": {
              "color": "#E5ECF6",
              "width": 0.5
             },
             "pattern": {
              "fillmode": "overlay",
              "size": 10,
              "solidity": 0.2
             }
            },
            "type": "barpolar"
           }
          ],
          "carpet": [
           {
            "aaxis": {
             "endlinecolor": "#2a3f5f",
             "gridcolor": "white",
             "linecolor": "white",
             "minorgridcolor": "white",
             "startlinecolor": "#2a3f5f"
            },
            "baxis": {
             "endlinecolor": "#2a3f5f",
             "gridcolor": "white",
             "linecolor": "white",
             "minorgridcolor": "white",
             "startlinecolor": "#2a3f5f"
            },
            "type": "carpet"
           }
          ],
          "choropleth": [
           {
            "colorbar": {
             "outlinewidth": 0,
             "ticks": ""
            },
            "type": "choropleth"
           }
          ],
          "contour": [
           {
            "colorbar": {
             "outlinewidth": 0,
             "ticks": ""
            },
            "colorscale": [
             [
              0,
              "#0d0887"
             ],
             [
              0.1111111111111111,
              "#46039f"
             ],
             [
              0.2222222222222222,
              "#7201a8"
             ],
             [
              0.3333333333333333,
              "#9c179e"
             ],
             [
              0.4444444444444444,
              "#bd3786"
             ],
             [
              0.5555555555555556,
              "#d8576b"
             ],
             [
              0.6666666666666666,
              "#ed7953"
             ],
             [
              0.7777777777777778,
              "#fb9f3a"
             ],
             [
              0.8888888888888888,
              "#fdca26"
             ],
             [
              1,
              "#f0f921"
             ]
            ],
            "type": "contour"
           }
          ],
          "contourcarpet": [
           {
            "colorbar": {
             "outlinewidth": 0,
             "ticks": ""
            },
            "type": "contourcarpet"
           }
          ],
          "heatmap": [
           {
            "colorbar": {
             "outlinewidth": 0,
             "ticks": ""
            },
            "colorscale": [
             [
              0,
              "#0d0887"
             ],
             [
              0.1111111111111111,
              "#46039f"
             ],
             [
              0.2222222222222222,
              "#7201a8"
             ],
             [
              0.3333333333333333,
              "#9c179e"
             ],
             [
              0.4444444444444444,
              "#bd3786"
             ],
             [
              0.5555555555555556,
              "#d8576b"
             ],
             [
              0.6666666666666666,
              "#ed7953"
             ],
             [
              0.7777777777777778,
              "#fb9f3a"
             ],
             [
              0.8888888888888888,
              "#fdca26"
             ],
             [
              1,
              "#f0f921"
             ]
            ],
            "type": "heatmap"
           }
          ],
          "heatmapgl": [
           {
            "colorbar": {
             "outlinewidth": 0,
             "ticks": ""
            },
            "colorscale": [
             [
              0,
              "#0d0887"
             ],
             [
              0.1111111111111111,
              "#46039f"
             ],
             [
              0.2222222222222222,
              "#7201a8"
             ],
             [
              0.3333333333333333,
              "#9c179e"
             ],
             [
              0.4444444444444444,
              "#bd3786"
             ],
             [
              0.5555555555555556,
              "#d8576b"
             ],
             [
              0.6666666666666666,
              "#ed7953"
             ],
             [
              0.7777777777777778,
              "#fb9f3a"
             ],
             [
              0.8888888888888888,
              "#fdca26"
             ],
             [
              1,
              "#f0f921"
             ]
            ],
            "type": "heatmapgl"
           }
          ],
          "histogram": [
           {
            "marker": {
             "pattern": {
              "fillmode": "overlay",
              "size": 10,
              "solidity": 0.2
             }
            },
            "type": "histogram"
           }
          ],
          "histogram2d": [
           {
            "colorbar": {
             "outlinewidth": 0,
             "ticks": ""
            },
            "colorscale": [
             [
              0,
              "#0d0887"
             ],
             [
              0.1111111111111111,
              "#46039f"
             ],
             [
              0.2222222222222222,
              "#7201a8"
             ],
             [
              0.3333333333333333,
              "#9c179e"
             ],
             [
              0.4444444444444444,
              "#bd3786"
             ],
             [
              0.5555555555555556,
              "#d8576b"
             ],
             [
              0.6666666666666666,
              "#ed7953"
             ],
             [
              0.7777777777777778,
              "#fb9f3a"
             ],
             [
              0.8888888888888888,
              "#fdca26"
             ],
             [
              1,
              "#f0f921"
             ]
            ],
            "type": "histogram2d"
           }
          ],
          "histogram2dcontour": [
           {
            "colorbar": {
             "outlinewidth": 0,
             "ticks": ""
            },
            "colorscale": [
             [
              0,
              "#0d0887"
             ],
             [
              0.1111111111111111,
              "#46039f"
             ],
             [
              0.2222222222222222,
              "#7201a8"
             ],
             [
              0.3333333333333333,
              "#9c179e"
             ],
             [
              0.4444444444444444,
              "#bd3786"
             ],
             [
              0.5555555555555556,
              "#d8576b"
             ],
             [
              0.6666666666666666,
              "#ed7953"
             ],
             [
              0.7777777777777778,
              "#fb9f3a"
             ],
             [
              0.8888888888888888,
              "#fdca26"
             ],
             [
              1,
              "#f0f921"
             ]
            ],
            "type": "histogram2dcontour"
           }
          ],
          "mesh3d": [
           {
            "colorbar": {
             "outlinewidth": 0,
             "ticks": ""
            },
            "type": "mesh3d"
           }
          ],
          "parcoords": [
           {
            "line": {
             "colorbar": {
              "outlinewidth": 0,
              "ticks": ""
             }
            },
            "type": "parcoords"
           }
          ],
          "pie": [
           {
            "automargin": true,
            "type": "pie"
           }
          ],
          "scatter": [
           {
            "fillpattern": {
             "fillmode": "overlay",
             "size": 10,
             "solidity": 0.2
            },
            "type": "scatter"
           }
          ],
          "scatter3d": [
           {
            "line": {
             "colorbar": {
              "outlinewidth": 0,
              "ticks": ""
             }
            },
            "marker": {
             "colorbar": {
              "outlinewidth": 0,
              "ticks": ""
             }
            },
            "type": "scatter3d"
           }
          ],
          "scattercarpet": [
           {
            "marker": {
             "colorbar": {
              "outlinewidth": 0,
              "ticks": ""
             }
            },
            "type": "scattercarpet"
           }
          ],
          "scattergeo": [
           {
            "marker": {
             "colorbar": {
              "outlinewidth": 0,
              "ticks": ""
             }
            },
            "type": "scattergeo"
           }
          ],
          "scattergl": [
           {
            "marker": {
             "colorbar": {
              "outlinewidth": 0,
              "ticks": ""
             }
            },
            "type": "scattergl"
           }
          ],
          "scattermapbox": [
           {
            "marker": {
             "colorbar": {
              "outlinewidth": 0,
              "ticks": ""
             }
            },
            "type": "scattermapbox"
           }
          ],
          "scatterpolar": [
           {
            "marker": {
             "colorbar": {
              "outlinewidth": 0,
              "ticks": ""
             }
            },
            "type": "scatterpolar"
           }
          ],
          "scatterpolargl": [
           {
            "marker": {
             "colorbar": {
              "outlinewidth": 0,
              "ticks": ""
             }
            },
            "type": "scatterpolargl"
           }
          ],
          "scatterternary": [
           {
            "marker": {
             "colorbar": {
              "outlinewidth": 0,
              "ticks": ""
             }
            },
            "type": "scatterternary"
           }
          ],
          "surface": [
           {
            "colorbar": {
             "outlinewidth": 0,
             "ticks": ""
            },
            "colorscale": [
             [
              0,
              "#0d0887"
             ],
             [
              0.1111111111111111,
              "#46039f"
             ],
             [
              0.2222222222222222,
              "#7201a8"
             ],
             [
              0.3333333333333333,
              "#9c179e"
             ],
             [
              0.4444444444444444,
              "#bd3786"
             ],
             [
              0.5555555555555556,
              "#d8576b"
             ],
             [
              0.6666666666666666,
              "#ed7953"
             ],
             [
              0.7777777777777778,
              "#fb9f3a"
             ],
             [
              0.8888888888888888,
              "#fdca26"
             ],
             [
              1,
              "#f0f921"
             ]
            ],
            "type": "surface"
           }
          ],
          "table": [
           {
            "cells": {
             "fill": {
              "color": "#EBF0F8"
             },
             "line": {
              "color": "white"
             }
            },
            "header": {
             "fill": {
              "color": "#C8D4E3"
             },
             "line": {
              "color": "white"
             }
            },
            "type": "table"
           }
          ]
         },
         "layout": {
          "annotationdefaults": {
           "arrowcolor": "#2a3f5f",
           "arrowhead": 0,
           "arrowwidth": 1
          },
          "autotypenumbers": "strict",
          "coloraxis": {
           "colorbar": {
            "outlinewidth": 0,
            "ticks": ""
           }
          },
          "colorscale": {
           "diverging": [
            [
             0,
             "#8e0152"
            ],
            [
             0.1,
             "#c51b7d"
            ],
            [
             0.2,
             "#de77ae"
            ],
            [
             0.3,
             "#f1b6da"
            ],
            [
             0.4,
             "#fde0ef"
            ],
            [
             0.5,
             "#f7f7f7"
            ],
            [
             0.6,
             "#e6f5d0"
            ],
            [
             0.7,
             "#b8e186"
            ],
            [
             0.8,
             "#7fbc41"
            ],
            [
             0.9,
             "#4d9221"
            ],
            [
             1,
             "#276419"
            ]
           ],
           "sequential": [
            [
             0,
             "#0d0887"
            ],
            [
             0.1111111111111111,
             "#46039f"
            ],
            [
             0.2222222222222222,
             "#7201a8"
            ],
            [
             0.3333333333333333,
             "#9c179e"
            ],
            [
             0.4444444444444444,
             "#bd3786"
            ],
            [
             0.5555555555555556,
             "#d8576b"
            ],
            [
             0.6666666666666666,
             "#ed7953"
            ],
            [
             0.7777777777777778,
             "#fb9f3a"
            ],
            [
             0.8888888888888888,
             "#fdca26"
            ],
            [
             1,
             "#f0f921"
            ]
           ],
           "sequentialminus": [
            [
             0,
             "#0d0887"
            ],
            [
             0.1111111111111111,
             "#46039f"
            ],
            [
             0.2222222222222222,
             "#7201a8"
            ],
            [
             0.3333333333333333,
             "#9c179e"
            ],
            [
             0.4444444444444444,
             "#bd3786"
            ],
            [
             0.5555555555555556,
             "#d8576b"
            ],
            [
             0.6666666666666666,
             "#ed7953"
            ],
            [
             0.7777777777777778,
             "#fb9f3a"
            ],
            [
             0.8888888888888888,
             "#fdca26"
            ],
            [
             1,
             "#f0f921"
            ]
           ]
          },
          "colorway": [
           "#636efa",
           "#EF553B",
           "#00cc96",
           "#ab63fa",
           "#FFA15A",
           "#19d3f3",
           "#FF6692",
           "#B6E880",
           "#FF97FF",
           "#FECB52"
          ],
          "font": {
           "color": "#2a3f5f"
          },
          "geo": {
           "bgcolor": "white",
           "lakecolor": "white",
           "landcolor": "#E5ECF6",
           "showlakes": true,
           "showland": true,
           "subunitcolor": "white"
          },
          "hoverlabel": {
           "align": "left"
          },
          "hovermode": "closest",
          "mapbox": {
           "style": "light"
          },
          "paper_bgcolor": "white",
          "plot_bgcolor": "#E5ECF6",
          "polar": {
           "angularaxis": {
            "gridcolor": "white",
            "linecolor": "white",
            "ticks": ""
           },
           "bgcolor": "#E5ECF6",
           "radialaxis": {
            "gridcolor": "white",
            "linecolor": "white",
            "ticks": ""
           }
          },
          "scene": {
           "xaxis": {
            "backgroundcolor": "#E5ECF6",
            "gridcolor": "white",
            "gridwidth": 2,
            "linecolor": "white",
            "showbackground": true,
            "ticks": "",
            "zerolinecolor": "white"
           },
           "yaxis": {
            "backgroundcolor": "#E5ECF6",
            "gridcolor": "white",
            "gridwidth": 2,
            "linecolor": "white",
            "showbackground": true,
            "ticks": "",
            "zerolinecolor": "white"
           },
           "zaxis": {
            "backgroundcolor": "#E5ECF6",
            "gridcolor": "white",
            "gridwidth": 2,
            "linecolor": "white",
            "showbackground": true,
            "ticks": "",
            "zerolinecolor": "white"
           }
          },
          "shapedefaults": {
           "line": {
            "color": "#2a3f5f"
           }
          },
          "ternary": {
           "aaxis": {
            "gridcolor": "white",
            "linecolor": "white",
            "ticks": ""
           },
           "baxis": {
            "gridcolor": "white",
            "linecolor": "white",
            "ticks": ""
           },
           "bgcolor": "#E5ECF6",
           "caxis": {
            "gridcolor": "white",
            "linecolor": "white",
            "ticks": ""
           }
          },
          "title": {
           "x": 0.05
          },
          "xaxis": {
           "automargin": true,
           "gridcolor": "white",
           "linecolor": "white",
           "ticks": "",
           "title": {
            "standoff": 15
           },
           "zerolinecolor": "white",
           "zerolinewidth": 2
          },
          "yaxis": {
           "automargin": true,
           "gridcolor": "white",
           "linecolor": "white",
           "ticks": "",
           "title": {
            "standoff": 15
           },
           "zerolinecolor": "white",
           "zerolinewidth": 2
          }
         }
        }
       }
      }
     },
     "metadata": {},
     "output_type": "display_data"
    }
   ],
   "source": [
    "px.scatter_3d(x=x_testdf.iloc[:,0],y=x_testdf.iloc[:,1],z=x_testdf.iloc[:,2], color= y_pred)"
   ]
  },
  {
   "cell_type": "code",
   "execution_count": 428,
   "metadata": {},
   "outputs": [],
   "source": [
    "class QRF:\n",
    "\n",
    " \n",
    "    x_bags = []\n",
    "    y_bags =[]\n",
    "    QDT = []\n",
    "    no_QDT=0\n",
    "    depth =0\n",
    "    sensetivity = 0\n",
    "\n",
    "\n",
    "    def __init__(self, x_train, y_train,  no_QDT, depth =2, sensetivity=0.2 ):\n",
    "\n",
    "        self.X_train= x_train\n",
    "        self.y_train= y_train\n",
    "        self.no_QDT = no_QDT\n",
    "        self.depth = depth\n",
    "        self.x_bags = [[] for j in range(no_QDT)]\n",
    "        self.y_bags = [[] for j in range(no_QDT)]\n",
    "        self.QDT = []\n",
    "        self.sensetivity = sensetivity\n",
    "\n",
    "\n",
    "      \n",
    "\n",
    "\n",
    "    def Create_Models(self):\n",
    "\n",
    "        for i in range(self.no_QDT):\n",
    "            self.QDT.append(Reuploader(dev,self.depth))\n",
    "\n",
    "    \n",
    "    def data_bagging(self):\n",
    "\n",
    "        k=0\n",
    "        \n",
    "        for j in range(self.no_QDT):\n",
    "            x_bags =  []\n",
    "            y_bags = []\n",
    "            for i in range(int(len(self.X_train)/self.no_QDT)):\n",
    "                \n",
    "                \n",
    "                x_bags.append(self.X_train[k])\n",
    "                y_bags.append(self.y_train[k])\n",
    "                k+=1\n",
    "            self.x_bags[j] = (x_bags)\n",
    "            self.y_bags[j] = (y_bags)\n",
    "            \n",
    "    \n",
    "    def train(self):\n",
    "    \n",
    "        self.data_bagging()\n",
    "        self.Create_Models()\n",
    "        print(self.no_QDT)\n",
    "        for i in range(len(self.QDT)):\n",
    "            print(f\" Training QDT no : {i+1}\")\n",
    "            self.QDT[i].fit(np.array(self.x_bags[i]),np.array(self.y_bags[i]))\n",
    "            \n",
    "    \n",
    "    def predict(self,x_test,y_test):\n",
    "        \n",
    "        individual_results = []\n",
    "        result = [3 for x in range(len(x_test))]\n",
    "        sum_of_results = [0 for y in range(len(x_test)) ]\n",
    "        for i  in range(len(self.QDT)):\n",
    "\n",
    "            individual_results.append(self.QDT[i].predict(x_test,y_test))\n",
    "            \n",
    "           \n",
    "\n",
    "            sum_of_results = sum_of_results + individual_results[i]\n",
    "       \n",
    "        for q in range(len(sum_of_results)):\n",
    "            \n",
    "\n",
    "            if sum_of_results[q]/self.no_QDT >= self.sensetivity:\n",
    "                \n",
    "                result[q] = 1\n",
    "            else:\n",
    "                result[q] = 0\n",
    "        print(sum_of_results)\n",
    "                \n",
    "\n",
    "        \n",
    "        \n",
    "        \n",
    "        return result,individual_results\n",
    "\n",
    "\n",
    "\n",
    "        \n",
    "\n",
    "\n",
    "\n",
    "\n",
    "        \n",
    "\n",
    "    \n",
    "        "
   ]
  },
  {
   "cell_type": "code",
   "execution_count": 429,
   "metadata": {},
   "outputs": [
    {
     "name": "stdout",
     "output_type": "stream",
     "text": [
      "2\n",
      " Training QDT no : 1\n",
      "Epoch:  1 | Loss: 0.335169 |  accuracy: 0.500000 \n",
      "Epoch:  2 | Loss: 0.324462 |  accuracy: 0.482630 \n",
      "Epoch:  3 | Loss: 0.315798 |  accuracy: 0.509926 \n",
      "Epoch:  4 | Loss: 0.332247 |  accuracy: 0.503722 \n",
      "Epoch:  5 | Loss: 0.322903 |  accuracy: 0.517370 \n",
      "Epoch:  6 | Loss: 0.303052 |  accuracy: 0.524814 \n",
      "Epoch:  7 | Loss: 0.331909 |  accuracy: 0.502481 \n",
      "Epoch:  8 | Loss: 0.329204 |  accuracy: 0.511166 \n",
      "Epoch:  9 | Loss: 0.371396 |  accuracy: 0.500000 \n",
      "Epoch: 10 | Loss: 0.310340 |  accuracy: 0.488834 \n",
      " Training QDT no : 2\n",
      "Epoch:  1 | Loss: 0.325451 |  accuracy: 0.488834 \n",
      "Epoch:  2 | Loss: 0.293899 |  accuracy: 0.516129 \n",
      "Epoch:  3 | Loss: 0.307615 |  accuracy: 0.490074 \n",
      "Epoch:  4 | Loss: 0.334604 |  accuracy: 0.470223 \n",
      "Epoch:  5 | Loss: 0.301811 |  accuracy: 0.518610 \n",
      "Epoch:  6 | Loss: 0.302377 |  accuracy: 0.514888 \n",
      "Epoch:  7 | Loss: 0.315500 |  accuracy: 0.506203 \n",
      "Epoch:  8 | Loss: 0.317030 |  accuracy: 0.507444 \n",
      "Epoch:  9 | Loss: 0.312879 |  accuracy: 0.522333 \n",
      "Epoch: 10 | Loss: 0.300506 |  accuracy: 0.527295 \n"
     ]
    }
   ],
   "source": [
    "qrf = QRF(x_train,y_train, no_QDT=2, sensetivity=0.5)\n",
    "\n",
    "qrf.train()\n"
   ]
  },
  {
   "cell_type": "code",
   "execution_count": 430,
   "metadata": {},
   "outputs": [
    {
     "name": "stdout",
     "output_type": "stream",
     "text": [
      "[2 1 1 1 1 1 1 2 1 1 2 1 2 1 1 2 2 2 2 1 0 2 2 0 1 1 0 0 0 2 2 2 2 2 1 2 2\n",
      " 0 2 0 0 1 2 1 2 1 0 2 2 1 1 0 2 2 1 2 2 1 1 1 0 1 2 1 2 1 0 1 2 1 1 1 1 0\n",
      " 1 1 1 2 1 1 0 1 2 2 0 1 2 2 0 1 1 2 0 2 1 0 2 0 1 1 0 0 1 1 1 2 1 2 1 1 2\n",
      " 0 2 2 1 0 0 2 2 2 1 1 0 1 1 0 1 0 0 2 1 0 2 2 1 0 1 2 2 1 2 0 2 1 2 1 0 1\n",
      " 1 1 2 1 1 2 2 1 0 1 0 2 1 1 2 1 1 0 1 2 2 1 0 2 2 1 2 1 2 0 1 0 2 1 1 2 1\n",
      " 1 1 2 1 2 2 1 0 1 0 1 0 0 2 1 0 1 2 2 2 2 0 2 0 0 1 1 1 1 2 0 1 0 2 2 2 1\n",
      " 2 0 0 2 1 2 1 0 0 2 1 0 2 1 2 2 0 1 1 1 0 2 1 2 2 1 2 2 2 2 2 1 2 1 1 1 2\n",
      " 1 1 2 0 0 0 1 1 2 0 2 2 0 1 2 1 1 2 2 1 0 2 2 2 1 1 1 2 1 1 0 0 2 0 0 2 1\n",
      " 0 2 2 0 2 1 2 1 1 2 2 1 0 2 0 0 2 2 1 2 2 1 1 0 2 2 2 0 2 1 1 0 1 2 1 1 2\n",
      " 1 2 1 1 1 2 0 2 2 2 2 2 1 1 1 2 1 1 2 2 2 2 1 0 0 2 1 2 1 1 1 0 0 2 2 1 2\n",
      " 1 2 2 0 1 0 2 1 2 1 1 1 2 2 2 1 0 1 0 2 2 1 2 0 2 1 1 1 2 0 2 1 2 2]\n"
     ]
    }
   ],
   "source": [
    "\n",
    "y_pred,y_ind = qrf.predict(X_test, y_test)\n"
   ]
  },
  {
   "cell_type": "code",
   "execution_count": 431,
   "metadata": {},
   "outputs": [
    {
     "name": "stdout",
     "output_type": "stream",
     "text": [
      "Recall(TP/FN+TP ):0.7440758293838863\n",
      "Precsion(TP/FP+TP): 0.490625 \n",
      "F1 score function of presscion and recall:0.5913370998116761 \n"
     ]
    },
    {
     "data": {
      "image/png": "[encoded data removed]",
      "text/plain": [
       "<Figure size 640x480 with 2 Axes>"
      ]
     },
     "metadata": {},
     "output_type": "display_data"
    }
   ],
   "source": [
    "conMtx = confusion_matrix(y_test,y_pred)\n",
    "sns.heatmap(conMtx)\n",
    "f1 = f1_score(y_test,y_pred)\n",
    "recall = recall_score(y_test,y_pred)\n",
    "pre = precision_score(y_test,y_pred)\n",
    "\n",
    "print(f\"Recall(TP/FN+TP ):{recall}\")\n",
    "print(f\"Precsion(TP/FP+TP): {pre} \")\n",
    "print(f\"F1 score function of presscion and recall:{f1} \")"
   ]
  },
  {
   "cell_type": "code",
   "execution_count": 432,
   "metadata": {},
   "outputs": [
    {
     "data": {
      "application/vnd.plotly.v1+json": {
       "config": {
        "plotlyServerURL": "https://plot.ly"
       },
       "data": [
        {
         "hovertemplate": "x=%{x}<br>y=%{y}<br>z=%{z}<br>color=%{marker.color}<extra></extra>",
         "legendgroup": "",
         "marker": {
          "color": [
           0,
           1,
           1,
           0,
           1,
           0,
           1,
           1,
           0,
           1,
           1,
           0,
           1,
           1,
           1,
           1,
           1,
           0,
           0,
           1,
           1,
           0,
           0,
           1,
           0,
           0,
           1,
           0,
           1,
           1,
           1,
           0,
           1,
           0,
           1,
           1,
           0,
           1,
           1,
           0,
           0,
           0,
           0,
           1,
           0,
           0,
           1,
           1,
           1,
           1,
           1,
           1,
           0,
           0,
           0,
           1,
           0,
           0,
           1,
           0,
           1,
           0,
           1,
           0,
           0,
           0,
           0,
           0,
           0,
           0,
           0,
           0,
           0,
           1,
           1,
           0,
           1,
           0,
           1,
           0,
           1,
           0,
           1,
           0,
           1,
           0,
           0,
           0,
           1,
           1,
           1,
           1,
           0,
           1,
           0,
           0,
           0,
           0,
           0,
           0,
           1,
           1,
           0,
           0,
           0,
           0,
           0,
           1,
           0,
           1,
           1,
           0,
           0,
           0,
           0,
           0,
           0,
           1,
           0,
           1,
           0,
           0,
           1,
           0,
           0,
           0,
           0,
           0,
           1,
           1,
           0,
           0,
           0,
           1,
           0,
           1,
           1,
           1,
           0,
           1,
           1,
           1,
           1,
           1,
           1,
           1,
           0,
           0,
           0,
           0,
           0,
           1,
           0,
           1,
           1,
           0,
           1,
           1,
           1,
           1,
           0,
           1,
           0,
           1,
           0,
           0,
           1,
           0,
           1,
           1,
           1,
           1,
           0,
           1,
           1,
           0,
           1,
           0,
           0,
           0,
           0,
           0,
           1,
           0,
           1,
           1,
           0,
           1,
           1,
           0,
           1,
           0,
           1,
           0,
           1,
           0,
           1,
           1,
           0,
           0,
           0,
           0,
           0,
           0,
           1,
           0,
           1,
           1,
           1,
           0,
           1,
           1,
           0,
           1,
           1,
           1,
           0,
           1,
           0,
           0,
           1,
           0,
           1,
           1,
           1,
           0,
           0,
           0,
           0,
           0,
           1,
           0,
           1,
           1,
           1,
           1,
           1,
           0,
           0,
           1,
           1,
           1,
           1,
           1,
           1,
           1,
           0,
           0,
           1,
           0,
           0,
           0,
           1,
           1,
           0,
           1,
           0,
           1,
           1,
           0,
           1,
           0,
           1,
           0,
           1,
           1,
           1,
           1,
           1,
           0,
           1,
           1,
           1,
           0,
           1,
           0,
           1,
           1,
           1,
           1,
           0,
           0,
           0,
           1,
           1,
           0,
           0,
           1,
           0,
           1,
           1,
           0,
           1,
           1,
           0,
           0,
           1,
           0,
           1,
           0,
           0,
           1,
           1,
           1,
           1,
           0,
           0,
           0,
           0,
           0,
           1,
           1,
           1,
           0,
           0,
           1,
           0,
           1,
           1,
           1,
           1,
           0,
           0,
           1,
           1,
           1,
           1,
           0,
           1,
           1,
           0,
           0,
           1,
           1,
           1,
           0,
           0,
           0,
           0,
           0,
           0,
           0,
           0,
           0,
           1,
           0,
           1,
           0,
           1,
           1,
           1,
           0,
           1,
           0,
           0,
           1,
           1,
           1,
           1,
           0,
           1,
           1,
           1,
           0,
           0,
           1,
           1,
           1,
           1,
           1,
           1,
           1,
           0,
           1,
           0,
           0,
           1,
           1,
           0,
           1,
           1,
           0,
           0,
           1,
           0,
           1,
           1,
           1,
           0,
           0,
           0,
           1,
           1,
           1,
           1,
           1,
           1,
           0,
           0,
           0,
           1,
           0,
           1,
           1
          ],
          "coloraxis": "coloraxis",
          "symbol": "circle"
         },
         "mode": "markers",
         "name": "",
         "scene": "scene",
         "showlegend": false,
         "type": "scatter3d",
         "x": [
          3.9656736814240294,
          -5.5517929394341605,
          6.68776086674939,
          0.5165362470470959,
          -1.5596724130535877,
          4.972550123670571,
          -6.232714128525154,
          -0.8072380215033506,
          0.9499576013169186,
          9.492600911165113,
          -2.99697496465625,
          -2.2598916225322085,
          6.809141957770477,
          -2.4008166670617874,
          -4.487778515165683,
          -3.564672164484353,
          1.821860641677875,
          2.6083563696508514,
          5.05782548925524,
          -0.9944715878838817,
          2.4044148508820733,
          4.253293958240879,
          5.694606726172606,
          -3.5077609849501292,
          1.0501808737190241,
          0.5733286535866731,
          -0.03213211722131105,
          4.2956173382052745,
          3.6520552698662416,
          2.6018644364635652,
          1.1430602469190294,
          -3.4832137709935904,
          -1.4083618091883023,
          0.8327370226067352,
          -6.572295788329131,
          -5.3080367041636665,
          8.985192617402584,
          4.255884024776311,
          4.522489502335722,
          -6.011055642065317,
          -5.440985775537714,
          7.535164303740893,
          4.50220215657965,
          -6.132016438166981,
          -3.8095696189193764,
          1.3635817836883093,
          0.4612415764085352,
          3.3619791254674776,
          0.3789815661095938,
          3.529745025522083,
          -7.135836961906808,
          -2.1062350789059145,
          0.39262244607905933,
          -3.1598988202367995,
          8.013335482773448,
          6.734525241914259,
          -0.495794456435977,
          2.312205234643183,
          -7.4453281261764745,
          7.218237132269712,
          1.5759095071683231,
          6.998315112054041,
          6.59459239132662,
          4.648736694597558,
          -4.605196460007229,
          3.892003118666156,
          1.3625955789258593,
          8.594919509308816,
          -6.849168546524536,
          -1.6474357917810714,
          -0.9856304345476442,
          4.826131273653971,
          1.4790435360659557,
          -2.393200156423395,
          5.512927013235647,
          0.7367637043070079,
          -0.8962391701277722,
          6.746584373872402,
          4.286756185780559,
          4.367115468505881,
          0.8366407392564068,
          4.769862873102657,
          -1.4907527428279432,
          -0.9178032362067795,
          7.844827108292685,
          7.284613064155981,
          8.574735639321187,
          -6.394849948073911,
          -4.4510635947819335,
          -7.256991092049106,
          1.9987134497734762,
          1.22176173419113,
          -1.6004722868585641,
          4.347408091113051,
          2.661877268423012,
          -6.284305799056836,
          3.4551110878330658,
          0.15621298784895815,
          7.075523786417844,
          -2.2138722106767763,
          1.8521053084829562,
          -2.833561850313176,
          3.759716947404285,
          -0.3360778270327388,
          -5.5855200576481145,
          2.5981175122486775,
          -6.420765287281618,
          -3.2668663712355026,
          -1.3613125490137497,
          -5.17780858168301,
          -6.137385632549194,
          0.5064480531673754,
          -2.475599382143989,
          4.369724073874692,
          -6.56987435820378,
          6.121963904529976,
          -4.392361443468309,
          1.2827956114491645,
          7.625067029219154,
          -3.827067575226624,
          8.832619152421668,
          -6.6530580507920885,
          -6.081290454260132,
          -5.341035134865796,
          -0.5320364379319211,
          0.95791838367645,
          -2.6460413429588354,
          0.6889956057103812,
          6.130486823857481,
          -7.072071547621341,
          6.9529102590635725,
          1.6802252292076802,
          1.1207167528619308,
          -2.4409959991729373,
          2.396816692227452,
          -6.1361114037571864,
          2.5871699391420213,
          4.111753264586642,
          -4.508400906816787,
          0.10658131197084697,
          5.966746971539194,
          -5.138805476153507,
          -3.7465433015758376,
          3.331217436652684,
          8.397255860519893,
          1.6761758460686598,
          -6.234484332155434,
          -3.774717092619199,
          1.9242349974476558,
          -5.7181127027562395,
          6.93703300012437,
          3.301714409969985,
          -0.3803968688782169,
          -0.4535328684081442,
          -5.070351511931833,
          -2.3201557714020327,
          -2.7721465523065265,
          3.026863406684496,
          -6.2419390968111355,
          4.442210988880567,
          2.035081948032831,
          -6.941181260441204,
          6.289671756297102,
          3.019939563501273,
          -4.306039358144579,
          5.838988530126791,
          1.091755622163547,
          4.3397973332741495,
          3.84544505452326,
          2.8190831501859854,
          -4.7018565117790505,
          -1.0075859694583051,
          -5.565002890555519,
          4.920289319911795,
          -4.268454547910402,
          5.93280437344337,
          -0.10703581049958263,
          -0.371051423033105,
          -3.5928759468623843,
          -2.2163588028516745,
          0.6274297512009724,
          -5.829331713198807,
          6.9763122153887345,
          -1.4307654809547061,
          4.058385739138683,
          2.446196208346952,
          1.014906533874973,
          -6.528149755144639,
          7.016287852645483,
          5.217959536885636,
          -7.244681823513475,
          0.6195633695270343,
          -0.5128894732754222,
          5.26427554297757,
          -5.331971062841406,
          -1.9102870631554634,
          8.951016580504318,
          -5.946639571684706,
          3.1514389040001864,
          2.7768720039595722,
          -2.6937886994819875,
          4.628424507711032,
          7.247853090759754,
          2.8003639550241135,
          -4.008432832298981,
          -4.320416961429239,
          0.12443231730286397,
          -4.77615220958908,
          -6.104081007667648,
          6.567656398354147,
          -3.9063453770278977,
          0.09170506687521629,
          -0.4162633806238166,
          -1.4719697681240553,
          0.3748487246503707,
          1.709932919433794,
          -5.6916774111767365,
          -3.2582848749239948,
          0.8614720752171414,
          0.009034731655954791,
          -0.47261341584074235,
          5.711575569427601,
          -6.299204283246334,
          -3.247867146083566,
          -5.698877572172456,
          5.198419944262178,
          -5.855686670225573,
          -6.273518520445829,
          -3.9378675317358915,
          1.9633572175069525,
          2.948661415245559,
          -6.955240739523404,
          -3.961035243372525,
          0.10809520267684454,
          2.6174340656036232,
          1.8717795032545281,
          -0.419924046988076,
          4.971544463099156,
          3.0234594226321994,
          -2.255972573177621,
          7.51846893172724,
          3.818914837888775,
          -2.894074791667501,
          -6.777107843188936,
          1.3307786928078926,
          0.19053648201613915,
          -4.551879954669742,
          -1.4961113906411745,
          -7.0551242722276335,
          2.733731966321695,
          0.09483147846507689,
          -6.0920631755459285,
          -0.4536031276069407,
          -0.9120774721145479,
          -6.590263582705573,
          -6.527641865001269,
          -7.232586091534334,
          -6.130945000391438,
          4.71361332957934,
          2.9524456587802503,
          -3.825351253353931,
          3.6490288705976752,
          6.6236384933109616,
          -5.808879969604677,
          -3.510684954026371,
          -1.0592722192059958,
          -0.605514856443636,
          6.471328085092203,
          -1.8407743070036053,
          -2.039279120262304,
          3.5744824356179947,
          3.0849961827070236,
          -4.944927961610429,
          0.7715731779380314,
          7.292964986821114,
          -0.4972080949299846,
          1.0406146778649294,
          -0.052347994317024076,
          -1.1820156321478823,
          1.6184743671939472,
          1.8472211548030828,
          2.132945277088603,
          -1.3933807259805557,
          -0.7568957080427444,
          2.1848165816499314,
          -1.3217092121579601,
          -0.961174796106354,
          7.2611933035295015,
          2.9926105937820173,
          2.5899430893936684,
          -5.304467968647458,
          1.7496991496597165,
          5.3637026518579125,
          -0.04126648023766285,
          -7.029442020212461,
          -3.022062751657181,
          6.407636332351108,
          -4.005630816167015,
          -0.42776908345153375,
          -3.5889367827761576,
          0.9250005409557759,
          -1.418592656439802,
          -4.6965375271311665,
          -1.0590650815961404,
          1.0768319806793845,
          -5.776503134316031,
          0.7802526820336079,
          -3.1085335481038383,
          -4.3385600581232735,
          -5.278893663960864,
          7.177610026236637,
          -7.848468655778474,
          4.1363633322156,
          5.504180813647925,
          5.272216564317732,
          -0.7427415956957483,
          5.413329620188677,
          5.735878043669804,
          -0.9738331486239443,
          -5.819846473166542,
          8.620839382274033,
          0.2662852064918837,
          -1.8419455789312968,
          -3.0123067877563154,
          4.045191156918947,
          -6.523399033985281,
          -5.84587634825219,
          7.070231673629358,
          1.4709433253731232,
          -4.2236491468123365,
          8.115966687122215,
          -3.63409854347924,
          -4.236966934748565,
          -7.366588298086167,
          -1.9974044075874897,
          6.791615572165819,
          -1.2862268148558826,
          2.680380665384111,
          -1.6431223207993202,
          -4.757245312836285,
          -2.419556963590488,
          -4.184075079411657,
          -4.904546531229709,
          0.47243140704558995,
          -0.5591532485828495,
          8.09664112547297,
          -0.35575474446147365,
          -1.2906821477247283,
          0.1366248526312065,
          3.317532850735335,
          -0.906303524950597,
          0.4386584728918747,
          5.129457866232684,
          3.1211584980461935,
          -5.245374000057831,
          -5.814722916332113,
          6.501390860182107,
          -2.903064961557728,
          -5.619051715243001,
          1.4493141784501071,
          0.9304532312847099,
          -7.238155425857963,
          -2.076623977205213,
          -1.069703587073906,
          -3.226362917434363,
          -4.725060183378911,
          3.0944205278531594,
          5.129687862132644,
          0.8091056844335832,
          5.365257657315671,
          -4.327315931262832,
          -3.6773590831620706,
          -6.685378963723751,
          1.8840804642622073,
          5.904578158800358,
          -1.714225900482045,
          -3.8773173655476896,
          -2.802384789258261,
          -6.713794185329019,
          -1.9295704308971409,
          -0.08948443887991292,
          -5.8694663998294265,
          -1.0912019311456314,
          3.907127017874565,
          -1.848190402098392,
          7.52643807224355,
          -5.52960071208892,
          5.514981041567128,
          -5.050907219938864,
          -2.611047588730541,
          0.6040261434088956,
          4.7627805803907926,
          2.1648553538917326,
          2.3868648664418406,
          3.056658908204565,
          -6.206312451697496,
          1.2199844466981538,
          4.77044890618325,
          4.9114247128714075,
          3.1822572870988566,
          -5.53479141528676,
          6.394935345487679,
          0.6611101820429847,
          4.905213910727297
         ],
         "y": [
          -3.3106997756454777,
          2.471565381880241,
          5.1880424422827485,
          4.917941526740074,
          -4.977259169503069,
          1.0975778198884771,
          1.218381778941,
          -4.652265685840128,
          5.1285391444151065,
          2.0195700083455663,
          -0.9810005499510017,
          -1.1858355152308848,
          2.349707160382813,
          -4.941403878400937,
          4.784438500131286,
          -1.3874846575945898,
          0.29649986044534193,
          6.252996166681427,
          3.0087357255278775,
          -5.947573129429882,
          -3.92725343126418,
          -3.028100390352521,
          2.6684401030062492,
          -3.35462503638377,
          -0.41955104033746893,
          -6.110537880867687,
          5.989937992224073,
          1.0347667519930777,
          -5.016798165026853,
          -2.998321995286056,
          -5.0773666409415945,
          -1.890103611871566,
          0.03355560254404084,
          -6.009386128782078,
          0.34771726501308875,
          -3.5300726989268134,
          -2.422583194951656,
          2.796108799079515,
          -0.07248082224916924,
          0.40885333343986646,
          2.486081634580564,
          3.3172975727831586,
          -3.013523764782179,
          -1.484820486314099,
          4.587005393981478,
          0.4996074998664628,
          6.464200994318604,
          -0.8093270426156481,
          2.242103245206156,
          -4.608201758259806,
          -2.314313152412119,
          4.1866473762084455,
          -5.853603562154204,
          -1.940557735712303,
          2.1940189927869382,
          2.7785858396044176,
          -0.9107446755559346,
          -5.438941490890076,
          -1.7692277570110921,
          -2.346607288570171,
          4.456173868424977,
          -2.1839473542505377,
          2.761327658810309,
          -1.0220627120809944,
          4.748680816511896,
          -3.7054153713517035,
          0.19462830166039893,
          2.3148396892650704,
          -1.0379387517795708,
          -0.7848553478110886,
          -5.7239937945295845,
          -3.629949304306828,
          0.264815824343349,
          0.8819908543543126,
          -3.7723992466796323,
          -3.5656122662541443,
          -5.423846824185196,
          3.0304612573877785,
          1.926803457564504,
          1.3735451550751714,
          -4.108290463164094,
          -2.2609655694296626,
          2.6155532511299158,
          -1.0074902005619206,
          -2.6777905427967714,
          -2.202464807672447,
          5.1536599688609,
          2.085048398725489,
          3.158502749655099,
          -1.522243461188681,
          -4.429805066461291,
          3.6674924851086854,
          -2.7129945495006833,
          -0.14314765144827202,
          -4.479129577500117,
          0.1018316224266826,
          5.1162660673375,
          5.496530776707181,
          -1.9699112879222171,
          -1.8092850246575762,
          0.9616860706671945,
          -2.579591661467413,
          3.5543336425255574,
          4.15618652392014,
          2.0534443440026697,
          -2.896696958042813,
          -0.25062537216289144,
          4.703060518179791,
          5.096016587466489,
          2.1189806454074884,
          1.7193390130381998,
          5.844622212327297,
          5.623636010190012,
          -3.783171641048108,
          0.02327693657825145,
          -1.136653462782048,
          2.5832896632174216,
          2.791267845714356,
          3.0142395563121704,
          4.34428039984735,
          5.807403449246256,
          0.8824078056510382,
          0.6419236285022062,
          1.8160571406490071,
          -1.8043287589952408,
          6.959240100719564,
          -4.659744999400069,
          2.2715552984797194,
          -2.671654520944972,
          -0.03473868291112731,
          1.8165242189910211,
          1.1215926046572862,
          -5.965505769811789,
          5.825084618548901,
          1.729287044152183,
          0.5419681492653129,
          -4.082535467261448,
          -0.11606180349994566,
          -1.3035816835895555,
          -1.14086902739395,
          1.1887184997295228,
          0.13712879571005251,
          4.755982038612792,
          -5.237198866899171,
          3.623625520652763,
          1.6750482045704709,
          0.31076146119252307,
          -4.2933038068092735,
          -5.671119306835711,
          1.8628845870538466,
          3.1042708345086103,
          -4.686775999678279,
          -3.9558903896063184,
          -4.374398998955724,
          3.1283277304981407,
          -2.0092043826365606,
          -3.2958054633424343,
          -4.713759573195561,
          0.903642496184067,
          0.13706544891746913,
          -5.163474027013449,
          0.3978076750664046,
          3.3256086588523273,
          1.3843177653929177,
          -3.697585294599857,
          -2.2804605122026227,
          -5.25934386338875,
          -4.457793150900905,
          2.2388479430302053,
          -4.511612697256899,
          0.24030881844892601,
          6.699994460663882,
          1.9054560933629452,
          -2.2675722813640724,
          -1.4502556817875525,
          -3.227296930857969,
          -0.5219832543498326,
          -2.9696905764509514,
          -4.451616231764638,
          -2.961216763232053,
          -4.048132587910933,
          2.9393112239880756,
          3.0046223717504907,
          7.130488057800291,
          -3.9756353050082964,
          6.121388137318441,
          2.407627840647171,
          -0.25349513670776735,
          -1.5939552865863638,
          -0.4217296413205102,
          -0.23938057508950852,
          1.0046602806012739,
          -3.034511747410599,
          3.292111485924842,
          3.519341058053292,
          6.061045201089446,
          3.4276731395623665,
          0.30931886705649136,
          5.138155180244787,
          -3.1420755509265494,
          -3.278717705581643,
          -0.6942089179369452,
          2.915163257641924,
          -3.158250024079845,
          3.792337136116686,
          4.632634016125034,
          6.25462178958167,
          3.1860039744997684,
          0.6385445654327336,
          -0.8118553429980111,
          4.998602515518412,
          4.341558608427756,
          -5.245291371445144,
          -5.124410466587167,
          0.3468972944129107,
          -3.0293954603762696,
          2.03238838833725,
          -3.3308025670108785,
          -5.22487691737636,
          -4.699955318864831,
          -4.57942865373567,
          -0.9095252130131947,
          -0.2719461578487543,
          -2.7948801605893316,
          1.0167773738842412,
          0.67142350616312,
          1.231150488757552,
          -0.13570587600073988,
          -4.180464810010613,
          -4.399580975654056,
          -5.536381900976213,
          0.20115984096827513,
          -4.256619257580074,
          -3.8976560950848014,
          -5.694550074909388,
          -1.2939792256739215,
          -3.6103995904456037,
          -4.375545944482893,
          -5.014341596615132,
          -1.5668485923413902,
          1.8125968578402658,
          -3.402343788330927,
          -0.1343961404813567,
          -0.7891839677802047,
          1.00875434141002,
          -5.222303675185284,
          3.183709304088915,
          -5.309619572714915,
          0.27671736443986095,
          -1.4165992854033178,
          1.8932524577735321,
          -3.900267697129227,
          -4.2748499248519,
          -5.1786023534431544,
          -0.1250827206878197,
          0.2398482165525455,
          -2.515062231783238,
          0.8039364776535766,
          0.5308316914220125,
          2.339300119720639,
          -4.54961909444338,
          1.7699883638708616,
          4.511989372380631,
          0.04330865077576069,
          2.365313309689063,
          -0.4201806886154988,
          3.3358216924856947,
          2.9001457612497785,
          2.3416729973018398,
          3.1285530254171747,
          -1.415121199916718,
          -5.182084478696072,
          1.4313657732346001,
          -2.906674164168623,
          2.0915376796393654,
          -1.2632480370008503,
          -5.052938413038004,
          -5.52197458429219,
          -5.582344159391939,
          -0.3941035876993264,
          -5.402727018695541,
          4.207545423307107,
          3.3524294847789515,
          -5.724419045569647,
          -4.2353653119633945,
          5.071180928432545,
          -4.929783322394794,
          0.6951465298721446,
          -4.561939927771503,
          2.3537832808338948,
          0.5472431111423711,
          -5.765994772693126,
          3.8246603512362696,
          0.22995001783080882,
          0.7177547473417065,
          4.400300991074658,
          0.2264918746680116,
          -1.6024881026726217,
          -4.722821626227401,
          -4.612277211093812,
          -4.950236952931438,
          -4.950765476227708,
          4.880700561201208,
          0.692401452446804,
          -1.776038720650036,
          1.8149886292222688,
          -4.665069490461076,
          -4.903375824766782,
          3.5121890645737084,
          -3.856457334655436,
          -3.11522081672849,
          -3.2225759184150555,
          0.750091923302083,
          2.9342787722298067,
          -2.2692466816652064,
          -0.25812717108598887,
          2.6622410629094895,
          -2.2584616997943785,
          -4.8634835900247495,
          0.7430407464279195,
          -0.6448107001703381,
          0.5335115749575505,
          -1.5316883459520474,
          -3.499017827484054,
          -3.251378316901504,
          0.050028927536522355,
          1.4365131791922283,
          2.8714024758802377,
          -5.147122434615922,
          -1.348556239456088,
          3.9156470127056373,
          -4.4620089891972095,
          4.6950767614620945,
          -1.5108255103724093,
          4.992068038013248,
          -1.4065317444927883,
          -3.9826138389948693,
          -4.248087074561131,
          5.317375570484288,
          -0.9529291115583169,
          4.9533445811812955,
          3.6439405014900808,
          -3.943115171956477,
          -4.974560291909803,
          0.8968496144318702,
          -1.715940549770096,
          5.098842580619705,
          -1.1571566263798676,
          -4.964254311092363,
          -4.453745063511259,
          -5.599903851967823,
          -5.813315937375844,
          0.48738617095119896,
          -0.5718349443254189,
          1.0119707706165888,
          1.3213559808055853,
          -0.5557206528113463,
          -0.2573741657744375,
          2.0134052005524685,
          -5.530734959698907,
          -5.926842894195562,
          -2.7461839671413624,
          -3.9677381936477487,
          -4.954776275204939,
          -3.3112147817823443,
          2.9551498751156102,
          -2.814257182205435,
          3.078775487286546,
          3.506194964131375,
          2.2552988091333126,
          2.019896794335188,
          4.202720741475909,
          0.18323541295002313,
          5.805651084770785,
          -2.4886472041294136,
          -3.36436971430995,
          4.3396707729144435,
          -4.655383233760825,
          -0.9499943175753088,
          -0.8912851611665326,
          5.243201952706365,
          -1.222011420107349,
          2.8362823735384124,
          -3.795440702008802,
          0.05883576887191507,
          1.6929703636210376,
          1.1711427712207867,
          7.357174509491355,
          0.22095730245155254,
          0.5092113802126098,
          0.5349410139755206,
          -2.818440319510738,
          -3.190750950305842,
          -4.357555391349571,
          -3.150047064790355,
          0.9409074207113898,
          -5.4435594506319775,
          -1.449619560042219,
          1.8514512377648924,
          -0.22005030015837812,
          2.7136564904415144,
          -3.163101550869408,
          -5.88244304372105,
          2.4929012857088395
         ],
         "z": [
          1.4722489690510685,
          -0.14729320172230634,
          -1.886029663001152,
          -0.7691869017971518,
          0.2536750223948029,
          -2.132377352609536,
          -1.3551188596577832,
          1.0587129189514046,
          -0.03548155081925577,
          -1.559627524604471,
          -1.6183600748734843,
          -2.9631857137032145,
          -2.1743009598672476,
          0.624091685103967,
          1.6373281129614543,
          -3.000574384325011,
          1.1357392986256478,
          0.2665079952592612,
          -2.451025979614644,
          0.8230123452412743,
          2.169597391747566,
          1.6497943084540574,
          -3.0660130043724894,
          -1.567117695065192,
          -1.4140314079030452,
          1.689120359745718,
          0.27349691513853575,
          -2.4971222939963567,
          3.8391994314452806,
          -0.2803755513594255,
          1.6260631177848004,
          -3.200789846603023,
          -0.6691597464650287,
          2.0778217045137426,
          -0.7261243403652818,
          -2.137649313339438,
          1.7847377425698059,
          -2.5825392182688978,
          -0.9424382129594164,
          -1.0526403178035604,
          1.2720202423744316,
          -1.9055769965107894,
          1.1337494964578587,
          -1.08436766553824,
          1.4714323648220333,
          -3.182560435778363,
          0.25019391258011203,
          -1.64700908953366,
          2.913755137041582,
          1.248880730290255,
          -2.307319398388402,
          -1.5601360908417448,
          1.896212386681736,
          -2.527446590298879,
          -2.1791692414246917,
          -2.570823686816544,
          -2.0857371715700044,
          3.2717332430769597,
          -1.941487419152553,
          1.4992500413820737,
          3.8840557559279283,
          1.4658536517940182,
          -2.4524644074937525,
          -3.576179811490634,
          2.5418699540754615,
          0.9458290803329059,
          -1.3216949420947168,
          -1.854273297642563,
          -1.4142104618583442,
          -2.3557706259845053,
          1.0125540922541696,
          0.7926257640187584,
          -2.890491138132134,
          -2.6399410329720108,
          1.760389532478404,
          0.2778137906036649,
          1.304191026154766,
          -2.870038642692483,
          -3.0114527670977855,
          -2.3402267199938005,
          1.1360005681292693,
          0.27181135430068054,
          2.717125602141912,
          -1.6651425933345405,
          2.147768873508347,
          1.4917421379214466,
          0.454711393525216,
          -0.005525799029030714,
          1.497192791414035,
          -0.9827284185630513,
          0.7640952959201627,
          0.0970075526897229,
          -0.8859632489511966,
          -0.45740117400404107,
          2.2986736694405567,
          -0.8289146038759126,
          -0.5120993043296731,
          5.371469242064109,
          1.2144778213854357,
          -1.8116930420095305,
          -1.0805047826952425,
          -2.82586753423578,
          -3.3542254583258404,
          4.648267211828637,
          0.7407624241240565,
          0.29083685341099363,
          -1.1503087301170398,
          3.299727324254465,
          -0.13444829363530472,
          0.9768831230539446,
          -0.9478209537444946,
          0.2653877891782863,
          -0.08735042706026855,
          1.9488011541523127,
          -0.9751269108979127,
          1.0325488668405294,
          1.5913339014959667,
          -0.20206277260718558,
          -1.968119040152484,
          2.2706930245574495,
          -1.8181566641128684,
          -0.7830085334720959,
          -1.082561872560737,
          -0.09507780657481699,
          -2.7522216881807187,
          -0.2991552025843005,
          1.0096744430860816,
          -3.9218318718000664,
          0.8401544697999083,
          -2.221706174625877,
          -1.4460643212532474,
          -1.7858077629877602,
          2.482816741381257,
          4.783185954883323,
          -3.929262883418048,
          -1.1094820203463835,
          2.904898720762067,
          -1.4160053915455209,
          0.6146676796809964,
          -1.4374916304029686,
          -0.25264909287699633,
          -1.1354238718170773,
          2.673727015195272,
          2.0659243060880037,
          -0.8771281275947738,
          -0.1552321438616499,
          -1.2614679339844643,
          -0.800045570495708,
          2.841067573977069,
          -1.1765358716119716,
          -0.5507479466639456,
          1.760803348673322,
          1.0314815411675209,
          0.7694652762986243,
          -0.35645262236616604,
          -1.2292754564385466,
          -2.0638505408895753,
          1.9976201485626253,
          -1.016438309643157,
          -1.4399228506286155,
          2.2544798805299173,
          -0.6994436230372454,
          -1.8820854028064322,
          -2.907720512805415,
          -2.2026591594374634,
          0.47363913767774285,
          2.9319662850668595,
          2.8797857121023354,
          -3.7921434233848466,
          2.8650985835074887,
          -0.5728146055552295,
          5.024654083548478,
          0.7075115948743739,
          0.37335666850448473,
          -3.0663097239807846,
          2.0130734300050155,
          -2.2886855912944712,
          -0.9376614649643327,
          0.08534521121088971,
          -0.5351605715832999,
          2.822065676748829,
          -0.3506607162430548,
          -3.1088858497944707,
          4.625723241659141,
          2.9079015316469077,
          -0.39629991955058724,
          5.408925719946299,
          -2.2507459777242245,
          1.3256131383165752,
          -0.9281503583425492,
          -1.3336831012566084,
          -2.2787424826011176,
          -0.7107810322768032,
          -2.189138197888984,
          0.9734766711860551,
          4.022594043854644,
          -2.6378925684243986,
          -1.186330388567172,
          0.2110869883832449,
          -1.059313807107077,
          -1.3563149682921396,
          -0.7101154234410799,
          -2.2497076663797895,
          -0.030614992077619203,
          0.4939442524914692,
          -0.008070919509866398,
          -0.3918209842511972,
          -0.7113438537973144,
          -0.872296025881671,
          -0.1591815693109765,
          3.4997967088972812,
          4.427354780739611,
          1.5363736157988443,
          1.5921766485320303,
          -2.4513678009773865,
          2.6581534137002323,
          0.6422305367216895,
          -1.6996304916885607,
          2.58280249796534,
          1.2692859498538187,
          0.5610956576938876,
          -0.2582078231892454,
          -1.505406749552333,
          -1.9723878394281498,
          -1.8397871820802791,
          -2.1878470108833343,
          -1.4036935342172665,
          -1.7826748536395247,
          0.4184990085592438,
          0.6543617952035158,
          3.4892701420786247,
          -1.1332836551440748,
          0.37272266719428704,
          1.4407708300306714,
          1.6792260828623067,
          -1.4555066260822713,
          2.788087800090676,
          2.6153755104048675,
          3.9686294076439443,
          -3.3266691722605874,
          -1.935642217747657,
          0.47654327433135174,
          -3.689032299423636,
          -1.8612113357809048,
          -3.325743879124766,
          1.6166023335077586,
          -0.9477854245320909,
          -0.007799972495458067,
          -0.743250001120738,
          -0.8621858826441269,
          -1.6124823015151666,
          -1.8275774673511849,
          -2.956922133376495,
          0.6966188078285374,
          -1.1631467224396355,
          -1.0983288481331959,
          -2.783077029327483,
          0.20149843800617886,
          -1.5885406135980153,
          -3.502991187537975,
          0.44578001551573293,
          -0.6187724016771614,
          -2.5054502587961887,
          -0.46421296642344473,
          2.556355326512072,
          -2.8869978573430637,
          -1.499467315791615,
          -2.6350151173003615,
          -0.4054238213073898,
          2.9613568725010797,
          2.959837913935782,
          4.181695478585798,
          -0.6570084699031019,
          -0.6819082296371625,
          -0.59443303732982,
          -2.014450083842762,
          1.824822533103904,
          1.5211001998622564,
          1.4590898710637998,
          -0.9026424991370579,
          1.3703675338850692,
          -0.3382162477727352,
          2.906252644049449,
          1.0180427835350958,
          2.698256113181084,
          -0.0802689438781839,
          2.5417976484343896,
          0.6799093670840102,
          2.819870512598156,
          -2.8172087740533818,
          -0.5895478015663905,
          2.207565453362561,
          -2.7058612319725506,
          -0.7499329317165234,
          -1.943156647298965,
          -1.7385972763504782,
          -0.5626225544674754,
          -2.8448161215677596,
          0.2961371296247579,
          0.5711265955977206,
          1.8082414935697864,
          2.067360757369058,
          2.045322842041999,
          -2.777005979429091,
          -1.7802124497048724,
          -0.2145186798019344,
          1.196534537691692,
          0.060653890889937445,
          1.5494231757760306,
          -1.8983701488948161,
          2.109713612525676,
          -2.191780615466392,
          -0.7192213900278069,
          -3.077934725673539,
          0.40813446723685776,
          -1.5488328282277637,
          -1.6996224656833239,
          1.4754435459126434,
          2.352863583268538,
          -1.1499988271871162,
          1.7605871690790795,
          -2.610534890335488,
          -1.768898241771682,
          -1.3253399821487388,
          1.7546067824542744,
          -1.0459653347220963,
          -0.43749860596643386,
          -3.3064308656827084,
          2.1686436135453957,
          -3.234182476179925,
          -2.2304151924383113,
          0.9911117668249912,
          3.045315082530992,
          -1.8934439673380354,
          3.8763652215158393,
          0.9315600423379066,
          -1.0569273319513528,
          2.8337594276493916,
          4.305248036450231,
          -0.31437767563784896,
          3.484191039824746,
          0.09198811304745705,
          -2.0130105321791456,
          1.0842079663625,
          -3.1975512153672527,
          1.7301938137846764,
          4.856307615015587,
          -2.5092942919957104,
          0.8912465181746052,
          3.1790118270658594,
          0.5906191718197689,
          1.814991533261444,
          -2.571493141672399,
          -1.165054629309858,
          1.1375760109981234,
          -0.37296190145589303,
          0.6093016719541412,
          -2.17370125737427,
          0.03954038747296278,
          3.0886172173893676,
          2.025899979031524,
          -2.5356944480296724,
          -0.9801643576757872,
          2.4869834333498106,
          -1.6161776093619242,
          1.5443752340072994,
          -0.10801421923221101,
          -3.5126340542954124,
          3.9287394585757025,
          -2.811937265778753,
          -0.5723900485332244,
          3.2534029654530814,
          -1.2363787712032732,
          0.2456220901724372,
          1.115542728484556,
          -0.15649364600235235,
          3.347834190399329,
          0.033002227264785626,
          -1.3722631846627307,
          0.3493012554251436,
          4.5664758979182345,
          -0.6302362386538033,
          2.076085929002865,
          1.2031433646379062,
          -1.1063101758798806,
          -0.43977609802815837,
          -1.1328147904447283,
          1.269196690558514,
          -0.3615266065473906,
          0.7389803092642142,
          -3.4849307870115904,
          0.875083308884698,
          -0.34578512531876116,
          2.0189561999195442,
          0.025874648663578564,
          -0.6096727034381759,
          3.1826250160638283,
          -0.06080990123913623,
          -2.8034892785703263,
          -2.042501983686066,
          -0.4457534832085095,
          2.847345415655164,
          1.9483348919256178,
          -3.491526075771734
         ]
        }
       ],
       "layout": {
        "coloraxis": {
         "colorbar": {
          "title": {
           "text": "color"
          }
         },
         "colorscale": [
          [
           0,
           "#0d0887"
          ],
          [
           0.1111111111111111,
           "#46039f"
          ],
          [
           0.2222222222222222,
           "#7201a8"
          ],
          [
           0.3333333333333333,
           "#9c179e"
          ],
          [
           0.4444444444444444,
           "#bd3786"
          ],
          [
           0.5555555555555556,
           "#d8576b"
          ],
          [
           0.6666666666666666,
           "#ed7953"
          ],
          [
           0.7777777777777778,
           "#fb9f3a"
          ],
          [
           0.8888888888888888,
           "#fdca26"
          ],
          [
           1,
           "#f0f921"
          ]
         ]
        },
        "legend": {
         "tracegroupgap": 0
        },
        "margin": {
         "t": 60
        },
        "scene": {
         "domain": {
          "x": [
           0,
           1
          ],
          "y": [
           0,
           1
          ]
         },
         "xaxis": {
          "title": {
           "text": "x"
          }
         },
         "yaxis": {
          "title": {
           "text": "y"
          }
         },
         "zaxis": {
          "title": {
           "text": "z"
          }
         }
        },
        "template": {
         "data": {
          "bar": [
           {
            "error_x": {
             "color": "#2a3f5f"
            },
            "error_y": {
             "color": "#2a3f5f"
            },
            "marker": {
             "line": {
              "color": "#E5ECF6",
              "width": 0.5
             },
             "pattern": {
              "fillmode": "overlay",
              "size": 10,
              "solidity": 0.2
             }
            },
            "type": "bar"
           }
          ],
          "barpolar": [
           {
            "marker": {
             "line": {
              "color": "#E5ECF6",
              "width": 0.5
             },
             "pattern": {
              "fillmode": "overlay",
              "size": 10,
              "solidity": 0.2
             }
            },
            "type": "barpolar"
           }
          ],
          "carpet": [
           {
            "aaxis": {
             "endlinecolor": "#2a3f5f",
             "gridcolor": "white",
             "linecolor": "white",
             "minorgridcolor": "white",
             "startlinecolor": "#2a3f5f"
            },
            "baxis": {
             "endlinecolor": "#2a3f5f",
             "gridcolor": "white",
             "linecolor": "white",
             "minorgridcolor": "white",
             "startlinecolor": "#2a3f5f"
            },
            "type": "carpet"
           }
          ],
          "choropleth": [
           {
            "colorbar": {
             "outlinewidth": 0,
             "ticks": ""
            },
            "type": "choropleth"
           }
          ],
          "contour": [
           {
            "colorbar": {
             "outlinewidth": 0,
             "ticks": ""
            },
            "colorscale": [
             [
              0,
              "#0d0887"
             ],
             [
              0.1111111111111111,
              "#46039f"
             ],
             [
              0.2222222222222222,
              "#7201a8"
             ],
             [
              0.3333333333333333,
              "#9c179e"
             ],
             [
              0.4444444444444444,
              "#bd3786"
             ],
             [
              0.5555555555555556,
              "#d8576b"
             ],
             [
              0.6666666666666666,
              "#ed7953"
             ],
             [
              0.7777777777777778,
              "#fb9f3a"
             ],
             [
              0.8888888888888888,
              "#fdca26"
             ],
             [
              1,
              "#f0f921"
             ]
            ],
            "type": "contour"
           }
          ],
          "contourcarpet": [
           {
            "colorbar": {
             "outlinewidth": 0,
             "ticks": ""
            },
            "type": "contourcarpet"
           }
          ],
          "heatmap": [
           {
            "colorbar": {
             "outlinewidth": 0,
             "ticks": ""
            },
            "colorscale": [
             [
              0,
              "#0d0887"
             ],
             [
              0.1111111111111111,
              "#46039f"
             ],
             [
              0.2222222222222222,
              "#7201a8"
             ],
             [
              0.3333333333333333,
              "#9c179e"
             ],
             [
              0.4444444444444444,
              "#bd3786"
             ],
             [
              0.5555555555555556,
              "#d8576b"
             ],
             [
              0.6666666666666666,
              "#ed7953"
             ],
             [
              0.7777777777777778,
              "#fb9f3a"
             ],
             [
              0.8888888888888888,
              "#fdca26"
             ],
             [
              1,
              "#f0f921"
             ]
            ],
            "type": "heatmap"
           }
          ],
          "heatmapgl": [
           {
            "colorbar": {
             "outlinewidth": 0,
             "ticks": ""
            },
            "colorscale": [
             [
              0,
              "#0d0887"
             ],
             [
              0.1111111111111111,
              "#46039f"
             ],
             [
              0.2222222222222222,
              "#7201a8"
             ],
             [
              0.3333333333333333,
              "#9c179e"
             ],
             [
              0.4444444444444444,
              "#bd3786"
             ],
             [
              0.5555555555555556,
              "#d8576b"
             ],
             [
              0.6666666666666666,
              "#ed7953"
             ],
             [
              0.7777777777777778,
              "#fb9f3a"
             ],
             [
              0.8888888888888888,
              "#fdca26"
             ],
             [
              1,
              "#f0f921"
             ]
            ],
            "type": "heatmapgl"
           }
          ],
          "histogram": [
           {
            "marker": {
             "pattern": {
              "fillmode": "overlay",
              "size": 10,
              "solidity": 0.2
             }
            },
            "type": "histogram"
           }
          ],
          "histogram2d": [
           {
            "colorbar": {
             "outlinewidth": 0,
             "ticks": ""
            },
            "colorscale": [
             [
              0,
              "#0d0887"
             ],
             [
              0.1111111111111111,
              "#46039f"
             ],
             [
              0.2222222222222222,
              "#7201a8"
             ],
             [
              0.3333333333333333,
              "#9c179e"
             ],
             [
              0.4444444444444444,
              "#bd3786"
             ],
             [
              0.5555555555555556,
              "#d8576b"
             ],
             [
              0.6666666666666666,
              "#ed7953"
             ],
             [
              0.7777777777777778,
              "#fb9f3a"
             ],
             [
              0.8888888888888888,
              "#fdca26"
             ],
             [
              1,
              "#f0f921"
             ]
            ],
            "type": "histogram2d"
           }
          ],
          "histogram2dcontour": [
           {
            "colorbar": {
             "outlinewidth": 0,
             "ticks": ""
            },
            "colorscale": [
             [
              0,
              "#0d0887"
             ],
             [
              0.1111111111111111,
              "#46039f"
             ],
             [
              0.2222222222222222,
              "#7201a8"
             ],
             [
              0.3333333333333333,
              "#9c179e"
             ],
             [
              0.4444444444444444,
              "#bd3786"
             ],
             [
              0.5555555555555556,
              "#d8576b"
             ],
             [
              0.6666666666666666,
              "#ed7953"
             ],
             [
              0.7777777777777778,
              "#fb9f3a"
             ],
             [
              0.8888888888888888,
              "#fdca26"
             ],
             [
              1,
              "#f0f921"
             ]
            ],
            "type": "histogram2dcontour"
           }
          ],
          "mesh3d": [
           {
            "colorbar": {
             "outlinewidth": 0,
             "ticks": ""
            },
            "type": "mesh3d"
           }
          ],
          "parcoords": [
           {
            "line": {
             "colorbar": {
              "outlinewidth": 0,
              "ticks": ""
             }
            },
            "type": "parcoords"
           }
          ],
          "pie": [
           {
            "automargin": true,
            "type": "pie"
           }
          ],
          "scatter": [
           {
            "fillpattern": {
             "fillmode": "overlay",
             "size": 10,
             "solidity": 0.2
            },
            "type": "scatter"
           }
          ],
          "scatter3d": [
           {
            "line": {
             "colorbar": {
              "outlinewidth": 0,
              "ticks": ""
             }
            },
            "marker": {
             "colorbar": {
              "outlinewidth": 0,
              "ticks": ""
             }
            },
            "type": "scatter3d"
           }
          ],
          "scattercarpet": [
           {
            "marker": {
             "colorbar": {
              "outlinewidth": 0,
              "ticks": ""
             }
            },
            "type": "scattercarpet"
           }
          ],
          "scattergeo": [
           {
            "marker": {
             "colorbar": {
              "outlinewidth": 0,
              "ticks": ""
             }
            },
            "type": "scattergeo"
           }
          ],
          "scattergl": [
           {
            "marker": {
             "colorbar": {
              "outlinewidth": 0,
              "ticks": ""
             }
            },
            "type": "scattergl"
           }
          ],
          "scattermapbox": [
           {
            "marker": {
             "colorbar": {
              "outlinewidth": 0,
              "ticks": ""
             }
            },
            "type": "scattermapbox"
           }
          ],
          "scatterpolar": [
           {
            "marker": {
             "colorbar": {
              "outlinewidth": 0,
              "ticks": ""
             }
            },
            "type": "scatterpolar"
           }
          ],
          "scatterpolargl": [
           {
            "marker": {
             "colorbar": {
              "outlinewidth": 0,
              "ticks": ""
             }
            },
            "type": "scatterpolargl"
           }
          ],
          "scatterternary": [
           {
            "marker": {
             "colorbar": {
              "outlinewidth": 0,
              "ticks": ""
             }
            },
            "type": "scatterternary"
           }
          ],
          "surface": [
           {
            "colorbar": {
             "outlinewidth": 0,
             "ticks": ""
            },
            "colorscale": [
             [
              0,
              "#0d0887"
             ],
             [
              0.1111111111111111,
              "#46039f"
             ],
             [
              0.2222222222222222,
              "#7201a8"
             ],
             [
              0.3333333333333333,
              "#9c179e"
             ],
             [
              0.4444444444444444,
              "#bd3786"
             ],
             [
              0.5555555555555556,
              "#d8576b"
             ],
             [
              0.6666666666666666,
              "#ed7953"
             ],
             [
              0.7777777777777778,
              "#fb9f3a"
             ],
             [
              0.8888888888888888,
              "#fdca26"
             ],
             [
              1,
              "#f0f921"
             ]
            ],
            "type": "surface"
           }
          ],
          "table": [
           {
            "cells": {
             "fill": {
              "color": "#EBF0F8"
             },
             "line": {
              "color": "white"
             }
            },
            "header": {
             "fill": {
              "color": "#C8D4E3"
             },
             "line": {
              "color": "white"
             }
            },
            "type": "table"
           }
          ]
         },
         "layout": {
          "annotationdefaults": {
           "arrowcolor": "#2a3f5f",
           "arrowhead": 0,
           "arrowwidth": 1
          },
          "autotypenumbers": "strict",
          "coloraxis": {
           "colorbar": {
            "outlinewidth": 0,
            "ticks": ""
           }
          },
          "colorscale": {
           "diverging": [
            [
             0,
             "#8e0152"
            ],
            [
             0.1,
             "#c51b7d"
            ],
            [
             0.2,
             "#de77ae"
            ],
            [
             0.3,
             "#f1b6da"
            ],
            [
             0.4,
             "#fde0ef"
            ],
            [
             0.5,
             "#f7f7f7"
            ],
            [
             0.6,
             "#e6f5d0"
            ],
            [
             0.7,
             "#b8e186"
            ],
            [
             0.8,
             "#7fbc41"
            ],
            [
             0.9,
             "#4d9221"
            ],
            [
             1,
             "#276419"
            ]
           ],
           "sequential": [
            [
             0,
             "#0d0887"
            ],
            [
             0.1111111111111111,
             "#46039f"
            ],
            [
             0.2222222222222222,
             "#7201a8"
            ],
            [
             0.3333333333333333,
             "#9c179e"
            ],
            [
             0.4444444444444444,
             "#bd3786"
            ],
            [
             0.5555555555555556,
             "#d8576b"
            ],
            [
             0.6666666666666666,
             "#ed7953"
            ],
            [
             0.7777777777777778,
             "#fb9f3a"
            ],
            [
             0.8888888888888888,
             "#fdca26"
            ],
            [
             1,
             "#f0f921"
            ]
           ],
           "sequentialminus": [
            [
             0,
             "#0d0887"
            ],
            [
             0.1111111111111111,
             "#46039f"
            ],
            [
             0.2222222222222222,
             "#7201a8"
            ],
            [
             0.3333333333333333,
             "#9c179e"
            ],
            [
             0.4444444444444444,
             "#bd3786"
            ],
            [
             0.5555555555555556,
             "#d8576b"
            ],
            [
             0.6666666666666666,
             "#ed7953"
            ],
            [
             0.7777777777777778,
             "#fb9f3a"
            ],
            [
             0.8888888888888888,
             "#fdca26"
            ],
            [
             1,
             "#f0f921"
            ]
           ]
          },
          "colorway": [
           "#636efa",
           "#EF553B",
           "#00cc96",
           "#ab63fa",
           "#FFA15A",
           "#19d3f3",
           "#FF6692",
           "#B6E880",
           "#FF97FF",
           "#FECB52"
          ],
          "font": {
           "color": "#2a3f5f"
          },
          "geo": {
           "bgcolor": "white",
           "lakecolor": "white",
           "landcolor": "#E5ECF6",
           "showlakes": true,
           "showland": true,
           "subunitcolor": "white"
          },
          "hoverlabel": {
           "align": "left"
          },
          "hovermode": "closest",
          "mapbox": {
           "style": "light"
          },
          "paper_bgcolor": "white",
          "plot_bgcolor": "#E5ECF6",
          "polar": {
           "angularaxis": {
            "gridcolor": "white",
            "linecolor": "white",
            "ticks": ""
           },
           "bgcolor": "#E5ECF6",
           "radialaxis": {
            "gridcolor": "white",
            "linecolor": "white",
            "ticks": ""
           }
          },
          "scene": {
           "xaxis": {
            "backgroundcolor": "#E5ECF6",
            "gridcolor": "white",
            "gridwidth": 2,
            "linecolor": "white",
            "showbackground": true,
            "ticks": "",
            "zerolinecolor": "white"
           },
           "yaxis": {
            "backgroundcolor": "#E5ECF6",
            "gridcolor": "white",
            "gridwidth": 2,
            "linecolor": "white",
            "showbackground": true,
            "ticks": "",
            "zerolinecolor": "white"
           },
           "zaxis": {
            "backgroundcolor": "#E5ECF6",
            "gridcolor": "white",
            "gridwidth": 2,
            "linecolor": "white",
            "showbackground": true,
            "ticks": "",
            "zerolinecolor": "white"
           }
          },
          "shapedefaults": {
           "line": {
            "color": "#2a3f5f"
           }
          },
          "ternary": {
           "aaxis": {
            "gridcolor": "white",
            "linecolor": "white",
            "ticks": ""
           },
           "baxis": {
            "gridcolor": "white",
            "linecolor": "white",
            "ticks": ""
           },
           "bgcolor": "#E5ECF6",
           "caxis": {
            "gridcolor": "white",
            "linecolor": "white",
            "ticks": ""
           }
          },
          "title": {
           "x": 0.05
          },
          "xaxis": {
           "automargin": true,
           "gridcolor": "white",
           "linecolor": "white",
           "ticks": "",
           "title": {
            "standoff": 15
           },
           "zerolinecolor": "white",
           "zerolinewidth": 2
          },
          "yaxis": {
           "automargin": true,
           "gridcolor": "white",
           "linecolor": "white",
           "ticks": "",
           "title": {
            "standoff": 15
           },
           "zerolinecolor": "white",
           "zerolinewidth": 2
          }
         }
        }
       }
      }
     },
     "metadata": {},
     "output_type": "display_data"
    }
   ],
   "source": [
    "\n",
    "px.scatter_3d(x=x_testdf.iloc[:,0],y=x_testdf.iloc[:,1],z=x_testdf.iloc[:,2], color= y_test)"
   ]
  },
  {
   "cell_type": "code",
   "execution_count": 433,
   "metadata": {},
   "outputs": [
    {
     "data": {
      "application/vnd.plotly.v1+json": {
       "config": {
        "plotlyServerURL": "https://plot.ly"
       },
       "data": [
        {
         "hovertemplate": "x=%{x}<br>y=%{y}<br>z=%{z}<br>color=%{marker.color}<extra></extra>",
         "legendgroup": "",
         "marker": {
          "color": [
           1,
           1,
           1,
           1,
           1,
           1,
           1,
           1,
           1,
           1,
           1,
           1,
           1,
           1,
           1,
           1,
           1,
           1,
           1,
           1,
           0,
           1,
           1,
           0,
           1,
           1,
           0,
           0,
           0,
           1,
           1,
           1,
           1,
           1,
           1,
           1,
           1,
           0,
           1,
           0,
           0,
           1,
           1,
           1,
           1,
           1,
           0,
           1,
           1,
           1,
           1,
           0,
           1,
           1,
           1,
           1,
           1,
           1,
           1,
           1,
           0,
           1,
           1,
           1,
           1,
           1,
           0,
           1,
           1,
           1,
           1,
           1,
           1,
           0,
           1,
           1,
           1,
           1,
           1,
           1,
           0,
           1,
           1,
           1,
           0,
           1,
           1,
           1,
           0,
           1,
           1,
           1,
           0,
           1,
           1,
           0,
           1,
           0,
           1,
           1,
           0,
           0,
           1,
           1,
           1,
           1,
           1,
           1,
           1,
           1,
           1,
           0,
           1,
           1,
           1,
           0,
           0,
           1,
           1,
           1,
           1,
           1,
           0,
           1,
           1,
           0,
           1,
           0,
           0,
           1,
           1,
           0,
           1,
           1,
           1,
           0,
           1,
           1,
           1,
           1,
           1,
           0,
           1,
           1,
           1,
           1,
           0,
           1,
           1,
           1,
           1,
           1,
           1,
           1,
           1,
           1,
           0,
           1,
           0,
           1,
           1,
           1,
           1,
           1,
           1,
           0,
           1,
           1,
           1,
           1,
           0,
           1,
           1,
           1,
           1,
           1,
           1,
           0,
           1,
           0,
           1,
           1,
           1,
           1,
           1,
           1,
           1,
           1,
           1,
           1,
           1,
           1,
           0,
           1,
           0,
           1,
           0,
           0,
           1,
           1,
           0,
           1,
           1,
           1,
           1,
           1,
           0,
           1,
           0,
           0,
           1,
           1,
           1,
           1,
           1,
           0,
           1,
           0,
           1,
           1,
           1,
           1,
           1,
           0,
           0,
           1,
           1,
           1,
           1,
           0,
           0,
           1,
           1,
           0,
           1,
           1,
           1,
           1,
           0,
           1,
           1,
           1,
           0,
           1,
           1,
           1,
           1,
           1,
           1,
           1,
           1,
           1,
           1,
           1,
           1,
           1,
           1,
           1,
           1,
           1,
           1,
           1,
           0,
           0,
           0,
           1,
           1,
           1,
           0,
           1,
           1,
           0,
           1,
           1,
           1,
           1,
           1,
           1,
           1,
           0,
           1,
           1,
           1,
           1,
           1,
           1,
           1,
           1,
           1,
           0,
           0,
           1,
           0,
           0,
           1,
           1,
           0,
           1,
           1,
           0,
           1,
           1,
           1,
           1,
           1,
           1,
           1,
           1,
           0,
           1,
           0,
           0,
           1,
           1,
           1,
           1,
           1,
           1,
           1,
           0,
           1,
           1,
           1,
           0,
           1,
           1,
           1,
           0,
           1,
           1,
           1,
           1,
           1,
           1,
           1,
           1,
           1,
           1,
           1,
           0,
           1,
           1,
           1,
           1,
           1,
           1,
           1,
           1,
           1,
           1,
           1,
           1,
           1,
           1,
           1,
           1,
           0,
           0,
           1,
           1,
           1,
           1,
           1,
           1,
           0,
           0,
           1,
           1,
           1,
           1,
           1,
           1,
           1,
           0,
           1,
           0,
           1,
           1,
           1,
           1,
           1,
           1,
           1,
           1,
           1,
           1,
           0,
           1,
           0,
           1,
           1,
           1,
           1,
           0,
           1,
           1,
           1,
           1,
           1,
           0,
           1,
           1,
           1,
           1
          ],
          "coloraxis": "coloraxis",
          "symbol": "circle"
         },
         "mode": "markers",
         "name": "",
         "scene": "scene",
         "showlegend": false,
         "type": "scatter3d",
         "x": [
          3.9656736814240294,
          -5.5517929394341605,
          6.68776086674939,
          0.5165362470470959,
          -1.5596724130535877,
          4.972550123670571,
          -6.232714128525154,
          -0.8072380215033506,
          0.9499576013169186,
          9.492600911165113,
          -2.99697496465625,
          -2.2598916225322085,
          6.809141957770477,
          -2.4008166670617874,
          -4.487778515165683,
          -3.564672164484353,
          1.821860641677875,
          2.6083563696508514,
          5.05782548925524,
          -0.9944715878838817,
          2.4044148508820733,
          4.253293958240879,
          5.694606726172606,
          -3.5077609849501292,
          1.0501808737190241,
          0.5733286535866731,
          -0.03213211722131105,
          4.2956173382052745,
          3.6520552698662416,
          2.6018644364635652,
          1.1430602469190294,
          -3.4832137709935904,
          -1.4083618091883023,
          0.8327370226067352,
          -6.572295788329131,
          -5.3080367041636665,
          8.985192617402584,
          4.255884024776311,
          4.522489502335722,
          -6.011055642065317,
          -5.440985775537714,
          7.535164303740893,
          4.50220215657965,
          -6.132016438166981,
          -3.8095696189193764,
          1.3635817836883093,
          0.4612415764085352,
          3.3619791254674776,
          0.3789815661095938,
          3.529745025522083,
          -7.135836961906808,
          -2.1062350789059145,
          0.39262244607905933,
          -3.1598988202367995,
          8.013335482773448,
          6.734525241914259,
          -0.495794456435977,
          2.312205234643183,
          -7.4453281261764745,
          7.218237132269712,
          1.5759095071683231,
          6.998315112054041,
          6.59459239132662,
          4.648736694597558,
          -4.605196460007229,
          3.892003118666156,
          1.3625955789258593,
          8.594919509308816,
          -6.849168546524536,
          -1.6474357917810714,
          -0.9856304345476442,
          4.826131273653971,
          1.4790435360659557,
          -2.393200156423395,
          5.512927013235647,
          0.7367637043070079,
          -0.8962391701277722,
          6.746584373872402,
          4.286756185780559,
          4.367115468505881,
          0.8366407392564068,
          4.769862873102657,
          -1.4907527428279432,
          -0.9178032362067795,
          7.844827108292685,
          7.284613064155981,
          8.574735639321187,
          -6.394849948073911,
          -4.4510635947819335,
          -7.256991092049106,
          1.9987134497734762,
          1.22176173419113,
          -1.6004722868585641,
          4.347408091113051,
          2.661877268423012,
          -6.284305799056836,
          3.4551110878330658,
          0.15621298784895815,
          7.075523786417844,
          -2.2138722106767763,
          1.8521053084829562,
          -2.833561850313176,
          3.759716947404285,
          -0.3360778270327388,
          -5.5855200576481145,
          2.5981175122486775,
          -6.420765287281618,
          -3.2668663712355026,
          -1.3613125490137497,
          -5.17780858168301,
          -6.137385632549194,
          0.5064480531673754,
          -2.475599382143989,
          4.369724073874692,
          -6.56987435820378,
          6.121963904529976,
          -4.392361443468309,
          1.2827956114491645,
          7.625067029219154,
          -3.827067575226624,
          8.832619152421668,
          -6.6530580507920885,
          -6.081290454260132,
          -5.341035134865796,
          -0.5320364379319211,
          0.95791838367645,
          -2.6460413429588354,
          0.6889956057103812,
          6.130486823857481,
          -7.072071547621341,
          6.9529102590635725,
          1.6802252292076802,
          1.1207167528619308,
          -2.4409959991729373,
          2.396816692227452,
          -6.1361114037571864,
          2.5871699391420213,
          4.111753264586642,
          -4.508400906816787,
          0.10658131197084697,
          5.966746971539194,
          -5.138805476153507,
          -3.7465433015758376,
          3.331217436652684,
          8.397255860519893,
          1.6761758460686598,
          -6.234484332155434,
          -3.774717092619199,
          1.9242349974476558,
          -5.7181127027562395,
          6.93703300012437,
          3.301714409969985,
          -0.3803968688782169,
          -0.4535328684081442,
          -5.070351511931833,
          -2.3201557714020327,
          -2.7721465523065265,
          3.026863406684496,
          -6.2419390968111355,
          4.442210988880567,
          2.035081948032831,
          -6.941181260441204,
          6.289671756297102,
          3.019939563501273,
          -4.306039358144579,
          5.838988530126791,
          1.091755622163547,
          4.3397973332741495,
          3.84544505452326,
          2.8190831501859854,
          -4.7018565117790505,
          -1.0075859694583051,
          -5.565002890555519,
          4.920289319911795,
          -4.268454547910402,
          5.93280437344337,
          -0.10703581049958263,
          -0.371051423033105,
          -3.5928759468623843,
          -2.2163588028516745,
          0.6274297512009724,
          -5.829331713198807,
          6.9763122153887345,
          -1.4307654809547061,
          4.058385739138683,
          2.446196208346952,
          1.014906533874973,
          -6.528149755144639,
          7.016287852645483,
          5.217959536885636,
          -7.244681823513475,
          0.6195633695270343,
          -0.5128894732754222,
          5.26427554297757,
          -5.331971062841406,
          -1.9102870631554634,
          8.951016580504318,
          -5.946639571684706,
          3.1514389040001864,
          2.7768720039595722,
          -2.6937886994819875,
          4.628424507711032,
          7.247853090759754,
          2.8003639550241135,
          -4.008432832298981,
          -4.320416961429239,
          0.12443231730286397,
          -4.77615220958908,
          -6.104081007667648,
          6.567656398354147,
          -3.9063453770278977,
          0.09170506687521629,
          -0.4162633806238166,
          -1.4719697681240553,
          0.3748487246503707,
          1.709932919433794,
          -5.6916774111767365,
          -3.2582848749239948,
          0.8614720752171414,
          0.009034731655954791,
          -0.47261341584074235,
          5.711575569427601,
          -6.299204283246334,
          -3.247867146083566,
          -5.698877572172456,
          5.198419944262178,
          -5.855686670225573,
          -6.273518520445829,
          -3.9378675317358915,
          1.9633572175069525,
          2.948661415245559,
          -6.955240739523404,
          -3.961035243372525,
          0.10809520267684454,
          2.6174340656036232,
          1.8717795032545281,
          -0.419924046988076,
          4.971544463099156,
          3.0234594226321994,
          -2.255972573177621,
          7.51846893172724,
          3.818914837888775,
          -2.894074791667501,
          -6.777107843188936,
          1.3307786928078926,
          0.19053648201613915,
          -4.551879954669742,
          -1.4961113906411745,
          -7.0551242722276335,
          2.733731966321695,
          0.09483147846507689,
          -6.0920631755459285,
          -0.4536031276069407,
          -0.9120774721145479,
          -6.590263582705573,
          -6.527641865001269,
          -7.232586091534334,
          -6.130945000391438,
          4.71361332957934,
          2.9524456587802503,
          -3.825351253353931,
          3.6490288705976752,
          6.6236384933109616,
          -5.808879969604677,
          -3.510684954026371,
          -1.0592722192059958,
          -0.605514856443636,
          6.471328085092203,
          -1.8407743070036053,
          -2.039279120262304,
          3.5744824356179947,
          3.0849961827070236,
          -4.944927961610429,
          0.7715731779380314,
          7.292964986821114,
          -0.4972080949299846,
          1.0406146778649294,
          -0.052347994317024076,
          -1.1820156321478823,
          1.6184743671939472,
          1.8472211548030828,
          2.132945277088603,
          -1.3933807259805557,
          -0.7568957080427444,
          2.1848165816499314,
          -1.3217092121579601,
          -0.961174796106354,
          7.2611933035295015,
          2.9926105937820173,
          2.5899430893936684,
          -5.304467968647458,
          1.7496991496597165,
          5.3637026518579125,
          -0.04126648023766285,
          -7.029442020212461,
          -3.022062751657181,
          6.407636332351108,
          -4.005630816167015,
          -0.42776908345153375,
          -3.5889367827761576,
          0.9250005409557759,
          -1.418592656439802,
          -4.6965375271311665,
          -1.0590650815961404,
          1.0768319806793845,
          -5.776503134316031,
          0.7802526820336079,
          -3.1085335481038383,
          -4.3385600581232735,
          -5.278893663960864,
          7.177610026236637,
          -7.848468655778474,
          4.1363633322156,
          5.504180813647925,
          5.272216564317732,
          -0.7427415956957483,
          5.413329620188677,
          5.735878043669804,
          -0.9738331486239443,
          -5.819846473166542,
          8.620839382274033,
          0.2662852064918837,
          -1.8419455789312968,
          -3.0123067877563154,
          4.045191156918947,
          -6.523399033985281,
          -5.84587634825219,
          7.070231673629358,
          1.4709433253731232,
          -4.2236491468123365,
          8.115966687122215,
          -3.63409854347924,
          -4.236966934748565,
          -7.366588298086167,
          -1.9974044075874897,
          6.791615572165819,
          -1.2862268148558826,
          2.680380665384111,
          -1.6431223207993202,
          -4.757245312836285,
          -2.419556963590488,
          -4.184075079411657,
          -4.904546531229709,
          0.47243140704558995,
          -0.5591532485828495,
          8.09664112547297,
          -0.35575474446147365,
          -1.2906821477247283,
          0.1366248526312065,
          3.317532850735335,
          -0.906303524950597,
          0.4386584728918747,
          5.129457866232684,
          3.1211584980461935,
          -5.245374000057831,
          -5.814722916332113,
          6.501390860182107,
          -2.903064961557728,
          -5.619051715243001,
          1.4493141784501071,
          0.9304532312847099,
          -7.238155425857963,
          -2.076623977205213,
          -1.069703587073906,
          -3.226362917434363,
          -4.725060183378911,
          3.0944205278531594,
          5.129687862132644,
          0.8091056844335832,
          5.365257657315671,
          -4.327315931262832,
          -3.6773590831620706,
          -6.685378963723751,
          1.8840804642622073,
          5.904578158800358,
          -1.714225900482045,
          -3.8773173655476896,
          -2.802384789258261,
          -6.713794185329019,
          -1.9295704308971409,
          -0.08948443887991292,
          -5.8694663998294265,
          -1.0912019311456314,
          3.907127017874565,
          -1.848190402098392,
          7.52643807224355,
          -5.52960071208892,
          5.514981041567128,
          -5.050907219938864,
          -2.611047588730541,
          0.6040261434088956,
          4.7627805803907926,
          2.1648553538917326,
          2.3868648664418406,
          3.056658908204565,
          -6.206312451697496,
          1.2199844466981538,
          4.77044890618325,
          4.9114247128714075,
          3.1822572870988566,
          -5.53479141528676,
          6.394935345487679,
          0.6611101820429847,
          4.905213910727297
         ],
         "y": [
          -3.3106997756454777,
          2.471565381880241,
          5.1880424422827485,
          4.917941526740074,
          -4.977259169503069,
          1.0975778198884771,
          1.218381778941,
          -4.652265685840128,
          5.1285391444151065,
          2.0195700083455663,
          -0.9810005499510017,
          -1.1858355152308848,
          2.349707160382813,
          -4.941403878400937,
          4.784438500131286,
          -1.3874846575945898,
          0.29649986044534193,
          6.252996166681427,
          3.0087357255278775,
          -5.947573129429882,
          -3.92725343126418,
          -3.028100390352521,
          2.6684401030062492,
          -3.35462503638377,
          -0.41955104033746893,
          -6.110537880867687,
          5.989937992224073,
          1.0347667519930777,
          -5.016798165026853,
          -2.998321995286056,
          -5.0773666409415945,
          -1.890103611871566,
          0.03355560254404084,
          -6.009386128782078,
          0.34771726501308875,
          -3.5300726989268134,
          -2.422583194951656,
          2.796108799079515,
          -0.07248082224916924,
          0.40885333343986646,
          2.486081634580564,
          3.3172975727831586,
          -3.013523764782179,
          -1.484820486314099,
          4.587005393981478,
          0.4996074998664628,
          6.464200994318604,
          -0.8093270426156481,
          2.242103245206156,
          -4.608201758259806,
          -2.314313152412119,
          4.1866473762084455,
          -5.853603562154204,
          -1.940557735712303,
          2.1940189927869382,
          2.7785858396044176,
          -0.9107446755559346,
          -5.438941490890076,
          -1.7692277570110921,
          -2.346607288570171,
          4.456173868424977,
          -2.1839473542505377,
          2.761327658810309,
          -1.0220627120809944,
          4.748680816511896,
          -3.7054153713517035,
          0.19462830166039893,
          2.3148396892650704,
          -1.0379387517795708,
          -0.7848553478110886,
          -5.7239937945295845,
          -3.629949304306828,
          0.264815824343349,
          0.8819908543543126,
          -3.7723992466796323,
          -3.5656122662541443,
          -5.423846824185196,
          3.0304612573877785,
          1.926803457564504,
          1.3735451550751714,
          -4.108290463164094,
          -2.2609655694296626,
          2.6155532511299158,
          -1.0074902005619206,
          -2.6777905427967714,
          -2.202464807672447,
          5.1536599688609,
          2.085048398725489,
          3.158502749655099,
          -1.522243461188681,
          -4.429805066461291,
          3.6674924851086854,
          -2.7129945495006833,
          -0.14314765144827202,
          -4.479129577500117,
          0.1018316224266826,
          5.1162660673375,
          5.496530776707181,
          -1.9699112879222171,
          -1.8092850246575762,
          0.9616860706671945,
          -2.579591661467413,
          3.5543336425255574,
          4.15618652392014,
          2.0534443440026697,
          -2.896696958042813,
          -0.25062537216289144,
          4.703060518179791,
          5.096016587466489,
          2.1189806454074884,
          1.7193390130381998,
          5.844622212327297,
          5.623636010190012,
          -3.783171641048108,
          0.02327693657825145,
          -1.136653462782048,
          2.5832896632174216,
          2.791267845714356,
          3.0142395563121704,
          4.34428039984735,
          5.807403449246256,
          0.8824078056510382,
          0.6419236285022062,
          1.8160571406490071,
          -1.8043287589952408,
          6.959240100719564,
          -4.659744999400069,
          2.2715552984797194,
          -2.671654520944972,
          -0.03473868291112731,
          1.8165242189910211,
          1.1215926046572862,
          -5.965505769811789,
          5.825084618548901,
          1.729287044152183,
          0.5419681492653129,
          -4.082535467261448,
          -0.11606180349994566,
          -1.3035816835895555,
          -1.14086902739395,
          1.1887184997295228,
          0.13712879571005251,
          4.755982038612792,
          -5.237198866899171,
          3.623625520652763,
          1.6750482045704709,
          0.31076146119252307,
          -4.2933038068092735,
          -5.671119306835711,
          1.8628845870538466,
          3.1042708345086103,
          -4.686775999678279,
          -3.9558903896063184,
          -4.374398998955724,
          3.1283277304981407,
          -2.0092043826365606,
          -3.2958054633424343,
          -4.713759573195561,
          0.903642496184067,
          0.13706544891746913,
          -5.163474027013449,
          0.3978076750664046,
          3.3256086588523273,
          1.3843177653929177,
          -3.697585294599857,
          -2.2804605122026227,
          -5.25934386338875,
          -4.457793150900905,
          2.2388479430302053,
          -4.511612697256899,
          0.24030881844892601,
          6.699994460663882,
          1.9054560933629452,
          -2.2675722813640724,
          -1.4502556817875525,
          -3.227296930857969,
          -0.5219832543498326,
          -2.9696905764509514,
          -4.451616231764638,
          -2.961216763232053,
          -4.048132587910933,
          2.9393112239880756,
          3.0046223717504907,
          7.130488057800291,
          -3.9756353050082964,
          6.121388137318441,
          2.407627840647171,
          -0.25349513670776735,
          -1.5939552865863638,
          -0.4217296413205102,
          -0.23938057508950852,
          1.0046602806012739,
          -3.034511747410599,
          3.292111485924842,
          3.519341058053292,
          6.061045201089446,
          3.4276731395623665,
          0.30931886705649136,
          5.138155180244787,
          -3.1420755509265494,
          -3.278717705581643,
          -0.6942089179369452,
          2.915163257641924,
          -3.158250024079845,
          3.792337136116686,
          4.632634016125034,
          6.25462178958167,
          3.1860039744997684,
          0.6385445654327336,
          -0.8118553429980111,
          4.998602515518412,
          4.341558608427756,
          -5.245291371445144,
          -5.124410466587167,
          0.3468972944129107,
          -3.0293954603762696,
          2.03238838833725,
          -3.3308025670108785,
          -5.22487691737636,
          -4.699955318864831,
          -4.57942865373567,
          -0.9095252130131947,
          -0.2719461578487543,
          -2.7948801605893316,
          1.0167773738842412,
          0.67142350616312,
          1.231150488757552,
          -0.13570587600073988,
          -4.180464810010613,
          -4.399580975654056,
          -5.536381900976213,
          0.20115984096827513,
          -4.256619257580074,
          -3.8976560950848014,
          -5.694550074909388,
          -1.2939792256739215,
          -3.6103995904456037,
          -4.375545944482893,
          -5.014341596615132,
          -1.5668485923413902,
          1.8125968578402658,
          -3.402343788330927,
          -0.1343961404813567,
          -0.7891839677802047,
          1.00875434141002,
          -5.222303675185284,
          3.183709304088915,
          -5.309619572714915,
          0.27671736443986095,
          -1.4165992854033178,
          1.8932524577735321,
          -3.900267697129227,
          -4.2748499248519,
          -5.1786023534431544,
          -0.1250827206878197,
          0.2398482165525455,
          -2.515062231783238,
          0.8039364776535766,
          0.5308316914220125,
          2.339300119720639,
          -4.54961909444338,
          1.7699883638708616,
          4.511989372380631,
          0.04330865077576069,
          2.365313309689063,
          -0.4201806886154988,
          3.3358216924856947,
          2.9001457612497785,
          2.3416729973018398,
          3.1285530254171747,
          -1.415121199916718,
          -5.182084478696072,
          1.4313657732346001,
          -2.906674164168623,
          2.0915376796393654,
          -1.2632480370008503,
          -5.052938413038004,
          -5.52197458429219,
          -5.582344159391939,
          -0.3941035876993264,
          -5.402727018695541,
          4.207545423307107,
          3.3524294847789515,
          -5.724419045569647,
          -4.2353653119633945,
          5.071180928432545,
          -4.929783322394794,
          0.6951465298721446,
          -4.561939927771503,
          2.3537832808338948,
          0.5472431111423711,
          -5.765994772693126,
          3.8246603512362696,
          0.22995001783080882,
          0.7177547473417065,
          4.400300991074658,
          0.2264918746680116,
          -1.6024881026726217,
          -4.722821626227401,
          -4.612277211093812,
          -4.950236952931438,
          -4.950765476227708,
          4.880700561201208,
          0.692401452446804,
          -1.776038720650036,
          1.8149886292222688,
          -4.665069490461076,
          -4.903375824766782,
          3.5121890645737084,
          -3.856457334655436,
          -3.11522081672849,
          -3.2225759184150555,
          0.750091923302083,
          2.9342787722298067,
          -2.2692466816652064,
          -0.25812717108598887,
          2.6622410629094895,
          -2.2584616997943785,
          -4.8634835900247495,
          0.7430407464279195,
          -0.6448107001703381,
          0.5335115749575505,
          -1.5316883459520474,
          -3.499017827484054,
          -3.251378316901504,
          0.050028927536522355,
          1.4365131791922283,
          2.8714024758802377,
          -5.147122434615922,
          -1.348556239456088,
          3.9156470127056373,
          -4.4620089891972095,
          4.6950767614620945,
          -1.5108255103724093,
          4.992068038013248,
          -1.4065317444927883,
          -3.9826138389948693,
          -4.248087074561131,
          5.317375570484288,
          -0.9529291115583169,
          4.9533445811812955,
          3.6439405014900808,
          -3.943115171956477,
          -4.974560291909803,
          0.8968496144318702,
          -1.715940549770096,
          5.098842580619705,
          -1.1571566263798676,
          -4.964254311092363,
          -4.453745063511259,
          -5.599903851967823,
          -5.813315937375844,
          0.48738617095119896,
          -0.5718349443254189,
          1.0119707706165888,
          1.3213559808055853,
          -0.5557206528113463,
          -0.2573741657744375,
          2.0134052005524685,
          -5.530734959698907,
          -5.926842894195562,
          -2.7461839671413624,
          -3.9677381936477487,
          -4.954776275204939,
          -3.3112147817823443,
          2.9551498751156102,
          -2.814257182205435,
          3.078775487286546,
          3.506194964131375,
          2.2552988091333126,
          2.019896794335188,
          4.202720741475909,
          0.18323541295002313,
          5.805651084770785,
          -2.4886472041294136,
          -3.36436971430995,
          4.3396707729144435,
          -4.655383233760825,
          -0.9499943175753088,
          -0.8912851611665326,
          5.243201952706365,
          -1.222011420107349,
          2.8362823735384124,
          -3.795440702008802,
          0.05883576887191507,
          1.6929703636210376,
          1.1711427712207867,
          7.357174509491355,
          0.22095730245155254,
          0.5092113802126098,
          0.5349410139755206,
          -2.818440319510738,
          -3.190750950305842,
          -4.357555391349571,
          -3.150047064790355,
          0.9409074207113898,
          -5.4435594506319775,
          -1.449619560042219,
          1.8514512377648924,
          -0.22005030015837812,
          2.7136564904415144,
          -3.163101550869408,
          -5.88244304372105,
          2.4929012857088395
         ],
         "z": [
          1.4722489690510685,
          -0.14729320172230634,
          -1.886029663001152,
          -0.7691869017971518,
          0.2536750223948029,
          -2.132377352609536,
          -1.3551188596577832,
          1.0587129189514046,
          -0.03548155081925577,
          -1.559627524604471,
          -1.6183600748734843,
          -2.9631857137032145,
          -2.1743009598672476,
          0.624091685103967,
          1.6373281129614543,
          -3.000574384325011,
          1.1357392986256478,
          0.2665079952592612,
          -2.451025979614644,
          0.8230123452412743,
          2.169597391747566,
          1.6497943084540574,
          -3.0660130043724894,
          -1.567117695065192,
          -1.4140314079030452,
          1.689120359745718,
          0.27349691513853575,
          -2.4971222939963567,
          3.8391994314452806,
          -0.2803755513594255,
          1.6260631177848004,
          -3.200789846603023,
          -0.6691597464650287,
          2.0778217045137426,
          -0.7261243403652818,
          -2.137649313339438,
          1.7847377425698059,
          -2.5825392182688978,
          -0.9424382129594164,
          -1.0526403178035604,
          1.2720202423744316,
          -1.9055769965107894,
          1.1337494964578587,
          -1.08436766553824,
          1.4714323648220333,
          -3.182560435778363,
          0.25019391258011203,
          -1.64700908953366,
          2.913755137041582,
          1.248880730290255,
          -2.307319398388402,
          -1.5601360908417448,
          1.896212386681736,
          -2.527446590298879,
          -2.1791692414246917,
          -2.570823686816544,
          -2.0857371715700044,
          3.2717332430769597,
          -1.941487419152553,
          1.4992500413820737,
          3.8840557559279283,
          1.4658536517940182,
          -2.4524644074937525,
          -3.576179811490634,
          2.5418699540754615,
          0.9458290803329059,
          -1.3216949420947168,
          -1.854273297642563,
          -1.4142104618583442,
          -2.3557706259845053,
          1.0125540922541696,
          0.7926257640187584,
          -2.890491138132134,
          -2.6399410329720108,
          1.760389532478404,
          0.2778137906036649,
          1.304191026154766,
          -2.870038642692483,
          -3.0114527670977855,
          -2.3402267199938005,
          1.1360005681292693,
          0.27181135430068054,
          2.717125602141912,
          -1.6651425933345405,
          2.147768873508347,
          1.4917421379214466,
          0.454711393525216,
          -0.005525799029030714,
          1.497192791414035,
          -0.9827284185630513,
          0.7640952959201627,
          0.0970075526897229,
          -0.8859632489511966,
          -0.45740117400404107,
          2.2986736694405567,
          -0.8289146038759126,
          -0.5120993043296731,
          5.371469242064109,
          1.2144778213854357,
          -1.8116930420095305,
          -1.0805047826952425,
          -2.82586753423578,
          -3.3542254583258404,
          4.648267211828637,
          0.7407624241240565,
          0.29083685341099363,
          -1.1503087301170398,
          3.299727324254465,
          -0.13444829363530472,
          0.9768831230539446,
          -0.9478209537444946,
          0.2653877891782863,
          -0.08735042706026855,
          1.9488011541523127,
          -0.9751269108979127,
          1.0325488668405294,
          1.5913339014959667,
          -0.20206277260718558,
          -1.968119040152484,
          2.2706930245574495,
          -1.8181566641128684,
          -0.7830085334720959,
          -1.082561872560737,
          -0.09507780657481699,
          -2.7522216881807187,
          -0.2991552025843005,
          1.0096744430860816,
          -3.9218318718000664,
          0.8401544697999083,
          -2.221706174625877,
          -1.4460643212532474,
          -1.7858077629877602,
          2.482816741381257,
          4.783185954883323,
          -3.929262883418048,
          -1.1094820203463835,
          2.904898720762067,
          -1.4160053915455209,
          0.6146676796809964,
          -1.4374916304029686,
          -0.25264909287699633,
          -1.1354238718170773,
          2.673727015195272,
          2.0659243060880037,
          -0.8771281275947738,
          -0.1552321438616499,
          -1.2614679339844643,
          -0.800045570495708,
          2.841067573977069,
          -1.1765358716119716,
          -0.5507479466639456,
          1.760803348673322,
          1.0314815411675209,
          0.7694652762986243,
          -0.35645262236616604,
          -1.2292754564385466,
          -2.0638505408895753,
          1.9976201485626253,
          -1.016438309643157,
          -1.4399228506286155,
          2.2544798805299173,
          -0.6994436230372454,
          -1.8820854028064322,
          -2.907720512805415,
          -2.2026591594374634,
          0.47363913767774285,
          2.9319662850668595,
          2.8797857121023354,
          -3.7921434233848466,
          2.8650985835074887,
          -0.5728146055552295,
          5.024654083548478,
          0.7075115948743739,
          0.37335666850448473,
          -3.0663097239807846,
          2.0130734300050155,
          -2.2886855912944712,
          -0.9376614649643327,
          0.08534521121088971,
          -0.5351605715832999,
          2.822065676748829,
          -0.3506607162430548,
          -3.1088858497944707,
          4.625723241659141,
          2.9079015316469077,
          -0.39629991955058724,
          5.408925719946299,
          -2.2507459777242245,
          1.3256131383165752,
          -0.9281503583425492,
          -1.3336831012566084,
          -2.2787424826011176,
          -0.7107810322768032,
          -2.189138197888984,
          0.9734766711860551,
          4.022594043854644,
          -2.6378925684243986,
          -1.186330388567172,
          0.2110869883832449,
          -1.059313807107077,
          -1.3563149682921396,
          -0.7101154234410799,
          -2.2497076663797895,
          -0.030614992077619203,
          0.4939442524914692,
          -0.008070919509866398,
          -0.3918209842511972,
          -0.7113438537973144,
          -0.872296025881671,
          -0.1591815693109765,
          3.4997967088972812,
          4.427354780739611,
          1.5363736157988443,
          1.5921766485320303,
          -2.4513678009773865,
          2.6581534137002323,
          0.6422305367216895,
          -1.6996304916885607,
          2.58280249796534,
          1.2692859498538187,
          0.5610956576938876,
          -0.2582078231892454,
          -1.505406749552333,
          -1.9723878394281498,
          -1.8397871820802791,
          -2.1878470108833343,
          -1.4036935342172665,
          -1.7826748536395247,
          0.4184990085592438,
          0.6543617952035158,
          3.4892701420786247,
          -1.1332836551440748,
          0.37272266719428704,
          1.4407708300306714,
          1.6792260828623067,
          -1.4555066260822713,
          2.788087800090676,
          2.6153755104048675,
          3.9686294076439443,
          -3.3266691722605874,
          -1.935642217747657,
          0.47654327433135174,
          -3.689032299423636,
          -1.8612113357809048,
          -3.325743879124766,
          1.6166023335077586,
          -0.9477854245320909,
          -0.007799972495458067,
          -0.743250001120738,
          -0.8621858826441269,
          -1.6124823015151666,
          -1.8275774673511849,
          -2.956922133376495,
          0.6966188078285374,
          -1.1631467224396355,
          -1.0983288481331959,
          -2.783077029327483,
          0.20149843800617886,
          -1.5885406135980153,
          -3.502991187537975,
          0.44578001551573293,
          -0.6187724016771614,
          -2.5054502587961887,
          -0.46421296642344473,
          2.556355326512072,
          -2.8869978573430637,
          -1.499467315791615,
          -2.6350151173003615,
          -0.4054238213073898,
          2.9613568725010797,
          2.959837913935782,
          4.181695478585798,
          -0.6570084699031019,
          -0.6819082296371625,
          -0.59443303732982,
          -2.014450083842762,
          1.824822533103904,
          1.5211001998622564,
          1.4590898710637998,
          -0.9026424991370579,
          1.3703675338850692,
          -0.3382162477727352,
          2.906252644049449,
          1.0180427835350958,
          2.698256113181084,
          -0.0802689438781839,
          2.5417976484343896,
          0.6799093670840102,
          2.819870512598156,
          -2.8172087740533818,
          -0.5895478015663905,
          2.207565453362561,
          -2.7058612319725506,
          -0.7499329317165234,
          -1.943156647298965,
          -1.7385972763504782,
          -0.5626225544674754,
          -2.8448161215677596,
          0.2961371296247579,
          0.5711265955977206,
          1.8082414935697864,
          2.067360757369058,
          2.045322842041999,
          -2.777005979429091,
          -1.7802124497048724,
          -0.2145186798019344,
          1.196534537691692,
          0.060653890889937445,
          1.5494231757760306,
          -1.8983701488948161,
          2.109713612525676,
          -2.191780615466392,
          -0.7192213900278069,
          -3.077934725673539,
          0.40813446723685776,
          -1.5488328282277637,
          -1.6996224656833239,
          1.4754435459126434,
          2.352863583268538,
          -1.1499988271871162,
          1.7605871690790795,
          -2.610534890335488,
          -1.768898241771682,
          -1.3253399821487388,
          1.7546067824542744,
          -1.0459653347220963,
          -0.43749860596643386,
          -3.3064308656827084,
          2.1686436135453957,
          -3.234182476179925,
          -2.2304151924383113,
          0.9911117668249912,
          3.045315082530992,
          -1.8934439673380354,
          3.8763652215158393,
          0.9315600423379066,
          -1.0569273319513528,
          2.8337594276493916,
          4.305248036450231,
          -0.31437767563784896,
          3.484191039824746,
          0.09198811304745705,
          -2.0130105321791456,
          1.0842079663625,
          -3.1975512153672527,
          1.7301938137846764,
          4.856307615015587,
          -2.5092942919957104,
          0.8912465181746052,
          3.1790118270658594,
          0.5906191718197689,
          1.814991533261444,
          -2.571493141672399,
          -1.165054629309858,
          1.1375760109981234,
          -0.37296190145589303,
          0.6093016719541412,
          -2.17370125737427,
          0.03954038747296278,
          3.0886172173893676,
          2.025899979031524,
          -2.5356944480296724,
          -0.9801643576757872,
          2.4869834333498106,
          -1.6161776093619242,
          1.5443752340072994,
          -0.10801421923221101,
          -3.5126340542954124,
          3.9287394585757025,
          -2.811937265778753,
          -0.5723900485332244,
          3.2534029654530814,
          -1.2363787712032732,
          0.2456220901724372,
          1.115542728484556,
          -0.15649364600235235,
          3.347834190399329,
          0.033002227264785626,
          -1.3722631846627307,
          0.3493012554251436,
          4.5664758979182345,
          -0.6302362386538033,
          2.076085929002865,
          1.2031433646379062,
          -1.1063101758798806,
          -0.43977609802815837,
          -1.1328147904447283,
          1.269196690558514,
          -0.3615266065473906,
          0.7389803092642142,
          -3.4849307870115904,
          0.875083308884698,
          -0.34578512531876116,
          2.0189561999195442,
          0.025874648663578564,
          -0.6096727034381759,
          3.1826250160638283,
          -0.06080990123913623,
          -2.8034892785703263,
          -2.042501983686066,
          -0.4457534832085095,
          2.847345415655164,
          1.9483348919256178,
          -3.491526075771734
         ]
        }
       ],
       "layout": {
        "coloraxis": {
         "colorbar": {
          "title": {
           "text": "color"
          }
         },
         "colorscale": [
          [
           0,
           "#0d0887"
          ],
          [
           0.1111111111111111,
           "#46039f"
          ],
          [
           0.2222222222222222,
           "#7201a8"
          ],
          [
           0.3333333333333333,
           "#9c179e"
          ],
          [
           0.4444444444444444,
           "#bd3786"
          ],
          [
           0.5555555555555556,
           "#d8576b"
          ],
          [
           0.6666666666666666,
           "#ed7953"
          ],
          [
           0.7777777777777778,
           "#fb9f3a"
          ],
          [
           0.8888888888888888,
           "#fdca26"
          ],
          [
           1,
           "#f0f921"
          ]
         ]
        },
        "legend": {
         "tracegroupgap": 0
        },
        "margin": {
         "t": 60
        },
        "scene": {
         "domain": {
          "x": [
           0,
           1
          ],
          "y": [
           0,
           1
          ]
         },
         "xaxis": {
          "title": {
           "text": "x"
          }
         },
         "yaxis": {
          "title": {
           "text": "y"
          }
         },
         "zaxis": {
          "title": {
           "text": "z"
          }
         }
        },
        "template": {
         "data": {
          "bar": [
           {
            "error_x": {
             "color": "#2a3f5f"
            },
            "error_y": {
             "color": "#2a3f5f"
            },
            "marker": {
             "line": {
              "color": "#E5ECF6",
              "width": 0.5
             },
             "pattern": {
              "fillmode": "overlay",
              "size": 10,
              "solidity": 0.2
             }
            },
            "type": "bar"
           }
          ],
          "barpolar": [
           {
            "marker": {
             "line": {
              "color": "#E5ECF6",
              "width": 0.5
             },
             "pattern": {
              "fillmode": "overlay",
              "size": 10,
              "solidity": 0.2
             }
            },
            "type": "barpolar"
           }
          ],
          "carpet": [
           {
            "aaxis": {
             "endlinecolor": "#2a3f5f",
             "gridcolor": "white",
             "linecolor": "white",
             "minorgridcolor": "white",
             "startlinecolor": "#2a3f5f"
            },
            "baxis": {
             "endlinecolor": "#2a3f5f",
             "gridcolor": "white",
             "linecolor": "white",
             "minorgridcolor": "white",
             "startlinecolor": "#2a3f5f"
            },
            "type": "carpet"
           }
          ],
          "choropleth": [
           {
            "colorbar": {
             "outlinewidth": 0,
             "ticks": ""
            },
            "type": "choropleth"
           }
          ],
          "contour": [
           {
            "colorbar": {
             "outlinewidth": 0,
             "ticks": ""
            },
            "colorscale": [
             [
              0,
              "#0d0887"
             ],
             [
              0.1111111111111111,
              "#46039f"
             ],
             [
              0.2222222222222222,
              "#7201a8"
             ],
             [
              0.3333333333333333,
              "#9c179e"
             ],
             [
              0.4444444444444444,
              "#bd3786"
             ],
             [
              0.5555555555555556,
              "#d8576b"
             ],
             [
              0.6666666666666666,
              "#ed7953"
             ],
             [
              0.7777777777777778,
              "#fb9f3a"
             ],
             [
              0.8888888888888888,
              "#fdca26"
             ],
             [
              1,
              "#f0f921"
             ]
            ],
            "type": "contour"
           }
          ],
          "contourcarpet": [
           {
            "colorbar": {
             "outlinewidth": 0,
             "ticks": ""
            },
            "type": "contourcarpet"
           }
          ],
          "heatmap": [
           {
            "colorbar": {
             "outlinewidth": 0,
             "ticks": ""
            },
            "colorscale": [
             [
              0,
              "#0d0887"
             ],
             [
              0.1111111111111111,
              "#46039f"
             ],
             [
              0.2222222222222222,
              "#7201a8"
             ],
             [
              0.3333333333333333,
              "#9c179e"
             ],
             [
              0.4444444444444444,
              "#bd3786"
             ],
             [
              0.5555555555555556,
              "#d8576b"
             ],
             [
              0.6666666666666666,
              "#ed7953"
             ],
             [
              0.7777777777777778,
              "#fb9f3a"
             ],
             [
              0.8888888888888888,
              "#fdca26"
             ],
             [
              1,
              "#f0f921"
             ]
            ],
            "type": "heatmap"
           }
          ],
          "heatmapgl": [
           {
            "colorbar": {
             "outlinewidth": 0,
             "ticks": ""
            },
            "colorscale": [
             [
              0,
              "#0d0887"
             ],
             [
              0.1111111111111111,
              "#46039f"
             ],
             [
              0.2222222222222222,
              "#7201a8"
             ],
             [
              0.3333333333333333,
              "#9c179e"
             ],
             [
              0.4444444444444444,
              "#bd3786"
             ],
             [
              0.5555555555555556,
              "#d8576b"
             ],
             [
              0.6666666666666666,
              "#ed7953"
             ],
             [
              0.7777777777777778,
              "#fb9f3a"
             ],
             [
              0.8888888888888888,
              "#fdca26"
             ],
             [
              1,
              "#f0f921"
             ]
            ],
            "type": "heatmapgl"
           }
          ],
          "histogram": [
           {
            "marker": {
             "pattern": {
              "fillmode": "overlay",
              "size": 10,
              "solidity": 0.2
             }
            },
            "type": "histogram"
           }
          ],
          "histogram2d": [
           {
            "colorbar": {
             "outlinewidth": 0,
             "ticks": ""
            },
            "colorscale": [
             [
              0,
              "#0d0887"
             ],
             [
              0.1111111111111111,
              "#46039f"
             ],
             [
              0.2222222222222222,
              "#7201a8"
             ],
             [
              0.3333333333333333,
              "#9c179e"
             ],
             [
              0.4444444444444444,
              "#bd3786"
             ],
             [
              0.5555555555555556,
              "#d8576b"
             ],
             [
              0.6666666666666666,
              "#ed7953"
             ],
             [
              0.7777777777777778,
              "#fb9f3a"
             ],
             [
              0.8888888888888888,
              "#fdca26"
             ],
             [
              1,
              "#f0f921"
             ]
            ],
            "type": "histogram2d"
           }
          ],
          "histogram2dcontour": [
           {
            "colorbar": {
             "outlinewidth": 0,
             "ticks": ""
            },
            "colorscale": [
             [
              0,
              "#0d0887"
             ],
             [
              0.1111111111111111,
              "#46039f"
             ],
             [
              0.2222222222222222,
              "#7201a8"
             ],
             [
              0.3333333333333333,
              "#9c179e"
             ],
             [
              0.4444444444444444,
              "#bd3786"
             ],
             [
              0.5555555555555556,
              "#d8576b"
             ],
             [
              0.6666666666666666,
              "#ed7953"
             ],
             [
              0.7777777777777778,
              "#fb9f3a"
             ],
             [
              0.8888888888888888,
              "#fdca26"
             ],
             [
              1,
              "#f0f921"
             ]
            ],
            "type": "histogram2dcontour"
           }
          ],
          "mesh3d": [
           {
            "colorbar": {
             "outlinewidth": 0,
             "ticks": ""
            },
            "type": "mesh3d"
           }
          ],
          "parcoords": [
           {
            "line": {
             "colorbar": {
              "outlinewidth": 0,
              "ticks": ""
             }
            },
            "type": "parcoords"
           }
          ],
          "pie": [
           {
            "automargin": true,
            "type": "pie"
           }
          ],
          "scatter": [
           {
            "fillpattern": {
             "fillmode": "overlay",
             "size": 10,
             "solidity": 0.2
            },
            "type": "scatter"
           }
          ],
          "scatter3d": [
           {
            "line": {
             "colorbar": {
              "outlinewidth": 0,
              "ticks": ""
             }
            },
            "marker": {
             "colorbar": {
              "outlinewidth": 0,
              "ticks": ""
             }
            },
            "type": "scatter3d"
           }
          ],
          "scattercarpet": [
           {
            "marker": {
             "colorbar": {
              "outlinewidth": 0,
              "ticks": ""
             }
            },
            "type": "scattercarpet"
           }
          ],
          "scattergeo": [
           {
            "marker": {
             "colorbar": {
              "outlinewidth": 0,
              "ticks": ""
             }
            },
            "type": "scattergeo"
           }
          ],
          "scattergl": [
           {
            "marker": {
             "colorbar": {
              "outlinewidth": 0,
              "ticks": ""
             }
            },
            "type": "scattergl"
           }
          ],
          "scattermapbox": [
           {
            "marker": {
             "colorbar": {
              "outlinewidth": 0,
              "ticks": ""
             }
            },
            "type": "scattermapbox"
           }
          ],
          "scatterpolar": [
           {
            "marker": {
             "colorbar": {
              "outlinewidth": 0,
              "ticks": ""
             }
            },
            "type": "scatterpolar"
           }
          ],
          "scatterpolargl": [
           {
            "marker": {
             "colorbar": {
              "outlinewidth": 0,
              "ticks": ""
             }
            },
            "type": "scatterpolargl"
           }
          ],
          "scatterternary": [
           {
            "marker": {
             "colorbar": {
              "outlinewidth": 0,
              "ticks": ""
             }
            },
            "type": "scatterternary"
           }
          ],
          "surface": [
           {
            "colorbar": {
             "outlinewidth": 0,
             "ticks": ""
            },
            "colorscale": [
             [
              0,
              "#0d0887"
             ],
             [
              0.1111111111111111,
              "#46039f"
             ],
             [
              0.2222222222222222,
              "#7201a8"
             ],
             [
              0.3333333333333333,
              "#9c179e"
             ],
             [
              0.4444444444444444,
              "#bd3786"
             ],
             [
              0.5555555555555556,
              "#d8576b"
             ],
             [
              0.6666666666666666,
              "#ed7953"
             ],
             [
              0.7777777777777778,
              "#fb9f3a"
             ],
             [
              0.8888888888888888,
              "#fdca26"
             ],
             [
              1,
              "#f0f921"
             ]
            ],
            "type": "surface"
           }
          ],
          "table": [
           {
            "cells": {
             "fill": {
              "color": "#EBF0F8"
             },
             "line": {
              "color": "white"
             }
            },
            "header": {
             "fill": {
              "color": "#C8D4E3"
             },
             "line": {
              "color": "white"
             }
            },
            "type": "table"
           }
          ]
         },
         "layout": {
          "annotationdefaults": {
           "arrowcolor": "#2a3f5f",
           "arrowhead": 0,
           "arrowwidth": 1
          },
          "autotypenumbers": "strict",
          "coloraxis": {
           "colorbar": {
            "outlinewidth": 0,
            "ticks": ""
           }
          },
          "colorscale": {
           "diverging": [
            [
             0,
             "#8e0152"
            ],
            [
             0.1,
             "#c51b7d"
            ],
            [
             0.2,
             "#de77ae"
            ],
            [
             0.3,
             "#f1b6da"
            ],
            [
             0.4,
             "#fde0ef"
            ],
            [
             0.5,
             "#f7f7f7"
            ],
            [
             0.6,
             "#e6f5d0"
            ],
            [
             0.7,
             "#b8e186"
            ],
            [
             0.8,
             "#7fbc41"
            ],
            [
             0.9,
             "#4d9221"
            ],
            [
             1,
             "#276419"
            ]
           ],
           "sequential": [
            [
             0,
             "#0d0887"
            ],
            [
             0.1111111111111111,
             "#46039f"
            ],
            [
             0.2222222222222222,
             "#7201a8"
            ],
            [
             0.3333333333333333,
             "#9c179e"
            ],
            [
             0.4444444444444444,
             "#bd3786"
            ],
            [
             0.5555555555555556,
             "#d8576b"
            ],
            [
             0.6666666666666666,
             "#ed7953"
            ],
            [
             0.7777777777777778,
             "#fb9f3a"
            ],
            [
             0.8888888888888888,
             "#fdca26"
            ],
            [
             1,
             "#f0f921"
            ]
           ],
           "sequentialminus": [
            [
             0,
             "#0d0887"
            ],
            [
             0.1111111111111111,
             "#46039f"
            ],
            [
             0.2222222222222222,
             "#7201a8"
            ],
            [
             0.3333333333333333,
             "#9c179e"
            ],
            [
             0.4444444444444444,
             "#bd3786"
            ],
            [
             0.5555555555555556,
             "#d8576b"
            ],
            [
             0.6666666666666666,
             "#ed7953"
            ],
            [
             0.7777777777777778,
             "#fb9f3a"
            ],
            [
             0.8888888888888888,
             "#fdca26"
            ],
            [
             1,
             "#f0f921"
            ]
           ]
          },
          "colorway": [
           "#636efa",
           "#EF553B",
           "#00cc96",
           "#ab63fa",
           "#FFA15A",
           "#19d3f3",
           "#FF6692",
           "#B6E880",
           "#FF97FF",
           "#FECB52"
          ],
          "font": {
           "color": "#2a3f5f"
          },
          "geo": {
           "bgcolor": "white",
           "lakecolor": "white",
           "landcolor": "#E5ECF6",
           "showlakes": true,
           "showland": true,
           "subunitcolor": "white"
          },
          "hoverlabel": {
           "align": "left"
          },
          "hovermode": "closest",
          "mapbox": {
           "style": "light"
          },
          "paper_bgcolor": "white",
          "plot_bgcolor": "#E5ECF6",
          "polar": {
           "angularaxis": {
            "gridcolor": "white",
            "linecolor": "white",
            "ticks": ""
           },
           "bgcolor": "#E5ECF6",
           "radialaxis": {
            "gridcolor": "white",
            "linecolor": "white",
            "ticks": ""
           }
          },
          "scene": {
           "xaxis": {
            "backgroundcolor": "#E5ECF6",
            "gridcolor": "white",
            "gridwidth": 2,
            "linecolor": "white",
            "showbackground": true,
            "ticks": "",
            "zerolinecolor": "white"
           },
           "yaxis": {
            "backgroundcolor": "#E5ECF6",
            "gridcolor": "white",
            "gridwidth": 2,
            "linecolor": "white",
            "showbackground": true,
            "ticks": "",
            "zerolinecolor": "white"
           },
           "zaxis": {
            "backgroundcolor": "#E5ECF6",
            "gridcolor": "white",
            "gridwidth": 2,
            "linecolor": "white",
            "showbackground": true,
            "ticks": "",
            "zerolinecolor": "white"
           }
          },
          "shapedefaults": {
           "line": {
            "color": "#2a3f5f"
           }
          },
          "ternary": {
           "aaxis": {
            "gridcolor": "white",
            "linecolor": "white",
            "ticks": ""
           },
           "baxis": {
            "gridcolor": "white",
            "linecolor": "white",
            "ticks": ""
           },
           "bgcolor": "#E5ECF6",
           "caxis": {
            "gridcolor": "white",
            "linecolor": "white",
            "ticks": ""
           }
          },
          "title": {
           "x": 0.05
          },
          "xaxis": {
           "automargin": true,
           "gridcolor": "white",
           "linecolor": "white",
           "ticks": "",
           "title": {
            "standoff": 15
           },
           "zerolinecolor": "white",
           "zerolinewidth": 2
          },
          "yaxis": {
           "automargin": true,
           "gridcolor": "white",
           "linecolor": "white",
           "ticks": "",
           "title": {
            "standoff": 15
           },
           "zerolinecolor": "white",
           "zerolinewidth": 2
          }
         }
        }
       }
      }
     },
     "metadata": {},
     "output_type": "display_data"
    }
   ],
   "source": [
    "px.scatter_3d(x=x_testdf.iloc[:,0],y=x_testdf.iloc[:,1],z=x_testdf.iloc[:,2], color= y_pred)"
   ]
  },
  {
   "cell_type": "code",
   "execution_count": 434,
   "metadata": {},
   "outputs": [
    {
     "name": "stdout",
     "output_type": "stream",
     "text": [
      "3\n",
      " Training QDT no : 1\n",
      "Epoch:  1 | Loss: 0.302649 |  accuracy: 0.521415 \n",
      "Epoch:  2 | Loss: 0.322208 |  accuracy: 0.500931 \n",
      "Epoch:  3 | Loss: 0.338308 |  accuracy: 0.510242 \n",
      "Epoch:  4 | Loss: 0.304354 |  accuracy: 0.489758 \n",
      "Epoch:  5 | Loss: 0.314449 |  accuracy: 0.527002 \n",
      "Epoch:  6 | Loss: 0.321431 |  accuracy: 0.525140 \n",
      "Epoch:  7 | Loss: 0.346837 |  accuracy: 0.486034 \n",
      "Epoch:  8 | Loss: 0.310306 |  accuracy: 0.527002 \n",
      "Epoch:  9 | Loss: 0.291378 |  accuracy: 0.532588 \n",
      "Epoch: 10 | Loss: 0.317846 |  accuracy: 0.517691 \n",
      " Training QDT no : 2\n",
      "Epoch:  1 | Loss: 0.296338 |  accuracy: 0.525140 \n",
      "Epoch:  2 | Loss: 0.308256 |  accuracy: 0.515829 \n",
      "Epoch:  3 | Loss: 0.341746 |  accuracy: 0.506518 \n",
      "Epoch:  4 | Loss: 0.326175 |  accuracy: 0.500931 \n",
      "Epoch:  5 | Loss: 0.299319 |  accuracy: 0.512104 \n",
      "Epoch:  6 | Loss: 0.296937 |  accuracy: 0.504655 \n",
      "Epoch:  7 | Loss: 0.310165 |  accuracy: 0.506518 \n",
      "Epoch:  8 | Loss: 0.298127 |  accuracy: 0.476723 \n",
      "Epoch:  9 | Loss: 0.325729 |  accuracy: 0.530726 \n",
      "Epoch: 10 | Loss: 0.308080 |  accuracy: 0.508380 \n",
      " Training QDT no : 3\n",
      "Epoch:  1 | Loss: 0.318679 |  accuracy: 0.521415 \n",
      "Epoch:  2 | Loss: 0.297526 |  accuracy: 0.523277 \n",
      "Epoch:  3 | Loss: 0.306182 |  accuracy: 0.504655 \n",
      "Epoch:  4 | Loss: 0.293592 |  accuracy: 0.519553 \n",
      "Epoch:  5 | Loss: 0.295574 |  accuracy: 0.523277 \n",
      "Epoch:  6 | Loss: 0.318981 |  accuracy: 0.499069 \n",
      "Epoch:  7 | Loss: 0.304137 |  accuracy: 0.532588 \n",
      "Epoch:  8 | Loss: 0.286742 |  accuracy: 0.517691 \n",
      "Epoch:  9 | Loss: 0.286759 |  accuracy: 0.517691 \n",
      "Epoch: 10 | Loss: 0.282442 |  accuracy: 0.528864 \n",
      "[2 1 0 0 2 1 3 2 1 2 2 2 0 1 1 2 3 3 1 1 1 1 1 3 0 3 0 1 1 2 2 1 2 3 2 2 1\n",
      " 3 2 2 1 2 3 0 2 1 2 2 3 0 0 1 2 1 2 2 1 0 0 2 2 2 1 2 1 2 2 2 1 2 3 2 1 1\n",
      " 3 1 3 3 1 1 1 3 1 1 2 2 1 2 2 1 0 2 3 2 1 1 2 0 3 1 2 1 1 1 1 1 0 1 2 1 2\n",
      " 0 2 1 1 1 1 0 3 2 2 2 2 1 2 2 1 3 3 2 2 1 2 2 1 2 3 3 1 0 3 2 3 0 3 1 2 1\n",
      " 2 2 1 0 2 2 0 2 3 0 3 2 1 2 1 1 3 3 2 2 1 2 2 2 1 3 2 3 1 1 2 3 3 1 3 2 2\n",
      " 3 1 2 2 2 1 1 1 1 3 3 2 1 2 3 3 2 3 2 1 1 1 0 3 0 2 0 3 3 1 2 1 3 2 2 2 0\n",
      " 0 2 1 2 3 1 1 0 0 2 1 2 1 3 3 1 0 2 1 2 2 1 2 2 2 2 2 3 2 1 0 2 0 2 0 3 2\n",
      " 2 1 1 1 2 2 3 1 2 1 1 2 1 2 1 1 1 2 3 2 1 2 1 0 3 3 2 2 2 2 3 2 2 0 1 2 2\n",
      " 2 2 2 2 2 2 2 2 2 1 1 1 2 0 3 1 2 1 3 1 1 2 3 3 2 1 1 2 1 1 3 3 2 2 2 0 2\n",
      " 0 2 1 2 2 2 1 2 1 2 2 3 2 0 1 2 2 2 2 2 2 2 3 0 2 1 2 2 0 2 2 3 1 3 1 2 1\n",
      " 1 1 2 2 2 2 1 1 1 2 0 0 3 2 2 1 2 3 2 1 2 3 1 1 2 3 2 2 1 2 1 3 2 1]\n",
      "Recall(TP/FN+TP ):0.6161137440758294\n",
      "Precsion(TP/FP+TP): 0.5485232067510548 \n",
      "F1 score function of presscion and recall:0.5803571428571429 \n"
     ]
    },
    {
     "data": {
      "image/png": "[encoded data removed]",
      "text/plain": [
       "<Figure size 640x480 with 2 Axes>"
      ]
     },
     "metadata": {},
     "output_type": "display_data"
    }
   ],
   "source": [
    "qrf = QRF(X_train,y_train, no_QDT=3, sensetivity=0.5)\n",
    "\n",
    "qrf.train()\n",
    "y_pred,individual_y = qrf.predict(X_test, y_test)\n",
    "conMtx = confusion_matrix(y_test,y_pred)\n",
    "\n",
    "sns.heatmap(conMtx)\n",
    "f1 = f1_score(y_test,y_pred)\n",
    "recall = recall_score(y_test,y_pred)\n",
    "pre = precision_score(y_test,y_pred)\n",
    "\n",
    "print(f\"Recall(TP/FN+TP ):{recall}\")\n",
    "print(f\"Precsion(TP/FP+TP): {pre} \")\n",
    "print(f\"F1 score function of presscion and recall:{f1} \")"
   ]
  },
  {
   "cell_type": "code",
   "execution_count": 435,
   "metadata": {},
   "outputs": [
    {
     "data": {
      "application/vnd.plotly.v1+json": {
       "config": {
        "plotlyServerURL": "https://plot.ly"
       },
       "data": [
        {
         "hovertemplate": "x=%{x}<br>y=%{y}<br>z=%{z}<br>color=%{marker.color}<extra></extra>",
         "legendgroup": "",
         "marker": {
          "color": [
           1,
           0,
           0,
           0,
           1,
           0,
           1,
           1,
           0,
           1,
           1,
           1,
           0,
           0,
           0,
           1,
           1,
           1,
           0,
           0,
           0,
           0,
           0,
           1,
           0,
           1,
           0,
           0,
           0,
           1,
           1,
           0,
           1,
           1,
           1,
           1,
           0,
           1,
           1,
           1,
           0,
           1,
           1,
           0,
           1,
           0,
           1,
           1,
           1,
           0,
           0,
           0,
           1,
           0,
           1,
           1,
           0,
           0,
           0,
           1,
           1,
           1,
           0,
           1,
           0,
           1,
           1,
           1,
           0,
           1,
           1,
           1,
           0,
           0,
           1,
           0,
           1,
           1,
           0,
           0,
           0,
           1,
           0,
           0,
           1,
           1,
           0,
           1,
           1,
           0,
           0,
           1,
           1,
           1,
           0,
           0,
           1,
           0,
           1,
           0,
           1,
           0,
           0,
           0,
           0,
           0,
           0,
           0,
           1,
           0,
           1,
           0,
           1,
           0,
           0,
           0,
           0,
           0,
           1,
           1,
           1,
           1,
           1,
           0,
           1,
           1,
           0,
           1,
           1,
           1,
           1,
           0,
           1,
           1,
           0,
           1,
           1,
           1,
           0,
           0,
           1,
           1,
           1,
           0,
           1,
           0,
           1,
           0,
           1,
           1,
           0,
           0,
           1,
           1,
           0,
           1,
           1,
           0,
           1,
           1,
           0,
           1,
           0,
           0,
           1,
           1,
           1,
           1,
           0,
           1,
           1,
           1,
           0,
           1,
           1,
           1,
           0,
           0,
           1,
           1,
           1,
           0,
           1,
           1,
           1,
           1,
           0,
           1,
           1,
           1,
           0,
           0,
           0,
           0,
           1,
           1,
           1,
           0,
           1,
           1,
           1,
           1,
           1,
           1,
           0,
           0,
           0,
           0,
           1,
           0,
           1,
           0,
           1,
           1,
           0,
           1,
           0,
           1,
           1,
           1,
           1,
           0,
           0,
           1,
           0,
           1,
           1,
           0,
           0,
           0,
           0,
           1,
           0,
           1,
           0,
           1,
           1,
           0,
           0,
           1,
           0,
           1,
           1,
           0,
           1,
           1,
           1,
           1,
           1,
           1,
           1,
           0,
           0,
           1,
           0,
           1,
           0,
           1,
           1,
           1,
           0,
           0,
           0,
           1,
           1,
           1,
           0,
           1,
           0,
           0,
           1,
           0,
           1,
           0,
           0,
           0,
           1,
           1,
           1,
           0,
           1,
           0,
           0,
           1,
           1,
           1,
           1,
           1,
           1,
           1,
           1,
           1,
           0,
           0,
           1,
           1,
           1,
           1,
           1,
           1,
           1,
           1,
           1,
           1,
           1,
           0,
           0,
           0,
           1,
           0,
           1,
           0,
           1,
           0,
           1,
           0,
           0,
           1,
           1,
           1,
           1,
           0,
           0,
           1,
           0,
           0,
           1,
           1,
           1,
           1,
           1,
           0,
           1,
           0,
           1,
           0,
           1,
           1,
           1,
           0,
           1,
           0,
           1,
           1,
           1,
           1,
           0,
           0,
           1,
           1,
           1,
           1,
           1,
           1,
           1,
           1,
           0,
           1,
           0,
           1,
           1,
           0,
           1,
           1,
           1,
           0,
           1,
           0,
           1,
           0,
           0,
           0,
           1,
           1,
           1,
           1,
           0,
           0,
           0,
           1,
           0,
           0,
           1,
           1,
           1,
           0,
           1,
           1,
           1,
           0,
           1,
           1,
           0,
           0,
           1,
           1,
           1,
           1,
           0,
           1,
           0,
           1,
           1,
           0
          ],
          "coloraxis": "coloraxis",
          "symbol": "circle"
         },
         "mode": "markers",
         "name": "",
         "scene": "scene",
         "showlegend": false,
         "type": "scatter3d",
         "x": [
          3.9656736814240294,
          -5.5517929394341605,
          6.68776086674939,
          0.5165362470470959,
          -1.5596724130535877,
          4.972550123670571,
          -6.232714128525154,
          -0.8072380215033506,
          0.9499576013169186,
          9.492600911165113,
          -2.99697496465625,
          -2.2598916225322085,
          6.809141957770477,
          -2.4008166670617874,
          -4.487778515165683,
          -3.564672164484353,
          1.821860641677875,
          2.6083563696508514,
          5.05782548925524,
          -0.9944715878838817,
          2.4044148508820733,
          4.253293958240879,
          5.694606726172606,
          -3.5077609849501292,
          1.0501808737190241,
          0.5733286535866731,
          -0.03213211722131105,
          4.2956173382052745,
          3.6520552698662416,
          2.6018644364635652,
          1.1430602469190294,
          -3.4832137709935904,
          -1.4083618091883023,
          0.8327370226067352,
          -6.572295788329131,
          -5.3080367041636665,
          8.985192617402584,
          4.255884024776311,
          4.522489502335722,
          -6.011055642065317,
          -5.440985775537714,
          7.535164303740893,
          4.50220215657965,
          -6.132016438166981,
          -3.8095696189193764,
          1.3635817836883093,
          0.4612415764085352,
          3.3619791254674776,
          0.3789815661095938,
          3.529745025522083,
          -7.135836961906808,
          -2.1062350789059145,
          0.39262244607905933,
          -3.1598988202367995,
          8.013335482773448,
          6.734525241914259,
          -0.495794456435977,
          2.312205234643183,
          -7.4453281261764745,
          7.218237132269712,
          1.5759095071683231,
          6.998315112054041,
          6.59459239132662,
          4.648736694597558,
          -4.605196460007229,
          3.892003118666156,
          1.3625955789258593,
          8.594919509308816,
          -6.849168546524536,
          -1.6474357917810714,
          -0.9856304345476442,
          4.826131273653971,
          1.4790435360659557,
          -2.393200156423395,
          5.512927013235647,
          0.7367637043070079,
          -0.8962391701277722,
          6.746584373872402,
          4.286756185780559,
          4.367115468505881,
          0.8366407392564068,
          4.769862873102657,
          -1.4907527428279432,
          -0.9178032362067795,
          7.844827108292685,
          7.284613064155981,
          8.574735639321187,
          -6.394849948073911,
          -4.4510635947819335,
          -7.256991092049106,
          1.9987134497734762,
          1.22176173419113,
          -1.6004722868585641,
          4.347408091113051,
          2.661877268423012,
          -6.284305799056836,
          3.4551110878330658,
          0.15621298784895815,
          7.075523786417844,
          -2.2138722106767763,
          1.8521053084829562,
          -2.833561850313176,
          3.759716947404285,
          -0.3360778270327388,
          -5.5855200576481145,
          2.5981175122486775,
          -6.420765287281618,
          -3.2668663712355026,
          -1.3613125490137497,
          -5.17780858168301,
          -6.137385632549194,
          0.5064480531673754,
          -2.475599382143989,
          4.369724073874692,
          -6.56987435820378,
          6.121963904529976,
          -4.392361443468309,
          1.2827956114491645,
          7.625067029219154,
          -3.827067575226624,
          8.832619152421668,
          -6.6530580507920885,
          -6.081290454260132,
          -5.341035134865796,
          -0.5320364379319211,
          0.95791838367645,
          -2.6460413429588354,
          0.6889956057103812,
          6.130486823857481,
          -7.072071547621341,
          6.9529102590635725,
          1.6802252292076802,
          1.1207167528619308,
          -2.4409959991729373,
          2.396816692227452,
          -6.1361114037571864,
          2.5871699391420213,
          4.111753264586642,
          -4.508400906816787,
          0.10658131197084697,
          5.966746971539194,
          -5.138805476153507,
          -3.7465433015758376,
          3.331217436652684,
          8.397255860519893,
          1.6761758460686598,
          -6.234484332155434,
          -3.774717092619199,
          1.9242349974476558,
          -5.7181127027562395,
          6.93703300012437,
          3.301714409969985,
          -0.3803968688782169,
          -0.4535328684081442,
          -5.070351511931833,
          -2.3201557714020327,
          -2.7721465523065265,
          3.026863406684496,
          -6.2419390968111355,
          4.442210988880567,
          2.035081948032831,
          -6.941181260441204,
          6.289671756297102,
          3.019939563501273,
          -4.306039358144579,
          5.838988530126791,
          1.091755622163547,
          4.3397973332741495,
          3.84544505452326,
          2.8190831501859854,
          -4.7018565117790505,
          -1.0075859694583051,
          -5.565002890555519,
          4.920289319911795,
          -4.268454547910402,
          5.93280437344337,
          -0.10703581049958263,
          -0.371051423033105,
          -3.5928759468623843,
          -2.2163588028516745,
          0.6274297512009724,
          -5.829331713198807,
          6.9763122153887345,
          -1.4307654809547061,
          4.058385739138683,
          2.446196208346952,
          1.014906533874973,
          -6.528149755144639,
          7.016287852645483,
          5.217959536885636,
          -7.244681823513475,
          0.6195633695270343,
          -0.5128894732754222,
          5.26427554297757,
          -5.331971062841406,
          -1.9102870631554634,
          8.951016580504318,
          -5.946639571684706,
          3.1514389040001864,
          2.7768720039595722,
          -2.6937886994819875,
          4.628424507711032,
          7.247853090759754,
          2.8003639550241135,
          -4.008432832298981,
          -4.320416961429239,
          0.12443231730286397,
          -4.77615220958908,
          -6.104081007667648,
          6.567656398354147,
          -3.9063453770278977,
          0.09170506687521629,
          -0.4162633806238166,
          -1.4719697681240553,
          0.3748487246503707,
          1.709932919433794,
          -5.6916774111767365,
          -3.2582848749239948,
          0.8614720752171414,
          0.009034731655954791,
          -0.47261341584074235,
          5.711575569427601,
          -6.299204283246334,
          -3.247867146083566,
          -5.698877572172456,
          5.198419944262178,
          -5.855686670225573,
          -6.273518520445829,
          -3.9378675317358915,
          1.9633572175069525,
          2.948661415245559,
          -6.955240739523404,
          -3.961035243372525,
          0.10809520267684454,
          2.6174340656036232,
          1.8717795032545281,
          -0.419924046988076,
          4.971544463099156,
          3.0234594226321994,
          -2.255972573177621,
          7.51846893172724,
          3.818914837888775,
          -2.894074791667501,
          -6.777107843188936,
          1.3307786928078926,
          0.19053648201613915,
          -4.551879954669742,
          -1.4961113906411745,
          -7.0551242722276335,
          2.733731966321695,
          0.09483147846507689,
          -6.0920631755459285,
          -0.4536031276069407,
          -0.9120774721145479,
          -6.590263582705573,
          -6.527641865001269,
          -7.232586091534334,
          -6.130945000391438,
          4.71361332957934,
          2.9524456587802503,
          -3.825351253353931,
          3.6490288705976752,
          6.6236384933109616,
          -5.808879969604677,
          -3.510684954026371,
          -1.0592722192059958,
          -0.605514856443636,
          6.471328085092203,
          -1.8407743070036053,
          -2.039279120262304,
          3.5744824356179947,
          3.0849961827070236,
          -4.944927961610429,
          0.7715731779380314,
          7.292964986821114,
          -0.4972080949299846,
          1.0406146778649294,
          -0.052347994317024076,
          -1.1820156321478823,
          1.6184743671939472,
          1.8472211548030828,
          2.132945277088603,
          -1.3933807259805557,
          -0.7568957080427444,
          2.1848165816499314,
          -1.3217092121579601,
          -0.961174796106354,
          7.2611933035295015,
          2.9926105937820173,
          2.5899430893936684,
          -5.304467968647458,
          1.7496991496597165,
          5.3637026518579125,
          -0.04126648023766285,
          -7.029442020212461,
          -3.022062751657181,
          6.407636332351108,
          -4.005630816167015,
          -0.42776908345153375,
          -3.5889367827761576,
          0.9250005409557759,
          -1.418592656439802,
          -4.6965375271311665,
          -1.0590650815961404,
          1.0768319806793845,
          -5.776503134316031,
          0.7802526820336079,
          -3.1085335481038383,
          -4.3385600581232735,
          -5.278893663960864,
          7.177610026236637,
          -7.848468655778474,
          4.1363633322156,
          5.504180813647925,
          5.272216564317732,
          -0.7427415956957483,
          5.413329620188677,
          5.735878043669804,
          -0.9738331486239443,
          -5.819846473166542,
          8.620839382274033,
          0.2662852064918837,
          -1.8419455789312968,
          -3.0123067877563154,
          4.045191156918947,
          -6.523399033985281,
          -5.84587634825219,
          7.070231673629358,
          1.4709433253731232,
          -4.2236491468123365,
          8.115966687122215,
          -3.63409854347924,
          -4.236966934748565,
          -7.366588298086167,
          -1.9974044075874897,
          6.791615572165819,
          -1.2862268148558826,
          2.680380665384111,
          -1.6431223207993202,
          -4.757245312836285,
          -2.419556963590488,
          -4.184075079411657,
          -4.904546531229709,
          0.47243140704558995,
          -0.5591532485828495,
          8.09664112547297,
          -0.35575474446147365,
          -1.2906821477247283,
          0.1366248526312065,
          3.317532850735335,
          -0.906303524950597,
          0.4386584728918747,
          5.129457866232684,
          3.1211584980461935,
          -5.245374000057831,
          -5.814722916332113,
          6.501390860182107,
          -2.903064961557728,
          -5.619051715243001,
          1.4493141784501071,
          0.9304532312847099,
          -7.238155425857963,
          -2.076623977205213,
          -1.069703587073906,
          -3.226362917434363,
          -4.725060183378911,
          3.0944205278531594,
          5.129687862132644,
          0.8091056844335832,
          5.365257657315671,
          -4.327315931262832,
          -3.6773590831620706,
          -6.685378963723751,
          1.8840804642622073,
          5.904578158800358,
          -1.714225900482045,
          -3.8773173655476896,
          -2.802384789258261,
          -6.713794185329019,
          -1.9295704308971409,
          -0.08948443887991292,
          -5.8694663998294265,
          -1.0912019311456314,
          3.907127017874565,
          -1.848190402098392,
          7.52643807224355,
          -5.52960071208892,
          5.514981041567128,
          -5.050907219938864,
          -2.611047588730541,
          0.6040261434088956,
          4.7627805803907926,
          2.1648553538917326,
          2.3868648664418406,
          3.056658908204565,
          -6.206312451697496,
          1.2199844466981538,
          4.77044890618325,
          4.9114247128714075,
          3.1822572870988566,
          -5.53479141528676,
          6.394935345487679,
          0.6611101820429847,
          4.905213910727297
         ],
         "y": [
          -3.3106997756454777,
          2.471565381880241,
          5.1880424422827485,
          4.917941526740074,
          -4.977259169503069,
          1.0975778198884771,
          1.218381778941,
          -4.652265685840128,
          5.1285391444151065,
          2.0195700083455663,
          -0.9810005499510017,
          -1.1858355152308848,
          2.349707160382813,
          -4.941403878400937,
          4.784438500131286,
          -1.3874846575945898,
          0.29649986044534193,
          6.252996166681427,
          3.0087357255278775,
          -5.947573129429882,
          -3.92725343126418,
          -3.028100390352521,
          2.6684401030062492,
          -3.35462503638377,
          -0.41955104033746893,
          -6.110537880867687,
          5.989937992224073,
          1.0347667519930777,
          -5.016798165026853,
          -2.998321995286056,
          -5.0773666409415945,
          -1.890103611871566,
          0.03355560254404084,
          -6.009386128782078,
          0.34771726501308875,
          -3.5300726989268134,
          -2.422583194951656,
          2.796108799079515,
          -0.07248082224916924,
          0.40885333343986646,
          2.486081634580564,
          3.3172975727831586,
          -3.013523764782179,
          -1.484820486314099,
          4.587005393981478,
          0.4996074998664628,
          6.464200994318604,
          -0.8093270426156481,
          2.242103245206156,
          -4.608201758259806,
          -2.314313152412119,
          4.1866473762084455,
          -5.853603562154204,
          -1.940557735712303,
          2.1940189927869382,
          2.7785858396044176,
          -0.9107446755559346,
          -5.438941490890076,
          -1.7692277570110921,
          -2.346607288570171,
          4.456173868424977,
          -2.1839473542505377,
          2.761327658810309,
          -1.0220627120809944,
          4.748680816511896,
          -3.7054153713517035,
          0.19462830166039893,
          2.3148396892650704,
          -1.0379387517795708,
          -0.7848553478110886,
          -5.7239937945295845,
          -3.629949304306828,
          0.264815824343349,
          0.8819908543543126,
          -3.7723992466796323,
          -3.5656122662541443,
          -5.423846824185196,
          3.0304612573877785,
          1.926803457564504,
          1.3735451550751714,
          -4.108290463164094,
          -2.2609655694296626,
          2.6155532511299158,
          -1.0074902005619206,
          -2.6777905427967714,
          -2.202464807672447,
          5.1536599688609,
          2.085048398725489,
          3.158502749655099,
          -1.522243461188681,
          -4.429805066461291,
          3.6674924851086854,
          -2.7129945495006833,
          -0.14314765144827202,
          -4.479129577500117,
          0.1018316224266826,
          5.1162660673375,
          5.496530776707181,
          -1.9699112879222171,
          -1.8092850246575762,
          0.9616860706671945,
          -2.579591661467413,
          3.5543336425255574,
          4.15618652392014,
          2.0534443440026697,
          -2.896696958042813,
          -0.25062537216289144,
          4.703060518179791,
          5.096016587466489,
          2.1189806454074884,
          1.7193390130381998,
          5.844622212327297,
          5.623636010190012,
          -3.783171641048108,
          0.02327693657825145,
          -1.136653462782048,
          2.5832896632174216,
          2.791267845714356,
          3.0142395563121704,
          4.34428039984735,
          5.807403449246256,
          0.8824078056510382,
          0.6419236285022062,
          1.8160571406490071,
          -1.8043287589952408,
          6.959240100719564,
          -4.659744999400069,
          2.2715552984797194,
          -2.671654520944972,
          -0.03473868291112731,
          1.8165242189910211,
          1.1215926046572862,
          -5.965505769811789,
          5.825084618548901,
          1.729287044152183,
          0.5419681492653129,
          -4.082535467261448,
          -0.11606180349994566,
          -1.3035816835895555,
          -1.14086902739395,
          1.1887184997295228,
          0.13712879571005251,
          4.755982038612792,
          -5.237198866899171,
          3.623625520652763,
          1.6750482045704709,
          0.31076146119252307,
          -4.2933038068092735,
          -5.671119306835711,
          1.8628845870538466,
          3.1042708345086103,
          -4.686775999678279,
          -3.9558903896063184,
          -4.374398998955724,
          3.1283277304981407,
          -2.0092043826365606,
          -3.2958054633424343,
          -4.713759573195561,
          0.903642496184067,
          0.13706544891746913,
          -5.163474027013449,
          0.3978076750664046,
          3.3256086588523273,
          1.3843177653929177,
          -3.697585294599857,
          -2.2804605122026227,
          -5.25934386338875,
          -4.457793150900905,
          2.2388479430302053,
          -4.511612697256899,
          0.24030881844892601,
          6.699994460663882,
          1.9054560933629452,
          -2.2675722813640724,
          -1.4502556817875525,
          -3.227296930857969,
          -0.5219832543498326,
          -2.9696905764509514,
          -4.451616231764638,
          -2.961216763232053,
          -4.048132587910933,
          2.9393112239880756,
          3.0046223717504907,
          7.130488057800291,
          -3.9756353050082964,
          6.121388137318441,
          2.407627840647171,
          -0.25349513670776735,
          -1.5939552865863638,
          -0.4217296413205102,
          -0.23938057508950852,
          1.0046602806012739,
          -3.034511747410599,
          3.292111485924842,
          3.519341058053292,
          6.061045201089446,
          3.4276731395623665,
          0.30931886705649136,
          5.138155180244787,
          -3.1420755509265494,
          -3.278717705581643,
          -0.6942089179369452,
          2.915163257641924,
          -3.158250024079845,
          3.792337136116686,
          4.632634016125034,
          6.25462178958167,
          3.1860039744997684,
          0.6385445654327336,
          -0.8118553429980111,
          4.998602515518412,
          4.341558608427756,
          -5.245291371445144,
          -5.124410466587167,
          0.3468972944129107,
          -3.0293954603762696,
          2.03238838833725,
          -3.3308025670108785,
          -5.22487691737636,
          -4.699955318864831,
          -4.57942865373567,
          -0.9095252130131947,
          -0.2719461578487543,
          -2.7948801605893316,
          1.0167773738842412,
          0.67142350616312,
          1.231150488757552,
          -0.13570587600073988,
          -4.180464810010613,
          -4.399580975654056,
          -5.536381900976213,
          0.20115984096827513,
          -4.256619257580074,
          -3.8976560950848014,
          -5.694550074909388,
          -1.2939792256739215,
          -3.6103995904456037,
          -4.375545944482893,
          -5.014341596615132,
          -1.5668485923413902,
          1.8125968578402658,
          -3.402343788330927,
          -0.1343961404813567,
          -0.7891839677802047,
          1.00875434141002,
          -5.222303675185284,
          3.183709304088915,
          -5.309619572714915,
          0.27671736443986095,
          -1.4165992854033178,
          1.8932524577735321,
          -3.900267697129227,
          -4.2748499248519,
          -5.1786023534431544,
          -0.1250827206878197,
          0.2398482165525455,
          -2.515062231783238,
          0.8039364776535766,
          0.5308316914220125,
          2.339300119720639,
          -4.54961909444338,
          1.7699883638708616,
          4.511989372380631,
          0.04330865077576069,
          2.365313309689063,
          -0.4201806886154988,
          3.3358216924856947,
          2.9001457612497785,
          2.3416729973018398,
          3.1285530254171747,
          -1.415121199916718,
          -5.182084478696072,
          1.4313657732346001,
          -2.906674164168623,
          2.0915376796393654,
          -1.2632480370008503,
          -5.052938413038004,
          -5.52197458429219,
          -5.582344159391939,
          -0.3941035876993264,
          -5.402727018695541,
          4.207545423307107,
          3.3524294847789515,
          -5.724419045569647,
          -4.2353653119633945,
          5.071180928432545,
          -4.929783322394794,
          0.6951465298721446,
          -4.561939927771503,
          2.3537832808338948,
          0.5472431111423711,
          -5.765994772693126,
          3.8246603512362696,
          0.22995001783080882,
          0.7177547473417065,
          4.400300991074658,
          0.2264918746680116,
          -1.6024881026726217,
          -4.722821626227401,
          -4.612277211093812,
          -4.950236952931438,
          -4.950765476227708,
          4.880700561201208,
          0.692401452446804,
          -1.776038720650036,
          1.8149886292222688,
          -4.665069490461076,
          -4.903375824766782,
          3.5121890645737084,
          -3.856457334655436,
          -3.11522081672849,
          -3.2225759184150555,
          0.750091923302083,
          2.9342787722298067,
          -2.2692466816652064,
          -0.25812717108598887,
          2.6622410629094895,
          -2.2584616997943785,
          -4.8634835900247495,
          0.7430407464279195,
          -0.6448107001703381,
          0.5335115749575505,
          -1.5316883459520474,
          -3.499017827484054,
          -3.251378316901504,
          0.050028927536522355,
          1.4365131791922283,
          2.8714024758802377,
          -5.147122434615922,
          -1.348556239456088,
          3.9156470127056373,
          -4.4620089891972095,
          4.6950767614620945,
          -1.5108255103724093,
          4.992068038013248,
          -1.4065317444927883,
          -3.9826138389948693,
          -4.248087074561131,
          5.317375570484288,
          -0.9529291115583169,
          4.9533445811812955,
          3.6439405014900808,
          -3.943115171956477,
          -4.974560291909803,
          0.8968496144318702,
          -1.715940549770096,
          5.098842580619705,
          -1.1571566263798676,
          -4.964254311092363,
          -4.453745063511259,
          -5.599903851967823,
          -5.813315937375844,
          0.48738617095119896,
          -0.5718349443254189,
          1.0119707706165888,
          1.3213559808055853,
          -0.5557206528113463,
          -0.2573741657744375,
          2.0134052005524685,
          -5.530734959698907,
          -5.926842894195562,
          -2.7461839671413624,
          -3.9677381936477487,
          -4.954776275204939,
          -3.3112147817823443,
          2.9551498751156102,
          -2.814257182205435,
          3.078775487286546,
          3.506194964131375,
          2.2552988091333126,
          2.019896794335188,
          4.202720741475909,
          0.18323541295002313,
          5.805651084770785,
          -2.4886472041294136,
          -3.36436971430995,
          4.3396707729144435,
          -4.655383233760825,
          -0.9499943175753088,
          -0.8912851611665326,
          5.243201952706365,
          -1.222011420107349,
          2.8362823735384124,
          -3.795440702008802,
          0.05883576887191507,
          1.6929703636210376,
          1.1711427712207867,
          7.357174509491355,
          0.22095730245155254,
          0.5092113802126098,
          0.5349410139755206,
          -2.818440319510738,
          -3.190750950305842,
          -4.357555391349571,
          -3.150047064790355,
          0.9409074207113898,
          -5.4435594506319775,
          -1.449619560042219,
          1.8514512377648924,
          -0.22005030015837812,
          2.7136564904415144,
          -3.163101550869408,
          -5.88244304372105,
          2.4929012857088395
         ],
         "z": [
          1.4722489690510685,
          -0.14729320172230634,
          -1.886029663001152,
          -0.7691869017971518,
          0.2536750223948029,
          -2.132377352609536,
          -1.3551188596577832,
          1.0587129189514046,
          -0.03548155081925577,
          -1.559627524604471,
          -1.6183600748734843,
          -2.9631857137032145,
          -2.1743009598672476,
          0.624091685103967,
          1.6373281129614543,
          -3.000574384325011,
          1.1357392986256478,
          0.2665079952592612,
          -2.451025979614644,
          0.8230123452412743,
          2.169597391747566,
          1.6497943084540574,
          -3.0660130043724894,
          -1.567117695065192,
          -1.4140314079030452,
          1.689120359745718,
          0.27349691513853575,
          -2.4971222939963567,
          3.8391994314452806,
          -0.2803755513594255,
          1.6260631177848004,
          -3.200789846603023,
          -0.6691597464650287,
          2.0778217045137426,
          -0.7261243403652818,
          -2.137649313339438,
          1.7847377425698059,
          -2.5825392182688978,
          -0.9424382129594164,
          -1.0526403178035604,
          1.2720202423744316,
          -1.9055769965107894,
          1.1337494964578587,
          -1.08436766553824,
          1.4714323648220333,
          -3.182560435778363,
          0.25019391258011203,
          -1.64700908953366,
          2.913755137041582,
          1.248880730290255,
          -2.307319398388402,
          -1.5601360908417448,
          1.896212386681736,
          -2.527446590298879,
          -2.1791692414246917,
          -2.570823686816544,
          -2.0857371715700044,
          3.2717332430769597,
          -1.941487419152553,
          1.4992500413820737,
          3.8840557559279283,
          1.4658536517940182,
          -2.4524644074937525,
          -3.576179811490634,
          2.5418699540754615,
          0.9458290803329059,
          -1.3216949420947168,
          -1.854273297642563,
          -1.4142104618583442,
          -2.3557706259845053,
          1.0125540922541696,
          0.7926257640187584,
          -2.890491138132134,
          -2.6399410329720108,
          1.760389532478404,
          0.2778137906036649,
          1.304191026154766,
          -2.870038642692483,
          -3.0114527670977855,
          -2.3402267199938005,
          1.1360005681292693,
          0.27181135430068054,
          2.717125602141912,
          -1.6651425933345405,
          2.147768873508347,
          1.4917421379214466,
          0.454711393525216,
          -0.005525799029030714,
          1.497192791414035,
          -0.9827284185630513,
          0.7640952959201627,
          0.0970075526897229,
          -0.8859632489511966,
          -0.45740117400404107,
          2.2986736694405567,
          -0.8289146038759126,
          -0.5120993043296731,
          5.371469242064109,
          1.2144778213854357,
          -1.8116930420095305,
          -1.0805047826952425,
          -2.82586753423578,
          -3.3542254583258404,
          4.648267211828637,
          0.7407624241240565,
          0.29083685341099363,
          -1.1503087301170398,
          3.299727324254465,
          -0.13444829363530472,
          0.9768831230539446,
          -0.9478209537444946,
          0.2653877891782863,
          -0.08735042706026855,
          1.9488011541523127,
          -0.9751269108979127,
          1.0325488668405294,
          1.5913339014959667,
          -0.20206277260718558,
          -1.968119040152484,
          2.2706930245574495,
          -1.8181566641128684,
          -0.7830085334720959,
          -1.082561872560737,
          -0.09507780657481699,
          -2.7522216881807187,
          -0.2991552025843005,
          1.0096744430860816,
          -3.9218318718000664,
          0.8401544697999083,
          -2.221706174625877,
          -1.4460643212532474,
          -1.7858077629877602,
          2.482816741381257,
          4.783185954883323,
          -3.929262883418048,
          -1.1094820203463835,
          2.904898720762067,
          -1.4160053915455209,
          0.6146676796809964,
          -1.4374916304029686,
          -0.25264909287699633,
          -1.1354238718170773,
          2.673727015195272,
          2.0659243060880037,
          -0.8771281275947738,
          -0.1552321438616499,
          -1.2614679339844643,
          -0.800045570495708,
          2.841067573977069,
          -1.1765358716119716,
          -0.5507479466639456,
          1.760803348673322,
          1.0314815411675209,
          0.7694652762986243,
          -0.35645262236616604,
          -1.2292754564385466,
          -2.0638505408895753,
          1.9976201485626253,
          -1.016438309643157,
          -1.4399228506286155,
          2.2544798805299173,
          -0.6994436230372454,
          -1.8820854028064322,
          -2.907720512805415,
          -2.2026591594374634,
          0.47363913767774285,
          2.9319662850668595,
          2.8797857121023354,
          -3.7921434233848466,
          2.8650985835074887,
          -0.5728146055552295,
          5.024654083548478,
          0.7075115948743739,
          0.37335666850448473,
          -3.0663097239807846,
          2.0130734300050155,
          -2.2886855912944712,
          -0.9376614649643327,
          0.08534521121088971,
          -0.5351605715832999,
          2.822065676748829,
          -0.3506607162430548,
          -3.1088858497944707,
          4.625723241659141,
          2.9079015316469077,
          -0.39629991955058724,
          5.408925719946299,
          -2.2507459777242245,
          1.3256131383165752,
          -0.9281503583425492,
          -1.3336831012566084,
          -2.2787424826011176,
          -0.7107810322768032,
          -2.189138197888984,
          0.9734766711860551,
          4.022594043854644,
          -2.6378925684243986,
          -1.186330388567172,
          0.2110869883832449,
          -1.059313807107077,
          -1.3563149682921396,
          -0.7101154234410799,
          -2.2497076663797895,
          -0.030614992077619203,
          0.4939442524914692,
          -0.008070919509866398,
          -0.3918209842511972,
          -0.7113438537973144,
          -0.872296025881671,
          -0.1591815693109765,
          3.4997967088972812,
          4.427354780739611,
          1.5363736157988443,
          1.5921766485320303,
          -2.4513678009773865,
          2.6581534137002323,
          0.6422305367216895,
          -1.6996304916885607,
          2.58280249796534,
          1.2692859498538187,
          0.5610956576938876,
          -0.2582078231892454,
          -1.505406749552333,
          -1.9723878394281498,
          -1.8397871820802791,
          -2.1878470108833343,
          -1.4036935342172665,
          -1.7826748536395247,
          0.4184990085592438,
          0.6543617952035158,
          3.4892701420786247,
          -1.1332836551440748,
          0.37272266719428704,
          1.4407708300306714,
          1.6792260828623067,
          -1.4555066260822713,
          2.788087800090676,
          2.6153755104048675,
          3.9686294076439443,
          -3.3266691722605874,
          -1.935642217747657,
          0.47654327433135174,
          -3.689032299423636,
          -1.8612113357809048,
          -3.325743879124766,
          1.6166023335077586,
          -0.9477854245320909,
          -0.007799972495458067,
          -0.743250001120738,
          -0.8621858826441269,
          -1.6124823015151666,
          -1.8275774673511849,
          -2.956922133376495,
          0.6966188078285374,
          -1.1631467224396355,
          -1.0983288481331959,
          -2.783077029327483,
          0.20149843800617886,
          -1.5885406135980153,
          -3.502991187537975,
          0.44578001551573293,
          -0.6187724016771614,
          -2.5054502587961887,
          -0.46421296642344473,
          2.556355326512072,
          -2.8869978573430637,
          -1.499467315791615,
          -2.6350151173003615,
          -0.4054238213073898,
          2.9613568725010797,
          2.959837913935782,
          4.181695478585798,
          -0.6570084699031019,
          -0.6819082296371625,
          -0.59443303732982,
          -2.014450083842762,
          1.824822533103904,
          1.5211001998622564,
          1.4590898710637998,
          -0.9026424991370579,
          1.3703675338850692,
          -0.3382162477727352,
          2.906252644049449,
          1.0180427835350958,
          2.698256113181084,
          -0.0802689438781839,
          2.5417976484343896,
          0.6799093670840102,
          2.819870512598156,
          -2.8172087740533818,
          -0.5895478015663905,
          2.207565453362561,
          -2.7058612319725506,
          -0.7499329317165234,
          -1.943156647298965,
          -1.7385972763504782,
          -0.5626225544674754,
          -2.8448161215677596,
          0.2961371296247579,
          0.5711265955977206,
          1.8082414935697864,
          2.067360757369058,
          2.045322842041999,
          -2.777005979429091,
          -1.7802124497048724,
          -0.2145186798019344,
          1.196534537691692,
          0.060653890889937445,
          1.5494231757760306,
          -1.8983701488948161,
          2.109713612525676,
          -2.191780615466392,
          -0.7192213900278069,
          -3.077934725673539,
          0.40813446723685776,
          -1.5488328282277637,
          -1.6996224656833239,
          1.4754435459126434,
          2.352863583268538,
          -1.1499988271871162,
          1.7605871690790795,
          -2.610534890335488,
          -1.768898241771682,
          -1.3253399821487388,
          1.7546067824542744,
          -1.0459653347220963,
          -0.43749860596643386,
          -3.3064308656827084,
          2.1686436135453957,
          -3.234182476179925,
          -2.2304151924383113,
          0.9911117668249912,
          3.045315082530992,
          -1.8934439673380354,
          3.8763652215158393,
          0.9315600423379066,
          -1.0569273319513528,
          2.8337594276493916,
          4.305248036450231,
          -0.31437767563784896,
          3.484191039824746,
          0.09198811304745705,
          -2.0130105321791456,
          1.0842079663625,
          -3.1975512153672527,
          1.7301938137846764,
          4.856307615015587,
          -2.5092942919957104,
          0.8912465181746052,
          3.1790118270658594,
          0.5906191718197689,
          1.814991533261444,
          -2.571493141672399,
          -1.165054629309858,
          1.1375760109981234,
          -0.37296190145589303,
          0.6093016719541412,
          -2.17370125737427,
          0.03954038747296278,
          3.0886172173893676,
          2.025899979031524,
          -2.5356944480296724,
          -0.9801643576757872,
          2.4869834333498106,
          -1.6161776093619242,
          1.5443752340072994,
          -0.10801421923221101,
          -3.5126340542954124,
          3.9287394585757025,
          -2.811937265778753,
          -0.5723900485332244,
          3.2534029654530814,
          -1.2363787712032732,
          0.2456220901724372,
          1.115542728484556,
          -0.15649364600235235,
          3.347834190399329,
          0.033002227264785626,
          -1.3722631846627307,
          0.3493012554251436,
          4.5664758979182345,
          -0.6302362386538033,
          2.076085929002865,
          1.2031433646379062,
          -1.1063101758798806,
          -0.43977609802815837,
          -1.1328147904447283,
          1.269196690558514,
          -0.3615266065473906,
          0.7389803092642142,
          -3.4849307870115904,
          0.875083308884698,
          -0.34578512531876116,
          2.0189561999195442,
          0.025874648663578564,
          -0.6096727034381759,
          3.1826250160638283,
          -0.06080990123913623,
          -2.8034892785703263,
          -2.042501983686066,
          -0.4457534832085095,
          2.847345415655164,
          1.9483348919256178,
          -3.491526075771734
         ]
        }
       ],
       "layout": {
        "coloraxis": {
         "colorbar": {
          "title": {
           "text": "color"
          }
         },
         "colorscale": [
          [
           0,
           "#0d0887"
          ],
          [
           0.1111111111111111,
           "#46039f"
          ],
          [
           0.2222222222222222,
           "#7201a8"
          ],
          [
           0.3333333333333333,
           "#9c179e"
          ],
          [
           0.4444444444444444,
           "#bd3786"
          ],
          [
           0.5555555555555556,
           "#d8576b"
          ],
          [
           0.6666666666666666,
           "#ed7953"
          ],
          [
           0.7777777777777778,
           "#fb9f3a"
          ],
          [
           0.8888888888888888,
           "#fdca26"
          ],
          [
           1,
           "#f0f921"
          ]
         ]
        },
        "legend": {
         "tracegroupgap": 0
        },
        "margin": {
         "t": 60
        },
        "scene": {
         "domain": {
          "x": [
           0,
           1
          ],
          "y": [
           0,
           1
          ]
         },
         "xaxis": {
          "title": {
           "text": "x"
          }
         },
         "yaxis": {
          "title": {
           "text": "y"
          }
         },
         "zaxis": {
          "title": {
           "text": "z"
          }
         }
        },
        "template": {
         "data": {
          "bar": [
           {
            "error_x": {
             "color": "#2a3f5f"
            },
            "error_y": {
             "color": "#2a3f5f"
            },
            "marker": {
             "line": {
              "color": "#E5ECF6",
              "width": 0.5
             },
             "pattern": {
              "fillmode": "overlay",
              "size": 10,
              "solidity": 0.2
             }
            },
            "type": "bar"
           }
          ],
          "barpolar": [
           {
            "marker": {
             "line": {
              "color": "#E5ECF6",
              "width": 0.5
             },
             "pattern": {
              "fillmode": "overlay",
              "size": 10,
              "solidity": 0.2
             }
            },
            "type": "barpolar"
           }
          ],
          "carpet": [
           {
            "aaxis": {
             "endlinecolor": "#2a3f5f",
             "gridcolor": "white",
             "linecolor": "white",
             "minorgridcolor": "white",
             "startlinecolor": "#2a3f5f"
            },
            "baxis": {
             "endlinecolor": "#2a3f5f",
             "gridcolor": "white",
             "linecolor": "white",
             "minorgridcolor": "white",
             "startlinecolor": "#2a3f5f"
            },
            "type": "carpet"
           }
          ],
          "choropleth": [
           {
            "colorbar": {
             "outlinewidth": 0,
             "ticks": ""
            },
            "type": "choropleth"
           }
          ],
          "contour": [
           {
            "colorbar": {
             "outlinewidth": 0,
             "ticks": ""
            },
            "colorscale": [
             [
              0,
              "#0d0887"
             ],
             [
              0.1111111111111111,
              "#46039f"
             ],
             [
              0.2222222222222222,
              "#7201a8"
             ],
             [
              0.3333333333333333,
              "#9c179e"
             ],
             [
              0.4444444444444444,
              "#bd3786"
             ],
             [
              0.5555555555555556,
              "#d8576b"
             ],
             [
              0.6666666666666666,
              "#ed7953"
             ],
             [
              0.7777777777777778,
              "#fb9f3a"
             ],
             [
              0.8888888888888888,
              "#fdca26"
             ],
             [
              1,
              "#f0f921"
             ]
            ],
            "type": "contour"
           }
          ],
          "contourcarpet": [
           {
            "colorbar": {
             "outlinewidth": 0,
             "ticks": ""
            },
            "type": "contourcarpet"
           }
          ],
          "heatmap": [
           {
            "colorbar": {
             "outlinewidth": 0,
             "ticks": ""
            },
            "colorscale": [
             [
              0,
              "#0d0887"
             ],
             [
              0.1111111111111111,
              "#46039f"
             ],
             [
              0.2222222222222222,
              "#7201a8"
             ],
             [
              0.3333333333333333,
              "#9c179e"
             ],
             [
              0.4444444444444444,
              "#bd3786"
             ],
             [
              0.5555555555555556,
              "#d8576b"
             ],
             [
              0.6666666666666666,
              "#ed7953"
             ],
             [
              0.7777777777777778,
              "#fb9f3a"
             ],
             [
              0.8888888888888888,
              "#fdca26"
             ],
             [
              1,
              "#f0f921"
             ]
            ],
            "type": "heatmap"
           }
          ],
          "heatmapgl": [
           {
            "colorbar": {
             "outlinewidth": 0,
             "ticks": ""
            },
            "colorscale": [
             [
              0,
              "#0d0887"
             ],
             [
              0.1111111111111111,
              "#46039f"
             ],
             [
              0.2222222222222222,
              "#7201a8"
             ],
             [
              0.3333333333333333,
              "#9c179e"
             ],
             [
              0.4444444444444444,
              "#bd3786"
             ],
             [
              0.5555555555555556,
              "#d8576b"
             ],
             [
              0.6666666666666666,
              "#ed7953"
             ],
             [
              0.7777777777777778,
              "#fb9f3a"
             ],
             [
              0.8888888888888888,
              "#fdca26"
             ],
             [
              1,
              "#f0f921"
             ]
            ],
            "type": "heatmapgl"
           }
          ],
          "histogram": [
           {
            "marker": {
             "pattern": {
              "fillmode": "overlay",
              "size": 10,
              "solidity": 0.2
             }
            },
            "type": "histogram"
           }
          ],
          "histogram2d": [
           {
            "colorbar": {
             "outlinewidth": 0,
             "ticks": ""
            },
            "colorscale": [
             [
              0,
              "#0d0887"
             ],
             [
              0.1111111111111111,
              "#46039f"
             ],
             [
              0.2222222222222222,
              "#7201a8"
             ],
             [
              0.3333333333333333,
              "#9c179e"
             ],
             [
              0.4444444444444444,
              "#bd3786"
             ],
             [
              0.5555555555555556,
              "#d8576b"
             ],
             [
              0.6666666666666666,
              "#ed7953"
             ],
             [
              0.7777777777777778,
              "#fb9f3a"
             ],
             [
              0.8888888888888888,
              "#fdca26"
             ],
             [
              1,
              "#f0f921"
             ]
            ],
            "type": "histogram2d"
           }
          ],
          "histogram2dcontour": [
           {
            "colorbar": {
             "outlinewidth": 0,
             "ticks": ""
            },
            "colorscale": [
             [
              0,
              "#0d0887"
             ],
             [
              0.1111111111111111,
              "#46039f"
             ],
             [
              0.2222222222222222,
              "#7201a8"
             ],
             [
              0.3333333333333333,
              "#9c179e"
             ],
             [
              0.4444444444444444,
              "#bd3786"
             ],
             [
              0.5555555555555556,
              "#d8576b"
             ],
             [
              0.6666666666666666,
              "#ed7953"
             ],
             [
              0.7777777777777778,
              "#fb9f3a"
             ],
             [
              0.8888888888888888,
              "#fdca26"
             ],
             [
              1,
              "#f0f921"
             ]
            ],
            "type": "histogram2dcontour"
           }
          ],
          "mesh3d": [
           {
            "colorbar": {
             "outlinewidth": 0,
             "ticks": ""
            },
            "type": "mesh3d"
           }
          ],
          "parcoords": [
           {
            "line": {
             "colorbar": {
              "outlinewidth": 0,
              "ticks": ""
             }
            },
            "type": "parcoords"
           }
          ],
          "pie": [
           {
            "automargin": true,
            "type": "pie"
           }
          ],
          "scatter": [
           {
            "fillpattern": {
             "fillmode": "overlay",
             "size": 10,
             "solidity": 0.2
            },
            "type": "scatter"
           }
          ],
          "scatter3d": [
           {
            "line": {
             "colorbar": {
              "outlinewidth": 0,
              "ticks": ""
             }
            },
            "marker": {
             "colorbar": {
              "outlinewidth": 0,
              "ticks": ""
             }
            },
            "type": "scatter3d"
           }
          ],
          "scattercarpet": [
           {
            "marker": {
             "colorbar": {
              "outlinewidth": 0,
              "ticks": ""
             }
            },
            "type": "scattercarpet"
           }
          ],
          "scattergeo": [
           {
            "marker": {
             "colorbar": {
              "outlinewidth": 0,
              "ticks": ""
             }
            },
            "type": "scattergeo"
           }
          ],
          "scattergl": [
           {
            "marker": {
             "colorbar": {
              "outlinewidth": 0,
              "ticks": ""
             }
            },
            "type": "scattergl"
           }
          ],
          "scattermapbox": [
           {
            "marker": {
             "colorbar": {
              "outlinewidth": 0,
              "ticks": ""
             }
            },
            "type": "scattermapbox"
           }
          ],
          "scatterpolar": [
           {
            "marker": {
             "colorbar": {
              "outlinewidth": 0,
              "ticks": ""
             }
            },
            "type": "scatterpolar"
           }
          ],
          "scatterpolargl": [
           {
            "marker": {
             "colorbar": {
              "outlinewidth": 0,
              "ticks": ""
             }
            },
            "type": "scatterpolargl"
           }
          ],
          "scatterternary": [
           {
            "marker": {
             "colorbar": {
              "outlinewidth": 0,
              "ticks": ""
             }
            },
            "type": "scatterternary"
           }
          ],
          "surface": [
           {
            "colorbar": {
             "outlinewidth": 0,
             "ticks": ""
            },
            "colorscale": [
             [
              0,
              "#0d0887"
             ],
             [
              0.1111111111111111,
              "#46039f"
             ],
             [
              0.2222222222222222,
              "#7201a8"
             ],
             [
              0.3333333333333333,
              "#9c179e"
             ],
             [
              0.4444444444444444,
              "#bd3786"
             ],
             [
              0.5555555555555556,
              "#d8576b"
             ],
             [
              0.6666666666666666,
              "#ed7953"
             ],
             [
              0.7777777777777778,
              "#fb9f3a"
             ],
             [
              0.8888888888888888,
              "#fdca26"
             ],
             [
              1,
              "#f0f921"
             ]
            ],
            "type": "surface"
           }
          ],
          "table": [
           {
            "cells": {
             "fill": {
              "color": "#EBF0F8"
             },
             "line": {
              "color": "white"
             }
            },
            "header": {
             "fill": {
              "color": "#C8D4E3"
             },
             "line": {
              "color": "white"
             }
            },
            "type": "table"
           }
          ]
         },
         "layout": {
          "annotationdefaults": {
           "arrowcolor": "#2a3f5f",
           "arrowhead": 0,
           "arrowwidth": 1
          },
          "autotypenumbers": "strict",
          "coloraxis": {
           "colorbar": {
            "outlinewidth": 0,
            "ticks": ""
           }
          },
          "colorscale": {
           "diverging": [
            [
             0,
             "#8e0152"
            ],
            [
             0.1,
             "#c51b7d"
            ],
            [
             0.2,
             "#de77ae"
            ],
            [
             0.3,
             "#f1b6da"
            ],
            [
             0.4,
             "#fde0ef"
            ],
            [
             0.5,
             "#f7f7f7"
            ],
            [
             0.6,
             "#e6f5d0"
            ],
            [
             0.7,
             "#b8e186"
            ],
            [
             0.8,
             "#7fbc41"
            ],
            [
             0.9,
             "#4d9221"
            ],
            [
             1,
             "#276419"
            ]
           ],
           "sequential": [
            [
             0,
             "#0d0887"
            ],
            [
             0.1111111111111111,
             "#46039f"
            ],
            [
             0.2222222222222222,
             "#7201a8"
            ],
            [
             0.3333333333333333,
             "#9c179e"
            ],
            [
             0.4444444444444444,
             "#bd3786"
            ],
            [
             0.5555555555555556,
             "#d8576b"
            ],
            [
             0.6666666666666666,
             "#ed7953"
            ],
            [
             0.7777777777777778,
             "#fb9f3a"
            ],
            [
             0.8888888888888888,
             "#fdca26"
            ],
            [
             1,
             "#f0f921"
            ]
           ],
           "sequentialminus": [
            [
             0,
             "#0d0887"
            ],
            [
             0.1111111111111111,
             "#46039f"
            ],
            [
             0.2222222222222222,
             "#7201a8"
            ],
            [
             0.3333333333333333,
             "#9c179e"
            ],
            [
             0.4444444444444444,
             "#bd3786"
            ],
            [
             0.5555555555555556,
             "#d8576b"
            ],
            [
             0.6666666666666666,
             "#ed7953"
            ],
            [
             0.7777777777777778,
             "#fb9f3a"
            ],
            [
             0.8888888888888888,
             "#fdca26"
            ],
            [
             1,
             "#f0f921"
            ]
           ]
          },
          "colorway": [
           "#636efa",
           "#EF553B",
           "#00cc96",
           "#ab63fa",
           "#FFA15A",
           "#19d3f3",
           "#FF6692",
           "#B6E880",
           "#FF97FF",
           "#FECB52"
          ],
          "font": {
           "color": "#2a3f5f"
          },
          "geo": {
           "bgcolor": "white",
           "lakecolor": "white",
           "landcolor": "#E5ECF6",
           "showlakes": true,
           "showland": true,
           "subunitcolor": "white"
          },
          "hoverlabel": {
           "align": "left"
          },
          "hovermode": "closest",
          "mapbox": {
           "style": "light"
          },
          "paper_bgcolor": "white",
          "plot_bgcolor": "#E5ECF6",
          "polar": {
           "angularaxis": {
            "gridcolor": "white",
            "linecolor": "white",
            "ticks": ""
           },
           "bgcolor": "#E5ECF6",
           "radialaxis": {
            "gridcolor": "white",
            "linecolor": "white",
            "ticks": ""
           }
          },
          "scene": {
           "xaxis": {
            "backgroundcolor": "#E5ECF6",
            "gridcolor": "white",
            "gridwidth": 2,
            "linecolor": "white",
            "showbackground": true,
            "ticks": "",
            "zerolinecolor": "white"
           },
           "yaxis": {
            "backgroundcolor": "#E5ECF6",
            "gridcolor": "white",
            "gridwidth": 2,
            "linecolor": "white",
            "showbackground": true,
            "ticks": "",
            "zerolinecolor": "white"
           },
           "zaxis": {
            "backgroundcolor": "#E5ECF6",
            "gridcolor": "white",
            "gridwidth": 2,
            "linecolor": "white",
            "showbackground": true,
            "ticks": "",
            "zerolinecolor": "white"
           }
          },
          "shapedefaults": {
           "line": {
            "color": "#2a3f5f"
           }
          },
          "ternary": {
           "aaxis": {
            "gridcolor": "white",
            "linecolor": "white",
            "ticks": ""
           },
           "baxis": {
            "gridcolor": "white",
            "linecolor": "white",
            "ticks": ""
           },
           "bgcolor": "#E5ECF6",
           "caxis": {
            "gridcolor": "white",
            "linecolor": "white",
            "ticks": ""
           }
          },
          "title": {
           "x": 0.05
          },
          "xaxis": {
           "automargin": true,
           "gridcolor": "white",
           "linecolor": "white",
           "ticks": "",
           "title": {
            "standoff": 15
           },
           "zerolinecolor": "white",
           "zerolinewidth": 2
          },
          "yaxis": {
           "automargin": true,
           "gridcolor": "white",
           "linecolor": "white",
           "ticks": "",
           "title": {
            "standoff": 15
           },
           "zerolinecolor": "white",
           "zerolinewidth": 2
          }
         }
        }
       }
      }
     },
     "metadata": {},
     "output_type": "display_data"
    }
   ],
   "source": [
    "px.scatter_3d(x=x_testdf.iloc[:,0],y=x_testdf.iloc[:,1],z=x_testdf.iloc[:,2], color= y_pred)"
   ]
  },
  {
   "cell_type": "code",
   "execution_count": 436,
   "metadata": {},
   "outputs": [
    {
     "name": "stdout",
     "output_type": "stream",
     "text": [
      "5\n",
      " Training QDT no : 1\n",
      "Epoch:  1 | Loss: 0.314552 |  accuracy: 0.500000 \n",
      "Epoch:  2 | Loss: 0.303582 |  accuracy: 0.537267 \n",
      "Epoch:  3 | Loss: 0.297781 |  accuracy: 0.531056 \n",
      "Epoch:  4 | Loss: 0.280341 |  accuracy: 0.531056 \n",
      "Epoch:  5 | Loss: 0.296455 |  accuracy: 0.524845 \n",
      "Epoch:  6 | Loss: 0.285393 |  accuracy: 0.534161 \n",
      "Epoch:  7 | Loss: 0.284857 |  accuracy: 0.552795 \n",
      "Epoch:  8 | Loss: 0.277658 |  accuracy: 0.537267 \n",
      "Epoch:  9 | Loss: 0.299146 |  accuracy: 0.521739 \n",
      "Epoch: 10 | Loss: 0.281542 |  accuracy: 0.540373 \n",
      " Training QDT no : 2\n",
      "Epoch:  1 | Loss: 0.316271 |  accuracy: 0.493789 \n",
      "Epoch:  2 | Loss: 0.336865 |  accuracy: 0.531056 \n",
      "Epoch:  3 | Loss: 0.284934 |  accuracy: 0.524845 \n",
      "Epoch:  4 | Loss: 0.314261 |  accuracy: 0.518634 \n",
      "Epoch:  5 | Loss: 0.297315 |  accuracy: 0.518634 \n",
      "Epoch:  6 | Loss: 0.285926 |  accuracy: 0.562112 \n",
      "Epoch:  7 | Loss: 0.274736 |  accuracy: 0.534161 \n",
      "Epoch:  8 | Loss: 0.277963 |  accuracy: 0.552795 \n",
      "Epoch:  9 | Loss: 0.275334 |  accuracy: 0.531056 \n",
      "Epoch: 10 | Loss: 0.274459 |  accuracy: 0.549689 \n",
      " Training QDT no : 3\n",
      "Epoch:  1 | Loss: 0.328976 |  accuracy: 0.518634 \n",
      "Epoch:  2 | Loss: 0.329686 |  accuracy: 0.515528 \n",
      "Epoch:  3 | Loss: 0.295835 |  accuracy: 0.552795 \n",
      "Epoch:  4 | Loss: 0.300411 |  accuracy: 0.537267 \n",
      "Epoch:  5 | Loss: 0.319666 |  accuracy: 0.484472 \n",
      "Epoch:  6 | Loss: 0.306882 |  accuracy: 0.487578 \n",
      "Epoch:  7 | Loss: 0.307348 |  accuracy: 0.509317 \n",
      "Epoch:  8 | Loss: 0.301516 |  accuracy: 0.515528 \n",
      "Epoch:  9 | Loss: 0.293238 |  accuracy: 0.543478 \n",
      "Epoch: 10 | Loss: 0.292998 |  accuracy: 0.534161 \n",
      " Training QDT no : 4\n",
      "Epoch:  1 | Loss: 0.309663 |  accuracy: 0.503106 \n",
      "Epoch:  2 | Loss: 0.309326 |  accuracy: 0.515528 \n",
      "Epoch:  3 | Loss: 0.299627 |  accuracy: 0.503106 \n",
      "Epoch:  4 | Loss: 0.306917 |  accuracy: 0.496894 \n",
      "Epoch:  5 | Loss: 0.294419 |  accuracy: 0.496894 \n",
      "Epoch:  6 | Loss: 0.315077 |  accuracy: 0.521739 \n",
      "Epoch:  7 | Loss: 0.313953 |  accuracy: 0.521739 \n",
      "Epoch:  8 | Loss: 0.293823 |  accuracy: 0.521739 \n",
      "Epoch:  9 | Loss: 0.312361 |  accuracy: 0.509317 \n",
      "Epoch: 10 | Loss: 0.295004 |  accuracy: 0.524845 \n",
      " Training QDT no : 5\n",
      "Epoch:  1 | Loss: 0.308457 |  accuracy: 0.515528 \n",
      "Epoch:  2 | Loss: 0.300127 |  accuracy: 0.521739 \n",
      "Epoch:  3 | Loss: 0.348749 |  accuracy: 0.503106 \n",
      "Epoch:  4 | Loss: 0.345706 |  accuracy: 0.468944 \n",
      "Epoch:  5 | Loss: 0.323639 |  accuracy: 0.524845 \n",
      "Epoch:  6 | Loss: 0.287727 |  accuracy: 0.543478 \n",
      "Epoch:  7 | Loss: 0.309544 |  accuracy: 0.540373 \n",
      "Epoch:  8 | Loss: 0.307893 |  accuracy: 0.540373 \n",
      "Epoch:  9 | Loss: 0.287461 |  accuracy: 0.537267 \n",
      "Epoch: 10 | Loss: 0.286161 |  accuracy: 0.540373 \n",
      "[5 2 3 4 3 1 3 2 2 2 2 3 3 2 2 2 2 4 4 3 3 4 3 1 2 4 2 1 3 3 3 3 3 4 3 4 4\n",
      " 4 4 4 2 4 3 4 3 4 3 2 2 3 2 2 3 2 1 3 3 4 1 4 3 2 3 4 3 4 4 1 3 2 2 3 4 1\n",
      " 3 1 1 3 3 2 1 2 4 3 4 4 2 2 3 3 2 5 2 4 4 3 2 4 3 2 4 1 2 2 1 4 4 1 4 1 3\n",
      " 1 2 3 3 2 1 2 4 4 2 3 4 1 2 3 2 1 2 3 3 3 3 4 4 4 3 3 3 4 3 4 3 4 4 2 4 3\n",
      " 4 3 4 3 2 2 4 1 2 4 3 2 3 3 5 2 1 2 3 4 4 3 4 2 2 1 3 2 3 3 3 2 2 2 2 1 5\n",
      " 2 2 2 3 5 2 3 3 1 3 3 3 4 2 2 3 4 3 4 3 4 3 4 3 2 2 3 2 1 3 3 2 1 2 2 2 3\n",
      " 4 3 3 2 2 3 2 2 2 2 2 2 3 2 3 4 2 3 2 4 3 3 4 2 4 3 2 2 4 4 4 1 4 3 2 2 1\n",
      " 3 3 2 3 3 3 3 3 3 3 4 3 2 5 5 2 3 3 2 2 1 3 4 2 2 3 4 2 3 3 2 4 4 2 3 2 2\n",
      " 3 2 1 3 2 3 1 2 3 2 1 4 4 3 3 3 1 4 1 2 4 1 2 3 2 2 1 3 5 3 3 2 3 3 3 2 3\n",
      " 2 2 2 5 3 3 2 3 3 2 2 2 2 3 2 1 3 3 3 2 2 4 3 2 3 1 4 4 2 3 3 1 2 3 4 4 3\n",
      " 3 2 2 2 1 3 3 3 3 3 3 3 4 4 3 2 3 1 4 3 3 1 4 2 4 3 3 2 4 3 2 3 3 4]\n",
      "Recall(TP/FN+TP ):0.6161137440758294\n",
      "Precsion(TP/FP+TP): 0.5416666666666666 \n",
      "F1 score function of presscion and recall:0.5764966740576497 \n"
     ]
    },
    {
     "data": {
      "image/png": "[encoded data removed]",
      "text/plain": [
       "<Figure size 640x480 with 2 Axes>"
      ]
     },
     "metadata": {},
     "output_type": "display_data"
    }
   ],
   "source": [
    "qrf = QRF(X_train,y_train, no_QDT=5, sensetivity= 0.5 ) \n",
    "\n",
    "qrf.train()\n",
    "y_pred,individual_y = qrf.predict(X_test, y_test)\n",
    "conMtx = confusion_matrix(y_test,y_pred)\n",
    "\n",
    "sns.heatmap(conMtx)\n",
    "f1 = f1_score(y_test,y_pred)\n",
    "recall = recall_score(y_test,y_pred)\n",
    "pre = precision_score(y_test,y_pred)\n",
    "\n",
    "print(f\"Recall(TP/FN+TP ):{recall}\")\n",
    "print(f\"Precsion(TP/FP+TP): {pre} \")\n",
    "print(f\"F1 score function of presscion and recall:{f1} \")"
   ]
  },
  {
   "cell_type": "code",
   "execution_count": 437,
   "metadata": {},
   "outputs": [
    {
     "data": {
      "application/vnd.plotly.v1+json": {
       "config": {
        "plotlyServerURL": "https://plot.ly"
       },
       "data": [
        {
         "hovertemplate": "x=%{x}<br>y=%{y}<br>z=%{z}<br>color=%{marker.color}<extra></extra>",
         "legendgroup": "",
         "marker": {
          "color": [
           0,
           1,
           1,
           0,
           1,
           0,
           1,
           1,
           0,
           1,
           1,
           0,
           1,
           1,
           1,
           1,
           1,
           0,
           0,
           1,
           1,
           0,
           0,
           1,
           0,
           0,
           1,
           0,
           1,
           1,
           1,
           0,
           1,
           0,
           1,
           1,
           0,
           1,
           1,
           0,
           0,
           0,
           0,
           1,
           0,
           0,
           1,
           1,
           1,
           1,
           1,
           1,
           0,
           0,
           0,
           1,
           0,
           0,
           1,
           0,
           1,
           0,
           1,
           0,
           0,
           0,
           0,
           0,
           0,
           0,
           0,
           0,
           0,
           1,
           1,
           0,
           1,
           0,
           1,
           0,
           1,
           0,
           1,
           0,
           1,
           0,
           0,
           0,
           1,
           1,
           1,
           1,
           0,
           1,
           0,
           0,
           0,
           0,
           0,
           0,
           1,
           1,
           0,
           0,
           0,
           0,
           0,
           1,
           0,
           1,
           1,
           0,
           0,
           0,
           0,
           0,
           0,
           1,
           0,
           1,
           0,
           0,
           1,
           0,
           0,
           0,
           0,
           0,
           1,
           1,
           0,
           0,
           0,
           1,
           0,
           1,
           1,
           1,
           0,
           1,
           1,
           1,
           1,
           1,
           1,
           1,
           0,
           0,
           0,
           0,
           0,
           1,
           0,
           1,
           1,
           0,
           1,
           1,
           1,
           1,
           0,
           1,
           0,
           1,
           0,
           0,
           1,
           0,
           1,
           1,
           1,
           1,
           0,
           1,
           1,
           0,
           1,
           0,
           0,
           0,
           0,
           0,
           1,
           0,
           1,
           1,
           0,
           1,
           1,
           0,
           1,
           0,
           1,
           0,
           1,
           0,
           1,
           1,
           0,
           0,
           0,
           0,
           0,
           0,
           1,
           0,
           1,
           1,
           1,
           0,
           1,
           1,
           0,
           1,
           1,
           1,
           0,
           1,
           0,
           0,
           1,
           0,
           1,
           1,
           1,
           0,
           0,
           0,
           0,
           0,
           1,
           0,
           1,
           1,
           1,
           1,
           1,
           0,
           0,
           1,
           1,
           1,
           1,
           1,
           1,
           1,
           0,
           0,
           1,
           0,
           0,
           0,
           1,
           1,
           0,
           1,
           0,
           1,
           1,
           0,
           1,
           0,
           1,
           0,
           1,
           1,
           1,
           1,
           1,
           0,
           1,
           1,
           1,
           0,
           1,
           0,
           1,
           1,
           1,
           1,
           0,
           0,
           0,
           1,
           1,
           0,
           0,
           1,
           0,
           1,
           1,
           0,
           1,
           1,
           0,
           0,
           1,
           0,
           1,
           0,
           0,
           1,
           1,
           1,
           1,
           0,
           0,
           0,
           0,
           0,
           1,
           1,
           1,
           0,
           0,
           1,
           0,
           1,
           1,
           1,
           1,
           0,
           0,
           1,
           1,
           1,
           1,
           0,
           1,
           1,
           0,
           0,
           1,
           1,
           1,
           0,
           0,
           0,
           0,
           0,
           0,
           0,
           0,
           0,
           1,
           0,
           1,
           0,
           1,
           1,
           1,
           0,
           1,
           0,
           0,
           1,
           1,
           1,
           1,
           0,
           1,
           1,
           1,
           0,
           0,
           1,
           1,
           1,
           1,
           1,
           1,
           1,
           0,
           1,
           0,
           0,
           1,
           1,
           0,
           1,
           1,
           0,
           0,
           1,
           0,
           1,
           1,
           1,
           0,
           0,
           0,
           1,
           1,
           1,
           1,
           1,
           1,
           0,
           0,
           0,
           1,
           0,
           1,
           1
          ],
          "coloraxis": "coloraxis",
          "symbol": "circle"
         },
         "mode": "markers",
         "name": "",
         "scene": "scene",
         "showlegend": false,
         "type": "scatter3d",
         "x": [
          3.9656736814240294,
          -5.5517929394341605,
          6.68776086674939,
          0.5165362470470959,
          -1.5596724130535877,
          4.972550123670571,
          -6.232714128525154,
          -0.8072380215033506,
          0.9499576013169186,
          9.492600911165113,
          -2.99697496465625,
          -2.2598916225322085,
          6.809141957770477,
          -2.4008166670617874,
          -4.487778515165683,
          -3.564672164484353,
          1.821860641677875,
          2.6083563696508514,
          5.05782548925524,
          -0.9944715878838817,
          2.4044148508820733,
          4.253293958240879,
          5.694606726172606,
          -3.5077609849501292,
          1.0501808737190241,
          0.5733286535866731,
          -0.03213211722131105,
          4.2956173382052745,
          3.6520552698662416,
          2.6018644364635652,
          1.1430602469190294,
          -3.4832137709935904,
          -1.4083618091883023,
          0.8327370226067352,
          -6.572295788329131,
          -5.3080367041636665,
          8.985192617402584,
          4.255884024776311,
          4.522489502335722,
          -6.011055642065317,
          -5.440985775537714,
          7.535164303740893,
          4.50220215657965,
          -6.132016438166981,
          -3.8095696189193764,
          1.3635817836883093,
          0.4612415764085352,
          3.3619791254674776,
          0.3789815661095938,
          3.529745025522083,
          -7.135836961906808,
          -2.1062350789059145,
          0.39262244607905933,
          -3.1598988202367995,
          8.013335482773448,
          6.734525241914259,
          -0.495794456435977,
          2.312205234643183,
          -7.4453281261764745,
          7.218237132269712,
          1.5759095071683231,
          6.998315112054041,
          6.59459239132662,
          4.648736694597558,
          -4.605196460007229,
          3.892003118666156,
          1.3625955789258593,
          8.594919509308816,
          -6.849168546524536,
          -1.6474357917810714,
          -0.9856304345476442,
          4.826131273653971,
          1.4790435360659557,
          -2.393200156423395,
          5.512927013235647,
          0.7367637043070079,
          -0.8962391701277722,
          6.746584373872402,
          4.286756185780559,
          4.367115468505881,
          0.8366407392564068,
          4.769862873102657,
          -1.4907527428279432,
          -0.9178032362067795,
          7.844827108292685,
          7.284613064155981,
          8.574735639321187,
          -6.394849948073911,
          -4.4510635947819335,
          -7.256991092049106,
          1.9987134497734762,
          1.22176173419113,
          -1.6004722868585641,
          4.347408091113051,
          2.661877268423012,
          -6.284305799056836,
          3.4551110878330658,
          0.15621298784895815,
          7.075523786417844,
          -2.2138722106767763,
          1.8521053084829562,
          -2.833561850313176,
          3.759716947404285,
          -0.3360778270327388,
          -5.5855200576481145,
          2.5981175122486775,
          -6.420765287281618,
          -3.2668663712355026,
          -1.3613125490137497,
          -5.17780858168301,
          -6.137385632549194,
          0.5064480531673754,
          -2.475599382143989,
          4.369724073874692,
          -6.56987435820378,
          6.121963904529976,
          -4.392361443468309,
          1.2827956114491645,
          7.625067029219154,
          -3.827067575226624,
          8.832619152421668,
          -6.6530580507920885,
          -6.081290454260132,
          -5.341035134865796,
          -0.5320364379319211,
          0.95791838367645,
          -2.6460413429588354,
          0.6889956057103812,
          6.130486823857481,
          -7.072071547621341,
          6.9529102590635725,
          1.6802252292076802,
          1.1207167528619308,
          -2.4409959991729373,
          2.396816692227452,
          -6.1361114037571864,
          2.5871699391420213,
          4.111753264586642,
          -4.508400906816787,
          0.10658131197084697,
          5.966746971539194,
          -5.138805476153507,
          -3.7465433015758376,
          3.331217436652684,
          8.397255860519893,
          1.6761758460686598,
          -6.234484332155434,
          -3.774717092619199,
          1.9242349974476558,
          -5.7181127027562395,
          6.93703300012437,
          3.301714409969985,
          -0.3803968688782169,
          -0.4535328684081442,
          -5.070351511931833,
          -2.3201557714020327,
          -2.7721465523065265,
          3.026863406684496,
          -6.2419390968111355,
          4.442210988880567,
          2.035081948032831,
          -6.941181260441204,
          6.289671756297102,
          3.019939563501273,
          -4.306039358144579,
          5.838988530126791,
          1.091755622163547,
          4.3397973332741495,
          3.84544505452326,
          2.8190831501859854,
          -4.7018565117790505,
          -1.0075859694583051,
          -5.565002890555519,
          4.920289319911795,
          -4.268454547910402,
          5.93280437344337,
          -0.10703581049958263,
          -0.371051423033105,
          -3.5928759468623843,
          -2.2163588028516745,
          0.6274297512009724,
          -5.829331713198807,
          6.9763122153887345,
          -1.4307654809547061,
          4.058385739138683,
          2.446196208346952,
          1.014906533874973,
          -6.528149755144639,
          7.016287852645483,
          5.217959536885636,
          -7.244681823513475,
          0.6195633695270343,
          -0.5128894732754222,
          5.26427554297757,
          -5.331971062841406,
          -1.9102870631554634,
          8.951016580504318,
          -5.946639571684706,
          3.1514389040001864,
          2.7768720039595722,
          -2.6937886994819875,
          4.628424507711032,
          7.247853090759754,
          2.8003639550241135,
          -4.008432832298981,
          -4.320416961429239,
          0.12443231730286397,
          -4.77615220958908,
          -6.104081007667648,
          6.567656398354147,
          -3.9063453770278977,
          0.09170506687521629,
          -0.4162633806238166,
          -1.4719697681240553,
          0.3748487246503707,
          1.709932919433794,
          -5.6916774111767365,
          -3.2582848749239948,
          0.8614720752171414,
          0.009034731655954791,
          -0.47261341584074235,
          5.711575569427601,
          -6.299204283246334,
          -3.247867146083566,
          -5.698877572172456,
          5.198419944262178,
          -5.855686670225573,
          -6.273518520445829,
          -3.9378675317358915,
          1.9633572175069525,
          2.948661415245559,
          -6.955240739523404,
          -3.961035243372525,
          0.10809520267684454,
          2.6174340656036232,
          1.8717795032545281,
          -0.419924046988076,
          4.971544463099156,
          3.0234594226321994,
          -2.255972573177621,
          7.51846893172724,
          3.818914837888775,
          -2.894074791667501,
          -6.777107843188936,
          1.3307786928078926,
          0.19053648201613915,
          -4.551879954669742,
          -1.4961113906411745,
          -7.0551242722276335,
          2.733731966321695,
          0.09483147846507689,
          -6.0920631755459285,
          -0.4536031276069407,
          -0.9120774721145479,
          -6.590263582705573,
          -6.527641865001269,
          -7.232586091534334,
          -6.130945000391438,
          4.71361332957934,
          2.9524456587802503,
          -3.825351253353931,
          3.6490288705976752,
          6.6236384933109616,
          -5.808879969604677,
          -3.510684954026371,
          -1.0592722192059958,
          -0.605514856443636,
          6.471328085092203,
          -1.8407743070036053,
          -2.039279120262304,
          3.5744824356179947,
          3.0849961827070236,
          -4.944927961610429,
          0.7715731779380314,
          7.292964986821114,
          -0.4972080949299846,
          1.0406146778649294,
          -0.052347994317024076,
          -1.1820156321478823,
          1.6184743671939472,
          1.8472211548030828,
          2.132945277088603,
          -1.3933807259805557,
          -0.7568957080427444,
          2.1848165816499314,
          -1.3217092121579601,
          -0.961174796106354,
          7.2611933035295015,
          2.9926105937820173,
          2.5899430893936684,
          -5.304467968647458,
          1.7496991496597165,
          5.3637026518579125,
          -0.04126648023766285,
          -7.029442020212461,
          -3.022062751657181,
          6.407636332351108,
          -4.005630816167015,
          -0.42776908345153375,
          -3.5889367827761576,
          0.9250005409557759,
          -1.418592656439802,
          -4.6965375271311665,
          -1.0590650815961404,
          1.0768319806793845,
          -5.776503134316031,
          0.7802526820336079,
          -3.1085335481038383,
          -4.3385600581232735,
          -5.278893663960864,
          7.177610026236637,
          -7.848468655778474,
          4.1363633322156,
          5.504180813647925,
          5.272216564317732,
          -0.7427415956957483,
          5.413329620188677,
          5.735878043669804,
          -0.9738331486239443,
          -5.819846473166542,
          8.620839382274033,
          0.2662852064918837,
          -1.8419455789312968,
          -3.0123067877563154,
          4.045191156918947,
          -6.523399033985281,
          -5.84587634825219,
          7.070231673629358,
          1.4709433253731232,
          -4.2236491468123365,
          8.115966687122215,
          -3.63409854347924,
          -4.236966934748565,
          -7.366588298086167,
          -1.9974044075874897,
          6.791615572165819,
          -1.2862268148558826,
          2.680380665384111,
          -1.6431223207993202,
          -4.757245312836285,
          -2.419556963590488,
          -4.184075079411657,
          -4.904546531229709,
          0.47243140704558995,
          -0.5591532485828495,
          8.09664112547297,
          -0.35575474446147365,
          -1.2906821477247283,
          0.1366248526312065,
          3.317532850735335,
          -0.906303524950597,
          0.4386584728918747,
          5.129457866232684,
          3.1211584980461935,
          -5.245374000057831,
          -5.814722916332113,
          6.501390860182107,
          -2.903064961557728,
          -5.619051715243001,
          1.4493141784501071,
          0.9304532312847099,
          -7.238155425857963,
          -2.076623977205213,
          -1.069703587073906,
          -3.226362917434363,
          -4.725060183378911,
          3.0944205278531594,
          5.129687862132644,
          0.8091056844335832,
          5.365257657315671,
          -4.327315931262832,
          -3.6773590831620706,
          -6.685378963723751,
          1.8840804642622073,
          5.904578158800358,
          -1.714225900482045,
          -3.8773173655476896,
          -2.802384789258261,
          -6.713794185329019,
          -1.9295704308971409,
          -0.08948443887991292,
          -5.8694663998294265,
          -1.0912019311456314,
          3.907127017874565,
          -1.848190402098392,
          7.52643807224355,
          -5.52960071208892,
          5.514981041567128,
          -5.050907219938864,
          -2.611047588730541,
          0.6040261434088956,
          4.7627805803907926,
          2.1648553538917326,
          2.3868648664418406,
          3.056658908204565,
          -6.206312451697496,
          1.2199844466981538,
          4.77044890618325,
          4.9114247128714075,
          3.1822572870988566,
          -5.53479141528676,
          6.394935345487679,
          0.6611101820429847,
          4.905213910727297
         ],
         "y": [
          -3.3106997756454777,
          2.471565381880241,
          5.1880424422827485,
          4.917941526740074,
          -4.977259169503069,
          1.0975778198884771,
          1.218381778941,
          -4.652265685840128,
          5.1285391444151065,
          2.0195700083455663,
          -0.9810005499510017,
          -1.1858355152308848,
          2.349707160382813,
          -4.941403878400937,
          4.784438500131286,
          -1.3874846575945898,
          0.29649986044534193,
          6.252996166681427,
          3.0087357255278775,
          -5.947573129429882,
          -3.92725343126418,
          -3.028100390352521,
          2.6684401030062492,
          -3.35462503638377,
          -0.41955104033746893,
          -6.110537880867687,
          5.989937992224073,
          1.0347667519930777,
          -5.016798165026853,
          -2.998321995286056,
          -5.0773666409415945,
          -1.890103611871566,
          0.03355560254404084,
          -6.009386128782078,
          0.34771726501308875,
          -3.5300726989268134,
          -2.422583194951656,
          2.796108799079515,
          -0.07248082224916924,
          0.40885333343986646,
          2.486081634580564,
          3.3172975727831586,
          -3.013523764782179,
          -1.484820486314099,
          4.587005393981478,
          0.4996074998664628,
          6.464200994318604,
          -0.8093270426156481,
          2.242103245206156,
          -4.608201758259806,
          -2.314313152412119,
          4.1866473762084455,
          -5.853603562154204,
          -1.940557735712303,
          2.1940189927869382,
          2.7785858396044176,
          -0.9107446755559346,
          -5.438941490890076,
          -1.7692277570110921,
          -2.346607288570171,
          4.456173868424977,
          -2.1839473542505377,
          2.761327658810309,
          -1.0220627120809944,
          4.748680816511896,
          -3.7054153713517035,
          0.19462830166039893,
          2.3148396892650704,
          -1.0379387517795708,
          -0.7848553478110886,
          -5.7239937945295845,
          -3.629949304306828,
          0.264815824343349,
          0.8819908543543126,
          -3.7723992466796323,
          -3.5656122662541443,
          -5.423846824185196,
          3.0304612573877785,
          1.926803457564504,
          1.3735451550751714,
          -4.108290463164094,
          -2.2609655694296626,
          2.6155532511299158,
          -1.0074902005619206,
          -2.6777905427967714,
          -2.202464807672447,
          5.1536599688609,
          2.085048398725489,
          3.158502749655099,
          -1.522243461188681,
          -4.429805066461291,
          3.6674924851086854,
          -2.7129945495006833,
          -0.14314765144827202,
          -4.479129577500117,
          0.1018316224266826,
          5.1162660673375,
          5.496530776707181,
          -1.9699112879222171,
          -1.8092850246575762,
          0.9616860706671945,
          -2.579591661467413,
          3.5543336425255574,
          4.15618652392014,
          2.0534443440026697,
          -2.896696958042813,
          -0.25062537216289144,
          4.703060518179791,
          5.096016587466489,
          2.1189806454074884,
          1.7193390130381998,
          5.844622212327297,
          5.623636010190012,
          -3.783171641048108,
          0.02327693657825145,
          -1.136653462782048,
          2.5832896632174216,
          2.791267845714356,
          3.0142395563121704,
          4.34428039984735,
          5.807403449246256,
          0.8824078056510382,
          0.6419236285022062,
          1.8160571406490071,
          -1.8043287589952408,
          6.959240100719564,
          -4.659744999400069,
          2.2715552984797194,
          -2.671654520944972,
          -0.03473868291112731,
          1.8165242189910211,
          1.1215926046572862,
          -5.965505769811789,
          5.825084618548901,
          1.729287044152183,
          0.5419681492653129,
          -4.082535467261448,
          -0.11606180349994566,
          -1.3035816835895555,
          -1.14086902739395,
          1.1887184997295228,
          0.13712879571005251,
          4.755982038612792,
          -5.237198866899171,
          3.623625520652763,
          1.6750482045704709,
          0.31076146119252307,
          -4.2933038068092735,
          -5.671119306835711,
          1.8628845870538466,
          3.1042708345086103,
          -4.686775999678279,
          -3.9558903896063184,
          -4.374398998955724,
          3.1283277304981407,
          -2.0092043826365606,
          -3.2958054633424343,
          -4.713759573195561,
          0.903642496184067,
          0.13706544891746913,
          -5.163474027013449,
          0.3978076750664046,
          3.3256086588523273,
          1.3843177653929177,
          -3.697585294599857,
          -2.2804605122026227,
          -5.25934386338875,
          -4.457793150900905,
          2.2388479430302053,
          -4.511612697256899,
          0.24030881844892601,
          6.699994460663882,
          1.9054560933629452,
          -2.2675722813640724,
          -1.4502556817875525,
          -3.227296930857969,
          -0.5219832543498326,
          -2.9696905764509514,
          -4.451616231764638,
          -2.961216763232053,
          -4.048132587910933,
          2.9393112239880756,
          3.0046223717504907,
          7.130488057800291,
          -3.9756353050082964,
          6.121388137318441,
          2.407627840647171,
          -0.25349513670776735,
          -1.5939552865863638,
          -0.4217296413205102,
          -0.23938057508950852,
          1.0046602806012739,
          -3.034511747410599,
          3.292111485924842,
          3.519341058053292,
          6.061045201089446,
          3.4276731395623665,
          0.30931886705649136,
          5.138155180244787,
          -3.1420755509265494,
          -3.278717705581643,
          -0.6942089179369452,
          2.915163257641924,
          -3.158250024079845,
          3.792337136116686,
          4.632634016125034,
          6.25462178958167,
          3.1860039744997684,
          0.6385445654327336,
          -0.8118553429980111,
          4.998602515518412,
          4.341558608427756,
          -5.245291371445144,
          -5.124410466587167,
          0.3468972944129107,
          -3.0293954603762696,
          2.03238838833725,
          -3.3308025670108785,
          -5.22487691737636,
          -4.699955318864831,
          -4.57942865373567,
          -0.9095252130131947,
          -0.2719461578487543,
          -2.7948801605893316,
          1.0167773738842412,
          0.67142350616312,
          1.231150488757552,
          -0.13570587600073988,
          -4.180464810010613,
          -4.399580975654056,
          -5.536381900976213,
          0.20115984096827513,
          -4.256619257580074,
          -3.8976560950848014,
          -5.694550074909388,
          -1.2939792256739215,
          -3.6103995904456037,
          -4.375545944482893,
          -5.014341596615132,
          -1.5668485923413902,
          1.8125968578402658,
          -3.402343788330927,
          -0.1343961404813567,
          -0.7891839677802047,
          1.00875434141002,
          -5.222303675185284,
          3.183709304088915,
          -5.309619572714915,
          0.27671736443986095,
          -1.4165992854033178,
          1.8932524577735321,
          -3.900267697129227,
          -4.2748499248519,
          -5.1786023534431544,
          -0.1250827206878197,
          0.2398482165525455,
          -2.515062231783238,
          0.8039364776535766,
          0.5308316914220125,
          2.339300119720639,
          -4.54961909444338,
          1.7699883638708616,
          4.511989372380631,
          0.04330865077576069,
          2.365313309689063,
          -0.4201806886154988,
          3.3358216924856947,
          2.9001457612497785,
          2.3416729973018398,
          3.1285530254171747,
          -1.415121199916718,
          -5.182084478696072,
          1.4313657732346001,
          -2.906674164168623,
          2.0915376796393654,
          -1.2632480370008503,
          -5.052938413038004,
          -5.52197458429219,
          -5.582344159391939,
          -0.3941035876993264,
          -5.402727018695541,
          4.207545423307107,
          3.3524294847789515,
          -5.724419045569647,
          -4.2353653119633945,
          5.071180928432545,
          -4.929783322394794,
          0.6951465298721446,
          -4.561939927771503,
          2.3537832808338948,
          0.5472431111423711,
          -5.765994772693126,
          3.8246603512362696,
          0.22995001783080882,
          0.7177547473417065,
          4.400300991074658,
          0.2264918746680116,
          -1.6024881026726217,
          -4.722821626227401,
          -4.612277211093812,
          -4.950236952931438,
          -4.950765476227708,
          4.880700561201208,
          0.692401452446804,
          -1.776038720650036,
          1.8149886292222688,
          -4.665069490461076,
          -4.903375824766782,
          3.5121890645737084,
          -3.856457334655436,
          -3.11522081672849,
          -3.2225759184150555,
          0.750091923302083,
          2.9342787722298067,
          -2.2692466816652064,
          -0.25812717108598887,
          2.6622410629094895,
          -2.2584616997943785,
          -4.8634835900247495,
          0.7430407464279195,
          -0.6448107001703381,
          0.5335115749575505,
          -1.5316883459520474,
          -3.499017827484054,
          -3.251378316901504,
          0.050028927536522355,
          1.4365131791922283,
          2.8714024758802377,
          -5.147122434615922,
          -1.348556239456088,
          3.9156470127056373,
          -4.4620089891972095,
          4.6950767614620945,
          -1.5108255103724093,
          4.992068038013248,
          -1.4065317444927883,
          -3.9826138389948693,
          -4.248087074561131,
          5.317375570484288,
          -0.9529291115583169,
          4.9533445811812955,
          3.6439405014900808,
          -3.943115171956477,
          -4.974560291909803,
          0.8968496144318702,
          -1.715940549770096,
          5.098842580619705,
          -1.1571566263798676,
          -4.964254311092363,
          -4.453745063511259,
          -5.599903851967823,
          -5.813315937375844,
          0.48738617095119896,
          -0.5718349443254189,
          1.0119707706165888,
          1.3213559808055853,
          -0.5557206528113463,
          -0.2573741657744375,
          2.0134052005524685,
          -5.530734959698907,
          -5.926842894195562,
          -2.7461839671413624,
          -3.9677381936477487,
          -4.954776275204939,
          -3.3112147817823443,
          2.9551498751156102,
          -2.814257182205435,
          3.078775487286546,
          3.506194964131375,
          2.2552988091333126,
          2.019896794335188,
          4.202720741475909,
          0.18323541295002313,
          5.805651084770785,
          -2.4886472041294136,
          -3.36436971430995,
          4.3396707729144435,
          -4.655383233760825,
          -0.9499943175753088,
          -0.8912851611665326,
          5.243201952706365,
          -1.222011420107349,
          2.8362823735384124,
          -3.795440702008802,
          0.05883576887191507,
          1.6929703636210376,
          1.1711427712207867,
          7.357174509491355,
          0.22095730245155254,
          0.5092113802126098,
          0.5349410139755206,
          -2.818440319510738,
          -3.190750950305842,
          -4.357555391349571,
          -3.150047064790355,
          0.9409074207113898,
          -5.4435594506319775,
          -1.449619560042219,
          1.8514512377648924,
          -0.22005030015837812,
          2.7136564904415144,
          -3.163101550869408,
          -5.88244304372105,
          2.4929012857088395
         ],
         "z": [
          1.4722489690510685,
          -0.14729320172230634,
          -1.886029663001152,
          -0.7691869017971518,
          0.2536750223948029,
          -2.132377352609536,
          -1.3551188596577832,
          1.0587129189514046,
          -0.03548155081925577,
          -1.559627524604471,
          -1.6183600748734843,
          -2.9631857137032145,
          -2.1743009598672476,
          0.624091685103967,
          1.6373281129614543,
          -3.000574384325011,
          1.1357392986256478,
          0.2665079952592612,
          -2.451025979614644,
          0.8230123452412743,
          2.169597391747566,
          1.6497943084540574,
          -3.0660130043724894,
          -1.567117695065192,
          -1.4140314079030452,
          1.689120359745718,
          0.27349691513853575,
          -2.4971222939963567,
          3.8391994314452806,
          -0.2803755513594255,
          1.6260631177848004,
          -3.200789846603023,
          -0.6691597464650287,
          2.0778217045137426,
          -0.7261243403652818,
          -2.137649313339438,
          1.7847377425698059,
          -2.5825392182688978,
          -0.9424382129594164,
          -1.0526403178035604,
          1.2720202423744316,
          -1.9055769965107894,
          1.1337494964578587,
          -1.08436766553824,
          1.4714323648220333,
          -3.182560435778363,
          0.25019391258011203,
          -1.64700908953366,
          2.913755137041582,
          1.248880730290255,
          -2.307319398388402,
          -1.5601360908417448,
          1.896212386681736,
          -2.527446590298879,
          -2.1791692414246917,
          -2.570823686816544,
          -2.0857371715700044,
          3.2717332430769597,
          -1.941487419152553,
          1.4992500413820737,
          3.8840557559279283,
          1.4658536517940182,
          -2.4524644074937525,
          -3.576179811490634,
          2.5418699540754615,
          0.9458290803329059,
          -1.3216949420947168,
          -1.854273297642563,
          -1.4142104618583442,
          -2.3557706259845053,
          1.0125540922541696,
          0.7926257640187584,
          -2.890491138132134,
          -2.6399410329720108,
          1.760389532478404,
          0.2778137906036649,
          1.304191026154766,
          -2.870038642692483,
          -3.0114527670977855,
          -2.3402267199938005,
          1.1360005681292693,
          0.27181135430068054,
          2.717125602141912,
          -1.6651425933345405,
          2.147768873508347,
          1.4917421379214466,
          0.454711393525216,
          -0.005525799029030714,
          1.497192791414035,
          -0.9827284185630513,
          0.7640952959201627,
          0.0970075526897229,
          -0.8859632489511966,
          -0.45740117400404107,
          2.2986736694405567,
          -0.8289146038759126,
          -0.5120993043296731,
          5.371469242064109,
          1.2144778213854357,
          -1.8116930420095305,
          -1.0805047826952425,
          -2.82586753423578,
          -3.3542254583258404,
          4.648267211828637,
          0.7407624241240565,
          0.29083685341099363,
          -1.1503087301170398,
          3.299727324254465,
          -0.13444829363530472,
          0.9768831230539446,
          -0.9478209537444946,
          0.2653877891782863,
          -0.08735042706026855,
          1.9488011541523127,
          -0.9751269108979127,
          1.0325488668405294,
          1.5913339014959667,
          -0.20206277260718558,
          -1.968119040152484,
          2.2706930245574495,
          -1.8181566641128684,
          -0.7830085334720959,
          -1.082561872560737,
          -0.09507780657481699,
          -2.7522216881807187,
          -0.2991552025843005,
          1.0096744430860816,
          -3.9218318718000664,
          0.8401544697999083,
          -2.221706174625877,
          -1.4460643212532474,
          -1.7858077629877602,
          2.482816741381257,
          4.783185954883323,
          -3.929262883418048,
          -1.1094820203463835,
          2.904898720762067,
          -1.4160053915455209,
          0.6146676796809964,
          -1.4374916304029686,
          -0.25264909287699633,
          -1.1354238718170773,
          2.673727015195272,
          2.0659243060880037,
          -0.8771281275947738,
          -0.1552321438616499,
          -1.2614679339844643,
          -0.800045570495708,
          2.841067573977069,
          -1.1765358716119716,
          -0.5507479466639456,
          1.760803348673322,
          1.0314815411675209,
          0.7694652762986243,
          -0.35645262236616604,
          -1.2292754564385466,
          -2.0638505408895753,
          1.9976201485626253,
          -1.016438309643157,
          -1.4399228506286155,
          2.2544798805299173,
          -0.6994436230372454,
          -1.8820854028064322,
          -2.907720512805415,
          -2.2026591594374634,
          0.47363913767774285,
          2.9319662850668595,
          2.8797857121023354,
          -3.7921434233848466,
          2.8650985835074887,
          -0.5728146055552295,
          5.024654083548478,
          0.7075115948743739,
          0.37335666850448473,
          -3.0663097239807846,
          2.0130734300050155,
          -2.2886855912944712,
          -0.9376614649643327,
          0.08534521121088971,
          -0.5351605715832999,
          2.822065676748829,
          -0.3506607162430548,
          -3.1088858497944707,
          4.625723241659141,
          2.9079015316469077,
          -0.39629991955058724,
          5.408925719946299,
          -2.2507459777242245,
          1.3256131383165752,
          -0.9281503583425492,
          -1.3336831012566084,
          -2.2787424826011176,
          -0.7107810322768032,
          -2.189138197888984,
          0.9734766711860551,
          4.022594043854644,
          -2.6378925684243986,
          -1.186330388567172,
          0.2110869883832449,
          -1.059313807107077,
          -1.3563149682921396,
          -0.7101154234410799,
          -2.2497076663797895,
          -0.030614992077619203,
          0.4939442524914692,
          -0.008070919509866398,
          -0.3918209842511972,
          -0.7113438537973144,
          -0.872296025881671,
          -0.1591815693109765,
          3.4997967088972812,
          4.427354780739611,
          1.5363736157988443,
          1.5921766485320303,
          -2.4513678009773865,
          2.6581534137002323,
          0.6422305367216895,
          -1.6996304916885607,
          2.58280249796534,
          1.2692859498538187,
          0.5610956576938876,
          -0.2582078231892454,
          -1.505406749552333,
          -1.9723878394281498,
          -1.8397871820802791,
          -2.1878470108833343,
          -1.4036935342172665,
          -1.7826748536395247,
          0.4184990085592438,
          0.6543617952035158,
          3.4892701420786247,
          -1.1332836551440748,
          0.37272266719428704,
          1.4407708300306714,
          1.6792260828623067,
          -1.4555066260822713,
          2.788087800090676,
          2.6153755104048675,
          3.9686294076439443,
          -3.3266691722605874,
          -1.935642217747657,
          0.47654327433135174,
          -3.689032299423636,
          -1.8612113357809048,
          -3.325743879124766,
          1.6166023335077586,
          -0.9477854245320909,
          -0.007799972495458067,
          -0.743250001120738,
          -0.8621858826441269,
          -1.6124823015151666,
          -1.8275774673511849,
          -2.956922133376495,
          0.6966188078285374,
          -1.1631467224396355,
          -1.0983288481331959,
          -2.783077029327483,
          0.20149843800617886,
          -1.5885406135980153,
          -3.502991187537975,
          0.44578001551573293,
          -0.6187724016771614,
          -2.5054502587961887,
          -0.46421296642344473,
          2.556355326512072,
          -2.8869978573430637,
          -1.499467315791615,
          -2.6350151173003615,
          -0.4054238213073898,
          2.9613568725010797,
          2.959837913935782,
          4.181695478585798,
          -0.6570084699031019,
          -0.6819082296371625,
          -0.59443303732982,
          -2.014450083842762,
          1.824822533103904,
          1.5211001998622564,
          1.4590898710637998,
          -0.9026424991370579,
          1.3703675338850692,
          -0.3382162477727352,
          2.906252644049449,
          1.0180427835350958,
          2.698256113181084,
          -0.0802689438781839,
          2.5417976484343896,
          0.6799093670840102,
          2.819870512598156,
          -2.8172087740533818,
          -0.5895478015663905,
          2.207565453362561,
          -2.7058612319725506,
          -0.7499329317165234,
          -1.943156647298965,
          -1.7385972763504782,
          -0.5626225544674754,
          -2.8448161215677596,
          0.2961371296247579,
          0.5711265955977206,
          1.8082414935697864,
          2.067360757369058,
          2.045322842041999,
          -2.777005979429091,
          -1.7802124497048724,
          -0.2145186798019344,
          1.196534537691692,
          0.060653890889937445,
          1.5494231757760306,
          -1.8983701488948161,
          2.109713612525676,
          -2.191780615466392,
          -0.7192213900278069,
          -3.077934725673539,
          0.40813446723685776,
          -1.5488328282277637,
          -1.6996224656833239,
          1.4754435459126434,
          2.352863583268538,
          -1.1499988271871162,
          1.7605871690790795,
          -2.610534890335488,
          -1.768898241771682,
          -1.3253399821487388,
          1.7546067824542744,
          -1.0459653347220963,
          -0.43749860596643386,
          -3.3064308656827084,
          2.1686436135453957,
          -3.234182476179925,
          -2.2304151924383113,
          0.9911117668249912,
          3.045315082530992,
          -1.8934439673380354,
          3.8763652215158393,
          0.9315600423379066,
          -1.0569273319513528,
          2.8337594276493916,
          4.305248036450231,
          -0.31437767563784896,
          3.484191039824746,
          0.09198811304745705,
          -2.0130105321791456,
          1.0842079663625,
          -3.1975512153672527,
          1.7301938137846764,
          4.856307615015587,
          -2.5092942919957104,
          0.8912465181746052,
          3.1790118270658594,
          0.5906191718197689,
          1.814991533261444,
          -2.571493141672399,
          -1.165054629309858,
          1.1375760109981234,
          -0.37296190145589303,
          0.6093016719541412,
          -2.17370125737427,
          0.03954038747296278,
          3.0886172173893676,
          2.025899979031524,
          -2.5356944480296724,
          -0.9801643576757872,
          2.4869834333498106,
          -1.6161776093619242,
          1.5443752340072994,
          -0.10801421923221101,
          -3.5126340542954124,
          3.9287394585757025,
          -2.811937265778753,
          -0.5723900485332244,
          3.2534029654530814,
          -1.2363787712032732,
          0.2456220901724372,
          1.115542728484556,
          -0.15649364600235235,
          3.347834190399329,
          0.033002227264785626,
          -1.3722631846627307,
          0.3493012554251436,
          4.5664758979182345,
          -0.6302362386538033,
          2.076085929002865,
          1.2031433646379062,
          -1.1063101758798806,
          -0.43977609802815837,
          -1.1328147904447283,
          1.269196690558514,
          -0.3615266065473906,
          0.7389803092642142,
          -3.4849307870115904,
          0.875083308884698,
          -0.34578512531876116,
          2.0189561999195442,
          0.025874648663578564,
          -0.6096727034381759,
          3.1826250160638283,
          -0.06080990123913623,
          -2.8034892785703263,
          -2.042501983686066,
          -0.4457534832085095,
          2.847345415655164,
          1.9483348919256178,
          -3.491526075771734
         ]
        }
       ],
       "layout": {
        "coloraxis": {
         "colorbar": {
          "title": {
           "text": "color"
          }
         },
         "colorscale": [
          [
           0,
           "#0d0887"
          ],
          [
           0.1111111111111111,
           "#46039f"
          ],
          [
           0.2222222222222222,
           "#7201a8"
          ],
          [
           0.3333333333333333,
           "#9c179e"
          ],
          [
           0.4444444444444444,
           "#bd3786"
          ],
          [
           0.5555555555555556,
           "#d8576b"
          ],
          [
           0.6666666666666666,
           "#ed7953"
          ],
          [
           0.7777777777777778,
           "#fb9f3a"
          ],
          [
           0.8888888888888888,
           "#fdca26"
          ],
          [
           1,
           "#f0f921"
          ]
         ]
        },
        "legend": {
         "tracegroupgap": 0
        },
        "margin": {
         "t": 60
        },
        "scene": {
         "domain": {
          "x": [
           0,
           1
          ],
          "y": [
           0,
           1
          ]
         },
         "xaxis": {
          "title": {
           "text": "x"
          }
         },
         "yaxis": {
          "title": {
           "text": "y"
          }
         },
         "zaxis": {
          "title": {
           "text": "z"
          }
         }
        },
        "template": {
         "data": {
          "bar": [
           {
            "error_x": {
             "color": "#2a3f5f"
            },
            "error_y": {
             "color": "#2a3f5f"
            },
            "marker": {
             "line": {
              "color": "#E5ECF6",
              "width": 0.5
             },
             "pattern": {
              "fillmode": "overlay",
              "size": 10,
              "solidity": 0.2
             }
            },
            "type": "bar"
           }
          ],
          "barpolar": [
           {
            "marker": {
             "line": {
              "color": "#E5ECF6",
              "width": 0.5
             },
             "pattern": {
              "fillmode": "overlay",
              "size": 10,
              "solidity": 0.2
             }
            },
            "type": "barpolar"
           }
          ],
          "carpet": [
           {
            "aaxis": {
             "endlinecolor": "#2a3f5f",
             "gridcolor": "white",
             "linecolor": "white",
             "minorgridcolor": "white",
             "startlinecolor": "#2a3f5f"
            },
            "baxis": {
             "endlinecolor": "#2a3f5f",
             "gridcolor": "white",
             "linecolor": "white",
             "minorgridcolor": "white",
             "startlinecolor": "#2a3f5f"
            },
            "type": "carpet"
           }
          ],
          "choropleth": [
           {
            "colorbar": {
             "outlinewidth": 0,
             "ticks": ""
            },
            "type": "choropleth"
           }
          ],
          "contour": [
           {
            "colorbar": {
             "outlinewidth": 0,
             "ticks": ""
            },
            "colorscale": [
             [
              0,
              "#0d0887"
             ],
             [
              0.1111111111111111,
              "#46039f"
             ],
             [
              0.2222222222222222,
              "#7201a8"
             ],
             [
              0.3333333333333333,
              "#9c179e"
             ],
             [
              0.4444444444444444,
              "#bd3786"
             ],
             [
              0.5555555555555556,
              "#d8576b"
             ],
             [
              0.6666666666666666,
              "#ed7953"
             ],
             [
              0.7777777777777778,
              "#fb9f3a"
             ],
             [
              0.8888888888888888,
              "#fdca26"
             ],
             [
              1,
              "#f0f921"
             ]
            ],
            "type": "contour"
           }
          ],
          "contourcarpet": [
           {
            "colorbar": {
             "outlinewidth": 0,
             "ticks": ""
            },
            "type": "contourcarpet"
           }
          ],
          "heatmap": [
           {
            "colorbar": {
             "outlinewidth": 0,
             "ticks": ""
            },
            "colorscale": [
             [
              0,
              "#0d0887"
             ],
             [
              0.1111111111111111,
              "#46039f"
             ],
             [
              0.2222222222222222,
              "#7201a8"
             ],
             [
              0.3333333333333333,
              "#9c179e"
             ],
             [
              0.4444444444444444,
              "#bd3786"
             ],
             [
              0.5555555555555556,
              "#d8576b"
             ],
             [
              0.6666666666666666,
              "#ed7953"
             ],
             [
              0.7777777777777778,
              "#fb9f3a"
             ],
             [
              0.8888888888888888,
              "#fdca26"
             ],
             [
              1,
              "#f0f921"
             ]
            ],
            "type": "heatmap"
           }
          ],
          "heatmapgl": [
           {
            "colorbar": {
             "outlinewidth": 0,
             "ticks": ""
            },
            "colorscale": [
             [
              0,
              "#0d0887"
             ],
             [
              0.1111111111111111,
              "#46039f"
             ],
             [
              0.2222222222222222,
              "#7201a8"
             ],
             [
              0.3333333333333333,
              "#9c179e"
             ],
             [
              0.4444444444444444,
              "#bd3786"
             ],
             [
              0.5555555555555556,
              "#d8576b"
             ],
             [
              0.6666666666666666,
              "#ed7953"
             ],
             [
              0.7777777777777778,
              "#fb9f3a"
             ],
             [
              0.8888888888888888,
              "#fdca26"
             ],
             [
              1,
              "#f0f921"
             ]
            ],
            "type": "heatmapgl"
           }
          ],
          "histogram": [
           {
            "marker": {
             "pattern": {
              "fillmode": "overlay",
              "size": 10,
              "solidity": 0.2
             }
            },
            "type": "histogram"
           }
          ],
          "histogram2d": [
           {
            "colorbar": {
             "outlinewidth": 0,
             "ticks": ""
            },
            "colorscale": [
             [
              0,
              "#0d0887"
             ],
             [
              0.1111111111111111,
              "#46039f"
             ],
             [
              0.2222222222222222,
              "#7201a8"
             ],
             [
              0.3333333333333333,
              "#9c179e"
             ],
             [
              0.4444444444444444,
              "#bd3786"
             ],
             [
              0.5555555555555556,
              "#d8576b"
             ],
             [
              0.6666666666666666,
              "#ed7953"
             ],
             [
              0.7777777777777778,
              "#fb9f3a"
             ],
             [
              0.8888888888888888,
              "#fdca26"
             ],
             [
              1,
              "#f0f921"
             ]
            ],
            "type": "histogram2d"
           }
          ],
          "histogram2dcontour": [
           {
            "colorbar": {
             "outlinewidth": 0,
             "ticks": ""
            },
            "colorscale": [
             [
              0,
              "#0d0887"
             ],
             [
              0.1111111111111111,
              "#46039f"
             ],
             [
              0.2222222222222222,
              "#7201a8"
             ],
             [
              0.3333333333333333,
              "#9c179e"
             ],
             [
              0.4444444444444444,
              "#bd3786"
             ],
             [
              0.5555555555555556,
              "#d8576b"
             ],
             [
              0.6666666666666666,
              "#ed7953"
             ],
             [
              0.7777777777777778,
              "#fb9f3a"
             ],
             [
              0.8888888888888888,
              "#fdca26"
             ],
             [
              1,
              "#f0f921"
             ]
            ],
            "type": "histogram2dcontour"
           }
          ],
          "mesh3d": [
           {
            "colorbar": {
             "outlinewidth": 0,
             "ticks": ""
            },
            "type": "mesh3d"
           }
          ],
          "parcoords": [
           {
            "line": {
             "colorbar": {
              "outlinewidth": 0,
              "ticks": ""
             }
            },
            "type": "parcoords"
           }
          ],
          "pie": [
           {
            "automargin": true,
            "type": "pie"
           }
          ],
          "scatter": [
           {
            "fillpattern": {
             "fillmode": "overlay",
             "size": 10,
             "solidity": 0.2
            },
            "type": "scatter"
           }
          ],
          "scatter3d": [
           {
            "line": {
             "colorbar": {
              "outlinewidth": 0,
              "ticks": ""
             }
            },
            "marker": {
             "colorbar": {
              "outlinewidth": 0,
              "ticks": ""
             }
            },
            "type": "scatter3d"
           }
          ],
          "scattercarpet": [
           {
            "marker": {
             "colorbar": {
              "outlinewidth": 0,
              "ticks": ""
             }
            },
            "type": "scattercarpet"
           }
          ],
          "scattergeo": [
           {
            "marker": {
             "colorbar": {
              "outlinewidth": 0,
              "ticks": ""
             }
            },
            "type": "scattergeo"
           }
          ],
          "scattergl": [
           {
            "marker": {
             "colorbar": {
              "outlinewidth": 0,
              "ticks": ""
             }
            },
            "type": "scattergl"
           }
          ],
          "scattermapbox": [
           {
            "marker": {
             "colorbar": {
              "outlinewidth": 0,
              "ticks": ""
             }
            },
            "type": "scattermapbox"
           }
          ],
          "scatterpolar": [
           {
            "marker": {
             "colorbar": {
              "outlinewidth": 0,
              "ticks": ""
             }
            },
            "type": "scatterpolar"
           }
          ],
          "scatterpolargl": [
           {
            "marker": {
             "colorbar": {
              "outlinewidth": 0,
              "ticks": ""
             }
            },
            "type": "scatterpolargl"
           }
          ],
          "scatterternary": [
           {
            "marker": {
             "colorbar": {
              "outlinewidth": 0,
              "ticks": ""
             }
            },
            "type": "scatterternary"
           }
          ],
          "surface": [
           {
            "colorbar": {
             "outlinewidth": 0,
             "ticks": ""
            },
            "colorscale": [
             [
              0,
              "#0d0887"
             ],
             [
              0.1111111111111111,
              "#46039f"
             ],
             [
              0.2222222222222222,
              "#7201a8"
             ],
             [
              0.3333333333333333,
              "#9c179e"
             ],
             [
              0.4444444444444444,
              "#bd3786"
             ],
             [
              0.5555555555555556,
              "#d8576b"
             ],
             [
              0.6666666666666666,
              "#ed7953"
             ],
             [
              0.7777777777777778,
              "#fb9f3a"
             ],
             [
              0.8888888888888888,
              "#fdca26"
             ],
             [
              1,
              "#f0f921"
             ]
            ],
            "type": "surface"
           }
          ],
          "table": [
           {
            "cells": {
             "fill": {
              "color": "#EBF0F8"
             },
             "line": {
              "color": "white"
             }
            },
            "header": {
             "fill": {
              "color": "#C8D4E3"
             },
             "line": {
              "color": "white"
             }
            },
            "type": "table"
           }
          ]
         },
         "layout": {
          "annotationdefaults": {
           "arrowcolor": "#2a3f5f",
           "arrowhead": 0,
           "arrowwidth": 1
          },
          "autotypenumbers": "strict",
          "coloraxis": {
           "colorbar": {
            "outlinewidth": 0,
            "ticks": ""
           }
          },
          "colorscale": {
           "diverging": [
            [
             0,
             "#8e0152"
            ],
            [
             0.1,
             "#c51b7d"
            ],
            [
             0.2,
             "#de77ae"
            ],
            [
             0.3,
             "#f1b6da"
            ],
            [
             0.4,
             "#fde0ef"
            ],
            [
             0.5,
             "#f7f7f7"
            ],
            [
             0.6,
             "#e6f5d0"
            ],
            [
             0.7,
             "#b8e186"
            ],
            [
             0.8,
             "#7fbc41"
            ],
            [
             0.9,
             "#4d9221"
            ],
            [
             1,
             "#276419"
            ]
           ],
           "sequential": [
            [
             0,
             "#0d0887"
            ],
            [
             0.1111111111111111,
             "#46039f"
            ],
            [
             0.2222222222222222,
             "#7201a8"
            ],
            [
             0.3333333333333333,
             "#9c179e"
            ],
            [
             0.4444444444444444,
             "#bd3786"
            ],
            [
             0.5555555555555556,
             "#d8576b"
            ],
            [
             0.6666666666666666,
             "#ed7953"
            ],
            [
             0.7777777777777778,
             "#fb9f3a"
            ],
            [
             0.8888888888888888,
             "#fdca26"
            ],
            [
             1,
             "#f0f921"
            ]
           ],
           "sequentialminus": [
            [
             0,
             "#0d0887"
            ],
            [
             0.1111111111111111,
             "#46039f"
            ],
            [
             0.2222222222222222,
             "#7201a8"
            ],
            [
             0.3333333333333333,
             "#9c179e"
            ],
            [
             0.4444444444444444,
             "#bd3786"
            ],
            [
             0.5555555555555556,
             "#d8576b"
            ],
            [
             0.6666666666666666,
             "#ed7953"
            ],
            [
             0.7777777777777778,
             "#fb9f3a"
            ],
            [
             0.8888888888888888,
             "#fdca26"
            ],
            [
             1,
             "#f0f921"
            ]
           ]
          },
          "colorway": [
           "#636efa",
           "#EF553B",
           "#00cc96",
           "#ab63fa",
           "#FFA15A",
           "#19d3f3",
           "#FF6692",
           "#B6E880",
           "#FF97FF",
           "#FECB52"
          ],
          "font": {
           "color": "#2a3f5f"
          },
          "geo": {
           "bgcolor": "white",
           "lakecolor": "white",
           "landcolor": "#E5ECF6",
           "showlakes": true,
           "showland": true,
           "subunitcolor": "white"
          },
          "hoverlabel": {
           "align": "left"
          },
          "hovermode": "closest",
          "mapbox": {
           "style": "light"
          },
          "paper_bgcolor": "white",
          "plot_bgcolor": "#E5ECF6",
          "polar": {
           "angularaxis": {
            "gridcolor": "white",
            "linecolor": "white",
            "ticks": ""
           },
           "bgcolor": "#E5ECF6",
           "radialaxis": {
            "gridcolor": "white",
            "linecolor": "white",
            "ticks": ""
           }
          },
          "scene": {
           "xaxis": {
            "backgroundcolor": "#E5ECF6",
            "gridcolor": "white",
            "gridwidth": 2,
            "linecolor": "white",
            "showbackground": true,
            "ticks": "",
            "zerolinecolor": "white"
           },
           "yaxis": {
            "backgroundcolor": "#E5ECF6",
            "gridcolor": "white",
            "gridwidth": 2,
            "linecolor": "white",
            "showbackground": true,
            "ticks": "",
            "zerolinecolor": "white"
           },
           "zaxis": {
            "backgroundcolor": "#E5ECF6",
            "gridcolor": "white",
            "gridwidth": 2,
            "linecolor": "white",
            "showbackground": true,
            "ticks": "",
            "zerolinecolor": "white"
           }
          },
          "shapedefaults": {
           "line": {
            "color": "#2a3f5f"
           }
          },
          "ternary": {
           "aaxis": {
            "gridcolor": "white",
            "linecolor": "white",
            "ticks": ""
           },
           "baxis": {
            "gridcolor": "white",
            "linecolor": "white",
            "ticks": ""
           },
           "bgcolor": "#E5ECF6",
           "caxis": {
            "gridcolor": "white",
            "linecolor": "white",
            "ticks": ""
           }
          },
          "title": {
           "x": 0.05
          },
          "xaxis": {
           "automargin": true,
           "gridcolor": "white",
           "linecolor": "white",
           "ticks": "",
           "title": {
            "standoff": 15
           },
           "zerolinecolor": "white",
           "zerolinewidth": 2
          },
          "yaxis": {
           "automargin": true,
           "gridcolor": "white",
           "linecolor": "white",
           "ticks": "",
           "title": {
            "standoff": 15
           },
           "zerolinecolor": "white",
           "zerolinewidth": 2
          }
         }
        }
       }
      }
     },
     "metadata": {},
     "output_type": "display_data"
    }
   ],
   "source": [
    "px.scatter_3d(x=x_testdf.iloc[:,0],y=x_testdf.iloc[:,1],z=x_testdf.iloc[:,2], color= y_test)"
   ]
  },
  {
   "cell_type": "code",
   "execution_count": 438,
   "metadata": {},
   "outputs": [
    {
     "data": {
      "application/vnd.plotly.v1+json": {
       "config": {
        "plotlyServerURL": "https://plot.ly"
       },
       "data": [
        {
         "hovertemplate": "x=%{x}<br>y=%{y}<br>z=%{z}<br>color=%{marker.color}<extra></extra>",
         "legendgroup": "",
         "marker": {
          "color": [
           1,
           0,
           1,
           1,
           1,
           0,
           1,
           0,
           0,
           0,
           0,
           1,
           1,
           0,
           0,
           0,
           0,
           1,
           1,
           1,
           1,
           1,
           1,
           0,
           0,
           1,
           0,
           0,
           1,
           1,
           1,
           1,
           1,
           1,
           1,
           1,
           1,
           1,
           1,
           1,
           0,
           1,
           1,
           1,
           1,
           1,
           1,
           0,
           0,
           1,
           0,
           0,
           1,
           0,
           0,
           1,
           1,
           1,
           0,
           1,
           1,
           0,
           1,
           1,
           1,
           1,
           1,
           0,
           1,
           0,
           0,
           1,
           1,
           0,
           1,
           0,
           0,
           1,
           1,
           0,
           0,
           0,
           1,
           1,
           1,
           1,
           0,
           0,
           1,
           1,
           0,
           1,
           0,
           1,
           1,
           1,
           0,
           1,
           1,
           0,
           1,
           0,
           0,
           0,
           0,
           1,
           1,
           0,
           1,
           0,
           1,
           0,
           0,
           1,
           1,
           0,
           0,
           0,
           1,
           1,
           0,
           1,
           1,
           0,
           0,
           1,
           0,
           0,
           0,
           1,
           1,
           1,
           1,
           1,
           1,
           1,
           1,
           1,
           1,
           1,
           1,
           1,
           1,
           1,
           1,
           0,
           1,
           1,
           1,
           1,
           1,
           1,
           0,
           0,
           1,
           0,
           0,
           1,
           1,
           0,
           1,
           1,
           1,
           0,
           0,
           0,
           1,
           1,
           1,
           1,
           1,
           0,
           0,
           0,
           1,
           0,
           1,
           1,
           1,
           0,
           0,
           0,
           0,
           0,
           1,
           0,
           0,
           0,
           1,
           1,
           0,
           1,
           1,
           0,
           1,
           1,
           1,
           1,
           0,
           0,
           1,
           1,
           1,
           1,
           1,
           1,
           1,
           1,
           1,
           0,
           0,
           1,
           0,
           0,
           1,
           1,
           0,
           0,
           0,
           0,
           0,
           1,
           1,
           1,
           1,
           0,
           0,
           1,
           0,
           0,
           0,
           0,
           0,
           0,
           1,
           0,
           1,
           1,
           0,
           1,
           0,
           1,
           1,
           1,
           1,
           0,
           1,
           1,
           0,
           0,
           1,
           1,
           1,
           0,
           1,
           1,
           0,
           0,
           0,
           1,
           1,
           0,
           1,
           1,
           1,
           1,
           1,
           1,
           1,
           1,
           1,
           0,
           1,
           1,
           0,
           1,
           1,
           0,
           0,
           0,
           1,
           1,
           0,
           0,
           1,
           1,
           0,
           1,
           1,
           0,
           1,
           1,
           0,
           1,
           0,
           0,
           1,
           0,
           0,
           1,
           0,
           1,
           0,
           0,
           1,
           0,
           0,
           1,
           1,
           1,
           1,
           1,
           0,
           1,
           0,
           0,
           1,
           0,
           0,
           1,
           0,
           0,
           0,
           1,
           1,
           1,
           1,
           0,
           1,
           1,
           1,
           0,
           1,
           0,
           0,
           0,
           1,
           1,
           1,
           0,
           1,
           1,
           0,
           0,
           0,
           0,
           1,
           0,
           0,
           1,
           1,
           1,
           0,
           0,
           1,
           1,
           0,
           1,
           0,
           1,
           1,
           0,
           1,
           1,
           0,
           0,
           1,
           1,
           1,
           1,
           1,
           0,
           0,
           0,
           0,
           1,
           1,
           1,
           1,
           1,
           1,
           1,
           1,
           1,
           1,
           0,
           1,
           0,
           1,
           1,
           1,
           0,
           1,
           0,
           1,
           1,
           1,
           0,
           1,
           1,
           0,
           1,
           1,
           1
          ],
          "coloraxis": "coloraxis",
          "symbol": "circle"
         },
         "mode": "markers",
         "name": "",
         "scene": "scene",
         "showlegend": false,
         "type": "scatter3d",
         "x": [
          3.9656736814240294,
          -5.5517929394341605,
          6.68776086674939,
          0.5165362470470959,
          -1.5596724130535877,
          4.972550123670571,
          -6.232714128525154,
          -0.8072380215033506,
          0.9499576013169186,
          9.492600911165113,
          -2.99697496465625,
          -2.2598916225322085,
          6.809141957770477,
          -2.4008166670617874,
          -4.487778515165683,
          -3.564672164484353,
          1.821860641677875,
          2.6083563696508514,
          5.05782548925524,
          -0.9944715878838817,
          2.4044148508820733,
          4.253293958240879,
          5.694606726172606,
          -3.5077609849501292,
          1.0501808737190241,
          0.5733286535866731,
          -0.03213211722131105,
          4.2956173382052745,
          3.6520552698662416,
          2.6018644364635652,
          1.1430602469190294,
          -3.4832137709935904,
          -1.4083618091883023,
          0.8327370226067352,
          -6.572295788329131,
          -5.3080367041636665,
          8.985192617402584,
          4.255884024776311,
          4.522489502335722,
          -6.011055642065317,
          -5.440985775537714,
          7.535164303740893,
          4.50220215657965,
          -6.132016438166981,
          -3.8095696189193764,
          1.3635817836883093,
          0.4612415764085352,
          3.3619791254674776,
          0.3789815661095938,
          3.529745025522083,
          -7.135836961906808,
          -2.1062350789059145,
          0.39262244607905933,
          -3.1598988202367995,
          8.013335482773448,
          6.734525241914259,
          -0.495794456435977,
          2.312205234643183,
          -7.4453281261764745,
          7.218237132269712,
          1.5759095071683231,
          6.998315112054041,
          6.59459239132662,
          4.648736694597558,
          -4.605196460007229,
          3.892003118666156,
          1.3625955789258593,
          8.594919509308816,
          -6.849168546524536,
          -1.6474357917810714,
          -0.9856304345476442,
          4.826131273653971,
          1.4790435360659557,
          -2.393200156423395,
          5.512927013235647,
          0.7367637043070079,
          -0.8962391701277722,
          6.746584373872402,
          4.286756185780559,
          4.367115468505881,
          0.8366407392564068,
          4.769862873102657,
          -1.4907527428279432,
          -0.9178032362067795,
          7.844827108292685,
          7.284613064155981,
          8.574735639321187,
          -6.394849948073911,
          -4.4510635947819335,
          -7.256991092049106,
          1.9987134497734762,
          1.22176173419113,
          -1.6004722868585641,
          4.347408091113051,
          2.661877268423012,
          -6.284305799056836,
          3.4551110878330658,
          0.15621298784895815,
          7.075523786417844,
          -2.2138722106767763,
          1.8521053084829562,
          -2.833561850313176,
          3.759716947404285,
          -0.3360778270327388,
          -5.5855200576481145,
          2.5981175122486775,
          -6.420765287281618,
          -3.2668663712355026,
          -1.3613125490137497,
          -5.17780858168301,
          -6.137385632549194,
          0.5064480531673754,
          -2.475599382143989,
          4.369724073874692,
          -6.56987435820378,
          6.121963904529976,
          -4.392361443468309,
          1.2827956114491645,
          7.625067029219154,
          -3.827067575226624,
          8.832619152421668,
          -6.6530580507920885,
          -6.081290454260132,
          -5.341035134865796,
          -0.5320364379319211,
          0.95791838367645,
          -2.6460413429588354,
          0.6889956057103812,
          6.130486823857481,
          -7.072071547621341,
          6.9529102590635725,
          1.6802252292076802,
          1.1207167528619308,
          -2.4409959991729373,
          2.396816692227452,
          -6.1361114037571864,
          2.5871699391420213,
          4.111753264586642,
          -4.508400906816787,
          0.10658131197084697,
          5.966746971539194,
          -5.138805476153507,
          -3.7465433015758376,
          3.331217436652684,
          8.397255860519893,
          1.6761758460686598,
          -6.234484332155434,
          -3.774717092619199,
          1.9242349974476558,
          -5.7181127027562395,
          6.93703300012437,
          3.301714409969985,
          -0.3803968688782169,
          -0.4535328684081442,
          -5.070351511931833,
          -2.3201557714020327,
          -2.7721465523065265,
          3.026863406684496,
          -6.2419390968111355,
          4.442210988880567,
          2.035081948032831,
          -6.941181260441204,
          6.289671756297102,
          3.019939563501273,
          -4.306039358144579,
          5.838988530126791,
          1.091755622163547,
          4.3397973332741495,
          3.84544505452326,
          2.8190831501859854,
          -4.7018565117790505,
          -1.0075859694583051,
          -5.565002890555519,
          4.920289319911795,
          -4.268454547910402,
          5.93280437344337,
          -0.10703581049958263,
          -0.371051423033105,
          -3.5928759468623843,
          -2.2163588028516745,
          0.6274297512009724,
          -5.829331713198807,
          6.9763122153887345,
          -1.4307654809547061,
          4.058385739138683,
          2.446196208346952,
          1.014906533874973,
          -6.528149755144639,
          7.016287852645483,
          5.217959536885636,
          -7.244681823513475,
          0.6195633695270343,
          -0.5128894732754222,
          5.26427554297757,
          -5.331971062841406,
          -1.9102870631554634,
          8.951016580504318,
          -5.946639571684706,
          3.1514389040001864,
          2.7768720039595722,
          -2.6937886994819875,
          4.628424507711032,
          7.247853090759754,
          2.8003639550241135,
          -4.008432832298981,
          -4.320416961429239,
          0.12443231730286397,
          -4.77615220958908,
          -6.104081007667648,
          6.567656398354147,
          -3.9063453770278977,
          0.09170506687521629,
          -0.4162633806238166,
          -1.4719697681240553,
          0.3748487246503707,
          1.709932919433794,
          -5.6916774111767365,
          -3.2582848749239948,
          0.8614720752171414,
          0.009034731655954791,
          -0.47261341584074235,
          5.711575569427601,
          -6.299204283246334,
          -3.247867146083566,
          -5.698877572172456,
          5.198419944262178,
          -5.855686670225573,
          -6.273518520445829,
          -3.9378675317358915,
          1.9633572175069525,
          2.948661415245559,
          -6.955240739523404,
          -3.961035243372525,
          0.10809520267684454,
          2.6174340656036232,
          1.8717795032545281,
          -0.419924046988076,
          4.971544463099156,
          3.0234594226321994,
          -2.255972573177621,
          7.51846893172724,
          3.818914837888775,
          -2.894074791667501,
          -6.777107843188936,
          1.3307786928078926,
          0.19053648201613915,
          -4.551879954669742,
          -1.4961113906411745,
          -7.0551242722276335,
          2.733731966321695,
          0.09483147846507689,
          -6.0920631755459285,
          -0.4536031276069407,
          -0.9120774721145479,
          -6.590263582705573,
          -6.527641865001269,
          -7.232586091534334,
          -6.130945000391438,
          4.71361332957934,
          2.9524456587802503,
          -3.825351253353931,
          3.6490288705976752,
          6.6236384933109616,
          -5.808879969604677,
          -3.510684954026371,
          -1.0592722192059958,
          -0.605514856443636,
          6.471328085092203,
          -1.8407743070036053,
          -2.039279120262304,
          3.5744824356179947,
          3.0849961827070236,
          -4.944927961610429,
          0.7715731779380314,
          7.292964986821114,
          -0.4972080949299846,
          1.0406146778649294,
          -0.052347994317024076,
          -1.1820156321478823,
          1.6184743671939472,
          1.8472211548030828,
          2.132945277088603,
          -1.3933807259805557,
          -0.7568957080427444,
          2.1848165816499314,
          -1.3217092121579601,
          -0.961174796106354,
          7.2611933035295015,
          2.9926105937820173,
          2.5899430893936684,
          -5.304467968647458,
          1.7496991496597165,
          5.3637026518579125,
          -0.04126648023766285,
          -7.029442020212461,
          -3.022062751657181,
          6.407636332351108,
          -4.005630816167015,
          -0.42776908345153375,
          -3.5889367827761576,
          0.9250005409557759,
          -1.418592656439802,
          -4.6965375271311665,
          -1.0590650815961404,
          1.0768319806793845,
          -5.776503134316031,
          0.7802526820336079,
          -3.1085335481038383,
          -4.3385600581232735,
          -5.278893663960864,
          7.177610026236637,
          -7.848468655778474,
          4.1363633322156,
          5.504180813647925,
          5.272216564317732,
          -0.7427415956957483,
          5.413329620188677,
          5.735878043669804,
          -0.9738331486239443,
          -5.819846473166542,
          8.620839382274033,
          0.2662852064918837,
          -1.8419455789312968,
          -3.0123067877563154,
          4.045191156918947,
          -6.523399033985281,
          -5.84587634825219,
          7.070231673629358,
          1.4709433253731232,
          -4.2236491468123365,
          8.115966687122215,
          -3.63409854347924,
          -4.236966934748565,
          -7.366588298086167,
          -1.9974044075874897,
          6.791615572165819,
          -1.2862268148558826,
          2.680380665384111,
          -1.6431223207993202,
          -4.757245312836285,
          -2.419556963590488,
          -4.184075079411657,
          -4.904546531229709,
          0.47243140704558995,
          -0.5591532485828495,
          8.09664112547297,
          -0.35575474446147365,
          -1.2906821477247283,
          0.1366248526312065,
          3.317532850735335,
          -0.906303524950597,
          0.4386584728918747,
          5.129457866232684,
          3.1211584980461935,
          -5.245374000057831,
          -5.814722916332113,
          6.501390860182107,
          -2.903064961557728,
          -5.619051715243001,
          1.4493141784501071,
          0.9304532312847099,
          -7.238155425857963,
          -2.076623977205213,
          -1.069703587073906,
          -3.226362917434363,
          -4.725060183378911,
          3.0944205278531594,
          5.129687862132644,
          0.8091056844335832,
          5.365257657315671,
          -4.327315931262832,
          -3.6773590831620706,
          -6.685378963723751,
          1.8840804642622073,
          5.904578158800358,
          -1.714225900482045,
          -3.8773173655476896,
          -2.802384789258261,
          -6.713794185329019,
          -1.9295704308971409,
          -0.08948443887991292,
          -5.8694663998294265,
          -1.0912019311456314,
          3.907127017874565,
          -1.848190402098392,
          7.52643807224355,
          -5.52960071208892,
          5.514981041567128,
          -5.050907219938864,
          -2.611047588730541,
          0.6040261434088956,
          4.7627805803907926,
          2.1648553538917326,
          2.3868648664418406,
          3.056658908204565,
          -6.206312451697496,
          1.2199844466981538,
          4.77044890618325,
          4.9114247128714075,
          3.1822572870988566,
          -5.53479141528676,
          6.394935345487679,
          0.6611101820429847,
          4.905213910727297
         ],
         "y": [
          -3.3106997756454777,
          2.471565381880241,
          5.1880424422827485,
          4.917941526740074,
          -4.977259169503069,
          1.0975778198884771,
          1.218381778941,
          -4.652265685840128,
          5.1285391444151065,
          2.0195700083455663,
          -0.9810005499510017,
          -1.1858355152308848,
          2.349707160382813,
          -4.941403878400937,
          4.784438500131286,
          -1.3874846575945898,
          0.29649986044534193,
          6.252996166681427,
          3.0087357255278775,
          -5.947573129429882,
          -3.92725343126418,
          -3.028100390352521,
          2.6684401030062492,
          -3.35462503638377,
          -0.41955104033746893,
          -6.110537880867687,
          5.989937992224073,
          1.0347667519930777,
          -5.016798165026853,
          -2.998321995286056,
          -5.0773666409415945,
          -1.890103611871566,
          0.03355560254404084,
          -6.009386128782078,
          0.34771726501308875,
          -3.5300726989268134,
          -2.422583194951656,
          2.796108799079515,
          -0.07248082224916924,
          0.40885333343986646,
          2.486081634580564,
          3.3172975727831586,
          -3.013523764782179,
          -1.484820486314099,
          4.587005393981478,
          0.4996074998664628,
          6.464200994318604,
          -0.8093270426156481,
          2.242103245206156,
          -4.608201758259806,
          -2.314313152412119,
          4.1866473762084455,
          -5.853603562154204,
          -1.940557735712303,
          2.1940189927869382,
          2.7785858396044176,
          -0.9107446755559346,
          -5.438941490890076,
          -1.7692277570110921,
          -2.346607288570171,
          4.456173868424977,
          -2.1839473542505377,
          2.761327658810309,
          -1.0220627120809944,
          4.748680816511896,
          -3.7054153713517035,
          0.19462830166039893,
          2.3148396892650704,
          -1.0379387517795708,
          -0.7848553478110886,
          -5.7239937945295845,
          -3.629949304306828,
          0.264815824343349,
          0.8819908543543126,
          -3.7723992466796323,
          -3.5656122662541443,
          -5.423846824185196,
          3.0304612573877785,
          1.926803457564504,
          1.3735451550751714,
          -4.108290463164094,
          -2.2609655694296626,
          2.6155532511299158,
          -1.0074902005619206,
          -2.6777905427967714,
          -2.202464807672447,
          5.1536599688609,
          2.085048398725489,
          3.158502749655099,
          -1.522243461188681,
          -4.429805066461291,
          3.6674924851086854,
          -2.7129945495006833,
          -0.14314765144827202,
          -4.479129577500117,
          0.1018316224266826,
          5.1162660673375,
          5.496530776707181,
          -1.9699112879222171,
          -1.8092850246575762,
          0.9616860706671945,
          -2.579591661467413,
          3.5543336425255574,
          4.15618652392014,
          2.0534443440026697,
          -2.896696958042813,
          -0.25062537216289144,
          4.703060518179791,
          5.096016587466489,
          2.1189806454074884,
          1.7193390130381998,
          5.844622212327297,
          5.623636010190012,
          -3.783171641048108,
          0.02327693657825145,
          -1.136653462782048,
          2.5832896632174216,
          2.791267845714356,
          3.0142395563121704,
          4.34428039984735,
          5.807403449246256,
          0.8824078056510382,
          0.6419236285022062,
          1.8160571406490071,
          -1.8043287589952408,
          6.959240100719564,
          -4.659744999400069,
          2.2715552984797194,
          -2.671654520944972,
          -0.03473868291112731,
          1.8165242189910211,
          1.1215926046572862,
          -5.965505769811789,
          5.825084618548901,
          1.729287044152183,
          0.5419681492653129,
          -4.082535467261448,
          -0.11606180349994566,
          -1.3035816835895555,
          -1.14086902739395,
          1.1887184997295228,
          0.13712879571005251,
          4.755982038612792,
          -5.237198866899171,
          3.623625520652763,
          1.6750482045704709,
          0.31076146119252307,
          -4.2933038068092735,
          -5.671119306835711,
          1.8628845870538466,
          3.1042708345086103,
          -4.686775999678279,
          -3.9558903896063184,
          -4.374398998955724,
          3.1283277304981407,
          -2.0092043826365606,
          -3.2958054633424343,
          -4.713759573195561,
          0.903642496184067,
          0.13706544891746913,
          -5.163474027013449,
          0.3978076750664046,
          3.3256086588523273,
          1.3843177653929177,
          -3.697585294599857,
          -2.2804605122026227,
          -5.25934386338875,
          -4.457793150900905,
          2.2388479430302053,
          -4.511612697256899,
          0.24030881844892601,
          6.699994460663882,
          1.9054560933629452,
          -2.2675722813640724,
          -1.4502556817875525,
          -3.227296930857969,
          -0.5219832543498326,
          -2.9696905764509514,
          -4.451616231764638,
          -2.961216763232053,
          -4.048132587910933,
          2.9393112239880756,
          3.0046223717504907,
          7.130488057800291,
          -3.9756353050082964,
          6.121388137318441,
          2.407627840647171,
          -0.25349513670776735,
          -1.5939552865863638,
          -0.4217296413205102,
          -0.23938057508950852,
          1.0046602806012739,
          -3.034511747410599,
          3.292111485924842,
          3.519341058053292,
          6.061045201089446,
          3.4276731395623665,
          0.30931886705649136,
          5.138155180244787,
          -3.1420755509265494,
          -3.278717705581643,
          -0.6942089179369452,
          2.915163257641924,
          -3.158250024079845,
          3.792337136116686,
          4.632634016125034,
          6.25462178958167,
          3.1860039744997684,
          0.6385445654327336,
          -0.8118553429980111,
          4.998602515518412,
          4.341558608427756,
          -5.245291371445144,
          -5.124410466587167,
          0.3468972944129107,
          -3.0293954603762696,
          2.03238838833725,
          -3.3308025670108785,
          -5.22487691737636,
          -4.699955318864831,
          -4.57942865373567,
          -0.9095252130131947,
          -0.2719461578487543,
          -2.7948801605893316,
          1.0167773738842412,
          0.67142350616312,
          1.231150488757552,
          -0.13570587600073988,
          -4.180464810010613,
          -4.399580975654056,
          -5.536381900976213,
          0.20115984096827513,
          -4.256619257580074,
          -3.8976560950848014,
          -5.694550074909388,
          -1.2939792256739215,
          -3.6103995904456037,
          -4.375545944482893,
          -5.014341596615132,
          -1.5668485923413902,
          1.8125968578402658,
          -3.402343788330927,
          -0.1343961404813567,
          -0.7891839677802047,
          1.00875434141002,
          -5.222303675185284,
          3.183709304088915,
          -5.309619572714915,
          0.27671736443986095,
          -1.4165992854033178,
          1.8932524577735321,
          -3.900267697129227,
          -4.2748499248519,
          -5.1786023534431544,
          -0.1250827206878197,
          0.2398482165525455,
          -2.515062231783238,
          0.8039364776535766,
          0.5308316914220125,
          2.339300119720639,
          -4.54961909444338,
          1.7699883638708616,
          4.511989372380631,
          0.04330865077576069,
          2.365313309689063,
          -0.4201806886154988,
          3.3358216924856947,
          2.9001457612497785,
          2.3416729973018398,
          3.1285530254171747,
          -1.415121199916718,
          -5.182084478696072,
          1.4313657732346001,
          -2.906674164168623,
          2.0915376796393654,
          -1.2632480370008503,
          -5.052938413038004,
          -5.52197458429219,
          -5.582344159391939,
          -0.3941035876993264,
          -5.402727018695541,
          4.207545423307107,
          3.3524294847789515,
          -5.724419045569647,
          -4.2353653119633945,
          5.071180928432545,
          -4.929783322394794,
          0.6951465298721446,
          -4.561939927771503,
          2.3537832808338948,
          0.5472431111423711,
          -5.765994772693126,
          3.8246603512362696,
          0.22995001783080882,
          0.7177547473417065,
          4.400300991074658,
          0.2264918746680116,
          -1.6024881026726217,
          -4.722821626227401,
          -4.612277211093812,
          -4.950236952931438,
          -4.950765476227708,
          4.880700561201208,
          0.692401452446804,
          -1.776038720650036,
          1.8149886292222688,
          -4.665069490461076,
          -4.903375824766782,
          3.5121890645737084,
          -3.856457334655436,
          -3.11522081672849,
          -3.2225759184150555,
          0.750091923302083,
          2.9342787722298067,
          -2.2692466816652064,
          -0.25812717108598887,
          2.6622410629094895,
          -2.2584616997943785,
          -4.8634835900247495,
          0.7430407464279195,
          -0.6448107001703381,
          0.5335115749575505,
          -1.5316883459520474,
          -3.499017827484054,
          -3.251378316901504,
          0.050028927536522355,
          1.4365131791922283,
          2.8714024758802377,
          -5.147122434615922,
          -1.348556239456088,
          3.9156470127056373,
          -4.4620089891972095,
          4.6950767614620945,
          -1.5108255103724093,
          4.992068038013248,
          -1.4065317444927883,
          -3.9826138389948693,
          -4.248087074561131,
          5.317375570484288,
          -0.9529291115583169,
          4.9533445811812955,
          3.6439405014900808,
          -3.943115171956477,
          -4.974560291909803,
          0.8968496144318702,
          -1.715940549770096,
          5.098842580619705,
          -1.1571566263798676,
          -4.964254311092363,
          -4.453745063511259,
          -5.599903851967823,
          -5.813315937375844,
          0.48738617095119896,
          -0.5718349443254189,
          1.0119707706165888,
          1.3213559808055853,
          -0.5557206528113463,
          -0.2573741657744375,
          2.0134052005524685,
          -5.530734959698907,
          -5.926842894195562,
          -2.7461839671413624,
          -3.9677381936477487,
          -4.954776275204939,
          -3.3112147817823443,
          2.9551498751156102,
          -2.814257182205435,
          3.078775487286546,
          3.506194964131375,
          2.2552988091333126,
          2.019896794335188,
          4.202720741475909,
          0.18323541295002313,
          5.805651084770785,
          -2.4886472041294136,
          -3.36436971430995,
          4.3396707729144435,
          -4.655383233760825,
          -0.9499943175753088,
          -0.8912851611665326,
          5.243201952706365,
          -1.222011420107349,
          2.8362823735384124,
          -3.795440702008802,
          0.05883576887191507,
          1.6929703636210376,
          1.1711427712207867,
          7.357174509491355,
          0.22095730245155254,
          0.5092113802126098,
          0.5349410139755206,
          -2.818440319510738,
          -3.190750950305842,
          -4.357555391349571,
          -3.150047064790355,
          0.9409074207113898,
          -5.4435594506319775,
          -1.449619560042219,
          1.8514512377648924,
          -0.22005030015837812,
          2.7136564904415144,
          -3.163101550869408,
          -5.88244304372105,
          2.4929012857088395
         ],
         "z": [
          1.4722489690510685,
          -0.14729320172230634,
          -1.886029663001152,
          -0.7691869017971518,
          0.2536750223948029,
          -2.132377352609536,
          -1.3551188596577832,
          1.0587129189514046,
          -0.03548155081925577,
          -1.559627524604471,
          -1.6183600748734843,
          -2.9631857137032145,
          -2.1743009598672476,
          0.624091685103967,
          1.6373281129614543,
          -3.000574384325011,
          1.1357392986256478,
          0.2665079952592612,
          -2.451025979614644,
          0.8230123452412743,
          2.169597391747566,
          1.6497943084540574,
          -3.0660130043724894,
          -1.567117695065192,
          -1.4140314079030452,
          1.689120359745718,
          0.27349691513853575,
          -2.4971222939963567,
          3.8391994314452806,
          -0.2803755513594255,
          1.6260631177848004,
          -3.200789846603023,
          -0.6691597464650287,
          2.0778217045137426,
          -0.7261243403652818,
          -2.137649313339438,
          1.7847377425698059,
          -2.5825392182688978,
          -0.9424382129594164,
          -1.0526403178035604,
          1.2720202423744316,
          -1.9055769965107894,
          1.1337494964578587,
          -1.08436766553824,
          1.4714323648220333,
          -3.182560435778363,
          0.25019391258011203,
          -1.64700908953366,
          2.913755137041582,
          1.248880730290255,
          -2.307319398388402,
          -1.5601360908417448,
          1.896212386681736,
          -2.527446590298879,
          -2.1791692414246917,
          -2.570823686816544,
          -2.0857371715700044,
          3.2717332430769597,
          -1.941487419152553,
          1.4992500413820737,
          3.8840557559279283,
          1.4658536517940182,
          -2.4524644074937525,
          -3.576179811490634,
          2.5418699540754615,
          0.9458290803329059,
          -1.3216949420947168,
          -1.854273297642563,
          -1.4142104618583442,
          -2.3557706259845053,
          1.0125540922541696,
          0.7926257640187584,
          -2.890491138132134,
          -2.6399410329720108,
          1.760389532478404,
          0.2778137906036649,
          1.304191026154766,
          -2.870038642692483,
          -3.0114527670977855,
          -2.3402267199938005,
          1.1360005681292693,
          0.27181135430068054,
          2.717125602141912,
          -1.6651425933345405,
          2.147768873508347,
          1.4917421379214466,
          0.454711393525216,
          -0.005525799029030714,
          1.497192791414035,
          -0.9827284185630513,
          0.7640952959201627,
          0.0970075526897229,
          -0.8859632489511966,
          -0.45740117400404107,
          2.2986736694405567,
          -0.8289146038759126,
          -0.5120993043296731,
          5.371469242064109,
          1.2144778213854357,
          -1.8116930420095305,
          -1.0805047826952425,
          -2.82586753423578,
          -3.3542254583258404,
          4.648267211828637,
          0.7407624241240565,
          0.29083685341099363,
          -1.1503087301170398,
          3.299727324254465,
          -0.13444829363530472,
          0.9768831230539446,
          -0.9478209537444946,
          0.2653877891782863,
          -0.08735042706026855,
          1.9488011541523127,
          -0.9751269108979127,
          1.0325488668405294,
          1.5913339014959667,
          -0.20206277260718558,
          -1.968119040152484,
          2.2706930245574495,
          -1.8181566641128684,
          -0.7830085334720959,
          -1.082561872560737,
          -0.09507780657481699,
          -2.7522216881807187,
          -0.2991552025843005,
          1.0096744430860816,
          -3.9218318718000664,
          0.8401544697999083,
          -2.221706174625877,
          -1.4460643212532474,
          -1.7858077629877602,
          2.482816741381257,
          4.783185954883323,
          -3.929262883418048,
          -1.1094820203463835,
          2.904898720762067,
          -1.4160053915455209,
          0.6146676796809964,
          -1.4374916304029686,
          -0.25264909287699633,
          -1.1354238718170773,
          2.673727015195272,
          2.0659243060880037,
          -0.8771281275947738,
          -0.1552321438616499,
          -1.2614679339844643,
          -0.800045570495708,
          2.841067573977069,
          -1.1765358716119716,
          -0.5507479466639456,
          1.760803348673322,
          1.0314815411675209,
          0.7694652762986243,
          -0.35645262236616604,
          -1.2292754564385466,
          -2.0638505408895753,
          1.9976201485626253,
          -1.016438309643157,
          -1.4399228506286155,
          2.2544798805299173,
          -0.6994436230372454,
          -1.8820854028064322,
          -2.907720512805415,
          -2.2026591594374634,
          0.47363913767774285,
          2.9319662850668595,
          2.8797857121023354,
          -3.7921434233848466,
          2.8650985835074887,
          -0.5728146055552295,
          5.024654083548478,
          0.7075115948743739,
          0.37335666850448473,
          -3.0663097239807846,
          2.0130734300050155,
          -2.2886855912944712,
          -0.9376614649643327,
          0.08534521121088971,
          -0.5351605715832999,
          2.822065676748829,
          -0.3506607162430548,
          -3.1088858497944707,
          4.625723241659141,
          2.9079015316469077,
          -0.39629991955058724,
          5.408925719946299,
          -2.2507459777242245,
          1.3256131383165752,
          -0.9281503583425492,
          -1.3336831012566084,
          -2.2787424826011176,
          -0.7107810322768032,
          -2.189138197888984,
          0.9734766711860551,
          4.022594043854644,
          -2.6378925684243986,
          -1.186330388567172,
          0.2110869883832449,
          -1.059313807107077,
          -1.3563149682921396,
          -0.7101154234410799,
          -2.2497076663797895,
          -0.030614992077619203,
          0.4939442524914692,
          -0.008070919509866398,
          -0.3918209842511972,
          -0.7113438537973144,
          -0.872296025881671,
          -0.1591815693109765,
          3.4997967088972812,
          4.427354780739611,
          1.5363736157988443,
          1.5921766485320303,
          -2.4513678009773865,
          2.6581534137002323,
          0.6422305367216895,
          -1.6996304916885607,
          2.58280249796534,
          1.2692859498538187,
          0.5610956576938876,
          -0.2582078231892454,
          -1.505406749552333,
          -1.9723878394281498,
          -1.8397871820802791,
          -2.1878470108833343,
          -1.4036935342172665,
          -1.7826748536395247,
          0.4184990085592438,
          0.6543617952035158,
          3.4892701420786247,
          -1.1332836551440748,
          0.37272266719428704,
          1.4407708300306714,
          1.6792260828623067,
          -1.4555066260822713,
          2.788087800090676,
          2.6153755104048675,
          3.9686294076439443,
          -3.3266691722605874,
          -1.935642217747657,
          0.47654327433135174,
          -3.689032299423636,
          -1.8612113357809048,
          -3.325743879124766,
          1.6166023335077586,
          -0.9477854245320909,
          -0.007799972495458067,
          -0.743250001120738,
          -0.8621858826441269,
          -1.6124823015151666,
          -1.8275774673511849,
          -2.956922133376495,
          0.6966188078285374,
          -1.1631467224396355,
          -1.0983288481331959,
          -2.783077029327483,
          0.20149843800617886,
          -1.5885406135980153,
          -3.502991187537975,
          0.44578001551573293,
          -0.6187724016771614,
          -2.5054502587961887,
          -0.46421296642344473,
          2.556355326512072,
          -2.8869978573430637,
          -1.499467315791615,
          -2.6350151173003615,
          -0.4054238213073898,
          2.9613568725010797,
          2.959837913935782,
          4.181695478585798,
          -0.6570084699031019,
          -0.6819082296371625,
          -0.59443303732982,
          -2.014450083842762,
          1.824822533103904,
          1.5211001998622564,
          1.4590898710637998,
          -0.9026424991370579,
          1.3703675338850692,
          -0.3382162477727352,
          2.906252644049449,
          1.0180427835350958,
          2.698256113181084,
          -0.0802689438781839,
          2.5417976484343896,
          0.6799093670840102,
          2.819870512598156,
          -2.8172087740533818,
          -0.5895478015663905,
          2.207565453362561,
          -2.7058612319725506,
          -0.7499329317165234,
          -1.943156647298965,
          -1.7385972763504782,
          -0.5626225544674754,
          -2.8448161215677596,
          0.2961371296247579,
          0.5711265955977206,
          1.8082414935697864,
          2.067360757369058,
          2.045322842041999,
          -2.777005979429091,
          -1.7802124497048724,
          -0.2145186798019344,
          1.196534537691692,
          0.060653890889937445,
          1.5494231757760306,
          -1.8983701488948161,
          2.109713612525676,
          -2.191780615466392,
          -0.7192213900278069,
          -3.077934725673539,
          0.40813446723685776,
          -1.5488328282277637,
          -1.6996224656833239,
          1.4754435459126434,
          2.352863583268538,
          -1.1499988271871162,
          1.7605871690790795,
          -2.610534890335488,
          -1.768898241771682,
          -1.3253399821487388,
          1.7546067824542744,
          -1.0459653347220963,
          -0.43749860596643386,
          -3.3064308656827084,
          2.1686436135453957,
          -3.234182476179925,
          -2.2304151924383113,
          0.9911117668249912,
          3.045315082530992,
          -1.8934439673380354,
          3.8763652215158393,
          0.9315600423379066,
          -1.0569273319513528,
          2.8337594276493916,
          4.305248036450231,
          -0.31437767563784896,
          3.484191039824746,
          0.09198811304745705,
          -2.0130105321791456,
          1.0842079663625,
          -3.1975512153672527,
          1.7301938137846764,
          4.856307615015587,
          -2.5092942919957104,
          0.8912465181746052,
          3.1790118270658594,
          0.5906191718197689,
          1.814991533261444,
          -2.571493141672399,
          -1.165054629309858,
          1.1375760109981234,
          -0.37296190145589303,
          0.6093016719541412,
          -2.17370125737427,
          0.03954038747296278,
          3.0886172173893676,
          2.025899979031524,
          -2.5356944480296724,
          -0.9801643576757872,
          2.4869834333498106,
          -1.6161776093619242,
          1.5443752340072994,
          -0.10801421923221101,
          -3.5126340542954124,
          3.9287394585757025,
          -2.811937265778753,
          -0.5723900485332244,
          3.2534029654530814,
          -1.2363787712032732,
          0.2456220901724372,
          1.115542728484556,
          -0.15649364600235235,
          3.347834190399329,
          0.033002227264785626,
          -1.3722631846627307,
          0.3493012554251436,
          4.5664758979182345,
          -0.6302362386538033,
          2.076085929002865,
          1.2031433646379062,
          -1.1063101758798806,
          -0.43977609802815837,
          -1.1328147904447283,
          1.269196690558514,
          -0.3615266065473906,
          0.7389803092642142,
          -3.4849307870115904,
          0.875083308884698,
          -0.34578512531876116,
          2.0189561999195442,
          0.025874648663578564,
          -0.6096727034381759,
          3.1826250160638283,
          -0.06080990123913623,
          -2.8034892785703263,
          -2.042501983686066,
          -0.4457534832085095,
          2.847345415655164,
          1.9483348919256178,
          -3.491526075771734
         ]
        }
       ],
       "layout": {
        "coloraxis": {
         "colorbar": {
          "title": {
           "text": "color"
          }
         },
         "colorscale": [
          [
           0,
           "#0d0887"
          ],
          [
           0.1111111111111111,
           "#46039f"
          ],
          [
           0.2222222222222222,
           "#7201a8"
          ],
          [
           0.3333333333333333,
           "#9c179e"
          ],
          [
           0.4444444444444444,
           "#bd3786"
          ],
          [
           0.5555555555555556,
           "#d8576b"
          ],
          [
           0.6666666666666666,
           "#ed7953"
          ],
          [
           0.7777777777777778,
           "#fb9f3a"
          ],
          [
           0.8888888888888888,
           "#fdca26"
          ],
          [
           1,
           "#f0f921"
          ]
         ]
        },
        "legend": {
         "tracegroupgap": 0
        },
        "margin": {
         "t": 60
        },
        "scene": {
         "domain": {
          "x": [
           0,
           1
          ],
          "y": [
           0,
           1
          ]
         },
         "xaxis": {
          "title": {
           "text": "x"
          }
         },
         "yaxis": {
          "title": {
           "text": "y"
          }
         },
         "zaxis": {
          "title": {
           "text": "z"
          }
         }
        },
        "template": {
         "data": {
          "bar": [
           {
            "error_x": {
             "color": "#2a3f5f"
            },
            "error_y": {
             "color": "#2a3f5f"
            },
            "marker": {
             "line": {
              "color": "#E5ECF6",
              "width": 0.5
             },
             "pattern": {
              "fillmode": "overlay",
              "size": 10,
              "solidity": 0.2
             }
            },
            "type": "bar"
           }
          ],
          "barpolar": [
           {
            "marker": {
             "line": {
              "color": "#E5ECF6",
              "width": 0.5
             },
             "pattern": {
              "fillmode": "overlay",
              "size": 10,
              "solidity": 0.2
             }
            },
            "type": "barpolar"
           }
          ],
          "carpet": [
           {
            "aaxis": {
             "endlinecolor": "#2a3f5f",
             "gridcolor": "white",
             "linecolor": "white",
             "minorgridcolor": "white",
             "startlinecolor": "#2a3f5f"
            },
            "baxis": {
             "endlinecolor": "#2a3f5f",
             "gridcolor": "white",
             "linecolor": "white",
             "minorgridcolor": "white",
             "startlinecolor": "#2a3f5f"
            },
            "type": "carpet"
           }
          ],
          "choropleth": [
           {
            "colorbar": {
             "outlinewidth": 0,
             "ticks": ""
            },
            "type": "choropleth"
           }
          ],
          "contour": [
           {
            "colorbar": {
             "outlinewidth": 0,
             "ticks": ""
            },
            "colorscale": [
             [
              0,
              "#0d0887"
             ],
             [
              0.1111111111111111,
              "#46039f"
             ],
             [
              0.2222222222222222,
              "#7201a8"
             ],
             [
              0.3333333333333333,
              "#9c179e"
             ],
             [
              0.4444444444444444,
              "#bd3786"
             ],
             [
              0.5555555555555556,
              "#d8576b"
             ],
             [
              0.6666666666666666,
              "#ed7953"
             ],
             [
              0.7777777777777778,
              "#fb9f3a"
             ],
             [
              0.8888888888888888,
              "#fdca26"
             ],
             [
              1,
              "#f0f921"
             ]
            ],
            "type": "contour"
           }
          ],
          "contourcarpet": [
           {
            "colorbar": {
             "outlinewidth": 0,
             "ticks": ""
            },
            "type": "contourcarpet"
           }
          ],
          "heatmap": [
           {
            "colorbar": {
             "outlinewidth": 0,
             "ticks": ""
            },
            "colorscale": [
             [
              0,
              "#0d0887"
             ],
             [
              0.1111111111111111,
              "#46039f"
             ],
             [
              0.2222222222222222,
              "#7201a8"
             ],
             [
              0.3333333333333333,
              "#9c179e"
             ],
             [
              0.4444444444444444,
              "#bd3786"
             ],
             [
              0.5555555555555556,
              "#d8576b"
             ],
             [
              0.6666666666666666,
              "#ed7953"
             ],
             [
              0.7777777777777778,
              "#fb9f3a"
             ],
             [
              0.8888888888888888,
              "#fdca26"
             ],
             [
              1,
              "#f0f921"
             ]
            ],
            "type": "heatmap"
           }
          ],
          "heatmapgl": [
           {
            "colorbar": {
             "outlinewidth": 0,
             "ticks": ""
            },
            "colorscale": [
             [
              0,
              "#0d0887"
             ],
             [
              0.1111111111111111,
              "#46039f"
             ],
             [
              0.2222222222222222,
              "#7201a8"
             ],
             [
              0.3333333333333333,
              "#9c179e"
             ],
             [
              0.4444444444444444,
              "#bd3786"
             ],
             [
              0.5555555555555556,
              "#d8576b"
             ],
             [
              0.6666666666666666,
              "#ed7953"
             ],
             [
              0.7777777777777778,
              "#fb9f3a"
             ],
             [
              0.8888888888888888,
              "#fdca26"
             ],
             [
              1,
              "#f0f921"
             ]
            ],
            "type": "heatmapgl"
           }
          ],
          "histogram": [
           {
            "marker": {
             "pattern": {
              "fillmode": "overlay",
              "size": 10,
              "solidity": 0.2
             }
            },
            "type": "histogram"
           }
          ],
          "histogram2d": [
           {
            "colorbar": {
             "outlinewidth": 0,
             "ticks": ""
            },
            "colorscale": [
             [
              0,
              "#0d0887"
             ],
             [
              0.1111111111111111,
              "#46039f"
             ],
             [
              0.2222222222222222,
              "#7201a8"
             ],
             [
              0.3333333333333333,
              "#9c179e"
             ],
             [
              0.4444444444444444,
              "#bd3786"
             ],
             [
              0.5555555555555556,
              "#d8576b"
             ],
             [
              0.6666666666666666,
              "#ed7953"
             ],
             [
              0.7777777777777778,
              "#fb9f3a"
             ],
             [
              0.8888888888888888,
              "#fdca26"
             ],
             [
              1,
              "#f0f921"
             ]
            ],
            "type": "histogram2d"
           }
          ],
          "histogram2dcontour": [
           {
            "colorbar": {
             "outlinewidth": 0,
             "ticks": ""
            },
            "colorscale": [
             [
              0,
              "#0d0887"
             ],
             [
              0.1111111111111111,
              "#46039f"
             ],
             [
              0.2222222222222222,
              "#7201a8"
             ],
             [
              0.3333333333333333,
              "#9c179e"
             ],
             [
              0.4444444444444444,
              "#bd3786"
             ],
             [
              0.5555555555555556,
              "#d8576b"
             ],
             [
              0.6666666666666666,
              "#ed7953"
             ],
             [
              0.7777777777777778,
              "#fb9f3a"
             ],
             [
              0.8888888888888888,
              "#fdca26"
             ],
             [
              1,
              "#f0f921"
             ]
            ],
            "type": "histogram2dcontour"
           }
          ],
          "mesh3d": [
           {
            "colorbar": {
             "outlinewidth": 0,
             "ticks": ""
            },
            "type": "mesh3d"
           }
          ],
          "parcoords": [
           {
            "line": {
             "colorbar": {
              "outlinewidth": 0,
              "ticks": ""
             }
            },
            "type": "parcoords"
           }
          ],
          "pie": [
           {
            "automargin": true,
            "type": "pie"
           }
          ],
          "scatter": [
           {
            "fillpattern": {
             "fillmode": "overlay",
             "size": 10,
             "solidity": 0.2
            },
            "type": "scatter"
           }
          ],
          "scatter3d": [
           {
            "line": {
             "colorbar": {
              "outlinewidth": 0,
              "ticks": ""
             }
            },
            "marker": {
             "colorbar": {
              "outlinewidth": 0,
              "ticks": ""
             }
            },
            "type": "scatter3d"
           }
          ],
          "scattercarpet": [
           {
            "marker": {
             "colorbar": {
              "outlinewidth": 0,
              "ticks": ""
             }
            },
            "type": "scattercarpet"
           }
          ],
          "scattergeo": [
           {
            "marker": {
             "colorbar": {
              "outlinewidth": 0,
              "ticks": ""
             }
            },
            "type": "scattergeo"
           }
          ],
          "scattergl": [
           {
            "marker": {
             "colorbar": {
              "outlinewidth": 0,
              "ticks": ""
             }
            },
            "type": "scattergl"
           }
          ],
          "scattermapbox": [
           {
            "marker": {
             "colorbar": {
              "outlinewidth": 0,
              "ticks": ""
             }
            },
            "type": "scattermapbox"
           }
          ],
          "scatterpolar": [
           {
            "marker": {
             "colorbar": {
              "outlinewidth": 0,
              "ticks": ""
             }
            },
            "type": "scatterpolar"
           }
          ],
          "scatterpolargl": [
           {
            "marker": {
             "colorbar": {
              "outlinewidth": 0,
              "ticks": ""
             }
            },
            "type": "scatterpolargl"
           }
          ],
          "scatterternary": [
           {
            "marker": {
             "colorbar": {
              "outlinewidth": 0,
              "ticks": ""
             }
            },
            "type": "scatterternary"
           }
          ],
          "surface": [
           {
            "colorbar": {
             "outlinewidth": 0,
             "ticks": ""
            },
            "colorscale": [
             [
              0,
              "#0d0887"
             ],
             [
              0.1111111111111111,
              "#46039f"
             ],
             [
              0.2222222222222222,
              "#7201a8"
             ],
             [
              0.3333333333333333,
              "#9c179e"
             ],
             [
              0.4444444444444444,
              "#bd3786"
             ],
             [
              0.5555555555555556,
              "#d8576b"
             ],
             [
              0.6666666666666666,
              "#ed7953"
             ],
             [
              0.7777777777777778,
              "#fb9f3a"
             ],
             [
              0.8888888888888888,
              "#fdca26"
             ],
             [
              1,
              "#f0f921"
             ]
            ],
            "type": "surface"
           }
          ],
          "table": [
           {
            "cells": {
             "fill": {
              "color": "#EBF0F8"
             },
             "line": {
              "color": "white"
             }
            },
            "header": {
             "fill": {
              "color": "#C8D4E3"
             },
             "line": {
              "color": "white"
             }
            },
            "type": "table"
           }
          ]
         },
         "layout": {
          "annotationdefaults": {
           "arrowcolor": "#2a3f5f",
           "arrowhead": 0,
           "arrowwidth": 1
          },
          "autotypenumbers": "strict",
          "coloraxis": {
           "colorbar": {
            "outlinewidth": 0,
            "ticks": ""
           }
          },
          "colorscale": {
           "diverging": [
            [
             0,
             "#8e0152"
            ],
            [
             0.1,
             "#c51b7d"
            ],
            [
             0.2,
             "#de77ae"
            ],
            [
             0.3,
             "#f1b6da"
            ],
            [
             0.4,
             "#fde0ef"
            ],
            [
             0.5,
             "#f7f7f7"
            ],
            [
             0.6,
             "#e6f5d0"
            ],
            [
             0.7,
             "#b8e186"
            ],
            [
             0.8,
             "#7fbc41"
            ],
            [
             0.9,
             "#4d9221"
            ],
            [
             1,
             "#276419"
            ]
           ],
           "sequential": [
            [
             0,
             "#0d0887"
            ],
            [
             0.1111111111111111,
             "#46039f"
            ],
            [
             0.2222222222222222,
             "#7201a8"
            ],
            [
             0.3333333333333333,
             "#9c179e"
            ],
            [
             0.4444444444444444,
             "#bd3786"
            ],
            [
             0.5555555555555556,
             "#d8576b"
            ],
            [
             0.6666666666666666,
             "#ed7953"
            ],
            [
             0.7777777777777778,
             "#fb9f3a"
            ],
            [
             0.8888888888888888,
             "#fdca26"
            ],
            [
             1,
             "#f0f921"
            ]
           ],
           "sequentialminus": [
            [
             0,
             "#0d0887"
            ],
            [
             0.1111111111111111,
             "#46039f"
            ],
            [
             0.2222222222222222,
             "#7201a8"
            ],
            [
             0.3333333333333333,
             "#9c179e"
            ],
            [
             0.4444444444444444,
             "#bd3786"
            ],
            [
             0.5555555555555556,
             "#d8576b"
            ],
            [
             0.6666666666666666,
             "#ed7953"
            ],
            [
             0.7777777777777778,
             "#fb9f3a"
            ],
            [
             0.8888888888888888,
             "#fdca26"
            ],
            [
             1,
             "#f0f921"
            ]
           ]
          },
          "colorway": [
           "#636efa",
           "#EF553B",
           "#00cc96",
           "#ab63fa",
           "#FFA15A",
           "#19d3f3",
           "#FF6692",
           "#B6E880",
           "#FF97FF",
           "#FECB52"
          ],
          "font": {
           "color": "#2a3f5f"
          },
          "geo": {
           "bgcolor": "white",
           "lakecolor": "white",
           "landcolor": "#E5ECF6",
           "showlakes": true,
           "showland": true,
           "subunitcolor": "white"
          },
          "hoverlabel": {
           "align": "left"
          },
          "hovermode": "closest",
          "mapbox": {
           "style": "light"
          },
          "paper_bgcolor": "white",
          "plot_bgcolor": "#E5ECF6",
          "polar": {
           "angularaxis": {
            "gridcolor": "white",
            "linecolor": "white",
            "ticks": ""
           },
           "bgcolor": "#E5ECF6",
           "radialaxis": {
            "gridcolor": "white",
            "linecolor": "white",
            "ticks": ""
           }
          },
          "scene": {
           "xaxis": {
            "backgroundcolor": "#E5ECF6",
            "gridcolor": "white",
            "gridwidth": 2,
            "linecolor": "white",
            "showbackground": true,
            "ticks": "",
            "zerolinecolor": "white"
           },
           "yaxis": {
            "backgroundcolor": "#E5ECF6",
            "gridcolor": "white",
            "gridwidth": 2,
            "linecolor": "white",
            "showbackground": true,
            "ticks": "",
            "zerolinecolor": "white"
           },
           "zaxis": {
            "backgroundcolor": "#E5ECF6",
            "gridcolor": "white",
            "gridwidth": 2,
            "linecolor": "white",
            "showbackground": true,
            "ticks": "",
            "zerolinecolor": "white"
           }
          },
          "shapedefaults": {
           "line": {
            "color": "#2a3f5f"
           }
          },
          "ternary": {
           "aaxis": {
            "gridcolor": "white",
            "linecolor": "white",
            "ticks": ""
           },
           "baxis": {
            "gridcolor": "white",
            "linecolor": "white",
            "ticks": ""
           },
           "bgcolor": "#E5ECF6",
           "caxis": {
            "gridcolor": "white",
            "linecolor": "white",
            "ticks": ""
           }
          },
          "title": {
           "x": 0.05
          },
          "xaxis": {
           "automargin": true,
           "gridcolor": "white",
           "linecolor": "white",
           "ticks": "",
           "title": {
            "standoff": 15
           },
           "zerolinecolor": "white",
           "zerolinewidth": 2
          },
          "yaxis": {
           "automargin": true,
           "gridcolor": "white",
           "linecolor": "white",
           "ticks": "",
           "title": {
            "standoff": 15
           },
           "zerolinecolor": "white",
           "zerolinewidth": 2
          }
         }
        }
       }
      }
     },
     "metadata": {},
     "output_type": "display_data"
    }
   ],
   "source": [
    "px.scatter_3d(x=x_testdf.iloc[:,0],y=x_testdf.iloc[:,1],z=x_testdf.iloc[:,2], color= y_pred)"
   ]
  },
  {
   "cell_type": "code",
   "execution_count": 439,
   "metadata": {},
   "outputs": [
    {
     "name": "stdout",
     "output_type": "stream",
     "text": [
      "10\n",
      " Training QDT no : 1\n",
      "Epoch:  1 | Loss: 0.303965 |  accuracy: 0.503106 \n",
      "Epoch:  2 | Loss: 0.302989 |  accuracy: 0.496894 \n",
      "Epoch:  3 | Loss: 0.295772 |  accuracy: 0.496894 \n",
      "Epoch:  4 | Loss: 0.280570 |  accuracy: 0.559006 \n",
      "Epoch:  5 | Loss: 0.275749 |  accuracy: 0.552795 \n",
      "Epoch:  6 | Loss: 0.279402 |  accuracy: 0.577640 \n",
      "Epoch:  7 | Loss: 0.274380 |  accuracy: 0.565217 \n",
      "Epoch:  8 | Loss: 0.271646 |  accuracy: 0.602484 \n",
      "Epoch:  9 | Loss: 0.271614 |  accuracy: 0.571429 \n",
      "Epoch: 10 | Loss: 0.262110 |  accuracy: 0.608696 \n",
      " Training QDT no : 2\n",
      "Epoch:  1 | Loss: 0.293490 |  accuracy: 0.496894 \n",
      "Epoch:  2 | Loss: 0.309610 |  accuracy: 0.472050 \n",
      "Epoch:  3 | Loss: 0.290936 |  accuracy: 0.503106 \n",
      "Epoch:  4 | Loss: 0.275899 |  accuracy: 0.559006 \n",
      "Epoch:  5 | Loss: 0.263608 |  accuracy: 0.565217 \n",
      "Epoch:  6 | Loss: 0.265532 |  accuracy: 0.583851 \n",
      "Epoch:  7 | Loss: 0.260142 |  accuracy: 0.602484 \n",
      "Epoch:  8 | Loss: 0.261551 |  accuracy: 0.621118 \n",
      "Epoch:  9 | Loss: 0.260596 |  accuracy: 0.596273 \n",
      "Epoch: 10 | Loss: 0.259375 |  accuracy: 0.627329 \n",
      " Training QDT no : 3\n",
      "Epoch:  1 | Loss: 0.285570 |  accuracy: 0.559006 \n",
      "Epoch:  2 | Loss: 0.278761 |  accuracy: 0.515528 \n",
      "Epoch:  3 | Loss: 0.280093 |  accuracy: 0.490683 \n",
      "Epoch:  4 | Loss: 0.278671 |  accuracy: 0.503106 \n",
      "Epoch:  5 | Loss: 0.273923 |  accuracy: 0.540373 \n",
      "Epoch:  6 | Loss: 0.274930 |  accuracy: 0.565217 \n",
      "Epoch:  7 | Loss: 0.273196 |  accuracy: 0.546584 \n",
      "Epoch:  8 | Loss: 0.273595 |  accuracy: 0.540373 \n",
      "Epoch:  9 | Loss: 0.272845 |  accuracy: 0.540373 \n",
      "Epoch: 10 | Loss: 0.273822 |  accuracy: 0.546584 \n",
      " Training QDT no : 4\n",
      "Epoch:  1 | Loss: 0.278348 |  accuracy: 0.571429 \n",
      "Epoch:  2 | Loss: 0.272348 |  accuracy: 0.552795 \n",
      "Epoch:  3 | Loss: 0.289314 |  accuracy: 0.583851 \n",
      "Epoch:  4 | Loss: 0.262746 |  accuracy: 0.559006 \n",
      "Epoch:  5 | Loss: 0.264988 |  accuracy: 0.614907 \n",
      "Epoch:  6 | Loss: 0.261627 |  accuracy: 0.596273 \n",
      "Epoch:  7 | Loss: 0.261016 |  accuracy: 0.552795 \n",
      "Epoch:  8 | Loss: 0.258317 |  accuracy: 0.565217 \n",
      "Epoch:  9 | Loss: 0.257043 |  accuracy: 0.559006 \n",
      "Epoch: 10 | Loss: 0.256891 |  accuracy: 0.552795 \n",
      " Training QDT no : 5\n",
      "Epoch:  1 | Loss: 0.291155 |  accuracy: 0.527950 \n",
      "Epoch:  2 | Loss: 0.317573 |  accuracy: 0.546584 \n",
      "Epoch:  3 | Loss: 0.291151 |  accuracy: 0.621118 \n",
      "Epoch:  4 | Loss: 0.291218 |  accuracy: 0.565217 \n",
      "Epoch:  5 | Loss: 0.285082 |  accuracy: 0.565217 \n",
      "Epoch:  6 | Loss: 0.282529 |  accuracy: 0.608696 \n",
      "Epoch:  7 | Loss: 0.258012 |  accuracy: 0.627329 \n",
      "Epoch:  8 | Loss: 0.256299 |  accuracy: 0.583851 \n",
      "Epoch:  9 | Loss: 0.250225 |  accuracy: 0.621118 \n",
      "Epoch: 10 | Loss: 0.251492 |  accuracy: 0.608696 \n",
      " Training QDT no : 6\n",
      "Epoch:  1 | Loss: 0.266145 |  accuracy: 0.590062 \n",
      "Epoch:  2 | Loss: 0.289996 |  accuracy: 0.521739 \n",
      "Epoch:  3 | Loss: 0.244635 |  accuracy: 0.602484 \n",
      "Epoch:  4 | Loss: 0.269547 |  accuracy: 0.583851 \n",
      "Epoch:  5 | Loss: 0.246632 |  accuracy: 0.596273 \n",
      "Epoch:  6 | Loss: 0.247364 |  accuracy: 0.627329 \n",
      "Epoch:  7 | Loss: 0.241740 |  accuracy: 0.633540 \n",
      "Epoch:  8 | Loss: 0.241942 |  accuracy: 0.664596 \n",
      "Epoch:  9 | Loss: 0.239110 |  accuracy: 0.664596 \n",
      "Epoch: 10 | Loss: 0.240366 |  accuracy: 0.633540 \n",
      " Training QDT no : 7\n",
      "Epoch:  1 | Loss: 0.266300 |  accuracy: 0.552795 \n",
      "Epoch:  2 | Loss: 0.266760 |  accuracy: 0.546584 \n",
      "Epoch:  3 | Loss: 0.257377 |  accuracy: 0.565217 \n",
      "Epoch:  4 | Loss: 0.253435 |  accuracy: 0.559006 \n",
      "Epoch:  5 | Loss: 0.252473 |  accuracy: 0.608696 \n",
      "Epoch:  6 | Loss: 0.252511 |  accuracy: 0.565217 \n",
      "Epoch:  7 | Loss: 0.252259 |  accuracy: 0.565217 \n",
      "Epoch:  8 | Loss: 0.251192 |  accuracy: 0.590062 \n",
      "Epoch:  9 | Loss: 0.250920 |  accuracy: 0.565217 \n",
      "Epoch: 10 | Loss: 0.251147 |  accuracy: 0.590062 \n",
      " Training QDT no : 8\n",
      "Epoch:  1 | Loss: 0.293146 |  accuracy: 0.527950 \n",
      "Epoch:  2 | Loss: 0.256518 |  accuracy: 0.596273 \n",
      "Epoch:  3 | Loss: 0.284821 |  accuracy: 0.552795 \n",
      "Epoch:  4 | Loss: 0.257767 |  accuracy: 0.596273 \n",
      "Epoch:  5 | Loss: 0.259924 |  accuracy: 0.583851 \n",
      "Epoch:  6 | Loss: 0.257687 |  accuracy: 0.614907 \n",
      "Epoch:  7 | Loss: 0.258466 |  accuracy: 0.621118 \n",
      "Epoch:  8 | Loss: 0.255950 |  accuracy: 0.583851 \n",
      "Epoch:  9 | Loss: 0.255972 |  accuracy: 0.583851 \n",
      "Epoch: 10 | Loss: 0.256530 |  accuracy: 0.614907 \n",
      " Training QDT no : 9\n",
      "Epoch:  1 | Loss: 0.354402 |  accuracy: 0.496894 \n",
      "Epoch:  2 | Loss: 0.326510 |  accuracy: 0.496894 \n",
      "Epoch:  3 | Loss: 0.312407 |  accuracy: 0.478261 \n",
      "Epoch:  4 | Loss: 0.300569 |  accuracy: 0.521739 \n",
      "Epoch:  5 | Loss: 0.285764 |  accuracy: 0.484472 \n",
      "Epoch:  6 | Loss: 0.284362 |  accuracy: 0.546584 \n",
      "Epoch:  7 | Loss: 0.281628 |  accuracy: 0.540373 \n",
      "Epoch:  8 | Loss: 0.282673 |  accuracy: 0.565217 \n",
      "Epoch:  9 | Loss: 0.281362 |  accuracy: 0.546584 \n",
      "Epoch: 10 | Loss: 0.278962 |  accuracy: 0.546584 \n",
      " Training QDT no : 10\n",
      "Epoch:  1 | Loss: 0.283682 |  accuracy: 0.515528 \n",
      "Epoch:  2 | Loss: 0.256089 |  accuracy: 0.608696 \n",
      "Epoch:  3 | Loss: 0.262391 |  accuracy: 0.596273 \n",
      "Epoch:  4 | Loss: 0.256009 |  accuracy: 0.614907 \n",
      "Epoch:  5 | Loss: 0.261674 |  accuracy: 0.621118 \n",
      "Epoch:  6 | Loss: 0.255972 |  accuracy: 0.577640 \n",
      "Epoch:  7 | Loss: 0.255479 |  accuracy: 0.614907 \n",
      "Epoch:  8 | Loss: 0.254318 |  accuracy: 0.614907 \n",
      "Epoch:  9 | Loss: 0.255236 |  accuracy: 0.614907 \n",
      "Epoch: 10 | Loss: 0.256158 |  accuracy: 0.590062 \n",
      "[5 2 4 4 5 6 3 6 4 4 6 3 6 5 5 4 9 7 6 3 6 3 5 5 4 8 5 5 5 4 6 4 5 8 5 4 3\n",
      " 7 7 5 8 5 5 3 6 4 5 6 5 4 3 6 7 5 3 4 3 5 4 4 7 4 4 6 6 4 5 3 3 5 3 7 5 4\n",
      " 4 5 3 4 5 6 7 4 6 4 6 3 5 5 7 8 4 7 7 5 6 2 6 3 5 6 6 7 3 5 6 5 4 3 5 7 5\n",
      " 4 5 5 3 4 5 3 5 5 3 6 5 4 4 5 4 5 4 7 4 7 6 7 6 4 5 8 7 4 4 5 4 3 5 3 5 6\n",
      " 5 4 6 5 6 5 4 5 6 4 5 7 6 5 3 4 4 3 6 5 5 4 6 6 6 4 6 4 5 6 5 4 6 6 2 5 6\n",
      " 6 4 7 4 4 6 5 6 6 6 6 6 5 4 4 5 6 4 3 6 7 4 4 6 5 5 4 6 3 6 5 5 4 6 5 6 4\n",
      " 5 6 4 7 3 4 4 4 6 5 4 7 4 5 5 6 4 4 4 6 4 3 6 6 4 5 5 7 4 4 4 5 5 5 4 4 6\n",
      " 5 4 7 4 4 6 6 6 4 6 5 4 5 5 5 4 3 6 5 3 4 4 6 2 3 6 5 6 5 4 4 5 5 3 4 6 6\n",
      " 3 7 6 5 7 4 6 6 5 4 6 6 7 5 5 6 6 6 5 6 5 4 5 5 6 6 6 5 4 3 4 2 6 6 6 3 5\n",
      " 4 4 5 5 5 6 5 3 6 5 5 6 6 3 3 5 5 3 6 5 6 5 4 5 5 4 5 7 5 7 6 4 6 4 5 5 4\n",
      " 6 6 5 6 3 6 6 6 3 6 2 4 5 4 7 2 4 4 6 4 5 3 2 4 3 5 5 5 6 5 3 4 6 6]\n",
      "Recall(TP/FN+TP ):0.35071090047393366\n",
      "Precsion(TP/FP+TP): 0.5401459854014599 \n",
      "F1 score function of presscion and recall:0.4252873563218391 \n"
     ]
    },
    {
     "data": {
      "image/png": "[encoded data removed]",
      "text/plain": [
       "<Figure size 640x480 with 2 Axes>"
      ]
     },
     "metadata": {},
     "output_type": "display_data"
    }
   ],
   "source": [
    "qrf = QRF(X_train,y_train, no_QDT=10, sensetivity=0.6 ) \n",
    "\n",
    "qrf.train()\n",
    "\n",
    "y_pred,individual_y = qrf.predict(X_test, y_test)\n",
    "\n",
    "conMtx = confusion_matrix(y_test,y_pred)\n",
    "sns.heatmap(conMtx)\n",
    "f1 = f1_score(y_test,y_pred)\n",
    "recall = recall_score(y_test,y_pred)\n",
    "pre = precision_score(y_test,y_pred)\n",
    "\n",
    "print(f\"Recall(TP/FN+TP ):{recall}\")\n",
    "print(f\"Precsion(TP/FP+TP): {pre} \")\n",
    "print(f\"F1 score function of presscion and recall:{f1} \")\n",
    "\n"
   ]
  },
  {
   "cell_type": "code",
   "execution_count": 440,
   "metadata": {},
   "outputs": [
    {
     "data": {
      "application/vnd.plotly.v1+json": {
       "config": {
        "plotlyServerURL": "https://plot.ly"
       },
       "data": [
        {
         "hovertemplate": "x=%{x}<br>y=%{y}<br>z=%{z}<br>color=%{marker.color}<extra></extra>",
         "legendgroup": "",
         "marker": {
          "color": [
           0,
           0,
           0,
           0,
           0,
           1,
           0,
           1,
           0,
           0,
           1,
           0,
           1,
           0,
           0,
           0,
           1,
           1,
           1,
           0,
           1,
           0,
           0,
           0,
           0,
           1,
           0,
           0,
           0,
           0,
           1,
           0,
           0,
           1,
           0,
           0,
           0,
           1,
           1,
           0,
           1,
           0,
           0,
           0,
           1,
           0,
           0,
           1,
           0,
           0,
           0,
           1,
           1,
           0,
           0,
           0,
           0,
           0,
           0,
           0,
           1,
           0,
           0,
           1,
           1,
           0,
           0,
           0,
           0,
           0,
           0,
           1,
           0,
           0,
           0,
           0,
           0,
           0,
           0,
           1,
           1,
           0,
           1,
           0,
           1,
           0,
           0,
           0,
           1,
           1,
           0,
           1,
           1,
           0,
           1,
           0,
           1,
           0,
           0,
           1,
           1,
           1,
           0,
           0,
           1,
           0,
           0,
           0,
           0,
           1,
           0,
           0,
           0,
           0,
           0,
           0,
           0,
           0,
           0,
           0,
           0,
           1,
           0,
           0,
           0,
           0,
           0,
           0,
           0,
           1,
           0,
           1,
           1,
           1,
           1,
           0,
           0,
           1,
           1,
           0,
           0,
           0,
           0,
           0,
           0,
           0,
           0,
           1,
           0,
           0,
           1,
           0,
           1,
           0,
           0,
           0,
           1,
           0,
           0,
           1,
           1,
           0,
           0,
           0,
           0,
           0,
           1,
           0,
           0,
           0,
           1,
           1,
           1,
           0,
           1,
           0,
           0,
           1,
           0,
           0,
           1,
           1,
           0,
           0,
           1,
           1,
           0,
           1,
           0,
           0,
           1,
           0,
           1,
           1,
           1,
           1,
           1,
           0,
           0,
           0,
           0,
           1,
           0,
           0,
           1,
           1,
           0,
           0,
           1,
           0,
           0,
           0,
           1,
           0,
           1,
           0,
           0,
           0,
           1,
           0,
           1,
           0,
           0,
           1,
           0,
           1,
           0,
           0,
           0,
           0,
           1,
           0,
           0,
           1,
           0,
           0,
           0,
           1,
           0,
           0,
           0,
           1,
           0,
           0,
           1,
           1,
           0,
           0,
           0,
           1,
           0,
           0,
           0,
           0,
           0,
           0,
           0,
           0,
           1,
           0,
           0,
           1,
           0,
           0,
           1,
           1,
           1,
           0,
           1,
           0,
           0,
           0,
           0,
           0,
           0,
           0,
           1,
           0,
           0,
           0,
           0,
           1,
           0,
           0,
           1,
           0,
           1,
           0,
           0,
           0,
           0,
           0,
           0,
           0,
           1,
           1,
           0,
           1,
           1,
           0,
           1,
           0,
           1,
           1,
           0,
           0,
           1,
           1,
           1,
           0,
           0,
           1,
           1,
           1,
           0,
           1,
           0,
           0,
           0,
           0,
           1,
           1,
           1,
           0,
           0,
           0,
           0,
           0,
           1,
           1,
           1,
           0,
           0,
           0,
           0,
           0,
           0,
           0,
           1,
           0,
           0,
           1,
           0,
           0,
           1,
           1,
           0,
           0,
           0,
           0,
           0,
           1,
           0,
           1,
           0,
           0,
           0,
           0,
           0,
           0,
           1,
           0,
           1,
           1,
           0,
           1,
           0,
           0,
           0,
           0,
           1,
           1,
           0,
           1,
           0,
           1,
           1,
           1,
           0,
           1,
           0,
           0,
           0,
           0,
           1,
           0,
           0,
           0,
           1,
           0,
           0,
           0,
           0,
           0,
           0,
           0,
           0,
           0,
           1,
           0,
           0,
           0,
           1,
           1
          ],
          "coloraxis": "coloraxis",
          "symbol": "circle"
         },
         "mode": "markers",
         "name": "",
         "scene": "scene",
         "showlegend": false,
         "type": "scatter3d",
         "x": [
          3.9656736814240294,
          -5.5517929394341605,
          6.68776086674939,
          0.5165362470470959,
          -1.5596724130535877,
          4.972550123670571,
          -6.232714128525154,
          -0.8072380215033506,
          0.9499576013169186,
          9.492600911165113,
          -2.99697496465625,
          -2.2598916225322085,
          6.809141957770477,
          -2.4008166670617874,
          -4.487778515165683,
          -3.564672164484353,
          1.821860641677875,
          2.6083563696508514,
          5.05782548925524,
          -0.9944715878838817,
          2.4044148508820733,
          4.253293958240879,
          5.694606726172606,
          -3.5077609849501292,
          1.0501808737190241,
          0.5733286535866731,
          -0.03213211722131105,
          4.2956173382052745,
          3.6520552698662416,
          2.6018644364635652,
          1.1430602469190294,
          -3.4832137709935904,
          -1.4083618091883023,
          0.8327370226067352,
          -6.572295788329131,
          -5.3080367041636665,
          8.985192617402584,
          4.255884024776311,
          4.522489502335722,
          -6.011055642065317,
          -5.440985775537714,
          7.535164303740893,
          4.50220215657965,
          -6.132016438166981,
          -3.8095696189193764,
          1.3635817836883093,
          0.4612415764085352,
          3.3619791254674776,
          0.3789815661095938,
          3.529745025522083,
          -7.135836961906808,
          -2.1062350789059145,
          0.39262244607905933,
          -3.1598988202367995,
          8.013335482773448,
          6.734525241914259,
          -0.495794456435977,
          2.312205234643183,
          -7.4453281261764745,
          7.218237132269712,
          1.5759095071683231,
          6.998315112054041,
          6.59459239132662,
          4.648736694597558,
          -4.605196460007229,
          3.892003118666156,
          1.3625955789258593,
          8.594919509308816,
          -6.849168546524536,
          -1.6474357917810714,
          -0.9856304345476442,
          4.826131273653971,
          1.4790435360659557,
          -2.393200156423395,
          5.512927013235647,
          0.7367637043070079,
          -0.8962391701277722,
          6.746584373872402,
          4.286756185780559,
          4.367115468505881,
          0.8366407392564068,
          4.769862873102657,
          -1.4907527428279432,
          -0.9178032362067795,
          7.844827108292685,
          7.284613064155981,
          8.574735639321187,
          -6.394849948073911,
          -4.4510635947819335,
          -7.256991092049106,
          1.9987134497734762,
          1.22176173419113,
          -1.6004722868585641,
          4.347408091113051,
          2.661877268423012,
          -6.284305799056836,
          3.4551110878330658,
          0.15621298784895815,
          7.075523786417844,
          -2.2138722106767763,
          1.8521053084829562,
          -2.833561850313176,
          3.759716947404285,
          -0.3360778270327388,
          -5.5855200576481145,
          2.5981175122486775,
          -6.420765287281618,
          -3.2668663712355026,
          -1.3613125490137497,
          -5.17780858168301,
          -6.137385632549194,
          0.5064480531673754,
          -2.475599382143989,
          4.369724073874692,
          -6.56987435820378,
          6.121963904529976,
          -4.392361443468309,
          1.2827956114491645,
          7.625067029219154,
          -3.827067575226624,
          8.832619152421668,
          -6.6530580507920885,
          -6.081290454260132,
          -5.341035134865796,
          -0.5320364379319211,
          0.95791838367645,
          -2.6460413429588354,
          0.6889956057103812,
          6.130486823857481,
          -7.072071547621341,
          6.9529102590635725,
          1.6802252292076802,
          1.1207167528619308,
          -2.4409959991729373,
          2.396816692227452,
          -6.1361114037571864,
          2.5871699391420213,
          4.111753264586642,
          -4.508400906816787,
          0.10658131197084697,
          5.966746971539194,
          -5.138805476153507,
          -3.7465433015758376,
          3.331217436652684,
          8.397255860519893,
          1.6761758460686598,
          -6.234484332155434,
          -3.774717092619199,
          1.9242349974476558,
          -5.7181127027562395,
          6.93703300012437,
          3.301714409969985,
          -0.3803968688782169,
          -0.4535328684081442,
          -5.070351511931833,
          -2.3201557714020327,
          -2.7721465523065265,
          3.026863406684496,
          -6.2419390968111355,
          4.442210988880567,
          2.035081948032831,
          -6.941181260441204,
          6.289671756297102,
          3.019939563501273,
          -4.306039358144579,
          5.838988530126791,
          1.091755622163547,
          4.3397973332741495,
          3.84544505452326,
          2.8190831501859854,
          -4.7018565117790505,
          -1.0075859694583051,
          -5.565002890555519,
          4.920289319911795,
          -4.268454547910402,
          5.93280437344337,
          -0.10703581049958263,
          -0.371051423033105,
          -3.5928759468623843,
          -2.2163588028516745,
          0.6274297512009724,
          -5.829331713198807,
          6.9763122153887345,
          -1.4307654809547061,
          4.058385739138683,
          2.446196208346952,
          1.014906533874973,
          -6.528149755144639,
          7.016287852645483,
          5.217959536885636,
          -7.244681823513475,
          0.6195633695270343,
          -0.5128894732754222,
          5.26427554297757,
          -5.331971062841406,
          -1.9102870631554634,
          8.951016580504318,
          -5.946639571684706,
          3.1514389040001864,
          2.7768720039595722,
          -2.6937886994819875,
          4.628424507711032,
          7.247853090759754,
          2.8003639550241135,
          -4.008432832298981,
          -4.320416961429239,
          0.12443231730286397,
          -4.77615220958908,
          -6.104081007667648,
          6.567656398354147,
          -3.9063453770278977,
          0.09170506687521629,
          -0.4162633806238166,
          -1.4719697681240553,
          0.3748487246503707,
          1.709932919433794,
          -5.6916774111767365,
          -3.2582848749239948,
          0.8614720752171414,
          0.009034731655954791,
          -0.47261341584074235,
          5.711575569427601,
          -6.299204283246334,
          -3.247867146083566,
          -5.698877572172456,
          5.198419944262178,
          -5.855686670225573,
          -6.273518520445829,
          -3.9378675317358915,
          1.9633572175069525,
          2.948661415245559,
          -6.955240739523404,
          -3.961035243372525,
          0.10809520267684454,
          2.6174340656036232,
          1.8717795032545281,
          -0.419924046988076,
          4.971544463099156,
          3.0234594226321994,
          -2.255972573177621,
          7.51846893172724,
          3.818914837888775,
          -2.894074791667501,
          -6.777107843188936,
          1.3307786928078926,
          0.19053648201613915,
          -4.551879954669742,
          -1.4961113906411745,
          -7.0551242722276335,
          2.733731966321695,
          0.09483147846507689,
          -6.0920631755459285,
          -0.4536031276069407,
          -0.9120774721145479,
          -6.590263582705573,
          -6.527641865001269,
          -7.232586091534334,
          -6.130945000391438,
          4.71361332957934,
          2.9524456587802503,
          -3.825351253353931,
          3.6490288705976752,
          6.6236384933109616,
          -5.808879969604677,
          -3.510684954026371,
          -1.0592722192059958,
          -0.605514856443636,
          6.471328085092203,
          -1.8407743070036053,
          -2.039279120262304,
          3.5744824356179947,
          3.0849961827070236,
          -4.944927961610429,
          0.7715731779380314,
          7.292964986821114,
          -0.4972080949299846,
          1.0406146778649294,
          -0.052347994317024076,
          -1.1820156321478823,
          1.6184743671939472,
          1.8472211548030828,
          2.132945277088603,
          -1.3933807259805557,
          -0.7568957080427444,
          2.1848165816499314,
          -1.3217092121579601,
          -0.961174796106354,
          7.2611933035295015,
          2.9926105937820173,
          2.5899430893936684,
          -5.304467968647458,
          1.7496991496597165,
          5.3637026518579125,
          -0.04126648023766285,
          -7.029442020212461,
          -3.022062751657181,
          6.407636332351108,
          -4.005630816167015,
          -0.42776908345153375,
          -3.5889367827761576,
          0.9250005409557759,
          -1.418592656439802,
          -4.6965375271311665,
          -1.0590650815961404,
          1.0768319806793845,
          -5.776503134316031,
          0.7802526820336079,
          -3.1085335481038383,
          -4.3385600581232735,
          -5.278893663960864,
          7.177610026236637,
          -7.848468655778474,
          4.1363633322156,
          5.504180813647925,
          5.272216564317732,
          -0.7427415956957483,
          5.413329620188677,
          5.735878043669804,
          -0.9738331486239443,
          -5.819846473166542,
          8.620839382274033,
          0.2662852064918837,
          -1.8419455789312968,
          -3.0123067877563154,
          4.045191156918947,
          -6.523399033985281,
          -5.84587634825219,
          7.070231673629358,
          1.4709433253731232,
          -4.2236491468123365,
          8.115966687122215,
          -3.63409854347924,
          -4.236966934748565,
          -7.366588298086167,
          -1.9974044075874897,
          6.791615572165819,
          -1.2862268148558826,
          2.680380665384111,
          -1.6431223207993202,
          -4.757245312836285,
          -2.419556963590488,
          -4.184075079411657,
          -4.904546531229709,
          0.47243140704558995,
          -0.5591532485828495,
          8.09664112547297,
          -0.35575474446147365,
          -1.2906821477247283,
          0.1366248526312065,
          3.317532850735335,
          -0.906303524950597,
          0.4386584728918747,
          5.129457866232684,
          3.1211584980461935,
          -5.245374000057831,
          -5.814722916332113,
          6.501390860182107,
          -2.903064961557728,
          -5.619051715243001,
          1.4493141784501071,
          0.9304532312847099,
          -7.238155425857963,
          -2.076623977205213,
          -1.069703587073906,
          -3.226362917434363,
          -4.725060183378911,
          3.0944205278531594,
          5.129687862132644,
          0.8091056844335832,
          5.365257657315671,
          -4.327315931262832,
          -3.6773590831620706,
          -6.685378963723751,
          1.8840804642622073,
          5.904578158800358,
          -1.714225900482045,
          -3.8773173655476896,
          -2.802384789258261,
          -6.713794185329019,
          -1.9295704308971409,
          -0.08948443887991292,
          -5.8694663998294265,
          -1.0912019311456314,
          3.907127017874565,
          -1.848190402098392,
          7.52643807224355,
          -5.52960071208892,
          5.514981041567128,
          -5.050907219938864,
          -2.611047588730541,
          0.6040261434088956,
          4.7627805803907926,
          2.1648553538917326,
          2.3868648664418406,
          3.056658908204565,
          -6.206312451697496,
          1.2199844466981538,
          4.77044890618325,
          4.9114247128714075,
          3.1822572870988566,
          -5.53479141528676,
          6.394935345487679,
          0.6611101820429847,
          4.905213910727297
         ],
         "y": [
          -3.3106997756454777,
          2.471565381880241,
          5.1880424422827485,
          4.917941526740074,
          -4.977259169503069,
          1.0975778198884771,
          1.218381778941,
          -4.652265685840128,
          5.1285391444151065,
          2.0195700083455663,
          -0.9810005499510017,
          -1.1858355152308848,
          2.349707160382813,
          -4.941403878400937,
          4.784438500131286,
          -1.3874846575945898,
          0.29649986044534193,
          6.252996166681427,
          3.0087357255278775,
          -5.947573129429882,
          -3.92725343126418,
          -3.028100390352521,
          2.6684401030062492,
          -3.35462503638377,
          -0.41955104033746893,
          -6.110537880867687,
          5.989937992224073,
          1.0347667519930777,
          -5.016798165026853,
          -2.998321995286056,
          -5.0773666409415945,
          -1.890103611871566,
          0.03355560254404084,
          -6.009386128782078,
          0.34771726501308875,
          -3.5300726989268134,
          -2.422583194951656,
          2.796108799079515,
          -0.07248082224916924,
          0.40885333343986646,
          2.486081634580564,
          3.3172975727831586,
          -3.013523764782179,
          -1.484820486314099,
          4.587005393981478,
          0.4996074998664628,
          6.464200994318604,
          -0.8093270426156481,
          2.242103245206156,
          -4.608201758259806,
          -2.314313152412119,
          4.1866473762084455,
          -5.853603562154204,
          -1.940557735712303,
          2.1940189927869382,
          2.7785858396044176,
          -0.9107446755559346,
          -5.438941490890076,
          -1.7692277570110921,
          -2.346607288570171,
          4.456173868424977,
          -2.1839473542505377,
          2.761327658810309,
          -1.0220627120809944,
          4.748680816511896,
          -3.7054153713517035,
          0.19462830166039893,
          2.3148396892650704,
          -1.0379387517795708,
          -0.7848553478110886,
          -5.7239937945295845,
          -3.629949304306828,
          0.264815824343349,
          0.8819908543543126,
          -3.7723992466796323,
          -3.5656122662541443,
          -5.423846824185196,
          3.0304612573877785,
          1.926803457564504,
          1.3735451550751714,
          -4.108290463164094,
          -2.2609655694296626,
          2.6155532511299158,
          -1.0074902005619206,
          -2.6777905427967714,
          -2.202464807672447,
          5.1536599688609,
          2.085048398725489,
          3.158502749655099,
          -1.522243461188681,
          -4.429805066461291,
          3.6674924851086854,
          -2.7129945495006833,
          -0.14314765144827202,
          -4.479129577500117,
          0.1018316224266826,
          5.1162660673375,
          5.496530776707181,
          -1.9699112879222171,
          -1.8092850246575762,
          0.9616860706671945,
          -2.579591661467413,
          3.5543336425255574,
          4.15618652392014,
          2.0534443440026697,
          -2.896696958042813,
          -0.25062537216289144,
          4.703060518179791,
          5.096016587466489,
          2.1189806454074884,
          1.7193390130381998,
          5.844622212327297,
          5.623636010190012,
          -3.783171641048108,
          0.02327693657825145,
          -1.136653462782048,
          2.5832896632174216,
          2.791267845714356,
          3.0142395563121704,
          4.34428039984735,
          5.807403449246256,
          0.8824078056510382,
          0.6419236285022062,
          1.8160571406490071,
          -1.8043287589952408,
          6.959240100719564,
          -4.659744999400069,
          2.2715552984797194,
          -2.671654520944972,
          -0.03473868291112731,
          1.8165242189910211,
          1.1215926046572862,
          -5.965505769811789,
          5.825084618548901,
          1.729287044152183,
          0.5419681492653129,
          -4.082535467261448,
          -0.11606180349994566,
          -1.3035816835895555,
          -1.14086902739395,
          1.1887184997295228,
          0.13712879571005251,
          4.755982038612792,
          -5.237198866899171,
          3.623625520652763,
          1.6750482045704709,
          0.31076146119252307,
          -4.2933038068092735,
          -5.671119306835711,
          1.8628845870538466,
          3.1042708345086103,
          -4.686775999678279,
          -3.9558903896063184,
          -4.374398998955724,
          3.1283277304981407,
          -2.0092043826365606,
          -3.2958054633424343,
          -4.713759573195561,
          0.903642496184067,
          0.13706544891746913,
          -5.163474027013449,
          0.3978076750664046,
          3.3256086588523273,
          1.3843177653929177,
          -3.697585294599857,
          -2.2804605122026227,
          -5.25934386338875,
          -4.457793150900905,
          2.2388479430302053,
          -4.511612697256899,
          0.24030881844892601,
          6.699994460663882,
          1.9054560933629452,
          -2.2675722813640724,
          -1.4502556817875525,
          -3.227296930857969,
          -0.5219832543498326,
          -2.9696905764509514,
          -4.451616231764638,
          -2.961216763232053,
          -4.048132587910933,
          2.9393112239880756,
          3.0046223717504907,
          7.130488057800291,
          -3.9756353050082964,
          6.121388137318441,
          2.407627840647171,
          -0.25349513670776735,
          -1.5939552865863638,
          -0.4217296413205102,
          -0.23938057508950852,
          1.0046602806012739,
          -3.034511747410599,
          3.292111485924842,
          3.519341058053292,
          6.061045201089446,
          3.4276731395623665,
          0.30931886705649136,
          5.138155180244787,
          -3.1420755509265494,
          -3.278717705581643,
          -0.6942089179369452,
          2.915163257641924,
          -3.158250024079845,
          3.792337136116686,
          4.632634016125034,
          6.25462178958167,
          3.1860039744997684,
          0.6385445654327336,
          -0.8118553429980111,
          4.998602515518412,
          4.341558608427756,
          -5.245291371445144,
          -5.124410466587167,
          0.3468972944129107,
          -3.0293954603762696,
          2.03238838833725,
          -3.3308025670108785,
          -5.22487691737636,
          -4.699955318864831,
          -4.57942865373567,
          -0.9095252130131947,
          -0.2719461578487543,
          -2.7948801605893316,
          1.0167773738842412,
          0.67142350616312,
          1.231150488757552,
          -0.13570587600073988,
          -4.180464810010613,
          -4.399580975654056,
          -5.536381900976213,
          0.20115984096827513,
          -4.256619257580074,
          -3.8976560950848014,
          -5.694550074909388,
          -1.2939792256739215,
          -3.6103995904456037,
          -4.375545944482893,
          -5.014341596615132,
          -1.5668485923413902,
          1.8125968578402658,
          -3.402343788330927,
          -0.1343961404813567,
          -0.7891839677802047,
          1.00875434141002,
          -5.222303675185284,
          3.183709304088915,
          -5.309619572714915,
          0.27671736443986095,
          -1.4165992854033178,
          1.8932524577735321,
          -3.900267697129227,
          -4.2748499248519,
          -5.1786023534431544,
          -0.1250827206878197,
          0.2398482165525455,
          -2.515062231783238,
          0.8039364776535766,
          0.5308316914220125,
          2.339300119720639,
          -4.54961909444338,
          1.7699883638708616,
          4.511989372380631,
          0.04330865077576069,
          2.365313309689063,
          -0.4201806886154988,
          3.3358216924856947,
          2.9001457612497785,
          2.3416729973018398,
          3.1285530254171747,
          -1.415121199916718,
          -5.182084478696072,
          1.4313657732346001,
          -2.906674164168623,
          2.0915376796393654,
          -1.2632480370008503,
          -5.052938413038004,
          -5.52197458429219,
          -5.582344159391939,
          -0.3941035876993264,
          -5.402727018695541,
          4.207545423307107,
          3.3524294847789515,
          -5.724419045569647,
          -4.2353653119633945,
          5.071180928432545,
          -4.929783322394794,
          0.6951465298721446,
          -4.561939927771503,
          2.3537832808338948,
          0.5472431111423711,
          -5.765994772693126,
          3.8246603512362696,
          0.22995001783080882,
          0.7177547473417065,
          4.400300991074658,
          0.2264918746680116,
          -1.6024881026726217,
          -4.722821626227401,
          -4.612277211093812,
          -4.950236952931438,
          -4.950765476227708,
          4.880700561201208,
          0.692401452446804,
          -1.776038720650036,
          1.8149886292222688,
          -4.665069490461076,
          -4.903375824766782,
          3.5121890645737084,
          -3.856457334655436,
          -3.11522081672849,
          -3.2225759184150555,
          0.750091923302083,
          2.9342787722298067,
          -2.2692466816652064,
          -0.25812717108598887,
          2.6622410629094895,
          -2.2584616997943785,
          -4.8634835900247495,
          0.7430407464279195,
          -0.6448107001703381,
          0.5335115749575505,
          -1.5316883459520474,
          -3.499017827484054,
          -3.251378316901504,
          0.050028927536522355,
          1.4365131791922283,
          2.8714024758802377,
          -5.147122434615922,
          -1.348556239456088,
          3.9156470127056373,
          -4.4620089891972095,
          4.6950767614620945,
          -1.5108255103724093,
          4.992068038013248,
          -1.4065317444927883,
          -3.9826138389948693,
          -4.248087074561131,
          5.317375570484288,
          -0.9529291115583169,
          4.9533445811812955,
          3.6439405014900808,
          -3.943115171956477,
          -4.974560291909803,
          0.8968496144318702,
          -1.715940549770096,
          5.098842580619705,
          -1.1571566263798676,
          -4.964254311092363,
          -4.453745063511259,
          -5.599903851967823,
          -5.813315937375844,
          0.48738617095119896,
          -0.5718349443254189,
          1.0119707706165888,
          1.3213559808055853,
          -0.5557206528113463,
          -0.2573741657744375,
          2.0134052005524685,
          -5.530734959698907,
          -5.926842894195562,
          -2.7461839671413624,
          -3.9677381936477487,
          -4.954776275204939,
          -3.3112147817823443,
          2.9551498751156102,
          -2.814257182205435,
          3.078775487286546,
          3.506194964131375,
          2.2552988091333126,
          2.019896794335188,
          4.202720741475909,
          0.18323541295002313,
          5.805651084770785,
          -2.4886472041294136,
          -3.36436971430995,
          4.3396707729144435,
          -4.655383233760825,
          -0.9499943175753088,
          -0.8912851611665326,
          5.243201952706365,
          -1.222011420107349,
          2.8362823735384124,
          -3.795440702008802,
          0.05883576887191507,
          1.6929703636210376,
          1.1711427712207867,
          7.357174509491355,
          0.22095730245155254,
          0.5092113802126098,
          0.5349410139755206,
          -2.818440319510738,
          -3.190750950305842,
          -4.357555391349571,
          -3.150047064790355,
          0.9409074207113898,
          -5.4435594506319775,
          -1.449619560042219,
          1.8514512377648924,
          -0.22005030015837812,
          2.7136564904415144,
          -3.163101550869408,
          -5.88244304372105,
          2.4929012857088395
         ],
         "z": [
          1.4722489690510685,
          -0.14729320172230634,
          -1.886029663001152,
          -0.7691869017971518,
          0.2536750223948029,
          -2.132377352609536,
          -1.3551188596577832,
          1.0587129189514046,
          -0.03548155081925577,
          -1.559627524604471,
          -1.6183600748734843,
          -2.9631857137032145,
          -2.1743009598672476,
          0.624091685103967,
          1.6373281129614543,
          -3.000574384325011,
          1.1357392986256478,
          0.2665079952592612,
          -2.451025979614644,
          0.8230123452412743,
          2.169597391747566,
          1.6497943084540574,
          -3.0660130043724894,
          -1.567117695065192,
          -1.4140314079030452,
          1.689120359745718,
          0.27349691513853575,
          -2.4971222939963567,
          3.8391994314452806,
          -0.2803755513594255,
          1.6260631177848004,
          -3.200789846603023,
          -0.6691597464650287,
          2.0778217045137426,
          -0.7261243403652818,
          -2.137649313339438,
          1.7847377425698059,
          -2.5825392182688978,
          -0.9424382129594164,
          -1.0526403178035604,
          1.2720202423744316,
          -1.9055769965107894,
          1.1337494964578587,
          -1.08436766553824,
          1.4714323648220333,
          -3.182560435778363,
          0.25019391258011203,
          -1.64700908953366,
          2.913755137041582,
          1.248880730290255,
          -2.307319398388402,
          -1.5601360908417448,
          1.896212386681736,
          -2.527446590298879,
          -2.1791692414246917,
          -2.570823686816544,
          -2.0857371715700044,
          3.2717332430769597,
          -1.941487419152553,
          1.4992500413820737,
          3.8840557559279283,
          1.4658536517940182,
          -2.4524644074937525,
          -3.576179811490634,
          2.5418699540754615,
          0.9458290803329059,
          -1.3216949420947168,
          -1.854273297642563,
          -1.4142104618583442,
          -2.3557706259845053,
          1.0125540922541696,
          0.7926257640187584,
          -2.890491138132134,
          -2.6399410329720108,
          1.760389532478404,
          0.2778137906036649,
          1.304191026154766,
          -2.870038642692483,
          -3.0114527670977855,
          -2.3402267199938005,
          1.1360005681292693,
          0.27181135430068054,
          2.717125602141912,
          -1.6651425933345405,
          2.147768873508347,
          1.4917421379214466,
          0.454711393525216,
          -0.005525799029030714,
          1.497192791414035,
          -0.9827284185630513,
          0.7640952959201627,
          0.0970075526897229,
          -0.8859632489511966,
          -0.45740117400404107,
          2.2986736694405567,
          -0.8289146038759126,
          -0.5120993043296731,
          5.371469242064109,
          1.2144778213854357,
          -1.8116930420095305,
          -1.0805047826952425,
          -2.82586753423578,
          -3.3542254583258404,
          4.648267211828637,
          0.7407624241240565,
          0.29083685341099363,
          -1.1503087301170398,
          3.299727324254465,
          -0.13444829363530472,
          0.9768831230539446,
          -0.9478209537444946,
          0.2653877891782863,
          -0.08735042706026855,
          1.9488011541523127,
          -0.9751269108979127,
          1.0325488668405294,
          1.5913339014959667,
          -0.20206277260718558,
          -1.968119040152484,
          2.2706930245574495,
          -1.8181566641128684,
          -0.7830085334720959,
          -1.082561872560737,
          -0.09507780657481699,
          -2.7522216881807187,
          -0.2991552025843005,
          1.0096744430860816,
          -3.9218318718000664,
          0.8401544697999083,
          -2.221706174625877,
          -1.4460643212532474,
          -1.7858077629877602,
          2.482816741381257,
          4.783185954883323,
          -3.929262883418048,
          -1.1094820203463835,
          2.904898720762067,
          -1.4160053915455209,
          0.6146676796809964,
          -1.4374916304029686,
          -0.25264909287699633,
          -1.1354238718170773,
          2.673727015195272,
          2.0659243060880037,
          -0.8771281275947738,
          -0.1552321438616499,
          -1.2614679339844643,
          -0.800045570495708,
          2.841067573977069,
          -1.1765358716119716,
          -0.5507479466639456,
          1.760803348673322,
          1.0314815411675209,
          0.7694652762986243,
          -0.35645262236616604,
          -1.2292754564385466,
          -2.0638505408895753,
          1.9976201485626253,
          -1.016438309643157,
          -1.4399228506286155,
          2.2544798805299173,
          -0.6994436230372454,
          -1.8820854028064322,
          -2.907720512805415,
          -2.2026591594374634,
          0.47363913767774285,
          2.9319662850668595,
          2.8797857121023354,
          -3.7921434233848466,
          2.8650985835074887,
          -0.5728146055552295,
          5.024654083548478,
          0.7075115948743739,
          0.37335666850448473,
          -3.0663097239807846,
          2.0130734300050155,
          -2.2886855912944712,
          -0.9376614649643327,
          0.08534521121088971,
          -0.5351605715832999,
          2.822065676748829,
          -0.3506607162430548,
          -3.1088858497944707,
          4.625723241659141,
          2.9079015316469077,
          -0.39629991955058724,
          5.408925719946299,
          -2.2507459777242245,
          1.3256131383165752,
          -0.9281503583425492,
          -1.3336831012566084,
          -2.2787424826011176,
          -0.7107810322768032,
          -2.189138197888984,
          0.9734766711860551,
          4.022594043854644,
          -2.6378925684243986,
          -1.186330388567172,
          0.2110869883832449,
          -1.059313807107077,
          -1.3563149682921396,
          -0.7101154234410799,
          -2.2497076663797895,
          -0.030614992077619203,
          0.4939442524914692,
          -0.008070919509866398,
          -0.3918209842511972,
          -0.7113438537973144,
          -0.872296025881671,
          -0.1591815693109765,
          3.4997967088972812,
          4.427354780739611,
          1.5363736157988443,
          1.5921766485320303,
          -2.4513678009773865,
          2.6581534137002323,
          0.6422305367216895,
          -1.6996304916885607,
          2.58280249796534,
          1.2692859498538187,
          0.5610956576938876,
          -0.2582078231892454,
          -1.505406749552333,
          -1.9723878394281498,
          -1.8397871820802791,
          -2.1878470108833343,
          -1.4036935342172665,
          -1.7826748536395247,
          0.4184990085592438,
          0.6543617952035158,
          3.4892701420786247,
          -1.1332836551440748,
          0.37272266719428704,
          1.4407708300306714,
          1.6792260828623067,
          -1.4555066260822713,
          2.788087800090676,
          2.6153755104048675,
          3.9686294076439443,
          -3.3266691722605874,
          -1.935642217747657,
          0.47654327433135174,
          -3.689032299423636,
          -1.8612113357809048,
          -3.325743879124766,
          1.6166023335077586,
          -0.9477854245320909,
          -0.007799972495458067,
          -0.743250001120738,
          -0.8621858826441269,
          -1.6124823015151666,
          -1.8275774673511849,
          -2.956922133376495,
          0.6966188078285374,
          -1.1631467224396355,
          -1.0983288481331959,
          -2.783077029327483,
          0.20149843800617886,
          -1.5885406135980153,
          -3.502991187537975,
          0.44578001551573293,
          -0.6187724016771614,
          -2.5054502587961887,
          -0.46421296642344473,
          2.556355326512072,
          -2.8869978573430637,
          -1.499467315791615,
          -2.6350151173003615,
          -0.4054238213073898,
          2.9613568725010797,
          2.959837913935782,
          4.181695478585798,
          -0.6570084699031019,
          -0.6819082296371625,
          -0.59443303732982,
          -2.014450083842762,
          1.824822533103904,
          1.5211001998622564,
          1.4590898710637998,
          -0.9026424991370579,
          1.3703675338850692,
          -0.3382162477727352,
          2.906252644049449,
          1.0180427835350958,
          2.698256113181084,
          -0.0802689438781839,
          2.5417976484343896,
          0.6799093670840102,
          2.819870512598156,
          -2.8172087740533818,
          -0.5895478015663905,
          2.207565453362561,
          -2.7058612319725506,
          -0.7499329317165234,
          -1.943156647298965,
          -1.7385972763504782,
          -0.5626225544674754,
          -2.8448161215677596,
          0.2961371296247579,
          0.5711265955977206,
          1.8082414935697864,
          2.067360757369058,
          2.045322842041999,
          -2.777005979429091,
          -1.7802124497048724,
          -0.2145186798019344,
          1.196534537691692,
          0.060653890889937445,
          1.5494231757760306,
          -1.8983701488948161,
          2.109713612525676,
          -2.191780615466392,
          -0.7192213900278069,
          -3.077934725673539,
          0.40813446723685776,
          -1.5488328282277637,
          -1.6996224656833239,
          1.4754435459126434,
          2.352863583268538,
          -1.1499988271871162,
          1.7605871690790795,
          -2.610534890335488,
          -1.768898241771682,
          -1.3253399821487388,
          1.7546067824542744,
          -1.0459653347220963,
          -0.43749860596643386,
          -3.3064308656827084,
          2.1686436135453957,
          -3.234182476179925,
          -2.2304151924383113,
          0.9911117668249912,
          3.045315082530992,
          -1.8934439673380354,
          3.8763652215158393,
          0.9315600423379066,
          -1.0569273319513528,
          2.8337594276493916,
          4.305248036450231,
          -0.31437767563784896,
          3.484191039824746,
          0.09198811304745705,
          -2.0130105321791456,
          1.0842079663625,
          -3.1975512153672527,
          1.7301938137846764,
          4.856307615015587,
          -2.5092942919957104,
          0.8912465181746052,
          3.1790118270658594,
          0.5906191718197689,
          1.814991533261444,
          -2.571493141672399,
          -1.165054629309858,
          1.1375760109981234,
          -0.37296190145589303,
          0.6093016719541412,
          -2.17370125737427,
          0.03954038747296278,
          3.0886172173893676,
          2.025899979031524,
          -2.5356944480296724,
          -0.9801643576757872,
          2.4869834333498106,
          -1.6161776093619242,
          1.5443752340072994,
          -0.10801421923221101,
          -3.5126340542954124,
          3.9287394585757025,
          -2.811937265778753,
          -0.5723900485332244,
          3.2534029654530814,
          -1.2363787712032732,
          0.2456220901724372,
          1.115542728484556,
          -0.15649364600235235,
          3.347834190399329,
          0.033002227264785626,
          -1.3722631846627307,
          0.3493012554251436,
          4.5664758979182345,
          -0.6302362386538033,
          2.076085929002865,
          1.2031433646379062,
          -1.1063101758798806,
          -0.43977609802815837,
          -1.1328147904447283,
          1.269196690558514,
          -0.3615266065473906,
          0.7389803092642142,
          -3.4849307870115904,
          0.875083308884698,
          -0.34578512531876116,
          2.0189561999195442,
          0.025874648663578564,
          -0.6096727034381759,
          3.1826250160638283,
          -0.06080990123913623,
          -2.8034892785703263,
          -2.042501983686066,
          -0.4457534832085095,
          2.847345415655164,
          1.9483348919256178,
          -3.491526075771734
         ]
        }
       ],
       "layout": {
        "coloraxis": {
         "colorbar": {
          "title": {
           "text": "color"
          }
         },
         "colorscale": [
          [
           0,
           "#0d0887"
          ],
          [
           0.1111111111111111,
           "#46039f"
          ],
          [
           0.2222222222222222,
           "#7201a8"
          ],
          [
           0.3333333333333333,
           "#9c179e"
          ],
          [
           0.4444444444444444,
           "#bd3786"
          ],
          [
           0.5555555555555556,
           "#d8576b"
          ],
          [
           0.6666666666666666,
           "#ed7953"
          ],
          [
           0.7777777777777778,
           "#fb9f3a"
          ],
          [
           0.8888888888888888,
           "#fdca26"
          ],
          [
           1,
           "#f0f921"
          ]
         ]
        },
        "legend": {
         "tracegroupgap": 0
        },
        "margin": {
         "t": 60
        },
        "scene": {
         "domain": {
          "x": [
           0,
           1
          ],
          "y": [
           0,
           1
          ]
         },
         "xaxis": {
          "title": {
           "text": "x"
          }
         },
         "yaxis": {
          "title": {
           "text": "y"
          }
         },
         "zaxis": {
          "title": {
           "text": "z"
          }
         }
        },
        "template": {
         "data": {
          "bar": [
           {
            "error_x": {
             "color": "#2a3f5f"
            },
            "error_y": {
             "color": "#2a3f5f"
            },
            "marker": {
             "line": {
              "color": "#E5ECF6",
              "width": 0.5
             },
             "pattern": {
              "fillmode": "overlay",
              "size": 10,
              "solidity": 0.2
             }
            },
            "type": "bar"
           }
          ],
          "barpolar": [
           {
            "marker": {
             "line": {
              "color": "#E5ECF6",
              "width": 0.5
             },
             "pattern": {
              "fillmode": "overlay",
              "size": 10,
              "solidity": 0.2
             }
            },
            "type": "barpolar"
           }
          ],
          "carpet": [
           {
            "aaxis": {
             "endlinecolor": "#2a3f5f",
             "gridcolor": "white",
             "linecolor": "white",
             "minorgridcolor": "white",
             "startlinecolor": "#2a3f5f"
            },
            "baxis": {
             "endlinecolor": "#2a3f5f",
             "gridcolor": "white",
             "linecolor": "white",
             "minorgridcolor": "white",
             "startlinecolor": "#2a3f5f"
            },
            "type": "carpet"
           }
          ],
          "choropleth": [
           {
            "colorbar": {
             "outlinewidth": 0,
             "ticks": ""
            },
            "type": "choropleth"
           }
          ],
          "contour": [
           {
            "colorbar": {
             "outlinewidth": 0,
             "ticks": ""
            },
            "colorscale": [
             [
              0,
              "#0d0887"
             ],
             [
              0.1111111111111111,
              "#46039f"
             ],
             [
              0.2222222222222222,
              "#7201a8"
             ],
             [
              0.3333333333333333,
              "#9c179e"
             ],
             [
              0.4444444444444444,
              "#bd3786"
             ],
             [
              0.5555555555555556,
              "#d8576b"
             ],
             [
              0.6666666666666666,
              "#ed7953"
             ],
             [
              0.7777777777777778,
              "#fb9f3a"
             ],
             [
              0.8888888888888888,
              "#fdca26"
             ],
             [
              1,
              "#f0f921"
             ]
            ],
            "type": "contour"
           }
          ],
          "contourcarpet": [
           {
            "colorbar": {
             "outlinewidth": 0,
             "ticks": ""
            },
            "type": "contourcarpet"
           }
          ],
          "heatmap": [
           {
            "colorbar": {
             "outlinewidth": 0,
             "ticks": ""
            },
            "colorscale": [
             [
              0,
              "#0d0887"
             ],
             [
              0.1111111111111111,
              "#46039f"
             ],
             [
              0.2222222222222222,
              "#7201a8"
             ],
             [
              0.3333333333333333,
              "#9c179e"
             ],
             [
              0.4444444444444444,
              "#bd3786"
             ],
             [
              0.5555555555555556,
              "#d8576b"
             ],
             [
              0.6666666666666666,
              "#ed7953"
             ],
             [
              0.7777777777777778,
              "#fb9f3a"
             ],
             [
              0.8888888888888888,
              "#fdca26"
             ],
             [
              1,
              "#f0f921"
             ]
            ],
            "type": "heatmap"
           }
          ],
          "heatmapgl": [
           {
            "colorbar": {
             "outlinewidth": 0,
             "ticks": ""
            },
            "colorscale": [
             [
              0,
              "#0d0887"
             ],
             [
              0.1111111111111111,
              "#46039f"
             ],
             [
              0.2222222222222222,
              "#7201a8"
             ],
             [
              0.3333333333333333,
              "#9c179e"
             ],
             [
              0.4444444444444444,
              "#bd3786"
             ],
             [
              0.5555555555555556,
              "#d8576b"
             ],
             [
              0.6666666666666666,
              "#ed7953"
             ],
             [
              0.7777777777777778,
              "#fb9f3a"
             ],
             [
              0.8888888888888888,
              "#fdca26"
             ],
             [
              1,
              "#f0f921"
             ]
            ],
            "type": "heatmapgl"
           }
          ],
          "histogram": [
           {
            "marker": {
             "pattern": {
              "fillmode": "overlay",
              "size": 10,
              "solidity": 0.2
             }
            },
            "type": "histogram"
           }
          ],
          "histogram2d": [
           {
            "colorbar": {
             "outlinewidth": 0,
             "ticks": ""
            },
            "colorscale": [
             [
              0,
              "#0d0887"
             ],
             [
              0.1111111111111111,
              "#46039f"
             ],
             [
              0.2222222222222222,
              "#7201a8"
             ],
             [
              0.3333333333333333,
              "#9c179e"
             ],
             [
              0.4444444444444444,
              "#bd3786"
             ],
             [
              0.5555555555555556,
              "#d8576b"
             ],
             [
              0.6666666666666666,
              "#ed7953"
             ],
             [
              0.7777777777777778,
              "#fb9f3a"
             ],
             [
              0.8888888888888888,
              "#fdca26"
             ],
             [
              1,
              "#f0f921"
             ]
            ],
            "type": "histogram2d"
           }
          ],
          "histogram2dcontour": [
           {
            "colorbar": {
             "outlinewidth": 0,
             "ticks": ""
            },
            "colorscale": [
             [
              0,
              "#0d0887"
             ],
             [
              0.1111111111111111,
              "#46039f"
             ],
             [
              0.2222222222222222,
              "#7201a8"
             ],
             [
              0.3333333333333333,
              "#9c179e"
             ],
             [
              0.4444444444444444,
              "#bd3786"
             ],
             [
              0.5555555555555556,
              "#d8576b"
             ],
             [
              0.6666666666666666,
              "#ed7953"
             ],
             [
              0.7777777777777778,
              "#fb9f3a"
             ],
             [
              0.8888888888888888,
              "#fdca26"
             ],
             [
              1,
              "#f0f921"
             ]
            ],
            "type": "histogram2dcontour"
           }
          ],
          "mesh3d": [
           {
            "colorbar": {
             "outlinewidth": 0,
             "ticks": ""
            },
            "type": "mesh3d"
           }
          ],
          "parcoords": [
           {
            "line": {
             "colorbar": {
              "outlinewidth": 0,
              "ticks": ""
             }
            },
            "type": "parcoords"
           }
          ],
          "pie": [
           {
            "automargin": true,
            "type": "pie"
           }
          ],
          "scatter": [
           {
            "fillpattern": {
             "fillmode": "overlay",
             "size": 10,
             "solidity": 0.2
            },
            "type": "scatter"
           }
          ],
          "scatter3d": [
           {
            "line": {
             "colorbar": {
              "outlinewidth": 0,
              "ticks": ""
             }
            },
            "marker": {
             "colorbar": {
              "outlinewidth": 0,
              "ticks": ""
             }
            },
            "type": "scatter3d"
           }
          ],
          "scattercarpet": [
           {
            "marker": {
             "colorbar": {
              "outlinewidth": 0,
              "ticks": ""
             }
            },
            "type": "scattercarpet"
           }
          ],
          "scattergeo": [
           {
            "marker": {
             "colorbar": {
              "outlinewidth": 0,
              "ticks": ""
             }
            },
            "type": "scattergeo"
           }
          ],
          "scattergl": [
           {
            "marker": {
             "colorbar": {
              "outlinewidth": 0,
              "ticks": ""
             }
            },
            "type": "scattergl"
           }
          ],
          "scattermapbox": [
           {
            "marker": {
             "colorbar": {
              "outlinewidth": 0,
              "ticks": ""
             }
            },
            "type": "scattermapbox"
           }
          ],
          "scatterpolar": [
           {
            "marker": {
             "colorbar": {
              "outlinewidth": 0,
              "ticks": ""
             }
            },
            "type": "scatterpolar"
           }
          ],
          "scatterpolargl": [
           {
            "marker": {
             "colorbar": {
              "outlinewidth": 0,
              "ticks": ""
             }
            },
            "type": "scatterpolargl"
           }
          ],
          "scatterternary": [
           {
            "marker": {
             "colorbar": {
              "outlinewidth": 0,
              "ticks": ""
             }
            },
            "type": "scatterternary"
           }
          ],
          "surface": [
           {
            "colorbar": {
             "outlinewidth": 0,
             "ticks": ""
            },
            "colorscale": [
             [
              0,
              "#0d0887"
             ],
             [
              0.1111111111111111,
              "#46039f"
             ],
             [
              0.2222222222222222,
              "#7201a8"
             ],
             [
              0.3333333333333333,
              "#9c179e"
             ],
             [
              0.4444444444444444,
              "#bd3786"
             ],
             [
              0.5555555555555556,
              "#d8576b"
             ],
             [
              0.6666666666666666,
              "#ed7953"
             ],
             [
              0.7777777777777778,
              "#fb9f3a"
             ],
             [
              0.8888888888888888,
              "#fdca26"
             ],
             [
              1,
              "#f0f921"
             ]
            ],
            "type": "surface"
           }
          ],
          "table": [
           {
            "cells": {
             "fill": {
              "color": "#EBF0F8"
             },
             "line": {
              "color": "white"
             }
            },
            "header": {
             "fill": {
              "color": "#C8D4E3"
             },
             "line": {
              "color": "white"
             }
            },
            "type": "table"
           }
          ]
         },
         "layout": {
          "annotationdefaults": {
           "arrowcolor": "#2a3f5f",
           "arrowhead": 0,
           "arrowwidth": 1
          },
          "autotypenumbers": "strict",
          "coloraxis": {
           "colorbar": {
            "outlinewidth": 0,
            "ticks": ""
           }
          },
          "colorscale": {
           "diverging": [
            [
             0,
             "#8e0152"
            ],
            [
             0.1,
             "#c51b7d"
            ],
            [
             0.2,
             "#de77ae"
            ],
            [
             0.3,
             "#f1b6da"
            ],
            [
             0.4,
             "#fde0ef"
            ],
            [
             0.5,
             "#f7f7f7"
            ],
            [
             0.6,
             "#e6f5d0"
            ],
            [
             0.7,
             "#b8e186"
            ],
            [
             0.8,
             "#7fbc41"
            ],
            [
             0.9,
             "#4d9221"
            ],
            [
             1,
             "#276419"
            ]
           ],
           "sequential": [
            [
             0,
             "#0d0887"
            ],
            [
             0.1111111111111111,
             "#46039f"
            ],
            [
             0.2222222222222222,
             "#7201a8"
            ],
            [
             0.3333333333333333,
             "#9c179e"
            ],
            [
             0.4444444444444444,
             "#bd3786"
            ],
            [
             0.5555555555555556,
             "#d8576b"
            ],
            [
             0.6666666666666666,
             "#ed7953"
            ],
            [
             0.7777777777777778,
             "#fb9f3a"
            ],
            [
             0.8888888888888888,
             "#fdca26"
            ],
            [
             1,
             "#f0f921"
            ]
           ],
           "sequentialminus": [
            [
             0,
             "#0d0887"
            ],
            [
             0.1111111111111111,
             "#46039f"
            ],
            [
             0.2222222222222222,
             "#7201a8"
            ],
            [
             0.3333333333333333,
             "#9c179e"
            ],
            [
             0.4444444444444444,
             "#bd3786"
            ],
            [
             0.5555555555555556,
             "#d8576b"
            ],
            [
             0.6666666666666666,
             "#ed7953"
            ],
            [
             0.7777777777777778,
             "#fb9f3a"
            ],
            [
             0.8888888888888888,
             "#fdca26"
            ],
            [
             1,
             "#f0f921"
            ]
           ]
          },
          "colorway": [
           "#636efa",
           "#EF553B",
           "#00cc96",
           "#ab63fa",
           "#FFA15A",
           "#19d3f3",
           "#FF6692",
           "#B6E880",
           "#FF97FF",
           "#FECB52"
          ],
          "font": {
           "color": "#2a3f5f"
          },
          "geo": {
           "bgcolor": "white",
           "lakecolor": "white",
           "landcolor": "#E5ECF6",
           "showlakes": true,
           "showland": true,
           "subunitcolor": "white"
          },
          "hoverlabel": {
           "align": "left"
          },
          "hovermode": "closest",
          "mapbox": {
           "style": "light"
          },
          "paper_bgcolor": "white",
          "plot_bgcolor": "#E5ECF6",
          "polar": {
           "angularaxis": {
            "gridcolor": "white",
            "linecolor": "white",
            "ticks": ""
           },
           "bgcolor": "#E5ECF6",
           "radialaxis": {
            "gridcolor": "white",
            "linecolor": "white",
            "ticks": ""
           }
          },
          "scene": {
           "xaxis": {
            "backgroundcolor": "#E5ECF6",
            "gridcolor": "white",
            "gridwidth": 2,
            "linecolor": "white",
            "showbackground": true,
            "ticks": "",
            "zerolinecolor": "white"
           },
           "yaxis": {
            "backgroundcolor": "#E5ECF6",
            "gridcolor": "white",
            "gridwidth": 2,
            "linecolor": "white",
            "showbackground": true,
            "ticks": "",
            "zerolinecolor": "white"
           },
           "zaxis": {
            "backgroundcolor": "#E5ECF6",
            "gridcolor": "white",
            "gridwidth": 2,
            "linecolor": "white",
            "showbackground": true,
            "ticks": "",
            "zerolinecolor": "white"
           }
          },
          "shapedefaults": {
           "line": {
            "color": "#2a3f5f"
           }
          },
          "ternary": {
           "aaxis": {
            "gridcolor": "white",
            "linecolor": "white",
            "ticks": ""
           },
           "baxis": {
            "gridcolor": "white",
            "linecolor": "white",
            "ticks": ""
           },
           "bgcolor": "#E5ECF6",
           "caxis": {
            "gridcolor": "white",
            "linecolor": "white",
            "ticks": ""
           }
          },
          "title": {
           "x": 0.05
          },
          "xaxis": {
           "automargin": true,
           "gridcolor": "white",
           "linecolor": "white",
           "ticks": "",
           "title": {
            "standoff": 15
           },
           "zerolinecolor": "white",
           "zerolinewidth": 2
          },
          "yaxis": {
           "automargin": true,
           "gridcolor": "white",
           "linecolor": "white",
           "ticks": "",
           "title": {
            "standoff": 15
           },
           "zerolinecolor": "white",
           "zerolinewidth": 2
          }
         }
        }
       }
      }
     },
     "metadata": {},
     "output_type": "display_data"
    }
   ],
   "source": [
    "px.scatter_3d(x=x_testdf.iloc[:,0],y=x_testdf.iloc[:,1],z=x_testdf.iloc[:,2], color= y_pred)"
   ]
  },
  {
   "cell_type": "code",
   "execution_count": 441,
   "metadata": {},
   "outputs": [
    {
     "name": "stdout",
     "output_type": "stream",
     "text": [
      "10\n",
      " Training QDT no : 1\n",
      "Epoch:  1 | Loss: 0.323012 |  accuracy: 0.559006 \n",
      "Epoch:  2 | Loss: 0.353195 |  accuracy: 0.478261 \n",
      "Epoch:  3 | Loss: 0.294139 |  accuracy: 0.552795 \n",
      "Epoch:  4 | Loss: 0.274623 |  accuracy: 0.565217 \n",
      "Epoch:  5 | Loss: 0.248524 |  accuracy: 0.621118 \n",
      "Epoch:  6 | Loss: 0.268085 |  accuracy: 0.596273 \n",
      "Epoch:  7 | Loss: 0.254784 |  accuracy: 0.608696 \n",
      "Epoch:  8 | Loss: 0.246454 |  accuracy: 0.621118 \n",
      "Epoch:  9 | Loss: 0.230002 |  accuracy: 0.639752 \n",
      "Epoch: 10 | Loss: 0.231180 |  accuracy: 0.627329 \n",
      " Training QDT no : 2\n",
      "Epoch:  1 | Loss: 0.331723 |  accuracy: 0.527950 \n",
      "Epoch:  2 | Loss: 0.292068 |  accuracy: 0.552795 \n",
      "Epoch:  3 | Loss: 0.331267 |  accuracy: 0.465839 \n",
      "Epoch:  4 | Loss: 0.344608 |  accuracy: 0.503106 \n",
      "Epoch:  5 | Loss: 0.301650 |  accuracy: 0.590062 \n",
      "Epoch:  6 | Loss: 0.282550 |  accuracy: 0.540373 \n",
      "Epoch:  7 | Loss: 0.314943 |  accuracy: 0.534161 \n",
      "Epoch:  8 | Loss: 0.270731 |  accuracy: 0.608696 \n",
      "Epoch:  9 | Loss: 0.249314 |  accuracy: 0.677019 \n",
      "Epoch: 10 | Loss: 0.250805 |  accuracy: 0.608696 \n",
      " Training QDT no : 3\n",
      "Epoch:  1 | Loss: 0.344580 |  accuracy: 0.521739 \n",
      "Epoch:  2 | Loss: 0.311381 |  accuracy: 0.540373 \n",
      "Epoch:  3 | Loss: 0.321559 |  accuracy: 0.484472 \n",
      "Epoch:  4 | Loss: 0.308893 |  accuracy: 0.534161 \n",
      "Epoch:  5 | Loss: 0.336396 |  accuracy: 0.496894 \n",
      "Epoch:  6 | Loss: 0.297394 |  accuracy: 0.583851 \n",
      "Epoch:  7 | Loss: 0.295646 |  accuracy: 0.496894 \n",
      "Epoch:  8 | Loss: 0.264113 |  accuracy: 0.577640 \n",
      "Epoch:  9 | Loss: 0.280649 |  accuracy: 0.596273 \n",
      "Epoch: 10 | Loss: 0.258341 |  accuracy: 0.602484 \n",
      " Training QDT no : 4\n",
      "Epoch:  1 | Loss: 0.310876 |  accuracy: 0.527950 \n",
      "Epoch:  2 | Loss: 0.344973 |  accuracy: 0.465839 \n",
      "Epoch:  3 | Loss: 0.292280 |  accuracy: 0.577640 \n",
      "Epoch:  4 | Loss: 0.287062 |  accuracy: 0.608696 \n",
      "Epoch:  5 | Loss: 0.330403 |  accuracy: 0.496894 \n",
      "Epoch:  6 | Loss: 0.284681 |  accuracy: 0.534161 \n",
      "Epoch:  7 | Loss: 0.284931 |  accuracy: 0.540373 \n",
      "Epoch:  8 | Loss: 0.276775 |  accuracy: 0.583851 \n",
      "Epoch:  9 | Loss: 0.258711 |  accuracy: 0.590062 \n",
      "Epoch: 10 | Loss: 0.244706 |  accuracy: 0.633540 \n",
      " Training QDT no : 5\n",
      "Epoch:  1 | Loss: 0.353178 |  accuracy: 0.540373 \n",
      "Epoch:  2 | Loss: 0.330798 |  accuracy: 0.527950 \n",
      "Epoch:  3 | Loss: 0.302813 |  accuracy: 0.534161 \n",
      "Epoch:  4 | Loss: 0.293534 |  accuracy: 0.527950 \n",
      "Epoch:  5 | Loss: 0.272617 |  accuracy: 0.614907 \n",
      "Epoch:  6 | Loss: 0.255055 |  accuracy: 0.596273 \n",
      "Epoch:  7 | Loss: 0.248938 |  accuracy: 0.633540 \n",
      "Epoch:  8 | Loss: 0.247042 |  accuracy: 0.652174 \n",
      "Epoch:  9 | Loss: 0.231495 |  accuracy: 0.677019 \n",
      "Epoch: 10 | Loss: 0.237767 |  accuracy: 0.689441 \n",
      " Training QDT no : 6\n",
      "Epoch:  1 | Loss: 0.304374 |  accuracy: 0.540373 \n",
      "Epoch:  2 | Loss: 0.339369 |  accuracy: 0.534161 \n",
      "Epoch:  3 | Loss: 0.320475 |  accuracy: 0.478261 \n",
      "Epoch:  4 | Loss: 0.245473 |  accuracy: 0.608696 \n",
      "Epoch:  5 | Loss: 0.263559 |  accuracy: 0.608696 \n",
      "Epoch:  6 | Loss: 0.275800 |  accuracy: 0.565217 \n",
      "Epoch:  7 | Loss: 0.250200 |  accuracy: 0.602484 \n",
      "Epoch:  8 | Loss: 0.231974 |  accuracy: 0.614907 \n",
      "Epoch:  9 | Loss: 0.233212 |  accuracy: 0.621118 \n",
      "Epoch: 10 | Loss: 0.233841 |  accuracy: 0.695652 \n",
      " Training QDT no : 7\n",
      "Epoch:  1 | Loss: 0.299886 |  accuracy: 0.540373 \n",
      "Epoch:  2 | Loss: 0.322939 |  accuracy: 0.503106 \n",
      "Epoch:  3 | Loss: 0.313315 |  accuracy: 0.527950 \n",
      "Epoch:  4 | Loss: 0.281380 |  accuracy: 0.614907 \n",
      "Epoch:  5 | Loss: 0.319591 |  accuracy: 0.527950 \n",
      "Epoch:  6 | Loss: 0.251430 |  accuracy: 0.602484 \n",
      "Epoch:  7 | Loss: 0.270567 |  accuracy: 0.571429 \n",
      "Epoch:  8 | Loss: 0.259407 |  accuracy: 0.608696 \n",
      "Epoch:  9 | Loss: 0.242689 |  accuracy: 0.621118 \n",
      "Epoch: 10 | Loss: 0.240144 |  accuracy: 0.652174 \n",
      " Training QDT no : 8\n",
      "Epoch:  1 | Loss: 0.310439 |  accuracy: 0.546584 \n",
      "Epoch:  2 | Loss: 0.314349 |  accuracy: 0.552795 \n",
      "Epoch:  3 | Loss: 0.312719 |  accuracy: 0.540373 \n",
      "Epoch:  4 | Loss: 0.294088 |  accuracy: 0.571429 \n",
      "Epoch:  5 | Loss: 0.342542 |  accuracy: 0.503106 \n",
      "Epoch:  6 | Loss: 0.312969 |  accuracy: 0.521739 \n",
      "Epoch:  7 | Loss: 0.279072 |  accuracy: 0.596273 \n",
      "Epoch:  8 | Loss: 0.273039 |  accuracy: 0.577640 \n",
      "Epoch:  9 | Loss: 0.250313 |  accuracy: 0.627329 \n",
      "Epoch: 10 | Loss: 0.256909 |  accuracy: 0.627329 \n",
      " Training QDT no : 9\n",
      "Epoch:  1 | Loss: 0.330697 |  accuracy: 0.521739 \n",
      "Epoch:  2 | Loss: 0.319019 |  accuracy: 0.559006 \n",
      "Epoch:  3 | Loss: 0.301508 |  accuracy: 0.534161 \n",
      "Epoch:  4 | Loss: 0.281632 |  accuracy: 0.602484 \n",
      "Epoch:  5 | Loss: 0.267129 |  accuracy: 0.565217 \n",
      "Epoch:  6 | Loss: 0.250119 |  accuracy: 0.596273 \n",
      "Epoch:  7 | Loss: 0.238703 |  accuracy: 0.670807 \n",
      "Epoch:  8 | Loss: 0.237293 |  accuracy: 0.608696 \n",
      "Epoch:  9 | Loss: 0.233984 |  accuracy: 0.614907 \n",
      "Epoch: 10 | Loss: 0.228317 |  accuracy: 0.639752 \n",
      " Training QDT no : 10\n",
      "Epoch:  1 | Loss: 0.373794 |  accuracy: 0.416149 \n",
      "Epoch:  2 | Loss: 0.322211 |  accuracy: 0.503106 \n",
      "Epoch:  3 | Loss: 0.284899 |  accuracy: 0.552795 \n",
      "Epoch:  4 | Loss: 0.315664 |  accuracy: 0.521739 \n",
      "Epoch:  5 | Loss: 0.326268 |  accuracy: 0.540373 \n",
      "Epoch:  6 | Loss: 0.281056 |  accuracy: 0.565217 \n",
      "Epoch:  7 | Loss: 0.255936 |  accuracy: 0.677019 \n",
      "Epoch:  8 | Loss: 0.242682 |  accuracy: 0.652174 \n",
      "Epoch:  9 | Loss: 0.235589 |  accuracy: 0.639752 \n",
      "Epoch: 10 | Loss: 0.217684 |  accuracy: 0.677019 \n",
      "[7 3 7 5 6 4 7 4 5 4 5 4 6 7 5 6 6 6 4 4 6 5 7 3 3 5 2 7 7 6 6 5 6 6 7 8 4\n",
      " 5 6 6 7 5 5 4 4 4 4 6 5 5 3 5 6 5 3 7 5 5 4 2 5 3 6 7 4 5 2 3 6 7 4 5 3 6\n",
      " 7 6 4 5 4 5 8 4 5 6 2 2 5 4 3 8 4 3 4 6 6 5 6 6 4 6 8 5 3 6 6 7 4 6 5 6 3\n",
      " 4 3 3 4 7 4 5 5 4 2 6 8 6 2 4 5 5 3 6 5 7 6 6 7 8 5 6 5 5 5 2 5 6 5 5 6 6\n",
      " 4 5 4 4 6 5 6 6 2 3 8 6 5 6 6 5 3 4 3 7 3 7 7 6 6 4 2 5 7 4 2 6 5 4 5 7 4\n",
      " 5 6 8 5 5 8 6 3 4 2 5 5 5 5 5 6 4 7 5 5 4 3 7 7 5 4 4 4 2 4 5 6 5 6 5 5 3\n",
      " 4 4 7 7 5 5 2 4 5 5 1 5 6 4 5 6 7 4 7 5 3 6 4 5 6 5 6 2 4 7 5 5 4 7 3 3 6\n",
      " 4 3 4 4 1 5 5 5 5 5 4 5 7 6 5 5 4 4 4 3 3 7 5 4 2 5 4 6 6 4 3 6 5 4 5 8 5\n",
      " 3 3 6 2 5 4 5 6 4 4 4 3 3 8 6 4 6 7 5 7 5 2 5 5 5 6 5 4 7 4 5 6 7 4 6 2 2\n",
      " 5 2 7 3 5 8 5 3 7 5 5 7 4 4 5 5 5 4 6 5 5 5 5 5 5 5 4 6 6 5 5 4 3 7 7 5 3\n",
      " 5 3 5 5 4 5 3 3 6 5 6 4 5 4 5 6 6 5 5 8 6 4 5 8 5 6 3 5 3 4 3 5 8 5]\n",
      "Recall(TP/FN+TP ):0.6540284360189573\n",
      "Precsion(TP/FP+TP): 0.5328185328185329 \n",
      "F1 score function of presscion and recall:0.5872340425531914 \n"
     ]
    },
    {
     "data": {
      "image/png": "[encoded data removed]",
      "text/plain": [
       "<Figure size 640x480 with 2 Axes>"
      ]
     },
     "metadata": {},
     "output_type": "display_data"
    }
   ],
   "source": [
    "qrf = QRF(X_train,y_train, no_QDT=10,depth=5, sensetivity=0.5 ) \n",
    "\n",
    "qrf.train()\n",
    "\n",
    "y_pred,individual_y = qrf.predict(X_test, y_test)\n",
    "\n",
    "conMtx = confusion_matrix(y_test,y_pred)\n",
    "sns.heatmap(conMtx)\n",
    "f1 = f1_score(y_test,y_pred)\n",
    "recall = recall_score(y_test,y_pred)\n",
    "pre = precision_score(y_test,y_pred)\n",
    "\n",
    "print(f\"Recall(TP/FN+TP ):{recall}\")\n",
    "print(f\"Precsion(TP/FP+TP): {pre} \")\n",
    "print(f\"F1 score function of presscion and recall:{f1} \")\n"
   ]
  },
  {
   "cell_type": "code",
   "execution_count": 442,
   "metadata": {},
   "outputs": [
    {
     "data": {
      "application/vnd.plotly.v1+json": {
       "config": {
        "plotlyServerURL": "https://plot.ly"
       },
       "data": [
        {
         "hovertemplate": "x=%{x}<br>y=%{y}<br>z=%{z}<br>color=%{marker.color}<extra></extra>",
         "legendgroup": "",
         "marker": {
          "color": [
           1,
           0,
           1,
           1,
           1,
           0,
           1,
           0,
           1,
           0,
           1,
           0,
           1,
           1,
           1,
           1,
           1,
           1,
           0,
           0,
           1,
           1,
           1,
           0,
           0,
           1,
           0,
           1,
           1,
           1,
           1,
           1,
           1,
           1,
           1,
           1,
           0,
           1,
           1,
           1,
           1,
           1,
           1,
           0,
           0,
           0,
           0,
           1,
           1,
           1,
           0,
           1,
           1,
           1,
           0,
           1,
           1,
           1,
           0,
           0,
           1,
           0,
           1,
           1,
           0,
           1,
           0,
           0,
           1,
           1,
           0,
           1,
           0,
           1,
           1,
           1,
           0,
           1,
           0,
           1,
           1,
           0,
           1,
           1,
           0,
           0,
           1,
           0,
           0,
           1,
           0,
           0,
           0,
           1,
           1,
           1,
           1,
           1,
           0,
           1,
           1,
           1,
           0,
           1,
           1,
           1,
           0,
           1,
           1,
           1,
           0,
           0,
           0,
           0,
           0,
           1,
           0,
           1,
           1,
           0,
           0,
           1,
           1,
           1,
           0,
           0,
           1,
           1,
           0,
           1,
           1,
           1,
           1,
           1,
           1,
           1,
           1,
           1,
           1,
           1,
           1,
           0,
           1,
           1,
           1,
           1,
           1,
           1,
           0,
           1,
           0,
           0,
           1,
           1,
           1,
           1,
           0,
           0,
           1,
           1,
           1,
           1,
           1,
           1,
           0,
           0,
           0,
           1,
           0,
           1,
           1,
           1,
           1,
           0,
           0,
           1,
           1,
           0,
           0,
           1,
           1,
           0,
           1,
           1,
           0,
           1,
           1,
           1,
           1,
           1,
           1,
           1,
           0,
           0,
           0,
           1,
           1,
           1,
           1,
           1,
           1,
           0,
           1,
           1,
           1,
           0,
           0,
           1,
           1,
           1,
           0,
           0,
           0,
           0,
           0,
           1,
           1,
           1,
           1,
           1,
           1,
           0,
           0,
           0,
           1,
           1,
           1,
           1,
           0,
           0,
           1,
           1,
           0,
           1,
           1,
           0,
           1,
           1,
           1,
           0,
           1,
           1,
           0,
           1,
           0,
           1,
           1,
           1,
           1,
           0,
           0,
           1,
           1,
           1,
           0,
           1,
           0,
           0,
           1,
           0,
           0,
           0,
           0,
           0,
           1,
           1,
           1,
           1,
           1,
           0,
           1,
           1,
           1,
           1,
           1,
           0,
           0,
           0,
           0,
           0,
           1,
           1,
           0,
           0,
           1,
           0,
           1,
           1,
           0,
           0,
           1,
           1,
           0,
           1,
           1,
           1,
           0,
           0,
           1,
           0,
           1,
           0,
           1,
           1,
           0,
           0,
           0,
           0,
           0,
           1,
           1,
           0,
           1,
           1,
           1,
           1,
           1,
           0,
           1,
           1,
           1,
           1,
           1,
           0,
           1,
           0,
           1,
           1,
           1,
           0,
           1,
           0,
           0,
           1,
           0,
           1,
           0,
           1,
           1,
           1,
           0,
           1,
           1,
           1,
           1,
           0,
           0,
           1,
           1,
           1,
           0,
           1,
           1,
           1,
           1,
           1,
           1,
           1,
           1,
           0,
           1,
           1,
           1,
           1,
           0,
           0,
           1,
           1,
           1,
           0,
           1,
           0,
           1,
           1,
           0,
           1,
           0,
           0,
           1,
           1,
           1,
           0,
           1,
           0,
           1,
           1,
           1,
           1,
           1,
           1,
           1,
           0,
           1,
           1,
           1,
           1,
           0,
           1,
           0,
           0,
           0,
           1,
           1,
           1
          ],
          "coloraxis": "coloraxis",
          "symbol": "circle"
         },
         "mode": "markers",
         "name": "",
         "scene": "scene",
         "showlegend": false,
         "type": "scatter3d",
         "x": [
          3.9656736814240294,
          -5.5517929394341605,
          6.68776086674939,
          0.5165362470470959,
          -1.5596724130535877,
          4.972550123670571,
          -6.232714128525154,
          -0.8072380215033506,
          0.9499576013169186,
          9.492600911165113,
          -2.99697496465625,
          -2.2598916225322085,
          6.809141957770477,
          -2.4008166670617874,
          -4.487778515165683,
          -3.564672164484353,
          1.821860641677875,
          2.6083563696508514,
          5.05782548925524,
          -0.9944715878838817,
          2.4044148508820733,
          4.253293958240879,
          5.694606726172606,
          -3.5077609849501292,
          1.0501808737190241,
          0.5733286535866731,
          -0.03213211722131105,
          4.2956173382052745,
          3.6520552698662416,
          2.6018644364635652,
          1.1430602469190294,
          -3.4832137709935904,
          -1.4083618091883023,
          0.8327370226067352,
          -6.572295788329131,
          -5.3080367041636665,
          8.985192617402584,
          4.255884024776311,
          4.522489502335722,
          -6.011055642065317,
          -5.440985775537714,
          7.535164303740893,
          4.50220215657965,
          -6.132016438166981,
          -3.8095696189193764,
          1.3635817836883093,
          0.4612415764085352,
          3.3619791254674776,
          0.3789815661095938,
          3.529745025522083,
          -7.135836961906808,
          -2.1062350789059145,
          0.39262244607905933,
          -3.1598988202367995,
          8.013335482773448,
          6.734525241914259,
          -0.495794456435977,
          2.312205234643183,
          -7.4453281261764745,
          7.218237132269712,
          1.5759095071683231,
          6.998315112054041,
          6.59459239132662,
          4.648736694597558,
          -4.605196460007229,
          3.892003118666156,
          1.3625955789258593,
          8.594919509308816,
          -6.849168546524536,
          -1.6474357917810714,
          -0.9856304345476442,
          4.826131273653971,
          1.4790435360659557,
          -2.393200156423395,
          5.512927013235647,
          0.7367637043070079,
          -0.8962391701277722,
          6.746584373872402,
          4.286756185780559,
          4.367115468505881,
          0.8366407392564068,
          4.769862873102657,
          -1.4907527428279432,
          -0.9178032362067795,
          7.844827108292685,
          7.284613064155981,
          8.574735639321187,
          -6.394849948073911,
          -4.4510635947819335,
          -7.256991092049106,
          1.9987134497734762,
          1.22176173419113,
          -1.6004722868585641,
          4.347408091113051,
          2.661877268423012,
          -6.284305799056836,
          3.4551110878330658,
          0.15621298784895815,
          7.075523786417844,
          -2.2138722106767763,
          1.8521053084829562,
          -2.833561850313176,
          3.759716947404285,
          -0.3360778270327388,
          -5.5855200576481145,
          2.5981175122486775,
          -6.420765287281618,
          -3.2668663712355026,
          -1.3613125490137497,
          -5.17780858168301,
          -6.137385632549194,
          0.5064480531673754,
          -2.475599382143989,
          4.369724073874692,
          -6.56987435820378,
          6.121963904529976,
          -4.392361443468309,
          1.2827956114491645,
          7.625067029219154,
          -3.827067575226624,
          8.832619152421668,
          -6.6530580507920885,
          -6.081290454260132,
          -5.341035134865796,
          -0.5320364379319211,
          0.95791838367645,
          -2.6460413429588354,
          0.6889956057103812,
          6.130486823857481,
          -7.072071547621341,
          6.9529102590635725,
          1.6802252292076802,
          1.1207167528619308,
          -2.4409959991729373,
          2.396816692227452,
          -6.1361114037571864,
          2.5871699391420213,
          4.111753264586642,
          -4.508400906816787,
          0.10658131197084697,
          5.966746971539194,
          -5.138805476153507,
          -3.7465433015758376,
          3.331217436652684,
          8.397255860519893,
          1.6761758460686598,
          -6.234484332155434,
          -3.774717092619199,
          1.9242349974476558,
          -5.7181127027562395,
          6.93703300012437,
          3.301714409969985,
          -0.3803968688782169,
          -0.4535328684081442,
          -5.070351511931833,
          -2.3201557714020327,
          -2.7721465523065265,
          3.026863406684496,
          -6.2419390968111355,
          4.442210988880567,
          2.035081948032831,
          -6.941181260441204,
          6.289671756297102,
          3.019939563501273,
          -4.306039358144579,
          5.838988530126791,
          1.091755622163547,
          4.3397973332741495,
          3.84544505452326,
          2.8190831501859854,
          -4.7018565117790505,
          -1.0075859694583051,
          -5.565002890555519,
          4.920289319911795,
          -4.268454547910402,
          5.93280437344337,
          -0.10703581049958263,
          -0.371051423033105,
          -3.5928759468623843,
          -2.2163588028516745,
          0.6274297512009724,
          -5.829331713198807,
          6.9763122153887345,
          -1.4307654809547061,
          4.058385739138683,
          2.446196208346952,
          1.014906533874973,
          -6.528149755144639,
          7.016287852645483,
          5.217959536885636,
          -7.244681823513475,
          0.6195633695270343,
          -0.5128894732754222,
          5.26427554297757,
          -5.331971062841406,
          -1.9102870631554634,
          8.951016580504318,
          -5.946639571684706,
          3.1514389040001864,
          2.7768720039595722,
          -2.6937886994819875,
          4.628424507711032,
          7.247853090759754,
          2.8003639550241135,
          -4.008432832298981,
          -4.320416961429239,
          0.12443231730286397,
          -4.77615220958908,
          -6.104081007667648,
          6.567656398354147,
          -3.9063453770278977,
          0.09170506687521629,
          -0.4162633806238166,
          -1.4719697681240553,
          0.3748487246503707,
          1.709932919433794,
          -5.6916774111767365,
          -3.2582848749239948,
          0.8614720752171414,
          0.009034731655954791,
          -0.47261341584074235,
          5.711575569427601,
          -6.299204283246334,
          -3.247867146083566,
          -5.698877572172456,
          5.198419944262178,
          -5.855686670225573,
          -6.273518520445829,
          -3.9378675317358915,
          1.9633572175069525,
          2.948661415245559,
          -6.955240739523404,
          -3.961035243372525,
          0.10809520267684454,
          2.6174340656036232,
          1.8717795032545281,
          -0.419924046988076,
          4.971544463099156,
          3.0234594226321994,
          -2.255972573177621,
          7.51846893172724,
          3.818914837888775,
          -2.894074791667501,
          -6.777107843188936,
          1.3307786928078926,
          0.19053648201613915,
          -4.551879954669742,
          -1.4961113906411745,
          -7.0551242722276335,
          2.733731966321695,
          0.09483147846507689,
          -6.0920631755459285,
          -0.4536031276069407,
          -0.9120774721145479,
          -6.590263582705573,
          -6.527641865001269,
          -7.232586091534334,
          -6.130945000391438,
          4.71361332957934,
          2.9524456587802503,
          -3.825351253353931,
          3.6490288705976752,
          6.6236384933109616,
          -5.808879969604677,
          -3.510684954026371,
          -1.0592722192059958,
          -0.605514856443636,
          6.471328085092203,
          -1.8407743070036053,
          -2.039279120262304,
          3.5744824356179947,
          3.0849961827070236,
          -4.944927961610429,
          0.7715731779380314,
          7.292964986821114,
          -0.4972080949299846,
          1.0406146778649294,
          -0.052347994317024076,
          -1.1820156321478823,
          1.6184743671939472,
          1.8472211548030828,
          2.132945277088603,
          -1.3933807259805557,
          -0.7568957080427444,
          2.1848165816499314,
          -1.3217092121579601,
          -0.961174796106354,
          7.2611933035295015,
          2.9926105937820173,
          2.5899430893936684,
          -5.304467968647458,
          1.7496991496597165,
          5.3637026518579125,
          -0.04126648023766285,
          -7.029442020212461,
          -3.022062751657181,
          6.407636332351108,
          -4.005630816167015,
          -0.42776908345153375,
          -3.5889367827761576,
          0.9250005409557759,
          -1.418592656439802,
          -4.6965375271311665,
          -1.0590650815961404,
          1.0768319806793845,
          -5.776503134316031,
          0.7802526820336079,
          -3.1085335481038383,
          -4.3385600581232735,
          -5.278893663960864,
          7.177610026236637,
          -7.848468655778474,
          4.1363633322156,
          5.504180813647925,
          5.272216564317732,
          -0.7427415956957483,
          5.413329620188677,
          5.735878043669804,
          -0.9738331486239443,
          -5.819846473166542,
          8.620839382274033,
          0.2662852064918837,
          -1.8419455789312968,
          -3.0123067877563154,
          4.045191156918947,
          -6.523399033985281,
          -5.84587634825219,
          7.070231673629358,
          1.4709433253731232,
          -4.2236491468123365,
          8.115966687122215,
          -3.63409854347924,
          -4.236966934748565,
          -7.366588298086167,
          -1.9974044075874897,
          6.791615572165819,
          -1.2862268148558826,
          2.680380665384111,
          -1.6431223207993202,
          -4.757245312836285,
          -2.419556963590488,
          -4.184075079411657,
          -4.904546531229709,
          0.47243140704558995,
          -0.5591532485828495,
          8.09664112547297,
          -0.35575474446147365,
          -1.2906821477247283,
          0.1366248526312065,
          3.317532850735335,
          -0.906303524950597,
          0.4386584728918747,
          5.129457866232684,
          3.1211584980461935,
          -5.245374000057831,
          -5.814722916332113,
          6.501390860182107,
          -2.903064961557728,
          -5.619051715243001,
          1.4493141784501071,
          0.9304532312847099,
          -7.238155425857963,
          -2.076623977205213,
          -1.069703587073906,
          -3.226362917434363,
          -4.725060183378911,
          3.0944205278531594,
          5.129687862132644,
          0.8091056844335832,
          5.365257657315671,
          -4.327315931262832,
          -3.6773590831620706,
          -6.685378963723751,
          1.8840804642622073,
          5.904578158800358,
          -1.714225900482045,
          -3.8773173655476896,
          -2.802384789258261,
          -6.713794185329019,
          -1.9295704308971409,
          -0.08948443887991292,
          -5.8694663998294265,
          -1.0912019311456314,
          3.907127017874565,
          -1.848190402098392,
          7.52643807224355,
          -5.52960071208892,
          5.514981041567128,
          -5.050907219938864,
          -2.611047588730541,
          0.6040261434088956,
          4.7627805803907926,
          2.1648553538917326,
          2.3868648664418406,
          3.056658908204565,
          -6.206312451697496,
          1.2199844466981538,
          4.77044890618325,
          4.9114247128714075,
          3.1822572870988566,
          -5.53479141528676,
          6.394935345487679,
          0.6611101820429847,
          4.905213910727297
         ],
         "y": [
          -3.3106997756454777,
          2.471565381880241,
          5.1880424422827485,
          4.917941526740074,
          -4.977259169503069,
          1.0975778198884771,
          1.218381778941,
          -4.652265685840128,
          5.1285391444151065,
          2.0195700083455663,
          -0.9810005499510017,
          -1.1858355152308848,
          2.349707160382813,
          -4.941403878400937,
          4.784438500131286,
          -1.3874846575945898,
          0.29649986044534193,
          6.252996166681427,
          3.0087357255278775,
          -5.947573129429882,
          -3.92725343126418,
          -3.028100390352521,
          2.6684401030062492,
          -3.35462503638377,
          -0.41955104033746893,
          -6.110537880867687,
          5.989937992224073,
          1.0347667519930777,
          -5.016798165026853,
          -2.998321995286056,
          -5.0773666409415945,
          -1.890103611871566,
          0.03355560254404084,
          -6.009386128782078,
          0.34771726501308875,
          -3.5300726989268134,
          -2.422583194951656,
          2.796108799079515,
          -0.07248082224916924,
          0.40885333343986646,
          2.486081634580564,
          3.3172975727831586,
          -3.013523764782179,
          -1.484820486314099,
          4.587005393981478,
          0.4996074998664628,
          6.464200994318604,
          -0.8093270426156481,
          2.242103245206156,
          -4.608201758259806,
          -2.314313152412119,
          4.1866473762084455,
          -5.853603562154204,
          -1.940557735712303,
          2.1940189927869382,
          2.7785858396044176,
          -0.9107446755559346,
          -5.438941490890076,
          -1.7692277570110921,
          -2.346607288570171,
          4.456173868424977,
          -2.1839473542505377,
          2.761327658810309,
          -1.0220627120809944,
          4.748680816511896,
          -3.7054153713517035,
          0.19462830166039893,
          2.3148396892650704,
          -1.0379387517795708,
          -0.7848553478110886,
          -5.7239937945295845,
          -3.629949304306828,
          0.264815824343349,
          0.8819908543543126,
          -3.7723992466796323,
          -3.5656122662541443,
          -5.423846824185196,
          3.0304612573877785,
          1.926803457564504,
          1.3735451550751714,
          -4.108290463164094,
          -2.2609655694296626,
          2.6155532511299158,
          -1.0074902005619206,
          -2.6777905427967714,
          -2.202464807672447,
          5.1536599688609,
          2.085048398725489,
          3.158502749655099,
          -1.522243461188681,
          -4.429805066461291,
          3.6674924851086854,
          -2.7129945495006833,
          -0.14314765144827202,
          -4.479129577500117,
          0.1018316224266826,
          5.1162660673375,
          5.496530776707181,
          -1.9699112879222171,
          -1.8092850246575762,
          0.9616860706671945,
          -2.579591661467413,
          3.5543336425255574,
          4.15618652392014,
          2.0534443440026697,
          -2.896696958042813,
          -0.25062537216289144,
          4.703060518179791,
          5.096016587466489,
          2.1189806454074884,
          1.7193390130381998,
          5.844622212327297,
          5.623636010190012,
          -3.783171641048108,
          0.02327693657825145,
          -1.136653462782048,
          2.5832896632174216,
          2.791267845714356,
          3.0142395563121704,
          4.34428039984735,
          5.807403449246256,
          0.8824078056510382,
          0.6419236285022062,
          1.8160571406490071,
          -1.8043287589952408,
          6.959240100719564,
          -4.659744999400069,
          2.2715552984797194,
          -2.671654520944972,
          -0.03473868291112731,
          1.8165242189910211,
          1.1215926046572862,
          -5.965505769811789,
          5.825084618548901,
          1.729287044152183,
          0.5419681492653129,
          -4.082535467261448,
          -0.11606180349994566,
          -1.3035816835895555,
          -1.14086902739395,
          1.1887184997295228,
          0.13712879571005251,
          4.755982038612792,
          -5.237198866899171,
          3.623625520652763,
          1.6750482045704709,
          0.31076146119252307,
          -4.2933038068092735,
          -5.671119306835711,
          1.8628845870538466,
          3.1042708345086103,
          -4.686775999678279,
          -3.9558903896063184,
          -4.374398998955724,
          3.1283277304981407,
          -2.0092043826365606,
          -3.2958054633424343,
          -4.713759573195561,
          0.903642496184067,
          0.13706544891746913,
          -5.163474027013449,
          0.3978076750664046,
          3.3256086588523273,
          1.3843177653929177,
          -3.697585294599857,
          -2.2804605122026227,
          -5.25934386338875,
          -4.457793150900905,
          2.2388479430302053,
          -4.511612697256899,
          0.24030881844892601,
          6.699994460663882,
          1.9054560933629452,
          -2.2675722813640724,
          -1.4502556817875525,
          -3.227296930857969,
          -0.5219832543498326,
          -2.9696905764509514,
          -4.451616231764638,
          -2.961216763232053,
          -4.048132587910933,
          2.9393112239880756,
          3.0046223717504907,
          7.130488057800291,
          -3.9756353050082964,
          6.121388137318441,
          2.407627840647171,
          -0.25349513670776735,
          -1.5939552865863638,
          -0.4217296413205102,
          -0.23938057508950852,
          1.0046602806012739,
          -3.034511747410599,
          3.292111485924842,
          3.519341058053292,
          6.061045201089446,
          3.4276731395623665,
          0.30931886705649136,
          5.138155180244787,
          -3.1420755509265494,
          -3.278717705581643,
          -0.6942089179369452,
          2.915163257641924,
          -3.158250024079845,
          3.792337136116686,
          4.632634016125034,
          6.25462178958167,
          3.1860039744997684,
          0.6385445654327336,
          -0.8118553429980111,
          4.998602515518412,
          4.341558608427756,
          -5.245291371445144,
          -5.124410466587167,
          0.3468972944129107,
          -3.0293954603762696,
          2.03238838833725,
          -3.3308025670108785,
          -5.22487691737636,
          -4.699955318864831,
          -4.57942865373567,
          -0.9095252130131947,
          -0.2719461578487543,
          -2.7948801605893316,
          1.0167773738842412,
          0.67142350616312,
          1.231150488757552,
          -0.13570587600073988,
          -4.180464810010613,
          -4.399580975654056,
          -5.536381900976213,
          0.20115984096827513,
          -4.256619257580074,
          -3.8976560950848014,
          -5.694550074909388,
          -1.2939792256739215,
          -3.6103995904456037,
          -4.375545944482893,
          -5.014341596615132,
          -1.5668485923413902,
          1.8125968578402658,
          -3.402343788330927,
          -0.1343961404813567,
          -0.7891839677802047,
          1.00875434141002,
          -5.222303675185284,
          3.183709304088915,
          -5.309619572714915,
          0.27671736443986095,
          -1.4165992854033178,
          1.8932524577735321,
          -3.900267697129227,
          -4.2748499248519,
          -5.1786023534431544,
          -0.1250827206878197,
          0.2398482165525455,
          -2.515062231783238,
          0.8039364776535766,
          0.5308316914220125,
          2.339300119720639,
          -4.54961909444338,
          1.7699883638708616,
          4.511989372380631,
          0.04330865077576069,
          2.365313309689063,
          -0.4201806886154988,
          3.3358216924856947,
          2.9001457612497785,
          2.3416729973018398,
          3.1285530254171747,
          -1.415121199916718,
          -5.182084478696072,
          1.4313657732346001,
          -2.906674164168623,
          2.0915376796393654,
          -1.2632480370008503,
          -5.052938413038004,
          -5.52197458429219,
          -5.582344159391939,
          -0.3941035876993264,
          -5.402727018695541,
          4.207545423307107,
          3.3524294847789515,
          -5.724419045569647,
          -4.2353653119633945,
          5.071180928432545,
          -4.929783322394794,
          0.6951465298721446,
          -4.561939927771503,
          2.3537832808338948,
          0.5472431111423711,
          -5.765994772693126,
          3.8246603512362696,
          0.22995001783080882,
          0.7177547473417065,
          4.400300991074658,
          0.2264918746680116,
          -1.6024881026726217,
          -4.722821626227401,
          -4.612277211093812,
          -4.950236952931438,
          -4.950765476227708,
          4.880700561201208,
          0.692401452446804,
          -1.776038720650036,
          1.8149886292222688,
          -4.665069490461076,
          -4.903375824766782,
          3.5121890645737084,
          -3.856457334655436,
          -3.11522081672849,
          -3.2225759184150555,
          0.750091923302083,
          2.9342787722298067,
          -2.2692466816652064,
          -0.25812717108598887,
          2.6622410629094895,
          -2.2584616997943785,
          -4.8634835900247495,
          0.7430407464279195,
          -0.6448107001703381,
          0.5335115749575505,
          -1.5316883459520474,
          -3.499017827484054,
          -3.251378316901504,
          0.050028927536522355,
          1.4365131791922283,
          2.8714024758802377,
          -5.147122434615922,
          -1.348556239456088,
          3.9156470127056373,
          -4.4620089891972095,
          4.6950767614620945,
          -1.5108255103724093,
          4.992068038013248,
          -1.4065317444927883,
          -3.9826138389948693,
          -4.248087074561131,
          5.317375570484288,
          -0.9529291115583169,
          4.9533445811812955,
          3.6439405014900808,
          -3.943115171956477,
          -4.974560291909803,
          0.8968496144318702,
          -1.715940549770096,
          5.098842580619705,
          -1.1571566263798676,
          -4.964254311092363,
          -4.453745063511259,
          -5.599903851967823,
          -5.813315937375844,
          0.48738617095119896,
          -0.5718349443254189,
          1.0119707706165888,
          1.3213559808055853,
          -0.5557206528113463,
          -0.2573741657744375,
          2.0134052005524685,
          -5.530734959698907,
          -5.926842894195562,
          -2.7461839671413624,
          -3.9677381936477487,
          -4.954776275204939,
          -3.3112147817823443,
          2.9551498751156102,
          -2.814257182205435,
          3.078775487286546,
          3.506194964131375,
          2.2552988091333126,
          2.019896794335188,
          4.202720741475909,
          0.18323541295002313,
          5.805651084770785,
          -2.4886472041294136,
          -3.36436971430995,
          4.3396707729144435,
          -4.655383233760825,
          -0.9499943175753088,
          -0.8912851611665326,
          5.243201952706365,
          -1.222011420107349,
          2.8362823735384124,
          -3.795440702008802,
          0.05883576887191507,
          1.6929703636210376,
          1.1711427712207867,
          7.357174509491355,
          0.22095730245155254,
          0.5092113802126098,
          0.5349410139755206,
          -2.818440319510738,
          -3.190750950305842,
          -4.357555391349571,
          -3.150047064790355,
          0.9409074207113898,
          -5.4435594506319775,
          -1.449619560042219,
          1.8514512377648924,
          -0.22005030015837812,
          2.7136564904415144,
          -3.163101550869408,
          -5.88244304372105,
          2.4929012857088395
         ],
         "z": [
          1.4722489690510685,
          -0.14729320172230634,
          -1.886029663001152,
          -0.7691869017971518,
          0.2536750223948029,
          -2.132377352609536,
          -1.3551188596577832,
          1.0587129189514046,
          -0.03548155081925577,
          -1.559627524604471,
          -1.6183600748734843,
          -2.9631857137032145,
          -2.1743009598672476,
          0.624091685103967,
          1.6373281129614543,
          -3.000574384325011,
          1.1357392986256478,
          0.2665079952592612,
          -2.451025979614644,
          0.8230123452412743,
          2.169597391747566,
          1.6497943084540574,
          -3.0660130043724894,
          -1.567117695065192,
          -1.4140314079030452,
          1.689120359745718,
          0.27349691513853575,
          -2.4971222939963567,
          3.8391994314452806,
          -0.2803755513594255,
          1.6260631177848004,
          -3.200789846603023,
          -0.6691597464650287,
          2.0778217045137426,
          -0.7261243403652818,
          -2.137649313339438,
          1.7847377425698059,
          -2.5825392182688978,
          -0.9424382129594164,
          -1.0526403178035604,
          1.2720202423744316,
          -1.9055769965107894,
          1.1337494964578587,
          -1.08436766553824,
          1.4714323648220333,
          -3.182560435778363,
          0.25019391258011203,
          -1.64700908953366,
          2.913755137041582,
          1.248880730290255,
          -2.307319398388402,
          -1.5601360908417448,
          1.896212386681736,
          -2.527446590298879,
          -2.1791692414246917,
          -2.570823686816544,
          -2.0857371715700044,
          3.2717332430769597,
          -1.941487419152553,
          1.4992500413820737,
          3.8840557559279283,
          1.4658536517940182,
          -2.4524644074937525,
          -3.576179811490634,
          2.5418699540754615,
          0.9458290803329059,
          -1.3216949420947168,
          -1.854273297642563,
          -1.4142104618583442,
          -2.3557706259845053,
          1.0125540922541696,
          0.7926257640187584,
          -2.890491138132134,
          -2.6399410329720108,
          1.760389532478404,
          0.2778137906036649,
          1.304191026154766,
          -2.870038642692483,
          -3.0114527670977855,
          -2.3402267199938005,
          1.1360005681292693,
          0.27181135430068054,
          2.717125602141912,
          -1.6651425933345405,
          2.147768873508347,
          1.4917421379214466,
          0.454711393525216,
          -0.005525799029030714,
          1.497192791414035,
          -0.9827284185630513,
          0.7640952959201627,
          0.0970075526897229,
          -0.8859632489511966,
          -0.45740117400404107,
          2.2986736694405567,
          -0.8289146038759126,
          -0.5120993043296731,
          5.371469242064109,
          1.2144778213854357,
          -1.8116930420095305,
          -1.0805047826952425,
          -2.82586753423578,
          -3.3542254583258404,
          4.648267211828637,
          0.7407624241240565,
          0.29083685341099363,
          -1.1503087301170398,
          3.299727324254465,
          -0.13444829363530472,
          0.9768831230539446,
          -0.9478209537444946,
          0.2653877891782863,
          -0.08735042706026855,
          1.9488011541523127,
          -0.9751269108979127,
          1.0325488668405294,
          1.5913339014959667,
          -0.20206277260718558,
          -1.968119040152484,
          2.2706930245574495,
          -1.8181566641128684,
          -0.7830085334720959,
          -1.082561872560737,
          -0.09507780657481699,
          -2.7522216881807187,
          -0.2991552025843005,
          1.0096744430860816,
          -3.9218318718000664,
          0.8401544697999083,
          -2.221706174625877,
          -1.4460643212532474,
          -1.7858077629877602,
          2.482816741381257,
          4.783185954883323,
          -3.929262883418048,
          -1.1094820203463835,
          2.904898720762067,
          -1.4160053915455209,
          0.6146676796809964,
          -1.4374916304029686,
          -0.25264909287699633,
          -1.1354238718170773,
          2.673727015195272,
          2.0659243060880037,
          -0.8771281275947738,
          -0.1552321438616499,
          -1.2614679339844643,
          -0.800045570495708,
          2.841067573977069,
          -1.1765358716119716,
          -0.5507479466639456,
          1.760803348673322,
          1.0314815411675209,
          0.7694652762986243,
          -0.35645262236616604,
          -1.2292754564385466,
          -2.0638505408895753,
          1.9976201485626253,
          -1.016438309643157,
          -1.4399228506286155,
          2.2544798805299173,
          -0.6994436230372454,
          -1.8820854028064322,
          -2.907720512805415,
          -2.2026591594374634,
          0.47363913767774285,
          2.9319662850668595,
          2.8797857121023354,
          -3.7921434233848466,
          2.8650985835074887,
          -0.5728146055552295,
          5.024654083548478,
          0.7075115948743739,
          0.37335666850448473,
          -3.0663097239807846,
          2.0130734300050155,
          -2.2886855912944712,
          -0.9376614649643327,
          0.08534521121088971,
          -0.5351605715832999,
          2.822065676748829,
          -0.3506607162430548,
          -3.1088858497944707,
          4.625723241659141,
          2.9079015316469077,
          -0.39629991955058724,
          5.408925719946299,
          -2.2507459777242245,
          1.3256131383165752,
          -0.9281503583425492,
          -1.3336831012566084,
          -2.2787424826011176,
          -0.7107810322768032,
          -2.189138197888984,
          0.9734766711860551,
          4.022594043854644,
          -2.6378925684243986,
          -1.186330388567172,
          0.2110869883832449,
          -1.059313807107077,
          -1.3563149682921396,
          -0.7101154234410799,
          -2.2497076663797895,
          -0.030614992077619203,
          0.4939442524914692,
          -0.008070919509866398,
          -0.3918209842511972,
          -0.7113438537973144,
          -0.872296025881671,
          -0.1591815693109765,
          3.4997967088972812,
          4.427354780739611,
          1.5363736157988443,
          1.5921766485320303,
          -2.4513678009773865,
          2.6581534137002323,
          0.6422305367216895,
          -1.6996304916885607,
          2.58280249796534,
          1.2692859498538187,
          0.5610956576938876,
          -0.2582078231892454,
          -1.505406749552333,
          -1.9723878394281498,
          -1.8397871820802791,
          -2.1878470108833343,
          -1.4036935342172665,
          -1.7826748536395247,
          0.4184990085592438,
          0.6543617952035158,
          3.4892701420786247,
          -1.1332836551440748,
          0.37272266719428704,
          1.4407708300306714,
          1.6792260828623067,
          -1.4555066260822713,
          2.788087800090676,
          2.6153755104048675,
          3.9686294076439443,
          -3.3266691722605874,
          -1.935642217747657,
          0.47654327433135174,
          -3.689032299423636,
          -1.8612113357809048,
          -3.325743879124766,
          1.6166023335077586,
          -0.9477854245320909,
          -0.007799972495458067,
          -0.743250001120738,
          -0.8621858826441269,
          -1.6124823015151666,
          -1.8275774673511849,
          -2.956922133376495,
          0.6966188078285374,
          -1.1631467224396355,
          -1.0983288481331959,
          -2.783077029327483,
          0.20149843800617886,
          -1.5885406135980153,
          -3.502991187537975,
          0.44578001551573293,
          -0.6187724016771614,
          -2.5054502587961887,
          -0.46421296642344473,
          2.556355326512072,
          -2.8869978573430637,
          -1.499467315791615,
          -2.6350151173003615,
          -0.4054238213073898,
          2.9613568725010797,
          2.959837913935782,
          4.181695478585798,
          -0.6570084699031019,
          -0.6819082296371625,
          -0.59443303732982,
          -2.014450083842762,
          1.824822533103904,
          1.5211001998622564,
          1.4590898710637998,
          -0.9026424991370579,
          1.3703675338850692,
          -0.3382162477727352,
          2.906252644049449,
          1.0180427835350958,
          2.698256113181084,
          -0.0802689438781839,
          2.5417976484343896,
          0.6799093670840102,
          2.819870512598156,
          -2.8172087740533818,
          -0.5895478015663905,
          2.207565453362561,
          -2.7058612319725506,
          -0.7499329317165234,
          -1.943156647298965,
          -1.7385972763504782,
          -0.5626225544674754,
          -2.8448161215677596,
          0.2961371296247579,
          0.5711265955977206,
          1.8082414935697864,
          2.067360757369058,
          2.045322842041999,
          -2.777005979429091,
          -1.7802124497048724,
          -0.2145186798019344,
          1.196534537691692,
          0.060653890889937445,
          1.5494231757760306,
          -1.8983701488948161,
          2.109713612525676,
          -2.191780615466392,
          -0.7192213900278069,
          -3.077934725673539,
          0.40813446723685776,
          -1.5488328282277637,
          -1.6996224656833239,
          1.4754435459126434,
          2.352863583268538,
          -1.1499988271871162,
          1.7605871690790795,
          -2.610534890335488,
          -1.768898241771682,
          -1.3253399821487388,
          1.7546067824542744,
          -1.0459653347220963,
          -0.43749860596643386,
          -3.3064308656827084,
          2.1686436135453957,
          -3.234182476179925,
          -2.2304151924383113,
          0.9911117668249912,
          3.045315082530992,
          -1.8934439673380354,
          3.8763652215158393,
          0.9315600423379066,
          -1.0569273319513528,
          2.8337594276493916,
          4.305248036450231,
          -0.31437767563784896,
          3.484191039824746,
          0.09198811304745705,
          -2.0130105321791456,
          1.0842079663625,
          -3.1975512153672527,
          1.7301938137846764,
          4.856307615015587,
          -2.5092942919957104,
          0.8912465181746052,
          3.1790118270658594,
          0.5906191718197689,
          1.814991533261444,
          -2.571493141672399,
          -1.165054629309858,
          1.1375760109981234,
          -0.37296190145589303,
          0.6093016719541412,
          -2.17370125737427,
          0.03954038747296278,
          3.0886172173893676,
          2.025899979031524,
          -2.5356944480296724,
          -0.9801643576757872,
          2.4869834333498106,
          -1.6161776093619242,
          1.5443752340072994,
          -0.10801421923221101,
          -3.5126340542954124,
          3.9287394585757025,
          -2.811937265778753,
          -0.5723900485332244,
          3.2534029654530814,
          -1.2363787712032732,
          0.2456220901724372,
          1.115542728484556,
          -0.15649364600235235,
          3.347834190399329,
          0.033002227264785626,
          -1.3722631846627307,
          0.3493012554251436,
          4.5664758979182345,
          -0.6302362386538033,
          2.076085929002865,
          1.2031433646379062,
          -1.1063101758798806,
          -0.43977609802815837,
          -1.1328147904447283,
          1.269196690558514,
          -0.3615266065473906,
          0.7389803092642142,
          -3.4849307870115904,
          0.875083308884698,
          -0.34578512531876116,
          2.0189561999195442,
          0.025874648663578564,
          -0.6096727034381759,
          3.1826250160638283,
          -0.06080990123913623,
          -2.8034892785703263,
          -2.042501983686066,
          -0.4457534832085095,
          2.847345415655164,
          1.9483348919256178,
          -3.491526075771734
         ]
        }
       ],
       "layout": {
        "coloraxis": {
         "colorbar": {
          "title": {
           "text": "color"
          }
         },
         "colorscale": [
          [
           0,
           "#0d0887"
          ],
          [
           0.1111111111111111,
           "#46039f"
          ],
          [
           0.2222222222222222,
           "#7201a8"
          ],
          [
           0.3333333333333333,
           "#9c179e"
          ],
          [
           0.4444444444444444,
           "#bd3786"
          ],
          [
           0.5555555555555556,
           "#d8576b"
          ],
          [
           0.6666666666666666,
           "#ed7953"
          ],
          [
           0.7777777777777778,
           "#fb9f3a"
          ],
          [
           0.8888888888888888,
           "#fdca26"
          ],
          [
           1,
           "#f0f921"
          ]
         ]
        },
        "legend": {
         "tracegroupgap": 0
        },
        "margin": {
         "t": 60
        },
        "scene": {
         "domain": {
          "x": [
           0,
           1
          ],
          "y": [
           0,
           1
          ]
         },
         "xaxis": {
          "title": {
           "text": "x"
          }
         },
         "yaxis": {
          "title": {
           "text": "y"
          }
         },
         "zaxis": {
          "title": {
           "text": "z"
          }
         }
        },
        "template": {
         "data": {
          "bar": [
           {
            "error_x": {
             "color": "#2a3f5f"
            },
            "error_y": {
             "color": "#2a3f5f"
            },
            "marker": {
             "line": {
              "color": "#E5ECF6",
              "width": 0.5
             },
             "pattern": {
              "fillmode": "overlay",
              "size": 10,
              "solidity": 0.2
             }
            },
            "type": "bar"
           }
          ],
          "barpolar": [
           {
            "marker": {
             "line": {
              "color": "#E5ECF6",
              "width": 0.5
             },
             "pattern": {
              "fillmode": "overlay",
              "size": 10,
              "solidity": 0.2
             }
            },
            "type": "barpolar"
           }
          ],
          "carpet": [
           {
            "aaxis": {
             "endlinecolor": "#2a3f5f",
             "gridcolor": "white",
             "linecolor": "white",
             "minorgridcolor": "white",
             "startlinecolor": "#2a3f5f"
            },
            "baxis": {
             "endlinecolor": "#2a3f5f",
             "gridcolor": "white",
             "linecolor": "white",
             "minorgridcolor": "white",
             "startlinecolor": "#2a3f5f"
            },
            "type": "carpet"
           }
          ],
          "choropleth": [
           {
            "colorbar": {
             "outlinewidth": 0,
             "ticks": ""
            },
            "type": "choropleth"
           }
          ],
          "contour": [
           {
            "colorbar": {
             "outlinewidth": 0,
             "ticks": ""
            },
            "colorscale": [
             [
              0,
              "#0d0887"
             ],
             [
              0.1111111111111111,
              "#46039f"
             ],
             [
              0.2222222222222222,
              "#7201a8"
             ],
             [
              0.3333333333333333,
              "#9c179e"
             ],
             [
              0.4444444444444444,
              "#bd3786"
             ],
             [
              0.5555555555555556,
              "#d8576b"
             ],
             [
              0.6666666666666666,
              "#ed7953"
             ],
             [
              0.7777777777777778,
              "#fb9f3a"
             ],
             [
              0.8888888888888888,
              "#fdca26"
             ],
             [
              1,
              "#f0f921"
             ]
            ],
            "type": "contour"
           }
          ],
          "contourcarpet": [
           {
            "colorbar": {
             "outlinewidth": 0,
             "ticks": ""
            },
            "type": "contourcarpet"
           }
          ],
          "heatmap": [
           {
            "colorbar": {
             "outlinewidth": 0,
             "ticks": ""
            },
            "colorscale": [
             [
              0,
              "#0d0887"
             ],
             [
              0.1111111111111111,
              "#46039f"
             ],
             [
              0.2222222222222222,
              "#7201a8"
             ],
             [
              0.3333333333333333,
              "#9c179e"
             ],
             [
              0.4444444444444444,
              "#bd3786"
             ],
             [
              0.5555555555555556,
              "#d8576b"
             ],
             [
              0.6666666666666666,
              "#ed7953"
             ],
             [
              0.7777777777777778,
              "#fb9f3a"
             ],
             [
              0.8888888888888888,
              "#fdca26"
             ],
             [
              1,
              "#f0f921"
             ]
            ],
            "type": "heatmap"
           }
          ],
          "heatmapgl": [
           {
            "colorbar": {
             "outlinewidth": 0,
             "ticks": ""
            },
            "colorscale": [
             [
              0,
              "#0d0887"
             ],
             [
              0.1111111111111111,
              "#46039f"
             ],
             [
              0.2222222222222222,
              "#7201a8"
             ],
             [
              0.3333333333333333,
              "#9c179e"
             ],
             [
              0.4444444444444444,
              "#bd3786"
             ],
             [
              0.5555555555555556,
              "#d8576b"
             ],
             [
              0.6666666666666666,
              "#ed7953"
             ],
             [
              0.7777777777777778,
              "#fb9f3a"
             ],
             [
              0.8888888888888888,
              "#fdca26"
             ],
             [
              1,
              "#f0f921"
             ]
            ],
            "type": "heatmapgl"
           }
          ],
          "histogram": [
           {
            "marker": {
             "pattern": {
              "fillmode": "overlay",
              "size": 10,
              "solidity": 0.2
             }
            },
            "type": "histogram"
           }
          ],
          "histogram2d": [
           {
            "colorbar": {
             "outlinewidth": 0,
             "ticks": ""
            },
            "colorscale": [
             [
              0,
              "#0d0887"
             ],
             [
              0.1111111111111111,
              "#46039f"
             ],
             [
              0.2222222222222222,
              "#7201a8"
             ],
             [
              0.3333333333333333,
              "#9c179e"
             ],
             [
              0.4444444444444444,
              "#bd3786"
             ],
             [
              0.5555555555555556,
              "#d8576b"
             ],
             [
              0.6666666666666666,
              "#ed7953"
             ],
             [
              0.7777777777777778,
              "#fb9f3a"
             ],
             [
              0.8888888888888888,
              "#fdca26"
             ],
             [
              1,
              "#f0f921"
             ]
            ],
            "type": "histogram2d"
           }
          ],
          "histogram2dcontour": [
           {
            "colorbar": {
             "outlinewidth": 0,
             "ticks": ""
            },
            "colorscale": [
             [
              0,
              "#0d0887"
             ],
             [
              0.1111111111111111,
              "#46039f"
             ],
             [
              0.2222222222222222,
              "#7201a8"
             ],
             [
              0.3333333333333333,
              "#9c179e"
             ],
             [
              0.4444444444444444,
              "#bd3786"
             ],
             [
              0.5555555555555556,
              "#d8576b"
             ],
             [
              0.6666666666666666,
              "#ed7953"
             ],
             [
              0.7777777777777778,
              "#fb9f3a"
             ],
             [
              0.8888888888888888,
              "#fdca26"
             ],
             [
              1,
              "#f0f921"
             ]
            ],
            "type": "histogram2dcontour"
           }
          ],
          "mesh3d": [
           {
            "colorbar": {
             "outlinewidth": 0,
             "ticks": ""
            },
            "type": "mesh3d"
           }
          ],
          "parcoords": [
           {
            "line": {
             "colorbar": {
              "outlinewidth": 0,
              "ticks": ""
             }
            },
            "type": "parcoords"
           }
          ],
          "pie": [
           {
            "automargin": true,
            "type": "pie"
           }
          ],
          "scatter": [
           {
            "fillpattern": {
             "fillmode": "overlay",
             "size": 10,
             "solidity": 0.2
            },
            "type": "scatter"
           }
          ],
          "scatter3d": [
           {
            "line": {
             "colorbar": {
              "outlinewidth": 0,
              "ticks": ""
             }
            },
            "marker": {
             "colorbar": {
              "outlinewidth": 0,
              "ticks": ""
             }
            },
            "type": "scatter3d"
           }
          ],
          "scattercarpet": [
           {
            "marker": {
             "colorbar": {
              "outlinewidth": 0,
              "ticks": ""
             }
            },
            "type": "scattercarpet"
           }
          ],
          "scattergeo": [
           {
            "marker": {
             "colorbar": {
              "outlinewidth": 0,
              "ticks": ""
             }
            },
            "type": "scattergeo"
           }
          ],
          "scattergl": [
           {
            "marker": {
             "colorbar": {
              "outlinewidth": 0,
              "ticks": ""
             }
            },
            "type": "scattergl"
           }
          ],
          "scattermapbox": [
           {
            "marker": {
             "colorbar": {
              "outlinewidth": 0,
              "ticks": ""
             }
            },
            "type": "scattermapbox"
           }
          ],
          "scatterpolar": [
           {
            "marker": {
             "colorbar": {
              "outlinewidth": 0,
              "ticks": ""
             }
            },
            "type": "scatterpolar"
           }
          ],
          "scatterpolargl": [
           {
            "marker": {
             "colorbar": {
              "outlinewidth": 0,
              "ticks": ""
             }
            },
            "type": "scatterpolargl"
           }
          ],
          "scatterternary": [
           {
            "marker": {
             "colorbar": {
              "outlinewidth": 0,
              "ticks": ""
             }
            },
            "type": "scatterternary"
           }
          ],
          "surface": [
           {
            "colorbar": {
             "outlinewidth": 0,
             "ticks": ""
            },
            "colorscale": [
             [
              0,
              "#0d0887"
             ],
             [
              0.1111111111111111,
              "#46039f"
             ],
             [
              0.2222222222222222,
              "#7201a8"
             ],
             [
              0.3333333333333333,
              "#9c179e"
             ],
             [
              0.4444444444444444,
              "#bd3786"
             ],
             [
              0.5555555555555556,
              "#d8576b"
             ],
             [
              0.6666666666666666,
              "#ed7953"
             ],
             [
              0.7777777777777778,
              "#fb9f3a"
             ],
             [
              0.8888888888888888,
              "#fdca26"
             ],
             [
              1,
              "#f0f921"
             ]
            ],
            "type": "surface"
           }
          ],
          "table": [
           {
            "cells": {
             "fill": {
              "color": "#EBF0F8"
             },
             "line": {
              "color": "white"
             }
            },
            "header": {
             "fill": {
              "color": "#C8D4E3"
             },
             "line": {
              "color": "white"
             }
            },
            "type": "table"
           }
          ]
         },
         "layout": {
          "annotationdefaults": {
           "arrowcolor": "#2a3f5f",
           "arrowhead": 0,
           "arrowwidth": 1
          },
          "autotypenumbers": "strict",
          "coloraxis": {
           "colorbar": {
            "outlinewidth": 0,
            "ticks": ""
           }
          },
          "colorscale": {
           "diverging": [
            [
             0,
             "#8e0152"
            ],
            [
             0.1,
             "#c51b7d"
            ],
            [
             0.2,
             "#de77ae"
            ],
            [
             0.3,
             "#f1b6da"
            ],
            [
             0.4,
             "#fde0ef"
            ],
            [
             0.5,
             "#f7f7f7"
            ],
            [
             0.6,
             "#e6f5d0"
            ],
            [
             0.7,
             "#b8e186"
            ],
            [
             0.8,
             "#7fbc41"
            ],
            [
             0.9,
             "#4d9221"
            ],
            [
             1,
             "#276419"
            ]
           ],
           "sequential": [
            [
             0,
             "#0d0887"
            ],
            [
             0.1111111111111111,
             "#46039f"
            ],
            [
             0.2222222222222222,
             "#7201a8"
            ],
            [
             0.3333333333333333,
             "#9c179e"
            ],
            [
             0.4444444444444444,
             "#bd3786"
            ],
            [
             0.5555555555555556,
             "#d8576b"
            ],
            [
             0.6666666666666666,
             "#ed7953"
            ],
            [
             0.7777777777777778,
             "#fb9f3a"
            ],
            [
             0.8888888888888888,
             "#fdca26"
            ],
            [
             1,
             "#f0f921"
            ]
           ],
           "sequentialminus": [
            [
             0,
             "#0d0887"
            ],
            [
             0.1111111111111111,
             "#46039f"
            ],
            [
             0.2222222222222222,
             "#7201a8"
            ],
            [
             0.3333333333333333,
             "#9c179e"
            ],
            [
             0.4444444444444444,
             "#bd3786"
            ],
            [
             0.5555555555555556,
             "#d8576b"
            ],
            [
             0.6666666666666666,
             "#ed7953"
            ],
            [
             0.7777777777777778,
             "#fb9f3a"
            ],
            [
             0.8888888888888888,
             "#fdca26"
            ],
            [
             1,
             "#f0f921"
            ]
           ]
          },
          "colorway": [
           "#636efa",
           "#EF553B",
           "#00cc96",
           "#ab63fa",
           "#FFA15A",
           "#19d3f3",
           "#FF6692",
           "#B6E880",
           "#FF97FF",
           "#FECB52"
          ],
          "font": {
           "color": "#2a3f5f"
          },
          "geo": {
           "bgcolor": "white",
           "lakecolor": "white",
           "landcolor": "#E5ECF6",
           "showlakes": true,
           "showland": true,
           "subunitcolor": "white"
          },
          "hoverlabel": {
           "align": "left"
          },
          "hovermode": "closest",
          "mapbox": {
           "style": "light"
          },
          "paper_bgcolor": "white",
          "plot_bgcolor": "#E5ECF6",
          "polar": {
           "angularaxis": {
            "gridcolor": "white",
            "linecolor": "white",
            "ticks": ""
           },
           "bgcolor": "#E5ECF6",
           "radialaxis": {
            "gridcolor": "white",
            "linecolor": "white",
            "ticks": ""
           }
          },
          "scene": {
           "xaxis": {
            "backgroundcolor": "#E5ECF6",
            "gridcolor": "white",
            "gridwidth": 2,
            "linecolor": "white",
            "showbackground": true,
            "ticks": "",
            "zerolinecolor": "white"
           },
           "yaxis": {
            "backgroundcolor": "#E5ECF6",
            "gridcolor": "white",
            "gridwidth": 2,
            "linecolor": "white",
            "showbackground": true,
            "ticks": "",
            "zerolinecolor": "white"
           },
           "zaxis": {
            "backgroundcolor": "#E5ECF6",
            "gridcolor": "white",
            "gridwidth": 2,
            "linecolor": "white",
            "showbackground": true,
            "ticks": "",
            "zerolinecolor": "white"
           }
          },
          "shapedefaults": {
           "line": {
            "color": "#2a3f5f"
           }
          },
          "ternary": {
           "aaxis": {
            "gridcolor": "white",
            "linecolor": "white",
            "ticks": ""
           },
           "baxis": {
            "gridcolor": "white",
            "linecolor": "white",
            "ticks": ""
           },
           "bgcolor": "#E5ECF6",
           "caxis": {
            "gridcolor": "white",
            "linecolor": "white",
            "ticks": ""
           }
          },
          "title": {
           "x": 0.05
          },
          "xaxis": {
           "automargin": true,
           "gridcolor": "white",
           "linecolor": "white",
           "ticks": "",
           "title": {
            "standoff": 15
           },
           "zerolinecolor": "white",
           "zerolinewidth": 2
          },
          "yaxis": {
           "automargin": true,
           "gridcolor": "white",
           "linecolor": "white",
           "ticks": "",
           "title": {
            "standoff": 15
           },
           "zerolinecolor": "white",
           "zerolinewidth": 2
          }
         }
        }
       }
      }
     },
     "metadata": {},
     "output_type": "display_data"
    }
   ],
   "source": [
    "px.scatter_3d(x=x_testdf.iloc[:,0],y=x_testdf.iloc[:,1],z=x_testdf.iloc[:,2], color= y_pred)"
   ]
  },
  {
   "cell_type": "code",
   "execution_count": 443,
   "metadata": {},
   "outputs": [
    {
     "name": "stdout",
     "output_type": "stream",
     "text": [
      "Recall(TP/FN+TP ):0.5213270142180095\n",
      "Precsion(TP/FP+TP): 0.5263157894736842 \n",
      "F1 score function of presscion and recall:0.5238095238095237 \n"
     ]
    },
    {
     "data": {
      "image/png": "[encoded data removed]",
      "text/plain": [
       "<Figure size 640x480 with 2 Axes>"
      ]
     },
     "metadata": {},
     "output_type": "display_data"
    }
   ],
   "source": [
    "from sklearn.ensemble import RandomForestClassifier\n",
    "\n",
    "model = RandomForestClassifier(max_depth=2)\n",
    "model.fit(x_train,y_train)\n",
    "\n",
    "\n",
    "y_pred = model.predict(X_test)\n",
    "\n",
    "conMtx = confusion_matrix(y_test,y_pred)\n",
    "sns.heatmap(conMtx)\n",
    "f1 = f1_score(y_test,y_pred)\n",
    "recall = recall_score(y_test,y_pred)\n",
    "pre = precision_score(y_test,y_pred)\n",
    "\n",
    "print(f\"Recall(TP/FN+TP ):{recall}\")\n",
    "print(f\"Precsion(TP/FP+TP): {pre} \")\n",
    "print(f\"F1 score function of presscion and recall:{f1} \")\n"
   ]
  },
  {
   "cell_type": "code",
   "execution_count": 444,
   "metadata": {},
   "outputs": [
    {
     "data": {
      "application/vnd.plotly.v1+json": {
       "config": {
        "plotlyServerURL": "https://plot.ly"
       },
       "data": [
        {
         "hovertemplate": "x=%{x}<br>y=%{y}<br>z=%{z}<br>color=%{marker.color}<extra></extra>",
         "legendgroup": "",
         "marker": {
          "color": [
           0,
           1,
           1,
           0,
           1,
           0,
           1,
           1,
           0,
           1,
           1,
           0,
           1,
           1,
           1,
           1,
           1,
           0,
           0,
           1,
           1,
           0,
           0,
           1,
           0,
           0,
           1,
           0,
           1,
           1,
           1,
           0,
           1,
           0,
           1,
           1,
           0,
           1,
           1,
           0,
           0,
           0,
           0,
           1,
           0,
           0,
           1,
           1,
           1,
           1,
           1,
           1,
           0,
           0,
           0,
           1,
           0,
           0,
           1,
           0,
           1,
           0,
           1,
           0,
           0,
           0,
           0,
           0,
           0,
           0,
           0,
           0,
           0,
           1,
           1,
           0,
           1,
           0,
           1,
           0,
           1,
           0,
           1,
           0,
           1,
           0,
           0,
           0,
           1,
           1,
           1,
           1,
           0,
           1,
           0,
           0,
           0,
           0,
           0,
           0,
           1,
           1,
           0,
           0,
           0,
           0,
           0,
           1,
           0,
           1,
           1,
           0,
           0,
           0,
           0,
           0,
           0,
           1,
           0,
           1,
           0,
           0,
           1,
           0,
           0,
           0,
           0,
           0,
           1,
           1,
           0,
           0,
           0,
           1,
           0,
           1,
           1,
           1,
           0,
           1,
           1,
           1,
           1,
           1,
           1,
           1,
           0,
           0,
           0,
           0,
           0,
           1,
           0,
           1,
           1,
           0,
           1,
           1,
           1,
           1,
           0,
           1,
           0,
           1,
           0,
           0,
           1,
           0,
           1,
           1,
           1,
           1,
           0,
           1,
           1,
           0,
           1,
           0,
           0,
           0,
           0,
           0,
           1,
           0,
           1,
           1,
           0,
           1,
           1,
           0,
           1,
           0,
           1,
           0,
           1,
           0,
           1,
           1,
           0,
           0,
           0,
           0,
           0,
           0,
           1,
           0,
           1,
           1,
           1,
           0,
           1,
           1,
           0,
           1,
           1,
           1,
           0,
           1,
           0,
           0,
           1,
           0,
           1,
           1,
           1,
           0,
           0,
           0,
           0,
           0,
           1,
           0,
           1,
           1,
           1,
           1,
           1,
           0,
           0,
           1,
           1,
           1,
           1,
           1,
           1,
           1,
           0,
           0,
           1,
           0,
           0,
           0,
           1,
           1,
           0,
           1,
           0,
           1,
           1,
           0,
           1,
           0,
           1,
           0,
           1,
           1,
           1,
           1,
           1,
           0,
           1,
           1,
           1,
           0,
           1,
           0,
           1,
           1,
           1,
           1,
           0,
           0,
           0,
           1,
           1,
           0,
           0,
           1,
           0,
           1,
           1,
           0,
           1,
           1,
           0,
           0,
           1,
           0,
           1,
           0,
           0,
           1,
           1,
           1,
           1,
           0,
           0,
           0,
           0,
           0,
           1,
           1,
           1,
           0,
           0,
           1,
           0,
           1,
           1,
           1,
           1,
           0,
           0,
           1,
           1,
           1,
           1,
           0,
           1,
           1,
           0,
           0,
           1,
           1,
           1,
           0,
           0,
           0,
           0,
           0,
           0,
           0,
           0,
           0,
           1,
           0,
           1,
           0,
           1,
           1,
           1,
           0,
           1,
           0,
           0,
           1,
           1,
           1,
           1,
           0,
           1,
           1,
           1,
           0,
           0,
           1,
           1,
           1,
           1,
           1,
           1,
           1,
           0,
           1,
           0,
           0,
           1,
           1,
           0,
           1,
           1,
           0,
           0,
           1,
           0,
           1,
           1,
           1,
           0,
           0,
           0,
           1,
           1,
           1,
           1,
           1,
           1,
           0,
           0,
           0,
           1,
           0,
           1,
           1
          ],
          "coloraxis": "coloraxis",
          "symbol": "circle"
         },
         "mode": "markers",
         "name": "",
         "scene": "scene",
         "showlegend": false,
         "type": "scatter3d",
         "x": [
          3.9656736814240294,
          -5.5517929394341605,
          6.68776086674939,
          0.5165362470470959,
          -1.5596724130535877,
          4.972550123670571,
          -6.232714128525154,
          -0.8072380215033506,
          0.9499576013169186,
          9.492600911165113,
          -2.99697496465625,
          -2.2598916225322085,
          6.809141957770477,
          -2.4008166670617874,
          -4.487778515165683,
          -3.564672164484353,
          1.821860641677875,
          2.6083563696508514,
          5.05782548925524,
          -0.9944715878838817,
          2.4044148508820733,
          4.253293958240879,
          5.694606726172606,
          -3.5077609849501292,
          1.0501808737190241,
          0.5733286535866731,
          -0.03213211722131105,
          4.2956173382052745,
          3.6520552698662416,
          2.6018644364635652,
          1.1430602469190294,
          -3.4832137709935904,
          -1.4083618091883023,
          0.8327370226067352,
          -6.572295788329131,
          -5.3080367041636665,
          8.985192617402584,
          4.255884024776311,
          4.522489502335722,
          -6.011055642065317,
          -5.440985775537714,
          7.535164303740893,
          4.50220215657965,
          -6.132016438166981,
          -3.8095696189193764,
          1.3635817836883093,
          0.4612415764085352,
          3.3619791254674776,
          0.3789815661095938,
          3.529745025522083,
          -7.135836961906808,
          -2.1062350789059145,
          0.39262244607905933,
          -3.1598988202367995,
          8.013335482773448,
          6.734525241914259,
          -0.495794456435977,
          2.312205234643183,
          -7.4453281261764745,
          7.218237132269712,
          1.5759095071683231,
          6.998315112054041,
          6.59459239132662,
          4.648736694597558,
          -4.605196460007229,
          3.892003118666156,
          1.3625955789258593,
          8.594919509308816,
          -6.849168546524536,
          -1.6474357917810714,
          -0.9856304345476442,
          4.826131273653971,
          1.4790435360659557,
          -2.393200156423395,
          5.512927013235647,
          0.7367637043070079,
          -0.8962391701277722,
          6.746584373872402,
          4.286756185780559,
          4.367115468505881,
          0.8366407392564068,
          4.769862873102657,
          -1.4907527428279432,
          -0.9178032362067795,
          7.844827108292685,
          7.284613064155981,
          8.574735639321187,
          -6.394849948073911,
          -4.4510635947819335,
          -7.256991092049106,
          1.9987134497734762,
          1.22176173419113,
          -1.6004722868585641,
          4.347408091113051,
          2.661877268423012,
          -6.284305799056836,
          3.4551110878330658,
          0.15621298784895815,
          7.075523786417844,
          -2.2138722106767763,
          1.8521053084829562,
          -2.833561850313176,
          3.759716947404285,
          -0.3360778270327388,
          -5.5855200576481145,
          2.5981175122486775,
          -6.420765287281618,
          -3.2668663712355026,
          -1.3613125490137497,
          -5.17780858168301,
          -6.137385632549194,
          0.5064480531673754,
          -2.475599382143989,
          4.369724073874692,
          -6.56987435820378,
          6.121963904529976,
          -4.392361443468309,
          1.2827956114491645,
          7.625067029219154,
          -3.827067575226624,
          8.832619152421668,
          -6.6530580507920885,
          -6.081290454260132,
          -5.341035134865796,
          -0.5320364379319211,
          0.95791838367645,
          -2.6460413429588354,
          0.6889956057103812,
          6.130486823857481,
          -7.072071547621341,
          6.9529102590635725,
          1.6802252292076802,
          1.1207167528619308,
          -2.4409959991729373,
          2.396816692227452,
          -6.1361114037571864,
          2.5871699391420213,
          4.111753264586642,
          -4.508400906816787,
          0.10658131197084697,
          5.966746971539194,
          -5.138805476153507,
          -3.7465433015758376,
          3.331217436652684,
          8.397255860519893,
          1.6761758460686598,
          -6.234484332155434,
          -3.774717092619199,
          1.9242349974476558,
          -5.7181127027562395,
          6.93703300012437,
          3.301714409969985,
          -0.3803968688782169,
          -0.4535328684081442,
          -5.070351511931833,
          -2.3201557714020327,
          -2.7721465523065265,
          3.026863406684496,
          -6.2419390968111355,
          4.442210988880567,
          2.035081948032831,
          -6.941181260441204,
          6.289671756297102,
          3.019939563501273,
          -4.306039358144579,
          5.838988530126791,
          1.091755622163547,
          4.3397973332741495,
          3.84544505452326,
          2.8190831501859854,
          -4.7018565117790505,
          -1.0075859694583051,
          -5.565002890555519,
          4.920289319911795,
          -4.268454547910402,
          5.93280437344337,
          -0.10703581049958263,
          -0.371051423033105,
          -3.5928759468623843,
          -2.2163588028516745,
          0.6274297512009724,
          -5.829331713198807,
          6.9763122153887345,
          -1.4307654809547061,
          4.058385739138683,
          2.446196208346952,
          1.014906533874973,
          -6.528149755144639,
          7.016287852645483,
          5.217959536885636,
          -7.244681823513475,
          0.6195633695270343,
          -0.5128894732754222,
          5.26427554297757,
          -5.331971062841406,
          -1.9102870631554634,
          8.951016580504318,
          -5.946639571684706,
          3.1514389040001864,
          2.7768720039595722,
          -2.6937886994819875,
          4.628424507711032,
          7.247853090759754,
          2.8003639550241135,
          -4.008432832298981,
          -4.320416961429239,
          0.12443231730286397,
          -4.77615220958908,
          -6.104081007667648,
          6.567656398354147,
          -3.9063453770278977,
          0.09170506687521629,
          -0.4162633806238166,
          -1.4719697681240553,
          0.3748487246503707,
          1.709932919433794,
          -5.6916774111767365,
          -3.2582848749239948,
          0.8614720752171414,
          0.009034731655954791,
          -0.47261341584074235,
          5.711575569427601,
          -6.299204283246334,
          -3.247867146083566,
          -5.698877572172456,
          5.198419944262178,
          -5.855686670225573,
          -6.273518520445829,
          -3.9378675317358915,
          1.9633572175069525,
          2.948661415245559,
          -6.955240739523404,
          -3.961035243372525,
          0.10809520267684454,
          2.6174340656036232,
          1.8717795032545281,
          -0.419924046988076,
          4.971544463099156,
          3.0234594226321994,
          -2.255972573177621,
          7.51846893172724,
          3.818914837888775,
          -2.894074791667501,
          -6.777107843188936,
          1.3307786928078926,
          0.19053648201613915,
          -4.551879954669742,
          -1.4961113906411745,
          -7.0551242722276335,
          2.733731966321695,
          0.09483147846507689,
          -6.0920631755459285,
          -0.4536031276069407,
          -0.9120774721145479,
          -6.590263582705573,
          -6.527641865001269,
          -7.232586091534334,
          -6.130945000391438,
          4.71361332957934,
          2.9524456587802503,
          -3.825351253353931,
          3.6490288705976752,
          6.6236384933109616,
          -5.808879969604677,
          -3.510684954026371,
          -1.0592722192059958,
          -0.605514856443636,
          6.471328085092203,
          -1.8407743070036053,
          -2.039279120262304,
          3.5744824356179947,
          3.0849961827070236,
          -4.944927961610429,
          0.7715731779380314,
          7.292964986821114,
          -0.4972080949299846,
          1.0406146778649294,
          -0.052347994317024076,
          -1.1820156321478823,
          1.6184743671939472,
          1.8472211548030828,
          2.132945277088603,
          -1.3933807259805557,
          -0.7568957080427444,
          2.1848165816499314,
          -1.3217092121579601,
          -0.961174796106354,
          7.2611933035295015,
          2.9926105937820173,
          2.5899430893936684,
          -5.304467968647458,
          1.7496991496597165,
          5.3637026518579125,
          -0.04126648023766285,
          -7.029442020212461,
          -3.022062751657181,
          6.407636332351108,
          -4.005630816167015,
          -0.42776908345153375,
          -3.5889367827761576,
          0.9250005409557759,
          -1.418592656439802,
          -4.6965375271311665,
          -1.0590650815961404,
          1.0768319806793845,
          -5.776503134316031,
          0.7802526820336079,
          -3.1085335481038383,
          -4.3385600581232735,
          -5.278893663960864,
          7.177610026236637,
          -7.848468655778474,
          4.1363633322156,
          5.504180813647925,
          5.272216564317732,
          -0.7427415956957483,
          5.413329620188677,
          5.735878043669804,
          -0.9738331486239443,
          -5.819846473166542,
          8.620839382274033,
          0.2662852064918837,
          -1.8419455789312968,
          -3.0123067877563154,
          4.045191156918947,
          -6.523399033985281,
          -5.84587634825219,
          7.070231673629358,
          1.4709433253731232,
          -4.2236491468123365,
          8.115966687122215,
          -3.63409854347924,
          -4.236966934748565,
          -7.366588298086167,
          -1.9974044075874897,
          6.791615572165819,
          -1.2862268148558826,
          2.680380665384111,
          -1.6431223207993202,
          -4.757245312836285,
          -2.419556963590488,
          -4.184075079411657,
          -4.904546531229709,
          0.47243140704558995,
          -0.5591532485828495,
          8.09664112547297,
          -0.35575474446147365,
          -1.2906821477247283,
          0.1366248526312065,
          3.317532850735335,
          -0.906303524950597,
          0.4386584728918747,
          5.129457866232684,
          3.1211584980461935,
          -5.245374000057831,
          -5.814722916332113,
          6.501390860182107,
          -2.903064961557728,
          -5.619051715243001,
          1.4493141784501071,
          0.9304532312847099,
          -7.238155425857963,
          -2.076623977205213,
          -1.069703587073906,
          -3.226362917434363,
          -4.725060183378911,
          3.0944205278531594,
          5.129687862132644,
          0.8091056844335832,
          5.365257657315671,
          -4.327315931262832,
          -3.6773590831620706,
          -6.685378963723751,
          1.8840804642622073,
          5.904578158800358,
          -1.714225900482045,
          -3.8773173655476896,
          -2.802384789258261,
          -6.713794185329019,
          -1.9295704308971409,
          -0.08948443887991292,
          -5.8694663998294265,
          -1.0912019311456314,
          3.907127017874565,
          -1.848190402098392,
          7.52643807224355,
          -5.52960071208892,
          5.514981041567128,
          -5.050907219938864,
          -2.611047588730541,
          0.6040261434088956,
          4.7627805803907926,
          2.1648553538917326,
          2.3868648664418406,
          3.056658908204565,
          -6.206312451697496,
          1.2199844466981538,
          4.77044890618325,
          4.9114247128714075,
          3.1822572870988566,
          -5.53479141528676,
          6.394935345487679,
          0.6611101820429847,
          4.905213910727297
         ],
         "y": [
          -3.3106997756454777,
          2.471565381880241,
          5.1880424422827485,
          4.917941526740074,
          -4.977259169503069,
          1.0975778198884771,
          1.218381778941,
          -4.652265685840128,
          5.1285391444151065,
          2.0195700083455663,
          -0.9810005499510017,
          -1.1858355152308848,
          2.349707160382813,
          -4.941403878400937,
          4.784438500131286,
          -1.3874846575945898,
          0.29649986044534193,
          6.252996166681427,
          3.0087357255278775,
          -5.947573129429882,
          -3.92725343126418,
          -3.028100390352521,
          2.6684401030062492,
          -3.35462503638377,
          -0.41955104033746893,
          -6.110537880867687,
          5.989937992224073,
          1.0347667519930777,
          -5.016798165026853,
          -2.998321995286056,
          -5.0773666409415945,
          -1.890103611871566,
          0.03355560254404084,
          -6.009386128782078,
          0.34771726501308875,
          -3.5300726989268134,
          -2.422583194951656,
          2.796108799079515,
          -0.07248082224916924,
          0.40885333343986646,
          2.486081634580564,
          3.3172975727831586,
          -3.013523764782179,
          -1.484820486314099,
          4.587005393981478,
          0.4996074998664628,
          6.464200994318604,
          -0.8093270426156481,
          2.242103245206156,
          -4.608201758259806,
          -2.314313152412119,
          4.1866473762084455,
          -5.853603562154204,
          -1.940557735712303,
          2.1940189927869382,
          2.7785858396044176,
          -0.9107446755559346,
          -5.438941490890076,
          -1.7692277570110921,
          -2.346607288570171,
          4.456173868424977,
          -2.1839473542505377,
          2.761327658810309,
          -1.0220627120809944,
          4.748680816511896,
          -3.7054153713517035,
          0.19462830166039893,
          2.3148396892650704,
          -1.0379387517795708,
          -0.7848553478110886,
          -5.7239937945295845,
          -3.629949304306828,
          0.264815824343349,
          0.8819908543543126,
          -3.7723992466796323,
          -3.5656122662541443,
          -5.423846824185196,
          3.0304612573877785,
          1.926803457564504,
          1.3735451550751714,
          -4.108290463164094,
          -2.2609655694296626,
          2.6155532511299158,
          -1.0074902005619206,
          -2.6777905427967714,
          -2.202464807672447,
          5.1536599688609,
          2.085048398725489,
          3.158502749655099,
          -1.522243461188681,
          -4.429805066461291,
          3.6674924851086854,
          -2.7129945495006833,
          -0.14314765144827202,
          -4.479129577500117,
          0.1018316224266826,
          5.1162660673375,
          5.496530776707181,
          -1.9699112879222171,
          -1.8092850246575762,
          0.9616860706671945,
          -2.579591661467413,
          3.5543336425255574,
          4.15618652392014,
          2.0534443440026697,
          -2.896696958042813,
          -0.25062537216289144,
          4.703060518179791,
          5.096016587466489,
          2.1189806454074884,
          1.7193390130381998,
          5.844622212327297,
          5.623636010190012,
          -3.783171641048108,
          0.02327693657825145,
          -1.136653462782048,
          2.5832896632174216,
          2.791267845714356,
          3.0142395563121704,
          4.34428039984735,
          5.807403449246256,
          0.8824078056510382,
          0.6419236285022062,
          1.8160571406490071,
          -1.8043287589952408,
          6.959240100719564,
          -4.659744999400069,
          2.2715552984797194,
          -2.671654520944972,
          -0.03473868291112731,
          1.8165242189910211,
          1.1215926046572862,
          -5.965505769811789,
          5.825084618548901,
          1.729287044152183,
          0.5419681492653129,
          -4.082535467261448,
          -0.11606180349994566,
          -1.3035816835895555,
          -1.14086902739395,
          1.1887184997295228,
          0.13712879571005251,
          4.755982038612792,
          -5.237198866899171,
          3.623625520652763,
          1.6750482045704709,
          0.31076146119252307,
          -4.2933038068092735,
          -5.671119306835711,
          1.8628845870538466,
          3.1042708345086103,
          -4.686775999678279,
          -3.9558903896063184,
          -4.374398998955724,
          3.1283277304981407,
          -2.0092043826365606,
          -3.2958054633424343,
          -4.713759573195561,
          0.903642496184067,
          0.13706544891746913,
          -5.163474027013449,
          0.3978076750664046,
          3.3256086588523273,
          1.3843177653929177,
          -3.697585294599857,
          -2.2804605122026227,
          -5.25934386338875,
          -4.457793150900905,
          2.2388479430302053,
          -4.511612697256899,
          0.24030881844892601,
          6.699994460663882,
          1.9054560933629452,
          -2.2675722813640724,
          -1.4502556817875525,
          -3.227296930857969,
          -0.5219832543498326,
          -2.9696905764509514,
          -4.451616231764638,
          -2.961216763232053,
          -4.048132587910933,
          2.9393112239880756,
          3.0046223717504907,
          7.130488057800291,
          -3.9756353050082964,
          6.121388137318441,
          2.407627840647171,
          -0.25349513670776735,
          -1.5939552865863638,
          -0.4217296413205102,
          -0.23938057508950852,
          1.0046602806012739,
          -3.034511747410599,
          3.292111485924842,
          3.519341058053292,
          6.061045201089446,
          3.4276731395623665,
          0.30931886705649136,
          5.138155180244787,
          -3.1420755509265494,
          -3.278717705581643,
          -0.6942089179369452,
          2.915163257641924,
          -3.158250024079845,
          3.792337136116686,
          4.632634016125034,
          6.25462178958167,
          3.1860039744997684,
          0.6385445654327336,
          -0.8118553429980111,
          4.998602515518412,
          4.341558608427756,
          -5.245291371445144,
          -5.124410466587167,
          0.3468972944129107,
          -3.0293954603762696,
          2.03238838833725,
          -3.3308025670108785,
          -5.22487691737636,
          -4.699955318864831,
          -4.57942865373567,
          -0.9095252130131947,
          -0.2719461578487543,
          -2.7948801605893316,
          1.0167773738842412,
          0.67142350616312,
          1.231150488757552,
          -0.13570587600073988,
          -4.180464810010613,
          -4.399580975654056,
          -5.536381900976213,
          0.20115984096827513,
          -4.256619257580074,
          -3.8976560950848014,
          -5.694550074909388,
          -1.2939792256739215,
          -3.6103995904456037,
          -4.375545944482893,
          -5.014341596615132,
          -1.5668485923413902,
          1.8125968578402658,
          -3.402343788330927,
          -0.1343961404813567,
          -0.7891839677802047,
          1.00875434141002,
          -5.222303675185284,
          3.183709304088915,
          -5.309619572714915,
          0.27671736443986095,
          -1.4165992854033178,
          1.8932524577735321,
          -3.900267697129227,
          -4.2748499248519,
          -5.1786023534431544,
          -0.1250827206878197,
          0.2398482165525455,
          -2.515062231783238,
          0.8039364776535766,
          0.5308316914220125,
          2.339300119720639,
          -4.54961909444338,
          1.7699883638708616,
          4.511989372380631,
          0.04330865077576069,
          2.365313309689063,
          -0.4201806886154988,
          3.3358216924856947,
          2.9001457612497785,
          2.3416729973018398,
          3.1285530254171747,
          -1.415121199916718,
          -5.182084478696072,
          1.4313657732346001,
          -2.906674164168623,
          2.0915376796393654,
          -1.2632480370008503,
          -5.052938413038004,
          -5.52197458429219,
          -5.582344159391939,
          -0.3941035876993264,
          -5.402727018695541,
          4.207545423307107,
          3.3524294847789515,
          -5.724419045569647,
          -4.2353653119633945,
          5.071180928432545,
          -4.929783322394794,
          0.6951465298721446,
          -4.561939927771503,
          2.3537832808338948,
          0.5472431111423711,
          -5.765994772693126,
          3.8246603512362696,
          0.22995001783080882,
          0.7177547473417065,
          4.400300991074658,
          0.2264918746680116,
          -1.6024881026726217,
          -4.722821626227401,
          -4.612277211093812,
          -4.950236952931438,
          -4.950765476227708,
          4.880700561201208,
          0.692401452446804,
          -1.776038720650036,
          1.8149886292222688,
          -4.665069490461076,
          -4.903375824766782,
          3.5121890645737084,
          -3.856457334655436,
          -3.11522081672849,
          -3.2225759184150555,
          0.750091923302083,
          2.9342787722298067,
          -2.2692466816652064,
          -0.25812717108598887,
          2.6622410629094895,
          -2.2584616997943785,
          -4.8634835900247495,
          0.7430407464279195,
          -0.6448107001703381,
          0.5335115749575505,
          -1.5316883459520474,
          -3.499017827484054,
          -3.251378316901504,
          0.050028927536522355,
          1.4365131791922283,
          2.8714024758802377,
          -5.147122434615922,
          -1.348556239456088,
          3.9156470127056373,
          -4.4620089891972095,
          4.6950767614620945,
          -1.5108255103724093,
          4.992068038013248,
          -1.4065317444927883,
          -3.9826138389948693,
          -4.248087074561131,
          5.317375570484288,
          -0.9529291115583169,
          4.9533445811812955,
          3.6439405014900808,
          -3.943115171956477,
          -4.974560291909803,
          0.8968496144318702,
          -1.715940549770096,
          5.098842580619705,
          -1.1571566263798676,
          -4.964254311092363,
          -4.453745063511259,
          -5.599903851967823,
          -5.813315937375844,
          0.48738617095119896,
          -0.5718349443254189,
          1.0119707706165888,
          1.3213559808055853,
          -0.5557206528113463,
          -0.2573741657744375,
          2.0134052005524685,
          -5.530734959698907,
          -5.926842894195562,
          -2.7461839671413624,
          -3.9677381936477487,
          -4.954776275204939,
          -3.3112147817823443,
          2.9551498751156102,
          -2.814257182205435,
          3.078775487286546,
          3.506194964131375,
          2.2552988091333126,
          2.019896794335188,
          4.202720741475909,
          0.18323541295002313,
          5.805651084770785,
          -2.4886472041294136,
          -3.36436971430995,
          4.3396707729144435,
          -4.655383233760825,
          -0.9499943175753088,
          -0.8912851611665326,
          5.243201952706365,
          -1.222011420107349,
          2.8362823735384124,
          -3.795440702008802,
          0.05883576887191507,
          1.6929703636210376,
          1.1711427712207867,
          7.357174509491355,
          0.22095730245155254,
          0.5092113802126098,
          0.5349410139755206,
          -2.818440319510738,
          -3.190750950305842,
          -4.357555391349571,
          -3.150047064790355,
          0.9409074207113898,
          -5.4435594506319775,
          -1.449619560042219,
          1.8514512377648924,
          -0.22005030015837812,
          2.7136564904415144,
          -3.163101550869408,
          -5.88244304372105,
          2.4929012857088395
         ],
         "z": [
          1.4722489690510685,
          -0.14729320172230634,
          -1.886029663001152,
          -0.7691869017971518,
          0.2536750223948029,
          -2.132377352609536,
          -1.3551188596577832,
          1.0587129189514046,
          -0.03548155081925577,
          -1.559627524604471,
          -1.6183600748734843,
          -2.9631857137032145,
          -2.1743009598672476,
          0.624091685103967,
          1.6373281129614543,
          -3.000574384325011,
          1.1357392986256478,
          0.2665079952592612,
          -2.451025979614644,
          0.8230123452412743,
          2.169597391747566,
          1.6497943084540574,
          -3.0660130043724894,
          -1.567117695065192,
          -1.4140314079030452,
          1.689120359745718,
          0.27349691513853575,
          -2.4971222939963567,
          3.8391994314452806,
          -0.2803755513594255,
          1.6260631177848004,
          -3.200789846603023,
          -0.6691597464650287,
          2.0778217045137426,
          -0.7261243403652818,
          -2.137649313339438,
          1.7847377425698059,
          -2.5825392182688978,
          -0.9424382129594164,
          -1.0526403178035604,
          1.2720202423744316,
          -1.9055769965107894,
          1.1337494964578587,
          -1.08436766553824,
          1.4714323648220333,
          -3.182560435778363,
          0.25019391258011203,
          -1.64700908953366,
          2.913755137041582,
          1.248880730290255,
          -2.307319398388402,
          -1.5601360908417448,
          1.896212386681736,
          -2.527446590298879,
          -2.1791692414246917,
          -2.570823686816544,
          -2.0857371715700044,
          3.2717332430769597,
          -1.941487419152553,
          1.4992500413820737,
          3.8840557559279283,
          1.4658536517940182,
          -2.4524644074937525,
          -3.576179811490634,
          2.5418699540754615,
          0.9458290803329059,
          -1.3216949420947168,
          -1.854273297642563,
          -1.4142104618583442,
          -2.3557706259845053,
          1.0125540922541696,
          0.7926257640187584,
          -2.890491138132134,
          -2.6399410329720108,
          1.760389532478404,
          0.2778137906036649,
          1.304191026154766,
          -2.870038642692483,
          -3.0114527670977855,
          -2.3402267199938005,
          1.1360005681292693,
          0.27181135430068054,
          2.717125602141912,
          -1.6651425933345405,
          2.147768873508347,
          1.4917421379214466,
          0.454711393525216,
          -0.005525799029030714,
          1.497192791414035,
          -0.9827284185630513,
          0.7640952959201627,
          0.0970075526897229,
          -0.8859632489511966,
          -0.45740117400404107,
          2.2986736694405567,
          -0.8289146038759126,
          -0.5120993043296731,
          5.371469242064109,
          1.2144778213854357,
          -1.8116930420095305,
          -1.0805047826952425,
          -2.82586753423578,
          -3.3542254583258404,
          4.648267211828637,
          0.7407624241240565,
          0.29083685341099363,
          -1.1503087301170398,
          3.299727324254465,
          -0.13444829363530472,
          0.9768831230539446,
          -0.9478209537444946,
          0.2653877891782863,
          -0.08735042706026855,
          1.9488011541523127,
          -0.9751269108979127,
          1.0325488668405294,
          1.5913339014959667,
          -0.20206277260718558,
          -1.968119040152484,
          2.2706930245574495,
          -1.8181566641128684,
          -0.7830085334720959,
          -1.082561872560737,
          -0.09507780657481699,
          -2.7522216881807187,
          -0.2991552025843005,
          1.0096744430860816,
          -3.9218318718000664,
          0.8401544697999083,
          -2.221706174625877,
          -1.4460643212532474,
          -1.7858077629877602,
          2.482816741381257,
          4.783185954883323,
          -3.929262883418048,
          -1.1094820203463835,
          2.904898720762067,
          -1.4160053915455209,
          0.6146676796809964,
          -1.4374916304029686,
          -0.25264909287699633,
          -1.1354238718170773,
          2.673727015195272,
          2.0659243060880037,
          -0.8771281275947738,
          -0.1552321438616499,
          -1.2614679339844643,
          -0.800045570495708,
          2.841067573977069,
          -1.1765358716119716,
          -0.5507479466639456,
          1.760803348673322,
          1.0314815411675209,
          0.7694652762986243,
          -0.35645262236616604,
          -1.2292754564385466,
          -2.0638505408895753,
          1.9976201485626253,
          -1.016438309643157,
          -1.4399228506286155,
          2.2544798805299173,
          -0.6994436230372454,
          -1.8820854028064322,
          -2.907720512805415,
          -2.2026591594374634,
          0.47363913767774285,
          2.9319662850668595,
          2.8797857121023354,
          -3.7921434233848466,
          2.8650985835074887,
          -0.5728146055552295,
          5.024654083548478,
          0.7075115948743739,
          0.37335666850448473,
          -3.0663097239807846,
          2.0130734300050155,
          -2.2886855912944712,
          -0.9376614649643327,
          0.08534521121088971,
          -0.5351605715832999,
          2.822065676748829,
          -0.3506607162430548,
          -3.1088858497944707,
          4.625723241659141,
          2.9079015316469077,
          -0.39629991955058724,
          5.408925719946299,
          -2.2507459777242245,
          1.3256131383165752,
          -0.9281503583425492,
          -1.3336831012566084,
          -2.2787424826011176,
          -0.7107810322768032,
          -2.189138197888984,
          0.9734766711860551,
          4.022594043854644,
          -2.6378925684243986,
          -1.186330388567172,
          0.2110869883832449,
          -1.059313807107077,
          -1.3563149682921396,
          -0.7101154234410799,
          -2.2497076663797895,
          -0.030614992077619203,
          0.4939442524914692,
          -0.008070919509866398,
          -0.3918209842511972,
          -0.7113438537973144,
          -0.872296025881671,
          -0.1591815693109765,
          3.4997967088972812,
          4.427354780739611,
          1.5363736157988443,
          1.5921766485320303,
          -2.4513678009773865,
          2.6581534137002323,
          0.6422305367216895,
          -1.6996304916885607,
          2.58280249796534,
          1.2692859498538187,
          0.5610956576938876,
          -0.2582078231892454,
          -1.505406749552333,
          -1.9723878394281498,
          -1.8397871820802791,
          -2.1878470108833343,
          -1.4036935342172665,
          -1.7826748536395247,
          0.4184990085592438,
          0.6543617952035158,
          3.4892701420786247,
          -1.1332836551440748,
          0.37272266719428704,
          1.4407708300306714,
          1.6792260828623067,
          -1.4555066260822713,
          2.788087800090676,
          2.6153755104048675,
          3.9686294076439443,
          -3.3266691722605874,
          -1.935642217747657,
          0.47654327433135174,
          -3.689032299423636,
          -1.8612113357809048,
          -3.325743879124766,
          1.6166023335077586,
          -0.9477854245320909,
          -0.007799972495458067,
          -0.743250001120738,
          -0.8621858826441269,
          -1.6124823015151666,
          -1.8275774673511849,
          -2.956922133376495,
          0.6966188078285374,
          -1.1631467224396355,
          -1.0983288481331959,
          -2.783077029327483,
          0.20149843800617886,
          -1.5885406135980153,
          -3.502991187537975,
          0.44578001551573293,
          -0.6187724016771614,
          -2.5054502587961887,
          -0.46421296642344473,
          2.556355326512072,
          -2.8869978573430637,
          -1.499467315791615,
          -2.6350151173003615,
          -0.4054238213073898,
          2.9613568725010797,
          2.959837913935782,
          4.181695478585798,
          -0.6570084699031019,
          -0.6819082296371625,
          -0.59443303732982,
          -2.014450083842762,
          1.824822533103904,
          1.5211001998622564,
          1.4590898710637998,
          -0.9026424991370579,
          1.3703675338850692,
          -0.3382162477727352,
          2.906252644049449,
          1.0180427835350958,
          2.698256113181084,
          -0.0802689438781839,
          2.5417976484343896,
          0.6799093670840102,
          2.819870512598156,
          -2.8172087740533818,
          -0.5895478015663905,
          2.207565453362561,
          -2.7058612319725506,
          -0.7499329317165234,
          -1.943156647298965,
          -1.7385972763504782,
          -0.5626225544674754,
          -2.8448161215677596,
          0.2961371296247579,
          0.5711265955977206,
          1.8082414935697864,
          2.067360757369058,
          2.045322842041999,
          -2.777005979429091,
          -1.7802124497048724,
          -0.2145186798019344,
          1.196534537691692,
          0.060653890889937445,
          1.5494231757760306,
          -1.8983701488948161,
          2.109713612525676,
          -2.191780615466392,
          -0.7192213900278069,
          -3.077934725673539,
          0.40813446723685776,
          -1.5488328282277637,
          -1.6996224656833239,
          1.4754435459126434,
          2.352863583268538,
          -1.1499988271871162,
          1.7605871690790795,
          -2.610534890335488,
          -1.768898241771682,
          -1.3253399821487388,
          1.7546067824542744,
          -1.0459653347220963,
          -0.43749860596643386,
          -3.3064308656827084,
          2.1686436135453957,
          -3.234182476179925,
          -2.2304151924383113,
          0.9911117668249912,
          3.045315082530992,
          -1.8934439673380354,
          3.8763652215158393,
          0.9315600423379066,
          -1.0569273319513528,
          2.8337594276493916,
          4.305248036450231,
          -0.31437767563784896,
          3.484191039824746,
          0.09198811304745705,
          -2.0130105321791456,
          1.0842079663625,
          -3.1975512153672527,
          1.7301938137846764,
          4.856307615015587,
          -2.5092942919957104,
          0.8912465181746052,
          3.1790118270658594,
          0.5906191718197689,
          1.814991533261444,
          -2.571493141672399,
          -1.165054629309858,
          1.1375760109981234,
          -0.37296190145589303,
          0.6093016719541412,
          -2.17370125737427,
          0.03954038747296278,
          3.0886172173893676,
          2.025899979031524,
          -2.5356944480296724,
          -0.9801643576757872,
          2.4869834333498106,
          -1.6161776093619242,
          1.5443752340072994,
          -0.10801421923221101,
          -3.5126340542954124,
          3.9287394585757025,
          -2.811937265778753,
          -0.5723900485332244,
          3.2534029654530814,
          -1.2363787712032732,
          0.2456220901724372,
          1.115542728484556,
          -0.15649364600235235,
          3.347834190399329,
          0.033002227264785626,
          -1.3722631846627307,
          0.3493012554251436,
          4.5664758979182345,
          -0.6302362386538033,
          2.076085929002865,
          1.2031433646379062,
          -1.1063101758798806,
          -0.43977609802815837,
          -1.1328147904447283,
          1.269196690558514,
          -0.3615266065473906,
          0.7389803092642142,
          -3.4849307870115904,
          0.875083308884698,
          -0.34578512531876116,
          2.0189561999195442,
          0.025874648663578564,
          -0.6096727034381759,
          3.1826250160638283,
          -0.06080990123913623,
          -2.8034892785703263,
          -2.042501983686066,
          -0.4457534832085095,
          2.847345415655164,
          1.9483348919256178,
          -3.491526075771734
         ]
        }
       ],
       "layout": {
        "coloraxis": {
         "colorbar": {
          "title": {
           "text": "color"
          }
         },
         "colorscale": [
          [
           0,
           "#0d0887"
          ],
          [
           0.1111111111111111,
           "#46039f"
          ],
          [
           0.2222222222222222,
           "#7201a8"
          ],
          [
           0.3333333333333333,
           "#9c179e"
          ],
          [
           0.4444444444444444,
           "#bd3786"
          ],
          [
           0.5555555555555556,
           "#d8576b"
          ],
          [
           0.6666666666666666,
           "#ed7953"
          ],
          [
           0.7777777777777778,
           "#fb9f3a"
          ],
          [
           0.8888888888888888,
           "#fdca26"
          ],
          [
           1,
           "#f0f921"
          ]
         ]
        },
        "legend": {
         "tracegroupgap": 0
        },
        "margin": {
         "t": 60
        },
        "scene": {
         "domain": {
          "x": [
           0,
           1
          ],
          "y": [
           0,
           1
          ]
         },
         "xaxis": {
          "title": {
           "text": "x"
          }
         },
         "yaxis": {
          "title": {
           "text": "y"
          }
         },
         "zaxis": {
          "title": {
           "text": "z"
          }
         }
        },
        "template": {
         "data": {
          "bar": [
           {
            "error_x": {
             "color": "#2a3f5f"
            },
            "error_y": {
             "color": "#2a3f5f"
            },
            "marker": {
             "line": {
              "color": "#E5ECF6",
              "width": 0.5
             },
             "pattern": {
              "fillmode": "overlay",
              "size": 10,
              "solidity": 0.2
             }
            },
            "type": "bar"
           }
          ],
          "barpolar": [
           {
            "marker": {
             "line": {
              "color": "#E5ECF6",
              "width": 0.5
             },
             "pattern": {
              "fillmode": "overlay",
              "size": 10,
              "solidity": 0.2
             }
            },
            "type": "barpolar"
           }
          ],
          "carpet": [
           {
            "aaxis": {
             "endlinecolor": "#2a3f5f",
             "gridcolor": "white",
             "linecolor": "white",
             "minorgridcolor": "white",
             "startlinecolor": "#2a3f5f"
            },
            "baxis": {
             "endlinecolor": "#2a3f5f",
             "gridcolor": "white",
             "linecolor": "white",
             "minorgridcolor": "white",
             "startlinecolor": "#2a3f5f"
            },
            "type": "carpet"
           }
          ],
          "choropleth": [
           {
            "colorbar": {
             "outlinewidth": 0,
             "ticks": ""
            },
            "type": "choropleth"
           }
          ],
          "contour": [
           {
            "colorbar": {
             "outlinewidth": 0,
             "ticks": ""
            },
            "colorscale": [
             [
              0,
              "#0d0887"
             ],
             [
              0.1111111111111111,
              "#46039f"
             ],
             [
              0.2222222222222222,
              "#7201a8"
             ],
             [
              0.3333333333333333,
              "#9c179e"
             ],
             [
              0.4444444444444444,
              "#bd3786"
             ],
             [
              0.5555555555555556,
              "#d8576b"
             ],
             [
              0.6666666666666666,
              "#ed7953"
             ],
             [
              0.7777777777777778,
              "#fb9f3a"
             ],
             [
              0.8888888888888888,
              "#fdca26"
             ],
             [
              1,
              "#f0f921"
             ]
            ],
            "type": "contour"
           }
          ],
          "contourcarpet": [
           {
            "colorbar": {
             "outlinewidth": 0,
             "ticks": ""
            },
            "type": "contourcarpet"
           }
          ],
          "heatmap": [
           {
            "colorbar": {
             "outlinewidth": 0,
             "ticks": ""
            },
            "colorscale": [
             [
              0,
              "#0d0887"
             ],
             [
              0.1111111111111111,
              "#46039f"
             ],
             [
              0.2222222222222222,
              "#7201a8"
             ],
             [
              0.3333333333333333,
              "#9c179e"
             ],
             [
              0.4444444444444444,
              "#bd3786"
             ],
             [
              0.5555555555555556,
              "#d8576b"
             ],
             [
              0.6666666666666666,
              "#ed7953"
             ],
             [
              0.7777777777777778,
              "#fb9f3a"
             ],
             [
              0.8888888888888888,
              "#fdca26"
             ],
             [
              1,
              "#f0f921"
             ]
            ],
            "type": "heatmap"
           }
          ],
          "heatmapgl": [
           {
            "colorbar": {
             "outlinewidth": 0,
             "ticks": ""
            },
            "colorscale": [
             [
              0,
              "#0d0887"
             ],
             [
              0.1111111111111111,
              "#46039f"
             ],
             [
              0.2222222222222222,
              "#7201a8"
             ],
             [
              0.3333333333333333,
              "#9c179e"
             ],
             [
              0.4444444444444444,
              "#bd3786"
             ],
             [
              0.5555555555555556,
              "#d8576b"
             ],
             [
              0.6666666666666666,
              "#ed7953"
             ],
             [
              0.7777777777777778,
              "#fb9f3a"
             ],
             [
              0.8888888888888888,
              "#fdca26"
             ],
             [
              1,
              "#f0f921"
             ]
            ],
            "type": "heatmapgl"
           }
          ],
          "histogram": [
           {
            "marker": {
             "pattern": {
              "fillmode": "overlay",
              "size": 10,
              "solidity": 0.2
             }
            },
            "type": "histogram"
           }
          ],
          "histogram2d": [
           {
            "colorbar": {
             "outlinewidth": 0,
             "ticks": ""
            },
            "colorscale": [
             [
              0,
              "#0d0887"
             ],
             [
              0.1111111111111111,
              "#46039f"
             ],
             [
              0.2222222222222222,
              "#7201a8"
             ],
             [
              0.3333333333333333,
              "#9c179e"
             ],
             [
              0.4444444444444444,
              "#bd3786"
             ],
             [
              0.5555555555555556,
              "#d8576b"
             ],
             [
              0.6666666666666666,
              "#ed7953"
             ],
             [
              0.7777777777777778,
              "#fb9f3a"
             ],
             [
              0.8888888888888888,
              "#fdca26"
             ],
             [
              1,
              "#f0f921"
             ]
            ],
            "type": "histogram2d"
           }
          ],
          "histogram2dcontour": [
           {
            "colorbar": {
             "outlinewidth": 0,
             "ticks": ""
            },
            "colorscale": [
             [
              0,
              "#0d0887"
             ],
             [
              0.1111111111111111,
              "#46039f"
             ],
             [
              0.2222222222222222,
              "#7201a8"
             ],
             [
              0.3333333333333333,
              "#9c179e"
             ],
             [
              0.4444444444444444,
              "#bd3786"
             ],
             [
              0.5555555555555556,
              "#d8576b"
             ],
             [
              0.6666666666666666,
              "#ed7953"
             ],
             [
              0.7777777777777778,
              "#fb9f3a"
             ],
             [
              0.8888888888888888,
              "#fdca26"
             ],
             [
              1,
              "#f0f921"
             ]
            ],
            "type": "histogram2dcontour"
           }
          ],
          "mesh3d": [
           {
            "colorbar": {
             "outlinewidth": 0,
             "ticks": ""
            },
            "type": "mesh3d"
           }
          ],
          "parcoords": [
           {
            "line": {
             "colorbar": {
              "outlinewidth": 0,
              "ticks": ""
             }
            },
            "type": "parcoords"
           }
          ],
          "pie": [
           {
            "automargin": true,
            "type": "pie"
           }
          ],
          "scatter": [
           {
            "fillpattern": {
             "fillmode": "overlay",
             "size": 10,
             "solidity": 0.2
            },
            "type": "scatter"
           }
          ],
          "scatter3d": [
           {
            "line": {
             "colorbar": {
              "outlinewidth": 0,
              "ticks": ""
             }
            },
            "marker": {
             "colorbar": {
              "outlinewidth": 0,
              "ticks": ""
             }
            },
            "type": "scatter3d"
           }
          ],
          "scattercarpet": [
           {
            "marker": {
             "colorbar": {
              "outlinewidth": 0,
              "ticks": ""
             }
            },
            "type": "scattercarpet"
           }
          ],
          "scattergeo": [
           {
            "marker": {
             "colorbar": {
              "outlinewidth": 0,
              "ticks": ""
             }
            },
            "type": "scattergeo"
           }
          ],
          "scattergl": [
           {
            "marker": {
             "colorbar": {
              "outlinewidth": 0,
              "ticks": ""
             }
            },
            "type": "scattergl"
           }
          ],
          "scattermapbox": [
           {
            "marker": {
             "colorbar": {
              "outlinewidth": 0,
              "ticks": ""
             }
            },
            "type": "scattermapbox"
           }
          ],
          "scatterpolar": [
           {
            "marker": {
             "colorbar": {
              "outlinewidth": 0,
              "ticks": ""
             }
            },
            "type": "scatterpolar"
           }
          ],
          "scatterpolargl": [
           {
            "marker": {
             "colorbar": {
              "outlinewidth": 0,
              "ticks": ""
             }
            },
            "type": "scatterpolargl"
           }
          ],
          "scatterternary": [
           {
            "marker": {
             "colorbar": {
              "outlinewidth": 0,
              "ticks": ""
             }
            },
            "type": "scatterternary"
           }
          ],
          "surface": [
           {
            "colorbar": {
             "outlinewidth": 0,
             "ticks": ""
            },
            "colorscale": [
             [
              0,
              "#0d0887"
             ],
             [
              0.1111111111111111,
              "#46039f"
             ],
             [
              0.2222222222222222,
              "#7201a8"
             ],
             [
              0.3333333333333333,
              "#9c179e"
             ],
             [
              0.4444444444444444,
              "#bd3786"
             ],
             [
              0.5555555555555556,
              "#d8576b"
             ],
             [
              0.6666666666666666,
              "#ed7953"
             ],
             [
              0.7777777777777778,
              "#fb9f3a"
             ],
             [
              0.8888888888888888,
              "#fdca26"
             ],
             [
              1,
              "#f0f921"
             ]
            ],
            "type": "surface"
           }
          ],
          "table": [
           {
            "cells": {
             "fill": {
              "color": "#EBF0F8"
             },
             "line": {
              "color": "white"
             }
            },
            "header": {
             "fill": {
              "color": "#C8D4E3"
             },
             "line": {
              "color": "white"
             }
            },
            "type": "table"
           }
          ]
         },
         "layout": {
          "annotationdefaults": {
           "arrowcolor": "#2a3f5f",
           "arrowhead": 0,
           "arrowwidth": 1
          },
          "autotypenumbers": "strict",
          "coloraxis": {
           "colorbar": {
            "outlinewidth": 0,
            "ticks": ""
           }
          },
          "colorscale": {
           "diverging": [
            [
             0,
             "#8e0152"
            ],
            [
             0.1,
             "#c51b7d"
            ],
            [
             0.2,
             "#de77ae"
            ],
            [
             0.3,
             "#f1b6da"
            ],
            [
             0.4,
             "#fde0ef"
            ],
            [
             0.5,
             "#f7f7f7"
            ],
            [
             0.6,
             "#e6f5d0"
            ],
            [
             0.7,
             "#b8e186"
            ],
            [
             0.8,
             "#7fbc41"
            ],
            [
             0.9,
             "#4d9221"
            ],
            [
             1,
             "#276419"
            ]
           ],
           "sequential": [
            [
             0,
             "#0d0887"
            ],
            [
             0.1111111111111111,
             "#46039f"
            ],
            [
             0.2222222222222222,
             "#7201a8"
            ],
            [
             0.3333333333333333,
             "#9c179e"
            ],
            [
             0.4444444444444444,
             "#bd3786"
            ],
            [
             0.5555555555555556,
             "#d8576b"
            ],
            [
             0.6666666666666666,
             "#ed7953"
            ],
            [
             0.7777777777777778,
             "#fb9f3a"
            ],
            [
             0.8888888888888888,
             "#fdca26"
            ],
            [
             1,
             "#f0f921"
            ]
           ],
           "sequentialminus": [
            [
             0,
             "#0d0887"
            ],
            [
             0.1111111111111111,
             "#46039f"
            ],
            [
             0.2222222222222222,
             "#7201a8"
            ],
            [
             0.3333333333333333,
             "#9c179e"
            ],
            [
             0.4444444444444444,
             "#bd3786"
            ],
            [
             0.5555555555555556,
             "#d8576b"
            ],
            [
             0.6666666666666666,
             "#ed7953"
            ],
            [
             0.7777777777777778,
             "#fb9f3a"
            ],
            [
             0.8888888888888888,
             "#fdca26"
            ],
            [
             1,
             "#f0f921"
            ]
           ]
          },
          "colorway": [
           "#636efa",
           "#EF553B",
           "#00cc96",
           "#ab63fa",
           "#FFA15A",
           "#19d3f3",
           "#FF6692",
           "#B6E880",
           "#FF97FF",
           "#FECB52"
          ],
          "font": {
           "color": "#2a3f5f"
          },
          "geo": {
           "bgcolor": "white",
           "lakecolor": "white",
           "landcolor": "#E5ECF6",
           "showlakes": true,
           "showland": true,
           "subunitcolor": "white"
          },
          "hoverlabel": {
           "align": "left"
          },
          "hovermode": "closest",
          "mapbox": {
           "style": "light"
          },
          "paper_bgcolor": "white",
          "plot_bgcolor": "#E5ECF6",
          "polar": {
           "angularaxis": {
            "gridcolor": "white",
            "linecolor": "white",
            "ticks": ""
           },
           "bgcolor": "#E5ECF6",
           "radialaxis": {
            "gridcolor": "white",
            "linecolor": "white",
            "ticks": ""
           }
          },
          "scene": {
           "xaxis": {
            "backgroundcolor": "#E5ECF6",
            "gridcolor": "white",
            "gridwidth": 2,
            "linecolor": "white",
            "showbackground": true,
            "ticks": "",
            "zerolinecolor": "white"
           },
           "yaxis": {
            "backgroundcolor": "#E5ECF6",
            "gridcolor": "white",
            "gridwidth": 2,
            "linecolor": "white",
            "showbackground": true,
            "ticks": "",
            "zerolinecolor": "white"
           },
           "zaxis": {
            "backgroundcolor": "#E5ECF6",
            "gridcolor": "white",
            "gridwidth": 2,
            "linecolor": "white",
            "showbackground": true,
            "ticks": "",
            "zerolinecolor": "white"
           }
          },
          "shapedefaults": {
           "line": {
            "color": "#2a3f5f"
           }
          },
          "ternary": {
           "aaxis": {
            "gridcolor": "white",
            "linecolor": "white",
            "ticks": ""
           },
           "baxis": {
            "gridcolor": "white",
            "linecolor": "white",
            "ticks": ""
           },
           "bgcolor": "#E5ECF6",
           "caxis": {
            "gridcolor": "white",
            "linecolor": "white",
            "ticks": ""
           }
          },
          "title": {
           "x": 0.05
          },
          "xaxis": {
           "automargin": true,
           "gridcolor": "white",
           "linecolor": "white",
           "ticks": "",
           "title": {
            "standoff": 15
           },
           "zerolinecolor": "white",
           "zerolinewidth": 2
          },
          "yaxis": {
           "automargin": true,
           "gridcolor": "white",
           "linecolor": "white",
           "ticks": "",
           "title": {
            "standoff": 15
           },
           "zerolinecolor": "white",
           "zerolinewidth": 2
          }
         }
        }
       }
      }
     },
     "metadata": {},
     "output_type": "display_data"
    }
   ],
   "source": [
    "px.scatter_3d(x=x_testdf.iloc[:,0],y=x_testdf.iloc[:,1],z=x_testdf.iloc[:,2], color= y_test)"
   ]
  },
  {
   "cell_type": "code",
   "execution_count": 445,
   "metadata": {},
   "outputs": [
    {
     "data": {
      "application/vnd.plotly.v1+json": {
       "config": {
        "plotlyServerURL": "https://plot.ly"
       },
       "data": [
        {
         "hovertemplate": "x=%{x}<br>y=%{y}<br>z=%{z}<br>color=%{marker.color}<extra></extra>",
         "legendgroup": "",
         "marker": {
          "color": [
           0,
           0,
           1,
           1,
           0,
           0,
           0,
           0,
           1,
           0,
           0,
           1,
           1,
           0,
           1,
           1,
           0,
           0,
           1,
           0,
           1,
           1,
           1,
           0,
           0,
           1,
           1,
           1,
           1,
           0,
           1,
           1,
           0,
           1,
           0,
           0,
           0,
           1,
           0,
           0,
           1,
           1,
           0,
           0,
           1,
           0,
           1,
           0,
           1,
           1,
           1,
           1,
           1,
           1,
           1,
           1,
           0,
           1,
           1,
           1,
           1,
           1,
           1,
           0,
           1,
           0,
           0,
           1,
           1,
           1,
           0,
           1,
           0,
           1,
           1,
           0,
           1,
           1,
           0,
           0,
           0,
           0,
           1,
           0,
           0,
           1,
           1,
           0,
           1,
           1,
           0,
           1,
           0,
           0,
           1,
           0,
           0,
           1,
           1,
           0,
           0,
           1,
           1,
           1,
           0,
           0,
           0,
           1,
           1,
           0,
           0,
           1,
           1,
           1,
           0,
           0,
           1,
           0,
           1,
           1,
           1,
           1,
           0,
           0,
           1,
           1,
           0,
           0,
           0,
           1,
           1,
           0,
           1,
           1,
           0,
           0,
           1,
           0,
           0,
           0,
           1,
           0,
           1,
           1,
           1,
           0,
           0,
           0,
           1,
           0,
           1,
           1,
           0,
           0,
           1,
           0,
           0,
           1,
           0,
           0,
           1,
           1,
           1,
           0,
           1,
           0,
           1,
           1,
           0,
           1,
           0,
           1,
           0,
           0,
           1,
           1,
           0,
           0,
           0,
           0,
           1,
           1,
           1,
           1,
           1,
           0,
           1,
           1,
           1,
           0,
           1,
           0,
           0,
           1,
           0,
           1,
           1,
           0,
           0,
           0,
           0,
           0,
           1,
           0,
           1,
           1,
           1,
           1,
           0,
           1,
           1,
           1,
           1,
           1,
           1,
           0,
           0,
           0,
           1,
           1,
           0,
           0,
           0,
           0,
           0,
           0,
           0,
           0,
           0,
           0,
           1,
           1,
           0,
           1,
           1,
           0,
           1,
           1,
           1,
           1,
           1,
           0,
           1,
           1,
           0,
           1,
           1,
           0,
           1,
           0,
           0,
           0,
           1,
           0,
           1,
           0,
           1,
           0,
           0,
           0,
           0,
           0,
           1,
           0,
           1,
           1,
           1,
           1,
           0,
           1,
           0,
           1,
           0,
           0,
           1,
           0,
           1,
           1,
           1,
           0,
           1,
           0,
           1,
           0,
           1,
           1,
           1,
           1,
           1,
           0,
           0,
           1,
           1,
           0,
           1,
           1,
           1,
           1,
           0,
           0,
           1,
           1,
           1,
           1,
           0,
           0,
           0,
           0,
           1,
           0,
           1,
           1,
           0,
           1,
           0,
           0,
           0,
           1,
           1,
           0,
           1,
           1,
           0,
           0,
           0,
           0,
           0,
           1,
           1,
           1,
           1,
           0,
           1,
           1,
           1,
           0,
           0,
           1,
           1,
           0,
           1,
           1,
           1,
           0,
           1,
           1,
           1,
           1,
           0,
           1,
           0,
           1,
           0,
           0,
           0,
           0,
           1,
           0,
           0,
           1,
           1,
           1,
           0,
           1,
           0,
           1,
           0,
           0,
           1,
           1,
           0,
           0,
           1,
           0,
           0,
           0,
           1,
           0,
           1,
           0,
           1,
           0,
           1,
           0,
           0,
           1,
           0,
           1,
           0,
           0,
           0,
           0,
           0,
           1,
           0,
           0,
           1,
           0,
           0,
           0,
           0,
           1,
           1,
           0
          ],
          "coloraxis": "coloraxis",
          "symbol": "circle"
         },
         "mode": "markers",
         "name": "",
         "scene": "scene",
         "showlegend": false,
         "type": "scatter3d",
         "x": [
          3.9656736814240294,
          -5.5517929394341605,
          6.68776086674939,
          0.5165362470470959,
          -1.5596724130535877,
          4.972550123670571,
          -6.232714128525154,
          -0.8072380215033506,
          0.9499576013169186,
          9.492600911165113,
          -2.99697496465625,
          -2.2598916225322085,
          6.809141957770477,
          -2.4008166670617874,
          -4.487778515165683,
          -3.564672164484353,
          1.821860641677875,
          2.6083563696508514,
          5.05782548925524,
          -0.9944715878838817,
          2.4044148508820733,
          4.253293958240879,
          5.694606726172606,
          -3.5077609849501292,
          1.0501808737190241,
          0.5733286535866731,
          -0.03213211722131105,
          4.2956173382052745,
          3.6520552698662416,
          2.6018644364635652,
          1.1430602469190294,
          -3.4832137709935904,
          -1.4083618091883023,
          0.8327370226067352,
          -6.572295788329131,
          -5.3080367041636665,
          8.985192617402584,
          4.255884024776311,
          4.522489502335722,
          -6.011055642065317,
          -5.440985775537714,
          7.535164303740893,
          4.50220215657965,
          -6.132016438166981,
          -3.8095696189193764,
          1.3635817836883093,
          0.4612415764085352,
          3.3619791254674776,
          0.3789815661095938,
          3.529745025522083,
          -7.135836961906808,
          -2.1062350789059145,
          0.39262244607905933,
          -3.1598988202367995,
          8.013335482773448,
          6.734525241914259,
          -0.495794456435977,
          2.312205234643183,
          -7.4453281261764745,
          7.218237132269712,
          1.5759095071683231,
          6.998315112054041,
          6.59459239132662,
          4.648736694597558,
          -4.605196460007229,
          3.892003118666156,
          1.3625955789258593,
          8.594919509308816,
          -6.849168546524536,
          -1.6474357917810714,
          -0.9856304345476442,
          4.826131273653971,
          1.4790435360659557,
          -2.393200156423395,
          5.512927013235647,
          0.7367637043070079,
          -0.8962391701277722,
          6.746584373872402,
          4.286756185780559,
          4.367115468505881,
          0.8366407392564068,
          4.769862873102657,
          -1.4907527428279432,
          -0.9178032362067795,
          7.844827108292685,
          7.284613064155981,
          8.574735639321187,
          -6.394849948073911,
          -4.4510635947819335,
          -7.256991092049106,
          1.9987134497734762,
          1.22176173419113,
          -1.6004722868585641,
          4.347408091113051,
          2.661877268423012,
          -6.284305799056836,
          3.4551110878330658,
          0.15621298784895815,
          7.075523786417844,
          -2.2138722106767763,
          1.8521053084829562,
          -2.833561850313176,
          3.759716947404285,
          -0.3360778270327388,
          -5.5855200576481145,
          2.5981175122486775,
          -6.420765287281618,
          -3.2668663712355026,
          -1.3613125490137497,
          -5.17780858168301,
          -6.137385632549194,
          0.5064480531673754,
          -2.475599382143989,
          4.369724073874692,
          -6.56987435820378,
          6.121963904529976,
          -4.392361443468309,
          1.2827956114491645,
          7.625067029219154,
          -3.827067575226624,
          8.832619152421668,
          -6.6530580507920885,
          -6.081290454260132,
          -5.341035134865796,
          -0.5320364379319211,
          0.95791838367645,
          -2.6460413429588354,
          0.6889956057103812,
          6.130486823857481,
          -7.072071547621341,
          6.9529102590635725,
          1.6802252292076802,
          1.1207167528619308,
          -2.4409959991729373,
          2.396816692227452,
          -6.1361114037571864,
          2.5871699391420213,
          4.111753264586642,
          -4.508400906816787,
          0.10658131197084697,
          5.966746971539194,
          -5.138805476153507,
          -3.7465433015758376,
          3.331217436652684,
          8.397255860519893,
          1.6761758460686598,
          -6.234484332155434,
          -3.774717092619199,
          1.9242349974476558,
          -5.7181127027562395,
          6.93703300012437,
          3.301714409969985,
          -0.3803968688782169,
          -0.4535328684081442,
          -5.070351511931833,
          -2.3201557714020327,
          -2.7721465523065265,
          3.026863406684496,
          -6.2419390968111355,
          4.442210988880567,
          2.035081948032831,
          -6.941181260441204,
          6.289671756297102,
          3.019939563501273,
          -4.306039358144579,
          5.838988530126791,
          1.091755622163547,
          4.3397973332741495,
          3.84544505452326,
          2.8190831501859854,
          -4.7018565117790505,
          -1.0075859694583051,
          -5.565002890555519,
          4.920289319911795,
          -4.268454547910402,
          5.93280437344337,
          -0.10703581049958263,
          -0.371051423033105,
          -3.5928759468623843,
          -2.2163588028516745,
          0.6274297512009724,
          -5.829331713198807,
          6.9763122153887345,
          -1.4307654809547061,
          4.058385739138683,
          2.446196208346952,
          1.014906533874973,
          -6.528149755144639,
          7.016287852645483,
          5.217959536885636,
          -7.244681823513475,
          0.6195633695270343,
          -0.5128894732754222,
          5.26427554297757,
          -5.331971062841406,
          -1.9102870631554634,
          8.951016580504318,
          -5.946639571684706,
          3.1514389040001864,
          2.7768720039595722,
          -2.6937886994819875,
          4.628424507711032,
          7.247853090759754,
          2.8003639550241135,
          -4.008432832298981,
          -4.320416961429239,
          0.12443231730286397,
          -4.77615220958908,
          -6.104081007667648,
          6.567656398354147,
          -3.9063453770278977,
          0.09170506687521629,
          -0.4162633806238166,
          -1.4719697681240553,
          0.3748487246503707,
          1.709932919433794,
          -5.6916774111767365,
          -3.2582848749239948,
          0.8614720752171414,
          0.009034731655954791,
          -0.47261341584074235,
          5.711575569427601,
          -6.299204283246334,
          -3.247867146083566,
          -5.698877572172456,
          5.198419944262178,
          -5.855686670225573,
          -6.273518520445829,
          -3.9378675317358915,
          1.9633572175069525,
          2.948661415245559,
          -6.955240739523404,
          -3.961035243372525,
          0.10809520267684454,
          2.6174340656036232,
          1.8717795032545281,
          -0.419924046988076,
          4.971544463099156,
          3.0234594226321994,
          -2.255972573177621,
          7.51846893172724,
          3.818914837888775,
          -2.894074791667501,
          -6.777107843188936,
          1.3307786928078926,
          0.19053648201613915,
          -4.551879954669742,
          -1.4961113906411745,
          -7.0551242722276335,
          2.733731966321695,
          0.09483147846507689,
          -6.0920631755459285,
          -0.4536031276069407,
          -0.9120774721145479,
          -6.590263582705573,
          -6.527641865001269,
          -7.232586091534334,
          -6.130945000391438,
          4.71361332957934,
          2.9524456587802503,
          -3.825351253353931,
          3.6490288705976752,
          6.6236384933109616,
          -5.808879969604677,
          -3.510684954026371,
          -1.0592722192059958,
          -0.605514856443636,
          6.471328085092203,
          -1.8407743070036053,
          -2.039279120262304,
          3.5744824356179947,
          3.0849961827070236,
          -4.944927961610429,
          0.7715731779380314,
          7.292964986821114,
          -0.4972080949299846,
          1.0406146778649294,
          -0.052347994317024076,
          -1.1820156321478823,
          1.6184743671939472,
          1.8472211548030828,
          2.132945277088603,
          -1.3933807259805557,
          -0.7568957080427444,
          2.1848165816499314,
          -1.3217092121579601,
          -0.961174796106354,
          7.2611933035295015,
          2.9926105937820173,
          2.5899430893936684,
          -5.304467968647458,
          1.7496991496597165,
          5.3637026518579125,
          -0.04126648023766285,
          -7.029442020212461,
          -3.022062751657181,
          6.407636332351108,
          -4.005630816167015,
          -0.42776908345153375,
          -3.5889367827761576,
          0.9250005409557759,
          -1.418592656439802,
          -4.6965375271311665,
          -1.0590650815961404,
          1.0768319806793845,
          -5.776503134316031,
          0.7802526820336079,
          -3.1085335481038383,
          -4.3385600581232735,
          -5.278893663960864,
          7.177610026236637,
          -7.848468655778474,
          4.1363633322156,
          5.504180813647925,
          5.272216564317732,
          -0.7427415956957483,
          5.413329620188677,
          5.735878043669804,
          -0.9738331486239443,
          -5.819846473166542,
          8.620839382274033,
          0.2662852064918837,
          -1.8419455789312968,
          -3.0123067877563154,
          4.045191156918947,
          -6.523399033985281,
          -5.84587634825219,
          7.070231673629358,
          1.4709433253731232,
          -4.2236491468123365,
          8.115966687122215,
          -3.63409854347924,
          -4.236966934748565,
          -7.366588298086167,
          -1.9974044075874897,
          6.791615572165819,
          -1.2862268148558826,
          2.680380665384111,
          -1.6431223207993202,
          -4.757245312836285,
          -2.419556963590488,
          -4.184075079411657,
          -4.904546531229709,
          0.47243140704558995,
          -0.5591532485828495,
          8.09664112547297,
          -0.35575474446147365,
          -1.2906821477247283,
          0.1366248526312065,
          3.317532850735335,
          -0.906303524950597,
          0.4386584728918747,
          5.129457866232684,
          3.1211584980461935,
          -5.245374000057831,
          -5.814722916332113,
          6.501390860182107,
          -2.903064961557728,
          -5.619051715243001,
          1.4493141784501071,
          0.9304532312847099,
          -7.238155425857963,
          -2.076623977205213,
          -1.069703587073906,
          -3.226362917434363,
          -4.725060183378911,
          3.0944205278531594,
          5.129687862132644,
          0.8091056844335832,
          5.365257657315671,
          -4.327315931262832,
          -3.6773590831620706,
          -6.685378963723751,
          1.8840804642622073,
          5.904578158800358,
          -1.714225900482045,
          -3.8773173655476896,
          -2.802384789258261,
          -6.713794185329019,
          -1.9295704308971409,
          -0.08948443887991292,
          -5.8694663998294265,
          -1.0912019311456314,
          3.907127017874565,
          -1.848190402098392,
          7.52643807224355,
          -5.52960071208892,
          5.514981041567128,
          -5.050907219938864,
          -2.611047588730541,
          0.6040261434088956,
          4.7627805803907926,
          2.1648553538917326,
          2.3868648664418406,
          3.056658908204565,
          -6.206312451697496,
          1.2199844466981538,
          4.77044890618325,
          4.9114247128714075,
          3.1822572870988566,
          -5.53479141528676,
          6.394935345487679,
          0.6611101820429847,
          4.905213910727297
         ],
         "y": [
          -3.3106997756454777,
          2.471565381880241,
          5.1880424422827485,
          4.917941526740074,
          -4.977259169503069,
          1.0975778198884771,
          1.218381778941,
          -4.652265685840128,
          5.1285391444151065,
          2.0195700083455663,
          -0.9810005499510017,
          -1.1858355152308848,
          2.349707160382813,
          -4.941403878400937,
          4.784438500131286,
          -1.3874846575945898,
          0.29649986044534193,
          6.252996166681427,
          3.0087357255278775,
          -5.947573129429882,
          -3.92725343126418,
          -3.028100390352521,
          2.6684401030062492,
          -3.35462503638377,
          -0.41955104033746893,
          -6.110537880867687,
          5.989937992224073,
          1.0347667519930777,
          -5.016798165026853,
          -2.998321995286056,
          -5.0773666409415945,
          -1.890103611871566,
          0.03355560254404084,
          -6.009386128782078,
          0.34771726501308875,
          -3.5300726989268134,
          -2.422583194951656,
          2.796108799079515,
          -0.07248082224916924,
          0.40885333343986646,
          2.486081634580564,
          3.3172975727831586,
          -3.013523764782179,
          -1.484820486314099,
          4.587005393981478,
          0.4996074998664628,
          6.464200994318604,
          -0.8093270426156481,
          2.242103245206156,
          -4.608201758259806,
          -2.314313152412119,
          4.1866473762084455,
          -5.853603562154204,
          -1.940557735712303,
          2.1940189927869382,
          2.7785858396044176,
          -0.9107446755559346,
          -5.438941490890076,
          -1.7692277570110921,
          -2.346607288570171,
          4.456173868424977,
          -2.1839473542505377,
          2.761327658810309,
          -1.0220627120809944,
          4.748680816511896,
          -3.7054153713517035,
          0.19462830166039893,
          2.3148396892650704,
          -1.0379387517795708,
          -0.7848553478110886,
          -5.7239937945295845,
          -3.629949304306828,
          0.264815824343349,
          0.8819908543543126,
          -3.7723992466796323,
          -3.5656122662541443,
          -5.423846824185196,
          3.0304612573877785,
          1.926803457564504,
          1.3735451550751714,
          -4.108290463164094,
          -2.2609655694296626,
          2.6155532511299158,
          -1.0074902005619206,
          -2.6777905427967714,
          -2.202464807672447,
          5.1536599688609,
          2.085048398725489,
          3.158502749655099,
          -1.522243461188681,
          -4.429805066461291,
          3.6674924851086854,
          -2.7129945495006833,
          -0.14314765144827202,
          -4.479129577500117,
          0.1018316224266826,
          5.1162660673375,
          5.496530776707181,
          -1.9699112879222171,
          -1.8092850246575762,
          0.9616860706671945,
          -2.579591661467413,
          3.5543336425255574,
          4.15618652392014,
          2.0534443440026697,
          -2.896696958042813,
          -0.25062537216289144,
          4.703060518179791,
          5.096016587466489,
          2.1189806454074884,
          1.7193390130381998,
          5.844622212327297,
          5.623636010190012,
          -3.783171641048108,
          0.02327693657825145,
          -1.136653462782048,
          2.5832896632174216,
          2.791267845714356,
          3.0142395563121704,
          4.34428039984735,
          5.807403449246256,
          0.8824078056510382,
          0.6419236285022062,
          1.8160571406490071,
          -1.8043287589952408,
          6.959240100719564,
          -4.659744999400069,
          2.2715552984797194,
          -2.671654520944972,
          -0.03473868291112731,
          1.8165242189910211,
          1.1215926046572862,
          -5.965505769811789,
          5.825084618548901,
          1.729287044152183,
          0.5419681492653129,
          -4.082535467261448,
          -0.11606180349994566,
          -1.3035816835895555,
          -1.14086902739395,
          1.1887184997295228,
          0.13712879571005251,
          4.755982038612792,
          -5.237198866899171,
          3.623625520652763,
          1.6750482045704709,
          0.31076146119252307,
          -4.2933038068092735,
          -5.671119306835711,
          1.8628845870538466,
          3.1042708345086103,
          -4.686775999678279,
          -3.9558903896063184,
          -4.374398998955724,
          3.1283277304981407,
          -2.0092043826365606,
          -3.2958054633424343,
          -4.713759573195561,
          0.903642496184067,
          0.13706544891746913,
          -5.163474027013449,
          0.3978076750664046,
          3.3256086588523273,
          1.3843177653929177,
          -3.697585294599857,
          -2.2804605122026227,
          -5.25934386338875,
          -4.457793150900905,
          2.2388479430302053,
          -4.511612697256899,
          0.24030881844892601,
          6.699994460663882,
          1.9054560933629452,
          -2.2675722813640724,
          -1.4502556817875525,
          -3.227296930857969,
          -0.5219832543498326,
          -2.9696905764509514,
          -4.451616231764638,
          -2.961216763232053,
          -4.048132587910933,
          2.9393112239880756,
          3.0046223717504907,
          7.130488057800291,
          -3.9756353050082964,
          6.121388137318441,
          2.407627840647171,
          -0.25349513670776735,
          -1.5939552865863638,
          -0.4217296413205102,
          -0.23938057508950852,
          1.0046602806012739,
          -3.034511747410599,
          3.292111485924842,
          3.519341058053292,
          6.061045201089446,
          3.4276731395623665,
          0.30931886705649136,
          5.138155180244787,
          -3.1420755509265494,
          -3.278717705581643,
          -0.6942089179369452,
          2.915163257641924,
          -3.158250024079845,
          3.792337136116686,
          4.632634016125034,
          6.25462178958167,
          3.1860039744997684,
          0.6385445654327336,
          -0.8118553429980111,
          4.998602515518412,
          4.341558608427756,
          -5.245291371445144,
          -5.124410466587167,
          0.3468972944129107,
          -3.0293954603762696,
          2.03238838833725,
          -3.3308025670108785,
          -5.22487691737636,
          -4.699955318864831,
          -4.57942865373567,
          -0.9095252130131947,
          -0.2719461578487543,
          -2.7948801605893316,
          1.0167773738842412,
          0.67142350616312,
          1.231150488757552,
          -0.13570587600073988,
          -4.180464810010613,
          -4.399580975654056,
          -5.536381900976213,
          0.20115984096827513,
          -4.256619257580074,
          -3.8976560950848014,
          -5.694550074909388,
          -1.2939792256739215,
          -3.6103995904456037,
          -4.375545944482893,
          -5.014341596615132,
          -1.5668485923413902,
          1.8125968578402658,
          -3.402343788330927,
          -0.1343961404813567,
          -0.7891839677802047,
          1.00875434141002,
          -5.222303675185284,
          3.183709304088915,
          -5.309619572714915,
          0.27671736443986095,
          -1.4165992854033178,
          1.8932524577735321,
          -3.900267697129227,
          -4.2748499248519,
          -5.1786023534431544,
          -0.1250827206878197,
          0.2398482165525455,
          -2.515062231783238,
          0.8039364776535766,
          0.5308316914220125,
          2.339300119720639,
          -4.54961909444338,
          1.7699883638708616,
          4.511989372380631,
          0.04330865077576069,
          2.365313309689063,
          -0.4201806886154988,
          3.3358216924856947,
          2.9001457612497785,
          2.3416729973018398,
          3.1285530254171747,
          -1.415121199916718,
          -5.182084478696072,
          1.4313657732346001,
          -2.906674164168623,
          2.0915376796393654,
          -1.2632480370008503,
          -5.052938413038004,
          -5.52197458429219,
          -5.582344159391939,
          -0.3941035876993264,
          -5.402727018695541,
          4.207545423307107,
          3.3524294847789515,
          -5.724419045569647,
          -4.2353653119633945,
          5.071180928432545,
          -4.929783322394794,
          0.6951465298721446,
          -4.561939927771503,
          2.3537832808338948,
          0.5472431111423711,
          -5.765994772693126,
          3.8246603512362696,
          0.22995001783080882,
          0.7177547473417065,
          4.400300991074658,
          0.2264918746680116,
          -1.6024881026726217,
          -4.722821626227401,
          -4.612277211093812,
          -4.950236952931438,
          -4.950765476227708,
          4.880700561201208,
          0.692401452446804,
          -1.776038720650036,
          1.8149886292222688,
          -4.665069490461076,
          -4.903375824766782,
          3.5121890645737084,
          -3.856457334655436,
          -3.11522081672849,
          -3.2225759184150555,
          0.750091923302083,
          2.9342787722298067,
          -2.2692466816652064,
          -0.25812717108598887,
          2.6622410629094895,
          -2.2584616997943785,
          -4.8634835900247495,
          0.7430407464279195,
          -0.6448107001703381,
          0.5335115749575505,
          -1.5316883459520474,
          -3.499017827484054,
          -3.251378316901504,
          0.050028927536522355,
          1.4365131791922283,
          2.8714024758802377,
          -5.147122434615922,
          -1.348556239456088,
          3.9156470127056373,
          -4.4620089891972095,
          4.6950767614620945,
          -1.5108255103724093,
          4.992068038013248,
          -1.4065317444927883,
          -3.9826138389948693,
          -4.248087074561131,
          5.317375570484288,
          -0.9529291115583169,
          4.9533445811812955,
          3.6439405014900808,
          -3.943115171956477,
          -4.974560291909803,
          0.8968496144318702,
          -1.715940549770096,
          5.098842580619705,
          -1.1571566263798676,
          -4.964254311092363,
          -4.453745063511259,
          -5.599903851967823,
          -5.813315937375844,
          0.48738617095119896,
          -0.5718349443254189,
          1.0119707706165888,
          1.3213559808055853,
          -0.5557206528113463,
          -0.2573741657744375,
          2.0134052005524685,
          -5.530734959698907,
          -5.926842894195562,
          -2.7461839671413624,
          -3.9677381936477487,
          -4.954776275204939,
          -3.3112147817823443,
          2.9551498751156102,
          -2.814257182205435,
          3.078775487286546,
          3.506194964131375,
          2.2552988091333126,
          2.019896794335188,
          4.202720741475909,
          0.18323541295002313,
          5.805651084770785,
          -2.4886472041294136,
          -3.36436971430995,
          4.3396707729144435,
          -4.655383233760825,
          -0.9499943175753088,
          -0.8912851611665326,
          5.243201952706365,
          -1.222011420107349,
          2.8362823735384124,
          -3.795440702008802,
          0.05883576887191507,
          1.6929703636210376,
          1.1711427712207867,
          7.357174509491355,
          0.22095730245155254,
          0.5092113802126098,
          0.5349410139755206,
          -2.818440319510738,
          -3.190750950305842,
          -4.357555391349571,
          -3.150047064790355,
          0.9409074207113898,
          -5.4435594506319775,
          -1.449619560042219,
          1.8514512377648924,
          -0.22005030015837812,
          2.7136564904415144,
          -3.163101550869408,
          -5.88244304372105,
          2.4929012857088395
         ],
         "z": [
          1.4722489690510685,
          -0.14729320172230634,
          -1.886029663001152,
          -0.7691869017971518,
          0.2536750223948029,
          -2.132377352609536,
          -1.3551188596577832,
          1.0587129189514046,
          -0.03548155081925577,
          -1.559627524604471,
          -1.6183600748734843,
          -2.9631857137032145,
          -2.1743009598672476,
          0.624091685103967,
          1.6373281129614543,
          -3.000574384325011,
          1.1357392986256478,
          0.2665079952592612,
          -2.451025979614644,
          0.8230123452412743,
          2.169597391747566,
          1.6497943084540574,
          -3.0660130043724894,
          -1.567117695065192,
          -1.4140314079030452,
          1.689120359745718,
          0.27349691513853575,
          -2.4971222939963567,
          3.8391994314452806,
          -0.2803755513594255,
          1.6260631177848004,
          -3.200789846603023,
          -0.6691597464650287,
          2.0778217045137426,
          -0.7261243403652818,
          -2.137649313339438,
          1.7847377425698059,
          -2.5825392182688978,
          -0.9424382129594164,
          -1.0526403178035604,
          1.2720202423744316,
          -1.9055769965107894,
          1.1337494964578587,
          -1.08436766553824,
          1.4714323648220333,
          -3.182560435778363,
          0.25019391258011203,
          -1.64700908953366,
          2.913755137041582,
          1.248880730290255,
          -2.307319398388402,
          -1.5601360908417448,
          1.896212386681736,
          -2.527446590298879,
          -2.1791692414246917,
          -2.570823686816544,
          -2.0857371715700044,
          3.2717332430769597,
          -1.941487419152553,
          1.4992500413820737,
          3.8840557559279283,
          1.4658536517940182,
          -2.4524644074937525,
          -3.576179811490634,
          2.5418699540754615,
          0.9458290803329059,
          -1.3216949420947168,
          -1.854273297642563,
          -1.4142104618583442,
          -2.3557706259845053,
          1.0125540922541696,
          0.7926257640187584,
          -2.890491138132134,
          -2.6399410329720108,
          1.760389532478404,
          0.2778137906036649,
          1.304191026154766,
          -2.870038642692483,
          -3.0114527670977855,
          -2.3402267199938005,
          1.1360005681292693,
          0.27181135430068054,
          2.717125602141912,
          -1.6651425933345405,
          2.147768873508347,
          1.4917421379214466,
          0.454711393525216,
          -0.005525799029030714,
          1.497192791414035,
          -0.9827284185630513,
          0.7640952959201627,
          0.0970075526897229,
          -0.8859632489511966,
          -0.45740117400404107,
          2.2986736694405567,
          -0.8289146038759126,
          -0.5120993043296731,
          5.371469242064109,
          1.2144778213854357,
          -1.8116930420095305,
          -1.0805047826952425,
          -2.82586753423578,
          -3.3542254583258404,
          4.648267211828637,
          0.7407624241240565,
          0.29083685341099363,
          -1.1503087301170398,
          3.299727324254465,
          -0.13444829363530472,
          0.9768831230539446,
          -0.9478209537444946,
          0.2653877891782863,
          -0.08735042706026855,
          1.9488011541523127,
          -0.9751269108979127,
          1.0325488668405294,
          1.5913339014959667,
          -0.20206277260718558,
          -1.968119040152484,
          2.2706930245574495,
          -1.8181566641128684,
          -0.7830085334720959,
          -1.082561872560737,
          -0.09507780657481699,
          -2.7522216881807187,
          -0.2991552025843005,
          1.0096744430860816,
          -3.9218318718000664,
          0.8401544697999083,
          -2.221706174625877,
          -1.4460643212532474,
          -1.7858077629877602,
          2.482816741381257,
          4.783185954883323,
          -3.929262883418048,
          -1.1094820203463835,
          2.904898720762067,
          -1.4160053915455209,
          0.6146676796809964,
          -1.4374916304029686,
          -0.25264909287699633,
          -1.1354238718170773,
          2.673727015195272,
          2.0659243060880037,
          -0.8771281275947738,
          -0.1552321438616499,
          -1.2614679339844643,
          -0.800045570495708,
          2.841067573977069,
          -1.1765358716119716,
          -0.5507479466639456,
          1.760803348673322,
          1.0314815411675209,
          0.7694652762986243,
          -0.35645262236616604,
          -1.2292754564385466,
          -2.0638505408895753,
          1.9976201485626253,
          -1.016438309643157,
          -1.4399228506286155,
          2.2544798805299173,
          -0.6994436230372454,
          -1.8820854028064322,
          -2.907720512805415,
          -2.2026591594374634,
          0.47363913767774285,
          2.9319662850668595,
          2.8797857121023354,
          -3.7921434233848466,
          2.8650985835074887,
          -0.5728146055552295,
          5.024654083548478,
          0.7075115948743739,
          0.37335666850448473,
          -3.0663097239807846,
          2.0130734300050155,
          -2.2886855912944712,
          -0.9376614649643327,
          0.08534521121088971,
          -0.5351605715832999,
          2.822065676748829,
          -0.3506607162430548,
          -3.1088858497944707,
          4.625723241659141,
          2.9079015316469077,
          -0.39629991955058724,
          5.408925719946299,
          -2.2507459777242245,
          1.3256131383165752,
          -0.9281503583425492,
          -1.3336831012566084,
          -2.2787424826011176,
          -0.7107810322768032,
          -2.189138197888984,
          0.9734766711860551,
          4.022594043854644,
          -2.6378925684243986,
          -1.186330388567172,
          0.2110869883832449,
          -1.059313807107077,
          -1.3563149682921396,
          -0.7101154234410799,
          -2.2497076663797895,
          -0.030614992077619203,
          0.4939442524914692,
          -0.008070919509866398,
          -0.3918209842511972,
          -0.7113438537973144,
          -0.872296025881671,
          -0.1591815693109765,
          3.4997967088972812,
          4.427354780739611,
          1.5363736157988443,
          1.5921766485320303,
          -2.4513678009773865,
          2.6581534137002323,
          0.6422305367216895,
          -1.6996304916885607,
          2.58280249796534,
          1.2692859498538187,
          0.5610956576938876,
          -0.2582078231892454,
          -1.505406749552333,
          -1.9723878394281498,
          -1.8397871820802791,
          -2.1878470108833343,
          -1.4036935342172665,
          -1.7826748536395247,
          0.4184990085592438,
          0.6543617952035158,
          3.4892701420786247,
          -1.1332836551440748,
          0.37272266719428704,
          1.4407708300306714,
          1.6792260828623067,
          -1.4555066260822713,
          2.788087800090676,
          2.6153755104048675,
          3.9686294076439443,
          -3.3266691722605874,
          -1.935642217747657,
          0.47654327433135174,
          -3.689032299423636,
          -1.8612113357809048,
          -3.325743879124766,
          1.6166023335077586,
          -0.9477854245320909,
          -0.007799972495458067,
          -0.743250001120738,
          -0.8621858826441269,
          -1.6124823015151666,
          -1.8275774673511849,
          -2.956922133376495,
          0.6966188078285374,
          -1.1631467224396355,
          -1.0983288481331959,
          -2.783077029327483,
          0.20149843800617886,
          -1.5885406135980153,
          -3.502991187537975,
          0.44578001551573293,
          -0.6187724016771614,
          -2.5054502587961887,
          -0.46421296642344473,
          2.556355326512072,
          -2.8869978573430637,
          -1.499467315791615,
          -2.6350151173003615,
          -0.4054238213073898,
          2.9613568725010797,
          2.959837913935782,
          4.181695478585798,
          -0.6570084699031019,
          -0.6819082296371625,
          -0.59443303732982,
          -2.014450083842762,
          1.824822533103904,
          1.5211001998622564,
          1.4590898710637998,
          -0.9026424991370579,
          1.3703675338850692,
          -0.3382162477727352,
          2.906252644049449,
          1.0180427835350958,
          2.698256113181084,
          -0.0802689438781839,
          2.5417976484343896,
          0.6799093670840102,
          2.819870512598156,
          -2.8172087740533818,
          -0.5895478015663905,
          2.207565453362561,
          -2.7058612319725506,
          -0.7499329317165234,
          -1.943156647298965,
          -1.7385972763504782,
          -0.5626225544674754,
          -2.8448161215677596,
          0.2961371296247579,
          0.5711265955977206,
          1.8082414935697864,
          2.067360757369058,
          2.045322842041999,
          -2.777005979429091,
          -1.7802124497048724,
          -0.2145186798019344,
          1.196534537691692,
          0.060653890889937445,
          1.5494231757760306,
          -1.8983701488948161,
          2.109713612525676,
          -2.191780615466392,
          -0.7192213900278069,
          -3.077934725673539,
          0.40813446723685776,
          -1.5488328282277637,
          -1.6996224656833239,
          1.4754435459126434,
          2.352863583268538,
          -1.1499988271871162,
          1.7605871690790795,
          -2.610534890335488,
          -1.768898241771682,
          -1.3253399821487388,
          1.7546067824542744,
          -1.0459653347220963,
          -0.43749860596643386,
          -3.3064308656827084,
          2.1686436135453957,
          -3.234182476179925,
          -2.2304151924383113,
          0.9911117668249912,
          3.045315082530992,
          -1.8934439673380354,
          3.8763652215158393,
          0.9315600423379066,
          -1.0569273319513528,
          2.8337594276493916,
          4.305248036450231,
          -0.31437767563784896,
          3.484191039824746,
          0.09198811304745705,
          -2.0130105321791456,
          1.0842079663625,
          -3.1975512153672527,
          1.7301938137846764,
          4.856307615015587,
          -2.5092942919957104,
          0.8912465181746052,
          3.1790118270658594,
          0.5906191718197689,
          1.814991533261444,
          -2.571493141672399,
          -1.165054629309858,
          1.1375760109981234,
          -0.37296190145589303,
          0.6093016719541412,
          -2.17370125737427,
          0.03954038747296278,
          3.0886172173893676,
          2.025899979031524,
          -2.5356944480296724,
          -0.9801643576757872,
          2.4869834333498106,
          -1.6161776093619242,
          1.5443752340072994,
          -0.10801421923221101,
          -3.5126340542954124,
          3.9287394585757025,
          -2.811937265778753,
          -0.5723900485332244,
          3.2534029654530814,
          -1.2363787712032732,
          0.2456220901724372,
          1.115542728484556,
          -0.15649364600235235,
          3.347834190399329,
          0.033002227264785626,
          -1.3722631846627307,
          0.3493012554251436,
          4.5664758979182345,
          -0.6302362386538033,
          2.076085929002865,
          1.2031433646379062,
          -1.1063101758798806,
          -0.43977609802815837,
          -1.1328147904447283,
          1.269196690558514,
          -0.3615266065473906,
          0.7389803092642142,
          -3.4849307870115904,
          0.875083308884698,
          -0.34578512531876116,
          2.0189561999195442,
          0.025874648663578564,
          -0.6096727034381759,
          3.1826250160638283,
          -0.06080990123913623,
          -2.8034892785703263,
          -2.042501983686066,
          -0.4457534832085095,
          2.847345415655164,
          1.9483348919256178,
          -3.491526075771734
         ]
        }
       ],
       "layout": {
        "coloraxis": {
         "colorbar": {
          "title": {
           "text": "color"
          }
         },
         "colorscale": [
          [
           0,
           "#0d0887"
          ],
          [
           0.1111111111111111,
           "#46039f"
          ],
          [
           0.2222222222222222,
           "#7201a8"
          ],
          [
           0.3333333333333333,
           "#9c179e"
          ],
          [
           0.4444444444444444,
           "#bd3786"
          ],
          [
           0.5555555555555556,
           "#d8576b"
          ],
          [
           0.6666666666666666,
           "#ed7953"
          ],
          [
           0.7777777777777778,
           "#fb9f3a"
          ],
          [
           0.8888888888888888,
           "#fdca26"
          ],
          [
           1,
           "#f0f921"
          ]
         ]
        },
        "legend": {
         "tracegroupgap": 0
        },
        "margin": {
         "t": 60
        },
        "scene": {
         "domain": {
          "x": [
           0,
           1
          ],
          "y": [
           0,
           1
          ]
         },
         "xaxis": {
          "title": {
           "text": "x"
          }
         },
         "yaxis": {
          "title": {
           "text": "y"
          }
         },
         "zaxis": {
          "title": {
           "text": "z"
          }
         }
        },
        "template": {
         "data": {
          "bar": [
           {
            "error_x": {
             "color": "#2a3f5f"
            },
            "error_y": {
             "color": "#2a3f5f"
            },
            "marker": {
             "line": {
              "color": "#E5ECF6",
              "width": 0.5
             },
             "pattern": {
              "fillmode": "overlay",
              "size": 10,
              "solidity": 0.2
             }
            },
            "type": "bar"
           }
          ],
          "barpolar": [
           {
            "marker": {
             "line": {
              "color": "#E5ECF6",
              "width": 0.5
             },
             "pattern": {
              "fillmode": "overlay",
              "size": 10,
              "solidity": 0.2
             }
            },
            "type": "barpolar"
           }
          ],
          "carpet": [
           {
            "aaxis": {
             "endlinecolor": "#2a3f5f",
             "gridcolor": "white",
             "linecolor": "white",
             "minorgridcolor": "white",
             "startlinecolor": "#2a3f5f"
            },
            "baxis": {
             "endlinecolor": "#2a3f5f",
             "gridcolor": "white",
             "linecolor": "white",
             "minorgridcolor": "white",
             "startlinecolor": "#2a3f5f"
            },
            "type": "carpet"
           }
          ],
          "choropleth": [
           {
            "colorbar": {
             "outlinewidth": 0,
             "ticks": ""
            },
            "type": "choropleth"
           }
          ],
          "contour": [
           {
            "colorbar": {
             "outlinewidth": 0,
             "ticks": ""
            },
            "colorscale": [
             [
              0,
              "#0d0887"
             ],
             [
              0.1111111111111111,
              "#46039f"
             ],
             [
              0.2222222222222222,
              "#7201a8"
             ],
             [
              0.3333333333333333,
              "#9c179e"
             ],
             [
              0.4444444444444444,
              "#bd3786"
             ],
             [
              0.5555555555555556,
              "#d8576b"
             ],
             [
              0.6666666666666666,
              "#ed7953"
             ],
             [
              0.7777777777777778,
              "#fb9f3a"
             ],
             [
              0.8888888888888888,
              "#fdca26"
             ],
             [
              1,
              "#f0f921"
             ]
            ],
            "type": "contour"
           }
          ],
          "contourcarpet": [
           {
            "colorbar": {
             "outlinewidth": 0,
             "ticks": ""
            },
            "type": "contourcarpet"
           }
          ],
          "heatmap": [
           {
            "colorbar": {
             "outlinewidth": 0,
             "ticks": ""
            },
            "colorscale": [
             [
              0,
              "#0d0887"
             ],
             [
              0.1111111111111111,
              "#46039f"
             ],
             [
              0.2222222222222222,
              "#7201a8"
             ],
             [
              0.3333333333333333,
              "#9c179e"
             ],
             [
              0.4444444444444444,
              "#bd3786"
             ],
             [
              0.5555555555555556,
              "#d8576b"
             ],
             [
              0.6666666666666666,
              "#ed7953"
             ],
             [
              0.7777777777777778,
              "#fb9f3a"
             ],
             [
              0.8888888888888888,
              "#fdca26"
             ],
             [
              1,
              "#f0f921"
             ]
            ],
            "type": "heatmap"
           }
          ],
          "heatmapgl": [
           {
            "colorbar": {
             "outlinewidth": 0,
             "ticks": ""
            },
            "colorscale": [
             [
              0,
              "#0d0887"
             ],
             [
              0.1111111111111111,
              "#46039f"
             ],
             [
              0.2222222222222222,
              "#7201a8"
             ],
             [
              0.3333333333333333,
              "#9c179e"
             ],
             [
              0.4444444444444444,
              "#bd3786"
             ],
             [
              0.5555555555555556,
              "#d8576b"
             ],
             [
              0.6666666666666666,
              "#ed7953"
             ],
             [
              0.7777777777777778,
              "#fb9f3a"
             ],
             [
              0.8888888888888888,
              "#fdca26"
             ],
             [
              1,
              "#f0f921"
             ]
            ],
            "type": "heatmapgl"
           }
          ],
          "histogram": [
           {
            "marker": {
             "pattern": {
              "fillmode": "overlay",
              "size": 10,
              "solidity": 0.2
             }
            },
            "type": "histogram"
           }
          ],
          "histogram2d": [
           {
            "colorbar": {
             "outlinewidth": 0,
             "ticks": ""
            },
            "colorscale": [
             [
              0,
              "#0d0887"
             ],
             [
              0.1111111111111111,
              "#46039f"
             ],
             [
              0.2222222222222222,
              "#7201a8"
             ],
             [
              0.3333333333333333,
              "#9c179e"
             ],
             [
              0.4444444444444444,
              "#bd3786"
             ],
             [
              0.5555555555555556,
              "#d8576b"
             ],
             [
              0.6666666666666666,
              "#ed7953"
             ],
             [
              0.7777777777777778,
              "#fb9f3a"
             ],
             [
              0.8888888888888888,
              "#fdca26"
             ],
             [
              1,
              "#f0f921"
             ]
            ],
            "type": "histogram2d"
           }
          ],
          "histogram2dcontour": [
           {
            "colorbar": {
             "outlinewidth": 0,
             "ticks": ""
            },
            "colorscale": [
             [
              0,
              "#0d0887"
             ],
             [
              0.1111111111111111,
              "#46039f"
             ],
             [
              0.2222222222222222,
              "#7201a8"
             ],
             [
              0.3333333333333333,
              "#9c179e"
             ],
             [
              0.4444444444444444,
              "#bd3786"
             ],
             [
              0.5555555555555556,
              "#d8576b"
             ],
             [
              0.6666666666666666,
              "#ed7953"
             ],
             [
              0.7777777777777778,
              "#fb9f3a"
             ],
             [
              0.8888888888888888,
              "#fdca26"
             ],
             [
              1,
              "#f0f921"
             ]
            ],
            "type": "histogram2dcontour"
           }
          ],
          "mesh3d": [
           {
            "colorbar": {
             "outlinewidth": 0,
             "ticks": ""
            },
            "type": "mesh3d"
           }
          ],
          "parcoords": [
           {
            "line": {
             "colorbar": {
              "outlinewidth": 0,
              "ticks": ""
             }
            },
            "type": "parcoords"
           }
          ],
          "pie": [
           {
            "automargin": true,
            "type": "pie"
           }
          ],
          "scatter": [
           {
            "fillpattern": {
             "fillmode": "overlay",
             "size": 10,
             "solidity": 0.2
            },
            "type": "scatter"
           }
          ],
          "scatter3d": [
           {
            "line": {
             "colorbar": {
              "outlinewidth": 0,
              "ticks": ""
             }
            },
            "marker": {
             "colorbar": {
              "outlinewidth": 0,
              "ticks": ""
             }
            },
            "type": "scatter3d"
           }
          ],
          "scattercarpet": [
           {
            "marker": {
             "colorbar": {
              "outlinewidth": 0,
              "ticks": ""
             }
            },
            "type": "scattercarpet"
           }
          ],
          "scattergeo": [
           {
            "marker": {
             "colorbar": {
              "outlinewidth": 0,
              "ticks": ""
             }
            },
            "type": "scattergeo"
           }
          ],
          "scattergl": [
           {
            "marker": {
             "colorbar": {
              "outlinewidth": 0,
              "ticks": ""
             }
            },
            "type": "scattergl"
           }
          ],
          "scattermapbox": [
           {
            "marker": {
             "colorbar": {
              "outlinewidth": 0,
              "ticks": ""
             }
            },
            "type": "scattermapbox"
           }
          ],
          "scatterpolar": [
           {
            "marker": {
             "colorbar": {
              "outlinewidth": 0,
              "ticks": ""
             }
            },
            "type": "scatterpolar"
           }
          ],
          "scatterpolargl": [
           {
            "marker": {
             "colorbar": {
              "outlinewidth": 0,
              "ticks": ""
             }
            },
            "type": "scatterpolargl"
           }
          ],
          "scatterternary": [
           {
            "marker": {
             "colorbar": {
              "outlinewidth": 0,
              "ticks": ""
             }
            },
            "type": "scatterternary"
           }
          ],
          "surface": [
           {
            "colorbar": {
             "outlinewidth": 0,
             "ticks": ""
            },
            "colorscale": [
             [
              0,
              "#0d0887"
             ],
             [
              0.1111111111111111,
              "#46039f"
             ],
             [
              0.2222222222222222,
              "#7201a8"
             ],
             [
              0.3333333333333333,
              "#9c179e"
             ],
             [
              0.4444444444444444,
              "#bd3786"
             ],
             [
              0.5555555555555556,
              "#d8576b"
             ],
             [
              0.6666666666666666,
              "#ed7953"
             ],
             [
              0.7777777777777778,
              "#fb9f3a"
             ],
             [
              0.8888888888888888,
              "#fdca26"
             ],
             [
              1,
              "#f0f921"
             ]
            ],
            "type": "surface"
           }
          ],
          "table": [
           {
            "cells": {
             "fill": {
              "color": "#EBF0F8"
             },
             "line": {
              "color": "white"
             }
            },
            "header": {
             "fill": {
              "color": "#C8D4E3"
             },
             "line": {
              "color": "white"
             }
            },
            "type": "table"
           }
          ]
         },
         "layout": {
          "annotationdefaults": {
           "arrowcolor": "#2a3f5f",
           "arrowhead": 0,
           "arrowwidth": 1
          },
          "autotypenumbers": "strict",
          "coloraxis": {
           "colorbar": {
            "outlinewidth": 0,
            "ticks": ""
           }
          },
          "colorscale": {
           "diverging": [
            [
             0,
             "#8e0152"
            ],
            [
             0.1,
             "#c51b7d"
            ],
            [
             0.2,
             "#de77ae"
            ],
            [
             0.3,
             "#f1b6da"
            ],
            [
             0.4,
             "#fde0ef"
            ],
            [
             0.5,
             "#f7f7f7"
            ],
            [
             0.6,
             "#e6f5d0"
            ],
            [
             0.7,
             "#b8e186"
            ],
            [
             0.8,
             "#7fbc41"
            ],
            [
             0.9,
             "#4d9221"
            ],
            [
             1,
             "#276419"
            ]
           ],
           "sequential": [
            [
             0,
             "#0d0887"
            ],
            [
             0.1111111111111111,
             "#46039f"
            ],
            [
             0.2222222222222222,
             "#7201a8"
            ],
            [
             0.3333333333333333,
             "#9c179e"
            ],
            [
             0.4444444444444444,
             "#bd3786"
            ],
            [
             0.5555555555555556,
             "#d8576b"
            ],
            [
             0.6666666666666666,
             "#ed7953"
            ],
            [
             0.7777777777777778,
             "#fb9f3a"
            ],
            [
             0.8888888888888888,
             "#fdca26"
            ],
            [
             1,
             "#f0f921"
            ]
           ],
           "sequentialminus": [
            [
             0,
             "#0d0887"
            ],
            [
             0.1111111111111111,
             "#46039f"
            ],
            [
             0.2222222222222222,
             "#7201a8"
            ],
            [
             0.3333333333333333,
             "#9c179e"
            ],
            [
             0.4444444444444444,
             "#bd3786"
            ],
            [
             0.5555555555555556,
             "#d8576b"
            ],
            [
             0.6666666666666666,
             "#ed7953"
            ],
            [
             0.7777777777777778,
             "#fb9f3a"
            ],
            [
             0.8888888888888888,
             "#fdca26"
            ],
            [
             1,
             "#f0f921"
            ]
           ]
          },
          "colorway": [
           "#636efa",
           "#EF553B",
           "#00cc96",
           "#ab63fa",
           "#FFA15A",
           "#19d3f3",
           "#FF6692",
           "#B6E880",
           "#FF97FF",
           "#FECB52"
          ],
          "font": {
           "color": "#2a3f5f"
          },
          "geo": {
           "bgcolor": "white",
           "lakecolor": "white",
           "landcolor": "#E5ECF6",
           "showlakes": true,
           "showland": true,
           "subunitcolor": "white"
          },
          "hoverlabel": {
           "align": "left"
          },
          "hovermode": "closest",
          "mapbox": {
           "style": "light"
          },
          "paper_bgcolor": "white",
          "plot_bgcolor": "#E5ECF6",
          "polar": {
           "angularaxis": {
            "gridcolor": "white",
            "linecolor": "white",
            "ticks": ""
           },
           "bgcolor": "#E5ECF6",
           "radialaxis": {
            "gridcolor": "white",
            "linecolor": "white",
            "ticks": ""
           }
          },
          "scene": {
           "xaxis": {
            "backgroundcolor": "#E5ECF6",
            "gridcolor": "white",
            "gridwidth": 2,
            "linecolor": "white",
            "showbackground": true,
            "ticks": "",
            "zerolinecolor": "white"
           },
           "yaxis": {
            "backgroundcolor": "#E5ECF6",
            "gridcolor": "white",
            "gridwidth": 2,
            "linecolor": "white",
            "showbackground": true,
            "ticks": "",
            "zerolinecolor": "white"
           },
           "zaxis": {
            "backgroundcolor": "#E5ECF6",
            "gridcolor": "white",
            "gridwidth": 2,
            "linecolor": "white",
            "showbackground": true,
            "ticks": "",
            "zerolinecolor": "white"
           }
          },
          "shapedefaults": {
           "line": {
            "color": "#2a3f5f"
           }
          },
          "ternary": {
           "aaxis": {
            "gridcolor": "white",
            "linecolor": "white",
            "ticks": ""
           },
           "baxis": {
            "gridcolor": "white",
            "linecolor": "white",
            "ticks": ""
           },
           "bgcolor": "#E5ECF6",
           "caxis": {
            "gridcolor": "white",
            "linecolor": "white",
            "ticks": ""
           }
          },
          "title": {
           "x": 0.05
          },
          "xaxis": {
           "automargin": true,
           "gridcolor": "white",
           "linecolor": "white",
           "ticks": "",
           "title": {
            "standoff": 15
           },
           "zerolinecolor": "white",
           "zerolinewidth": 2
          },
          "yaxis": {
           "automargin": true,
           "gridcolor": "white",
           "linecolor": "white",
           "ticks": "",
           "title": {
            "standoff": 15
           },
           "zerolinecolor": "white",
           "zerolinewidth": 2
          }
         }
        }
       }
      }
     },
     "metadata": {},
     "output_type": "display_data"
    }
   ],
   "source": [
    "px.scatter_3d(x=x_testdf.iloc[:,0],y=x_testdf.iloc[:,1],z=x_testdf.iloc[:,2], color= y_pred)"
   ]
  },
  {
   "cell_type": "code",
   "execution_count": 446,
   "metadata": {},
   "outputs": [
    {
     "name": "stdout",
     "output_type": "stream",
     "text": [
      "Recall(TP/FN+TP ):0.5355450236966824\n",
      "Precsion(TP/FP+TP): 0.5458937198067633 \n",
      "F1 score function of presscion and recall:0.5406698564593301 \n"
     ]
    },
    {
     "data": {
      "image/png": "[encoded data removed]",
      "text/plain": [
       "<Figure size 640x480 with 2 Axes>"
      ]
     },
     "metadata": {},
     "output_type": "display_data"
    }
   ],
   "source": [
    "svm = SVC(kernel = 'rbf').fit(x_train, y_train)   \n",
    "\n",
    "y_pred = svm.predict(X_test)\n",
    "\n",
    "conMtx = confusion_matrix(y_test,y_pred)\n",
    "sns.heatmap(conMtx)\n",
    "f1 = f1_score(y_test,y_pred)\n",
    "recall = recall_score(y_test,y_pred)\n",
    "pre = precision_score(y_test,y_pred)\n",
    "\n",
    "print(f\"Recall(TP/FN+TP ):{recall}\")\n",
    "print(f\"Precsion(TP/FP+TP): {pre} \")\n",
    "print(f\"F1 score function of presscion and recall:{f1} \")"
   ]
  },
  {
   "cell_type": "code",
   "execution_count": 447,
   "metadata": {},
   "outputs": [
    {
     "data": {
      "application/vnd.plotly.v1+json": {
       "config": {
        "plotlyServerURL": "https://plot.ly"
       },
       "data": [
        {
         "hovertemplate": "x=%{x}<br>y=%{y}<br>z=%{z}<br>color=%{marker.color}<extra></extra>",
         "legendgroup": "",
         "marker": {
          "color": [
           0,
           1,
           1,
           1,
           0,
           0,
           1,
           0,
           1,
           1,
           1,
           1,
           1,
           0,
           1,
           1,
           0,
           1,
           0,
           0,
           0,
           0,
           1,
           0,
           0,
           0,
           1,
           0,
           1,
           0,
           0,
           1,
           1,
           0,
           1,
           1,
           0,
           0,
           0,
           1,
           1,
           1,
           0,
           1,
           1,
           0,
           1,
           0,
           1,
           0,
           1,
           1,
           0,
           1,
           1,
           1,
           0,
           1,
           1,
           0,
           1,
           0,
           1,
           0,
           1,
           0,
           0,
           1,
           1,
           1,
           0,
           0,
           0,
           1,
           1,
           0,
           0,
           1,
           0,
           0,
           0,
           0,
           1,
           0,
           0,
           0,
           1,
           1,
           1,
           1,
           0,
           0,
           0,
           0,
           0,
           1,
           0,
           1,
           0,
           1,
           0,
           1,
           0,
           1,
           1,
           0,
           1,
           1,
           1,
           1,
           1,
           1,
           1,
           1,
           1,
           0,
           1,
           0,
           1,
           1,
           1,
           1,
           1,
           1,
           0,
           1,
           0,
           0,
           0,
           1,
           1,
           0,
           0,
           1,
           0,
           1,
           0,
           0,
           1,
           0,
           0,
           1,
           1,
           1,
           1,
           0,
           1,
           0,
           0,
           1,
           1,
           1,
           0,
           0,
           1,
           1,
           0,
           1,
           1,
           0,
           0,
           1,
           1,
           0,
           1,
           0,
           0,
           1,
           0,
           1,
           1,
           1,
           1,
           0,
           1,
           1,
           0,
           0,
           0,
           0,
           0,
           1,
           1,
           1,
           1,
           0,
           1,
           1,
           0,
           0,
           1,
           0,
           0,
           0,
           1,
           1,
           1,
           1,
           0,
           0,
           0,
           0,
           1,
           0,
           1,
           1,
           1,
           1,
           1,
           0,
           1,
           1,
           0,
           0,
           0,
           0,
           1,
           0,
           0,
           0,
           0,
           0,
           1,
           1,
           1,
           0,
           1,
           1,
           0,
           0,
           1,
           1,
           0,
           0,
           0,
           0,
           0,
           1,
           1,
           1,
           1,
           0,
           1,
           1,
           0,
           0,
           1,
           0,
           1,
           0,
           0,
           1,
           0,
           0,
           1,
           1,
           1,
           1,
           0,
           0,
           0,
           0,
           1,
           1,
           1,
           1,
           1,
           1,
           1,
           1,
           0,
           1,
           1,
           0,
           1,
           0,
           0,
           0,
           0,
           0,
           0,
           0,
           1,
           0,
           0,
           1,
           0,
           0,
           1,
           0,
           1,
           0,
           0,
           0,
           1,
           1,
           0,
           1,
           0,
           0,
           0,
           0,
           1,
           1,
           0,
           1,
           0,
           0,
           1,
           1,
           0,
           1,
           0,
           0,
           0,
           1,
           0,
           0,
           0,
           1,
           0,
           0,
           1,
           0,
           0,
           1,
           1,
           1,
           0,
           1,
           1,
           0,
           1,
           1,
           1,
           0,
           0,
           1,
           1,
           1,
           1,
           1,
           1,
           0,
           1,
           0,
           1,
           1,
           0,
           1,
           0,
           0,
           0,
           0,
           1,
           1,
           0,
           1,
           1,
           0,
           0,
           1,
           0,
           0,
           0,
           1,
           0,
           0,
           1,
           0,
           1,
           1,
           1,
           1,
           0,
           0,
           1,
           0,
           1,
           0,
           1,
           1,
           1,
           0,
           1,
           1,
           1,
           1,
           1,
           1,
           0,
           0,
           0,
           0,
           0,
           1,
           0,
           0,
           0,
           0,
           1,
           1,
           0,
           0
          ],
          "coloraxis": "coloraxis",
          "symbol": "circle"
         },
         "mode": "markers",
         "name": "",
         "scene": "scene",
         "showlegend": false,
         "type": "scatter3d",
         "x": [
          3.9656736814240294,
          -5.5517929394341605,
          6.68776086674939,
          0.5165362470470959,
          -1.5596724130535877,
          4.972550123670571,
          -6.232714128525154,
          -0.8072380215033506,
          0.9499576013169186,
          9.492600911165113,
          -2.99697496465625,
          -2.2598916225322085,
          6.809141957770477,
          -2.4008166670617874,
          -4.487778515165683,
          -3.564672164484353,
          1.821860641677875,
          2.6083563696508514,
          5.05782548925524,
          -0.9944715878838817,
          2.4044148508820733,
          4.253293958240879,
          5.694606726172606,
          -3.5077609849501292,
          1.0501808737190241,
          0.5733286535866731,
          -0.03213211722131105,
          4.2956173382052745,
          3.6520552698662416,
          2.6018644364635652,
          1.1430602469190294,
          -3.4832137709935904,
          -1.4083618091883023,
          0.8327370226067352,
          -6.572295788329131,
          -5.3080367041636665,
          8.985192617402584,
          4.255884024776311,
          4.522489502335722,
          -6.011055642065317,
          -5.440985775537714,
          7.535164303740893,
          4.50220215657965,
          -6.132016438166981,
          -3.8095696189193764,
          1.3635817836883093,
          0.4612415764085352,
          3.3619791254674776,
          0.3789815661095938,
          3.529745025522083,
          -7.135836961906808,
          -2.1062350789059145,
          0.39262244607905933,
          -3.1598988202367995,
          8.013335482773448,
          6.734525241914259,
          -0.495794456435977,
          2.312205234643183,
          -7.4453281261764745,
          7.218237132269712,
          1.5759095071683231,
          6.998315112054041,
          6.59459239132662,
          4.648736694597558,
          -4.605196460007229,
          3.892003118666156,
          1.3625955789258593,
          8.594919509308816,
          -6.849168546524536,
          -1.6474357917810714,
          -0.9856304345476442,
          4.826131273653971,
          1.4790435360659557,
          -2.393200156423395,
          5.512927013235647,
          0.7367637043070079,
          -0.8962391701277722,
          6.746584373872402,
          4.286756185780559,
          4.367115468505881,
          0.8366407392564068,
          4.769862873102657,
          -1.4907527428279432,
          -0.9178032362067795,
          7.844827108292685,
          7.284613064155981,
          8.574735639321187,
          -6.394849948073911,
          -4.4510635947819335,
          -7.256991092049106,
          1.9987134497734762,
          1.22176173419113,
          -1.6004722868585641,
          4.347408091113051,
          2.661877268423012,
          -6.284305799056836,
          3.4551110878330658,
          0.15621298784895815,
          7.075523786417844,
          -2.2138722106767763,
          1.8521053084829562,
          -2.833561850313176,
          3.759716947404285,
          -0.3360778270327388,
          -5.5855200576481145,
          2.5981175122486775,
          -6.420765287281618,
          -3.2668663712355026,
          -1.3613125490137497,
          -5.17780858168301,
          -6.137385632549194,
          0.5064480531673754,
          -2.475599382143989,
          4.369724073874692,
          -6.56987435820378,
          6.121963904529976,
          -4.392361443468309,
          1.2827956114491645,
          7.625067029219154,
          -3.827067575226624,
          8.832619152421668,
          -6.6530580507920885,
          -6.081290454260132,
          -5.341035134865796,
          -0.5320364379319211,
          0.95791838367645,
          -2.6460413429588354,
          0.6889956057103812,
          6.130486823857481,
          -7.072071547621341,
          6.9529102590635725,
          1.6802252292076802,
          1.1207167528619308,
          -2.4409959991729373,
          2.396816692227452,
          -6.1361114037571864,
          2.5871699391420213,
          4.111753264586642,
          -4.508400906816787,
          0.10658131197084697,
          5.966746971539194,
          -5.138805476153507,
          -3.7465433015758376,
          3.331217436652684,
          8.397255860519893,
          1.6761758460686598,
          -6.234484332155434,
          -3.774717092619199,
          1.9242349974476558,
          -5.7181127027562395,
          6.93703300012437,
          3.301714409969985,
          -0.3803968688782169,
          -0.4535328684081442,
          -5.070351511931833,
          -2.3201557714020327,
          -2.7721465523065265,
          3.026863406684496,
          -6.2419390968111355,
          4.442210988880567,
          2.035081948032831,
          -6.941181260441204,
          6.289671756297102,
          3.019939563501273,
          -4.306039358144579,
          5.838988530126791,
          1.091755622163547,
          4.3397973332741495,
          3.84544505452326,
          2.8190831501859854,
          -4.7018565117790505,
          -1.0075859694583051,
          -5.565002890555519,
          4.920289319911795,
          -4.268454547910402,
          5.93280437344337,
          -0.10703581049958263,
          -0.371051423033105,
          -3.5928759468623843,
          -2.2163588028516745,
          0.6274297512009724,
          -5.829331713198807,
          6.9763122153887345,
          -1.4307654809547061,
          4.058385739138683,
          2.446196208346952,
          1.014906533874973,
          -6.528149755144639,
          7.016287852645483,
          5.217959536885636,
          -7.244681823513475,
          0.6195633695270343,
          -0.5128894732754222,
          5.26427554297757,
          -5.331971062841406,
          -1.9102870631554634,
          8.951016580504318,
          -5.946639571684706,
          3.1514389040001864,
          2.7768720039595722,
          -2.6937886994819875,
          4.628424507711032,
          7.247853090759754,
          2.8003639550241135,
          -4.008432832298981,
          -4.320416961429239,
          0.12443231730286397,
          -4.77615220958908,
          -6.104081007667648,
          6.567656398354147,
          -3.9063453770278977,
          0.09170506687521629,
          -0.4162633806238166,
          -1.4719697681240553,
          0.3748487246503707,
          1.709932919433794,
          -5.6916774111767365,
          -3.2582848749239948,
          0.8614720752171414,
          0.009034731655954791,
          -0.47261341584074235,
          5.711575569427601,
          -6.299204283246334,
          -3.247867146083566,
          -5.698877572172456,
          5.198419944262178,
          -5.855686670225573,
          -6.273518520445829,
          -3.9378675317358915,
          1.9633572175069525,
          2.948661415245559,
          -6.955240739523404,
          -3.961035243372525,
          0.10809520267684454,
          2.6174340656036232,
          1.8717795032545281,
          -0.419924046988076,
          4.971544463099156,
          3.0234594226321994,
          -2.255972573177621,
          7.51846893172724,
          3.818914837888775,
          -2.894074791667501,
          -6.777107843188936,
          1.3307786928078926,
          0.19053648201613915,
          -4.551879954669742,
          -1.4961113906411745,
          -7.0551242722276335,
          2.733731966321695,
          0.09483147846507689,
          -6.0920631755459285,
          -0.4536031276069407,
          -0.9120774721145479,
          -6.590263582705573,
          -6.527641865001269,
          -7.232586091534334,
          -6.130945000391438,
          4.71361332957934,
          2.9524456587802503,
          -3.825351253353931,
          3.6490288705976752,
          6.6236384933109616,
          -5.808879969604677,
          -3.510684954026371,
          -1.0592722192059958,
          -0.605514856443636,
          6.471328085092203,
          -1.8407743070036053,
          -2.039279120262304,
          3.5744824356179947,
          3.0849961827070236,
          -4.944927961610429,
          0.7715731779380314,
          7.292964986821114,
          -0.4972080949299846,
          1.0406146778649294,
          -0.052347994317024076,
          -1.1820156321478823,
          1.6184743671939472,
          1.8472211548030828,
          2.132945277088603,
          -1.3933807259805557,
          -0.7568957080427444,
          2.1848165816499314,
          -1.3217092121579601,
          -0.961174796106354,
          7.2611933035295015,
          2.9926105937820173,
          2.5899430893936684,
          -5.304467968647458,
          1.7496991496597165,
          5.3637026518579125,
          -0.04126648023766285,
          -7.029442020212461,
          -3.022062751657181,
          6.407636332351108,
          -4.005630816167015,
          -0.42776908345153375,
          -3.5889367827761576,
          0.9250005409557759,
          -1.418592656439802,
          -4.6965375271311665,
          -1.0590650815961404,
          1.0768319806793845,
          -5.776503134316031,
          0.7802526820336079,
          -3.1085335481038383,
          -4.3385600581232735,
          -5.278893663960864,
          7.177610026236637,
          -7.848468655778474,
          4.1363633322156,
          5.504180813647925,
          5.272216564317732,
          -0.7427415956957483,
          5.413329620188677,
          5.735878043669804,
          -0.9738331486239443,
          -5.819846473166542,
          8.620839382274033,
          0.2662852064918837,
          -1.8419455789312968,
          -3.0123067877563154,
          4.045191156918947,
          -6.523399033985281,
          -5.84587634825219,
          7.070231673629358,
          1.4709433253731232,
          -4.2236491468123365,
          8.115966687122215,
          -3.63409854347924,
          -4.236966934748565,
          -7.366588298086167,
          -1.9974044075874897,
          6.791615572165819,
          -1.2862268148558826,
          2.680380665384111,
          -1.6431223207993202,
          -4.757245312836285,
          -2.419556963590488,
          -4.184075079411657,
          -4.904546531229709,
          0.47243140704558995,
          -0.5591532485828495,
          8.09664112547297,
          -0.35575474446147365,
          -1.2906821477247283,
          0.1366248526312065,
          3.317532850735335,
          -0.906303524950597,
          0.4386584728918747,
          5.129457866232684,
          3.1211584980461935,
          -5.245374000057831,
          -5.814722916332113,
          6.501390860182107,
          -2.903064961557728,
          -5.619051715243001,
          1.4493141784501071,
          0.9304532312847099,
          -7.238155425857963,
          -2.076623977205213,
          -1.069703587073906,
          -3.226362917434363,
          -4.725060183378911,
          3.0944205278531594,
          5.129687862132644,
          0.8091056844335832,
          5.365257657315671,
          -4.327315931262832,
          -3.6773590831620706,
          -6.685378963723751,
          1.8840804642622073,
          5.904578158800358,
          -1.714225900482045,
          -3.8773173655476896,
          -2.802384789258261,
          -6.713794185329019,
          -1.9295704308971409,
          -0.08948443887991292,
          -5.8694663998294265,
          -1.0912019311456314,
          3.907127017874565,
          -1.848190402098392,
          7.52643807224355,
          -5.52960071208892,
          5.514981041567128,
          -5.050907219938864,
          -2.611047588730541,
          0.6040261434088956,
          4.7627805803907926,
          2.1648553538917326,
          2.3868648664418406,
          3.056658908204565,
          -6.206312451697496,
          1.2199844466981538,
          4.77044890618325,
          4.9114247128714075,
          3.1822572870988566,
          -5.53479141528676,
          6.394935345487679,
          0.6611101820429847,
          4.905213910727297
         ],
         "y": [
          -3.3106997756454777,
          2.471565381880241,
          5.1880424422827485,
          4.917941526740074,
          -4.977259169503069,
          1.0975778198884771,
          1.218381778941,
          -4.652265685840128,
          5.1285391444151065,
          2.0195700083455663,
          -0.9810005499510017,
          -1.1858355152308848,
          2.349707160382813,
          -4.941403878400937,
          4.784438500131286,
          -1.3874846575945898,
          0.29649986044534193,
          6.252996166681427,
          3.0087357255278775,
          -5.947573129429882,
          -3.92725343126418,
          -3.028100390352521,
          2.6684401030062492,
          -3.35462503638377,
          -0.41955104033746893,
          -6.110537880867687,
          5.989937992224073,
          1.0347667519930777,
          -5.016798165026853,
          -2.998321995286056,
          -5.0773666409415945,
          -1.890103611871566,
          0.03355560254404084,
          -6.009386128782078,
          0.34771726501308875,
          -3.5300726989268134,
          -2.422583194951656,
          2.796108799079515,
          -0.07248082224916924,
          0.40885333343986646,
          2.486081634580564,
          3.3172975727831586,
          -3.013523764782179,
          -1.484820486314099,
          4.587005393981478,
          0.4996074998664628,
          6.464200994318604,
          -0.8093270426156481,
          2.242103245206156,
          -4.608201758259806,
          -2.314313152412119,
          4.1866473762084455,
          -5.853603562154204,
          -1.940557735712303,
          2.1940189927869382,
          2.7785858396044176,
          -0.9107446755559346,
          -5.438941490890076,
          -1.7692277570110921,
          -2.346607288570171,
          4.456173868424977,
          -2.1839473542505377,
          2.761327658810309,
          -1.0220627120809944,
          4.748680816511896,
          -3.7054153713517035,
          0.19462830166039893,
          2.3148396892650704,
          -1.0379387517795708,
          -0.7848553478110886,
          -5.7239937945295845,
          -3.629949304306828,
          0.264815824343349,
          0.8819908543543126,
          -3.7723992466796323,
          -3.5656122662541443,
          -5.423846824185196,
          3.0304612573877785,
          1.926803457564504,
          1.3735451550751714,
          -4.108290463164094,
          -2.2609655694296626,
          2.6155532511299158,
          -1.0074902005619206,
          -2.6777905427967714,
          -2.202464807672447,
          5.1536599688609,
          2.085048398725489,
          3.158502749655099,
          -1.522243461188681,
          -4.429805066461291,
          3.6674924851086854,
          -2.7129945495006833,
          -0.14314765144827202,
          -4.479129577500117,
          0.1018316224266826,
          5.1162660673375,
          5.496530776707181,
          -1.9699112879222171,
          -1.8092850246575762,
          0.9616860706671945,
          -2.579591661467413,
          3.5543336425255574,
          4.15618652392014,
          2.0534443440026697,
          -2.896696958042813,
          -0.25062537216289144,
          4.703060518179791,
          5.096016587466489,
          2.1189806454074884,
          1.7193390130381998,
          5.844622212327297,
          5.623636010190012,
          -3.783171641048108,
          0.02327693657825145,
          -1.136653462782048,
          2.5832896632174216,
          2.791267845714356,
          3.0142395563121704,
          4.34428039984735,
          5.807403449246256,
          0.8824078056510382,
          0.6419236285022062,
          1.8160571406490071,
          -1.8043287589952408,
          6.959240100719564,
          -4.659744999400069,
          2.2715552984797194,
          -2.671654520944972,
          -0.03473868291112731,
          1.8165242189910211,
          1.1215926046572862,
          -5.965505769811789,
          5.825084618548901,
          1.729287044152183,
          0.5419681492653129,
          -4.082535467261448,
          -0.11606180349994566,
          -1.3035816835895555,
          -1.14086902739395,
          1.1887184997295228,
          0.13712879571005251,
          4.755982038612792,
          -5.237198866899171,
          3.623625520652763,
          1.6750482045704709,
          0.31076146119252307,
          -4.2933038068092735,
          -5.671119306835711,
          1.8628845870538466,
          3.1042708345086103,
          -4.686775999678279,
          -3.9558903896063184,
          -4.374398998955724,
          3.1283277304981407,
          -2.0092043826365606,
          -3.2958054633424343,
          -4.713759573195561,
          0.903642496184067,
          0.13706544891746913,
          -5.163474027013449,
          0.3978076750664046,
          3.3256086588523273,
          1.3843177653929177,
          -3.697585294599857,
          -2.2804605122026227,
          -5.25934386338875,
          -4.457793150900905,
          2.2388479430302053,
          -4.511612697256899,
          0.24030881844892601,
          6.699994460663882,
          1.9054560933629452,
          -2.2675722813640724,
          -1.4502556817875525,
          -3.227296930857969,
          -0.5219832543498326,
          -2.9696905764509514,
          -4.451616231764638,
          -2.961216763232053,
          -4.048132587910933,
          2.9393112239880756,
          3.0046223717504907,
          7.130488057800291,
          -3.9756353050082964,
          6.121388137318441,
          2.407627840647171,
          -0.25349513670776735,
          -1.5939552865863638,
          -0.4217296413205102,
          -0.23938057508950852,
          1.0046602806012739,
          -3.034511747410599,
          3.292111485924842,
          3.519341058053292,
          6.061045201089446,
          3.4276731395623665,
          0.30931886705649136,
          5.138155180244787,
          -3.1420755509265494,
          -3.278717705581643,
          -0.6942089179369452,
          2.915163257641924,
          -3.158250024079845,
          3.792337136116686,
          4.632634016125034,
          6.25462178958167,
          3.1860039744997684,
          0.6385445654327336,
          -0.8118553429980111,
          4.998602515518412,
          4.341558608427756,
          -5.245291371445144,
          -5.124410466587167,
          0.3468972944129107,
          -3.0293954603762696,
          2.03238838833725,
          -3.3308025670108785,
          -5.22487691737636,
          -4.699955318864831,
          -4.57942865373567,
          -0.9095252130131947,
          -0.2719461578487543,
          -2.7948801605893316,
          1.0167773738842412,
          0.67142350616312,
          1.231150488757552,
          -0.13570587600073988,
          -4.180464810010613,
          -4.399580975654056,
          -5.536381900976213,
          0.20115984096827513,
          -4.256619257580074,
          -3.8976560950848014,
          -5.694550074909388,
          -1.2939792256739215,
          -3.6103995904456037,
          -4.375545944482893,
          -5.014341596615132,
          -1.5668485923413902,
          1.8125968578402658,
          -3.402343788330927,
          -0.1343961404813567,
          -0.7891839677802047,
          1.00875434141002,
          -5.222303675185284,
          3.183709304088915,
          -5.309619572714915,
          0.27671736443986095,
          -1.4165992854033178,
          1.8932524577735321,
          -3.900267697129227,
          -4.2748499248519,
          -5.1786023534431544,
          -0.1250827206878197,
          0.2398482165525455,
          -2.515062231783238,
          0.8039364776535766,
          0.5308316914220125,
          2.339300119720639,
          -4.54961909444338,
          1.7699883638708616,
          4.511989372380631,
          0.04330865077576069,
          2.365313309689063,
          -0.4201806886154988,
          3.3358216924856947,
          2.9001457612497785,
          2.3416729973018398,
          3.1285530254171747,
          -1.415121199916718,
          -5.182084478696072,
          1.4313657732346001,
          -2.906674164168623,
          2.0915376796393654,
          -1.2632480370008503,
          -5.052938413038004,
          -5.52197458429219,
          -5.582344159391939,
          -0.3941035876993264,
          -5.402727018695541,
          4.207545423307107,
          3.3524294847789515,
          -5.724419045569647,
          -4.2353653119633945,
          5.071180928432545,
          -4.929783322394794,
          0.6951465298721446,
          -4.561939927771503,
          2.3537832808338948,
          0.5472431111423711,
          -5.765994772693126,
          3.8246603512362696,
          0.22995001783080882,
          0.7177547473417065,
          4.400300991074658,
          0.2264918746680116,
          -1.6024881026726217,
          -4.722821626227401,
          -4.612277211093812,
          -4.950236952931438,
          -4.950765476227708,
          4.880700561201208,
          0.692401452446804,
          -1.776038720650036,
          1.8149886292222688,
          -4.665069490461076,
          -4.903375824766782,
          3.5121890645737084,
          -3.856457334655436,
          -3.11522081672849,
          -3.2225759184150555,
          0.750091923302083,
          2.9342787722298067,
          -2.2692466816652064,
          -0.25812717108598887,
          2.6622410629094895,
          -2.2584616997943785,
          -4.8634835900247495,
          0.7430407464279195,
          -0.6448107001703381,
          0.5335115749575505,
          -1.5316883459520474,
          -3.499017827484054,
          -3.251378316901504,
          0.050028927536522355,
          1.4365131791922283,
          2.8714024758802377,
          -5.147122434615922,
          -1.348556239456088,
          3.9156470127056373,
          -4.4620089891972095,
          4.6950767614620945,
          -1.5108255103724093,
          4.992068038013248,
          -1.4065317444927883,
          -3.9826138389948693,
          -4.248087074561131,
          5.317375570484288,
          -0.9529291115583169,
          4.9533445811812955,
          3.6439405014900808,
          -3.943115171956477,
          -4.974560291909803,
          0.8968496144318702,
          -1.715940549770096,
          5.098842580619705,
          -1.1571566263798676,
          -4.964254311092363,
          -4.453745063511259,
          -5.599903851967823,
          -5.813315937375844,
          0.48738617095119896,
          -0.5718349443254189,
          1.0119707706165888,
          1.3213559808055853,
          -0.5557206528113463,
          -0.2573741657744375,
          2.0134052005524685,
          -5.530734959698907,
          -5.926842894195562,
          -2.7461839671413624,
          -3.9677381936477487,
          -4.954776275204939,
          -3.3112147817823443,
          2.9551498751156102,
          -2.814257182205435,
          3.078775487286546,
          3.506194964131375,
          2.2552988091333126,
          2.019896794335188,
          4.202720741475909,
          0.18323541295002313,
          5.805651084770785,
          -2.4886472041294136,
          -3.36436971430995,
          4.3396707729144435,
          -4.655383233760825,
          -0.9499943175753088,
          -0.8912851611665326,
          5.243201952706365,
          -1.222011420107349,
          2.8362823735384124,
          -3.795440702008802,
          0.05883576887191507,
          1.6929703636210376,
          1.1711427712207867,
          7.357174509491355,
          0.22095730245155254,
          0.5092113802126098,
          0.5349410139755206,
          -2.818440319510738,
          -3.190750950305842,
          -4.357555391349571,
          -3.150047064790355,
          0.9409074207113898,
          -5.4435594506319775,
          -1.449619560042219,
          1.8514512377648924,
          -0.22005030015837812,
          2.7136564904415144,
          -3.163101550869408,
          -5.88244304372105,
          2.4929012857088395
         ],
         "z": [
          1.4722489690510685,
          -0.14729320172230634,
          -1.886029663001152,
          -0.7691869017971518,
          0.2536750223948029,
          -2.132377352609536,
          -1.3551188596577832,
          1.0587129189514046,
          -0.03548155081925577,
          -1.559627524604471,
          -1.6183600748734843,
          -2.9631857137032145,
          -2.1743009598672476,
          0.624091685103967,
          1.6373281129614543,
          -3.000574384325011,
          1.1357392986256478,
          0.2665079952592612,
          -2.451025979614644,
          0.8230123452412743,
          2.169597391747566,
          1.6497943084540574,
          -3.0660130043724894,
          -1.567117695065192,
          -1.4140314079030452,
          1.689120359745718,
          0.27349691513853575,
          -2.4971222939963567,
          3.8391994314452806,
          -0.2803755513594255,
          1.6260631177848004,
          -3.200789846603023,
          -0.6691597464650287,
          2.0778217045137426,
          -0.7261243403652818,
          -2.137649313339438,
          1.7847377425698059,
          -2.5825392182688978,
          -0.9424382129594164,
          -1.0526403178035604,
          1.2720202423744316,
          -1.9055769965107894,
          1.1337494964578587,
          -1.08436766553824,
          1.4714323648220333,
          -3.182560435778363,
          0.25019391258011203,
          -1.64700908953366,
          2.913755137041582,
          1.248880730290255,
          -2.307319398388402,
          -1.5601360908417448,
          1.896212386681736,
          -2.527446590298879,
          -2.1791692414246917,
          -2.570823686816544,
          -2.0857371715700044,
          3.2717332430769597,
          -1.941487419152553,
          1.4992500413820737,
          3.8840557559279283,
          1.4658536517940182,
          -2.4524644074937525,
          -3.576179811490634,
          2.5418699540754615,
          0.9458290803329059,
          -1.3216949420947168,
          -1.854273297642563,
          -1.4142104618583442,
          -2.3557706259845053,
          1.0125540922541696,
          0.7926257640187584,
          -2.890491138132134,
          -2.6399410329720108,
          1.760389532478404,
          0.2778137906036649,
          1.304191026154766,
          -2.870038642692483,
          -3.0114527670977855,
          -2.3402267199938005,
          1.1360005681292693,
          0.27181135430068054,
          2.717125602141912,
          -1.6651425933345405,
          2.147768873508347,
          1.4917421379214466,
          0.454711393525216,
          -0.005525799029030714,
          1.497192791414035,
          -0.9827284185630513,
          0.7640952959201627,
          0.0970075526897229,
          -0.8859632489511966,
          -0.45740117400404107,
          2.2986736694405567,
          -0.8289146038759126,
          -0.5120993043296731,
          5.371469242064109,
          1.2144778213854357,
          -1.8116930420095305,
          -1.0805047826952425,
          -2.82586753423578,
          -3.3542254583258404,
          4.648267211828637,
          0.7407624241240565,
          0.29083685341099363,
          -1.1503087301170398,
          3.299727324254465,
          -0.13444829363530472,
          0.9768831230539446,
          -0.9478209537444946,
          0.2653877891782863,
          -0.08735042706026855,
          1.9488011541523127,
          -0.9751269108979127,
          1.0325488668405294,
          1.5913339014959667,
          -0.20206277260718558,
          -1.968119040152484,
          2.2706930245574495,
          -1.8181566641128684,
          -0.7830085334720959,
          -1.082561872560737,
          -0.09507780657481699,
          -2.7522216881807187,
          -0.2991552025843005,
          1.0096744430860816,
          -3.9218318718000664,
          0.8401544697999083,
          -2.221706174625877,
          -1.4460643212532474,
          -1.7858077629877602,
          2.482816741381257,
          4.783185954883323,
          -3.929262883418048,
          -1.1094820203463835,
          2.904898720762067,
          -1.4160053915455209,
          0.6146676796809964,
          -1.4374916304029686,
          -0.25264909287699633,
          -1.1354238718170773,
          2.673727015195272,
          2.0659243060880037,
          -0.8771281275947738,
          -0.1552321438616499,
          -1.2614679339844643,
          -0.800045570495708,
          2.841067573977069,
          -1.1765358716119716,
          -0.5507479466639456,
          1.760803348673322,
          1.0314815411675209,
          0.7694652762986243,
          -0.35645262236616604,
          -1.2292754564385466,
          -2.0638505408895753,
          1.9976201485626253,
          -1.016438309643157,
          -1.4399228506286155,
          2.2544798805299173,
          -0.6994436230372454,
          -1.8820854028064322,
          -2.907720512805415,
          -2.2026591594374634,
          0.47363913767774285,
          2.9319662850668595,
          2.8797857121023354,
          -3.7921434233848466,
          2.8650985835074887,
          -0.5728146055552295,
          5.024654083548478,
          0.7075115948743739,
          0.37335666850448473,
          -3.0663097239807846,
          2.0130734300050155,
          -2.2886855912944712,
          -0.9376614649643327,
          0.08534521121088971,
          -0.5351605715832999,
          2.822065676748829,
          -0.3506607162430548,
          -3.1088858497944707,
          4.625723241659141,
          2.9079015316469077,
          -0.39629991955058724,
          5.408925719946299,
          -2.2507459777242245,
          1.3256131383165752,
          -0.9281503583425492,
          -1.3336831012566084,
          -2.2787424826011176,
          -0.7107810322768032,
          -2.189138197888984,
          0.9734766711860551,
          4.022594043854644,
          -2.6378925684243986,
          -1.186330388567172,
          0.2110869883832449,
          -1.059313807107077,
          -1.3563149682921396,
          -0.7101154234410799,
          -2.2497076663797895,
          -0.030614992077619203,
          0.4939442524914692,
          -0.008070919509866398,
          -0.3918209842511972,
          -0.7113438537973144,
          -0.872296025881671,
          -0.1591815693109765,
          3.4997967088972812,
          4.427354780739611,
          1.5363736157988443,
          1.5921766485320303,
          -2.4513678009773865,
          2.6581534137002323,
          0.6422305367216895,
          -1.6996304916885607,
          2.58280249796534,
          1.2692859498538187,
          0.5610956576938876,
          -0.2582078231892454,
          -1.505406749552333,
          -1.9723878394281498,
          -1.8397871820802791,
          -2.1878470108833343,
          -1.4036935342172665,
          -1.7826748536395247,
          0.4184990085592438,
          0.6543617952035158,
          3.4892701420786247,
          -1.1332836551440748,
          0.37272266719428704,
          1.4407708300306714,
          1.6792260828623067,
          -1.4555066260822713,
          2.788087800090676,
          2.6153755104048675,
          3.9686294076439443,
          -3.3266691722605874,
          -1.935642217747657,
          0.47654327433135174,
          -3.689032299423636,
          -1.8612113357809048,
          -3.325743879124766,
          1.6166023335077586,
          -0.9477854245320909,
          -0.007799972495458067,
          -0.743250001120738,
          -0.8621858826441269,
          -1.6124823015151666,
          -1.8275774673511849,
          -2.956922133376495,
          0.6966188078285374,
          -1.1631467224396355,
          -1.0983288481331959,
          -2.783077029327483,
          0.20149843800617886,
          -1.5885406135980153,
          -3.502991187537975,
          0.44578001551573293,
          -0.6187724016771614,
          -2.5054502587961887,
          -0.46421296642344473,
          2.556355326512072,
          -2.8869978573430637,
          -1.499467315791615,
          -2.6350151173003615,
          -0.4054238213073898,
          2.9613568725010797,
          2.959837913935782,
          4.181695478585798,
          -0.6570084699031019,
          -0.6819082296371625,
          -0.59443303732982,
          -2.014450083842762,
          1.824822533103904,
          1.5211001998622564,
          1.4590898710637998,
          -0.9026424991370579,
          1.3703675338850692,
          -0.3382162477727352,
          2.906252644049449,
          1.0180427835350958,
          2.698256113181084,
          -0.0802689438781839,
          2.5417976484343896,
          0.6799093670840102,
          2.819870512598156,
          -2.8172087740533818,
          -0.5895478015663905,
          2.207565453362561,
          -2.7058612319725506,
          -0.7499329317165234,
          -1.943156647298965,
          -1.7385972763504782,
          -0.5626225544674754,
          -2.8448161215677596,
          0.2961371296247579,
          0.5711265955977206,
          1.8082414935697864,
          2.067360757369058,
          2.045322842041999,
          -2.777005979429091,
          -1.7802124497048724,
          -0.2145186798019344,
          1.196534537691692,
          0.060653890889937445,
          1.5494231757760306,
          -1.8983701488948161,
          2.109713612525676,
          -2.191780615466392,
          -0.7192213900278069,
          -3.077934725673539,
          0.40813446723685776,
          -1.5488328282277637,
          -1.6996224656833239,
          1.4754435459126434,
          2.352863583268538,
          -1.1499988271871162,
          1.7605871690790795,
          -2.610534890335488,
          -1.768898241771682,
          -1.3253399821487388,
          1.7546067824542744,
          -1.0459653347220963,
          -0.43749860596643386,
          -3.3064308656827084,
          2.1686436135453957,
          -3.234182476179925,
          -2.2304151924383113,
          0.9911117668249912,
          3.045315082530992,
          -1.8934439673380354,
          3.8763652215158393,
          0.9315600423379066,
          -1.0569273319513528,
          2.8337594276493916,
          4.305248036450231,
          -0.31437767563784896,
          3.484191039824746,
          0.09198811304745705,
          -2.0130105321791456,
          1.0842079663625,
          -3.1975512153672527,
          1.7301938137846764,
          4.856307615015587,
          -2.5092942919957104,
          0.8912465181746052,
          3.1790118270658594,
          0.5906191718197689,
          1.814991533261444,
          -2.571493141672399,
          -1.165054629309858,
          1.1375760109981234,
          -0.37296190145589303,
          0.6093016719541412,
          -2.17370125737427,
          0.03954038747296278,
          3.0886172173893676,
          2.025899979031524,
          -2.5356944480296724,
          -0.9801643576757872,
          2.4869834333498106,
          -1.6161776093619242,
          1.5443752340072994,
          -0.10801421923221101,
          -3.5126340542954124,
          3.9287394585757025,
          -2.811937265778753,
          -0.5723900485332244,
          3.2534029654530814,
          -1.2363787712032732,
          0.2456220901724372,
          1.115542728484556,
          -0.15649364600235235,
          3.347834190399329,
          0.033002227264785626,
          -1.3722631846627307,
          0.3493012554251436,
          4.5664758979182345,
          -0.6302362386538033,
          2.076085929002865,
          1.2031433646379062,
          -1.1063101758798806,
          -0.43977609802815837,
          -1.1328147904447283,
          1.269196690558514,
          -0.3615266065473906,
          0.7389803092642142,
          -3.4849307870115904,
          0.875083308884698,
          -0.34578512531876116,
          2.0189561999195442,
          0.025874648663578564,
          -0.6096727034381759,
          3.1826250160638283,
          -0.06080990123913623,
          -2.8034892785703263,
          -2.042501983686066,
          -0.4457534832085095,
          2.847345415655164,
          1.9483348919256178,
          -3.491526075771734
         ]
        }
       ],
       "layout": {
        "coloraxis": {
         "colorbar": {
          "title": {
           "text": "color"
          }
         },
         "colorscale": [
          [
           0,
           "#0d0887"
          ],
          [
           0.1111111111111111,
           "#46039f"
          ],
          [
           0.2222222222222222,
           "#7201a8"
          ],
          [
           0.3333333333333333,
           "#9c179e"
          ],
          [
           0.4444444444444444,
           "#bd3786"
          ],
          [
           0.5555555555555556,
           "#d8576b"
          ],
          [
           0.6666666666666666,
           "#ed7953"
          ],
          [
           0.7777777777777778,
           "#fb9f3a"
          ],
          [
           0.8888888888888888,
           "#fdca26"
          ],
          [
           1,
           "#f0f921"
          ]
         ]
        },
        "legend": {
         "tracegroupgap": 0
        },
        "margin": {
         "t": 60
        },
        "scene": {
         "domain": {
          "x": [
           0,
           1
          ],
          "y": [
           0,
           1
          ]
         },
         "xaxis": {
          "title": {
           "text": "x"
          }
         },
         "yaxis": {
          "title": {
           "text": "y"
          }
         },
         "zaxis": {
          "title": {
           "text": "z"
          }
         }
        },
        "template": {
         "data": {
          "bar": [
           {
            "error_x": {
             "color": "#2a3f5f"
            },
            "error_y": {
             "color": "#2a3f5f"
            },
            "marker": {
             "line": {
              "color": "#E5ECF6",
              "width": 0.5
             },
             "pattern": {
              "fillmode": "overlay",
              "size": 10,
              "solidity": 0.2
             }
            },
            "type": "bar"
           }
          ],
          "barpolar": [
           {
            "marker": {
             "line": {
              "color": "#E5ECF6",
              "width": 0.5
             },
             "pattern": {
              "fillmode": "overlay",
              "size": 10,
              "solidity": 0.2
             }
            },
            "type": "barpolar"
           }
          ],
          "carpet": [
           {
            "aaxis": {
             "endlinecolor": "#2a3f5f",
             "gridcolor": "white",
             "linecolor": "white",
             "minorgridcolor": "white",
             "startlinecolor": "#2a3f5f"
            },
            "baxis": {
             "endlinecolor": "#2a3f5f",
             "gridcolor": "white",
             "linecolor": "white",
             "minorgridcolor": "white",
             "startlinecolor": "#2a3f5f"
            },
            "type": "carpet"
           }
          ],
          "choropleth": [
           {
            "colorbar": {
             "outlinewidth": 0,
             "ticks": ""
            },
            "type": "choropleth"
           }
          ],
          "contour": [
           {
            "colorbar": {
             "outlinewidth": 0,
             "ticks": ""
            },
            "colorscale": [
             [
              0,
              "#0d0887"
             ],
             [
              0.1111111111111111,
              "#46039f"
             ],
             [
              0.2222222222222222,
              "#7201a8"
             ],
             [
              0.3333333333333333,
              "#9c179e"
             ],
             [
              0.4444444444444444,
              "#bd3786"
             ],
             [
              0.5555555555555556,
              "#d8576b"
             ],
             [
              0.6666666666666666,
              "#ed7953"
             ],
             [
              0.7777777777777778,
              "#fb9f3a"
             ],
             [
              0.8888888888888888,
              "#fdca26"
             ],
             [
              1,
              "#f0f921"
             ]
            ],
            "type": "contour"
           }
          ],
          "contourcarpet": [
           {
            "colorbar": {
             "outlinewidth": 0,
             "ticks": ""
            },
            "type": "contourcarpet"
           }
          ],
          "heatmap": [
           {
            "colorbar": {
             "outlinewidth": 0,
             "ticks": ""
            },
            "colorscale": [
             [
              0,
              "#0d0887"
             ],
             [
              0.1111111111111111,
              "#46039f"
             ],
             [
              0.2222222222222222,
              "#7201a8"
             ],
             [
              0.3333333333333333,
              "#9c179e"
             ],
             [
              0.4444444444444444,
              "#bd3786"
             ],
             [
              0.5555555555555556,
              "#d8576b"
             ],
             [
              0.6666666666666666,
              "#ed7953"
             ],
             [
              0.7777777777777778,
              "#fb9f3a"
             ],
             [
              0.8888888888888888,
              "#fdca26"
             ],
             [
              1,
              "#f0f921"
             ]
            ],
            "type": "heatmap"
           }
          ],
          "heatmapgl": [
           {
            "colorbar": {
             "outlinewidth": 0,
             "ticks": ""
            },
            "colorscale": [
             [
              0,
              "#0d0887"
             ],
             [
              0.1111111111111111,
              "#46039f"
             ],
             [
              0.2222222222222222,
              "#7201a8"
             ],
             [
              0.3333333333333333,
              "#9c179e"
             ],
             [
              0.4444444444444444,
              "#bd3786"
             ],
             [
              0.5555555555555556,
              "#d8576b"
             ],
             [
              0.6666666666666666,
              "#ed7953"
             ],
             [
              0.7777777777777778,
              "#fb9f3a"
             ],
             [
              0.8888888888888888,
              "#fdca26"
             ],
             [
              1,
              "#f0f921"
             ]
            ],
            "type": "heatmapgl"
           }
          ],
          "histogram": [
           {
            "marker": {
             "pattern": {
              "fillmode": "overlay",
              "size": 10,
              "solidity": 0.2
             }
            },
            "type": "histogram"
           }
          ],
          "histogram2d": [
           {
            "colorbar": {
             "outlinewidth": 0,
             "ticks": ""
            },
            "colorscale": [
             [
              0,
              "#0d0887"
             ],
             [
              0.1111111111111111,
              "#46039f"
             ],
             [
              0.2222222222222222,
              "#7201a8"
             ],
             [
              0.3333333333333333,
              "#9c179e"
             ],
             [
              0.4444444444444444,
              "#bd3786"
             ],
             [
              0.5555555555555556,
              "#d8576b"
             ],
             [
              0.6666666666666666,
              "#ed7953"
             ],
             [
              0.7777777777777778,
              "#fb9f3a"
             ],
             [
              0.8888888888888888,
              "#fdca26"
             ],
             [
              1,
              "#f0f921"
             ]
            ],
            "type": "histogram2d"
           }
          ],
          "histogram2dcontour": [
           {
            "colorbar": {
             "outlinewidth": 0,
             "ticks": ""
            },
            "colorscale": [
             [
              0,
              "#0d0887"
             ],
             [
              0.1111111111111111,
              "#46039f"
             ],
             [
              0.2222222222222222,
              "#7201a8"
             ],
             [
              0.3333333333333333,
              "#9c179e"
             ],
             [
              0.4444444444444444,
              "#bd3786"
             ],
             [
              0.5555555555555556,
              "#d8576b"
             ],
             [
              0.6666666666666666,
              "#ed7953"
             ],
             [
              0.7777777777777778,
              "#fb9f3a"
             ],
             [
              0.8888888888888888,
              "#fdca26"
             ],
             [
              1,
              "#f0f921"
             ]
            ],
            "type": "histogram2dcontour"
           }
          ],
          "mesh3d": [
           {
            "colorbar": {
             "outlinewidth": 0,
             "ticks": ""
            },
            "type": "mesh3d"
           }
          ],
          "parcoords": [
           {
            "line": {
             "colorbar": {
              "outlinewidth": 0,
              "ticks": ""
             }
            },
            "type": "parcoords"
           }
          ],
          "pie": [
           {
            "automargin": true,
            "type": "pie"
           }
          ],
          "scatter": [
           {
            "fillpattern": {
             "fillmode": "overlay",
             "size": 10,
             "solidity": 0.2
            },
            "type": "scatter"
           }
          ],
          "scatter3d": [
           {
            "line": {
             "colorbar": {
              "outlinewidth": 0,
              "ticks": ""
             }
            },
            "marker": {
             "colorbar": {
              "outlinewidth": 0,
              "ticks": ""
             }
            },
            "type": "scatter3d"
           }
          ],
          "scattercarpet": [
           {
            "marker": {
             "colorbar": {
              "outlinewidth": 0,
              "ticks": ""
             }
            },
            "type": "scattercarpet"
           }
          ],
          "scattergeo": [
           {
            "marker": {
             "colorbar": {
              "outlinewidth": 0,
              "ticks": ""
             }
            },
            "type": "scattergeo"
           }
          ],
          "scattergl": [
           {
            "marker": {
             "colorbar": {
              "outlinewidth": 0,
              "ticks": ""
             }
            },
            "type": "scattergl"
           }
          ],
          "scattermapbox": [
           {
            "marker": {
             "colorbar": {
              "outlinewidth": 0,
              "ticks": ""
             }
            },
            "type": "scattermapbox"
           }
          ],
          "scatterpolar": [
           {
            "marker": {
             "colorbar": {
              "outlinewidth": 0,
              "ticks": ""
             }
            },
            "type": "scatterpolar"
           }
          ],
          "scatterpolargl": [
           {
            "marker": {
             "colorbar": {
              "outlinewidth": 0,
              "ticks": ""
             }
            },
            "type": "scatterpolargl"
           }
          ],
          "scatterternary": [
           {
            "marker": {
             "colorbar": {
              "outlinewidth": 0,
              "ticks": ""
             }
            },
            "type": "scatterternary"
           }
          ],
          "surface": [
           {
            "colorbar": {
             "outlinewidth": 0,
             "ticks": ""
            },
            "colorscale": [
             [
              0,
              "#0d0887"
             ],
             [
              0.1111111111111111,
              "#46039f"
             ],
             [
              0.2222222222222222,
              "#7201a8"
             ],
             [
              0.3333333333333333,
              "#9c179e"
             ],
             [
              0.4444444444444444,
              "#bd3786"
             ],
             [
              0.5555555555555556,
              "#d8576b"
             ],
             [
              0.6666666666666666,
              "#ed7953"
             ],
             [
              0.7777777777777778,
              "#fb9f3a"
             ],
             [
              0.8888888888888888,
              "#fdca26"
             ],
             [
              1,
              "#f0f921"
             ]
            ],
            "type": "surface"
           }
          ],
          "table": [
           {
            "cells": {
             "fill": {
              "color": "#EBF0F8"
             },
             "line": {
              "color": "white"
             }
            },
            "header": {
             "fill": {
              "color": "#C8D4E3"
             },
             "line": {
              "color": "white"
             }
            },
            "type": "table"
           }
          ]
         },
         "layout": {
          "annotationdefaults": {
           "arrowcolor": "#2a3f5f",
           "arrowhead": 0,
           "arrowwidth": 1
          },
          "autotypenumbers": "strict",
          "coloraxis": {
           "colorbar": {
            "outlinewidth": 0,
            "ticks": ""
           }
          },
          "colorscale": {
           "diverging": [
            [
             0,
             "#8e0152"
            ],
            [
             0.1,
             "#c51b7d"
            ],
            [
             0.2,
             "#de77ae"
            ],
            [
             0.3,
             "#f1b6da"
            ],
            [
             0.4,
             "#fde0ef"
            ],
            [
             0.5,
             "#f7f7f7"
            ],
            [
             0.6,
             "#e6f5d0"
            ],
            [
             0.7,
             "#b8e186"
            ],
            [
             0.8,
             "#7fbc41"
            ],
            [
             0.9,
             "#4d9221"
            ],
            [
             1,
             "#276419"
            ]
           ],
           "sequential": [
            [
             0,
             "#0d0887"
            ],
            [
             0.1111111111111111,
             "#46039f"
            ],
            [
             0.2222222222222222,
             "#7201a8"
            ],
            [
             0.3333333333333333,
             "#9c179e"
            ],
            [
             0.4444444444444444,
             "#bd3786"
            ],
            [
             0.5555555555555556,
             "#d8576b"
            ],
            [
             0.6666666666666666,
             "#ed7953"
            ],
            [
             0.7777777777777778,
             "#fb9f3a"
            ],
            [
             0.8888888888888888,
             "#fdca26"
            ],
            [
             1,
             "#f0f921"
            ]
           ],
           "sequentialminus": [
            [
             0,
             "#0d0887"
            ],
            [
             0.1111111111111111,
             "#46039f"
            ],
            [
             0.2222222222222222,
             "#7201a8"
            ],
            [
             0.3333333333333333,
             "#9c179e"
            ],
            [
             0.4444444444444444,
             "#bd3786"
            ],
            [
             0.5555555555555556,
             "#d8576b"
            ],
            [
             0.6666666666666666,
             "#ed7953"
            ],
            [
             0.7777777777777778,
             "#fb9f3a"
            ],
            [
             0.8888888888888888,
             "#fdca26"
            ],
            [
             1,
             "#f0f921"
            ]
           ]
          },
          "colorway": [
           "#636efa",
           "#EF553B",
           "#00cc96",
           "#ab63fa",
           "#FFA15A",
           "#19d3f3",
           "#FF6692",
           "#B6E880",
           "#FF97FF",
           "#FECB52"
          ],
          "font": {
           "color": "#2a3f5f"
          },
          "geo": {
           "bgcolor": "white",
           "lakecolor": "white",
           "landcolor": "#E5ECF6",
           "showlakes": true,
           "showland": true,
           "subunitcolor": "white"
          },
          "hoverlabel": {
           "align": "left"
          },
          "hovermode": "closest",
          "mapbox": {
           "style": "light"
          },
          "paper_bgcolor": "white",
          "plot_bgcolor": "#E5ECF6",
          "polar": {
           "angularaxis": {
            "gridcolor": "white",
            "linecolor": "white",
            "ticks": ""
           },
           "bgcolor": "#E5ECF6",
           "radialaxis": {
            "gridcolor": "white",
            "linecolor": "white",
            "ticks": ""
           }
          },
          "scene": {
           "xaxis": {
            "backgroundcolor": "#E5ECF6",
            "gridcolor": "white",
            "gridwidth": 2,
            "linecolor": "white",
            "showbackground": true,
            "ticks": "",
            "zerolinecolor": "white"
           },
           "yaxis": {
            "backgroundcolor": "#E5ECF6",
            "gridcolor": "white",
            "gridwidth": 2,
            "linecolor": "white",
            "showbackground": true,
            "ticks": "",
            "zerolinecolor": "white"
           },
           "zaxis": {
            "backgroundcolor": "#E5ECF6",
            "gridcolor": "white",
            "gridwidth": 2,
            "linecolor": "white",
            "showbackground": true,
            "ticks": "",
            "zerolinecolor": "white"
           }
          },
          "shapedefaults": {
           "line": {
            "color": "#2a3f5f"
           }
          },
          "ternary": {
           "aaxis": {
            "gridcolor": "white",
            "linecolor": "white",
            "ticks": ""
           },
           "baxis": {
            "gridcolor": "white",
            "linecolor": "white",
            "ticks": ""
           },
           "bgcolor": "#E5ECF6",
           "caxis": {
            "gridcolor": "white",
            "linecolor": "white",
            "ticks": ""
           }
          },
          "title": {
           "x": 0.05
          },
          "xaxis": {
           "automargin": true,
           "gridcolor": "white",
           "linecolor": "white",
           "ticks": "",
           "title": {
            "standoff": 15
           },
           "zerolinecolor": "white",
           "zerolinewidth": 2
          },
          "yaxis": {
           "automargin": true,
           "gridcolor": "white",
           "linecolor": "white",
           "ticks": "",
           "title": {
            "standoff": 15
           },
           "zerolinecolor": "white",
           "zerolinewidth": 2
          }
         }
        }
       }
      }
     },
     "metadata": {},
     "output_type": "display_data"
    }
   ],
   "source": [
    "px.scatter_3d(x=x_testdf.iloc[:,0],y=x_testdf.iloc[:,1],z=x_testdf.iloc[:,2], color= y_pred)"
   ]
  }
 ],
 "metadata": {
  "kernelspec": {
   "display_name": "base",
   "language": "python",
   "name": "python3"
  },
  "language_info": {
   "codemirror_mode": {
    "name": "ipython",
    "version": 3
   },
   "file_extension": ".py",
   "mimetype": "text/x-python",
   "name": "python",
   "nbconvert_exporter": "python",
   "pygments_lexer": "ipython3",
   "version": "3.10.9"
  }
 },
 "nbformat": 4,
 "nbformat_minor": 2
}
