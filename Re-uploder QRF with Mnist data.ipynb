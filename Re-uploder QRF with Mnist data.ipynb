{
 "cells": [
  {
   "cell_type": "code",
   "execution_count": 363,
   "metadata": {},
   "outputs": [],
   "source": [
    "from sklearn.datasets import load_digits\n",
    "import pandas as pd\n",
    "import matplotlib.pyplot as plt\n",
    "%matplotlib inline \n",
    "from pennylane import numpy as np\n",
    "import pennylane as qml\n",
    "from sklearn.model_selection import train_test_split \n",
    "from sklearn.preprocessing import MaxAbsScaler \n",
    "from sklearn.preprocessing import Normalizer\n",
    "from sklearn.svm import SVC\n",
    "from sklearn.metrics import accuracy_score \n",
    "from sklearn.metrics import confusion_matrix as confusion_matrix\n",
    "from sklearn.metrics import f1_score as f1\n",
    "from sklearn.metrics import recall_score as recall\n",
    "from sklearn.decomposition import PCA \n",
    "from qiskit import *\n",
    "import seaborn as sns\n",
    "import plotly.express as px\n",
    "from sklearn.metrics import f1_score\n",
    "from sklearn.metrics import recall_score\n",
    "from sklearn.metrics import precision_score\n",
    "import pennylane as qml\n",
    "from pennylane import numpy as np\n",
    "from pennylane.optimize import AdamOptimizer, GradientDescentOptimizer\n",
    "\n",
    "import matplotlib.pyplot as plt\n"
   ]
  },
  {
   "cell_type": "code",
   "execution_count": 621,
   "metadata": {},
   "outputs": [
    {
     "data": {
      "text/html": [
       "<div>\n",
       "<style scoped>\n",
       "    .dataframe tbody tr th:only-of-type {\n",
       "        vertical-align: middle;\n",
       "    }\n",
       "\n",
       "    .dataframe tbody tr th {\n",
       "        vertical-align: top;\n",
       "    }\n",
       "\n",
       "    .dataframe thead th {\n",
       "        text-align: right;\n",
       "    }\n",
       "</style>\n",
       "<table border=\"1\" class=\"dataframe\">\n",
       "  <thead>\n",
       "    <tr style=\"text-align: right;\">\n",
       "      <th></th>\n",
       "      <th>0</th>\n",
       "      <th>1</th>\n",
       "      <th>2</th>\n",
       "      <th>3</th>\n",
       "      <th>4</th>\n",
       "      <th>5</th>\n",
       "      <th>6</th>\n",
       "      <th>7</th>\n",
       "      <th>8</th>\n",
       "      <th>9</th>\n",
       "      <th>...</th>\n",
       "      <th>54</th>\n",
       "      <th>55</th>\n",
       "      <th>56</th>\n",
       "      <th>57</th>\n",
       "      <th>58</th>\n",
       "      <th>59</th>\n",
       "      <th>60</th>\n",
       "      <th>61</th>\n",
       "      <th>62</th>\n",
       "      <th>63</th>\n",
       "    </tr>\n",
       "  </thead>\n",
       "  <tbody>\n",
       "    <tr>\n",
       "      <th>0</th>\n",
       "      <td>0.0</td>\n",
       "      <td>0.0</td>\n",
       "      <td>5.0</td>\n",
       "      <td>13.0</td>\n",
       "      <td>9.0</td>\n",
       "      <td>1.0</td>\n",
       "      <td>0.0</td>\n",
       "      <td>0.0</td>\n",
       "      <td>0.0</td>\n",
       "      <td>0.0</td>\n",
       "      <td>...</td>\n",
       "      <td>0.0</td>\n",
       "      <td>0.0</td>\n",
       "      <td>0.0</td>\n",
       "      <td>0.0</td>\n",
       "      <td>6.0</td>\n",
       "      <td>13.0</td>\n",
       "      <td>10.0</td>\n",
       "      <td>0.0</td>\n",
       "      <td>0.0</td>\n",
       "      <td>0.0</td>\n",
       "    </tr>\n",
       "    <tr>\n",
       "      <th>1</th>\n",
       "      <td>0.0</td>\n",
       "      <td>0.0</td>\n",
       "      <td>0.0</td>\n",
       "      <td>12.0</td>\n",
       "      <td>13.0</td>\n",
       "      <td>5.0</td>\n",
       "      <td>0.0</td>\n",
       "      <td>0.0</td>\n",
       "      <td>0.0</td>\n",
       "      <td>0.0</td>\n",
       "      <td>...</td>\n",
       "      <td>0.0</td>\n",
       "      <td>0.0</td>\n",
       "      <td>0.0</td>\n",
       "      <td>0.0</td>\n",
       "      <td>0.0</td>\n",
       "      <td>11.0</td>\n",
       "      <td>16.0</td>\n",
       "      <td>10.0</td>\n",
       "      <td>0.0</td>\n",
       "      <td>0.0</td>\n",
       "    </tr>\n",
       "    <tr>\n",
       "      <th>2</th>\n",
       "      <td>0.0</td>\n",
       "      <td>0.0</td>\n",
       "      <td>0.0</td>\n",
       "      <td>4.0</td>\n",
       "      <td>15.0</td>\n",
       "      <td>12.0</td>\n",
       "      <td>0.0</td>\n",
       "      <td>0.0</td>\n",
       "      <td>0.0</td>\n",
       "      <td>0.0</td>\n",
       "      <td>...</td>\n",
       "      <td>5.0</td>\n",
       "      <td>0.0</td>\n",
       "      <td>0.0</td>\n",
       "      <td>0.0</td>\n",
       "      <td>0.0</td>\n",
       "      <td>3.0</td>\n",
       "      <td>11.0</td>\n",
       "      <td>16.0</td>\n",
       "      <td>9.0</td>\n",
       "      <td>0.0</td>\n",
       "    </tr>\n",
       "    <tr>\n",
       "      <th>3</th>\n",
       "      <td>0.0</td>\n",
       "      <td>0.0</td>\n",
       "      <td>7.0</td>\n",
       "      <td>15.0</td>\n",
       "      <td>13.0</td>\n",
       "      <td>1.0</td>\n",
       "      <td>0.0</td>\n",
       "      <td>0.0</td>\n",
       "      <td>0.0</td>\n",
       "      <td>8.0</td>\n",
       "      <td>...</td>\n",
       "      <td>9.0</td>\n",
       "      <td>0.0</td>\n",
       "      <td>0.0</td>\n",
       "      <td>0.0</td>\n",
       "      <td>7.0</td>\n",
       "      <td>13.0</td>\n",
       "      <td>13.0</td>\n",
       "      <td>9.0</td>\n",
       "      <td>0.0</td>\n",
       "      <td>0.0</td>\n",
       "    </tr>\n",
       "    <tr>\n",
       "      <th>4</th>\n",
       "      <td>0.0</td>\n",
       "      <td>0.0</td>\n",
       "      <td>0.0</td>\n",
       "      <td>1.0</td>\n",
       "      <td>11.0</td>\n",
       "      <td>0.0</td>\n",
       "      <td>0.0</td>\n",
       "      <td>0.0</td>\n",
       "      <td>0.0</td>\n",
       "      <td>0.0</td>\n",
       "      <td>...</td>\n",
       "      <td>0.0</td>\n",
       "      <td>0.0</td>\n",
       "      <td>0.0</td>\n",
       "      <td>0.0</td>\n",
       "      <td>0.0</td>\n",
       "      <td>2.0</td>\n",
       "      <td>16.0</td>\n",
       "      <td>4.0</td>\n",
       "      <td>0.0</td>\n",
       "      <td>0.0</td>\n",
       "    </tr>\n",
       "  </tbody>\n",
       "</table>\n",
       "<p>5 rows × 64 columns</p>\n",
       "</div>"
      ],
      "text/plain": [
       "    0    1    2     3     4     5    6    7    8    9   ...   54   55   56  \\\n",
       "0  0.0  0.0  5.0  13.0   9.0   1.0  0.0  0.0  0.0  0.0  ...  0.0  0.0  0.0   \n",
       "1  0.0  0.0  0.0  12.0  13.0   5.0  0.0  0.0  0.0  0.0  ...  0.0  0.0  0.0   \n",
       "2  0.0  0.0  0.0   4.0  15.0  12.0  0.0  0.0  0.0  0.0  ...  5.0  0.0  0.0   \n",
       "3  0.0  0.0  7.0  15.0  13.0   1.0  0.0  0.0  0.0  8.0  ...  9.0  0.0  0.0   \n",
       "4  0.0  0.0  0.0   1.0  11.0   0.0  0.0  0.0  0.0  0.0  ...  0.0  0.0  0.0   \n",
       "\n",
       "    57   58    59    60    61   62   63  \n",
       "0  0.0  6.0  13.0  10.0   0.0  0.0  0.0  \n",
       "1  0.0  0.0  11.0  16.0  10.0  0.0  0.0  \n",
       "2  0.0  0.0   3.0  11.0  16.0  9.0  0.0  \n",
       "3  0.0  7.0  13.0  13.0   9.0  0.0  0.0  \n",
       "4  0.0  0.0   2.0  16.0   4.0  0.0  0.0  \n",
       "\n",
       "[5 rows x 64 columns]"
      ]
     },
     "execution_count": 621,
     "metadata": {},
     "output_type": "execute_result"
    }
   ],
   "source": [
    "mnist = load_digits()\n",
    "pd.DataFrame(mnist.data).head()"
   ]
  },
  {
   "cell_type": "code",
   "execution_count": 622,
   "metadata": {},
   "outputs": [
    {
     "data": {
      "text/plain": [
       "<matplotlib.image.AxesImage at 0x264631c9f00>"
      ]
     },
     "execution_count": 622,
     "metadata": {},
     "output_type": "execute_result"
    },
    {
     "data": {
      "image/png": "[encoded data removed]",
      "text/plain": [
       "<Figure size 640x480 with 1 Axes>"
      ]
     },
     "metadata": {},
     "output_type": "display_data"
    }
   ],
   "source": [
    "pd.DataFrame(mnist.target).head()\n",
    "plt.imshow(mnist.images[2])"
   ]
  },
  {
   "cell_type": "code",
   "execution_count": 623,
   "metadata": {},
   "outputs": [
    {
     "data": {
      "image/png": "[encoded data removed]",
      "text/plain": [
       "<Figure size 1600x600 with 20 Axes>"
      ]
     },
     "metadata": {},
     "output_type": "display_data"
    }
   ],
   "source": [
    "fig, axes = plt.subplots(2, 10, figsize=(16, 6))\n",
    "for i in range(20):\n",
    "    axes[i//10, i %10].imshow(mnist.images[i], cmap='gray')\n",
    "    axes[i//10, i %10].axis('off')\n",
    "    axes[i//10, i %10].set_title(f\"target: {mnist.target[i]}\")\n",
    "    \n",
    "plt.tight_layout()"
   ]
  },
  {
   "cell_type": "code",
   "execution_count": 705,
   "metadata": {},
   "outputs": [
    {
     "name": "stdout",
     "output_type": "stream",
     "text": [
      "    0    1    2     3    4    5    6    7    8    9   ...   54   55   56   57  \\\n",
      "0  0.0  0.0  5.0  13.0  9.0  1.0  0.0  0.0  0.0  0.0  ...  0.0  0.0  0.0  0.0   \n",
      "\n",
      "    58    59    60   61   62   63  \n",
      "0  6.0  13.0  10.0  0.0  0.0  0.0  \n",
      "\n",
      "[1 rows x 64 columns]\n",
      "    0    1    2     3     4    5    6    7    8    9   ...   54   55   56  \\\n",
      "0  0.0  0.0  5.0  13.0   9.0  1.0  0.0  0.0  0.0  0.0  ...  0.0  0.0  0.0   \n",
      "0  0.0  0.0  0.0  12.0  13.0  5.0  0.0  0.0  0.0  0.0  ...  0.0  0.0  0.0   \n",
      "\n",
      "    57   58    59    60    61   62   63  \n",
      "0  0.0  6.0  13.0  10.0   0.0  0.0  0.0  \n",
      "0  0.0  0.0  11.0  16.0  10.0  0.0  0.0  \n",
      "\n",
      "[2 rows x 64 columns]\n",
      "    0    1    2     3     4     5    6    7    8    9   ...   54   55   56  \\\n",
      "0  0.0  0.0  5.0  13.0   9.0   1.0  0.0  0.0  0.0  0.0  ...  0.0  0.0  0.0   \n",
      "0  0.0  0.0  0.0  12.0  13.0   5.0  0.0  0.0  0.0  0.0  ...  0.0  0.0  0.0   \n",
      "0  0.0  0.0  0.0   4.0  15.0  12.0  0.0  0.0  0.0  0.0  ...  5.0  0.0  0.0   \n",
      "\n",
      "    57   58    59    60    61   62   63  \n",
      "0  0.0  6.0  13.0  10.0   0.0  0.0  0.0  \n",
      "0  0.0  0.0  11.0  16.0  10.0  0.0  0.0  \n",
      "0  0.0  0.0   3.0  11.0  16.0  9.0  0.0  \n",
      "\n",
      "[3 rows x 64 columns]\n",
      "    0    1    2     3     4     5    6    7    8    9   ...   54   55   56  \\\n",
      "0  0.0  0.0  5.0  13.0   9.0   1.0  0.0  0.0  0.0  0.0  ...  0.0  0.0  0.0   \n",
      "0  0.0  0.0  0.0  12.0  13.0   5.0  0.0  0.0  0.0  0.0  ...  0.0  0.0  0.0   \n",
      "0  0.0  0.0  0.0   4.0  15.0  12.0  0.0  0.0  0.0  0.0  ...  5.0  0.0  0.0   \n",
      "0  0.0  0.0  7.0  15.0  13.0   1.0  0.0  0.0  0.0  8.0  ...  9.0  0.0  0.0   \n",
      "\n",
      "    57   58    59    60    61   62   63  \n",
      "0  0.0  6.0  13.0  10.0   0.0  0.0  0.0  \n",
      "0  0.0  0.0  11.0  16.0  10.0  0.0  0.0  \n",
      "0  0.0  0.0   3.0  11.0  16.0  9.0  0.0  \n",
      "0  0.0  7.0  13.0  13.0   9.0  0.0  0.0  \n",
      "\n",
      "[4 rows x 64 columns]\n",
      "    0    1    2     3     4     5    6    7    8    9   ...   54   55   56  \\\n",
      "0  0.0  0.0  5.0  13.0   9.0   1.0  0.0  0.0  0.0  0.0  ...  0.0  0.0  0.0   \n",
      "0  0.0  0.0  0.0  12.0  13.0   5.0  0.0  0.0  0.0  0.0  ...  0.0  0.0  0.0   \n",
      "0  0.0  0.0  0.0   4.0  15.0  12.0  0.0  0.0  0.0  0.0  ...  5.0  0.0  0.0   \n",
      "0  0.0  0.0  7.0  15.0  13.0   1.0  0.0  0.0  0.0  8.0  ...  9.0  0.0  0.0   \n",
      "0  0.0  0.0  0.0   1.0  11.0   0.0  0.0  0.0  0.0  0.0  ...  0.0  0.0  0.0   \n",
      "\n",
      "    57   58    59    60    61   62   63  \n",
      "0  0.0  6.0  13.0  10.0   0.0  0.0  0.0  \n",
      "0  0.0  0.0  11.0  16.0  10.0  0.0  0.0  \n",
      "0  0.0  0.0   3.0  11.0  16.0  9.0  0.0  \n",
      "0  0.0  7.0  13.0  13.0   9.0  0.0  0.0  \n",
      "0  0.0  0.0   2.0  16.0   4.0  0.0  0.0  \n",
      "\n",
      "[5 rows x 64 columns]\n",
      "    0    1     2     3     4     5    6    7    8    9   ...   54   55   56  \\\n",
      "0  0.0  0.0   5.0  13.0   9.0   1.0  0.0  0.0  0.0  0.0  ...  0.0  0.0  0.0   \n",
      "0  0.0  0.0   0.0  12.0  13.0   5.0  0.0  0.0  0.0  0.0  ...  0.0  0.0  0.0   \n",
      "0  0.0  0.0   0.0   4.0  15.0  12.0  0.0  0.0  0.0  0.0  ...  5.0  0.0  0.0   \n",
      "0  0.0  0.0   7.0  15.0  13.0   1.0  0.0  0.0  0.0  8.0  ...  9.0  0.0  0.0   \n",
      "0  0.0  0.0   0.0   1.0  11.0   0.0  0.0  0.0  0.0  0.0  ...  0.0  0.0  0.0   \n",
      "0  0.0  0.0  12.0  10.0   0.0   0.0  0.0  0.0  0.0  0.0  ...  4.0  0.0  0.0   \n",
      "\n",
      "    57   58    59    60    61   62   63  \n",
      "0  0.0  6.0  13.0  10.0   0.0  0.0  0.0  \n",
      "0  0.0  0.0  11.0  16.0  10.0  0.0  0.0  \n",
      "0  0.0  0.0   3.0  11.0  16.0  9.0  0.0  \n",
      "0  0.0  7.0  13.0  13.0   9.0  0.0  0.0  \n",
      "0  0.0  0.0   2.0  16.0   4.0  0.0  0.0  \n",
      "0  0.0  9.0  16.0  16.0  10.0  0.0  0.0  \n",
      "\n",
      "[6 rows x 64 columns]\n",
      "    0    1     2     3     4     5    6    7    8    9   ...   54   55   56  \\\n",
      "0  0.0  0.0   5.0  13.0   9.0   1.0  0.0  0.0  0.0  0.0  ...  0.0  0.0  0.0   \n",
      "0  0.0  0.0   0.0  12.0  13.0   5.0  0.0  0.0  0.0  0.0  ...  0.0  0.0  0.0   \n",
      "0  0.0  0.0   0.0   4.0  15.0  12.0  0.0  0.0  0.0  0.0  ...  5.0  0.0  0.0   \n",
      "0  0.0  0.0   7.0  15.0  13.0   1.0  0.0  0.0  0.0  8.0  ...  9.0  0.0  0.0   \n",
      "0  0.0  0.0   0.0   1.0  11.0   0.0  0.0  0.0  0.0  0.0  ...  0.0  0.0  0.0   \n",
      "0  0.0  0.0  12.0  10.0   0.0   0.0  0.0  0.0  0.0  0.0  ...  4.0  0.0  0.0   \n",
      "0  0.0  0.0   0.0  12.0  13.0   0.0  0.0  0.0  0.0  0.0  ...  8.0  0.0  0.0   \n",
      "\n",
      "    57   58    59    60    61   62   63  \n",
      "0  0.0  6.0  13.0  10.0   0.0  0.0  0.0  \n",
      "0  0.0  0.0  11.0  16.0  10.0  0.0  0.0  \n",
      "0  0.0  0.0   3.0  11.0  16.0  9.0  0.0  \n",
      "0  0.0  7.0  13.0  13.0   9.0  0.0  0.0  \n",
      "0  0.0  0.0   2.0  16.0   4.0  0.0  0.0  \n",
      "0  0.0  9.0  16.0  16.0  10.0  0.0  0.0  \n",
      "0  0.0  1.0   9.0  15.0  11.0  3.0  0.0  \n",
      "\n",
      "[7 rows x 64 columns]\n",
      "    0    1     2     3     4     5     6    7    8    9   ...   54   55   56  \\\n",
      "0  0.0  0.0   5.0  13.0   9.0   1.0   0.0  0.0  0.0  0.0  ...  0.0  0.0  0.0   \n",
      "0  0.0  0.0   0.0  12.0  13.0   5.0   0.0  0.0  0.0  0.0  ...  0.0  0.0  0.0   \n",
      "0  0.0  0.0   0.0   4.0  15.0  12.0   0.0  0.0  0.0  0.0  ...  5.0  0.0  0.0   \n",
      "0  0.0  0.0   7.0  15.0  13.0   1.0   0.0  0.0  0.0  8.0  ...  9.0  0.0  0.0   \n",
      "0  0.0  0.0   0.0   1.0  11.0   0.0   0.0  0.0  0.0  0.0  ...  0.0  0.0  0.0   \n",
      "0  0.0  0.0  12.0  10.0   0.0   0.0   0.0  0.0  0.0  0.0  ...  4.0  0.0  0.0   \n",
      "0  0.0  0.0   0.0  12.0  13.0   0.0   0.0  0.0  0.0  0.0  ...  8.0  0.0  0.0   \n",
      "0  0.0  0.0   7.0   8.0  13.0  16.0  15.0  1.0  0.0  0.0  ...  0.0  0.0  0.0   \n",
      "\n",
      "    57    58    59    60    61   62   63  \n",
      "0  0.0   6.0  13.0  10.0   0.0  0.0  0.0  \n",
      "0  0.0   0.0  11.0  16.0  10.0  0.0  0.0  \n",
      "0  0.0   0.0   3.0  11.0  16.0  9.0  0.0  \n",
      "0  0.0   7.0  13.0  13.0   9.0  0.0  0.0  \n",
      "0  0.0   0.0   2.0  16.0   4.0  0.0  0.0  \n",
      "0  0.0   9.0  16.0  16.0  10.0  0.0  0.0  \n",
      "0  0.0   1.0   9.0  15.0  11.0  3.0  0.0  \n",
      "0  0.0  13.0   5.0   0.0   0.0  0.0  0.0  \n",
      "\n",
      "[8 rows x 64 columns]\n",
      "    0    1     2     3     4     5     6    7    8    9   ...   54   55   56  \\\n",
      "0  0.0  0.0   5.0  13.0   9.0   1.0   0.0  0.0  0.0  0.0  ...  0.0  0.0  0.0   \n",
      "0  0.0  0.0   0.0  12.0  13.0   5.0   0.0  0.0  0.0  0.0  ...  0.0  0.0  0.0   \n",
      "0  0.0  0.0   0.0   4.0  15.0  12.0   0.0  0.0  0.0  0.0  ...  5.0  0.0  0.0   \n",
      "0  0.0  0.0   7.0  15.0  13.0   1.0   0.0  0.0  0.0  8.0  ...  9.0  0.0  0.0   \n",
      "0  0.0  0.0   0.0   1.0  11.0   0.0   0.0  0.0  0.0  0.0  ...  0.0  0.0  0.0   \n",
      "0  0.0  0.0  12.0  10.0   0.0   0.0   0.0  0.0  0.0  0.0  ...  4.0  0.0  0.0   \n",
      "0  0.0  0.0   0.0  12.0  13.0   0.0   0.0  0.0  0.0  0.0  ...  8.0  0.0  0.0   \n",
      "0  0.0  0.0   7.0   8.0  13.0  16.0  15.0  1.0  0.0  0.0  ...  0.0  0.0  0.0   \n",
      "0  0.0  0.0   9.0  14.0   8.0   1.0   0.0  0.0  0.0  0.0  ...  8.0  0.0  0.0   \n",
      "\n",
      "    57    58    59    60    61   62   63  \n",
      "0  0.0   6.0  13.0  10.0   0.0  0.0  0.0  \n",
      "0  0.0   0.0  11.0  16.0  10.0  0.0  0.0  \n",
      "0  0.0   0.0   3.0  11.0  16.0  9.0  0.0  \n",
      "0  0.0   7.0  13.0  13.0   9.0  0.0  0.0  \n",
      "0  0.0   0.0   2.0  16.0   4.0  0.0  0.0  \n",
      "0  0.0   9.0  16.0  16.0  10.0  0.0  0.0  \n",
      "0  0.0   1.0   9.0  15.0  11.0  3.0  0.0  \n",
      "0  0.0  13.0   5.0   0.0   0.0  0.0  0.0  \n",
      "0  0.0  11.0  16.0  15.0  11.0  1.0  0.0  \n",
      "\n",
      "[9 rows x 64 columns]\n",
      "    0    1     2     3     4     5     6    7    8    9   ...   54   55   56  \\\n",
      "0  0.0  0.0   5.0  13.0   9.0   1.0   0.0  0.0  0.0  0.0  ...  0.0  0.0  0.0   \n",
      "0  0.0  0.0   0.0  12.0  13.0   5.0   0.0  0.0  0.0  0.0  ...  0.0  0.0  0.0   \n",
      "0  0.0  0.0   0.0   4.0  15.0  12.0   0.0  0.0  0.0  0.0  ...  5.0  0.0  0.0   \n",
      "0  0.0  0.0   7.0  15.0  13.0   1.0   0.0  0.0  0.0  8.0  ...  9.0  0.0  0.0   \n",
      "0  0.0  0.0   0.0   1.0  11.0   0.0   0.0  0.0  0.0  0.0  ...  0.0  0.0  0.0   \n",
      "0  0.0  0.0  12.0  10.0   0.0   0.0   0.0  0.0  0.0  0.0  ...  4.0  0.0  0.0   \n",
      "0  0.0  0.0   0.0  12.0  13.0   0.0   0.0  0.0  0.0  0.0  ...  8.0  0.0  0.0   \n",
      "0  0.0  0.0   7.0   8.0  13.0  16.0  15.0  1.0  0.0  0.0  ...  0.0  0.0  0.0   \n",
      "0  0.0  0.0   9.0  14.0   8.0   1.0   0.0  0.0  0.0  0.0  ...  8.0  0.0  0.0   \n",
      "0  0.0  0.0  11.0  12.0   0.0   0.0   0.0  0.0  0.0  2.0  ...  4.0  0.0  0.0   \n",
      "\n",
      "    57    58    59    60    61   62   63  \n",
      "0  0.0   6.0  13.0  10.0   0.0  0.0  0.0  \n",
      "0  0.0   0.0  11.0  16.0  10.0  0.0  0.0  \n",
      "0  0.0   0.0   3.0  11.0  16.0  9.0  0.0  \n",
      "0  0.0   7.0  13.0  13.0   9.0  0.0  0.0  \n",
      "0  0.0   0.0   2.0  16.0   4.0  0.0  0.0  \n",
      "0  0.0   9.0  16.0  16.0  10.0  0.0  0.0  \n",
      "0  0.0   1.0   9.0  15.0  11.0  3.0  0.0  \n",
      "0  0.0  13.0   5.0   0.0   0.0  0.0  0.0  \n",
      "0  0.0  11.0  16.0  15.0  11.0  1.0  0.0  \n",
      "0  0.0   9.0  12.0  13.0   3.0  0.0  0.0  \n",
      "\n",
      "[10 rows x 64 columns]\n",
      "    0    1     2     3     4     5     6    7    8    9   ...   54   55   56  \\\n",
      "0  0.0  0.0   5.0  13.0   9.0   1.0   0.0  0.0  0.0  0.0  ...  0.0  0.0  0.0   \n",
      "0  0.0  0.0   0.0  12.0  13.0   5.0   0.0  0.0  0.0  0.0  ...  0.0  0.0  0.0   \n",
      "0  0.0  0.0   0.0   4.0  15.0  12.0   0.0  0.0  0.0  0.0  ...  5.0  0.0  0.0   \n",
      "0  0.0  0.0   7.0  15.0  13.0   1.0   0.0  0.0  0.0  8.0  ...  9.0  0.0  0.0   \n",
      "0  0.0  0.0   0.0   1.0  11.0   0.0   0.0  0.0  0.0  0.0  ...  0.0  0.0  0.0   \n",
      "0  0.0  0.0  12.0  10.0   0.0   0.0   0.0  0.0  0.0  0.0  ...  4.0  0.0  0.0   \n",
      "0  0.0  0.0   0.0  12.0  13.0   0.0   0.0  0.0  0.0  0.0  ...  8.0  0.0  0.0   \n",
      "0  0.0  0.0   7.0   8.0  13.0  16.0  15.0  1.0  0.0  0.0  ...  0.0  0.0  0.0   \n",
      "0  0.0  0.0   9.0  14.0   8.0   1.0   0.0  0.0  0.0  0.0  ...  8.0  0.0  0.0   \n",
      "0  0.0  0.0  11.0  12.0   0.0   0.0   0.0  0.0  0.0  2.0  ...  4.0  0.0  0.0   \n",
      "0  0.0  0.0   1.0   9.0  15.0  11.0   0.0  0.0  0.0  0.0  ...  0.0  0.0  0.0   \n",
      "\n",
      "    57    58    59    60    61   62   63  \n",
      "0  0.0   6.0  13.0  10.0   0.0  0.0  0.0  \n",
      "0  0.0   0.0  11.0  16.0  10.0  0.0  0.0  \n",
      "0  0.0   0.0   3.0  11.0  16.0  9.0  0.0  \n",
      "0  0.0   7.0  13.0  13.0   9.0  0.0  0.0  \n",
      "0  0.0   0.0   2.0  16.0   4.0  0.0  0.0  \n",
      "0  0.0   9.0  16.0  16.0  10.0  0.0  0.0  \n",
      "0  0.0   1.0   9.0  15.0  11.0  3.0  0.0  \n",
      "0  0.0  13.0   5.0   0.0   0.0  0.0  0.0  \n",
      "0  0.0  11.0  16.0  15.0  11.0  1.0  0.0  \n",
      "0  0.0   9.0  12.0  13.0   3.0  0.0  0.0  \n",
      "0  0.0   1.0  10.0  13.0   3.0  0.0  0.0  \n",
      "\n",
      "[11 rows x 64 columns]\n",
      "    0    1     2     3     4     5     6    7    8    9   ...   54   55   56  \\\n",
      "0  0.0  0.0   5.0  13.0   9.0   1.0   0.0  0.0  0.0  0.0  ...  0.0  0.0  0.0   \n",
      "0  0.0  0.0   0.0  12.0  13.0   5.0   0.0  0.0  0.0  0.0  ...  0.0  0.0  0.0   \n",
      "0  0.0  0.0   0.0   4.0  15.0  12.0   0.0  0.0  0.0  0.0  ...  5.0  0.0  0.0   \n",
      "0  0.0  0.0   7.0  15.0  13.0   1.0   0.0  0.0  0.0  8.0  ...  9.0  0.0  0.0   \n",
      "0  0.0  0.0   0.0   1.0  11.0   0.0   0.0  0.0  0.0  0.0  ...  0.0  0.0  0.0   \n",
      "0  0.0  0.0  12.0  10.0   0.0   0.0   0.0  0.0  0.0  0.0  ...  4.0  0.0  0.0   \n",
      "0  0.0  0.0   0.0  12.0  13.0   0.0   0.0  0.0  0.0  0.0  ...  8.0  0.0  0.0   \n",
      "0  0.0  0.0   7.0   8.0  13.0  16.0  15.0  1.0  0.0  0.0  ...  0.0  0.0  0.0   \n",
      "0  0.0  0.0   9.0  14.0   8.0   1.0   0.0  0.0  0.0  0.0  ...  8.0  0.0  0.0   \n",
      "0  0.0  0.0  11.0  12.0   0.0   0.0   0.0  0.0  0.0  2.0  ...  4.0  0.0  0.0   \n",
      "0  0.0  0.0   1.0   9.0  15.0  11.0   0.0  0.0  0.0  0.0  ...  0.0  0.0  0.0   \n",
      "0  0.0  0.0   0.0   0.0  14.0  13.0   1.0  0.0  0.0  0.0  ...  0.0  0.0  0.0   \n",
      "\n",
      "    57    58    59    60    61   62   63  \n",
      "0  0.0   6.0  13.0  10.0   0.0  0.0  0.0  \n",
      "0  0.0   0.0  11.0  16.0  10.0  0.0  0.0  \n",
      "0  0.0   0.0   3.0  11.0  16.0  9.0  0.0  \n",
      "0  0.0   7.0  13.0  13.0   9.0  0.0  0.0  \n",
      "0  0.0   0.0   2.0  16.0   4.0  0.0  0.0  \n",
      "0  0.0   9.0  16.0  16.0  10.0  0.0  0.0  \n",
      "0  0.0   1.0   9.0  15.0  11.0  3.0  0.0  \n",
      "0  0.0  13.0   5.0   0.0   0.0  0.0  0.0  \n",
      "0  0.0  11.0  16.0  15.0  11.0  1.0  0.0  \n",
      "0  0.0   9.0  12.0  13.0   3.0  0.0  0.0  \n",
      "0  0.0   1.0  10.0  13.0   3.0  0.0  0.0  \n",
      "0  0.0   0.0   1.0  13.0  16.0  1.0  0.0  \n",
      "\n",
      "[12 rows x 64 columns]\n",
      "    0    1     2     3     4     5     6    7    8    9   ...   54   55   56  \\\n",
      "0  0.0  0.0   5.0  13.0   9.0   1.0   0.0  0.0  0.0  0.0  ...  0.0  0.0  0.0   \n",
      "0  0.0  0.0   0.0  12.0  13.0   5.0   0.0  0.0  0.0  0.0  ...  0.0  0.0  0.0   \n",
      "0  0.0  0.0   0.0   4.0  15.0  12.0   0.0  0.0  0.0  0.0  ...  5.0  0.0  0.0   \n",
      "0  0.0  0.0   7.0  15.0  13.0   1.0   0.0  0.0  0.0  8.0  ...  9.0  0.0  0.0   \n",
      "0  0.0  0.0   0.0   1.0  11.0   0.0   0.0  0.0  0.0  0.0  ...  0.0  0.0  0.0   \n",
      "0  0.0  0.0  12.0  10.0   0.0   0.0   0.0  0.0  0.0  0.0  ...  4.0  0.0  0.0   \n",
      "0  0.0  0.0   0.0  12.0  13.0   0.0   0.0  0.0  0.0  0.0  ...  8.0  0.0  0.0   \n",
      "0  0.0  0.0   7.0   8.0  13.0  16.0  15.0  1.0  0.0  0.0  ...  0.0  0.0  0.0   \n",
      "0  0.0  0.0   9.0  14.0   8.0   1.0   0.0  0.0  0.0  0.0  ...  8.0  0.0  0.0   \n",
      "0  0.0  0.0  11.0  12.0   0.0   0.0   0.0  0.0  0.0  2.0  ...  4.0  0.0  0.0   \n",
      "0  0.0  0.0   1.0   9.0  15.0  11.0   0.0  0.0  0.0  0.0  ...  0.0  0.0  0.0   \n",
      "0  0.0  0.0   0.0   0.0  14.0  13.0   1.0  0.0  0.0  0.0  ...  0.0  0.0  0.0   \n",
      "0  0.0  0.0   5.0  12.0   1.0   0.0   0.0  0.0  0.0  0.0  ...  8.0  2.0  0.0   \n",
      "\n",
      "    57    58    59    60    61    62   63  \n",
      "0  0.0   6.0  13.0  10.0   0.0   0.0  0.0  \n",
      "0  0.0   0.0  11.0  16.0  10.0   0.0  0.0  \n",
      "0  0.0   0.0   3.0  11.0  16.0   9.0  0.0  \n",
      "0  0.0   7.0  13.0  13.0   9.0   0.0  0.0  \n",
      "0  0.0   0.0   2.0  16.0   4.0   0.0  0.0  \n",
      "0  0.0   9.0  16.0  16.0  10.0   0.0  0.0  \n",
      "0  0.0   1.0   9.0  15.0  11.0   3.0  0.0  \n",
      "0  0.0  13.0   5.0   0.0   0.0   0.0  0.0  \n",
      "0  0.0  11.0  16.0  15.0  11.0   1.0  0.0  \n",
      "0  0.0   9.0  12.0  13.0   3.0   0.0  0.0  \n",
      "0  0.0   1.0  10.0  13.0   3.0   0.0  0.0  \n",
      "0  0.0   0.0   1.0  13.0  16.0   1.0  0.0  \n",
      "0  0.0   3.0  11.0   8.0  13.0  12.0  4.0  \n",
      "\n",
      "[13 rows x 64 columns]\n",
      "    0    1     2     3     4     5     6    7    8    9   ...   54   55   56  \\\n",
      "0  0.0  0.0   5.0  13.0   9.0   1.0   0.0  0.0  0.0  0.0  ...  0.0  0.0  0.0   \n",
      "0  0.0  0.0   0.0  12.0  13.0   5.0   0.0  0.0  0.0  0.0  ...  0.0  0.0  0.0   \n",
      "0  0.0  0.0   0.0   4.0  15.0  12.0   0.0  0.0  0.0  0.0  ...  5.0  0.0  0.0   \n",
      "0  0.0  0.0   7.0  15.0  13.0   1.0   0.0  0.0  0.0  8.0  ...  9.0  0.0  0.0   \n",
      "0  0.0  0.0   0.0   1.0  11.0   0.0   0.0  0.0  0.0  0.0  ...  0.0  0.0  0.0   \n",
      "0  0.0  0.0  12.0  10.0   0.0   0.0   0.0  0.0  0.0  0.0  ...  4.0  0.0  0.0   \n",
      "0  0.0  0.0   0.0  12.0  13.0   0.0   0.0  0.0  0.0  0.0  ...  8.0  0.0  0.0   \n",
      "0  0.0  0.0   7.0   8.0  13.0  16.0  15.0  1.0  0.0  0.0  ...  0.0  0.0  0.0   \n",
      "0  0.0  0.0   9.0  14.0   8.0   1.0   0.0  0.0  0.0  0.0  ...  8.0  0.0  0.0   \n",
      "0  0.0  0.0  11.0  12.0   0.0   0.0   0.0  0.0  0.0  2.0  ...  4.0  0.0  0.0   \n",
      "0  0.0  0.0   1.0   9.0  15.0  11.0   0.0  0.0  0.0  0.0  ...  0.0  0.0  0.0   \n",
      "0  0.0  0.0   0.0   0.0  14.0  13.0   1.0  0.0  0.0  0.0  ...  0.0  0.0  0.0   \n",
      "0  0.0  0.0   5.0  12.0   1.0   0.0   0.0  0.0  0.0  0.0  ...  8.0  2.0  0.0   \n",
      "0  0.0  2.0   9.0  15.0  14.0   9.0   3.0  0.0  0.0  4.0  ...  6.0  0.0  0.0   \n",
      "\n",
      "    57    58    59    60    61    62   63  \n",
      "0  0.0   6.0  13.0  10.0   0.0   0.0  0.0  \n",
      "0  0.0   0.0  11.0  16.0  10.0   0.0  0.0  \n",
      "0  0.0   0.0   3.0  11.0  16.0   9.0  0.0  \n",
      "0  0.0   7.0  13.0  13.0   9.0   0.0  0.0  \n",
      "0  0.0   0.0   2.0  16.0   4.0   0.0  0.0  \n",
      "0  0.0   9.0  16.0  16.0  10.0   0.0  0.0  \n",
      "0  0.0   1.0   9.0  15.0  11.0   3.0  0.0  \n",
      "0  0.0  13.0   5.0   0.0   0.0   0.0  0.0  \n",
      "0  0.0  11.0  16.0  15.0  11.0   1.0  0.0  \n",
      "0  0.0   9.0  12.0  13.0   3.0   0.0  0.0  \n",
      "0  0.0   1.0  10.0  13.0   3.0   0.0  0.0  \n",
      "0  0.0   0.0   1.0  13.0  16.0   1.0  0.0  \n",
      "0  0.0   3.0  11.0   8.0  13.0  12.0  4.0  \n",
      "0  2.0  12.0  12.0  13.0  11.0   0.0  0.0  \n",
      "\n",
      "[14 rows x 64 columns]\n",
      "    0    1     2     3     4     5     6    7    8    9   ...   54   55   56  \\\n",
      "0  0.0  0.0   5.0  13.0   9.0   1.0   0.0  0.0  0.0  0.0  ...  0.0  0.0  0.0   \n",
      "0  0.0  0.0   0.0  12.0  13.0   5.0   0.0  0.0  0.0  0.0  ...  0.0  0.0  0.0   \n",
      "0  0.0  0.0   0.0   4.0  15.0  12.0   0.0  0.0  0.0  0.0  ...  5.0  0.0  0.0   \n",
      "0  0.0  0.0   7.0  15.0  13.0   1.0   0.0  0.0  0.0  8.0  ...  9.0  0.0  0.0   \n",
      "0  0.0  0.0   0.0   1.0  11.0   0.0   0.0  0.0  0.0  0.0  ...  0.0  0.0  0.0   \n",
      "0  0.0  0.0  12.0  10.0   0.0   0.0   0.0  0.0  0.0  0.0  ...  4.0  0.0  0.0   \n",
      "0  0.0  0.0   0.0  12.0  13.0   0.0   0.0  0.0  0.0  0.0  ...  8.0  0.0  0.0   \n",
      "0  0.0  0.0   7.0   8.0  13.0  16.0  15.0  1.0  0.0  0.0  ...  0.0  0.0  0.0   \n",
      "0  0.0  0.0   9.0  14.0   8.0   1.0   0.0  0.0  0.0  0.0  ...  8.0  0.0  0.0   \n",
      "0  0.0  0.0  11.0  12.0   0.0   0.0   0.0  0.0  0.0  2.0  ...  4.0  0.0  0.0   \n",
      "0  0.0  0.0   1.0   9.0  15.0  11.0   0.0  0.0  0.0  0.0  ...  0.0  0.0  0.0   \n",
      "0  0.0  0.0   0.0   0.0  14.0  13.0   1.0  0.0  0.0  0.0  ...  0.0  0.0  0.0   \n",
      "0  0.0  0.0   5.0  12.0   1.0   0.0   0.0  0.0  0.0  0.0  ...  8.0  2.0  0.0   \n",
      "0  0.0  2.0   9.0  15.0  14.0   9.0   3.0  0.0  0.0  4.0  ...  6.0  0.0  0.0   \n",
      "0  0.0  0.0   0.0   8.0  15.0   1.0   0.0  0.0  0.0  0.0  ...  0.0  0.0  0.0   \n",
      "\n",
      "    57    58    59    60    61    62   63  \n",
      "0  0.0   6.0  13.0  10.0   0.0   0.0  0.0  \n",
      "0  0.0   0.0  11.0  16.0  10.0   0.0  0.0  \n",
      "0  0.0   0.0   3.0  11.0  16.0   9.0  0.0  \n",
      "0  0.0   7.0  13.0  13.0   9.0   0.0  0.0  \n",
      "0  0.0   0.0   2.0  16.0   4.0   0.0  0.0  \n",
      "0  0.0   9.0  16.0  16.0  10.0   0.0  0.0  \n",
      "0  0.0   1.0   9.0  15.0  11.0   3.0  0.0  \n",
      "0  0.0  13.0   5.0   0.0   0.0   0.0  0.0  \n",
      "0  0.0  11.0  16.0  15.0  11.0   1.0  0.0  \n",
      "0  0.0   9.0  12.0  13.0   3.0   0.0  0.0  \n",
      "0  0.0   1.0  10.0  13.0   3.0   0.0  0.0  \n",
      "0  0.0   0.0   1.0  13.0  16.0   1.0  0.0  \n",
      "0  0.0   3.0  11.0   8.0  13.0  12.0  4.0  \n",
      "0  2.0  12.0  12.0  13.0  11.0   0.0  0.0  \n",
      "0  0.0   0.0  10.0  15.0   4.0   0.0  0.0  \n",
      "\n",
      "[15 rows x 64 columns]\n",
      "    0    1     2     3     4     5     6    7    8     9   ...   54   55   56  \\\n",
      "0  0.0  0.0   5.0  13.0   9.0   1.0   0.0  0.0  0.0   0.0  ...  0.0  0.0  0.0   \n",
      "0  0.0  0.0   0.0  12.0  13.0   5.0   0.0  0.0  0.0   0.0  ...  0.0  0.0  0.0   \n",
      "0  0.0  0.0   0.0   4.0  15.0  12.0   0.0  0.0  0.0   0.0  ...  5.0  0.0  0.0   \n",
      "0  0.0  0.0   7.0  15.0  13.0   1.0   0.0  0.0  0.0   8.0  ...  9.0  0.0  0.0   \n",
      "0  0.0  0.0   0.0   1.0  11.0   0.0   0.0  0.0  0.0   0.0  ...  0.0  0.0  0.0   \n",
      "0  0.0  0.0  12.0  10.0   0.0   0.0   0.0  0.0  0.0   0.0  ...  4.0  0.0  0.0   \n",
      "0  0.0  0.0   0.0  12.0  13.0   0.0   0.0  0.0  0.0   0.0  ...  8.0  0.0  0.0   \n",
      "0  0.0  0.0   7.0   8.0  13.0  16.0  15.0  1.0  0.0   0.0  ...  0.0  0.0  0.0   \n",
      "0  0.0  0.0   9.0  14.0   8.0   1.0   0.0  0.0  0.0   0.0  ...  8.0  0.0  0.0   \n",
      "0  0.0  0.0  11.0  12.0   0.0   0.0   0.0  0.0  0.0   2.0  ...  4.0  0.0  0.0   \n",
      "0  0.0  0.0   1.0   9.0  15.0  11.0   0.0  0.0  0.0   0.0  ...  0.0  0.0  0.0   \n",
      "0  0.0  0.0   0.0   0.0  14.0  13.0   1.0  0.0  0.0   0.0  ...  0.0  0.0  0.0   \n",
      "0  0.0  0.0   5.0  12.0   1.0   0.0   0.0  0.0  0.0   0.0  ...  8.0  2.0  0.0   \n",
      "0  0.0  2.0   9.0  15.0  14.0   9.0   3.0  0.0  0.0   4.0  ...  6.0  0.0  0.0   \n",
      "0  0.0  0.0   0.0   8.0  15.0   1.0   0.0  0.0  0.0   0.0  ...  0.0  0.0  0.0   \n",
      "0  0.0  5.0  12.0  13.0  16.0  16.0   2.0  0.0  0.0  11.0  ...  0.0  0.0  0.0   \n",
      "\n",
      "    57    58    59    60    61    62   63  \n",
      "0  0.0   6.0  13.0  10.0   0.0   0.0  0.0  \n",
      "0  0.0   0.0  11.0  16.0  10.0   0.0  0.0  \n",
      "0  0.0   0.0   3.0  11.0  16.0   9.0  0.0  \n",
      "0  0.0   7.0  13.0  13.0   9.0   0.0  0.0  \n",
      "0  0.0   0.0   2.0  16.0   4.0   0.0  0.0  \n",
      "0  0.0   9.0  16.0  16.0  10.0   0.0  0.0  \n",
      "0  0.0   1.0   9.0  15.0  11.0   3.0  0.0  \n",
      "0  0.0  13.0   5.0   0.0   0.0   0.0  0.0  \n",
      "0  0.0  11.0  16.0  15.0  11.0   1.0  0.0  \n",
      "0  0.0   9.0  12.0  13.0   3.0   0.0  0.0  \n",
      "0  0.0   1.0  10.0  13.0   3.0   0.0  0.0  \n",
      "0  0.0   0.0   1.0  13.0  16.0   1.0  0.0  \n",
      "0  0.0   3.0  11.0   8.0  13.0  12.0  4.0  \n",
      "0  2.0  12.0  12.0  13.0  11.0   0.0  0.0  \n",
      "0  0.0   0.0  10.0  15.0   4.0   0.0  0.0  \n",
      "0  4.0  15.0  16.0   2.0   0.0   0.0  0.0  \n",
      "\n",
      "[16 rows x 64 columns]\n",
      "    0    1     2     3     4     5     6    7    8     9   ...    54   55  \\\n",
      "0  0.0  0.0   5.0  13.0   9.0   1.0   0.0  0.0  0.0   0.0  ...   0.0  0.0   \n",
      "0  0.0  0.0   0.0  12.0  13.0   5.0   0.0  0.0  0.0   0.0  ...   0.0  0.0   \n",
      "0  0.0  0.0   0.0   4.0  15.0  12.0   0.0  0.0  0.0   0.0  ...   5.0  0.0   \n",
      "0  0.0  0.0   7.0  15.0  13.0   1.0   0.0  0.0  0.0   8.0  ...   9.0  0.0   \n",
      "0  0.0  0.0   0.0   1.0  11.0   0.0   0.0  0.0  0.0   0.0  ...   0.0  0.0   \n",
      "0  0.0  0.0  12.0  10.0   0.0   0.0   0.0  0.0  0.0   0.0  ...   4.0  0.0   \n",
      "0  0.0  0.0   0.0  12.0  13.0   0.0   0.0  0.0  0.0   0.0  ...   8.0  0.0   \n",
      "0  0.0  0.0   7.0   8.0  13.0  16.0  15.0  1.0  0.0   0.0  ...   0.0  0.0   \n",
      "0  0.0  0.0   9.0  14.0   8.0   1.0   0.0  0.0  0.0   0.0  ...   8.0  0.0   \n",
      "0  0.0  0.0  11.0  12.0   0.0   0.0   0.0  0.0  0.0   2.0  ...   4.0  0.0   \n",
      "0  0.0  0.0   1.0   9.0  15.0  11.0   0.0  0.0  0.0   0.0  ...   0.0  0.0   \n",
      "0  0.0  0.0   0.0   0.0  14.0  13.0   1.0  0.0  0.0   0.0  ...   0.0  0.0   \n",
      "0  0.0  0.0   5.0  12.0   1.0   0.0   0.0  0.0  0.0   0.0  ...   8.0  2.0   \n",
      "0  0.0  2.0   9.0  15.0  14.0   9.0   3.0  0.0  0.0   4.0  ...   6.0  0.0   \n",
      "0  0.0  0.0   0.0   8.0  15.0   1.0   0.0  0.0  0.0   0.0  ...   0.0  0.0   \n",
      "0  0.0  5.0  12.0  13.0  16.0  16.0   2.0  0.0  0.0  11.0  ...   0.0  0.0   \n",
      "0  0.0  0.0   0.0   8.0  15.0   1.0   0.0  0.0  0.0   0.0  ...  16.0  2.0   \n",
      "\n",
      "    56   57    58    59    60    61    62   63  \n",
      "0  0.0  0.0   6.0  13.0  10.0   0.0   0.0  0.0  \n",
      "0  0.0  0.0   0.0  11.0  16.0  10.0   0.0  0.0  \n",
      "0  0.0  0.0   0.0   3.0  11.0  16.0   9.0  0.0  \n",
      "0  0.0  0.0   7.0  13.0  13.0   9.0   0.0  0.0  \n",
      "0  0.0  0.0   0.0   2.0  16.0   4.0   0.0  0.0  \n",
      "0  0.0  0.0   9.0  16.0  16.0  10.0   0.0  0.0  \n",
      "0  0.0  0.0   1.0   9.0  15.0  11.0   3.0  0.0  \n",
      "0  0.0  0.0  13.0   5.0   0.0   0.0   0.0  0.0  \n",
      "0  0.0  0.0  11.0  16.0  15.0  11.0   1.0  0.0  \n",
      "0  0.0  0.0   9.0  12.0  13.0   3.0   0.0  0.0  \n",
      "0  0.0  0.0   1.0  10.0  13.0   3.0   0.0  0.0  \n",
      "0  0.0  0.0   0.0   1.0  13.0  16.0   1.0  0.0  \n",
      "0  0.0  0.0   3.0  11.0   8.0  13.0  12.0  4.0  \n",
      "0  0.0  2.0  12.0  12.0  13.0  11.0   0.0  0.0  \n",
      "0  0.0  0.0   0.0  10.0  15.0   4.0   0.0  0.0  \n",
      "0  0.0  4.0  15.0  16.0   2.0   0.0   0.0  0.0  \n",
      "0  0.0  0.0   0.0   7.0  15.0  16.0  11.0  0.0  \n",
      "\n",
      "[17 rows x 64 columns]\n",
      "    0    1     2     3     4     5     6    7    8     9   ...    54   55  \\\n",
      "0  0.0  0.0   5.0  13.0   9.0   1.0   0.0  0.0  0.0   0.0  ...   0.0  0.0   \n",
      "0  0.0  0.0   0.0  12.0  13.0   5.0   0.0  0.0  0.0   0.0  ...   0.0  0.0   \n",
      "0  0.0  0.0   0.0   4.0  15.0  12.0   0.0  0.0  0.0   0.0  ...   5.0  0.0   \n",
      "0  0.0  0.0   7.0  15.0  13.0   1.0   0.0  0.0  0.0   8.0  ...   9.0  0.0   \n",
      "0  0.0  0.0   0.0   1.0  11.0   0.0   0.0  0.0  0.0   0.0  ...   0.0  0.0   \n",
      "0  0.0  0.0  12.0  10.0   0.0   0.0   0.0  0.0  0.0   0.0  ...   4.0  0.0   \n",
      "0  0.0  0.0   0.0  12.0  13.0   0.0   0.0  0.0  0.0   0.0  ...   8.0  0.0   \n",
      "0  0.0  0.0   7.0   8.0  13.0  16.0  15.0  1.0  0.0   0.0  ...   0.0  0.0   \n",
      "0  0.0  0.0   9.0  14.0   8.0   1.0   0.0  0.0  0.0   0.0  ...   8.0  0.0   \n",
      "0  0.0  0.0  11.0  12.0   0.0   0.0   0.0  0.0  0.0   2.0  ...   4.0  0.0   \n",
      "0  0.0  0.0   1.0   9.0  15.0  11.0   0.0  0.0  0.0   0.0  ...   0.0  0.0   \n",
      "0  0.0  0.0   0.0   0.0  14.0  13.0   1.0  0.0  0.0   0.0  ...   0.0  0.0   \n",
      "0  0.0  0.0   5.0  12.0   1.0   0.0   0.0  0.0  0.0   0.0  ...   8.0  2.0   \n",
      "0  0.0  2.0   9.0  15.0  14.0   9.0   3.0  0.0  0.0   4.0  ...   6.0  0.0   \n",
      "0  0.0  0.0   0.0   8.0  15.0   1.0   0.0  0.0  0.0   0.0  ...   0.0  0.0   \n",
      "0  0.0  5.0  12.0  13.0  16.0  16.0   2.0  0.0  0.0  11.0  ...   0.0  0.0   \n",
      "0  0.0  0.0   0.0   8.0  15.0   1.0   0.0  0.0  0.0   0.0  ...  16.0  2.0   \n",
      "0  0.0  0.0   1.0   8.0  15.0  10.0   0.0  0.0  0.0   3.0  ...   0.0  0.0   \n",
      "\n",
      "    56   57    58    59    60    61    62   63  \n",
      "0  0.0  0.0   6.0  13.0  10.0   0.0   0.0  0.0  \n",
      "0  0.0  0.0   0.0  11.0  16.0  10.0   0.0  0.0  \n",
      "0  0.0  0.0   0.0   3.0  11.0  16.0   9.0  0.0  \n",
      "0  0.0  0.0   7.0  13.0  13.0   9.0   0.0  0.0  \n",
      "0  0.0  0.0   0.0   2.0  16.0   4.0   0.0  0.0  \n",
      "0  0.0  0.0   9.0  16.0  16.0  10.0   0.0  0.0  \n",
      "0  0.0  0.0   1.0   9.0  15.0  11.0   3.0  0.0  \n",
      "0  0.0  0.0  13.0   5.0   0.0   0.0   0.0  0.0  \n",
      "0  0.0  0.0  11.0  16.0  15.0  11.0   1.0  0.0  \n",
      "0  0.0  0.0   9.0  12.0  13.0   3.0   0.0  0.0  \n",
      "0  0.0  0.0   1.0  10.0  13.0   3.0   0.0  0.0  \n",
      "0  0.0  0.0   0.0   1.0  13.0  16.0   1.0  0.0  \n",
      "0  0.0  0.0   3.0  11.0   8.0  13.0  12.0  4.0  \n",
      "0  0.0  2.0  12.0  12.0  13.0  11.0   0.0  0.0  \n",
      "0  0.0  0.0   0.0  10.0  15.0   4.0   0.0  0.0  \n",
      "0  0.0  4.0  15.0  16.0   2.0   0.0   0.0  0.0  \n",
      "0  0.0  0.0   0.0   7.0  15.0  16.0  11.0  0.0  \n",
      "0  0.0  0.0   0.0  11.0   9.0   0.0   0.0  0.0  \n",
      "\n",
      "[18 rows x 64 columns]\n",
      "    0    1     2     3     4     5     6    7    8     9   ...    54   55  \\\n",
      "0  0.0  0.0   5.0  13.0   9.0   1.0   0.0  0.0  0.0   0.0  ...   0.0  0.0   \n",
      "0  0.0  0.0   0.0  12.0  13.0   5.0   0.0  0.0  0.0   0.0  ...   0.0  0.0   \n",
      "0  0.0  0.0   0.0   4.0  15.0  12.0   0.0  0.0  0.0   0.0  ...   5.0  0.0   \n",
      "0  0.0  0.0   7.0  15.0  13.0   1.0   0.0  0.0  0.0   8.0  ...   9.0  0.0   \n",
      "0  0.0  0.0   0.0   1.0  11.0   0.0   0.0  0.0  0.0   0.0  ...   0.0  0.0   \n",
      "0  0.0  0.0  12.0  10.0   0.0   0.0   0.0  0.0  0.0   0.0  ...   4.0  0.0   \n",
      "0  0.0  0.0   0.0  12.0  13.0   0.0   0.0  0.0  0.0   0.0  ...   8.0  0.0   \n",
      "0  0.0  0.0   7.0   8.0  13.0  16.0  15.0  1.0  0.0   0.0  ...   0.0  0.0   \n",
      "0  0.0  0.0   9.0  14.0   8.0   1.0   0.0  0.0  0.0   0.0  ...   8.0  0.0   \n",
      "0  0.0  0.0  11.0  12.0   0.0   0.0   0.0  0.0  0.0   2.0  ...   4.0  0.0   \n",
      "0  0.0  0.0   1.0   9.0  15.0  11.0   0.0  0.0  0.0   0.0  ...   0.0  0.0   \n",
      "0  0.0  0.0   0.0   0.0  14.0  13.0   1.0  0.0  0.0   0.0  ...   0.0  0.0   \n",
      "0  0.0  0.0   5.0  12.0   1.0   0.0   0.0  0.0  0.0   0.0  ...   8.0  2.0   \n",
      "0  0.0  2.0   9.0  15.0  14.0   9.0   3.0  0.0  0.0   4.0  ...   6.0  0.0   \n",
      "0  0.0  0.0   0.0   8.0  15.0   1.0   0.0  0.0  0.0   0.0  ...   0.0  0.0   \n",
      "0  0.0  5.0  12.0  13.0  16.0  16.0   2.0  0.0  0.0  11.0  ...   0.0  0.0   \n",
      "0  0.0  0.0   0.0   8.0  15.0   1.0   0.0  0.0  0.0   0.0  ...  16.0  2.0   \n",
      "0  0.0  0.0   1.0   8.0  15.0  10.0   0.0  0.0  0.0   3.0  ...   0.0  0.0   \n",
      "0  0.0  0.0  10.0   7.0  13.0   9.0   0.0  0.0  0.0   0.0  ...   0.0  0.0   \n",
      "\n",
      "    56   57    58    59    60    61    62   63  \n",
      "0  0.0  0.0   6.0  13.0  10.0   0.0   0.0  0.0  \n",
      "0  0.0  0.0   0.0  11.0  16.0  10.0   0.0  0.0  \n",
      "0  0.0  0.0   0.0   3.0  11.0  16.0   9.0  0.0  \n",
      "0  0.0  0.0   7.0  13.0  13.0   9.0   0.0  0.0  \n",
      "0  0.0  0.0   0.0   2.0  16.0   4.0   0.0  0.0  \n",
      "0  0.0  0.0   9.0  16.0  16.0  10.0   0.0  0.0  \n",
      "0  0.0  0.0   1.0   9.0  15.0  11.0   3.0  0.0  \n",
      "0  0.0  0.0  13.0   5.0   0.0   0.0   0.0  0.0  \n",
      "0  0.0  0.0  11.0  16.0  15.0  11.0   1.0  0.0  \n",
      "0  0.0  0.0   9.0  12.0  13.0   3.0   0.0  0.0  \n",
      "0  0.0  0.0   1.0  10.0  13.0   3.0   0.0  0.0  \n",
      "0  0.0  0.0   0.0   1.0  13.0  16.0   1.0  0.0  \n",
      "0  0.0  0.0   3.0  11.0   8.0  13.0  12.0  4.0  \n",
      "0  0.0  2.0  12.0  12.0  13.0  11.0   0.0  0.0  \n",
      "0  0.0  0.0   0.0  10.0  15.0   4.0   0.0  0.0  \n",
      "0  0.0  4.0  15.0  16.0   2.0   0.0   0.0  0.0  \n",
      "0  0.0  0.0   0.0   7.0  15.0  16.0  11.0  0.0  \n",
      "0  0.0  0.0   0.0  11.0   9.0   0.0   0.0  0.0  \n",
      "0  0.0  0.0  11.0  14.0   5.0   0.0   0.0  0.0  \n",
      "\n",
      "[19 rows x 64 columns]\n",
      "    0    1     2     3     4     5     6    7    8     9   ...    54   55  \\\n",
      "0  0.0  0.0   5.0  13.0   9.0   1.0   0.0  0.0  0.0   0.0  ...   0.0  0.0   \n",
      "0  0.0  0.0   0.0  12.0  13.0   5.0   0.0  0.0  0.0   0.0  ...   0.0  0.0   \n",
      "0  0.0  0.0   0.0   4.0  15.0  12.0   0.0  0.0  0.0   0.0  ...   5.0  0.0   \n",
      "0  0.0  0.0   7.0  15.0  13.0   1.0   0.0  0.0  0.0   8.0  ...   9.0  0.0   \n",
      "0  0.0  0.0   0.0   1.0  11.0   0.0   0.0  0.0  0.0   0.0  ...   0.0  0.0   \n",
      "0  0.0  0.0  12.0  10.0   0.0   0.0   0.0  0.0  0.0   0.0  ...   4.0  0.0   \n",
      "0  0.0  0.0   0.0  12.0  13.0   0.0   0.0  0.0  0.0   0.0  ...   8.0  0.0   \n",
      "0  0.0  0.0   7.0   8.0  13.0  16.0  15.0  1.0  0.0   0.0  ...   0.0  0.0   \n",
      "0  0.0  0.0   9.0  14.0   8.0   1.0   0.0  0.0  0.0   0.0  ...   8.0  0.0   \n",
      "0  0.0  0.0  11.0  12.0   0.0   0.0   0.0  0.0  0.0   2.0  ...   4.0  0.0   \n",
      "0  0.0  0.0   1.0   9.0  15.0  11.0   0.0  0.0  0.0   0.0  ...   0.0  0.0   \n",
      "0  0.0  0.0   0.0   0.0  14.0  13.0   1.0  0.0  0.0   0.0  ...   0.0  0.0   \n",
      "0  0.0  0.0   5.0  12.0   1.0   0.0   0.0  0.0  0.0   0.0  ...   8.0  2.0   \n",
      "0  0.0  2.0   9.0  15.0  14.0   9.0   3.0  0.0  0.0   4.0  ...   6.0  0.0   \n",
      "0  0.0  0.0   0.0   8.0  15.0   1.0   0.0  0.0  0.0   0.0  ...   0.0  0.0   \n",
      "0  0.0  5.0  12.0  13.0  16.0  16.0   2.0  0.0  0.0  11.0  ...   0.0  0.0   \n",
      "0  0.0  0.0   0.0   8.0  15.0   1.0   0.0  0.0  0.0   0.0  ...  16.0  2.0   \n",
      "0  0.0  0.0   1.0   8.0  15.0  10.0   0.0  0.0  0.0   3.0  ...   0.0  0.0   \n",
      "0  0.0  0.0  10.0   7.0  13.0   9.0   0.0  0.0  0.0   0.0  ...   0.0  0.0   \n",
      "0  0.0  0.0   6.0  14.0   4.0   0.0   0.0  0.0  0.0   0.0  ...  16.0  2.0   \n",
      "\n",
      "    56   57    58    59    60    61    62   63  \n",
      "0  0.0  0.0   6.0  13.0  10.0   0.0   0.0  0.0  \n",
      "0  0.0  0.0   0.0  11.0  16.0  10.0   0.0  0.0  \n",
      "0  0.0  0.0   0.0   3.0  11.0  16.0   9.0  0.0  \n",
      "0  0.0  0.0   7.0  13.0  13.0   9.0   0.0  0.0  \n",
      "0  0.0  0.0   0.0   2.0  16.0   4.0   0.0  0.0  \n",
      "0  0.0  0.0   9.0  16.0  16.0  10.0   0.0  0.0  \n",
      "0  0.0  0.0   1.0   9.0  15.0  11.0   3.0  0.0  \n",
      "0  0.0  0.0  13.0   5.0   0.0   0.0   0.0  0.0  \n",
      "0  0.0  0.0  11.0  16.0  15.0  11.0   1.0  0.0  \n",
      "0  0.0  0.0   9.0  12.0  13.0   3.0   0.0  0.0  \n",
      "0  0.0  0.0   1.0  10.0  13.0   3.0   0.0  0.0  \n",
      "0  0.0  0.0   0.0   1.0  13.0  16.0   1.0  0.0  \n",
      "0  0.0  0.0   3.0  11.0   8.0  13.0  12.0  4.0  \n",
      "0  0.0  2.0  12.0  12.0  13.0  11.0   0.0  0.0  \n",
      "0  0.0  0.0   0.0  10.0  15.0   4.0   0.0  0.0  \n",
      "0  0.0  4.0  15.0  16.0   2.0   0.0   0.0  0.0  \n",
      "0  0.0  0.0   0.0   7.0  15.0  16.0  11.0  0.0  \n",
      "0  0.0  0.0   0.0  11.0   9.0   0.0   0.0  0.0  \n",
      "0  0.0  0.0  11.0  14.0   5.0   0.0   0.0  0.0  \n",
      "0  0.0  0.0   7.0  16.0  16.0  13.0  11.0  1.0  \n",
      "\n",
      "[20 rows x 64 columns]\n",
      "    0    1     2     3     4     5     6    7    8     9   ...    54   55  \\\n",
      "0  0.0  0.0   5.0  13.0   9.0   1.0   0.0  0.0  0.0   0.0  ...   0.0  0.0   \n",
      "0  0.0  0.0   0.0  12.0  13.0   5.0   0.0  0.0  0.0   0.0  ...   0.0  0.0   \n",
      "0  0.0  0.0   0.0   4.0  15.0  12.0   0.0  0.0  0.0   0.0  ...   5.0  0.0   \n",
      "0  0.0  0.0   7.0  15.0  13.0   1.0   0.0  0.0  0.0   8.0  ...   9.0  0.0   \n",
      "0  0.0  0.0   0.0   1.0  11.0   0.0   0.0  0.0  0.0   0.0  ...   0.0  0.0   \n",
      "0  0.0  0.0  12.0  10.0   0.0   0.0   0.0  0.0  0.0   0.0  ...   4.0  0.0   \n",
      "0  0.0  0.0   0.0  12.0  13.0   0.0   0.0  0.0  0.0   0.0  ...   8.0  0.0   \n",
      "0  0.0  0.0   7.0   8.0  13.0  16.0  15.0  1.0  0.0   0.0  ...   0.0  0.0   \n",
      "0  0.0  0.0   9.0  14.0   8.0   1.0   0.0  0.0  0.0   0.0  ...   8.0  0.0   \n",
      "0  0.0  0.0  11.0  12.0   0.0   0.0   0.0  0.0  0.0   2.0  ...   4.0  0.0   \n",
      "0  0.0  0.0   1.0   9.0  15.0  11.0   0.0  0.0  0.0   0.0  ...   0.0  0.0   \n",
      "0  0.0  0.0   0.0   0.0  14.0  13.0   1.0  0.0  0.0   0.0  ...   0.0  0.0   \n",
      "0  0.0  0.0   5.0  12.0   1.0   0.0   0.0  0.0  0.0   0.0  ...   8.0  2.0   \n",
      "0  0.0  2.0   9.0  15.0  14.0   9.0   3.0  0.0  0.0   4.0  ...   6.0  0.0   \n",
      "0  0.0  0.0   0.0   8.0  15.0   1.0   0.0  0.0  0.0   0.0  ...   0.0  0.0   \n",
      "0  0.0  5.0  12.0  13.0  16.0  16.0   2.0  0.0  0.0  11.0  ...   0.0  0.0   \n",
      "0  0.0  0.0   0.0   8.0  15.0   1.0   0.0  0.0  0.0   0.0  ...  16.0  2.0   \n",
      "0  0.0  0.0   1.0   8.0  15.0  10.0   0.0  0.0  0.0   3.0  ...   0.0  0.0   \n",
      "0  0.0  0.0  10.0   7.0  13.0   9.0   0.0  0.0  0.0   0.0  ...   0.0  0.0   \n",
      "0  0.0  0.0   6.0  14.0   4.0   0.0   0.0  0.0  0.0   0.0  ...  16.0  2.0   \n",
      "0  0.0  0.0   3.0  13.0  11.0   7.0   0.0  0.0  0.0   0.0  ...   1.0  0.0   \n",
      "\n",
      "    56   57    58    59    60    61    62   63  \n",
      "0  0.0  0.0   6.0  13.0  10.0   0.0   0.0  0.0  \n",
      "0  0.0  0.0   0.0  11.0  16.0  10.0   0.0  0.0  \n",
      "0  0.0  0.0   0.0   3.0  11.0  16.0   9.0  0.0  \n",
      "0  0.0  0.0   7.0  13.0  13.0   9.0   0.0  0.0  \n",
      "0  0.0  0.0   0.0   2.0  16.0   4.0   0.0  0.0  \n",
      "0  0.0  0.0   9.0  16.0  16.0  10.0   0.0  0.0  \n",
      "0  0.0  0.0   1.0   9.0  15.0  11.0   3.0  0.0  \n",
      "0  0.0  0.0  13.0   5.0   0.0   0.0   0.0  0.0  \n",
      "0  0.0  0.0  11.0  16.0  15.0  11.0   1.0  0.0  \n",
      "0  0.0  0.0   9.0  12.0  13.0   3.0   0.0  0.0  \n",
      "0  0.0  0.0   1.0  10.0  13.0   3.0   0.0  0.0  \n",
      "0  0.0  0.0   0.0   1.0  13.0  16.0   1.0  0.0  \n",
      "0  0.0  0.0   3.0  11.0   8.0  13.0  12.0  4.0  \n",
      "0  0.0  2.0  12.0  12.0  13.0  11.0   0.0  0.0  \n",
      "0  0.0  0.0   0.0  10.0  15.0   4.0   0.0  0.0  \n",
      "0  0.0  4.0  15.0  16.0   2.0   0.0   0.0  0.0  \n",
      "0  0.0  0.0   0.0   7.0  15.0  16.0  11.0  0.0  \n",
      "0  0.0  0.0   0.0  11.0   9.0   0.0   0.0  0.0  \n",
      "0  0.0  0.0  11.0  14.0   5.0   0.0   0.0  0.0  \n",
      "0  0.0  0.0   7.0  16.0  16.0  13.0  11.0  1.0  \n",
      "0  0.0  0.0   2.0  12.0  13.0   4.0   0.0  0.0  \n",
      "\n",
      "[21 rows x 64 columns]\n",
      "    0    1     2     3     4     5     6    7    8     9   ...    54   55  \\\n",
      "0  0.0  0.0   5.0  13.0   9.0   1.0   0.0  0.0  0.0   0.0  ...   0.0  0.0   \n",
      "0  0.0  0.0   0.0  12.0  13.0   5.0   0.0  0.0  0.0   0.0  ...   0.0  0.0   \n",
      "0  0.0  0.0   0.0   4.0  15.0  12.0   0.0  0.0  0.0   0.0  ...   5.0  0.0   \n",
      "0  0.0  0.0   7.0  15.0  13.0   1.0   0.0  0.0  0.0   8.0  ...   9.0  0.0   \n",
      "0  0.0  0.0   0.0   1.0  11.0   0.0   0.0  0.0  0.0   0.0  ...   0.0  0.0   \n",
      "0  0.0  0.0  12.0  10.0   0.0   0.0   0.0  0.0  0.0   0.0  ...   4.0  0.0   \n",
      "0  0.0  0.0   0.0  12.0  13.0   0.0   0.0  0.0  0.0   0.0  ...   8.0  0.0   \n",
      "0  0.0  0.0   7.0   8.0  13.0  16.0  15.0  1.0  0.0   0.0  ...   0.0  0.0   \n",
      "0  0.0  0.0   9.0  14.0   8.0   1.0   0.0  0.0  0.0   0.0  ...   8.0  0.0   \n",
      "0  0.0  0.0  11.0  12.0   0.0   0.0   0.0  0.0  0.0   2.0  ...   4.0  0.0   \n",
      "0  0.0  0.0   1.0   9.0  15.0  11.0   0.0  0.0  0.0   0.0  ...   0.0  0.0   \n",
      "0  0.0  0.0   0.0   0.0  14.0  13.0   1.0  0.0  0.0   0.0  ...   0.0  0.0   \n",
      "0  0.0  0.0   5.0  12.0   1.0   0.0   0.0  0.0  0.0   0.0  ...   8.0  2.0   \n",
      "0  0.0  2.0   9.0  15.0  14.0   9.0   3.0  0.0  0.0   4.0  ...   6.0  0.0   \n",
      "0  0.0  0.0   0.0   8.0  15.0   1.0   0.0  0.0  0.0   0.0  ...   0.0  0.0   \n",
      "0  0.0  5.0  12.0  13.0  16.0  16.0   2.0  0.0  0.0  11.0  ...   0.0  0.0   \n",
      "0  0.0  0.0   0.0   8.0  15.0   1.0   0.0  0.0  0.0   0.0  ...  16.0  2.0   \n",
      "0  0.0  0.0   1.0   8.0  15.0  10.0   0.0  0.0  0.0   3.0  ...   0.0  0.0   \n",
      "0  0.0  0.0  10.0   7.0  13.0   9.0   0.0  0.0  0.0   0.0  ...   0.0  0.0   \n",
      "0  0.0  0.0   6.0  14.0   4.0   0.0   0.0  0.0  0.0   0.0  ...  16.0  2.0   \n",
      "0  0.0  0.0   3.0  13.0  11.0   7.0   0.0  0.0  0.0   0.0  ...   1.0  0.0   \n",
      "0  0.0  0.0   0.0   2.0  16.0  16.0   2.0  0.0  0.0   0.0  ...   2.0  0.0   \n",
      "\n",
      "    56   57    58    59    60    61    62   63  \n",
      "0  0.0  0.0   6.0  13.0  10.0   0.0   0.0  0.0  \n",
      "0  0.0  0.0   0.0  11.0  16.0  10.0   0.0  0.0  \n",
      "0  0.0  0.0   0.0   3.0  11.0  16.0   9.0  0.0  \n",
      "0  0.0  0.0   7.0  13.0  13.0   9.0   0.0  0.0  \n",
      "0  0.0  0.0   0.0   2.0  16.0   4.0   0.0  0.0  \n",
      "0  0.0  0.0   9.0  16.0  16.0  10.0   0.0  0.0  \n",
      "0  0.0  0.0   1.0   9.0  15.0  11.0   3.0  0.0  \n",
      "0  0.0  0.0  13.0   5.0   0.0   0.0   0.0  0.0  \n",
      "0  0.0  0.0  11.0  16.0  15.0  11.0   1.0  0.0  \n",
      "0  0.0  0.0   9.0  12.0  13.0   3.0   0.0  0.0  \n",
      "0  0.0  0.0   1.0  10.0  13.0   3.0   0.0  0.0  \n",
      "0  0.0  0.0   0.0   1.0  13.0  16.0   1.0  0.0  \n",
      "0  0.0  0.0   3.0  11.0   8.0  13.0  12.0  4.0  \n",
      "0  0.0  2.0  12.0  12.0  13.0  11.0   0.0  0.0  \n",
      "0  0.0  0.0   0.0  10.0  15.0   4.0   0.0  0.0  \n",
      "0  0.0  4.0  15.0  16.0   2.0   0.0   0.0  0.0  \n",
      "0  0.0  0.0   0.0   7.0  15.0  16.0  11.0  0.0  \n",
      "0  0.0  0.0   0.0  11.0   9.0   0.0   0.0  0.0  \n",
      "0  0.0  0.0  11.0  14.0   5.0   0.0   0.0  0.0  \n",
      "0  0.0  0.0   7.0  16.0  16.0  13.0  11.0  1.0  \n",
      "0  0.0  0.0   2.0  12.0  13.0   4.0   0.0  0.0  \n",
      "0  0.0  0.0   0.0   2.0  12.0  15.0   4.0  0.0  \n",
      "\n",
      "[22 rows x 64 columns]\n",
      "    0    1     2     3     4     5     6    7    8     9   ...    54   55  \\\n",
      "0  0.0  0.0   5.0  13.0   9.0   1.0   0.0  0.0  0.0   0.0  ...   0.0  0.0   \n",
      "0  0.0  0.0   0.0  12.0  13.0   5.0   0.0  0.0  0.0   0.0  ...   0.0  0.0   \n",
      "0  0.0  0.0   0.0   4.0  15.0  12.0   0.0  0.0  0.0   0.0  ...   5.0  0.0   \n",
      "0  0.0  0.0   7.0  15.0  13.0   1.0   0.0  0.0  0.0   8.0  ...   9.0  0.0   \n",
      "0  0.0  0.0   0.0   1.0  11.0   0.0   0.0  0.0  0.0   0.0  ...   0.0  0.0   \n",
      "0  0.0  0.0  12.0  10.0   0.0   0.0   0.0  0.0  0.0   0.0  ...   4.0  0.0   \n",
      "0  0.0  0.0   0.0  12.0  13.0   0.0   0.0  0.0  0.0   0.0  ...   8.0  0.0   \n",
      "0  0.0  0.0   7.0   8.0  13.0  16.0  15.0  1.0  0.0   0.0  ...   0.0  0.0   \n",
      "0  0.0  0.0   9.0  14.0   8.0   1.0   0.0  0.0  0.0   0.0  ...   8.0  0.0   \n",
      "0  0.0  0.0  11.0  12.0   0.0   0.0   0.0  0.0  0.0   2.0  ...   4.0  0.0   \n",
      "0  0.0  0.0   1.0   9.0  15.0  11.0   0.0  0.0  0.0   0.0  ...   0.0  0.0   \n",
      "0  0.0  0.0   0.0   0.0  14.0  13.0   1.0  0.0  0.0   0.0  ...   0.0  0.0   \n",
      "0  0.0  0.0   5.0  12.0   1.0   0.0   0.0  0.0  0.0   0.0  ...   8.0  2.0   \n",
      "0  0.0  2.0   9.0  15.0  14.0   9.0   3.0  0.0  0.0   4.0  ...   6.0  0.0   \n",
      "0  0.0  0.0   0.0   8.0  15.0   1.0   0.0  0.0  0.0   0.0  ...   0.0  0.0   \n",
      "0  0.0  5.0  12.0  13.0  16.0  16.0   2.0  0.0  0.0  11.0  ...   0.0  0.0   \n",
      "0  0.0  0.0   0.0   8.0  15.0   1.0   0.0  0.0  0.0   0.0  ...  16.0  2.0   \n",
      "0  0.0  0.0   1.0   8.0  15.0  10.0   0.0  0.0  0.0   3.0  ...   0.0  0.0   \n",
      "0  0.0  0.0  10.0   7.0  13.0   9.0   0.0  0.0  0.0   0.0  ...   0.0  0.0   \n",
      "0  0.0  0.0   6.0  14.0   4.0   0.0   0.0  0.0  0.0   0.0  ...  16.0  2.0   \n",
      "0  0.0  0.0   3.0  13.0  11.0   7.0   0.0  0.0  0.0   0.0  ...   1.0  0.0   \n",
      "0  0.0  0.0   0.0   2.0  16.0  16.0   2.0  0.0  0.0   0.0  ...   2.0  0.0   \n",
      "0  0.0  0.0   8.0  16.0   5.0   0.0   0.0  0.0  0.0   1.0  ...   3.0  0.0   \n",
      "\n",
      "    56   57    58    59    60    61    62   63  \n",
      "0  0.0  0.0   6.0  13.0  10.0   0.0   0.0  0.0  \n",
      "0  0.0  0.0   0.0  11.0  16.0  10.0   0.0  0.0  \n",
      "0  0.0  0.0   0.0   3.0  11.0  16.0   9.0  0.0  \n",
      "0  0.0  0.0   7.0  13.0  13.0   9.0   0.0  0.0  \n",
      "0  0.0  0.0   0.0   2.0  16.0   4.0   0.0  0.0  \n",
      "0  0.0  0.0   9.0  16.0  16.0  10.0   0.0  0.0  \n",
      "0  0.0  0.0   1.0   9.0  15.0  11.0   3.0  0.0  \n",
      "0  0.0  0.0  13.0   5.0   0.0   0.0   0.0  0.0  \n",
      "0  0.0  0.0  11.0  16.0  15.0  11.0   1.0  0.0  \n",
      "0  0.0  0.0   9.0  12.0  13.0   3.0   0.0  0.0  \n",
      "0  0.0  0.0   1.0  10.0  13.0   3.0   0.0  0.0  \n",
      "0  0.0  0.0   0.0   1.0  13.0  16.0   1.0  0.0  \n",
      "0  0.0  0.0   3.0  11.0   8.0  13.0  12.0  4.0  \n",
      "0  0.0  2.0  12.0  12.0  13.0  11.0   0.0  0.0  \n",
      "0  0.0  0.0   0.0  10.0  15.0   4.0   0.0  0.0  \n",
      "0  0.0  4.0  15.0  16.0   2.0   0.0   0.0  0.0  \n",
      "0  0.0  0.0   0.0   7.0  15.0  16.0  11.0  0.0  \n",
      "0  0.0  0.0   0.0  11.0   9.0   0.0   0.0  0.0  \n",
      "0  0.0  0.0  11.0  14.0   5.0   0.0   0.0  0.0  \n",
      "0  0.0  0.0   7.0  16.0  16.0  13.0  11.0  1.0  \n",
      "0  0.0  0.0   2.0  12.0  13.0   4.0   0.0  0.0  \n",
      "0  0.0  0.0   0.0   2.0  12.0  15.0   4.0  0.0  \n",
      "0  0.0  0.0   7.0  12.0  12.0  12.0  13.0  1.0  \n",
      "\n",
      "[23 rows x 64 columns]\n",
      "    0    1     2     3     4     5     6    7    8     9   ...    54   55  \\\n",
      "0  0.0  0.0   5.0  13.0   9.0   1.0   0.0  0.0  0.0   0.0  ...   0.0  0.0   \n",
      "0  0.0  0.0   0.0  12.0  13.0   5.0   0.0  0.0  0.0   0.0  ...   0.0  0.0   \n",
      "0  0.0  0.0   0.0   4.0  15.0  12.0   0.0  0.0  0.0   0.0  ...   5.0  0.0   \n",
      "0  0.0  0.0   7.0  15.0  13.0   1.0   0.0  0.0  0.0   8.0  ...   9.0  0.0   \n",
      "0  0.0  0.0   0.0   1.0  11.0   0.0   0.0  0.0  0.0   0.0  ...   0.0  0.0   \n",
      "0  0.0  0.0  12.0  10.0   0.0   0.0   0.0  0.0  0.0   0.0  ...   4.0  0.0   \n",
      "0  0.0  0.0   0.0  12.0  13.0   0.0   0.0  0.0  0.0   0.0  ...   8.0  0.0   \n",
      "0  0.0  0.0   7.0   8.0  13.0  16.0  15.0  1.0  0.0   0.0  ...   0.0  0.0   \n",
      "0  0.0  0.0   9.0  14.0   8.0   1.0   0.0  0.0  0.0   0.0  ...   8.0  0.0   \n",
      "0  0.0  0.0  11.0  12.0   0.0   0.0   0.0  0.0  0.0   2.0  ...   4.0  0.0   \n",
      "0  0.0  0.0   1.0   9.0  15.0  11.0   0.0  0.0  0.0   0.0  ...   0.0  0.0   \n",
      "0  0.0  0.0   0.0   0.0  14.0  13.0   1.0  0.0  0.0   0.0  ...   0.0  0.0   \n",
      "0  0.0  0.0   5.0  12.0   1.0   0.0   0.0  0.0  0.0   0.0  ...   8.0  2.0   \n",
      "0  0.0  2.0   9.0  15.0  14.0   9.0   3.0  0.0  0.0   4.0  ...   6.0  0.0   \n",
      "0  0.0  0.0   0.0   8.0  15.0   1.0   0.0  0.0  0.0   0.0  ...   0.0  0.0   \n",
      "0  0.0  5.0  12.0  13.0  16.0  16.0   2.0  0.0  0.0  11.0  ...   0.0  0.0   \n",
      "0  0.0  0.0   0.0   8.0  15.0   1.0   0.0  0.0  0.0   0.0  ...  16.0  2.0   \n",
      "0  0.0  0.0   1.0   8.0  15.0  10.0   0.0  0.0  0.0   3.0  ...   0.0  0.0   \n",
      "0  0.0  0.0  10.0   7.0  13.0   9.0   0.0  0.0  0.0   0.0  ...   0.0  0.0   \n",
      "0  0.0  0.0   6.0  14.0   4.0   0.0   0.0  0.0  0.0   0.0  ...  16.0  2.0   \n",
      "0  0.0  0.0   3.0  13.0  11.0   7.0   0.0  0.0  0.0   0.0  ...   1.0  0.0   \n",
      "0  0.0  0.0   0.0   2.0  16.0  16.0   2.0  0.0  0.0   0.0  ...   2.0  0.0   \n",
      "0  0.0  0.0   8.0  16.0   5.0   0.0   0.0  0.0  0.0   1.0  ...   3.0  0.0   \n",
      "0  0.0  1.0   8.0  12.0  15.0  14.0   4.0  0.0  0.0   3.0  ...   0.0  0.0   \n",
      "\n",
      "    56   57    58    59    60    61    62   63  \n",
      "0  0.0  0.0   6.0  13.0  10.0   0.0   0.0  0.0  \n",
      "0  0.0  0.0   0.0  11.0  16.0  10.0   0.0  0.0  \n",
      "0  0.0  0.0   0.0   3.0  11.0  16.0   9.0  0.0  \n",
      "0  0.0  0.0   7.0  13.0  13.0   9.0   0.0  0.0  \n",
      "0  0.0  0.0   0.0   2.0  16.0   4.0   0.0  0.0  \n",
      "0  0.0  0.0   9.0  16.0  16.0  10.0   0.0  0.0  \n",
      "0  0.0  0.0   1.0   9.0  15.0  11.0   3.0  0.0  \n",
      "0  0.0  0.0  13.0   5.0   0.0   0.0   0.0  0.0  \n",
      "0  0.0  0.0  11.0  16.0  15.0  11.0   1.0  0.0  \n",
      "0  0.0  0.0   9.0  12.0  13.0   3.0   0.0  0.0  \n",
      "0  0.0  0.0   1.0  10.0  13.0   3.0   0.0  0.0  \n",
      "0  0.0  0.0   0.0   1.0  13.0  16.0   1.0  0.0  \n",
      "0  0.0  0.0   3.0  11.0   8.0  13.0  12.0  4.0  \n",
      "0  0.0  2.0  12.0  12.0  13.0  11.0   0.0  0.0  \n",
      "0  0.0  0.0   0.0  10.0  15.0   4.0   0.0  0.0  \n",
      "0  0.0  4.0  15.0  16.0   2.0   0.0   0.0  0.0  \n",
      "0  0.0  0.0   0.0   7.0  15.0  16.0  11.0  0.0  \n",
      "0  0.0  0.0   0.0  11.0   9.0   0.0   0.0  0.0  \n",
      "0  0.0  0.0  11.0  14.0   5.0   0.0   0.0  0.0  \n",
      "0  0.0  0.0   7.0  16.0  16.0  13.0  11.0  1.0  \n",
      "0  0.0  0.0   2.0  12.0  13.0   4.0   0.0  0.0  \n",
      "0  0.0  0.0   0.0   2.0  12.0  15.0   4.0  0.0  \n",
      "0  0.0  0.0   7.0  12.0  12.0  12.0  13.0  1.0  \n",
      "0  0.0  0.0  14.0  15.0  11.0   2.0   0.0  0.0  \n",
      "\n",
      "[24 rows x 64 columns]\n",
      "    0    1     2     3     4     5     6    7    8     9   ...    54   55  \\\n",
      "0  0.0  0.0   5.0  13.0   9.0   1.0   0.0  0.0  0.0   0.0  ...   0.0  0.0   \n",
      "0  0.0  0.0   0.0  12.0  13.0   5.0   0.0  0.0  0.0   0.0  ...   0.0  0.0   \n",
      "0  0.0  0.0   0.0   4.0  15.0  12.0   0.0  0.0  0.0   0.0  ...   5.0  0.0   \n",
      "0  0.0  0.0   7.0  15.0  13.0   1.0   0.0  0.0  0.0   8.0  ...   9.0  0.0   \n",
      "0  0.0  0.0   0.0   1.0  11.0   0.0   0.0  0.0  0.0   0.0  ...   0.0  0.0   \n",
      "0  0.0  0.0  12.0  10.0   0.0   0.0   0.0  0.0  0.0   0.0  ...   4.0  0.0   \n",
      "0  0.0  0.0   0.0  12.0  13.0   0.0   0.0  0.0  0.0   0.0  ...   8.0  0.0   \n",
      "0  0.0  0.0   7.0   8.0  13.0  16.0  15.0  1.0  0.0   0.0  ...   0.0  0.0   \n",
      "0  0.0  0.0   9.0  14.0   8.0   1.0   0.0  0.0  0.0   0.0  ...   8.0  0.0   \n",
      "0  0.0  0.0  11.0  12.0   0.0   0.0   0.0  0.0  0.0   2.0  ...   4.0  0.0   \n",
      "0  0.0  0.0   1.0   9.0  15.0  11.0   0.0  0.0  0.0   0.0  ...   0.0  0.0   \n",
      "0  0.0  0.0   0.0   0.0  14.0  13.0   1.0  0.0  0.0   0.0  ...   0.0  0.0   \n",
      "0  0.0  0.0   5.0  12.0   1.0   0.0   0.0  0.0  0.0   0.0  ...   8.0  2.0   \n",
      "0  0.0  2.0   9.0  15.0  14.0   9.0   3.0  0.0  0.0   4.0  ...   6.0  0.0   \n",
      "0  0.0  0.0   0.0   8.0  15.0   1.0   0.0  0.0  0.0   0.0  ...   0.0  0.0   \n",
      "0  0.0  5.0  12.0  13.0  16.0  16.0   2.0  0.0  0.0  11.0  ...   0.0  0.0   \n",
      "0  0.0  0.0   0.0   8.0  15.0   1.0   0.0  0.0  0.0   0.0  ...  16.0  2.0   \n",
      "0  0.0  0.0   1.0   8.0  15.0  10.0   0.0  0.0  0.0   3.0  ...   0.0  0.0   \n",
      "0  0.0  0.0  10.0   7.0  13.0   9.0   0.0  0.0  0.0   0.0  ...   0.0  0.0   \n",
      "0  0.0  0.0   6.0  14.0   4.0   0.0   0.0  0.0  0.0   0.0  ...  16.0  2.0   \n",
      "0  0.0  0.0   3.0  13.0  11.0   7.0   0.0  0.0  0.0   0.0  ...   1.0  0.0   \n",
      "0  0.0  0.0   0.0   2.0  16.0  16.0   2.0  0.0  0.0   0.0  ...   2.0  0.0   \n",
      "0  0.0  0.0   8.0  16.0   5.0   0.0   0.0  0.0  0.0   1.0  ...   3.0  0.0   \n",
      "0  0.0  1.0   8.0  12.0  15.0  14.0   4.0  0.0  0.0   3.0  ...   0.0  0.0   \n",
      "0  0.0  0.0   0.0   0.0  12.0   2.0   0.0  0.0  0.0   0.0  ...   0.0  0.0   \n",
      "\n",
      "    56   57    58    59    60    61    62   63  \n",
      "0  0.0  0.0   6.0  13.0  10.0   0.0   0.0  0.0  \n",
      "0  0.0  0.0   0.0  11.0  16.0  10.0   0.0  0.0  \n",
      "0  0.0  0.0   0.0   3.0  11.0  16.0   9.0  0.0  \n",
      "0  0.0  0.0   7.0  13.0  13.0   9.0   0.0  0.0  \n",
      "0  0.0  0.0   0.0   2.0  16.0   4.0   0.0  0.0  \n",
      "0  0.0  0.0   9.0  16.0  16.0  10.0   0.0  0.0  \n",
      "0  0.0  0.0   1.0   9.0  15.0  11.0   3.0  0.0  \n",
      "0  0.0  0.0  13.0   5.0   0.0   0.0   0.0  0.0  \n",
      "0  0.0  0.0  11.0  16.0  15.0  11.0   1.0  0.0  \n",
      "0  0.0  0.0   9.0  12.0  13.0   3.0   0.0  0.0  \n",
      "0  0.0  0.0   1.0  10.0  13.0   3.0   0.0  0.0  \n",
      "0  0.0  0.0   0.0   1.0  13.0  16.0   1.0  0.0  \n",
      "0  0.0  0.0   3.0  11.0   8.0  13.0  12.0  4.0  \n",
      "0  0.0  2.0  12.0  12.0  13.0  11.0   0.0  0.0  \n",
      "0  0.0  0.0   0.0  10.0  15.0   4.0   0.0  0.0  \n",
      "0  0.0  4.0  15.0  16.0   2.0   0.0   0.0  0.0  \n",
      "0  0.0  0.0   0.0   7.0  15.0  16.0  11.0  0.0  \n",
      "0  0.0  0.0   0.0  11.0   9.0   0.0   0.0  0.0  \n",
      "0  0.0  0.0  11.0  14.0   5.0   0.0   0.0  0.0  \n",
      "0  0.0  0.0   7.0  16.0  16.0  13.0  11.0  1.0  \n",
      "0  0.0  0.0   2.0  12.0  13.0   4.0   0.0  0.0  \n",
      "0  0.0  0.0   0.0   2.0  12.0  15.0   4.0  0.0  \n",
      "0  0.0  0.0   7.0  12.0  12.0  12.0  13.0  1.0  \n",
      "0  0.0  0.0  14.0  15.0  11.0   2.0   0.0  0.0  \n",
      "0  0.0  0.0   0.0   0.0  12.0   8.0   0.0  0.0  \n",
      "\n",
      "[25 rows x 64 columns]\n",
      "    0    1     2     3     4     5     6    7    8     9   ...    54   55  \\\n",
      "0  0.0  0.0   5.0  13.0   9.0   1.0   0.0  0.0  0.0   0.0  ...   0.0  0.0   \n",
      "0  0.0  0.0   0.0  12.0  13.0   5.0   0.0  0.0  0.0   0.0  ...   0.0  0.0   \n",
      "0  0.0  0.0   0.0   4.0  15.0  12.0   0.0  0.0  0.0   0.0  ...   5.0  0.0   \n",
      "0  0.0  0.0   7.0  15.0  13.0   1.0   0.0  0.0  0.0   8.0  ...   9.0  0.0   \n",
      "0  0.0  0.0   0.0   1.0  11.0   0.0   0.0  0.0  0.0   0.0  ...   0.0  0.0   \n",
      "0  0.0  0.0  12.0  10.0   0.0   0.0   0.0  0.0  0.0   0.0  ...   4.0  0.0   \n",
      "0  0.0  0.0   0.0  12.0  13.0   0.0   0.0  0.0  0.0   0.0  ...   8.0  0.0   \n",
      "0  0.0  0.0   7.0   8.0  13.0  16.0  15.0  1.0  0.0   0.0  ...   0.0  0.0   \n",
      "0  0.0  0.0   9.0  14.0   8.0   1.0   0.0  0.0  0.0   0.0  ...   8.0  0.0   \n",
      "0  0.0  0.0  11.0  12.0   0.0   0.0   0.0  0.0  0.0   2.0  ...   4.0  0.0   \n",
      "0  0.0  0.0   1.0   9.0  15.0  11.0   0.0  0.0  0.0   0.0  ...   0.0  0.0   \n",
      "0  0.0  0.0   0.0   0.0  14.0  13.0   1.0  0.0  0.0   0.0  ...   0.0  0.0   \n",
      "0  0.0  0.0   5.0  12.0   1.0   0.0   0.0  0.0  0.0   0.0  ...   8.0  2.0   \n",
      "0  0.0  2.0   9.0  15.0  14.0   9.0   3.0  0.0  0.0   4.0  ...   6.0  0.0   \n",
      "0  0.0  0.0   0.0   8.0  15.0   1.0   0.0  0.0  0.0   0.0  ...   0.0  0.0   \n",
      "0  0.0  5.0  12.0  13.0  16.0  16.0   2.0  0.0  0.0  11.0  ...   0.0  0.0   \n",
      "0  0.0  0.0   0.0   8.0  15.0   1.0   0.0  0.0  0.0   0.0  ...  16.0  2.0   \n",
      "0  0.0  0.0   1.0   8.0  15.0  10.0   0.0  0.0  0.0   3.0  ...   0.0  0.0   \n",
      "0  0.0  0.0  10.0   7.0  13.0   9.0   0.0  0.0  0.0   0.0  ...   0.0  0.0   \n",
      "0  0.0  0.0   6.0  14.0   4.0   0.0   0.0  0.0  0.0   0.0  ...  16.0  2.0   \n",
      "0  0.0  0.0   3.0  13.0  11.0   7.0   0.0  0.0  0.0   0.0  ...   1.0  0.0   \n",
      "0  0.0  0.0   0.0   2.0  16.0  16.0   2.0  0.0  0.0   0.0  ...   2.0  0.0   \n",
      "0  0.0  0.0   8.0  16.0   5.0   0.0   0.0  0.0  0.0   1.0  ...   3.0  0.0   \n",
      "0  0.0  1.0   8.0  12.0  15.0  14.0   4.0  0.0  0.0   3.0  ...   0.0  0.0   \n",
      "0  0.0  0.0   0.0   0.0  12.0   2.0   0.0  0.0  0.0   0.0  ...   0.0  0.0   \n",
      "0  0.0  0.0  12.0   8.0   8.0   7.0   0.0  0.0  0.0   3.0  ...   0.0  0.0   \n",
      "\n",
      "    56   57    58    59    60    61    62   63  \n",
      "0  0.0  0.0   6.0  13.0  10.0   0.0   0.0  0.0  \n",
      "0  0.0  0.0   0.0  11.0  16.0  10.0   0.0  0.0  \n",
      "0  0.0  0.0   0.0   3.0  11.0  16.0   9.0  0.0  \n",
      "0  0.0  0.0   7.0  13.0  13.0   9.0   0.0  0.0  \n",
      "0  0.0  0.0   0.0   2.0  16.0   4.0   0.0  0.0  \n",
      "0  0.0  0.0   9.0  16.0  16.0  10.0   0.0  0.0  \n",
      "0  0.0  0.0   1.0   9.0  15.0  11.0   3.0  0.0  \n",
      "0  0.0  0.0  13.0   5.0   0.0   0.0   0.0  0.0  \n",
      "0  0.0  0.0  11.0  16.0  15.0  11.0   1.0  0.0  \n",
      "0  0.0  0.0   9.0  12.0  13.0   3.0   0.0  0.0  \n",
      "0  0.0  0.0   1.0  10.0  13.0   3.0   0.0  0.0  \n",
      "0  0.0  0.0   0.0   1.0  13.0  16.0   1.0  0.0  \n",
      "0  0.0  0.0   3.0  11.0   8.0  13.0  12.0  4.0  \n",
      "0  0.0  2.0  12.0  12.0  13.0  11.0   0.0  0.0  \n",
      "0  0.0  0.0   0.0  10.0  15.0   4.0   0.0  0.0  \n",
      "0  0.0  4.0  15.0  16.0   2.0   0.0   0.0  0.0  \n",
      "0  0.0  0.0   0.0   7.0  15.0  16.0  11.0  0.0  \n",
      "0  0.0  0.0   0.0  11.0   9.0   0.0   0.0  0.0  \n",
      "0  0.0  0.0  11.0  14.0   5.0   0.0   0.0  0.0  \n",
      "0  0.0  0.0   7.0  16.0  16.0  13.0  11.0  1.0  \n",
      "0  0.0  0.0   2.0  12.0  13.0   4.0   0.0  0.0  \n",
      "0  0.0  0.0   0.0   2.0  12.0  15.0   4.0  0.0  \n",
      "0  0.0  0.0   7.0  12.0  12.0  12.0  13.0  1.0  \n",
      "0  0.0  0.0  14.0  15.0  11.0   2.0   0.0  0.0  \n",
      "0  0.0  0.0   0.0   0.0  12.0   8.0   0.0  0.0  \n",
      "0  0.0  0.0  11.0  14.0   9.0   0.0   0.0  0.0  \n",
      "\n",
      "[26 rows x 64 columns]\n",
      "    0    1     2     3     4     5     6    7    8     9   ...    54   55  \\\n",
      "0  0.0  0.0   5.0  13.0   9.0   1.0   0.0  0.0  0.0   0.0  ...   0.0  0.0   \n",
      "0  0.0  0.0   0.0  12.0  13.0   5.0   0.0  0.0  0.0   0.0  ...   0.0  0.0   \n",
      "0  0.0  0.0   0.0   4.0  15.0  12.0   0.0  0.0  0.0   0.0  ...   5.0  0.0   \n",
      "0  0.0  0.0   7.0  15.0  13.0   1.0   0.0  0.0  0.0   8.0  ...   9.0  0.0   \n",
      "0  0.0  0.0   0.0   1.0  11.0   0.0   0.0  0.0  0.0   0.0  ...   0.0  0.0   \n",
      "0  0.0  0.0  12.0  10.0   0.0   0.0   0.0  0.0  0.0   0.0  ...   4.0  0.0   \n",
      "0  0.0  0.0   0.0  12.0  13.0   0.0   0.0  0.0  0.0   0.0  ...   8.0  0.0   \n",
      "0  0.0  0.0   7.0   8.0  13.0  16.0  15.0  1.0  0.0   0.0  ...   0.0  0.0   \n",
      "0  0.0  0.0   9.0  14.0   8.0   1.0   0.0  0.0  0.0   0.0  ...   8.0  0.0   \n",
      "0  0.0  0.0  11.0  12.0   0.0   0.0   0.0  0.0  0.0   2.0  ...   4.0  0.0   \n",
      "0  0.0  0.0   1.0   9.0  15.0  11.0   0.0  0.0  0.0   0.0  ...   0.0  0.0   \n",
      "0  0.0  0.0   0.0   0.0  14.0  13.0   1.0  0.0  0.0   0.0  ...   0.0  0.0   \n",
      "0  0.0  0.0   5.0  12.0   1.0   0.0   0.0  0.0  0.0   0.0  ...   8.0  2.0   \n",
      "0  0.0  2.0   9.0  15.0  14.0   9.0   3.0  0.0  0.0   4.0  ...   6.0  0.0   \n",
      "0  0.0  0.0   0.0   8.0  15.0   1.0   0.0  0.0  0.0   0.0  ...   0.0  0.0   \n",
      "0  0.0  5.0  12.0  13.0  16.0  16.0   2.0  0.0  0.0  11.0  ...   0.0  0.0   \n",
      "0  0.0  0.0   0.0   8.0  15.0   1.0   0.0  0.0  0.0   0.0  ...  16.0  2.0   \n",
      "0  0.0  0.0   1.0   8.0  15.0  10.0   0.0  0.0  0.0   3.0  ...   0.0  0.0   \n",
      "0  0.0  0.0  10.0   7.0  13.0   9.0   0.0  0.0  0.0   0.0  ...   0.0  0.0   \n",
      "0  0.0  0.0   6.0  14.0   4.0   0.0   0.0  0.0  0.0   0.0  ...  16.0  2.0   \n",
      "0  0.0  0.0   3.0  13.0  11.0   7.0   0.0  0.0  0.0   0.0  ...   1.0  0.0   \n",
      "0  0.0  0.0   0.0   2.0  16.0  16.0   2.0  0.0  0.0   0.0  ...   2.0  0.0   \n",
      "0  0.0  0.0   8.0  16.0   5.0   0.0   0.0  0.0  0.0   1.0  ...   3.0  0.0   \n",
      "0  0.0  1.0   8.0  12.0  15.0  14.0   4.0  0.0  0.0   3.0  ...   0.0  0.0   \n",
      "0  0.0  0.0   0.0   0.0  12.0   2.0   0.0  0.0  0.0   0.0  ...   0.0  0.0   \n",
      "0  0.0  0.0  12.0   8.0   8.0   7.0   0.0  0.0  0.0   3.0  ...   0.0  0.0   \n",
      "0  0.0  0.0   1.0  13.0  14.0   3.0   0.0  0.0  0.0   0.0  ...  12.0  0.0   \n",
      "\n",
      "    56   57    58    59    60    61    62   63  \n",
      "0  0.0  0.0   6.0  13.0  10.0   0.0   0.0  0.0  \n",
      "0  0.0  0.0   0.0  11.0  16.0  10.0   0.0  0.0  \n",
      "0  0.0  0.0   0.0   3.0  11.0  16.0   9.0  0.0  \n",
      "0  0.0  0.0   7.0  13.0  13.0   9.0   0.0  0.0  \n",
      "0  0.0  0.0   0.0   2.0  16.0   4.0   0.0  0.0  \n",
      "0  0.0  0.0   9.0  16.0  16.0  10.0   0.0  0.0  \n",
      "0  0.0  0.0   1.0   9.0  15.0  11.0   3.0  0.0  \n",
      "0  0.0  0.0  13.0   5.0   0.0   0.0   0.0  0.0  \n",
      "0  0.0  0.0  11.0  16.0  15.0  11.0   1.0  0.0  \n",
      "0  0.0  0.0   9.0  12.0  13.0   3.0   0.0  0.0  \n",
      "0  0.0  0.0   1.0  10.0  13.0   3.0   0.0  0.0  \n",
      "0  0.0  0.0   0.0   1.0  13.0  16.0   1.0  0.0  \n",
      "0  0.0  0.0   3.0  11.0   8.0  13.0  12.0  4.0  \n",
      "0  0.0  2.0  12.0  12.0  13.0  11.0   0.0  0.0  \n",
      "0  0.0  0.0   0.0  10.0  15.0   4.0   0.0  0.0  \n",
      "0  0.0  4.0  15.0  16.0   2.0   0.0   0.0  0.0  \n",
      "0  0.0  0.0   0.0   7.0  15.0  16.0  11.0  0.0  \n",
      "0  0.0  0.0   0.0  11.0   9.0   0.0   0.0  0.0  \n",
      "0  0.0  0.0  11.0  14.0   5.0   0.0   0.0  0.0  \n",
      "0  0.0  0.0   7.0  16.0  16.0  13.0  11.0  1.0  \n",
      "0  0.0  0.0   2.0  12.0  13.0   4.0   0.0  0.0  \n",
      "0  0.0  0.0   0.0   2.0  12.0  15.0   4.0  0.0  \n",
      "0  0.0  0.0   7.0  12.0  12.0  12.0  13.0  1.0  \n",
      "0  0.0  0.0  14.0  15.0  11.0   2.0   0.0  0.0  \n",
      "0  0.0  0.0   0.0   0.0  12.0   8.0   0.0  0.0  \n",
      "0  0.0  0.0  11.0  14.0   9.0   0.0   0.0  0.0  \n",
      "0  0.0  0.0   3.0  12.0  15.0  14.0   7.0  0.0  \n",
      "\n",
      "[27 rows x 64 columns]\n",
      "    0    1     2     3     4     5     6    7    8     9   ...    54   55  \\\n",
      "0  0.0  0.0   5.0  13.0   9.0   1.0   0.0  0.0  0.0   0.0  ...   0.0  0.0   \n",
      "0  0.0  0.0   0.0  12.0  13.0   5.0   0.0  0.0  0.0   0.0  ...   0.0  0.0   \n",
      "0  0.0  0.0   0.0   4.0  15.0  12.0   0.0  0.0  0.0   0.0  ...   5.0  0.0   \n",
      "0  0.0  0.0   7.0  15.0  13.0   1.0   0.0  0.0  0.0   8.0  ...   9.0  0.0   \n",
      "0  0.0  0.0   0.0   1.0  11.0   0.0   0.0  0.0  0.0   0.0  ...   0.0  0.0   \n",
      "0  0.0  0.0  12.0  10.0   0.0   0.0   0.0  0.0  0.0   0.0  ...   4.0  0.0   \n",
      "0  0.0  0.0   0.0  12.0  13.0   0.0   0.0  0.0  0.0   0.0  ...   8.0  0.0   \n",
      "0  0.0  0.0   7.0   8.0  13.0  16.0  15.0  1.0  0.0   0.0  ...   0.0  0.0   \n",
      "0  0.0  0.0   9.0  14.0   8.0   1.0   0.0  0.0  0.0   0.0  ...   8.0  0.0   \n",
      "0  0.0  0.0  11.0  12.0   0.0   0.0   0.0  0.0  0.0   2.0  ...   4.0  0.0   \n",
      "0  0.0  0.0   1.0   9.0  15.0  11.0   0.0  0.0  0.0   0.0  ...   0.0  0.0   \n",
      "0  0.0  0.0   0.0   0.0  14.0  13.0   1.0  0.0  0.0   0.0  ...   0.0  0.0   \n",
      "0  0.0  0.0   5.0  12.0   1.0   0.0   0.0  0.0  0.0   0.0  ...   8.0  2.0   \n",
      "0  0.0  2.0   9.0  15.0  14.0   9.0   3.0  0.0  0.0   4.0  ...   6.0  0.0   \n",
      "0  0.0  0.0   0.0   8.0  15.0   1.0   0.0  0.0  0.0   0.0  ...   0.0  0.0   \n",
      "0  0.0  5.0  12.0  13.0  16.0  16.0   2.0  0.0  0.0  11.0  ...   0.0  0.0   \n",
      "0  0.0  0.0   0.0   8.0  15.0   1.0   0.0  0.0  0.0   0.0  ...  16.0  2.0   \n",
      "0  0.0  0.0   1.0   8.0  15.0  10.0   0.0  0.0  0.0   3.0  ...   0.0  0.0   \n",
      "0  0.0  0.0  10.0   7.0  13.0   9.0   0.0  0.0  0.0   0.0  ...   0.0  0.0   \n",
      "0  0.0  0.0   6.0  14.0   4.0   0.0   0.0  0.0  0.0   0.0  ...  16.0  2.0   \n",
      "0  0.0  0.0   3.0  13.0  11.0   7.0   0.0  0.0  0.0   0.0  ...   1.0  0.0   \n",
      "0  0.0  0.0   0.0   2.0  16.0  16.0   2.0  0.0  0.0   0.0  ...   2.0  0.0   \n",
      "0  0.0  0.0   8.0  16.0   5.0   0.0   0.0  0.0  0.0   1.0  ...   3.0  0.0   \n",
      "0  0.0  1.0   8.0  12.0  15.0  14.0   4.0  0.0  0.0   3.0  ...   0.0  0.0   \n",
      "0  0.0  0.0   0.0   0.0  12.0   2.0   0.0  0.0  0.0   0.0  ...   0.0  0.0   \n",
      "0  0.0  0.0  12.0   8.0   8.0   7.0   0.0  0.0  0.0   3.0  ...   0.0  0.0   \n",
      "0  0.0  0.0   1.0  13.0  14.0   3.0   0.0  0.0  0.0   0.0  ...  12.0  0.0   \n",
      "0  0.0  0.0   0.0   8.0  14.0  14.0   2.0  0.0  0.0   0.0  ...   0.0  0.0   \n",
      "\n",
      "    56   57    58    59    60    61    62   63  \n",
      "0  0.0  0.0   6.0  13.0  10.0   0.0   0.0  0.0  \n",
      "0  0.0  0.0   0.0  11.0  16.0  10.0   0.0  0.0  \n",
      "0  0.0  0.0   0.0   3.0  11.0  16.0   9.0  0.0  \n",
      "0  0.0  0.0   7.0  13.0  13.0   9.0   0.0  0.0  \n",
      "0  0.0  0.0   0.0   2.0  16.0   4.0   0.0  0.0  \n",
      "0  0.0  0.0   9.0  16.0  16.0  10.0   0.0  0.0  \n",
      "0  0.0  0.0   1.0   9.0  15.0  11.0   3.0  0.0  \n",
      "0  0.0  0.0  13.0   5.0   0.0   0.0   0.0  0.0  \n",
      "0  0.0  0.0  11.0  16.0  15.0  11.0   1.0  0.0  \n",
      "0  0.0  0.0   9.0  12.0  13.0   3.0   0.0  0.0  \n",
      "0  0.0  0.0   1.0  10.0  13.0   3.0   0.0  0.0  \n",
      "0  0.0  0.0   0.0   1.0  13.0  16.0   1.0  0.0  \n",
      "0  0.0  0.0   3.0  11.0   8.0  13.0  12.0  4.0  \n",
      "0  0.0  2.0  12.0  12.0  13.0  11.0   0.0  0.0  \n",
      "0  0.0  0.0   0.0  10.0  15.0   4.0   0.0  0.0  \n",
      "0  0.0  4.0  15.0  16.0   2.0   0.0   0.0  0.0  \n",
      "0  0.0  0.0   0.0   7.0  15.0  16.0  11.0  0.0  \n",
      "0  0.0  0.0   0.0  11.0   9.0   0.0   0.0  0.0  \n",
      "0  0.0  0.0  11.0  14.0   5.0   0.0   0.0  0.0  \n",
      "0  0.0  0.0   7.0  16.0  16.0  13.0  11.0  1.0  \n",
      "0  0.0  0.0   2.0  12.0  13.0   4.0   0.0  0.0  \n",
      "0  0.0  0.0   0.0   2.0  12.0  15.0   4.0  0.0  \n",
      "0  0.0  0.0   7.0  12.0  12.0  12.0  13.0  1.0  \n",
      "0  0.0  0.0  14.0  15.0  11.0   2.0   0.0  0.0  \n",
      "0  0.0  0.0   0.0   0.0  12.0   8.0   0.0  0.0  \n",
      "0  0.0  0.0  11.0  14.0   9.0   0.0   0.0  0.0  \n",
      "0  0.0  0.0   3.0  12.0  15.0  14.0   7.0  0.0  \n",
      "0  0.0  0.0   0.0  12.0  13.0   1.0   0.0  0.0  \n",
      "\n",
      "[28 rows x 64 columns]\n",
      "    0    1     2     3     4     5     6    7    8     9   ...    54   55  \\\n",
      "0  0.0  0.0   5.0  13.0   9.0   1.0   0.0  0.0  0.0   0.0  ...   0.0  0.0   \n",
      "0  0.0  0.0   0.0  12.0  13.0   5.0   0.0  0.0  0.0   0.0  ...   0.0  0.0   \n",
      "0  0.0  0.0   0.0   4.0  15.0  12.0   0.0  0.0  0.0   0.0  ...   5.0  0.0   \n",
      "0  0.0  0.0   7.0  15.0  13.0   1.0   0.0  0.0  0.0   8.0  ...   9.0  0.0   \n",
      "0  0.0  0.0   0.0   1.0  11.0   0.0   0.0  0.0  0.0   0.0  ...   0.0  0.0   \n",
      "0  0.0  0.0  12.0  10.0   0.0   0.0   0.0  0.0  0.0   0.0  ...   4.0  0.0   \n",
      "0  0.0  0.0   0.0  12.0  13.0   0.0   0.0  0.0  0.0   0.0  ...   8.0  0.0   \n",
      "0  0.0  0.0   7.0   8.0  13.0  16.0  15.0  1.0  0.0   0.0  ...   0.0  0.0   \n",
      "0  0.0  0.0   9.0  14.0   8.0   1.0   0.0  0.0  0.0   0.0  ...   8.0  0.0   \n",
      "0  0.0  0.0  11.0  12.0   0.0   0.0   0.0  0.0  0.0   2.0  ...   4.0  0.0   \n",
      "0  0.0  0.0   1.0   9.0  15.0  11.0   0.0  0.0  0.0   0.0  ...   0.0  0.0   \n",
      "0  0.0  0.0   0.0   0.0  14.0  13.0   1.0  0.0  0.0   0.0  ...   0.0  0.0   \n",
      "0  0.0  0.0   5.0  12.0   1.0   0.0   0.0  0.0  0.0   0.0  ...   8.0  2.0   \n",
      "0  0.0  2.0   9.0  15.0  14.0   9.0   3.0  0.0  0.0   4.0  ...   6.0  0.0   \n",
      "0  0.0  0.0   0.0   8.0  15.0   1.0   0.0  0.0  0.0   0.0  ...   0.0  0.0   \n",
      "0  0.0  5.0  12.0  13.0  16.0  16.0   2.0  0.0  0.0  11.0  ...   0.0  0.0   \n",
      "0  0.0  0.0   0.0   8.0  15.0   1.0   0.0  0.0  0.0   0.0  ...  16.0  2.0   \n",
      "0  0.0  0.0   1.0   8.0  15.0  10.0   0.0  0.0  0.0   3.0  ...   0.0  0.0   \n",
      "0  0.0  0.0  10.0   7.0  13.0   9.0   0.0  0.0  0.0   0.0  ...   0.0  0.0   \n",
      "0  0.0  0.0   6.0  14.0   4.0   0.0   0.0  0.0  0.0   0.0  ...  16.0  2.0   \n",
      "0  0.0  0.0   3.0  13.0  11.0   7.0   0.0  0.0  0.0   0.0  ...   1.0  0.0   \n",
      "0  0.0  0.0   0.0   2.0  16.0  16.0   2.0  0.0  0.0   0.0  ...   2.0  0.0   \n",
      "0  0.0  0.0   8.0  16.0   5.0   0.0   0.0  0.0  0.0   1.0  ...   3.0  0.0   \n",
      "0  0.0  1.0   8.0  12.0  15.0  14.0   4.0  0.0  0.0   3.0  ...   0.0  0.0   \n",
      "0  0.0  0.0   0.0   0.0  12.0   2.0   0.0  0.0  0.0   0.0  ...   0.0  0.0   \n",
      "0  0.0  0.0  12.0   8.0   8.0   7.0   0.0  0.0  0.0   3.0  ...   0.0  0.0   \n",
      "0  0.0  0.0   1.0  13.0  14.0   3.0   0.0  0.0  0.0   0.0  ...  12.0  0.0   \n",
      "0  0.0  0.0   0.0   8.0  14.0  14.0   2.0  0.0  0.0   0.0  ...   0.0  0.0   \n",
      "0  0.0  0.0  10.0  11.0   4.0   0.0   0.0  0.0  0.0   0.0  ...   0.0  0.0   \n",
      "\n",
      "    56   57    58    59    60    61    62   63  \n",
      "0  0.0  0.0   6.0  13.0  10.0   0.0   0.0  0.0  \n",
      "0  0.0  0.0   0.0  11.0  16.0  10.0   0.0  0.0  \n",
      "0  0.0  0.0   0.0   3.0  11.0  16.0   9.0  0.0  \n",
      "0  0.0  0.0   7.0  13.0  13.0   9.0   0.0  0.0  \n",
      "0  0.0  0.0   0.0   2.0  16.0   4.0   0.0  0.0  \n",
      "0  0.0  0.0   9.0  16.0  16.0  10.0   0.0  0.0  \n",
      "0  0.0  0.0   1.0   9.0  15.0  11.0   3.0  0.0  \n",
      "0  0.0  0.0  13.0   5.0   0.0   0.0   0.0  0.0  \n",
      "0  0.0  0.0  11.0  16.0  15.0  11.0   1.0  0.0  \n",
      "0  0.0  0.0   9.0  12.0  13.0   3.0   0.0  0.0  \n",
      "0  0.0  0.0   1.0  10.0  13.0   3.0   0.0  0.0  \n",
      "0  0.0  0.0   0.0   1.0  13.0  16.0   1.0  0.0  \n",
      "0  0.0  0.0   3.0  11.0   8.0  13.0  12.0  4.0  \n",
      "0  0.0  2.0  12.0  12.0  13.0  11.0   0.0  0.0  \n",
      "0  0.0  0.0   0.0  10.0  15.0   4.0   0.0  0.0  \n",
      "0  0.0  4.0  15.0  16.0   2.0   0.0   0.0  0.0  \n",
      "0  0.0  0.0   0.0   7.0  15.0  16.0  11.0  0.0  \n",
      "0  0.0  0.0   0.0  11.0   9.0   0.0   0.0  0.0  \n",
      "0  0.0  0.0  11.0  14.0   5.0   0.0   0.0  0.0  \n",
      "0  0.0  0.0   7.0  16.0  16.0  13.0  11.0  1.0  \n",
      "0  0.0  0.0   2.0  12.0  13.0   4.0   0.0  0.0  \n",
      "0  0.0  0.0   0.0   2.0  12.0  15.0   4.0  0.0  \n",
      "0  0.0  0.0   7.0  12.0  12.0  12.0  13.0  1.0  \n",
      "0  0.0  0.0  14.0  15.0  11.0   2.0   0.0  0.0  \n",
      "0  0.0  0.0   0.0   0.0  12.0   8.0   0.0  0.0  \n",
      "0  0.0  0.0  11.0  14.0   9.0   0.0   0.0  0.0  \n",
      "0  0.0  0.0   3.0  12.0  15.0  14.0   7.0  0.0  \n",
      "0  0.0  0.0   0.0  12.0  13.0   1.0   0.0  0.0  \n",
      "0  0.0  0.0   8.0  14.0   7.0   1.0   0.0  0.0  \n",
      "\n",
      "[29 rows x 64 columns]\n",
      "    0    1     2     3     4     5     6    7    8     9   ...    54   55  \\\n",
      "0  0.0  0.0   5.0  13.0   9.0   1.0   0.0  0.0  0.0   0.0  ...   0.0  0.0   \n",
      "0  0.0  0.0   0.0  12.0  13.0   5.0   0.0  0.0  0.0   0.0  ...   0.0  0.0   \n",
      "0  0.0  0.0   0.0   4.0  15.0  12.0   0.0  0.0  0.0   0.0  ...   5.0  0.0   \n",
      "0  0.0  0.0   7.0  15.0  13.0   1.0   0.0  0.0  0.0   8.0  ...   9.0  0.0   \n",
      "0  0.0  0.0   0.0   1.0  11.0   0.0   0.0  0.0  0.0   0.0  ...   0.0  0.0   \n",
      "0  0.0  0.0  12.0  10.0   0.0   0.0   0.0  0.0  0.0   0.0  ...   4.0  0.0   \n",
      "0  0.0  0.0   0.0  12.0  13.0   0.0   0.0  0.0  0.0   0.0  ...   8.0  0.0   \n",
      "0  0.0  0.0   7.0   8.0  13.0  16.0  15.0  1.0  0.0   0.0  ...   0.0  0.0   \n",
      "0  0.0  0.0   9.0  14.0   8.0   1.0   0.0  0.0  0.0   0.0  ...   8.0  0.0   \n",
      "0  0.0  0.0  11.0  12.0   0.0   0.0   0.0  0.0  0.0   2.0  ...   4.0  0.0   \n",
      "0  0.0  0.0   1.0   9.0  15.0  11.0   0.0  0.0  0.0   0.0  ...   0.0  0.0   \n",
      "0  0.0  0.0   0.0   0.0  14.0  13.0   1.0  0.0  0.0   0.0  ...   0.0  0.0   \n",
      "0  0.0  0.0   5.0  12.0   1.0   0.0   0.0  0.0  0.0   0.0  ...   8.0  2.0   \n",
      "0  0.0  2.0   9.0  15.0  14.0   9.0   3.0  0.0  0.0   4.0  ...   6.0  0.0   \n",
      "0  0.0  0.0   0.0   8.0  15.0   1.0   0.0  0.0  0.0   0.0  ...   0.0  0.0   \n",
      "0  0.0  5.0  12.0  13.0  16.0  16.0   2.0  0.0  0.0  11.0  ...   0.0  0.0   \n",
      "0  0.0  0.0   0.0   8.0  15.0   1.0   0.0  0.0  0.0   0.0  ...  16.0  2.0   \n",
      "0  0.0  0.0   1.0   8.0  15.0  10.0   0.0  0.0  0.0   3.0  ...   0.0  0.0   \n",
      "0  0.0  0.0  10.0   7.0  13.0   9.0   0.0  0.0  0.0   0.0  ...   0.0  0.0   \n",
      "0  0.0  0.0   6.0  14.0   4.0   0.0   0.0  0.0  0.0   0.0  ...  16.0  2.0   \n",
      "0  0.0  0.0   3.0  13.0  11.0   7.0   0.0  0.0  0.0   0.0  ...   1.0  0.0   \n",
      "0  0.0  0.0   0.0   2.0  16.0  16.0   2.0  0.0  0.0   0.0  ...   2.0  0.0   \n",
      "0  0.0  0.0   8.0  16.0   5.0   0.0   0.0  0.0  0.0   1.0  ...   3.0  0.0   \n",
      "0  0.0  1.0   8.0  12.0  15.0  14.0   4.0  0.0  0.0   3.0  ...   0.0  0.0   \n",
      "0  0.0  0.0   0.0   0.0  12.0   2.0   0.0  0.0  0.0   0.0  ...   0.0  0.0   \n",
      "0  0.0  0.0  12.0   8.0   8.0   7.0   0.0  0.0  0.0   3.0  ...   0.0  0.0   \n",
      "0  0.0  0.0   1.0  13.0  14.0   3.0   0.0  0.0  0.0   0.0  ...  12.0  0.0   \n",
      "0  0.0  0.0   0.0   8.0  14.0  14.0   2.0  0.0  0.0   0.0  ...   0.0  0.0   \n",
      "0  0.0  0.0  10.0  11.0   4.0   0.0   0.0  0.0  0.0   0.0  ...   0.0  0.0   \n",
      "0  0.0  0.0   9.0  13.0   7.0   0.0   0.0  0.0  0.0   0.0  ...  16.0  2.0   \n",
      "\n",
      "    56   57    58    59    60    61    62   63  \n",
      "0  0.0  0.0   6.0  13.0  10.0   0.0   0.0  0.0  \n",
      "0  0.0  0.0   0.0  11.0  16.0  10.0   0.0  0.0  \n",
      "0  0.0  0.0   0.0   3.0  11.0  16.0   9.0  0.0  \n",
      "0  0.0  0.0   7.0  13.0  13.0   9.0   0.0  0.0  \n",
      "0  0.0  0.0   0.0   2.0  16.0   4.0   0.0  0.0  \n",
      "0  0.0  0.0   9.0  16.0  16.0  10.0   0.0  0.0  \n",
      "0  0.0  0.0   1.0   9.0  15.0  11.0   3.0  0.0  \n",
      "0  0.0  0.0  13.0   5.0   0.0   0.0   0.0  0.0  \n",
      "0  0.0  0.0  11.0  16.0  15.0  11.0   1.0  0.0  \n",
      "0  0.0  0.0   9.0  12.0  13.0   3.0   0.0  0.0  \n",
      "0  0.0  0.0   1.0  10.0  13.0   3.0   0.0  0.0  \n",
      "0  0.0  0.0   0.0   1.0  13.0  16.0   1.0  0.0  \n",
      "0  0.0  0.0   3.0  11.0   8.0  13.0  12.0  4.0  \n",
      "0  0.0  2.0  12.0  12.0  13.0  11.0   0.0  0.0  \n",
      "0  0.0  0.0   0.0  10.0  15.0   4.0   0.0  0.0  \n",
      "0  0.0  4.0  15.0  16.0   2.0   0.0   0.0  0.0  \n",
      "0  0.0  0.0   0.0   7.0  15.0  16.0  11.0  0.0  \n",
      "0  0.0  0.0   0.0  11.0   9.0   0.0   0.0  0.0  \n",
      "0  0.0  0.0  11.0  14.0   5.0   0.0   0.0  0.0  \n",
      "0  0.0  0.0   7.0  16.0  16.0  13.0  11.0  1.0  \n",
      "0  0.0  0.0   2.0  12.0  13.0   4.0   0.0  0.0  \n",
      "0  0.0  0.0   0.0   2.0  12.0  15.0   4.0  0.0  \n",
      "0  0.0  0.0   7.0  12.0  12.0  12.0  13.0  1.0  \n",
      "0  0.0  0.0  14.0  15.0  11.0   2.0   0.0  0.0  \n",
      "0  0.0  0.0   0.0   0.0  12.0   8.0   0.0  0.0  \n",
      "0  0.0  0.0  11.0  14.0   9.0   0.0   0.0  0.0  \n",
      "0  0.0  0.0   3.0  12.0  15.0  14.0   7.0  0.0  \n",
      "0  0.0  0.0   0.0  12.0  13.0   1.0   0.0  0.0  \n",
      "0  0.0  0.0   8.0  14.0   7.0   1.0   0.0  0.0  \n",
      "0  0.0  0.0   7.0  12.0  12.0  12.0  11.0  0.0  \n",
      "\n",
      "[30 rows x 64 columns]\n",
      "    0    1     2     3     4     5     6    7    8     9   ...    54   55  \\\n",
      "0  0.0  0.0   5.0  13.0   9.0   1.0   0.0  0.0  0.0   0.0  ...   0.0  0.0   \n",
      "0  0.0  0.0   0.0  12.0  13.0   5.0   0.0  0.0  0.0   0.0  ...   0.0  0.0   \n",
      "0  0.0  0.0   0.0   4.0  15.0  12.0   0.0  0.0  0.0   0.0  ...   5.0  0.0   \n",
      "0  0.0  0.0   7.0  15.0  13.0   1.0   0.0  0.0  0.0   8.0  ...   9.0  0.0   \n",
      "0  0.0  0.0   0.0   1.0  11.0   0.0   0.0  0.0  0.0   0.0  ...   0.0  0.0   \n",
      "0  0.0  0.0  12.0  10.0   0.0   0.0   0.0  0.0  0.0   0.0  ...   4.0  0.0   \n",
      "0  0.0  0.0   0.0  12.0  13.0   0.0   0.0  0.0  0.0   0.0  ...   8.0  0.0   \n",
      "0  0.0  0.0   7.0   8.0  13.0  16.0  15.0  1.0  0.0   0.0  ...   0.0  0.0   \n",
      "0  0.0  0.0   9.0  14.0   8.0   1.0   0.0  0.0  0.0   0.0  ...   8.0  0.0   \n",
      "0  0.0  0.0  11.0  12.0   0.0   0.0   0.0  0.0  0.0   2.0  ...   4.0  0.0   \n",
      "0  0.0  0.0   1.0   9.0  15.0  11.0   0.0  0.0  0.0   0.0  ...   0.0  0.0   \n",
      "0  0.0  0.0   0.0   0.0  14.0  13.0   1.0  0.0  0.0   0.0  ...   0.0  0.0   \n",
      "0  0.0  0.0   5.0  12.0   1.0   0.0   0.0  0.0  0.0   0.0  ...   8.0  2.0   \n",
      "0  0.0  2.0   9.0  15.0  14.0   9.0   3.0  0.0  0.0   4.0  ...   6.0  0.0   \n",
      "0  0.0  0.0   0.0   8.0  15.0   1.0   0.0  0.0  0.0   0.0  ...   0.0  0.0   \n",
      "0  0.0  5.0  12.0  13.0  16.0  16.0   2.0  0.0  0.0  11.0  ...   0.0  0.0   \n",
      "0  0.0  0.0   0.0   8.0  15.0   1.0   0.0  0.0  0.0   0.0  ...  16.0  2.0   \n",
      "0  0.0  0.0   1.0   8.0  15.0  10.0   0.0  0.0  0.0   3.0  ...   0.0  0.0   \n",
      "0  0.0  0.0  10.0   7.0  13.0   9.0   0.0  0.0  0.0   0.0  ...   0.0  0.0   \n",
      "0  0.0  0.0   6.0  14.0   4.0   0.0   0.0  0.0  0.0   0.0  ...  16.0  2.0   \n",
      "0  0.0  0.0   3.0  13.0  11.0   7.0   0.0  0.0  0.0   0.0  ...   1.0  0.0   \n",
      "0  0.0  0.0   0.0   2.0  16.0  16.0   2.0  0.0  0.0   0.0  ...   2.0  0.0   \n",
      "0  0.0  0.0   8.0  16.0   5.0   0.0   0.0  0.0  0.0   1.0  ...   3.0  0.0   \n",
      "0  0.0  1.0   8.0  12.0  15.0  14.0   4.0  0.0  0.0   3.0  ...   0.0  0.0   \n",
      "0  0.0  0.0   0.0   0.0  12.0   2.0   0.0  0.0  0.0   0.0  ...   0.0  0.0   \n",
      "0  0.0  0.0  12.0   8.0   8.0   7.0   0.0  0.0  0.0   3.0  ...   0.0  0.0   \n",
      "0  0.0  0.0   1.0  13.0  14.0   3.0   0.0  0.0  0.0   0.0  ...  12.0  0.0   \n",
      "0  0.0  0.0   0.0   8.0  14.0  14.0   2.0  0.0  0.0   0.0  ...   0.0  0.0   \n",
      "0  0.0  0.0  10.0  11.0   4.0   0.0   0.0  0.0  0.0   0.0  ...   0.0  0.0   \n",
      "0  0.0  0.0   9.0  13.0   7.0   0.0   0.0  0.0  0.0   0.0  ...  16.0  2.0   \n",
      "0  0.0  0.0  10.0  14.0  11.0   3.0   0.0  0.0  0.0   4.0  ...   0.0  0.0   \n",
      "\n",
      "    56   57    58    59    60    61    62   63  \n",
      "0  0.0  0.0   6.0  13.0  10.0   0.0   0.0  0.0  \n",
      "0  0.0  0.0   0.0  11.0  16.0  10.0   0.0  0.0  \n",
      "0  0.0  0.0   0.0   3.0  11.0  16.0   9.0  0.0  \n",
      "0  0.0  0.0   7.0  13.0  13.0   9.0   0.0  0.0  \n",
      "0  0.0  0.0   0.0   2.0  16.0   4.0   0.0  0.0  \n",
      "0  0.0  0.0   9.0  16.0  16.0  10.0   0.0  0.0  \n",
      "0  0.0  0.0   1.0   9.0  15.0  11.0   3.0  0.0  \n",
      "0  0.0  0.0  13.0   5.0   0.0   0.0   0.0  0.0  \n",
      "0  0.0  0.0  11.0  16.0  15.0  11.0   1.0  0.0  \n",
      "0  0.0  0.0   9.0  12.0  13.0   3.0   0.0  0.0  \n",
      "0  0.0  0.0   1.0  10.0  13.0   3.0   0.0  0.0  \n",
      "0  0.0  0.0   0.0   1.0  13.0  16.0   1.0  0.0  \n",
      "0  0.0  0.0   3.0  11.0   8.0  13.0  12.0  4.0  \n",
      "0  0.0  2.0  12.0  12.0  13.0  11.0   0.0  0.0  \n",
      "0  0.0  0.0   0.0  10.0  15.0   4.0   0.0  0.0  \n",
      "0  0.0  4.0  15.0  16.0   2.0   0.0   0.0  0.0  \n",
      "0  0.0  0.0   0.0   7.0  15.0  16.0  11.0  0.0  \n",
      "0  0.0  0.0   0.0  11.0   9.0   0.0   0.0  0.0  \n",
      "0  0.0  0.0  11.0  14.0   5.0   0.0   0.0  0.0  \n",
      "0  0.0  0.0   7.0  16.0  16.0  13.0  11.0  1.0  \n",
      "0  0.0  0.0   2.0  12.0  13.0   4.0   0.0  0.0  \n",
      "0  0.0  0.0   0.0   2.0  12.0  15.0   4.0  0.0  \n",
      "0  0.0  0.0   7.0  12.0  12.0  12.0  13.0  1.0  \n",
      "0  0.0  0.0  14.0  15.0  11.0   2.0   0.0  0.0  \n",
      "0  0.0  0.0   0.0   0.0  12.0   8.0   0.0  0.0  \n",
      "0  0.0  0.0  11.0  14.0   9.0   0.0   0.0  0.0  \n",
      "0  0.0  0.0   3.0  12.0  15.0  14.0   7.0  0.0  \n",
      "0  0.0  0.0   0.0  12.0  13.0   1.0   0.0  0.0  \n",
      "0  0.0  0.0   8.0  14.0   7.0   1.0   0.0  0.0  \n",
      "0  0.0  0.0   7.0  12.0  12.0  12.0  11.0  0.0  \n",
      "0  0.0  0.0  11.0  16.0  12.0   3.0   0.0  0.0  \n",
      "\n",
      "[31 rows x 64 columns]\n",
      "    0    1     2     3     4     5     6    7    8     9   ...    54   55  \\\n",
      "0  0.0  0.0   5.0  13.0   9.0   1.0   0.0  0.0  0.0   0.0  ...   0.0  0.0   \n",
      "0  0.0  0.0   0.0  12.0  13.0   5.0   0.0  0.0  0.0   0.0  ...   0.0  0.0   \n",
      "0  0.0  0.0   0.0   4.0  15.0  12.0   0.0  0.0  0.0   0.0  ...   5.0  0.0   \n",
      "0  0.0  0.0   7.0  15.0  13.0   1.0   0.0  0.0  0.0   8.0  ...   9.0  0.0   \n",
      "0  0.0  0.0   0.0   1.0  11.0   0.0   0.0  0.0  0.0   0.0  ...   0.0  0.0   \n",
      "0  0.0  0.0  12.0  10.0   0.0   0.0   0.0  0.0  0.0   0.0  ...   4.0  0.0   \n",
      "0  0.0  0.0   0.0  12.0  13.0   0.0   0.0  0.0  0.0   0.0  ...   8.0  0.0   \n",
      "0  0.0  0.0   7.0   8.0  13.0  16.0  15.0  1.0  0.0   0.0  ...   0.0  0.0   \n",
      "0  0.0  0.0   9.0  14.0   8.0   1.0   0.0  0.0  0.0   0.0  ...   8.0  0.0   \n",
      "0  0.0  0.0  11.0  12.0   0.0   0.0   0.0  0.0  0.0   2.0  ...   4.0  0.0   \n",
      "0  0.0  0.0   1.0   9.0  15.0  11.0   0.0  0.0  0.0   0.0  ...   0.0  0.0   \n",
      "0  0.0  0.0   0.0   0.0  14.0  13.0   1.0  0.0  0.0   0.0  ...   0.0  0.0   \n",
      "0  0.0  0.0   5.0  12.0   1.0   0.0   0.0  0.0  0.0   0.0  ...   8.0  2.0   \n",
      "0  0.0  2.0   9.0  15.0  14.0   9.0   3.0  0.0  0.0   4.0  ...   6.0  0.0   \n",
      "0  0.0  0.0   0.0   8.0  15.0   1.0   0.0  0.0  0.0   0.0  ...   0.0  0.0   \n",
      "0  0.0  5.0  12.0  13.0  16.0  16.0   2.0  0.0  0.0  11.0  ...   0.0  0.0   \n",
      "0  0.0  0.0   0.0   8.0  15.0   1.0   0.0  0.0  0.0   0.0  ...  16.0  2.0   \n",
      "0  0.0  0.0   1.0   8.0  15.0  10.0   0.0  0.0  0.0   3.0  ...   0.0  0.0   \n",
      "0  0.0  0.0  10.0   7.0  13.0   9.0   0.0  0.0  0.0   0.0  ...   0.0  0.0   \n",
      "0  0.0  0.0   6.0  14.0   4.0   0.0   0.0  0.0  0.0   0.0  ...  16.0  2.0   \n",
      "0  0.0  0.0   3.0  13.0  11.0   7.0   0.0  0.0  0.0   0.0  ...   1.0  0.0   \n",
      "0  0.0  0.0   0.0   2.0  16.0  16.0   2.0  0.0  0.0   0.0  ...   2.0  0.0   \n",
      "0  0.0  0.0   8.0  16.0   5.0   0.0   0.0  0.0  0.0   1.0  ...   3.0  0.0   \n",
      "0  0.0  1.0   8.0  12.0  15.0  14.0   4.0  0.0  0.0   3.0  ...   0.0  0.0   \n",
      "0  0.0  0.0   0.0   0.0  12.0   2.0   0.0  0.0  0.0   0.0  ...   0.0  0.0   \n",
      "0  0.0  0.0  12.0   8.0   8.0   7.0   0.0  0.0  0.0   3.0  ...   0.0  0.0   \n",
      "0  0.0  0.0   1.0  13.0  14.0   3.0   0.0  0.0  0.0   0.0  ...  12.0  0.0   \n",
      "0  0.0  0.0   0.0   8.0  14.0  14.0   2.0  0.0  0.0   0.0  ...   0.0  0.0   \n",
      "0  0.0  0.0  10.0  11.0   4.0   0.0   0.0  0.0  0.0   0.0  ...   0.0  0.0   \n",
      "0  0.0  0.0   9.0  13.0   7.0   0.0   0.0  0.0  0.0   0.0  ...  16.0  2.0   \n",
      "0  0.0  0.0  10.0  14.0  11.0   3.0   0.0  0.0  0.0   4.0  ...   0.0  0.0   \n",
      "0  0.0  0.0   2.0  13.0   8.0   0.0   0.0  0.0  0.0   0.0  ...  16.0  2.0   \n",
      "\n",
      "    56   57    58    59    60    61    62   63  \n",
      "0  0.0  0.0   6.0  13.0  10.0   0.0   0.0  0.0  \n",
      "0  0.0  0.0   0.0  11.0  16.0  10.0   0.0  0.0  \n",
      "0  0.0  0.0   0.0   3.0  11.0  16.0   9.0  0.0  \n",
      "0  0.0  0.0   7.0  13.0  13.0   9.0   0.0  0.0  \n",
      "0  0.0  0.0   0.0   2.0  16.0   4.0   0.0  0.0  \n",
      "0  0.0  0.0   9.0  16.0  16.0  10.0   0.0  0.0  \n",
      "0  0.0  0.0   1.0   9.0  15.0  11.0   3.0  0.0  \n",
      "0  0.0  0.0  13.0   5.0   0.0   0.0   0.0  0.0  \n",
      "0  0.0  0.0  11.0  16.0  15.0  11.0   1.0  0.0  \n",
      "0  0.0  0.0   9.0  12.0  13.0   3.0   0.0  0.0  \n",
      "0  0.0  0.0   1.0  10.0  13.0   3.0   0.0  0.0  \n",
      "0  0.0  0.0   0.0   1.0  13.0  16.0   1.0  0.0  \n",
      "0  0.0  0.0   3.0  11.0   8.0  13.0  12.0  4.0  \n",
      "0  0.0  2.0  12.0  12.0  13.0  11.0   0.0  0.0  \n",
      "0  0.0  0.0   0.0  10.0  15.0   4.0   0.0  0.0  \n",
      "0  0.0  4.0  15.0  16.0   2.0   0.0   0.0  0.0  \n",
      "0  0.0  0.0   0.0   7.0  15.0  16.0  11.0  0.0  \n",
      "0  0.0  0.0   0.0  11.0   9.0   0.0   0.0  0.0  \n",
      "0  0.0  0.0  11.0  14.0   5.0   0.0   0.0  0.0  \n",
      "0  0.0  0.0   7.0  16.0  16.0  13.0  11.0  1.0  \n",
      "0  0.0  0.0   2.0  12.0  13.0   4.0   0.0  0.0  \n",
      "0  0.0  0.0   0.0   2.0  12.0  15.0   4.0  0.0  \n",
      "0  0.0  0.0   7.0  12.0  12.0  12.0  13.0  1.0  \n",
      "0  0.0  0.0  14.0  15.0  11.0   2.0   0.0  0.0  \n",
      "0  0.0  0.0   0.0   0.0  12.0   8.0   0.0  0.0  \n",
      "0  0.0  0.0  11.0  14.0   9.0   0.0   0.0  0.0  \n",
      "0  0.0  0.0   3.0  12.0  15.0  14.0   7.0  0.0  \n",
      "0  0.0  0.0   0.0  12.0  13.0   1.0   0.0  0.0  \n",
      "0  0.0  0.0   8.0  14.0   7.0   1.0   0.0  0.0  \n",
      "0  0.0  0.0   7.0  12.0  12.0  12.0  11.0  0.0  \n",
      "0  0.0  0.0  11.0  16.0  12.0   3.0   0.0  0.0  \n",
      "0  0.0  0.0   2.0  15.0  13.0  14.0  13.0  2.0  \n",
      "\n",
      "[32 rows x 64 columns]\n",
      "    0    1     2     3     4     5     6    7    8     9   ...    54   55  \\\n",
      "0  0.0  0.0   5.0  13.0   9.0   1.0   0.0  0.0  0.0   0.0  ...   0.0  0.0   \n",
      "0  0.0  0.0   0.0  12.0  13.0   5.0   0.0  0.0  0.0   0.0  ...   0.0  0.0   \n",
      "0  0.0  0.0   0.0   4.0  15.0  12.0   0.0  0.0  0.0   0.0  ...   5.0  0.0   \n",
      "0  0.0  0.0   7.0  15.0  13.0   1.0   0.0  0.0  0.0   8.0  ...   9.0  0.0   \n",
      "0  0.0  0.0   0.0   1.0  11.0   0.0   0.0  0.0  0.0   0.0  ...   0.0  0.0   \n",
      "0  0.0  0.0  12.0  10.0   0.0   0.0   0.0  0.0  0.0   0.0  ...   4.0  0.0   \n",
      "0  0.0  0.0   0.0  12.0  13.0   0.0   0.0  0.0  0.0   0.0  ...   8.0  0.0   \n",
      "0  0.0  0.0   7.0   8.0  13.0  16.0  15.0  1.0  0.0   0.0  ...   0.0  0.0   \n",
      "0  0.0  0.0   9.0  14.0   8.0   1.0   0.0  0.0  0.0   0.0  ...   8.0  0.0   \n",
      "0  0.0  0.0  11.0  12.0   0.0   0.0   0.0  0.0  0.0   2.0  ...   4.0  0.0   \n",
      "0  0.0  0.0   1.0   9.0  15.0  11.0   0.0  0.0  0.0   0.0  ...   0.0  0.0   \n",
      "0  0.0  0.0   0.0   0.0  14.0  13.0   1.0  0.0  0.0   0.0  ...   0.0  0.0   \n",
      "0  0.0  0.0   5.0  12.0   1.0   0.0   0.0  0.0  0.0   0.0  ...   8.0  2.0   \n",
      "0  0.0  2.0   9.0  15.0  14.0   9.0   3.0  0.0  0.0   4.0  ...   6.0  0.0   \n",
      "0  0.0  0.0   0.0   8.0  15.0   1.0   0.0  0.0  0.0   0.0  ...   0.0  0.0   \n",
      "0  0.0  5.0  12.0  13.0  16.0  16.0   2.0  0.0  0.0  11.0  ...   0.0  0.0   \n",
      "0  0.0  0.0   0.0   8.0  15.0   1.0   0.0  0.0  0.0   0.0  ...  16.0  2.0   \n",
      "0  0.0  0.0   1.0   8.0  15.0  10.0   0.0  0.0  0.0   3.0  ...   0.0  0.0   \n",
      "0  0.0  0.0  10.0   7.0  13.0   9.0   0.0  0.0  0.0   0.0  ...   0.0  0.0   \n",
      "0  0.0  0.0   6.0  14.0   4.0   0.0   0.0  0.0  0.0   0.0  ...  16.0  2.0   \n",
      "0  0.0  0.0   3.0  13.0  11.0   7.0   0.0  0.0  0.0   0.0  ...   1.0  0.0   \n",
      "0  0.0  0.0   0.0   2.0  16.0  16.0   2.0  0.0  0.0   0.0  ...   2.0  0.0   \n",
      "0  0.0  0.0   8.0  16.0   5.0   0.0   0.0  0.0  0.0   1.0  ...   3.0  0.0   \n",
      "0  0.0  1.0   8.0  12.0  15.0  14.0   4.0  0.0  0.0   3.0  ...   0.0  0.0   \n",
      "0  0.0  0.0   0.0   0.0  12.0   2.0   0.0  0.0  0.0   0.0  ...   0.0  0.0   \n",
      "0  0.0  0.0  12.0   8.0   8.0   7.0   0.0  0.0  0.0   3.0  ...   0.0  0.0   \n",
      "0  0.0  0.0   1.0  13.0  14.0   3.0   0.0  0.0  0.0   0.0  ...  12.0  0.0   \n",
      "0  0.0  0.0   0.0   8.0  14.0  14.0   2.0  0.0  0.0   0.0  ...   0.0  0.0   \n",
      "0  0.0  0.0  10.0  11.0   4.0   0.0   0.0  0.0  0.0   0.0  ...   0.0  0.0   \n",
      "0  0.0  0.0   9.0  13.0   7.0   0.0   0.0  0.0  0.0   0.0  ...  16.0  2.0   \n",
      "0  0.0  0.0  10.0  14.0  11.0   3.0   0.0  0.0  0.0   4.0  ...   0.0  0.0   \n",
      "0  0.0  0.0   2.0  13.0   8.0   0.0   0.0  0.0  0.0   0.0  ...  16.0  2.0   \n",
      "0  0.0  2.0  13.0  16.0  16.0  16.0  11.0  0.0  0.0   5.0  ...   0.0  0.0   \n",
      "\n",
      "    56   57    58    59    60    61    62   63  \n",
      "0  0.0  0.0   6.0  13.0  10.0   0.0   0.0  0.0  \n",
      "0  0.0  0.0   0.0  11.0  16.0  10.0   0.0  0.0  \n",
      "0  0.0  0.0   0.0   3.0  11.0  16.0   9.0  0.0  \n",
      "0  0.0  0.0   7.0  13.0  13.0   9.0   0.0  0.0  \n",
      "0  0.0  0.0   0.0   2.0  16.0   4.0   0.0  0.0  \n",
      "0  0.0  0.0   9.0  16.0  16.0  10.0   0.0  0.0  \n",
      "0  0.0  0.0   1.0   9.0  15.0  11.0   3.0  0.0  \n",
      "0  0.0  0.0  13.0   5.0   0.0   0.0   0.0  0.0  \n",
      "0  0.0  0.0  11.0  16.0  15.0  11.0   1.0  0.0  \n",
      "0  0.0  0.0   9.0  12.0  13.0   3.0   0.0  0.0  \n",
      "0  0.0  0.0   1.0  10.0  13.0   3.0   0.0  0.0  \n",
      "0  0.0  0.0   0.0   1.0  13.0  16.0   1.0  0.0  \n",
      "0  0.0  0.0   3.0  11.0   8.0  13.0  12.0  4.0  \n",
      "0  0.0  2.0  12.0  12.0  13.0  11.0   0.0  0.0  \n",
      "0  0.0  0.0   0.0  10.0  15.0   4.0   0.0  0.0  \n",
      "0  0.0  4.0  15.0  16.0   2.0   0.0   0.0  0.0  \n",
      "0  0.0  0.0   0.0   7.0  15.0  16.0  11.0  0.0  \n",
      "0  0.0  0.0   0.0  11.0   9.0   0.0   0.0  0.0  \n",
      "0  0.0  0.0  11.0  14.0   5.0   0.0   0.0  0.0  \n",
      "0  0.0  0.0   7.0  16.0  16.0  13.0  11.0  1.0  \n",
      "0  0.0  0.0   2.0  12.0  13.0   4.0   0.0  0.0  \n",
      "0  0.0  0.0   0.0   2.0  12.0  15.0   4.0  0.0  \n",
      "0  0.0  0.0   7.0  12.0  12.0  12.0  13.0  1.0  \n",
      "0  0.0  0.0  14.0  15.0  11.0   2.0   0.0  0.0  \n",
      "0  0.0  0.0   0.0   0.0  12.0   8.0   0.0  0.0  \n",
      "0  0.0  0.0  11.0  14.0   9.0   0.0   0.0  0.0  \n",
      "0  0.0  0.0   3.0  12.0  15.0  14.0   7.0  0.0  \n",
      "0  0.0  0.0   0.0  12.0  13.0   1.0   0.0  0.0  \n",
      "0  0.0  0.0   8.0  14.0   7.0   1.0   0.0  0.0  \n",
      "0  0.0  0.0   7.0  12.0  12.0  12.0  11.0  0.0  \n",
      "0  0.0  0.0  11.0  16.0  12.0   3.0   0.0  0.0  \n",
      "0  0.0  0.0   2.0  15.0  13.0  14.0  13.0  2.0  \n",
      "0  0.0  2.0  16.0  15.0   8.0   0.0   0.0  0.0  \n",
      "\n",
      "[33 rows x 64 columns]\n",
      "    0    1     2     3     4     5     6    7    8     9   ...    54   55  \\\n",
      "0  0.0  0.0   5.0  13.0   9.0   1.0   0.0  0.0  0.0   0.0  ...   0.0  0.0   \n",
      "0  0.0  0.0   0.0  12.0  13.0   5.0   0.0  0.0  0.0   0.0  ...   0.0  0.0   \n",
      "0  0.0  0.0   0.0   4.0  15.0  12.0   0.0  0.0  0.0   0.0  ...   5.0  0.0   \n",
      "0  0.0  0.0   7.0  15.0  13.0   1.0   0.0  0.0  0.0   8.0  ...   9.0  0.0   \n",
      "0  0.0  0.0   0.0   1.0  11.0   0.0   0.0  0.0  0.0   0.0  ...   0.0  0.0   \n",
      "0  0.0  0.0  12.0  10.0   0.0   0.0   0.0  0.0  0.0   0.0  ...   4.0  0.0   \n",
      "0  0.0  0.0   0.0  12.0  13.0   0.0   0.0  0.0  0.0   0.0  ...   8.0  0.0   \n",
      "0  0.0  0.0   7.0   8.0  13.0  16.0  15.0  1.0  0.0   0.0  ...   0.0  0.0   \n",
      "0  0.0  0.0   9.0  14.0   8.0   1.0   0.0  0.0  0.0   0.0  ...   8.0  0.0   \n",
      "0  0.0  0.0  11.0  12.0   0.0   0.0   0.0  0.0  0.0   2.0  ...   4.0  0.0   \n",
      "0  0.0  0.0   1.0   9.0  15.0  11.0   0.0  0.0  0.0   0.0  ...   0.0  0.0   \n",
      "0  0.0  0.0   0.0   0.0  14.0  13.0   1.0  0.0  0.0   0.0  ...   0.0  0.0   \n",
      "0  0.0  0.0   5.0  12.0   1.0   0.0   0.0  0.0  0.0   0.0  ...   8.0  2.0   \n",
      "0  0.0  2.0   9.0  15.0  14.0   9.0   3.0  0.0  0.0   4.0  ...   6.0  0.0   \n",
      "0  0.0  0.0   0.0   8.0  15.0   1.0   0.0  0.0  0.0   0.0  ...   0.0  0.0   \n",
      "0  0.0  5.0  12.0  13.0  16.0  16.0   2.0  0.0  0.0  11.0  ...   0.0  0.0   \n",
      "0  0.0  0.0   0.0   8.0  15.0   1.0   0.0  0.0  0.0   0.0  ...  16.0  2.0   \n",
      "0  0.0  0.0   1.0   8.0  15.0  10.0   0.0  0.0  0.0   3.0  ...   0.0  0.0   \n",
      "0  0.0  0.0  10.0   7.0  13.0   9.0   0.0  0.0  0.0   0.0  ...   0.0  0.0   \n",
      "0  0.0  0.0   6.0  14.0   4.0   0.0   0.0  0.0  0.0   0.0  ...  16.0  2.0   \n",
      "0  0.0  0.0   3.0  13.0  11.0   7.0   0.0  0.0  0.0   0.0  ...   1.0  0.0   \n",
      "0  0.0  0.0   0.0   2.0  16.0  16.0   2.0  0.0  0.0   0.0  ...   2.0  0.0   \n",
      "0  0.0  0.0   8.0  16.0   5.0   0.0   0.0  0.0  0.0   1.0  ...   3.0  0.0   \n",
      "0  0.0  1.0   8.0  12.0  15.0  14.0   4.0  0.0  0.0   3.0  ...   0.0  0.0   \n",
      "0  0.0  0.0   0.0   0.0  12.0   2.0   0.0  0.0  0.0   0.0  ...   0.0  0.0   \n",
      "0  0.0  0.0  12.0   8.0   8.0   7.0   0.0  0.0  0.0   3.0  ...   0.0  0.0   \n",
      "0  0.0  0.0   1.0  13.0  14.0   3.0   0.0  0.0  0.0   0.0  ...  12.0  0.0   \n",
      "0  0.0  0.0   0.0   8.0  14.0  14.0   2.0  0.0  0.0   0.0  ...   0.0  0.0   \n",
      "0  0.0  0.0  10.0  11.0   4.0   0.0   0.0  0.0  0.0   0.0  ...   0.0  0.0   \n",
      "0  0.0  0.0   9.0  13.0   7.0   0.0   0.0  0.0  0.0   0.0  ...  16.0  2.0   \n",
      "0  0.0  0.0  10.0  14.0  11.0   3.0   0.0  0.0  0.0   4.0  ...   0.0  0.0   \n",
      "0  0.0  0.0   2.0  13.0   8.0   0.0   0.0  0.0  0.0   0.0  ...  16.0  2.0   \n",
      "0  0.0  2.0  13.0  16.0  16.0  16.0  11.0  0.0  0.0   5.0  ...   0.0  0.0   \n",
      "0  0.0  6.0  13.0   5.0   8.0   8.0   1.0  0.0  0.0   8.0  ...   0.0  0.0   \n",
      "\n",
      "    56   57    58    59    60    61    62   63  \n",
      "0  0.0  0.0   6.0  13.0  10.0   0.0   0.0  0.0  \n",
      "0  0.0  0.0   0.0  11.0  16.0  10.0   0.0  0.0  \n",
      "0  0.0  0.0   0.0   3.0  11.0  16.0   9.0  0.0  \n",
      "0  0.0  0.0   7.0  13.0  13.0   9.0   0.0  0.0  \n",
      "0  0.0  0.0   0.0   2.0  16.0   4.0   0.0  0.0  \n",
      "0  0.0  0.0   9.0  16.0  16.0  10.0   0.0  0.0  \n",
      "0  0.0  0.0   1.0   9.0  15.0  11.0   3.0  0.0  \n",
      "0  0.0  0.0  13.0   5.0   0.0   0.0   0.0  0.0  \n",
      "0  0.0  0.0  11.0  16.0  15.0  11.0   1.0  0.0  \n",
      "0  0.0  0.0   9.0  12.0  13.0   3.0   0.0  0.0  \n",
      "0  0.0  0.0   1.0  10.0  13.0   3.0   0.0  0.0  \n",
      "0  0.0  0.0   0.0   1.0  13.0  16.0   1.0  0.0  \n",
      "0  0.0  0.0   3.0  11.0   8.0  13.0  12.0  4.0  \n",
      "0  0.0  2.0  12.0  12.0  13.0  11.0   0.0  0.0  \n",
      "0  0.0  0.0   0.0  10.0  15.0   4.0   0.0  0.0  \n",
      "0  0.0  4.0  15.0  16.0   2.0   0.0   0.0  0.0  \n",
      "0  0.0  0.0   0.0   7.0  15.0  16.0  11.0  0.0  \n",
      "0  0.0  0.0   0.0  11.0   9.0   0.0   0.0  0.0  \n",
      "0  0.0  0.0  11.0  14.0   5.0   0.0   0.0  0.0  \n",
      "0  0.0  0.0   7.0  16.0  16.0  13.0  11.0  1.0  \n",
      "0  0.0  0.0   2.0  12.0  13.0   4.0   0.0  0.0  \n",
      "0  0.0  0.0   0.0   2.0  12.0  15.0   4.0  0.0  \n",
      "0  0.0  0.0   7.0  12.0  12.0  12.0  13.0  1.0  \n",
      "0  0.0  0.0  14.0  15.0  11.0   2.0   0.0  0.0  \n",
      "0  0.0  0.0   0.0   0.0  12.0   8.0   0.0  0.0  \n",
      "0  0.0  0.0  11.0  14.0   9.0   0.0   0.0  0.0  \n",
      "0  0.0  0.0   3.0  12.0  15.0  14.0   7.0  0.0  \n",
      "0  0.0  0.0   0.0  12.0  13.0   1.0   0.0  0.0  \n",
      "0  0.0  0.0   8.0  14.0   7.0   1.0   0.0  0.0  \n",
      "0  0.0  0.0   7.0  12.0  12.0  12.0  11.0  0.0  \n",
      "0  0.0  0.0  11.0  16.0  12.0   3.0   0.0  0.0  \n",
      "0  0.0  0.0   2.0  15.0  13.0  14.0  13.0  2.0  \n",
      "0  0.0  2.0  16.0  15.0   8.0   0.0   0.0  0.0  \n",
      "0  0.0  4.0  16.0  15.0   3.0   0.0   0.0  0.0  \n",
      "\n",
      "[34 rows x 64 columns]\n",
      "    0    1     2     3     4     5     6    7    8     9   ...    54   55  \\\n",
      "0  0.0  0.0   5.0  13.0   9.0   1.0   0.0  0.0  0.0   0.0  ...   0.0  0.0   \n",
      "0  0.0  0.0   0.0  12.0  13.0   5.0   0.0  0.0  0.0   0.0  ...   0.0  0.0   \n",
      "0  0.0  0.0   0.0   4.0  15.0  12.0   0.0  0.0  0.0   0.0  ...   5.0  0.0   \n",
      "0  0.0  0.0   7.0  15.0  13.0   1.0   0.0  0.0  0.0   8.0  ...   9.0  0.0   \n",
      "0  0.0  0.0   0.0   1.0  11.0   0.0   0.0  0.0  0.0   0.0  ...   0.0  0.0   \n",
      "0  0.0  0.0  12.0  10.0   0.0   0.0   0.0  0.0  0.0   0.0  ...   4.0  0.0   \n",
      "0  0.0  0.0   0.0  12.0  13.0   0.0   0.0  0.0  0.0   0.0  ...   8.0  0.0   \n",
      "0  0.0  0.0   7.0   8.0  13.0  16.0  15.0  1.0  0.0   0.0  ...   0.0  0.0   \n",
      "0  0.0  0.0   9.0  14.0   8.0   1.0   0.0  0.0  0.0   0.0  ...   8.0  0.0   \n",
      "0  0.0  0.0  11.0  12.0   0.0   0.0   0.0  0.0  0.0   2.0  ...   4.0  0.0   \n",
      "0  0.0  0.0   1.0   9.0  15.0  11.0   0.0  0.0  0.0   0.0  ...   0.0  0.0   \n",
      "0  0.0  0.0   0.0   0.0  14.0  13.0   1.0  0.0  0.0   0.0  ...   0.0  0.0   \n",
      "0  0.0  0.0   5.0  12.0   1.0   0.0   0.0  0.0  0.0   0.0  ...   8.0  2.0   \n",
      "0  0.0  2.0   9.0  15.0  14.0   9.0   3.0  0.0  0.0   4.0  ...   6.0  0.0   \n",
      "0  0.0  0.0   0.0   8.0  15.0   1.0   0.0  0.0  0.0   0.0  ...   0.0  0.0   \n",
      "0  0.0  5.0  12.0  13.0  16.0  16.0   2.0  0.0  0.0  11.0  ...   0.0  0.0   \n",
      "0  0.0  0.0   0.0   8.0  15.0   1.0   0.0  0.0  0.0   0.0  ...  16.0  2.0   \n",
      "0  0.0  0.0   1.0   8.0  15.0  10.0   0.0  0.0  0.0   3.0  ...   0.0  0.0   \n",
      "0  0.0  0.0  10.0   7.0  13.0   9.0   0.0  0.0  0.0   0.0  ...   0.0  0.0   \n",
      "0  0.0  0.0   6.0  14.0   4.0   0.0   0.0  0.0  0.0   0.0  ...  16.0  2.0   \n",
      "0  0.0  0.0   3.0  13.0  11.0   7.0   0.0  0.0  0.0   0.0  ...   1.0  0.0   \n",
      "0  0.0  0.0   0.0   2.0  16.0  16.0   2.0  0.0  0.0   0.0  ...   2.0  0.0   \n",
      "0  0.0  0.0   8.0  16.0   5.0   0.0   0.0  0.0  0.0   1.0  ...   3.0  0.0   \n",
      "0  0.0  1.0   8.0  12.0  15.0  14.0   4.0  0.0  0.0   3.0  ...   0.0  0.0   \n",
      "0  0.0  0.0   0.0   0.0  12.0   2.0   0.0  0.0  0.0   0.0  ...   0.0  0.0   \n",
      "0  0.0  0.0  12.0   8.0   8.0   7.0   0.0  0.0  0.0   3.0  ...   0.0  0.0   \n",
      "0  0.0  0.0   1.0  13.0  14.0   3.0   0.0  0.0  0.0   0.0  ...  12.0  0.0   \n",
      "0  0.0  0.0   0.0   8.0  14.0  14.0   2.0  0.0  0.0   0.0  ...   0.0  0.0   \n",
      "0  0.0  0.0  10.0  11.0   4.0   0.0   0.0  0.0  0.0   0.0  ...   0.0  0.0   \n",
      "0  0.0  0.0   9.0  13.0   7.0   0.0   0.0  0.0  0.0   0.0  ...  16.0  2.0   \n",
      "0  0.0  0.0  10.0  14.0  11.0   3.0   0.0  0.0  0.0   4.0  ...   0.0  0.0   \n",
      "0  0.0  0.0   2.0  13.0   8.0   0.0   0.0  0.0  0.0   0.0  ...  16.0  2.0   \n",
      "0  0.0  2.0  13.0  16.0  16.0  16.0  11.0  0.0  0.0   5.0  ...   0.0  0.0   \n",
      "0  0.0  6.0  13.0   5.0   8.0   8.0   1.0  0.0  0.0   8.0  ...   0.0  0.0   \n",
      "0  0.0  0.0   0.0   5.0  14.0   2.0   0.0  0.0  0.0   0.0  ...   9.0  0.0   \n",
      "\n",
      "    56   57    58    59    60    61    62   63  \n",
      "0  0.0  0.0   6.0  13.0  10.0   0.0   0.0  0.0  \n",
      "0  0.0  0.0   0.0  11.0  16.0  10.0   0.0  0.0  \n",
      "0  0.0  0.0   0.0   3.0  11.0  16.0   9.0  0.0  \n",
      "0  0.0  0.0   7.0  13.0  13.0   9.0   0.0  0.0  \n",
      "0  0.0  0.0   0.0   2.0  16.0   4.0   0.0  0.0  \n",
      "0  0.0  0.0   9.0  16.0  16.0  10.0   0.0  0.0  \n",
      "0  0.0  0.0   1.0   9.0  15.0  11.0   3.0  0.0  \n",
      "0  0.0  0.0  13.0   5.0   0.0   0.0   0.0  0.0  \n",
      "0  0.0  0.0  11.0  16.0  15.0  11.0   1.0  0.0  \n",
      "0  0.0  0.0   9.0  12.0  13.0   3.0   0.0  0.0  \n",
      "0  0.0  0.0   1.0  10.0  13.0   3.0   0.0  0.0  \n",
      "0  0.0  0.0   0.0   1.0  13.0  16.0   1.0  0.0  \n",
      "0  0.0  0.0   3.0  11.0   8.0  13.0  12.0  4.0  \n",
      "0  0.0  2.0  12.0  12.0  13.0  11.0   0.0  0.0  \n",
      "0  0.0  0.0   0.0  10.0  15.0   4.0   0.0  0.0  \n",
      "0  0.0  4.0  15.0  16.0   2.0   0.0   0.0  0.0  \n",
      "0  0.0  0.0   0.0   7.0  15.0  16.0  11.0  0.0  \n",
      "0  0.0  0.0   0.0  11.0   9.0   0.0   0.0  0.0  \n",
      "0  0.0  0.0  11.0  14.0   5.0   0.0   0.0  0.0  \n",
      "0  0.0  0.0   7.0  16.0  16.0  13.0  11.0  1.0  \n",
      "0  0.0  0.0   2.0  12.0  13.0   4.0   0.0  0.0  \n",
      "0  0.0  0.0   0.0   2.0  12.0  15.0   4.0  0.0  \n",
      "0  0.0  0.0   7.0  12.0  12.0  12.0  13.0  1.0  \n",
      "0  0.0  0.0  14.0  15.0  11.0   2.0   0.0  0.0  \n",
      "0  0.0  0.0   0.0   0.0  12.0   8.0   0.0  0.0  \n",
      "0  0.0  0.0  11.0  14.0   9.0   0.0   0.0  0.0  \n",
      "0  0.0  0.0   3.0  12.0  15.0  14.0   7.0  0.0  \n",
      "0  0.0  0.0   0.0  12.0  13.0   1.0   0.0  0.0  \n",
      "0  0.0  0.0   8.0  14.0   7.0   1.0   0.0  0.0  \n",
      "0  0.0  0.0   7.0  12.0  12.0  12.0  11.0  0.0  \n",
      "0  0.0  0.0  11.0  16.0  12.0   3.0   0.0  0.0  \n",
      "0  0.0  0.0   2.0  15.0  13.0  14.0  13.0  2.0  \n",
      "0  0.0  2.0  16.0  15.0   8.0   0.0   0.0  0.0  \n",
      "0  0.0  4.0  16.0  15.0   3.0   0.0   0.0  0.0  \n",
      "0  0.0  0.0   0.0   5.0  16.0  15.0   3.0  0.0  \n",
      "\n",
      "[35 rows x 64 columns]\n",
      "    0    1     2     3     4     5     6    7    8     9   ...    54   55  \\\n",
      "0  0.0  0.0   5.0  13.0   9.0   1.0   0.0  0.0  0.0   0.0  ...   0.0  0.0   \n",
      "0  0.0  0.0   0.0  12.0  13.0   5.0   0.0  0.0  0.0   0.0  ...   0.0  0.0   \n",
      "0  0.0  0.0   0.0   4.0  15.0  12.0   0.0  0.0  0.0   0.0  ...   5.0  0.0   \n",
      "0  0.0  0.0   7.0  15.0  13.0   1.0   0.0  0.0  0.0   8.0  ...   9.0  0.0   \n",
      "0  0.0  0.0   0.0   1.0  11.0   0.0   0.0  0.0  0.0   0.0  ...   0.0  0.0   \n",
      "0  0.0  0.0  12.0  10.0   0.0   0.0   0.0  0.0  0.0   0.0  ...   4.0  0.0   \n",
      "0  0.0  0.0   0.0  12.0  13.0   0.0   0.0  0.0  0.0   0.0  ...   8.0  0.0   \n",
      "0  0.0  0.0   7.0   8.0  13.0  16.0  15.0  1.0  0.0   0.0  ...   0.0  0.0   \n",
      "0  0.0  0.0   9.0  14.0   8.0   1.0   0.0  0.0  0.0   0.0  ...   8.0  0.0   \n",
      "0  0.0  0.0  11.0  12.0   0.0   0.0   0.0  0.0  0.0   2.0  ...   4.0  0.0   \n",
      "0  0.0  0.0   1.0   9.0  15.0  11.0   0.0  0.0  0.0   0.0  ...   0.0  0.0   \n",
      "0  0.0  0.0   0.0   0.0  14.0  13.0   1.0  0.0  0.0   0.0  ...   0.0  0.0   \n",
      "0  0.0  0.0   5.0  12.0   1.0   0.0   0.0  0.0  0.0   0.0  ...   8.0  2.0   \n",
      "0  0.0  2.0   9.0  15.0  14.0   9.0   3.0  0.0  0.0   4.0  ...   6.0  0.0   \n",
      "0  0.0  0.0   0.0   8.0  15.0   1.0   0.0  0.0  0.0   0.0  ...   0.0  0.0   \n",
      "0  0.0  5.0  12.0  13.0  16.0  16.0   2.0  0.0  0.0  11.0  ...   0.0  0.0   \n",
      "0  0.0  0.0   0.0   8.0  15.0   1.0   0.0  0.0  0.0   0.0  ...  16.0  2.0   \n",
      "0  0.0  0.0   1.0   8.0  15.0  10.0   0.0  0.0  0.0   3.0  ...   0.0  0.0   \n",
      "0  0.0  0.0  10.0   7.0  13.0   9.0   0.0  0.0  0.0   0.0  ...   0.0  0.0   \n",
      "0  0.0  0.0   6.0  14.0   4.0   0.0   0.0  0.0  0.0   0.0  ...  16.0  2.0   \n",
      "0  0.0  0.0   3.0  13.0  11.0   7.0   0.0  0.0  0.0   0.0  ...   1.0  0.0   \n",
      "0  0.0  0.0   0.0   2.0  16.0  16.0   2.0  0.0  0.0   0.0  ...   2.0  0.0   \n",
      "0  0.0  0.0   8.0  16.0   5.0   0.0   0.0  0.0  0.0   1.0  ...   3.0  0.0   \n",
      "0  0.0  1.0   8.0  12.0  15.0  14.0   4.0  0.0  0.0   3.0  ...   0.0  0.0   \n",
      "0  0.0  0.0   0.0   0.0  12.0   2.0   0.0  0.0  0.0   0.0  ...   0.0  0.0   \n",
      "0  0.0  0.0  12.0   8.0   8.0   7.0   0.0  0.0  0.0   3.0  ...   0.0  0.0   \n",
      "0  0.0  0.0   1.0  13.0  14.0   3.0   0.0  0.0  0.0   0.0  ...  12.0  0.0   \n",
      "0  0.0  0.0   0.0   8.0  14.0  14.0   2.0  0.0  0.0   0.0  ...   0.0  0.0   \n",
      "0  0.0  0.0  10.0  11.0   4.0   0.0   0.0  0.0  0.0   0.0  ...   0.0  0.0   \n",
      "0  0.0  0.0   9.0  13.0   7.0   0.0   0.0  0.0  0.0   0.0  ...  16.0  2.0   \n",
      "0  0.0  0.0  10.0  14.0  11.0   3.0   0.0  0.0  0.0   4.0  ...   0.0  0.0   \n",
      "0  0.0  0.0   2.0  13.0   8.0   0.0   0.0  0.0  0.0   0.0  ...  16.0  2.0   \n",
      "0  0.0  2.0  13.0  16.0  16.0  16.0  11.0  0.0  0.0   5.0  ...   0.0  0.0   \n",
      "0  0.0  6.0  13.0   5.0   8.0   8.0   1.0  0.0  0.0   8.0  ...   0.0  0.0   \n",
      "0  0.0  0.0   0.0   5.0  14.0   2.0   0.0  0.0  0.0   0.0  ...   9.0  0.0   \n",
      "0  0.0  3.0  15.0   8.0   8.0   6.0   0.0  0.0  0.0   4.0  ...   0.0  0.0   \n",
      "\n",
      "    56   57    58    59    60    61    62   63  \n",
      "0  0.0  0.0   6.0  13.0  10.0   0.0   0.0  0.0  \n",
      "0  0.0  0.0   0.0  11.0  16.0  10.0   0.0  0.0  \n",
      "0  0.0  0.0   0.0   3.0  11.0  16.0   9.0  0.0  \n",
      "0  0.0  0.0   7.0  13.0  13.0   9.0   0.0  0.0  \n",
      "0  0.0  0.0   0.0   2.0  16.0   4.0   0.0  0.0  \n",
      "0  0.0  0.0   9.0  16.0  16.0  10.0   0.0  0.0  \n",
      "0  0.0  0.0   1.0   9.0  15.0  11.0   3.0  0.0  \n",
      "0  0.0  0.0  13.0   5.0   0.0   0.0   0.0  0.0  \n",
      "0  0.0  0.0  11.0  16.0  15.0  11.0   1.0  0.0  \n",
      "0  0.0  0.0   9.0  12.0  13.0   3.0   0.0  0.0  \n",
      "0  0.0  0.0   1.0  10.0  13.0   3.0   0.0  0.0  \n",
      "0  0.0  0.0   0.0   1.0  13.0  16.0   1.0  0.0  \n",
      "0  0.0  0.0   3.0  11.0   8.0  13.0  12.0  4.0  \n",
      "0  0.0  2.0  12.0  12.0  13.0  11.0   0.0  0.0  \n",
      "0  0.0  0.0   0.0  10.0  15.0   4.0   0.0  0.0  \n",
      "0  0.0  4.0  15.0  16.0   2.0   0.0   0.0  0.0  \n",
      "0  0.0  0.0   0.0   7.0  15.0  16.0  11.0  0.0  \n",
      "0  0.0  0.0   0.0  11.0   9.0   0.0   0.0  0.0  \n",
      "0  0.0  0.0  11.0  14.0   5.0   0.0   0.0  0.0  \n",
      "0  0.0  0.0   7.0  16.0  16.0  13.0  11.0  1.0  \n",
      "0  0.0  0.0   2.0  12.0  13.0   4.0   0.0  0.0  \n",
      "0  0.0  0.0   0.0   2.0  12.0  15.0   4.0  0.0  \n",
      "0  0.0  0.0   7.0  12.0  12.0  12.0  13.0  1.0  \n",
      "0  0.0  0.0  14.0  15.0  11.0   2.0   0.0  0.0  \n",
      "0  0.0  0.0   0.0   0.0  12.0   8.0   0.0  0.0  \n",
      "0  0.0  0.0  11.0  14.0   9.0   0.0   0.0  0.0  \n",
      "0  0.0  0.0   3.0  12.0  15.0  14.0   7.0  0.0  \n",
      "0  0.0  0.0   0.0  12.0  13.0   1.0   0.0  0.0  \n",
      "0  0.0  0.0   8.0  14.0   7.0   1.0   0.0  0.0  \n",
      "0  0.0  0.0   7.0  12.0  12.0  12.0  11.0  0.0  \n",
      "0  0.0  0.0  11.0  16.0  12.0   3.0   0.0  0.0  \n",
      "0  0.0  0.0   2.0  15.0  13.0  14.0  13.0  2.0  \n",
      "0  0.0  2.0  16.0  15.0   8.0   0.0   0.0  0.0  \n",
      "0  0.0  4.0  16.0  15.0   3.0   0.0   0.0  0.0  \n",
      "0  0.0  0.0   0.0   5.0  16.0  15.0   3.0  0.0  \n",
      "0  0.0  1.0  15.0  14.0   1.0   0.0   0.0  0.0  \n",
      "\n",
      "[36 rows x 64 columns]\n",
      "    0    1     2     3     4     5     6    7    8     9   ...    54   55  \\\n",
      "0  0.0  0.0   5.0  13.0   9.0   1.0   0.0  0.0  0.0   0.0  ...   0.0  0.0   \n",
      "0  0.0  0.0   0.0  12.0  13.0   5.0   0.0  0.0  0.0   0.0  ...   0.0  0.0   \n",
      "0  0.0  0.0   0.0   4.0  15.0  12.0   0.0  0.0  0.0   0.0  ...   5.0  0.0   \n",
      "0  0.0  0.0   7.0  15.0  13.0   1.0   0.0  0.0  0.0   8.0  ...   9.0  0.0   \n",
      "0  0.0  0.0   0.0   1.0  11.0   0.0   0.0  0.0  0.0   0.0  ...   0.0  0.0   \n",
      "0  0.0  0.0  12.0  10.0   0.0   0.0   0.0  0.0  0.0   0.0  ...   4.0  0.0   \n",
      "0  0.0  0.0   0.0  12.0  13.0   0.0   0.0  0.0  0.0   0.0  ...   8.0  0.0   \n",
      "0  0.0  0.0   7.0   8.0  13.0  16.0  15.0  1.0  0.0   0.0  ...   0.0  0.0   \n",
      "0  0.0  0.0   9.0  14.0   8.0   1.0   0.0  0.0  0.0   0.0  ...   8.0  0.0   \n",
      "0  0.0  0.0  11.0  12.0   0.0   0.0   0.0  0.0  0.0   2.0  ...   4.0  0.0   \n",
      "0  0.0  0.0   1.0   9.0  15.0  11.0   0.0  0.0  0.0   0.0  ...   0.0  0.0   \n",
      "0  0.0  0.0   0.0   0.0  14.0  13.0   1.0  0.0  0.0   0.0  ...   0.0  0.0   \n",
      "0  0.0  0.0   5.0  12.0   1.0   0.0   0.0  0.0  0.0   0.0  ...   8.0  2.0   \n",
      "0  0.0  2.0   9.0  15.0  14.0   9.0   3.0  0.0  0.0   4.0  ...   6.0  0.0   \n",
      "0  0.0  0.0   0.0   8.0  15.0   1.0   0.0  0.0  0.0   0.0  ...   0.0  0.0   \n",
      "0  0.0  5.0  12.0  13.0  16.0  16.0   2.0  0.0  0.0  11.0  ...   0.0  0.0   \n",
      "0  0.0  0.0   0.0   8.0  15.0   1.0   0.0  0.0  0.0   0.0  ...  16.0  2.0   \n",
      "0  0.0  0.0   1.0   8.0  15.0  10.0   0.0  0.0  0.0   3.0  ...   0.0  0.0   \n",
      "0  0.0  0.0  10.0   7.0  13.0   9.0   0.0  0.0  0.0   0.0  ...   0.0  0.0   \n",
      "0  0.0  0.0   6.0  14.0   4.0   0.0   0.0  0.0  0.0   0.0  ...  16.0  2.0   \n",
      "0  0.0  0.0   3.0  13.0  11.0   7.0   0.0  0.0  0.0   0.0  ...   1.0  0.0   \n",
      "0  0.0  0.0   0.0   2.0  16.0  16.0   2.0  0.0  0.0   0.0  ...   2.0  0.0   \n",
      "0  0.0  0.0   8.0  16.0   5.0   0.0   0.0  0.0  0.0   1.0  ...   3.0  0.0   \n",
      "0  0.0  1.0   8.0  12.0  15.0  14.0   4.0  0.0  0.0   3.0  ...   0.0  0.0   \n",
      "0  0.0  0.0   0.0   0.0  12.0   2.0   0.0  0.0  0.0   0.0  ...   0.0  0.0   \n",
      "0  0.0  0.0  12.0   8.0   8.0   7.0   0.0  0.0  0.0   3.0  ...   0.0  0.0   \n",
      "0  0.0  0.0   1.0  13.0  14.0   3.0   0.0  0.0  0.0   0.0  ...  12.0  0.0   \n",
      "0  0.0  0.0   0.0   8.0  14.0  14.0   2.0  0.0  0.0   0.0  ...   0.0  0.0   \n",
      "0  0.0  0.0  10.0  11.0   4.0   0.0   0.0  0.0  0.0   0.0  ...   0.0  0.0   \n",
      "0  0.0  0.0   9.0  13.0   7.0   0.0   0.0  0.0  0.0   0.0  ...  16.0  2.0   \n",
      "0  0.0  0.0  10.0  14.0  11.0   3.0   0.0  0.0  0.0   4.0  ...   0.0  0.0   \n",
      "0  0.0  0.0   2.0  13.0   8.0   0.0   0.0  0.0  0.0   0.0  ...  16.0  2.0   \n",
      "0  0.0  2.0  13.0  16.0  16.0  16.0  11.0  0.0  0.0   5.0  ...   0.0  0.0   \n",
      "0  0.0  6.0  13.0   5.0   8.0   8.0   1.0  0.0  0.0   8.0  ...   0.0  0.0   \n",
      "0  0.0  0.0   0.0   5.0  14.0   2.0   0.0  0.0  0.0   0.0  ...   9.0  0.0   \n",
      "0  0.0  3.0  15.0   8.0   8.0   6.0   0.0  0.0  0.0   4.0  ...   0.0  0.0   \n",
      "0  0.0  0.0   6.0  14.0  10.0   2.0   0.0  0.0  0.0   0.0  ...   0.0  0.0   \n",
      "\n",
      "    56   57    58    59    60    61    62   63  \n",
      "0  0.0  0.0   6.0  13.0  10.0   0.0   0.0  0.0  \n",
      "0  0.0  0.0   0.0  11.0  16.0  10.0   0.0  0.0  \n",
      "0  0.0  0.0   0.0   3.0  11.0  16.0   9.0  0.0  \n",
      "0  0.0  0.0   7.0  13.0  13.0   9.0   0.0  0.0  \n",
      "0  0.0  0.0   0.0   2.0  16.0   4.0   0.0  0.0  \n",
      "0  0.0  0.0   9.0  16.0  16.0  10.0   0.0  0.0  \n",
      "0  0.0  0.0   1.0   9.0  15.0  11.0   3.0  0.0  \n",
      "0  0.0  0.0  13.0   5.0   0.0   0.0   0.0  0.0  \n",
      "0  0.0  0.0  11.0  16.0  15.0  11.0   1.0  0.0  \n",
      "0  0.0  0.0   9.0  12.0  13.0   3.0   0.0  0.0  \n",
      "0  0.0  0.0   1.0  10.0  13.0   3.0   0.0  0.0  \n",
      "0  0.0  0.0   0.0   1.0  13.0  16.0   1.0  0.0  \n",
      "0  0.0  0.0   3.0  11.0   8.0  13.0  12.0  4.0  \n",
      "0  0.0  2.0  12.0  12.0  13.0  11.0   0.0  0.0  \n",
      "0  0.0  0.0   0.0  10.0  15.0   4.0   0.0  0.0  \n",
      "0  0.0  4.0  15.0  16.0   2.0   0.0   0.0  0.0  \n",
      "0  0.0  0.0   0.0   7.0  15.0  16.0  11.0  0.0  \n",
      "0  0.0  0.0   0.0  11.0   9.0   0.0   0.0  0.0  \n",
      "0  0.0  0.0  11.0  14.0   5.0   0.0   0.0  0.0  \n",
      "0  0.0  0.0   7.0  16.0  16.0  13.0  11.0  1.0  \n",
      "0  0.0  0.0   2.0  12.0  13.0   4.0   0.0  0.0  \n",
      "0  0.0  0.0   0.0   2.0  12.0  15.0   4.0  0.0  \n",
      "0  0.0  0.0   7.0  12.0  12.0  12.0  13.0  1.0  \n",
      "0  0.0  0.0  14.0  15.0  11.0   2.0   0.0  0.0  \n",
      "0  0.0  0.0   0.0   0.0  12.0   8.0   0.0  0.0  \n",
      "0  0.0  0.0  11.0  14.0   9.0   0.0   0.0  0.0  \n",
      "0  0.0  0.0   3.0  12.0  15.0  14.0   7.0  0.0  \n",
      "0  0.0  0.0   0.0  12.0  13.0   1.0   0.0  0.0  \n",
      "0  0.0  0.0   8.0  14.0   7.0   1.0   0.0  0.0  \n",
      "0  0.0  0.0   7.0  12.0  12.0  12.0  11.0  0.0  \n",
      "0  0.0  0.0  11.0  16.0  12.0   3.0   0.0  0.0  \n",
      "0  0.0  0.0   2.0  15.0  13.0  14.0  13.0  2.0  \n",
      "0  0.0  2.0  16.0  15.0   8.0   0.0   0.0  0.0  \n",
      "0  0.0  4.0  16.0  15.0   3.0   0.0   0.0  0.0  \n",
      "0  0.0  0.0   0.0   5.0  16.0  15.0   3.0  0.0  \n",
      "0  0.0  1.0  15.0  14.0   1.0   0.0   0.0  0.0  \n",
      "0  0.0  0.0   7.0  16.0  11.0   1.0   0.0  0.0  \n",
      "\n",
      "[37 rows x 64 columns]\n",
      "    0    1     2     3     4     5     6    7    8     9   ...    54   55  \\\n",
      "0  0.0  0.0   5.0  13.0   9.0   1.0   0.0  0.0  0.0   0.0  ...   0.0  0.0   \n",
      "0  0.0  0.0   0.0  12.0  13.0   5.0   0.0  0.0  0.0   0.0  ...   0.0  0.0   \n",
      "0  0.0  0.0   0.0   4.0  15.0  12.0   0.0  0.0  0.0   0.0  ...   5.0  0.0   \n",
      "0  0.0  0.0   7.0  15.0  13.0   1.0   0.0  0.0  0.0   8.0  ...   9.0  0.0   \n",
      "0  0.0  0.0   0.0   1.0  11.0   0.0   0.0  0.0  0.0   0.0  ...   0.0  0.0   \n",
      "0  0.0  0.0  12.0  10.0   0.0   0.0   0.0  0.0  0.0   0.0  ...   4.0  0.0   \n",
      "0  0.0  0.0   0.0  12.0  13.0   0.0   0.0  0.0  0.0   0.0  ...   8.0  0.0   \n",
      "0  0.0  0.0   7.0   8.0  13.0  16.0  15.0  1.0  0.0   0.0  ...   0.0  0.0   \n",
      "0  0.0  0.0   9.0  14.0   8.0   1.0   0.0  0.0  0.0   0.0  ...   8.0  0.0   \n",
      "0  0.0  0.0  11.0  12.0   0.0   0.0   0.0  0.0  0.0   2.0  ...   4.0  0.0   \n",
      "0  0.0  0.0   1.0   9.0  15.0  11.0   0.0  0.0  0.0   0.0  ...   0.0  0.0   \n",
      "0  0.0  0.0   0.0   0.0  14.0  13.0   1.0  0.0  0.0   0.0  ...   0.0  0.0   \n",
      "0  0.0  0.0   5.0  12.0   1.0   0.0   0.0  0.0  0.0   0.0  ...   8.0  2.0   \n",
      "0  0.0  2.0   9.0  15.0  14.0   9.0   3.0  0.0  0.0   4.0  ...   6.0  0.0   \n",
      "0  0.0  0.0   0.0   8.0  15.0   1.0   0.0  0.0  0.0   0.0  ...   0.0  0.0   \n",
      "0  0.0  5.0  12.0  13.0  16.0  16.0   2.0  0.0  0.0  11.0  ...   0.0  0.0   \n",
      "0  0.0  0.0   0.0   8.0  15.0   1.0   0.0  0.0  0.0   0.0  ...  16.0  2.0   \n",
      "0  0.0  0.0   1.0   8.0  15.0  10.0   0.0  0.0  0.0   3.0  ...   0.0  0.0   \n",
      "0  0.0  0.0  10.0   7.0  13.0   9.0   0.0  0.0  0.0   0.0  ...   0.0  0.0   \n",
      "0  0.0  0.0   6.0  14.0   4.0   0.0   0.0  0.0  0.0   0.0  ...  16.0  2.0   \n",
      "0  0.0  0.0   3.0  13.0  11.0   7.0   0.0  0.0  0.0   0.0  ...   1.0  0.0   \n",
      "0  0.0  0.0   0.0   2.0  16.0  16.0   2.0  0.0  0.0   0.0  ...   2.0  0.0   \n",
      "0  0.0  0.0   8.0  16.0   5.0   0.0   0.0  0.0  0.0   1.0  ...   3.0  0.0   \n",
      "0  0.0  1.0   8.0  12.0  15.0  14.0   4.0  0.0  0.0   3.0  ...   0.0  0.0   \n",
      "0  0.0  0.0   0.0   0.0  12.0   2.0   0.0  0.0  0.0   0.0  ...   0.0  0.0   \n",
      "0  0.0  0.0  12.0   8.0   8.0   7.0   0.0  0.0  0.0   3.0  ...   0.0  0.0   \n",
      "0  0.0  0.0   1.0  13.0  14.0   3.0   0.0  0.0  0.0   0.0  ...  12.0  0.0   \n",
      "0  0.0  0.0   0.0   8.0  14.0  14.0   2.0  0.0  0.0   0.0  ...   0.0  0.0   \n",
      "0  0.0  0.0  10.0  11.0   4.0   0.0   0.0  0.0  0.0   0.0  ...   0.0  0.0   \n",
      "0  0.0  0.0   9.0  13.0   7.0   0.0   0.0  0.0  0.0   0.0  ...  16.0  2.0   \n",
      "0  0.0  0.0  10.0  14.0  11.0   3.0   0.0  0.0  0.0   4.0  ...   0.0  0.0   \n",
      "0  0.0  0.0   2.0  13.0   8.0   0.0   0.0  0.0  0.0   0.0  ...  16.0  2.0   \n",
      "0  0.0  2.0  13.0  16.0  16.0  16.0  11.0  0.0  0.0   5.0  ...   0.0  0.0   \n",
      "0  0.0  6.0  13.0   5.0   8.0   8.0   1.0  0.0  0.0   8.0  ...   0.0  0.0   \n",
      "0  0.0  0.0   0.0   5.0  14.0   2.0   0.0  0.0  0.0   0.0  ...   9.0  0.0   \n",
      "0  0.0  3.0  15.0   8.0   8.0   6.0   0.0  0.0  0.0   4.0  ...   0.0  0.0   \n",
      "0  0.0  0.0   6.0  14.0  10.0   2.0   0.0  0.0  0.0   0.0  ...   0.0  0.0   \n",
      "0  0.0  0.0  13.0  10.0   1.0   0.0   0.0  0.0  0.0   5.0  ...  14.0  0.0   \n",
      "\n",
      "    56   57    58    59    60    61    62   63  \n",
      "0  0.0  0.0   6.0  13.0  10.0   0.0   0.0  0.0  \n",
      "0  0.0  0.0   0.0  11.0  16.0  10.0   0.0  0.0  \n",
      "0  0.0  0.0   0.0   3.0  11.0  16.0   9.0  0.0  \n",
      "0  0.0  0.0   7.0  13.0  13.0   9.0   0.0  0.0  \n",
      "0  0.0  0.0   0.0   2.0  16.0   4.0   0.0  0.0  \n",
      "0  0.0  0.0   9.0  16.0  16.0  10.0   0.0  0.0  \n",
      "0  0.0  0.0   1.0   9.0  15.0  11.0   3.0  0.0  \n",
      "0  0.0  0.0  13.0   5.0   0.0   0.0   0.0  0.0  \n",
      "0  0.0  0.0  11.0  16.0  15.0  11.0   1.0  0.0  \n",
      "0  0.0  0.0   9.0  12.0  13.0   3.0   0.0  0.0  \n",
      "0  0.0  0.0   1.0  10.0  13.0   3.0   0.0  0.0  \n",
      "0  0.0  0.0   0.0   1.0  13.0  16.0   1.0  0.0  \n",
      "0  0.0  0.0   3.0  11.0   8.0  13.0  12.0  4.0  \n",
      "0  0.0  2.0  12.0  12.0  13.0  11.0   0.0  0.0  \n",
      "0  0.0  0.0   0.0  10.0  15.0   4.0   0.0  0.0  \n",
      "0  0.0  4.0  15.0  16.0   2.0   0.0   0.0  0.0  \n",
      "0  0.0  0.0   0.0   7.0  15.0  16.0  11.0  0.0  \n",
      "0  0.0  0.0   0.0  11.0   9.0   0.0   0.0  0.0  \n",
      "0  0.0  0.0  11.0  14.0   5.0   0.0   0.0  0.0  \n",
      "0  0.0  0.0   7.0  16.0  16.0  13.0  11.0  1.0  \n",
      "0  0.0  0.0   2.0  12.0  13.0   4.0   0.0  0.0  \n",
      "0  0.0  0.0   0.0   2.0  12.0  15.0   4.0  0.0  \n",
      "0  0.0  0.0   7.0  12.0  12.0  12.0  13.0  1.0  \n",
      "0  0.0  0.0  14.0  15.0  11.0   2.0   0.0  0.0  \n",
      "0  0.0  0.0   0.0   0.0  12.0   8.0   0.0  0.0  \n",
      "0  0.0  0.0  11.0  14.0   9.0   0.0   0.0  0.0  \n",
      "0  0.0  0.0   3.0  12.0  15.0  14.0   7.0  0.0  \n",
      "0  0.0  0.0   0.0  12.0  13.0   1.0   0.0  0.0  \n",
      "0  0.0  0.0   8.0  14.0   7.0   1.0   0.0  0.0  \n",
      "0  0.0  0.0   7.0  12.0  12.0  12.0  11.0  0.0  \n",
      "0  0.0  0.0  11.0  16.0  12.0   3.0   0.0  0.0  \n",
      "0  0.0  0.0   2.0  15.0  13.0  14.0  13.0  2.0  \n",
      "0  0.0  2.0  16.0  15.0   8.0   0.0   0.0  0.0  \n",
      "0  0.0  4.0  16.0  15.0   3.0   0.0   0.0  0.0  \n",
      "0  0.0  0.0   0.0   5.0  16.0  15.0   3.0  0.0  \n",
      "0  0.0  1.0  15.0  14.0   1.0   0.0   0.0  0.0  \n",
      "0  0.0  0.0   7.0  16.0  11.0   1.0   0.0  0.0  \n",
      "0  0.0  0.0  13.0  13.0  15.0  16.0  13.0  0.0  \n",
      "\n",
      "[38 rows x 64 columns]\n",
      "    0    1     2     3     4     5     6    7    8     9   ...    54   55  \\\n",
      "0  0.0  0.0   5.0  13.0   9.0   1.0   0.0  0.0  0.0   0.0  ...   0.0  0.0   \n",
      "0  0.0  0.0   0.0  12.0  13.0   5.0   0.0  0.0  0.0   0.0  ...   0.0  0.0   \n",
      "0  0.0  0.0   0.0   4.0  15.0  12.0   0.0  0.0  0.0   0.0  ...   5.0  0.0   \n",
      "0  0.0  0.0   7.0  15.0  13.0   1.0   0.0  0.0  0.0   8.0  ...   9.0  0.0   \n",
      "0  0.0  0.0   0.0   1.0  11.0   0.0   0.0  0.0  0.0   0.0  ...   0.0  0.0   \n",
      "0  0.0  0.0  12.0  10.0   0.0   0.0   0.0  0.0  0.0   0.0  ...   4.0  0.0   \n",
      "0  0.0  0.0   0.0  12.0  13.0   0.0   0.0  0.0  0.0   0.0  ...   8.0  0.0   \n",
      "0  0.0  0.0   7.0   8.0  13.0  16.0  15.0  1.0  0.0   0.0  ...   0.0  0.0   \n",
      "0  0.0  0.0   9.0  14.0   8.0   1.0   0.0  0.0  0.0   0.0  ...   8.0  0.0   \n",
      "0  0.0  0.0  11.0  12.0   0.0   0.0   0.0  0.0  0.0   2.0  ...   4.0  0.0   \n",
      "0  0.0  0.0   1.0   9.0  15.0  11.0   0.0  0.0  0.0   0.0  ...   0.0  0.0   \n",
      "0  0.0  0.0   0.0   0.0  14.0  13.0   1.0  0.0  0.0   0.0  ...   0.0  0.0   \n",
      "0  0.0  0.0   5.0  12.0   1.0   0.0   0.0  0.0  0.0   0.0  ...   8.0  2.0   \n",
      "0  0.0  2.0   9.0  15.0  14.0   9.0   3.0  0.0  0.0   4.0  ...   6.0  0.0   \n",
      "0  0.0  0.0   0.0   8.0  15.0   1.0   0.0  0.0  0.0   0.0  ...   0.0  0.0   \n",
      "0  0.0  5.0  12.0  13.0  16.0  16.0   2.0  0.0  0.0  11.0  ...   0.0  0.0   \n",
      "0  0.0  0.0   0.0   8.0  15.0   1.0   0.0  0.0  0.0   0.0  ...  16.0  2.0   \n",
      "0  0.0  0.0   1.0   8.0  15.0  10.0   0.0  0.0  0.0   3.0  ...   0.0  0.0   \n",
      "0  0.0  0.0  10.0   7.0  13.0   9.0   0.0  0.0  0.0   0.0  ...   0.0  0.0   \n",
      "0  0.0  0.0   6.0  14.0   4.0   0.0   0.0  0.0  0.0   0.0  ...  16.0  2.0   \n",
      "0  0.0  0.0   3.0  13.0  11.0   7.0   0.0  0.0  0.0   0.0  ...   1.0  0.0   \n",
      "0  0.0  0.0   0.0   2.0  16.0  16.0   2.0  0.0  0.0   0.0  ...   2.0  0.0   \n",
      "0  0.0  0.0   8.0  16.0   5.0   0.0   0.0  0.0  0.0   1.0  ...   3.0  0.0   \n",
      "0  0.0  1.0   8.0  12.0  15.0  14.0   4.0  0.0  0.0   3.0  ...   0.0  0.0   \n",
      "0  0.0  0.0   0.0   0.0  12.0   2.0   0.0  0.0  0.0   0.0  ...   0.0  0.0   \n",
      "0  0.0  0.0  12.0   8.0   8.0   7.0   0.0  0.0  0.0   3.0  ...   0.0  0.0   \n",
      "0  0.0  0.0   1.0  13.0  14.0   3.0   0.0  0.0  0.0   0.0  ...  12.0  0.0   \n",
      "0  0.0  0.0   0.0   8.0  14.0  14.0   2.0  0.0  0.0   0.0  ...   0.0  0.0   \n",
      "0  0.0  0.0  10.0  11.0   4.0   0.0   0.0  0.0  0.0   0.0  ...   0.0  0.0   \n",
      "0  0.0  0.0   9.0  13.0   7.0   0.0   0.0  0.0  0.0   0.0  ...  16.0  2.0   \n",
      "0  0.0  0.0  10.0  14.0  11.0   3.0   0.0  0.0  0.0   4.0  ...   0.0  0.0   \n",
      "0  0.0  0.0   2.0  13.0   8.0   0.0   0.0  0.0  0.0   0.0  ...  16.0  2.0   \n",
      "0  0.0  2.0  13.0  16.0  16.0  16.0  11.0  0.0  0.0   5.0  ...   0.0  0.0   \n",
      "0  0.0  6.0  13.0   5.0   8.0   8.0   1.0  0.0  0.0   8.0  ...   0.0  0.0   \n",
      "0  0.0  0.0   0.0   5.0  14.0   2.0   0.0  0.0  0.0   0.0  ...   9.0  0.0   \n",
      "0  0.0  3.0  15.0   8.0   8.0   6.0   0.0  0.0  0.0   4.0  ...   0.0  0.0   \n",
      "0  0.0  0.0   6.0  14.0  10.0   2.0   0.0  0.0  0.0   0.0  ...   0.0  0.0   \n",
      "0  0.0  0.0  13.0  10.0   1.0   0.0   0.0  0.0  0.0   5.0  ...  14.0  0.0   \n",
      "0  0.0  0.0   7.0   7.0  13.0  16.0   4.0  0.0  0.0   0.0  ...   0.0  0.0   \n",
      "\n",
      "    56   57    58    59    60    61    62   63  \n",
      "0  0.0  0.0   6.0  13.0  10.0   0.0   0.0  0.0  \n",
      "0  0.0  0.0   0.0  11.0  16.0  10.0   0.0  0.0  \n",
      "0  0.0  0.0   0.0   3.0  11.0  16.0   9.0  0.0  \n",
      "0  0.0  0.0   7.0  13.0  13.0   9.0   0.0  0.0  \n",
      "0  0.0  0.0   0.0   2.0  16.0   4.0   0.0  0.0  \n",
      "0  0.0  0.0   9.0  16.0  16.0  10.0   0.0  0.0  \n",
      "0  0.0  0.0   1.0   9.0  15.0  11.0   3.0  0.0  \n",
      "0  0.0  0.0  13.0   5.0   0.0   0.0   0.0  0.0  \n",
      "0  0.0  0.0  11.0  16.0  15.0  11.0   1.0  0.0  \n",
      "0  0.0  0.0   9.0  12.0  13.0   3.0   0.0  0.0  \n",
      "0  0.0  0.0   1.0  10.0  13.0   3.0   0.0  0.0  \n",
      "0  0.0  0.0   0.0   1.0  13.0  16.0   1.0  0.0  \n",
      "0  0.0  0.0   3.0  11.0   8.0  13.0  12.0  4.0  \n",
      "0  0.0  2.0  12.0  12.0  13.0  11.0   0.0  0.0  \n",
      "0  0.0  0.0   0.0  10.0  15.0   4.0   0.0  0.0  \n",
      "0  0.0  4.0  15.0  16.0   2.0   0.0   0.0  0.0  \n",
      "0  0.0  0.0   0.0   7.0  15.0  16.0  11.0  0.0  \n",
      "0  0.0  0.0   0.0  11.0   9.0   0.0   0.0  0.0  \n",
      "0  0.0  0.0  11.0  14.0   5.0   0.0   0.0  0.0  \n",
      "0  0.0  0.0   7.0  16.0  16.0  13.0  11.0  1.0  \n",
      "0  0.0  0.0   2.0  12.0  13.0   4.0   0.0  0.0  \n",
      "0  0.0  0.0   0.0   2.0  12.0  15.0   4.0  0.0  \n",
      "0  0.0  0.0   7.0  12.0  12.0  12.0  13.0  1.0  \n",
      "0  0.0  0.0  14.0  15.0  11.0   2.0   0.0  0.0  \n",
      "0  0.0  0.0   0.0   0.0  12.0   8.0   0.0  0.0  \n",
      "0  0.0  0.0  11.0  14.0   9.0   0.0   0.0  0.0  \n",
      "0  0.0  0.0   3.0  12.0  15.0  14.0   7.0  0.0  \n",
      "0  0.0  0.0   0.0  12.0  13.0   1.0   0.0  0.0  \n",
      "0  0.0  0.0   8.0  14.0   7.0   1.0   0.0  0.0  \n",
      "0  0.0  0.0   7.0  12.0  12.0  12.0  11.0  0.0  \n",
      "0  0.0  0.0  11.0  16.0  12.0   3.0   0.0  0.0  \n",
      "0  0.0  0.0   2.0  15.0  13.0  14.0  13.0  2.0  \n",
      "0  0.0  2.0  16.0  15.0   8.0   0.0   0.0  0.0  \n",
      "0  0.0  4.0  16.0  15.0   3.0   0.0   0.0  0.0  \n",
      "0  0.0  0.0   0.0   5.0  16.0  15.0   3.0  0.0  \n",
      "0  0.0  1.0  15.0  14.0   1.0   0.0   0.0  0.0  \n",
      "0  0.0  0.0   7.0  16.0  11.0   1.0   0.0  0.0  \n",
      "0  0.0  0.0  13.0  13.0  15.0  16.0  13.0  0.0  \n",
      "0  0.0  1.0  11.0  16.0   6.0   0.0   0.0  0.0  \n",
      "\n",
      "[39 rows x 64 columns]\n",
      "    0    1     2     3     4     5     6    7    8     9   ...    54   55  \\\n",
      "0  0.0  0.0   5.0  13.0   9.0   1.0   0.0  0.0  0.0   0.0  ...   0.0  0.0   \n",
      "0  0.0  0.0   0.0  12.0  13.0   5.0   0.0  0.0  0.0   0.0  ...   0.0  0.0   \n",
      "0  0.0  0.0   0.0   4.0  15.0  12.0   0.0  0.0  0.0   0.0  ...   5.0  0.0   \n",
      "0  0.0  0.0   7.0  15.0  13.0   1.0   0.0  0.0  0.0   8.0  ...   9.0  0.0   \n",
      "0  0.0  0.0   0.0   1.0  11.0   0.0   0.0  0.0  0.0   0.0  ...   0.0  0.0   \n",
      "0  0.0  0.0  12.0  10.0   0.0   0.0   0.0  0.0  0.0   0.0  ...   4.0  0.0   \n",
      "0  0.0  0.0   0.0  12.0  13.0   0.0   0.0  0.0  0.0   0.0  ...   8.0  0.0   \n",
      "0  0.0  0.0   7.0   8.0  13.0  16.0  15.0  1.0  0.0   0.0  ...   0.0  0.0   \n",
      "0  0.0  0.0   9.0  14.0   8.0   1.0   0.0  0.0  0.0   0.0  ...   8.0  0.0   \n",
      "0  0.0  0.0  11.0  12.0   0.0   0.0   0.0  0.0  0.0   2.0  ...   4.0  0.0   \n",
      "0  0.0  0.0   1.0   9.0  15.0  11.0   0.0  0.0  0.0   0.0  ...   0.0  0.0   \n",
      "0  0.0  0.0   0.0   0.0  14.0  13.0   1.0  0.0  0.0   0.0  ...   0.0  0.0   \n",
      "0  0.0  0.0   5.0  12.0   1.0   0.0   0.0  0.0  0.0   0.0  ...   8.0  2.0   \n",
      "0  0.0  2.0   9.0  15.0  14.0   9.0   3.0  0.0  0.0   4.0  ...   6.0  0.0   \n",
      "0  0.0  0.0   0.0   8.0  15.0   1.0   0.0  0.0  0.0   0.0  ...   0.0  0.0   \n",
      "0  0.0  5.0  12.0  13.0  16.0  16.0   2.0  0.0  0.0  11.0  ...   0.0  0.0   \n",
      "0  0.0  0.0   0.0   8.0  15.0   1.0   0.0  0.0  0.0   0.0  ...  16.0  2.0   \n",
      "0  0.0  0.0   1.0   8.0  15.0  10.0   0.0  0.0  0.0   3.0  ...   0.0  0.0   \n",
      "0  0.0  0.0  10.0   7.0  13.0   9.0   0.0  0.0  0.0   0.0  ...   0.0  0.0   \n",
      "0  0.0  0.0   6.0  14.0   4.0   0.0   0.0  0.0  0.0   0.0  ...  16.0  2.0   \n",
      "0  0.0  0.0   3.0  13.0  11.0   7.0   0.0  0.0  0.0   0.0  ...   1.0  0.0   \n",
      "0  0.0  0.0   0.0   2.0  16.0  16.0   2.0  0.0  0.0   0.0  ...   2.0  0.0   \n",
      "0  0.0  0.0   8.0  16.0   5.0   0.0   0.0  0.0  0.0   1.0  ...   3.0  0.0   \n",
      "0  0.0  1.0   8.0  12.0  15.0  14.0   4.0  0.0  0.0   3.0  ...   0.0  0.0   \n",
      "0  0.0  0.0   0.0   0.0  12.0   2.0   0.0  0.0  0.0   0.0  ...   0.0  0.0   \n",
      "0  0.0  0.0  12.0   8.0   8.0   7.0   0.0  0.0  0.0   3.0  ...   0.0  0.0   \n",
      "0  0.0  0.0   1.0  13.0  14.0   3.0   0.0  0.0  0.0   0.0  ...  12.0  0.0   \n",
      "0  0.0  0.0   0.0   8.0  14.0  14.0   2.0  0.0  0.0   0.0  ...   0.0  0.0   \n",
      "0  0.0  0.0  10.0  11.0   4.0   0.0   0.0  0.0  0.0   0.0  ...   0.0  0.0   \n",
      "0  0.0  0.0   9.0  13.0   7.0   0.0   0.0  0.0  0.0   0.0  ...  16.0  2.0   \n",
      "0  0.0  0.0  10.0  14.0  11.0   3.0   0.0  0.0  0.0   4.0  ...   0.0  0.0   \n",
      "0  0.0  0.0   2.0  13.0   8.0   0.0   0.0  0.0  0.0   0.0  ...  16.0  2.0   \n",
      "0  0.0  2.0  13.0  16.0  16.0  16.0  11.0  0.0  0.0   5.0  ...   0.0  0.0   \n",
      "0  0.0  6.0  13.0   5.0   8.0   8.0   1.0  0.0  0.0   8.0  ...   0.0  0.0   \n",
      "0  0.0  0.0   0.0   5.0  14.0   2.0   0.0  0.0  0.0   0.0  ...   9.0  0.0   \n",
      "0  0.0  3.0  15.0   8.0   8.0   6.0   0.0  0.0  0.0   4.0  ...   0.0  0.0   \n",
      "0  0.0  0.0   6.0  14.0  10.0   2.0   0.0  0.0  0.0   0.0  ...   0.0  0.0   \n",
      "0  0.0  0.0  13.0  10.0   1.0   0.0   0.0  0.0  0.0   5.0  ...  14.0  0.0   \n",
      "0  0.0  0.0   7.0   7.0  13.0  16.0   4.0  0.0  0.0   0.0  ...   0.0  0.0   \n",
      "0  0.0  1.0   9.0  16.0  13.0   7.0   0.0  0.0  0.0   7.0  ...   5.0  0.0   \n",
      "\n",
      "    56   57    58    59    60    61    62   63  \n",
      "0  0.0  0.0   6.0  13.0  10.0   0.0   0.0  0.0  \n",
      "0  0.0  0.0   0.0  11.0  16.0  10.0   0.0  0.0  \n",
      "0  0.0  0.0   0.0   3.0  11.0  16.0   9.0  0.0  \n",
      "0  0.0  0.0   7.0  13.0  13.0   9.0   0.0  0.0  \n",
      "0  0.0  0.0   0.0   2.0  16.0   4.0   0.0  0.0  \n",
      "0  0.0  0.0   9.0  16.0  16.0  10.0   0.0  0.0  \n",
      "0  0.0  0.0   1.0   9.0  15.0  11.0   3.0  0.0  \n",
      "0  0.0  0.0  13.0   5.0   0.0   0.0   0.0  0.0  \n",
      "0  0.0  0.0  11.0  16.0  15.0  11.0   1.0  0.0  \n",
      "0  0.0  0.0   9.0  12.0  13.0   3.0   0.0  0.0  \n",
      "0  0.0  0.0   1.0  10.0  13.0   3.0   0.0  0.0  \n",
      "0  0.0  0.0   0.0   1.0  13.0  16.0   1.0  0.0  \n",
      "0  0.0  0.0   3.0  11.0   8.0  13.0  12.0  4.0  \n",
      "0  0.0  2.0  12.0  12.0  13.0  11.0   0.0  0.0  \n",
      "0  0.0  0.0   0.0  10.0  15.0   4.0   0.0  0.0  \n",
      "0  0.0  4.0  15.0  16.0   2.0   0.0   0.0  0.0  \n",
      "0  0.0  0.0   0.0   7.0  15.0  16.0  11.0  0.0  \n",
      "0  0.0  0.0   0.0  11.0   9.0   0.0   0.0  0.0  \n",
      "0  0.0  0.0  11.0  14.0   5.0   0.0   0.0  0.0  \n",
      "0  0.0  0.0   7.0  16.0  16.0  13.0  11.0  1.0  \n",
      "0  0.0  0.0   2.0  12.0  13.0   4.0   0.0  0.0  \n",
      "0  0.0  0.0   0.0   2.0  12.0  15.0   4.0  0.0  \n",
      "0  0.0  0.0   7.0  12.0  12.0  12.0  13.0  1.0  \n",
      "0  0.0  0.0  14.0  15.0  11.0   2.0   0.0  0.0  \n",
      "0  0.0  0.0   0.0   0.0  12.0   8.0   0.0  0.0  \n",
      "0  0.0  0.0  11.0  14.0   9.0   0.0   0.0  0.0  \n",
      "0  0.0  0.0   3.0  12.0  15.0  14.0   7.0  0.0  \n",
      "0  0.0  0.0   0.0  12.0  13.0   1.0   0.0  0.0  \n",
      "0  0.0  0.0   8.0  14.0   7.0   1.0   0.0  0.0  \n",
      "0  0.0  0.0   7.0  12.0  12.0  12.0  11.0  0.0  \n",
      "0  0.0  0.0  11.0  16.0  12.0   3.0   0.0  0.0  \n",
      "0  0.0  0.0   2.0  15.0  13.0  14.0  13.0  2.0  \n",
      "0  0.0  2.0  16.0  15.0   8.0   0.0   0.0  0.0  \n",
      "0  0.0  4.0  16.0  15.0   3.0   0.0   0.0  0.0  \n",
      "0  0.0  0.0   0.0   5.0  16.0  15.0   3.0  0.0  \n",
      "0  0.0  1.0  15.0  14.0   1.0   0.0   0.0  0.0  \n",
      "0  0.0  0.0   7.0  16.0  11.0   1.0   0.0  0.0  \n",
      "0  0.0  0.0  13.0  13.0  15.0  16.0  13.0  0.0  \n",
      "0  0.0  1.0  11.0  16.0   6.0   0.0   0.0  0.0  \n",
      "0  0.0  0.0   9.0  14.0  13.0  10.0   1.0  0.0  \n",
      "\n",
      "[40 rows x 64 columns]\n",
      "    0    1     2     3     4     5     6    7    8     9   ...    54   55  \\\n",
      "0  0.0  0.0   5.0  13.0   9.0   1.0   0.0  0.0  0.0   0.0  ...   0.0  0.0   \n",
      "0  0.0  0.0   0.0  12.0  13.0   5.0   0.0  0.0  0.0   0.0  ...   0.0  0.0   \n",
      "0  0.0  0.0   0.0   4.0  15.0  12.0   0.0  0.0  0.0   0.0  ...   5.0  0.0   \n",
      "0  0.0  0.0   7.0  15.0  13.0   1.0   0.0  0.0  0.0   8.0  ...   9.0  0.0   \n",
      "0  0.0  0.0   0.0   1.0  11.0   0.0   0.0  0.0  0.0   0.0  ...   0.0  0.0   \n",
      "0  0.0  0.0  12.0  10.0   0.0   0.0   0.0  0.0  0.0   0.0  ...   4.0  0.0   \n",
      "0  0.0  0.0   0.0  12.0  13.0   0.0   0.0  0.0  0.0   0.0  ...   8.0  0.0   \n",
      "0  0.0  0.0   7.0   8.0  13.0  16.0  15.0  1.0  0.0   0.0  ...   0.0  0.0   \n",
      "0  0.0  0.0   9.0  14.0   8.0   1.0   0.0  0.0  0.0   0.0  ...   8.0  0.0   \n",
      "0  0.0  0.0  11.0  12.0   0.0   0.0   0.0  0.0  0.0   2.0  ...   4.0  0.0   \n",
      "0  0.0  0.0   1.0   9.0  15.0  11.0   0.0  0.0  0.0   0.0  ...   0.0  0.0   \n",
      "0  0.0  0.0   0.0   0.0  14.0  13.0   1.0  0.0  0.0   0.0  ...   0.0  0.0   \n",
      "0  0.0  0.0   5.0  12.0   1.0   0.0   0.0  0.0  0.0   0.0  ...   8.0  2.0   \n",
      "0  0.0  2.0   9.0  15.0  14.0   9.0   3.0  0.0  0.0   4.0  ...   6.0  0.0   \n",
      "0  0.0  0.0   0.0   8.0  15.0   1.0   0.0  0.0  0.0   0.0  ...   0.0  0.0   \n",
      "0  0.0  5.0  12.0  13.0  16.0  16.0   2.0  0.0  0.0  11.0  ...   0.0  0.0   \n",
      "0  0.0  0.0   0.0   8.0  15.0   1.0   0.0  0.0  0.0   0.0  ...  16.0  2.0   \n",
      "0  0.0  0.0   1.0   8.0  15.0  10.0   0.0  0.0  0.0   3.0  ...   0.0  0.0   \n",
      "0  0.0  0.0  10.0   7.0  13.0   9.0   0.0  0.0  0.0   0.0  ...   0.0  0.0   \n",
      "0  0.0  0.0   6.0  14.0   4.0   0.0   0.0  0.0  0.0   0.0  ...  16.0  2.0   \n",
      "0  0.0  0.0   3.0  13.0  11.0   7.0   0.0  0.0  0.0   0.0  ...   1.0  0.0   \n",
      "0  0.0  0.0   0.0   2.0  16.0  16.0   2.0  0.0  0.0   0.0  ...   2.0  0.0   \n",
      "0  0.0  0.0   8.0  16.0   5.0   0.0   0.0  0.0  0.0   1.0  ...   3.0  0.0   \n",
      "0  0.0  1.0   8.0  12.0  15.0  14.0   4.0  0.0  0.0   3.0  ...   0.0  0.0   \n",
      "0  0.0  0.0   0.0   0.0  12.0   2.0   0.0  0.0  0.0   0.0  ...   0.0  0.0   \n",
      "0  0.0  0.0  12.0   8.0   8.0   7.0   0.0  0.0  0.0   3.0  ...   0.0  0.0   \n",
      "0  0.0  0.0   1.0  13.0  14.0   3.0   0.0  0.0  0.0   0.0  ...  12.0  0.0   \n",
      "0  0.0  0.0   0.0   8.0  14.0  14.0   2.0  0.0  0.0   0.0  ...   0.0  0.0   \n",
      "0  0.0  0.0  10.0  11.0   4.0   0.0   0.0  0.0  0.0   0.0  ...   0.0  0.0   \n",
      "0  0.0  0.0   9.0  13.0   7.0   0.0   0.0  0.0  0.0   0.0  ...  16.0  2.0   \n",
      "0  0.0  0.0  10.0  14.0  11.0   3.0   0.0  0.0  0.0   4.0  ...   0.0  0.0   \n",
      "0  0.0  0.0   2.0  13.0   8.0   0.0   0.0  0.0  0.0   0.0  ...  16.0  2.0   \n",
      "0  0.0  2.0  13.0  16.0  16.0  16.0  11.0  0.0  0.0   5.0  ...   0.0  0.0   \n",
      "0  0.0  6.0  13.0   5.0   8.0   8.0   1.0  0.0  0.0   8.0  ...   0.0  0.0   \n",
      "0  0.0  0.0   0.0   5.0  14.0   2.0   0.0  0.0  0.0   0.0  ...   9.0  0.0   \n",
      "0  0.0  3.0  15.0   8.0   8.0   6.0   0.0  0.0  0.0   4.0  ...   0.0  0.0   \n",
      "0  0.0  0.0   6.0  14.0  10.0   2.0   0.0  0.0  0.0   0.0  ...   0.0  0.0   \n",
      "0  0.0  0.0  13.0  10.0   1.0   0.0   0.0  0.0  0.0   5.0  ...  14.0  0.0   \n",
      "0  0.0  0.0   7.0   7.0  13.0  16.0   4.0  0.0  0.0   0.0  ...   0.0  0.0   \n",
      "0  0.0  1.0   9.0  16.0  13.0   7.0   0.0  0.0  0.0   7.0  ...   5.0  0.0   \n",
      "0  0.0  0.0  11.0  10.0  12.0   4.0   0.0  0.0  0.0   0.0  ...   0.0  0.0   \n",
      "\n",
      "    56   57    58    59    60    61    62   63  \n",
      "0  0.0  0.0   6.0  13.0  10.0   0.0   0.0  0.0  \n",
      "0  0.0  0.0   0.0  11.0  16.0  10.0   0.0  0.0  \n",
      "0  0.0  0.0   0.0   3.0  11.0  16.0   9.0  0.0  \n",
      "0  0.0  0.0   7.0  13.0  13.0   9.0   0.0  0.0  \n",
      "0  0.0  0.0   0.0   2.0  16.0   4.0   0.0  0.0  \n",
      "0  0.0  0.0   9.0  16.0  16.0  10.0   0.0  0.0  \n",
      "0  0.0  0.0   1.0   9.0  15.0  11.0   3.0  0.0  \n",
      "0  0.0  0.0  13.0   5.0   0.0   0.0   0.0  0.0  \n",
      "0  0.0  0.0  11.0  16.0  15.0  11.0   1.0  0.0  \n",
      "0  0.0  0.0   9.0  12.0  13.0   3.0   0.0  0.0  \n",
      "0  0.0  0.0   1.0  10.0  13.0   3.0   0.0  0.0  \n",
      "0  0.0  0.0   0.0   1.0  13.0  16.0   1.0  0.0  \n",
      "0  0.0  0.0   3.0  11.0   8.0  13.0  12.0  4.0  \n",
      "0  0.0  2.0  12.0  12.0  13.0  11.0   0.0  0.0  \n",
      "0  0.0  0.0   0.0  10.0  15.0   4.0   0.0  0.0  \n",
      "0  0.0  4.0  15.0  16.0   2.0   0.0   0.0  0.0  \n",
      "0  0.0  0.0   0.0   7.0  15.0  16.0  11.0  0.0  \n",
      "0  0.0  0.0   0.0  11.0   9.0   0.0   0.0  0.0  \n",
      "0  0.0  0.0  11.0  14.0   5.0   0.0   0.0  0.0  \n",
      "0  0.0  0.0   7.0  16.0  16.0  13.0  11.0  1.0  \n",
      "0  0.0  0.0   2.0  12.0  13.0   4.0   0.0  0.0  \n",
      "0  0.0  0.0   0.0   2.0  12.0  15.0   4.0  0.0  \n",
      "0  0.0  0.0   7.0  12.0  12.0  12.0  13.0  1.0  \n",
      "0  0.0  0.0  14.0  15.0  11.0   2.0   0.0  0.0  \n",
      "0  0.0  0.0   0.0   0.0  12.0   8.0   0.0  0.0  \n",
      "0  0.0  0.0  11.0  14.0   9.0   0.0   0.0  0.0  \n",
      "0  0.0  0.0   3.0  12.0  15.0  14.0   7.0  0.0  \n",
      "0  0.0  0.0   0.0  12.0  13.0   1.0   0.0  0.0  \n",
      "0  0.0  0.0   8.0  14.0   7.0   1.0   0.0  0.0  \n",
      "0  0.0  0.0   7.0  12.0  12.0  12.0  11.0  0.0  \n",
      "0  0.0  0.0  11.0  16.0  12.0   3.0   0.0  0.0  \n",
      "0  0.0  0.0   2.0  15.0  13.0  14.0  13.0  2.0  \n",
      "0  0.0  2.0  16.0  15.0   8.0   0.0   0.0  0.0  \n",
      "0  0.0  4.0  16.0  15.0   3.0   0.0   0.0  0.0  \n",
      "0  0.0  0.0   0.0   5.0  16.0  15.0   3.0  0.0  \n",
      "0  0.0  1.0  15.0  14.0   1.0   0.0   0.0  0.0  \n",
      "0  0.0  0.0   7.0  16.0  11.0   1.0   0.0  0.0  \n",
      "0  0.0  0.0  13.0  13.0  15.0  16.0  13.0  0.0  \n",
      "0  0.0  1.0  11.0  16.0   6.0   0.0   0.0  0.0  \n",
      "0  0.0  0.0   9.0  14.0  13.0  10.0   1.0  0.0  \n",
      "0  0.0  1.0  11.0  14.0  12.0   4.0   0.0  0.0  \n",
      "\n",
      "[41 rows x 64 columns]\n",
      "    0    1     2     3     4     5     6    7    8     9   ...    54   55  \\\n",
      "0  0.0  0.0   5.0  13.0   9.0   1.0   0.0  0.0  0.0   0.0  ...   0.0  0.0   \n",
      "0  0.0  0.0   0.0  12.0  13.0   5.0   0.0  0.0  0.0   0.0  ...   0.0  0.0   \n",
      "0  0.0  0.0   0.0   4.0  15.0  12.0   0.0  0.0  0.0   0.0  ...   5.0  0.0   \n",
      "0  0.0  0.0   7.0  15.0  13.0   1.0   0.0  0.0  0.0   8.0  ...   9.0  0.0   \n",
      "0  0.0  0.0   0.0   1.0  11.0   0.0   0.0  0.0  0.0   0.0  ...   0.0  0.0   \n",
      "0  0.0  0.0  12.0  10.0   0.0   0.0   0.0  0.0  0.0   0.0  ...   4.0  0.0   \n",
      "0  0.0  0.0   0.0  12.0  13.0   0.0   0.0  0.0  0.0   0.0  ...   8.0  0.0   \n",
      "0  0.0  0.0   7.0   8.0  13.0  16.0  15.0  1.0  0.0   0.0  ...   0.0  0.0   \n",
      "0  0.0  0.0   9.0  14.0   8.0   1.0   0.0  0.0  0.0   0.0  ...   8.0  0.0   \n",
      "0  0.0  0.0  11.0  12.0   0.0   0.0   0.0  0.0  0.0   2.0  ...   4.0  0.0   \n",
      "0  0.0  0.0   1.0   9.0  15.0  11.0   0.0  0.0  0.0   0.0  ...   0.0  0.0   \n",
      "0  0.0  0.0   0.0   0.0  14.0  13.0   1.0  0.0  0.0   0.0  ...   0.0  0.0   \n",
      "0  0.0  0.0   5.0  12.0   1.0   0.0   0.0  0.0  0.0   0.0  ...   8.0  2.0   \n",
      "0  0.0  2.0   9.0  15.0  14.0   9.0   3.0  0.0  0.0   4.0  ...   6.0  0.0   \n",
      "0  0.0  0.0   0.0   8.0  15.0   1.0   0.0  0.0  0.0   0.0  ...   0.0  0.0   \n",
      "0  0.0  5.0  12.0  13.0  16.0  16.0   2.0  0.0  0.0  11.0  ...   0.0  0.0   \n",
      "0  0.0  0.0   0.0   8.0  15.0   1.0   0.0  0.0  0.0   0.0  ...  16.0  2.0   \n",
      "0  0.0  0.0   1.0   8.0  15.0  10.0   0.0  0.0  0.0   3.0  ...   0.0  0.0   \n",
      "0  0.0  0.0  10.0   7.0  13.0   9.0   0.0  0.0  0.0   0.0  ...   0.0  0.0   \n",
      "0  0.0  0.0   6.0  14.0   4.0   0.0   0.0  0.0  0.0   0.0  ...  16.0  2.0   \n",
      "0  0.0  0.0   3.0  13.0  11.0   7.0   0.0  0.0  0.0   0.0  ...   1.0  0.0   \n",
      "0  0.0  0.0   0.0   2.0  16.0  16.0   2.0  0.0  0.0   0.0  ...   2.0  0.0   \n",
      "0  0.0  0.0   8.0  16.0   5.0   0.0   0.0  0.0  0.0   1.0  ...   3.0  0.0   \n",
      "0  0.0  1.0   8.0  12.0  15.0  14.0   4.0  0.0  0.0   3.0  ...   0.0  0.0   \n",
      "0  0.0  0.0   0.0   0.0  12.0   2.0   0.0  0.0  0.0   0.0  ...   0.0  0.0   \n",
      "0  0.0  0.0  12.0   8.0   8.0   7.0   0.0  0.0  0.0   3.0  ...   0.0  0.0   \n",
      "0  0.0  0.0   1.0  13.0  14.0   3.0   0.0  0.0  0.0   0.0  ...  12.0  0.0   \n",
      "0  0.0  0.0   0.0   8.0  14.0  14.0   2.0  0.0  0.0   0.0  ...   0.0  0.0   \n",
      "0  0.0  0.0  10.0  11.0   4.0   0.0   0.0  0.0  0.0   0.0  ...   0.0  0.0   \n",
      "0  0.0  0.0   9.0  13.0   7.0   0.0   0.0  0.0  0.0   0.0  ...  16.0  2.0   \n",
      "0  0.0  0.0  10.0  14.0  11.0   3.0   0.0  0.0  0.0   4.0  ...   0.0  0.0   \n",
      "0  0.0  0.0   2.0  13.0   8.0   0.0   0.0  0.0  0.0   0.0  ...  16.0  2.0   \n",
      "0  0.0  2.0  13.0  16.0  16.0  16.0  11.0  0.0  0.0   5.0  ...   0.0  0.0   \n",
      "0  0.0  6.0  13.0   5.0   8.0   8.0   1.0  0.0  0.0   8.0  ...   0.0  0.0   \n",
      "0  0.0  0.0   0.0   5.0  14.0   2.0   0.0  0.0  0.0   0.0  ...   9.0  0.0   \n",
      "0  0.0  3.0  15.0   8.0   8.0   6.0   0.0  0.0  0.0   4.0  ...   0.0  0.0   \n",
      "0  0.0  0.0   6.0  14.0  10.0   2.0   0.0  0.0  0.0   0.0  ...   0.0  0.0   \n",
      "0  0.0  0.0  13.0  10.0   1.0   0.0   0.0  0.0  0.0   5.0  ...  14.0  0.0   \n",
      "0  0.0  0.0   7.0   7.0  13.0  16.0   4.0  0.0  0.0   0.0  ...   0.0  0.0   \n",
      "0  0.0  1.0   9.0  16.0  13.0   7.0   0.0  0.0  0.0   7.0  ...   5.0  0.0   \n",
      "0  0.0  0.0  11.0  10.0  12.0   4.0   0.0  0.0  0.0   0.0  ...   0.0  0.0   \n",
      "0  0.0  0.0   0.0   9.0  15.0   1.0   0.0  0.0  0.0   0.0  ...   0.0  0.0   \n",
      "\n",
      "    56   57    58    59    60    61    62   63  \n",
      "0  0.0  0.0   6.0  13.0  10.0   0.0   0.0  0.0  \n",
      "0  0.0  0.0   0.0  11.0  16.0  10.0   0.0  0.0  \n",
      "0  0.0  0.0   0.0   3.0  11.0  16.0   9.0  0.0  \n",
      "0  0.0  0.0   7.0  13.0  13.0   9.0   0.0  0.0  \n",
      "0  0.0  0.0   0.0   2.0  16.0   4.0   0.0  0.0  \n",
      "0  0.0  0.0   9.0  16.0  16.0  10.0   0.0  0.0  \n",
      "0  0.0  0.0   1.0   9.0  15.0  11.0   3.0  0.0  \n",
      "0  0.0  0.0  13.0   5.0   0.0   0.0   0.0  0.0  \n",
      "0  0.0  0.0  11.0  16.0  15.0  11.0   1.0  0.0  \n",
      "0  0.0  0.0   9.0  12.0  13.0   3.0   0.0  0.0  \n",
      "0  0.0  0.0   1.0  10.0  13.0   3.0   0.0  0.0  \n",
      "0  0.0  0.0   0.0   1.0  13.0  16.0   1.0  0.0  \n",
      "0  0.0  0.0   3.0  11.0   8.0  13.0  12.0  4.0  \n",
      "0  0.0  2.0  12.0  12.0  13.0  11.0   0.0  0.0  \n",
      "0  0.0  0.0   0.0  10.0  15.0   4.0   0.0  0.0  \n",
      "0  0.0  4.0  15.0  16.0   2.0   0.0   0.0  0.0  \n",
      "0  0.0  0.0   0.0   7.0  15.0  16.0  11.0  0.0  \n",
      "0  0.0  0.0   0.0  11.0   9.0   0.0   0.0  0.0  \n",
      "0  0.0  0.0  11.0  14.0   5.0   0.0   0.0  0.0  \n",
      "0  0.0  0.0   7.0  16.0  16.0  13.0  11.0  1.0  \n",
      "0  0.0  0.0   2.0  12.0  13.0   4.0   0.0  0.0  \n",
      "0  0.0  0.0   0.0   2.0  12.0  15.0   4.0  0.0  \n",
      "0  0.0  0.0   7.0  12.0  12.0  12.0  13.0  1.0  \n",
      "0  0.0  0.0  14.0  15.0  11.0   2.0   0.0  0.0  \n",
      "0  0.0  0.0   0.0   0.0  12.0   8.0   0.0  0.0  \n",
      "0  0.0  0.0  11.0  14.0   9.0   0.0   0.0  0.0  \n",
      "0  0.0  0.0   3.0  12.0  15.0  14.0   7.0  0.0  \n",
      "0  0.0  0.0   0.0  12.0  13.0   1.0   0.0  0.0  \n",
      "0  0.0  0.0   8.0  14.0   7.0   1.0   0.0  0.0  \n",
      "0  0.0  0.0   7.0  12.0  12.0  12.0  11.0  0.0  \n",
      "0  0.0  0.0  11.0  16.0  12.0   3.0   0.0  0.0  \n",
      "0  0.0  0.0   2.0  15.0  13.0  14.0  13.0  2.0  \n",
      "0  0.0  2.0  16.0  15.0   8.0   0.0   0.0  0.0  \n",
      "0  0.0  4.0  16.0  15.0   3.0   0.0   0.0  0.0  \n",
      "0  0.0  0.0   0.0   5.0  16.0  15.0   3.0  0.0  \n",
      "0  0.0  1.0  15.0  14.0   1.0   0.0   0.0  0.0  \n",
      "0  0.0  0.0   7.0  16.0  11.0   1.0   0.0  0.0  \n",
      "0  0.0  0.0  13.0  13.0  15.0  16.0  13.0  0.0  \n",
      "0  0.0  1.0  11.0  16.0   6.0   0.0   0.0  0.0  \n",
      "0  0.0  0.0   9.0  14.0  13.0  10.0   1.0  0.0  \n",
      "0  0.0  1.0  11.0  14.0  12.0   4.0   0.0  0.0  \n",
      "0  0.0  0.0   0.0   9.0  16.0   2.0   0.0  0.0  \n",
      "\n",
      "[42 rows x 64 columns]\n",
      "    0    1     2     3     4     5     6    7    8     9   ...    54   55  \\\n",
      "0  0.0  0.0   5.0  13.0   9.0   1.0   0.0  0.0  0.0   0.0  ...   0.0  0.0   \n",
      "0  0.0  0.0   0.0  12.0  13.0   5.0   0.0  0.0  0.0   0.0  ...   0.0  0.0   \n",
      "0  0.0  0.0   0.0   4.0  15.0  12.0   0.0  0.0  0.0   0.0  ...   5.0  0.0   \n",
      "0  0.0  0.0   7.0  15.0  13.0   1.0   0.0  0.0  0.0   8.0  ...   9.0  0.0   \n",
      "0  0.0  0.0   0.0   1.0  11.0   0.0   0.0  0.0  0.0   0.0  ...   0.0  0.0   \n",
      "0  0.0  0.0  12.0  10.0   0.0   0.0   0.0  0.0  0.0   0.0  ...   4.0  0.0   \n",
      "0  0.0  0.0   0.0  12.0  13.0   0.0   0.0  0.0  0.0   0.0  ...   8.0  0.0   \n",
      "0  0.0  0.0   7.0   8.0  13.0  16.0  15.0  1.0  0.0   0.0  ...   0.0  0.0   \n",
      "0  0.0  0.0   9.0  14.0   8.0   1.0   0.0  0.0  0.0   0.0  ...   8.0  0.0   \n",
      "0  0.0  0.0  11.0  12.0   0.0   0.0   0.0  0.0  0.0   2.0  ...   4.0  0.0   \n",
      "0  0.0  0.0   1.0   9.0  15.0  11.0   0.0  0.0  0.0   0.0  ...   0.0  0.0   \n",
      "0  0.0  0.0   0.0   0.0  14.0  13.0   1.0  0.0  0.0   0.0  ...   0.0  0.0   \n",
      "0  0.0  0.0   5.0  12.0   1.0   0.0   0.0  0.0  0.0   0.0  ...   8.0  2.0   \n",
      "0  0.0  2.0   9.0  15.0  14.0   9.0   3.0  0.0  0.0   4.0  ...   6.0  0.0   \n",
      "0  0.0  0.0   0.0   8.0  15.0   1.0   0.0  0.0  0.0   0.0  ...   0.0  0.0   \n",
      "0  0.0  5.0  12.0  13.0  16.0  16.0   2.0  0.0  0.0  11.0  ...   0.0  0.0   \n",
      "0  0.0  0.0   0.0   8.0  15.0   1.0   0.0  0.0  0.0   0.0  ...  16.0  2.0   \n",
      "0  0.0  0.0   1.0   8.0  15.0  10.0   0.0  0.0  0.0   3.0  ...   0.0  0.0   \n",
      "0  0.0  0.0  10.0   7.0  13.0   9.0   0.0  0.0  0.0   0.0  ...   0.0  0.0   \n",
      "0  0.0  0.0   6.0  14.0   4.0   0.0   0.0  0.0  0.0   0.0  ...  16.0  2.0   \n",
      "0  0.0  0.0   3.0  13.0  11.0   7.0   0.0  0.0  0.0   0.0  ...   1.0  0.0   \n",
      "0  0.0  0.0   0.0   2.0  16.0  16.0   2.0  0.0  0.0   0.0  ...   2.0  0.0   \n",
      "0  0.0  0.0   8.0  16.0   5.0   0.0   0.0  0.0  0.0   1.0  ...   3.0  0.0   \n",
      "0  0.0  1.0   8.0  12.0  15.0  14.0   4.0  0.0  0.0   3.0  ...   0.0  0.0   \n",
      "0  0.0  0.0   0.0   0.0  12.0   2.0   0.0  0.0  0.0   0.0  ...   0.0  0.0   \n",
      "0  0.0  0.0  12.0   8.0   8.0   7.0   0.0  0.0  0.0   3.0  ...   0.0  0.0   \n",
      "0  0.0  0.0   1.0  13.0  14.0   3.0   0.0  0.0  0.0   0.0  ...  12.0  0.0   \n",
      "0  0.0  0.0   0.0   8.0  14.0  14.0   2.0  0.0  0.0   0.0  ...   0.0  0.0   \n",
      "0  0.0  0.0  10.0  11.0   4.0   0.0   0.0  0.0  0.0   0.0  ...   0.0  0.0   \n",
      "0  0.0  0.0   9.0  13.0   7.0   0.0   0.0  0.0  0.0   0.0  ...  16.0  2.0   \n",
      "0  0.0  0.0  10.0  14.0  11.0   3.0   0.0  0.0  0.0   4.0  ...   0.0  0.0   \n",
      "0  0.0  0.0   2.0  13.0   8.0   0.0   0.0  0.0  0.0   0.0  ...  16.0  2.0   \n",
      "0  0.0  2.0  13.0  16.0  16.0  16.0  11.0  0.0  0.0   5.0  ...   0.0  0.0   \n",
      "0  0.0  6.0  13.0   5.0   8.0   8.0   1.0  0.0  0.0   8.0  ...   0.0  0.0   \n",
      "0  0.0  0.0   0.0   5.0  14.0   2.0   0.0  0.0  0.0   0.0  ...   9.0  0.0   \n",
      "0  0.0  3.0  15.0   8.0   8.0   6.0   0.0  0.0  0.0   4.0  ...   0.0  0.0   \n",
      "0  0.0  0.0   6.0  14.0  10.0   2.0   0.0  0.0  0.0   0.0  ...   0.0  0.0   \n",
      "0  0.0  0.0  13.0  10.0   1.0   0.0   0.0  0.0  0.0   5.0  ...  14.0  0.0   \n",
      "0  0.0  0.0   7.0   7.0  13.0  16.0   4.0  0.0  0.0   0.0  ...   0.0  0.0   \n",
      "0  0.0  1.0   9.0  16.0  13.0   7.0   0.0  0.0  0.0   7.0  ...   5.0  0.0   \n",
      "0  0.0  0.0  11.0  10.0  12.0   4.0   0.0  0.0  0.0   0.0  ...   0.0  0.0   \n",
      "0  0.0  0.0   0.0   9.0  15.0   1.0   0.0  0.0  0.0   0.0  ...   0.0  0.0   \n",
      "0  0.0  0.0   0.0   0.0  12.0   5.0   0.0  0.0  0.0   0.0  ...   0.0  0.0   \n",
      "\n",
      "    56   57    58    59    60    61    62   63  \n",
      "0  0.0  0.0   6.0  13.0  10.0   0.0   0.0  0.0  \n",
      "0  0.0  0.0   0.0  11.0  16.0  10.0   0.0  0.0  \n",
      "0  0.0  0.0   0.0   3.0  11.0  16.0   9.0  0.0  \n",
      "0  0.0  0.0   7.0  13.0  13.0   9.0   0.0  0.0  \n",
      "0  0.0  0.0   0.0   2.0  16.0   4.0   0.0  0.0  \n",
      "0  0.0  0.0   9.0  16.0  16.0  10.0   0.0  0.0  \n",
      "0  0.0  0.0   1.0   9.0  15.0  11.0   3.0  0.0  \n",
      "0  0.0  0.0  13.0   5.0   0.0   0.0   0.0  0.0  \n",
      "0  0.0  0.0  11.0  16.0  15.0  11.0   1.0  0.0  \n",
      "0  0.0  0.0   9.0  12.0  13.0   3.0   0.0  0.0  \n",
      "0  0.0  0.0   1.0  10.0  13.0   3.0   0.0  0.0  \n",
      "0  0.0  0.0   0.0   1.0  13.0  16.0   1.0  0.0  \n",
      "0  0.0  0.0   3.0  11.0   8.0  13.0  12.0  4.0  \n",
      "0  0.0  2.0  12.0  12.0  13.0  11.0   0.0  0.0  \n",
      "0  0.0  0.0   0.0  10.0  15.0   4.0   0.0  0.0  \n",
      "0  0.0  4.0  15.0  16.0   2.0   0.0   0.0  0.0  \n",
      "0  0.0  0.0   0.0   7.0  15.0  16.0  11.0  0.0  \n",
      "0  0.0  0.0   0.0  11.0   9.0   0.0   0.0  0.0  \n",
      "0  0.0  0.0  11.0  14.0   5.0   0.0   0.0  0.0  \n",
      "0  0.0  0.0   7.0  16.0  16.0  13.0  11.0  1.0  \n",
      "0  0.0  0.0   2.0  12.0  13.0   4.0   0.0  0.0  \n",
      "0  0.0  0.0   0.0   2.0  12.0  15.0   4.0  0.0  \n",
      "0  0.0  0.0   7.0  12.0  12.0  12.0  13.0  1.0  \n",
      "0  0.0  0.0  14.0  15.0  11.0   2.0   0.0  0.0  \n",
      "0  0.0  0.0   0.0   0.0  12.0   8.0   0.0  0.0  \n",
      "0  0.0  0.0  11.0  14.0   9.0   0.0   0.0  0.0  \n",
      "0  0.0  0.0   3.0  12.0  15.0  14.0   7.0  0.0  \n",
      "0  0.0  0.0   0.0  12.0  13.0   1.0   0.0  0.0  \n",
      "0  0.0  0.0   8.0  14.0   7.0   1.0   0.0  0.0  \n",
      "0  0.0  0.0   7.0  12.0  12.0  12.0  11.0  0.0  \n",
      "0  0.0  0.0  11.0  16.0  12.0   3.0   0.0  0.0  \n",
      "0  0.0  0.0   2.0  15.0  13.0  14.0  13.0  2.0  \n",
      "0  0.0  2.0  16.0  15.0   8.0   0.0   0.0  0.0  \n",
      "0  0.0  4.0  16.0  15.0   3.0   0.0   0.0  0.0  \n",
      "0  0.0  0.0   0.0   5.0  16.0  15.0   3.0  0.0  \n",
      "0  0.0  1.0  15.0  14.0   1.0   0.0   0.0  0.0  \n",
      "0  0.0  0.0   7.0  16.0  11.0   1.0   0.0  0.0  \n",
      "0  0.0  0.0  13.0  13.0  15.0  16.0  13.0  0.0  \n",
      "0  0.0  1.0  11.0  16.0   6.0   0.0   0.0  0.0  \n",
      "0  0.0  0.0   9.0  14.0  13.0  10.0   1.0  0.0  \n",
      "0  0.0  1.0  11.0  14.0  12.0   4.0   0.0  0.0  \n",
      "0  0.0  0.0   0.0   9.0  16.0   2.0   0.0  0.0  \n",
      "0  0.0  0.0   0.0   3.0  16.0   8.0   0.0  0.0  \n",
      "\n",
      "[43 rows x 64 columns]\n",
      "    0    1     2     3     4     5     6    7    8     9   ...    54   55  \\\n",
      "0  0.0  0.0   5.0  13.0   9.0   1.0   0.0  0.0  0.0   0.0  ...   0.0  0.0   \n",
      "0  0.0  0.0   0.0  12.0  13.0   5.0   0.0  0.0  0.0   0.0  ...   0.0  0.0   \n",
      "0  0.0  0.0   0.0   4.0  15.0  12.0   0.0  0.0  0.0   0.0  ...   5.0  0.0   \n",
      "0  0.0  0.0   7.0  15.0  13.0   1.0   0.0  0.0  0.0   8.0  ...   9.0  0.0   \n",
      "0  0.0  0.0   0.0   1.0  11.0   0.0   0.0  0.0  0.0   0.0  ...   0.0  0.0   \n",
      "0  0.0  0.0  12.0  10.0   0.0   0.0   0.0  0.0  0.0   0.0  ...   4.0  0.0   \n",
      "0  0.0  0.0   0.0  12.0  13.0   0.0   0.0  0.0  0.0   0.0  ...   8.0  0.0   \n",
      "0  0.0  0.0   7.0   8.0  13.0  16.0  15.0  1.0  0.0   0.0  ...   0.0  0.0   \n",
      "0  0.0  0.0   9.0  14.0   8.0   1.0   0.0  0.0  0.0   0.0  ...   8.0  0.0   \n",
      "0  0.0  0.0  11.0  12.0   0.0   0.0   0.0  0.0  0.0   2.0  ...   4.0  0.0   \n",
      "0  0.0  0.0   1.0   9.0  15.0  11.0   0.0  0.0  0.0   0.0  ...   0.0  0.0   \n",
      "0  0.0  0.0   0.0   0.0  14.0  13.0   1.0  0.0  0.0   0.0  ...   0.0  0.0   \n",
      "0  0.0  0.0   5.0  12.0   1.0   0.0   0.0  0.0  0.0   0.0  ...   8.0  2.0   \n",
      "0  0.0  2.0   9.0  15.0  14.0   9.0   3.0  0.0  0.0   4.0  ...   6.0  0.0   \n",
      "0  0.0  0.0   0.0   8.0  15.0   1.0   0.0  0.0  0.0   0.0  ...   0.0  0.0   \n",
      "0  0.0  5.0  12.0  13.0  16.0  16.0   2.0  0.0  0.0  11.0  ...   0.0  0.0   \n",
      "0  0.0  0.0   0.0   8.0  15.0   1.0   0.0  0.0  0.0   0.0  ...  16.0  2.0   \n",
      "0  0.0  0.0   1.0   8.0  15.0  10.0   0.0  0.0  0.0   3.0  ...   0.0  0.0   \n",
      "0  0.0  0.0  10.0   7.0  13.0   9.0   0.0  0.0  0.0   0.0  ...   0.0  0.0   \n",
      "0  0.0  0.0   6.0  14.0   4.0   0.0   0.0  0.0  0.0   0.0  ...  16.0  2.0   \n",
      "0  0.0  0.0   3.0  13.0  11.0   7.0   0.0  0.0  0.0   0.0  ...   1.0  0.0   \n",
      "0  0.0  0.0   0.0   2.0  16.0  16.0   2.0  0.0  0.0   0.0  ...   2.0  0.0   \n",
      "0  0.0  0.0   8.0  16.0   5.0   0.0   0.0  0.0  0.0   1.0  ...   3.0  0.0   \n",
      "0  0.0  1.0   8.0  12.0  15.0  14.0   4.0  0.0  0.0   3.0  ...   0.0  0.0   \n",
      "0  0.0  0.0   0.0   0.0  12.0   2.0   0.0  0.0  0.0   0.0  ...   0.0  0.0   \n",
      "0  0.0  0.0  12.0   8.0   8.0   7.0   0.0  0.0  0.0   3.0  ...   0.0  0.0   \n",
      "0  0.0  0.0   1.0  13.0  14.0   3.0   0.0  0.0  0.0   0.0  ...  12.0  0.0   \n",
      "0  0.0  0.0   0.0   8.0  14.0  14.0   2.0  0.0  0.0   0.0  ...   0.0  0.0   \n",
      "0  0.0  0.0  10.0  11.0   4.0   0.0   0.0  0.0  0.0   0.0  ...   0.0  0.0   \n",
      "0  0.0  0.0   9.0  13.0   7.0   0.0   0.0  0.0  0.0   0.0  ...  16.0  2.0   \n",
      "0  0.0  0.0  10.0  14.0  11.0   3.0   0.0  0.0  0.0   4.0  ...   0.0  0.0   \n",
      "0  0.0  0.0   2.0  13.0   8.0   0.0   0.0  0.0  0.0   0.0  ...  16.0  2.0   \n",
      "0  0.0  2.0  13.0  16.0  16.0  16.0  11.0  0.0  0.0   5.0  ...   0.0  0.0   \n",
      "0  0.0  6.0  13.0   5.0   8.0   8.0   1.0  0.0  0.0   8.0  ...   0.0  0.0   \n",
      "0  0.0  0.0   0.0   5.0  14.0   2.0   0.0  0.0  0.0   0.0  ...   9.0  0.0   \n",
      "0  0.0  3.0  15.0   8.0   8.0   6.0   0.0  0.0  0.0   4.0  ...   0.0  0.0   \n",
      "0  0.0  0.0   6.0  14.0  10.0   2.0   0.0  0.0  0.0   0.0  ...   0.0  0.0   \n",
      "0  0.0  0.0  13.0  10.0   1.0   0.0   0.0  0.0  0.0   5.0  ...  14.0  0.0   \n",
      "0  0.0  0.0   7.0   7.0  13.0  16.0   4.0  0.0  0.0   0.0  ...   0.0  0.0   \n",
      "0  0.0  1.0   9.0  16.0  13.0   7.0   0.0  0.0  0.0   7.0  ...   5.0  0.0   \n",
      "0  0.0  0.0  11.0  10.0  12.0   4.0   0.0  0.0  0.0   0.0  ...   0.0  0.0   \n",
      "0  0.0  0.0   0.0   9.0  15.0   1.0   0.0  0.0  0.0   0.0  ...   0.0  0.0   \n",
      "0  0.0  0.0   0.0   0.0  12.0   5.0   0.0  0.0  0.0   0.0  ...   0.0  0.0   \n",
      "0  0.0  0.0   0.0   9.0  15.0  12.0   0.0  0.0  0.0   0.0  ...   0.0  0.0   \n",
      "\n",
      "    56   57    58    59    60    61    62   63  \n",
      "0  0.0  0.0   6.0  13.0  10.0   0.0   0.0  0.0  \n",
      "0  0.0  0.0   0.0  11.0  16.0  10.0   0.0  0.0  \n",
      "0  0.0  0.0   0.0   3.0  11.0  16.0   9.0  0.0  \n",
      "0  0.0  0.0   7.0  13.0  13.0   9.0   0.0  0.0  \n",
      "0  0.0  0.0   0.0   2.0  16.0   4.0   0.0  0.0  \n",
      "0  0.0  0.0   9.0  16.0  16.0  10.0   0.0  0.0  \n",
      "0  0.0  0.0   1.0   9.0  15.0  11.0   3.0  0.0  \n",
      "0  0.0  0.0  13.0   5.0   0.0   0.0   0.0  0.0  \n",
      "0  0.0  0.0  11.0  16.0  15.0  11.0   1.0  0.0  \n",
      "0  0.0  0.0   9.0  12.0  13.0   3.0   0.0  0.0  \n",
      "0  0.0  0.0   1.0  10.0  13.0   3.0   0.0  0.0  \n",
      "0  0.0  0.0   0.0   1.0  13.0  16.0   1.0  0.0  \n",
      "0  0.0  0.0   3.0  11.0   8.0  13.0  12.0  4.0  \n",
      "0  0.0  2.0  12.0  12.0  13.0  11.0   0.0  0.0  \n",
      "0  0.0  0.0   0.0  10.0  15.0   4.0   0.0  0.0  \n",
      "0  0.0  4.0  15.0  16.0   2.0   0.0   0.0  0.0  \n",
      "0  0.0  0.0   0.0   7.0  15.0  16.0  11.0  0.0  \n",
      "0  0.0  0.0   0.0  11.0   9.0   0.0   0.0  0.0  \n",
      "0  0.0  0.0  11.0  14.0   5.0   0.0   0.0  0.0  \n",
      "0  0.0  0.0   7.0  16.0  16.0  13.0  11.0  1.0  \n",
      "0  0.0  0.0   2.0  12.0  13.0   4.0   0.0  0.0  \n",
      "0  0.0  0.0   0.0   2.0  12.0  15.0   4.0  0.0  \n",
      "0  0.0  0.0   7.0  12.0  12.0  12.0  13.0  1.0  \n",
      "0  0.0  0.0  14.0  15.0  11.0   2.0   0.0  0.0  \n",
      "0  0.0  0.0   0.0   0.0  12.0   8.0   0.0  0.0  \n",
      "0  0.0  0.0  11.0  14.0   9.0   0.0   0.0  0.0  \n",
      "0  0.0  0.0   3.0  12.0  15.0  14.0   7.0  0.0  \n",
      "0  0.0  0.0   0.0  12.0  13.0   1.0   0.0  0.0  \n",
      "0  0.0  0.0   8.0  14.0   7.0   1.0   0.0  0.0  \n",
      "0  0.0  0.0   7.0  12.0  12.0  12.0  11.0  0.0  \n",
      "0  0.0  0.0  11.0  16.0  12.0   3.0   0.0  0.0  \n",
      "0  0.0  0.0   2.0  15.0  13.0  14.0  13.0  2.0  \n",
      "0  0.0  2.0  16.0  15.0   8.0   0.0   0.0  0.0  \n",
      "0  0.0  4.0  16.0  15.0   3.0   0.0   0.0  0.0  \n",
      "0  0.0  0.0   0.0   5.0  16.0  15.0   3.0  0.0  \n",
      "0  0.0  1.0  15.0  14.0   1.0   0.0   0.0  0.0  \n",
      "0  0.0  0.0   7.0  16.0  11.0   1.0   0.0  0.0  \n",
      "0  0.0  0.0  13.0  13.0  15.0  16.0  13.0  0.0  \n",
      "0  0.0  1.0  11.0  16.0   6.0   0.0   0.0  0.0  \n",
      "0  0.0  0.0   9.0  14.0  13.0  10.0   1.0  0.0  \n",
      "0  0.0  1.0  11.0  14.0  12.0   4.0   0.0  0.0  \n",
      "0  0.0  0.0   0.0   9.0  16.0   2.0   0.0  0.0  \n",
      "0  0.0  0.0   0.0   3.0  16.0   8.0   0.0  0.0  \n",
      "0  0.0  0.0   0.0  11.0   7.0   0.0   0.0  0.0  \n",
      "\n",
      "[44 rows x 64 columns]\n",
      "    0    1     2     3     4     5     6    7    8     9   ...    54   55  \\\n",
      "0  0.0  0.0   5.0  13.0   9.0   1.0   0.0  0.0  0.0   0.0  ...   0.0  0.0   \n",
      "0  0.0  0.0   0.0  12.0  13.0   5.0   0.0  0.0  0.0   0.0  ...   0.0  0.0   \n",
      "0  0.0  0.0   0.0   4.0  15.0  12.0   0.0  0.0  0.0   0.0  ...   5.0  0.0   \n",
      "0  0.0  0.0   7.0  15.0  13.0   1.0   0.0  0.0  0.0   8.0  ...   9.0  0.0   \n",
      "0  0.0  0.0   0.0   1.0  11.0   0.0   0.0  0.0  0.0   0.0  ...   0.0  0.0   \n",
      "0  0.0  0.0  12.0  10.0   0.0   0.0   0.0  0.0  0.0   0.0  ...   4.0  0.0   \n",
      "0  0.0  0.0   0.0  12.0  13.0   0.0   0.0  0.0  0.0   0.0  ...   8.0  0.0   \n",
      "0  0.0  0.0   7.0   8.0  13.0  16.0  15.0  1.0  0.0   0.0  ...   0.0  0.0   \n",
      "0  0.0  0.0   9.0  14.0   8.0   1.0   0.0  0.0  0.0   0.0  ...   8.0  0.0   \n",
      "0  0.0  0.0  11.0  12.0   0.0   0.0   0.0  0.0  0.0   2.0  ...   4.0  0.0   \n",
      "0  0.0  0.0   1.0   9.0  15.0  11.0   0.0  0.0  0.0   0.0  ...   0.0  0.0   \n",
      "0  0.0  0.0   0.0   0.0  14.0  13.0   1.0  0.0  0.0   0.0  ...   0.0  0.0   \n",
      "0  0.0  0.0   5.0  12.0   1.0   0.0   0.0  0.0  0.0   0.0  ...   8.0  2.0   \n",
      "0  0.0  2.0   9.0  15.0  14.0   9.0   3.0  0.0  0.0   4.0  ...   6.0  0.0   \n",
      "0  0.0  0.0   0.0   8.0  15.0   1.0   0.0  0.0  0.0   0.0  ...   0.0  0.0   \n",
      "0  0.0  5.0  12.0  13.0  16.0  16.0   2.0  0.0  0.0  11.0  ...   0.0  0.0   \n",
      "0  0.0  0.0   0.0   8.0  15.0   1.0   0.0  0.0  0.0   0.0  ...  16.0  2.0   \n",
      "0  0.0  0.0   1.0   8.0  15.0  10.0   0.0  0.0  0.0   3.0  ...   0.0  0.0   \n",
      "0  0.0  0.0  10.0   7.0  13.0   9.0   0.0  0.0  0.0   0.0  ...   0.0  0.0   \n",
      "0  0.0  0.0   6.0  14.0   4.0   0.0   0.0  0.0  0.0   0.0  ...  16.0  2.0   \n",
      "0  0.0  0.0   3.0  13.0  11.0   7.0   0.0  0.0  0.0   0.0  ...   1.0  0.0   \n",
      "0  0.0  0.0   0.0   2.0  16.0  16.0   2.0  0.0  0.0   0.0  ...   2.0  0.0   \n",
      "0  0.0  0.0   8.0  16.0   5.0   0.0   0.0  0.0  0.0   1.0  ...   3.0  0.0   \n",
      "0  0.0  1.0   8.0  12.0  15.0  14.0   4.0  0.0  0.0   3.0  ...   0.0  0.0   \n",
      "0  0.0  0.0   0.0   0.0  12.0   2.0   0.0  0.0  0.0   0.0  ...   0.0  0.0   \n",
      "0  0.0  0.0  12.0   8.0   8.0   7.0   0.0  0.0  0.0   3.0  ...   0.0  0.0   \n",
      "0  0.0  0.0   1.0  13.0  14.0   3.0   0.0  0.0  0.0   0.0  ...  12.0  0.0   \n",
      "0  0.0  0.0   0.0   8.0  14.0  14.0   2.0  0.0  0.0   0.0  ...   0.0  0.0   \n",
      "0  0.0  0.0  10.0  11.0   4.0   0.0   0.0  0.0  0.0   0.0  ...   0.0  0.0   \n",
      "0  0.0  0.0   9.0  13.0   7.0   0.0   0.0  0.0  0.0   0.0  ...  16.0  2.0   \n",
      "0  0.0  0.0  10.0  14.0  11.0   3.0   0.0  0.0  0.0   4.0  ...   0.0  0.0   \n",
      "0  0.0  0.0   2.0  13.0   8.0   0.0   0.0  0.0  0.0   0.0  ...  16.0  2.0   \n",
      "0  0.0  2.0  13.0  16.0  16.0  16.0  11.0  0.0  0.0   5.0  ...   0.0  0.0   \n",
      "0  0.0  6.0  13.0   5.0   8.0   8.0   1.0  0.0  0.0   8.0  ...   0.0  0.0   \n",
      "0  0.0  0.0   0.0   5.0  14.0   2.0   0.0  0.0  0.0   0.0  ...   9.0  0.0   \n",
      "0  0.0  3.0  15.0   8.0   8.0   6.0   0.0  0.0  0.0   4.0  ...   0.0  0.0   \n",
      "0  0.0  0.0   6.0  14.0  10.0   2.0   0.0  0.0  0.0   0.0  ...   0.0  0.0   \n",
      "0  0.0  0.0  13.0  10.0   1.0   0.0   0.0  0.0  0.0   5.0  ...  14.0  0.0   \n",
      "0  0.0  0.0   7.0   7.0  13.0  16.0   4.0  0.0  0.0   0.0  ...   0.0  0.0   \n",
      "0  0.0  1.0   9.0  16.0  13.0   7.0   0.0  0.0  0.0   7.0  ...   5.0  0.0   \n",
      "0  0.0  0.0  11.0  10.0  12.0   4.0   0.0  0.0  0.0   0.0  ...   0.0  0.0   \n",
      "0  0.0  0.0   0.0   9.0  15.0   1.0   0.0  0.0  0.0   0.0  ...   0.0  0.0   \n",
      "0  0.0  0.0   0.0   0.0  12.0   5.0   0.0  0.0  0.0   0.0  ...   0.0  0.0   \n",
      "0  0.0  0.0   0.0   9.0  15.0  12.0   0.0  0.0  0.0   0.0  ...   0.0  0.0   \n",
      "0  0.0  0.0   9.0  16.0  16.0  16.0   5.0  0.0  0.0   1.0  ...   0.0  0.0   \n",
      "\n",
      "    56   57    58    59    60    61    62   63  \n",
      "0  0.0  0.0   6.0  13.0  10.0   0.0   0.0  0.0  \n",
      "0  0.0  0.0   0.0  11.0  16.0  10.0   0.0  0.0  \n",
      "0  0.0  0.0   0.0   3.0  11.0  16.0   9.0  0.0  \n",
      "0  0.0  0.0   7.0  13.0  13.0   9.0   0.0  0.0  \n",
      "0  0.0  0.0   0.0   2.0  16.0   4.0   0.0  0.0  \n",
      "0  0.0  0.0   9.0  16.0  16.0  10.0   0.0  0.0  \n",
      "0  0.0  0.0   1.0   9.0  15.0  11.0   3.0  0.0  \n",
      "0  0.0  0.0  13.0   5.0   0.0   0.0   0.0  0.0  \n",
      "0  0.0  0.0  11.0  16.0  15.0  11.0   1.0  0.0  \n",
      "0  0.0  0.0   9.0  12.0  13.0   3.0   0.0  0.0  \n",
      "0  0.0  0.0   1.0  10.0  13.0   3.0   0.0  0.0  \n",
      "0  0.0  0.0   0.0   1.0  13.0  16.0   1.0  0.0  \n",
      "0  0.0  0.0   3.0  11.0   8.0  13.0  12.0  4.0  \n",
      "0  0.0  2.0  12.0  12.0  13.0  11.0   0.0  0.0  \n",
      "0  0.0  0.0   0.0  10.0  15.0   4.0   0.0  0.0  \n",
      "0  0.0  4.0  15.0  16.0   2.0   0.0   0.0  0.0  \n",
      "0  0.0  0.0   0.0   7.0  15.0  16.0  11.0  0.0  \n",
      "0  0.0  0.0   0.0  11.0   9.0   0.0   0.0  0.0  \n",
      "0  0.0  0.0  11.0  14.0   5.0   0.0   0.0  0.0  \n",
      "0  0.0  0.0   7.0  16.0  16.0  13.0  11.0  1.0  \n",
      "0  0.0  0.0   2.0  12.0  13.0   4.0   0.0  0.0  \n",
      "0  0.0  0.0   0.0   2.0  12.0  15.0   4.0  0.0  \n",
      "0  0.0  0.0   7.0  12.0  12.0  12.0  13.0  1.0  \n",
      "0  0.0  0.0  14.0  15.0  11.0   2.0   0.0  0.0  \n",
      "0  0.0  0.0   0.0   0.0  12.0   8.0   0.0  0.0  \n",
      "0  0.0  0.0  11.0  14.0   9.0   0.0   0.0  0.0  \n",
      "0  0.0  0.0   3.0  12.0  15.0  14.0   7.0  0.0  \n",
      "0  0.0  0.0   0.0  12.0  13.0   1.0   0.0  0.0  \n",
      "0  0.0  0.0   8.0  14.0   7.0   1.0   0.0  0.0  \n",
      "0  0.0  0.0   7.0  12.0  12.0  12.0  11.0  0.0  \n",
      "0  0.0  0.0  11.0  16.0  12.0   3.0   0.0  0.0  \n",
      "0  0.0  0.0   2.0  15.0  13.0  14.0  13.0  2.0  \n",
      "0  0.0  2.0  16.0  15.0   8.0   0.0   0.0  0.0  \n",
      "0  0.0  4.0  16.0  15.0   3.0   0.0   0.0  0.0  \n",
      "0  0.0  0.0   0.0   5.0  16.0  15.0   3.0  0.0  \n",
      "0  0.0  1.0  15.0  14.0   1.0   0.0   0.0  0.0  \n",
      "0  0.0  0.0   7.0  16.0  11.0   1.0   0.0  0.0  \n",
      "0  0.0  0.0  13.0  13.0  15.0  16.0  13.0  0.0  \n",
      "0  0.0  1.0  11.0  16.0   6.0   0.0   0.0  0.0  \n",
      "0  0.0  0.0   9.0  14.0  13.0  10.0   1.0  0.0  \n",
      "0  0.0  1.0  11.0  14.0  12.0   4.0   0.0  0.0  \n",
      "0  0.0  0.0   0.0   9.0  16.0   2.0   0.0  0.0  \n",
      "0  0.0  0.0   0.0   3.0  16.0   8.0   0.0  0.0  \n",
      "0  0.0  0.0   0.0  11.0   7.0   0.0   0.0  0.0  \n",
      "0  0.0  0.0  13.0  10.0   0.0   0.0   0.0  0.0  \n",
      "\n",
      "[45 rows x 64 columns]\n",
      "    0    1     2     3     4     5     6    7    8     9   ...    54   55  \\\n",
      "0  0.0  0.0   5.0  13.0   9.0   1.0   0.0  0.0  0.0   0.0  ...   0.0  0.0   \n",
      "0  0.0  0.0   0.0  12.0  13.0   5.0   0.0  0.0  0.0   0.0  ...   0.0  0.0   \n",
      "0  0.0  0.0   0.0   4.0  15.0  12.0   0.0  0.0  0.0   0.0  ...   5.0  0.0   \n",
      "0  0.0  0.0   7.0  15.0  13.0   1.0   0.0  0.0  0.0   8.0  ...   9.0  0.0   \n",
      "0  0.0  0.0   0.0   1.0  11.0   0.0   0.0  0.0  0.0   0.0  ...   0.0  0.0   \n",
      "0  0.0  0.0  12.0  10.0   0.0   0.0   0.0  0.0  0.0   0.0  ...   4.0  0.0   \n",
      "0  0.0  0.0   0.0  12.0  13.0   0.0   0.0  0.0  0.0   0.0  ...   8.0  0.0   \n",
      "0  0.0  0.0   7.0   8.0  13.0  16.0  15.0  1.0  0.0   0.0  ...   0.0  0.0   \n",
      "0  0.0  0.0   9.0  14.0   8.0   1.0   0.0  0.0  0.0   0.0  ...   8.0  0.0   \n",
      "0  0.0  0.0  11.0  12.0   0.0   0.0   0.0  0.0  0.0   2.0  ...   4.0  0.0   \n",
      "0  0.0  0.0   1.0   9.0  15.0  11.0   0.0  0.0  0.0   0.0  ...   0.0  0.0   \n",
      "0  0.0  0.0   0.0   0.0  14.0  13.0   1.0  0.0  0.0   0.0  ...   0.0  0.0   \n",
      "0  0.0  0.0   5.0  12.0   1.0   0.0   0.0  0.0  0.0   0.0  ...   8.0  2.0   \n",
      "0  0.0  2.0   9.0  15.0  14.0   9.0   3.0  0.0  0.0   4.0  ...   6.0  0.0   \n",
      "0  0.0  0.0   0.0   8.0  15.0   1.0   0.0  0.0  0.0   0.0  ...   0.0  0.0   \n",
      "0  0.0  5.0  12.0  13.0  16.0  16.0   2.0  0.0  0.0  11.0  ...   0.0  0.0   \n",
      "0  0.0  0.0   0.0   8.0  15.0   1.0   0.0  0.0  0.0   0.0  ...  16.0  2.0   \n",
      "0  0.0  0.0   1.0   8.0  15.0  10.0   0.0  0.0  0.0   3.0  ...   0.0  0.0   \n",
      "0  0.0  0.0  10.0   7.0  13.0   9.0   0.0  0.0  0.0   0.0  ...   0.0  0.0   \n",
      "0  0.0  0.0   6.0  14.0   4.0   0.0   0.0  0.0  0.0   0.0  ...  16.0  2.0   \n",
      "0  0.0  0.0   3.0  13.0  11.0   7.0   0.0  0.0  0.0   0.0  ...   1.0  0.0   \n",
      "0  0.0  0.0   0.0   2.0  16.0  16.0   2.0  0.0  0.0   0.0  ...   2.0  0.0   \n",
      "0  0.0  0.0   8.0  16.0   5.0   0.0   0.0  0.0  0.0   1.0  ...   3.0  0.0   \n",
      "0  0.0  1.0   8.0  12.0  15.0  14.0   4.0  0.0  0.0   3.0  ...   0.0  0.0   \n",
      "0  0.0  0.0   0.0   0.0  12.0   2.0   0.0  0.0  0.0   0.0  ...   0.0  0.0   \n",
      "0  0.0  0.0  12.0   8.0   8.0   7.0   0.0  0.0  0.0   3.0  ...   0.0  0.0   \n",
      "0  0.0  0.0   1.0  13.0  14.0   3.0   0.0  0.0  0.0   0.0  ...  12.0  0.0   \n",
      "0  0.0  0.0   0.0   8.0  14.0  14.0   2.0  0.0  0.0   0.0  ...   0.0  0.0   \n",
      "0  0.0  0.0  10.0  11.0   4.0   0.0   0.0  0.0  0.0   0.0  ...   0.0  0.0   \n",
      "0  0.0  0.0   9.0  13.0   7.0   0.0   0.0  0.0  0.0   0.0  ...  16.0  2.0   \n",
      "0  0.0  0.0  10.0  14.0  11.0   3.0   0.0  0.0  0.0   4.0  ...   0.0  0.0   \n",
      "0  0.0  0.0   2.0  13.0   8.0   0.0   0.0  0.0  0.0   0.0  ...  16.0  2.0   \n",
      "0  0.0  2.0  13.0  16.0  16.0  16.0  11.0  0.0  0.0   5.0  ...   0.0  0.0   \n",
      "0  0.0  6.0  13.0   5.0   8.0   8.0   1.0  0.0  0.0   8.0  ...   0.0  0.0   \n",
      "0  0.0  0.0   0.0   5.0  14.0   2.0   0.0  0.0  0.0   0.0  ...   9.0  0.0   \n",
      "0  0.0  3.0  15.0   8.0   8.0   6.0   0.0  0.0  0.0   4.0  ...   0.0  0.0   \n",
      "0  0.0  0.0   6.0  14.0  10.0   2.0   0.0  0.0  0.0   0.0  ...   0.0  0.0   \n",
      "0  0.0  0.0  13.0  10.0   1.0   0.0   0.0  0.0  0.0   5.0  ...  14.0  0.0   \n",
      "0  0.0  0.0   7.0   7.0  13.0  16.0   4.0  0.0  0.0   0.0  ...   0.0  0.0   \n",
      "0  0.0  1.0   9.0  16.0  13.0   7.0   0.0  0.0  0.0   7.0  ...   5.0  0.0   \n",
      "0  0.0  0.0  11.0  10.0  12.0   4.0   0.0  0.0  0.0   0.0  ...   0.0  0.0   \n",
      "0  0.0  0.0   0.0   9.0  15.0   1.0   0.0  0.0  0.0   0.0  ...   0.0  0.0   \n",
      "0  0.0  0.0   0.0   0.0  12.0   5.0   0.0  0.0  0.0   0.0  ...   0.0  0.0   \n",
      "0  0.0  0.0   0.0   9.0  15.0  12.0   0.0  0.0  0.0   0.0  ...   0.0  0.0   \n",
      "0  0.0  0.0   9.0  16.0  16.0  16.0   5.0  0.0  0.0   1.0  ...   0.0  0.0   \n",
      "0  0.0  0.0   9.0  16.0  13.0   6.0   0.0  0.0  0.0   0.0  ...  12.0  0.0   \n",
      "\n",
      "    56   57    58    59    60    61    62   63  \n",
      "0  0.0  0.0   6.0  13.0  10.0   0.0   0.0  0.0  \n",
      "0  0.0  0.0   0.0  11.0  16.0  10.0   0.0  0.0  \n",
      "0  0.0  0.0   0.0   3.0  11.0  16.0   9.0  0.0  \n",
      "0  0.0  0.0   7.0  13.0  13.0   9.0   0.0  0.0  \n",
      "0  0.0  0.0   0.0   2.0  16.0   4.0   0.0  0.0  \n",
      "0  0.0  0.0   9.0  16.0  16.0  10.0   0.0  0.0  \n",
      "0  0.0  0.0   1.0   9.0  15.0  11.0   3.0  0.0  \n",
      "0  0.0  0.0  13.0   5.0   0.0   0.0   0.0  0.0  \n",
      "0  0.0  0.0  11.0  16.0  15.0  11.0   1.0  0.0  \n",
      "0  0.0  0.0   9.0  12.0  13.0   3.0   0.0  0.0  \n",
      "0  0.0  0.0   1.0  10.0  13.0   3.0   0.0  0.0  \n",
      "0  0.0  0.0   0.0   1.0  13.0  16.0   1.0  0.0  \n",
      "0  0.0  0.0   3.0  11.0   8.0  13.0  12.0  4.0  \n",
      "0  0.0  2.0  12.0  12.0  13.0  11.0   0.0  0.0  \n",
      "0  0.0  0.0   0.0  10.0  15.0   4.0   0.0  0.0  \n",
      "0  0.0  4.0  15.0  16.0   2.0   0.0   0.0  0.0  \n",
      "0  0.0  0.0   0.0   7.0  15.0  16.0  11.0  0.0  \n",
      "0  0.0  0.0   0.0  11.0   9.0   0.0   0.0  0.0  \n",
      "0  0.0  0.0  11.0  14.0   5.0   0.0   0.0  0.0  \n",
      "0  0.0  0.0   7.0  16.0  16.0  13.0  11.0  1.0  \n",
      "0  0.0  0.0   2.0  12.0  13.0   4.0   0.0  0.0  \n",
      "0  0.0  0.0   0.0   2.0  12.0  15.0   4.0  0.0  \n",
      "0  0.0  0.0   7.0  12.0  12.0  12.0  13.0  1.0  \n",
      "0  0.0  0.0  14.0  15.0  11.0   2.0   0.0  0.0  \n",
      "0  0.0  0.0   0.0   0.0  12.0   8.0   0.0  0.0  \n",
      "0  0.0  0.0  11.0  14.0   9.0   0.0   0.0  0.0  \n",
      "0  0.0  0.0   3.0  12.0  15.0  14.0   7.0  0.0  \n",
      "0  0.0  0.0   0.0  12.0  13.0   1.0   0.0  0.0  \n",
      "0  0.0  0.0   8.0  14.0   7.0   1.0   0.0  0.0  \n",
      "0  0.0  0.0   7.0  12.0  12.0  12.0  11.0  0.0  \n",
      "0  0.0  0.0  11.0  16.0  12.0   3.0   0.0  0.0  \n",
      "0  0.0  0.0   2.0  15.0  13.0  14.0  13.0  2.0  \n",
      "0  0.0  2.0  16.0  15.0   8.0   0.0   0.0  0.0  \n",
      "0  0.0  4.0  16.0  15.0   3.0   0.0   0.0  0.0  \n",
      "0  0.0  0.0   0.0   5.0  16.0  15.0   3.0  0.0  \n",
      "0  0.0  1.0  15.0  14.0   1.0   0.0   0.0  0.0  \n",
      "0  0.0  0.0   7.0  16.0  11.0   1.0   0.0  0.0  \n",
      "0  0.0  0.0  13.0  13.0  15.0  16.0  13.0  0.0  \n",
      "0  0.0  1.0  11.0  16.0   6.0   0.0   0.0  0.0  \n",
      "0  0.0  0.0   9.0  14.0  13.0  10.0   1.0  0.0  \n",
      "0  0.0  1.0  11.0  14.0  12.0   4.0   0.0  0.0  \n",
      "0  0.0  0.0   0.0   9.0  16.0   2.0   0.0  0.0  \n",
      "0  0.0  0.0   0.0   3.0  16.0   8.0   0.0  0.0  \n",
      "0  0.0  0.0   0.0  11.0   7.0   0.0   0.0  0.0  \n",
      "0  0.0  0.0  13.0  10.0   0.0   0.0   0.0  0.0  \n",
      "0  0.0  0.0  11.0  14.0  12.0   8.0   0.0  0.0  \n",
      "\n",
      "[46 rows x 64 columns]\n",
      "    0    1     2     3     4     5     6    7    8     9   ...    54   55  \\\n",
      "0  0.0  0.0   5.0  13.0   9.0   1.0   0.0  0.0  0.0   0.0  ...   0.0  0.0   \n",
      "0  0.0  0.0   0.0  12.0  13.0   5.0   0.0  0.0  0.0   0.0  ...   0.0  0.0   \n",
      "0  0.0  0.0   0.0   4.0  15.0  12.0   0.0  0.0  0.0   0.0  ...   5.0  0.0   \n",
      "0  0.0  0.0   7.0  15.0  13.0   1.0   0.0  0.0  0.0   8.0  ...   9.0  0.0   \n",
      "0  0.0  0.0   0.0   1.0  11.0   0.0   0.0  0.0  0.0   0.0  ...   0.0  0.0   \n",
      "0  0.0  0.0  12.0  10.0   0.0   0.0   0.0  0.0  0.0   0.0  ...   4.0  0.0   \n",
      "0  0.0  0.0   0.0  12.0  13.0   0.0   0.0  0.0  0.0   0.0  ...   8.0  0.0   \n",
      "0  0.0  0.0   7.0   8.0  13.0  16.0  15.0  1.0  0.0   0.0  ...   0.0  0.0   \n",
      "0  0.0  0.0   9.0  14.0   8.0   1.0   0.0  0.0  0.0   0.0  ...   8.0  0.0   \n",
      "0  0.0  0.0  11.0  12.0   0.0   0.0   0.0  0.0  0.0   2.0  ...   4.0  0.0   \n",
      "0  0.0  0.0   1.0   9.0  15.0  11.0   0.0  0.0  0.0   0.0  ...   0.0  0.0   \n",
      "0  0.0  0.0   0.0   0.0  14.0  13.0   1.0  0.0  0.0   0.0  ...   0.0  0.0   \n",
      "0  0.0  0.0   5.0  12.0   1.0   0.0   0.0  0.0  0.0   0.0  ...   8.0  2.0   \n",
      "0  0.0  2.0   9.0  15.0  14.0   9.0   3.0  0.0  0.0   4.0  ...   6.0  0.0   \n",
      "0  0.0  0.0   0.0   8.0  15.0   1.0   0.0  0.0  0.0   0.0  ...   0.0  0.0   \n",
      "0  0.0  5.0  12.0  13.0  16.0  16.0   2.0  0.0  0.0  11.0  ...   0.0  0.0   \n",
      "0  0.0  0.0   0.0   8.0  15.0   1.0   0.0  0.0  0.0   0.0  ...  16.0  2.0   \n",
      "0  0.0  0.0   1.0   8.0  15.0  10.0   0.0  0.0  0.0   3.0  ...   0.0  0.0   \n",
      "0  0.0  0.0  10.0   7.0  13.0   9.0   0.0  0.0  0.0   0.0  ...   0.0  0.0   \n",
      "0  0.0  0.0   6.0  14.0   4.0   0.0   0.0  0.0  0.0   0.0  ...  16.0  2.0   \n",
      "0  0.0  0.0   3.0  13.0  11.0   7.0   0.0  0.0  0.0   0.0  ...   1.0  0.0   \n",
      "0  0.0  0.0   0.0   2.0  16.0  16.0   2.0  0.0  0.0   0.0  ...   2.0  0.0   \n",
      "0  0.0  0.0   8.0  16.0   5.0   0.0   0.0  0.0  0.0   1.0  ...   3.0  0.0   \n",
      "0  0.0  1.0   8.0  12.0  15.0  14.0   4.0  0.0  0.0   3.0  ...   0.0  0.0   \n",
      "0  0.0  0.0   0.0   0.0  12.0   2.0   0.0  0.0  0.0   0.0  ...   0.0  0.0   \n",
      "0  0.0  0.0  12.0   8.0   8.0   7.0   0.0  0.0  0.0   3.0  ...   0.0  0.0   \n",
      "0  0.0  0.0   1.0  13.0  14.0   3.0   0.0  0.0  0.0   0.0  ...  12.0  0.0   \n",
      "0  0.0  0.0   0.0   8.0  14.0  14.0   2.0  0.0  0.0   0.0  ...   0.0  0.0   \n",
      "0  0.0  0.0  10.0  11.0   4.0   0.0   0.0  0.0  0.0   0.0  ...   0.0  0.0   \n",
      "0  0.0  0.0   9.0  13.0   7.0   0.0   0.0  0.0  0.0   0.0  ...  16.0  2.0   \n",
      "0  0.0  0.0  10.0  14.0  11.0   3.0   0.0  0.0  0.0   4.0  ...   0.0  0.0   \n",
      "0  0.0  0.0   2.0  13.0   8.0   0.0   0.0  0.0  0.0   0.0  ...  16.0  2.0   \n",
      "0  0.0  2.0  13.0  16.0  16.0  16.0  11.0  0.0  0.0   5.0  ...   0.0  0.0   \n",
      "0  0.0  6.0  13.0   5.0   8.0   8.0   1.0  0.0  0.0   8.0  ...   0.0  0.0   \n",
      "0  0.0  0.0   0.0   5.0  14.0   2.0   0.0  0.0  0.0   0.0  ...   9.0  0.0   \n",
      "0  0.0  3.0  15.0   8.0   8.0   6.0   0.0  0.0  0.0   4.0  ...   0.0  0.0   \n",
      "0  0.0  0.0   6.0  14.0  10.0   2.0   0.0  0.0  0.0   0.0  ...   0.0  0.0   \n",
      "0  0.0  0.0  13.0  10.0   1.0   0.0   0.0  0.0  0.0   5.0  ...  14.0  0.0   \n",
      "0  0.0  0.0   7.0   7.0  13.0  16.0   4.0  0.0  0.0   0.0  ...   0.0  0.0   \n",
      "0  0.0  1.0   9.0  16.0  13.0   7.0   0.0  0.0  0.0   7.0  ...   5.0  0.0   \n",
      "0  0.0  0.0  11.0  10.0  12.0   4.0   0.0  0.0  0.0   0.0  ...   0.0  0.0   \n",
      "0  0.0  0.0   0.0   9.0  15.0   1.0   0.0  0.0  0.0   0.0  ...   0.0  0.0   \n",
      "0  0.0  0.0   0.0   0.0  12.0   5.0   0.0  0.0  0.0   0.0  ...   0.0  0.0   \n",
      "0  0.0  0.0   0.0   9.0  15.0  12.0   0.0  0.0  0.0   0.0  ...   0.0  0.0   \n",
      "0  0.0  0.0   9.0  16.0  16.0  16.0   5.0  0.0  0.0   1.0  ...   0.0  0.0   \n",
      "0  0.0  0.0   9.0  16.0  13.0   6.0   0.0  0.0  0.0   0.0  ...  12.0  0.0   \n",
      "0  0.0  1.0  15.0   4.0   0.0   0.0   0.0  0.0  0.0   2.0  ...   0.0  0.0   \n",
      "\n",
      "    56   57    58    59    60    61    62   63  \n",
      "0  0.0  0.0   6.0  13.0  10.0   0.0   0.0  0.0  \n",
      "0  0.0  0.0   0.0  11.0  16.0  10.0   0.0  0.0  \n",
      "0  0.0  0.0   0.0   3.0  11.0  16.0   9.0  0.0  \n",
      "0  0.0  0.0   7.0  13.0  13.0   9.0   0.0  0.0  \n",
      "0  0.0  0.0   0.0   2.0  16.0   4.0   0.0  0.0  \n",
      "0  0.0  0.0   9.0  16.0  16.0  10.0   0.0  0.0  \n",
      "0  0.0  0.0   1.0   9.0  15.0  11.0   3.0  0.0  \n",
      "0  0.0  0.0  13.0   5.0   0.0   0.0   0.0  0.0  \n",
      "0  0.0  0.0  11.0  16.0  15.0  11.0   1.0  0.0  \n",
      "0  0.0  0.0   9.0  12.0  13.0   3.0   0.0  0.0  \n",
      "0  0.0  0.0   1.0  10.0  13.0   3.0   0.0  0.0  \n",
      "0  0.0  0.0   0.0   1.0  13.0  16.0   1.0  0.0  \n",
      "0  0.0  0.0   3.0  11.0   8.0  13.0  12.0  4.0  \n",
      "0  0.0  2.0  12.0  12.0  13.0  11.0   0.0  0.0  \n",
      "0  0.0  0.0   0.0  10.0  15.0   4.0   0.0  0.0  \n",
      "0  0.0  4.0  15.0  16.0   2.0   0.0   0.0  0.0  \n",
      "0  0.0  0.0   0.0   7.0  15.0  16.0  11.0  0.0  \n",
      "0  0.0  0.0   0.0  11.0   9.0   0.0   0.0  0.0  \n",
      "0  0.0  0.0  11.0  14.0   5.0   0.0   0.0  0.0  \n",
      "0  0.0  0.0   7.0  16.0  16.0  13.0  11.0  1.0  \n",
      "0  0.0  0.0   2.0  12.0  13.0   4.0   0.0  0.0  \n",
      "0  0.0  0.0   0.0   2.0  12.0  15.0   4.0  0.0  \n",
      "0  0.0  0.0   7.0  12.0  12.0  12.0  13.0  1.0  \n",
      "0  0.0  0.0  14.0  15.0  11.0   2.0   0.0  0.0  \n",
      "0  0.0  0.0   0.0   0.0  12.0   8.0   0.0  0.0  \n",
      "0  0.0  0.0  11.0  14.0   9.0   0.0   0.0  0.0  \n",
      "0  0.0  0.0   3.0  12.0  15.0  14.0   7.0  0.0  \n",
      "0  0.0  0.0   0.0  12.0  13.0   1.0   0.0  0.0  \n",
      "0  0.0  0.0   8.0  14.0   7.0   1.0   0.0  0.0  \n",
      "0  0.0  0.0   7.0  12.0  12.0  12.0  11.0  0.0  \n",
      "0  0.0  0.0  11.0  16.0  12.0   3.0   0.0  0.0  \n",
      "0  0.0  0.0   2.0  15.0  13.0  14.0  13.0  2.0  \n",
      "0  0.0  2.0  16.0  15.0   8.0   0.0   0.0  0.0  \n",
      "0  0.0  4.0  16.0  15.0   3.0   0.0   0.0  0.0  \n",
      "0  0.0  0.0   0.0   5.0  16.0  15.0   3.0  0.0  \n",
      "0  0.0  1.0  15.0  14.0   1.0   0.0   0.0  0.0  \n",
      "0  0.0  0.0   7.0  16.0  11.0   1.0   0.0  0.0  \n",
      "0  0.0  0.0  13.0  13.0  15.0  16.0  13.0  0.0  \n",
      "0  0.0  1.0  11.0  16.0   6.0   0.0   0.0  0.0  \n",
      "0  0.0  0.0   9.0  14.0  13.0  10.0   1.0  0.0  \n",
      "0  0.0  1.0  11.0  14.0  12.0   4.0   0.0  0.0  \n",
      "0  0.0  0.0   0.0   9.0  16.0   2.0   0.0  0.0  \n",
      "0  0.0  0.0   0.0   3.0  16.0   8.0   0.0  0.0  \n",
      "0  0.0  0.0   0.0  11.0   7.0   0.0   0.0  0.0  \n",
      "0  0.0  0.0  13.0  10.0   0.0   0.0   0.0  0.0  \n",
      "0  0.0  0.0  11.0  14.0  12.0   8.0   0.0  0.0  \n",
      "0  0.0  0.0  14.0  14.0   4.0   0.0   0.0  0.0  \n",
      "\n",
      "[47 rows x 64 columns]\n",
      "    0    1     2     3     4     5     6    7    8     9   ...    54   55  \\\n",
      "0  0.0  0.0   5.0  13.0   9.0   1.0   0.0  0.0  0.0   0.0  ...   0.0  0.0   \n",
      "0  0.0  0.0   0.0  12.0  13.0   5.0   0.0  0.0  0.0   0.0  ...   0.0  0.0   \n",
      "0  0.0  0.0   0.0   4.0  15.0  12.0   0.0  0.0  0.0   0.0  ...   5.0  0.0   \n",
      "0  0.0  0.0   7.0  15.0  13.0   1.0   0.0  0.0  0.0   8.0  ...   9.0  0.0   \n",
      "0  0.0  0.0   0.0   1.0  11.0   0.0   0.0  0.0  0.0   0.0  ...   0.0  0.0   \n",
      "0  0.0  0.0  12.0  10.0   0.0   0.0   0.0  0.0  0.0   0.0  ...   4.0  0.0   \n",
      "0  0.0  0.0   0.0  12.0  13.0   0.0   0.0  0.0  0.0   0.0  ...   8.0  0.0   \n",
      "0  0.0  0.0   7.0   8.0  13.0  16.0  15.0  1.0  0.0   0.0  ...   0.0  0.0   \n",
      "0  0.0  0.0   9.0  14.0   8.0   1.0   0.0  0.0  0.0   0.0  ...   8.0  0.0   \n",
      "0  0.0  0.0  11.0  12.0   0.0   0.0   0.0  0.0  0.0   2.0  ...   4.0  0.0   \n",
      "0  0.0  0.0   1.0   9.0  15.0  11.0   0.0  0.0  0.0   0.0  ...   0.0  0.0   \n",
      "0  0.0  0.0   0.0   0.0  14.0  13.0   1.0  0.0  0.0   0.0  ...   0.0  0.0   \n",
      "0  0.0  0.0   5.0  12.0   1.0   0.0   0.0  0.0  0.0   0.0  ...   8.0  2.0   \n",
      "0  0.0  2.0   9.0  15.0  14.0   9.0   3.0  0.0  0.0   4.0  ...   6.0  0.0   \n",
      "0  0.0  0.0   0.0   8.0  15.0   1.0   0.0  0.0  0.0   0.0  ...   0.0  0.0   \n",
      "0  0.0  5.0  12.0  13.0  16.0  16.0   2.0  0.0  0.0  11.0  ...   0.0  0.0   \n",
      "0  0.0  0.0   0.0   8.0  15.0   1.0   0.0  0.0  0.0   0.0  ...  16.0  2.0   \n",
      "0  0.0  0.0   1.0   8.0  15.0  10.0   0.0  0.0  0.0   3.0  ...   0.0  0.0   \n",
      "0  0.0  0.0  10.0   7.0  13.0   9.0   0.0  0.0  0.0   0.0  ...   0.0  0.0   \n",
      "0  0.0  0.0   6.0  14.0   4.0   0.0   0.0  0.0  0.0   0.0  ...  16.0  2.0   \n",
      "0  0.0  0.0   3.0  13.0  11.0   7.0   0.0  0.0  0.0   0.0  ...   1.0  0.0   \n",
      "0  0.0  0.0   0.0   2.0  16.0  16.0   2.0  0.0  0.0   0.0  ...   2.0  0.0   \n",
      "0  0.0  0.0   8.0  16.0   5.0   0.0   0.0  0.0  0.0   1.0  ...   3.0  0.0   \n",
      "0  0.0  1.0   8.0  12.0  15.0  14.0   4.0  0.0  0.0   3.0  ...   0.0  0.0   \n",
      "0  0.0  0.0   0.0   0.0  12.0   2.0   0.0  0.0  0.0   0.0  ...   0.0  0.0   \n",
      "0  0.0  0.0  12.0   8.0   8.0   7.0   0.0  0.0  0.0   3.0  ...   0.0  0.0   \n",
      "0  0.0  0.0   1.0  13.0  14.0   3.0   0.0  0.0  0.0   0.0  ...  12.0  0.0   \n",
      "0  0.0  0.0   0.0   8.0  14.0  14.0   2.0  0.0  0.0   0.0  ...   0.0  0.0   \n",
      "0  0.0  0.0  10.0  11.0   4.0   0.0   0.0  0.0  0.0   0.0  ...   0.0  0.0   \n",
      "0  0.0  0.0   9.0  13.0   7.0   0.0   0.0  0.0  0.0   0.0  ...  16.0  2.0   \n",
      "0  0.0  0.0  10.0  14.0  11.0   3.0   0.0  0.0  0.0   4.0  ...   0.0  0.0   \n",
      "0  0.0  0.0   2.0  13.0   8.0   0.0   0.0  0.0  0.0   0.0  ...  16.0  2.0   \n",
      "0  0.0  2.0  13.0  16.0  16.0  16.0  11.0  0.0  0.0   5.0  ...   0.0  0.0   \n",
      "0  0.0  6.0  13.0   5.0   8.0   8.0   1.0  0.0  0.0   8.0  ...   0.0  0.0   \n",
      "0  0.0  0.0   0.0   5.0  14.0   2.0   0.0  0.0  0.0   0.0  ...   9.0  0.0   \n",
      "0  0.0  3.0  15.0   8.0   8.0   6.0   0.0  0.0  0.0   4.0  ...   0.0  0.0   \n",
      "0  0.0  0.0   6.0  14.0  10.0   2.0   0.0  0.0  0.0   0.0  ...   0.0  0.0   \n",
      "0  0.0  0.0  13.0  10.0   1.0   0.0   0.0  0.0  0.0   5.0  ...  14.0  0.0   \n",
      "0  0.0  0.0   7.0   7.0  13.0  16.0   4.0  0.0  0.0   0.0  ...   0.0  0.0   \n",
      "0  0.0  1.0   9.0  16.0  13.0   7.0   0.0  0.0  0.0   7.0  ...   5.0  0.0   \n",
      "0  0.0  0.0  11.0  10.0  12.0   4.0   0.0  0.0  0.0   0.0  ...   0.0  0.0   \n",
      "0  0.0  0.0   0.0   9.0  15.0   1.0   0.0  0.0  0.0   0.0  ...   0.0  0.0   \n",
      "0  0.0  0.0   0.0   0.0  12.0   5.0   0.0  0.0  0.0   0.0  ...   0.0  0.0   \n",
      "0  0.0  0.0   0.0   9.0  15.0  12.0   0.0  0.0  0.0   0.0  ...   0.0  0.0   \n",
      "0  0.0  0.0   9.0  16.0  16.0  16.0   5.0  0.0  0.0   1.0  ...   0.0  0.0   \n",
      "0  0.0  0.0   9.0  16.0  13.0   6.0   0.0  0.0  0.0   0.0  ...  12.0  0.0   \n",
      "0  0.0  1.0  15.0   4.0   0.0   0.0   0.0  0.0  0.0   2.0  ...   0.0  0.0   \n",
      "0  0.0  0.0   0.0   1.0  11.0   9.0   0.0  0.0  0.0   0.0  ...   0.0  0.0   \n",
      "\n",
      "    56   57    58    59    60    61    62   63  \n",
      "0  0.0  0.0   6.0  13.0  10.0   0.0   0.0  0.0  \n",
      "0  0.0  0.0   0.0  11.0  16.0  10.0   0.0  0.0  \n",
      "0  0.0  0.0   0.0   3.0  11.0  16.0   9.0  0.0  \n",
      "0  0.0  0.0   7.0  13.0  13.0   9.0   0.0  0.0  \n",
      "0  0.0  0.0   0.0   2.0  16.0   4.0   0.0  0.0  \n",
      "0  0.0  0.0   9.0  16.0  16.0  10.0   0.0  0.0  \n",
      "0  0.0  0.0   1.0   9.0  15.0  11.0   3.0  0.0  \n",
      "0  0.0  0.0  13.0   5.0   0.0   0.0   0.0  0.0  \n",
      "0  0.0  0.0  11.0  16.0  15.0  11.0   1.0  0.0  \n",
      "0  0.0  0.0   9.0  12.0  13.0   3.0   0.0  0.0  \n",
      "0  0.0  0.0   1.0  10.0  13.0   3.0   0.0  0.0  \n",
      "0  0.0  0.0   0.0   1.0  13.0  16.0   1.0  0.0  \n",
      "0  0.0  0.0   3.0  11.0   8.0  13.0  12.0  4.0  \n",
      "0  0.0  2.0  12.0  12.0  13.0  11.0   0.0  0.0  \n",
      "0  0.0  0.0   0.0  10.0  15.0   4.0   0.0  0.0  \n",
      "0  0.0  4.0  15.0  16.0   2.0   0.0   0.0  0.0  \n",
      "0  0.0  0.0   0.0   7.0  15.0  16.0  11.0  0.0  \n",
      "0  0.0  0.0   0.0  11.0   9.0   0.0   0.0  0.0  \n",
      "0  0.0  0.0  11.0  14.0   5.0   0.0   0.0  0.0  \n",
      "0  0.0  0.0   7.0  16.0  16.0  13.0  11.0  1.0  \n",
      "0  0.0  0.0   2.0  12.0  13.0   4.0   0.0  0.0  \n",
      "0  0.0  0.0   0.0   2.0  12.0  15.0   4.0  0.0  \n",
      "0  0.0  0.0   7.0  12.0  12.0  12.0  13.0  1.0  \n",
      "0  0.0  0.0  14.0  15.0  11.0   2.0   0.0  0.0  \n",
      "0  0.0  0.0   0.0   0.0  12.0   8.0   0.0  0.0  \n",
      "0  0.0  0.0  11.0  14.0   9.0   0.0   0.0  0.0  \n",
      "0  0.0  0.0   3.0  12.0  15.0  14.0   7.0  0.0  \n",
      "0  0.0  0.0   0.0  12.0  13.0   1.0   0.0  0.0  \n",
      "0  0.0  0.0   8.0  14.0   7.0   1.0   0.0  0.0  \n",
      "0  0.0  0.0   7.0  12.0  12.0  12.0  11.0  0.0  \n",
      "0  0.0  0.0  11.0  16.0  12.0   3.0   0.0  0.0  \n",
      "0  0.0  0.0   2.0  15.0  13.0  14.0  13.0  2.0  \n",
      "0  0.0  2.0  16.0  15.0   8.0   0.0   0.0  0.0  \n",
      "0  0.0  4.0  16.0  15.0   3.0   0.0   0.0  0.0  \n",
      "0  0.0  0.0   0.0   5.0  16.0  15.0   3.0  0.0  \n",
      "0  0.0  1.0  15.0  14.0   1.0   0.0   0.0  0.0  \n",
      "0  0.0  0.0   7.0  16.0  11.0   1.0   0.0  0.0  \n",
      "0  0.0  0.0  13.0  13.0  15.0  16.0  13.0  0.0  \n",
      "0  0.0  1.0  11.0  16.0   6.0   0.0   0.0  0.0  \n",
      "0  0.0  0.0   9.0  14.0  13.0  10.0   1.0  0.0  \n",
      "0  0.0  1.0  11.0  14.0  12.0   4.0   0.0  0.0  \n",
      "0  0.0  0.0   0.0   9.0  16.0   2.0   0.0  0.0  \n",
      "0  0.0  0.0   0.0   3.0  16.0   8.0   0.0  0.0  \n",
      "0  0.0  0.0   0.0  11.0   7.0   0.0   0.0  0.0  \n",
      "0  0.0  0.0  13.0  10.0   0.0   0.0   0.0  0.0  \n",
      "0  0.0  0.0  11.0  14.0  12.0   8.0   0.0  0.0  \n",
      "0  0.0  0.0  14.0  14.0   4.0   0.0   0.0  0.0  \n",
      "0  0.0  0.0   0.0   2.0  14.0   6.0   0.0  0.0  \n",
      "\n",
      "[48 rows x 64 columns]\n",
      "    0    1     2     3     4     5     6    7    8     9   ...    54   55  \\\n",
      "0  0.0  0.0   5.0  13.0   9.0   1.0   0.0  0.0  0.0   0.0  ...   0.0  0.0   \n",
      "0  0.0  0.0   0.0  12.0  13.0   5.0   0.0  0.0  0.0   0.0  ...   0.0  0.0   \n",
      "0  0.0  0.0   0.0   4.0  15.0  12.0   0.0  0.0  0.0   0.0  ...   5.0  0.0   \n",
      "0  0.0  0.0   7.0  15.0  13.0   1.0   0.0  0.0  0.0   8.0  ...   9.0  0.0   \n",
      "0  0.0  0.0   0.0   1.0  11.0   0.0   0.0  0.0  0.0   0.0  ...   0.0  0.0   \n",
      "0  0.0  0.0  12.0  10.0   0.0   0.0   0.0  0.0  0.0   0.0  ...   4.0  0.0   \n",
      "0  0.0  0.0   0.0  12.0  13.0   0.0   0.0  0.0  0.0   0.0  ...   8.0  0.0   \n",
      "0  0.0  0.0   7.0   8.0  13.0  16.0  15.0  1.0  0.0   0.0  ...   0.0  0.0   \n",
      "0  0.0  0.0   9.0  14.0   8.0   1.0   0.0  0.0  0.0   0.0  ...   8.0  0.0   \n",
      "0  0.0  0.0  11.0  12.0   0.0   0.0   0.0  0.0  0.0   2.0  ...   4.0  0.0   \n",
      "0  0.0  0.0   1.0   9.0  15.0  11.0   0.0  0.0  0.0   0.0  ...   0.0  0.0   \n",
      "0  0.0  0.0   0.0   0.0  14.0  13.0   1.0  0.0  0.0   0.0  ...   0.0  0.0   \n",
      "0  0.0  0.0   5.0  12.0   1.0   0.0   0.0  0.0  0.0   0.0  ...   8.0  2.0   \n",
      "0  0.0  2.0   9.0  15.0  14.0   9.0   3.0  0.0  0.0   4.0  ...   6.0  0.0   \n",
      "0  0.0  0.0   0.0   8.0  15.0   1.0   0.0  0.0  0.0   0.0  ...   0.0  0.0   \n",
      "0  0.0  5.0  12.0  13.0  16.0  16.0   2.0  0.0  0.0  11.0  ...   0.0  0.0   \n",
      "0  0.0  0.0   0.0   8.0  15.0   1.0   0.0  0.0  0.0   0.0  ...  16.0  2.0   \n",
      "0  0.0  0.0   1.0   8.0  15.0  10.0   0.0  0.0  0.0   3.0  ...   0.0  0.0   \n",
      "0  0.0  0.0  10.0   7.0  13.0   9.0   0.0  0.0  0.0   0.0  ...   0.0  0.0   \n",
      "0  0.0  0.0   6.0  14.0   4.0   0.0   0.0  0.0  0.0   0.0  ...  16.0  2.0   \n",
      "0  0.0  0.0   3.0  13.0  11.0   7.0   0.0  0.0  0.0   0.0  ...   1.0  0.0   \n",
      "0  0.0  0.0   0.0   2.0  16.0  16.0   2.0  0.0  0.0   0.0  ...   2.0  0.0   \n",
      "0  0.0  0.0   8.0  16.0   5.0   0.0   0.0  0.0  0.0   1.0  ...   3.0  0.0   \n",
      "0  0.0  1.0   8.0  12.0  15.0  14.0   4.0  0.0  0.0   3.0  ...   0.0  0.0   \n",
      "0  0.0  0.0   0.0   0.0  12.0   2.0   0.0  0.0  0.0   0.0  ...   0.0  0.0   \n",
      "0  0.0  0.0  12.0   8.0   8.0   7.0   0.0  0.0  0.0   3.0  ...   0.0  0.0   \n",
      "0  0.0  0.0   1.0  13.0  14.0   3.0   0.0  0.0  0.0   0.0  ...  12.0  0.0   \n",
      "0  0.0  0.0   0.0   8.0  14.0  14.0   2.0  0.0  0.0   0.0  ...   0.0  0.0   \n",
      "0  0.0  0.0  10.0  11.0   4.0   0.0   0.0  0.0  0.0   0.0  ...   0.0  0.0   \n",
      "0  0.0  0.0   9.0  13.0   7.0   0.0   0.0  0.0  0.0   0.0  ...  16.0  2.0   \n",
      "0  0.0  0.0  10.0  14.0  11.0   3.0   0.0  0.0  0.0   4.0  ...   0.0  0.0   \n",
      "0  0.0  0.0   2.0  13.0   8.0   0.0   0.0  0.0  0.0   0.0  ...  16.0  2.0   \n",
      "0  0.0  2.0  13.0  16.0  16.0  16.0  11.0  0.0  0.0   5.0  ...   0.0  0.0   \n",
      "0  0.0  6.0  13.0   5.0   8.0   8.0   1.0  0.0  0.0   8.0  ...   0.0  0.0   \n",
      "0  0.0  0.0   0.0   5.0  14.0   2.0   0.0  0.0  0.0   0.0  ...   9.0  0.0   \n",
      "0  0.0  3.0  15.0   8.0   8.0   6.0   0.0  0.0  0.0   4.0  ...   0.0  0.0   \n",
      "0  0.0  0.0   6.0  14.0  10.0   2.0   0.0  0.0  0.0   0.0  ...   0.0  0.0   \n",
      "0  0.0  0.0  13.0  10.0   1.0   0.0   0.0  0.0  0.0   5.0  ...  14.0  0.0   \n",
      "0  0.0  0.0   7.0   7.0  13.0  16.0   4.0  0.0  0.0   0.0  ...   0.0  0.0   \n",
      "0  0.0  1.0   9.0  16.0  13.0   7.0   0.0  0.0  0.0   7.0  ...   5.0  0.0   \n",
      "0  0.0  0.0  11.0  10.0  12.0   4.0   0.0  0.0  0.0   0.0  ...   0.0  0.0   \n",
      "0  0.0  0.0   0.0   9.0  15.0   1.0   0.0  0.0  0.0   0.0  ...   0.0  0.0   \n",
      "0  0.0  0.0   0.0   0.0  12.0   5.0   0.0  0.0  0.0   0.0  ...   0.0  0.0   \n",
      "0  0.0  0.0   0.0   9.0  15.0  12.0   0.0  0.0  0.0   0.0  ...   0.0  0.0   \n",
      "0  0.0  0.0   9.0  16.0  16.0  16.0   5.0  0.0  0.0   1.0  ...   0.0  0.0   \n",
      "0  0.0  0.0   9.0  16.0  13.0   6.0   0.0  0.0  0.0   0.0  ...  12.0  0.0   \n",
      "0  0.0  1.0  15.0   4.0   0.0   0.0   0.0  0.0  0.0   2.0  ...   0.0  0.0   \n",
      "0  0.0  0.0   0.0   1.0  11.0   9.0   0.0  0.0  0.0   0.0  ...   0.0  0.0   \n",
      "0  0.0  0.0   2.0  15.0  13.0   3.0   0.0  0.0  0.0   0.0  ...   5.0  0.0   \n",
      "\n",
      "    56   57    58    59    60    61    62   63  \n",
      "0  0.0  0.0   6.0  13.0  10.0   0.0   0.0  0.0  \n",
      "0  0.0  0.0   0.0  11.0  16.0  10.0   0.0  0.0  \n",
      "0  0.0  0.0   0.0   3.0  11.0  16.0   9.0  0.0  \n",
      "0  0.0  0.0   7.0  13.0  13.0   9.0   0.0  0.0  \n",
      "0  0.0  0.0   0.0   2.0  16.0   4.0   0.0  0.0  \n",
      "0  0.0  0.0   9.0  16.0  16.0  10.0   0.0  0.0  \n",
      "0  0.0  0.0   1.0   9.0  15.0  11.0   3.0  0.0  \n",
      "0  0.0  0.0  13.0   5.0   0.0   0.0   0.0  0.0  \n",
      "0  0.0  0.0  11.0  16.0  15.0  11.0   1.0  0.0  \n",
      "0  0.0  0.0   9.0  12.0  13.0   3.0   0.0  0.0  \n",
      "0  0.0  0.0   1.0  10.0  13.0   3.0   0.0  0.0  \n",
      "0  0.0  0.0   0.0   1.0  13.0  16.0   1.0  0.0  \n",
      "0  0.0  0.0   3.0  11.0   8.0  13.0  12.0  4.0  \n",
      "0  0.0  2.0  12.0  12.0  13.0  11.0   0.0  0.0  \n",
      "0  0.0  0.0   0.0  10.0  15.0   4.0   0.0  0.0  \n",
      "0  0.0  4.0  15.0  16.0   2.0   0.0   0.0  0.0  \n",
      "0  0.0  0.0   0.0   7.0  15.0  16.0  11.0  0.0  \n",
      "0  0.0  0.0   0.0  11.0   9.0   0.0   0.0  0.0  \n",
      "0  0.0  0.0  11.0  14.0   5.0   0.0   0.0  0.0  \n",
      "0  0.0  0.0   7.0  16.0  16.0  13.0  11.0  1.0  \n",
      "0  0.0  0.0   2.0  12.0  13.0   4.0   0.0  0.0  \n",
      "0  0.0  0.0   0.0   2.0  12.0  15.0   4.0  0.0  \n",
      "0  0.0  0.0   7.0  12.0  12.0  12.0  13.0  1.0  \n",
      "0  0.0  0.0  14.0  15.0  11.0   2.0   0.0  0.0  \n",
      "0  0.0  0.0   0.0   0.0  12.0   8.0   0.0  0.0  \n",
      "0  0.0  0.0  11.0  14.0   9.0   0.0   0.0  0.0  \n",
      "0  0.0  0.0   3.0  12.0  15.0  14.0   7.0  0.0  \n",
      "0  0.0  0.0   0.0  12.0  13.0   1.0   0.0  0.0  \n",
      "0  0.0  0.0   8.0  14.0   7.0   1.0   0.0  0.0  \n",
      "0  0.0  0.0   7.0  12.0  12.0  12.0  11.0  0.0  \n",
      "0  0.0  0.0  11.0  16.0  12.0   3.0   0.0  0.0  \n",
      "0  0.0  0.0   2.0  15.0  13.0  14.0  13.0  2.0  \n",
      "0  0.0  2.0  16.0  15.0   8.0   0.0   0.0  0.0  \n",
      "0  0.0  4.0  16.0  15.0   3.0   0.0   0.0  0.0  \n",
      "0  0.0  0.0   0.0   5.0  16.0  15.0   3.0  0.0  \n",
      "0  0.0  1.0  15.0  14.0   1.0   0.0   0.0  0.0  \n",
      "0  0.0  0.0   7.0  16.0  11.0   1.0   0.0  0.0  \n",
      "0  0.0  0.0  13.0  13.0  15.0  16.0  13.0  0.0  \n",
      "0  0.0  1.0  11.0  16.0   6.0   0.0   0.0  0.0  \n",
      "0  0.0  0.0   9.0  14.0  13.0  10.0   1.0  0.0  \n",
      "0  0.0  1.0  11.0  14.0  12.0   4.0   0.0  0.0  \n",
      "0  0.0  0.0   0.0   9.0  16.0   2.0   0.0  0.0  \n",
      "0  0.0  0.0   0.0   3.0  16.0   8.0   0.0  0.0  \n",
      "0  0.0  0.0   0.0  11.0   7.0   0.0   0.0  0.0  \n",
      "0  0.0  0.0  13.0  10.0   0.0   0.0   0.0  0.0  \n",
      "0  0.0  0.0  11.0  14.0  12.0   8.0   0.0  0.0  \n",
      "0  0.0  0.0  14.0  14.0   4.0   0.0   0.0  0.0  \n",
      "0  0.0  0.0   0.0   2.0  14.0   6.0   0.0  0.0  \n",
      "0  0.0  0.0   4.0  12.0  15.0   6.0   0.0  0.0  \n",
      "\n",
      "[49 rows x 64 columns]\n",
      "    0    1     2     3     4     5     6    7    8     9   ...    54   55  \\\n",
      "0  0.0  0.0   5.0  13.0   9.0   1.0   0.0  0.0  0.0   0.0  ...   0.0  0.0   \n",
      "0  0.0  0.0   0.0  12.0  13.0   5.0   0.0  0.0  0.0   0.0  ...   0.0  0.0   \n",
      "0  0.0  0.0   0.0   4.0  15.0  12.0   0.0  0.0  0.0   0.0  ...   5.0  0.0   \n",
      "0  0.0  0.0   7.0  15.0  13.0   1.0   0.0  0.0  0.0   8.0  ...   9.0  0.0   \n",
      "0  0.0  0.0   0.0   1.0  11.0   0.0   0.0  0.0  0.0   0.0  ...   0.0  0.0   \n",
      "0  0.0  0.0  12.0  10.0   0.0   0.0   0.0  0.0  0.0   0.0  ...   4.0  0.0   \n",
      "0  0.0  0.0   0.0  12.0  13.0   0.0   0.0  0.0  0.0   0.0  ...   8.0  0.0   \n",
      "0  0.0  0.0   7.0   8.0  13.0  16.0  15.0  1.0  0.0   0.0  ...   0.0  0.0   \n",
      "0  0.0  0.0   9.0  14.0   8.0   1.0   0.0  0.0  0.0   0.0  ...   8.0  0.0   \n",
      "0  0.0  0.0  11.0  12.0   0.0   0.0   0.0  0.0  0.0   2.0  ...   4.0  0.0   \n",
      "0  0.0  0.0   1.0   9.0  15.0  11.0   0.0  0.0  0.0   0.0  ...   0.0  0.0   \n",
      "0  0.0  0.0   0.0   0.0  14.0  13.0   1.0  0.0  0.0   0.0  ...   0.0  0.0   \n",
      "0  0.0  0.0   5.0  12.0   1.0   0.0   0.0  0.0  0.0   0.0  ...   8.0  2.0   \n",
      "0  0.0  2.0   9.0  15.0  14.0   9.0   3.0  0.0  0.0   4.0  ...   6.0  0.0   \n",
      "0  0.0  0.0   0.0   8.0  15.0   1.0   0.0  0.0  0.0   0.0  ...   0.0  0.0   \n",
      "0  0.0  5.0  12.0  13.0  16.0  16.0   2.0  0.0  0.0  11.0  ...   0.0  0.0   \n",
      "0  0.0  0.0   0.0   8.0  15.0   1.0   0.0  0.0  0.0   0.0  ...  16.0  2.0   \n",
      "0  0.0  0.0   1.0   8.0  15.0  10.0   0.0  0.0  0.0   3.0  ...   0.0  0.0   \n",
      "0  0.0  0.0  10.0   7.0  13.0   9.0   0.0  0.0  0.0   0.0  ...   0.0  0.0   \n",
      "0  0.0  0.0   6.0  14.0   4.0   0.0   0.0  0.0  0.0   0.0  ...  16.0  2.0   \n",
      "0  0.0  0.0   3.0  13.0  11.0   7.0   0.0  0.0  0.0   0.0  ...   1.0  0.0   \n",
      "0  0.0  0.0   0.0   2.0  16.0  16.0   2.0  0.0  0.0   0.0  ...   2.0  0.0   \n",
      "0  0.0  0.0   8.0  16.0   5.0   0.0   0.0  0.0  0.0   1.0  ...   3.0  0.0   \n",
      "0  0.0  1.0   8.0  12.0  15.0  14.0   4.0  0.0  0.0   3.0  ...   0.0  0.0   \n",
      "0  0.0  0.0   0.0   0.0  12.0   2.0   0.0  0.0  0.0   0.0  ...   0.0  0.0   \n",
      "0  0.0  0.0  12.0   8.0   8.0   7.0   0.0  0.0  0.0   3.0  ...   0.0  0.0   \n",
      "0  0.0  0.0   1.0  13.0  14.0   3.0   0.0  0.0  0.0   0.0  ...  12.0  0.0   \n",
      "0  0.0  0.0   0.0   8.0  14.0  14.0   2.0  0.0  0.0   0.0  ...   0.0  0.0   \n",
      "0  0.0  0.0  10.0  11.0   4.0   0.0   0.0  0.0  0.0   0.0  ...   0.0  0.0   \n",
      "0  0.0  0.0   9.0  13.0   7.0   0.0   0.0  0.0  0.0   0.0  ...  16.0  2.0   \n",
      "0  0.0  0.0  10.0  14.0  11.0   3.0   0.0  0.0  0.0   4.0  ...   0.0  0.0   \n",
      "0  0.0  0.0   2.0  13.0   8.0   0.0   0.0  0.0  0.0   0.0  ...  16.0  2.0   \n",
      "0  0.0  2.0  13.0  16.0  16.0  16.0  11.0  0.0  0.0   5.0  ...   0.0  0.0   \n",
      "0  0.0  6.0  13.0   5.0   8.0   8.0   1.0  0.0  0.0   8.0  ...   0.0  0.0   \n",
      "0  0.0  0.0   0.0   5.0  14.0   2.0   0.0  0.0  0.0   0.0  ...   9.0  0.0   \n",
      "0  0.0  3.0  15.0   8.0   8.0   6.0   0.0  0.0  0.0   4.0  ...   0.0  0.0   \n",
      "0  0.0  0.0   6.0  14.0  10.0   2.0   0.0  0.0  0.0   0.0  ...   0.0  0.0   \n",
      "0  0.0  0.0  13.0  10.0   1.0   0.0   0.0  0.0  0.0   5.0  ...  14.0  0.0   \n",
      "0  0.0  0.0   7.0   7.0  13.0  16.0   4.0  0.0  0.0   0.0  ...   0.0  0.0   \n",
      "0  0.0  1.0   9.0  16.0  13.0   7.0   0.0  0.0  0.0   7.0  ...   5.0  0.0   \n",
      "0  0.0  0.0  11.0  10.0  12.0   4.0   0.0  0.0  0.0   0.0  ...   0.0  0.0   \n",
      "0  0.0  0.0   0.0   9.0  15.0   1.0   0.0  0.0  0.0   0.0  ...   0.0  0.0   \n",
      "0  0.0  0.0   0.0   0.0  12.0   5.0   0.0  0.0  0.0   0.0  ...   0.0  0.0   \n",
      "0  0.0  0.0   0.0   9.0  15.0  12.0   0.0  0.0  0.0   0.0  ...   0.0  0.0   \n",
      "0  0.0  0.0   9.0  16.0  16.0  16.0   5.0  0.0  0.0   1.0  ...   0.0  0.0   \n",
      "0  0.0  0.0   9.0  16.0  13.0   6.0   0.0  0.0  0.0   0.0  ...  12.0  0.0   \n",
      "0  0.0  1.0  15.0   4.0   0.0   0.0   0.0  0.0  0.0   2.0  ...   0.0  0.0   \n",
      "0  0.0  0.0   0.0   1.0  11.0   9.0   0.0  0.0  0.0   0.0  ...   0.0  0.0   \n",
      "0  0.0  0.0   2.0  15.0  13.0   3.0   0.0  0.0  0.0   0.0  ...   5.0  0.0   \n",
      "0  0.0  0.0   1.0  15.0  13.0   1.0   0.0  0.0  0.0   0.0  ...   6.0  0.0   \n",
      "\n",
      "    56   57    58    59    60    61    62   63  \n",
      "0  0.0  0.0   6.0  13.0  10.0   0.0   0.0  0.0  \n",
      "0  0.0  0.0   0.0  11.0  16.0  10.0   0.0  0.0  \n",
      "0  0.0  0.0   0.0   3.0  11.0  16.0   9.0  0.0  \n",
      "0  0.0  0.0   7.0  13.0  13.0   9.0   0.0  0.0  \n",
      "0  0.0  0.0   0.0   2.0  16.0   4.0   0.0  0.0  \n",
      "0  0.0  0.0   9.0  16.0  16.0  10.0   0.0  0.0  \n",
      "0  0.0  0.0   1.0   9.0  15.0  11.0   3.0  0.0  \n",
      "0  0.0  0.0  13.0   5.0   0.0   0.0   0.0  0.0  \n",
      "0  0.0  0.0  11.0  16.0  15.0  11.0   1.0  0.0  \n",
      "0  0.0  0.0   9.0  12.0  13.0   3.0   0.0  0.0  \n",
      "0  0.0  0.0   1.0  10.0  13.0   3.0   0.0  0.0  \n",
      "0  0.0  0.0   0.0   1.0  13.0  16.0   1.0  0.0  \n",
      "0  0.0  0.0   3.0  11.0   8.0  13.0  12.0  4.0  \n",
      "0  0.0  2.0  12.0  12.0  13.0  11.0   0.0  0.0  \n",
      "0  0.0  0.0   0.0  10.0  15.0   4.0   0.0  0.0  \n",
      "0  0.0  4.0  15.0  16.0   2.0   0.0   0.0  0.0  \n",
      "0  0.0  0.0   0.0   7.0  15.0  16.0  11.0  0.0  \n",
      "0  0.0  0.0   0.0  11.0   9.0   0.0   0.0  0.0  \n",
      "0  0.0  0.0  11.0  14.0   5.0   0.0   0.0  0.0  \n",
      "0  0.0  0.0   7.0  16.0  16.0  13.0  11.0  1.0  \n",
      "0  0.0  0.0   2.0  12.0  13.0   4.0   0.0  0.0  \n",
      "0  0.0  0.0   0.0   2.0  12.0  15.0   4.0  0.0  \n",
      "0  0.0  0.0   7.0  12.0  12.0  12.0  13.0  1.0  \n",
      "0  0.0  0.0  14.0  15.0  11.0   2.0   0.0  0.0  \n",
      "0  0.0  0.0   0.0   0.0  12.0   8.0   0.0  0.0  \n",
      "0  0.0  0.0  11.0  14.0   9.0   0.0   0.0  0.0  \n",
      "0  0.0  0.0   3.0  12.0  15.0  14.0   7.0  0.0  \n",
      "0  0.0  0.0   0.0  12.0  13.0   1.0   0.0  0.0  \n",
      "0  0.0  0.0   8.0  14.0   7.0   1.0   0.0  0.0  \n",
      "0  0.0  0.0   7.0  12.0  12.0  12.0  11.0  0.0  \n",
      "0  0.0  0.0  11.0  16.0  12.0   3.0   0.0  0.0  \n",
      "0  0.0  0.0   2.0  15.0  13.0  14.0  13.0  2.0  \n",
      "0  0.0  2.0  16.0  15.0   8.0   0.0   0.0  0.0  \n",
      "0  0.0  4.0  16.0  15.0   3.0   0.0   0.0  0.0  \n",
      "0  0.0  0.0   0.0   5.0  16.0  15.0   3.0  0.0  \n",
      "0  0.0  1.0  15.0  14.0   1.0   0.0   0.0  0.0  \n",
      "0  0.0  0.0   7.0  16.0  11.0   1.0   0.0  0.0  \n",
      "0  0.0  0.0  13.0  13.0  15.0  16.0  13.0  0.0  \n",
      "0  0.0  1.0  11.0  16.0   6.0   0.0   0.0  0.0  \n",
      "0  0.0  0.0   9.0  14.0  13.0  10.0   1.0  0.0  \n",
      "0  0.0  1.0  11.0  14.0  12.0   4.0   0.0  0.0  \n",
      "0  0.0  0.0   0.0   9.0  16.0   2.0   0.0  0.0  \n",
      "0  0.0  0.0   0.0   3.0  16.0   8.0   0.0  0.0  \n",
      "0  0.0  0.0   0.0  11.0   7.0   0.0   0.0  0.0  \n",
      "0  0.0  0.0  13.0  10.0   0.0   0.0   0.0  0.0  \n",
      "0  0.0  0.0  11.0  14.0  12.0   8.0   0.0  0.0  \n",
      "0  0.0  0.0  14.0  14.0   4.0   0.0   0.0  0.0  \n",
      "0  0.0  0.0   0.0   2.0  14.0   6.0   0.0  0.0  \n",
      "0  0.0  0.0   4.0  12.0  15.0   6.0   0.0  0.0  \n",
      "0  0.0  0.0   0.0  13.0  14.0   8.0   0.0  0.0  \n",
      "\n",
      "[50 rows x 64 columns]\n",
      "    0    1     2     3     4     5     6    7    8     9   ...    54   55  \\\n",
      "0  0.0  0.0   5.0  13.0   9.0   1.0   0.0  0.0  0.0   0.0  ...   0.0  0.0   \n",
      "0  0.0  0.0   0.0  12.0  13.0   5.0   0.0  0.0  0.0   0.0  ...   0.0  0.0   \n",
      "0  0.0  0.0   0.0   4.0  15.0  12.0   0.0  0.0  0.0   0.0  ...   5.0  0.0   \n",
      "0  0.0  0.0   7.0  15.0  13.0   1.0   0.0  0.0  0.0   8.0  ...   9.0  0.0   \n",
      "0  0.0  0.0   0.0   1.0  11.0   0.0   0.0  0.0  0.0   0.0  ...   0.0  0.0   \n",
      "0  0.0  0.0  12.0  10.0   0.0   0.0   0.0  0.0  0.0   0.0  ...   4.0  0.0   \n",
      "0  0.0  0.0   0.0  12.0  13.0   0.0   0.0  0.0  0.0   0.0  ...   8.0  0.0   \n",
      "0  0.0  0.0   7.0   8.0  13.0  16.0  15.0  1.0  0.0   0.0  ...   0.0  0.0   \n",
      "0  0.0  0.0   9.0  14.0   8.0   1.0   0.0  0.0  0.0   0.0  ...   8.0  0.0   \n",
      "0  0.0  0.0  11.0  12.0   0.0   0.0   0.0  0.0  0.0   2.0  ...   4.0  0.0   \n",
      "0  0.0  0.0   1.0   9.0  15.0  11.0   0.0  0.0  0.0   0.0  ...   0.0  0.0   \n",
      "0  0.0  0.0   0.0   0.0  14.0  13.0   1.0  0.0  0.0   0.0  ...   0.0  0.0   \n",
      "0  0.0  0.0   5.0  12.0   1.0   0.0   0.0  0.0  0.0   0.0  ...   8.0  2.0   \n",
      "0  0.0  2.0   9.0  15.0  14.0   9.0   3.0  0.0  0.0   4.0  ...   6.0  0.0   \n",
      "0  0.0  0.0   0.0   8.0  15.0   1.0   0.0  0.0  0.0   0.0  ...   0.0  0.0   \n",
      "0  0.0  5.0  12.0  13.0  16.0  16.0   2.0  0.0  0.0  11.0  ...   0.0  0.0   \n",
      "0  0.0  0.0   0.0   8.0  15.0   1.0   0.0  0.0  0.0   0.0  ...  16.0  2.0   \n",
      "0  0.0  0.0   1.0   8.0  15.0  10.0   0.0  0.0  0.0   3.0  ...   0.0  0.0   \n",
      "0  0.0  0.0  10.0   7.0  13.0   9.0   0.0  0.0  0.0   0.0  ...   0.0  0.0   \n",
      "0  0.0  0.0   6.0  14.0   4.0   0.0   0.0  0.0  0.0   0.0  ...  16.0  2.0   \n",
      "0  0.0  0.0   3.0  13.0  11.0   7.0   0.0  0.0  0.0   0.0  ...   1.0  0.0   \n",
      "0  0.0  0.0   0.0   2.0  16.0  16.0   2.0  0.0  0.0   0.0  ...   2.0  0.0   \n",
      "0  0.0  0.0   8.0  16.0   5.0   0.0   0.0  0.0  0.0   1.0  ...   3.0  0.0   \n",
      "0  0.0  1.0   8.0  12.0  15.0  14.0   4.0  0.0  0.0   3.0  ...   0.0  0.0   \n",
      "0  0.0  0.0   0.0   0.0  12.0   2.0   0.0  0.0  0.0   0.0  ...   0.0  0.0   \n",
      "0  0.0  0.0  12.0   8.0   8.0   7.0   0.0  0.0  0.0   3.0  ...   0.0  0.0   \n",
      "0  0.0  0.0   1.0  13.0  14.0   3.0   0.0  0.0  0.0   0.0  ...  12.0  0.0   \n",
      "0  0.0  0.0   0.0   8.0  14.0  14.0   2.0  0.0  0.0   0.0  ...   0.0  0.0   \n",
      "0  0.0  0.0  10.0  11.0   4.0   0.0   0.0  0.0  0.0   0.0  ...   0.0  0.0   \n",
      "0  0.0  0.0   9.0  13.0   7.0   0.0   0.0  0.0  0.0   0.0  ...  16.0  2.0   \n",
      "0  0.0  0.0  10.0  14.0  11.0   3.0   0.0  0.0  0.0   4.0  ...   0.0  0.0   \n",
      "0  0.0  0.0   2.0  13.0   8.0   0.0   0.0  0.0  0.0   0.0  ...  16.0  2.0   \n",
      "0  0.0  2.0  13.0  16.0  16.0  16.0  11.0  0.0  0.0   5.0  ...   0.0  0.0   \n",
      "0  0.0  6.0  13.0   5.0   8.0   8.0   1.0  0.0  0.0   8.0  ...   0.0  0.0   \n",
      "0  0.0  0.0   0.0   5.0  14.0   2.0   0.0  0.0  0.0   0.0  ...   9.0  0.0   \n",
      "0  0.0  3.0  15.0   8.0   8.0   6.0   0.0  0.0  0.0   4.0  ...   0.0  0.0   \n",
      "0  0.0  0.0   6.0  14.0  10.0   2.0   0.0  0.0  0.0   0.0  ...   0.0  0.0   \n",
      "0  0.0  0.0  13.0  10.0   1.0   0.0   0.0  0.0  0.0   5.0  ...  14.0  0.0   \n",
      "0  0.0  0.0   7.0   7.0  13.0  16.0   4.0  0.0  0.0   0.0  ...   0.0  0.0   \n",
      "0  0.0  1.0   9.0  16.0  13.0   7.0   0.0  0.0  0.0   7.0  ...   5.0  0.0   \n",
      "0  0.0  0.0  11.0  10.0  12.0   4.0   0.0  0.0  0.0   0.0  ...   0.0  0.0   \n",
      "0  0.0  0.0   0.0   9.0  15.0   1.0   0.0  0.0  0.0   0.0  ...   0.0  0.0   \n",
      "0  0.0  0.0   0.0   0.0  12.0   5.0   0.0  0.0  0.0   0.0  ...   0.0  0.0   \n",
      "0  0.0  0.0   0.0   9.0  15.0  12.0   0.0  0.0  0.0   0.0  ...   0.0  0.0   \n",
      "0  0.0  0.0   9.0  16.0  16.0  16.0   5.0  0.0  0.0   1.0  ...   0.0  0.0   \n",
      "0  0.0  0.0   9.0  16.0  13.0   6.0   0.0  0.0  0.0   0.0  ...  12.0  0.0   \n",
      "0  0.0  1.0  15.0   4.0   0.0   0.0   0.0  0.0  0.0   2.0  ...   0.0  0.0   \n",
      "0  0.0  0.0   0.0   1.0  11.0   9.0   0.0  0.0  0.0   0.0  ...   0.0  0.0   \n",
      "0  0.0  0.0   2.0  15.0  13.0   3.0   0.0  0.0  0.0   0.0  ...   5.0  0.0   \n",
      "0  0.0  0.0   1.0  15.0  13.0   1.0   0.0  0.0  0.0   0.0  ...   6.0  0.0   \n",
      "0  0.0  0.0   0.0   5.0  14.0  12.0   2.0  0.0  0.0   0.0  ...   0.0  0.0   \n",
      "\n",
      "    56   57    58    59    60    61    62   63  \n",
      "0  0.0  0.0   6.0  13.0  10.0   0.0   0.0  0.0  \n",
      "0  0.0  0.0   0.0  11.0  16.0  10.0   0.0  0.0  \n",
      "0  0.0  0.0   0.0   3.0  11.0  16.0   9.0  0.0  \n",
      "0  0.0  0.0   7.0  13.0  13.0   9.0   0.0  0.0  \n",
      "0  0.0  0.0   0.0   2.0  16.0   4.0   0.0  0.0  \n",
      "0  0.0  0.0   9.0  16.0  16.0  10.0   0.0  0.0  \n",
      "0  0.0  0.0   1.0   9.0  15.0  11.0   3.0  0.0  \n",
      "0  0.0  0.0  13.0   5.0   0.0   0.0   0.0  0.0  \n",
      "0  0.0  0.0  11.0  16.0  15.0  11.0   1.0  0.0  \n",
      "0  0.0  0.0   9.0  12.0  13.0   3.0   0.0  0.0  \n",
      "0  0.0  0.0   1.0  10.0  13.0   3.0   0.0  0.0  \n",
      "0  0.0  0.0   0.0   1.0  13.0  16.0   1.0  0.0  \n",
      "0  0.0  0.0   3.0  11.0   8.0  13.0  12.0  4.0  \n",
      "0  0.0  2.0  12.0  12.0  13.0  11.0   0.0  0.0  \n",
      "0  0.0  0.0   0.0  10.0  15.0   4.0   0.0  0.0  \n",
      "0  0.0  4.0  15.0  16.0   2.0   0.0   0.0  0.0  \n",
      "0  0.0  0.0   0.0   7.0  15.0  16.0  11.0  0.0  \n",
      "0  0.0  0.0   0.0  11.0   9.0   0.0   0.0  0.0  \n",
      "0  0.0  0.0  11.0  14.0   5.0   0.0   0.0  0.0  \n",
      "0  0.0  0.0   7.0  16.0  16.0  13.0  11.0  1.0  \n",
      "0  0.0  0.0   2.0  12.0  13.0   4.0   0.0  0.0  \n",
      "0  0.0  0.0   0.0   2.0  12.0  15.0   4.0  0.0  \n",
      "0  0.0  0.0   7.0  12.0  12.0  12.0  13.0  1.0  \n",
      "0  0.0  0.0  14.0  15.0  11.0   2.0   0.0  0.0  \n",
      "0  0.0  0.0   0.0   0.0  12.0   8.0   0.0  0.0  \n",
      "0  0.0  0.0  11.0  14.0   9.0   0.0   0.0  0.0  \n",
      "0  0.0  0.0   3.0  12.0  15.0  14.0   7.0  0.0  \n",
      "0  0.0  0.0   0.0  12.0  13.0   1.0   0.0  0.0  \n",
      "0  0.0  0.0   8.0  14.0   7.0   1.0   0.0  0.0  \n",
      "0  0.0  0.0   7.0  12.0  12.0  12.0  11.0  0.0  \n",
      "0  0.0  0.0  11.0  16.0  12.0   3.0   0.0  0.0  \n",
      "0  0.0  0.0   2.0  15.0  13.0  14.0  13.0  2.0  \n",
      "0  0.0  2.0  16.0  15.0   8.0   0.0   0.0  0.0  \n",
      "0  0.0  4.0  16.0  15.0   3.0   0.0   0.0  0.0  \n",
      "0  0.0  0.0   0.0   5.0  16.0  15.0   3.0  0.0  \n",
      "0  0.0  1.0  15.0  14.0   1.0   0.0   0.0  0.0  \n",
      "0  0.0  0.0   7.0  16.0  11.0   1.0   0.0  0.0  \n",
      "0  0.0  0.0  13.0  13.0  15.0  16.0  13.0  0.0  \n",
      "0  0.0  1.0  11.0  16.0   6.0   0.0   0.0  0.0  \n",
      "0  0.0  0.0   9.0  14.0  13.0  10.0   1.0  0.0  \n",
      "0  0.0  1.0  11.0  14.0  12.0   4.0   0.0  0.0  \n",
      "0  0.0  0.0   0.0   9.0  16.0   2.0   0.0  0.0  \n",
      "0  0.0  0.0   0.0   3.0  16.0   8.0   0.0  0.0  \n",
      "0  0.0  0.0   0.0  11.0   7.0   0.0   0.0  0.0  \n",
      "0  0.0  0.0  13.0  10.0   0.0   0.0   0.0  0.0  \n",
      "0  0.0  0.0  11.0  14.0  12.0   8.0   0.0  0.0  \n",
      "0  0.0  0.0  14.0  14.0   4.0   0.0   0.0  0.0  \n",
      "0  0.0  0.0   0.0   2.0  14.0   6.0   0.0  0.0  \n",
      "0  0.0  0.0   4.0  12.0  15.0   6.0   0.0  0.0  \n",
      "0  0.0  0.0   0.0  13.0  14.0   8.0   0.0  0.0  \n",
      "0  0.0  0.0   0.0   6.0  12.0  13.0   3.0  0.0  \n",
      "\n",
      "[51 rows x 64 columns]\n",
      "    0    1     2     3     4     5     6    7    8     9   ...    54   55  \\\n",
      "0  0.0  0.0   5.0  13.0   9.0   1.0   0.0  0.0  0.0   0.0  ...   0.0  0.0   \n",
      "0  0.0  0.0   0.0  12.0  13.0   5.0   0.0  0.0  0.0   0.0  ...   0.0  0.0   \n",
      "0  0.0  0.0   0.0   4.0  15.0  12.0   0.0  0.0  0.0   0.0  ...   5.0  0.0   \n",
      "0  0.0  0.0   7.0  15.0  13.0   1.0   0.0  0.0  0.0   8.0  ...   9.0  0.0   \n",
      "0  0.0  0.0   0.0   1.0  11.0   0.0   0.0  0.0  0.0   0.0  ...   0.0  0.0   \n",
      "0  0.0  0.0  12.0  10.0   0.0   0.0   0.0  0.0  0.0   0.0  ...   4.0  0.0   \n",
      "0  0.0  0.0   0.0  12.0  13.0   0.0   0.0  0.0  0.0   0.0  ...   8.0  0.0   \n",
      "0  0.0  0.0   7.0   8.0  13.0  16.0  15.0  1.0  0.0   0.0  ...   0.0  0.0   \n",
      "0  0.0  0.0   9.0  14.0   8.0   1.0   0.0  0.0  0.0   0.0  ...   8.0  0.0   \n",
      "0  0.0  0.0  11.0  12.0   0.0   0.0   0.0  0.0  0.0   2.0  ...   4.0  0.0   \n",
      "0  0.0  0.0   1.0   9.0  15.0  11.0   0.0  0.0  0.0   0.0  ...   0.0  0.0   \n",
      "0  0.0  0.0   0.0   0.0  14.0  13.0   1.0  0.0  0.0   0.0  ...   0.0  0.0   \n",
      "0  0.0  0.0   5.0  12.0   1.0   0.0   0.0  0.0  0.0   0.0  ...   8.0  2.0   \n",
      "0  0.0  2.0   9.0  15.0  14.0   9.0   3.0  0.0  0.0   4.0  ...   6.0  0.0   \n",
      "0  0.0  0.0   0.0   8.0  15.0   1.0   0.0  0.0  0.0   0.0  ...   0.0  0.0   \n",
      "0  0.0  5.0  12.0  13.0  16.0  16.0   2.0  0.0  0.0  11.0  ...   0.0  0.0   \n",
      "0  0.0  0.0   0.0   8.0  15.0   1.0   0.0  0.0  0.0   0.0  ...  16.0  2.0   \n",
      "0  0.0  0.0   1.0   8.0  15.0  10.0   0.0  0.0  0.0   3.0  ...   0.0  0.0   \n",
      "0  0.0  0.0  10.0   7.0  13.0   9.0   0.0  0.0  0.0   0.0  ...   0.0  0.0   \n",
      "0  0.0  0.0   6.0  14.0   4.0   0.0   0.0  0.0  0.0   0.0  ...  16.0  2.0   \n",
      "0  0.0  0.0   3.0  13.0  11.0   7.0   0.0  0.0  0.0   0.0  ...   1.0  0.0   \n",
      "0  0.0  0.0   0.0   2.0  16.0  16.0   2.0  0.0  0.0   0.0  ...   2.0  0.0   \n",
      "0  0.0  0.0   8.0  16.0   5.0   0.0   0.0  0.0  0.0   1.0  ...   3.0  0.0   \n",
      "0  0.0  1.0   8.0  12.0  15.0  14.0   4.0  0.0  0.0   3.0  ...   0.0  0.0   \n",
      "0  0.0  0.0   0.0   0.0  12.0   2.0   0.0  0.0  0.0   0.0  ...   0.0  0.0   \n",
      "0  0.0  0.0  12.0   8.0   8.0   7.0   0.0  0.0  0.0   3.0  ...   0.0  0.0   \n",
      "0  0.0  0.0   1.0  13.0  14.0   3.0   0.0  0.0  0.0   0.0  ...  12.0  0.0   \n",
      "0  0.0  0.0   0.0   8.0  14.0  14.0   2.0  0.0  0.0   0.0  ...   0.0  0.0   \n",
      "0  0.0  0.0  10.0  11.0   4.0   0.0   0.0  0.0  0.0   0.0  ...   0.0  0.0   \n",
      "0  0.0  0.0   9.0  13.0   7.0   0.0   0.0  0.0  0.0   0.0  ...  16.0  2.0   \n",
      "0  0.0  0.0  10.0  14.0  11.0   3.0   0.0  0.0  0.0   4.0  ...   0.0  0.0   \n",
      "0  0.0  0.0   2.0  13.0   8.0   0.0   0.0  0.0  0.0   0.0  ...  16.0  2.0   \n",
      "0  0.0  2.0  13.0  16.0  16.0  16.0  11.0  0.0  0.0   5.0  ...   0.0  0.0   \n",
      "0  0.0  6.0  13.0   5.0   8.0   8.0   1.0  0.0  0.0   8.0  ...   0.0  0.0   \n",
      "0  0.0  0.0   0.0   5.0  14.0   2.0   0.0  0.0  0.0   0.0  ...   9.0  0.0   \n",
      "0  0.0  3.0  15.0   8.0   8.0   6.0   0.0  0.0  0.0   4.0  ...   0.0  0.0   \n",
      "0  0.0  0.0   6.0  14.0  10.0   2.0   0.0  0.0  0.0   0.0  ...   0.0  0.0   \n",
      "0  0.0  0.0  13.0  10.0   1.0   0.0   0.0  0.0  0.0   5.0  ...  14.0  0.0   \n",
      "0  0.0  0.0   7.0   7.0  13.0  16.0   4.0  0.0  0.0   0.0  ...   0.0  0.0   \n",
      "0  0.0  1.0   9.0  16.0  13.0   7.0   0.0  0.0  0.0   7.0  ...   5.0  0.0   \n",
      "0  0.0  0.0  11.0  10.0  12.0   4.0   0.0  0.0  0.0   0.0  ...   0.0  0.0   \n",
      "0  0.0  0.0   0.0   9.0  15.0   1.0   0.0  0.0  0.0   0.0  ...   0.0  0.0   \n",
      "0  0.0  0.0   0.0   0.0  12.0   5.0   0.0  0.0  0.0   0.0  ...   0.0  0.0   \n",
      "0  0.0  0.0   0.0   9.0  15.0  12.0   0.0  0.0  0.0   0.0  ...   0.0  0.0   \n",
      "0  0.0  0.0   9.0  16.0  16.0  16.0   5.0  0.0  0.0   1.0  ...   0.0  0.0   \n",
      "0  0.0  0.0   9.0  16.0  13.0   6.0   0.0  0.0  0.0   0.0  ...  12.0  0.0   \n",
      "0  0.0  1.0  15.0   4.0   0.0   0.0   0.0  0.0  0.0   2.0  ...   0.0  0.0   \n",
      "0  0.0  0.0   0.0   1.0  11.0   9.0   0.0  0.0  0.0   0.0  ...   0.0  0.0   \n",
      "0  0.0  0.0   2.0  15.0  13.0   3.0   0.0  0.0  0.0   0.0  ...   5.0  0.0   \n",
      "0  0.0  0.0   1.0  15.0  13.0   1.0   0.0  0.0  0.0   0.0  ...   6.0  0.0   \n",
      "0  0.0  0.0   0.0   5.0  14.0  12.0   2.0  0.0  0.0   0.0  ...   0.0  0.0   \n",
      "0  0.0  0.0   0.0   3.0  15.0  10.0   1.0  0.0  0.0   0.0  ...   3.0  0.0   \n",
      "\n",
      "    56   57    58    59    60    61    62   63  \n",
      "0  0.0  0.0   6.0  13.0  10.0   0.0   0.0  0.0  \n",
      "0  0.0  0.0   0.0  11.0  16.0  10.0   0.0  0.0  \n",
      "0  0.0  0.0   0.0   3.0  11.0  16.0   9.0  0.0  \n",
      "0  0.0  0.0   7.0  13.0  13.0   9.0   0.0  0.0  \n",
      "0  0.0  0.0   0.0   2.0  16.0   4.0   0.0  0.0  \n",
      "0  0.0  0.0   9.0  16.0  16.0  10.0   0.0  0.0  \n",
      "0  0.0  0.0   1.0   9.0  15.0  11.0   3.0  0.0  \n",
      "0  0.0  0.0  13.0   5.0   0.0   0.0   0.0  0.0  \n",
      "0  0.0  0.0  11.0  16.0  15.0  11.0   1.0  0.0  \n",
      "0  0.0  0.0   9.0  12.0  13.0   3.0   0.0  0.0  \n",
      "0  0.0  0.0   1.0  10.0  13.0   3.0   0.0  0.0  \n",
      "0  0.0  0.0   0.0   1.0  13.0  16.0   1.0  0.0  \n",
      "0  0.0  0.0   3.0  11.0   8.0  13.0  12.0  4.0  \n",
      "0  0.0  2.0  12.0  12.0  13.0  11.0   0.0  0.0  \n",
      "0  0.0  0.0   0.0  10.0  15.0   4.0   0.0  0.0  \n",
      "0  0.0  4.0  15.0  16.0   2.0   0.0   0.0  0.0  \n",
      "0  0.0  0.0   0.0   7.0  15.0  16.0  11.0  0.0  \n",
      "0  0.0  0.0   0.0  11.0   9.0   0.0   0.0  0.0  \n",
      "0  0.0  0.0  11.0  14.0   5.0   0.0   0.0  0.0  \n",
      "0  0.0  0.0   7.0  16.0  16.0  13.0  11.0  1.0  \n",
      "0  0.0  0.0   2.0  12.0  13.0   4.0   0.0  0.0  \n",
      "0  0.0  0.0   0.0   2.0  12.0  15.0   4.0  0.0  \n",
      "0  0.0  0.0   7.0  12.0  12.0  12.0  13.0  1.0  \n",
      "0  0.0  0.0  14.0  15.0  11.0   2.0   0.0  0.0  \n",
      "0  0.0  0.0   0.0   0.0  12.0   8.0   0.0  0.0  \n",
      "0  0.0  0.0  11.0  14.0   9.0   0.0   0.0  0.0  \n",
      "0  0.0  0.0   3.0  12.0  15.0  14.0   7.0  0.0  \n",
      "0  0.0  0.0   0.0  12.0  13.0   1.0   0.0  0.0  \n",
      "0  0.0  0.0   8.0  14.0   7.0   1.0   0.0  0.0  \n",
      "0  0.0  0.0   7.0  12.0  12.0  12.0  11.0  0.0  \n",
      "0  0.0  0.0  11.0  16.0  12.0   3.0   0.0  0.0  \n",
      "0  0.0  0.0   2.0  15.0  13.0  14.0  13.0  2.0  \n",
      "0  0.0  2.0  16.0  15.0   8.0   0.0   0.0  0.0  \n",
      "0  0.0  4.0  16.0  15.0   3.0   0.0   0.0  0.0  \n",
      "0  0.0  0.0   0.0   5.0  16.0  15.0   3.0  0.0  \n",
      "0  0.0  1.0  15.0  14.0   1.0   0.0   0.0  0.0  \n",
      "0  0.0  0.0   7.0  16.0  11.0   1.0   0.0  0.0  \n",
      "0  0.0  0.0  13.0  13.0  15.0  16.0  13.0  0.0  \n",
      "0  0.0  1.0  11.0  16.0   6.0   0.0   0.0  0.0  \n",
      "0  0.0  0.0   9.0  14.0  13.0  10.0   1.0  0.0  \n",
      "0  0.0  1.0  11.0  14.0  12.0   4.0   0.0  0.0  \n",
      "0  0.0  0.0   0.0   9.0  16.0   2.0   0.0  0.0  \n",
      "0  0.0  0.0   0.0   3.0  16.0   8.0   0.0  0.0  \n",
      "0  0.0  0.0   0.0  11.0   7.0   0.0   0.0  0.0  \n",
      "0  0.0  0.0  13.0  10.0   0.0   0.0   0.0  0.0  \n",
      "0  0.0  0.0  11.0  14.0  12.0   8.0   0.0  0.0  \n",
      "0  0.0  0.0  14.0  14.0   4.0   0.0   0.0  0.0  \n",
      "0  0.0  0.0   0.0   2.0  14.0   6.0   0.0  0.0  \n",
      "0  0.0  0.0   4.0  12.0  15.0   6.0   0.0  0.0  \n",
      "0  0.0  0.0   0.0  13.0  14.0   8.0   0.0  0.0  \n",
      "0  0.0  0.0   0.0   6.0  12.0  13.0   3.0  0.0  \n",
      "0  0.0  0.0   0.0   4.0   9.0  14.0   7.0  0.0  \n",
      "\n",
      "[52 rows x 64 columns]\n",
      "    0    1     2     3     4     5     6    7    8     9   ...    54   55  \\\n",
      "0  0.0  0.0   5.0  13.0   9.0   1.0   0.0  0.0  0.0   0.0  ...   0.0  0.0   \n",
      "0  0.0  0.0   0.0  12.0  13.0   5.0   0.0  0.0  0.0   0.0  ...   0.0  0.0   \n",
      "0  0.0  0.0   0.0   4.0  15.0  12.0   0.0  0.0  0.0   0.0  ...   5.0  0.0   \n",
      "0  0.0  0.0   7.0  15.0  13.0   1.0   0.0  0.0  0.0   8.0  ...   9.0  0.0   \n",
      "0  0.0  0.0   0.0   1.0  11.0   0.0   0.0  0.0  0.0   0.0  ...   0.0  0.0   \n",
      "0  0.0  0.0  12.0  10.0   0.0   0.0   0.0  0.0  0.0   0.0  ...   4.0  0.0   \n",
      "0  0.0  0.0   0.0  12.0  13.0   0.0   0.0  0.0  0.0   0.0  ...   8.0  0.0   \n",
      "0  0.0  0.0   7.0   8.0  13.0  16.0  15.0  1.0  0.0   0.0  ...   0.0  0.0   \n",
      "0  0.0  0.0   9.0  14.0   8.0   1.0   0.0  0.0  0.0   0.0  ...   8.0  0.0   \n",
      "0  0.0  0.0  11.0  12.0   0.0   0.0   0.0  0.0  0.0   2.0  ...   4.0  0.0   \n",
      "0  0.0  0.0   1.0   9.0  15.0  11.0   0.0  0.0  0.0   0.0  ...   0.0  0.0   \n",
      "0  0.0  0.0   0.0   0.0  14.0  13.0   1.0  0.0  0.0   0.0  ...   0.0  0.0   \n",
      "0  0.0  0.0   5.0  12.0   1.0   0.0   0.0  0.0  0.0   0.0  ...   8.0  2.0   \n",
      "0  0.0  2.0   9.0  15.0  14.0   9.0   3.0  0.0  0.0   4.0  ...   6.0  0.0   \n",
      "0  0.0  0.0   0.0   8.0  15.0   1.0   0.0  0.0  0.0   0.0  ...   0.0  0.0   \n",
      "0  0.0  5.0  12.0  13.0  16.0  16.0   2.0  0.0  0.0  11.0  ...   0.0  0.0   \n",
      "0  0.0  0.0   0.0   8.0  15.0   1.0   0.0  0.0  0.0   0.0  ...  16.0  2.0   \n",
      "0  0.0  0.0   1.0   8.0  15.0  10.0   0.0  0.0  0.0   3.0  ...   0.0  0.0   \n",
      "0  0.0  0.0  10.0   7.0  13.0   9.0   0.0  0.0  0.0   0.0  ...   0.0  0.0   \n",
      "0  0.0  0.0   6.0  14.0   4.0   0.0   0.0  0.0  0.0   0.0  ...  16.0  2.0   \n",
      "0  0.0  0.0   3.0  13.0  11.0   7.0   0.0  0.0  0.0   0.0  ...   1.0  0.0   \n",
      "0  0.0  0.0   0.0   2.0  16.0  16.0   2.0  0.0  0.0   0.0  ...   2.0  0.0   \n",
      "0  0.0  0.0   8.0  16.0   5.0   0.0   0.0  0.0  0.0   1.0  ...   3.0  0.0   \n",
      "0  0.0  1.0   8.0  12.0  15.0  14.0   4.0  0.0  0.0   3.0  ...   0.0  0.0   \n",
      "0  0.0  0.0   0.0   0.0  12.0   2.0   0.0  0.0  0.0   0.0  ...   0.0  0.0   \n",
      "0  0.0  0.0  12.0   8.0   8.0   7.0   0.0  0.0  0.0   3.0  ...   0.0  0.0   \n",
      "0  0.0  0.0   1.0  13.0  14.0   3.0   0.0  0.0  0.0   0.0  ...  12.0  0.0   \n",
      "0  0.0  0.0   0.0   8.0  14.0  14.0   2.0  0.0  0.0   0.0  ...   0.0  0.0   \n",
      "0  0.0  0.0  10.0  11.0   4.0   0.0   0.0  0.0  0.0   0.0  ...   0.0  0.0   \n",
      "0  0.0  0.0   9.0  13.0   7.0   0.0   0.0  0.0  0.0   0.0  ...  16.0  2.0   \n",
      "0  0.0  0.0  10.0  14.0  11.0   3.0   0.0  0.0  0.0   4.0  ...   0.0  0.0   \n",
      "0  0.0  0.0   2.0  13.0   8.0   0.0   0.0  0.0  0.0   0.0  ...  16.0  2.0   \n",
      "0  0.0  2.0  13.0  16.0  16.0  16.0  11.0  0.0  0.0   5.0  ...   0.0  0.0   \n",
      "0  0.0  6.0  13.0   5.0   8.0   8.0   1.0  0.0  0.0   8.0  ...   0.0  0.0   \n",
      "0  0.0  0.0   0.0   5.0  14.0   2.0   0.0  0.0  0.0   0.0  ...   9.0  0.0   \n",
      "0  0.0  3.0  15.0   8.0   8.0   6.0   0.0  0.0  0.0   4.0  ...   0.0  0.0   \n",
      "0  0.0  0.0   6.0  14.0  10.0   2.0   0.0  0.0  0.0   0.0  ...   0.0  0.0   \n",
      "0  0.0  0.0  13.0  10.0   1.0   0.0   0.0  0.0  0.0   5.0  ...  14.0  0.0   \n",
      "0  0.0  0.0   7.0   7.0  13.0  16.0   4.0  0.0  0.0   0.0  ...   0.0  0.0   \n",
      "0  0.0  1.0   9.0  16.0  13.0   7.0   0.0  0.0  0.0   7.0  ...   5.0  0.0   \n",
      "0  0.0  0.0  11.0  10.0  12.0   4.0   0.0  0.0  0.0   0.0  ...   0.0  0.0   \n",
      "0  0.0  0.0   0.0   9.0  15.0   1.0   0.0  0.0  0.0   0.0  ...   0.0  0.0   \n",
      "0  0.0  0.0   0.0   0.0  12.0   5.0   0.0  0.0  0.0   0.0  ...   0.0  0.0   \n",
      "0  0.0  0.0   0.0   9.0  15.0  12.0   0.0  0.0  0.0   0.0  ...   0.0  0.0   \n",
      "0  0.0  0.0   9.0  16.0  16.0  16.0   5.0  0.0  0.0   1.0  ...   0.0  0.0   \n",
      "0  0.0  0.0   9.0  16.0  13.0   6.0   0.0  0.0  0.0   0.0  ...  12.0  0.0   \n",
      "0  0.0  1.0  15.0   4.0   0.0   0.0   0.0  0.0  0.0   2.0  ...   0.0  0.0   \n",
      "0  0.0  0.0   0.0   1.0  11.0   9.0   0.0  0.0  0.0   0.0  ...   0.0  0.0   \n",
      "0  0.0  0.0   2.0  15.0  13.0   3.0   0.0  0.0  0.0   0.0  ...   5.0  0.0   \n",
      "0  0.0  0.0   1.0  15.0  13.0   1.0   0.0  0.0  0.0   0.0  ...   6.0  0.0   \n",
      "0  0.0  0.0   0.0   5.0  14.0  12.0   2.0  0.0  0.0   0.0  ...   0.0  0.0   \n",
      "0  0.0  0.0   0.0   3.0  15.0  10.0   1.0  0.0  0.0   0.0  ...   3.0  0.0   \n",
      "0  0.0  0.0   3.0  12.0  16.0  16.0   6.0  0.0  0.0   0.0  ...   0.0  0.0   \n",
      "\n",
      "    56   57    58    59    60    61    62   63  \n",
      "0  0.0  0.0   6.0  13.0  10.0   0.0   0.0  0.0  \n",
      "0  0.0  0.0   0.0  11.0  16.0  10.0   0.0  0.0  \n",
      "0  0.0  0.0   0.0   3.0  11.0  16.0   9.0  0.0  \n",
      "0  0.0  0.0   7.0  13.0  13.0   9.0   0.0  0.0  \n",
      "0  0.0  0.0   0.0   2.0  16.0   4.0   0.0  0.0  \n",
      "0  0.0  0.0   9.0  16.0  16.0  10.0   0.0  0.0  \n",
      "0  0.0  0.0   1.0   9.0  15.0  11.0   3.0  0.0  \n",
      "0  0.0  0.0  13.0   5.0   0.0   0.0   0.0  0.0  \n",
      "0  0.0  0.0  11.0  16.0  15.0  11.0   1.0  0.0  \n",
      "0  0.0  0.0   9.0  12.0  13.0   3.0   0.0  0.0  \n",
      "0  0.0  0.0   1.0  10.0  13.0   3.0   0.0  0.0  \n",
      "0  0.0  0.0   0.0   1.0  13.0  16.0   1.0  0.0  \n",
      "0  0.0  0.0   3.0  11.0   8.0  13.0  12.0  4.0  \n",
      "0  0.0  2.0  12.0  12.0  13.0  11.0   0.0  0.0  \n",
      "0  0.0  0.0   0.0  10.0  15.0   4.0   0.0  0.0  \n",
      "0  0.0  4.0  15.0  16.0   2.0   0.0   0.0  0.0  \n",
      "0  0.0  0.0   0.0   7.0  15.0  16.0  11.0  0.0  \n",
      "0  0.0  0.0   0.0  11.0   9.0   0.0   0.0  0.0  \n",
      "0  0.0  0.0  11.0  14.0   5.0   0.0   0.0  0.0  \n",
      "0  0.0  0.0   7.0  16.0  16.0  13.0  11.0  1.0  \n",
      "0  0.0  0.0   2.0  12.0  13.0   4.0   0.0  0.0  \n",
      "0  0.0  0.0   0.0   2.0  12.0  15.0   4.0  0.0  \n",
      "0  0.0  0.0   7.0  12.0  12.0  12.0  13.0  1.0  \n",
      "0  0.0  0.0  14.0  15.0  11.0   2.0   0.0  0.0  \n",
      "0  0.0  0.0   0.0   0.0  12.0   8.0   0.0  0.0  \n",
      "0  0.0  0.0  11.0  14.0   9.0   0.0   0.0  0.0  \n",
      "0  0.0  0.0   3.0  12.0  15.0  14.0   7.0  0.0  \n",
      "0  0.0  0.0   0.0  12.0  13.0   1.0   0.0  0.0  \n",
      "0  0.0  0.0   8.0  14.0   7.0   1.0   0.0  0.0  \n",
      "0  0.0  0.0   7.0  12.0  12.0  12.0  11.0  0.0  \n",
      "0  0.0  0.0  11.0  16.0  12.0   3.0   0.0  0.0  \n",
      "0  0.0  0.0   2.0  15.0  13.0  14.0  13.0  2.0  \n",
      "0  0.0  2.0  16.0  15.0   8.0   0.0   0.0  0.0  \n",
      "0  0.0  4.0  16.0  15.0   3.0   0.0   0.0  0.0  \n",
      "0  0.0  0.0   0.0   5.0  16.0  15.0   3.0  0.0  \n",
      "0  0.0  1.0  15.0  14.0   1.0   0.0   0.0  0.0  \n",
      "0  0.0  0.0   7.0  16.0  11.0   1.0   0.0  0.0  \n",
      "0  0.0  0.0  13.0  13.0  15.0  16.0  13.0  0.0  \n",
      "0  0.0  1.0  11.0  16.0   6.0   0.0   0.0  0.0  \n",
      "0  0.0  0.0   9.0  14.0  13.0  10.0   1.0  0.0  \n",
      "0  0.0  1.0  11.0  14.0  12.0   4.0   0.0  0.0  \n",
      "0  0.0  0.0   0.0   9.0  16.0   2.0   0.0  0.0  \n",
      "0  0.0  0.0   0.0   3.0  16.0   8.0   0.0  0.0  \n",
      "0  0.0  0.0   0.0  11.0   7.0   0.0   0.0  0.0  \n",
      "0  0.0  0.0  13.0  10.0   0.0   0.0   0.0  0.0  \n",
      "0  0.0  0.0  11.0  14.0  12.0   8.0   0.0  0.0  \n",
      "0  0.0  0.0  14.0  14.0   4.0   0.0   0.0  0.0  \n",
      "0  0.0  0.0   0.0   2.0  14.0   6.0   0.0  0.0  \n",
      "0  0.0  0.0   4.0  12.0  15.0   6.0   0.0  0.0  \n",
      "0  0.0  0.0   0.0  13.0  14.0   8.0   0.0  0.0  \n",
      "0  0.0  0.0   0.0   6.0  12.0  13.0   3.0  0.0  \n",
      "0  0.0  0.0   0.0   4.0   9.0  14.0   7.0  0.0  \n",
      "0  0.0  0.0   4.0  16.0   5.0   0.0   0.0  0.0  \n",
      "\n",
      "[53 rows x 64 columns]\n",
      "    0    1     2     3     4     5     6    7    8     9   ...    54   55  \\\n",
      "0  0.0  0.0   5.0  13.0   9.0   1.0   0.0  0.0  0.0   0.0  ...   0.0  0.0   \n",
      "0  0.0  0.0   0.0  12.0  13.0   5.0   0.0  0.0  0.0   0.0  ...   0.0  0.0   \n",
      "0  0.0  0.0   0.0   4.0  15.0  12.0   0.0  0.0  0.0   0.0  ...   5.0  0.0   \n",
      "0  0.0  0.0   7.0  15.0  13.0   1.0   0.0  0.0  0.0   8.0  ...   9.0  0.0   \n",
      "0  0.0  0.0   0.0   1.0  11.0   0.0   0.0  0.0  0.0   0.0  ...   0.0  0.0   \n",
      "0  0.0  0.0  12.0  10.0   0.0   0.0   0.0  0.0  0.0   0.0  ...   4.0  0.0   \n",
      "0  0.0  0.0   0.0  12.0  13.0   0.0   0.0  0.0  0.0   0.0  ...   8.0  0.0   \n",
      "0  0.0  0.0   7.0   8.0  13.0  16.0  15.0  1.0  0.0   0.0  ...   0.0  0.0   \n",
      "0  0.0  0.0   9.0  14.0   8.0   1.0   0.0  0.0  0.0   0.0  ...   8.0  0.0   \n",
      "0  0.0  0.0  11.0  12.0   0.0   0.0   0.0  0.0  0.0   2.0  ...   4.0  0.0   \n",
      "0  0.0  0.0   1.0   9.0  15.0  11.0   0.0  0.0  0.0   0.0  ...   0.0  0.0   \n",
      "0  0.0  0.0   0.0   0.0  14.0  13.0   1.0  0.0  0.0   0.0  ...   0.0  0.0   \n",
      "0  0.0  0.0   5.0  12.0   1.0   0.0   0.0  0.0  0.0   0.0  ...   8.0  2.0   \n",
      "0  0.0  2.0   9.0  15.0  14.0   9.0   3.0  0.0  0.0   4.0  ...   6.0  0.0   \n",
      "0  0.0  0.0   0.0   8.0  15.0   1.0   0.0  0.0  0.0   0.0  ...   0.0  0.0   \n",
      "0  0.0  5.0  12.0  13.0  16.0  16.0   2.0  0.0  0.0  11.0  ...   0.0  0.0   \n",
      "0  0.0  0.0   0.0   8.0  15.0   1.0   0.0  0.0  0.0   0.0  ...  16.0  2.0   \n",
      "0  0.0  0.0   1.0   8.0  15.0  10.0   0.0  0.0  0.0   3.0  ...   0.0  0.0   \n",
      "0  0.0  0.0  10.0   7.0  13.0   9.0   0.0  0.0  0.0   0.0  ...   0.0  0.0   \n",
      "0  0.0  0.0   6.0  14.0   4.0   0.0   0.0  0.0  0.0   0.0  ...  16.0  2.0   \n",
      "0  0.0  0.0   3.0  13.0  11.0   7.0   0.0  0.0  0.0   0.0  ...   1.0  0.0   \n",
      "0  0.0  0.0   0.0   2.0  16.0  16.0   2.0  0.0  0.0   0.0  ...   2.0  0.0   \n",
      "0  0.0  0.0   8.0  16.0   5.0   0.0   0.0  0.0  0.0   1.0  ...   3.0  0.0   \n",
      "0  0.0  1.0   8.0  12.0  15.0  14.0   4.0  0.0  0.0   3.0  ...   0.0  0.0   \n",
      "0  0.0  0.0   0.0   0.0  12.0   2.0   0.0  0.0  0.0   0.0  ...   0.0  0.0   \n",
      "0  0.0  0.0  12.0   8.0   8.0   7.0   0.0  0.0  0.0   3.0  ...   0.0  0.0   \n",
      "0  0.0  0.0   1.0  13.0  14.0   3.0   0.0  0.0  0.0   0.0  ...  12.0  0.0   \n",
      "0  0.0  0.0   0.0   8.0  14.0  14.0   2.0  0.0  0.0   0.0  ...   0.0  0.0   \n",
      "0  0.0  0.0  10.0  11.0   4.0   0.0   0.0  0.0  0.0   0.0  ...   0.0  0.0   \n",
      "0  0.0  0.0   9.0  13.0   7.0   0.0   0.0  0.0  0.0   0.0  ...  16.0  2.0   \n",
      "0  0.0  0.0  10.0  14.0  11.0   3.0   0.0  0.0  0.0   4.0  ...   0.0  0.0   \n",
      "0  0.0  0.0   2.0  13.0   8.0   0.0   0.0  0.0  0.0   0.0  ...  16.0  2.0   \n",
      "0  0.0  2.0  13.0  16.0  16.0  16.0  11.0  0.0  0.0   5.0  ...   0.0  0.0   \n",
      "0  0.0  6.0  13.0   5.0   8.0   8.0   1.0  0.0  0.0   8.0  ...   0.0  0.0   \n",
      "0  0.0  0.0   0.0   5.0  14.0   2.0   0.0  0.0  0.0   0.0  ...   9.0  0.0   \n",
      "0  0.0  3.0  15.0   8.0   8.0   6.0   0.0  0.0  0.0   4.0  ...   0.0  0.0   \n",
      "0  0.0  0.0   6.0  14.0  10.0   2.0   0.0  0.0  0.0   0.0  ...   0.0  0.0   \n",
      "0  0.0  0.0  13.0  10.0   1.0   0.0   0.0  0.0  0.0   5.0  ...  14.0  0.0   \n",
      "0  0.0  0.0   7.0   7.0  13.0  16.0   4.0  0.0  0.0   0.0  ...   0.0  0.0   \n",
      "0  0.0  1.0   9.0  16.0  13.0   7.0   0.0  0.0  0.0   7.0  ...   5.0  0.0   \n",
      "0  0.0  0.0  11.0  10.0  12.0   4.0   0.0  0.0  0.0   0.0  ...   0.0  0.0   \n",
      "0  0.0  0.0   0.0   9.0  15.0   1.0   0.0  0.0  0.0   0.0  ...   0.0  0.0   \n",
      "0  0.0  0.0   0.0   0.0  12.0   5.0   0.0  0.0  0.0   0.0  ...   0.0  0.0   \n",
      "0  0.0  0.0   0.0   9.0  15.0  12.0   0.0  0.0  0.0   0.0  ...   0.0  0.0   \n",
      "0  0.0  0.0   9.0  16.0  16.0  16.0   5.0  0.0  0.0   1.0  ...   0.0  0.0   \n",
      "0  0.0  0.0   9.0  16.0  13.0   6.0   0.0  0.0  0.0   0.0  ...  12.0  0.0   \n",
      "0  0.0  1.0  15.0   4.0   0.0   0.0   0.0  0.0  0.0   2.0  ...   0.0  0.0   \n",
      "0  0.0  0.0   0.0   1.0  11.0   9.0   0.0  0.0  0.0   0.0  ...   0.0  0.0   \n",
      "0  0.0  0.0   2.0  15.0  13.0   3.0   0.0  0.0  0.0   0.0  ...   5.0  0.0   \n",
      "0  0.0  0.0   1.0  15.0  13.0   1.0   0.0  0.0  0.0   0.0  ...   6.0  0.0   \n",
      "0  0.0  0.0   0.0   5.0  14.0  12.0   2.0  0.0  0.0   0.0  ...   0.0  0.0   \n",
      "0  0.0  0.0   0.0   3.0  15.0  10.0   1.0  0.0  0.0   0.0  ...   3.0  0.0   \n",
      "0  0.0  0.0   3.0  12.0  16.0  16.0   6.0  0.0  0.0   0.0  ...   0.0  0.0   \n",
      "0  0.0  0.0   4.0   8.0  16.0   5.0   0.0  0.0  0.0   0.0  ...   0.0  0.0   \n",
      "\n",
      "    56   57    58    59    60    61    62   63  \n",
      "0  0.0  0.0   6.0  13.0  10.0   0.0   0.0  0.0  \n",
      "0  0.0  0.0   0.0  11.0  16.0  10.0   0.0  0.0  \n",
      "0  0.0  0.0   0.0   3.0  11.0  16.0   9.0  0.0  \n",
      "0  0.0  0.0   7.0  13.0  13.0   9.0   0.0  0.0  \n",
      "0  0.0  0.0   0.0   2.0  16.0   4.0   0.0  0.0  \n",
      "0  0.0  0.0   9.0  16.0  16.0  10.0   0.0  0.0  \n",
      "0  0.0  0.0   1.0   9.0  15.0  11.0   3.0  0.0  \n",
      "0  0.0  0.0  13.0   5.0   0.0   0.0   0.0  0.0  \n",
      "0  0.0  0.0  11.0  16.0  15.0  11.0   1.0  0.0  \n",
      "0  0.0  0.0   9.0  12.0  13.0   3.0   0.0  0.0  \n",
      "0  0.0  0.0   1.0  10.0  13.0   3.0   0.0  0.0  \n",
      "0  0.0  0.0   0.0   1.0  13.0  16.0   1.0  0.0  \n",
      "0  0.0  0.0   3.0  11.0   8.0  13.0  12.0  4.0  \n",
      "0  0.0  2.0  12.0  12.0  13.0  11.0   0.0  0.0  \n",
      "0  0.0  0.0   0.0  10.0  15.0   4.0   0.0  0.0  \n",
      "0  0.0  4.0  15.0  16.0   2.0   0.0   0.0  0.0  \n",
      "0  0.0  0.0   0.0   7.0  15.0  16.0  11.0  0.0  \n",
      "0  0.0  0.0   0.0  11.0   9.0   0.0   0.0  0.0  \n",
      "0  0.0  0.0  11.0  14.0   5.0   0.0   0.0  0.0  \n",
      "0  0.0  0.0   7.0  16.0  16.0  13.0  11.0  1.0  \n",
      "0  0.0  0.0   2.0  12.0  13.0   4.0   0.0  0.0  \n",
      "0  0.0  0.0   0.0   2.0  12.0  15.0   4.0  0.0  \n",
      "0  0.0  0.0   7.0  12.0  12.0  12.0  13.0  1.0  \n",
      "0  0.0  0.0  14.0  15.0  11.0   2.0   0.0  0.0  \n",
      "0  0.0  0.0   0.0   0.0  12.0   8.0   0.0  0.0  \n",
      "0  0.0  0.0  11.0  14.0   9.0   0.0   0.0  0.0  \n",
      "0  0.0  0.0   3.0  12.0  15.0  14.0   7.0  0.0  \n",
      "0  0.0  0.0   0.0  12.0  13.0   1.0   0.0  0.0  \n",
      "0  0.0  0.0   8.0  14.0   7.0   1.0   0.0  0.0  \n",
      "0  0.0  0.0   7.0  12.0  12.0  12.0  11.0  0.0  \n",
      "0  0.0  0.0  11.0  16.0  12.0   3.0   0.0  0.0  \n",
      "0  0.0  0.0   2.0  15.0  13.0  14.0  13.0  2.0  \n",
      "0  0.0  2.0  16.0  15.0   8.0   0.0   0.0  0.0  \n",
      "0  0.0  4.0  16.0  15.0   3.0   0.0   0.0  0.0  \n",
      "0  0.0  0.0   0.0   5.0  16.0  15.0   3.0  0.0  \n",
      "0  0.0  1.0  15.0  14.0   1.0   0.0   0.0  0.0  \n",
      "0  0.0  0.0   7.0  16.0  11.0   1.0   0.0  0.0  \n",
      "0  0.0  0.0  13.0  13.0  15.0  16.0  13.0  0.0  \n",
      "0  0.0  1.0  11.0  16.0   6.0   0.0   0.0  0.0  \n",
      "0  0.0  0.0   9.0  14.0  13.0  10.0   1.0  0.0  \n",
      "0  0.0  1.0  11.0  14.0  12.0   4.0   0.0  0.0  \n",
      "0  0.0  0.0   0.0   9.0  16.0   2.0   0.0  0.0  \n",
      "0  0.0  0.0   0.0   3.0  16.0   8.0   0.0  0.0  \n",
      "0  0.0  0.0   0.0  11.0   7.0   0.0   0.0  0.0  \n",
      "0  0.0  0.0  13.0  10.0   0.0   0.0   0.0  0.0  \n",
      "0  0.0  0.0  11.0  14.0  12.0   8.0   0.0  0.0  \n",
      "0  0.0  0.0  14.0  14.0   4.0   0.0   0.0  0.0  \n",
      "0  0.0  0.0   0.0   2.0  14.0   6.0   0.0  0.0  \n",
      "0  0.0  0.0   4.0  12.0  15.0   6.0   0.0  0.0  \n",
      "0  0.0  0.0   0.0  13.0  14.0   8.0   0.0  0.0  \n",
      "0  0.0  0.0   0.0   6.0  12.0  13.0   3.0  0.0  \n",
      "0  0.0  0.0   0.0   4.0   9.0  14.0   7.0  0.0  \n",
      "0  0.0  0.0   4.0  16.0   5.0   0.0   0.0  0.0  \n",
      "0  0.0  0.0   6.0  16.0  12.0   1.0   0.0  0.0  \n",
      "\n",
      "[54 rows x 64 columns]\n",
      "    0    1     2     3     4     5     6    7    8     9   ...    54   55  \\\n",
      "0  0.0  0.0   5.0  13.0   9.0   1.0   0.0  0.0  0.0   0.0  ...   0.0  0.0   \n",
      "0  0.0  0.0   0.0  12.0  13.0   5.0   0.0  0.0  0.0   0.0  ...   0.0  0.0   \n",
      "0  0.0  0.0   0.0   4.0  15.0  12.0   0.0  0.0  0.0   0.0  ...   5.0  0.0   \n",
      "0  0.0  0.0   7.0  15.0  13.0   1.0   0.0  0.0  0.0   8.0  ...   9.0  0.0   \n",
      "0  0.0  0.0   0.0   1.0  11.0   0.0   0.0  0.0  0.0   0.0  ...   0.0  0.0   \n",
      "0  0.0  0.0  12.0  10.0   0.0   0.0   0.0  0.0  0.0   0.0  ...   4.0  0.0   \n",
      "0  0.0  0.0   0.0  12.0  13.0   0.0   0.0  0.0  0.0   0.0  ...   8.0  0.0   \n",
      "0  0.0  0.0   7.0   8.0  13.0  16.0  15.0  1.0  0.0   0.0  ...   0.0  0.0   \n",
      "0  0.0  0.0   9.0  14.0   8.0   1.0   0.0  0.0  0.0   0.0  ...   8.0  0.0   \n",
      "0  0.0  0.0  11.0  12.0   0.0   0.0   0.0  0.0  0.0   2.0  ...   4.0  0.0   \n",
      "0  0.0  0.0   1.0   9.0  15.0  11.0   0.0  0.0  0.0   0.0  ...   0.0  0.0   \n",
      "0  0.0  0.0   0.0   0.0  14.0  13.0   1.0  0.0  0.0   0.0  ...   0.0  0.0   \n",
      "0  0.0  0.0   5.0  12.0   1.0   0.0   0.0  0.0  0.0   0.0  ...   8.0  2.0   \n",
      "0  0.0  2.0   9.0  15.0  14.0   9.0   3.0  0.0  0.0   4.0  ...   6.0  0.0   \n",
      "0  0.0  0.0   0.0   8.0  15.0   1.0   0.0  0.0  0.0   0.0  ...   0.0  0.0   \n",
      "0  0.0  5.0  12.0  13.0  16.0  16.0   2.0  0.0  0.0  11.0  ...   0.0  0.0   \n",
      "0  0.0  0.0   0.0   8.0  15.0   1.0   0.0  0.0  0.0   0.0  ...  16.0  2.0   \n",
      "0  0.0  0.0   1.0   8.0  15.0  10.0   0.0  0.0  0.0   3.0  ...   0.0  0.0   \n",
      "0  0.0  0.0  10.0   7.0  13.0   9.0   0.0  0.0  0.0   0.0  ...   0.0  0.0   \n",
      "0  0.0  0.0   6.0  14.0   4.0   0.0   0.0  0.0  0.0   0.0  ...  16.0  2.0   \n",
      "0  0.0  0.0   3.0  13.0  11.0   7.0   0.0  0.0  0.0   0.0  ...   1.0  0.0   \n",
      "0  0.0  0.0   0.0   2.0  16.0  16.0   2.0  0.0  0.0   0.0  ...   2.0  0.0   \n",
      "0  0.0  0.0   8.0  16.0   5.0   0.0   0.0  0.0  0.0   1.0  ...   3.0  0.0   \n",
      "0  0.0  1.0   8.0  12.0  15.0  14.0   4.0  0.0  0.0   3.0  ...   0.0  0.0   \n",
      "0  0.0  0.0   0.0   0.0  12.0   2.0   0.0  0.0  0.0   0.0  ...   0.0  0.0   \n",
      "0  0.0  0.0  12.0   8.0   8.0   7.0   0.0  0.0  0.0   3.0  ...   0.0  0.0   \n",
      "0  0.0  0.0   1.0  13.0  14.0   3.0   0.0  0.0  0.0   0.0  ...  12.0  0.0   \n",
      "0  0.0  0.0   0.0   8.0  14.0  14.0   2.0  0.0  0.0   0.0  ...   0.0  0.0   \n",
      "0  0.0  0.0  10.0  11.0   4.0   0.0   0.0  0.0  0.0   0.0  ...   0.0  0.0   \n",
      "0  0.0  0.0   9.0  13.0   7.0   0.0   0.0  0.0  0.0   0.0  ...  16.0  2.0   \n",
      "0  0.0  0.0  10.0  14.0  11.0   3.0   0.0  0.0  0.0   4.0  ...   0.0  0.0   \n",
      "0  0.0  0.0   2.0  13.0   8.0   0.0   0.0  0.0  0.0   0.0  ...  16.0  2.0   \n",
      "0  0.0  2.0  13.0  16.0  16.0  16.0  11.0  0.0  0.0   5.0  ...   0.0  0.0   \n",
      "0  0.0  6.0  13.0   5.0   8.0   8.0   1.0  0.0  0.0   8.0  ...   0.0  0.0   \n",
      "0  0.0  0.0   0.0   5.0  14.0   2.0   0.0  0.0  0.0   0.0  ...   9.0  0.0   \n",
      "0  0.0  3.0  15.0   8.0   8.0   6.0   0.0  0.0  0.0   4.0  ...   0.0  0.0   \n",
      "0  0.0  0.0   6.0  14.0  10.0   2.0   0.0  0.0  0.0   0.0  ...   0.0  0.0   \n",
      "0  0.0  0.0  13.0  10.0   1.0   0.0   0.0  0.0  0.0   5.0  ...  14.0  0.0   \n",
      "0  0.0  0.0   7.0   7.0  13.0  16.0   4.0  0.0  0.0   0.0  ...   0.0  0.0   \n",
      "0  0.0  1.0   9.0  16.0  13.0   7.0   0.0  0.0  0.0   7.0  ...   5.0  0.0   \n",
      "0  0.0  0.0  11.0  10.0  12.0   4.0   0.0  0.0  0.0   0.0  ...   0.0  0.0   \n",
      "0  0.0  0.0   0.0   9.0  15.0   1.0   0.0  0.0  0.0   0.0  ...   0.0  0.0   \n",
      "0  0.0  0.0   0.0   0.0  12.0   5.0   0.0  0.0  0.0   0.0  ...   0.0  0.0   \n",
      "0  0.0  0.0   0.0   9.0  15.0  12.0   0.0  0.0  0.0   0.0  ...   0.0  0.0   \n",
      "0  0.0  0.0   9.0  16.0  16.0  16.0   5.0  0.0  0.0   1.0  ...   0.0  0.0   \n",
      "0  0.0  0.0   9.0  16.0  13.0   6.0   0.0  0.0  0.0   0.0  ...  12.0  0.0   \n",
      "0  0.0  1.0  15.0   4.0   0.0   0.0   0.0  0.0  0.0   2.0  ...   0.0  0.0   \n",
      "0  0.0  0.0   0.0   1.0  11.0   9.0   0.0  0.0  0.0   0.0  ...   0.0  0.0   \n",
      "0  0.0  0.0   2.0  15.0  13.0   3.0   0.0  0.0  0.0   0.0  ...   5.0  0.0   \n",
      "0  0.0  0.0   1.0  15.0  13.0   1.0   0.0  0.0  0.0   0.0  ...   6.0  0.0   \n",
      "0  0.0  0.0   0.0   5.0  14.0  12.0   2.0  0.0  0.0   0.0  ...   0.0  0.0   \n",
      "0  0.0  0.0   0.0   3.0  15.0  10.0   1.0  0.0  0.0   0.0  ...   3.0  0.0   \n",
      "0  0.0  0.0   3.0  12.0  16.0  16.0   6.0  0.0  0.0   0.0  ...   0.0  0.0   \n",
      "0  0.0  0.0   4.0   8.0  16.0   5.0   0.0  0.0  0.0   0.0  ...   0.0  0.0   \n",
      "0  0.0  0.0   0.0   1.0  14.0  14.0   3.0  0.0  0.0   0.0  ...   2.0  0.0   \n",
      "\n",
      "    56   57    58    59    60    61    62   63  \n",
      "0  0.0  0.0   6.0  13.0  10.0   0.0   0.0  0.0  \n",
      "0  0.0  0.0   0.0  11.0  16.0  10.0   0.0  0.0  \n",
      "0  0.0  0.0   0.0   3.0  11.0  16.0   9.0  0.0  \n",
      "0  0.0  0.0   7.0  13.0  13.0   9.0   0.0  0.0  \n",
      "0  0.0  0.0   0.0   2.0  16.0   4.0   0.0  0.0  \n",
      "0  0.0  0.0   9.0  16.0  16.0  10.0   0.0  0.0  \n",
      "0  0.0  0.0   1.0   9.0  15.0  11.0   3.0  0.0  \n",
      "0  0.0  0.0  13.0   5.0   0.0   0.0   0.0  0.0  \n",
      "0  0.0  0.0  11.0  16.0  15.0  11.0   1.0  0.0  \n",
      "0  0.0  0.0   9.0  12.0  13.0   3.0   0.0  0.0  \n",
      "0  0.0  0.0   1.0  10.0  13.0   3.0   0.0  0.0  \n",
      "0  0.0  0.0   0.0   1.0  13.0  16.0   1.0  0.0  \n",
      "0  0.0  0.0   3.0  11.0   8.0  13.0  12.0  4.0  \n",
      "0  0.0  2.0  12.0  12.0  13.0  11.0   0.0  0.0  \n",
      "0  0.0  0.0   0.0  10.0  15.0   4.0   0.0  0.0  \n",
      "0  0.0  4.0  15.0  16.0   2.0   0.0   0.0  0.0  \n",
      "0  0.0  0.0   0.0   7.0  15.0  16.0  11.0  0.0  \n",
      "0  0.0  0.0   0.0  11.0   9.0   0.0   0.0  0.0  \n",
      "0  0.0  0.0  11.0  14.0   5.0   0.0   0.0  0.0  \n",
      "0  0.0  0.0   7.0  16.0  16.0  13.0  11.0  1.0  \n",
      "0  0.0  0.0   2.0  12.0  13.0   4.0   0.0  0.0  \n",
      "0  0.0  0.0   0.0   2.0  12.0  15.0   4.0  0.0  \n",
      "0  0.0  0.0   7.0  12.0  12.0  12.0  13.0  1.0  \n",
      "0  0.0  0.0  14.0  15.0  11.0   2.0   0.0  0.0  \n",
      "0  0.0  0.0   0.0   0.0  12.0   8.0   0.0  0.0  \n",
      "0  0.0  0.0  11.0  14.0   9.0   0.0   0.0  0.0  \n",
      "0  0.0  0.0   3.0  12.0  15.0  14.0   7.0  0.0  \n",
      "0  0.0  0.0   0.0  12.0  13.0   1.0   0.0  0.0  \n",
      "0  0.0  0.0   8.0  14.0   7.0   1.0   0.0  0.0  \n",
      "0  0.0  0.0   7.0  12.0  12.0  12.0  11.0  0.0  \n",
      "0  0.0  0.0  11.0  16.0  12.0   3.0   0.0  0.0  \n",
      "0  0.0  0.0   2.0  15.0  13.0  14.0  13.0  2.0  \n",
      "0  0.0  2.0  16.0  15.0   8.0   0.0   0.0  0.0  \n",
      "0  0.0  4.0  16.0  15.0   3.0   0.0   0.0  0.0  \n",
      "0  0.0  0.0   0.0   5.0  16.0  15.0   3.0  0.0  \n",
      "0  0.0  1.0  15.0  14.0   1.0   0.0   0.0  0.0  \n",
      "0  0.0  0.0   7.0  16.0  11.0   1.0   0.0  0.0  \n",
      "0  0.0  0.0  13.0  13.0  15.0  16.0  13.0  0.0  \n",
      "0  0.0  1.0  11.0  16.0   6.0   0.0   0.0  0.0  \n",
      "0  0.0  0.0   9.0  14.0  13.0  10.0   1.0  0.0  \n",
      "0  0.0  1.0  11.0  14.0  12.0   4.0   0.0  0.0  \n",
      "0  0.0  0.0   0.0   9.0  16.0   2.0   0.0  0.0  \n",
      "0  0.0  0.0   0.0   3.0  16.0   8.0   0.0  0.0  \n",
      "0  0.0  0.0   0.0  11.0   7.0   0.0   0.0  0.0  \n",
      "0  0.0  0.0  13.0  10.0   0.0   0.0   0.0  0.0  \n",
      "0  0.0  0.0  11.0  14.0  12.0   8.0   0.0  0.0  \n",
      "0  0.0  0.0  14.0  14.0   4.0   0.0   0.0  0.0  \n",
      "0  0.0  0.0   0.0   2.0  14.0   6.0   0.0  0.0  \n",
      "0  0.0  0.0   4.0  12.0  15.0   6.0   0.0  0.0  \n",
      "0  0.0  0.0   0.0  13.0  14.0   8.0   0.0  0.0  \n",
      "0  0.0  0.0   0.0   6.0  12.0  13.0   3.0  0.0  \n",
      "0  0.0  0.0   0.0   4.0   9.0  14.0   7.0  0.0  \n",
      "0  0.0  0.0   4.0  16.0   5.0   0.0   0.0  0.0  \n",
      "0  0.0  0.0   6.0  16.0  12.0   1.0   0.0  0.0  \n",
      "0  0.0  0.0   0.0   1.0  13.0  16.0   5.0  0.0  \n",
      "\n",
      "[55 rows x 64 columns]\n",
      "    0    1     2     3     4     5     6    7    8     9   ...    54   55  \\\n",
      "0  0.0  0.0   5.0  13.0   9.0   1.0   0.0  0.0  0.0   0.0  ...   0.0  0.0   \n",
      "0  0.0  0.0   0.0  12.0  13.0   5.0   0.0  0.0  0.0   0.0  ...   0.0  0.0   \n",
      "0  0.0  0.0   0.0   4.0  15.0  12.0   0.0  0.0  0.0   0.0  ...   5.0  0.0   \n",
      "0  0.0  0.0   7.0  15.0  13.0   1.0   0.0  0.0  0.0   8.0  ...   9.0  0.0   \n",
      "0  0.0  0.0   0.0   1.0  11.0   0.0   0.0  0.0  0.0   0.0  ...   0.0  0.0   \n",
      "0  0.0  0.0  12.0  10.0   0.0   0.0   0.0  0.0  0.0   0.0  ...   4.0  0.0   \n",
      "0  0.0  0.0   0.0  12.0  13.0   0.0   0.0  0.0  0.0   0.0  ...   8.0  0.0   \n",
      "0  0.0  0.0   7.0   8.0  13.0  16.0  15.0  1.0  0.0   0.0  ...   0.0  0.0   \n",
      "0  0.0  0.0   9.0  14.0   8.0   1.0   0.0  0.0  0.0   0.0  ...   8.0  0.0   \n",
      "0  0.0  0.0  11.0  12.0   0.0   0.0   0.0  0.0  0.0   2.0  ...   4.0  0.0   \n",
      "0  0.0  0.0   1.0   9.0  15.0  11.0   0.0  0.0  0.0   0.0  ...   0.0  0.0   \n",
      "0  0.0  0.0   0.0   0.0  14.0  13.0   1.0  0.0  0.0   0.0  ...   0.0  0.0   \n",
      "0  0.0  0.0   5.0  12.0   1.0   0.0   0.0  0.0  0.0   0.0  ...   8.0  2.0   \n",
      "0  0.0  2.0   9.0  15.0  14.0   9.0   3.0  0.0  0.0   4.0  ...   6.0  0.0   \n",
      "0  0.0  0.0   0.0   8.0  15.0   1.0   0.0  0.0  0.0   0.0  ...   0.0  0.0   \n",
      "0  0.0  5.0  12.0  13.0  16.0  16.0   2.0  0.0  0.0  11.0  ...   0.0  0.0   \n",
      "0  0.0  0.0   0.0   8.0  15.0   1.0   0.0  0.0  0.0   0.0  ...  16.0  2.0   \n",
      "0  0.0  0.0   1.0   8.0  15.0  10.0   0.0  0.0  0.0   3.0  ...   0.0  0.0   \n",
      "0  0.0  0.0  10.0   7.0  13.0   9.0   0.0  0.0  0.0   0.0  ...   0.0  0.0   \n",
      "0  0.0  0.0   6.0  14.0   4.0   0.0   0.0  0.0  0.0   0.0  ...  16.0  2.0   \n",
      "0  0.0  0.0   3.0  13.0  11.0   7.0   0.0  0.0  0.0   0.0  ...   1.0  0.0   \n",
      "0  0.0  0.0   0.0   2.0  16.0  16.0   2.0  0.0  0.0   0.0  ...   2.0  0.0   \n",
      "0  0.0  0.0   8.0  16.0   5.0   0.0   0.0  0.0  0.0   1.0  ...   3.0  0.0   \n",
      "0  0.0  1.0   8.0  12.0  15.0  14.0   4.0  0.0  0.0   3.0  ...   0.0  0.0   \n",
      "0  0.0  0.0   0.0   0.0  12.0   2.0   0.0  0.0  0.0   0.0  ...   0.0  0.0   \n",
      "0  0.0  0.0  12.0   8.0   8.0   7.0   0.0  0.0  0.0   3.0  ...   0.0  0.0   \n",
      "0  0.0  0.0   1.0  13.0  14.0   3.0   0.0  0.0  0.0   0.0  ...  12.0  0.0   \n",
      "0  0.0  0.0   0.0   8.0  14.0  14.0   2.0  0.0  0.0   0.0  ...   0.0  0.0   \n",
      "0  0.0  0.0  10.0  11.0   4.0   0.0   0.0  0.0  0.0   0.0  ...   0.0  0.0   \n",
      "0  0.0  0.0   9.0  13.0   7.0   0.0   0.0  0.0  0.0   0.0  ...  16.0  2.0   \n",
      "0  0.0  0.0  10.0  14.0  11.0   3.0   0.0  0.0  0.0   4.0  ...   0.0  0.0   \n",
      "0  0.0  0.0   2.0  13.0   8.0   0.0   0.0  0.0  0.0   0.0  ...  16.0  2.0   \n",
      "0  0.0  2.0  13.0  16.0  16.0  16.0  11.0  0.0  0.0   5.0  ...   0.0  0.0   \n",
      "0  0.0  6.0  13.0   5.0   8.0   8.0   1.0  0.0  0.0   8.0  ...   0.0  0.0   \n",
      "0  0.0  0.0   0.0   5.0  14.0   2.0   0.0  0.0  0.0   0.0  ...   9.0  0.0   \n",
      "0  0.0  3.0  15.0   8.0   8.0   6.0   0.0  0.0  0.0   4.0  ...   0.0  0.0   \n",
      "0  0.0  0.0   6.0  14.0  10.0   2.0   0.0  0.0  0.0   0.0  ...   0.0  0.0   \n",
      "0  0.0  0.0  13.0  10.0   1.0   0.0   0.0  0.0  0.0   5.0  ...  14.0  0.0   \n",
      "0  0.0  0.0   7.0   7.0  13.0  16.0   4.0  0.0  0.0   0.0  ...   0.0  0.0   \n",
      "0  0.0  1.0   9.0  16.0  13.0   7.0   0.0  0.0  0.0   7.0  ...   5.0  0.0   \n",
      "0  0.0  0.0  11.0  10.0  12.0   4.0   0.0  0.0  0.0   0.0  ...   0.0  0.0   \n",
      "0  0.0  0.0   0.0   9.0  15.0   1.0   0.0  0.0  0.0   0.0  ...   0.0  0.0   \n",
      "0  0.0  0.0   0.0   0.0  12.0   5.0   0.0  0.0  0.0   0.0  ...   0.0  0.0   \n",
      "0  0.0  0.0   0.0   9.0  15.0  12.0   0.0  0.0  0.0   0.0  ...   0.0  0.0   \n",
      "0  0.0  0.0   9.0  16.0  16.0  16.0   5.0  0.0  0.0   1.0  ...   0.0  0.0   \n",
      "0  0.0  0.0   9.0  16.0  13.0   6.0   0.0  0.0  0.0   0.0  ...  12.0  0.0   \n",
      "0  0.0  1.0  15.0   4.0   0.0   0.0   0.0  0.0  0.0   2.0  ...   0.0  0.0   \n",
      "0  0.0  0.0   0.0   1.0  11.0   9.0   0.0  0.0  0.0   0.0  ...   0.0  0.0   \n",
      "0  0.0  0.0   2.0  15.0  13.0   3.0   0.0  0.0  0.0   0.0  ...   5.0  0.0   \n",
      "0  0.0  0.0   1.0  15.0  13.0   1.0   0.0  0.0  0.0   0.0  ...   6.0  0.0   \n",
      "0  0.0  0.0   0.0   5.0  14.0  12.0   2.0  0.0  0.0   0.0  ...   0.0  0.0   \n",
      "0  0.0  0.0   0.0   3.0  15.0  10.0   1.0  0.0  0.0   0.0  ...   3.0  0.0   \n",
      "0  0.0  0.0   3.0  12.0  16.0  16.0   6.0  0.0  0.0   0.0  ...   0.0  0.0   \n",
      "0  0.0  0.0   4.0   8.0  16.0   5.0   0.0  0.0  0.0   0.0  ...   0.0  0.0   \n",
      "0  0.0  0.0   0.0   1.0  14.0  14.0   3.0  0.0  0.0   0.0  ...   2.0  0.0   \n",
      "0  0.0  0.0   2.0  14.0  15.0   5.0   0.0  0.0  0.0   0.0  ...   0.0  0.0   \n",
      "\n",
      "    56   57    58    59    60    61    62   63  \n",
      "0  0.0  0.0   6.0  13.0  10.0   0.0   0.0  0.0  \n",
      "0  0.0  0.0   0.0  11.0  16.0  10.0   0.0  0.0  \n",
      "0  0.0  0.0   0.0   3.0  11.0  16.0   9.0  0.0  \n",
      "0  0.0  0.0   7.0  13.0  13.0   9.0   0.0  0.0  \n",
      "0  0.0  0.0   0.0   2.0  16.0   4.0   0.0  0.0  \n",
      "0  0.0  0.0   9.0  16.0  16.0  10.0   0.0  0.0  \n",
      "0  0.0  0.0   1.0   9.0  15.0  11.0   3.0  0.0  \n",
      "0  0.0  0.0  13.0   5.0   0.0   0.0   0.0  0.0  \n",
      "0  0.0  0.0  11.0  16.0  15.0  11.0   1.0  0.0  \n",
      "0  0.0  0.0   9.0  12.0  13.0   3.0   0.0  0.0  \n",
      "0  0.0  0.0   1.0  10.0  13.0   3.0   0.0  0.0  \n",
      "0  0.0  0.0   0.0   1.0  13.0  16.0   1.0  0.0  \n",
      "0  0.0  0.0   3.0  11.0   8.0  13.0  12.0  4.0  \n",
      "0  0.0  2.0  12.0  12.0  13.0  11.0   0.0  0.0  \n",
      "0  0.0  0.0   0.0  10.0  15.0   4.0   0.0  0.0  \n",
      "0  0.0  4.0  15.0  16.0   2.0   0.0   0.0  0.0  \n",
      "0  0.0  0.0   0.0   7.0  15.0  16.0  11.0  0.0  \n",
      "0  0.0  0.0   0.0  11.0   9.0   0.0   0.0  0.0  \n",
      "0  0.0  0.0  11.0  14.0   5.0   0.0   0.0  0.0  \n",
      "0  0.0  0.0   7.0  16.0  16.0  13.0  11.0  1.0  \n",
      "0  0.0  0.0   2.0  12.0  13.0   4.0   0.0  0.0  \n",
      "0  0.0  0.0   0.0   2.0  12.0  15.0   4.0  0.0  \n",
      "0  0.0  0.0   7.0  12.0  12.0  12.0  13.0  1.0  \n",
      "0  0.0  0.0  14.0  15.0  11.0   2.0   0.0  0.0  \n",
      "0  0.0  0.0   0.0   0.0  12.0   8.0   0.0  0.0  \n",
      "0  0.0  0.0  11.0  14.0   9.0   0.0   0.0  0.0  \n",
      "0  0.0  0.0   3.0  12.0  15.0  14.0   7.0  0.0  \n",
      "0  0.0  0.0   0.0  12.0  13.0   1.0   0.0  0.0  \n",
      "0  0.0  0.0   8.0  14.0   7.0   1.0   0.0  0.0  \n",
      "0  0.0  0.0   7.0  12.0  12.0  12.0  11.0  0.0  \n",
      "0  0.0  0.0  11.0  16.0  12.0   3.0   0.0  0.0  \n",
      "0  0.0  0.0   2.0  15.0  13.0  14.0  13.0  2.0  \n",
      "0  0.0  2.0  16.0  15.0   8.0   0.0   0.0  0.0  \n",
      "0  0.0  4.0  16.0  15.0   3.0   0.0   0.0  0.0  \n",
      "0  0.0  0.0   0.0   5.0  16.0  15.0   3.0  0.0  \n",
      "0  0.0  1.0  15.0  14.0   1.0   0.0   0.0  0.0  \n",
      "0  0.0  0.0   7.0  16.0  11.0   1.0   0.0  0.0  \n",
      "0  0.0  0.0  13.0  13.0  15.0  16.0  13.0  0.0  \n",
      "0  0.0  1.0  11.0  16.0   6.0   0.0   0.0  0.0  \n",
      "0  0.0  0.0   9.0  14.0  13.0  10.0   1.0  0.0  \n",
      "0  0.0  1.0  11.0  14.0  12.0   4.0   0.0  0.0  \n",
      "0  0.0  0.0   0.0   9.0  16.0   2.0   0.0  0.0  \n",
      "0  0.0  0.0   0.0   3.0  16.0   8.0   0.0  0.0  \n",
      "0  0.0  0.0   0.0  11.0   7.0   0.0   0.0  0.0  \n",
      "0  0.0  0.0  13.0  10.0   0.0   0.0   0.0  0.0  \n",
      "0  0.0  0.0  11.0  14.0  12.0   8.0   0.0  0.0  \n",
      "0  0.0  0.0  14.0  14.0   4.0   0.0   0.0  0.0  \n",
      "0  0.0  0.0   0.0   2.0  14.0   6.0   0.0  0.0  \n",
      "0  0.0  0.0   4.0  12.0  15.0   6.0   0.0  0.0  \n",
      "0  0.0  0.0   0.0  13.0  14.0   8.0   0.0  0.0  \n",
      "0  0.0  0.0   0.0   6.0  12.0  13.0   3.0  0.0  \n",
      "0  0.0  0.0   0.0   4.0   9.0  14.0   7.0  0.0  \n",
      "0  0.0  0.0   4.0  16.0   5.0   0.0   0.0  0.0  \n",
      "0  0.0  0.0   6.0  16.0  12.0   1.0   0.0  0.0  \n",
      "0  0.0  0.0   0.0   1.0  13.0  16.0   5.0  0.0  \n",
      "0  0.0  0.0   2.0  11.0  13.0   4.0   0.0  0.0  \n",
      "\n",
      "[56 rows x 64 columns]\n",
      "    0    1     2     3     4     5     6    7    8     9   ...    54   55  \\\n",
      "0  0.0  0.0   5.0  13.0   9.0   1.0   0.0  0.0  0.0   0.0  ...   0.0  0.0   \n",
      "0  0.0  0.0   0.0  12.0  13.0   5.0   0.0  0.0  0.0   0.0  ...   0.0  0.0   \n",
      "0  0.0  0.0   0.0   4.0  15.0  12.0   0.0  0.0  0.0   0.0  ...   5.0  0.0   \n",
      "0  0.0  0.0   7.0  15.0  13.0   1.0   0.0  0.0  0.0   8.0  ...   9.0  0.0   \n",
      "0  0.0  0.0   0.0   1.0  11.0   0.0   0.0  0.0  0.0   0.0  ...   0.0  0.0   \n",
      "0  0.0  0.0  12.0  10.0   0.0   0.0   0.0  0.0  0.0   0.0  ...   4.0  0.0   \n",
      "0  0.0  0.0   0.0  12.0  13.0   0.0   0.0  0.0  0.0   0.0  ...   8.0  0.0   \n",
      "0  0.0  0.0   7.0   8.0  13.0  16.0  15.0  1.0  0.0   0.0  ...   0.0  0.0   \n",
      "0  0.0  0.0   9.0  14.0   8.0   1.0   0.0  0.0  0.0   0.0  ...   8.0  0.0   \n",
      "0  0.0  0.0  11.0  12.0   0.0   0.0   0.0  0.0  0.0   2.0  ...   4.0  0.0   \n",
      "0  0.0  0.0   1.0   9.0  15.0  11.0   0.0  0.0  0.0   0.0  ...   0.0  0.0   \n",
      "0  0.0  0.0   0.0   0.0  14.0  13.0   1.0  0.0  0.0   0.0  ...   0.0  0.0   \n",
      "0  0.0  0.0   5.0  12.0   1.0   0.0   0.0  0.0  0.0   0.0  ...   8.0  2.0   \n",
      "0  0.0  2.0   9.0  15.0  14.0   9.0   3.0  0.0  0.0   4.0  ...   6.0  0.0   \n",
      "0  0.0  0.0   0.0   8.0  15.0   1.0   0.0  0.0  0.0   0.0  ...   0.0  0.0   \n",
      "0  0.0  5.0  12.0  13.0  16.0  16.0   2.0  0.0  0.0  11.0  ...   0.0  0.0   \n",
      "0  0.0  0.0   0.0   8.0  15.0   1.0   0.0  0.0  0.0   0.0  ...  16.0  2.0   \n",
      "0  0.0  0.0   1.0   8.0  15.0  10.0   0.0  0.0  0.0   3.0  ...   0.0  0.0   \n",
      "0  0.0  0.0  10.0   7.0  13.0   9.0   0.0  0.0  0.0   0.0  ...   0.0  0.0   \n",
      "0  0.0  0.0   6.0  14.0   4.0   0.0   0.0  0.0  0.0   0.0  ...  16.0  2.0   \n",
      "0  0.0  0.0   3.0  13.0  11.0   7.0   0.0  0.0  0.0   0.0  ...   1.0  0.0   \n",
      "0  0.0  0.0   0.0   2.0  16.0  16.0   2.0  0.0  0.0   0.0  ...   2.0  0.0   \n",
      "0  0.0  0.0   8.0  16.0   5.0   0.0   0.0  0.0  0.0   1.0  ...   3.0  0.0   \n",
      "0  0.0  1.0   8.0  12.0  15.0  14.0   4.0  0.0  0.0   3.0  ...   0.0  0.0   \n",
      "0  0.0  0.0   0.0   0.0  12.0   2.0   0.0  0.0  0.0   0.0  ...   0.0  0.0   \n",
      "0  0.0  0.0  12.0   8.0   8.0   7.0   0.0  0.0  0.0   3.0  ...   0.0  0.0   \n",
      "0  0.0  0.0   1.0  13.0  14.0   3.0   0.0  0.0  0.0   0.0  ...  12.0  0.0   \n",
      "0  0.0  0.0   0.0   8.0  14.0  14.0   2.0  0.0  0.0   0.0  ...   0.0  0.0   \n",
      "0  0.0  0.0  10.0  11.0   4.0   0.0   0.0  0.0  0.0   0.0  ...   0.0  0.0   \n",
      "0  0.0  0.0   9.0  13.0   7.0   0.0   0.0  0.0  0.0   0.0  ...  16.0  2.0   \n",
      "0  0.0  0.0  10.0  14.0  11.0   3.0   0.0  0.0  0.0   4.0  ...   0.0  0.0   \n",
      "0  0.0  0.0   2.0  13.0   8.0   0.0   0.0  0.0  0.0   0.0  ...  16.0  2.0   \n",
      "0  0.0  2.0  13.0  16.0  16.0  16.0  11.0  0.0  0.0   5.0  ...   0.0  0.0   \n",
      "0  0.0  6.0  13.0   5.0   8.0   8.0   1.0  0.0  0.0   8.0  ...   0.0  0.0   \n",
      "0  0.0  0.0   0.0   5.0  14.0   2.0   0.0  0.0  0.0   0.0  ...   9.0  0.0   \n",
      "0  0.0  3.0  15.0   8.0   8.0   6.0   0.0  0.0  0.0   4.0  ...   0.0  0.0   \n",
      "0  0.0  0.0   6.0  14.0  10.0   2.0   0.0  0.0  0.0   0.0  ...   0.0  0.0   \n",
      "0  0.0  0.0  13.0  10.0   1.0   0.0   0.0  0.0  0.0   5.0  ...  14.0  0.0   \n",
      "0  0.0  0.0   7.0   7.0  13.0  16.0   4.0  0.0  0.0   0.0  ...   0.0  0.0   \n",
      "0  0.0  1.0   9.0  16.0  13.0   7.0   0.0  0.0  0.0   7.0  ...   5.0  0.0   \n",
      "0  0.0  0.0  11.0  10.0  12.0   4.0   0.0  0.0  0.0   0.0  ...   0.0  0.0   \n",
      "0  0.0  0.0   0.0   9.0  15.0   1.0   0.0  0.0  0.0   0.0  ...   0.0  0.0   \n",
      "0  0.0  0.0   0.0   0.0  12.0   5.0   0.0  0.0  0.0   0.0  ...   0.0  0.0   \n",
      "0  0.0  0.0   0.0   9.0  15.0  12.0   0.0  0.0  0.0   0.0  ...   0.0  0.0   \n",
      "0  0.0  0.0   9.0  16.0  16.0  16.0   5.0  0.0  0.0   1.0  ...   0.0  0.0   \n",
      "0  0.0  0.0   9.0  16.0  13.0   6.0   0.0  0.0  0.0   0.0  ...  12.0  0.0   \n",
      "0  0.0  1.0  15.0   4.0   0.0   0.0   0.0  0.0  0.0   2.0  ...   0.0  0.0   \n",
      "0  0.0  0.0   0.0   1.0  11.0   9.0   0.0  0.0  0.0   0.0  ...   0.0  0.0   \n",
      "0  0.0  0.0   2.0  15.0  13.0   3.0   0.0  0.0  0.0   0.0  ...   5.0  0.0   \n",
      "0  0.0  0.0   1.0  15.0  13.0   1.0   0.0  0.0  0.0   0.0  ...   6.0  0.0   \n",
      "0  0.0  0.0   0.0   5.0  14.0  12.0   2.0  0.0  0.0   0.0  ...   0.0  0.0   \n",
      "0  0.0  0.0   0.0   3.0  15.0  10.0   1.0  0.0  0.0   0.0  ...   3.0  0.0   \n",
      "0  0.0  0.0   3.0  12.0  16.0  16.0   6.0  0.0  0.0   0.0  ...   0.0  0.0   \n",
      "0  0.0  0.0   4.0   8.0  16.0   5.0   0.0  0.0  0.0   0.0  ...   0.0  0.0   \n",
      "0  0.0  0.0   0.0   1.0  14.0  14.0   3.0  0.0  0.0   0.0  ...   2.0  0.0   \n",
      "0  0.0  0.0   2.0  14.0  15.0   5.0   0.0  0.0  0.0   0.0  ...   0.0  0.0   \n",
      "0  0.0  0.0   0.0   0.0  12.0  13.0   1.0  0.0  0.0   0.0  ...   0.0  0.0   \n",
      "\n",
      "    56   57    58    59    60    61    62   63  \n",
      "0  0.0  0.0   6.0  13.0  10.0   0.0   0.0  0.0  \n",
      "0  0.0  0.0   0.0  11.0  16.0  10.0   0.0  0.0  \n",
      "0  0.0  0.0   0.0   3.0  11.0  16.0   9.0  0.0  \n",
      "0  0.0  0.0   7.0  13.0  13.0   9.0   0.0  0.0  \n",
      "0  0.0  0.0   0.0   2.0  16.0   4.0   0.0  0.0  \n",
      "0  0.0  0.0   9.0  16.0  16.0  10.0   0.0  0.0  \n",
      "0  0.0  0.0   1.0   9.0  15.0  11.0   3.0  0.0  \n",
      "0  0.0  0.0  13.0   5.0   0.0   0.0   0.0  0.0  \n",
      "0  0.0  0.0  11.0  16.0  15.0  11.0   1.0  0.0  \n",
      "0  0.0  0.0   9.0  12.0  13.0   3.0   0.0  0.0  \n",
      "0  0.0  0.0   1.0  10.0  13.0   3.0   0.0  0.0  \n",
      "0  0.0  0.0   0.0   1.0  13.0  16.0   1.0  0.0  \n",
      "0  0.0  0.0   3.0  11.0   8.0  13.0  12.0  4.0  \n",
      "0  0.0  2.0  12.0  12.0  13.0  11.0   0.0  0.0  \n",
      "0  0.0  0.0   0.0  10.0  15.0   4.0   0.0  0.0  \n",
      "0  0.0  4.0  15.0  16.0   2.0   0.0   0.0  0.0  \n",
      "0  0.0  0.0   0.0   7.0  15.0  16.0  11.0  0.0  \n",
      "0  0.0  0.0   0.0  11.0   9.0   0.0   0.0  0.0  \n",
      "0  0.0  0.0  11.0  14.0   5.0   0.0   0.0  0.0  \n",
      "0  0.0  0.0   7.0  16.0  16.0  13.0  11.0  1.0  \n",
      "0  0.0  0.0   2.0  12.0  13.0   4.0   0.0  0.0  \n",
      "0  0.0  0.0   0.0   2.0  12.0  15.0   4.0  0.0  \n",
      "0  0.0  0.0   7.0  12.0  12.0  12.0  13.0  1.0  \n",
      "0  0.0  0.0  14.0  15.0  11.0   2.0   0.0  0.0  \n",
      "0  0.0  0.0   0.0   0.0  12.0   8.0   0.0  0.0  \n",
      "0  0.0  0.0  11.0  14.0   9.0   0.0   0.0  0.0  \n",
      "0  0.0  0.0   3.0  12.0  15.0  14.0   7.0  0.0  \n",
      "0  0.0  0.0   0.0  12.0  13.0   1.0   0.0  0.0  \n",
      "0  0.0  0.0   8.0  14.0   7.0   1.0   0.0  0.0  \n",
      "0  0.0  0.0   7.0  12.0  12.0  12.0  11.0  0.0  \n",
      "0  0.0  0.0  11.0  16.0  12.0   3.0   0.0  0.0  \n",
      "0  0.0  0.0   2.0  15.0  13.0  14.0  13.0  2.0  \n",
      "0  0.0  2.0  16.0  15.0   8.0   0.0   0.0  0.0  \n",
      "0  0.0  4.0  16.0  15.0   3.0   0.0   0.0  0.0  \n",
      "0  0.0  0.0   0.0   5.0  16.0  15.0   3.0  0.0  \n",
      "0  0.0  1.0  15.0  14.0   1.0   0.0   0.0  0.0  \n",
      "0  0.0  0.0   7.0  16.0  11.0   1.0   0.0  0.0  \n",
      "0  0.0  0.0  13.0  13.0  15.0  16.0  13.0  0.0  \n",
      "0  0.0  1.0  11.0  16.0   6.0   0.0   0.0  0.0  \n",
      "0  0.0  0.0   9.0  14.0  13.0  10.0   1.0  0.0  \n",
      "0  0.0  1.0  11.0  14.0  12.0   4.0   0.0  0.0  \n",
      "0  0.0  0.0   0.0   9.0  16.0   2.0   0.0  0.0  \n",
      "0  0.0  0.0   0.0   3.0  16.0   8.0   0.0  0.0  \n",
      "0  0.0  0.0   0.0  11.0   7.0   0.0   0.0  0.0  \n",
      "0  0.0  0.0  13.0  10.0   0.0   0.0   0.0  0.0  \n",
      "0  0.0  0.0  11.0  14.0  12.0   8.0   0.0  0.0  \n",
      "0  0.0  0.0  14.0  14.0   4.0   0.0   0.0  0.0  \n",
      "0  0.0  0.0   0.0   2.0  14.0   6.0   0.0  0.0  \n",
      "0  0.0  0.0   4.0  12.0  15.0   6.0   0.0  0.0  \n",
      "0  0.0  0.0   0.0  13.0  14.0   8.0   0.0  0.0  \n",
      "0  0.0  0.0   0.0   6.0  12.0  13.0   3.0  0.0  \n",
      "0  0.0  0.0   0.0   4.0   9.0  14.0   7.0  0.0  \n",
      "0  0.0  0.0   4.0  16.0   5.0   0.0   0.0  0.0  \n",
      "0  0.0  0.0   6.0  16.0  12.0   1.0   0.0  0.0  \n",
      "0  0.0  0.0   0.0   1.0  13.0  16.0   5.0  0.0  \n",
      "0  0.0  0.0   2.0  11.0  13.0   4.0   0.0  0.0  \n",
      "0  0.0  0.0   0.0   0.0  12.0  12.0   0.0  0.0  \n",
      "\n",
      "[57 rows x 64 columns]\n",
      "    0    1     2     3     4     5     6    7    8     9   ...    54   55  \\\n",
      "0  0.0  0.0   5.0  13.0   9.0   1.0   0.0  0.0  0.0   0.0  ...   0.0  0.0   \n",
      "0  0.0  0.0   0.0  12.0  13.0   5.0   0.0  0.0  0.0   0.0  ...   0.0  0.0   \n",
      "0  0.0  0.0   0.0   4.0  15.0  12.0   0.0  0.0  0.0   0.0  ...   5.0  0.0   \n",
      "0  0.0  0.0   7.0  15.0  13.0   1.0   0.0  0.0  0.0   8.0  ...   9.0  0.0   \n",
      "0  0.0  0.0   0.0   1.0  11.0   0.0   0.0  0.0  0.0   0.0  ...   0.0  0.0   \n",
      "0  0.0  0.0  12.0  10.0   0.0   0.0   0.0  0.0  0.0   0.0  ...   4.0  0.0   \n",
      "0  0.0  0.0   0.0  12.0  13.0   0.0   0.0  0.0  0.0   0.0  ...   8.0  0.0   \n",
      "0  0.0  0.0   7.0   8.0  13.0  16.0  15.0  1.0  0.0   0.0  ...   0.0  0.0   \n",
      "0  0.0  0.0   9.0  14.0   8.0   1.0   0.0  0.0  0.0   0.0  ...   8.0  0.0   \n",
      "0  0.0  0.0  11.0  12.0   0.0   0.0   0.0  0.0  0.0   2.0  ...   4.0  0.0   \n",
      "0  0.0  0.0   1.0   9.0  15.0  11.0   0.0  0.0  0.0   0.0  ...   0.0  0.0   \n",
      "0  0.0  0.0   0.0   0.0  14.0  13.0   1.0  0.0  0.0   0.0  ...   0.0  0.0   \n",
      "0  0.0  0.0   5.0  12.0   1.0   0.0   0.0  0.0  0.0   0.0  ...   8.0  2.0   \n",
      "0  0.0  2.0   9.0  15.0  14.0   9.0   3.0  0.0  0.0   4.0  ...   6.0  0.0   \n",
      "0  0.0  0.0   0.0   8.0  15.0   1.0   0.0  0.0  0.0   0.0  ...   0.0  0.0   \n",
      "0  0.0  5.0  12.0  13.0  16.0  16.0   2.0  0.0  0.0  11.0  ...   0.0  0.0   \n",
      "0  0.0  0.0   0.0   8.0  15.0   1.0   0.0  0.0  0.0   0.0  ...  16.0  2.0   \n",
      "0  0.0  0.0   1.0   8.0  15.0  10.0   0.0  0.0  0.0   3.0  ...   0.0  0.0   \n",
      "0  0.0  0.0  10.0   7.0  13.0   9.0   0.0  0.0  0.0   0.0  ...   0.0  0.0   \n",
      "0  0.0  0.0   6.0  14.0   4.0   0.0   0.0  0.0  0.0   0.0  ...  16.0  2.0   \n",
      "0  0.0  0.0   3.0  13.0  11.0   7.0   0.0  0.0  0.0   0.0  ...   1.0  0.0   \n",
      "0  0.0  0.0   0.0   2.0  16.0  16.0   2.0  0.0  0.0   0.0  ...   2.0  0.0   \n",
      "0  0.0  0.0   8.0  16.0   5.0   0.0   0.0  0.0  0.0   1.0  ...   3.0  0.0   \n",
      "0  0.0  1.0   8.0  12.0  15.0  14.0   4.0  0.0  0.0   3.0  ...   0.0  0.0   \n",
      "0  0.0  0.0   0.0   0.0  12.0   2.0   0.0  0.0  0.0   0.0  ...   0.0  0.0   \n",
      "0  0.0  0.0  12.0   8.0   8.0   7.0   0.0  0.0  0.0   3.0  ...   0.0  0.0   \n",
      "0  0.0  0.0   1.0  13.0  14.0   3.0   0.0  0.0  0.0   0.0  ...  12.0  0.0   \n",
      "0  0.0  0.0   0.0   8.0  14.0  14.0   2.0  0.0  0.0   0.0  ...   0.0  0.0   \n",
      "0  0.0  0.0  10.0  11.0   4.0   0.0   0.0  0.0  0.0   0.0  ...   0.0  0.0   \n",
      "0  0.0  0.0   9.0  13.0   7.0   0.0   0.0  0.0  0.0   0.0  ...  16.0  2.0   \n",
      "0  0.0  0.0  10.0  14.0  11.0   3.0   0.0  0.0  0.0   4.0  ...   0.0  0.0   \n",
      "0  0.0  0.0   2.0  13.0   8.0   0.0   0.0  0.0  0.0   0.0  ...  16.0  2.0   \n",
      "0  0.0  2.0  13.0  16.0  16.0  16.0  11.0  0.0  0.0   5.0  ...   0.0  0.0   \n",
      "0  0.0  6.0  13.0   5.0   8.0   8.0   1.0  0.0  0.0   8.0  ...   0.0  0.0   \n",
      "0  0.0  0.0   0.0   5.0  14.0   2.0   0.0  0.0  0.0   0.0  ...   9.0  0.0   \n",
      "0  0.0  3.0  15.0   8.0   8.0   6.0   0.0  0.0  0.0   4.0  ...   0.0  0.0   \n",
      "0  0.0  0.0   6.0  14.0  10.0   2.0   0.0  0.0  0.0   0.0  ...   0.0  0.0   \n",
      "0  0.0  0.0  13.0  10.0   1.0   0.0   0.0  0.0  0.0   5.0  ...  14.0  0.0   \n",
      "0  0.0  0.0   7.0   7.0  13.0  16.0   4.0  0.0  0.0   0.0  ...   0.0  0.0   \n",
      "0  0.0  1.0   9.0  16.0  13.0   7.0   0.0  0.0  0.0   7.0  ...   5.0  0.0   \n",
      "0  0.0  0.0  11.0  10.0  12.0   4.0   0.0  0.0  0.0   0.0  ...   0.0  0.0   \n",
      "0  0.0  0.0   0.0   9.0  15.0   1.0   0.0  0.0  0.0   0.0  ...   0.0  0.0   \n",
      "0  0.0  0.0   0.0   0.0  12.0   5.0   0.0  0.0  0.0   0.0  ...   0.0  0.0   \n",
      "0  0.0  0.0   0.0   9.0  15.0  12.0   0.0  0.0  0.0   0.0  ...   0.0  0.0   \n",
      "0  0.0  0.0   9.0  16.0  16.0  16.0   5.0  0.0  0.0   1.0  ...   0.0  0.0   \n",
      "0  0.0  0.0   9.0  16.0  13.0   6.0   0.0  0.0  0.0   0.0  ...  12.0  0.0   \n",
      "0  0.0  1.0  15.0   4.0   0.0   0.0   0.0  0.0  0.0   2.0  ...   0.0  0.0   \n",
      "0  0.0  0.0   0.0   1.0  11.0   9.0   0.0  0.0  0.0   0.0  ...   0.0  0.0   \n",
      "0  0.0  0.0   2.0  15.0  13.0   3.0   0.0  0.0  0.0   0.0  ...   5.0  0.0   \n",
      "0  0.0  0.0   1.0  15.0  13.0   1.0   0.0  0.0  0.0   0.0  ...   6.0  0.0   \n",
      "0  0.0  0.0   0.0   5.0  14.0  12.0   2.0  0.0  0.0   0.0  ...   0.0  0.0   \n",
      "0  0.0  0.0   0.0   3.0  15.0  10.0   1.0  0.0  0.0   0.0  ...   3.0  0.0   \n",
      "0  0.0  0.0   3.0  12.0  16.0  16.0   6.0  0.0  0.0   0.0  ...   0.0  0.0   \n",
      "0  0.0  0.0   4.0   8.0  16.0   5.0   0.0  0.0  0.0   0.0  ...   0.0  0.0   \n",
      "0  0.0  0.0   0.0   1.0  14.0  14.0   3.0  0.0  0.0   0.0  ...   2.0  0.0   \n",
      "0  0.0  0.0   2.0  14.0  15.0   5.0   0.0  0.0  0.0   0.0  ...   0.0  0.0   \n",
      "0  0.0  0.0   0.0   0.0  12.0  13.0   1.0  0.0  0.0   0.0  ...   0.0  0.0   \n",
      "0  0.0  0.0   0.0   1.0   9.0  11.0   0.0  0.0  0.0   0.0  ...   4.0  0.0   \n",
      "\n",
      "    56   57    58    59    60    61    62   63  \n",
      "0  0.0  0.0   6.0  13.0  10.0   0.0   0.0  0.0  \n",
      "0  0.0  0.0   0.0  11.0  16.0  10.0   0.0  0.0  \n",
      "0  0.0  0.0   0.0   3.0  11.0  16.0   9.0  0.0  \n",
      "0  0.0  0.0   7.0  13.0  13.0   9.0   0.0  0.0  \n",
      "0  0.0  0.0   0.0   2.0  16.0   4.0   0.0  0.0  \n",
      "0  0.0  0.0   9.0  16.0  16.0  10.0   0.0  0.0  \n",
      "0  0.0  0.0   1.0   9.0  15.0  11.0   3.0  0.0  \n",
      "0  0.0  0.0  13.0   5.0   0.0   0.0   0.0  0.0  \n",
      "0  0.0  0.0  11.0  16.0  15.0  11.0   1.0  0.0  \n",
      "0  0.0  0.0   9.0  12.0  13.0   3.0   0.0  0.0  \n",
      "0  0.0  0.0   1.0  10.0  13.0   3.0   0.0  0.0  \n",
      "0  0.0  0.0   0.0   1.0  13.0  16.0   1.0  0.0  \n",
      "0  0.0  0.0   3.0  11.0   8.0  13.0  12.0  4.0  \n",
      "0  0.0  2.0  12.0  12.0  13.0  11.0   0.0  0.0  \n",
      "0  0.0  0.0   0.0  10.0  15.0   4.0   0.0  0.0  \n",
      "0  0.0  4.0  15.0  16.0   2.0   0.0   0.0  0.0  \n",
      "0  0.0  0.0   0.0   7.0  15.0  16.0  11.0  0.0  \n",
      "0  0.0  0.0   0.0  11.0   9.0   0.0   0.0  0.0  \n",
      "0  0.0  0.0  11.0  14.0   5.0   0.0   0.0  0.0  \n",
      "0  0.0  0.0   7.0  16.0  16.0  13.0  11.0  1.0  \n",
      "0  0.0  0.0   2.0  12.0  13.0   4.0   0.0  0.0  \n",
      "0  0.0  0.0   0.0   2.0  12.0  15.0   4.0  0.0  \n",
      "0  0.0  0.0   7.0  12.0  12.0  12.0  13.0  1.0  \n",
      "0  0.0  0.0  14.0  15.0  11.0   2.0   0.0  0.0  \n",
      "0  0.0  0.0   0.0   0.0  12.0   8.0   0.0  0.0  \n",
      "0  0.0  0.0  11.0  14.0   9.0   0.0   0.0  0.0  \n",
      "0  0.0  0.0   3.0  12.0  15.0  14.0   7.0  0.0  \n",
      "0  0.0  0.0   0.0  12.0  13.0   1.0   0.0  0.0  \n",
      "0  0.0  0.0   8.0  14.0   7.0   1.0   0.0  0.0  \n",
      "0  0.0  0.0   7.0  12.0  12.0  12.0  11.0  0.0  \n",
      "0  0.0  0.0  11.0  16.0  12.0   3.0   0.0  0.0  \n",
      "0  0.0  0.0   2.0  15.0  13.0  14.0  13.0  2.0  \n",
      "0  0.0  2.0  16.0  15.0   8.0   0.0   0.0  0.0  \n",
      "0  0.0  4.0  16.0  15.0   3.0   0.0   0.0  0.0  \n",
      "0  0.0  0.0   0.0   5.0  16.0  15.0   3.0  0.0  \n",
      "0  0.0  1.0  15.0  14.0   1.0   0.0   0.0  0.0  \n",
      "0  0.0  0.0   7.0  16.0  11.0   1.0   0.0  0.0  \n",
      "0  0.0  0.0  13.0  13.0  15.0  16.0  13.0  0.0  \n",
      "0  0.0  1.0  11.0  16.0   6.0   0.0   0.0  0.0  \n",
      "0  0.0  0.0   9.0  14.0  13.0  10.0   1.0  0.0  \n",
      "0  0.0  1.0  11.0  14.0  12.0   4.0   0.0  0.0  \n",
      "0  0.0  0.0   0.0   9.0  16.0   2.0   0.0  0.0  \n",
      "0  0.0  0.0   0.0   3.0  16.0   8.0   0.0  0.0  \n",
      "0  0.0  0.0   0.0  11.0   7.0   0.0   0.0  0.0  \n",
      "0  0.0  0.0  13.0  10.0   0.0   0.0   0.0  0.0  \n",
      "0  0.0  0.0  11.0  14.0  12.0   8.0   0.0  0.0  \n",
      "0  0.0  0.0  14.0  14.0   4.0   0.0   0.0  0.0  \n",
      "0  0.0  0.0   0.0   2.0  14.0   6.0   0.0  0.0  \n",
      "0  0.0  0.0   4.0  12.0  15.0   6.0   0.0  0.0  \n",
      "0  0.0  0.0   0.0  13.0  14.0   8.0   0.0  0.0  \n",
      "0  0.0  0.0   0.0   6.0  12.0  13.0   3.0  0.0  \n",
      "0  0.0  0.0   0.0   4.0   9.0  14.0   7.0  0.0  \n",
      "0  0.0  0.0   4.0  16.0   5.0   0.0   0.0  0.0  \n",
      "0  0.0  0.0   6.0  16.0  12.0   1.0   0.0  0.0  \n",
      "0  0.0  0.0   0.0   1.0  13.0  16.0   5.0  0.0  \n",
      "0  0.0  0.0   2.0  11.0  13.0   4.0   0.0  0.0  \n",
      "0  0.0  0.0   0.0   0.0  12.0  12.0   0.0  0.0  \n",
      "0  0.0  0.0   0.0   0.0   9.0  13.0   3.0  0.0  \n",
      "\n",
      "[58 rows x 64 columns]\n",
      "    0    1     2     3     4     5     6    7    8     9   ...    54   55  \\\n",
      "0  0.0  0.0   5.0  13.0   9.0   1.0   0.0  0.0  0.0   0.0  ...   0.0  0.0   \n",
      "0  0.0  0.0   0.0  12.0  13.0   5.0   0.0  0.0  0.0   0.0  ...   0.0  0.0   \n",
      "0  0.0  0.0   0.0   4.0  15.0  12.0   0.0  0.0  0.0   0.0  ...   5.0  0.0   \n",
      "0  0.0  0.0   7.0  15.0  13.0   1.0   0.0  0.0  0.0   8.0  ...   9.0  0.0   \n",
      "0  0.0  0.0   0.0   1.0  11.0   0.0   0.0  0.0  0.0   0.0  ...   0.0  0.0   \n",
      "0  0.0  0.0  12.0  10.0   0.0   0.0   0.0  0.0  0.0   0.0  ...   4.0  0.0   \n",
      "0  0.0  0.0   0.0  12.0  13.0   0.0   0.0  0.0  0.0   0.0  ...   8.0  0.0   \n",
      "0  0.0  0.0   7.0   8.0  13.0  16.0  15.0  1.0  0.0   0.0  ...   0.0  0.0   \n",
      "0  0.0  0.0   9.0  14.0   8.0   1.0   0.0  0.0  0.0   0.0  ...   8.0  0.0   \n",
      "0  0.0  0.0  11.0  12.0   0.0   0.0   0.0  0.0  0.0   2.0  ...   4.0  0.0   \n",
      "0  0.0  0.0   1.0   9.0  15.0  11.0   0.0  0.0  0.0   0.0  ...   0.0  0.0   \n",
      "0  0.0  0.0   0.0   0.0  14.0  13.0   1.0  0.0  0.0   0.0  ...   0.0  0.0   \n",
      "0  0.0  0.0   5.0  12.0   1.0   0.0   0.0  0.0  0.0   0.0  ...   8.0  2.0   \n",
      "0  0.0  2.0   9.0  15.0  14.0   9.0   3.0  0.0  0.0   4.0  ...   6.0  0.0   \n",
      "0  0.0  0.0   0.0   8.0  15.0   1.0   0.0  0.0  0.0   0.0  ...   0.0  0.0   \n",
      "0  0.0  5.0  12.0  13.0  16.0  16.0   2.0  0.0  0.0  11.0  ...   0.0  0.0   \n",
      "0  0.0  0.0   0.0   8.0  15.0   1.0   0.0  0.0  0.0   0.0  ...  16.0  2.0   \n",
      "0  0.0  0.0   1.0   8.0  15.0  10.0   0.0  0.0  0.0   3.0  ...   0.0  0.0   \n",
      "0  0.0  0.0  10.0   7.0  13.0   9.0   0.0  0.0  0.0   0.0  ...   0.0  0.0   \n",
      "0  0.0  0.0   6.0  14.0   4.0   0.0   0.0  0.0  0.0   0.0  ...  16.0  2.0   \n",
      "0  0.0  0.0   3.0  13.0  11.0   7.0   0.0  0.0  0.0   0.0  ...   1.0  0.0   \n",
      "0  0.0  0.0   0.0   2.0  16.0  16.0   2.0  0.0  0.0   0.0  ...   2.0  0.0   \n",
      "0  0.0  0.0   8.0  16.0   5.0   0.0   0.0  0.0  0.0   1.0  ...   3.0  0.0   \n",
      "0  0.0  1.0   8.0  12.0  15.0  14.0   4.0  0.0  0.0   3.0  ...   0.0  0.0   \n",
      "0  0.0  0.0   0.0   0.0  12.0   2.0   0.0  0.0  0.0   0.0  ...   0.0  0.0   \n",
      "0  0.0  0.0  12.0   8.0   8.0   7.0   0.0  0.0  0.0   3.0  ...   0.0  0.0   \n",
      "0  0.0  0.0   1.0  13.0  14.0   3.0   0.0  0.0  0.0   0.0  ...  12.0  0.0   \n",
      "0  0.0  0.0   0.0   8.0  14.0  14.0   2.0  0.0  0.0   0.0  ...   0.0  0.0   \n",
      "0  0.0  0.0  10.0  11.0   4.0   0.0   0.0  0.0  0.0   0.0  ...   0.0  0.0   \n",
      "0  0.0  0.0   9.0  13.0   7.0   0.0   0.0  0.0  0.0   0.0  ...  16.0  2.0   \n",
      "0  0.0  0.0  10.0  14.0  11.0   3.0   0.0  0.0  0.0   4.0  ...   0.0  0.0   \n",
      "0  0.0  0.0   2.0  13.0   8.0   0.0   0.0  0.0  0.0   0.0  ...  16.0  2.0   \n",
      "0  0.0  2.0  13.0  16.0  16.0  16.0  11.0  0.0  0.0   5.0  ...   0.0  0.0   \n",
      "0  0.0  6.0  13.0   5.0   8.0   8.0   1.0  0.0  0.0   8.0  ...   0.0  0.0   \n",
      "0  0.0  0.0   0.0   5.0  14.0   2.0   0.0  0.0  0.0   0.0  ...   9.0  0.0   \n",
      "0  0.0  3.0  15.0   8.0   8.0   6.0   0.0  0.0  0.0   4.0  ...   0.0  0.0   \n",
      "0  0.0  0.0   6.0  14.0  10.0   2.0   0.0  0.0  0.0   0.0  ...   0.0  0.0   \n",
      "0  0.0  0.0  13.0  10.0   1.0   0.0   0.0  0.0  0.0   5.0  ...  14.0  0.0   \n",
      "0  0.0  0.0   7.0   7.0  13.0  16.0   4.0  0.0  0.0   0.0  ...   0.0  0.0   \n",
      "0  0.0  1.0   9.0  16.0  13.0   7.0   0.0  0.0  0.0   7.0  ...   5.0  0.0   \n",
      "0  0.0  0.0  11.0  10.0  12.0   4.0   0.0  0.0  0.0   0.0  ...   0.0  0.0   \n",
      "0  0.0  0.0   0.0   9.0  15.0   1.0   0.0  0.0  0.0   0.0  ...   0.0  0.0   \n",
      "0  0.0  0.0   0.0   0.0  12.0   5.0   0.0  0.0  0.0   0.0  ...   0.0  0.0   \n",
      "0  0.0  0.0   0.0   9.0  15.0  12.0   0.0  0.0  0.0   0.0  ...   0.0  0.0   \n",
      "0  0.0  0.0   9.0  16.0  16.0  16.0   5.0  0.0  0.0   1.0  ...   0.0  0.0   \n",
      "0  0.0  0.0   9.0  16.0  13.0   6.0   0.0  0.0  0.0   0.0  ...  12.0  0.0   \n",
      "0  0.0  1.0  15.0   4.0   0.0   0.0   0.0  0.0  0.0   2.0  ...   0.0  0.0   \n",
      "0  0.0  0.0   0.0   1.0  11.0   9.0   0.0  0.0  0.0   0.0  ...   0.0  0.0   \n",
      "0  0.0  0.0   2.0  15.0  13.0   3.0   0.0  0.0  0.0   0.0  ...   5.0  0.0   \n",
      "0  0.0  0.0   1.0  15.0  13.0   1.0   0.0  0.0  0.0   0.0  ...   6.0  0.0   \n",
      "0  0.0  0.0   0.0   5.0  14.0  12.0   2.0  0.0  0.0   0.0  ...   0.0  0.0   \n",
      "0  0.0  0.0   0.0   3.0  15.0  10.0   1.0  0.0  0.0   0.0  ...   3.0  0.0   \n",
      "0  0.0  0.0   3.0  12.0  16.0  16.0   6.0  0.0  0.0   0.0  ...   0.0  0.0   \n",
      "0  0.0  0.0   4.0   8.0  16.0   5.0   0.0  0.0  0.0   0.0  ...   0.0  0.0   \n",
      "0  0.0  0.0   0.0   1.0  14.0  14.0   3.0  0.0  0.0   0.0  ...   2.0  0.0   \n",
      "0  0.0  0.0   2.0  14.0  15.0   5.0   0.0  0.0  0.0   0.0  ...   0.0  0.0   \n",
      "0  0.0  0.0   0.0   0.0  12.0  13.0   1.0  0.0  0.0   0.0  ...   0.0  0.0   \n",
      "0  0.0  0.0   0.0   1.0   9.0  11.0   0.0  0.0  0.0   0.0  ...   4.0  0.0   \n",
      "0  0.0  0.0   0.0  10.0  13.0   1.0   0.0  0.0  0.0   1.0  ...  14.0  0.0   \n",
      "\n",
      "    56   57    58    59    60    61    62   63  \n",
      "0  0.0  0.0   6.0  13.0  10.0   0.0   0.0  0.0  \n",
      "0  0.0  0.0   0.0  11.0  16.0  10.0   0.0  0.0  \n",
      "0  0.0  0.0   0.0   3.0  11.0  16.0   9.0  0.0  \n",
      "0  0.0  0.0   7.0  13.0  13.0   9.0   0.0  0.0  \n",
      "0  0.0  0.0   0.0   2.0  16.0   4.0   0.0  0.0  \n",
      "0  0.0  0.0   9.0  16.0  16.0  10.0   0.0  0.0  \n",
      "0  0.0  0.0   1.0   9.0  15.0  11.0   3.0  0.0  \n",
      "0  0.0  0.0  13.0   5.0   0.0   0.0   0.0  0.0  \n",
      "0  0.0  0.0  11.0  16.0  15.0  11.0   1.0  0.0  \n",
      "0  0.0  0.0   9.0  12.0  13.0   3.0   0.0  0.0  \n",
      "0  0.0  0.0   1.0  10.0  13.0   3.0   0.0  0.0  \n",
      "0  0.0  0.0   0.0   1.0  13.0  16.0   1.0  0.0  \n",
      "0  0.0  0.0   3.0  11.0   8.0  13.0  12.0  4.0  \n",
      "0  0.0  2.0  12.0  12.0  13.0  11.0   0.0  0.0  \n",
      "0  0.0  0.0   0.0  10.0  15.0   4.0   0.0  0.0  \n",
      "0  0.0  4.0  15.0  16.0   2.0   0.0   0.0  0.0  \n",
      "0  0.0  0.0   0.0   7.0  15.0  16.0  11.0  0.0  \n",
      "0  0.0  0.0   0.0  11.0   9.0   0.0   0.0  0.0  \n",
      "0  0.0  0.0  11.0  14.0   5.0   0.0   0.0  0.0  \n",
      "0  0.0  0.0   7.0  16.0  16.0  13.0  11.0  1.0  \n",
      "0  0.0  0.0   2.0  12.0  13.0   4.0   0.0  0.0  \n",
      "0  0.0  0.0   0.0   2.0  12.0  15.0   4.0  0.0  \n",
      "0  0.0  0.0   7.0  12.0  12.0  12.0  13.0  1.0  \n",
      "0  0.0  0.0  14.0  15.0  11.0   2.0   0.0  0.0  \n",
      "0  0.0  0.0   0.0   0.0  12.0   8.0   0.0  0.0  \n",
      "0  0.0  0.0  11.0  14.0   9.0   0.0   0.0  0.0  \n",
      "0  0.0  0.0   3.0  12.0  15.0  14.0   7.0  0.0  \n",
      "0  0.0  0.0   0.0  12.0  13.0   1.0   0.0  0.0  \n",
      "0  0.0  0.0   8.0  14.0   7.0   1.0   0.0  0.0  \n",
      "0  0.0  0.0   7.0  12.0  12.0  12.0  11.0  0.0  \n",
      "0  0.0  0.0  11.0  16.0  12.0   3.0   0.0  0.0  \n",
      "0  0.0  0.0   2.0  15.0  13.0  14.0  13.0  2.0  \n",
      "0  0.0  2.0  16.0  15.0   8.0   0.0   0.0  0.0  \n",
      "0  0.0  4.0  16.0  15.0   3.0   0.0   0.0  0.0  \n",
      "0  0.0  0.0   0.0   5.0  16.0  15.0   3.0  0.0  \n",
      "0  0.0  1.0  15.0  14.0   1.0   0.0   0.0  0.0  \n",
      "0  0.0  0.0   7.0  16.0  11.0   1.0   0.0  0.0  \n",
      "0  0.0  0.0  13.0  13.0  15.0  16.0  13.0  0.0  \n",
      "0  0.0  1.0  11.0  16.0   6.0   0.0   0.0  0.0  \n",
      "0  0.0  0.0   9.0  14.0  13.0  10.0   1.0  0.0  \n",
      "0  0.0  1.0  11.0  14.0  12.0   4.0   0.0  0.0  \n",
      "0  0.0  0.0   0.0   9.0  16.0   2.0   0.0  0.0  \n",
      "0  0.0  0.0   0.0   3.0  16.0   8.0   0.0  0.0  \n",
      "0  0.0  0.0   0.0  11.0   7.0   0.0   0.0  0.0  \n",
      "0  0.0  0.0  13.0  10.0   0.0   0.0   0.0  0.0  \n",
      "0  0.0  0.0  11.0  14.0  12.0   8.0   0.0  0.0  \n",
      "0  0.0  0.0  14.0  14.0   4.0   0.0   0.0  0.0  \n",
      "0  0.0  0.0   0.0   2.0  14.0   6.0   0.0  0.0  \n",
      "0  0.0  0.0   4.0  12.0  15.0   6.0   0.0  0.0  \n",
      "0  0.0  0.0   0.0  13.0  14.0   8.0   0.0  0.0  \n",
      "0  0.0  0.0   0.0   6.0  12.0  13.0   3.0  0.0  \n",
      "0  0.0  0.0   0.0   4.0   9.0  14.0   7.0  0.0  \n",
      "0  0.0  0.0   4.0  16.0   5.0   0.0   0.0  0.0  \n",
      "0  0.0  0.0   6.0  16.0  12.0   1.0   0.0  0.0  \n",
      "0  0.0  0.0   0.0   1.0  13.0  16.0   5.0  0.0  \n",
      "0  0.0  0.0   2.0  11.0  13.0   4.0   0.0  0.0  \n",
      "0  0.0  0.0   0.0   0.0  12.0  12.0   0.0  0.0  \n",
      "0  0.0  0.0   0.0   0.0   9.0  13.0   3.0  0.0  \n",
      "0  0.0  0.0   0.0   7.0  15.0  15.0   5.0  0.0  \n",
      "\n",
      "[59 rows x 64 columns]\n",
      "    0    1     2     3     4     5     6    7    8     9   ...    54   55  \\\n",
      "0  0.0  0.0   5.0  13.0   9.0   1.0   0.0  0.0  0.0   0.0  ...   0.0  0.0   \n",
      "0  0.0  0.0   0.0  12.0  13.0   5.0   0.0  0.0  0.0   0.0  ...   0.0  0.0   \n",
      "0  0.0  0.0   0.0   4.0  15.0  12.0   0.0  0.0  0.0   0.0  ...   5.0  0.0   \n",
      "0  0.0  0.0   7.0  15.0  13.0   1.0   0.0  0.0  0.0   8.0  ...   9.0  0.0   \n",
      "0  0.0  0.0   0.0   1.0  11.0   0.0   0.0  0.0  0.0   0.0  ...   0.0  0.0   \n",
      "0  0.0  0.0  12.0  10.0   0.0   0.0   0.0  0.0  0.0   0.0  ...   4.0  0.0   \n",
      "0  0.0  0.0   0.0  12.0  13.0   0.0   0.0  0.0  0.0   0.0  ...   8.0  0.0   \n",
      "0  0.0  0.0   7.0   8.0  13.0  16.0  15.0  1.0  0.0   0.0  ...   0.0  0.0   \n",
      "0  0.0  0.0   9.0  14.0   8.0   1.0   0.0  0.0  0.0   0.0  ...   8.0  0.0   \n",
      "0  0.0  0.0  11.0  12.0   0.0   0.0   0.0  0.0  0.0   2.0  ...   4.0  0.0   \n",
      "0  0.0  0.0   1.0   9.0  15.0  11.0   0.0  0.0  0.0   0.0  ...   0.0  0.0   \n",
      "0  0.0  0.0   0.0   0.0  14.0  13.0   1.0  0.0  0.0   0.0  ...   0.0  0.0   \n",
      "0  0.0  0.0   5.0  12.0   1.0   0.0   0.0  0.0  0.0   0.0  ...   8.0  2.0   \n",
      "0  0.0  2.0   9.0  15.0  14.0   9.0   3.0  0.0  0.0   4.0  ...   6.0  0.0   \n",
      "0  0.0  0.0   0.0   8.0  15.0   1.0   0.0  0.0  0.0   0.0  ...   0.0  0.0   \n",
      "0  0.0  5.0  12.0  13.0  16.0  16.0   2.0  0.0  0.0  11.0  ...   0.0  0.0   \n",
      "0  0.0  0.0   0.0   8.0  15.0   1.0   0.0  0.0  0.0   0.0  ...  16.0  2.0   \n",
      "0  0.0  0.0   1.0   8.0  15.0  10.0   0.0  0.0  0.0   3.0  ...   0.0  0.0   \n",
      "0  0.0  0.0  10.0   7.0  13.0   9.0   0.0  0.0  0.0   0.0  ...   0.0  0.0   \n",
      "0  0.0  0.0   6.0  14.0   4.0   0.0   0.0  0.0  0.0   0.0  ...  16.0  2.0   \n",
      "0  0.0  0.0   3.0  13.0  11.0   7.0   0.0  0.0  0.0   0.0  ...   1.0  0.0   \n",
      "0  0.0  0.0   0.0   2.0  16.0  16.0   2.0  0.0  0.0   0.0  ...   2.0  0.0   \n",
      "0  0.0  0.0   8.0  16.0   5.0   0.0   0.0  0.0  0.0   1.0  ...   3.0  0.0   \n",
      "0  0.0  1.0   8.0  12.0  15.0  14.0   4.0  0.0  0.0   3.0  ...   0.0  0.0   \n",
      "0  0.0  0.0   0.0   0.0  12.0   2.0   0.0  0.0  0.0   0.0  ...   0.0  0.0   \n",
      "0  0.0  0.0  12.0   8.0   8.0   7.0   0.0  0.0  0.0   3.0  ...   0.0  0.0   \n",
      "0  0.0  0.0   1.0  13.0  14.0   3.0   0.0  0.0  0.0   0.0  ...  12.0  0.0   \n",
      "0  0.0  0.0   0.0   8.0  14.0  14.0   2.0  0.0  0.0   0.0  ...   0.0  0.0   \n",
      "0  0.0  0.0  10.0  11.0   4.0   0.0   0.0  0.0  0.0   0.0  ...   0.0  0.0   \n",
      "0  0.0  0.0   9.0  13.0   7.0   0.0   0.0  0.0  0.0   0.0  ...  16.0  2.0   \n",
      "0  0.0  0.0  10.0  14.0  11.0   3.0   0.0  0.0  0.0   4.0  ...   0.0  0.0   \n",
      "0  0.0  0.0   2.0  13.0   8.0   0.0   0.0  0.0  0.0   0.0  ...  16.0  2.0   \n",
      "0  0.0  2.0  13.0  16.0  16.0  16.0  11.0  0.0  0.0   5.0  ...   0.0  0.0   \n",
      "0  0.0  6.0  13.0   5.0   8.0   8.0   1.0  0.0  0.0   8.0  ...   0.0  0.0   \n",
      "0  0.0  0.0   0.0   5.0  14.0   2.0   0.0  0.0  0.0   0.0  ...   9.0  0.0   \n",
      "0  0.0  3.0  15.0   8.0   8.0   6.0   0.0  0.0  0.0   4.0  ...   0.0  0.0   \n",
      "0  0.0  0.0   6.0  14.0  10.0   2.0   0.0  0.0  0.0   0.0  ...   0.0  0.0   \n",
      "0  0.0  0.0  13.0  10.0   1.0   0.0   0.0  0.0  0.0   5.0  ...  14.0  0.0   \n",
      "0  0.0  0.0   7.0   7.0  13.0  16.0   4.0  0.0  0.0   0.0  ...   0.0  0.0   \n",
      "0  0.0  1.0   9.0  16.0  13.0   7.0   0.0  0.0  0.0   7.0  ...   5.0  0.0   \n",
      "0  0.0  0.0  11.0  10.0  12.0   4.0   0.0  0.0  0.0   0.0  ...   0.0  0.0   \n",
      "0  0.0  0.0   0.0   9.0  15.0   1.0   0.0  0.0  0.0   0.0  ...   0.0  0.0   \n",
      "0  0.0  0.0   0.0   0.0  12.0   5.0   0.0  0.0  0.0   0.0  ...   0.0  0.0   \n",
      "0  0.0  0.0   0.0   9.0  15.0  12.0   0.0  0.0  0.0   0.0  ...   0.0  0.0   \n",
      "0  0.0  0.0   9.0  16.0  16.0  16.0   5.0  0.0  0.0   1.0  ...   0.0  0.0   \n",
      "0  0.0  0.0   9.0  16.0  13.0   6.0   0.0  0.0  0.0   0.0  ...  12.0  0.0   \n",
      "0  0.0  1.0  15.0   4.0   0.0   0.0   0.0  0.0  0.0   2.0  ...   0.0  0.0   \n",
      "0  0.0  0.0   0.0   1.0  11.0   9.0   0.0  0.0  0.0   0.0  ...   0.0  0.0   \n",
      "0  0.0  0.0   2.0  15.0  13.0   3.0   0.0  0.0  0.0   0.0  ...   5.0  0.0   \n",
      "0  0.0  0.0   1.0  15.0  13.0   1.0   0.0  0.0  0.0   0.0  ...   6.0  0.0   \n",
      "0  0.0  0.0   0.0   5.0  14.0  12.0   2.0  0.0  0.0   0.0  ...   0.0  0.0   \n",
      "0  0.0  0.0   0.0   3.0  15.0  10.0   1.0  0.0  0.0   0.0  ...   3.0  0.0   \n",
      "0  0.0  0.0   3.0  12.0  16.0  16.0   6.0  0.0  0.0   0.0  ...   0.0  0.0   \n",
      "0  0.0  0.0   4.0   8.0  16.0   5.0   0.0  0.0  0.0   0.0  ...   0.0  0.0   \n",
      "0  0.0  0.0   0.0   1.0  14.0  14.0   3.0  0.0  0.0   0.0  ...   2.0  0.0   \n",
      "0  0.0  0.0   2.0  14.0  15.0   5.0   0.0  0.0  0.0   0.0  ...   0.0  0.0   \n",
      "0  0.0  0.0   0.0   0.0  12.0  13.0   1.0  0.0  0.0   0.0  ...   0.0  0.0   \n",
      "0  0.0  0.0   0.0   1.0   9.0  11.0   0.0  0.0  0.0   0.0  ...   4.0  0.0   \n",
      "0  0.0  0.0   0.0  10.0  13.0   1.0   0.0  0.0  0.0   1.0  ...  14.0  0.0   \n",
      "0  0.0  1.0  10.0  15.0  11.0   1.0   0.0  0.0  0.0   3.0  ...   1.0  0.0   \n",
      "\n",
      "    56   57    58    59    60    61    62   63  \n",
      "0  0.0  0.0   6.0  13.0  10.0   0.0   0.0  0.0  \n",
      "0  0.0  0.0   0.0  11.0  16.0  10.0   0.0  0.0  \n",
      "0  0.0  0.0   0.0   3.0  11.0  16.0   9.0  0.0  \n",
      "0  0.0  0.0   7.0  13.0  13.0   9.0   0.0  0.0  \n",
      "0  0.0  0.0   0.0   2.0  16.0   4.0   0.0  0.0  \n",
      "0  0.0  0.0   9.0  16.0  16.0  10.0   0.0  0.0  \n",
      "0  0.0  0.0   1.0   9.0  15.0  11.0   3.0  0.0  \n",
      "0  0.0  0.0  13.0   5.0   0.0   0.0   0.0  0.0  \n",
      "0  0.0  0.0  11.0  16.0  15.0  11.0   1.0  0.0  \n",
      "0  0.0  0.0   9.0  12.0  13.0   3.0   0.0  0.0  \n",
      "0  0.0  0.0   1.0  10.0  13.0   3.0   0.0  0.0  \n",
      "0  0.0  0.0   0.0   1.0  13.0  16.0   1.0  0.0  \n",
      "0  0.0  0.0   3.0  11.0   8.0  13.0  12.0  4.0  \n",
      "0  0.0  2.0  12.0  12.0  13.0  11.0   0.0  0.0  \n",
      "0  0.0  0.0   0.0  10.0  15.0   4.0   0.0  0.0  \n",
      "0  0.0  4.0  15.0  16.0   2.0   0.0   0.0  0.0  \n",
      "0  0.0  0.0   0.0   7.0  15.0  16.0  11.0  0.0  \n",
      "0  0.0  0.0   0.0  11.0   9.0   0.0   0.0  0.0  \n",
      "0  0.0  0.0  11.0  14.0   5.0   0.0   0.0  0.0  \n",
      "0  0.0  0.0   7.0  16.0  16.0  13.0  11.0  1.0  \n",
      "0  0.0  0.0   2.0  12.0  13.0   4.0   0.0  0.0  \n",
      "0  0.0  0.0   0.0   2.0  12.0  15.0   4.0  0.0  \n",
      "0  0.0  0.0   7.0  12.0  12.0  12.0  13.0  1.0  \n",
      "0  0.0  0.0  14.0  15.0  11.0   2.0   0.0  0.0  \n",
      "0  0.0  0.0   0.0   0.0  12.0   8.0   0.0  0.0  \n",
      "0  0.0  0.0  11.0  14.0   9.0   0.0   0.0  0.0  \n",
      "0  0.0  0.0   3.0  12.0  15.0  14.0   7.0  0.0  \n",
      "0  0.0  0.0   0.0  12.0  13.0   1.0   0.0  0.0  \n",
      "0  0.0  0.0   8.0  14.0   7.0   1.0   0.0  0.0  \n",
      "0  0.0  0.0   7.0  12.0  12.0  12.0  11.0  0.0  \n",
      "0  0.0  0.0  11.0  16.0  12.0   3.0   0.0  0.0  \n",
      "0  0.0  0.0   2.0  15.0  13.0  14.0  13.0  2.0  \n",
      "0  0.0  2.0  16.0  15.0   8.0   0.0   0.0  0.0  \n",
      "0  0.0  4.0  16.0  15.0   3.0   0.0   0.0  0.0  \n",
      "0  0.0  0.0   0.0   5.0  16.0  15.0   3.0  0.0  \n",
      "0  0.0  1.0  15.0  14.0   1.0   0.0   0.0  0.0  \n",
      "0  0.0  0.0   7.0  16.0  11.0   1.0   0.0  0.0  \n",
      "0  0.0  0.0  13.0  13.0  15.0  16.0  13.0  0.0  \n",
      "0  0.0  1.0  11.0  16.0   6.0   0.0   0.0  0.0  \n",
      "0  0.0  0.0   9.0  14.0  13.0  10.0   1.0  0.0  \n",
      "0  0.0  1.0  11.0  14.0  12.0   4.0   0.0  0.0  \n",
      "0  0.0  0.0   0.0   9.0  16.0   2.0   0.0  0.0  \n",
      "0  0.0  0.0   0.0   3.0  16.0   8.0   0.0  0.0  \n",
      "0  0.0  0.0   0.0  11.0   7.0   0.0   0.0  0.0  \n",
      "0  0.0  0.0  13.0  10.0   0.0   0.0   0.0  0.0  \n",
      "0  0.0  0.0  11.0  14.0  12.0   8.0   0.0  0.0  \n",
      "0  0.0  0.0  14.0  14.0   4.0   0.0   0.0  0.0  \n",
      "0  0.0  0.0   0.0   2.0  14.0   6.0   0.0  0.0  \n",
      "0  0.0  0.0   4.0  12.0  15.0   6.0   0.0  0.0  \n",
      "0  0.0  0.0   0.0  13.0  14.0   8.0   0.0  0.0  \n",
      "0  0.0  0.0   0.0   6.0  12.0  13.0   3.0  0.0  \n",
      "0  0.0  0.0   0.0   4.0   9.0  14.0   7.0  0.0  \n",
      "0  0.0  0.0   4.0  16.0   5.0   0.0   0.0  0.0  \n",
      "0  0.0  0.0   6.0  16.0  12.0   1.0   0.0  0.0  \n",
      "0  0.0  0.0   0.0   1.0  13.0  16.0   5.0  0.0  \n",
      "0  0.0  0.0   2.0  11.0  13.0   4.0   0.0  0.0  \n",
      "0  0.0  0.0   0.0   0.0  12.0  12.0   0.0  0.0  \n",
      "0  0.0  0.0   0.0   0.0   9.0  13.0   3.0  0.0  \n",
      "0  0.0  0.0   0.0   7.0  15.0  15.0   5.0  0.0  \n",
      "0  0.0  0.0  13.0  16.0  15.0  10.0   0.0  0.0  \n",
      "\n",
      "[60 rows x 64 columns]\n",
      "     0    1     2     3     4     5    6    7    8    9   ...    54   55   56  \\\n",
      "0   0.0  0.0   5.0  13.0   9.0   1.0  0.0  0.0  0.0  0.0  ...   0.0  0.0  0.0   \n",
      "0   0.0  0.0   0.0  12.0  13.0   5.0  0.0  0.0  0.0  0.0  ...   0.0  0.0  0.0   \n",
      "0   0.0  0.0   0.0   4.0  15.0  12.0  0.0  0.0  0.0  0.0  ...   5.0  0.0  0.0   \n",
      "0   0.0  0.0   7.0  15.0  13.0   1.0  0.0  0.0  0.0  8.0  ...   9.0  0.0  0.0   \n",
      "0   0.0  0.0   0.0   1.0  11.0   0.0  0.0  0.0  0.0  0.0  ...   0.0  0.0  0.0   \n",
      "..  ...  ...   ...   ...   ...   ...  ...  ...  ...  ...  ...   ...  ...  ...   \n",
      "0   0.0  0.0   0.0   0.0  12.0  13.0  1.0  0.0  0.0  0.0  ...   0.0  0.0  0.0   \n",
      "0   0.0  0.0   0.0   1.0   9.0  11.0  0.0  0.0  0.0  0.0  ...   4.0  0.0  0.0   \n",
      "0   0.0  0.0   0.0  10.0  13.0   1.0  0.0  0.0  0.0  1.0  ...  14.0  0.0  0.0   \n",
      "0   0.0  1.0  10.0  15.0  11.0   1.0  0.0  0.0  0.0  3.0  ...   1.0  0.0  0.0   \n",
      "0   0.0  0.0  10.0  15.0  14.0   4.0  0.0  0.0  0.0  0.0  ...   7.0  0.0  0.0   \n",
      "\n",
      "     57    58    59    60    61   62   63  \n",
      "0   0.0   6.0  13.0  10.0   0.0  0.0  0.0  \n",
      "0   0.0   0.0  11.0  16.0  10.0  0.0  0.0  \n",
      "0   0.0   0.0   3.0  11.0  16.0  9.0  0.0  \n",
      "0   0.0   7.0  13.0  13.0   9.0  0.0  0.0  \n",
      "0   0.0   0.0   2.0  16.0   4.0  0.0  0.0  \n",
      "..  ...   ...   ...   ...   ...  ...  ...  \n",
      "0   0.0   0.0   0.0  12.0  12.0  0.0  0.0  \n",
      "0   0.0   0.0   0.0   9.0  13.0  3.0  0.0  \n",
      "0   0.0   0.0   7.0  15.0  15.0  5.0  0.0  \n",
      "0   0.0  13.0  16.0  15.0  10.0  0.0  0.0  \n",
      "0   0.0  14.0  12.0  15.0  11.0  2.0  0.0  \n",
      "\n",
      "[61 rows x 64 columns]\n",
      "     0    1     2     3     4     5    6    7    8    9   ...    54   55   56  \\\n",
      "0   0.0  0.0   5.0  13.0   9.0   1.0  0.0  0.0  0.0  0.0  ...   0.0  0.0  0.0   \n",
      "0   0.0  0.0   0.0  12.0  13.0   5.0  0.0  0.0  0.0  0.0  ...   0.0  0.0  0.0   \n",
      "0   0.0  0.0   0.0   4.0  15.0  12.0  0.0  0.0  0.0  0.0  ...   5.0  0.0  0.0   \n",
      "0   0.0  0.0   7.0  15.0  13.0   1.0  0.0  0.0  0.0  8.0  ...   9.0  0.0  0.0   \n",
      "0   0.0  0.0   0.0   1.0  11.0   0.0  0.0  0.0  0.0  0.0  ...   0.0  0.0  0.0   \n",
      "..  ...  ...   ...   ...   ...   ...  ...  ...  ...  ...  ...   ...  ...  ...   \n",
      "0   0.0  0.0   0.0   1.0   9.0  11.0  0.0  0.0  0.0  0.0  ...   4.0  0.0  0.0   \n",
      "0   0.0  0.0   0.0  10.0  13.0   1.0  0.0  0.0  0.0  1.0  ...  14.0  0.0  0.0   \n",
      "0   0.0  1.0  10.0  15.0  11.0   1.0  0.0  0.0  0.0  3.0  ...   1.0  0.0  0.0   \n",
      "0   0.0  0.0  10.0  15.0  14.0   4.0  0.0  0.0  0.0  0.0  ...   7.0  0.0  0.0   \n",
      "0   0.0  0.0   6.0  13.0  16.0   6.0  0.0  0.0  0.0  3.0  ...   0.0  0.0  0.0   \n",
      "\n",
      "     57    58    59    60    61   62   63  \n",
      "0   0.0   6.0  13.0  10.0   0.0  0.0  0.0  \n",
      "0   0.0   0.0  11.0  16.0  10.0  0.0  0.0  \n",
      "0   0.0   0.0   3.0  11.0  16.0  9.0  0.0  \n",
      "0   0.0   7.0  13.0  13.0   9.0  0.0  0.0  \n",
      "0   0.0   0.0   2.0  16.0   4.0  0.0  0.0  \n",
      "..  ...   ...   ...   ...   ...  ...  ...  \n",
      "0   0.0   0.0   0.0   9.0  13.0  3.0  0.0  \n",
      "0   0.0   0.0   7.0  15.0  15.0  5.0  0.0  \n",
      "0   0.0  13.0  16.0  15.0  10.0  0.0  0.0  \n",
      "0   0.0  14.0  12.0  15.0  11.0  2.0  0.0  \n",
      "0   0.0   4.0  16.0   7.0   0.0  0.0  0.0  \n",
      "\n",
      "[62 rows x 64 columns]\n",
      "     0    1     2     3     4     5    6    7    8    9   ...    54   55   56  \\\n",
      "0   0.0  0.0   5.0  13.0   9.0   1.0  0.0  0.0  0.0  0.0  ...   0.0  0.0  0.0   \n",
      "0   0.0  0.0   0.0  12.0  13.0   5.0  0.0  0.0  0.0  0.0  ...   0.0  0.0  0.0   \n",
      "0   0.0  0.0   0.0   4.0  15.0  12.0  0.0  0.0  0.0  0.0  ...   5.0  0.0  0.0   \n",
      "0   0.0  0.0   7.0  15.0  13.0   1.0  0.0  0.0  0.0  8.0  ...   9.0  0.0  0.0   \n",
      "0   0.0  0.0   0.0   1.0  11.0   0.0  0.0  0.0  0.0  0.0  ...   0.0  0.0  0.0   \n",
      "..  ...  ...   ...   ...   ...   ...  ...  ...  ...  ...  ...   ...  ...  ...   \n",
      "0   0.0  0.0   0.0  10.0  13.0   1.0  0.0  0.0  0.0  1.0  ...  14.0  0.0  0.0   \n",
      "0   0.0  1.0  10.0  15.0  11.0   1.0  0.0  0.0  0.0  3.0  ...   1.0  0.0  0.0   \n",
      "0   0.0  0.0  10.0  15.0  14.0   4.0  0.0  0.0  0.0  0.0  ...   7.0  0.0  0.0   \n",
      "0   0.0  0.0   6.0  13.0  16.0   6.0  0.0  0.0  0.0  3.0  ...   0.0  0.0  0.0   \n",
      "0   0.0  0.0  14.0  16.0  14.0   6.0  0.0  0.0  0.0  0.0  ...   7.0  0.0  0.0   \n",
      "\n",
      "     57    58    59    60    61   62   63  \n",
      "0   0.0   6.0  13.0  10.0   0.0  0.0  0.0  \n",
      "0   0.0   0.0  11.0  16.0  10.0  0.0  0.0  \n",
      "0   0.0   0.0   3.0  11.0  16.0  9.0  0.0  \n",
      "0   0.0   7.0  13.0  13.0   9.0  0.0  0.0  \n",
      "0   0.0   0.0   2.0  16.0   4.0  0.0  0.0  \n",
      "..  ...   ...   ...   ...   ...  ...  ...  \n",
      "0   0.0   0.0   7.0  15.0  15.0  5.0  0.0  \n",
      "0   0.0  13.0  16.0  15.0  10.0  0.0  0.0  \n",
      "0   0.0  14.0  12.0  15.0  11.0  2.0  0.0  \n",
      "0   0.0   4.0  16.0   7.0   0.0  0.0  0.0  \n",
      "0   0.0  13.0  16.0  16.0  10.0  1.0  0.0  \n",
      "\n",
      "[63 rows x 64 columns]\n",
      "     0    1     2     3     4     5    6    7    8    9   ...   54   55   56  \\\n",
      "0   0.0  0.0   5.0  13.0   9.0   1.0  0.0  0.0  0.0  0.0  ...  0.0  0.0  0.0   \n",
      "0   0.0  0.0   0.0  12.0  13.0   5.0  0.0  0.0  0.0  0.0  ...  0.0  0.0  0.0   \n",
      "0   0.0  0.0   0.0   4.0  15.0  12.0  0.0  0.0  0.0  0.0  ...  5.0  0.0  0.0   \n",
      "0   0.0  0.0   7.0  15.0  13.0   1.0  0.0  0.0  0.0  8.0  ...  9.0  0.0  0.0   \n",
      "0   0.0  0.0   0.0   1.0  11.0   0.0  0.0  0.0  0.0  0.0  ...  0.0  0.0  0.0   \n",
      "..  ...  ...   ...   ...   ...   ...  ...  ...  ...  ...  ...  ...  ...  ...   \n",
      "0   0.0  1.0  10.0  15.0  11.0   1.0  0.0  0.0  0.0  3.0  ...  1.0  0.0  0.0   \n",
      "0   0.0  0.0  10.0  15.0  14.0   4.0  0.0  0.0  0.0  0.0  ...  7.0  0.0  0.0   \n",
      "0   0.0  0.0   6.0  13.0  16.0   6.0  0.0  0.0  0.0  3.0  ...  0.0  0.0  0.0   \n",
      "0   0.0  0.0  14.0  16.0  14.0   6.0  0.0  0.0  0.0  0.0  ...  7.0  0.0  0.0   \n",
      "0   0.0  3.0  16.0  16.0  14.0   7.0  1.0  0.0  0.0  1.0  ...  3.0  0.0  0.0   \n",
      "\n",
      "     57    58    59    60    61   62   63  \n",
      "0   0.0   6.0  13.0  10.0   0.0  0.0  0.0  \n",
      "0   0.0   0.0  11.0  16.0  10.0  0.0  0.0  \n",
      "0   0.0   0.0   3.0  11.0  16.0  9.0  0.0  \n",
      "0   0.0   7.0  13.0  13.0   9.0  0.0  0.0  \n",
      "0   0.0   0.0   2.0  16.0   4.0  0.0  0.0  \n",
      "..  ...   ...   ...   ...   ...  ...  ...  \n",
      "0   0.0  13.0  16.0  15.0  10.0  0.0  0.0  \n",
      "0   0.0  14.0  12.0  15.0  11.0  2.0  0.0  \n",
      "0   0.0   4.0  16.0   7.0   0.0  0.0  0.0  \n",
      "0   0.0  13.0  16.0  16.0  10.0  1.0  0.0  \n",
      "0   2.0  13.0  16.0  12.0   5.0  0.0  0.0  \n",
      "\n",
      "[64 rows x 64 columns]\n",
      "     0    1     2     3     4     5    6    7    8    9   ...   54   55   56  \\\n",
      "0   0.0  0.0   5.0  13.0   9.0   1.0  0.0  0.0  0.0  0.0  ...  0.0  0.0  0.0   \n",
      "0   0.0  0.0   0.0  12.0  13.0   5.0  0.0  0.0  0.0  0.0  ...  0.0  0.0  0.0   \n",
      "0   0.0  0.0   0.0   4.0  15.0  12.0  0.0  0.0  0.0  0.0  ...  5.0  0.0  0.0   \n",
      "0   0.0  0.0   7.0  15.0  13.0   1.0  0.0  0.0  0.0  8.0  ...  9.0  0.0  0.0   \n",
      "0   0.0  0.0   0.0   1.0  11.0   0.0  0.0  0.0  0.0  0.0  ...  0.0  0.0  0.0   \n",
      "..  ...  ...   ...   ...   ...   ...  ...  ...  ...  ...  ...  ...  ...  ...   \n",
      "0   0.0  0.0  10.0  15.0  14.0   4.0  0.0  0.0  0.0  0.0  ...  7.0  0.0  0.0   \n",
      "0   0.0  0.0   6.0  13.0  16.0   6.0  0.0  0.0  0.0  3.0  ...  0.0  0.0  0.0   \n",
      "0   0.0  0.0  14.0  16.0  14.0   6.0  0.0  0.0  0.0  0.0  ...  7.0  0.0  0.0   \n",
      "0   0.0  3.0  16.0  16.0  14.0   7.0  1.0  0.0  0.0  1.0  ...  3.0  0.0  0.0   \n",
      "0   0.0  0.0   0.0   6.0  16.0   4.0  0.0  0.0  0.0  0.0  ...  0.0  0.0  0.0   \n",
      "\n",
      "     57    58    59    60    61   62   63  \n",
      "0   0.0   6.0  13.0  10.0   0.0  0.0  0.0  \n",
      "0   0.0   0.0  11.0  16.0  10.0  0.0  0.0  \n",
      "0   0.0   0.0   3.0  11.0  16.0  9.0  0.0  \n",
      "0   0.0   7.0  13.0  13.0   9.0  0.0  0.0  \n",
      "0   0.0   0.0   2.0  16.0   4.0  0.0  0.0  \n",
      "..  ...   ...   ...   ...   ...  ...  ...  \n",
      "0   0.0  14.0  12.0  15.0  11.0  2.0  0.0  \n",
      "0   0.0   4.0  16.0   7.0   0.0  0.0  0.0  \n",
      "0   0.0  13.0  16.0  16.0  10.0  1.0  0.0  \n",
      "0   2.0  13.0  16.0  12.0   5.0  0.0  0.0  \n",
      "0   0.0   0.0   7.0  16.0   3.0  0.0  0.0  \n",
      "\n",
      "[65 rows x 64 columns]\n",
      "     0    1     2     3     4     5    6    7    8    9   ...    54   55   56  \\\n",
      "0   0.0  0.0   5.0  13.0   9.0   1.0  0.0  0.0  0.0  0.0  ...   0.0  0.0  0.0   \n",
      "0   0.0  0.0   0.0  12.0  13.0   5.0  0.0  0.0  0.0  0.0  ...   0.0  0.0  0.0   \n",
      "0   0.0  0.0   0.0   4.0  15.0  12.0  0.0  0.0  0.0  0.0  ...   5.0  0.0  0.0   \n",
      "0   0.0  0.0   7.0  15.0  13.0   1.0  0.0  0.0  0.0  8.0  ...   9.0  0.0  0.0   \n",
      "0   0.0  0.0   0.0   1.0  11.0   0.0  0.0  0.0  0.0  0.0  ...   0.0  0.0  0.0   \n",
      "..  ...  ...   ...   ...   ...   ...  ...  ...  ...  ...  ...   ...  ...  ...   \n",
      "0   0.0  0.0   6.0  13.0  16.0   6.0  0.0  0.0  0.0  3.0  ...   0.0  0.0  0.0   \n",
      "0   0.0  0.0  14.0  16.0  14.0   6.0  0.0  0.0  0.0  0.0  ...   7.0  0.0  0.0   \n",
      "0   0.0  3.0  16.0  16.0  14.0   7.0  1.0  0.0  0.0  1.0  ...   3.0  0.0  0.0   \n",
      "0   0.0  0.0   0.0   6.0  16.0   4.0  0.0  0.0  0.0  0.0  ...   0.0  0.0  0.0   \n",
      "0   0.0  0.0   0.0   9.0  10.0   0.0  0.0  0.0  0.0  0.0  ...  14.0  0.0  0.0   \n",
      "\n",
      "     57    58    59    60    61   62   63  \n",
      "0   0.0   6.0  13.0  10.0   0.0  0.0  0.0  \n",
      "0   0.0   0.0  11.0  16.0  10.0  0.0  0.0  \n",
      "0   0.0   0.0   3.0  11.0  16.0  9.0  0.0  \n",
      "0   0.0   7.0  13.0  13.0   9.0  0.0  0.0  \n",
      "0   0.0   0.0   2.0  16.0   4.0  0.0  0.0  \n",
      "..  ...   ...   ...   ...   ...  ...  ...  \n",
      "0   0.0   4.0  16.0   7.0   0.0  0.0  0.0  \n",
      "0   0.0  13.0  16.0  16.0  10.0  1.0  0.0  \n",
      "0   2.0  13.0  16.0  12.0   5.0  0.0  0.0  \n",
      "0   0.0   0.0   7.0  16.0   3.0  0.0  0.0  \n",
      "0   0.0   0.0   6.0  12.0  14.0  9.0  0.0  \n",
      "\n",
      "[66 rows x 64 columns]\n",
      "     0    1     2     3     4     5    6    7    8    9   ...    54   55   56  \\\n",
      "0   0.0  0.0   5.0  13.0   9.0   1.0  0.0  0.0  0.0  0.0  ...   0.0  0.0  0.0   \n",
      "0   0.0  0.0   0.0  12.0  13.0   5.0  0.0  0.0  0.0  0.0  ...   0.0  0.0  0.0   \n",
      "0   0.0  0.0   0.0   4.0  15.0  12.0  0.0  0.0  0.0  0.0  ...   5.0  0.0  0.0   \n",
      "0   0.0  0.0   7.0  15.0  13.0   1.0  0.0  0.0  0.0  8.0  ...   9.0  0.0  0.0   \n",
      "0   0.0  0.0   0.0   1.0  11.0   0.0  0.0  0.0  0.0  0.0  ...   0.0  0.0  0.0   \n",
      "..  ...  ...   ...   ...   ...   ...  ...  ...  ...  ...  ...   ...  ...  ...   \n",
      "0   0.0  0.0  14.0  16.0  14.0   6.0  0.0  0.0  0.0  0.0  ...   7.0  0.0  0.0   \n",
      "0   0.0  3.0  16.0  16.0  14.0   7.0  1.0  0.0  0.0  1.0  ...   3.0  0.0  0.0   \n",
      "0   0.0  0.0   0.0   6.0  16.0   4.0  0.0  0.0  0.0  0.0  ...   0.0  0.0  0.0   \n",
      "0   0.0  0.0   0.0   9.0  10.0   0.0  0.0  0.0  0.0  0.0  ...  14.0  0.0  0.0   \n",
      "0   0.0  0.0   0.0  10.0  11.0   0.0  0.0  0.0  0.0  0.0  ...  16.0  4.0  0.0   \n",
      "\n",
      "     57    58    59    60    61   62   63  \n",
      "0   0.0   6.0  13.0  10.0   0.0  0.0  0.0  \n",
      "0   0.0   0.0  11.0  16.0  10.0  0.0  0.0  \n",
      "0   0.0   0.0   3.0  11.0  16.0  9.0  0.0  \n",
      "0   0.0   7.0  13.0  13.0   9.0  0.0  0.0  \n",
      "0   0.0   0.0   2.0  16.0   4.0  0.0  0.0  \n",
      "..  ...   ...   ...   ...   ...  ...  ...  \n",
      "0   0.0  13.0  16.0  16.0  10.0  1.0  0.0  \n",
      "0   2.0  13.0  16.0  12.0   5.0  0.0  0.0  \n",
      "0   0.0   0.0   7.0  16.0   3.0  0.0  0.0  \n",
      "0   0.0   0.0   6.0  12.0  14.0  9.0  0.0  \n",
      "0   0.0   0.0   9.0  15.0  12.0  5.0  0.0  \n",
      "\n",
      "[67 rows x 64 columns]\n",
      "     0    1     2     3     4     5    6    7    8    9   ...    54   55   56  \\\n",
      "0   0.0  0.0   5.0  13.0   9.0   1.0  0.0  0.0  0.0  0.0  ...   0.0  0.0  0.0   \n",
      "0   0.0  0.0   0.0  12.0  13.0   5.0  0.0  0.0  0.0  0.0  ...   0.0  0.0  0.0   \n",
      "0   0.0  0.0   0.0   4.0  15.0  12.0  0.0  0.0  0.0  0.0  ...   5.0  0.0  0.0   \n",
      "0   0.0  0.0   7.0  15.0  13.0   1.0  0.0  0.0  0.0  8.0  ...   9.0  0.0  0.0   \n",
      "0   0.0  0.0   0.0   1.0  11.0   0.0  0.0  0.0  0.0  0.0  ...   0.0  0.0  0.0   \n",
      "..  ...  ...   ...   ...   ...   ...  ...  ...  ...  ...  ...   ...  ...  ...   \n",
      "0   0.0  3.0  16.0  16.0  14.0   7.0  1.0  0.0  0.0  1.0  ...   3.0  0.0  0.0   \n",
      "0   0.0  0.0   0.0   6.0  16.0   4.0  0.0  0.0  0.0  0.0  ...   0.0  0.0  0.0   \n",
      "0   0.0  0.0   0.0   9.0  10.0   0.0  0.0  0.0  0.0  0.0  ...  14.0  0.0  0.0   \n",
      "0   0.0  0.0   0.0  10.0  11.0   0.0  0.0  0.0  0.0  0.0  ...  16.0  4.0  0.0   \n",
      "0   0.0  0.0   5.0  14.0   0.0   0.0  0.0  0.0  0.0  0.0  ...  16.0  0.0  0.0   \n",
      "\n",
      "     57    58    59    60    61   62   63  \n",
      "0   0.0   6.0  13.0  10.0   0.0  0.0  0.0  \n",
      "0   0.0   0.0  11.0  16.0  10.0  0.0  0.0  \n",
      "0   0.0   0.0   3.0  11.0  16.0  9.0  0.0  \n",
      "0   0.0   7.0  13.0  13.0   9.0  0.0  0.0  \n",
      "0   0.0   0.0   2.0  16.0   4.0  0.0  0.0  \n",
      "..  ...   ...   ...   ...   ...  ...  ...  \n",
      "0   2.0  13.0  16.0  12.0   5.0  0.0  0.0  \n",
      "0   0.0   0.0   7.0  16.0   3.0  0.0  0.0  \n",
      "0   0.0   0.0   6.0  12.0  14.0  9.0  0.0  \n",
      "0   0.0   0.0   9.0  15.0  12.0  5.0  0.0  \n",
      "0   0.0   4.0  14.0  16.0  12.0  7.0  0.0  \n",
      "\n",
      "[68 rows x 64 columns]\n",
      "     0    1    2     3     4     5    6    7    8    9   ...    54   55   56  \\\n",
      "0   0.0  0.0  5.0  13.0   9.0   1.0  0.0  0.0  0.0  0.0  ...   0.0  0.0  0.0   \n",
      "0   0.0  0.0  0.0  12.0  13.0   5.0  0.0  0.0  0.0  0.0  ...   0.0  0.0  0.0   \n",
      "0   0.0  0.0  0.0   4.0  15.0  12.0  0.0  0.0  0.0  0.0  ...   5.0  0.0  0.0   \n",
      "0   0.0  0.0  7.0  15.0  13.0   1.0  0.0  0.0  0.0  8.0  ...   9.0  0.0  0.0   \n",
      "0   0.0  0.0  0.0   1.0  11.0   0.0  0.0  0.0  0.0  0.0  ...   0.0  0.0  0.0   \n",
      "..  ...  ...  ...   ...   ...   ...  ...  ...  ...  ...  ...   ...  ...  ...   \n",
      "0   0.0  0.0  0.0   6.0  16.0   4.0  0.0  0.0  0.0  0.0  ...   0.0  0.0  0.0   \n",
      "0   0.0  0.0  0.0   9.0  10.0   0.0  0.0  0.0  0.0  0.0  ...  14.0  0.0  0.0   \n",
      "0   0.0  0.0  0.0  10.0  11.0   0.0  0.0  0.0  0.0  0.0  ...  16.0  4.0  0.0   \n",
      "0   0.0  0.0  5.0  14.0   0.0   0.0  0.0  0.0  0.0  0.0  ...  16.0  0.0  0.0   \n",
      "0   0.0  0.0  0.0   9.0   9.0   0.0  0.0  0.0  0.0  0.0  ...   0.0  0.0  0.0   \n",
      "\n",
      "     57   58    59    60    61   62   63  \n",
      "0   0.0  6.0  13.0  10.0   0.0  0.0  0.0  \n",
      "0   0.0  0.0  11.0  16.0  10.0  0.0  0.0  \n",
      "0   0.0  0.0   3.0  11.0  16.0  9.0  0.0  \n",
      "0   0.0  7.0  13.0  13.0   9.0  0.0  0.0  \n",
      "0   0.0  0.0   2.0  16.0   4.0  0.0  0.0  \n",
      "..  ...  ...   ...   ...   ...  ...  ...  \n",
      "0   0.0  0.0   7.0  16.0   3.0  0.0  0.0  \n",
      "0   0.0  0.0   6.0  12.0  14.0  9.0  0.0  \n",
      "0   0.0  0.0   9.0  15.0  12.0  5.0  0.0  \n",
      "0   0.0  4.0  14.0  16.0  12.0  7.0  0.0  \n",
      "0   0.0  0.0   4.0  16.0   5.0  0.0  0.0  \n",
      "\n",
      "[69 rows x 64 columns]\n",
      "     0    1    2     3     4     5    6    7    8    9   ...    54   55   56  \\\n",
      "0   0.0  0.0  5.0  13.0   9.0   1.0  0.0  0.0  0.0  0.0  ...   0.0  0.0  0.0   \n",
      "0   0.0  0.0  0.0  12.0  13.0   5.0  0.0  0.0  0.0  0.0  ...   0.0  0.0  0.0   \n",
      "0   0.0  0.0  0.0   4.0  15.0  12.0  0.0  0.0  0.0  0.0  ...   5.0  0.0  0.0   \n",
      "0   0.0  0.0  7.0  15.0  13.0   1.0  0.0  0.0  0.0  8.0  ...   9.0  0.0  0.0   \n",
      "0   0.0  0.0  0.0   1.0  11.0   0.0  0.0  0.0  0.0  0.0  ...   0.0  0.0  0.0   \n",
      "..  ...  ...  ...   ...   ...   ...  ...  ...  ...  ...  ...   ...  ...  ...   \n",
      "0   0.0  0.0  0.0   9.0  10.0   0.0  0.0  0.0  0.0  0.0  ...  14.0  0.0  0.0   \n",
      "0   0.0  0.0  0.0  10.0  11.0   0.0  0.0  0.0  0.0  0.0  ...  16.0  4.0  0.0   \n",
      "0   0.0  0.0  5.0  14.0   0.0   0.0  0.0  0.0  0.0  0.0  ...  16.0  0.0  0.0   \n",
      "0   0.0  0.0  0.0   9.0   9.0   0.0  0.0  0.0  0.0  0.0  ...   0.0  0.0  0.0   \n",
      "0   0.0  0.0  6.0  12.0  13.0   6.0  0.0  0.0  0.0  6.0  ...   0.0  0.0  0.0   \n",
      "\n",
      "     57   58    59    60    61   62   63  \n",
      "0   0.0  6.0  13.0  10.0   0.0  0.0  0.0  \n",
      "0   0.0  0.0  11.0  16.0  10.0  0.0  0.0  \n",
      "0   0.0  0.0   3.0  11.0  16.0  9.0  0.0  \n",
      "0   0.0  7.0  13.0  13.0   9.0  0.0  0.0  \n",
      "0   0.0  0.0   2.0  16.0   4.0  0.0  0.0  \n",
      "..  ...  ...   ...   ...   ...  ...  ...  \n",
      "0   0.0  0.0   6.0  12.0  14.0  9.0  0.0  \n",
      "0   0.0  0.0   9.0  15.0  12.0  5.0  0.0  \n",
      "0   0.0  4.0  14.0  16.0  12.0  7.0  0.0  \n",
      "0   0.0  0.0   4.0  16.0   5.0  0.0  0.0  \n",
      "0   0.0  6.0  11.0   0.0   0.0  0.0  0.0  \n",
      "\n",
      "[70 rows x 64 columns]\n",
      "     0    1    2     3     4     5    6    7    8    9   ...    54   55   56  \\\n",
      "0   0.0  0.0  5.0  13.0   9.0   1.0  0.0  0.0  0.0  0.0  ...   0.0  0.0  0.0   \n",
      "0   0.0  0.0  0.0  12.0  13.0   5.0  0.0  0.0  0.0  0.0  ...   0.0  0.0  0.0   \n",
      "0   0.0  0.0  0.0   4.0  15.0  12.0  0.0  0.0  0.0  0.0  ...   5.0  0.0  0.0   \n",
      "0   0.0  0.0  7.0  15.0  13.0   1.0  0.0  0.0  0.0  8.0  ...   9.0  0.0  0.0   \n",
      "0   0.0  0.0  0.0   1.0  11.0   0.0  0.0  0.0  0.0  0.0  ...   0.0  0.0  0.0   \n",
      "..  ...  ...  ...   ...   ...   ...  ...  ...  ...  ...  ...   ...  ...  ...   \n",
      "0   0.0  0.0  0.0  10.0  11.0   0.0  0.0  0.0  0.0  0.0  ...  16.0  4.0  0.0   \n",
      "0   0.0  0.0  5.0  14.0   0.0   0.0  0.0  0.0  0.0  0.0  ...  16.0  0.0  0.0   \n",
      "0   0.0  0.0  0.0   9.0   9.0   0.0  0.0  0.0  0.0  0.0  ...   0.0  0.0  0.0   \n",
      "0   0.0  0.0  6.0  12.0  13.0   6.0  0.0  0.0  0.0  6.0  ...   0.0  0.0  0.0   \n",
      "0   0.0  0.0  0.0   0.0  14.0   7.0  0.0  0.0  0.0  0.0  ...   0.0  0.0  0.0   \n",
      "\n",
      "     57   58    59    60    61   62   63  \n",
      "0   0.0  6.0  13.0  10.0   0.0  0.0  0.0  \n",
      "0   0.0  0.0  11.0  16.0  10.0  0.0  0.0  \n",
      "0   0.0  0.0   3.0  11.0  16.0  9.0  0.0  \n",
      "0   0.0  7.0  13.0  13.0   9.0  0.0  0.0  \n",
      "0   0.0  0.0   2.0  16.0   4.0  0.0  0.0  \n",
      "..  ...  ...   ...   ...   ...  ...  ...  \n",
      "0   0.0  0.0   9.0  15.0  12.0  5.0  0.0  \n",
      "0   0.0  4.0  14.0  16.0  12.0  7.0  0.0  \n",
      "0   0.0  0.0   4.0  16.0   5.0  0.0  0.0  \n",
      "0   0.0  6.0  11.0   0.0   0.0  0.0  0.0  \n",
      "0   0.0  0.0   0.0  12.0  11.0  0.0  0.0  \n",
      "\n",
      "[71 rows x 64 columns]\n",
      "     0    1     2     3     4     5    6    7    8    9   ...    54   55   56  \\\n",
      "0   0.0  0.0   5.0  13.0   9.0   1.0  0.0  0.0  0.0  0.0  ...   0.0  0.0  0.0   \n",
      "0   0.0  0.0   0.0  12.0  13.0   5.0  0.0  0.0  0.0  0.0  ...   0.0  0.0  0.0   \n",
      "0   0.0  0.0   0.0   4.0  15.0  12.0  0.0  0.0  0.0  0.0  ...   5.0  0.0  0.0   \n",
      "0   0.0  0.0   7.0  15.0  13.0   1.0  0.0  0.0  0.0  8.0  ...   9.0  0.0  0.0   \n",
      "0   0.0  0.0   0.0   1.0  11.0   0.0  0.0  0.0  0.0  0.0  ...   0.0  0.0  0.0   \n",
      "..  ...  ...   ...   ...   ...   ...  ...  ...  ...  ...  ...   ...  ...  ...   \n",
      "0   0.0  0.0   5.0  14.0   0.0   0.0  0.0  0.0  0.0  0.0  ...  16.0  0.0  0.0   \n",
      "0   0.0  0.0   0.0   9.0   9.0   0.0  0.0  0.0  0.0  0.0  ...   0.0  0.0  0.0   \n",
      "0   0.0  0.0   6.0  12.0  13.0   6.0  0.0  0.0  0.0  6.0  ...   0.0  0.0  0.0   \n",
      "0   0.0  0.0   0.0   0.0  14.0   7.0  0.0  0.0  0.0  0.0  ...   0.0  0.0  0.0   \n",
      "0   0.0  1.0  13.0  15.0  12.0  12.0  5.0  0.0  0.0  4.0  ...   0.0  0.0  0.0   \n",
      "\n",
      "     57    58    59    60    61   62   63  \n",
      "0   0.0   6.0  13.0  10.0   0.0  0.0  0.0  \n",
      "0   0.0   0.0  11.0  16.0  10.0  0.0  0.0  \n",
      "0   0.0   0.0   3.0  11.0  16.0  9.0  0.0  \n",
      "0   0.0   7.0  13.0  13.0   9.0  0.0  0.0  \n",
      "0   0.0   0.0   2.0  16.0   4.0  0.0  0.0  \n",
      "..  ...   ...   ...   ...   ...  ...  ...  \n",
      "0   0.0   4.0  14.0  16.0  12.0  7.0  0.0  \n",
      "0   0.0   0.0   4.0  16.0   5.0  0.0  0.0  \n",
      "0   0.0   6.0  11.0   0.0   0.0  0.0  0.0  \n",
      "0   0.0   0.0   0.0  12.0  11.0  0.0  0.0  \n",
      "0   3.0  14.0  10.0   1.0   0.0  0.0  0.0  \n",
      "\n",
      "[72 rows x 64 columns]\n",
      "     0    1     2     3     4     5    6    7    8    9   ...   54   55   56  \\\n",
      "0   0.0  0.0   5.0  13.0   9.0   1.0  0.0  0.0  0.0  0.0  ...  0.0  0.0  0.0   \n",
      "0   0.0  0.0   0.0  12.0  13.0   5.0  0.0  0.0  0.0  0.0  ...  0.0  0.0  0.0   \n",
      "0   0.0  0.0   0.0   4.0  15.0  12.0  0.0  0.0  0.0  0.0  ...  5.0  0.0  0.0   \n",
      "0   0.0  0.0   7.0  15.0  13.0   1.0  0.0  0.0  0.0  8.0  ...  9.0  0.0  0.0   \n",
      "0   0.0  0.0   0.0   1.0  11.0   0.0  0.0  0.0  0.0  0.0  ...  0.0  0.0  0.0   \n",
      "..  ...  ...   ...   ...   ...   ...  ...  ...  ...  ...  ...  ...  ...  ...   \n",
      "0   0.0  0.0   0.0   9.0   9.0   0.0  0.0  0.0  0.0  0.0  ...  0.0  0.0  0.0   \n",
      "0   0.0  0.0   6.0  12.0  13.0   6.0  0.0  0.0  0.0  6.0  ...  0.0  0.0  0.0   \n",
      "0   0.0  0.0   0.0   0.0  14.0   7.0  0.0  0.0  0.0  0.0  ...  0.0  0.0  0.0   \n",
      "0   0.0  1.0  13.0  15.0  12.0  12.0  5.0  0.0  0.0  4.0  ...  0.0  0.0  0.0   \n",
      "0   0.0  0.0   1.0  13.0  10.0   0.0  0.0  0.0  0.0  7.0  ...  0.0  0.0  0.0   \n",
      "\n",
      "     57    58    59    60    61   62   63  \n",
      "0   0.0   6.0  13.0  10.0   0.0  0.0  0.0  \n",
      "0   0.0   0.0  11.0  16.0  10.0  0.0  0.0  \n",
      "0   0.0   0.0   3.0  11.0  16.0  9.0  0.0  \n",
      "0   0.0   7.0  13.0  13.0   9.0  0.0  0.0  \n",
      "0   0.0   0.0   2.0  16.0   4.0  0.0  0.0  \n",
      "..  ...   ...   ...   ...   ...  ...  ...  \n",
      "0   0.0   0.0   4.0  16.0   5.0  0.0  0.0  \n",
      "0   0.0   6.0  11.0   0.0   0.0  0.0  0.0  \n",
      "0   0.0   0.0   0.0  12.0  11.0  0.0  0.0  \n",
      "0   3.0  14.0  10.0   1.0   0.0  0.0  0.0  \n",
      "0   0.0   1.0  15.0  14.0   8.0  0.0  0.0  \n",
      "\n",
      "[73 rows x 64 columns]\n",
      "     0    1     2     3     4     5    6    7    8    9   ...    54   55   56  \\\n",
      "0   0.0  0.0   5.0  13.0   9.0   1.0  0.0  0.0  0.0  0.0  ...   0.0  0.0  0.0   \n",
      "0   0.0  0.0   0.0  12.0  13.0   5.0  0.0  0.0  0.0  0.0  ...   0.0  0.0  0.0   \n",
      "0   0.0  0.0   0.0   4.0  15.0  12.0  0.0  0.0  0.0  0.0  ...   5.0  0.0  0.0   \n",
      "0   0.0  0.0   7.0  15.0  13.0   1.0  0.0  0.0  0.0  8.0  ...   9.0  0.0  0.0   \n",
      "0   0.0  0.0   0.0   1.0  11.0   0.0  0.0  0.0  0.0  0.0  ...   0.0  0.0  0.0   \n",
      "..  ...  ...   ...   ...   ...   ...  ...  ...  ...  ...  ...   ...  ...  ...   \n",
      "0   0.0  0.0   6.0  12.0  13.0   6.0  0.0  0.0  0.0  6.0  ...   0.0  0.0  0.0   \n",
      "0   0.0  0.0   0.0   0.0  14.0   7.0  0.0  0.0  0.0  0.0  ...   0.0  0.0  0.0   \n",
      "0   0.0  1.0  13.0  15.0  12.0  12.0  5.0  0.0  0.0  4.0  ...   0.0  0.0  0.0   \n",
      "0   0.0  0.0   1.0  13.0  10.0   0.0  0.0  0.0  0.0  7.0  ...   0.0  0.0  0.0   \n",
      "0   0.0  1.0  12.0  13.0   4.0   0.0  0.0  0.0  0.0  4.0  ...  10.0  0.0  0.0   \n",
      "\n",
      "     57    58    59    60    61   62   63  \n",
      "0   0.0   6.0  13.0  10.0   0.0  0.0  0.0  \n",
      "0   0.0   0.0  11.0  16.0  10.0  0.0  0.0  \n",
      "0   0.0   0.0   3.0  11.0  16.0  9.0  0.0  \n",
      "0   0.0   7.0  13.0  13.0   9.0  0.0  0.0  \n",
      "0   0.0   0.0   2.0  16.0   4.0  0.0  0.0  \n",
      "..  ...   ...   ...   ...   ...  ...  ...  \n",
      "0   0.0   6.0  11.0   0.0   0.0  0.0  0.0  \n",
      "0   0.0   0.0   0.0  12.0  11.0  0.0  0.0  \n",
      "0   3.0  14.0  10.0   1.0   0.0  0.0  0.0  \n",
      "0   0.0   1.0  15.0  14.0   8.0  0.0  0.0  \n",
      "0   2.0  12.0  16.0  14.0  12.0  3.0  0.0  \n",
      "\n",
      "[74 rows x 64 columns]\n",
      "     0    1     2     3     4     5    6    7    8    9   ...    54   55   56  \\\n",
      "0   0.0  0.0   5.0  13.0   9.0   1.0  0.0  0.0  0.0  0.0  ...   0.0  0.0  0.0   \n",
      "0   0.0  0.0   0.0  12.0  13.0   5.0  0.0  0.0  0.0  0.0  ...   0.0  0.0  0.0   \n",
      "0   0.0  0.0   0.0   4.0  15.0  12.0  0.0  0.0  0.0  0.0  ...   5.0  0.0  0.0   \n",
      "0   0.0  0.0   7.0  15.0  13.0   1.0  0.0  0.0  0.0  8.0  ...   9.0  0.0  0.0   \n",
      "0   0.0  0.0   0.0   1.0  11.0   0.0  0.0  0.0  0.0  0.0  ...   0.0  0.0  0.0   \n",
      "..  ...  ...   ...   ...   ...   ...  ...  ...  ...  ...  ...   ...  ...  ...   \n",
      "0   0.0  0.0   0.0   0.0  14.0   7.0  0.0  0.0  0.0  0.0  ...   0.0  0.0  0.0   \n",
      "0   0.0  1.0  13.0  15.0  12.0  12.0  5.0  0.0  0.0  4.0  ...   0.0  0.0  0.0   \n",
      "0   0.0  0.0   1.0  13.0  10.0   0.0  0.0  0.0  0.0  7.0  ...   0.0  0.0  0.0   \n",
      "0   0.0  1.0  12.0  13.0   4.0   0.0  0.0  0.0  0.0  4.0  ...  10.0  0.0  0.0   \n",
      "0   0.0  0.0  13.0  13.0   8.0   2.0  0.0  0.0  0.0  5.0  ...   1.0  0.0  0.0   \n",
      "\n",
      "     57    58    59    60    61   62   63  \n",
      "0   0.0   6.0  13.0  10.0   0.0  0.0  0.0  \n",
      "0   0.0   0.0  11.0  16.0  10.0  0.0  0.0  \n",
      "0   0.0   0.0   3.0  11.0  16.0  9.0  0.0  \n",
      "0   0.0   7.0  13.0  13.0   9.0  0.0  0.0  \n",
      "0   0.0   0.0   2.0  16.0   4.0  0.0  0.0  \n",
      "..  ...   ...   ...   ...   ...  ...  ...  \n",
      "0   0.0   0.0   0.0  12.0  11.0  0.0  0.0  \n",
      "0   3.0  14.0  10.0   1.0   0.0  0.0  0.0  \n",
      "0   0.0   1.0  15.0  14.0   8.0  0.0  0.0  \n",
      "0   2.0  12.0  16.0  14.0  12.0  3.0  0.0  \n",
      "0   0.0  10.0  16.0  16.0   6.0  0.0  0.0  \n",
      "\n",
      "[75 rows x 64 columns]\n",
      "     0    1     2     3     4     5    6    7    8    9   ...    54   55   56  \\\n",
      "0   0.0  0.0   5.0  13.0   9.0   1.0  0.0  0.0  0.0  0.0  ...   0.0  0.0  0.0   \n",
      "0   0.0  0.0   0.0  12.0  13.0   5.0  0.0  0.0  0.0  0.0  ...   0.0  0.0  0.0   \n",
      "0   0.0  0.0   0.0   4.0  15.0  12.0  0.0  0.0  0.0  0.0  ...   5.0  0.0  0.0   \n",
      "0   0.0  0.0   7.0  15.0  13.0   1.0  0.0  0.0  0.0  8.0  ...   9.0  0.0  0.0   \n",
      "0   0.0  0.0   0.0   1.0  11.0   0.0  0.0  0.0  0.0  0.0  ...   0.0  0.0  0.0   \n",
      "..  ...  ...   ...   ...   ...   ...  ...  ...  ...  ...  ...   ...  ...  ...   \n",
      "0   0.0  1.0  13.0  15.0  12.0  12.0  5.0  0.0  0.0  4.0  ...   0.0  0.0  0.0   \n",
      "0   0.0  0.0   1.0  13.0  10.0   0.0  0.0  0.0  0.0  7.0  ...   0.0  0.0  0.0   \n",
      "0   0.0  1.0  12.0  13.0   4.0   0.0  0.0  0.0  0.0  4.0  ...  10.0  0.0  0.0   \n",
      "0   0.0  0.0  13.0  13.0   8.0   2.0  0.0  0.0  0.0  5.0  ...   1.0  0.0  0.0   \n",
      "0   0.0  0.0   0.0   0.0   9.0  13.0  0.0  0.0  0.0  0.0  ...   3.0  0.0  0.0   \n",
      "\n",
      "     57    58    59    60    61   62   63  \n",
      "0   0.0   6.0  13.0  10.0   0.0  0.0  0.0  \n",
      "0   0.0   0.0  11.0  16.0  10.0  0.0  0.0  \n",
      "0   0.0   0.0   3.0  11.0  16.0  9.0  0.0  \n",
      "0   0.0   7.0  13.0  13.0   9.0  0.0  0.0  \n",
      "0   0.0   0.0   2.0  16.0   4.0  0.0  0.0  \n",
      "..  ...   ...   ...   ...   ...  ...  ...  \n",
      "0   3.0  14.0  10.0   1.0   0.0  0.0  0.0  \n",
      "0   0.0   1.0  15.0  14.0   8.0  0.0  0.0  \n",
      "0   2.0  12.0  16.0  14.0  12.0  3.0  0.0  \n",
      "0   0.0  10.0  16.0  16.0   6.0  0.0  0.0  \n",
      "0   0.0   0.0   0.0   9.0  15.0  9.0  0.0  \n",
      "\n",
      "[76 rows x 64 columns]\n",
      "     0    1     2     3     4     5    6    7    8    9   ...    54   55   56  \\\n",
      "0   0.0  0.0   5.0  13.0   9.0   1.0  0.0  0.0  0.0  0.0  ...   0.0  0.0  0.0   \n",
      "0   0.0  0.0   0.0  12.0  13.0   5.0  0.0  0.0  0.0  0.0  ...   0.0  0.0  0.0   \n",
      "0   0.0  0.0   0.0   4.0  15.0  12.0  0.0  0.0  0.0  0.0  ...   5.0  0.0  0.0   \n",
      "0   0.0  0.0   7.0  15.0  13.0   1.0  0.0  0.0  0.0  8.0  ...   9.0  0.0  0.0   \n",
      "0   0.0  0.0   0.0   1.0  11.0   0.0  0.0  0.0  0.0  0.0  ...   0.0  0.0  0.0   \n",
      "..  ...  ...   ...   ...   ...   ...  ...  ...  ...  ...  ...   ...  ...  ...   \n",
      "0   0.0  0.0   1.0  13.0  10.0   0.0  0.0  0.0  0.0  7.0  ...   0.0  0.0  0.0   \n",
      "0   0.0  1.0  12.0  13.0   4.0   0.0  0.0  0.0  0.0  4.0  ...  10.0  0.0  0.0   \n",
      "0   0.0  0.0  13.0  13.0   8.0   2.0  0.0  0.0  0.0  5.0  ...   1.0  0.0  0.0   \n",
      "0   0.0  0.0   0.0   0.0   9.0  13.0  0.0  0.0  0.0  0.0  ...   3.0  0.0  0.0   \n",
      "0   0.0  3.0   5.0  14.0  13.0   6.0  0.0  0.0  0.0  9.0  ...   0.0  0.0  0.0   \n",
      "\n",
      "     57    58    59    60    61   62   63  \n",
      "0   0.0   6.0  13.0  10.0   0.0  0.0  0.0  \n",
      "0   0.0   0.0  11.0  16.0  10.0  0.0  0.0  \n",
      "0   0.0   0.0   3.0  11.0  16.0  9.0  0.0  \n",
      "0   0.0   7.0  13.0  13.0   9.0  0.0  0.0  \n",
      "0   0.0   0.0   2.0  16.0   4.0  0.0  0.0  \n",
      "..  ...   ...   ...   ...   ...  ...  ...  \n",
      "0   0.0   1.0  15.0  14.0   8.0  0.0  0.0  \n",
      "0   2.0  12.0  16.0  14.0  12.0  3.0  0.0  \n",
      "0   0.0  10.0  16.0  16.0   6.0  0.0  0.0  \n",
      "0   0.0   0.0   0.0   9.0  15.0  9.0  0.0  \n",
      "0   0.0   3.0  15.0  16.0   5.0  0.0  0.0  \n",
      "\n",
      "[77 rows x 64 columns]\n",
      "     0    1     2     3     4     5    6    7    8    9   ...    54   55   56  \\\n",
      "0   0.0  0.0   5.0  13.0   9.0   1.0  0.0  0.0  0.0  0.0  ...   0.0  0.0  0.0   \n",
      "0   0.0  0.0   0.0  12.0  13.0   5.0  0.0  0.0  0.0  0.0  ...   0.0  0.0  0.0   \n",
      "0   0.0  0.0   0.0   4.0  15.0  12.0  0.0  0.0  0.0  0.0  ...   5.0  0.0  0.0   \n",
      "0   0.0  0.0   7.0  15.0  13.0   1.0  0.0  0.0  0.0  8.0  ...   9.0  0.0  0.0   \n",
      "0   0.0  0.0   0.0   1.0  11.0   0.0  0.0  0.0  0.0  0.0  ...   0.0  0.0  0.0   \n",
      "..  ...  ...   ...   ...   ...   ...  ...  ...  ...  ...  ...   ...  ...  ...   \n",
      "0   0.0  1.0  12.0  13.0   4.0   0.0  0.0  0.0  0.0  4.0  ...  10.0  0.0  0.0   \n",
      "0   0.0  0.0  13.0  13.0   8.0   2.0  0.0  0.0  0.0  5.0  ...   1.0  0.0  0.0   \n",
      "0   0.0  0.0   0.0   0.0   9.0  13.0  0.0  0.0  0.0  0.0  ...   3.0  0.0  0.0   \n",
      "0   0.0  3.0   5.0  14.0  13.0   6.0  0.0  0.0  0.0  9.0  ...   0.0  0.0  0.0   \n",
      "0   0.0  0.0   0.0   0.0  11.0  15.0  4.0  0.0  0.0  0.0  ...   0.0  0.0  0.0   \n",
      "\n",
      "     57    58    59    60    61    62   63  \n",
      "0   0.0   6.0  13.0  10.0   0.0   0.0  0.0  \n",
      "0   0.0   0.0  11.0  16.0  10.0   0.0  0.0  \n",
      "0   0.0   0.0   3.0  11.0  16.0   9.0  0.0  \n",
      "0   0.0   7.0  13.0  13.0   9.0   0.0  0.0  \n",
      "0   0.0   0.0   2.0  16.0   4.0   0.0  0.0  \n",
      "..  ...   ...   ...   ...   ...   ...  ...  \n",
      "0   2.0  12.0  16.0  14.0  12.0   3.0  0.0  \n",
      "0   0.0  10.0  16.0  16.0   6.0   0.0  0.0  \n",
      "0   0.0   0.0   0.0   9.0  15.0   9.0  0.0  \n",
      "0   0.0   3.0  15.0  16.0   5.0   0.0  0.0  \n",
      "0   0.0   0.0   1.0  11.0  16.0  12.0  0.0  \n",
      "\n",
      "[78 rows x 64 columns]\n",
      "     0    1     2     3     4     5    6    7    8    9   ...   54   55   56  \\\n",
      "0   0.0  0.0   5.0  13.0   9.0   1.0  0.0  0.0  0.0  0.0  ...  0.0  0.0  0.0   \n",
      "0   0.0  0.0   0.0  12.0  13.0   5.0  0.0  0.0  0.0  0.0  ...  0.0  0.0  0.0   \n",
      "0   0.0  0.0   0.0   4.0  15.0  12.0  0.0  0.0  0.0  0.0  ...  5.0  0.0  0.0   \n",
      "0   0.0  0.0   7.0  15.0  13.0   1.0  0.0  0.0  0.0  8.0  ...  9.0  0.0  0.0   \n",
      "0   0.0  0.0   0.0   1.0  11.0   0.0  0.0  0.0  0.0  0.0  ...  0.0  0.0  0.0   \n",
      "..  ...  ...   ...   ...   ...   ...  ...  ...  ...  ...  ...  ...  ...  ...   \n",
      "0   0.0  0.0  13.0  13.0   8.0   2.0  0.0  0.0  0.0  5.0  ...  1.0  0.0  0.0   \n",
      "0   0.0  0.0   0.0   0.0   9.0  13.0  0.0  0.0  0.0  0.0  ...  3.0  0.0  0.0   \n",
      "0   0.0  3.0   5.0  14.0  13.0   6.0  0.0  0.0  0.0  9.0  ...  0.0  0.0  0.0   \n",
      "0   0.0  0.0   0.0   0.0  11.0  15.0  4.0  0.0  0.0  0.0  ...  0.0  0.0  0.0   \n",
      "0   0.0  0.0  10.0  12.0  10.0   0.0  0.0  0.0  0.0  3.0  ...  8.0  0.0  0.0   \n",
      "\n",
      "     57    58    59    60    61    62   63  \n",
      "0   0.0   6.0  13.0  10.0   0.0   0.0  0.0  \n",
      "0   0.0   0.0  11.0  16.0  10.0   0.0  0.0  \n",
      "0   0.0   0.0   3.0  11.0  16.0   9.0  0.0  \n",
      "0   0.0   7.0  13.0  13.0   9.0   0.0  0.0  \n",
      "0   0.0   0.0   2.0  16.0   4.0   0.0  0.0  \n",
      "..  ...   ...   ...   ...   ...   ...  ...  \n",
      "0   0.0  10.0  16.0  16.0   6.0   0.0  0.0  \n",
      "0   0.0   0.0   0.0   9.0  15.0   9.0  0.0  \n",
      "0   0.0   3.0  15.0  16.0   5.0   0.0  0.0  \n",
      "0   0.0   0.0   1.0  11.0  16.0  12.0  0.0  \n",
      "0   0.0   7.0  12.0  13.0  12.0   4.0  0.0  \n",
      "\n",
      "[79 rows x 64 columns]\n",
      "     0    1     2     3     4     5    6    7    8    9   ...   54   55   56  \\\n",
      "0   0.0  0.0   5.0  13.0   9.0   1.0  0.0  0.0  0.0  0.0  ...  0.0  0.0  0.0   \n",
      "0   0.0  0.0   0.0  12.0  13.0   5.0  0.0  0.0  0.0  0.0  ...  0.0  0.0  0.0   \n",
      "0   0.0  0.0   0.0   4.0  15.0  12.0  0.0  0.0  0.0  0.0  ...  5.0  0.0  0.0   \n",
      "0   0.0  0.0   7.0  15.0  13.0   1.0  0.0  0.0  0.0  8.0  ...  9.0  0.0  0.0   \n",
      "0   0.0  0.0   0.0   1.0  11.0   0.0  0.0  0.0  0.0  0.0  ...  0.0  0.0  0.0   \n",
      "..  ...  ...   ...   ...   ...   ...  ...  ...  ...  ...  ...  ...  ...  ...   \n",
      "0   0.0  0.0   0.0   0.0   9.0  13.0  0.0  0.0  0.0  0.0  ...  3.0  0.0  0.0   \n",
      "0   0.0  3.0   5.0  14.0  13.0   6.0  0.0  0.0  0.0  9.0  ...  0.0  0.0  0.0   \n",
      "0   0.0  0.0   0.0   0.0  11.0  15.0  4.0  0.0  0.0  0.0  ...  0.0  0.0  0.0   \n",
      "0   0.0  0.0  10.0  12.0  10.0   0.0  0.0  0.0  0.0  3.0  ...  8.0  0.0  0.0   \n",
      "0   0.0  0.0   4.0  14.0  11.0   0.0  0.0  0.0  0.0  3.0  ...  6.0  0.0  0.0   \n",
      "\n",
      "     57   58    59    60    61    62   63  \n",
      "0   0.0  6.0  13.0  10.0   0.0   0.0  0.0  \n",
      "0   0.0  0.0  11.0  16.0  10.0   0.0  0.0  \n",
      "0   0.0  0.0   3.0  11.0  16.0   9.0  0.0  \n",
      "0   0.0  7.0  13.0  13.0   9.0   0.0  0.0  \n",
      "0   0.0  0.0   2.0  16.0   4.0   0.0  0.0  \n",
      "..  ...  ...   ...   ...   ...   ...  ...  \n",
      "0   0.0  0.0   0.0   9.0  15.0   9.0  0.0  \n",
      "0   0.0  3.0  15.0  16.0   5.0   0.0  0.0  \n",
      "0   0.0  0.0   1.0  11.0  16.0  12.0  0.0  \n",
      "0   0.0  7.0  12.0  13.0  12.0   4.0  0.0  \n",
      "0   0.0  5.0  16.0  15.0   8.0   0.0  0.0  \n",
      "\n",
      "[80 rows x 64 columns]\n",
      "     0    1     2     3     4     5    6    7    8    9   ...   54   55   56  \\\n",
      "0   0.0  0.0   5.0  13.0   9.0   1.0  0.0  0.0  0.0  0.0  ...  0.0  0.0  0.0   \n",
      "0   0.0  0.0   0.0  12.0  13.0   5.0  0.0  0.0  0.0  0.0  ...  0.0  0.0  0.0   \n",
      "0   0.0  0.0   0.0   4.0  15.0  12.0  0.0  0.0  0.0  0.0  ...  5.0  0.0  0.0   \n",
      "0   0.0  0.0   7.0  15.0  13.0   1.0  0.0  0.0  0.0  8.0  ...  9.0  0.0  0.0   \n",
      "0   0.0  0.0   0.0   1.0  11.0   0.0  0.0  0.0  0.0  0.0  ...  0.0  0.0  0.0   \n",
      "..  ...  ...   ...   ...   ...   ...  ...  ...  ...  ...  ...  ...  ...  ...   \n",
      "0   0.0  3.0   5.0  14.0  13.0   6.0  0.0  0.0  0.0  9.0  ...  0.0  0.0  0.0   \n",
      "0   0.0  0.0   0.0   0.0  11.0  15.0  4.0  0.0  0.0  0.0  ...  0.0  0.0  0.0   \n",
      "0   0.0  0.0  10.0  12.0  10.0   0.0  0.0  0.0  0.0  3.0  ...  8.0  0.0  0.0   \n",
      "0   0.0  0.0   4.0  14.0  11.0   0.0  0.0  0.0  0.0  3.0  ...  6.0  0.0  0.0   \n",
      "0   0.0  0.0   0.0   1.0  14.0  13.0  1.0  0.0  0.0  0.0  ...  0.0  0.0  0.0   \n",
      "\n",
      "     57   58    59    60    61    62   63  \n",
      "0   0.0  6.0  13.0  10.0   0.0   0.0  0.0  \n",
      "0   0.0  0.0  11.0  16.0  10.0   0.0  0.0  \n",
      "0   0.0  0.0   3.0  11.0  16.0   9.0  0.0  \n",
      "0   0.0  7.0  13.0  13.0   9.0   0.0  0.0  \n",
      "0   0.0  0.0   2.0  16.0   4.0   0.0  0.0  \n",
      "..  ...  ...   ...   ...   ...   ...  ...  \n",
      "0   0.0  3.0  15.0  16.0   5.0   0.0  0.0  \n",
      "0   0.0  0.0   1.0  11.0  16.0  12.0  0.0  \n",
      "0   0.0  7.0  12.0  13.0  12.0   4.0  0.0  \n",
      "0   0.0  5.0  16.0  15.0   8.0   0.0  0.0  \n",
      "0   0.0  0.0   2.0  13.0  15.0   2.0  0.0  \n",
      "\n",
      "[81 rows x 64 columns]\n",
      "     0    1     2     3     4     5    6    7    8    9   ...   54   55   56  \\\n",
      "0   0.0  0.0   5.0  13.0   9.0   1.0  0.0  0.0  0.0  0.0  ...  0.0  0.0  0.0   \n",
      "0   0.0  0.0   0.0  12.0  13.0   5.0  0.0  0.0  0.0  0.0  ...  0.0  0.0  0.0   \n",
      "0   0.0  0.0   0.0   4.0  15.0  12.0  0.0  0.0  0.0  0.0  ...  5.0  0.0  0.0   \n",
      "0   0.0  0.0   7.0  15.0  13.0   1.0  0.0  0.0  0.0  8.0  ...  9.0  0.0  0.0   \n",
      "0   0.0  0.0   0.0   1.0  11.0   0.0  0.0  0.0  0.0  0.0  ...  0.0  0.0  0.0   \n",
      "..  ...  ...   ...   ...   ...   ...  ...  ...  ...  ...  ...  ...  ...  ...   \n",
      "0   0.0  0.0   0.0   0.0  11.0  15.0  4.0  0.0  0.0  0.0  ...  0.0  0.0  0.0   \n",
      "0   0.0  0.0  10.0  12.0  10.0   0.0  0.0  0.0  0.0  3.0  ...  8.0  0.0  0.0   \n",
      "0   0.0  0.0   4.0  14.0  11.0   0.0  0.0  0.0  0.0  3.0  ...  6.0  0.0  0.0   \n",
      "0   0.0  0.0   0.0   1.0  14.0  13.0  1.0  0.0  0.0  0.0  ...  0.0  0.0  0.0   \n",
      "0   0.0  0.0   3.0  14.0  16.0  14.0  0.0  0.0  0.0  0.0  ...  0.0  0.0  0.0   \n",
      "\n",
      "     57   58    59    60    61    62   63  \n",
      "0   0.0  6.0  13.0  10.0   0.0   0.0  0.0  \n",
      "0   0.0  0.0  11.0  16.0  10.0   0.0  0.0  \n",
      "0   0.0  0.0   3.0  11.0  16.0   9.0  0.0  \n",
      "0   0.0  7.0  13.0  13.0   9.0   0.0  0.0  \n",
      "0   0.0  0.0   2.0  16.0   4.0   0.0  0.0  \n",
      "..  ...  ...   ...   ...   ...   ...  ...  \n",
      "0   0.0  0.0   1.0  11.0  16.0  12.0  0.0  \n",
      "0   0.0  7.0  12.0  13.0  12.0   4.0  0.0  \n",
      "0   0.0  5.0  16.0  15.0   8.0   0.0  0.0  \n",
      "0   0.0  0.0   2.0  13.0  15.0   2.0  0.0  \n",
      "0   0.0  4.0  13.0   1.0   0.0   0.0  0.0  \n",
      "\n",
      "[82 rows x 64 columns]\n",
      "     0    1     2     3     4     5    6    7    8    9   ...    54   55   56  \\\n",
      "0   0.0  0.0   5.0  13.0   9.0   1.0  0.0  0.0  0.0  0.0  ...   0.0  0.0  0.0   \n",
      "0   0.0  0.0   0.0  12.0  13.0   5.0  0.0  0.0  0.0  0.0  ...   0.0  0.0  0.0   \n",
      "0   0.0  0.0   0.0   4.0  15.0  12.0  0.0  0.0  0.0  0.0  ...   5.0  0.0  0.0   \n",
      "0   0.0  0.0   7.0  15.0  13.0   1.0  0.0  0.0  0.0  8.0  ...   9.0  0.0  0.0   \n",
      "0   0.0  0.0   0.0   1.0  11.0   0.0  0.0  0.0  0.0  0.0  ...   0.0  0.0  0.0   \n",
      "..  ...  ...   ...   ...   ...   ...  ...  ...  ...  ...  ...   ...  ...  ...   \n",
      "0   0.0  0.0  10.0  12.0  10.0   0.0  0.0  0.0  0.0  3.0  ...   8.0  0.0  0.0   \n",
      "0   0.0  0.0   4.0  14.0  11.0   0.0  0.0  0.0  0.0  3.0  ...   6.0  0.0  0.0   \n",
      "0   0.0  0.0   0.0   1.0  14.0  13.0  1.0  0.0  0.0  0.0  ...   0.0  0.0  0.0   \n",
      "0   0.0  0.0   3.0  14.0  16.0  14.0  0.0  0.0  0.0  0.0  ...   0.0  0.0  0.0   \n",
      "0   0.0  0.0   0.0  10.0  15.0   3.0  0.0  0.0  0.0  0.0  ...  14.0  2.0  0.0   \n",
      "\n",
      "     57   58    59    60    61    62   63  \n",
      "0   0.0  6.0  13.0  10.0   0.0   0.0  0.0  \n",
      "0   0.0  0.0  11.0  16.0  10.0   0.0  0.0  \n",
      "0   0.0  0.0   3.0  11.0  16.0   9.0  0.0  \n",
      "0   0.0  7.0  13.0  13.0   9.0   0.0  0.0  \n",
      "0   0.0  0.0   2.0  16.0   4.0   0.0  0.0  \n",
      "..  ...  ...   ...   ...   ...   ...  ...  \n",
      "0   0.0  7.0  12.0  13.0  12.0   4.0  0.0  \n",
      "0   0.0  5.0  16.0  15.0   8.0   0.0  0.0  \n",
      "0   0.0  0.0   2.0  13.0  15.0   2.0  0.0  \n",
      "0   0.0  4.0  13.0   1.0   0.0   0.0  0.0  \n",
      "0   0.0  1.0   9.0  15.0  16.0  11.0  0.0  \n",
      "\n",
      "[83 rows x 64 columns]\n",
      "     0    1     2     3     4     5    6    7    8    9   ...    54   55   56  \\\n",
      "0   0.0  0.0   5.0  13.0   9.0   1.0  0.0  0.0  0.0  0.0  ...   0.0  0.0  0.0   \n",
      "0   0.0  0.0   0.0  12.0  13.0   5.0  0.0  0.0  0.0  0.0  ...   0.0  0.0  0.0   \n",
      "0   0.0  0.0   0.0   4.0  15.0  12.0  0.0  0.0  0.0  0.0  ...   5.0  0.0  0.0   \n",
      "0   0.0  0.0   7.0  15.0  13.0   1.0  0.0  0.0  0.0  8.0  ...   9.0  0.0  0.0   \n",
      "0   0.0  0.0   0.0   1.0  11.0   0.0  0.0  0.0  0.0  0.0  ...   0.0  0.0  0.0   \n",
      "..  ...  ...   ...   ...   ...   ...  ...  ...  ...  ...  ...   ...  ...  ...   \n",
      "0   0.0  0.0   4.0  14.0  11.0   0.0  0.0  0.0  0.0  3.0  ...   6.0  0.0  0.0   \n",
      "0   0.0  0.0   0.0   1.0  14.0  13.0  1.0  0.0  0.0  0.0  ...   0.0  0.0  0.0   \n",
      "0   0.0  0.0   3.0  14.0  16.0  14.0  0.0  0.0  0.0  0.0  ...   0.0  0.0  0.0   \n",
      "0   0.0  0.0   0.0  10.0  15.0   3.0  0.0  0.0  0.0  0.0  ...  14.0  2.0  0.0   \n",
      "0   0.0  2.0  13.0  15.0  10.0   4.0  0.0  0.0  0.0  0.0  ...   0.0  0.0  0.0   \n",
      "\n",
      "     57    58    59    60    61    62   63  \n",
      "0   0.0   6.0  13.0  10.0   0.0   0.0  0.0  \n",
      "0   0.0   0.0  11.0  16.0  10.0   0.0  0.0  \n",
      "0   0.0   0.0   3.0  11.0  16.0   9.0  0.0  \n",
      "0   0.0   7.0  13.0  13.0   9.0   0.0  0.0  \n",
      "0   0.0   0.0   2.0  16.0   4.0   0.0  0.0  \n",
      "..  ...   ...   ...   ...   ...   ...  ...  \n",
      "0   0.0   5.0  16.0  15.0   8.0   0.0  0.0  \n",
      "0   0.0   0.0   2.0  13.0  15.0   2.0  0.0  \n",
      "0   0.0   4.0  13.0   1.0   0.0   0.0  0.0  \n",
      "0   0.0   1.0   9.0  15.0  16.0  11.0  0.0  \n",
      "0   2.0  12.0  14.0  11.0   1.0   0.0  0.0  \n",
      "\n",
      "[84 rows x 64 columns]\n",
      "     0    1     2     3     4     5    6    7    8    9   ...    54   55   56  \\\n",
      "0   0.0  0.0   5.0  13.0   9.0   1.0  0.0  0.0  0.0  0.0  ...   0.0  0.0  0.0   \n",
      "0   0.0  0.0   0.0  12.0  13.0   5.0  0.0  0.0  0.0  0.0  ...   0.0  0.0  0.0   \n",
      "0   0.0  0.0   0.0   4.0  15.0  12.0  0.0  0.0  0.0  0.0  ...   5.0  0.0  0.0   \n",
      "0   0.0  0.0   7.0  15.0  13.0   1.0  0.0  0.0  0.0  8.0  ...   9.0  0.0  0.0   \n",
      "0   0.0  0.0   0.0   1.0  11.0   0.0  0.0  0.0  0.0  0.0  ...   0.0  0.0  0.0   \n",
      "..  ...  ...   ...   ...   ...   ...  ...  ...  ...  ...  ...   ...  ...  ...   \n",
      "0   0.0  0.0   0.0   1.0  14.0  13.0  1.0  0.0  0.0  0.0  ...   0.0  0.0  0.0   \n",
      "0   0.0  0.0   3.0  14.0  16.0  14.0  0.0  0.0  0.0  0.0  ...   0.0  0.0  0.0   \n",
      "0   0.0  0.0   0.0  10.0  15.0   3.0  0.0  0.0  0.0  0.0  ...  14.0  2.0  0.0   \n",
      "0   0.0  2.0  13.0  15.0  10.0   4.0  0.0  0.0  0.0  0.0  ...   0.0  0.0  0.0   \n",
      "0   0.0  1.0  13.0  15.0   2.0   0.0  0.0  0.0  0.0  6.0  ...  11.0  0.0  0.0   \n",
      "\n",
      "     57    58    59    60    61    62   63  \n",
      "0   0.0   6.0  13.0  10.0   0.0   0.0  0.0  \n",
      "0   0.0   0.0  11.0  16.0  10.0   0.0  0.0  \n",
      "0   0.0   0.0   3.0  11.0  16.0   9.0  0.0  \n",
      "0   0.0   7.0  13.0  13.0   9.0   0.0  0.0  \n",
      "0   0.0   0.0   2.0  16.0   4.0   0.0  0.0  \n",
      "..  ...   ...   ...   ...   ...   ...  ...  \n",
      "0   0.0   0.0   2.0  13.0  15.0   2.0  0.0  \n",
      "0   0.0   4.0  13.0   1.0   0.0   0.0  0.0  \n",
      "0   0.0   1.0   9.0  15.0  16.0  11.0  0.0  \n",
      "0   2.0  12.0  14.0  11.0   1.0   0.0  0.0  \n",
      "0   1.0  11.0  13.0  16.0  16.0  12.0  0.0  \n",
      "\n",
      "[85 rows x 64 columns]\n",
      "     0    1     2     3     4     5    6    7    8    9   ...    54   55   56  \\\n",
      "0   0.0  0.0   5.0  13.0   9.0   1.0  0.0  0.0  0.0  0.0  ...   0.0  0.0  0.0   \n",
      "0   0.0  0.0   0.0  12.0  13.0   5.0  0.0  0.0  0.0  0.0  ...   0.0  0.0  0.0   \n",
      "0   0.0  0.0   0.0   4.0  15.0  12.0  0.0  0.0  0.0  0.0  ...   5.0  0.0  0.0   \n",
      "0   0.0  0.0   7.0  15.0  13.0   1.0  0.0  0.0  0.0  8.0  ...   9.0  0.0  0.0   \n",
      "0   0.0  0.0   0.0   1.0  11.0   0.0  0.0  0.0  0.0  0.0  ...   0.0  0.0  0.0   \n",
      "..  ...  ...   ...   ...   ...   ...  ...  ...  ...  ...  ...   ...  ...  ...   \n",
      "0   0.0  0.0   3.0  14.0  16.0  14.0  0.0  0.0  0.0  0.0  ...   0.0  0.0  0.0   \n",
      "0   0.0  0.0   0.0  10.0  15.0   3.0  0.0  0.0  0.0  0.0  ...  14.0  2.0  0.0   \n",
      "0   0.0  2.0  13.0  15.0  10.0   4.0  0.0  0.0  0.0  0.0  ...   0.0  0.0  0.0   \n",
      "0   0.0  1.0  13.0  15.0   2.0   0.0  0.0  0.0  0.0  6.0  ...  11.0  0.0  0.0   \n",
      "0   0.0  0.0   0.0   1.0  16.0   5.0  0.0  0.0  0.0  0.0  ...   0.0  0.0  0.0   \n",
      "\n",
      "     57    58    59    60    61    62   63  \n",
      "0   0.0   6.0  13.0  10.0   0.0   0.0  0.0  \n",
      "0   0.0   0.0  11.0  16.0  10.0   0.0  0.0  \n",
      "0   0.0   0.0   3.0  11.0  16.0   9.0  0.0  \n",
      "0   0.0   7.0  13.0  13.0   9.0   0.0  0.0  \n",
      "0   0.0   0.0   2.0  16.0   4.0   0.0  0.0  \n",
      "..  ...   ...   ...   ...   ...   ...  ...  \n",
      "0   0.0   4.0  13.0   1.0   0.0   0.0  0.0  \n",
      "0   0.0   1.0   9.0  15.0  16.0  11.0  0.0  \n",
      "0   2.0  12.0  14.0  11.0   1.0   0.0  0.0  \n",
      "0   1.0  11.0  13.0  16.0  16.0  12.0  0.0  \n",
      "0   0.0   0.0   3.0  13.0   5.0   0.0  0.0  \n",
      "\n",
      "[86 rows x 64 columns]\n",
      "     0    1     2     3     4     5    6    7    8    9   ...    54   55   56  \\\n",
      "0   0.0  0.0   5.0  13.0   9.0   1.0  0.0  0.0  0.0  0.0  ...   0.0  0.0  0.0   \n",
      "0   0.0  0.0   0.0  12.0  13.0   5.0  0.0  0.0  0.0  0.0  ...   0.0  0.0  0.0   \n",
      "0   0.0  0.0   0.0   4.0  15.0  12.0  0.0  0.0  0.0  0.0  ...   5.0  0.0  0.0   \n",
      "0   0.0  0.0   7.0  15.0  13.0   1.0  0.0  0.0  0.0  8.0  ...   9.0  0.0  0.0   \n",
      "0   0.0  0.0   0.0   1.0  11.0   0.0  0.0  0.0  0.0  0.0  ...   0.0  0.0  0.0   \n",
      "..  ...  ...   ...   ...   ...   ...  ...  ...  ...  ...  ...   ...  ...  ...   \n",
      "0   0.0  0.0   0.0  10.0  15.0   3.0  0.0  0.0  0.0  0.0  ...  14.0  2.0  0.0   \n",
      "0   0.0  2.0  13.0  15.0  10.0   4.0  0.0  0.0  0.0  0.0  ...   0.0  0.0  0.0   \n",
      "0   0.0  1.0  13.0  15.0   2.0   0.0  0.0  0.0  0.0  6.0  ...  11.0  0.0  0.0   \n",
      "0   0.0  0.0   0.0   1.0  16.0   5.0  0.0  0.0  0.0  0.0  ...   0.0  0.0  0.0   \n",
      "0   0.0  0.0   2.0   7.0  15.0  13.0  1.0  0.0  0.0  0.0  ...   0.0  0.0  0.0   \n",
      "\n",
      "     57    58    59    60    61    62   63  \n",
      "0   0.0   6.0  13.0  10.0   0.0   0.0  0.0  \n",
      "0   0.0   0.0  11.0  16.0  10.0   0.0  0.0  \n",
      "0   0.0   0.0   3.0  11.0  16.0   9.0  0.0  \n",
      "0   0.0   7.0  13.0  13.0   9.0   0.0  0.0  \n",
      "0   0.0   0.0   2.0  16.0   4.0   0.0  0.0  \n",
      "..  ...   ...   ...   ...   ...   ...  ...  \n",
      "0   0.0   1.0   9.0  15.0  16.0  11.0  0.0  \n",
      "0   2.0  12.0  14.0  11.0   1.0   0.0  0.0  \n",
      "0   1.0  11.0  13.0  16.0  16.0  12.0  0.0  \n",
      "0   0.0   0.0   3.0  13.0   5.0   0.0  0.0  \n",
      "0   0.0   0.0  11.0   9.0   0.0   0.0  0.0  \n",
      "\n",
      "[87 rows x 64 columns]\n",
      "     0    1     2     3     4     5    6    7    8    9   ...    54   55   56  \\\n",
      "0   0.0  0.0   5.0  13.0   9.0   1.0  0.0  0.0  0.0  0.0  ...   0.0  0.0  0.0   \n",
      "0   0.0  0.0   0.0  12.0  13.0   5.0  0.0  0.0  0.0  0.0  ...   0.0  0.0  0.0   \n",
      "0   0.0  0.0   0.0   4.0  15.0  12.0  0.0  0.0  0.0  0.0  ...   5.0  0.0  0.0   \n",
      "0   0.0  0.0   7.0  15.0  13.0   1.0  0.0  0.0  0.0  8.0  ...   9.0  0.0  0.0   \n",
      "0   0.0  0.0   0.0   1.0  11.0   0.0  0.0  0.0  0.0  0.0  ...   0.0  0.0  0.0   \n",
      "..  ...  ...   ...   ...   ...   ...  ...  ...  ...  ...  ...   ...  ...  ...   \n",
      "0   0.0  2.0  13.0  15.0  10.0   4.0  0.0  0.0  0.0  0.0  ...   0.0  0.0  0.0   \n",
      "0   0.0  1.0  13.0  15.0   2.0   0.0  0.0  0.0  0.0  6.0  ...  11.0  0.0  0.0   \n",
      "0   0.0  0.0   0.0   1.0  16.0   5.0  0.0  0.0  0.0  0.0  ...   0.0  0.0  0.0   \n",
      "0   0.0  0.0   2.0   7.0  15.0  13.0  1.0  0.0  0.0  0.0  ...   0.0  0.0  0.0   \n",
      "0   0.0  0.0   0.0   9.0  16.0   4.0  0.0  0.0  0.0  1.0  ...   0.0  0.0  0.0   \n",
      "\n",
      "     57    58    59    60    61    62   63  \n",
      "0   0.0   6.0  13.0  10.0   0.0   0.0  0.0  \n",
      "0   0.0   0.0  11.0  16.0  10.0   0.0  0.0  \n",
      "0   0.0   0.0   3.0  11.0  16.0   9.0  0.0  \n",
      "0   0.0   7.0  13.0  13.0   9.0   0.0  0.0  \n",
      "0   0.0   0.0   2.0  16.0   4.0   0.0  0.0  \n",
      "..  ...   ...   ...   ...   ...   ...  ...  \n",
      "0   2.0  12.0  14.0  11.0   1.0   0.0  0.0  \n",
      "0   1.0  11.0  13.0  16.0  16.0  12.0  0.0  \n",
      "0   0.0   0.0   3.0  13.0   5.0   0.0  0.0  \n",
      "0   0.0   0.0  11.0   9.0   0.0   0.0  0.0  \n",
      "0   0.0   0.0  11.0  13.0   0.0   0.0  0.0  \n",
      "\n",
      "[88 rows x 64 columns]\n",
      "     0    1     2     3     4     5    6    7    8    9   ...    54   55   56  \\\n",
      "0   0.0  0.0   5.0  13.0   9.0   1.0  0.0  0.0  0.0  0.0  ...   0.0  0.0  0.0   \n",
      "0   0.0  0.0   0.0  12.0  13.0   5.0  0.0  0.0  0.0  0.0  ...   0.0  0.0  0.0   \n",
      "0   0.0  0.0   0.0   4.0  15.0  12.0  0.0  0.0  0.0  0.0  ...   5.0  0.0  0.0   \n",
      "0   0.0  0.0   7.0  15.0  13.0   1.0  0.0  0.0  0.0  8.0  ...   9.0  0.0  0.0   \n",
      "0   0.0  0.0   0.0   1.0  11.0   0.0  0.0  0.0  0.0  0.0  ...   0.0  0.0  0.0   \n",
      "..  ...  ...   ...   ...   ...   ...  ...  ...  ...  ...  ...   ...  ...  ...   \n",
      "0   0.0  1.0  13.0  15.0   2.0   0.0  0.0  0.0  0.0  6.0  ...  11.0  0.0  0.0   \n",
      "0   0.0  0.0   0.0   1.0  16.0   5.0  0.0  0.0  0.0  0.0  ...   0.0  0.0  0.0   \n",
      "0   0.0  0.0   2.0   7.0  15.0  13.0  1.0  0.0  0.0  0.0  ...   0.0  0.0  0.0   \n",
      "0   0.0  0.0   0.0   9.0  16.0   4.0  0.0  0.0  0.0  1.0  ...   0.0  0.0  0.0   \n",
      "0   0.0  0.0   0.0  10.0  11.0   0.0  0.0  0.0  0.0  0.0  ...  14.0  0.0  0.0   \n",
      "\n",
      "     57    58    59    60    61    62   63  \n",
      "0   0.0   6.0  13.0  10.0   0.0   0.0  0.0  \n",
      "0   0.0   0.0  11.0  16.0  10.0   0.0  0.0  \n",
      "0   0.0   0.0   3.0  11.0  16.0   9.0  0.0  \n",
      "0   0.0   7.0  13.0  13.0   9.0   0.0  0.0  \n",
      "0   0.0   0.0   2.0  16.0   4.0   0.0  0.0  \n",
      "..  ...   ...   ...   ...   ...   ...  ...  \n",
      "0   1.0  11.0  13.0  16.0  16.0  12.0  0.0  \n",
      "0   0.0   0.0   3.0  13.0   5.0   0.0  0.0  \n",
      "0   0.0   0.0  11.0   9.0   0.0   0.0  0.0  \n",
      "0   0.0   0.0  11.0  13.0   0.0   0.0  0.0  \n",
      "0   0.0   0.0   9.0  13.0  11.0   6.0  0.0  \n",
      "\n",
      "[89 rows x 64 columns]\n",
      "     0    1     2     3     4     5    6    7    8    9   ...    54   55   56  \\\n",
      "0   0.0  0.0   5.0  13.0   9.0   1.0  0.0  0.0  0.0  0.0  ...   0.0  0.0  0.0   \n",
      "0   0.0  0.0   0.0  12.0  13.0   5.0  0.0  0.0  0.0  0.0  ...   0.0  0.0  0.0   \n",
      "0   0.0  0.0   0.0   4.0  15.0  12.0  0.0  0.0  0.0  0.0  ...   5.0  0.0  0.0   \n",
      "0   0.0  0.0   7.0  15.0  13.0   1.0  0.0  0.0  0.0  8.0  ...   9.0  0.0  0.0   \n",
      "0   0.0  0.0   0.0   1.0  11.0   0.0  0.0  0.0  0.0  0.0  ...   0.0  0.0  0.0   \n",
      "..  ...  ...   ...   ...   ...   ...  ...  ...  ...  ...  ...   ...  ...  ...   \n",
      "0   0.0  0.0   0.0   1.0  16.0   5.0  0.0  0.0  0.0  0.0  ...   0.0  0.0  0.0   \n",
      "0   0.0  0.0   2.0   7.0  15.0  13.0  1.0  0.0  0.0  0.0  ...   0.0  0.0  0.0   \n",
      "0   0.0  0.0   0.0   9.0  16.0   4.0  0.0  0.0  0.0  1.0  ...   0.0  0.0  0.0   \n",
      "0   0.0  0.0   0.0  10.0  11.0   0.0  0.0  0.0  0.0  0.0  ...  14.0  0.0  0.0   \n",
      "0   0.0  0.0  13.0  16.0  15.0   4.0  0.0  0.0  0.0  0.0  ...   7.0  0.0  0.0   \n",
      "\n",
      "     57    58    59    60    61   62   63  \n",
      "0   0.0   6.0  13.0  10.0   0.0  0.0  0.0  \n",
      "0   0.0   0.0  11.0  16.0  10.0  0.0  0.0  \n",
      "0   0.0   0.0   3.0  11.0  16.0  9.0  0.0  \n",
      "0   0.0   7.0  13.0  13.0   9.0  0.0  0.0  \n",
      "0   0.0   0.0   2.0  16.0   4.0  0.0  0.0  \n",
      "..  ...   ...   ...   ...   ...  ...  ...  \n",
      "0   0.0   0.0   3.0  13.0   5.0  0.0  0.0  \n",
      "0   0.0   0.0  11.0   9.0   0.0  0.0  0.0  \n",
      "0   0.0   0.0  11.0  13.0   0.0  0.0  0.0  \n",
      "0   0.0   0.0   9.0  13.0  11.0  6.0  0.0  \n",
      "0   0.0  15.0  16.0  16.0  11.0  1.0  0.0  \n",
      "\n",
      "[90 rows x 64 columns]\n",
      "     0    1     2     3     4     5    6    7    8    9   ...    54   55   56  \\\n",
      "0   0.0  0.0   5.0  13.0   9.0   1.0  0.0  0.0  0.0  0.0  ...   0.0  0.0  0.0   \n",
      "0   0.0  0.0   0.0  12.0  13.0   5.0  0.0  0.0  0.0  0.0  ...   0.0  0.0  0.0   \n",
      "0   0.0  0.0   0.0   4.0  15.0  12.0  0.0  0.0  0.0  0.0  ...   5.0  0.0  0.0   \n",
      "0   0.0  0.0   7.0  15.0  13.0   1.0  0.0  0.0  0.0  8.0  ...   9.0  0.0  0.0   \n",
      "0   0.0  0.0   0.0   1.0  11.0   0.0  0.0  0.0  0.0  0.0  ...   0.0  0.0  0.0   \n",
      "..  ...  ...   ...   ...   ...   ...  ...  ...  ...  ...  ...   ...  ...  ...   \n",
      "0   0.0  0.0   2.0   7.0  15.0  13.0  1.0  0.0  0.0  0.0  ...   0.0  0.0  0.0   \n",
      "0   0.0  0.0   0.0   9.0  16.0   4.0  0.0  0.0  0.0  1.0  ...   0.0  0.0  0.0   \n",
      "0   0.0  0.0   0.0  10.0  11.0   0.0  0.0  0.0  0.0  0.0  ...  14.0  0.0  0.0   \n",
      "0   0.0  0.0  13.0  16.0  15.0   4.0  0.0  0.0  0.0  0.0  ...   7.0  0.0  0.0   \n",
      "0   0.0  0.0   0.0   1.0  12.0   8.0  1.0  0.0  0.0  0.0  ...   0.0  0.0  0.0   \n",
      "\n",
      "     57    58    59    60    61   62   63  \n",
      "0   0.0   6.0  13.0  10.0   0.0  0.0  0.0  \n",
      "0   0.0   0.0  11.0  16.0  10.0  0.0  0.0  \n",
      "0   0.0   0.0   3.0  11.0  16.0  9.0  0.0  \n",
      "0   0.0   7.0  13.0  13.0   9.0  0.0  0.0  \n",
      "0   0.0   0.0   2.0  16.0   4.0  0.0  0.0  \n",
      "..  ...   ...   ...   ...   ...  ...  ...  \n",
      "0   0.0   0.0  11.0   9.0   0.0  0.0  0.0  \n",
      "0   0.0   0.0  11.0  13.0   0.0  0.0  0.0  \n",
      "0   0.0   0.0   9.0  13.0  11.0  6.0  0.0  \n",
      "0   0.0  15.0  16.0  16.0  11.0  1.0  0.0  \n",
      "0   0.0   0.0   3.0  13.0   4.0  0.0  0.0  \n",
      "\n",
      "[91 rows x 64 columns]\n",
      "     0    1     2     3     4     5    6    7    8    9   ...    54   55   56  \\\n",
      "0   0.0  0.0   5.0  13.0   9.0   1.0  0.0  0.0  0.0  0.0  ...   0.0  0.0  0.0   \n",
      "0   0.0  0.0   0.0  12.0  13.0   5.0  0.0  0.0  0.0  0.0  ...   0.0  0.0  0.0   \n",
      "0   0.0  0.0   0.0   4.0  15.0  12.0  0.0  0.0  0.0  0.0  ...   5.0  0.0  0.0   \n",
      "0   0.0  0.0   7.0  15.0  13.0   1.0  0.0  0.0  0.0  8.0  ...   9.0  0.0  0.0   \n",
      "0   0.0  0.0   0.0   1.0  11.0   0.0  0.0  0.0  0.0  0.0  ...   0.0  0.0  0.0   \n",
      "..  ...  ...   ...   ...   ...   ...  ...  ...  ...  ...  ...   ...  ...  ...   \n",
      "0   0.0  0.0   0.0   9.0  16.0   4.0  0.0  0.0  0.0  1.0  ...   0.0  0.0  0.0   \n",
      "0   0.0  0.0   0.0  10.0  11.0   0.0  0.0  0.0  0.0  0.0  ...  14.0  0.0  0.0   \n",
      "0   0.0  0.0  13.0  16.0  15.0   4.0  0.0  0.0  0.0  0.0  ...   7.0  0.0  0.0   \n",
      "0   0.0  0.0   0.0   1.0  12.0   8.0  1.0  0.0  0.0  0.0  ...   0.0  0.0  0.0   \n",
      "0   0.0  4.0  14.0  16.0  16.0  12.0  1.0  0.0  0.0  2.0  ...   0.0  0.0  0.0   \n",
      "\n",
      "     57    58    59    60    61   62   63  \n",
      "0   0.0   6.0  13.0  10.0   0.0  0.0  0.0  \n",
      "0   0.0   0.0  11.0  16.0  10.0  0.0  0.0  \n",
      "0   0.0   0.0   3.0  11.0  16.0  9.0  0.0  \n",
      "0   0.0   7.0  13.0  13.0   9.0  0.0  0.0  \n",
      "0   0.0   0.0   2.0  16.0   4.0  0.0  0.0  \n",
      "..  ...   ...   ...   ...   ...  ...  ...  \n",
      "0   0.0   0.0  11.0  13.0   0.0  0.0  0.0  \n",
      "0   0.0   0.0   9.0  13.0  11.0  6.0  0.0  \n",
      "0   0.0  15.0  16.0  16.0  11.0  1.0  0.0  \n",
      "0   0.0   0.0   3.0  13.0   4.0  0.0  0.0  \n",
      "0   5.0  16.0  16.0  15.0   1.0  0.0  0.0  \n",
      "\n",
      "[92 rows x 64 columns]\n",
      "     0    1     2     3     4     5    6    7    8    9   ...    54   55   56  \\\n",
      "0   0.0  0.0   5.0  13.0   9.0   1.0  0.0  0.0  0.0  0.0  ...   0.0  0.0  0.0   \n",
      "0   0.0  0.0   0.0  12.0  13.0   5.0  0.0  0.0  0.0  0.0  ...   0.0  0.0  0.0   \n",
      "0   0.0  0.0   0.0   4.0  15.0  12.0  0.0  0.0  0.0  0.0  ...   5.0  0.0  0.0   \n",
      "0   0.0  0.0   7.0  15.0  13.0   1.0  0.0  0.0  0.0  8.0  ...   9.0  0.0  0.0   \n",
      "0   0.0  0.0   0.0   1.0  11.0   0.0  0.0  0.0  0.0  0.0  ...   0.0  0.0  0.0   \n",
      "..  ...  ...   ...   ...   ...   ...  ...  ...  ...  ...  ...   ...  ...  ...   \n",
      "0   0.0  0.0   0.0  10.0  11.0   0.0  0.0  0.0  0.0  0.0  ...  14.0  0.0  0.0   \n",
      "0   0.0  0.0  13.0  16.0  15.0   4.0  0.0  0.0  0.0  0.0  ...   7.0  0.0  0.0   \n",
      "0   0.0  0.0   0.0   1.0  12.0   8.0  1.0  0.0  0.0  0.0  ...   0.0  0.0  0.0   \n",
      "0   0.0  4.0  14.0  16.0  16.0  12.0  1.0  0.0  0.0  2.0  ...   0.0  0.0  0.0   \n",
      "0   0.0  0.0   9.0  13.0  14.0   5.0  0.0  0.0  0.0  4.0  ...   2.0  0.0  0.0   \n",
      "\n",
      "     57    58    59    60    61   62   63  \n",
      "0   0.0   6.0  13.0  10.0   0.0  0.0  0.0  \n",
      "0   0.0   0.0  11.0  16.0  10.0  0.0  0.0  \n",
      "0   0.0   0.0   3.0  11.0  16.0  9.0  0.0  \n",
      "0   0.0   7.0  13.0  13.0   9.0  0.0  0.0  \n",
      "0   0.0   0.0   2.0  16.0   4.0  0.0  0.0  \n",
      "..  ...   ...   ...   ...   ...  ...  ...  \n",
      "0   0.0   0.0   9.0  13.0  11.0  6.0  0.0  \n",
      "0   0.0  15.0  16.0  16.0  11.0  1.0  0.0  \n",
      "0   0.0   0.0   3.0  13.0   4.0  0.0  0.0  \n",
      "0   5.0  16.0  16.0  15.0   1.0  0.0  0.0  \n",
      "0   0.0   7.0  15.0  16.0   9.0  0.0  0.0  \n",
      "\n",
      "[93 rows x 64 columns]\n",
      "     0    1     2     3     4     5    6    7    8    9   ...   54   55   56  \\\n",
      "0   0.0  0.0   5.0  13.0   9.0   1.0  0.0  0.0  0.0  0.0  ...  0.0  0.0  0.0   \n",
      "0   0.0  0.0   0.0  12.0  13.0   5.0  0.0  0.0  0.0  0.0  ...  0.0  0.0  0.0   \n",
      "0   0.0  0.0   0.0   4.0  15.0  12.0  0.0  0.0  0.0  0.0  ...  5.0  0.0  0.0   \n",
      "0   0.0  0.0   7.0  15.0  13.0   1.0  0.0  0.0  0.0  8.0  ...  9.0  0.0  0.0   \n",
      "0   0.0  0.0   0.0   1.0  11.0   0.0  0.0  0.0  0.0  0.0  ...  0.0  0.0  0.0   \n",
      "..  ...  ...   ...   ...   ...   ...  ...  ...  ...  ...  ...  ...  ...  ...   \n",
      "0   0.0  0.0  13.0  16.0  15.0   4.0  0.0  0.0  0.0  0.0  ...  7.0  0.0  0.0   \n",
      "0   0.0  0.0   0.0   1.0  12.0   8.0  1.0  0.0  0.0  0.0  ...  0.0  0.0  0.0   \n",
      "0   0.0  4.0  14.0  16.0  16.0  12.0  1.0  0.0  0.0  2.0  ...  0.0  0.0  0.0   \n",
      "0   0.0  0.0   9.0  13.0  14.0   5.0  0.0  0.0  0.0  4.0  ...  2.0  0.0  0.0   \n",
      "0   0.0  0.0   0.0  11.0  16.0   5.0  0.0  0.0  0.0  0.0  ...  0.0  0.0  0.0   \n",
      "\n",
      "     57    58    59    60    61   62   63  \n",
      "0   0.0   6.0  13.0  10.0   0.0  0.0  0.0  \n",
      "0   0.0   0.0  11.0  16.0  10.0  0.0  0.0  \n",
      "0   0.0   0.0   3.0  11.0  16.0  9.0  0.0  \n",
      "0   0.0   7.0  13.0  13.0   9.0  0.0  0.0  \n",
      "0   0.0   0.0   2.0  16.0   4.0  0.0  0.0  \n",
      "..  ...   ...   ...   ...   ...  ...  ...  \n",
      "0   0.0  15.0  16.0  16.0  11.0  1.0  0.0  \n",
      "0   0.0   0.0   3.0  13.0   4.0  0.0  0.0  \n",
      "0   5.0  16.0  16.0  15.0   1.0  0.0  0.0  \n",
      "0   0.0   7.0  15.0  16.0   9.0  0.0  0.0  \n",
      "0   0.0   0.0   8.0  16.0   8.0  0.0  0.0  \n",
      "\n",
      "[94 rows x 64 columns]\n",
      "     0    1     2     3     4     5    6    7    8    9   ...   54   55   56  \\\n",
      "0   0.0  0.0   5.0  13.0   9.0   1.0  0.0  0.0  0.0  0.0  ...  0.0  0.0  0.0   \n",
      "0   0.0  0.0   0.0  12.0  13.0   5.0  0.0  0.0  0.0  0.0  ...  0.0  0.0  0.0   \n",
      "0   0.0  0.0   0.0   4.0  15.0  12.0  0.0  0.0  0.0  0.0  ...  5.0  0.0  0.0   \n",
      "0   0.0  0.0   7.0  15.0  13.0   1.0  0.0  0.0  0.0  8.0  ...  9.0  0.0  0.0   \n",
      "0   0.0  0.0   0.0   1.0  11.0   0.0  0.0  0.0  0.0  0.0  ...  0.0  0.0  0.0   \n",
      "..  ...  ...   ...   ...   ...   ...  ...  ...  ...  ...  ...  ...  ...  ...   \n",
      "0   0.0  0.0   0.0   1.0  12.0   8.0  1.0  0.0  0.0  0.0  ...  0.0  0.0  0.0   \n",
      "0   0.0  4.0  14.0  16.0  16.0  12.0  1.0  0.0  0.0  2.0  ...  0.0  0.0  0.0   \n",
      "0   0.0  0.0   9.0  13.0  14.0   5.0  0.0  0.0  0.0  4.0  ...  2.0  0.0  0.0   \n",
      "0   0.0  0.0   0.0  11.0  16.0   5.0  0.0  0.0  0.0  0.0  ...  0.0  0.0  0.0   \n",
      "0   0.0  0.0   3.0  12.0  16.0  10.0  0.0  0.0  0.0  2.0  ...  0.0  0.0  0.0   \n",
      "\n",
      "     57    58    59    60    61   62   63  \n",
      "0   0.0   6.0  13.0  10.0   0.0  0.0  0.0  \n",
      "0   0.0   0.0  11.0  16.0  10.0  0.0  0.0  \n",
      "0   0.0   0.0   3.0  11.0  16.0  9.0  0.0  \n",
      "0   0.0   7.0  13.0  13.0   9.0  0.0  0.0  \n",
      "0   0.0   0.0   2.0  16.0   4.0  0.0  0.0  \n",
      "..  ...   ...   ...   ...   ...  ...  ...  \n",
      "0   0.0   0.0   3.0  13.0   4.0  0.0  0.0  \n",
      "0   5.0  16.0  16.0  15.0   1.0  0.0  0.0  \n",
      "0   0.0   7.0  15.0  16.0   9.0  0.0  0.0  \n",
      "0   0.0   0.0   8.0  16.0   8.0  0.0  0.0  \n",
      "0   0.0   5.0  13.0   0.0   0.0  0.0  0.0  \n",
      "\n",
      "[95 rows x 64 columns]\n",
      "     0    1     2     3     4     5    6    7    8    9   ...   54   55   56  \\\n",
      "0   0.0  0.0   5.0  13.0   9.0   1.0  0.0  0.0  0.0  0.0  ...  0.0  0.0  0.0   \n",
      "0   0.0  0.0   0.0  12.0  13.0   5.0  0.0  0.0  0.0  0.0  ...  0.0  0.0  0.0   \n",
      "0   0.0  0.0   0.0   4.0  15.0  12.0  0.0  0.0  0.0  0.0  ...  5.0  0.0  0.0   \n",
      "0   0.0  0.0   7.0  15.0  13.0   1.0  0.0  0.0  0.0  8.0  ...  9.0  0.0  0.0   \n",
      "0   0.0  0.0   0.0   1.0  11.0   0.0  0.0  0.0  0.0  0.0  ...  0.0  0.0  0.0   \n",
      "..  ...  ...   ...   ...   ...   ...  ...  ...  ...  ...  ...  ...  ...  ...   \n",
      "0   0.0  4.0  14.0  16.0  16.0  12.0  1.0  0.0  0.0  2.0  ...  0.0  0.0  0.0   \n",
      "0   0.0  0.0   9.0  13.0  14.0   5.0  0.0  0.0  0.0  4.0  ...  2.0  0.0  0.0   \n",
      "0   0.0  0.0   0.0  11.0  16.0   5.0  0.0  0.0  0.0  0.0  ...  0.0  0.0  0.0   \n",
      "0   0.0  0.0   3.0  12.0  16.0  10.0  0.0  0.0  0.0  2.0  ...  0.0  0.0  0.0   \n",
      "0   0.0  0.0   0.0  11.0  16.0   8.0  0.0  0.0  0.0  0.0  ...  0.0  0.0  0.0   \n",
      "\n",
      "     57    58    59    60    61   62   63  \n",
      "0   0.0   6.0  13.0  10.0   0.0  0.0  0.0  \n",
      "0   0.0   0.0  11.0  16.0  10.0  0.0  0.0  \n",
      "0   0.0   0.0   3.0  11.0  16.0  9.0  0.0  \n",
      "0   0.0   7.0  13.0  13.0   9.0  0.0  0.0  \n",
      "0   0.0   0.0   2.0  16.0   4.0  0.0  0.0  \n",
      "..  ...   ...   ...   ...   ...  ...  ...  \n",
      "0   5.0  16.0  16.0  15.0   1.0  0.0  0.0  \n",
      "0   0.0   7.0  15.0  16.0   9.0  0.0  0.0  \n",
      "0   0.0   0.0   8.0  16.0   8.0  0.0  0.0  \n",
      "0   0.0   5.0  13.0   0.0   0.0  0.0  0.0  \n",
      "0   0.0   0.0  12.0  16.0  15.0  0.0  0.0  \n",
      "\n",
      "[96 rows x 64 columns]\n",
      "     0    1    2     3     4     5    6    7    8    9   ...   54   55   56  \\\n",
      "0   0.0  0.0  5.0  13.0   9.0   1.0  0.0  0.0  0.0  0.0  ...  0.0  0.0  0.0   \n",
      "0   0.0  0.0  0.0  12.0  13.0   5.0  0.0  0.0  0.0  0.0  ...  0.0  0.0  0.0   \n",
      "0   0.0  0.0  0.0   4.0  15.0  12.0  0.0  0.0  0.0  0.0  ...  5.0  0.0  0.0   \n",
      "0   0.0  0.0  7.0  15.0  13.0   1.0  0.0  0.0  0.0  8.0  ...  9.0  0.0  0.0   \n",
      "0   0.0  0.0  0.0   1.0  11.0   0.0  0.0  0.0  0.0  0.0  ...  0.0  0.0  0.0   \n",
      "..  ...  ...  ...   ...   ...   ...  ...  ...  ...  ...  ...  ...  ...  ...   \n",
      "0   0.0  0.0  9.0  13.0  14.0   5.0  0.0  0.0  0.0  4.0  ...  2.0  0.0  0.0   \n",
      "0   0.0  0.0  0.0  11.0  16.0   5.0  0.0  0.0  0.0  0.0  ...  0.0  0.0  0.0   \n",
      "0   0.0  0.0  3.0  12.0  16.0  10.0  0.0  0.0  0.0  2.0  ...  0.0  0.0  0.0   \n",
      "0   0.0  0.0  0.0  11.0  16.0   8.0  0.0  0.0  0.0  0.0  ...  0.0  0.0  0.0   \n",
      "0   0.0  1.0  9.0  16.0  15.0  10.0  0.0  0.0  0.0  6.0  ...  0.0  0.0  0.0   \n",
      "\n",
      "     57    58    59    60    61   62   63  \n",
      "0   0.0   6.0  13.0  10.0   0.0  0.0  0.0  \n",
      "0   0.0   0.0  11.0  16.0  10.0  0.0  0.0  \n",
      "0   0.0   0.0   3.0  11.0  16.0  9.0  0.0  \n",
      "0   0.0   7.0  13.0  13.0   9.0  0.0  0.0  \n",
      "0   0.0   0.0   2.0  16.0   4.0  0.0  0.0  \n",
      "..  ...   ...   ...   ...   ...  ...  ...  \n",
      "0   0.0   7.0  15.0  16.0   9.0  0.0  0.0  \n",
      "0   0.0   0.0   8.0  16.0   8.0  0.0  0.0  \n",
      "0   0.0   5.0  13.0   0.0   0.0  0.0  0.0  \n",
      "0   0.0   0.0  12.0  16.0  15.0  0.0  0.0  \n",
      "0   0.0  11.0  16.0   8.0   0.0  0.0  0.0  \n",
      "\n",
      "[97 rows x 64 columns]\n",
      "     0    1    2     3     4     5    6    7    8    9   ...   54   55   56  \\\n",
      "0   0.0  0.0  5.0  13.0   9.0   1.0  0.0  0.0  0.0  0.0  ...  0.0  0.0  0.0   \n",
      "0   0.0  0.0  0.0  12.0  13.0   5.0  0.0  0.0  0.0  0.0  ...  0.0  0.0  0.0   \n",
      "0   0.0  0.0  0.0   4.0  15.0  12.0  0.0  0.0  0.0  0.0  ...  5.0  0.0  0.0   \n",
      "0   0.0  0.0  7.0  15.0  13.0   1.0  0.0  0.0  0.0  8.0  ...  9.0  0.0  0.0   \n",
      "0   0.0  0.0  0.0   1.0  11.0   0.0  0.0  0.0  0.0  0.0  ...  0.0  0.0  0.0   \n",
      "..  ...  ...  ...   ...   ...   ...  ...  ...  ...  ...  ...  ...  ...  ...   \n",
      "0   0.0  0.0  0.0  11.0  16.0   5.0  0.0  0.0  0.0  0.0  ...  0.0  0.0  0.0   \n",
      "0   0.0  0.0  3.0  12.0  16.0  10.0  0.0  0.0  0.0  2.0  ...  0.0  0.0  0.0   \n",
      "0   0.0  0.0  0.0  11.0  16.0   8.0  0.0  0.0  0.0  0.0  ...  0.0  0.0  0.0   \n",
      "0   0.0  1.0  9.0  16.0  15.0  10.0  0.0  0.0  0.0  6.0  ...  0.0  0.0  0.0   \n",
      "0   0.0  0.0  0.0   3.0  14.0   1.0  0.0  0.0  0.0  0.0  ...  0.0  0.0  0.0   \n",
      "\n",
      "     57    58    59    60    61   62   63  \n",
      "0   0.0   6.0  13.0  10.0   0.0  0.0  0.0  \n",
      "0   0.0   0.0  11.0  16.0  10.0  0.0  0.0  \n",
      "0   0.0   0.0   3.0  11.0  16.0  9.0  0.0  \n",
      "0   0.0   7.0  13.0  13.0   9.0  0.0  0.0  \n",
      "0   0.0   0.0   2.0  16.0   4.0  0.0  0.0  \n",
      "..  ...   ...   ...   ...   ...  ...  ...  \n",
      "0   0.0   0.0   8.0  16.0   8.0  0.0  0.0  \n",
      "0   0.0   5.0  13.0   0.0   0.0  0.0  0.0  \n",
      "0   0.0   0.0  12.0  16.0  15.0  0.0  0.0  \n",
      "0   0.0  11.0  16.0   8.0   0.0  0.0  0.0  \n",
      "0   0.0   0.0   2.0  16.0   7.0  0.0  0.0  \n",
      "\n",
      "[98 rows x 64 columns]\n",
      "     0    1     2     3     4     5    6    7    8    9   ...   54   55   56  \\\n",
      "0   0.0  0.0   5.0  13.0   9.0   1.0  0.0  0.0  0.0  0.0  ...  0.0  0.0  0.0   \n",
      "0   0.0  0.0   0.0  12.0  13.0   5.0  0.0  0.0  0.0  0.0  ...  0.0  0.0  0.0   \n",
      "0   0.0  0.0   0.0   4.0  15.0  12.0  0.0  0.0  0.0  0.0  ...  5.0  0.0  0.0   \n",
      "0   0.0  0.0   7.0  15.0  13.0   1.0  0.0  0.0  0.0  8.0  ...  9.0  0.0  0.0   \n",
      "0   0.0  0.0   0.0   1.0  11.0   0.0  0.0  0.0  0.0  0.0  ...  0.0  0.0  0.0   \n",
      "..  ...  ...   ...   ...   ...   ...  ...  ...  ...  ...  ...  ...  ...  ...   \n",
      "0   0.0  0.0   3.0  12.0  16.0  10.0  0.0  0.0  0.0  2.0  ...  0.0  0.0  0.0   \n",
      "0   0.0  0.0   0.0  11.0  16.0   8.0  0.0  0.0  0.0  0.0  ...  0.0  0.0  0.0   \n",
      "0   0.0  1.0   9.0  16.0  15.0  10.0  0.0  0.0  0.0  6.0  ...  0.0  0.0  0.0   \n",
      "0   0.0  0.0   0.0   3.0  14.0   1.0  0.0  0.0  0.0  0.0  ...  0.0  0.0  0.0   \n",
      "0   0.0  2.0  15.0  16.0  16.0  13.0  2.0  0.0  0.0  1.0  ...  3.0  0.0  0.0   \n",
      "\n",
      "     57    58    59    60    61   62   63  \n",
      "0   0.0   6.0  13.0  10.0   0.0  0.0  0.0  \n",
      "0   0.0   0.0  11.0  16.0  10.0  0.0  0.0  \n",
      "0   0.0   0.0   3.0  11.0  16.0  9.0  0.0  \n",
      "0   0.0   7.0  13.0  13.0   9.0  0.0  0.0  \n",
      "0   0.0   0.0   2.0  16.0   4.0  0.0  0.0  \n",
      "..  ...   ...   ...   ...   ...  ...  ...  \n",
      "0   0.0   5.0  13.0   0.0   0.0  0.0  0.0  \n",
      "0   0.0   0.0  12.0  16.0  15.0  0.0  0.0  \n",
      "0   0.0  11.0  16.0   8.0   0.0  0.0  0.0  \n",
      "0   0.0   0.0   2.0  16.0   7.0  0.0  0.0  \n",
      "0   2.0  15.0  16.0  14.0   5.0  0.0  0.0  \n",
      "\n",
      "[99 rows x 64 columns]\n",
      "     0    1     2     3     4     5    6    7    8    9   ...   54   55   56  \\\n",
      "0   0.0  0.0   5.0  13.0   9.0   1.0  0.0  0.0  0.0  0.0  ...  0.0  0.0  0.0   \n",
      "0   0.0  0.0   0.0  12.0  13.0   5.0  0.0  0.0  0.0  0.0  ...  0.0  0.0  0.0   \n",
      "0   0.0  0.0   0.0   4.0  15.0  12.0  0.0  0.0  0.0  0.0  ...  5.0  0.0  0.0   \n",
      "0   0.0  0.0   7.0  15.0  13.0   1.0  0.0  0.0  0.0  8.0  ...  9.0  0.0  0.0   \n",
      "0   0.0  0.0   0.0   1.0  11.0   0.0  0.0  0.0  0.0  0.0  ...  0.0  0.0  0.0   \n",
      "..  ...  ...   ...   ...   ...   ...  ...  ...  ...  ...  ...  ...  ...  ...   \n",
      "0   0.0  0.0   0.0  11.0  16.0   8.0  0.0  0.0  0.0  0.0  ...  0.0  0.0  0.0   \n",
      "0   0.0  1.0   9.0  16.0  15.0  10.0  0.0  0.0  0.0  6.0  ...  0.0  0.0  0.0   \n",
      "0   0.0  0.0   0.0   3.0  14.0   1.0  0.0  0.0  0.0  0.0  ...  0.0  0.0  0.0   \n",
      "0   0.0  2.0  15.0  16.0  16.0  13.0  2.0  0.0  0.0  1.0  ...  3.0  0.0  0.0   \n",
      "0   0.0  0.0   1.0  15.0  13.0   0.0  0.0  0.0  0.0  0.0  ...  0.0  0.0  0.0   \n",
      "\n",
      "     57    58    59    60    61   62   63  \n",
      "0   0.0   6.0  13.0  10.0   0.0  0.0  0.0  \n",
      "0   0.0   0.0  11.0  16.0  10.0  0.0  0.0  \n",
      "0   0.0   0.0   3.0  11.0  16.0  9.0  0.0  \n",
      "0   0.0   7.0  13.0  13.0   9.0  0.0  0.0  \n",
      "0   0.0   0.0   2.0  16.0   4.0  0.0  0.0  \n",
      "..  ...   ...   ...   ...   ...  ...  ...  \n",
      "0   0.0   0.0  12.0  16.0  15.0  0.0  0.0  \n",
      "0   0.0  11.0  16.0   8.0   0.0  0.0  0.0  \n",
      "0   0.0   0.0   2.0  16.0   7.0  0.0  0.0  \n",
      "0   2.0  15.0  16.0  14.0   5.0  0.0  0.0  \n",
      "0   0.0   1.0  14.0  16.0   3.0  0.0  0.0  \n",
      "\n",
      "[100 rows x 64 columns]\n",
      "     0    1     2     3     4     5    6    7    8    9   ...   54   55   56  \\\n",
      "0   0.0  0.0   5.0  13.0   9.0   1.0  0.0  0.0  0.0  0.0  ...  0.0  0.0  0.0   \n",
      "0   0.0  0.0   0.0  12.0  13.0   5.0  0.0  0.0  0.0  0.0  ...  0.0  0.0  0.0   \n",
      "0   0.0  0.0   0.0   4.0  15.0  12.0  0.0  0.0  0.0  0.0  ...  5.0  0.0  0.0   \n",
      "0   0.0  0.0   7.0  15.0  13.0   1.0  0.0  0.0  0.0  8.0  ...  9.0  0.0  0.0   \n",
      "0   0.0  0.0   0.0   1.0  11.0   0.0  0.0  0.0  0.0  0.0  ...  0.0  0.0  0.0   \n",
      "..  ...  ...   ...   ...   ...   ...  ...  ...  ...  ...  ...  ...  ...  ...   \n",
      "0   0.0  1.0   9.0  16.0  15.0  10.0  0.0  0.0  0.0  6.0  ...  0.0  0.0  0.0   \n",
      "0   0.0  0.0   0.0   3.0  14.0   1.0  0.0  0.0  0.0  0.0  ...  0.0  0.0  0.0   \n",
      "0   0.0  2.0  15.0  16.0  16.0  13.0  2.0  0.0  0.0  1.0  ...  3.0  0.0  0.0   \n",
      "0   0.0  0.0   1.0  15.0  13.0   0.0  0.0  0.0  0.0  0.0  ...  0.0  0.0  0.0   \n",
      "0   0.0  0.0   0.0   2.0  13.0   0.0  0.0  0.0  0.0  0.0  ...  0.0  0.0  0.0   \n",
      "\n",
      "     57    58    59    60    61   62   63  \n",
      "0   0.0   6.0  13.0  10.0   0.0  0.0  0.0  \n",
      "0   0.0   0.0  11.0  16.0  10.0  0.0  0.0  \n",
      "0   0.0   0.0   3.0  11.0  16.0  9.0  0.0  \n",
      "0   0.0   7.0  13.0  13.0   9.0  0.0  0.0  \n",
      "0   0.0   0.0   2.0  16.0   4.0  0.0  0.0  \n",
      "..  ...   ...   ...   ...   ...  ...  ...  \n",
      "0   0.0  11.0  16.0   8.0   0.0  0.0  0.0  \n",
      "0   0.0   0.0   2.0  16.0   7.0  0.0  0.0  \n",
      "0   2.0  15.0  16.0  14.0   5.0  0.0  0.0  \n",
      "0   0.0   1.0  14.0  16.0   3.0  0.0  0.0  \n",
      "0   0.0   0.0   0.0  13.0   6.0  0.0  0.0  \n",
      "\n",
      "[101 rows x 64 columns]\n",
      "     0    1     2     3     4     5    6    7    8    9   ...   54   55   56  \\\n",
      "0   0.0  0.0   5.0  13.0   9.0   1.0  0.0  0.0  0.0  0.0  ...  0.0  0.0  0.0   \n",
      "0   0.0  0.0   0.0  12.0  13.0   5.0  0.0  0.0  0.0  0.0  ...  0.0  0.0  0.0   \n",
      "0   0.0  0.0   0.0   4.0  15.0  12.0  0.0  0.0  0.0  0.0  ...  5.0  0.0  0.0   \n",
      "0   0.0  0.0   7.0  15.0  13.0   1.0  0.0  0.0  0.0  8.0  ...  9.0  0.0  0.0   \n",
      "0   0.0  0.0   0.0   1.0  11.0   0.0  0.0  0.0  0.0  0.0  ...  0.0  0.0  0.0   \n",
      "..  ...  ...   ...   ...   ...   ...  ...  ...  ...  ...  ...  ...  ...  ...   \n",
      "0   0.0  0.0   0.0   3.0  14.0   1.0  0.0  0.0  0.0  0.0  ...  0.0  0.0  0.0   \n",
      "0   0.0  2.0  15.0  16.0  16.0  13.0  2.0  0.0  0.0  1.0  ...  3.0  0.0  0.0   \n",
      "0   0.0  0.0   1.0  15.0  13.0   0.0  0.0  0.0  0.0  0.0  ...  0.0  0.0  0.0   \n",
      "0   0.0  0.0   0.0   2.0  13.0   0.0  0.0  0.0  0.0  0.0  ...  0.0  0.0  0.0   \n",
      "0   0.0  0.0   1.0  12.0   5.0   0.0  0.0  0.0  0.0  0.0  ...  6.0  0.0  0.0   \n",
      "\n",
      "     57    58    59    60    61   62   63  \n",
      "0   0.0   6.0  13.0  10.0   0.0  0.0  0.0  \n",
      "0   0.0   0.0  11.0  16.0  10.0  0.0  0.0  \n",
      "0   0.0   0.0   3.0  11.0  16.0  9.0  0.0  \n",
      "0   0.0   7.0  13.0  13.0   9.0  0.0  0.0  \n",
      "0   0.0   0.0   2.0  16.0   4.0  0.0  0.0  \n",
      "..  ...   ...   ...   ...   ...  ...  ...  \n",
      "0   0.0   0.0   2.0  16.0   7.0  0.0  0.0  \n",
      "0   2.0  15.0  16.0  14.0   5.0  0.0  0.0  \n",
      "0   0.0   1.0  14.0  16.0   3.0  0.0  0.0  \n",
      "0   0.0   0.0   0.0  13.0   6.0  0.0  0.0  \n",
      "0   0.0   3.0  10.0  16.0  12.0  1.0  0.0  \n",
      "\n",
      "[102 rows x 64 columns]\n",
      "     0    1     2     3     4     5    6    7    8    9   ...   54   55   56  \\\n",
      "0   0.0  0.0   5.0  13.0   9.0   1.0  0.0  0.0  0.0  0.0  ...  0.0  0.0  0.0   \n",
      "0   0.0  0.0   0.0  12.0  13.0   5.0  0.0  0.0  0.0  0.0  ...  0.0  0.0  0.0   \n",
      "0   0.0  0.0   0.0   4.0  15.0  12.0  0.0  0.0  0.0  0.0  ...  5.0  0.0  0.0   \n",
      "0   0.0  0.0   7.0  15.0  13.0   1.0  0.0  0.0  0.0  8.0  ...  9.0  0.0  0.0   \n",
      "0   0.0  0.0   0.0   1.0  11.0   0.0  0.0  0.0  0.0  0.0  ...  0.0  0.0  0.0   \n",
      "..  ...  ...   ...   ...   ...   ...  ...  ...  ...  ...  ...  ...  ...  ...   \n",
      "0   0.0  2.0  15.0  16.0  16.0  13.0  2.0  0.0  0.0  1.0  ...  3.0  0.0  0.0   \n",
      "0   0.0  0.0   1.0  15.0  13.0   0.0  0.0  0.0  0.0  0.0  ...  0.0  0.0  0.0   \n",
      "0   0.0  0.0   0.0   2.0  13.0   0.0  0.0  0.0  0.0  0.0  ...  0.0  0.0  0.0   \n",
      "0   0.0  0.0   1.0  12.0   5.0   0.0  0.0  0.0  0.0  0.0  ...  6.0  0.0  0.0   \n",
      "0   0.0  0.0  12.0  16.0  16.0   8.0  0.0  0.0  0.0  3.0  ...  0.0  0.0  0.0   \n",
      "\n",
      "     57    58    59    60    61   62   63  \n",
      "0   0.0   6.0  13.0  10.0   0.0  0.0  0.0  \n",
      "0   0.0   0.0  11.0  16.0  10.0  0.0  0.0  \n",
      "0   0.0   0.0   3.0  11.0  16.0  9.0  0.0  \n",
      "0   0.0   7.0  13.0  13.0   9.0  0.0  0.0  \n",
      "0   0.0   0.0   2.0  16.0   4.0  0.0  0.0  \n",
      "..  ...   ...   ...   ...   ...  ...  ...  \n",
      "0   2.0  15.0  16.0  14.0   5.0  0.0  0.0  \n",
      "0   0.0   1.0  14.0  16.0   3.0  0.0  0.0  \n",
      "0   0.0   0.0   0.0  13.0   6.0  0.0  0.0  \n",
      "0   0.0   3.0  10.0  16.0  12.0  1.0  0.0  \n",
      "0   0.0  11.0  16.0  12.0   0.0  0.0  0.0  \n",
      "\n",
      "[103 rows x 64 columns]\n",
      "     0    1     2     3     4     5    6    7    8    9   ...   54   55   56  \\\n",
      "0   0.0  0.0   5.0  13.0   9.0   1.0  0.0  0.0  0.0  0.0  ...  0.0  0.0  0.0   \n",
      "0   0.0  0.0   0.0  12.0  13.0   5.0  0.0  0.0  0.0  0.0  ...  0.0  0.0  0.0   \n",
      "0   0.0  0.0   0.0   4.0  15.0  12.0  0.0  0.0  0.0  0.0  ...  5.0  0.0  0.0   \n",
      "0   0.0  0.0   7.0  15.0  13.0   1.0  0.0  0.0  0.0  8.0  ...  9.0  0.0  0.0   \n",
      "0   0.0  0.0   0.0   1.0  11.0   0.0  0.0  0.0  0.0  0.0  ...  0.0  0.0  0.0   \n",
      "..  ...  ...   ...   ...   ...   ...  ...  ...  ...  ...  ...  ...  ...  ...   \n",
      "0   0.0  0.0   1.0  15.0  13.0   0.0  0.0  0.0  0.0  0.0  ...  0.0  0.0  0.0   \n",
      "0   0.0  0.0   0.0   2.0  13.0   0.0  0.0  0.0  0.0  0.0  ...  0.0  0.0  0.0   \n",
      "0   0.0  0.0   1.0  12.0   5.0   0.0  0.0  0.0  0.0  0.0  ...  6.0  0.0  0.0   \n",
      "0   0.0  0.0  12.0  16.0  16.0   8.0  0.0  0.0  0.0  3.0  ...  0.0  0.0  0.0   \n",
      "0   0.0  4.0  13.0  16.0  16.0  12.0  3.0  0.0  0.0  3.0  ...  0.0  0.0  0.0   \n",
      "\n",
      "     57    58    59    60    61   62   63  \n",
      "0   0.0   6.0  13.0  10.0   0.0  0.0  0.0  \n",
      "0   0.0   0.0  11.0  16.0  10.0  0.0  0.0  \n",
      "0   0.0   0.0   3.0  11.0  16.0  9.0  0.0  \n",
      "0   0.0   7.0  13.0  13.0   9.0  0.0  0.0  \n",
      "0   0.0   0.0   2.0  16.0   4.0  0.0  0.0  \n",
      "..  ...   ...   ...   ...   ...  ...  ...  \n",
      "0   0.0   1.0  14.0  16.0   3.0  0.0  0.0  \n",
      "0   0.0   0.0   0.0  13.0   6.0  0.0  0.0  \n",
      "0   0.0   3.0  10.0  16.0  12.0  1.0  0.0  \n",
      "0   0.0  11.0  16.0  12.0   0.0  0.0  0.0  \n",
      "0   3.0  15.0  12.0   2.0   0.0  0.0  0.0  \n",
      "\n",
      "[104 rows x 64 columns]\n",
      "     0    1     2     3     4     5    6    7    8    9   ...   54   55   56  \\\n",
      "0   0.0  0.0   5.0  13.0   9.0   1.0  0.0  0.0  0.0  0.0  ...  0.0  0.0  0.0   \n",
      "0   0.0  0.0   0.0  12.0  13.0   5.0  0.0  0.0  0.0  0.0  ...  0.0  0.0  0.0   \n",
      "0   0.0  0.0   0.0   4.0  15.0  12.0  0.0  0.0  0.0  0.0  ...  5.0  0.0  0.0   \n",
      "0   0.0  0.0   7.0  15.0  13.0   1.0  0.0  0.0  0.0  8.0  ...  9.0  0.0  0.0   \n",
      "0   0.0  0.0   0.0   1.0  11.0   0.0  0.0  0.0  0.0  0.0  ...  0.0  0.0  0.0   \n",
      "..  ...  ...   ...   ...   ...   ...  ...  ...  ...  ...  ...  ...  ...  ...   \n",
      "0   0.0  0.0   0.0   2.0  13.0   0.0  0.0  0.0  0.0  0.0  ...  0.0  0.0  0.0   \n",
      "0   0.0  0.0   1.0  12.0   5.0   0.0  0.0  0.0  0.0  0.0  ...  6.0  0.0  0.0   \n",
      "0   0.0  0.0  12.0  16.0  16.0   8.0  0.0  0.0  0.0  3.0  ...  0.0  0.0  0.0   \n",
      "0   0.0  4.0  13.0  16.0  16.0  12.0  3.0  0.0  0.0  3.0  ...  0.0  0.0  0.0   \n",
      "0   0.0  0.0   0.0   8.0  14.0   4.0  0.0  0.0  0.0  0.0  ...  0.0  0.0  0.0   \n",
      "\n",
      "     57    58    59    60    61   62   63  \n",
      "0   0.0   6.0  13.0  10.0   0.0  0.0  0.0  \n",
      "0   0.0   0.0  11.0  16.0  10.0  0.0  0.0  \n",
      "0   0.0   0.0   3.0  11.0  16.0  9.0  0.0  \n",
      "0   0.0   7.0  13.0  13.0   9.0  0.0  0.0  \n",
      "0   0.0   0.0   2.0  16.0   4.0  0.0  0.0  \n",
      "..  ...   ...   ...   ...   ...  ...  ...  \n",
      "0   0.0   0.0   0.0  13.0   6.0  0.0  0.0  \n",
      "0   0.0   3.0  10.0  16.0  12.0  1.0  0.0  \n",
      "0   0.0  11.0  16.0  12.0   0.0  0.0  0.0  \n",
      "0   3.0  15.0  12.0   2.0   0.0  0.0  0.0  \n",
      "0   0.0   0.0  10.0  13.0   8.0  0.0  0.0  \n",
      "\n",
      "[105 rows x 64 columns]\n",
      "     0    1     2     3     4     5    6    7    8    9   ...    54   55   56  \\\n",
      "0   0.0  0.0   5.0  13.0   9.0   1.0  0.0  0.0  0.0  0.0  ...   0.0  0.0  0.0   \n",
      "0   0.0  0.0   0.0  12.0  13.0   5.0  0.0  0.0  0.0  0.0  ...   0.0  0.0  0.0   \n",
      "0   0.0  0.0   0.0   4.0  15.0  12.0  0.0  0.0  0.0  0.0  ...   5.0  0.0  0.0   \n",
      "0   0.0  0.0   7.0  15.0  13.0   1.0  0.0  0.0  0.0  8.0  ...   9.0  0.0  0.0   \n",
      "0   0.0  0.0   0.0   1.0  11.0   0.0  0.0  0.0  0.0  0.0  ...   0.0  0.0  0.0   \n",
      "..  ...  ...   ...   ...   ...   ...  ...  ...  ...  ...  ...   ...  ...  ...   \n",
      "0   0.0  0.0   1.0  12.0   5.0   0.0  0.0  0.0  0.0  0.0  ...   6.0  0.0  0.0   \n",
      "0   0.0  0.0  12.0  16.0  16.0   8.0  0.0  0.0  0.0  3.0  ...   0.0  0.0  0.0   \n",
      "0   0.0  4.0  13.0  16.0  16.0  12.0  3.0  0.0  0.0  3.0  ...   0.0  0.0  0.0   \n",
      "0   0.0  0.0   0.0   8.0  14.0   4.0  0.0  0.0  0.0  0.0  ...   0.0  0.0  0.0   \n",
      "0   0.0  0.0   9.0  15.0   5.0   0.0  0.0  0.0  0.0  0.0  ...  15.0  0.0  0.0   \n",
      "\n",
      "     57    58    59    60    61   62   63  \n",
      "0   0.0   6.0  13.0  10.0   0.0  0.0  0.0  \n",
      "0   0.0   0.0  11.0  16.0  10.0  0.0  0.0  \n",
      "0   0.0   0.0   3.0  11.0  16.0  9.0  0.0  \n",
      "0   0.0   7.0  13.0  13.0   9.0  0.0  0.0  \n",
      "0   0.0   0.0   2.0  16.0   4.0  0.0  0.0  \n",
      "..  ...   ...   ...   ...   ...  ...  ...  \n",
      "0   0.0   3.0  10.0  16.0  12.0  1.0  0.0  \n",
      "0   0.0  11.0  16.0  12.0   0.0  0.0  0.0  \n",
      "0   3.0  15.0  12.0   2.0   0.0  0.0  0.0  \n",
      "0   0.0   0.0  10.0  13.0   8.0  0.0  0.0  \n",
      "0   0.0   5.0  12.0  12.0   9.0  1.0  0.0  \n",
      "\n",
      "[106 rows x 64 columns]\n",
      "     0    1     2     3     4     5    6    7    8    9   ...    54   55   56  \\\n",
      "0   0.0  0.0   5.0  13.0   9.0   1.0  0.0  0.0  0.0  0.0  ...   0.0  0.0  0.0   \n",
      "0   0.0  0.0   0.0  12.0  13.0   5.0  0.0  0.0  0.0  0.0  ...   0.0  0.0  0.0   \n",
      "0   0.0  0.0   0.0   4.0  15.0  12.0  0.0  0.0  0.0  0.0  ...   5.0  0.0  0.0   \n",
      "0   0.0  0.0   7.0  15.0  13.0   1.0  0.0  0.0  0.0  8.0  ...   9.0  0.0  0.0   \n",
      "0   0.0  0.0   0.0   1.0  11.0   0.0  0.0  0.0  0.0  0.0  ...   0.0  0.0  0.0   \n",
      "..  ...  ...   ...   ...   ...   ...  ...  ...  ...  ...  ...   ...  ...  ...   \n",
      "0   0.0  0.0  12.0  16.0  16.0   8.0  0.0  0.0  0.0  3.0  ...   0.0  0.0  0.0   \n",
      "0   0.0  4.0  13.0  16.0  16.0  12.0  3.0  0.0  0.0  3.0  ...   0.0  0.0  0.0   \n",
      "0   0.0  0.0   0.0   8.0  14.0   4.0  0.0  0.0  0.0  0.0  ...   0.0  0.0  0.0   \n",
      "0   0.0  0.0   9.0  15.0   5.0   0.0  0.0  0.0  0.0  0.0  ...  15.0  0.0  0.0   \n",
      "0   0.0  0.0   0.0   5.0  11.0   1.0  0.0  0.0  0.0  0.0  ...   6.0  0.0  0.0   \n",
      "\n",
      "     57    58    59    60    61   62   63  \n",
      "0   0.0   6.0  13.0  10.0   0.0  0.0  0.0  \n",
      "0   0.0   0.0  11.0  16.0  10.0  0.0  0.0  \n",
      "0   0.0   0.0   3.0  11.0  16.0  9.0  0.0  \n",
      "0   0.0   7.0  13.0  13.0   9.0  0.0  0.0  \n",
      "0   0.0   0.0   2.0  16.0   4.0  0.0  0.0  \n",
      "..  ...   ...   ...   ...   ...  ...  ...  \n",
      "0   0.0  11.0  16.0  12.0   0.0  0.0  0.0  \n",
      "0   3.0  15.0  12.0   2.0   0.0  0.0  0.0  \n",
      "0   0.0   0.0  10.0  13.0   8.0  0.0  0.0  \n",
      "0   0.0   5.0  12.0  12.0   9.0  1.0  0.0  \n",
      "0   0.0   0.0   6.0  14.0  16.0  8.0  0.0  \n",
      "\n",
      "[107 rows x 64 columns]\n",
      "     0    1     2     3     4     5    6    7    8    9   ...    54   55   56  \\\n",
      "0   0.0  0.0   5.0  13.0   9.0   1.0  0.0  0.0  0.0  0.0  ...   0.0  0.0  0.0   \n",
      "0   0.0  0.0   0.0  12.0  13.0   5.0  0.0  0.0  0.0  0.0  ...   0.0  0.0  0.0   \n",
      "0   0.0  0.0   0.0   4.0  15.0  12.0  0.0  0.0  0.0  0.0  ...   5.0  0.0  0.0   \n",
      "0   0.0  0.0   7.0  15.0  13.0   1.0  0.0  0.0  0.0  8.0  ...   9.0  0.0  0.0   \n",
      "0   0.0  0.0   0.0   1.0  11.0   0.0  0.0  0.0  0.0  0.0  ...   0.0  0.0  0.0   \n",
      "..  ...  ...   ...   ...   ...   ...  ...  ...  ...  ...  ...   ...  ...  ...   \n",
      "0   0.0  4.0  13.0  16.0  16.0  12.0  3.0  0.0  0.0  3.0  ...   0.0  0.0  0.0   \n",
      "0   0.0  0.0   0.0   8.0  14.0   4.0  0.0  0.0  0.0  0.0  ...   0.0  0.0  0.0   \n",
      "0   0.0  0.0   9.0  15.0   5.0   0.0  0.0  0.0  0.0  0.0  ...  15.0  0.0  0.0   \n",
      "0   0.0  0.0   0.0   5.0  11.0   1.0  0.0  0.0  0.0  0.0  ...   6.0  0.0  0.0   \n",
      "0   0.0  0.0   0.0   0.0   6.0  10.0  0.0  0.0  0.0  0.0  ...   0.0  0.0  0.0   \n",
      "\n",
      "     57    58    59    60    61   62   63  \n",
      "0   0.0   6.0  13.0  10.0   0.0  0.0  0.0  \n",
      "0   0.0   0.0  11.0  16.0  10.0  0.0  0.0  \n",
      "0   0.0   0.0   3.0  11.0  16.0  9.0  0.0  \n",
      "0   0.0   7.0  13.0  13.0   9.0  0.0  0.0  \n",
      "0   0.0   0.0   2.0  16.0   4.0  0.0  0.0  \n",
      "..  ...   ...   ...   ...   ...  ...  ...  \n",
      "0   3.0  15.0  12.0   2.0   0.0  0.0  0.0  \n",
      "0   0.0   0.0  10.0  13.0   8.0  0.0  0.0  \n",
      "0   0.0   5.0  12.0  12.0   9.0  1.0  0.0  \n",
      "0   0.0   0.0   6.0  14.0  16.0  8.0  0.0  \n",
      "0   0.0   0.0   0.0   8.0  15.0  0.0  0.0  \n",
      "\n",
      "[108 rows x 64 columns]\n",
      "     0    1    2     3     4     5    6    7    8    9   ...    54   55   56  \\\n",
      "0   0.0  0.0  5.0  13.0   9.0   1.0  0.0  0.0  0.0  0.0  ...   0.0  0.0  0.0   \n",
      "0   0.0  0.0  0.0  12.0  13.0   5.0  0.0  0.0  0.0  0.0  ...   0.0  0.0  0.0   \n",
      "0   0.0  0.0  0.0   4.0  15.0  12.0  0.0  0.0  0.0  0.0  ...   5.0  0.0  0.0   \n",
      "0   0.0  0.0  7.0  15.0  13.0   1.0  0.0  0.0  0.0  8.0  ...   9.0  0.0  0.0   \n",
      "0   0.0  0.0  0.0   1.0  11.0   0.0  0.0  0.0  0.0  0.0  ...   0.0  0.0  0.0   \n",
      "..  ...  ...  ...   ...   ...   ...  ...  ...  ...  ...  ...   ...  ...  ...   \n",
      "0   0.0  0.0  0.0   8.0  14.0   4.0  0.0  0.0  0.0  0.0  ...   0.0  0.0  0.0   \n",
      "0   0.0  0.0  9.0  15.0   5.0   0.0  0.0  0.0  0.0  0.0  ...  15.0  0.0  0.0   \n",
      "0   0.0  0.0  0.0   5.0  11.0   1.0  0.0  0.0  0.0  0.0  ...   6.0  0.0  0.0   \n",
      "0   0.0  0.0  0.0   0.0   6.0  10.0  0.0  0.0  0.0  0.0  ...   0.0  0.0  0.0   \n",
      "0   0.0  0.0  2.0  11.0  16.0   4.0  0.0  0.0  0.0  0.0  ...   0.0  0.0  0.0   \n",
      "\n",
      "     57   58    59    60    61   62   63  \n",
      "0   0.0  6.0  13.0  10.0   0.0  0.0  0.0  \n",
      "0   0.0  0.0  11.0  16.0  10.0  0.0  0.0  \n",
      "0   0.0  0.0   3.0  11.0  16.0  9.0  0.0  \n",
      "0   0.0  7.0  13.0  13.0   9.0  0.0  0.0  \n",
      "0   0.0  0.0   2.0  16.0   4.0  0.0  0.0  \n",
      "..  ...  ...   ...   ...   ...  ...  ...  \n",
      "0   0.0  0.0  10.0  13.0   8.0  0.0  0.0  \n",
      "0   0.0  5.0  12.0  12.0   9.0  1.0  0.0  \n",
      "0   0.0  0.0   6.0  14.0  16.0  8.0  0.0  \n",
      "0   0.0  0.0   0.0   8.0  15.0  0.0  0.0  \n",
      "0   0.0  0.0  12.0   7.0   0.0  0.0  0.0  \n",
      "\n",
      "[109 rows x 64 columns]\n",
      "     0    1     2     3     4     5    6    7    8    9   ...    54   55   56  \\\n",
      "0   0.0  0.0   5.0  13.0   9.0   1.0  0.0  0.0  0.0  0.0  ...   0.0  0.0  0.0   \n",
      "0   0.0  0.0   0.0  12.0  13.0   5.0  0.0  0.0  0.0  0.0  ...   0.0  0.0  0.0   \n",
      "0   0.0  0.0   0.0   4.0  15.0  12.0  0.0  0.0  0.0  0.0  ...   5.0  0.0  0.0   \n",
      "0   0.0  0.0   7.0  15.0  13.0   1.0  0.0  0.0  0.0  8.0  ...   9.0  0.0  0.0   \n",
      "0   0.0  0.0   0.0   1.0  11.0   0.0  0.0  0.0  0.0  0.0  ...   0.0  0.0  0.0   \n",
      "..  ...  ...   ...   ...   ...   ...  ...  ...  ...  ...  ...   ...  ...  ...   \n",
      "0   0.0  0.0   9.0  15.0   5.0   0.0  0.0  0.0  0.0  0.0  ...  15.0  0.0  0.0   \n",
      "0   0.0  0.0   0.0   5.0  11.0   1.0  0.0  0.0  0.0  0.0  ...   6.0  0.0  0.0   \n",
      "0   0.0  0.0   0.0   0.0   6.0  10.0  0.0  0.0  0.0  0.0  ...   0.0  0.0  0.0   \n",
      "0   0.0  0.0   2.0  11.0  16.0   4.0  0.0  0.0  0.0  0.0  ...   0.0  0.0  0.0   \n",
      "0   0.0  0.0  15.0  16.0  16.0  12.0  2.0  0.0  0.0  2.0  ...   0.0  0.0  0.0   \n",
      "\n",
      "     57    58    59    60    61   62   63  \n",
      "0   0.0   6.0  13.0  10.0   0.0  0.0  0.0  \n",
      "0   0.0   0.0  11.0  16.0  10.0  0.0  0.0  \n",
      "0   0.0   0.0   3.0  11.0  16.0  9.0  0.0  \n",
      "0   0.0   7.0  13.0  13.0   9.0  0.0  0.0  \n",
      "0   0.0   0.0   2.0  16.0   4.0  0.0  0.0  \n",
      "..  ...   ...   ...   ...   ...  ...  ...  \n",
      "0   0.0   5.0  12.0  12.0   9.0  1.0  0.0  \n",
      "0   0.0   0.0   6.0  14.0  16.0  8.0  0.0  \n",
      "0   0.0   0.0   0.0   8.0  15.0  0.0  0.0  \n",
      "0   0.0   0.0  12.0   7.0   0.0  0.0  0.0  \n",
      "0   1.0  15.0  16.0  15.0   3.0  0.0  0.0  \n",
      "\n",
      "[110 rows x 64 columns]\n",
      "     0    1     2     3     4     5    6    7    8    9   ...   54   55   56  \\\n",
      "0   0.0  0.0   5.0  13.0   9.0   1.0  0.0  0.0  0.0  0.0  ...  0.0  0.0  0.0   \n",
      "0   0.0  0.0   0.0  12.0  13.0   5.0  0.0  0.0  0.0  0.0  ...  0.0  0.0  0.0   \n",
      "0   0.0  0.0   0.0   4.0  15.0  12.0  0.0  0.0  0.0  0.0  ...  5.0  0.0  0.0   \n",
      "0   0.0  0.0   7.0  15.0  13.0   1.0  0.0  0.0  0.0  8.0  ...  9.0  0.0  0.0   \n",
      "0   0.0  0.0   0.0   1.0  11.0   0.0  0.0  0.0  0.0  0.0  ...  0.0  0.0  0.0   \n",
      "..  ...  ...   ...   ...   ...   ...  ...  ...  ...  ...  ...  ...  ...  ...   \n",
      "0   0.0  0.0   0.0   5.0  11.0   1.0  0.0  0.0  0.0  0.0  ...  6.0  0.0  0.0   \n",
      "0   0.0  0.0   0.0   0.0   6.0  10.0  0.0  0.0  0.0  0.0  ...  0.0  0.0  0.0   \n",
      "0   0.0  0.0   2.0  11.0  16.0   4.0  0.0  0.0  0.0  0.0  ...  0.0  0.0  0.0   \n",
      "0   0.0  0.0  15.0  16.0  16.0  12.0  2.0  0.0  0.0  2.0  ...  0.0  0.0  0.0   \n",
      "0   0.0  0.0   0.0  10.0  15.0   0.0  0.0  0.0  0.0  0.0  ...  0.0  0.0  0.0   \n",
      "\n",
      "     57    58    59    60    61   62   63  \n",
      "0   0.0   6.0  13.0  10.0   0.0  0.0  0.0  \n",
      "0   0.0   0.0  11.0  16.0  10.0  0.0  0.0  \n",
      "0   0.0   0.0   3.0  11.0  16.0  9.0  0.0  \n",
      "0   0.0   7.0  13.0  13.0   9.0  0.0  0.0  \n",
      "0   0.0   0.0   2.0  16.0   4.0  0.0  0.0  \n",
      "..  ...   ...   ...   ...   ...  ...  ...  \n",
      "0   0.0   0.0   6.0  14.0  16.0  8.0  0.0  \n",
      "0   0.0   0.0   0.0   8.0  15.0  0.0  0.0  \n",
      "0   0.0   0.0  12.0   7.0   0.0  0.0  0.0  \n",
      "0   1.0  15.0  16.0  15.0   3.0  0.0  0.0  \n",
      "0   0.0   0.0  12.0   9.0   0.0  0.0  0.0  \n",
      "\n",
      "[111 rows x 64 columns]\n",
      "     0    1     2     3     4     5    6    7    8    9   ...   54   55   56  \\\n",
      "0   0.0  0.0   5.0  13.0   9.0   1.0  0.0  0.0  0.0  0.0  ...  0.0  0.0  0.0   \n",
      "0   0.0  0.0   0.0  12.0  13.0   5.0  0.0  0.0  0.0  0.0  ...  0.0  0.0  0.0   \n",
      "0   0.0  0.0   0.0   4.0  15.0  12.0  0.0  0.0  0.0  0.0  ...  5.0  0.0  0.0   \n",
      "0   0.0  0.0   7.0  15.0  13.0   1.0  0.0  0.0  0.0  8.0  ...  9.0  0.0  0.0   \n",
      "0   0.0  0.0   0.0   1.0  11.0   0.0  0.0  0.0  0.0  0.0  ...  0.0  0.0  0.0   \n",
      "..  ...  ...   ...   ...   ...   ...  ...  ...  ...  ...  ...  ...  ...  ...   \n",
      "0   0.0  0.0   0.0   0.0   6.0  10.0  0.0  0.0  0.0  0.0  ...  0.0  0.0  0.0   \n",
      "0   0.0  0.0   2.0  11.0  16.0   4.0  0.0  0.0  0.0  0.0  ...  0.0  0.0  0.0   \n",
      "0   0.0  0.0  15.0  16.0  16.0  12.0  2.0  0.0  0.0  2.0  ...  0.0  0.0  0.0   \n",
      "0   0.0  0.0   0.0  10.0  15.0   0.0  0.0  0.0  0.0  0.0  ...  0.0  0.0  0.0   \n",
      "0   0.0  0.0   1.0  10.0   9.0   0.0  0.0  0.0  0.0  0.0  ...  0.0  0.0  0.0   \n",
      "\n",
      "     57    58    59    60    61   62   63  \n",
      "0   0.0   6.0  13.0  10.0   0.0  0.0  0.0  \n",
      "0   0.0   0.0  11.0  16.0  10.0  0.0  0.0  \n",
      "0   0.0   0.0   3.0  11.0  16.0  9.0  0.0  \n",
      "0   0.0   7.0  13.0  13.0   9.0  0.0  0.0  \n",
      "0   0.0   0.0   2.0  16.0   4.0  0.0  0.0  \n",
      "..  ...   ...   ...   ...   ...  ...  ...  \n",
      "0   0.0   0.0   0.0   8.0  15.0  0.0  0.0  \n",
      "0   0.0   0.0  12.0   7.0   0.0  0.0  0.0  \n",
      "0   1.0  15.0  16.0  15.0   3.0  0.0  0.0  \n",
      "0   0.0   0.0  12.0   9.0   0.0  0.0  0.0  \n",
      "0   0.0   0.0  10.0  13.0   0.0  0.0  0.0  \n",
      "\n",
      "[112 rows x 64 columns]\n",
      "     0    1     2     3     4     5    6    7    8    9   ...   54   55   56  \\\n",
      "0   0.0  0.0   5.0  13.0   9.0   1.0  0.0  0.0  0.0  0.0  ...  0.0  0.0  0.0   \n",
      "0   0.0  0.0   0.0  12.0  13.0   5.0  0.0  0.0  0.0  0.0  ...  0.0  0.0  0.0   \n",
      "0   0.0  0.0   0.0   4.0  15.0  12.0  0.0  0.0  0.0  0.0  ...  5.0  0.0  0.0   \n",
      "0   0.0  0.0   7.0  15.0  13.0   1.0  0.0  0.0  0.0  8.0  ...  9.0  0.0  0.0   \n",
      "0   0.0  0.0   0.0   1.0  11.0   0.0  0.0  0.0  0.0  0.0  ...  0.0  0.0  0.0   \n",
      "..  ...  ...   ...   ...   ...   ...  ...  ...  ...  ...  ...  ...  ...  ...   \n",
      "0   0.0  0.0   2.0  11.0  16.0   4.0  0.0  0.0  0.0  0.0  ...  0.0  0.0  0.0   \n",
      "0   0.0  0.0  15.0  16.0  16.0  12.0  2.0  0.0  0.0  2.0  ...  0.0  0.0  0.0   \n",
      "0   0.0  0.0   0.0  10.0  15.0   0.0  0.0  0.0  0.0  0.0  ...  0.0  0.0  0.0   \n",
      "0   0.0  0.0   1.0  10.0   9.0   0.0  0.0  0.0  0.0  0.0  ...  0.0  0.0  0.0   \n",
      "0   0.0  0.0   3.0  11.0  16.0  13.0  0.0  0.0  0.0  3.0  ...  0.0  0.0  0.0   \n",
      "\n",
      "     57    58    59    60    61   62   63  \n",
      "0   0.0   6.0  13.0  10.0   0.0  0.0  0.0  \n",
      "0   0.0   0.0  11.0  16.0  10.0  0.0  0.0  \n",
      "0   0.0   0.0   3.0  11.0  16.0  9.0  0.0  \n",
      "0   0.0   7.0  13.0  13.0   9.0  0.0  0.0  \n",
      "0   0.0   0.0   2.0  16.0   4.0  0.0  0.0  \n",
      "..  ...   ...   ...   ...   ...  ...  ...  \n",
      "0   0.0   0.0  12.0   7.0   0.0  0.0  0.0  \n",
      "0   1.0  15.0  16.0  15.0   3.0  0.0  0.0  \n",
      "0   0.0   0.0  12.0   9.0   0.0  0.0  0.0  \n",
      "0   0.0   0.0  10.0  13.0   0.0  0.0  0.0  \n",
      "0   0.0   3.0  15.0   1.0   0.0  0.0  0.0  \n",
      "\n",
      "[113 rows x 64 columns]\n",
      "     0    1     2     3     4     5    6    7    8    9   ...   54   55   56  \\\n",
      "0   0.0  0.0   5.0  13.0   9.0   1.0  0.0  0.0  0.0  0.0  ...  0.0  0.0  0.0   \n",
      "0   0.0  0.0   0.0  12.0  13.0   5.0  0.0  0.0  0.0  0.0  ...  0.0  0.0  0.0   \n",
      "0   0.0  0.0   0.0   4.0  15.0  12.0  0.0  0.0  0.0  0.0  ...  5.0  0.0  0.0   \n",
      "0   0.0  0.0   7.0  15.0  13.0   1.0  0.0  0.0  0.0  8.0  ...  9.0  0.0  0.0   \n",
      "0   0.0  0.0   0.0   1.0  11.0   0.0  0.0  0.0  0.0  0.0  ...  0.0  0.0  0.0   \n",
      "..  ...  ...   ...   ...   ...   ...  ...  ...  ...  ...  ...  ...  ...  ...   \n",
      "0   0.0  0.0  15.0  16.0  16.0  12.0  2.0  0.0  0.0  2.0  ...  0.0  0.0  0.0   \n",
      "0   0.0  0.0   0.0  10.0  15.0   0.0  0.0  0.0  0.0  0.0  ...  0.0  0.0  0.0   \n",
      "0   0.0  0.0   1.0  10.0   9.0   0.0  0.0  0.0  0.0  0.0  ...  0.0  0.0  0.0   \n",
      "0   0.0  0.0   3.0  11.0  16.0  13.0  0.0  0.0  0.0  3.0  ...  0.0  0.0  0.0   \n",
      "0   0.0  0.0   2.0  16.0  13.0   1.0  0.0  0.0  0.0  0.0  ...  3.0  0.0  0.0   \n",
      "\n",
      "     57    58    59    60    61    62   63  \n",
      "0   0.0   6.0  13.0  10.0   0.0   0.0  0.0  \n",
      "0   0.0   0.0  11.0  16.0  10.0   0.0  0.0  \n",
      "0   0.0   0.0   3.0  11.0  16.0   9.0  0.0  \n",
      "0   0.0   7.0  13.0  13.0   9.0   0.0  0.0  \n",
      "0   0.0   0.0   2.0  16.0   4.0   0.0  0.0  \n",
      "..  ...   ...   ...   ...   ...   ...  ...  \n",
      "0   1.0  15.0  16.0  15.0   3.0   0.0  0.0  \n",
      "0   0.0   0.0  12.0   9.0   0.0   0.0  0.0  \n",
      "0   0.0   0.0  10.0  13.0   0.0   0.0  0.0  \n",
      "0   0.0   3.0  15.0   1.0   0.0   0.0  0.0  \n",
      "0   0.0   4.0  11.0  15.0  16.0  10.0  0.0  \n",
      "\n",
      "[114 rows x 64 columns]\n",
      "     0    1    2     3     4     5    6    7    8    9   ...   54   55   56  \\\n",
      "0   0.0  0.0  5.0  13.0   9.0   1.0  0.0  0.0  0.0  0.0  ...  0.0  0.0  0.0   \n",
      "0   0.0  0.0  0.0  12.0  13.0   5.0  0.0  0.0  0.0  0.0  ...  0.0  0.0  0.0   \n",
      "0   0.0  0.0  0.0   4.0  15.0  12.0  0.0  0.0  0.0  0.0  ...  5.0  0.0  0.0   \n",
      "0   0.0  0.0  7.0  15.0  13.0   1.0  0.0  0.0  0.0  8.0  ...  9.0  0.0  0.0   \n",
      "0   0.0  0.0  0.0   1.0  11.0   0.0  0.0  0.0  0.0  0.0  ...  0.0  0.0  0.0   \n",
      "..  ...  ...  ...   ...   ...   ...  ...  ...  ...  ...  ...  ...  ...  ...   \n",
      "0   0.0  0.0  0.0  10.0  15.0   0.0  0.0  0.0  0.0  0.0  ...  0.0  0.0  0.0   \n",
      "0   0.0  0.0  1.0  10.0   9.0   0.0  0.0  0.0  0.0  0.0  ...  0.0  0.0  0.0   \n",
      "0   0.0  0.0  3.0  11.0  16.0  13.0  0.0  0.0  0.0  3.0  ...  0.0  0.0  0.0   \n",
      "0   0.0  0.0  2.0  16.0  13.0   1.0  0.0  0.0  0.0  0.0  ...  3.0  0.0  0.0   \n",
      "0   0.0  0.0  4.0   9.0  13.0   5.0  0.0  0.0  0.0  1.0  ...  0.0  0.0  0.0   \n",
      "\n",
      "     57   58    59    60    61    62   63  \n",
      "0   0.0  6.0  13.0  10.0   0.0   0.0  0.0  \n",
      "0   0.0  0.0  11.0  16.0  10.0   0.0  0.0  \n",
      "0   0.0  0.0   3.0  11.0  16.0   9.0  0.0  \n",
      "0   0.0  7.0  13.0  13.0   9.0   0.0  0.0  \n",
      "0   0.0  0.0   2.0  16.0   4.0   0.0  0.0  \n",
      "..  ...  ...   ...   ...   ...   ...  ...  \n",
      "0   0.0  0.0  12.0   9.0   0.0   0.0  0.0  \n",
      "0   0.0  0.0  10.0  13.0   0.0   0.0  0.0  \n",
      "0   0.0  3.0  15.0   1.0   0.0   0.0  0.0  \n",
      "0   0.0  4.0  11.0  15.0  16.0  10.0  0.0  \n",
      "0   0.0  0.0  10.0  16.0   8.0   0.0  0.0  \n",
      "\n",
      "[115 rows x 64 columns]\n",
      "     0    1    2     3     4     5    6    7    8    9   ...   54   55   56  \\\n",
      "0   0.0  0.0  5.0  13.0   9.0   1.0  0.0  0.0  0.0  0.0  ...  0.0  0.0  0.0   \n",
      "0   0.0  0.0  0.0  12.0  13.0   5.0  0.0  0.0  0.0  0.0  ...  0.0  0.0  0.0   \n",
      "0   0.0  0.0  0.0   4.0  15.0  12.0  0.0  0.0  0.0  0.0  ...  5.0  0.0  0.0   \n",
      "0   0.0  0.0  7.0  15.0  13.0   1.0  0.0  0.0  0.0  8.0  ...  9.0  0.0  0.0   \n",
      "0   0.0  0.0  0.0   1.0  11.0   0.0  0.0  0.0  0.0  0.0  ...  0.0  0.0  0.0   \n",
      "..  ...  ...  ...   ...   ...   ...  ...  ...  ...  ...  ...  ...  ...  ...   \n",
      "0   0.0  0.0  1.0  10.0   9.0   0.0  0.0  0.0  0.0  0.0  ...  0.0  0.0  0.0   \n",
      "0   0.0  0.0  3.0  11.0  16.0  13.0  0.0  0.0  0.0  3.0  ...  0.0  0.0  0.0   \n",
      "0   0.0  0.0  2.0  16.0  13.0   1.0  0.0  0.0  0.0  0.0  ...  3.0  0.0  0.0   \n",
      "0   0.0  0.0  4.0   9.0  13.0   5.0  0.0  0.0  0.0  1.0  ...  0.0  0.0  0.0   \n",
      "0   0.0  0.0  0.0   8.0  15.0   8.0  0.0  0.0  0.0  0.0  ...  0.0  0.0  0.0   \n",
      "\n",
      "     57   58    59    60    61    62   63  \n",
      "0   0.0  6.0  13.0  10.0   0.0   0.0  0.0  \n",
      "0   0.0  0.0  11.0  16.0  10.0   0.0  0.0  \n",
      "0   0.0  0.0   3.0  11.0  16.0   9.0  0.0  \n",
      "0   0.0  7.0  13.0  13.0   9.0   0.0  0.0  \n",
      "0   0.0  0.0   2.0  16.0   4.0   0.0  0.0  \n",
      "..  ...  ...   ...   ...   ...   ...  ...  \n",
      "0   0.0  0.0  10.0  13.0   0.0   0.0  0.0  \n",
      "0   0.0  3.0  15.0   1.0   0.0   0.0  0.0  \n",
      "0   0.0  4.0  11.0  15.0  16.0  10.0  0.0  \n",
      "0   0.0  0.0  10.0  16.0   8.0   0.0  0.0  \n",
      "0   0.0  0.0   9.0  12.0  14.0   4.0  0.0  \n",
      "\n",
      "[116 rows x 64 columns]\n",
      "     0    1    2     3     4     5    6    7    8    9   ...   54   55   56  \\\n",
      "0   0.0  0.0  5.0  13.0   9.0   1.0  0.0  0.0  0.0  0.0  ...  0.0  0.0  0.0   \n",
      "0   0.0  0.0  0.0  12.0  13.0   5.0  0.0  0.0  0.0  0.0  ...  0.0  0.0  0.0   \n",
      "0   0.0  0.0  0.0   4.0  15.0  12.0  0.0  0.0  0.0  0.0  ...  5.0  0.0  0.0   \n",
      "0   0.0  0.0  7.0  15.0  13.0   1.0  0.0  0.0  0.0  8.0  ...  9.0  0.0  0.0   \n",
      "0   0.0  0.0  0.0   1.0  11.0   0.0  0.0  0.0  0.0  0.0  ...  0.0  0.0  0.0   \n",
      "..  ...  ...  ...   ...   ...   ...  ...  ...  ...  ...  ...  ...  ...  ...   \n",
      "0   0.0  0.0  3.0  11.0  16.0  13.0  0.0  0.0  0.0  3.0  ...  0.0  0.0  0.0   \n",
      "0   0.0  0.0  2.0  16.0  13.0   1.0  0.0  0.0  0.0  0.0  ...  3.0  0.0  0.0   \n",
      "0   0.0  0.0  4.0   9.0  13.0   5.0  0.0  0.0  0.0  1.0  ...  0.0  0.0  0.0   \n",
      "0   0.0  0.0  0.0   8.0  15.0   8.0  0.0  0.0  0.0  0.0  ...  0.0  0.0  0.0   \n",
      "0   0.0  0.0  1.0  10.0  16.0   8.0  0.0  0.0  0.0  0.0  ...  0.0  0.0  0.0   \n",
      "\n",
      "     57   58    59    60    61    62   63  \n",
      "0   0.0  6.0  13.0  10.0   0.0   0.0  0.0  \n",
      "0   0.0  0.0  11.0  16.0  10.0   0.0  0.0  \n",
      "0   0.0  0.0   3.0  11.0  16.0   9.0  0.0  \n",
      "0   0.0  7.0  13.0  13.0   9.0   0.0  0.0  \n",
      "0   0.0  0.0   2.0  16.0   4.0   0.0  0.0  \n",
      "..  ...  ...   ...   ...   ...   ...  ...  \n",
      "0   0.0  3.0  15.0   1.0   0.0   0.0  0.0  \n",
      "0   0.0  4.0  11.0  15.0  16.0  10.0  0.0  \n",
      "0   0.0  0.0  10.0  16.0   8.0   0.0  0.0  \n",
      "0   0.0  0.0   9.0  12.0  14.0   4.0  0.0  \n",
      "0   0.0  1.0  11.0  14.0  15.0   5.0  0.0  \n",
      "\n",
      "[117 rows x 64 columns]\n",
      "     0    1     2     3     4     5    6    7    8    9   ...   54   55   56  \\\n",
      "0   0.0  0.0   5.0  13.0   9.0   1.0  0.0  0.0  0.0  0.0  ...  0.0  0.0  0.0   \n",
      "0   0.0  0.0   0.0  12.0  13.0   5.0  0.0  0.0  0.0  0.0  ...  0.0  0.0  0.0   \n",
      "0   0.0  0.0   0.0   4.0  15.0  12.0  0.0  0.0  0.0  0.0  ...  5.0  0.0  0.0   \n",
      "0   0.0  0.0   7.0  15.0  13.0   1.0  0.0  0.0  0.0  8.0  ...  9.0  0.0  0.0   \n",
      "0   0.0  0.0   0.0   1.0  11.0   0.0  0.0  0.0  0.0  0.0  ...  0.0  0.0  0.0   \n",
      "..  ...  ...   ...   ...   ...   ...  ...  ...  ...  ...  ...  ...  ...  ...   \n",
      "0   0.0  0.0   2.0  16.0  13.0   1.0  0.0  0.0  0.0  0.0  ...  3.0  0.0  0.0   \n",
      "0   0.0  0.0   4.0   9.0  13.0   5.0  0.0  0.0  0.0  1.0  ...  0.0  0.0  0.0   \n",
      "0   0.0  0.0   0.0   8.0  15.0   8.0  0.0  0.0  0.0  0.0  ...  0.0  0.0  0.0   \n",
      "0   0.0  0.0   1.0  10.0  16.0   8.0  0.0  0.0  0.0  0.0  ...  0.0  0.0  0.0   \n",
      "0   0.0  2.0  15.0  16.0  16.0  14.0  2.0  0.0  0.0  3.0  ...  0.0  0.0  0.0   \n",
      "\n",
      "     57    58    59    60    61    62   63  \n",
      "0   0.0   6.0  13.0  10.0   0.0   0.0  0.0  \n",
      "0   0.0   0.0  11.0  16.0  10.0   0.0  0.0  \n",
      "0   0.0   0.0   3.0  11.0  16.0   9.0  0.0  \n",
      "0   0.0   7.0  13.0  13.0   9.0   0.0  0.0  \n",
      "0   0.0   0.0   2.0  16.0   4.0   0.0  0.0  \n",
      "..  ...   ...   ...   ...   ...   ...  ...  \n",
      "0   0.0   4.0  11.0  15.0  16.0  10.0  0.0  \n",
      "0   0.0   0.0  10.0  16.0   8.0   0.0  0.0  \n",
      "0   0.0   0.0   9.0  12.0  14.0   4.0  0.0  \n",
      "0   0.0   1.0  11.0  14.0  15.0   5.0  0.0  \n",
      "0   3.0  16.0  13.0   1.0   0.0   0.0  0.0  \n",
      "\n",
      "[118 rows x 64 columns]\n",
      "     0    1     2     3     4     5    6    7    8    9   ...   54   55   56  \\\n",
      "0   0.0  0.0   5.0  13.0   9.0   1.0  0.0  0.0  0.0  0.0  ...  0.0  0.0  0.0   \n",
      "0   0.0  0.0   0.0  12.0  13.0   5.0  0.0  0.0  0.0  0.0  ...  0.0  0.0  0.0   \n",
      "0   0.0  0.0   0.0   4.0  15.0  12.0  0.0  0.0  0.0  0.0  ...  5.0  0.0  0.0   \n",
      "0   0.0  0.0   7.0  15.0  13.0   1.0  0.0  0.0  0.0  8.0  ...  9.0  0.0  0.0   \n",
      "0   0.0  0.0   0.0   1.0  11.0   0.0  0.0  0.0  0.0  0.0  ...  0.0  0.0  0.0   \n",
      "..  ...  ...   ...   ...   ...   ...  ...  ...  ...  ...  ...  ...  ...  ...   \n",
      "0   0.0  0.0   4.0   9.0  13.0   5.0  0.0  0.0  0.0  1.0  ...  0.0  0.0  0.0   \n",
      "0   0.0  0.0   0.0   8.0  15.0   8.0  0.0  0.0  0.0  0.0  ...  0.0  0.0  0.0   \n",
      "0   0.0  0.0   1.0  10.0  16.0   8.0  0.0  0.0  0.0  0.0  ...  0.0  0.0  0.0   \n",
      "0   0.0  2.0  15.0  16.0  16.0  14.0  2.0  0.0  0.0  3.0  ...  0.0  0.0  0.0   \n",
      "0   0.0  0.0   9.0  12.0  15.0  15.0  2.0  0.0  0.0  1.0  ...  0.0  0.0  0.0   \n",
      "\n",
      "     57    58    59    60    61   62   63  \n",
      "0   0.0   6.0  13.0  10.0   0.0  0.0  0.0  \n",
      "0   0.0   0.0  11.0  16.0  10.0  0.0  0.0  \n",
      "0   0.0   0.0   3.0  11.0  16.0  9.0  0.0  \n",
      "0   0.0   7.0  13.0  13.0   9.0  0.0  0.0  \n",
      "0   0.0   0.0   2.0  16.0   4.0  0.0  0.0  \n",
      "..  ...   ...   ...   ...   ...  ...  ...  \n",
      "0   0.0   0.0  10.0  16.0   8.0  0.0  0.0  \n",
      "0   0.0   0.0   9.0  12.0  14.0  4.0  0.0  \n",
      "0   0.0   1.0  11.0  14.0  15.0  5.0  0.0  \n",
      "0   3.0  16.0  13.0   1.0   0.0  0.0  0.0  \n",
      "0   0.0  11.0   9.0   0.0   0.0  0.0  0.0  \n",
      "\n",
      "[119 rows x 64 columns]\n",
      "     0    1     2     3     4     5    6    7    8    9   ...    54   55   56  \\\n",
      "0   0.0  0.0   5.0  13.0   9.0   1.0  0.0  0.0  0.0  0.0  ...   0.0  0.0  0.0   \n",
      "0   0.0  0.0   0.0  12.0  13.0   5.0  0.0  0.0  0.0  0.0  ...   0.0  0.0  0.0   \n",
      "0   0.0  0.0   0.0   4.0  15.0  12.0  0.0  0.0  0.0  0.0  ...   5.0  0.0  0.0   \n",
      "0   0.0  0.0   7.0  15.0  13.0   1.0  0.0  0.0  0.0  8.0  ...   9.0  0.0  0.0   \n",
      "0   0.0  0.0   0.0   1.0  11.0   0.0  0.0  0.0  0.0  0.0  ...   0.0  0.0  0.0   \n",
      "..  ...  ...   ...   ...   ...   ...  ...  ...  ...  ...  ...   ...  ...  ...   \n",
      "0   0.0  0.0   0.0   8.0  15.0   8.0  0.0  0.0  0.0  0.0  ...   0.0  0.0  0.0   \n",
      "0   0.0  0.0   1.0  10.0  16.0   8.0  0.0  0.0  0.0  0.0  ...   0.0  0.0  0.0   \n",
      "0   0.0  2.0  15.0  16.0  16.0  14.0  2.0  0.0  0.0  3.0  ...   0.0  0.0  0.0   \n",
      "0   0.0  0.0   9.0  12.0  15.0  15.0  2.0  0.0  0.0  1.0  ...   0.0  0.0  0.0   \n",
      "0   0.0  0.0   0.0  12.0  14.0   1.0  0.0  0.0  0.0  0.0  ...  16.0  0.0  0.0   \n",
      "\n",
      "     57    58    59    60    61   62   63  \n",
      "0   0.0   6.0  13.0  10.0   0.0  0.0  0.0  \n",
      "0   0.0   0.0  11.0  16.0  10.0  0.0  0.0  \n",
      "0   0.0   0.0   3.0  11.0  16.0  9.0  0.0  \n",
      "0   0.0   7.0  13.0  13.0   9.0  0.0  0.0  \n",
      "0   0.0   0.0   2.0  16.0   4.0  0.0  0.0  \n",
      "..  ...   ...   ...   ...   ...  ...  ...  \n",
      "0   0.0   0.0   9.0  12.0  14.0  4.0  0.0  \n",
      "0   0.0   1.0  11.0  14.0  15.0  5.0  0.0  \n",
      "0   3.0  16.0  13.0   1.0   0.0  0.0  0.0  \n",
      "0   0.0  11.0   9.0   0.0   0.0  0.0  0.0  \n",
      "0   0.0   1.0  11.0  16.0  15.0  7.0  0.0  \n",
      "\n",
      "[120 rows x 64 columns]\n",
      "     0    1     2     3     4     5    6    7    8    9   ...    54   55   56  \\\n",
      "0   0.0  0.0   5.0  13.0   9.0   1.0  0.0  0.0  0.0  0.0  ...   0.0  0.0  0.0   \n",
      "0   0.0  0.0   0.0  12.0  13.0   5.0  0.0  0.0  0.0  0.0  ...   0.0  0.0  0.0   \n",
      "0   0.0  0.0   0.0   4.0  15.0  12.0  0.0  0.0  0.0  0.0  ...   5.0  0.0  0.0   \n",
      "0   0.0  0.0   7.0  15.0  13.0   1.0  0.0  0.0  0.0  8.0  ...   9.0  0.0  0.0   \n",
      "0   0.0  0.0   0.0   1.0  11.0   0.0  0.0  0.0  0.0  0.0  ...   0.0  0.0  0.0   \n",
      "..  ...  ...   ...   ...   ...   ...  ...  ...  ...  ...  ...   ...  ...  ...   \n",
      "0   0.0  0.0   1.0  10.0  16.0   8.0  0.0  0.0  0.0  0.0  ...   0.0  0.0  0.0   \n",
      "0   0.0  2.0  15.0  16.0  16.0  14.0  2.0  0.0  0.0  3.0  ...   0.0  0.0  0.0   \n",
      "0   0.0  0.0   9.0  12.0  15.0  15.0  2.0  0.0  0.0  1.0  ...   0.0  0.0  0.0   \n",
      "0   0.0  0.0   0.0  12.0  14.0   1.0  0.0  0.0  0.0  0.0  ...  16.0  0.0  0.0   \n",
      "0   0.0  0.0   6.0  13.0   2.0   0.0  0.0  0.0  0.0  4.0  ...   0.0  0.0  0.0   \n",
      "\n",
      "     57    58    59    60    61   62   63  \n",
      "0   0.0   6.0  13.0  10.0   0.0  0.0  0.0  \n",
      "0   0.0   0.0  11.0  16.0  10.0  0.0  0.0  \n",
      "0   0.0   0.0   3.0  11.0  16.0  9.0  0.0  \n",
      "0   0.0   7.0  13.0  13.0   9.0  0.0  0.0  \n",
      "0   0.0   0.0   2.0  16.0   4.0  0.0  0.0  \n",
      "..  ...   ...   ...   ...   ...  ...  ...  \n",
      "0   0.0   1.0  11.0  14.0  15.0  5.0  0.0  \n",
      "0   3.0  16.0  13.0   1.0   0.0  0.0  0.0  \n",
      "0   0.0  11.0   9.0   0.0   0.0  0.0  0.0  \n",
      "0   0.0   1.0  11.0  16.0  15.0  7.0  0.0  \n",
      "0   0.0   9.0  14.0   4.0   0.0  0.0  0.0  \n",
      "\n",
      "[121 rows x 64 columns]\n",
      "     0    1     2     3     4     5    6    7    8    9   ...    54   55   56  \\\n",
      "0   0.0  0.0   5.0  13.0   9.0   1.0  0.0  0.0  0.0  0.0  ...   0.0  0.0  0.0   \n",
      "0   0.0  0.0   0.0  12.0  13.0   5.0  0.0  0.0  0.0  0.0  ...   0.0  0.0  0.0   \n",
      "0   0.0  0.0   0.0   4.0  15.0  12.0  0.0  0.0  0.0  0.0  ...   5.0  0.0  0.0   \n",
      "0   0.0  0.0   7.0  15.0  13.0   1.0  0.0  0.0  0.0  8.0  ...   9.0  0.0  0.0   \n",
      "0   0.0  0.0   0.0   1.0  11.0   0.0  0.0  0.0  0.0  0.0  ...   0.0  0.0  0.0   \n",
      "..  ...  ...   ...   ...   ...   ...  ...  ...  ...  ...  ...   ...  ...  ...   \n",
      "0   0.0  2.0  15.0  16.0  16.0  14.0  2.0  0.0  0.0  3.0  ...   0.0  0.0  0.0   \n",
      "0   0.0  0.0   9.0  12.0  15.0  15.0  2.0  0.0  0.0  1.0  ...   0.0  0.0  0.0   \n",
      "0   0.0  0.0   0.0  12.0  14.0   1.0  0.0  0.0  0.0  0.0  ...  16.0  0.0  0.0   \n",
      "0   0.0  0.0   6.0  13.0   2.0   0.0  0.0  0.0  0.0  4.0  ...   0.0  0.0  0.0   \n",
      "0   0.0  0.0   0.0  12.0  13.0   0.0  0.0  0.0  0.0  0.0  ...   0.0  0.0  0.0   \n",
      "\n",
      "     57    58    59    60    61   62   63  \n",
      "0   0.0   6.0  13.0  10.0   0.0  0.0  0.0  \n",
      "0   0.0   0.0  11.0  16.0  10.0  0.0  0.0  \n",
      "0   0.0   0.0   3.0  11.0  16.0  9.0  0.0  \n",
      "0   0.0   7.0  13.0  13.0   9.0  0.0  0.0  \n",
      "0   0.0   0.0   2.0  16.0   4.0  0.0  0.0  \n",
      "..  ...   ...   ...   ...   ...  ...  ...  \n",
      "0   3.0  16.0  13.0   1.0   0.0  0.0  0.0  \n",
      "0   0.0  11.0   9.0   0.0   0.0  0.0  0.0  \n",
      "0   0.0   1.0  11.0  16.0  15.0  7.0  0.0  \n",
      "0   0.0   9.0  14.0   4.0   0.0  0.0  0.0  \n",
      "0   0.0   0.0  11.0  13.0   0.0  0.0  0.0  \n",
      "\n",
      "[122 rows x 64 columns]\n",
      "     0    1    2     3     4     5    6    7    8    9   ...    54   55   56  \\\n",
      "0   0.0  0.0  5.0  13.0   9.0   1.0  0.0  0.0  0.0  0.0  ...   0.0  0.0  0.0   \n",
      "0   0.0  0.0  0.0  12.0  13.0   5.0  0.0  0.0  0.0  0.0  ...   0.0  0.0  0.0   \n",
      "0   0.0  0.0  0.0   4.0  15.0  12.0  0.0  0.0  0.0  0.0  ...   5.0  0.0  0.0   \n",
      "0   0.0  0.0  7.0  15.0  13.0   1.0  0.0  0.0  0.0  8.0  ...   9.0  0.0  0.0   \n",
      "0   0.0  0.0  0.0   1.0  11.0   0.0  0.0  0.0  0.0  0.0  ...   0.0  0.0  0.0   \n",
      "..  ...  ...  ...   ...   ...   ...  ...  ...  ...  ...  ...   ...  ...  ...   \n",
      "0   0.0  0.0  9.0  12.0  15.0  15.0  2.0  0.0  0.0  1.0  ...   0.0  0.0  0.0   \n",
      "0   0.0  0.0  0.0  12.0  14.0   1.0  0.0  0.0  0.0  0.0  ...  16.0  0.0  0.0   \n",
      "0   0.0  0.0  6.0  13.0   2.0   0.0  0.0  0.0  0.0  4.0  ...   0.0  0.0  0.0   \n",
      "0   0.0  0.0  0.0  12.0  13.0   0.0  0.0  0.0  0.0  0.0  ...   0.0  0.0  0.0   \n",
      "0   0.0  0.0  3.0   6.0  14.0   5.0  0.0  0.0  0.0  0.0  ...   0.0  0.0  0.0   \n",
      "\n",
      "     57    58    59    60    61   62   63  \n",
      "0   0.0   6.0  13.0  10.0   0.0  0.0  0.0  \n",
      "0   0.0   0.0  11.0  16.0  10.0  0.0  0.0  \n",
      "0   0.0   0.0   3.0  11.0  16.0  9.0  0.0  \n",
      "0   0.0   7.0  13.0  13.0   9.0  0.0  0.0  \n",
      "0   0.0   0.0   2.0  16.0   4.0  0.0  0.0  \n",
      "..  ...   ...   ...   ...   ...  ...  ...  \n",
      "0   0.0  11.0   9.0   0.0   0.0  0.0  0.0  \n",
      "0   0.0   1.0  11.0  16.0  15.0  7.0  0.0  \n",
      "0   0.0   9.0  14.0   4.0   0.0  0.0  0.0  \n",
      "0   0.0   0.0  11.0  13.0   0.0  0.0  0.0  \n",
      "0   0.0   4.0  15.0  14.0   0.0  0.0  0.0  \n",
      "\n",
      "[123 rows x 64 columns]\n",
      "     0    1    2     3     4     5    6    7    8    9   ...    54   55   56  \\\n",
      "0   0.0  0.0  5.0  13.0   9.0   1.0  0.0  0.0  0.0  0.0  ...   0.0  0.0  0.0   \n",
      "0   0.0  0.0  0.0  12.0  13.0   5.0  0.0  0.0  0.0  0.0  ...   0.0  0.0  0.0   \n",
      "0   0.0  0.0  0.0   4.0  15.0  12.0  0.0  0.0  0.0  0.0  ...   5.0  0.0  0.0   \n",
      "0   0.0  0.0  7.0  15.0  13.0   1.0  0.0  0.0  0.0  8.0  ...   9.0  0.0  0.0   \n",
      "0   0.0  0.0  0.0   1.0  11.0   0.0  0.0  0.0  0.0  0.0  ...   0.0  0.0  0.0   \n",
      "..  ...  ...  ...   ...   ...   ...  ...  ...  ...  ...  ...   ...  ...  ...   \n",
      "0   0.0  0.0  0.0  12.0  14.0   1.0  0.0  0.0  0.0  0.0  ...  16.0  0.0  0.0   \n",
      "0   0.0  0.0  6.0  13.0   2.0   0.0  0.0  0.0  0.0  4.0  ...   0.0  0.0  0.0   \n",
      "0   0.0  0.0  0.0  12.0  13.0   0.0  0.0  0.0  0.0  0.0  ...   0.0  0.0  0.0   \n",
      "0   0.0  0.0  3.0   6.0  14.0   5.0  0.0  0.0  0.0  0.0  ...   0.0  0.0  0.0   \n",
      "0   0.0  0.0  5.0  14.0  15.0   4.0  0.0  0.0  0.0  0.0  ...   1.0  0.0  0.0   \n",
      "\n",
      "     57   58    59    60    61   62   63  \n",
      "0   0.0  6.0  13.0  10.0   0.0  0.0  0.0  \n",
      "0   0.0  0.0  11.0  16.0  10.0  0.0  0.0  \n",
      "0   0.0  0.0   3.0  11.0  16.0  9.0  0.0  \n",
      "0   0.0  7.0  13.0  13.0   9.0  0.0  0.0  \n",
      "0   0.0  0.0   2.0  16.0   4.0  0.0  0.0  \n",
      "..  ...  ...   ...   ...   ...  ...  ...  \n",
      "0   0.0  1.0  11.0  16.0  15.0  7.0  0.0  \n",
      "0   0.0  9.0  14.0   4.0   0.0  0.0  0.0  \n",
      "0   0.0  0.0  11.0  13.0   0.0  0.0  0.0  \n",
      "0   0.0  4.0  15.0  14.0   0.0  0.0  0.0  \n",
      "0   0.0  5.0  16.0  16.0  16.0  2.0  0.0  \n",
      "\n",
      "[124 rows x 64 columns]\n",
      "     0    1    2     3     4     5    6    7    8    9   ...   54   55   56  \\\n",
      "0   0.0  0.0  5.0  13.0   9.0   1.0  0.0  0.0  0.0  0.0  ...  0.0  0.0  0.0   \n",
      "0   0.0  0.0  0.0  12.0  13.0   5.0  0.0  0.0  0.0  0.0  ...  0.0  0.0  0.0   \n",
      "0   0.0  0.0  0.0   4.0  15.0  12.0  0.0  0.0  0.0  0.0  ...  5.0  0.0  0.0   \n",
      "0   0.0  0.0  7.0  15.0  13.0   1.0  0.0  0.0  0.0  8.0  ...  9.0  0.0  0.0   \n",
      "0   0.0  0.0  0.0   1.0  11.0   0.0  0.0  0.0  0.0  0.0  ...  0.0  0.0  0.0   \n",
      "..  ...  ...  ...   ...   ...   ...  ...  ...  ...  ...  ...  ...  ...  ...   \n",
      "0   0.0  0.0  6.0  13.0   2.0   0.0  0.0  0.0  0.0  4.0  ...  0.0  0.0  0.0   \n",
      "0   0.0  0.0  0.0  12.0  13.0   0.0  0.0  0.0  0.0  0.0  ...  0.0  0.0  0.0   \n",
      "0   0.0  0.0  3.0   6.0  14.0   5.0  0.0  0.0  0.0  0.0  ...  0.0  0.0  0.0   \n",
      "0   0.0  0.0  5.0  14.0  15.0   4.0  0.0  0.0  0.0  0.0  ...  1.0  0.0  0.0   \n",
      "0   0.0  0.0  0.0   8.0  14.0   0.0  0.0  0.0  0.0  0.0  ...  0.0  0.0  0.0   \n",
      "\n",
      "     57   58    59    60    61   62   63  \n",
      "0   0.0  6.0  13.0  10.0   0.0  0.0  0.0  \n",
      "0   0.0  0.0  11.0  16.0  10.0  0.0  0.0  \n",
      "0   0.0  0.0   3.0  11.0  16.0  9.0  0.0  \n",
      "0   0.0  7.0  13.0  13.0   9.0  0.0  0.0  \n",
      "0   0.0  0.0   2.0  16.0   4.0  0.0  0.0  \n",
      "..  ...  ...   ...   ...   ...  ...  ...  \n",
      "0   0.0  9.0  14.0   4.0   0.0  0.0  0.0  \n",
      "0   0.0  0.0  11.0  13.0   0.0  0.0  0.0  \n",
      "0   0.0  4.0  15.0  14.0   0.0  0.0  0.0  \n",
      "0   0.0  5.0  16.0  16.0  16.0  2.0  0.0  \n",
      "0   0.0  0.0  10.0  15.0   0.0  0.0  0.0  \n",
      "\n",
      "[125 rows x 64 columns]\n",
      "     0    1     2     3     4     5    6    7    8    9   ...   54   55   56  \\\n",
      "0   0.0  0.0   5.0  13.0   9.0   1.0  0.0  0.0  0.0  0.0  ...  0.0  0.0  0.0   \n",
      "0   0.0  0.0   0.0  12.0  13.0   5.0  0.0  0.0  0.0  0.0  ...  0.0  0.0  0.0   \n",
      "0   0.0  0.0   0.0   4.0  15.0  12.0  0.0  0.0  0.0  0.0  ...  5.0  0.0  0.0   \n",
      "0   0.0  0.0   7.0  15.0  13.0   1.0  0.0  0.0  0.0  8.0  ...  9.0  0.0  0.0   \n",
      "0   0.0  0.0   0.0   1.0  11.0   0.0  0.0  0.0  0.0  0.0  ...  0.0  0.0  0.0   \n",
      "..  ...  ...   ...   ...   ...   ...  ...  ...  ...  ...  ...  ...  ...  ...   \n",
      "0   0.0  0.0   0.0  12.0  13.0   0.0  0.0  0.0  0.0  0.0  ...  0.0  0.0  0.0   \n",
      "0   0.0  0.0   3.0   6.0  14.0   5.0  0.0  0.0  0.0  0.0  ...  0.0  0.0  0.0   \n",
      "0   0.0  0.0   5.0  14.0  15.0   4.0  0.0  0.0  0.0  0.0  ...  1.0  0.0  0.0   \n",
      "0   0.0  0.0   0.0   8.0  14.0   0.0  0.0  0.0  0.0  0.0  ...  0.0  0.0  0.0   \n",
      "0   0.0  0.0  12.0  16.0   7.0   0.0  0.0  0.0  0.0  2.0  ...  0.0  0.0  0.0   \n",
      "\n",
      "     57    58    59    60    61   62   63  \n",
      "0   0.0   6.0  13.0  10.0   0.0  0.0  0.0  \n",
      "0   0.0   0.0  11.0  16.0  10.0  0.0  0.0  \n",
      "0   0.0   0.0   3.0  11.0  16.0  9.0  0.0  \n",
      "0   0.0   7.0  13.0  13.0   9.0  0.0  0.0  \n",
      "0   0.0   0.0   2.0  16.0   4.0  0.0  0.0  \n",
      "..  ...   ...   ...   ...   ...  ...  ...  \n",
      "0   0.0   0.0  11.0  13.0   0.0  0.0  0.0  \n",
      "0   0.0   4.0  15.0  14.0   0.0  0.0  0.0  \n",
      "0   0.0   5.0  16.0  16.0  16.0  2.0  0.0  \n",
      "0   0.0   0.0  10.0  15.0   0.0  0.0  0.0  \n",
      "0   0.0  11.0  16.0  16.0   3.0  0.0  0.0  \n",
      "\n",
      "[126 rows x 64 columns]\n",
      "     0    1     2     3     4     5    6    7    8    9   ...   54   55   56  \\\n",
      "0   0.0  0.0   5.0  13.0   9.0   1.0  0.0  0.0  0.0  0.0  ...  0.0  0.0  0.0   \n",
      "0   0.0  0.0   0.0  12.0  13.0   5.0  0.0  0.0  0.0  0.0  ...  0.0  0.0  0.0   \n",
      "0   0.0  0.0   0.0   4.0  15.0  12.0  0.0  0.0  0.0  0.0  ...  5.0  0.0  0.0   \n",
      "0   0.0  0.0   7.0  15.0  13.0   1.0  0.0  0.0  0.0  8.0  ...  9.0  0.0  0.0   \n",
      "0   0.0  0.0   0.0   1.0  11.0   0.0  0.0  0.0  0.0  0.0  ...  0.0  0.0  0.0   \n",
      "..  ...  ...   ...   ...   ...   ...  ...  ...  ...  ...  ...  ...  ...  ...   \n",
      "0   0.0  0.0   3.0   6.0  14.0   5.0  0.0  0.0  0.0  0.0  ...  0.0  0.0  0.0   \n",
      "0   0.0  0.0   5.0  14.0  15.0   4.0  0.0  0.0  0.0  0.0  ...  1.0  0.0  0.0   \n",
      "0   0.0  0.0   0.0   8.0  14.0   0.0  0.0  0.0  0.0  0.0  ...  0.0  0.0  0.0   \n",
      "0   0.0  0.0  12.0  16.0   7.0   0.0  0.0  0.0  0.0  2.0  ...  0.0  0.0  0.0   \n",
      "0   0.0  0.0   3.0  12.0  10.0   1.0  0.0  0.0  0.0  1.0  ...  3.0  0.0  0.0   \n",
      "\n",
      "     57    58    59    60    61   62   63  \n",
      "0   0.0   6.0  13.0  10.0   0.0  0.0  0.0  \n",
      "0   0.0   0.0  11.0  16.0  10.0  0.0  0.0  \n",
      "0   0.0   0.0   3.0  11.0  16.0  9.0  0.0  \n",
      "0   0.0   7.0  13.0  13.0   9.0  0.0  0.0  \n",
      "0   0.0   0.0   2.0  16.0   4.0  0.0  0.0  \n",
      "..  ...   ...   ...   ...   ...  ...  ...  \n",
      "0   0.0   4.0  15.0  14.0   0.0  0.0  0.0  \n",
      "0   0.0   5.0  16.0  16.0  16.0  2.0  0.0  \n",
      "0   0.0   0.0  10.0  15.0   0.0  0.0  0.0  \n",
      "0   0.0  11.0  16.0  16.0   3.0  0.0  0.0  \n",
      "0   0.0   2.0  13.0  15.0   6.0  0.0  0.0  \n",
      "\n",
      "[127 rows x 64 columns]\n",
      "     0    1     2     3     4     5    6    7    8    9   ...   54   55   56  \\\n",
      "0   0.0  0.0   5.0  13.0   9.0   1.0  0.0  0.0  0.0  0.0  ...  0.0  0.0  0.0   \n",
      "0   0.0  0.0   0.0  12.0  13.0   5.0  0.0  0.0  0.0  0.0  ...  0.0  0.0  0.0   \n",
      "0   0.0  0.0   0.0   4.0  15.0  12.0  0.0  0.0  0.0  0.0  ...  5.0  0.0  0.0   \n",
      "0   0.0  0.0   7.0  15.0  13.0   1.0  0.0  0.0  0.0  8.0  ...  9.0  0.0  0.0   \n",
      "0   0.0  0.0   0.0   1.0  11.0   0.0  0.0  0.0  0.0  0.0  ...  0.0  0.0  0.0   \n",
      "..  ...  ...   ...   ...   ...   ...  ...  ...  ...  ...  ...  ...  ...  ...   \n",
      "0   0.0  0.0   5.0  14.0  15.0   4.0  0.0  0.0  0.0  0.0  ...  1.0  0.0  0.0   \n",
      "0   0.0  0.0   0.0   8.0  14.0   0.0  0.0  0.0  0.0  0.0  ...  0.0  0.0  0.0   \n",
      "0   0.0  0.0  12.0  16.0   7.0   0.0  0.0  0.0  0.0  2.0  ...  0.0  0.0  0.0   \n",
      "0   0.0  0.0   3.0  12.0  10.0   1.0  0.0  0.0  0.0  1.0  ...  3.0  0.0  0.0   \n",
      "0   0.0  0.0   5.0   4.0   9.0  10.0  0.0  0.0  0.0  0.0  ...  0.0  0.0  0.0   \n",
      "\n",
      "     57    58    59    60    61   62   63  \n",
      "0   0.0   6.0  13.0  10.0   0.0  0.0  0.0  \n",
      "0   0.0   0.0  11.0  16.0  10.0  0.0  0.0  \n",
      "0   0.0   0.0   3.0  11.0  16.0  9.0  0.0  \n",
      "0   0.0   7.0  13.0  13.0   9.0  0.0  0.0  \n",
      "0   0.0   0.0   2.0  16.0   4.0  0.0  0.0  \n",
      "..  ...   ...   ...   ...   ...  ...  ...  \n",
      "0   0.0   5.0  16.0  16.0  16.0  2.0  0.0  \n",
      "0   0.0   0.0  10.0  15.0   0.0  0.0  0.0  \n",
      "0   0.0  11.0  16.0  16.0   3.0  0.0  0.0  \n",
      "0   0.0   2.0  13.0  15.0   6.0  0.0  0.0  \n",
      "0   0.0   7.0  16.0   5.0   0.0  0.0  0.0  \n",
      "\n",
      "[128 rows x 64 columns]\n",
      "     0    1     2     3     4     5    6    7    8    9   ...   54   55   56  \\\n",
      "0   0.0  0.0   5.0  13.0   9.0   1.0  0.0  0.0  0.0  0.0  ...  0.0  0.0  0.0   \n",
      "0   0.0  0.0   0.0  12.0  13.0   5.0  0.0  0.0  0.0  0.0  ...  0.0  0.0  0.0   \n",
      "0   0.0  0.0   0.0   4.0  15.0  12.0  0.0  0.0  0.0  0.0  ...  5.0  0.0  0.0   \n",
      "0   0.0  0.0   7.0  15.0  13.0   1.0  0.0  0.0  0.0  8.0  ...  9.0  0.0  0.0   \n",
      "0   0.0  0.0   0.0   1.0  11.0   0.0  0.0  0.0  0.0  0.0  ...  0.0  0.0  0.0   \n",
      "..  ...  ...   ...   ...   ...   ...  ...  ...  ...  ...  ...  ...  ...  ...   \n",
      "0   0.0  0.0   0.0   8.0  14.0   0.0  0.0  0.0  0.0  0.0  ...  0.0  0.0  0.0   \n",
      "0   0.0  0.0  12.0  16.0   7.0   0.0  0.0  0.0  0.0  2.0  ...  0.0  0.0  0.0   \n",
      "0   0.0  0.0   3.0  12.0  10.0   1.0  0.0  0.0  0.0  1.0  ...  3.0  0.0  0.0   \n",
      "0   0.0  0.0   5.0   4.0   9.0  10.0  0.0  0.0  0.0  0.0  ...  0.0  0.0  0.0   \n",
      "0   0.0  0.0   1.0  11.0  15.0   8.0  0.0  0.0  0.0  0.0  ...  4.0  0.0  0.0   \n",
      "\n",
      "     57    58    59    60    61   62   63  \n",
      "0   0.0   6.0  13.0  10.0   0.0  0.0  0.0  \n",
      "0   0.0   0.0  11.0  16.0  10.0  0.0  0.0  \n",
      "0   0.0   0.0   3.0  11.0  16.0  9.0  0.0  \n",
      "0   0.0   7.0  13.0  13.0   9.0  0.0  0.0  \n",
      "0   0.0   0.0   2.0  16.0   4.0  0.0  0.0  \n",
      "..  ...   ...   ...   ...   ...  ...  ...  \n",
      "0   0.0   0.0  10.0  15.0   0.0  0.0  0.0  \n",
      "0   0.0  11.0  16.0  16.0   3.0  0.0  0.0  \n",
      "0   0.0   2.0  13.0  15.0   6.0  0.0  0.0  \n",
      "0   0.0   7.0  16.0   5.0   0.0  0.0  0.0  \n",
      "0   0.0   2.0  10.0  15.0  15.0  2.0  0.0  \n",
      "\n",
      "[129 rows x 64 columns]\n",
      "     0    1     2     3     4     5    6    7    8    9   ...   54   55   56  \\\n",
      "0   0.0  0.0   5.0  13.0   9.0   1.0  0.0  0.0  0.0  0.0  ...  0.0  0.0  0.0   \n",
      "0   0.0  0.0   0.0  12.0  13.0   5.0  0.0  0.0  0.0  0.0  ...  0.0  0.0  0.0   \n",
      "0   0.0  0.0   0.0   4.0  15.0  12.0  0.0  0.0  0.0  0.0  ...  5.0  0.0  0.0   \n",
      "0   0.0  0.0   7.0  15.0  13.0   1.0  0.0  0.0  0.0  8.0  ...  9.0  0.0  0.0   \n",
      "0   0.0  0.0   0.0   1.0  11.0   0.0  0.0  0.0  0.0  0.0  ...  0.0  0.0  0.0   \n",
      "..  ...  ...   ...   ...   ...   ...  ...  ...  ...  ...  ...  ...  ...  ...   \n",
      "0   0.0  0.0  12.0  16.0   7.0   0.0  0.0  0.0  0.0  2.0  ...  0.0  0.0  0.0   \n",
      "0   0.0  0.0   3.0  12.0  10.0   1.0  0.0  0.0  0.0  1.0  ...  3.0  0.0  0.0   \n",
      "0   0.0  0.0   5.0   4.0   9.0  10.0  0.0  0.0  0.0  0.0  ...  0.0  0.0  0.0   \n",
      "0   0.0  0.0   1.0  11.0  15.0   8.0  0.0  0.0  0.0  0.0  ...  4.0  0.0  0.0   \n",
      "0   0.0  0.0   7.0  13.0  15.0   5.0  0.0  0.0  0.0  0.0  ...  0.0  0.0  0.0   \n",
      "\n",
      "     57    58    59    60    61   62   63  \n",
      "0   0.0   6.0  13.0  10.0   0.0  0.0  0.0  \n",
      "0   0.0   0.0  11.0  16.0  10.0  0.0  0.0  \n",
      "0   0.0   0.0   3.0  11.0  16.0  9.0  0.0  \n",
      "0   0.0   7.0  13.0  13.0   9.0  0.0  0.0  \n",
      "0   0.0   0.0   2.0  16.0   4.0  0.0  0.0  \n",
      "..  ...   ...   ...   ...   ...  ...  ...  \n",
      "0   0.0  11.0  16.0  16.0   3.0  0.0  0.0  \n",
      "0   0.0   2.0  13.0  15.0   6.0  0.0  0.0  \n",
      "0   0.0   7.0  16.0   5.0   0.0  0.0  0.0  \n",
      "0   0.0   2.0  10.0  15.0  15.0  2.0  0.0  \n",
      "0   0.0   5.0  13.0  10.0   0.0  0.0  0.0  \n",
      "\n",
      "[130 rows x 64 columns]\n",
      "     0    1    2     3     4     5    6    7    8    9   ...   54   55   56  \\\n",
      "0   0.0  0.0  5.0  13.0   9.0   1.0  0.0  0.0  0.0  0.0  ...  0.0  0.0  0.0   \n",
      "0   0.0  0.0  0.0  12.0  13.0   5.0  0.0  0.0  0.0  0.0  ...  0.0  0.0  0.0   \n",
      "0   0.0  0.0  0.0   4.0  15.0  12.0  0.0  0.0  0.0  0.0  ...  5.0  0.0  0.0   \n",
      "0   0.0  0.0  7.0  15.0  13.0   1.0  0.0  0.0  0.0  8.0  ...  9.0  0.0  0.0   \n",
      "0   0.0  0.0  0.0   1.0  11.0   0.0  0.0  0.0  0.0  0.0  ...  0.0  0.0  0.0   \n",
      "..  ...  ...  ...   ...   ...   ...  ...  ...  ...  ...  ...  ...  ...  ...   \n",
      "0   0.0  0.0  3.0  12.0  10.0   1.0  0.0  0.0  0.0  1.0  ...  3.0  0.0  0.0   \n",
      "0   0.0  0.0  5.0   4.0   9.0  10.0  0.0  0.0  0.0  0.0  ...  0.0  0.0  0.0   \n",
      "0   0.0  0.0  1.0  11.0  15.0   8.0  0.0  0.0  0.0  0.0  ...  4.0  0.0  0.0   \n",
      "0   0.0  0.0  7.0  13.0  15.0   5.0  0.0  0.0  0.0  0.0  ...  0.0  0.0  0.0   \n",
      "0   0.0  0.0  2.0  12.0   9.0   0.0  0.0  0.0  0.0  0.0  ...  1.0  0.0  0.0   \n",
      "\n",
      "     57   58    59    60    61   62   63  \n",
      "0   0.0  6.0  13.0  10.0   0.0  0.0  0.0  \n",
      "0   0.0  0.0  11.0  16.0  10.0  0.0  0.0  \n",
      "0   0.0  0.0   3.0  11.0  16.0  9.0  0.0  \n",
      "0   0.0  7.0  13.0  13.0   9.0  0.0  0.0  \n",
      "0   0.0  0.0   2.0  16.0   4.0  0.0  0.0  \n",
      "..  ...  ...   ...   ...   ...  ...  ...  \n",
      "0   0.0  2.0  13.0  15.0   6.0  0.0  0.0  \n",
      "0   0.0  7.0  16.0   5.0   0.0  0.0  0.0  \n",
      "0   0.0  2.0  10.0  15.0  15.0  2.0  0.0  \n",
      "0   0.0  5.0  13.0  10.0   0.0  0.0  0.0  \n",
      "0   0.0  5.0  14.0  12.0   4.0  0.0  0.0  \n",
      "\n",
      "[131 rows x 64 columns]\n",
      "     0    1    2     3     4     5    6    7    8    9   ...   54   55   56  \\\n",
      "0   0.0  0.0  5.0  13.0   9.0   1.0  0.0  0.0  0.0  0.0  ...  0.0  0.0  0.0   \n",
      "0   0.0  0.0  0.0  12.0  13.0   5.0  0.0  0.0  0.0  0.0  ...  0.0  0.0  0.0   \n",
      "0   0.0  0.0  0.0   4.0  15.0  12.0  0.0  0.0  0.0  0.0  ...  5.0  0.0  0.0   \n",
      "0   0.0  0.0  7.0  15.0  13.0   1.0  0.0  0.0  0.0  8.0  ...  9.0  0.0  0.0   \n",
      "0   0.0  0.0  0.0   1.0  11.0   0.0  0.0  0.0  0.0  0.0  ...  0.0  0.0  0.0   \n",
      "..  ...  ...  ...   ...   ...   ...  ...  ...  ...  ...  ...  ...  ...  ...   \n",
      "0   0.0  0.0  5.0   4.0   9.0  10.0  0.0  0.0  0.0  0.0  ...  0.0  0.0  0.0   \n",
      "0   0.0  0.0  1.0  11.0  15.0   8.0  0.0  0.0  0.0  0.0  ...  4.0  0.0  0.0   \n",
      "0   0.0  0.0  7.0  13.0  15.0   5.0  0.0  0.0  0.0  0.0  ...  0.0  0.0  0.0   \n",
      "0   0.0  0.0  2.0  12.0   9.0   0.0  0.0  0.0  0.0  0.0  ...  1.0  0.0  0.0   \n",
      "0   0.0  0.0  0.0   0.0   5.0  15.0  8.0  0.0  0.0  0.0  ...  1.0  0.0  0.0   \n",
      "\n",
      "     57   58    59    60    61   62   63  \n",
      "0   0.0  6.0  13.0  10.0   0.0  0.0  0.0  \n",
      "0   0.0  0.0  11.0  16.0  10.0  0.0  0.0  \n",
      "0   0.0  0.0   3.0  11.0  16.0  9.0  0.0  \n",
      "0   0.0  7.0  13.0  13.0   9.0  0.0  0.0  \n",
      "0   0.0  0.0   2.0  16.0   4.0  0.0  0.0  \n",
      "..  ...  ...   ...   ...   ...  ...  ...  \n",
      "0   0.0  7.0  16.0   5.0   0.0  0.0  0.0  \n",
      "0   0.0  2.0  10.0  15.0  15.0  2.0  0.0  \n",
      "0   0.0  5.0  13.0  10.0   0.0  0.0  0.0  \n",
      "0   0.0  5.0  14.0  12.0   4.0  0.0  0.0  \n",
      "0   0.0  0.0   0.0   8.0  14.0  0.0  0.0  \n",
      "\n",
      "[132 rows x 64 columns]\n",
      "     0    1     2     3     4     5    6    7    8    9   ...   54   55   56  \\\n",
      "0   0.0  0.0   5.0  13.0   9.0   1.0  0.0  0.0  0.0  0.0  ...  0.0  0.0  0.0   \n",
      "0   0.0  0.0   0.0  12.0  13.0   5.0  0.0  0.0  0.0  0.0  ...  0.0  0.0  0.0   \n",
      "0   0.0  0.0   0.0   4.0  15.0  12.0  0.0  0.0  0.0  0.0  ...  5.0  0.0  0.0   \n",
      "0   0.0  0.0   7.0  15.0  13.0   1.0  0.0  0.0  0.0  8.0  ...  9.0  0.0  0.0   \n",
      "0   0.0  0.0   0.0   1.0  11.0   0.0  0.0  0.0  0.0  0.0  ...  0.0  0.0  0.0   \n",
      "..  ...  ...   ...   ...   ...   ...  ...  ...  ...  ...  ...  ...  ...  ...   \n",
      "0   0.0  0.0   1.0  11.0  15.0   8.0  0.0  0.0  0.0  0.0  ...  4.0  0.0  0.0   \n",
      "0   0.0  0.0   7.0  13.0  15.0   5.0  0.0  0.0  0.0  0.0  ...  0.0  0.0  0.0   \n",
      "0   0.0  0.0   2.0  12.0   9.0   0.0  0.0  0.0  0.0  0.0  ...  1.0  0.0  0.0   \n",
      "0   0.0  0.0   0.0   0.0   5.0  15.0  8.0  0.0  0.0  0.0  ...  1.0  0.0  0.0   \n",
      "0   0.0  2.0  15.0  16.0   6.0   0.0  0.0  0.0  0.0  5.0  ...  1.0  0.0  0.0   \n",
      "\n",
      "     57    58    59    60    61   62   63  \n",
      "0   0.0   6.0  13.0  10.0   0.0  0.0  0.0  \n",
      "0   0.0   0.0  11.0  16.0  10.0  0.0  0.0  \n",
      "0   0.0   0.0   3.0  11.0  16.0  9.0  0.0  \n",
      "0   0.0   7.0  13.0  13.0   9.0  0.0  0.0  \n",
      "0   0.0   0.0   2.0  16.0   4.0  0.0  0.0  \n",
      "..  ...   ...   ...   ...   ...  ...  ...  \n",
      "0   0.0   2.0  10.0  15.0  15.0  2.0  0.0  \n",
      "0   0.0   5.0  13.0  10.0   0.0  0.0  0.0  \n",
      "0   0.0   5.0  14.0  12.0   4.0  0.0  0.0  \n",
      "0   0.0   0.0   0.0   8.0  14.0  0.0  0.0  \n",
      "0   2.0  15.0  16.0  16.0  16.0  7.0  0.0  \n",
      "\n",
      "[133 rows x 64 columns]\n",
      "     0    1     2     3     4     5    6    7    8    9   ...   54   55   56  \\\n",
      "0   0.0  0.0   5.0  13.0   9.0   1.0  0.0  0.0  0.0  0.0  ...  0.0  0.0  0.0   \n",
      "0   0.0  0.0   0.0  12.0  13.0   5.0  0.0  0.0  0.0  0.0  ...  0.0  0.0  0.0   \n",
      "0   0.0  0.0   0.0   4.0  15.0  12.0  0.0  0.0  0.0  0.0  ...  5.0  0.0  0.0   \n",
      "0   0.0  0.0   7.0  15.0  13.0   1.0  0.0  0.0  0.0  8.0  ...  9.0  0.0  0.0   \n",
      "0   0.0  0.0   0.0   1.0  11.0   0.0  0.0  0.0  0.0  0.0  ...  0.0  0.0  0.0   \n",
      "..  ...  ...   ...   ...   ...   ...  ...  ...  ...  ...  ...  ...  ...  ...   \n",
      "0   0.0  0.0   7.0  13.0  15.0   5.0  0.0  0.0  0.0  0.0  ...  0.0  0.0  0.0   \n",
      "0   0.0  0.0   2.0  12.0   9.0   0.0  0.0  0.0  0.0  0.0  ...  1.0  0.0  0.0   \n",
      "0   0.0  0.0   0.0   0.0   5.0  15.0  8.0  0.0  0.0  0.0  ...  1.0  0.0  0.0   \n",
      "0   0.0  2.0  15.0  16.0   6.0   0.0  0.0  0.0  0.0  5.0  ...  1.0  0.0  0.0   \n",
      "0   0.0  3.0  16.0  16.0  12.0  12.0  6.0  0.0  0.0  0.0  ...  0.0  0.0  0.0   \n",
      "\n",
      "     57    58    59    60    61   62   63  \n",
      "0   0.0   6.0  13.0  10.0   0.0  0.0  0.0  \n",
      "0   0.0   0.0  11.0  16.0  10.0  0.0  0.0  \n",
      "0   0.0   0.0   3.0  11.0  16.0  9.0  0.0  \n",
      "0   0.0   7.0  13.0  13.0   9.0  0.0  0.0  \n",
      "0   0.0   0.0   2.0  16.0   4.0  0.0  0.0  \n",
      "..  ...   ...   ...   ...   ...  ...  ...  \n",
      "0   0.0   5.0  13.0  10.0   0.0  0.0  0.0  \n",
      "0   0.0   5.0  14.0  12.0   4.0  0.0  0.0  \n",
      "0   0.0   0.0   0.0   8.0  14.0  0.0  0.0  \n",
      "0   2.0  15.0  16.0  16.0  16.0  7.0  0.0  \n",
      "0   3.0  16.0  14.0   4.0   0.0  0.0  0.0  \n",
      "\n",
      "[134 rows x 64 columns]\n",
      "     0    1     2     3     4     5    6    7    8    9   ...   54   55   56  \\\n",
      "0   0.0  0.0   5.0  13.0   9.0   1.0  0.0  0.0  0.0  0.0  ...  0.0  0.0  0.0   \n",
      "0   0.0  0.0   0.0  12.0  13.0   5.0  0.0  0.0  0.0  0.0  ...  0.0  0.0  0.0   \n",
      "0   0.0  0.0   0.0   4.0  15.0  12.0  0.0  0.0  0.0  0.0  ...  5.0  0.0  0.0   \n",
      "0   0.0  0.0   7.0  15.0  13.0   1.0  0.0  0.0  0.0  8.0  ...  9.0  0.0  0.0   \n",
      "0   0.0  0.0   0.0   1.0  11.0   0.0  0.0  0.0  0.0  0.0  ...  0.0  0.0  0.0   \n",
      "..  ...  ...   ...   ...   ...   ...  ...  ...  ...  ...  ...  ...  ...  ...   \n",
      "0   0.0  0.0   2.0  12.0   9.0   0.0  0.0  0.0  0.0  0.0  ...  1.0  0.0  0.0   \n",
      "0   0.0  0.0   0.0   0.0   5.0  15.0  8.0  0.0  0.0  0.0  ...  1.0  0.0  0.0   \n",
      "0   0.0  2.0  15.0  16.0   6.0   0.0  0.0  0.0  0.0  5.0  ...  1.0  0.0  0.0   \n",
      "0   0.0  3.0  16.0  16.0  12.0  12.0  6.0  0.0  0.0  0.0  ...  0.0  0.0  0.0   \n",
      "0   0.0  0.0   0.0   3.0  16.0   3.0  0.0  0.0  0.0  0.0  ...  0.0  0.0  0.0   \n",
      "\n",
      "     57    58    59    60    61   62   63  \n",
      "0   0.0   6.0  13.0  10.0   0.0  0.0  0.0  \n",
      "0   0.0   0.0  11.0  16.0  10.0  0.0  0.0  \n",
      "0   0.0   0.0   3.0  11.0  16.0  9.0  0.0  \n",
      "0   0.0   7.0  13.0  13.0   9.0  0.0  0.0  \n",
      "0   0.0   0.0   2.0  16.0   4.0  0.0  0.0  \n",
      "..  ...   ...   ...   ...   ...  ...  ...  \n",
      "0   0.0   5.0  14.0  12.0   4.0  0.0  0.0  \n",
      "0   0.0   0.0   0.0   8.0  14.0  0.0  0.0  \n",
      "0   2.0  15.0  16.0  16.0  16.0  7.0  0.0  \n",
      "0   3.0  16.0  14.0   4.0   0.0  0.0  0.0  \n",
      "0   0.0   0.0   4.0  14.0   0.0  0.0  0.0  \n",
      "\n",
      "[135 rows x 64 columns]\n",
      "     0    1     2     3     4     5    6    7    8     9   ...   54   55   56  \\\n",
      "0   0.0  0.0   5.0  13.0   9.0   1.0  0.0  0.0  0.0   0.0  ...  0.0  0.0  0.0   \n",
      "0   0.0  0.0   0.0  12.0  13.0   5.0  0.0  0.0  0.0   0.0  ...  0.0  0.0  0.0   \n",
      "0   0.0  0.0   0.0   4.0  15.0  12.0  0.0  0.0  0.0   0.0  ...  5.0  0.0  0.0   \n",
      "0   0.0  0.0   7.0  15.0  13.0   1.0  0.0  0.0  0.0   8.0  ...  9.0  0.0  0.0   \n",
      "0   0.0  0.0   0.0   1.0  11.0   0.0  0.0  0.0  0.0   0.0  ...  0.0  0.0  0.0   \n",
      "..  ...  ...   ...   ...   ...   ...  ...  ...  ...   ...  ...  ...  ...  ...   \n",
      "0   0.0  0.0   0.0   0.0   5.0  15.0  8.0  0.0  0.0   0.0  ...  1.0  0.0  0.0   \n",
      "0   0.0  2.0  15.0  16.0   6.0   0.0  0.0  0.0  0.0   5.0  ...  1.0  0.0  0.0   \n",
      "0   0.0  3.0  16.0  16.0  12.0  12.0  6.0  0.0  0.0   0.0  ...  0.0  0.0  0.0   \n",
      "0   0.0  0.0   0.0   3.0  16.0   3.0  0.0  0.0  0.0   0.0  ...  0.0  0.0  0.0   \n",
      "0   0.0  4.0  16.0  16.0  16.0  10.0  3.0  0.0  0.0  12.0  ...  0.0  0.0  0.0   \n",
      "\n",
      "     57    58    59    60    61   62   63  \n",
      "0   0.0   6.0  13.0  10.0   0.0  0.0  0.0  \n",
      "0   0.0   0.0  11.0  16.0  10.0  0.0  0.0  \n",
      "0   0.0   0.0   3.0  11.0  16.0  9.0  0.0  \n",
      "0   0.0   7.0  13.0  13.0   9.0  0.0  0.0  \n",
      "0   0.0   0.0   2.0  16.0   4.0  0.0  0.0  \n",
      "..  ...   ...   ...   ...   ...  ...  ...  \n",
      "0   0.0   0.0   0.0   8.0  14.0  0.0  0.0  \n",
      "0   2.0  15.0  16.0  16.0  16.0  7.0  0.0  \n",
      "0   3.0  16.0  14.0   4.0   0.0  0.0  0.0  \n",
      "0   0.0   0.0   4.0  14.0   0.0  0.0  0.0  \n",
      "0   4.0  16.0  13.0   3.0   0.0  0.0  0.0  \n",
      "\n",
      "[136 rows x 64 columns]\n",
      "     0    1     2     3     4     5    6    7    8     9   ...    54   55  \\\n",
      "0   0.0  0.0   5.0  13.0   9.0   1.0  0.0  0.0  0.0   0.0  ...   0.0  0.0   \n",
      "0   0.0  0.0   0.0  12.0  13.0   5.0  0.0  0.0  0.0   0.0  ...   0.0  0.0   \n",
      "0   0.0  0.0   0.0   4.0  15.0  12.0  0.0  0.0  0.0   0.0  ...   5.0  0.0   \n",
      "0   0.0  0.0   7.0  15.0  13.0   1.0  0.0  0.0  0.0   8.0  ...   9.0  0.0   \n",
      "0   0.0  0.0   0.0   1.0  11.0   0.0  0.0  0.0  0.0   0.0  ...   0.0  0.0   \n",
      "..  ...  ...   ...   ...   ...   ...  ...  ...  ...   ...  ...   ...  ...   \n",
      "0   0.0  2.0  15.0  16.0   6.0   0.0  0.0  0.0  0.0   5.0  ...   1.0  0.0   \n",
      "0   0.0  3.0  16.0  16.0  12.0  12.0  6.0  0.0  0.0   0.0  ...   0.0  0.0   \n",
      "0   0.0  0.0   0.0   3.0  16.0   3.0  0.0  0.0  0.0   0.0  ...   0.0  0.0   \n",
      "0   0.0  4.0  16.0  16.0  16.0  10.0  3.0  0.0  0.0  12.0  ...   0.0  0.0   \n",
      "0   0.0  0.0   2.0  15.0   4.0   0.0  0.0  0.0  0.0   0.0  ...  13.0  0.0   \n",
      "\n",
      "     56   57    58    59    60    61   62   63  \n",
      "0   0.0  0.0   6.0  13.0  10.0   0.0  0.0  0.0  \n",
      "0   0.0  0.0   0.0  11.0  16.0  10.0  0.0  0.0  \n",
      "0   0.0  0.0   0.0   3.0  11.0  16.0  9.0  0.0  \n",
      "0   0.0  0.0   7.0  13.0  13.0   9.0  0.0  0.0  \n",
      "0   0.0  0.0   0.0   2.0  16.0   4.0  0.0  0.0  \n",
      "..  ...  ...   ...   ...   ...   ...  ...  ...  \n",
      "0   0.0  2.0  15.0  16.0  16.0  16.0  7.0  0.0  \n",
      "0   0.0  3.0  16.0  14.0   4.0   0.0  0.0  0.0  \n",
      "0   0.0  0.0   0.0   4.0  14.0   0.0  0.0  0.0  \n",
      "0   0.0  4.0  16.0  13.0   3.0   0.0  0.0  0.0  \n",
      "0   0.0  0.0   2.0  13.0  16.0  16.0  8.0  0.0  \n",
      "\n",
      "[137 rows x 64 columns]\n",
      "     0    1     2     3     4     5    6    7    8     9   ...    54   55  \\\n",
      "0   0.0  0.0   5.0  13.0   9.0   1.0  0.0  0.0  0.0   0.0  ...   0.0  0.0   \n",
      "0   0.0  0.0   0.0  12.0  13.0   5.0  0.0  0.0  0.0   0.0  ...   0.0  0.0   \n",
      "0   0.0  0.0   0.0   4.0  15.0  12.0  0.0  0.0  0.0   0.0  ...   5.0  0.0   \n",
      "0   0.0  0.0   7.0  15.0  13.0   1.0  0.0  0.0  0.0   8.0  ...   9.0  0.0   \n",
      "0   0.0  0.0   0.0   1.0  11.0   0.0  0.0  0.0  0.0   0.0  ...   0.0  0.0   \n",
      "..  ...  ...   ...   ...   ...   ...  ...  ...  ...   ...  ...   ...  ...   \n",
      "0   0.0  3.0  16.0  16.0  12.0  12.0  6.0  0.0  0.0   0.0  ...   0.0  0.0   \n",
      "0   0.0  0.0   0.0   3.0  16.0   3.0  0.0  0.0  0.0   0.0  ...   0.0  0.0   \n",
      "0   0.0  4.0  16.0  16.0  16.0  10.0  3.0  0.0  0.0  12.0  ...   0.0  0.0   \n",
      "0   0.0  0.0   2.0  15.0   4.0   0.0  0.0  0.0  0.0   0.0  ...  13.0  0.0   \n",
      "0   0.0  0.0   2.0  15.0  15.0   3.0  0.0  0.0  0.0   0.0  ...   0.0  0.0   \n",
      "\n",
      "     56   57    58    59    60    61   62   63  \n",
      "0   0.0  0.0   6.0  13.0  10.0   0.0  0.0  0.0  \n",
      "0   0.0  0.0   0.0  11.0  16.0  10.0  0.0  0.0  \n",
      "0   0.0  0.0   0.0   3.0  11.0  16.0  9.0  0.0  \n",
      "0   0.0  0.0   7.0  13.0  13.0   9.0  0.0  0.0  \n",
      "0   0.0  0.0   0.0   2.0  16.0   4.0  0.0  0.0  \n",
      "..  ...  ...   ...   ...   ...   ...  ...  ...  \n",
      "0   0.0  3.0  16.0  14.0   4.0   0.0  0.0  0.0  \n",
      "0   0.0  0.0   0.0   4.0  14.0   0.0  0.0  0.0  \n",
      "0   0.0  4.0  16.0  13.0   3.0   0.0  0.0  0.0  \n",
      "0   0.0  0.0   2.0  13.0  16.0  16.0  8.0  0.0  \n",
      "0   0.0  0.0   4.0  12.0   1.0   0.0  0.0  0.0  \n",
      "\n",
      "[138 rows x 64 columns]\n",
      "     0    1     2     3     4     5    6    7    8     9   ...    54   55  \\\n",
      "0   0.0  0.0   5.0  13.0   9.0   1.0  0.0  0.0  0.0   0.0  ...   0.0  0.0   \n",
      "0   0.0  0.0   0.0  12.0  13.0   5.0  0.0  0.0  0.0   0.0  ...   0.0  0.0   \n",
      "0   0.0  0.0   0.0   4.0  15.0  12.0  0.0  0.0  0.0   0.0  ...   5.0  0.0   \n",
      "0   0.0  0.0   7.0  15.0  13.0   1.0  0.0  0.0  0.0   8.0  ...   9.0  0.0   \n",
      "0   0.0  0.0   0.0   1.0  11.0   0.0  0.0  0.0  0.0   0.0  ...   0.0  0.0   \n",
      "..  ...  ...   ...   ...   ...   ...  ...  ...  ...   ...  ...   ...  ...   \n",
      "0   0.0  0.0   0.0   3.0  16.0   3.0  0.0  0.0  0.0   0.0  ...   0.0  0.0   \n",
      "0   0.0  4.0  16.0  16.0  16.0  10.0  3.0  0.0  0.0  12.0  ...   0.0  0.0   \n",
      "0   0.0  0.0   2.0  15.0   4.0   0.0  0.0  0.0  0.0   0.0  ...  13.0  0.0   \n",
      "0   0.0  0.0   2.0  15.0  15.0   3.0  0.0  0.0  0.0   0.0  ...   0.0  0.0   \n",
      "0   0.0  0.0   5.0  12.0  13.0   2.0  0.0  0.0  0.0   3.0  ...   0.0  0.0   \n",
      "\n",
      "     56   57    58    59    60    61   62   63  \n",
      "0   0.0  0.0   6.0  13.0  10.0   0.0  0.0  0.0  \n",
      "0   0.0  0.0   0.0  11.0  16.0  10.0  0.0  0.0  \n",
      "0   0.0  0.0   0.0   3.0  11.0  16.0  9.0  0.0  \n",
      "0   0.0  0.0   7.0  13.0  13.0   9.0  0.0  0.0  \n",
      "0   0.0  0.0   0.0   2.0  16.0   4.0  0.0  0.0  \n",
      "..  ...  ...   ...   ...   ...   ...  ...  ...  \n",
      "0   0.0  0.0   0.0   4.0  14.0   0.0  0.0  0.0  \n",
      "0   0.0  4.0  16.0  13.0   3.0   0.0  0.0  0.0  \n",
      "0   0.0  0.0   2.0  13.0  16.0  16.0  8.0  0.0  \n",
      "0   0.0  0.0   4.0  12.0   1.0   0.0  0.0  0.0  \n",
      "0   0.0  0.0   6.0  16.0  13.0   3.0  0.0  0.0  \n",
      "\n",
      "[139 rows x 64 columns]\n",
      "     0    1     2     3     4     5    6    7    8     9   ...    54   55  \\\n",
      "0   0.0  0.0   5.0  13.0   9.0   1.0  0.0  0.0  0.0   0.0  ...   0.0  0.0   \n",
      "0   0.0  0.0   0.0  12.0  13.0   5.0  0.0  0.0  0.0   0.0  ...   0.0  0.0   \n",
      "0   0.0  0.0   0.0   4.0  15.0  12.0  0.0  0.0  0.0   0.0  ...   5.0  0.0   \n",
      "0   0.0  0.0   7.0  15.0  13.0   1.0  0.0  0.0  0.0   8.0  ...   9.0  0.0   \n",
      "0   0.0  0.0   0.0   1.0  11.0   0.0  0.0  0.0  0.0   0.0  ...   0.0  0.0   \n",
      "..  ...  ...   ...   ...   ...   ...  ...  ...  ...   ...  ...   ...  ...   \n",
      "0   0.0  4.0  16.0  16.0  16.0  10.0  3.0  0.0  0.0  12.0  ...   0.0  0.0   \n",
      "0   0.0  0.0   2.0  15.0   4.0   0.0  0.0  0.0  0.0   0.0  ...  13.0  0.0   \n",
      "0   0.0  0.0   2.0  15.0  15.0   3.0  0.0  0.0  0.0   0.0  ...   0.0  0.0   \n",
      "0   0.0  0.0   5.0  12.0  13.0   2.0  0.0  0.0  0.0   3.0  ...   0.0  0.0   \n",
      "0   0.0  0.0   5.0  15.0   5.0   0.0  0.0  0.0  0.0   0.0  ...   6.0  0.0   \n",
      "\n",
      "     56   57    58    59    60    61   62   63  \n",
      "0   0.0  0.0   6.0  13.0  10.0   0.0  0.0  0.0  \n",
      "0   0.0  0.0   0.0  11.0  16.0  10.0  0.0  0.0  \n",
      "0   0.0  0.0   0.0   3.0  11.0  16.0  9.0  0.0  \n",
      "0   0.0  0.0   7.0  13.0  13.0   9.0  0.0  0.0  \n",
      "0   0.0  0.0   0.0   2.0  16.0   4.0  0.0  0.0  \n",
      "..  ...  ...   ...   ...   ...   ...  ...  ...  \n",
      "0   0.0  4.0  16.0  13.0   3.0   0.0  0.0  0.0  \n",
      "0   0.0  0.0   2.0  13.0  16.0  16.0  8.0  0.0  \n",
      "0   0.0  0.0   4.0  12.0   1.0   0.0  0.0  0.0  \n",
      "0   0.0  0.0   6.0  16.0  13.0   3.0  0.0  0.0  \n",
      "0   0.0  0.0   2.0  13.0  16.0  15.0  3.0  0.0  \n",
      "\n",
      "[140 rows x 64 columns]\n",
      "     0    1     2     3     4     5    6    7    8    9   ...    54   55   56  \\\n",
      "0   0.0  0.0   5.0  13.0   9.0   1.0  0.0  0.0  0.0  0.0  ...   0.0  0.0  0.0   \n",
      "0   0.0  0.0   0.0  12.0  13.0   5.0  0.0  0.0  0.0  0.0  ...   0.0  0.0  0.0   \n",
      "0   0.0  0.0   0.0   4.0  15.0  12.0  0.0  0.0  0.0  0.0  ...   5.0  0.0  0.0   \n",
      "0   0.0  0.0   7.0  15.0  13.0   1.0  0.0  0.0  0.0  8.0  ...   9.0  0.0  0.0   \n",
      "0   0.0  0.0   0.0   1.0  11.0   0.0  0.0  0.0  0.0  0.0  ...   0.0  0.0  0.0   \n",
      "..  ...  ...   ...   ...   ...   ...  ...  ...  ...  ...  ...   ...  ...  ...   \n",
      "0   0.0  0.0   2.0  15.0   4.0   0.0  0.0  0.0  0.0  0.0  ...  13.0  0.0  0.0   \n",
      "0   0.0  0.0   2.0  15.0  15.0   3.0  0.0  0.0  0.0  0.0  ...   0.0  0.0  0.0   \n",
      "0   0.0  0.0   5.0  12.0  13.0   2.0  0.0  0.0  0.0  3.0  ...   0.0  0.0  0.0   \n",
      "0   0.0  0.0   5.0  15.0   5.0   0.0  0.0  0.0  0.0  0.0  ...   6.0  0.0  0.0   \n",
      "0   0.0  0.0  12.0   9.0  12.0   1.0  0.0  0.0  0.0  0.0  ...   0.0  0.0  0.0   \n",
      "\n",
      "     57   58    59    60    61   62   63  \n",
      "0   0.0  6.0  13.0  10.0   0.0  0.0  0.0  \n",
      "0   0.0  0.0  11.0  16.0  10.0  0.0  0.0  \n",
      "0   0.0  0.0   3.0  11.0  16.0  9.0  0.0  \n",
      "0   0.0  7.0  13.0  13.0   9.0  0.0  0.0  \n",
      "0   0.0  0.0   2.0  16.0   4.0  0.0  0.0  \n",
      "..  ...  ...   ...   ...   ...  ...  ...  \n",
      "0   0.0  2.0  13.0  16.0  16.0  8.0  0.0  \n",
      "0   0.0  4.0  12.0   1.0   0.0  0.0  0.0  \n",
      "0   0.0  6.0  16.0  13.0   3.0  0.0  0.0  \n",
      "0   0.0  2.0  13.0  16.0  15.0  3.0  0.0  \n",
      "0   0.0  7.0  12.0  12.0   2.0  0.0  0.0  \n",
      "\n",
      "[141 rows x 64 columns]\n",
      "     0    1     2     3     4     5    6    7    8    9   ...   54   55   56  \\\n",
      "0   0.0  0.0   5.0  13.0   9.0   1.0  0.0  0.0  0.0  0.0  ...  0.0  0.0  0.0   \n",
      "0   0.0  0.0   0.0  12.0  13.0   5.0  0.0  0.0  0.0  0.0  ...  0.0  0.0  0.0   \n",
      "0   0.0  0.0   0.0   4.0  15.0  12.0  0.0  0.0  0.0  0.0  ...  5.0  0.0  0.0   \n",
      "0   0.0  0.0   7.0  15.0  13.0   1.0  0.0  0.0  0.0  8.0  ...  9.0  0.0  0.0   \n",
      "0   0.0  0.0   0.0   1.0  11.0   0.0  0.0  0.0  0.0  0.0  ...  0.0  0.0  0.0   \n",
      "..  ...  ...   ...   ...   ...   ...  ...  ...  ...  ...  ...  ...  ...  ...   \n",
      "0   0.0  0.0   2.0  15.0  15.0   3.0  0.0  0.0  0.0  0.0  ...  0.0  0.0  0.0   \n",
      "0   0.0  0.0   5.0  12.0  13.0   2.0  0.0  0.0  0.0  3.0  ...  0.0  0.0  0.0   \n",
      "0   0.0  0.0   5.0  15.0   5.0   0.0  0.0  0.0  0.0  0.0  ...  6.0  0.0  0.0   \n",
      "0   0.0  0.0  12.0   9.0  12.0   1.0  0.0  0.0  0.0  0.0  ...  0.0  0.0  0.0   \n",
      "0   0.0  0.0   0.0   0.0   7.0  13.0  5.0  0.0  0.0  0.0  ...  0.0  0.0  0.0   \n",
      "\n",
      "     57   58    59    60    61   62   63  \n",
      "0   0.0  6.0  13.0  10.0   0.0  0.0  0.0  \n",
      "0   0.0  0.0  11.0  16.0  10.0  0.0  0.0  \n",
      "0   0.0  0.0   3.0  11.0  16.0  9.0  0.0  \n",
      "0   0.0  7.0  13.0  13.0   9.0  0.0  0.0  \n",
      "0   0.0  0.0   2.0  16.0   4.0  0.0  0.0  \n",
      "..  ...  ...   ...   ...   ...  ...  ...  \n",
      "0   0.0  4.0  12.0   1.0   0.0  0.0  0.0  \n",
      "0   0.0  6.0  16.0  13.0   3.0  0.0  0.0  \n",
      "0   0.0  2.0  13.0  16.0  15.0  3.0  0.0  \n",
      "0   0.0  7.0  12.0  12.0   2.0  0.0  0.0  \n",
      "0   0.0  0.0   0.0   8.0  12.0  0.0  0.0  \n",
      "\n",
      "[142 rows x 64 columns]\n",
      "     0    1     2     3     4     5    6    7    8    9   ...   54   55   56  \\\n",
      "0   0.0  0.0   5.0  13.0   9.0   1.0  0.0  0.0  0.0  0.0  ...  0.0  0.0  0.0   \n",
      "0   0.0  0.0   0.0  12.0  13.0   5.0  0.0  0.0  0.0  0.0  ...  0.0  0.0  0.0   \n",
      "0   0.0  0.0   0.0   4.0  15.0  12.0  0.0  0.0  0.0  0.0  ...  5.0  0.0  0.0   \n",
      "0   0.0  0.0   7.0  15.0  13.0   1.0  0.0  0.0  0.0  8.0  ...  9.0  0.0  0.0   \n",
      "0   0.0  0.0   0.0   1.0  11.0   0.0  0.0  0.0  0.0  0.0  ...  0.0  0.0  0.0   \n",
      "..  ...  ...   ...   ...   ...   ...  ...  ...  ...  ...  ...  ...  ...  ...   \n",
      "0   0.0  0.0   5.0  12.0  13.0   2.0  0.0  0.0  0.0  3.0  ...  0.0  0.0  0.0   \n",
      "0   0.0  0.0   5.0  15.0   5.0   0.0  0.0  0.0  0.0  0.0  ...  6.0  0.0  0.0   \n",
      "0   0.0  0.0  12.0   9.0  12.0   1.0  0.0  0.0  0.0  0.0  ...  0.0  0.0  0.0   \n",
      "0   0.0  0.0   0.0   0.0   7.0  13.0  5.0  0.0  0.0  0.0  ...  0.0  0.0  0.0   \n",
      "0   0.0  0.0  13.0  14.0   8.0   1.0  0.0  0.0  0.0  1.0  ...  0.0  0.0  0.0   \n",
      "\n",
      "     57    58    59    60    61   62   63  \n",
      "0   0.0   6.0  13.0  10.0   0.0  0.0  0.0  \n",
      "0   0.0   0.0  11.0  16.0  10.0  0.0  0.0  \n",
      "0   0.0   0.0   3.0  11.0  16.0  9.0  0.0  \n",
      "0   0.0   7.0  13.0  13.0   9.0  0.0  0.0  \n",
      "0   0.0   0.0   2.0  16.0   4.0  0.0  0.0  \n",
      "..  ...   ...   ...   ...   ...  ...  ...  \n",
      "0   0.0   6.0  16.0  13.0   3.0  0.0  0.0  \n",
      "0   0.0   2.0  13.0  16.0  15.0  3.0  0.0  \n",
      "0   0.0   7.0  12.0  12.0   2.0  0.0  0.0  \n",
      "0   0.0   0.0   0.0   8.0  12.0  0.0  0.0  \n",
      "0   1.0  13.0  14.0  12.0  12.0  0.0  0.0  \n",
      "\n",
      "[143 rows x 64 columns]\n",
      "     0    1     2     3     4     5    6    7    8    9   ...   54   55   56  \\\n",
      "0   0.0  0.0   5.0  13.0   9.0   1.0  0.0  0.0  0.0  0.0  ...  0.0  0.0  0.0   \n",
      "0   0.0  0.0   0.0  12.0  13.0   5.0  0.0  0.0  0.0  0.0  ...  0.0  0.0  0.0   \n",
      "0   0.0  0.0   0.0   4.0  15.0  12.0  0.0  0.0  0.0  0.0  ...  5.0  0.0  0.0   \n",
      "0   0.0  0.0   7.0  15.0  13.0   1.0  0.0  0.0  0.0  8.0  ...  9.0  0.0  0.0   \n",
      "0   0.0  0.0   0.0   1.0  11.0   0.0  0.0  0.0  0.0  0.0  ...  0.0  0.0  0.0   \n",
      "..  ...  ...   ...   ...   ...   ...  ...  ...  ...  ...  ...  ...  ...  ...   \n",
      "0   0.0  0.0   5.0  15.0   5.0   0.0  0.0  0.0  0.0  0.0  ...  6.0  0.0  0.0   \n",
      "0   0.0  0.0  12.0   9.0  12.0   1.0  0.0  0.0  0.0  0.0  ...  0.0  0.0  0.0   \n",
      "0   0.0  0.0   0.0   0.0   7.0  13.0  5.0  0.0  0.0  0.0  ...  0.0  0.0  0.0   \n",
      "0   0.0  0.0  13.0  14.0   8.0   1.0  0.0  0.0  0.0  1.0  ...  0.0  0.0  0.0   \n",
      "0   0.0  6.0  16.0  16.0  15.0   7.0  0.0  0.0  0.0  2.0  ...  7.0  0.0  0.0   \n",
      "\n",
      "     57    58    59    60    61   62   63  \n",
      "0   0.0   6.0  13.0  10.0   0.0  0.0  0.0  \n",
      "0   0.0   0.0  11.0  16.0  10.0  0.0  0.0  \n",
      "0   0.0   0.0   3.0  11.0  16.0  9.0  0.0  \n",
      "0   0.0   7.0  13.0  13.0   9.0  0.0  0.0  \n",
      "0   0.0   0.0   2.0  16.0   4.0  0.0  0.0  \n",
      "..  ...   ...   ...   ...   ...  ...  ...  \n",
      "0   0.0   2.0  13.0  16.0  15.0  3.0  0.0  \n",
      "0   0.0   7.0  12.0  12.0   2.0  0.0  0.0  \n",
      "0   0.0   0.0   0.0   8.0  12.0  0.0  0.0  \n",
      "0   1.0  13.0  14.0  12.0  12.0  0.0  0.0  \n",
      "0   3.0  16.0  16.0  15.0  11.0  1.0  0.0  \n",
      "\n",
      "[144 rows x 64 columns]\n",
      "     0    1     2     3     4     5    6    7    8    9   ...   54   55   56  \\\n",
      "0   0.0  0.0   5.0  13.0   9.0   1.0  0.0  0.0  0.0  0.0  ...  0.0  0.0  0.0   \n",
      "0   0.0  0.0   0.0  12.0  13.0   5.0  0.0  0.0  0.0  0.0  ...  0.0  0.0  0.0   \n",
      "0   0.0  0.0   0.0   4.0  15.0  12.0  0.0  0.0  0.0  0.0  ...  5.0  0.0  0.0   \n",
      "0   0.0  0.0   7.0  15.0  13.0   1.0  0.0  0.0  0.0  8.0  ...  9.0  0.0  0.0   \n",
      "0   0.0  0.0   0.0   1.0  11.0   0.0  0.0  0.0  0.0  0.0  ...  0.0  0.0  0.0   \n",
      "..  ...  ...   ...   ...   ...   ...  ...  ...  ...  ...  ...  ...  ...  ...   \n",
      "0   0.0  0.0  12.0   9.0  12.0   1.0  0.0  0.0  0.0  0.0  ...  0.0  0.0  0.0   \n",
      "0   0.0  0.0   0.0   0.0   7.0  13.0  5.0  0.0  0.0  0.0  ...  0.0  0.0  0.0   \n",
      "0   0.0  0.0  13.0  14.0   8.0   1.0  0.0  0.0  0.0  1.0  ...  0.0  0.0  0.0   \n",
      "0   0.0  6.0  16.0  16.0  15.0   7.0  0.0  0.0  0.0  2.0  ...  7.0  0.0  0.0   \n",
      "0   0.0  0.0   0.0   5.0  14.0   0.0  0.0  0.0  0.0  0.0  ...  0.0  0.0  0.0   \n",
      "\n",
      "     57    58    59    60    61   62   63  \n",
      "0   0.0   6.0  13.0  10.0   0.0  0.0  0.0  \n",
      "0   0.0   0.0  11.0  16.0  10.0  0.0  0.0  \n",
      "0   0.0   0.0   3.0  11.0  16.0  9.0  0.0  \n",
      "0   0.0   7.0  13.0  13.0   9.0  0.0  0.0  \n",
      "0   0.0   0.0   2.0  16.0   4.0  0.0  0.0  \n",
      "..  ...   ...   ...   ...   ...  ...  ...  \n",
      "0   0.0   7.0  12.0  12.0   2.0  0.0  0.0  \n",
      "0   0.0   0.0   0.0   8.0  12.0  0.0  0.0  \n",
      "0   1.0  13.0  14.0  12.0  12.0  0.0  0.0  \n",
      "0   3.0  16.0  16.0  15.0  11.0  1.0  0.0  \n",
      "0   0.0   0.0   7.0  10.0   0.0  0.0  0.0  \n",
      "\n",
      "[145 rows x 64 columns]\n",
      "     0    1     2     3     4     5    6    7    8    9   ...   54   55   56  \\\n",
      "0   0.0  0.0   5.0  13.0   9.0   1.0  0.0  0.0  0.0  0.0  ...  0.0  0.0  0.0   \n",
      "0   0.0  0.0   0.0  12.0  13.0   5.0  0.0  0.0  0.0  0.0  ...  0.0  0.0  0.0   \n",
      "0   0.0  0.0   0.0   4.0  15.0  12.0  0.0  0.0  0.0  0.0  ...  5.0  0.0  0.0   \n",
      "0   0.0  0.0   7.0  15.0  13.0   1.0  0.0  0.0  0.0  8.0  ...  9.0  0.0  0.0   \n",
      "0   0.0  0.0   0.0   1.0  11.0   0.0  0.0  0.0  0.0  0.0  ...  0.0  0.0  0.0   \n",
      "..  ...  ...   ...   ...   ...   ...  ...  ...  ...  ...  ...  ...  ...  ...   \n",
      "0   0.0  0.0   0.0   0.0   7.0  13.0  5.0  0.0  0.0  0.0  ...  0.0  0.0  0.0   \n",
      "0   0.0  0.0  13.0  14.0   8.0   1.0  0.0  0.0  0.0  1.0  ...  0.0  0.0  0.0   \n",
      "0   0.0  6.0  16.0  16.0  15.0   7.0  0.0  0.0  0.0  2.0  ...  7.0  0.0  0.0   \n",
      "0   0.0  0.0   0.0   5.0  14.0   0.0  0.0  0.0  0.0  0.0  ...  0.0  0.0  0.0   \n",
      "0   0.0  4.0  15.0  16.0  16.0  16.0  4.0  0.0  0.0  4.0  ...  0.0  0.0  0.0   \n",
      "\n",
      "     57    58    59    60    61   62   63  \n",
      "0   0.0   6.0  13.0  10.0   0.0  0.0  0.0  \n",
      "0   0.0   0.0  11.0  16.0  10.0  0.0  0.0  \n",
      "0   0.0   0.0   3.0  11.0  16.0  9.0  0.0  \n",
      "0   0.0   7.0  13.0  13.0   9.0  0.0  0.0  \n",
      "0   0.0   0.0   2.0  16.0   4.0  0.0  0.0  \n",
      "..  ...   ...   ...   ...   ...  ...  ...  \n",
      "0   0.0   0.0   0.0   8.0  12.0  0.0  0.0  \n",
      "0   1.0  13.0  14.0  12.0  12.0  0.0  0.0  \n",
      "0   3.0  16.0  16.0  15.0  11.0  1.0  0.0  \n",
      "0   0.0   0.0   7.0  10.0   0.0  0.0  0.0  \n",
      "0   5.0  16.0  16.0  12.0   0.0  0.0  0.0  \n",
      "\n",
      "[146 rows x 64 columns]\n",
      "     0    1     2     3     4     5    6    7    8    9   ...    54   55   56  \\\n",
      "0   0.0  0.0   5.0  13.0   9.0   1.0  0.0  0.0  0.0  0.0  ...   0.0  0.0  0.0   \n",
      "0   0.0  0.0   0.0  12.0  13.0   5.0  0.0  0.0  0.0  0.0  ...   0.0  0.0  0.0   \n",
      "0   0.0  0.0   0.0   4.0  15.0  12.0  0.0  0.0  0.0  0.0  ...   5.0  0.0  0.0   \n",
      "0   0.0  0.0   7.0  15.0  13.0   1.0  0.0  0.0  0.0  8.0  ...   9.0  0.0  0.0   \n",
      "0   0.0  0.0   0.0   1.0  11.0   0.0  0.0  0.0  0.0  0.0  ...   0.0  0.0  0.0   \n",
      "..  ...  ...   ...   ...   ...   ...  ...  ...  ...  ...  ...   ...  ...  ...   \n",
      "0   0.0  0.0  13.0  14.0   8.0   1.0  0.0  0.0  0.0  1.0  ...   0.0  0.0  0.0   \n",
      "0   0.0  6.0  16.0  16.0  15.0   7.0  0.0  0.0  0.0  2.0  ...   7.0  0.0  0.0   \n",
      "0   0.0  0.0   0.0   5.0  14.0   0.0  0.0  0.0  0.0  0.0  ...   0.0  0.0  0.0   \n",
      "0   0.0  4.0  15.0  16.0  16.0  16.0  4.0  0.0  0.0  4.0  ...   0.0  0.0  0.0   \n",
      "0   0.0  0.0   0.0   6.0  14.0   1.0  0.0  0.0  0.0  0.0  ...  12.0  0.0  0.0   \n",
      "\n",
      "     57    58    59    60    61   62   63  \n",
      "0   0.0   6.0  13.0  10.0   0.0  0.0  0.0  \n",
      "0   0.0   0.0  11.0  16.0  10.0  0.0  0.0  \n",
      "0   0.0   0.0   3.0  11.0  16.0  9.0  0.0  \n",
      "0   0.0   7.0  13.0  13.0   9.0  0.0  0.0  \n",
      "0   0.0   0.0   2.0  16.0   4.0  0.0  0.0  \n",
      "..  ...   ...   ...   ...   ...  ...  ...  \n",
      "0   1.0  13.0  14.0  12.0  12.0  0.0  0.0  \n",
      "0   3.0  16.0  16.0  15.0  11.0  1.0  0.0  \n",
      "0   0.0   0.0   7.0  10.0   0.0  0.0  0.0  \n",
      "0   5.0  16.0  16.0  12.0   0.0  0.0  0.0  \n",
      "0   0.0   0.0   9.0  15.0  14.0  6.0  0.0  \n",
      "\n",
      "[147 rows x 64 columns]\n",
      "     0    1     2     3     4     5    6    7    8    9   ...    54   55   56  \\\n",
      "0   0.0  0.0   5.0  13.0   9.0   1.0  0.0  0.0  0.0  0.0  ...   0.0  0.0  0.0   \n",
      "0   0.0  0.0   0.0  12.0  13.0   5.0  0.0  0.0  0.0  0.0  ...   0.0  0.0  0.0   \n",
      "0   0.0  0.0   0.0   4.0  15.0  12.0  0.0  0.0  0.0  0.0  ...   5.0  0.0  0.0   \n",
      "0   0.0  0.0   7.0  15.0  13.0   1.0  0.0  0.0  0.0  8.0  ...   9.0  0.0  0.0   \n",
      "0   0.0  0.0   0.0   1.0  11.0   0.0  0.0  0.0  0.0  0.0  ...   0.0  0.0  0.0   \n",
      "..  ...  ...   ...   ...   ...   ...  ...  ...  ...  ...  ...   ...  ...  ...   \n",
      "0   0.0  6.0  16.0  16.0  15.0   7.0  0.0  0.0  0.0  2.0  ...   7.0  0.0  0.0   \n",
      "0   0.0  0.0   0.0   5.0  14.0   0.0  0.0  0.0  0.0  0.0  ...   0.0  0.0  0.0   \n",
      "0   0.0  4.0  15.0  16.0  16.0  16.0  4.0  0.0  0.0  4.0  ...   0.0  0.0  0.0   \n",
      "0   0.0  0.0   0.0   6.0  14.0   1.0  0.0  0.0  0.0  0.0  ...  12.0  0.0  0.0   \n",
      "0   0.0  0.0   3.0  15.0  14.0   1.0  0.0  0.0  0.0  0.0  ...   0.0  0.0  0.0   \n",
      "\n",
      "     57    58    59    60    61   62   63  \n",
      "0   0.0   6.0  13.0  10.0   0.0  0.0  0.0  \n",
      "0   0.0   0.0  11.0  16.0  10.0  0.0  0.0  \n",
      "0   0.0   0.0   3.0  11.0  16.0  9.0  0.0  \n",
      "0   0.0   7.0  13.0  13.0   9.0  0.0  0.0  \n",
      "0   0.0   0.0   2.0  16.0   4.0  0.0  0.0  \n",
      "..  ...   ...   ...   ...   ...  ...  ...  \n",
      "0   3.0  16.0  16.0  15.0  11.0  1.0  0.0  \n",
      "0   0.0   0.0   7.0  10.0   0.0  0.0  0.0  \n",
      "0   5.0  16.0  16.0  12.0   0.0  0.0  0.0  \n",
      "0   0.0   0.0   9.0  15.0  14.0  6.0  0.0  \n",
      "0   0.0   4.0  12.0   1.0   0.0  0.0  0.0  \n",
      "\n",
      "[148 rows x 64 columns]\n",
      "     0    1     2     3     4     5    6    7    8    9   ...    54   55   56  \\\n",
      "0   0.0  0.0   5.0  13.0   9.0   1.0  0.0  0.0  0.0  0.0  ...   0.0  0.0  0.0   \n",
      "0   0.0  0.0   0.0  12.0  13.0   5.0  0.0  0.0  0.0  0.0  ...   0.0  0.0  0.0   \n",
      "0   0.0  0.0   0.0   4.0  15.0  12.0  0.0  0.0  0.0  0.0  ...   5.0  0.0  0.0   \n",
      "0   0.0  0.0   7.0  15.0  13.0   1.0  0.0  0.0  0.0  8.0  ...   9.0  0.0  0.0   \n",
      "0   0.0  0.0   0.0   1.0  11.0   0.0  0.0  0.0  0.0  0.0  ...   0.0  0.0  0.0   \n",
      "..  ...  ...   ...   ...   ...   ...  ...  ...  ...  ...  ...   ...  ...  ...   \n",
      "0   0.0  0.0   0.0   5.0  14.0   0.0  0.0  0.0  0.0  0.0  ...   0.0  0.0  0.0   \n",
      "0   0.0  4.0  15.0  16.0  16.0  16.0  4.0  0.0  0.0  4.0  ...   0.0  0.0  0.0   \n",
      "0   0.0  0.0   0.0   6.0  14.0   1.0  0.0  0.0  0.0  0.0  ...  12.0  0.0  0.0   \n",
      "0   0.0  0.0   3.0  15.0  14.0   1.0  0.0  0.0  0.0  0.0  ...   0.0  0.0  0.0   \n",
      "0   0.0  0.0   3.0  13.0  13.0   3.0  0.0  0.0  0.0  2.0  ...   7.0  0.0  0.0   \n",
      "\n",
      "     57    58    59    60    61   62   63  \n",
      "0   0.0   6.0  13.0  10.0   0.0  0.0  0.0  \n",
      "0   0.0   0.0  11.0  16.0  10.0  0.0  0.0  \n",
      "0   0.0   0.0   3.0  11.0  16.0  9.0  0.0  \n",
      "0   0.0   7.0  13.0  13.0   9.0  0.0  0.0  \n",
      "0   0.0   0.0   2.0  16.0   4.0  0.0  0.0  \n",
      "..  ...   ...   ...   ...   ...  ...  ...  \n",
      "0   0.0   0.0   7.0  10.0   0.0  0.0  0.0  \n",
      "0   5.0  16.0  16.0  12.0   0.0  0.0  0.0  \n",
      "0   0.0   0.0   9.0  15.0  14.0  6.0  0.0  \n",
      "0   0.0   4.0  12.0   1.0   0.0  0.0  0.0  \n",
      "0   0.0   3.0  13.0  16.0  10.0  1.0  0.0  \n",
      "\n",
      "[149 rows x 64 columns]\n",
      "     0    1     2     3     4     5    6    7    8    9   ...    54   55   56  \\\n",
      "0   0.0  0.0   5.0  13.0   9.0   1.0  0.0  0.0  0.0  0.0  ...   0.0  0.0  0.0   \n",
      "0   0.0  0.0   0.0  12.0  13.0   5.0  0.0  0.0  0.0  0.0  ...   0.0  0.0  0.0   \n",
      "0   0.0  0.0   0.0   4.0  15.0  12.0  0.0  0.0  0.0  0.0  ...   5.0  0.0  0.0   \n",
      "0   0.0  0.0   7.0  15.0  13.0   1.0  0.0  0.0  0.0  8.0  ...   9.0  0.0  0.0   \n",
      "0   0.0  0.0   0.0   1.0  11.0   0.0  0.0  0.0  0.0  0.0  ...   0.0  0.0  0.0   \n",
      "..  ...  ...   ...   ...   ...   ...  ...  ...  ...  ...  ...   ...  ...  ...   \n",
      "0   0.0  4.0  15.0  16.0  16.0  16.0  4.0  0.0  0.0  4.0  ...   0.0  0.0  0.0   \n",
      "0   0.0  0.0   0.0   6.0  14.0   1.0  0.0  0.0  0.0  0.0  ...  12.0  0.0  0.0   \n",
      "0   0.0  0.0   3.0  15.0  14.0   1.0  0.0  0.0  0.0  0.0  ...   0.0  0.0  0.0   \n",
      "0   0.0  0.0   3.0  13.0  13.0   3.0  0.0  0.0  0.0  2.0  ...   7.0  0.0  0.0   \n",
      "0   0.0  0.0   6.0  13.0  10.0   4.0  0.0  0.0  0.0  4.0  ...   8.0  0.0  0.0   \n",
      "\n",
      "     57    58    59    60    61   62   63  \n",
      "0   0.0   6.0  13.0  10.0   0.0  0.0  0.0  \n",
      "0   0.0   0.0  11.0  16.0  10.0  0.0  0.0  \n",
      "0   0.0   0.0   3.0  11.0  16.0  9.0  0.0  \n",
      "0   0.0   7.0  13.0  13.0   9.0  0.0  0.0  \n",
      "0   0.0   0.0   2.0  16.0   4.0  0.0  0.0  \n",
      "..  ...   ...   ...   ...   ...  ...  ...  \n",
      "0   5.0  16.0  16.0  12.0   0.0  0.0  0.0  \n",
      "0   0.0   0.0   9.0  15.0  14.0  6.0  0.0  \n",
      "0   0.0   4.0  12.0   1.0   0.0  0.0  0.0  \n",
      "0   0.0   3.0  13.0  16.0  10.0  1.0  0.0  \n",
      "0   0.0   7.0  16.0  14.0   9.0  1.0  0.0  \n",
      "\n",
      "[150 rows x 64 columns]\n",
      "     0    1    2     3     4     5    6    7    8    9   ...    54   55   56  \\\n",
      "0   0.0  0.0  5.0  13.0   9.0   1.0  0.0  0.0  0.0  0.0  ...   0.0  0.0  0.0   \n",
      "0   0.0  0.0  0.0  12.0  13.0   5.0  0.0  0.0  0.0  0.0  ...   0.0  0.0  0.0   \n",
      "0   0.0  0.0  0.0   4.0  15.0  12.0  0.0  0.0  0.0  0.0  ...   5.0  0.0  0.0   \n",
      "0   0.0  0.0  7.0  15.0  13.0   1.0  0.0  0.0  0.0  8.0  ...   9.0  0.0  0.0   \n",
      "0   0.0  0.0  0.0   1.0  11.0   0.0  0.0  0.0  0.0  0.0  ...   0.0  0.0  0.0   \n",
      "..  ...  ...  ...   ...   ...   ...  ...  ...  ...  ...  ...   ...  ...  ...   \n",
      "0   0.0  0.0  0.0   6.0  14.0   1.0  0.0  0.0  0.0  0.0  ...  12.0  0.0  0.0   \n",
      "0   0.0  0.0  3.0  15.0  14.0   1.0  0.0  0.0  0.0  0.0  ...   0.0  0.0  0.0   \n",
      "0   0.0  0.0  3.0  13.0  13.0   3.0  0.0  0.0  0.0  2.0  ...   7.0  0.0  0.0   \n",
      "0   0.0  0.0  6.0  13.0  10.0   4.0  0.0  0.0  0.0  4.0  ...   8.0  0.0  0.0   \n",
      "0   0.0  0.0  2.0  12.0   4.0   0.0  0.0  0.0  0.0  1.0  ...  10.0  0.0  0.0   \n",
      "\n",
      "     57   58    59    60    61   62   63  \n",
      "0   0.0  6.0  13.0  10.0   0.0  0.0  0.0  \n",
      "0   0.0  0.0  11.0  16.0  10.0  0.0  0.0  \n",
      "0   0.0  0.0   3.0  11.0  16.0  9.0  0.0  \n",
      "0   0.0  7.0  13.0  13.0   9.0  0.0  0.0  \n",
      "0   0.0  0.0   2.0  16.0   4.0  0.0  0.0  \n",
      "..  ...  ...   ...   ...   ...  ...  ...  \n",
      "0   0.0  0.0   9.0  15.0  14.0  6.0  0.0  \n",
      "0   0.0  4.0  12.0   1.0   0.0  0.0  0.0  \n",
      "0   0.0  3.0  13.0  16.0  10.0  1.0  0.0  \n",
      "0   0.0  7.0  16.0  14.0   9.0  1.0  0.0  \n",
      "0   0.0  4.0  14.0  15.0   7.0  0.0  0.0  \n",
      "\n",
      "[151 rows x 64 columns]\n",
      "     0    1    2     3     4     5    6    7    8    9   ...    54   55   56  \\\n",
      "0   0.0  0.0  5.0  13.0   9.0   1.0  0.0  0.0  0.0  0.0  ...   0.0  0.0  0.0   \n",
      "0   0.0  0.0  0.0  12.0  13.0   5.0  0.0  0.0  0.0  0.0  ...   0.0  0.0  0.0   \n",
      "0   0.0  0.0  0.0   4.0  15.0  12.0  0.0  0.0  0.0  0.0  ...   5.0  0.0  0.0   \n",
      "0   0.0  0.0  7.0  15.0  13.0   1.0  0.0  0.0  0.0  8.0  ...   9.0  0.0  0.0   \n",
      "0   0.0  0.0  0.0   1.0  11.0   0.0  0.0  0.0  0.0  0.0  ...   0.0  0.0  0.0   \n",
      "..  ...  ...  ...   ...   ...   ...  ...  ...  ...  ...  ...   ...  ...  ...   \n",
      "0   0.0  0.0  3.0  15.0  14.0   1.0  0.0  0.0  0.0  0.0  ...   0.0  0.0  0.0   \n",
      "0   0.0  0.0  3.0  13.0  13.0   3.0  0.0  0.0  0.0  2.0  ...   7.0  0.0  0.0   \n",
      "0   0.0  0.0  6.0  13.0  10.0   4.0  0.0  0.0  0.0  4.0  ...   8.0  0.0  0.0   \n",
      "0   0.0  0.0  2.0  12.0   4.0   0.0  0.0  0.0  0.0  1.0  ...  10.0  0.0  0.0   \n",
      "0   0.0  0.0  0.0   0.0   5.0  14.0  3.0  0.0  0.0  0.0  ...   0.0  0.0  0.0   \n",
      "\n",
      "     57   58    59    60    61   62   63  \n",
      "0   0.0  6.0  13.0  10.0   0.0  0.0  0.0  \n",
      "0   0.0  0.0  11.0  16.0  10.0  0.0  0.0  \n",
      "0   0.0  0.0   3.0  11.0  16.0  9.0  0.0  \n",
      "0   0.0  7.0  13.0  13.0   9.0  0.0  0.0  \n",
      "0   0.0  0.0   2.0  16.0   4.0  0.0  0.0  \n",
      "..  ...  ...   ...   ...   ...  ...  ...  \n",
      "0   0.0  4.0  12.0   1.0   0.0  0.0  0.0  \n",
      "0   0.0  3.0  13.0  16.0  10.0  1.0  0.0  \n",
      "0   0.0  7.0  16.0  14.0   9.0  1.0  0.0  \n",
      "0   0.0  4.0  14.0  15.0   7.0  0.0  0.0  \n",
      "0   0.0  0.0   0.0   5.0  13.0  4.0  0.0  \n",
      "\n",
      "[152 rows x 64 columns]\n",
      "     0    1    2     3     4     5    6    7    8    9   ...    54   55   56  \\\n",
      "0   0.0  0.0  5.0  13.0   9.0   1.0  0.0  0.0  0.0  0.0  ...   0.0  0.0  0.0   \n",
      "0   0.0  0.0  0.0  12.0  13.0   5.0  0.0  0.0  0.0  0.0  ...   0.0  0.0  0.0   \n",
      "0   0.0  0.0  0.0   4.0  15.0  12.0  0.0  0.0  0.0  0.0  ...   5.0  0.0  0.0   \n",
      "0   0.0  0.0  7.0  15.0  13.0   1.0  0.0  0.0  0.0  8.0  ...   9.0  0.0  0.0   \n",
      "0   0.0  0.0  0.0   1.0  11.0   0.0  0.0  0.0  0.0  0.0  ...   0.0  0.0  0.0   \n",
      "..  ...  ...  ...   ...   ...   ...  ...  ...  ...  ...  ...   ...  ...  ...   \n",
      "0   0.0  0.0  3.0  13.0  13.0   3.0  0.0  0.0  0.0  2.0  ...   7.0  0.0  0.0   \n",
      "0   0.0  0.0  6.0  13.0  10.0   4.0  0.0  0.0  0.0  4.0  ...   8.0  0.0  0.0   \n",
      "0   0.0  0.0  2.0  12.0   4.0   0.0  0.0  0.0  0.0  1.0  ...  10.0  0.0  0.0   \n",
      "0   0.0  0.0  0.0   0.0   5.0  14.0  3.0  0.0  0.0  0.0  ...   0.0  0.0  0.0   \n",
      "0   0.0  0.0  6.0  13.0  10.0   3.0  0.0  0.0  0.0  5.0  ...   0.0  0.0  0.0   \n",
      "\n",
      "     57   58    59    60    61   62   63  \n",
      "0   0.0  6.0  13.0  10.0   0.0  0.0  0.0  \n",
      "0   0.0  0.0  11.0  16.0  10.0  0.0  0.0  \n",
      "0   0.0  0.0   3.0  11.0  16.0  9.0  0.0  \n",
      "0   0.0  7.0  13.0  13.0   9.0  0.0  0.0  \n",
      "0   0.0  0.0   2.0  16.0   4.0  0.0  0.0  \n",
      "..  ...  ...   ...   ...   ...  ...  ...  \n",
      "0   0.0  3.0  13.0  16.0  10.0  1.0  0.0  \n",
      "0   0.0  7.0  16.0  14.0   9.0  1.0  0.0  \n",
      "0   0.0  4.0  14.0  15.0   7.0  0.0  0.0  \n",
      "0   0.0  0.0   0.0   5.0  13.0  4.0  0.0  \n",
      "0   0.0  8.0  14.0  13.0  12.0  4.0  0.0  \n",
      "\n",
      "[153 rows x 64 columns]\n",
      "     0    1     2     3     4     5    6    7    8    9   ...    54   55   56  \\\n",
      "0   0.0  0.0   5.0  13.0   9.0   1.0  0.0  0.0  0.0  0.0  ...   0.0  0.0  0.0   \n",
      "0   0.0  0.0   0.0  12.0  13.0   5.0  0.0  0.0  0.0  0.0  ...   0.0  0.0  0.0   \n",
      "0   0.0  0.0   0.0   4.0  15.0  12.0  0.0  0.0  0.0  0.0  ...   5.0  0.0  0.0   \n",
      "0   0.0  0.0   7.0  15.0  13.0   1.0  0.0  0.0  0.0  8.0  ...   9.0  0.0  0.0   \n",
      "0   0.0  0.0   0.0   1.0  11.0   0.0  0.0  0.0  0.0  0.0  ...   0.0  0.0  0.0   \n",
      "..  ...  ...   ...   ...   ...   ...  ...  ...  ...  ...  ...   ...  ...  ...   \n",
      "0   0.0  0.0   6.0  13.0  10.0   4.0  0.0  0.0  0.0  4.0  ...   8.0  0.0  0.0   \n",
      "0   0.0  0.0   2.0  12.0   4.0   0.0  0.0  0.0  0.0  1.0  ...  10.0  0.0  0.0   \n",
      "0   0.0  0.0   0.0   0.0   5.0  14.0  3.0  0.0  0.0  0.0  ...   0.0  0.0  0.0   \n",
      "0   0.0  0.0   6.0  13.0  10.0   3.0  0.0  0.0  0.0  5.0  ...   0.0  0.0  0.0   \n",
      "0   0.0  1.0  11.0  12.0  14.0   6.0  0.0  0.0  0.0  1.0  ...   0.0  0.0  0.0   \n",
      "\n",
      "     57    58    59    60    61   62   63  \n",
      "0   0.0   6.0  13.0  10.0   0.0  0.0  0.0  \n",
      "0   0.0   0.0  11.0  16.0  10.0  0.0  0.0  \n",
      "0   0.0   0.0   3.0  11.0  16.0  9.0  0.0  \n",
      "0   0.0   7.0  13.0  13.0   9.0  0.0  0.0  \n",
      "0   0.0   0.0   2.0  16.0   4.0  0.0  0.0  \n",
      "..  ...   ...   ...   ...   ...  ...  ...  \n",
      "0   0.0   7.0  16.0  14.0   9.0  1.0  0.0  \n",
      "0   0.0   4.0  14.0  15.0   7.0  0.0  0.0  \n",
      "0   0.0   0.0   0.0   5.0  13.0  4.0  0.0  \n",
      "0   0.0   8.0  14.0  13.0  12.0  4.0  0.0  \n",
      "0   5.0  12.0  15.0   9.0   1.0  0.0  0.0  \n",
      "\n",
      "[154 rows x 64 columns]\n",
      "     0    1     2     3     4     5    6    7    8    9   ...    54   55   56  \\\n",
      "0   0.0  0.0   5.0  13.0   9.0   1.0  0.0  0.0  0.0  0.0  ...   0.0  0.0  0.0   \n",
      "0   0.0  0.0   0.0  12.0  13.0   5.0  0.0  0.0  0.0  0.0  ...   0.0  0.0  0.0   \n",
      "0   0.0  0.0   0.0   4.0  15.0  12.0  0.0  0.0  0.0  0.0  ...   5.0  0.0  0.0   \n",
      "0   0.0  0.0   7.0  15.0  13.0   1.0  0.0  0.0  0.0  8.0  ...   9.0  0.0  0.0   \n",
      "0   0.0  0.0   0.0   1.0  11.0   0.0  0.0  0.0  0.0  0.0  ...   0.0  0.0  0.0   \n",
      "..  ...  ...   ...   ...   ...   ...  ...  ...  ...  ...  ...   ...  ...  ...   \n",
      "0   0.0  0.0   2.0  12.0   4.0   0.0  0.0  0.0  0.0  1.0  ...  10.0  0.0  0.0   \n",
      "0   0.0  0.0   0.0   0.0   5.0  14.0  3.0  0.0  0.0  0.0  ...   0.0  0.0  0.0   \n",
      "0   0.0  0.0   6.0  13.0  10.0   3.0  0.0  0.0  0.0  5.0  ...   0.0  0.0  0.0   \n",
      "0   0.0  1.0  11.0  12.0  14.0   6.0  0.0  0.0  0.0  1.0  ...   0.0  0.0  0.0   \n",
      "0   0.0  0.0   0.0   3.0  16.0   3.0  0.0  0.0  0.0  0.0  ...   0.0  0.0  0.0   \n",
      "\n",
      "     57    58    59    60    61   62   63  \n",
      "0   0.0   6.0  13.0  10.0   0.0  0.0  0.0  \n",
      "0   0.0   0.0  11.0  16.0  10.0  0.0  0.0  \n",
      "0   0.0   0.0   3.0  11.0  16.0  9.0  0.0  \n",
      "0   0.0   7.0  13.0  13.0   9.0  0.0  0.0  \n",
      "0   0.0   0.0   2.0  16.0   4.0  0.0  0.0  \n",
      "..  ...   ...   ...   ...   ...  ...  ...  \n",
      "0   0.0   4.0  14.0  15.0   7.0  0.0  0.0  \n",
      "0   0.0   0.0   0.0   5.0  13.0  4.0  0.0  \n",
      "0   0.0   8.0  14.0  13.0  12.0  4.0  0.0  \n",
      "0   5.0  12.0  15.0   9.0   1.0  0.0  0.0  \n",
      "0   0.0   0.0   4.0  12.0   0.0  0.0  0.0  \n",
      "\n",
      "[155 rows x 64 columns]\n",
      "     0    1     2     3     4     5    6    7    8    9   ...   54   55   56  \\\n",
      "0   0.0  0.0   5.0  13.0   9.0   1.0  0.0  0.0  0.0  0.0  ...  0.0  0.0  0.0   \n",
      "0   0.0  0.0   0.0  12.0  13.0   5.0  0.0  0.0  0.0  0.0  ...  0.0  0.0  0.0   \n",
      "0   0.0  0.0   0.0   4.0  15.0  12.0  0.0  0.0  0.0  0.0  ...  5.0  0.0  0.0   \n",
      "0   0.0  0.0   7.0  15.0  13.0   1.0  0.0  0.0  0.0  8.0  ...  9.0  0.0  0.0   \n",
      "0   0.0  0.0   0.0   1.0  11.0   0.0  0.0  0.0  0.0  0.0  ...  0.0  0.0  0.0   \n",
      "..  ...  ...   ...   ...   ...   ...  ...  ...  ...  ...  ...  ...  ...  ...   \n",
      "0   0.0  0.0   0.0   0.0   5.0  14.0  3.0  0.0  0.0  0.0  ...  0.0  0.0  0.0   \n",
      "0   0.0  0.0   6.0  13.0  10.0   3.0  0.0  0.0  0.0  5.0  ...  0.0  0.0  0.0   \n",
      "0   0.0  1.0  11.0  12.0  14.0   6.0  0.0  0.0  0.0  1.0  ...  0.0  0.0  0.0   \n",
      "0   0.0  0.0   0.0   3.0  16.0   3.0  0.0  0.0  0.0  0.0  ...  0.0  0.0  0.0   \n",
      "0   0.0  2.0  14.0  16.0  16.0  13.0  5.0  0.0  0.0  7.0  ...  0.0  0.0  0.0   \n",
      "\n",
      "     57    58    59    60    61   62   63  \n",
      "0   0.0   6.0  13.0  10.0   0.0  0.0  0.0  \n",
      "0   0.0   0.0  11.0  16.0  10.0  0.0  0.0  \n",
      "0   0.0   0.0   3.0  11.0  16.0  9.0  0.0  \n",
      "0   0.0   7.0  13.0  13.0   9.0  0.0  0.0  \n",
      "0   0.0   0.0   2.0  16.0   4.0  0.0  0.0  \n",
      "..  ...   ...   ...   ...   ...  ...  ...  \n",
      "0   0.0   0.0   0.0   5.0  13.0  4.0  0.0  \n",
      "0   0.0   8.0  14.0  13.0  12.0  4.0  0.0  \n",
      "0   5.0  12.0  15.0   9.0   1.0  0.0  0.0  \n",
      "0   0.0   0.0   4.0  12.0   0.0  0.0  0.0  \n",
      "0   3.0  16.0  15.0   1.0   0.0  0.0  0.0  \n",
      "\n",
      "[156 rows x 64 columns]\n",
      "     0    1     2     3     4     5    6    7    8    9   ...    54   55   56  \\\n",
      "0   0.0  0.0   5.0  13.0   9.0   1.0  0.0  0.0  0.0  0.0  ...   0.0  0.0  0.0   \n",
      "0   0.0  0.0   0.0  12.0  13.0   5.0  0.0  0.0  0.0  0.0  ...   0.0  0.0  0.0   \n",
      "0   0.0  0.0   0.0   4.0  15.0  12.0  0.0  0.0  0.0  0.0  ...   5.0  0.0  0.0   \n",
      "0   0.0  0.0   7.0  15.0  13.0   1.0  0.0  0.0  0.0  8.0  ...   9.0  0.0  0.0   \n",
      "0   0.0  0.0   0.0   1.0  11.0   0.0  0.0  0.0  0.0  0.0  ...   0.0  0.0  0.0   \n",
      "..  ...  ...   ...   ...   ...   ...  ...  ...  ...  ...  ...   ...  ...  ...   \n",
      "0   0.0  0.0   6.0  13.0  10.0   3.0  0.0  0.0  0.0  5.0  ...   0.0  0.0  0.0   \n",
      "0   0.0  1.0  11.0  12.0  14.0   6.0  0.0  0.0  0.0  1.0  ...   0.0  0.0  0.0   \n",
      "0   0.0  0.0   0.0   3.0  16.0   3.0  0.0  0.0  0.0  0.0  ...   0.0  0.0  0.0   \n",
      "0   0.0  2.0  14.0  16.0  16.0  13.0  5.0  0.0  0.0  7.0  ...   0.0  0.0  0.0   \n",
      "0   0.0  0.0   0.0  16.0   7.0   0.0  0.0  0.0  0.0  0.0  ...  15.0  0.0  0.0   \n",
      "\n",
      "     57    58    59    60    61   62   63  \n",
      "0   0.0   6.0  13.0  10.0   0.0  0.0  0.0  \n",
      "0   0.0   0.0  11.0  16.0  10.0  0.0  0.0  \n",
      "0   0.0   0.0   3.0  11.0  16.0  9.0  0.0  \n",
      "0   0.0   7.0  13.0  13.0   9.0  0.0  0.0  \n",
      "0   0.0   0.0   2.0  16.0   4.0  0.0  0.0  \n",
      "..  ...   ...   ...   ...   ...  ...  ...  \n",
      "0   0.0   8.0  14.0  13.0  12.0  4.0  0.0  \n",
      "0   5.0  12.0  15.0   9.0   1.0  0.0  0.0  \n",
      "0   0.0   0.0   4.0  12.0   0.0  0.0  0.0  \n",
      "0   3.0  16.0  15.0   1.0   0.0  0.0  0.0  \n",
      "0   0.0   1.0  11.0  16.0  15.0  9.0  0.0  \n",
      "\n",
      "[157 rows x 64 columns]\n",
      "     0    1     2     3     4     5    6    7    8    9   ...    54   55   56  \\\n",
      "0   0.0  0.0   5.0  13.0   9.0   1.0  0.0  0.0  0.0  0.0  ...   0.0  0.0  0.0   \n",
      "0   0.0  0.0   0.0  12.0  13.0   5.0  0.0  0.0  0.0  0.0  ...   0.0  0.0  0.0   \n",
      "0   0.0  0.0   0.0   4.0  15.0  12.0  0.0  0.0  0.0  0.0  ...   5.0  0.0  0.0   \n",
      "0   0.0  0.0   7.0  15.0  13.0   1.0  0.0  0.0  0.0  8.0  ...   9.0  0.0  0.0   \n",
      "0   0.0  0.0   0.0   1.0  11.0   0.0  0.0  0.0  0.0  0.0  ...   0.0  0.0  0.0   \n",
      "..  ...  ...   ...   ...   ...   ...  ...  ...  ...  ...  ...   ...  ...  ...   \n",
      "0   0.0  1.0  11.0  12.0  14.0   6.0  0.0  0.0  0.0  1.0  ...   0.0  0.0  0.0   \n",
      "0   0.0  0.0   0.0   3.0  16.0   3.0  0.0  0.0  0.0  0.0  ...   0.0  0.0  0.0   \n",
      "0   0.0  2.0  14.0  16.0  16.0  13.0  5.0  0.0  0.0  7.0  ...   0.0  0.0  0.0   \n",
      "0   0.0  0.0   0.0  16.0   7.0   0.0  0.0  0.0  0.0  0.0  ...  15.0  0.0  0.0   \n",
      "0   0.0  0.0  10.0  16.0  14.0   1.0  0.0  0.0  0.0  0.0  ...   0.0  0.0  0.0   \n",
      "\n",
      "     57    58    59    60    61   62   63  \n",
      "0   0.0   6.0  13.0  10.0   0.0  0.0  0.0  \n",
      "0   0.0   0.0  11.0  16.0  10.0  0.0  0.0  \n",
      "0   0.0   0.0   3.0  11.0  16.0  9.0  0.0  \n",
      "0   0.0   7.0  13.0  13.0   9.0  0.0  0.0  \n",
      "0   0.0   0.0   2.0  16.0   4.0  0.0  0.0  \n",
      "..  ...   ...   ...   ...   ...  ...  ...  \n",
      "0   5.0  12.0  15.0   9.0   1.0  0.0  0.0  \n",
      "0   0.0   0.0   4.0  12.0   0.0  0.0  0.0  \n",
      "0   3.0  16.0  15.0   1.0   0.0  0.0  0.0  \n",
      "0   0.0   1.0  11.0  16.0  15.0  9.0  0.0  \n",
      "0   0.0  13.0   9.0   0.0   0.0  0.0  0.0  \n",
      "\n",
      "[158 rows x 64 columns]\n",
      "     0    1     2     3     4     5    6    7    8    9   ...    54   55   56  \\\n",
      "0   0.0  0.0   5.0  13.0   9.0   1.0  0.0  0.0  0.0  0.0  ...   0.0  0.0  0.0   \n",
      "0   0.0  0.0   0.0  12.0  13.0   5.0  0.0  0.0  0.0  0.0  ...   0.0  0.0  0.0   \n",
      "0   0.0  0.0   0.0   4.0  15.0  12.0  0.0  0.0  0.0  0.0  ...   5.0  0.0  0.0   \n",
      "0   0.0  0.0   7.0  15.0  13.0   1.0  0.0  0.0  0.0  8.0  ...   9.0  0.0  0.0   \n",
      "0   0.0  0.0   0.0   1.0  11.0   0.0  0.0  0.0  0.0  0.0  ...   0.0  0.0  0.0   \n",
      "..  ...  ...   ...   ...   ...   ...  ...  ...  ...  ...  ...   ...  ...  ...   \n",
      "0   0.0  0.0   0.0   3.0  16.0   3.0  0.0  0.0  0.0  0.0  ...   0.0  0.0  0.0   \n",
      "0   0.0  2.0  14.0  16.0  16.0  13.0  5.0  0.0  0.0  7.0  ...   0.0  0.0  0.0   \n",
      "0   0.0  0.0   0.0  16.0   7.0   0.0  0.0  0.0  0.0  0.0  ...  15.0  0.0  0.0   \n",
      "0   0.0  0.0  10.0  16.0  14.0   1.0  0.0  0.0  0.0  0.0  ...   0.0  0.0  0.0   \n",
      "0   0.0  0.0   2.0  13.0  13.0   1.0  0.0  0.0  0.0  0.0  ...   0.0  0.0  0.0   \n",
      "\n",
      "     57    58    59    60    61   62   63  \n",
      "0   0.0   6.0  13.0  10.0   0.0  0.0  0.0  \n",
      "0   0.0   0.0  11.0  16.0  10.0  0.0  0.0  \n",
      "0   0.0   0.0   3.0  11.0  16.0  9.0  0.0  \n",
      "0   0.0   7.0  13.0  13.0   9.0  0.0  0.0  \n",
      "0   0.0   0.0   2.0  16.0   4.0  0.0  0.0  \n",
      "..  ...   ...   ...   ...   ...  ...  ...  \n",
      "0   0.0   0.0   4.0  12.0   0.0  0.0  0.0  \n",
      "0   3.0  16.0  15.0   1.0   0.0  0.0  0.0  \n",
      "0   0.0   1.0  11.0  16.0  15.0  9.0  0.0  \n",
      "0   0.0  13.0   9.0   0.0   0.0  0.0  0.0  \n",
      "0   0.0   3.0  15.0  13.0   1.0  0.0  0.0  \n",
      "\n",
      "[159 rows x 64 columns]\n",
      "     0    1     2     3     4     5    6    7    8    9   ...    54   55   56  \\\n",
      "0   0.0  0.0   5.0  13.0   9.0   1.0  0.0  0.0  0.0  0.0  ...   0.0  0.0  0.0   \n",
      "0   0.0  0.0   0.0  12.0  13.0   5.0  0.0  0.0  0.0  0.0  ...   0.0  0.0  0.0   \n",
      "0   0.0  0.0   0.0   4.0  15.0  12.0  0.0  0.0  0.0  0.0  ...   5.0  0.0  0.0   \n",
      "0   0.0  0.0   7.0  15.0  13.0   1.0  0.0  0.0  0.0  8.0  ...   9.0  0.0  0.0   \n",
      "0   0.0  0.0   0.0   1.0  11.0   0.0  0.0  0.0  0.0  0.0  ...   0.0  0.0  0.0   \n",
      "..  ...  ...   ...   ...   ...   ...  ...  ...  ...  ...  ...   ...  ...  ...   \n",
      "0   0.0  2.0  14.0  16.0  16.0  13.0  5.0  0.0  0.0  7.0  ...   0.0  0.0  0.0   \n",
      "0   0.0  0.0   0.0  16.0   7.0   0.0  0.0  0.0  0.0  0.0  ...  15.0  0.0  0.0   \n",
      "0   0.0  0.0  10.0  16.0  14.0   1.0  0.0  0.0  0.0  0.0  ...   0.0  0.0  0.0   \n",
      "0   0.0  0.0   2.0  13.0  13.0   1.0  0.0  0.0  0.0  0.0  ...   0.0  0.0  0.0   \n",
      "0   0.0  0.0   5.0  13.0   4.0   0.0  0.0  0.0  0.0  0.0  ...   4.0  0.0  0.0   \n",
      "\n",
      "     57    58    59    60    61   62   63  \n",
      "0   0.0   6.0  13.0  10.0   0.0  0.0  0.0  \n",
      "0   0.0   0.0  11.0  16.0  10.0  0.0  0.0  \n",
      "0   0.0   0.0   3.0  11.0  16.0  9.0  0.0  \n",
      "0   0.0   7.0  13.0  13.0   9.0  0.0  0.0  \n",
      "0   0.0   0.0   2.0  16.0   4.0  0.0  0.0  \n",
      "..  ...   ...   ...   ...   ...  ...  ...  \n",
      "0   3.0  16.0  15.0   1.0   0.0  0.0  0.0  \n",
      "0   0.0   1.0  11.0  16.0  15.0  9.0  0.0  \n",
      "0   0.0  13.0   9.0   0.0   0.0  0.0  0.0  \n",
      "0   0.0   3.0  15.0  13.0   1.0  0.0  0.0  \n",
      "0   0.0   6.0  12.0  13.0  10.0  0.0  0.0  \n",
      "\n",
      "[160 rows x 64 columns]\n",
      "     0    1     2     3     4     5    6    7    8    9   ...    54   55   56  \\\n",
      "0   0.0  0.0   5.0  13.0   9.0   1.0  0.0  0.0  0.0  0.0  ...   0.0  0.0  0.0   \n",
      "0   0.0  0.0   0.0  12.0  13.0   5.0  0.0  0.0  0.0  0.0  ...   0.0  0.0  0.0   \n",
      "0   0.0  0.0   0.0   4.0  15.0  12.0  0.0  0.0  0.0  0.0  ...   5.0  0.0  0.0   \n",
      "0   0.0  0.0   7.0  15.0  13.0   1.0  0.0  0.0  0.0  8.0  ...   9.0  0.0  0.0   \n",
      "0   0.0  0.0   0.0   1.0  11.0   0.0  0.0  0.0  0.0  0.0  ...   0.0  0.0  0.0   \n",
      "..  ...  ...   ...   ...   ...   ...  ...  ...  ...  ...  ...   ...  ...  ...   \n",
      "0   0.0  0.0   0.0  16.0   7.0   0.0  0.0  0.0  0.0  0.0  ...  15.0  0.0  0.0   \n",
      "0   0.0  0.0  10.0  16.0  14.0   1.0  0.0  0.0  0.0  0.0  ...   0.0  0.0  0.0   \n",
      "0   0.0  0.0   2.0  13.0  13.0   1.0  0.0  0.0  0.0  0.0  ...   0.0  0.0  0.0   \n",
      "0   0.0  0.0   5.0  13.0   4.0   0.0  0.0  0.0  0.0  0.0  ...   4.0  0.0  0.0   \n",
      "0   0.0  0.0   5.0  14.0  10.0   7.0  0.0  0.0  0.0  0.0  ...   0.0  0.0  0.0   \n",
      "\n",
      "     57    58    59    60    61   62   63  \n",
      "0   0.0   6.0  13.0  10.0   0.0  0.0  0.0  \n",
      "0   0.0   0.0  11.0  16.0  10.0  0.0  0.0  \n",
      "0   0.0   0.0   3.0  11.0  16.0  9.0  0.0  \n",
      "0   0.0   7.0  13.0  13.0   9.0  0.0  0.0  \n",
      "0   0.0   0.0   2.0  16.0   4.0  0.0  0.0  \n",
      "..  ...   ...   ...   ...   ...  ...  ...  \n",
      "0   0.0   1.0  11.0  16.0  15.0  9.0  0.0  \n",
      "0   0.0  13.0   9.0   0.0   0.0  0.0  0.0  \n",
      "0   0.0   3.0  15.0  13.0   1.0  0.0  0.0  \n",
      "0   0.0   6.0  12.0  13.0  10.0  0.0  0.0  \n",
      "0   0.0   7.0  15.0  13.0   2.0  0.0  0.0  \n",
      "\n",
      "[161 rows x 64 columns]\n",
      "     0    1     2     3     4     5    6    7    8    9   ...   54   55   56  \\\n",
      "0   0.0  0.0   5.0  13.0   9.0   1.0  0.0  0.0  0.0  0.0  ...  0.0  0.0  0.0   \n",
      "0   0.0  0.0   0.0  12.0  13.0   5.0  0.0  0.0  0.0  0.0  ...  0.0  0.0  0.0   \n",
      "0   0.0  0.0   0.0   4.0  15.0  12.0  0.0  0.0  0.0  0.0  ...  5.0  0.0  0.0   \n",
      "0   0.0  0.0   7.0  15.0  13.0   1.0  0.0  0.0  0.0  8.0  ...  9.0  0.0  0.0   \n",
      "0   0.0  0.0   0.0   1.0  11.0   0.0  0.0  0.0  0.0  0.0  ...  0.0  0.0  0.0   \n",
      "..  ...  ...   ...   ...   ...   ...  ...  ...  ...  ...  ...  ...  ...  ...   \n",
      "0   0.0  0.0  10.0  16.0  14.0   1.0  0.0  0.0  0.0  0.0  ...  0.0  0.0  0.0   \n",
      "0   0.0  0.0   2.0  13.0  13.0   1.0  0.0  0.0  0.0  0.0  ...  0.0  0.0  0.0   \n",
      "0   0.0  0.0   5.0  13.0   4.0   0.0  0.0  0.0  0.0  0.0  ...  4.0  0.0  0.0   \n",
      "0   0.0  0.0   5.0  14.0  10.0   7.0  0.0  0.0  0.0  0.0  ...  0.0  0.0  0.0   \n",
      "0   0.0  0.0   2.0  13.0   6.0   0.0  0.0  0.0  0.0  0.0  ...  3.0  0.0  0.0   \n",
      "\n",
      "     57    58    59    60    61   62   63  \n",
      "0   0.0   6.0  13.0  10.0   0.0  0.0  0.0  \n",
      "0   0.0   0.0  11.0  16.0  10.0  0.0  0.0  \n",
      "0   0.0   0.0   3.0  11.0  16.0  9.0  0.0  \n",
      "0   0.0   7.0  13.0  13.0   9.0  0.0  0.0  \n",
      "0   0.0   0.0   2.0  16.0   4.0  0.0  0.0  \n",
      "..  ...   ...   ...   ...   ...  ...  ...  \n",
      "0   0.0  13.0   9.0   0.0   0.0  0.0  0.0  \n",
      "0   0.0   3.0  15.0  13.0   1.0  0.0  0.0  \n",
      "0   0.0   6.0  12.0  13.0  10.0  0.0  0.0  \n",
      "0   0.0   7.0  15.0  13.0   2.0  0.0  0.0  \n",
      "0   0.0   2.0  14.0  16.0  10.0  0.0  0.0  \n",
      "\n",
      "[162 rows x 64 columns]\n",
      "     0    1     2     3     4     5    6    7    8    9   ...   54   55   56  \\\n",
      "0   0.0  0.0   5.0  13.0   9.0   1.0  0.0  0.0  0.0  0.0  ...  0.0  0.0  0.0   \n",
      "0   0.0  0.0   0.0  12.0  13.0   5.0  0.0  0.0  0.0  0.0  ...  0.0  0.0  0.0   \n",
      "0   0.0  0.0   0.0   4.0  15.0  12.0  0.0  0.0  0.0  0.0  ...  5.0  0.0  0.0   \n",
      "0   0.0  0.0   7.0  15.0  13.0   1.0  0.0  0.0  0.0  8.0  ...  9.0  0.0  0.0   \n",
      "0   0.0  0.0   0.0   1.0  11.0   0.0  0.0  0.0  0.0  0.0  ...  0.0  0.0  0.0   \n",
      "..  ...  ...   ...   ...   ...   ...  ...  ...  ...  ...  ...  ...  ...  ...   \n",
      "0   0.0  0.0   2.0  13.0  13.0   1.0  0.0  0.0  0.0  0.0  ...  0.0  0.0  0.0   \n",
      "0   0.0  0.0   5.0  13.0   4.0   0.0  0.0  0.0  0.0  0.0  ...  4.0  0.0  0.0   \n",
      "0   0.0  0.0   5.0  14.0  10.0   7.0  0.0  0.0  0.0  0.0  ...  0.0  0.0  0.0   \n",
      "0   0.0  0.0   2.0  13.0   6.0   0.0  0.0  0.0  0.0  0.0  ...  3.0  0.0  0.0   \n",
      "0   0.0  5.0  16.0  16.0  16.0  11.0  1.0  0.0  0.0  4.0  ...  0.0  0.0  0.0   \n",
      "\n",
      "     57    58    59    60    61   62   63  \n",
      "0   0.0   6.0  13.0  10.0   0.0  0.0  0.0  \n",
      "0   0.0   0.0  11.0  16.0  10.0  0.0  0.0  \n",
      "0   0.0   0.0   3.0  11.0  16.0  9.0  0.0  \n",
      "0   0.0   7.0  13.0  13.0   9.0  0.0  0.0  \n",
      "0   0.0   0.0   2.0  16.0   4.0  0.0  0.0  \n",
      "..  ...   ...   ...   ...   ...  ...  ...  \n",
      "0   0.0   3.0  15.0  13.0   1.0  0.0  0.0  \n",
      "0   0.0   6.0  12.0  13.0  10.0  0.0  0.0  \n",
      "0   0.0   7.0  15.0  13.0   2.0  0.0  0.0  \n",
      "0   0.0   2.0  14.0  16.0  10.0  0.0  0.0  \n",
      "0   2.0  15.0  16.0   9.0   0.0  0.0  0.0  \n",
      "\n",
      "[163 rows x 64 columns]\n",
      "     0    1     2     3     4     5     6    7    8    9   ...   54   55   56  \\\n",
      "0   0.0  0.0   5.0  13.0   9.0   1.0   0.0  0.0  0.0  0.0  ...  0.0  0.0  0.0   \n",
      "0   0.0  0.0   0.0  12.0  13.0   5.0   0.0  0.0  0.0  0.0  ...  0.0  0.0  0.0   \n",
      "0   0.0  0.0   0.0   4.0  15.0  12.0   0.0  0.0  0.0  0.0  ...  5.0  0.0  0.0   \n",
      "0   0.0  0.0   7.0  15.0  13.0   1.0   0.0  0.0  0.0  8.0  ...  9.0  0.0  0.0   \n",
      "0   0.0  0.0   0.0   1.0  11.0   0.0   0.0  0.0  0.0  0.0  ...  0.0  0.0  0.0   \n",
      "..  ...  ...   ...   ...   ...   ...   ...  ...  ...  ...  ...  ...  ...  ...   \n",
      "0   0.0  0.0   5.0  13.0   4.0   0.0   0.0  0.0  0.0  0.0  ...  4.0  0.0  0.0   \n",
      "0   0.0  0.0   5.0  14.0  10.0   7.0   0.0  0.0  0.0  0.0  ...  0.0  0.0  0.0   \n",
      "0   0.0  0.0   2.0  13.0   6.0   0.0   0.0  0.0  0.0  0.0  ...  3.0  0.0  0.0   \n",
      "0   0.0  5.0  16.0  16.0  16.0  11.0   1.0  0.0  0.0  4.0  ...  0.0  0.0  0.0   \n",
      "0   0.0  6.0  16.0  16.0  16.0  15.0  10.0  0.0  0.0  9.0  ...  0.0  0.0  0.0   \n",
      "\n",
      "     57    58    59    60    61   62   63  \n",
      "0   0.0   6.0  13.0  10.0   0.0  0.0  0.0  \n",
      "0   0.0   0.0  11.0  16.0  10.0  0.0  0.0  \n",
      "0   0.0   0.0   3.0  11.0  16.0  9.0  0.0  \n",
      "0   0.0   7.0  13.0  13.0   9.0  0.0  0.0  \n",
      "0   0.0   0.0   2.0  16.0   4.0  0.0  0.0  \n",
      "..  ...   ...   ...   ...   ...  ...  ...  \n",
      "0   0.0   6.0  12.0  13.0  10.0  0.0  0.0  \n",
      "0   0.0   7.0  15.0  13.0   2.0  0.0  0.0  \n",
      "0   0.0   2.0  14.0  16.0  10.0  0.0  0.0  \n",
      "0   2.0  15.0  16.0   9.0   0.0  0.0  0.0  \n",
      "0   9.0  16.0  11.0   0.0   0.0  0.0  0.0  \n",
      "\n",
      "[164 rows x 64 columns]\n",
      "     0    1     2     3     4     5     6    7    8    9   ...    54   55  \\\n",
      "0   0.0  0.0   5.0  13.0   9.0   1.0   0.0  0.0  0.0  0.0  ...   0.0  0.0   \n",
      "0   0.0  0.0   0.0  12.0  13.0   5.0   0.0  0.0  0.0  0.0  ...   0.0  0.0   \n",
      "0   0.0  0.0   0.0   4.0  15.0  12.0   0.0  0.0  0.0  0.0  ...   5.0  0.0   \n",
      "0   0.0  0.0   7.0  15.0  13.0   1.0   0.0  0.0  0.0  8.0  ...   9.0  0.0   \n",
      "0   0.0  0.0   0.0   1.0  11.0   0.0   0.0  0.0  0.0  0.0  ...   0.0  0.0   \n",
      "..  ...  ...   ...   ...   ...   ...   ...  ...  ...  ...  ...   ...  ...   \n",
      "0   0.0  0.0   5.0  14.0  10.0   7.0   0.0  0.0  0.0  0.0  ...   0.0  0.0   \n",
      "0   0.0  0.0   2.0  13.0   6.0   0.0   0.0  0.0  0.0  0.0  ...   3.0  0.0   \n",
      "0   0.0  5.0  16.0  16.0  16.0  11.0   1.0  0.0  0.0  4.0  ...   0.0  0.0   \n",
      "0   0.0  6.0  16.0  16.0  16.0  15.0  10.0  0.0  0.0  9.0  ...   0.0  0.0   \n",
      "0   0.0  0.0   5.0  13.0   1.0   0.0   0.0  0.0  0.0  0.0  ...  11.0  0.0   \n",
      "\n",
      "     56   57    58    59    60    61   62   63  \n",
      "0   0.0  0.0   6.0  13.0  10.0   0.0  0.0  0.0  \n",
      "0   0.0  0.0   0.0  11.0  16.0  10.0  0.0  0.0  \n",
      "0   0.0  0.0   0.0   3.0  11.0  16.0  9.0  0.0  \n",
      "0   0.0  0.0   7.0  13.0  13.0   9.0  0.0  0.0  \n",
      "0   0.0  0.0   0.0   2.0  16.0   4.0  0.0  0.0  \n",
      "..  ...  ...   ...   ...   ...   ...  ...  ...  \n",
      "0   0.0  0.0   7.0  15.0  13.0   2.0  0.0  0.0  \n",
      "0   0.0  0.0   2.0  14.0  16.0  10.0  0.0  0.0  \n",
      "0   0.0  2.0  15.0  16.0   9.0   0.0  0.0  0.0  \n",
      "0   0.0  9.0  16.0  11.0   0.0   0.0  0.0  0.0  \n",
      "0   0.0  0.0   5.0  14.0  14.0  10.0  1.0  0.0  \n",
      "\n",
      "[165 rows x 64 columns]\n",
      "     0    1     2     3     4     5     6    7    8    9   ...    54   55  \\\n",
      "0   0.0  0.0   5.0  13.0   9.0   1.0   0.0  0.0  0.0  0.0  ...   0.0  0.0   \n",
      "0   0.0  0.0   0.0  12.0  13.0   5.0   0.0  0.0  0.0  0.0  ...   0.0  0.0   \n",
      "0   0.0  0.0   0.0   4.0  15.0  12.0   0.0  0.0  0.0  0.0  ...   5.0  0.0   \n",
      "0   0.0  0.0   7.0  15.0  13.0   1.0   0.0  0.0  0.0  8.0  ...   9.0  0.0   \n",
      "0   0.0  0.0   0.0   1.0  11.0   0.0   0.0  0.0  0.0  0.0  ...   0.0  0.0   \n",
      "..  ...  ...   ...   ...   ...   ...   ...  ...  ...  ...  ...   ...  ...   \n",
      "0   0.0  0.0   2.0  13.0   6.0   0.0   0.0  0.0  0.0  0.0  ...   3.0  0.0   \n",
      "0   0.0  5.0  16.0  16.0  16.0  11.0   1.0  0.0  0.0  4.0  ...   0.0  0.0   \n",
      "0   0.0  6.0  16.0  16.0  16.0  15.0  10.0  0.0  0.0  9.0  ...   0.0  0.0   \n",
      "0   0.0  0.0   5.0  13.0   1.0   0.0   0.0  0.0  0.0  0.0  ...  11.0  0.0   \n",
      "0   0.0  2.0  15.0  16.0  16.0  13.0   2.0  0.0  0.0  7.0  ...   0.0  0.0   \n",
      "\n",
      "     56   57    58    59    60    61   62   63  \n",
      "0   0.0  0.0   6.0  13.0  10.0   0.0  0.0  0.0  \n",
      "0   0.0  0.0   0.0  11.0  16.0  10.0  0.0  0.0  \n",
      "0   0.0  0.0   0.0   3.0  11.0  16.0  9.0  0.0  \n",
      "0   0.0  0.0   7.0  13.0  13.0   9.0  0.0  0.0  \n",
      "0   0.0  0.0   0.0   2.0  16.0   4.0  0.0  0.0  \n",
      "..  ...  ...   ...   ...   ...   ...  ...  ...  \n",
      "0   0.0  0.0   2.0  14.0  16.0  10.0  0.0  0.0  \n",
      "0   0.0  2.0  15.0  16.0   9.0   0.0  0.0  0.0  \n",
      "0   0.0  9.0  16.0  11.0   0.0   0.0  0.0  0.0  \n",
      "0   0.0  0.0   5.0  14.0  14.0  10.0  1.0  0.0  \n",
      "0   0.0  2.0  15.0  15.0   1.0   0.0  0.0  0.0  \n",
      "\n",
      "[166 rows x 64 columns]\n",
      "     0    1     2     3     4     5     6    7    8    9   ...    54   55  \\\n",
      "0   0.0  0.0   5.0  13.0   9.0   1.0   0.0  0.0  0.0  0.0  ...   0.0  0.0   \n",
      "0   0.0  0.0   0.0  12.0  13.0   5.0   0.0  0.0  0.0  0.0  ...   0.0  0.0   \n",
      "0   0.0  0.0   0.0   4.0  15.0  12.0   0.0  0.0  0.0  0.0  ...   5.0  0.0   \n",
      "0   0.0  0.0   7.0  15.0  13.0   1.0   0.0  0.0  0.0  8.0  ...   9.0  0.0   \n",
      "0   0.0  0.0   0.0   1.0  11.0   0.0   0.0  0.0  0.0  0.0  ...   0.0  0.0   \n",
      "..  ...  ...   ...   ...   ...   ...   ...  ...  ...  ...  ...   ...  ...   \n",
      "0   0.0  5.0  16.0  16.0  16.0  11.0   1.0  0.0  0.0  4.0  ...   0.0  0.0   \n",
      "0   0.0  6.0  16.0  16.0  16.0  15.0  10.0  0.0  0.0  9.0  ...   0.0  0.0   \n",
      "0   0.0  0.0   5.0  13.0   1.0   0.0   0.0  0.0  0.0  0.0  ...  11.0  0.0   \n",
      "0   0.0  2.0  15.0  16.0  16.0  13.0   2.0  0.0  0.0  7.0  ...   0.0  0.0   \n",
      "0   0.0  0.0   5.0  16.0  15.0   1.0   0.0  0.0  0.0  1.0  ...   1.0  0.0   \n",
      "\n",
      "     56   57    58    59    60    61   62   63  \n",
      "0   0.0  0.0   6.0  13.0  10.0   0.0  0.0  0.0  \n",
      "0   0.0  0.0   0.0  11.0  16.0  10.0  0.0  0.0  \n",
      "0   0.0  0.0   0.0   3.0  11.0  16.0  9.0  0.0  \n",
      "0   0.0  0.0   7.0  13.0  13.0   9.0  0.0  0.0  \n",
      "0   0.0  0.0   0.0   2.0  16.0   4.0  0.0  0.0  \n",
      "..  ...  ...   ...   ...   ...   ...  ...  ...  \n",
      "0   0.0  2.0  15.0  16.0   9.0   0.0  0.0  0.0  \n",
      "0   0.0  9.0  16.0  11.0   0.0   0.0  0.0  0.0  \n",
      "0   0.0  0.0   5.0  14.0  14.0  10.0  1.0  0.0  \n",
      "0   0.0  2.0  15.0  15.0   1.0   0.0  0.0  0.0  \n",
      "0   0.0  0.0   4.0  13.0  14.0   1.0  0.0  0.0  \n",
      "\n",
      "[167 rows x 64 columns]\n",
      "     0    1     2     3     4     5     6    7    8    9   ...    54   55  \\\n",
      "0   0.0  0.0   5.0  13.0   9.0   1.0   0.0  0.0  0.0  0.0  ...   0.0  0.0   \n",
      "0   0.0  0.0   0.0  12.0  13.0   5.0   0.0  0.0  0.0  0.0  ...   0.0  0.0   \n",
      "0   0.0  0.0   0.0   4.0  15.0  12.0   0.0  0.0  0.0  0.0  ...   5.0  0.0   \n",
      "0   0.0  0.0   7.0  15.0  13.0   1.0   0.0  0.0  0.0  8.0  ...   9.0  0.0   \n",
      "0   0.0  0.0   0.0   1.0  11.0   0.0   0.0  0.0  0.0  0.0  ...   0.0  0.0   \n",
      "..  ...  ...   ...   ...   ...   ...   ...  ...  ...  ...  ...   ...  ...   \n",
      "0   0.0  6.0  16.0  16.0  16.0  15.0  10.0  0.0  0.0  9.0  ...   0.0  0.0   \n",
      "0   0.0  0.0   5.0  13.0   1.0   0.0   0.0  0.0  0.0  0.0  ...  11.0  0.0   \n",
      "0   0.0  2.0  15.0  16.0  16.0  13.0   2.0  0.0  0.0  7.0  ...   0.0  0.0   \n",
      "0   0.0  0.0   5.0  16.0  15.0   1.0   0.0  0.0  0.0  1.0  ...   1.0  0.0   \n",
      "0   0.0  0.0   2.0  13.0   8.0   6.0   0.0  0.0  0.0  0.0  ...   7.0  0.0   \n",
      "\n",
      "     56   57    58    59    60    61   62   63  \n",
      "0   0.0  0.0   6.0  13.0  10.0   0.0  0.0  0.0  \n",
      "0   0.0  0.0   0.0  11.0  16.0  10.0  0.0  0.0  \n",
      "0   0.0  0.0   0.0   3.0  11.0  16.0  9.0  0.0  \n",
      "0   0.0  0.0   7.0  13.0  13.0   9.0  0.0  0.0  \n",
      "0   0.0  0.0   0.0   2.0  16.0   4.0  0.0  0.0  \n",
      "..  ...  ...   ...   ...   ...   ...  ...  ...  \n",
      "0   0.0  9.0  16.0  11.0   0.0   0.0  0.0  0.0  \n",
      "0   0.0  0.0   5.0  14.0  14.0  10.0  1.0  0.0  \n",
      "0   0.0  2.0  15.0  15.0   1.0   0.0  0.0  0.0  \n",
      "0   0.0  0.0   4.0  13.0  14.0   1.0  0.0  0.0  \n",
      "0   0.0  0.0   3.0  12.0  16.0  16.0  1.0  0.0  \n",
      "\n",
      "[168 rows x 64 columns]\n",
      "     0    1     2     3     4     5    6    7    8    9   ...    54   55   56  \\\n",
      "0   0.0  0.0   5.0  13.0   9.0   1.0  0.0  0.0  0.0  0.0  ...   0.0  0.0  0.0   \n",
      "0   0.0  0.0   0.0  12.0  13.0   5.0  0.0  0.0  0.0  0.0  ...   0.0  0.0  0.0   \n",
      "0   0.0  0.0   0.0   4.0  15.0  12.0  0.0  0.0  0.0  0.0  ...   5.0  0.0  0.0   \n",
      "0   0.0  0.0   7.0  15.0  13.0   1.0  0.0  0.0  0.0  8.0  ...   9.0  0.0  0.0   \n",
      "0   0.0  0.0   0.0   1.0  11.0   0.0  0.0  0.0  0.0  0.0  ...   0.0  0.0  0.0   \n",
      "..  ...  ...   ...   ...   ...   ...  ...  ...  ...  ...  ...   ...  ...  ...   \n",
      "0   0.0  0.0   5.0  13.0   1.0   0.0  0.0  0.0  0.0  0.0  ...  11.0  0.0  0.0   \n",
      "0   0.0  2.0  15.0  16.0  16.0  13.0  2.0  0.0  0.0  7.0  ...   0.0  0.0  0.0   \n",
      "0   0.0  0.0   5.0  16.0  15.0   1.0  0.0  0.0  0.0  1.0  ...   1.0  0.0  0.0   \n",
      "0   0.0  0.0   2.0  13.0   8.0   6.0  0.0  0.0  0.0  0.0  ...   7.0  0.0  0.0   \n",
      "0   0.0  0.0   6.0  15.0  13.0   3.0  0.0  0.0  0.0  0.0  ...   0.0  0.0  0.0   \n",
      "\n",
      "     57    58    59    60    61   62   63  \n",
      "0   0.0   6.0  13.0  10.0   0.0  0.0  0.0  \n",
      "0   0.0   0.0  11.0  16.0  10.0  0.0  0.0  \n",
      "0   0.0   0.0   3.0  11.0  16.0  9.0  0.0  \n",
      "0   0.0   7.0  13.0  13.0   9.0  0.0  0.0  \n",
      "0   0.0   0.0   2.0  16.0   4.0  0.0  0.0  \n",
      "..  ...   ...   ...   ...   ...  ...  ...  \n",
      "0   0.0   5.0  14.0  14.0  10.0  1.0  0.0  \n",
      "0   2.0  15.0  15.0   1.0   0.0  0.0  0.0  \n",
      "0   0.0   4.0  13.0  14.0   1.0  0.0  0.0  \n",
      "0   0.0   3.0  12.0  16.0  16.0  1.0  0.0  \n",
      "0   0.0   8.0  14.0  13.0   2.0  0.0  0.0  \n",
      "\n",
      "[169 rows x 64 columns]\n",
      "     0    1     2     3     4     5    6    7    8    9   ...    54   55   56  \\\n",
      "0   0.0  0.0   5.0  13.0   9.0   1.0  0.0  0.0  0.0  0.0  ...   0.0  0.0  0.0   \n",
      "0   0.0  0.0   0.0  12.0  13.0   5.0  0.0  0.0  0.0  0.0  ...   0.0  0.0  0.0   \n",
      "0   0.0  0.0   0.0   4.0  15.0  12.0  0.0  0.0  0.0  0.0  ...   5.0  0.0  0.0   \n",
      "0   0.0  0.0   7.0  15.0  13.0   1.0  0.0  0.0  0.0  8.0  ...   9.0  0.0  0.0   \n",
      "0   0.0  0.0   0.0   1.0  11.0   0.0  0.0  0.0  0.0  0.0  ...   0.0  0.0  0.0   \n",
      "..  ...  ...   ...   ...   ...   ...  ...  ...  ...  ...  ...   ...  ...  ...   \n",
      "0   0.0  2.0  15.0  16.0  16.0  13.0  2.0  0.0  0.0  7.0  ...   0.0  0.0  0.0   \n",
      "0   0.0  0.0   5.0  16.0  15.0   1.0  0.0  0.0  0.0  1.0  ...   1.0  0.0  0.0   \n",
      "0   0.0  0.0   2.0  13.0   8.0   6.0  0.0  0.0  0.0  0.0  ...   7.0  0.0  0.0   \n",
      "0   0.0  0.0   6.0  15.0  13.0   3.0  0.0  0.0  0.0  0.0  ...   0.0  0.0  0.0   \n",
      "0   0.0  0.0   6.0  15.0   6.0   0.0  0.0  0.0  0.0  0.0  ...  12.0  0.0  0.0   \n",
      "\n",
      "     57    58    59    60    61   62   63  \n",
      "0   0.0   6.0  13.0  10.0   0.0  0.0  0.0  \n",
      "0   0.0   0.0  11.0  16.0  10.0  0.0  0.0  \n",
      "0   0.0   0.0   3.0  11.0  16.0  9.0  0.0  \n",
      "0   0.0   7.0  13.0  13.0   9.0  0.0  0.0  \n",
      "0   0.0   0.0   2.0  16.0   4.0  0.0  0.0  \n",
      "..  ...   ...   ...   ...   ...  ...  ...  \n",
      "0   2.0  15.0  15.0   1.0   0.0  0.0  0.0  \n",
      "0   0.0   4.0  13.0  14.0   1.0  0.0  0.0  \n",
      "0   0.0   3.0  12.0  16.0  16.0  1.0  0.0  \n",
      "0   0.0   8.0  14.0  13.0   2.0  0.0  0.0  \n",
      "0   0.0   5.0  16.0  14.0   9.0  4.0  0.0  \n",
      "\n",
      "[170 rows x 64 columns]\n",
      "     0    1    2     3     4     5    6    7    8    9   ...    54   55   56  \\\n",
      "0   0.0  0.0  5.0  13.0   9.0   1.0  0.0  0.0  0.0  0.0  ...   0.0  0.0  0.0   \n",
      "0   0.0  0.0  0.0  12.0  13.0   5.0  0.0  0.0  0.0  0.0  ...   0.0  0.0  0.0   \n",
      "0   0.0  0.0  0.0   4.0  15.0  12.0  0.0  0.0  0.0  0.0  ...   5.0  0.0  0.0   \n",
      "0   0.0  0.0  7.0  15.0  13.0   1.0  0.0  0.0  0.0  8.0  ...   9.0  0.0  0.0   \n",
      "0   0.0  0.0  0.0   1.0  11.0   0.0  0.0  0.0  0.0  0.0  ...   0.0  0.0  0.0   \n",
      "..  ...  ...  ...   ...   ...   ...  ...  ...  ...  ...  ...   ...  ...  ...   \n",
      "0   0.0  0.0  5.0  16.0  15.0   1.0  0.0  0.0  0.0  1.0  ...   1.0  0.0  0.0   \n",
      "0   0.0  0.0  2.0  13.0   8.0   6.0  0.0  0.0  0.0  0.0  ...   7.0  0.0  0.0   \n",
      "0   0.0  0.0  6.0  15.0  13.0   3.0  0.0  0.0  0.0  0.0  ...   0.0  0.0  0.0   \n",
      "0   0.0  0.0  6.0  15.0   6.0   0.0  0.0  0.0  0.0  0.0  ...  12.0  0.0  0.0   \n",
      "0   0.0  0.0  2.0  13.0   4.0   0.0  0.0  0.0  0.0  0.0  ...   0.0  0.0  0.0   \n",
      "\n",
      "     57   58    59    60    61   62   63  \n",
      "0   0.0  6.0  13.0  10.0   0.0  0.0  0.0  \n",
      "0   0.0  0.0  11.0  16.0  10.0  0.0  0.0  \n",
      "0   0.0  0.0   3.0  11.0  16.0  9.0  0.0  \n",
      "0   0.0  7.0  13.0  13.0   9.0  0.0  0.0  \n",
      "0   0.0  0.0   2.0  16.0   4.0  0.0  0.0  \n",
      "..  ...  ...   ...   ...   ...  ...  ...  \n",
      "0   0.0  4.0  13.0  14.0   1.0  0.0  0.0  \n",
      "0   0.0  3.0  12.0  16.0  16.0  1.0  0.0  \n",
      "0   0.0  8.0  14.0  13.0   2.0  0.0  0.0  \n",
      "0   0.0  5.0  16.0  14.0   9.0  4.0  0.0  \n",
      "0   0.0  2.0  11.0  16.0   7.0  0.0  0.0  \n",
      "\n",
      "[171 rows x 64 columns]\n",
      "     0    1    2     3     4     5    6    7    8    9   ...    54   55   56  \\\n",
      "0   0.0  0.0  5.0  13.0   9.0   1.0  0.0  0.0  0.0  0.0  ...   0.0  0.0  0.0   \n",
      "0   0.0  0.0  0.0  12.0  13.0   5.0  0.0  0.0  0.0  0.0  ...   0.0  0.0  0.0   \n",
      "0   0.0  0.0  0.0   4.0  15.0  12.0  0.0  0.0  0.0  0.0  ...   5.0  0.0  0.0   \n",
      "0   0.0  0.0  7.0  15.0  13.0   1.0  0.0  0.0  0.0  8.0  ...   9.0  0.0  0.0   \n",
      "0   0.0  0.0  0.0   1.0  11.0   0.0  0.0  0.0  0.0  0.0  ...   0.0  0.0  0.0   \n",
      "..  ...  ...  ...   ...   ...   ...  ...  ...  ...  ...  ...   ...  ...  ...   \n",
      "0   0.0  0.0  2.0  13.0   8.0   6.0  0.0  0.0  0.0  0.0  ...   7.0  0.0  0.0   \n",
      "0   0.0  0.0  6.0  15.0  13.0   3.0  0.0  0.0  0.0  0.0  ...   0.0  0.0  0.0   \n",
      "0   0.0  0.0  6.0  15.0   6.0   0.0  0.0  0.0  0.0  0.0  ...  12.0  0.0  0.0   \n",
      "0   0.0  0.0  2.0  13.0   4.0   0.0  0.0  0.0  0.0  0.0  ...   0.0  0.0  0.0   \n",
      "0   0.0  0.0  0.0   8.0  13.0   0.0  0.0  0.0  0.0  0.0  ...   0.0  0.0  0.0   \n",
      "\n",
      "     57   58    59    60    61   62   63  \n",
      "0   0.0  6.0  13.0  10.0   0.0  0.0  0.0  \n",
      "0   0.0  0.0  11.0  16.0  10.0  0.0  0.0  \n",
      "0   0.0  0.0   3.0  11.0  16.0  9.0  0.0  \n",
      "0   0.0  7.0  13.0  13.0   9.0  0.0  0.0  \n",
      "0   0.0  0.0   2.0  16.0   4.0  0.0  0.0  \n",
      "..  ...  ...   ...   ...   ...  ...  ...  \n",
      "0   0.0  3.0  12.0  16.0  16.0  1.0  0.0  \n",
      "0   0.0  8.0  14.0  13.0   2.0  0.0  0.0  \n",
      "0   0.0  5.0  16.0  14.0   9.0  4.0  0.0  \n",
      "0   0.0  2.0  11.0  16.0   7.0  0.0  0.0  \n",
      "0   0.0  0.0  10.0  14.0   0.0  0.0  0.0  \n",
      "\n",
      "[172 rows x 64 columns]\n",
      "     0    1    2     3     4     5    6    7    8    9   ...    54   55   56  \\\n",
      "0   0.0  0.0  5.0  13.0   9.0   1.0  0.0  0.0  0.0  0.0  ...   0.0  0.0  0.0   \n",
      "0   0.0  0.0  0.0  12.0  13.0   5.0  0.0  0.0  0.0  0.0  ...   0.0  0.0  0.0   \n",
      "0   0.0  0.0  0.0   4.0  15.0  12.0  0.0  0.0  0.0  0.0  ...   5.0  0.0  0.0   \n",
      "0   0.0  0.0  7.0  15.0  13.0   1.0  0.0  0.0  0.0  8.0  ...   9.0  0.0  0.0   \n",
      "0   0.0  0.0  0.0   1.0  11.0   0.0  0.0  0.0  0.0  0.0  ...   0.0  0.0  0.0   \n",
      "..  ...  ...  ...   ...   ...   ...  ...  ...  ...  ...  ...   ...  ...  ...   \n",
      "0   0.0  0.0  6.0  15.0  13.0   3.0  0.0  0.0  0.0  0.0  ...   0.0  0.0  0.0   \n",
      "0   0.0  0.0  6.0  15.0   6.0   0.0  0.0  0.0  0.0  0.0  ...  12.0  0.0  0.0   \n",
      "0   0.0  0.0  2.0  13.0   4.0   0.0  0.0  0.0  0.0  0.0  ...   0.0  0.0  0.0   \n",
      "0   0.0  0.0  0.0   8.0  13.0   0.0  0.0  0.0  0.0  0.0  ...   0.0  0.0  0.0   \n",
      "0   0.0  0.0  0.0   0.0  14.0  16.0  7.0  0.0  0.0  0.0  ...   3.0  0.0  0.0   \n",
      "\n",
      "     57   58    59    60    61   62   63  \n",
      "0   0.0  6.0  13.0  10.0   0.0  0.0  0.0  \n",
      "0   0.0  0.0  11.0  16.0  10.0  0.0  0.0  \n",
      "0   0.0  0.0   3.0  11.0  16.0  9.0  0.0  \n",
      "0   0.0  7.0  13.0  13.0   9.0  0.0  0.0  \n",
      "0   0.0  0.0   2.0  16.0   4.0  0.0  0.0  \n",
      "..  ...  ...   ...   ...   ...  ...  ...  \n",
      "0   0.0  8.0  14.0  13.0   2.0  0.0  0.0  \n",
      "0   0.0  5.0  16.0  14.0   9.0  4.0  0.0  \n",
      "0   0.0  2.0  11.0  16.0   7.0  0.0  0.0  \n",
      "0   0.0  0.0  10.0  14.0   0.0  0.0  0.0  \n",
      "0   0.0  0.0   0.0  16.0  16.0  0.0  0.0  \n",
      "\n",
      "[173 rows x 64 columns]\n",
      "     0    1    2     3     4     5     6    7    8    9   ...    54   55   56  \\\n",
      "0   0.0  0.0  5.0  13.0   9.0   1.0   0.0  0.0  0.0  0.0  ...   0.0  0.0  0.0   \n",
      "0   0.0  0.0  0.0  12.0  13.0   5.0   0.0  0.0  0.0  0.0  ...   0.0  0.0  0.0   \n",
      "0   0.0  0.0  0.0   4.0  15.0  12.0   0.0  0.0  0.0  0.0  ...   5.0  0.0  0.0   \n",
      "0   0.0  0.0  7.0  15.0  13.0   1.0   0.0  0.0  0.0  8.0  ...   9.0  0.0  0.0   \n",
      "0   0.0  0.0  0.0   1.0  11.0   0.0   0.0  0.0  0.0  0.0  ...   0.0  0.0  0.0   \n",
      "..  ...  ...  ...   ...   ...   ...   ...  ...  ...  ...  ...   ...  ...  ...   \n",
      "0   0.0  0.0  6.0  15.0   6.0   0.0   0.0  0.0  0.0  0.0  ...  12.0  0.0  0.0   \n",
      "0   0.0  0.0  2.0  13.0   4.0   0.0   0.0  0.0  0.0  0.0  ...   0.0  0.0  0.0   \n",
      "0   0.0  0.0  0.0   8.0  13.0   0.0   0.0  0.0  0.0  0.0  ...   0.0  0.0  0.0   \n",
      "0   0.0  0.0  0.0   0.0  14.0  16.0   7.0  0.0  0.0  0.0  ...   3.0  0.0  0.0   \n",
      "0   0.0  0.0  7.0  16.0  16.0  16.0  13.0  0.0  0.0  0.0  ...   0.0  0.0  0.0   \n",
      "\n",
      "     57   58    59    60    61   62   63  \n",
      "0   0.0  6.0  13.0  10.0   0.0  0.0  0.0  \n",
      "0   0.0  0.0  11.0  16.0  10.0  0.0  0.0  \n",
      "0   0.0  0.0   3.0  11.0  16.0  9.0  0.0  \n",
      "0   0.0  7.0  13.0  13.0   9.0  0.0  0.0  \n",
      "0   0.0  0.0   2.0  16.0   4.0  0.0  0.0  \n",
      "..  ...  ...   ...   ...   ...  ...  ...  \n",
      "0   0.0  5.0  16.0  14.0   9.0  4.0  0.0  \n",
      "0   0.0  2.0  11.0  16.0   7.0  0.0  0.0  \n",
      "0   0.0  0.0  10.0  14.0   0.0  0.0  0.0  \n",
      "0   0.0  0.0   0.0  16.0  16.0  0.0  0.0  \n",
      "0   0.0  7.0  16.0   3.0   0.0  0.0  0.0  \n",
      "\n",
      "[174 rows x 64 columns]\n",
      "     0    1    2     3     4     5     6    7    8    9   ...   54   55   56  \\\n",
      "0   0.0  0.0  5.0  13.0   9.0   1.0   0.0  0.0  0.0  0.0  ...  0.0  0.0  0.0   \n",
      "0   0.0  0.0  0.0  12.0  13.0   5.0   0.0  0.0  0.0  0.0  ...  0.0  0.0  0.0   \n",
      "0   0.0  0.0  0.0   4.0  15.0  12.0   0.0  0.0  0.0  0.0  ...  5.0  0.0  0.0   \n",
      "0   0.0  0.0  7.0  15.0  13.0   1.0   0.0  0.0  0.0  8.0  ...  9.0  0.0  0.0   \n",
      "0   0.0  0.0  0.0   1.0  11.0   0.0   0.0  0.0  0.0  0.0  ...  0.0  0.0  0.0   \n",
      "..  ...  ...  ...   ...   ...   ...   ...  ...  ...  ...  ...  ...  ...  ...   \n",
      "0   0.0  0.0  2.0  13.0   4.0   0.0   0.0  0.0  0.0  0.0  ...  0.0  0.0  0.0   \n",
      "0   0.0  0.0  0.0   8.0  13.0   0.0   0.0  0.0  0.0  0.0  ...  0.0  0.0  0.0   \n",
      "0   0.0  0.0  0.0   0.0  14.0  16.0   7.0  0.0  0.0  0.0  ...  3.0  0.0  0.0   \n",
      "0   0.0  0.0  7.0  16.0  16.0  16.0  13.0  0.0  0.0  0.0  ...  0.0  0.0  0.0   \n",
      "0   0.0  0.0  1.0   8.0  10.0  15.0  11.0  0.0  0.0  2.0  ...  0.0  0.0  0.0   \n",
      "\n",
      "     57   58    59    60    61   62   63  \n",
      "0   0.0  6.0  13.0  10.0   0.0  0.0  0.0  \n",
      "0   0.0  0.0  11.0  16.0  10.0  0.0  0.0  \n",
      "0   0.0  0.0   3.0  11.0  16.0  9.0  0.0  \n",
      "0   0.0  7.0  13.0  13.0   9.0  0.0  0.0  \n",
      "0   0.0  0.0   2.0  16.0   4.0  0.0  0.0  \n",
      "..  ...  ...   ...   ...   ...  ...  ...  \n",
      "0   0.0  2.0  11.0  16.0   7.0  0.0  0.0  \n",
      "0   0.0  0.0  10.0  14.0   0.0  0.0  0.0  \n",
      "0   0.0  0.0   0.0  16.0  16.0  0.0  0.0  \n",
      "0   0.0  7.0  16.0   3.0   0.0  0.0  0.0  \n",
      "0   0.0  1.0  16.0   5.0   0.0  0.0  0.0  \n",
      "\n",
      "[175 rows x 64 columns]\n",
      "     0    1     2     3     4     5     6    7    8    9   ...   54   55   56  \\\n",
      "0   0.0  0.0   5.0  13.0   9.0   1.0   0.0  0.0  0.0  0.0  ...  0.0  0.0  0.0   \n",
      "0   0.0  0.0   0.0  12.0  13.0   5.0   0.0  0.0  0.0  0.0  ...  0.0  0.0  0.0   \n",
      "0   0.0  0.0   0.0   4.0  15.0  12.0   0.0  0.0  0.0  0.0  ...  5.0  0.0  0.0   \n",
      "0   0.0  0.0   7.0  15.0  13.0   1.0   0.0  0.0  0.0  8.0  ...  9.0  0.0  0.0   \n",
      "0   0.0  0.0   0.0   1.0  11.0   0.0   0.0  0.0  0.0  0.0  ...  0.0  0.0  0.0   \n",
      "..  ...  ...   ...   ...   ...   ...   ...  ...  ...  ...  ...  ...  ...  ...   \n",
      "0   0.0  0.0   0.0   8.0  13.0   0.0   0.0  0.0  0.0  0.0  ...  0.0  0.0  0.0   \n",
      "0   0.0  0.0   0.0   0.0  14.0  16.0   7.0  0.0  0.0  0.0  ...  3.0  0.0  0.0   \n",
      "0   0.0  0.0   7.0  16.0  16.0  16.0  13.0  0.0  0.0  0.0  ...  0.0  0.0  0.0   \n",
      "0   0.0  0.0   1.0   8.0  10.0  15.0  11.0  0.0  0.0  2.0  ...  0.0  0.0  0.0   \n",
      "0   0.0  1.0  10.0  16.0  16.0  11.0   0.0  0.0  0.0  5.0  ...  4.0  0.0  0.0   \n",
      "\n",
      "     57    58    59    60    61   62   63  \n",
      "0   0.0   6.0  13.0  10.0   0.0  0.0  0.0  \n",
      "0   0.0   0.0  11.0  16.0  10.0  0.0  0.0  \n",
      "0   0.0   0.0   3.0  11.0  16.0  9.0  0.0  \n",
      "0   0.0   7.0  13.0  13.0   9.0  0.0  0.0  \n",
      "0   0.0   0.0   2.0  16.0   4.0  0.0  0.0  \n",
      "..  ...   ...   ...   ...   ...  ...  ...  \n",
      "0   0.0   0.0  10.0  14.0   0.0  0.0  0.0  \n",
      "0   0.0   0.0   0.0  16.0  16.0  0.0  0.0  \n",
      "0   0.0   7.0  16.0   3.0   0.0  0.0  0.0  \n",
      "0   0.0   1.0  16.0   5.0   0.0  0.0  0.0  \n",
      "0   1.0  15.0  14.0  11.0   4.0  0.0  0.0  \n",
      "\n",
      "[176 rows x 64 columns]\n",
      "     0    1     2     3     4     5     6    7    8    9   ...   54   55   56  \\\n",
      "0   0.0  0.0   5.0  13.0   9.0   1.0   0.0  0.0  0.0  0.0  ...  0.0  0.0  0.0   \n",
      "0   0.0  0.0   0.0  12.0  13.0   5.0   0.0  0.0  0.0  0.0  ...  0.0  0.0  0.0   \n",
      "0   0.0  0.0   0.0   4.0  15.0  12.0   0.0  0.0  0.0  0.0  ...  5.0  0.0  0.0   \n",
      "0   0.0  0.0   7.0  15.0  13.0   1.0   0.0  0.0  0.0  8.0  ...  9.0  0.0  0.0   \n",
      "0   0.0  0.0   0.0   1.0  11.0   0.0   0.0  0.0  0.0  0.0  ...  0.0  0.0  0.0   \n",
      "..  ...  ...   ...   ...   ...   ...   ...  ...  ...  ...  ...  ...  ...  ...   \n",
      "0   0.0  0.0   0.0   0.0  14.0  16.0   7.0  0.0  0.0  0.0  ...  3.0  0.0  0.0   \n",
      "0   0.0  0.0   7.0  16.0  16.0  16.0  13.0  0.0  0.0  0.0  ...  0.0  0.0  0.0   \n",
      "0   0.0  0.0   1.0   8.0  10.0  15.0  11.0  0.0  0.0  2.0  ...  0.0  0.0  0.0   \n",
      "0   0.0  1.0  10.0  16.0  16.0  11.0   0.0  0.0  0.0  5.0  ...  4.0  0.0  0.0   \n",
      "0   0.0  7.0  16.0  16.0  16.0  11.0   2.0  0.0  0.0  5.0  ...  0.0  0.0  0.0   \n",
      "\n",
      "     57    58    59    60    61   62   63  \n",
      "0   0.0   6.0  13.0  10.0   0.0  0.0  0.0  \n",
      "0   0.0   0.0  11.0  16.0  10.0  0.0  0.0  \n",
      "0   0.0   0.0   3.0  11.0  16.0  9.0  0.0  \n",
      "0   0.0   7.0  13.0  13.0   9.0  0.0  0.0  \n",
      "0   0.0   0.0   2.0  16.0   4.0  0.0  0.0  \n",
      "..  ...   ...   ...   ...   ...  ...  ...  \n",
      "0   0.0   0.0   0.0  16.0  16.0  0.0  0.0  \n",
      "0   0.0   7.0  16.0   3.0   0.0  0.0  0.0  \n",
      "0   0.0   1.0  16.0   5.0   0.0  0.0  0.0  \n",
      "0   1.0  15.0  14.0  11.0   4.0  0.0  0.0  \n",
      "0   4.0  15.0  16.0   6.0   0.0  0.0  0.0  \n",
      "\n",
      "[177 rows x 64 columns]\n",
      "     0    1     2     3     4     5     6    7    8    9   ...   54   55   56  \\\n",
      "0   0.0  0.0   5.0  13.0   9.0   1.0   0.0  0.0  0.0  0.0  ...  0.0  0.0  0.0   \n",
      "0   0.0  0.0   0.0  12.0  13.0   5.0   0.0  0.0  0.0  0.0  ...  0.0  0.0  0.0   \n",
      "0   0.0  0.0   0.0   4.0  15.0  12.0   0.0  0.0  0.0  0.0  ...  5.0  0.0  0.0   \n",
      "0   0.0  0.0   7.0  15.0  13.0   1.0   0.0  0.0  0.0  8.0  ...  9.0  0.0  0.0   \n",
      "0   0.0  0.0   0.0   1.0  11.0   0.0   0.0  0.0  0.0  0.0  ...  0.0  0.0  0.0   \n",
      "..  ...  ...   ...   ...   ...   ...   ...  ...  ...  ...  ...  ...  ...  ...   \n",
      "0   0.0  0.0   7.0  16.0  16.0  16.0  13.0  0.0  0.0  0.0  ...  0.0  0.0  0.0   \n",
      "0   0.0  0.0   1.0   8.0  10.0  15.0  11.0  0.0  0.0  2.0  ...  0.0  0.0  0.0   \n",
      "0   0.0  1.0  10.0  16.0  16.0  11.0   0.0  0.0  0.0  5.0  ...  4.0  0.0  0.0   \n",
      "0   0.0  7.0  16.0  16.0  16.0  11.0   2.0  0.0  0.0  5.0  ...  0.0  0.0  0.0   \n",
      "0   0.0  0.0   0.0   0.0  12.0  11.0   1.0  0.0  0.0  0.0  ...  1.0  0.0  0.0   \n",
      "\n",
      "     57    58    59    60    61   62   63  \n",
      "0   0.0   6.0  13.0  10.0   0.0  0.0  0.0  \n",
      "0   0.0   0.0  11.0  16.0  10.0  0.0  0.0  \n",
      "0   0.0   0.0   3.0  11.0  16.0  9.0  0.0  \n",
      "0   0.0   7.0  13.0  13.0   9.0  0.0  0.0  \n",
      "0   0.0   0.0   2.0  16.0   4.0  0.0  0.0  \n",
      "..  ...   ...   ...   ...   ...  ...  ...  \n",
      "0   0.0   7.0  16.0   3.0   0.0  0.0  0.0  \n",
      "0   0.0   1.0  16.0   5.0   0.0  0.0  0.0  \n",
      "0   1.0  15.0  14.0  11.0   4.0  0.0  0.0  \n",
      "0   4.0  15.0  16.0   6.0   0.0  0.0  0.0  \n",
      "0   0.0   0.0   0.0  11.0  12.0  0.0  0.0  \n",
      "\n",
      "[178 rows x 64 columns]\n",
      "     0    1     2     3     4     5     6    7    8    9   ...   54   55   56  \\\n",
      "0   0.0  0.0   5.0  13.0   9.0   1.0   0.0  0.0  0.0  0.0  ...  0.0  0.0  0.0   \n",
      "0   0.0  0.0   0.0  12.0  13.0   5.0   0.0  0.0  0.0  0.0  ...  0.0  0.0  0.0   \n",
      "0   0.0  0.0   0.0   4.0  15.0  12.0   0.0  0.0  0.0  0.0  ...  5.0  0.0  0.0   \n",
      "0   0.0  0.0   7.0  15.0  13.0   1.0   0.0  0.0  0.0  8.0  ...  9.0  0.0  0.0   \n",
      "0   0.0  0.0   0.0   1.0  11.0   0.0   0.0  0.0  0.0  0.0  ...  0.0  0.0  0.0   \n",
      "..  ...  ...   ...   ...   ...   ...   ...  ...  ...  ...  ...  ...  ...  ...   \n",
      "0   0.0  0.0   1.0   8.0  10.0  15.0  11.0  0.0  0.0  2.0  ...  0.0  0.0  0.0   \n",
      "0   0.0  1.0  10.0  16.0  16.0  11.0   0.0  0.0  0.0  5.0  ...  4.0  0.0  0.0   \n",
      "0   0.0  7.0  16.0  16.0  16.0  11.0   2.0  0.0  0.0  5.0  ...  0.0  0.0  0.0   \n",
      "0   0.0  0.0   0.0   0.0  12.0  11.0   1.0  0.0  0.0  0.0  ...  1.0  0.0  0.0   \n",
      "0   0.0  0.0   6.0  15.0  15.0   3.0   0.0  0.0  0.0  3.0  ...  9.0  0.0  0.0   \n",
      "\n",
      "     57    58    59    60    61   62   63  \n",
      "0   0.0   6.0  13.0  10.0   0.0  0.0  0.0  \n",
      "0   0.0   0.0  11.0  16.0  10.0  0.0  0.0  \n",
      "0   0.0   0.0   3.0  11.0  16.0  9.0  0.0  \n",
      "0   0.0   7.0  13.0  13.0   9.0  0.0  0.0  \n",
      "0   0.0   0.0   2.0  16.0   4.0  0.0  0.0  \n",
      "..  ...   ...   ...   ...   ...  ...  ...  \n",
      "0   0.0   1.0  16.0   5.0   0.0  0.0  0.0  \n",
      "0   1.0  15.0  14.0  11.0   4.0  0.0  0.0  \n",
      "0   4.0  15.0  16.0   6.0   0.0  0.0  0.0  \n",
      "0   0.0   0.0   0.0  11.0  12.0  0.0  0.0  \n",
      "0   0.0   5.0  14.0  15.0  10.0  1.0  0.0  \n",
      "\n",
      "[179 rows x 64 columns]\n",
      "     0    1     2     3     4     5    6    7    8    9   ...   54   55   56  \\\n",
      "0   0.0  0.0   5.0  13.0   9.0   1.0  0.0  0.0  0.0  0.0  ...  0.0  0.0  0.0   \n",
      "0   0.0  0.0   0.0  12.0  13.0   5.0  0.0  0.0  0.0  0.0  ...  0.0  0.0  0.0   \n",
      "0   0.0  0.0   0.0   4.0  15.0  12.0  0.0  0.0  0.0  0.0  ...  5.0  0.0  0.0   \n",
      "0   0.0  0.0   7.0  15.0  13.0   1.0  0.0  0.0  0.0  8.0  ...  9.0  0.0  0.0   \n",
      "0   0.0  0.0   0.0   1.0  11.0   0.0  0.0  0.0  0.0  0.0  ...  0.0  0.0  0.0   \n",
      "..  ...  ...   ...   ...   ...   ...  ...  ...  ...  ...  ...  ...  ...  ...   \n",
      "0   0.0  1.0  10.0  16.0  16.0  11.0  0.0  0.0  0.0  5.0  ...  4.0  0.0  0.0   \n",
      "0   0.0  7.0  16.0  16.0  16.0  11.0  2.0  0.0  0.0  5.0  ...  0.0  0.0  0.0   \n",
      "0   0.0  0.0   0.0   0.0  12.0  11.0  1.0  0.0  0.0  0.0  ...  1.0  0.0  0.0   \n",
      "0   0.0  0.0   6.0  15.0  15.0   3.0  0.0  0.0  0.0  3.0  ...  9.0  0.0  0.0   \n",
      "0   0.0  0.0   0.0  10.0  15.0   1.0  0.0  0.0  0.0  0.0  ...  3.0  0.0  0.0   \n",
      "\n",
      "     57    58    59    60    61   62   63  \n",
      "0   0.0   6.0  13.0  10.0   0.0  0.0  0.0  \n",
      "0   0.0   0.0  11.0  16.0  10.0  0.0  0.0  \n",
      "0   0.0   0.0   3.0  11.0  16.0  9.0  0.0  \n",
      "0   0.0   7.0  13.0  13.0   9.0  0.0  0.0  \n",
      "0   0.0   0.0   2.0  16.0   4.0  0.0  0.0  \n",
      "..  ...   ...   ...   ...   ...  ...  ...  \n",
      "0   1.0  15.0  14.0  11.0   4.0  0.0  0.0  \n",
      "0   4.0  15.0  16.0   6.0   0.0  0.0  0.0  \n",
      "0   0.0   0.0   0.0  11.0  12.0  0.0  0.0  \n",
      "0   0.0   5.0  14.0  15.0  10.0  1.0  0.0  \n",
      "0   0.0   1.0   8.0  13.0   8.0  0.0  0.0  \n",
      "\n",
      "[180 rows x 64 columns]\n",
      "     0    1     2     3     4     5    6    7    8    9   ...   54   55   56  \\\n",
      "0   0.0  0.0   5.0  13.0   9.0   1.0  0.0  0.0  0.0  0.0  ...  0.0  0.0  0.0   \n",
      "0   0.0  0.0   0.0  12.0  13.0   5.0  0.0  0.0  0.0  0.0  ...  0.0  0.0  0.0   \n",
      "0   0.0  0.0   0.0   4.0  15.0  12.0  0.0  0.0  0.0  0.0  ...  5.0  0.0  0.0   \n",
      "0   0.0  0.0   7.0  15.0  13.0   1.0  0.0  0.0  0.0  8.0  ...  9.0  0.0  0.0   \n",
      "0   0.0  0.0   0.0   1.0  11.0   0.0  0.0  0.0  0.0  0.0  ...  0.0  0.0  0.0   \n",
      "..  ...  ...   ...   ...   ...   ...  ...  ...  ...  ...  ...  ...  ...  ...   \n",
      "0   0.0  7.0  16.0  16.0  16.0  11.0  2.0  0.0  0.0  5.0  ...  0.0  0.0  0.0   \n",
      "0   0.0  0.0   0.0   0.0  12.0  11.0  1.0  0.0  0.0  0.0  ...  1.0  0.0  0.0   \n",
      "0   0.0  0.0   6.0  15.0  15.0   3.0  0.0  0.0  0.0  3.0  ...  9.0  0.0  0.0   \n",
      "0   0.0  0.0   0.0  10.0  15.0   1.0  0.0  0.0  0.0  0.0  ...  3.0  0.0  0.0   \n",
      "0   0.0  0.0   7.0  15.0  15.0   4.0  0.0  0.0  0.0  8.0  ...  9.0  0.0  0.0   \n",
      "\n",
      "     57    58    59    60    61   62   63  \n",
      "0   0.0   6.0  13.0  10.0   0.0  0.0  0.0  \n",
      "0   0.0   0.0  11.0  16.0  10.0  0.0  0.0  \n",
      "0   0.0   0.0   3.0  11.0  16.0  9.0  0.0  \n",
      "0   0.0   7.0  13.0  13.0   9.0  0.0  0.0  \n",
      "0   0.0   0.0   2.0  16.0   4.0  0.0  0.0  \n",
      "..  ...   ...   ...   ...   ...  ...  ...  \n",
      "0   4.0  15.0  16.0   6.0   0.0  0.0  0.0  \n",
      "0   0.0   0.0   0.0  11.0  12.0  0.0  0.0  \n",
      "0   0.0   5.0  14.0  15.0  10.0  1.0  0.0  \n",
      "0   0.0   1.0   8.0  13.0   8.0  0.0  0.0  \n",
      "0   0.0   9.0  16.0  16.0  12.0  3.0  0.0  \n",
      "\n",
      "[181 rows x 64 columns]\n",
      "     0    1     2     3     4     5    6    7    8    9   ...   54   55   56  \\\n",
      "0   0.0  0.0   5.0  13.0   9.0   1.0  0.0  0.0  0.0  0.0  ...  0.0  0.0  0.0   \n",
      "0   0.0  0.0   0.0  12.0  13.0   5.0  0.0  0.0  0.0  0.0  ...  0.0  0.0  0.0   \n",
      "0   0.0  0.0   0.0   4.0  15.0  12.0  0.0  0.0  0.0  0.0  ...  5.0  0.0  0.0   \n",
      "0   0.0  0.0   7.0  15.0  13.0   1.0  0.0  0.0  0.0  8.0  ...  9.0  0.0  0.0   \n",
      "0   0.0  0.0   0.0   1.0  11.0   0.0  0.0  0.0  0.0  0.0  ...  0.0  0.0  0.0   \n",
      "..  ...  ...   ...   ...   ...   ...  ...  ...  ...  ...  ...  ...  ...  ...   \n",
      "0   0.0  0.0   0.0   0.0  12.0  11.0  1.0  0.0  0.0  0.0  ...  1.0  0.0  0.0   \n",
      "0   0.0  0.0   6.0  15.0  15.0   3.0  0.0  0.0  0.0  3.0  ...  9.0  0.0  0.0   \n",
      "0   0.0  0.0   0.0  10.0  15.0   1.0  0.0  0.0  0.0  0.0  ...  3.0  0.0  0.0   \n",
      "0   0.0  0.0   7.0  15.0  15.0   4.0  0.0  0.0  0.0  8.0  ...  9.0  0.0  0.0   \n",
      "0   0.0  1.0  12.0  14.0  10.0   0.0  0.0  0.0  0.0  5.0  ...  3.0  0.0  0.0   \n",
      "\n",
      "     57    58    59    60    61   62   63  \n",
      "0   0.0   6.0  13.0  10.0   0.0  0.0  0.0  \n",
      "0   0.0   0.0  11.0  16.0  10.0  0.0  0.0  \n",
      "0   0.0   0.0   3.0  11.0  16.0  9.0  0.0  \n",
      "0   0.0   7.0  13.0  13.0   9.0  0.0  0.0  \n",
      "0   0.0   0.0   2.0  16.0   4.0  0.0  0.0  \n",
      "..  ...   ...   ...   ...   ...  ...  ...  \n",
      "0   0.0   0.0   0.0  11.0  12.0  0.0  0.0  \n",
      "0   0.0   5.0  14.0  15.0  10.0  1.0  0.0  \n",
      "0   0.0   1.0   8.0  13.0   8.0  0.0  0.0  \n",
      "0   0.0   9.0  16.0  16.0  12.0  3.0  0.0  \n",
      "0   0.0  10.0  15.0  13.0   9.0  4.0  0.0  \n",
      "\n",
      "[182 rows x 64 columns]\n",
      "     0    1     2     3     4     5    6    7    8    9   ...   54   55   56  \\\n",
      "0   0.0  0.0   5.0  13.0   9.0   1.0  0.0  0.0  0.0  0.0  ...  0.0  0.0  0.0   \n",
      "0   0.0  0.0   0.0  12.0  13.0   5.0  0.0  0.0  0.0  0.0  ...  0.0  0.0  0.0   \n",
      "0   0.0  0.0   0.0   4.0  15.0  12.0  0.0  0.0  0.0  0.0  ...  5.0  0.0  0.0   \n",
      "0   0.0  0.0   7.0  15.0  13.0   1.0  0.0  0.0  0.0  8.0  ...  9.0  0.0  0.0   \n",
      "0   0.0  0.0   0.0   1.0  11.0   0.0  0.0  0.0  0.0  0.0  ...  0.0  0.0  0.0   \n",
      "..  ...  ...   ...   ...   ...   ...  ...  ...  ...  ...  ...  ...  ...  ...   \n",
      "0   0.0  0.0   6.0  15.0  15.0   3.0  0.0  0.0  0.0  3.0  ...  9.0  0.0  0.0   \n",
      "0   0.0  0.0   0.0  10.0  15.0   1.0  0.0  0.0  0.0  0.0  ...  3.0  0.0  0.0   \n",
      "0   0.0  0.0   7.0  15.0  15.0   4.0  0.0  0.0  0.0  8.0  ...  9.0  0.0  0.0   \n",
      "0   0.0  1.0  12.0  14.0  10.0   0.0  0.0  0.0  0.0  5.0  ...  3.0  0.0  0.0   \n",
      "0   0.0  0.0   5.0  16.0  12.0   2.0  0.0  0.0  0.0  0.0  ...  0.0  0.0  0.0   \n",
      "\n",
      "     57    58    59    60    61   62   63  \n",
      "0   0.0   6.0  13.0  10.0   0.0  0.0  0.0  \n",
      "0   0.0   0.0  11.0  16.0  10.0  0.0  0.0  \n",
      "0   0.0   0.0   3.0  11.0  16.0  9.0  0.0  \n",
      "0   0.0   7.0  13.0  13.0   9.0  0.0  0.0  \n",
      "0   0.0   0.0   2.0  16.0   4.0  0.0  0.0  \n",
      "..  ...   ...   ...   ...   ...  ...  ...  \n",
      "0   0.0   5.0  14.0  15.0  10.0  1.0  0.0  \n",
      "0   0.0   1.0   8.0  13.0   8.0  0.0  0.0  \n",
      "0   0.0   9.0  16.0  16.0  12.0  3.0  0.0  \n",
      "0   0.0  10.0  15.0  13.0   9.0  4.0  0.0  \n",
      "0   0.0   6.0  11.0   0.0   0.0  0.0  0.0  \n",
      "\n",
      "[183 rows x 64 columns]\n",
      "     0    1     2     3     4     5    6    7    8    9   ...   54   55   56  \\\n",
      "0   0.0  0.0   5.0  13.0   9.0   1.0  0.0  0.0  0.0  0.0  ...  0.0  0.0  0.0   \n",
      "0   0.0  0.0   0.0  12.0  13.0   5.0  0.0  0.0  0.0  0.0  ...  0.0  0.0  0.0   \n",
      "0   0.0  0.0   0.0   4.0  15.0  12.0  0.0  0.0  0.0  0.0  ...  5.0  0.0  0.0   \n",
      "0   0.0  0.0   7.0  15.0  13.0   1.0  0.0  0.0  0.0  8.0  ...  9.0  0.0  0.0   \n",
      "0   0.0  0.0   0.0   1.0  11.0   0.0  0.0  0.0  0.0  0.0  ...  0.0  0.0  0.0   \n",
      "..  ...  ...   ...   ...   ...   ...  ...  ...  ...  ...  ...  ...  ...  ...   \n",
      "0   0.0  0.0   0.0  10.0  15.0   1.0  0.0  0.0  0.0  0.0  ...  3.0  0.0  0.0   \n",
      "0   0.0  0.0   7.0  15.0  15.0   4.0  0.0  0.0  0.0  8.0  ...  9.0  0.0  0.0   \n",
      "0   0.0  1.0  12.0  14.0  10.0   0.0  0.0  0.0  0.0  5.0  ...  3.0  0.0  0.0   \n",
      "0   0.0  0.0   5.0  16.0  12.0   2.0  0.0  0.0  0.0  0.0  ...  0.0  0.0  0.0   \n",
      "0   0.0  0.0   5.0  15.0  13.0   3.0  0.0  0.0  0.0  0.0  ...  4.0  0.0  0.0   \n",
      "\n",
      "     57    58    59    60    61   62   63  \n",
      "0   0.0   6.0  13.0  10.0   0.0  0.0  0.0  \n",
      "0   0.0   0.0  11.0  16.0  10.0  0.0  0.0  \n",
      "0   0.0   0.0   3.0  11.0  16.0  9.0  0.0  \n",
      "0   0.0   7.0  13.0  13.0   9.0  0.0  0.0  \n",
      "0   0.0   0.0   2.0  16.0   4.0  0.0  0.0  \n",
      "..  ...   ...   ...   ...   ...  ...  ...  \n",
      "0   0.0   1.0   8.0  13.0   8.0  0.0  0.0  \n",
      "0   0.0   9.0  16.0  16.0  12.0  3.0  0.0  \n",
      "0   0.0  10.0  15.0  13.0   9.0  4.0  0.0  \n",
      "0   0.0   6.0  11.0   0.0   0.0  0.0  0.0  \n",
      "0   0.0   5.0  16.0  16.0  12.0  2.0  0.0  \n",
      "\n",
      "[184 rows x 64 columns]\n",
      "     0    1     2     3     4     5    6    7    8    9   ...   54   55   56  \\\n",
      "0   0.0  0.0   5.0  13.0   9.0   1.0  0.0  0.0  0.0  0.0  ...  0.0  0.0  0.0   \n",
      "0   0.0  0.0   0.0  12.0  13.0   5.0  0.0  0.0  0.0  0.0  ...  0.0  0.0  0.0   \n",
      "0   0.0  0.0   0.0   4.0  15.0  12.0  0.0  0.0  0.0  0.0  ...  5.0  0.0  0.0   \n",
      "0   0.0  0.0   7.0  15.0  13.0   1.0  0.0  0.0  0.0  8.0  ...  9.0  0.0  0.0   \n",
      "0   0.0  0.0   0.0   1.0  11.0   0.0  0.0  0.0  0.0  0.0  ...  0.0  0.0  0.0   \n",
      "..  ...  ...   ...   ...   ...   ...  ...  ...  ...  ...  ...  ...  ...  ...   \n",
      "0   0.0  0.0   7.0  15.0  15.0   4.0  0.0  0.0  0.0  8.0  ...  9.0  0.0  0.0   \n",
      "0   0.0  1.0  12.0  14.0  10.0   0.0  0.0  0.0  0.0  5.0  ...  3.0  0.0  0.0   \n",
      "0   0.0  0.0   5.0  16.0  12.0   2.0  0.0  0.0  0.0  0.0  ...  0.0  0.0  0.0   \n",
      "0   0.0  0.0   5.0  15.0  13.0   3.0  0.0  0.0  0.0  0.0  ...  4.0  0.0  0.0   \n",
      "0   0.0  0.0  11.0  12.0   0.0   0.0  0.0  0.0  0.0  7.0  ...  2.0  0.0  0.0   \n",
      "\n",
      "     57    58    59    60    61   62   63  \n",
      "0   0.0   6.0  13.0  10.0   0.0  0.0  0.0  \n",
      "0   0.0   0.0  11.0  16.0  10.0  0.0  0.0  \n",
      "0   0.0   0.0   3.0  11.0  16.0  9.0  0.0  \n",
      "0   0.0   7.0  13.0  13.0   9.0  0.0  0.0  \n",
      "0   0.0   0.0   2.0  16.0   4.0  0.0  0.0  \n",
      "..  ...   ...   ...   ...   ...  ...  ...  \n",
      "0   0.0   9.0  16.0  16.0  12.0  3.0  0.0  \n",
      "0   0.0  10.0  15.0  13.0   9.0  4.0  0.0  \n",
      "0   0.0   6.0  11.0   0.0   0.0  0.0  0.0  \n",
      "0   0.0   5.0  16.0  16.0  12.0  2.0  0.0  \n",
      "0   0.0  12.0  14.0  13.0  12.0  5.0  0.0  \n",
      "\n",
      "[185 rows x 64 columns]\n",
      "     0    1     2     3     4     5    6    7    8    9   ...   54   55   56  \\\n",
      "0   0.0  0.0   5.0  13.0   9.0   1.0  0.0  0.0  0.0  0.0  ...  0.0  0.0  0.0   \n",
      "0   0.0  0.0   0.0  12.0  13.0   5.0  0.0  0.0  0.0  0.0  ...  0.0  0.0  0.0   \n",
      "0   0.0  0.0   0.0   4.0  15.0  12.0  0.0  0.0  0.0  0.0  ...  5.0  0.0  0.0   \n",
      "0   0.0  0.0   7.0  15.0  13.0   1.0  0.0  0.0  0.0  8.0  ...  9.0  0.0  0.0   \n",
      "0   0.0  0.0   0.0   1.0  11.0   0.0  0.0  0.0  0.0  0.0  ...  0.0  0.0  0.0   \n",
      "..  ...  ...   ...   ...   ...   ...  ...  ...  ...  ...  ...  ...  ...  ...   \n",
      "0   0.0  1.0  12.0  14.0  10.0   0.0  0.0  0.0  0.0  5.0  ...  3.0  0.0  0.0   \n",
      "0   0.0  0.0   5.0  16.0  12.0   2.0  0.0  0.0  0.0  0.0  ...  0.0  0.0  0.0   \n",
      "0   0.0  0.0   5.0  15.0  13.0   3.0  0.0  0.0  0.0  0.0  ...  4.0  0.0  0.0   \n",
      "0   0.0  0.0  11.0  12.0   0.0   0.0  0.0  0.0  0.0  7.0  ...  2.0  0.0  0.0   \n",
      "0   0.0  0.0   2.0  15.0  13.0   0.0  0.0  0.0  0.0  0.0  ...  4.0  0.0  0.0   \n",
      "\n",
      "     57    58    59    60    61   62   63  \n",
      "0   0.0   6.0  13.0  10.0   0.0  0.0  0.0  \n",
      "0   0.0   0.0  11.0  16.0  10.0  0.0  0.0  \n",
      "0   0.0   0.0   3.0  11.0  16.0  9.0  0.0  \n",
      "0   0.0   7.0  13.0  13.0   9.0  0.0  0.0  \n",
      "0   0.0   0.0   2.0  16.0   4.0  0.0  0.0  \n",
      "..  ...   ...   ...   ...   ...  ...  ...  \n",
      "0   0.0  10.0  15.0  13.0   9.0  4.0  0.0  \n",
      "0   0.0   6.0  11.0   0.0   0.0  0.0  0.0  \n",
      "0   0.0   5.0  16.0  16.0  12.0  2.0  0.0  \n",
      "0   0.0  12.0  14.0  13.0  12.0  5.0  0.0  \n",
      "0   0.0   2.0  13.0  15.0   8.0  0.0  0.0  \n",
      "\n",
      "[186 rows x 64 columns]\n",
      "     0    1     2     3     4     5    6    7    8    9   ...   54   55   56  \\\n",
      "0   0.0  0.0   5.0  13.0   9.0   1.0  0.0  0.0  0.0  0.0  ...  0.0  0.0  0.0   \n",
      "0   0.0  0.0   0.0  12.0  13.0   5.0  0.0  0.0  0.0  0.0  ...  0.0  0.0  0.0   \n",
      "0   0.0  0.0   0.0   4.0  15.0  12.0  0.0  0.0  0.0  0.0  ...  5.0  0.0  0.0   \n",
      "0   0.0  0.0   7.0  15.0  13.0   1.0  0.0  0.0  0.0  8.0  ...  9.0  0.0  0.0   \n",
      "0   0.0  0.0   0.0   1.0  11.0   0.0  0.0  0.0  0.0  0.0  ...  0.0  0.0  0.0   \n",
      "..  ...  ...   ...   ...   ...   ...  ...  ...  ...  ...  ...  ...  ...  ...   \n",
      "0   0.0  0.0   5.0  16.0  12.0   2.0  0.0  0.0  0.0  0.0  ...  0.0  0.0  0.0   \n",
      "0   0.0  0.0   5.0  15.0  13.0   3.0  0.0  0.0  0.0  0.0  ...  4.0  0.0  0.0   \n",
      "0   0.0  0.0  11.0  12.0   0.0   0.0  0.0  0.0  0.0  7.0  ...  2.0  0.0  0.0   \n",
      "0   0.0  0.0   2.0  15.0  13.0   0.0  0.0  0.0  0.0  0.0  ...  4.0  0.0  0.0   \n",
      "0   0.0  0.0   0.0   1.0  11.0  14.0  5.0  0.0  0.0  0.0  ...  0.0  0.0  0.0   \n",
      "\n",
      "     57    58    59    60    61   62   63  \n",
      "0   0.0   6.0  13.0  10.0   0.0  0.0  0.0  \n",
      "0   0.0   0.0  11.0  16.0  10.0  0.0  0.0  \n",
      "0   0.0   0.0   3.0  11.0  16.0  9.0  0.0  \n",
      "0   0.0   7.0  13.0  13.0   9.0  0.0  0.0  \n",
      "0   0.0   0.0   2.0  16.0   4.0  0.0  0.0  \n",
      "..  ...   ...   ...   ...   ...  ...  ...  \n",
      "0   0.0   6.0  11.0   0.0   0.0  0.0  0.0  \n",
      "0   0.0   5.0  16.0  16.0  12.0  2.0  0.0  \n",
      "0   0.0  12.0  14.0  13.0  12.0  5.0  0.0  \n",
      "0   0.0   2.0  13.0  15.0   8.0  0.0  0.0  \n",
      "0   0.0   0.0   0.0  11.0  10.0  0.0  0.0  \n",
      "\n",
      "[187 rows x 64 columns]\n",
      "     0    1     2     3     4     5    6    7    8    9   ...   54   55   56  \\\n",
      "0   0.0  0.0   5.0  13.0   9.0   1.0  0.0  0.0  0.0  0.0  ...  0.0  0.0  0.0   \n",
      "0   0.0  0.0   0.0  12.0  13.0   5.0  0.0  0.0  0.0  0.0  ...  0.0  0.0  0.0   \n",
      "0   0.0  0.0   0.0   4.0  15.0  12.0  0.0  0.0  0.0  0.0  ...  5.0  0.0  0.0   \n",
      "0   0.0  0.0   7.0  15.0  13.0   1.0  0.0  0.0  0.0  8.0  ...  9.0  0.0  0.0   \n",
      "0   0.0  0.0   0.0   1.0  11.0   0.0  0.0  0.0  0.0  0.0  ...  0.0  0.0  0.0   \n",
      "..  ...  ...   ...   ...   ...   ...  ...  ...  ...  ...  ...  ...  ...  ...   \n",
      "0   0.0  0.0   5.0  15.0  13.0   3.0  0.0  0.0  0.0  0.0  ...  4.0  0.0  0.0   \n",
      "0   0.0  0.0  11.0  12.0   0.0   0.0  0.0  0.0  0.0  7.0  ...  2.0  0.0  0.0   \n",
      "0   0.0  0.0   2.0  15.0  13.0   0.0  0.0  0.0  0.0  0.0  ...  4.0  0.0  0.0   \n",
      "0   0.0  0.0   0.0   1.0  11.0  14.0  5.0  0.0  0.0  0.0  ...  0.0  0.0  0.0   \n",
      "0   0.0  0.0   9.0  16.0   5.0   0.0  0.0  0.0  0.0  6.0  ...  8.0  0.0  0.0   \n",
      "\n",
      "     57    58    59    60    61   62   63  \n",
      "0   0.0   6.0  13.0  10.0   0.0  0.0  0.0  \n",
      "0   0.0   0.0  11.0  16.0  10.0  0.0  0.0  \n",
      "0   0.0   0.0   3.0  11.0  16.0  9.0  0.0  \n",
      "0   0.0   7.0  13.0  13.0   9.0  0.0  0.0  \n",
      "0   0.0   0.0   2.0  16.0   4.0  0.0  0.0  \n",
      "..  ...   ...   ...   ...   ...  ...  ...  \n",
      "0   0.0   5.0  16.0  16.0  12.0  2.0  0.0  \n",
      "0   0.0  12.0  14.0  13.0  12.0  5.0  0.0  \n",
      "0   0.0   2.0  13.0  15.0   8.0  0.0  0.0  \n",
      "0   0.0   0.0   0.0  11.0  10.0  0.0  0.0  \n",
      "0   0.0   7.0  16.0  16.0   8.0  1.0  0.0  \n",
      "\n",
      "[188 rows x 64 columns]\n",
      "     0    1     2     3     4     5    6    7    8    9   ...    54   55   56  \\\n",
      "0   0.0  0.0   5.0  13.0   9.0   1.0  0.0  0.0  0.0  0.0  ...   0.0  0.0  0.0   \n",
      "0   0.0  0.0   0.0  12.0  13.0   5.0  0.0  0.0  0.0  0.0  ...   0.0  0.0  0.0   \n",
      "0   0.0  0.0   0.0   4.0  15.0  12.0  0.0  0.0  0.0  0.0  ...   5.0  0.0  0.0   \n",
      "0   0.0  0.0   7.0  15.0  13.0   1.0  0.0  0.0  0.0  8.0  ...   9.0  0.0  0.0   \n",
      "0   0.0  0.0   0.0   1.0  11.0   0.0  0.0  0.0  0.0  0.0  ...   0.0  0.0  0.0   \n",
      "..  ...  ...   ...   ...   ...   ...  ...  ...  ...  ...  ...   ...  ...  ...   \n",
      "0   0.0  0.0  11.0  12.0   0.0   0.0  0.0  0.0  0.0  7.0  ...   2.0  0.0  0.0   \n",
      "0   0.0  0.0   2.0  15.0  13.0   0.0  0.0  0.0  0.0  0.0  ...   4.0  0.0  0.0   \n",
      "0   0.0  0.0   0.0   1.0  11.0  14.0  5.0  0.0  0.0  0.0  ...   0.0  0.0  0.0   \n",
      "0   0.0  0.0   9.0  16.0   5.0   0.0  0.0  0.0  0.0  6.0  ...   8.0  0.0  0.0   \n",
      "0   0.0  0.0   4.0  14.0   6.0   0.0  0.0  0.0  0.0  0.0  ...  12.0  0.0  0.0   \n",
      "\n",
      "     57    58    59    60    61   62   63  \n",
      "0   0.0   6.0  13.0  10.0   0.0  0.0  0.0  \n",
      "0   0.0   0.0  11.0  16.0  10.0  0.0  0.0  \n",
      "0   0.0   0.0   3.0  11.0  16.0  9.0  0.0  \n",
      "0   0.0   7.0  13.0  13.0   9.0  0.0  0.0  \n",
      "0   0.0   0.0   2.0  16.0   4.0  0.0  0.0  \n",
      "..  ...   ...   ...   ...   ...  ...  ...  \n",
      "0   0.0  12.0  14.0  13.0  12.0  5.0  0.0  \n",
      "0   0.0   2.0  13.0  15.0   8.0  0.0  0.0  \n",
      "0   0.0   0.0   0.0  11.0  10.0  0.0  0.0  \n",
      "0   0.0   7.0  16.0  16.0   8.0  1.0  0.0  \n",
      "0   0.0   6.0  15.0  16.0  12.0  1.0  0.0  \n",
      "\n",
      "[189 rows x 64 columns]\n",
      "     0    1     2     3     4     5    6    7    8    9   ...    54   55   56  \\\n",
      "0   0.0  0.0   5.0  13.0   9.0   1.0  0.0  0.0  0.0  0.0  ...   0.0  0.0  0.0   \n",
      "0   0.0  0.0   0.0  12.0  13.0   5.0  0.0  0.0  0.0  0.0  ...   0.0  0.0  0.0   \n",
      "0   0.0  0.0   0.0   4.0  15.0  12.0  0.0  0.0  0.0  0.0  ...   5.0  0.0  0.0   \n",
      "0   0.0  0.0   7.0  15.0  13.0   1.0  0.0  0.0  0.0  8.0  ...   9.0  0.0  0.0   \n",
      "0   0.0  0.0   0.0   1.0  11.0   0.0  0.0  0.0  0.0  0.0  ...   0.0  0.0  0.0   \n",
      "..  ...  ...   ...   ...   ...   ...  ...  ...  ...  ...  ...   ...  ...  ...   \n",
      "0   0.0  0.0   2.0  15.0  13.0   0.0  0.0  0.0  0.0  0.0  ...   4.0  0.0  0.0   \n",
      "0   0.0  0.0   0.0   1.0  11.0  14.0  5.0  0.0  0.0  0.0  ...   0.0  0.0  0.0   \n",
      "0   0.0  0.0   9.0  16.0   5.0   0.0  0.0  0.0  0.0  6.0  ...   8.0  0.0  0.0   \n",
      "0   0.0  0.0   4.0  14.0   6.0   0.0  0.0  0.0  0.0  0.0  ...  12.0  0.0  0.0   \n",
      "0   0.0  4.0  12.0  13.0  13.0   6.0  0.0  0.0  0.0  6.0  ...   8.0  0.0  0.0   \n",
      "\n",
      "     57    58    59    60    61   62   63  \n",
      "0   0.0   6.0  13.0  10.0   0.0  0.0  0.0  \n",
      "0   0.0   0.0  11.0  16.0  10.0  0.0  0.0  \n",
      "0   0.0   0.0   3.0  11.0  16.0  9.0  0.0  \n",
      "0   0.0   7.0  13.0  13.0   9.0  0.0  0.0  \n",
      "0   0.0   0.0   2.0  16.0   4.0  0.0  0.0  \n",
      "..  ...   ...   ...   ...   ...  ...  ...  \n",
      "0   0.0   2.0  13.0  15.0   8.0  0.0  0.0  \n",
      "0   0.0   0.0   0.0  11.0  10.0  0.0  0.0  \n",
      "0   0.0   7.0  16.0  16.0   8.0  1.0  0.0  \n",
      "0   0.0   6.0  15.0  16.0  12.0  1.0  0.0  \n",
      "0   2.0  13.0  16.0  12.0   6.0  0.0  0.0  \n",
      "\n",
      "[190 rows x 64 columns]\n",
      "     0    1     2     3     4     5    6    7    8    9   ...    54   55   56  \\\n",
      "0   0.0  0.0   5.0  13.0   9.0   1.0  0.0  0.0  0.0  0.0  ...   0.0  0.0  0.0   \n",
      "0   0.0  0.0   0.0  12.0  13.0   5.0  0.0  0.0  0.0  0.0  ...   0.0  0.0  0.0   \n",
      "0   0.0  0.0   0.0   4.0  15.0  12.0  0.0  0.0  0.0  0.0  ...   5.0  0.0  0.0   \n",
      "0   0.0  0.0   7.0  15.0  13.0   1.0  0.0  0.0  0.0  8.0  ...   9.0  0.0  0.0   \n",
      "0   0.0  0.0   0.0   1.0  11.0   0.0  0.0  0.0  0.0  0.0  ...   0.0  0.0  0.0   \n",
      "..  ...  ...   ...   ...   ...   ...  ...  ...  ...  ...  ...   ...  ...  ...   \n",
      "0   0.0  0.0   0.0   1.0  11.0  14.0  5.0  0.0  0.0  0.0  ...   0.0  0.0  0.0   \n",
      "0   0.0  0.0   9.0  16.0   5.0   0.0  0.0  0.0  0.0  6.0  ...   8.0  0.0  0.0   \n",
      "0   0.0  0.0   4.0  14.0   6.0   0.0  0.0  0.0  0.0  0.0  ...  12.0  0.0  0.0   \n",
      "0   0.0  4.0  12.0  13.0  13.0   6.0  0.0  0.0  0.0  6.0  ...   8.0  0.0  0.0   \n",
      "0   0.0  2.0  15.0  15.0   6.0   0.0  0.0  0.0  0.0  0.0  ...   1.0  0.0  0.0   \n",
      "\n",
      "     57    58    59    60    61   62   63  \n",
      "0   0.0   6.0  13.0  10.0   0.0  0.0  0.0  \n",
      "0   0.0   0.0  11.0  16.0  10.0  0.0  0.0  \n",
      "0   0.0   0.0   3.0  11.0  16.0  9.0  0.0  \n",
      "0   0.0   7.0  13.0  13.0   9.0  0.0  0.0  \n",
      "0   0.0   0.0   2.0  16.0   4.0  0.0  0.0  \n",
      "..  ...   ...   ...   ...   ...  ...  ...  \n",
      "0   0.0   0.0   0.0  11.0  10.0  0.0  0.0  \n",
      "0   0.0   7.0  16.0  16.0   8.0  1.0  0.0  \n",
      "0   0.0   6.0  15.0  16.0  12.0  1.0  0.0  \n",
      "0   2.0  13.0  16.0  12.0   6.0  0.0  0.0  \n",
      "0   3.0  15.0  14.0  11.0   2.0  0.0  0.0  \n",
      "\n",
      "[191 rows x 64 columns]\n",
      "     0    1     2     3     4     5    6    7    8    9   ...    54   55   56  \\\n",
      "0   0.0  0.0   5.0  13.0   9.0   1.0  0.0  0.0  0.0  0.0  ...   0.0  0.0  0.0   \n",
      "0   0.0  0.0   0.0  12.0  13.0   5.0  0.0  0.0  0.0  0.0  ...   0.0  0.0  0.0   \n",
      "0   0.0  0.0   0.0   4.0  15.0  12.0  0.0  0.0  0.0  0.0  ...   5.0  0.0  0.0   \n",
      "0   0.0  0.0   7.0  15.0  13.0   1.0  0.0  0.0  0.0  8.0  ...   9.0  0.0  0.0   \n",
      "0   0.0  0.0   0.0   1.0  11.0   0.0  0.0  0.0  0.0  0.0  ...   0.0  0.0  0.0   \n",
      "..  ...  ...   ...   ...   ...   ...  ...  ...  ...  ...  ...   ...  ...  ...   \n",
      "0   0.0  0.0   9.0  16.0   5.0   0.0  0.0  0.0  0.0  6.0  ...   8.0  0.0  0.0   \n",
      "0   0.0  0.0   4.0  14.0   6.0   0.0  0.0  0.0  0.0  0.0  ...  12.0  0.0  0.0   \n",
      "0   0.0  4.0  12.0  13.0  13.0   6.0  0.0  0.0  0.0  6.0  ...   8.0  0.0  0.0   \n",
      "0   0.0  2.0  15.0  15.0   6.0   0.0  0.0  0.0  0.0  0.0  ...   1.0  0.0  0.0   \n",
      "0   0.0  0.0  15.0  15.0   2.0   0.0  0.0  0.0  0.0  0.0  ...   0.0  0.0  0.0   \n",
      "\n",
      "     57    58    59    60    61   62   63  \n",
      "0   0.0   6.0  13.0  10.0   0.0  0.0  0.0  \n",
      "0   0.0   0.0  11.0  16.0  10.0  0.0  0.0  \n",
      "0   0.0   0.0   3.0  11.0  16.0  9.0  0.0  \n",
      "0   0.0   7.0  13.0  13.0   9.0  0.0  0.0  \n",
      "0   0.0   0.0   2.0  16.0   4.0  0.0  0.0  \n",
      "..  ...   ...   ...   ...   ...  ...  ...  \n",
      "0   0.0   7.0  16.0  16.0   8.0  1.0  0.0  \n",
      "0   0.0   6.0  15.0  16.0  12.0  1.0  0.0  \n",
      "0   2.0  13.0  16.0  12.0   6.0  0.0  0.0  \n",
      "0   3.0  15.0  14.0  11.0   2.0  0.0  0.0  \n",
      "0   2.0  16.0   4.0   0.0   0.0  0.0  0.0  \n",
      "\n",
      "[192 rows x 64 columns]\n",
      "     0    1     2     3     4     5    6    7    8    9   ...    54   55   56  \\\n",
      "0   0.0  0.0   5.0  13.0   9.0   1.0  0.0  0.0  0.0  0.0  ...   0.0  0.0  0.0   \n",
      "0   0.0  0.0   0.0  12.0  13.0   5.0  0.0  0.0  0.0  0.0  ...   0.0  0.0  0.0   \n",
      "0   0.0  0.0   0.0   4.0  15.0  12.0  0.0  0.0  0.0  0.0  ...   5.0  0.0  0.0   \n",
      "0   0.0  0.0   7.0  15.0  13.0   1.0  0.0  0.0  0.0  8.0  ...   9.0  0.0  0.0   \n",
      "0   0.0  0.0   0.0   1.0  11.0   0.0  0.0  0.0  0.0  0.0  ...   0.0  0.0  0.0   \n",
      "..  ...  ...   ...   ...   ...   ...  ...  ...  ...  ...  ...   ...  ...  ...   \n",
      "0   0.0  0.0   4.0  14.0   6.0   0.0  0.0  0.0  0.0  0.0  ...  12.0  0.0  0.0   \n",
      "0   0.0  4.0  12.0  13.0  13.0   6.0  0.0  0.0  0.0  6.0  ...   8.0  0.0  0.0   \n",
      "0   0.0  2.0  15.0  15.0   6.0   0.0  0.0  0.0  0.0  0.0  ...   1.0  0.0  0.0   \n",
      "0   0.0  0.0  15.0  15.0   2.0   0.0  0.0  0.0  0.0  0.0  ...   0.0  0.0  0.0   \n",
      "0   0.0  1.0  10.0  15.0  16.0  13.0  3.0  0.0  0.0  5.0  ...   0.0  0.0  0.0   \n",
      "\n",
      "     57    58    59    60    61   62   63  \n",
      "0   0.0   6.0  13.0  10.0   0.0  0.0  0.0  \n",
      "0   0.0   0.0  11.0  16.0  10.0  0.0  0.0  \n",
      "0   0.0   0.0   3.0  11.0  16.0  9.0  0.0  \n",
      "0   0.0   7.0  13.0  13.0   9.0  0.0  0.0  \n",
      "0   0.0   0.0   2.0  16.0   4.0  0.0  0.0  \n",
      "..  ...   ...   ...   ...   ...  ...  ...  \n",
      "0   0.0   6.0  15.0  16.0  12.0  1.0  0.0  \n",
      "0   2.0  13.0  16.0  12.0   6.0  0.0  0.0  \n",
      "0   3.0  15.0  14.0  11.0   2.0  0.0  0.0  \n",
      "0   2.0  16.0   4.0   0.0   0.0  0.0  0.0  \n",
      "0   0.0  15.0  13.0   7.0   0.0  0.0  0.0  \n",
      "\n",
      "[193 rows x 64 columns]\n",
      "     0    1     2     3     4     5    6    7    8    9   ...   54   55   56  \\\n",
      "0   0.0  0.0   5.0  13.0   9.0   1.0  0.0  0.0  0.0  0.0  ...  0.0  0.0  0.0   \n",
      "0   0.0  0.0   0.0  12.0  13.0   5.0  0.0  0.0  0.0  0.0  ...  0.0  0.0  0.0   \n",
      "0   0.0  0.0   0.0   4.0  15.0  12.0  0.0  0.0  0.0  0.0  ...  5.0  0.0  0.0   \n",
      "0   0.0  0.0   7.0  15.0  13.0   1.0  0.0  0.0  0.0  8.0  ...  9.0  0.0  0.0   \n",
      "0   0.0  0.0   0.0   1.0  11.0   0.0  0.0  0.0  0.0  0.0  ...  0.0  0.0  0.0   \n",
      "..  ...  ...   ...   ...   ...   ...  ...  ...  ...  ...  ...  ...  ...  ...   \n",
      "0   0.0  4.0  12.0  13.0  13.0   6.0  0.0  0.0  0.0  6.0  ...  8.0  0.0  0.0   \n",
      "0   0.0  2.0  15.0  15.0   6.0   0.0  0.0  0.0  0.0  0.0  ...  1.0  0.0  0.0   \n",
      "0   0.0  0.0  15.0  15.0   2.0   0.0  0.0  0.0  0.0  0.0  ...  0.0  0.0  0.0   \n",
      "0   0.0  1.0  10.0  15.0  16.0  13.0  3.0  0.0  0.0  5.0  ...  0.0  0.0  0.0   \n",
      "0   0.0  2.0  14.0  16.0  14.0   4.0  0.0  0.0  0.0  4.0  ...  2.0  0.0  0.0   \n",
      "\n",
      "     57    58    59    60    61   62   63  \n",
      "0   0.0   6.0  13.0  10.0   0.0  0.0  0.0  \n",
      "0   0.0   0.0  11.0  16.0  10.0  0.0  0.0  \n",
      "0   0.0   0.0   3.0  11.0  16.0  9.0  0.0  \n",
      "0   0.0   7.0  13.0  13.0   9.0  0.0  0.0  \n",
      "0   0.0   0.0   2.0  16.0   4.0  0.0  0.0  \n",
      "..  ...   ...   ...   ...   ...  ...  ...  \n",
      "0   2.0  13.0  16.0  12.0   6.0  0.0  0.0  \n",
      "0   3.0  15.0  14.0  11.0   2.0  0.0  0.0  \n",
      "0   2.0  16.0   4.0   0.0   0.0  0.0  0.0  \n",
      "0   0.0  15.0  13.0   7.0   0.0  0.0  0.0  \n",
      "0   1.0  12.0  16.0   9.0   2.0  0.0  0.0  \n",
      "\n",
      "[194 rows x 64 columns]\n",
      "     0    1     2     3     4     5    6    7    8    9   ...   54   55   56  \\\n",
      "0   0.0  0.0   5.0  13.0   9.0   1.0  0.0  0.0  0.0  0.0  ...  0.0  0.0  0.0   \n",
      "0   0.0  0.0   0.0  12.0  13.0   5.0  0.0  0.0  0.0  0.0  ...  0.0  0.0  0.0   \n",
      "0   0.0  0.0   0.0   4.0  15.0  12.0  0.0  0.0  0.0  0.0  ...  5.0  0.0  0.0   \n",
      "0   0.0  0.0   7.0  15.0  13.0   1.0  0.0  0.0  0.0  8.0  ...  9.0  0.0  0.0   \n",
      "0   0.0  0.0   0.0   1.0  11.0   0.0  0.0  0.0  0.0  0.0  ...  0.0  0.0  0.0   \n",
      "..  ...  ...   ...   ...   ...   ...  ...  ...  ...  ...  ...  ...  ...  ...   \n",
      "0   0.0  2.0  15.0  15.0   6.0   0.0  0.0  0.0  0.0  0.0  ...  1.0  0.0  0.0   \n",
      "0   0.0  0.0  15.0  15.0   2.0   0.0  0.0  0.0  0.0  0.0  ...  0.0  0.0  0.0   \n",
      "0   0.0  1.0  10.0  15.0  16.0  13.0  3.0  0.0  0.0  5.0  ...  0.0  0.0  0.0   \n",
      "0   0.0  2.0  14.0  16.0  14.0   4.0  0.0  0.0  0.0  4.0  ...  2.0  0.0  0.0   \n",
      "0   0.0  0.0   0.0   0.0  11.0   5.0  0.0  0.0  0.0  0.0  ...  0.0  0.0  0.0   \n",
      "\n",
      "     57    58    59    60    61   62   63  \n",
      "0   0.0   6.0  13.0  10.0   0.0  0.0  0.0  \n",
      "0   0.0   0.0  11.0  16.0  10.0  0.0  0.0  \n",
      "0   0.0   0.0   3.0  11.0  16.0  9.0  0.0  \n",
      "0   0.0   7.0  13.0  13.0   9.0  0.0  0.0  \n",
      "0   0.0   0.0   2.0  16.0   4.0  0.0  0.0  \n",
      "..  ...   ...   ...   ...   ...  ...  ...  \n",
      "0   3.0  15.0  14.0  11.0   2.0  0.0  0.0  \n",
      "0   2.0  16.0   4.0   0.0   0.0  0.0  0.0  \n",
      "0   0.0  15.0  13.0   7.0   0.0  0.0  0.0  \n",
      "0   1.0  12.0  16.0   9.0   2.0  0.0  0.0  \n",
      "0   0.0   0.0   0.0  12.0   2.0  0.0  0.0  \n",
      "\n",
      "[195 rows x 64 columns]\n",
      "     0    1     2     3     4     5    6    7    8    9   ...    54   55   56  \\\n",
      "0   0.0  0.0   5.0  13.0   9.0   1.0  0.0  0.0  0.0  0.0  ...   0.0  0.0  0.0   \n",
      "0   0.0  0.0   0.0  12.0  13.0   5.0  0.0  0.0  0.0  0.0  ...   0.0  0.0  0.0   \n",
      "0   0.0  0.0   0.0   4.0  15.0  12.0  0.0  0.0  0.0  0.0  ...   5.0  0.0  0.0   \n",
      "0   0.0  0.0   7.0  15.0  13.0   1.0  0.0  0.0  0.0  8.0  ...   9.0  0.0  0.0   \n",
      "0   0.0  0.0   0.0   1.0  11.0   0.0  0.0  0.0  0.0  0.0  ...   0.0  0.0  0.0   \n",
      "..  ...  ...   ...   ...   ...   ...  ...  ...  ...  ...  ...   ...  ...  ...   \n",
      "0   0.0  0.0  15.0  15.0   2.0   0.0  0.0  0.0  0.0  0.0  ...   0.0  0.0  0.0   \n",
      "0   0.0  1.0  10.0  15.0  16.0  13.0  3.0  0.0  0.0  5.0  ...   0.0  0.0  0.0   \n",
      "0   0.0  2.0  14.0  16.0  14.0   4.0  0.0  0.0  0.0  4.0  ...   2.0  0.0  0.0   \n",
      "0   0.0  0.0   0.0   0.0  11.0   5.0  0.0  0.0  0.0  0.0  ...   0.0  0.0  0.0   \n",
      "0   0.0  0.0   0.0   6.0  14.0   3.0  0.0  0.0  0.0  0.0  ...  10.0  0.0  0.0   \n",
      "\n",
      "     57    58    59    60    61   62   63  \n",
      "0   0.0   6.0  13.0  10.0   0.0  0.0  0.0  \n",
      "0   0.0   0.0  11.0  16.0  10.0  0.0  0.0  \n",
      "0   0.0   0.0   3.0  11.0  16.0  9.0  0.0  \n",
      "0   0.0   7.0  13.0  13.0   9.0  0.0  0.0  \n",
      "0   0.0   0.0   2.0  16.0   4.0  0.0  0.0  \n",
      "..  ...   ...   ...   ...   ...  ...  ...  \n",
      "0   2.0  16.0   4.0   0.0   0.0  0.0  0.0  \n",
      "0   0.0  15.0  13.0   7.0   0.0  0.0  0.0  \n",
      "0   1.0  12.0  16.0   9.0   2.0  0.0  0.0  \n",
      "0   0.0   0.0   0.0  12.0   2.0  0.0  0.0  \n",
      "0   0.0   0.0   8.0  14.0  13.0  5.0  0.0  \n",
      "\n",
      "[196 rows x 64 columns]\n",
      "     0    1     2     3     4     5    6    7    8    9   ...    54   55   56  \\\n",
      "0   0.0  0.0   5.0  13.0   9.0   1.0  0.0  0.0  0.0  0.0  ...   0.0  0.0  0.0   \n",
      "0   0.0  0.0   0.0  12.0  13.0   5.0  0.0  0.0  0.0  0.0  ...   0.0  0.0  0.0   \n",
      "0   0.0  0.0   0.0   4.0  15.0  12.0  0.0  0.0  0.0  0.0  ...   5.0  0.0  0.0   \n",
      "0   0.0  0.0   7.0  15.0  13.0   1.0  0.0  0.0  0.0  8.0  ...   9.0  0.0  0.0   \n",
      "0   0.0  0.0   0.0   1.0  11.0   0.0  0.0  0.0  0.0  0.0  ...   0.0  0.0  0.0   \n",
      "..  ...  ...   ...   ...   ...   ...  ...  ...  ...  ...  ...   ...  ...  ...   \n",
      "0   0.0  1.0  10.0  15.0  16.0  13.0  3.0  0.0  0.0  5.0  ...   0.0  0.0  0.0   \n",
      "0   0.0  2.0  14.0  16.0  14.0   4.0  0.0  0.0  0.0  4.0  ...   2.0  0.0  0.0   \n",
      "0   0.0  0.0   0.0   0.0  11.0   5.0  0.0  0.0  0.0  0.0  ...   0.0  0.0  0.0   \n",
      "0   0.0  0.0   0.0   6.0  14.0   3.0  0.0  0.0  0.0  0.0  ...  10.0  0.0  0.0   \n",
      "0   0.0  0.0   1.0  14.0   6.0   0.0  0.0  0.0  0.0  0.0  ...  13.0  0.0  0.0   \n",
      "\n",
      "     57    58    59    60    61   62   63  \n",
      "0   0.0   6.0  13.0  10.0   0.0  0.0  0.0  \n",
      "0   0.0   0.0  11.0  16.0  10.0  0.0  0.0  \n",
      "0   0.0   0.0   3.0  11.0  16.0  9.0  0.0  \n",
      "0   0.0   7.0  13.0  13.0   9.0  0.0  0.0  \n",
      "0   0.0   0.0   2.0  16.0   4.0  0.0  0.0  \n",
      "..  ...   ...   ...   ...   ...  ...  ...  \n",
      "0   0.0  15.0  13.0   7.0   0.0  0.0  0.0  \n",
      "0   1.0  12.0  16.0   9.0   2.0  0.0  0.0  \n",
      "0   0.0   0.0   0.0  12.0   2.0  0.0  0.0  \n",
      "0   0.0   0.0   8.0  14.0  13.0  5.0  0.0  \n",
      "0   0.0   2.0  12.0  16.0  12.0  4.0  0.0  \n",
      "\n",
      "[197 rows x 64 columns]\n",
      "     0    1     2     3     4     5    6    7    8    9   ...    54   55   56  \\\n",
      "0   0.0  0.0   5.0  13.0   9.0   1.0  0.0  0.0  0.0  0.0  ...   0.0  0.0  0.0   \n",
      "0   0.0  0.0   0.0  12.0  13.0   5.0  0.0  0.0  0.0  0.0  ...   0.0  0.0  0.0   \n",
      "0   0.0  0.0   0.0   4.0  15.0  12.0  0.0  0.0  0.0  0.0  ...   5.0  0.0  0.0   \n",
      "0   0.0  0.0   7.0  15.0  13.0   1.0  0.0  0.0  0.0  8.0  ...   9.0  0.0  0.0   \n",
      "0   0.0  0.0   0.0   1.0  11.0   0.0  0.0  0.0  0.0  0.0  ...   0.0  0.0  0.0   \n",
      "..  ...  ...   ...   ...   ...   ...  ...  ...  ...  ...  ...   ...  ...  ...   \n",
      "0   0.0  2.0  14.0  16.0  14.0   4.0  0.0  0.0  0.0  4.0  ...   2.0  0.0  0.0   \n",
      "0   0.0  0.0   0.0   0.0  11.0   5.0  0.0  0.0  0.0  0.0  ...   0.0  0.0  0.0   \n",
      "0   0.0  0.0   0.0   6.0  14.0   3.0  0.0  0.0  0.0  0.0  ...  10.0  0.0  0.0   \n",
      "0   0.0  0.0   1.0  14.0   6.0   0.0  0.0  0.0  0.0  0.0  ...  13.0  0.0  0.0   \n",
      "0   0.0  0.0   2.0  14.0  11.0   0.0  0.0  0.0  0.0  0.0  ...  10.0  0.0  0.0   \n",
      "\n",
      "     57    58    59    60    61   62   63  \n",
      "0   0.0   6.0  13.0  10.0   0.0  0.0  0.0  \n",
      "0   0.0   0.0  11.0  16.0  10.0  0.0  0.0  \n",
      "0   0.0   0.0   3.0  11.0  16.0  9.0  0.0  \n",
      "0   0.0   7.0  13.0  13.0   9.0  0.0  0.0  \n",
      "0   0.0   0.0   2.0  16.0   4.0  0.0  0.0  \n",
      "..  ...   ...   ...   ...   ...  ...  ...  \n",
      "0   1.0  12.0  16.0   9.0   2.0  0.0  0.0  \n",
      "0   0.0   0.0   0.0  12.0   2.0  0.0  0.0  \n",
      "0   0.0   0.0   8.0  14.0  13.0  5.0  0.0  \n",
      "0   0.0   2.0  12.0  16.0  12.0  4.0  0.0  \n",
      "0   0.0   3.0  15.0  16.0  10.0  1.0  0.0  \n",
      "\n",
      "[198 rows x 64 columns]\n",
      "     0    1    2     3     4     5    6    7    8    9   ...    54   55   56  \\\n",
      "0   0.0  0.0  5.0  13.0   9.0   1.0  0.0  0.0  0.0  0.0  ...   0.0  0.0  0.0   \n",
      "0   0.0  0.0  0.0  12.0  13.0   5.0  0.0  0.0  0.0  0.0  ...   0.0  0.0  0.0   \n",
      "0   0.0  0.0  0.0   4.0  15.0  12.0  0.0  0.0  0.0  0.0  ...   5.0  0.0  0.0   \n",
      "0   0.0  0.0  7.0  15.0  13.0   1.0  0.0  0.0  0.0  8.0  ...   9.0  0.0  0.0   \n",
      "0   0.0  0.0  0.0   1.0  11.0   0.0  0.0  0.0  0.0  0.0  ...   0.0  0.0  0.0   \n",
      "..  ...  ...  ...   ...   ...   ...  ...  ...  ...  ...  ...   ...  ...  ...   \n",
      "0   0.0  0.0  0.0   0.0  11.0   5.0  0.0  0.0  0.0  0.0  ...   0.0  0.0  0.0   \n",
      "0   0.0  0.0  0.0   6.0  14.0   3.0  0.0  0.0  0.0  0.0  ...  10.0  0.0  0.0   \n",
      "0   0.0  0.0  1.0  14.0   6.0   0.0  0.0  0.0  0.0  0.0  ...  13.0  0.0  0.0   \n",
      "0   0.0  0.0  2.0  14.0  11.0   0.0  0.0  0.0  0.0  0.0  ...  10.0  0.0  0.0   \n",
      "0   0.0  0.0  0.0   2.0  15.0   4.0  0.0  0.0  0.0  0.0  ...   0.0  0.0  0.0   \n",
      "\n",
      "     57   58    59    60    61   62   63  \n",
      "0   0.0  6.0  13.0  10.0   0.0  0.0  0.0  \n",
      "0   0.0  0.0  11.0  16.0  10.0  0.0  0.0  \n",
      "0   0.0  0.0   3.0  11.0  16.0  9.0  0.0  \n",
      "0   0.0  7.0  13.0  13.0   9.0  0.0  0.0  \n",
      "0   0.0  0.0   2.0  16.0   4.0  0.0  0.0  \n",
      "..  ...  ...   ...   ...   ...  ...  ...  \n",
      "0   0.0  0.0   0.0  12.0   2.0  0.0  0.0  \n",
      "0   0.0  0.0   8.0  14.0  13.0  5.0  0.0  \n",
      "0   0.0  2.0  12.0  16.0  12.0  4.0  0.0  \n",
      "0   0.0  3.0  15.0  16.0  10.0  1.0  0.0  \n",
      "0   0.0  0.0   3.0  15.0   0.0  0.0  0.0  \n",
      "\n",
      "[199 rows x 64 columns]\n",
      "     0    1    2     3     4     5    6    7    8    9   ...    54   55   56  \\\n",
      "0   0.0  0.0  5.0  13.0   9.0   1.0  0.0  0.0  0.0  0.0  ...   0.0  0.0  0.0   \n",
      "0   0.0  0.0  0.0  12.0  13.0   5.0  0.0  0.0  0.0  0.0  ...   0.0  0.0  0.0   \n",
      "0   0.0  0.0  0.0   4.0  15.0  12.0  0.0  0.0  0.0  0.0  ...   5.0  0.0  0.0   \n",
      "0   0.0  0.0  7.0  15.0  13.0   1.0  0.0  0.0  0.0  8.0  ...   9.0  0.0  0.0   \n",
      "0   0.0  0.0  0.0   1.0  11.0   0.0  0.0  0.0  0.0  0.0  ...   0.0  0.0  0.0   \n",
      "..  ...  ...  ...   ...   ...   ...  ...  ...  ...  ...  ...   ...  ...  ...   \n",
      "0   0.0  0.0  0.0   6.0  14.0   3.0  0.0  0.0  0.0  0.0  ...  10.0  0.0  0.0   \n",
      "0   0.0  0.0  1.0  14.0   6.0   0.0  0.0  0.0  0.0  0.0  ...  13.0  0.0  0.0   \n",
      "0   0.0  0.0  2.0  14.0  11.0   0.0  0.0  0.0  0.0  0.0  ...  10.0  0.0  0.0   \n",
      "0   0.0  0.0  0.0   2.0  15.0   4.0  0.0  0.0  0.0  0.0  ...   0.0  0.0  0.0   \n",
      "0   0.0  0.0  6.0  15.0   5.0   0.0  0.0  0.0  0.0  1.0  ...   8.0  0.0  0.0   \n",
      "\n",
      "     57   58    59    60    61   62   63  \n",
      "0   0.0  6.0  13.0  10.0   0.0  0.0  0.0  \n",
      "0   0.0  0.0  11.0  16.0  10.0  0.0  0.0  \n",
      "0   0.0  0.0   3.0  11.0  16.0  9.0  0.0  \n",
      "0   0.0  7.0  13.0  13.0   9.0  0.0  0.0  \n",
      "0   0.0  0.0   2.0  16.0   4.0  0.0  0.0  \n",
      "..  ...  ...   ...   ...   ...  ...  ...  \n",
      "0   0.0  0.0   8.0  14.0  13.0  5.0  0.0  \n",
      "0   0.0  2.0  12.0  16.0  12.0  4.0  0.0  \n",
      "0   0.0  3.0  15.0  16.0  10.0  1.0  0.0  \n",
      "0   0.0  0.0   3.0  15.0   0.0  0.0  0.0  \n",
      "0   0.0  7.0  12.0  13.0  12.0  1.0  0.0  \n",
      "\n",
      "[200 rows x 64 columns]\n"
     ]
    }
   ],
   "source": [
    "\n",
    "number_of_data_points = 200\n",
    "y = pd.DataFrame(mnist.target[0:number_of_data_points])\n",
    "\n",
    "x_data = pd.DataFrame()\n",
    "for i in range(len(mnist.images[0:number_of_data_points])):\n",
    "    x=mnist.images[i]\n",
    "    new_x = pd.DataFrame()\n",
    "    for j in range(len(x[0])):\n",
    "        new_val = pd.Series()\n",
    "        new_val= pd.concat([new_val,pd.Series(x[j])])\n",
    "\n",
    "\n",
    "        new_x= pd.concat([new_x,(new_val.to_frame().T)],axis=1,ignore_index= True)\n",
    "    x_data = pd.concat([x_data,new_x],ignore_index=False,axis = 0)\n",
    "    print(x_data)\n"
   ]
  },
  {
   "cell_type": "code",
   "execution_count": 706,
   "metadata": {},
   "outputs": [
    {
     "data": {
      "text/plain": [
       "array([[0.        , 0.        , 0.08710085, ..., 0.        , 0.        ,\n",
       "        0.        ],\n",
       "       [0.        , 0.        , 0.        , ..., 0.15401482, 0.        ,\n",
       "        0.        ],\n",
       "       [0.        , 0.        , 0.        , ..., 0.23745323, 0.16439069,\n",
       "        0.        ],\n",
       "       ...,\n",
       "       [0.        , 0.        , 0.03067593, ..., 0.15337963, 0.01887749,\n",
       "        0.        ],\n",
       "       [0.        , 0.        , 0.        , ..., 0.        , 0.        ,\n",
       "        0.        ],\n",
       "       [0.        , 0.        , 0.09218692, ..., 0.18437384, 0.01891014,\n",
       "        0.        ]])"
      ]
     },
     "execution_count": 706,
     "metadata": {},
     "output_type": "execute_result"
    }
   ],
   "source": [
    "copyOfx = x_data\n",
    "\n",
    "scaler = MaxAbsScaler() \n",
    "\n",
    "x_data = scaler.fit_transform(x_data)\n",
    "\n",
    "normalizer = Normalizer().fit(x_data)\n",
    "\n",
    "\n",
    "normalizer.transform(x_data)\n"
   ]
  },
  {
   "cell_type": "code",
   "execution_count": 707,
   "metadata": {},
   "outputs": [],
   "source": [
    "pca = PCA(n_components = 3 ) \n",
    " \n",
    " \n",
    " \n",
    "xs_data = pca.fit_transform(x_data) \n",
    " "
   ]
  },
  {
   "cell_type": "code",
   "execution_count": 708,
   "metadata": {},
   "outputs": [],
   "source": [
    "for i in range(len(y[0])):       \n",
    "    if y.loc[i,0]!=1:\n",
    "        y.loc[i,0]= 0\n"
   ]
  },
  {
   "cell_type": "code",
   "execution_count": 709,
   "metadata": {},
   "outputs": [],
   "source": [
    "\n",
    "x_train, x_test, y_train, y_test = train_test_split(xs_data, y, train_size = 0.8)\n",
    "\n",
    "x_traindf = pd.DataFrame(x_train)\n",
    "x_testdf = pd.DataFrame(x_test)\n",
    "y_traindf = pd.DataFrame(y_train)\n",
    "y_testdf = pd.DataFrame(y_test)\n",
    "\n",
    "x_test =np.array(x_test)\n",
    "x_train = np.array(x_train)\n",
    "y_train = np.array(y_train)\n",
    "y_test = np.array(y_test)\n",
    "\n",
    "\n",
    "#y_test=y_test.transpose()[0]\n",
    "ylist = []\n",
    "y_train = y_train.transpose()\n",
    "for i in range(len(y_train)):\n",
    "    \n",
    "    ylist.append(y_train[i])\n",
    "\n",
    "\n",
    "y_train = np.array(ylist,requires_grad=False)\n",
    "y_train=y_train[0]\n",
    "\n",
    "ylist = []\n",
    "y_test = y_test.transpose()\n",
    "for i in range(len(y_test)):\n",
    "    \n",
    "    ylist.append(y_test[i])\n",
    "\n",
    "\n",
    "y_test = np.array(ylist,requires_grad=False)\n",
    "y_test=y_test[0]\n",
    "xlist = []\n",
    "\n",
    "for i in range(len(x_train)):\n",
    "    \n",
    "    xlist.append(x_train[i])\n",
    "\n",
    "\n",
    "x_train = np.array(xlist,requires_grad=False)\n",
    "\n",
    "X_train = x_train\n",
    "X_test =x_test\n"
   ]
  },
  {
   "cell_type": "code",
   "execution_count": 486,
   "metadata": {},
   "outputs": [
    {
     "name": "stdout",
     "output_type": "stream",
     "text": [
      "[0 0 0 0 0 0 0 0 0 0 0 0 0 0 0 0 1 1 0 0 0 0 0 0 0 0 1 1 1 0 0 0 0 0 1 0 0\n",
      " 0 0 0]\n"
     ]
    }
   ],
   "source": [
    "print(y_test)"
   ]
  },
  {
   "cell_type": "code",
   "execution_count": 710,
   "metadata": {},
   "outputs": [
    {
     "name": "stdout",
     "output_type": "stream",
     "text": [
      "40\n",
      "40\n",
      "[[ 0.33650422 -0.61796526  1.72042371]\n",
      " [-0.15969839 -0.41489715  1.08612664]\n",
      " [ 0.64385235 -0.11581524 -1.14883244]\n",
      " [ 1.80815602  0.07392076 -0.38590773]\n",
      " [ 0.64191158 -0.22453998 -0.91881513]\n",
      " [-0.69346639  0.59235017  1.15733909]\n",
      " [ 1.84161503 -0.59059613 -0.20227549]\n",
      " [-0.58481714  0.48253337  0.5687952 ]\n",
      " [ 0.57101421 -0.72805405 -0.56725411]\n",
      " [ 1.11405269  0.57658041 -0.57292139]\n",
      " [-0.81862481 -1.01490286 -1.2664056 ]\n",
      " [-1.30080901  1.08835825 -1.52191172]\n",
      " [-0.49115519 -0.99587275 -0.99675954]\n",
      " [-0.70784678 -0.89364672 -0.81715564]\n",
      " [-0.56523508  1.57913444  0.24866926]\n",
      " [ 0.29697711 -0.41287117  0.91763577]\n",
      " [ 0.24383355  0.23314626  0.51214266]\n",
      " [-0.96758426  1.53009908 -0.54381728]\n",
      " [ 1.75188343 -0.73635381 -0.35696477]\n",
      " [-0.32054636 -0.45456535  1.03478014]\n",
      " [-0.22774764 -0.47563286  0.38537938]\n",
      " [-1.59324227 -0.23391573  0.34676108]\n",
      " [-1.30081742  1.52802266 -0.87533899]\n",
      " [-0.90209457  1.3474915  -0.50728805]\n",
      " [ 0.16448231  0.42818024  0.37167096]\n",
      " [ 0.11457847  0.08492525  0.41185938]\n",
      " [-1.70168838 -1.1084255  -0.13462454]\n",
      " [-0.97473167 -1.19085458 -0.8486866 ]\n",
      " [-0.59752128 -0.37007173  0.66871303]\n",
      " [ 0.58715625 -0.99085418 -1.02806863]\n",
      " [-1.02833972 -0.53809605 -1.3047711 ]\n",
      " [-0.40928237  1.23206547 -0.20004108]\n",
      " [ 0.10430506 -0.7825439   0.94669598]\n",
      " [-0.44657121 -0.38331546  1.13872088]\n",
      " [ 1.91962187  0.1412095  -0.40564536]\n",
      " [ 0.6907041   1.17891191 -0.99207131]\n",
      " [ 0.59572886 -1.13717392  0.96196029]\n",
      " [-0.27039249 -0.12647442  1.19026156]\n",
      " [ 1.1306257  -0.84665914 -1.060464  ]\n",
      " [-0.74921892 -0.7163227  -1.10927985]]\n"
     ]
    }
   ],
   "source": [
    "\n",
    "X_train = x_train\n",
    "X_test =x_test\n",
    "print(len(y_test))\n",
    "print(len(X_test))\n",
    "print(x_test)\n"
   ]
  },
  {
   "cell_type": "code",
   "execution_count": 630,
   "metadata": {},
   "outputs": [],
   "source": [
    "dev = qml.device(\"lightning.qubit\", wires=1)\n",
    "@qml.qnode(dev)\n",
    "def qcircuit(params, x, y):\n",
    "\n",
    "    for p in params:\n",
    "        qml.Rot(*x, wires=0)\n",
    "        qml.Rot(*p, wires=0)\n",
    "    return qml.expval(qml.Hermitian(y, wires=[0]))\n",
    "\n"
   ]
  },
  {
   "cell_type": "code",
   "execution_count": 631,
   "metadata": {},
   "outputs": [],
   "source": [
    "\n",
    "class Reuploader():\n",
    "    \n",
    "    num_layers =0\n",
    "    learning_rate=0\n",
    "    epochs=0 \n",
    "    batch_size=0\n",
    "    model = np.array\n",
    "    opt = 0\n",
    "    dev=0\n",
    "    params=0\n",
    "    state_labels =0\n",
    "    label_0 = [[1], [0]]\n",
    "    label_1 = [[0], [1]]\n",
    "    \n",
    "   \n",
    "\n",
    "    def __init__(self,dev,num_layers = 4, learning_rate = 0.6, epochs= 10, batch_size = 32, ):\n",
    "\n",
    "        self.num_layers = num_layers\n",
    "        self.learning_rate = learning_rate\n",
    "        self.epochs = epochs\n",
    "        self.batch_size = batch_size\n",
    "        self.opt = AdamOptimizer(learning_rate, beta1=0.9, beta2=0.999)\n",
    "        self.dev = dev \n",
    "        self.params = np.random.uniform(size=(num_layers, 3), requires_grad=True)\n",
    "        self.state_labels = np.array([self.label_0, self.label_1], requires_grad=False)\n",
    "        \n",
    "\n",
    "    \n",
    "    def density_matrix(self,state):\n",
    "        \"\"\"Calculates the density matrix representation of a state.\n",
    "\n",
    "        Args:\n",
    "            state (array[complex]): array representing a quantum state vector\n",
    "\n",
    "        Returns:\n",
    "            dm: (array[complex]): array representing the density matrix\n",
    "        \"\"\"\n",
    "        return state * np.conj(state).T\n",
    "\n",
    "\n",
    "\n",
    "\n",
    "\n",
    "\n",
    "    def cost(self, params, x, y, state_labels=None):\n",
    "        \"\"\"Cost function to be minimized.\n",
    "\n",
    "        Args:\n",
    "            params (array[float]): array of parameters\n",
    "            x (array[float]): 2-d array of input vectors\n",
    "            y (array[float]): 1-d array of targets\n",
    "            state_labels (array[float]): array of state representations for labels\n",
    "\n",
    "        Returns:\n",
    "            float: loss value to be minimized\n",
    "        \"\"\"\n",
    "        # Compute prediction for each input in data batch\n",
    "        loss = 0.0\n",
    "        dm_labels = [self.density_matrix(s) for s in state_labels]\n",
    "        for i in range(len(x)):\n",
    "            f = qcircuit(params, x[i], dm_labels[y[i]])\n",
    "            loss = loss + (1 - f) ** 2\n",
    "        return loss / len(x)\n",
    "\n",
    "    def test(self,params, x, y, state_labels=None):\n",
    "        \"\"\"\n",
    "        Tests on a given set of data.\n",
    "\n",
    "        Args:\n",
    "            params (array[float]): array of parameters\n",
    "            x (array[float]): 2-d array of input vectors\n",
    "            y (array[float]): 1-d array of targets\n",
    "            state_labels (array[float]): 1-d array of state representations for labels\n",
    "\n",
    "        Returns:\n",
    "            predicted (array([int]): predicted labels for test data\n",
    "            output_states (array[float]): output quantum states from the circuit\n",
    "        \"\"\"\n",
    "        fidelity_values = []\n",
    "        dm_labels = [self.density_matrix(s) for s in state_labels]\n",
    "        predicted = []\n",
    "\n",
    "        for i in range(len(x)):\n",
    "            fidel_function = lambda y: qcircuit(params, x[i], y)\n",
    "            fidelities = [fidel_function(dm) for dm in dm_labels]\n",
    "            best_fidel = np.argmax(fidelities)\n",
    "\n",
    "            predicted.append(best_fidel)\n",
    "            fidelity_values.append(fidelities)\n",
    "\n",
    "        return np.array(predicted), np.array(fidelity_values)\n",
    "\n",
    "\n",
    "    def accuracy_score(self,y_true, y_pred):\n",
    "        \"\"\"Accuracy score.\n",
    "\n",
    "        Args:\n",
    "            y_true (array[float]): 1-d array of targets\n",
    "            y_predicted (array[float]): 1-d array of predictions\n",
    "            state_labels (array[float]): 1-d array of state representations for labels\n",
    "\n",
    "        Returns:\n",
    "            score (float): the fraction of correctly classified samples\n",
    "        \"\"\"\n",
    "    \n",
    "        score = y_true == y_pred\n",
    "        return score.sum() / len(y_true)\n",
    "\n",
    "\n",
    "    def iterate_minibatches(self, inputs, targets, batch_size):\n",
    "        \"\"\"\n",
    "        A generator for batches of the input data\n",
    "\n",
    "        Args:\n",
    "            inputs (array[float]): input data\n",
    "            targets (array[float]): targets\n",
    "\n",
    "        Returns:\n",
    "            inputs (array[float]): one batch of input data of length `batch_size`\n",
    "            targets (array[float]): one batch of targets of length `batch_size`\n",
    "        \"\"\"\n",
    "        for start_idx in range(0, inputs.shape[0] - batch_size + 1, batch_size):\n",
    "            idxs = slice(start_idx, start_idx + batch_size)\n",
    "            yield inputs[idxs], targets[idxs]\n",
    "\n",
    "\n",
    "    def fit(self,X_train, y_train):\n",
    "\n",
    "        for it in range(self.epochs):\n",
    "            for Xbatch, ybatch in self.iterate_minibatches(X_train, y_train, batch_size=self.batch_size):\n",
    "                self.params, _, _, _ = self.opt.step(self.cost, self.params, Xbatch, ybatch, self.state_labels)\n",
    "\n",
    "            predicted_train, fidel_train = self.test(self.params, X_train, y_train, self.state_labels)\n",
    "            accuracy_train = self.accuracy_score(y_train, predicted_train)\n",
    "            loss = self.cost(self.params, X_train, y_train, self.state_labels)\n",
    "            \n",
    "\n",
    "            res = [it + 1, loss, accuracy_train]\n",
    "            print(\n",
    "                \"Epoch: {:2d} | Loss: {:3f} |  accuracy: {:3f} \".format(\n",
    "                    *res\n",
    "                )\n",
    "            )\n",
    "    def predict(self,X_test, y_test):\n",
    "\n",
    "        predicted_test, fidel_test = self.test(self.params, X_test, y_test, self.state_labels)\n",
    "\n",
    "        return predicted_test\n",
    "\n",
    "\n",
    "\n",
    "    \n",
    "\n",
    "    \n"
   ]
  },
  {
   "cell_type": "code",
   "execution_count": 743,
   "metadata": {},
   "outputs": [
    {
     "name": "stdout",
     "output_type": "stream",
     "text": [
      "Epoch:  1 | Loss: 0.055480 |  accuracy: 0.912500 \n",
      "Epoch:  2 | Loss: 0.048000 |  accuracy: 0.956250 \n",
      "Epoch:  3 | Loss: 0.043003 |  accuracy: 0.956250 \n",
      "Epoch:  4 | Loss: 0.038790 |  accuracy: 0.968750 \n",
      "Epoch:  5 | Loss: 0.042564 |  accuracy: 0.950000 \n",
      "Epoch:  6 | Loss: 0.036188 |  accuracy: 0.968750 \n",
      "Epoch:  7 | Loss: 0.037110 |  accuracy: 0.968750 \n",
      "Epoch:  8 | Loss: 0.036194 |  accuracy: 0.968750 \n",
      "Epoch:  9 | Loss: 0.035665 |  accuracy: 0.968750 \n",
      "Epoch: 10 | Loss: 0.036328 |  accuracy: 0.968750 \n"
     ]
    }
   ],
   "source": [
    "\n",
    "\n",
    "model = Reuploader( dev, num_layers=2)\n",
    "\n",
    "model.fit(X_train, y_train)\n"
   ]
  },
  {
   "cell_type": "code",
   "execution_count": 744,
   "metadata": {},
   "outputs": [],
   "source": [
    "y_pred = model.predict(x_test,y_test)"
   ]
  },
  {
   "cell_type": "code",
   "execution_count": 745,
   "metadata": {},
   "outputs": [
    {
     "data": {
      "application/vnd.plotly.v1+json": {
       "config": {
        "plotlyServerURL": "https://plot.ly"
       },
       "data": [
        {
         "hovertemplate": "x=%{x}<br>y=%{y}<br>z=%{z}<br>color=%{marker.color}<extra></extra>",
         "legendgroup": "",
         "marker": {
          "color": [
           0,
           0,
           0,
           0,
           0,
           0,
           0,
           0,
           0,
           0,
           0,
           1,
           0,
           0,
           1,
           0,
           0,
           1,
           0,
           0,
           0,
           0,
           1,
           1,
           0,
           0,
           0,
           0,
           0,
           0,
           0,
           1,
           0,
           0,
           0,
           0,
           0,
           0,
           0,
           0
          ],
          "coloraxis": "coloraxis",
          "symbol": "circle"
         },
         "mode": "markers",
         "name": "",
         "scene": "scene",
         "showlegend": false,
         "type": "scatter3d",
         "x": [
          0.33650422090296445,
          -0.15969839317638007,
          0.6438523509028455,
          1.8081560227921039,
          0.6419115802110177,
          -0.6934663922315143,
          1.8416150258780306,
          -0.5848171354676147,
          0.5710142132582692,
          1.1140526933018386,
          -0.8186248081587115,
          -1.3008090095697844,
          -0.491155186663,
          -0.7078467828176649,
          -0.5652350761731297,
          0.296977110342903,
          0.24383355325366723,
          -0.9675842556236326,
          1.7518834310759854,
          -0.320546364301262,
          -0.2277476437440045,
          -1.5932422694508461,
          -1.3008174172670077,
          -0.9020945722458695,
          0.16448231154543583,
          0.1145784664772824,
          -1.7016883847779694,
          -0.974731665016524,
          -0.5975212833723696,
          0.5871562548840167,
          -1.0283397156925966,
          -0.409282367782827,
          0.10430506218675178,
          -0.4465712127832941,
          1.9196218714227524,
          0.6907041041232975,
          0.5957288645870652,
          -0.27039248667590965,
          1.130625697362713,
          -0.7492189224537285
         ],
         "y": [
          -0.6179652555368043,
          -0.4148971544083097,
          -0.11581523866084353,
          0.07392075915761293,
          -0.2245399836335081,
          0.5923501656061804,
          -0.5905961268213281,
          0.48253336733695557,
          -0.7280540465786176,
          0.5765804107516692,
          -1.0149028550503907,
          1.0883582456987266,
          -0.995872746442021,
          -0.893646720451371,
          1.5791344394342448,
          -0.4128711651701568,
          0.2331462594529898,
          1.5300990775692824,
          -0.7363538087346813,
          -0.45456534817157906,
          -0.4756328609169831,
          -0.233915733857786,
          1.5280226570438202,
          1.3474914978325123,
          0.4281802433721822,
          0.08492524590883577,
          -1.1084255004766892,
          -1.1908545764427438,
          -0.3700717262910689,
          -0.9908541786615059,
          -0.5380960450176631,
          1.232065471122223,
          -0.7825439013365475,
          -0.3833154631379269,
          0.14120949970077543,
          1.178911906223115,
          -1.1371739219881927,
          -0.12647442277117157,
          -0.8466591416475977,
          -0.716322701260593
         ],
         "z": [
          1.7204237137504639,
          1.086126643318191,
          -1.1488324430397818,
          -0.3859077261323981,
          -0.9188151295194134,
          1.157339093814028,
          -0.20227548766548456,
          0.5687951953548228,
          -0.5672541068608288,
          -0.5729213895235411,
          -1.2664056007160573,
          -1.5219117166113352,
          -0.9967595362145873,
          -0.817155643285486,
          0.24866925866291845,
          0.917635765730187,
          0.5121426580361745,
          -0.543817281364393,
          -0.35696476676312455,
          1.0347801393953362,
          0.38537937922607673,
          0.34676108092669977,
          -0.8753389877007604,
          -0.5072880497793577,
          0.37167096440083297,
          0.41185938290211094,
          -0.13462454388357592,
          -0.8486865998333124,
          0.668713027627191,
          -1.0280686271729689,
          -1.304771095990933,
          -0.20004108178899693,
          0.946695984244794,
          1.1387208840604228,
          -0.40564536019769587,
          -0.9920713092837821,
          0.9619602916606658,
          1.1902615582887939,
          -1.060464004511722,
          -1.1092798543199451
         ]
        }
       ],
       "layout": {
        "coloraxis": {
         "colorbar": {
          "title": {
           "text": "color"
          }
         },
         "colorscale": [
          [
           0,
           "#0d0887"
          ],
          [
           0.1111111111111111,
           "#46039f"
          ],
          [
           0.2222222222222222,
           "#7201a8"
          ],
          [
           0.3333333333333333,
           "#9c179e"
          ],
          [
           0.4444444444444444,
           "#bd3786"
          ],
          [
           0.5555555555555556,
           "#d8576b"
          ],
          [
           0.6666666666666666,
           "#ed7953"
          ],
          [
           0.7777777777777778,
           "#fb9f3a"
          ],
          [
           0.8888888888888888,
           "#fdca26"
          ],
          [
           1,
           "#f0f921"
          ]
         ]
        },
        "legend": {
         "tracegroupgap": 0
        },
        "scene": {
         "domain": {
          "x": [
           0,
           1
          ],
          "y": [
           0,
           1
          ]
         },
         "xaxis": {
          "title": {
           "text": "x"
          }
         },
         "yaxis": {
          "title": {
           "text": "y"
          }
         },
         "zaxis": {
          "title": {
           "text": "z"
          }
         }
        },
        "template": {
         "data": {
          "bar": [
           {
            "error_x": {
             "color": "#2a3f5f"
            },
            "error_y": {
             "color": "#2a3f5f"
            },
            "marker": {
             "line": {
              "color": "#E5ECF6",
              "width": 0.5
             },
             "pattern": {
              "fillmode": "overlay",
              "size": 10,
              "solidity": 0.2
             }
            },
            "type": "bar"
           }
          ],
          "barpolar": [
           {
            "marker": {
             "line": {
              "color": "#E5ECF6",
              "width": 0.5
             },
             "pattern": {
              "fillmode": "overlay",
              "size": 10,
              "solidity": 0.2
             }
            },
            "type": "barpolar"
           }
          ],
          "carpet": [
           {
            "aaxis": {
             "endlinecolor": "#2a3f5f",
             "gridcolor": "white",
             "linecolor": "white",
             "minorgridcolor": "white",
             "startlinecolor": "#2a3f5f"
            },
            "baxis": {
             "endlinecolor": "#2a3f5f",
             "gridcolor": "white",
             "linecolor": "white",
             "minorgridcolor": "white",
             "startlinecolor": "#2a3f5f"
            },
            "type": "carpet"
           }
          ],
          "choropleth": [
           {
            "colorbar": {
             "outlinewidth": 0,
             "ticks": ""
            },
            "type": "choropleth"
           }
          ],
          "contour": [
           {
            "colorbar": {
             "outlinewidth": 0,
             "ticks": ""
            },
            "colorscale": [
             [
              0,
              "#0d0887"
             ],
             [
              0.1111111111111111,
              "#46039f"
             ],
             [
              0.2222222222222222,
              "#7201a8"
             ],
             [
              0.3333333333333333,
              "#9c179e"
             ],
             [
              0.4444444444444444,
              "#bd3786"
             ],
             [
              0.5555555555555556,
              "#d8576b"
             ],
             [
              0.6666666666666666,
              "#ed7953"
             ],
             [
              0.7777777777777778,
              "#fb9f3a"
             ],
             [
              0.8888888888888888,
              "#fdca26"
             ],
             [
              1,
              "#f0f921"
             ]
            ],
            "type": "contour"
           }
          ],
          "contourcarpet": [
           {
            "colorbar": {
             "outlinewidth": 0,
             "ticks": ""
            },
            "type": "contourcarpet"
           }
          ],
          "heatmap": [
           {
            "colorbar": {
             "outlinewidth": 0,
             "ticks": ""
            },
            "colorscale": [
             [
              0,
              "#0d0887"
             ],
             [
              0.1111111111111111,
              "#46039f"
             ],
             [
              0.2222222222222222,
              "#7201a8"
             ],
             [
              0.3333333333333333,
              "#9c179e"
             ],
             [
              0.4444444444444444,
              "#bd3786"
             ],
             [
              0.5555555555555556,
              "#d8576b"
             ],
             [
              0.6666666666666666,
              "#ed7953"
             ],
             [
              0.7777777777777778,
              "#fb9f3a"
             ],
             [
              0.8888888888888888,
              "#fdca26"
             ],
             [
              1,
              "#f0f921"
             ]
            ],
            "type": "heatmap"
           }
          ],
          "heatmapgl": [
           {
            "colorbar": {
             "outlinewidth": 0,
             "ticks": ""
            },
            "colorscale": [
             [
              0,
              "#0d0887"
             ],
             [
              0.1111111111111111,
              "#46039f"
             ],
             [
              0.2222222222222222,
              "#7201a8"
             ],
             [
              0.3333333333333333,
              "#9c179e"
             ],
             [
              0.4444444444444444,
              "#bd3786"
             ],
             [
              0.5555555555555556,
              "#d8576b"
             ],
             [
              0.6666666666666666,
              "#ed7953"
             ],
             [
              0.7777777777777778,
              "#fb9f3a"
             ],
             [
              0.8888888888888888,
              "#fdca26"
             ],
             [
              1,
              "#f0f921"
             ]
            ],
            "type": "heatmapgl"
           }
          ],
          "histogram": [
           {
            "marker": {
             "pattern": {
              "fillmode": "overlay",
              "size": 10,
              "solidity": 0.2
             }
            },
            "type": "histogram"
           }
          ],
          "histogram2d": [
           {
            "colorbar": {
             "outlinewidth": 0,
             "ticks": ""
            },
            "colorscale": [
             [
              0,
              "#0d0887"
             ],
             [
              0.1111111111111111,
              "#46039f"
             ],
             [
              0.2222222222222222,
              "#7201a8"
             ],
             [
              0.3333333333333333,
              "#9c179e"
             ],
             [
              0.4444444444444444,
              "#bd3786"
             ],
             [
              0.5555555555555556,
              "#d8576b"
             ],
             [
              0.6666666666666666,
              "#ed7953"
             ],
             [
              0.7777777777777778,
              "#fb9f3a"
             ],
             [
              0.8888888888888888,
              "#fdca26"
             ],
             [
              1,
              "#f0f921"
             ]
            ],
            "type": "histogram2d"
           }
          ],
          "histogram2dcontour": [
           {
            "colorbar": {
             "outlinewidth": 0,
             "ticks": ""
            },
            "colorscale": [
             [
              0,
              "#0d0887"
             ],
             [
              0.1111111111111111,
              "#46039f"
             ],
             [
              0.2222222222222222,
              "#7201a8"
             ],
             [
              0.3333333333333333,
              "#9c179e"
             ],
             [
              0.4444444444444444,
              "#bd3786"
             ],
             [
              0.5555555555555556,
              "#d8576b"
             ],
             [
              0.6666666666666666,
              "#ed7953"
             ],
             [
              0.7777777777777778,
              "#fb9f3a"
             ],
             [
              0.8888888888888888,
              "#fdca26"
             ],
             [
              1,
              "#f0f921"
             ]
            ],
            "type": "histogram2dcontour"
           }
          ],
          "mesh3d": [
           {
            "colorbar": {
             "outlinewidth": 0,
             "ticks": ""
            },
            "type": "mesh3d"
           }
          ],
          "parcoords": [
           {
            "line": {
             "colorbar": {
              "outlinewidth": 0,
              "ticks": ""
             }
            },
            "type": "parcoords"
           }
          ],
          "pie": [
           {
            "automargin": true,
            "type": "pie"
           }
          ],
          "scatter": [
           {
            "fillpattern": {
             "fillmode": "overlay",
             "size": 10,
             "solidity": 0.2
            },
            "type": "scatter"
           }
          ],
          "scatter3d": [
           {
            "line": {
             "colorbar": {
              "outlinewidth": 0,
              "ticks": ""
             }
            },
            "marker": {
             "colorbar": {
              "outlinewidth": 0,
              "ticks": ""
             }
            },
            "type": "scatter3d"
           }
          ],
          "scattercarpet": [
           {
            "marker": {
             "colorbar": {
              "outlinewidth": 0,
              "ticks": ""
             }
            },
            "type": "scattercarpet"
           }
          ],
          "scattergeo": [
           {
            "marker": {
             "colorbar": {
              "outlinewidth": 0,
              "ticks": ""
             }
            },
            "type": "scattergeo"
           }
          ],
          "scattergl": [
           {
            "marker": {
             "colorbar": {
              "outlinewidth": 0,
              "ticks": ""
             }
            },
            "type": "scattergl"
           }
          ],
          "scattermapbox": [
           {
            "marker": {
             "colorbar": {
              "outlinewidth": 0,
              "ticks": ""
             }
            },
            "type": "scattermapbox"
           }
          ],
          "scatterpolar": [
           {
            "marker": {
             "colorbar": {
              "outlinewidth": 0,
              "ticks": ""
             }
            },
            "type": "scatterpolar"
           }
          ],
          "scatterpolargl": [
           {
            "marker": {
             "colorbar": {
              "outlinewidth": 0,
              "ticks": ""
             }
            },
            "type": "scatterpolargl"
           }
          ],
          "scatterternary": [
           {
            "marker": {
             "colorbar": {
              "outlinewidth": 0,
              "ticks": ""
             }
            },
            "type": "scatterternary"
           }
          ],
          "surface": [
           {
            "colorbar": {
             "outlinewidth": 0,
             "ticks": ""
            },
            "colorscale": [
             [
              0,
              "#0d0887"
             ],
             [
              0.1111111111111111,
              "#46039f"
             ],
             [
              0.2222222222222222,
              "#7201a8"
             ],
             [
              0.3333333333333333,
              "#9c179e"
             ],
             [
              0.4444444444444444,
              "#bd3786"
             ],
             [
              0.5555555555555556,
              "#d8576b"
             ],
             [
              0.6666666666666666,
              "#ed7953"
             ],
             [
              0.7777777777777778,
              "#fb9f3a"
             ],
             [
              0.8888888888888888,
              "#fdca26"
             ],
             [
              1,
              "#f0f921"
             ]
            ],
            "type": "surface"
           }
          ],
          "table": [
           {
            "cells": {
             "fill": {
              "color": "#EBF0F8"
             },
             "line": {
              "color": "white"
             }
            },
            "header": {
             "fill": {
              "color": "#C8D4E3"
             },
             "line": {
              "color": "white"
             }
            },
            "type": "table"
           }
          ]
         },
         "layout": {
          "annotationdefaults": {
           "arrowcolor": "#2a3f5f",
           "arrowhead": 0,
           "arrowwidth": 1
          },
          "autotypenumbers": "strict",
          "coloraxis": {
           "colorbar": {
            "outlinewidth": 0,
            "ticks": ""
           }
          },
          "colorscale": {
           "diverging": [
            [
             0,
             "#8e0152"
            ],
            [
             0.1,
             "#c51b7d"
            ],
            [
             0.2,
             "#de77ae"
            ],
            [
             0.3,
             "#f1b6da"
            ],
            [
             0.4,
             "#fde0ef"
            ],
            [
             0.5,
             "#f7f7f7"
            ],
            [
             0.6,
             "#e6f5d0"
            ],
            [
             0.7,
             "#b8e186"
            ],
            [
             0.8,
             "#7fbc41"
            ],
            [
             0.9,
             "#4d9221"
            ],
            [
             1,
             "#276419"
            ]
           ],
           "sequential": [
            [
             0,
             "#0d0887"
            ],
            [
             0.1111111111111111,
             "#46039f"
            ],
            [
             0.2222222222222222,
             "#7201a8"
            ],
            [
             0.3333333333333333,
             "#9c179e"
            ],
            [
             0.4444444444444444,
             "#bd3786"
            ],
            [
             0.5555555555555556,
             "#d8576b"
            ],
            [
             0.6666666666666666,
             "#ed7953"
            ],
            [
             0.7777777777777778,
             "#fb9f3a"
            ],
            [
             0.8888888888888888,
             "#fdca26"
            ],
            [
             1,
             "#f0f921"
            ]
           ],
           "sequentialminus": [
            [
             0,
             "#0d0887"
            ],
            [
             0.1111111111111111,
             "#46039f"
            ],
            [
             0.2222222222222222,
             "#7201a8"
            ],
            [
             0.3333333333333333,
             "#9c179e"
            ],
            [
             0.4444444444444444,
             "#bd3786"
            ],
            [
             0.5555555555555556,
             "#d8576b"
            ],
            [
             0.6666666666666666,
             "#ed7953"
            ],
            [
             0.7777777777777778,
             "#fb9f3a"
            ],
            [
             0.8888888888888888,
             "#fdca26"
            ],
            [
             1,
             "#f0f921"
            ]
           ]
          },
          "colorway": [
           "#636efa",
           "#EF553B",
           "#00cc96",
           "#ab63fa",
           "#FFA15A",
           "#19d3f3",
           "#FF6692",
           "#B6E880",
           "#FF97FF",
           "#FECB52"
          ],
          "font": {
           "color": "#2a3f5f"
          },
          "geo": {
           "bgcolor": "white",
           "lakecolor": "white",
           "landcolor": "#E5ECF6",
           "showlakes": true,
           "showland": true,
           "subunitcolor": "white"
          },
          "hoverlabel": {
           "align": "left"
          },
          "hovermode": "closest",
          "mapbox": {
           "style": "light"
          },
          "paper_bgcolor": "white",
          "plot_bgcolor": "#E5ECF6",
          "polar": {
           "angularaxis": {
            "gridcolor": "white",
            "linecolor": "white",
            "ticks": ""
           },
           "bgcolor": "#E5ECF6",
           "radialaxis": {
            "gridcolor": "white",
            "linecolor": "white",
            "ticks": ""
           }
          },
          "scene": {
           "xaxis": {
            "backgroundcolor": "#E5ECF6",
            "gridcolor": "white",
            "gridwidth": 2,
            "linecolor": "white",
            "showbackground": true,
            "ticks": "",
            "zerolinecolor": "white"
           },
           "yaxis": {
            "backgroundcolor": "#E5ECF6",
            "gridcolor": "white",
            "gridwidth": 2,
            "linecolor": "white",
            "showbackground": true,
            "ticks": "",
            "zerolinecolor": "white"
           },
           "zaxis": {
            "backgroundcolor": "#E5ECF6",
            "gridcolor": "white",
            "gridwidth": 2,
            "linecolor": "white",
            "showbackground": true,
            "ticks": "",
            "zerolinecolor": "white"
           }
          },
          "shapedefaults": {
           "line": {
            "color": "#2a3f5f"
           }
          },
          "ternary": {
           "aaxis": {
            "gridcolor": "white",
            "linecolor": "white",
            "ticks": ""
           },
           "baxis": {
            "gridcolor": "white",
            "linecolor": "white",
            "ticks": ""
           },
           "bgcolor": "#E5ECF6",
           "caxis": {
            "gridcolor": "white",
            "linecolor": "white",
            "ticks": ""
           }
          },
          "title": {
           "x": 0.05
          },
          "xaxis": {
           "automargin": true,
           "gridcolor": "white",
           "linecolor": "white",
           "ticks": "",
           "title": {
            "standoff": 15
           },
           "zerolinecolor": "white",
           "zerolinewidth": 2
          },
          "yaxis": {
           "automargin": true,
           "gridcolor": "white",
           "linecolor": "white",
           "ticks": "",
           "title": {
            "standoff": 15
           },
           "zerolinecolor": "white",
           "zerolinewidth": 2
          }
         }
        },
        "title": {
         "text": " Actual Results"
        }
       }
      }
     },
     "metadata": {},
     "output_type": "display_data"
    }
   ],
   "source": [
    "px.scatter_3d(x=x_testdf.iloc[:,0],y=x_testdf.iloc[:,1],z=x_testdf.iloc[:,2], color= y_test, title=\" Actual Results\")"
   ]
  },
  {
   "cell_type": "code",
   "execution_count": 746,
   "metadata": {},
   "outputs": [
    {
     "data": {
      "application/vnd.plotly.v1+json": {
       "config": {
        "plotlyServerURL": "https://plot.ly"
       },
       "data": [
        {
         "hovertemplate": "x=%{x}<br>y=%{y}<br>z=%{z}<br>color=%{marker.color}<extra></extra>",
         "legendgroup": "",
         "marker": {
          "color": [
           0,
           0,
           0,
           0,
           0,
           0,
           0,
           0,
           0,
           0,
           0,
           1,
           0,
           0,
           0,
           0,
           0,
           1,
           0,
           0,
           0,
           0,
           1,
           1,
           0,
           0,
           0,
           0,
           0,
           0,
           0,
           0,
           0,
           0,
           0,
           0,
           0,
           0,
           0,
           0
          ],
          "coloraxis": "coloraxis",
          "symbol": "circle"
         },
         "mode": "markers",
         "name": "",
         "scene": "scene",
         "showlegend": false,
         "type": "scatter3d",
         "x": [
          0.33650422090296445,
          -0.15969839317638007,
          0.6438523509028455,
          1.8081560227921039,
          0.6419115802110177,
          -0.6934663922315143,
          1.8416150258780306,
          -0.5848171354676147,
          0.5710142132582692,
          1.1140526933018386,
          -0.8186248081587115,
          -1.3008090095697844,
          -0.491155186663,
          -0.7078467828176649,
          -0.5652350761731297,
          0.296977110342903,
          0.24383355325366723,
          -0.9675842556236326,
          1.7518834310759854,
          -0.320546364301262,
          -0.2277476437440045,
          -1.5932422694508461,
          -1.3008174172670077,
          -0.9020945722458695,
          0.16448231154543583,
          0.1145784664772824,
          -1.7016883847779694,
          -0.974731665016524,
          -0.5975212833723696,
          0.5871562548840167,
          -1.0283397156925966,
          -0.409282367782827,
          0.10430506218675178,
          -0.4465712127832941,
          1.9196218714227524,
          0.6907041041232975,
          0.5957288645870652,
          -0.27039248667590965,
          1.130625697362713,
          -0.7492189224537285
         ],
         "y": [
          -0.6179652555368043,
          -0.4148971544083097,
          -0.11581523866084353,
          0.07392075915761293,
          -0.2245399836335081,
          0.5923501656061804,
          -0.5905961268213281,
          0.48253336733695557,
          -0.7280540465786176,
          0.5765804107516692,
          -1.0149028550503907,
          1.0883582456987266,
          -0.995872746442021,
          -0.893646720451371,
          1.5791344394342448,
          -0.4128711651701568,
          0.2331462594529898,
          1.5300990775692824,
          -0.7363538087346813,
          -0.45456534817157906,
          -0.4756328609169831,
          -0.233915733857786,
          1.5280226570438202,
          1.3474914978325123,
          0.4281802433721822,
          0.08492524590883577,
          -1.1084255004766892,
          -1.1908545764427438,
          -0.3700717262910689,
          -0.9908541786615059,
          -0.5380960450176631,
          1.232065471122223,
          -0.7825439013365475,
          -0.3833154631379269,
          0.14120949970077543,
          1.178911906223115,
          -1.1371739219881927,
          -0.12647442277117157,
          -0.8466591416475977,
          -0.716322701260593
         ],
         "z": [
          1.7204237137504639,
          1.086126643318191,
          -1.1488324430397818,
          -0.3859077261323981,
          -0.9188151295194134,
          1.157339093814028,
          -0.20227548766548456,
          0.5687951953548228,
          -0.5672541068608288,
          -0.5729213895235411,
          -1.2664056007160573,
          -1.5219117166113352,
          -0.9967595362145873,
          -0.817155643285486,
          0.24866925866291845,
          0.917635765730187,
          0.5121426580361745,
          -0.543817281364393,
          -0.35696476676312455,
          1.0347801393953362,
          0.38537937922607673,
          0.34676108092669977,
          -0.8753389877007604,
          -0.5072880497793577,
          0.37167096440083297,
          0.41185938290211094,
          -0.13462454388357592,
          -0.8486865998333124,
          0.668713027627191,
          -1.0280686271729689,
          -1.304771095990933,
          -0.20004108178899693,
          0.946695984244794,
          1.1387208840604228,
          -0.40564536019769587,
          -0.9920713092837821,
          0.9619602916606658,
          1.1902615582887939,
          -1.060464004511722,
          -1.1092798543199451
         ]
        }
       ],
       "layout": {
        "coloraxis": {
         "colorbar": {
          "title": {
           "text": "color"
          }
         },
         "colorscale": [
          [
           0,
           "#0d0887"
          ],
          [
           0.1111111111111111,
           "#46039f"
          ],
          [
           0.2222222222222222,
           "#7201a8"
          ],
          [
           0.3333333333333333,
           "#9c179e"
          ],
          [
           0.4444444444444444,
           "#bd3786"
          ],
          [
           0.5555555555555556,
           "#d8576b"
          ],
          [
           0.6666666666666666,
           "#ed7953"
          ],
          [
           0.7777777777777778,
           "#fb9f3a"
          ],
          [
           0.8888888888888888,
           "#fdca26"
          ],
          [
           1,
           "#f0f921"
          ]
         ]
        },
        "legend": {
         "tracegroupgap": 0
        },
        "scene": {
         "domain": {
          "x": [
           0,
           1
          ],
          "y": [
           0,
           1
          ]
         },
         "xaxis": {
          "title": {
           "text": "x"
          }
         },
         "yaxis": {
          "title": {
           "text": "y"
          }
         },
         "zaxis": {
          "title": {
           "text": "z"
          }
         }
        },
        "template": {
         "data": {
          "bar": [
           {
            "error_x": {
             "color": "#2a3f5f"
            },
            "error_y": {
             "color": "#2a3f5f"
            },
            "marker": {
             "line": {
              "color": "#E5ECF6",
              "width": 0.5
             },
             "pattern": {
              "fillmode": "overlay",
              "size": 10,
              "solidity": 0.2
             }
            },
            "type": "bar"
           }
          ],
          "barpolar": [
           {
            "marker": {
             "line": {
              "color": "#E5ECF6",
              "width": 0.5
             },
             "pattern": {
              "fillmode": "overlay",
              "size": 10,
              "solidity": 0.2
             }
            },
            "type": "barpolar"
           }
          ],
          "carpet": [
           {
            "aaxis": {
             "endlinecolor": "#2a3f5f",
             "gridcolor": "white",
             "linecolor": "white",
             "minorgridcolor": "white",
             "startlinecolor": "#2a3f5f"
            },
            "baxis": {
             "endlinecolor": "#2a3f5f",
             "gridcolor": "white",
             "linecolor": "white",
             "minorgridcolor": "white",
             "startlinecolor": "#2a3f5f"
            },
            "type": "carpet"
           }
          ],
          "choropleth": [
           {
            "colorbar": {
             "outlinewidth": 0,
             "ticks": ""
            },
            "type": "choropleth"
           }
          ],
          "contour": [
           {
            "colorbar": {
             "outlinewidth": 0,
             "ticks": ""
            },
            "colorscale": [
             [
              0,
              "#0d0887"
             ],
             [
              0.1111111111111111,
              "#46039f"
             ],
             [
              0.2222222222222222,
              "#7201a8"
             ],
             [
              0.3333333333333333,
              "#9c179e"
             ],
             [
              0.4444444444444444,
              "#bd3786"
             ],
             [
              0.5555555555555556,
              "#d8576b"
             ],
             [
              0.6666666666666666,
              "#ed7953"
             ],
             [
              0.7777777777777778,
              "#fb9f3a"
             ],
             [
              0.8888888888888888,
              "#fdca26"
             ],
             [
              1,
              "#f0f921"
             ]
            ],
            "type": "contour"
           }
          ],
          "contourcarpet": [
           {
            "colorbar": {
             "outlinewidth": 0,
             "ticks": ""
            },
            "type": "contourcarpet"
           }
          ],
          "heatmap": [
           {
            "colorbar": {
             "outlinewidth": 0,
             "ticks": ""
            },
            "colorscale": [
             [
              0,
              "#0d0887"
             ],
             [
              0.1111111111111111,
              "#46039f"
             ],
             [
              0.2222222222222222,
              "#7201a8"
             ],
             [
              0.3333333333333333,
              "#9c179e"
             ],
             [
              0.4444444444444444,
              "#bd3786"
             ],
             [
              0.5555555555555556,
              "#d8576b"
             ],
             [
              0.6666666666666666,
              "#ed7953"
             ],
             [
              0.7777777777777778,
              "#fb9f3a"
             ],
             [
              0.8888888888888888,
              "#fdca26"
             ],
             [
              1,
              "#f0f921"
             ]
            ],
            "type": "heatmap"
           }
          ],
          "heatmapgl": [
           {
            "colorbar": {
             "outlinewidth": 0,
             "ticks": ""
            },
            "colorscale": [
             [
              0,
              "#0d0887"
             ],
             [
              0.1111111111111111,
              "#46039f"
             ],
             [
              0.2222222222222222,
              "#7201a8"
             ],
             [
              0.3333333333333333,
              "#9c179e"
             ],
             [
              0.4444444444444444,
              "#bd3786"
             ],
             [
              0.5555555555555556,
              "#d8576b"
             ],
             [
              0.6666666666666666,
              "#ed7953"
             ],
             [
              0.7777777777777778,
              "#fb9f3a"
             ],
             [
              0.8888888888888888,
              "#fdca26"
             ],
             [
              1,
              "#f0f921"
             ]
            ],
            "type": "heatmapgl"
           }
          ],
          "histogram": [
           {
            "marker": {
             "pattern": {
              "fillmode": "overlay",
              "size": 10,
              "solidity": 0.2
             }
            },
            "type": "histogram"
           }
          ],
          "histogram2d": [
           {
            "colorbar": {
             "outlinewidth": 0,
             "ticks": ""
            },
            "colorscale": [
             [
              0,
              "#0d0887"
             ],
             [
              0.1111111111111111,
              "#46039f"
             ],
             [
              0.2222222222222222,
              "#7201a8"
             ],
             [
              0.3333333333333333,
              "#9c179e"
             ],
             [
              0.4444444444444444,
              "#bd3786"
             ],
             [
              0.5555555555555556,
              "#d8576b"
             ],
             [
              0.6666666666666666,
              "#ed7953"
             ],
             [
              0.7777777777777778,
              "#fb9f3a"
             ],
             [
              0.8888888888888888,
              "#fdca26"
             ],
             [
              1,
              "#f0f921"
             ]
            ],
            "type": "histogram2d"
           }
          ],
          "histogram2dcontour": [
           {
            "colorbar": {
             "outlinewidth": 0,
             "ticks": ""
            },
            "colorscale": [
             [
              0,
              "#0d0887"
             ],
             [
              0.1111111111111111,
              "#46039f"
             ],
             [
              0.2222222222222222,
              "#7201a8"
             ],
             [
              0.3333333333333333,
              "#9c179e"
             ],
             [
              0.4444444444444444,
              "#bd3786"
             ],
             [
              0.5555555555555556,
              "#d8576b"
             ],
             [
              0.6666666666666666,
              "#ed7953"
             ],
             [
              0.7777777777777778,
              "#fb9f3a"
             ],
             [
              0.8888888888888888,
              "#fdca26"
             ],
             [
              1,
              "#f0f921"
             ]
            ],
            "type": "histogram2dcontour"
           }
          ],
          "mesh3d": [
           {
            "colorbar": {
             "outlinewidth": 0,
             "ticks": ""
            },
            "type": "mesh3d"
           }
          ],
          "parcoords": [
           {
            "line": {
             "colorbar": {
              "outlinewidth": 0,
              "ticks": ""
             }
            },
            "type": "parcoords"
           }
          ],
          "pie": [
           {
            "automargin": true,
            "type": "pie"
           }
          ],
          "scatter": [
           {
            "fillpattern": {
             "fillmode": "overlay",
             "size": 10,
             "solidity": 0.2
            },
            "type": "scatter"
           }
          ],
          "scatter3d": [
           {
            "line": {
             "colorbar": {
              "outlinewidth": 0,
              "ticks": ""
             }
            },
            "marker": {
             "colorbar": {
              "outlinewidth": 0,
              "ticks": ""
             }
            },
            "type": "scatter3d"
           }
          ],
          "scattercarpet": [
           {
            "marker": {
             "colorbar": {
              "outlinewidth": 0,
              "ticks": ""
             }
            },
            "type": "scattercarpet"
           }
          ],
          "scattergeo": [
           {
            "marker": {
             "colorbar": {
              "outlinewidth": 0,
              "ticks": ""
             }
            },
            "type": "scattergeo"
           }
          ],
          "scattergl": [
           {
            "marker": {
             "colorbar": {
              "outlinewidth": 0,
              "ticks": ""
             }
            },
            "type": "scattergl"
           }
          ],
          "scattermapbox": [
           {
            "marker": {
             "colorbar": {
              "outlinewidth": 0,
              "ticks": ""
             }
            },
            "type": "scattermapbox"
           }
          ],
          "scatterpolar": [
           {
            "marker": {
             "colorbar": {
              "outlinewidth": 0,
              "ticks": ""
             }
            },
            "type": "scatterpolar"
           }
          ],
          "scatterpolargl": [
           {
            "marker": {
             "colorbar": {
              "outlinewidth": 0,
              "ticks": ""
             }
            },
            "type": "scatterpolargl"
           }
          ],
          "scatterternary": [
           {
            "marker": {
             "colorbar": {
              "outlinewidth": 0,
              "ticks": ""
             }
            },
            "type": "scatterternary"
           }
          ],
          "surface": [
           {
            "colorbar": {
             "outlinewidth": 0,
             "ticks": ""
            },
            "colorscale": [
             [
              0,
              "#0d0887"
             ],
             [
              0.1111111111111111,
              "#46039f"
             ],
             [
              0.2222222222222222,
              "#7201a8"
             ],
             [
              0.3333333333333333,
              "#9c179e"
             ],
             [
              0.4444444444444444,
              "#bd3786"
             ],
             [
              0.5555555555555556,
              "#d8576b"
             ],
             [
              0.6666666666666666,
              "#ed7953"
             ],
             [
              0.7777777777777778,
              "#fb9f3a"
             ],
             [
              0.8888888888888888,
              "#fdca26"
             ],
             [
              1,
              "#f0f921"
             ]
            ],
            "type": "surface"
           }
          ],
          "table": [
           {
            "cells": {
             "fill": {
              "color": "#EBF0F8"
             },
             "line": {
              "color": "white"
             }
            },
            "header": {
             "fill": {
              "color": "#C8D4E3"
             },
             "line": {
              "color": "white"
             }
            },
            "type": "table"
           }
          ]
         },
         "layout": {
          "annotationdefaults": {
           "arrowcolor": "#2a3f5f",
           "arrowhead": 0,
           "arrowwidth": 1
          },
          "autotypenumbers": "strict",
          "coloraxis": {
           "colorbar": {
            "outlinewidth": 0,
            "ticks": ""
           }
          },
          "colorscale": {
           "diverging": [
            [
             0,
             "#8e0152"
            ],
            [
             0.1,
             "#c51b7d"
            ],
            [
             0.2,
             "#de77ae"
            ],
            [
             0.3,
             "#f1b6da"
            ],
            [
             0.4,
             "#fde0ef"
            ],
            [
             0.5,
             "#f7f7f7"
            ],
            [
             0.6,
             "#e6f5d0"
            ],
            [
             0.7,
             "#b8e186"
            ],
            [
             0.8,
             "#7fbc41"
            ],
            [
             0.9,
             "#4d9221"
            ],
            [
             1,
             "#276419"
            ]
           ],
           "sequential": [
            [
             0,
             "#0d0887"
            ],
            [
             0.1111111111111111,
             "#46039f"
            ],
            [
             0.2222222222222222,
             "#7201a8"
            ],
            [
             0.3333333333333333,
             "#9c179e"
            ],
            [
             0.4444444444444444,
             "#bd3786"
            ],
            [
             0.5555555555555556,
             "#d8576b"
            ],
            [
             0.6666666666666666,
             "#ed7953"
            ],
            [
             0.7777777777777778,
             "#fb9f3a"
            ],
            [
             0.8888888888888888,
             "#fdca26"
            ],
            [
             1,
             "#f0f921"
            ]
           ],
           "sequentialminus": [
            [
             0,
             "#0d0887"
            ],
            [
             0.1111111111111111,
             "#46039f"
            ],
            [
             0.2222222222222222,
             "#7201a8"
            ],
            [
             0.3333333333333333,
             "#9c179e"
            ],
            [
             0.4444444444444444,
             "#bd3786"
            ],
            [
             0.5555555555555556,
             "#d8576b"
            ],
            [
             0.6666666666666666,
             "#ed7953"
            ],
            [
             0.7777777777777778,
             "#fb9f3a"
            ],
            [
             0.8888888888888888,
             "#fdca26"
            ],
            [
             1,
             "#f0f921"
            ]
           ]
          },
          "colorway": [
           "#636efa",
           "#EF553B",
           "#00cc96",
           "#ab63fa",
           "#FFA15A",
           "#19d3f3",
           "#FF6692",
           "#B6E880",
           "#FF97FF",
           "#FECB52"
          ],
          "font": {
           "color": "#2a3f5f"
          },
          "geo": {
           "bgcolor": "white",
           "lakecolor": "white",
           "landcolor": "#E5ECF6",
           "showlakes": true,
           "showland": true,
           "subunitcolor": "white"
          },
          "hoverlabel": {
           "align": "left"
          },
          "hovermode": "closest",
          "mapbox": {
           "style": "light"
          },
          "paper_bgcolor": "white",
          "plot_bgcolor": "#E5ECF6",
          "polar": {
           "angularaxis": {
            "gridcolor": "white",
            "linecolor": "white",
            "ticks": ""
           },
           "bgcolor": "#E5ECF6",
           "radialaxis": {
            "gridcolor": "white",
            "linecolor": "white",
            "ticks": ""
           }
          },
          "scene": {
           "xaxis": {
            "backgroundcolor": "#E5ECF6",
            "gridcolor": "white",
            "gridwidth": 2,
            "linecolor": "white",
            "showbackground": true,
            "ticks": "",
            "zerolinecolor": "white"
           },
           "yaxis": {
            "backgroundcolor": "#E5ECF6",
            "gridcolor": "white",
            "gridwidth": 2,
            "linecolor": "white",
            "showbackground": true,
            "ticks": "",
            "zerolinecolor": "white"
           },
           "zaxis": {
            "backgroundcolor": "#E5ECF6",
            "gridcolor": "white",
            "gridwidth": 2,
            "linecolor": "white",
            "showbackground": true,
            "ticks": "",
            "zerolinecolor": "white"
           }
          },
          "shapedefaults": {
           "line": {
            "color": "#2a3f5f"
           }
          },
          "ternary": {
           "aaxis": {
            "gridcolor": "white",
            "linecolor": "white",
            "ticks": ""
           },
           "baxis": {
            "gridcolor": "white",
            "linecolor": "white",
            "ticks": ""
           },
           "bgcolor": "#E5ECF6",
           "caxis": {
            "gridcolor": "white",
            "linecolor": "white",
            "ticks": ""
           }
          },
          "title": {
           "x": 0.05
          },
          "xaxis": {
           "automargin": true,
           "gridcolor": "white",
           "linecolor": "white",
           "ticks": "",
           "title": {
            "standoff": 15
           },
           "zerolinecolor": "white",
           "zerolinewidth": 2
          },
          "yaxis": {
           "automargin": true,
           "gridcolor": "white",
           "linecolor": "white",
           "ticks": "",
           "title": {
            "standoff": 15
           },
           "zerolinecolor": "white",
           "zerolinewidth": 2
          }
         }
        },
        "title": {
         "text": " Reupload with 2 Layers"
        }
       }
      }
     },
     "metadata": {},
     "output_type": "display_data"
    }
   ],
   "source": [
    "px.scatter_3d(x=x_testdf.iloc[:,0],y=x_testdf.iloc[:,1],z=x_testdf.iloc[:,2], color= y_pred , title=\" Reupload with 2 Layers\")"
   ]
  },
  {
   "cell_type": "code",
   "execution_count": 747,
   "metadata": {},
   "outputs": [
    {
     "name": "stdout",
     "output_type": "stream",
     "text": [
      "Recall(TP/FN+TP ):0.6666666666666666\n",
      "Precsion(TP/FP+TP): 1.0 \n",
      "F1 score function of presscion and recall:0.8 \n"
     ]
    },
    {
     "data": {
      "image/png": "[encoded data removed]",
      "text/plain": [
       "<Figure size 640x480 with 2 Axes>"
      ]
     },
     "metadata": {},
     "output_type": "display_data"
    }
   ],
   "source": [
    "conMtx = confusion_matrix(y_test,y_pred)\n",
    "sns.heatmap(conMtx)\n",
    "f1 = f1_score(y_test,y_pred)\n",
    "recall = recall_score(y_test,y_pred)\n",
    "pre = precision_score(y_test,y_pred)\n",
    "\n",
    "print(f\"Recall(TP/FN+TP ):{recall}\")\n",
    "print(f\"Precsion(TP/FP+TP): {pre} \")\n",
    "print(f\"F1 score function of presscion and recall:{f1} \")"
   ]
  },
  {
   "cell_type": "code",
   "execution_count": 748,
   "metadata": {},
   "outputs": [
    {
     "name": "stdout",
     "output_type": "stream",
     "text": [
      "Epoch:  1 | Loss: 0.173956 |  accuracy: 0.743750 \n",
      "Epoch:  2 | Loss: 0.208709 |  accuracy: 0.675000 \n",
      "Epoch:  3 | Loss: 0.135302 |  accuracy: 0.812500 \n",
      "Epoch:  4 | Loss: 0.084731 |  accuracy: 0.912500 \n",
      "Epoch:  5 | Loss: 0.078742 |  accuracy: 0.906250 \n",
      "Epoch:  6 | Loss: 0.049157 |  accuracy: 0.956250 \n",
      "Epoch:  7 | Loss: 0.061306 |  accuracy: 0.975000 \n",
      "Epoch:  8 | Loss: 0.047608 |  accuracy: 0.975000 \n",
      "Epoch:  9 | Loss: 0.039808 |  accuracy: 0.968750 \n",
      "Epoch: 10 | Loss: 0.030853 |  accuracy: 0.975000 \n",
      "Recall(TP/FN+TP ):0.6666666666666666\n",
      "Precsion(TP/FP+TP): 1.0 \n",
      "F1 score function of presscion and recall:0.8 \n"
     ]
    },
    {
     "data": {
      "image/png": "[encoded data removed]",
      "text/plain": [
       "<Figure size 640x480 with 2 Axes>"
      ]
     },
     "metadata": {},
     "output_type": "display_data"
    }
   ],
   "source": [
    "model = Reuploader( dev, num_layers=5)\n",
    "\n",
    "model.fit(X_train, y_train)\n",
    "\n",
    "conMtx = confusion_matrix(y_test,y_pred)\n",
    "sns.heatmap(conMtx)\n",
    "f1 = f1_score(y_test,y_pred)\n",
    "recall = recall_score(y_test,y_pred)\n",
    "pre = precision_score(y_test,y_pred)\n",
    "\n",
    "print(f\"Recall(TP/FN+TP ):{recall}\")\n",
    "print(f\"Precsion(TP/FP+TP): {pre} \")\n",
    "print(f\"F1 score function of presscion and recall:{f1} \")"
   ]
  },
  {
   "cell_type": "code",
   "execution_count": 749,
   "metadata": {},
   "outputs": [
    {
     "data": {
      "application/vnd.plotly.v1+json": {
       "config": {
        "plotlyServerURL": "https://plot.ly"
       },
       "data": [
        {
         "hovertemplate": "x=%{x}<br>y=%{y}<br>z=%{z}<br>color=%{marker.color}<extra></extra>",
         "legendgroup": "",
         "marker": {
          "color": [
           0,
           0,
           0,
           0,
           0,
           0,
           0,
           0,
           0,
           0,
           0,
           1,
           0,
           0,
           0,
           0,
           0,
           1,
           0,
           0,
           0,
           0,
           1,
           1,
           0,
           0,
           0,
           0,
           0,
           0,
           0,
           0,
           0,
           0,
           0,
           0,
           0,
           0,
           0,
           0
          ],
          "coloraxis": "coloraxis",
          "symbol": "circle"
         },
         "mode": "markers",
         "name": "",
         "scene": "scene",
         "showlegend": false,
         "type": "scatter3d",
         "x": [
          0.33650422090296445,
          -0.15969839317638007,
          0.6438523509028455,
          1.8081560227921039,
          0.6419115802110177,
          -0.6934663922315143,
          1.8416150258780306,
          -0.5848171354676147,
          0.5710142132582692,
          1.1140526933018386,
          -0.8186248081587115,
          -1.3008090095697844,
          -0.491155186663,
          -0.7078467828176649,
          -0.5652350761731297,
          0.296977110342903,
          0.24383355325366723,
          -0.9675842556236326,
          1.7518834310759854,
          -0.320546364301262,
          -0.2277476437440045,
          -1.5932422694508461,
          -1.3008174172670077,
          -0.9020945722458695,
          0.16448231154543583,
          0.1145784664772824,
          -1.7016883847779694,
          -0.974731665016524,
          -0.5975212833723696,
          0.5871562548840167,
          -1.0283397156925966,
          -0.409282367782827,
          0.10430506218675178,
          -0.4465712127832941,
          1.9196218714227524,
          0.6907041041232975,
          0.5957288645870652,
          -0.27039248667590965,
          1.130625697362713,
          -0.7492189224537285
         ],
         "y": [
          -0.6179652555368043,
          -0.4148971544083097,
          -0.11581523866084353,
          0.07392075915761293,
          -0.2245399836335081,
          0.5923501656061804,
          -0.5905961268213281,
          0.48253336733695557,
          -0.7280540465786176,
          0.5765804107516692,
          -1.0149028550503907,
          1.0883582456987266,
          -0.995872746442021,
          -0.893646720451371,
          1.5791344394342448,
          -0.4128711651701568,
          0.2331462594529898,
          1.5300990775692824,
          -0.7363538087346813,
          -0.45456534817157906,
          -0.4756328609169831,
          -0.233915733857786,
          1.5280226570438202,
          1.3474914978325123,
          0.4281802433721822,
          0.08492524590883577,
          -1.1084255004766892,
          -1.1908545764427438,
          -0.3700717262910689,
          -0.9908541786615059,
          -0.5380960450176631,
          1.232065471122223,
          -0.7825439013365475,
          -0.3833154631379269,
          0.14120949970077543,
          1.178911906223115,
          -1.1371739219881927,
          -0.12647442277117157,
          -0.8466591416475977,
          -0.716322701260593
         ],
         "z": [
          1.7204237137504639,
          1.086126643318191,
          -1.1488324430397818,
          -0.3859077261323981,
          -0.9188151295194134,
          1.157339093814028,
          -0.20227548766548456,
          0.5687951953548228,
          -0.5672541068608288,
          -0.5729213895235411,
          -1.2664056007160573,
          -1.5219117166113352,
          -0.9967595362145873,
          -0.817155643285486,
          0.24866925866291845,
          0.917635765730187,
          0.5121426580361745,
          -0.543817281364393,
          -0.35696476676312455,
          1.0347801393953362,
          0.38537937922607673,
          0.34676108092669977,
          -0.8753389877007604,
          -0.5072880497793577,
          0.37167096440083297,
          0.41185938290211094,
          -0.13462454388357592,
          -0.8486865998333124,
          0.668713027627191,
          -1.0280686271729689,
          -1.304771095990933,
          -0.20004108178899693,
          0.946695984244794,
          1.1387208840604228,
          -0.40564536019769587,
          -0.9920713092837821,
          0.9619602916606658,
          1.1902615582887939,
          -1.060464004511722,
          -1.1092798543199451
         ]
        }
       ],
       "layout": {
        "coloraxis": {
         "colorbar": {
          "title": {
           "text": "color"
          }
         },
         "colorscale": [
          [
           0,
           "#0d0887"
          ],
          [
           0.1111111111111111,
           "#46039f"
          ],
          [
           0.2222222222222222,
           "#7201a8"
          ],
          [
           0.3333333333333333,
           "#9c179e"
          ],
          [
           0.4444444444444444,
           "#bd3786"
          ],
          [
           0.5555555555555556,
           "#d8576b"
          ],
          [
           0.6666666666666666,
           "#ed7953"
          ],
          [
           0.7777777777777778,
           "#fb9f3a"
          ],
          [
           0.8888888888888888,
           "#fdca26"
          ],
          [
           1,
           "#f0f921"
          ]
         ]
        },
        "legend": {
         "tracegroupgap": 0
        },
        "scene": {
         "domain": {
          "x": [
           0,
           1
          ],
          "y": [
           0,
           1
          ]
         },
         "xaxis": {
          "title": {
           "text": "x"
          }
         },
         "yaxis": {
          "title": {
           "text": "y"
          }
         },
         "zaxis": {
          "title": {
           "text": "z"
          }
         }
        },
        "template": {
         "data": {
          "bar": [
           {
            "error_x": {
             "color": "#2a3f5f"
            },
            "error_y": {
             "color": "#2a3f5f"
            },
            "marker": {
             "line": {
              "color": "#E5ECF6",
              "width": 0.5
             },
             "pattern": {
              "fillmode": "overlay",
              "size": 10,
              "solidity": 0.2
             }
            },
            "type": "bar"
           }
          ],
          "barpolar": [
           {
            "marker": {
             "line": {
              "color": "#E5ECF6",
              "width": 0.5
             },
             "pattern": {
              "fillmode": "overlay",
              "size": 10,
              "solidity": 0.2
             }
            },
            "type": "barpolar"
           }
          ],
          "carpet": [
           {
            "aaxis": {
             "endlinecolor": "#2a3f5f",
             "gridcolor": "white",
             "linecolor": "white",
             "minorgridcolor": "white",
             "startlinecolor": "#2a3f5f"
            },
            "baxis": {
             "endlinecolor": "#2a3f5f",
             "gridcolor": "white",
             "linecolor": "white",
             "minorgridcolor": "white",
             "startlinecolor": "#2a3f5f"
            },
            "type": "carpet"
           }
          ],
          "choropleth": [
           {
            "colorbar": {
             "outlinewidth": 0,
             "ticks": ""
            },
            "type": "choropleth"
           }
          ],
          "contour": [
           {
            "colorbar": {
             "outlinewidth": 0,
             "ticks": ""
            },
            "colorscale": [
             [
              0,
              "#0d0887"
             ],
             [
              0.1111111111111111,
              "#46039f"
             ],
             [
              0.2222222222222222,
              "#7201a8"
             ],
             [
              0.3333333333333333,
              "#9c179e"
             ],
             [
              0.4444444444444444,
              "#bd3786"
             ],
             [
              0.5555555555555556,
              "#d8576b"
             ],
             [
              0.6666666666666666,
              "#ed7953"
             ],
             [
              0.7777777777777778,
              "#fb9f3a"
             ],
             [
              0.8888888888888888,
              "#fdca26"
             ],
             [
              1,
              "#f0f921"
             ]
            ],
            "type": "contour"
           }
          ],
          "contourcarpet": [
           {
            "colorbar": {
             "outlinewidth": 0,
             "ticks": ""
            },
            "type": "contourcarpet"
           }
          ],
          "heatmap": [
           {
            "colorbar": {
             "outlinewidth": 0,
             "ticks": ""
            },
            "colorscale": [
             [
              0,
              "#0d0887"
             ],
             [
              0.1111111111111111,
              "#46039f"
             ],
             [
              0.2222222222222222,
              "#7201a8"
             ],
             [
              0.3333333333333333,
              "#9c179e"
             ],
             [
              0.4444444444444444,
              "#bd3786"
             ],
             [
              0.5555555555555556,
              "#d8576b"
             ],
             [
              0.6666666666666666,
              "#ed7953"
             ],
             [
              0.7777777777777778,
              "#fb9f3a"
             ],
             [
              0.8888888888888888,
              "#fdca26"
             ],
             [
              1,
              "#f0f921"
             ]
            ],
            "type": "heatmap"
           }
          ],
          "heatmapgl": [
           {
            "colorbar": {
             "outlinewidth": 0,
             "ticks": ""
            },
            "colorscale": [
             [
              0,
              "#0d0887"
             ],
             [
              0.1111111111111111,
              "#46039f"
             ],
             [
              0.2222222222222222,
              "#7201a8"
             ],
             [
              0.3333333333333333,
              "#9c179e"
             ],
             [
              0.4444444444444444,
              "#bd3786"
             ],
             [
              0.5555555555555556,
              "#d8576b"
             ],
             [
              0.6666666666666666,
              "#ed7953"
             ],
             [
              0.7777777777777778,
              "#fb9f3a"
             ],
             [
              0.8888888888888888,
              "#fdca26"
             ],
             [
              1,
              "#f0f921"
             ]
            ],
            "type": "heatmapgl"
           }
          ],
          "histogram": [
           {
            "marker": {
             "pattern": {
              "fillmode": "overlay",
              "size": 10,
              "solidity": 0.2
             }
            },
            "type": "histogram"
           }
          ],
          "histogram2d": [
           {
            "colorbar": {
             "outlinewidth": 0,
             "ticks": ""
            },
            "colorscale": [
             [
              0,
              "#0d0887"
             ],
             [
              0.1111111111111111,
              "#46039f"
             ],
             [
              0.2222222222222222,
              "#7201a8"
             ],
             [
              0.3333333333333333,
              "#9c179e"
             ],
             [
              0.4444444444444444,
              "#bd3786"
             ],
             [
              0.5555555555555556,
              "#d8576b"
             ],
             [
              0.6666666666666666,
              "#ed7953"
             ],
             [
              0.7777777777777778,
              "#fb9f3a"
             ],
             [
              0.8888888888888888,
              "#fdca26"
             ],
             [
              1,
              "#f0f921"
             ]
            ],
            "type": "histogram2d"
           }
          ],
          "histogram2dcontour": [
           {
            "colorbar": {
             "outlinewidth": 0,
             "ticks": ""
            },
            "colorscale": [
             [
              0,
              "#0d0887"
             ],
             [
              0.1111111111111111,
              "#46039f"
             ],
             [
              0.2222222222222222,
              "#7201a8"
             ],
             [
              0.3333333333333333,
              "#9c179e"
             ],
             [
              0.4444444444444444,
              "#bd3786"
             ],
             [
              0.5555555555555556,
              "#d8576b"
             ],
             [
              0.6666666666666666,
              "#ed7953"
             ],
             [
              0.7777777777777778,
              "#fb9f3a"
             ],
             [
              0.8888888888888888,
              "#fdca26"
             ],
             [
              1,
              "#f0f921"
             ]
            ],
            "type": "histogram2dcontour"
           }
          ],
          "mesh3d": [
           {
            "colorbar": {
             "outlinewidth": 0,
             "ticks": ""
            },
            "type": "mesh3d"
           }
          ],
          "parcoords": [
           {
            "line": {
             "colorbar": {
              "outlinewidth": 0,
              "ticks": ""
             }
            },
            "type": "parcoords"
           }
          ],
          "pie": [
           {
            "automargin": true,
            "type": "pie"
           }
          ],
          "scatter": [
           {
            "fillpattern": {
             "fillmode": "overlay",
             "size": 10,
             "solidity": 0.2
            },
            "type": "scatter"
           }
          ],
          "scatter3d": [
           {
            "line": {
             "colorbar": {
              "outlinewidth": 0,
              "ticks": ""
             }
            },
            "marker": {
             "colorbar": {
              "outlinewidth": 0,
              "ticks": ""
             }
            },
            "type": "scatter3d"
           }
          ],
          "scattercarpet": [
           {
            "marker": {
             "colorbar": {
              "outlinewidth": 0,
              "ticks": ""
             }
            },
            "type": "scattercarpet"
           }
          ],
          "scattergeo": [
           {
            "marker": {
             "colorbar": {
              "outlinewidth": 0,
              "ticks": ""
             }
            },
            "type": "scattergeo"
           }
          ],
          "scattergl": [
           {
            "marker": {
             "colorbar": {
              "outlinewidth": 0,
              "ticks": ""
             }
            },
            "type": "scattergl"
           }
          ],
          "scattermapbox": [
           {
            "marker": {
             "colorbar": {
              "outlinewidth": 0,
              "ticks": ""
             }
            },
            "type": "scattermapbox"
           }
          ],
          "scatterpolar": [
           {
            "marker": {
             "colorbar": {
              "outlinewidth": 0,
              "ticks": ""
             }
            },
            "type": "scatterpolar"
           }
          ],
          "scatterpolargl": [
           {
            "marker": {
             "colorbar": {
              "outlinewidth": 0,
              "ticks": ""
             }
            },
            "type": "scatterpolargl"
           }
          ],
          "scatterternary": [
           {
            "marker": {
             "colorbar": {
              "outlinewidth": 0,
              "ticks": ""
             }
            },
            "type": "scatterternary"
           }
          ],
          "surface": [
           {
            "colorbar": {
             "outlinewidth": 0,
             "ticks": ""
            },
            "colorscale": [
             [
              0,
              "#0d0887"
             ],
             [
              0.1111111111111111,
              "#46039f"
             ],
             [
              0.2222222222222222,
              "#7201a8"
             ],
             [
              0.3333333333333333,
              "#9c179e"
             ],
             [
              0.4444444444444444,
              "#bd3786"
             ],
             [
              0.5555555555555556,
              "#d8576b"
             ],
             [
              0.6666666666666666,
              "#ed7953"
             ],
             [
              0.7777777777777778,
              "#fb9f3a"
             ],
             [
              0.8888888888888888,
              "#fdca26"
             ],
             [
              1,
              "#f0f921"
             ]
            ],
            "type": "surface"
           }
          ],
          "table": [
           {
            "cells": {
             "fill": {
              "color": "#EBF0F8"
             },
             "line": {
              "color": "white"
             }
            },
            "header": {
             "fill": {
              "color": "#C8D4E3"
             },
             "line": {
              "color": "white"
             }
            },
            "type": "table"
           }
          ]
         },
         "layout": {
          "annotationdefaults": {
           "arrowcolor": "#2a3f5f",
           "arrowhead": 0,
           "arrowwidth": 1
          },
          "autotypenumbers": "strict",
          "coloraxis": {
           "colorbar": {
            "outlinewidth": 0,
            "ticks": ""
           }
          },
          "colorscale": {
           "diverging": [
            [
             0,
             "#8e0152"
            ],
            [
             0.1,
             "#c51b7d"
            ],
            [
             0.2,
             "#de77ae"
            ],
            [
             0.3,
             "#f1b6da"
            ],
            [
             0.4,
             "#fde0ef"
            ],
            [
             0.5,
             "#f7f7f7"
            ],
            [
             0.6,
             "#e6f5d0"
            ],
            [
             0.7,
             "#b8e186"
            ],
            [
             0.8,
             "#7fbc41"
            ],
            [
             0.9,
             "#4d9221"
            ],
            [
             1,
             "#276419"
            ]
           ],
           "sequential": [
            [
             0,
             "#0d0887"
            ],
            [
             0.1111111111111111,
             "#46039f"
            ],
            [
             0.2222222222222222,
             "#7201a8"
            ],
            [
             0.3333333333333333,
             "#9c179e"
            ],
            [
             0.4444444444444444,
             "#bd3786"
            ],
            [
             0.5555555555555556,
             "#d8576b"
            ],
            [
             0.6666666666666666,
             "#ed7953"
            ],
            [
             0.7777777777777778,
             "#fb9f3a"
            ],
            [
             0.8888888888888888,
             "#fdca26"
            ],
            [
             1,
             "#f0f921"
            ]
           ],
           "sequentialminus": [
            [
             0,
             "#0d0887"
            ],
            [
             0.1111111111111111,
             "#46039f"
            ],
            [
             0.2222222222222222,
             "#7201a8"
            ],
            [
             0.3333333333333333,
             "#9c179e"
            ],
            [
             0.4444444444444444,
             "#bd3786"
            ],
            [
             0.5555555555555556,
             "#d8576b"
            ],
            [
             0.6666666666666666,
             "#ed7953"
            ],
            [
             0.7777777777777778,
             "#fb9f3a"
            ],
            [
             0.8888888888888888,
             "#fdca26"
            ],
            [
             1,
             "#f0f921"
            ]
           ]
          },
          "colorway": [
           "#636efa",
           "#EF553B",
           "#00cc96",
           "#ab63fa",
           "#FFA15A",
           "#19d3f3",
           "#FF6692",
           "#B6E880",
           "#FF97FF",
           "#FECB52"
          ],
          "font": {
           "color": "#2a3f5f"
          },
          "geo": {
           "bgcolor": "white",
           "lakecolor": "white",
           "landcolor": "#E5ECF6",
           "showlakes": true,
           "showland": true,
           "subunitcolor": "white"
          },
          "hoverlabel": {
           "align": "left"
          },
          "hovermode": "closest",
          "mapbox": {
           "style": "light"
          },
          "paper_bgcolor": "white",
          "plot_bgcolor": "#E5ECF6",
          "polar": {
           "angularaxis": {
            "gridcolor": "white",
            "linecolor": "white",
            "ticks": ""
           },
           "bgcolor": "#E5ECF6",
           "radialaxis": {
            "gridcolor": "white",
            "linecolor": "white",
            "ticks": ""
           }
          },
          "scene": {
           "xaxis": {
            "backgroundcolor": "#E5ECF6",
            "gridcolor": "white",
            "gridwidth": 2,
            "linecolor": "white",
            "showbackground": true,
            "ticks": "",
            "zerolinecolor": "white"
           },
           "yaxis": {
            "backgroundcolor": "#E5ECF6",
            "gridcolor": "white",
            "gridwidth": 2,
            "linecolor": "white",
            "showbackground": true,
            "ticks": "",
            "zerolinecolor": "white"
           },
           "zaxis": {
            "backgroundcolor": "#E5ECF6",
            "gridcolor": "white",
            "gridwidth": 2,
            "linecolor": "white",
            "showbackground": true,
            "ticks": "",
            "zerolinecolor": "white"
           }
          },
          "shapedefaults": {
           "line": {
            "color": "#2a3f5f"
           }
          },
          "ternary": {
           "aaxis": {
            "gridcolor": "white",
            "linecolor": "white",
            "ticks": ""
           },
           "baxis": {
            "gridcolor": "white",
            "linecolor": "white",
            "ticks": ""
           },
           "bgcolor": "#E5ECF6",
           "caxis": {
            "gridcolor": "white",
            "linecolor": "white",
            "ticks": ""
           }
          },
          "title": {
           "x": 0.05
          },
          "xaxis": {
           "automargin": true,
           "gridcolor": "white",
           "linecolor": "white",
           "ticks": "",
           "title": {
            "standoff": 15
           },
           "zerolinecolor": "white",
           "zerolinewidth": 2
          },
          "yaxis": {
           "automargin": true,
           "gridcolor": "white",
           "linecolor": "white",
           "ticks": "",
           "title": {
            "standoff": 15
           },
           "zerolinecolor": "white",
           "zerolinewidth": 2
          }
         }
        },
        "title": {
         "text": " Reupload with 5 Layers"
        }
       }
      }
     },
     "metadata": {},
     "output_type": "display_data"
    }
   ],
   "source": [
    "px.scatter_3d(x=x_testdf.iloc[:,0],y=x_testdf.iloc[:,1],z=x_testdf.iloc[:,2], color= y_pred, title=\" Reupload with 5 Layers\")"
   ]
  },
  {
   "cell_type": "code",
   "execution_count": 445,
   "metadata": {},
   "outputs": [],
   "source": [
    "class QRF:\n",
    "\n",
    " \n",
    "    x_bags = []\n",
    "    y_bags =[]\n",
    "    QDT = []\n",
    "    no_QDT=0\n",
    "    depth =0\n",
    "    sensetivity = 0\n",
    "\n",
    "\n",
    "    def __init__(self, x_train, y_train,  no_QDT, depth =2, sensetivity=0.2 ):\n",
    "\n",
    "        self.X_train= x_train\n",
    "        self.y_train= y_train\n",
    "        self.no_QDT = no_QDT\n",
    "        self.depth = depth\n",
    "        self.x_bags = [[] for j in range(no_QDT)]\n",
    "        self.y_bags = [[] for j in range(no_QDT)]\n",
    "        self.QDT = []\n",
    "        self.sensetivity = sensetivity\n",
    "\n",
    "\n",
    "      \n",
    "\n",
    "\n",
    "    def Create_Models(self):\n",
    "\n",
    "        for i in range(self.no_QDT):\n",
    "            self.QDT.append(Reuploader(dev,self.depth))\n",
    "\n",
    "    \n",
    "    def data_bagging(self):\n",
    "\n",
    "        k=0\n",
    "        \n",
    "        for j in range(self.no_QDT):\n",
    "            x_bags =  []\n",
    "            y_bags = []\n",
    "            for i in range(int(len(self.X_train)/self.no_QDT)):\n",
    "                \n",
    "                \n",
    "                x_bags.append(self.X_train[k])\n",
    "                y_bags.append(self.y_train[k])\n",
    "                k+=1\n",
    "            self.x_bags[j] = (x_bags)\n",
    "            self.y_bags[j] = (y_bags)\n",
    "            \n",
    "    \n",
    "    def train(self):\n",
    "    \n",
    "        self.data_bagging()\n",
    "        self.Create_Models()\n",
    "        print(self.no_QDT)\n",
    "        for i in range(len(self.QDT)):\n",
    "            print(f\" Training QDT no : {i+1}\")\n",
    "            self.QDT[i].fit(np.array(self.x_bags[i]),np.array(self.y_bags[i]))\n",
    "            \n",
    "    \n",
    "    def predict(self,x_test,y_test):\n",
    "        \n",
    "        individual_results = []\n",
    "        result = [3 for x in range(len(x_test))]\n",
    "        sum_of_results = [0 for y in range(len(x_test)) ]\n",
    "        for i  in range(len(self.QDT)):\n",
    "\n",
    "            individual_results.append(self.QDT[i].predict(x_test,y_test))\n",
    "            \n",
    "           \n",
    "\n",
    "            sum_of_results = sum_of_results + individual_results[i]\n",
    "       \n",
    "        for q in range(len(sum_of_results)):\n",
    "            \n",
    "\n",
    "            if sum_of_results[q]/self.no_QDT >= self.sensetivity:\n",
    "                \n",
    "                result[q] = 1\n",
    "            else:\n",
    "                result[q] = 0\n",
    "        print(sum_of_results)\n",
    "                \n",
    "\n",
    "        \n",
    "        \n",
    "        \n",
    "        return result,individual_results\n",
    "\n",
    "\n",
    "\n",
    "        \n",
    "\n",
    "\n",
    "\n",
    "\n",
    "        \n",
    "\n",
    "    \n",
    "        "
   ]
  },
  {
   "cell_type": "code",
   "execution_count": 756,
   "metadata": {},
   "outputs": [
    {
     "name": "stdout",
     "output_type": "stream",
     "text": [
      "2\n",
      " Training QDT no : 1\n",
      "Epoch:  1 | Loss: 0.054235 |  accuracy: 0.925000 \n",
      "Epoch:  2 | Loss: 0.053648 |  accuracy: 0.962500 \n",
      "Epoch:  3 | Loss: 0.044398 |  accuracy: 0.987500 \n",
      "Epoch:  4 | Loss: 0.027682 |  accuracy: 0.975000 \n",
      "Epoch:  5 | Loss: 0.032856 |  accuracy: 0.987500 \n",
      "Epoch:  6 | Loss: 0.039068 |  accuracy: 0.987500 \n",
      "Epoch:  7 | Loss: 0.034173 |  accuracy: 0.987500 \n",
      "Epoch:  8 | Loss: 0.026780 |  accuracy: 0.987500 \n",
      "Epoch:  9 | Loss: 0.030976 |  accuracy: 0.962500 \n",
      "Epoch: 10 | Loss: 0.032831 |  accuracy: 0.975000 \n",
      " Training QDT no : 2\n",
      "Epoch:  1 | Loss: 0.099238 |  accuracy: 0.837500 \n",
      "Epoch:  2 | Loss: 0.054440 |  accuracy: 0.937500 \n",
      "Epoch:  3 | Loss: 0.048498 |  accuracy: 0.962500 \n",
      "Epoch:  4 | Loss: 0.042303 |  accuracy: 0.975000 \n",
      "Epoch:  5 | Loss: 0.040405 |  accuracy: 0.962500 \n",
      "Epoch:  6 | Loss: 0.041120 |  accuracy: 0.950000 \n",
      "Epoch:  7 | Loss: 0.045615 |  accuracy: 0.950000 \n",
      "Epoch:  8 | Loss: 0.044014 |  accuracy: 0.950000 \n",
      "Epoch:  9 | Loss: 0.042866 |  accuracy: 0.950000 \n",
      "Epoch: 10 | Loss: 0.040388 |  accuracy: 0.950000 \n"
     ]
    }
   ],
   "source": [
    "qrf = QRF(X_train,y_train, no_QDT=2, sensetivity=0.5)\n",
    "\n",
    "qrf.train()\n"
   ]
  },
  {
   "cell_type": "code",
   "execution_count": 757,
   "metadata": {},
   "outputs": [
    {
     "name": "stdout",
     "output_type": "stream",
     "text": [
      "[0 0 0 0 0 0 0 0 0 0 0 2 0 0 0 0 0 1 0 0 0 0 2 1 0 0 0 0 0 0 0 0 0 0 0 0 0\n",
      " 0 0 0]\n"
     ]
    }
   ],
   "source": [
    "\n",
    "y_pred,y_ind = qrf.predict(X_test, y_test)\n"
   ]
  },
  {
   "cell_type": "code",
   "execution_count": 758,
   "metadata": {},
   "outputs": [
    {
     "name": "stdout",
     "output_type": "stream",
     "text": [
      "Recall(TP/FN+TP ):0.6666666666666666\n",
      "Precsion(TP/FP+TP): 1.0 \n",
      "F1 score function of presscion and recall:0.8 \n"
     ]
    },
    {
     "data": {
      "image/png": "[encoded data removed]",
      "text/plain": [
       "<Figure size 640x480 with 2 Axes>"
      ]
     },
     "metadata": {},
     "output_type": "display_data"
    }
   ],
   "source": [
    "conMtx = confusion_matrix(y_test,y_pred)\n",
    "sns.heatmap(conMtx)\n",
    "f1 = f1_score(y_test,y_pred)\n",
    "recall = recall_score(y_test,y_pred)\n",
    "pre = precision_score(y_test,y_pred)\n",
    "\n",
    "print(f\"Recall(TP/FN+TP ):{recall}\")\n",
    "print(f\"Precsion(TP/FP+TP): {pre} \")\n",
    "print(f\"F1 score function of presscion and recall:{f1} \")"
   ]
  },
  {
   "cell_type": "code",
   "execution_count": 759,
   "metadata": {},
   "outputs": [
    {
     "data": {
      "application/vnd.plotly.v1+json": {
       "config": {
        "plotlyServerURL": "https://plot.ly"
       },
       "data": [
        {
         "hovertemplate": "x=%{x}<br>y=%{y}<br>z=%{z}<br>color=%{marker.color}<extra></extra>",
         "legendgroup": "",
         "marker": {
          "color": [
           0,
           0,
           0,
           0,
           0,
           0,
           0,
           0,
           0,
           0,
           0,
           1,
           0,
           0,
           0,
           0,
           0,
           1,
           0,
           0,
           0,
           0,
           1,
           1,
           0,
           0,
           0,
           0,
           0,
           0,
           0,
           0,
           0,
           0,
           0,
           0,
           0,
           0,
           0,
           0
          ],
          "coloraxis": "coloraxis",
          "symbol": "circle"
         },
         "mode": "markers",
         "name": "",
         "scene": "scene",
         "showlegend": false,
         "type": "scatter3d",
         "x": [
          0.33650422090296445,
          -0.15969839317638007,
          0.6438523509028455,
          1.8081560227921039,
          0.6419115802110177,
          -0.6934663922315143,
          1.8416150258780306,
          -0.5848171354676147,
          0.5710142132582692,
          1.1140526933018386,
          -0.8186248081587115,
          -1.3008090095697844,
          -0.491155186663,
          -0.7078467828176649,
          -0.5652350761731297,
          0.296977110342903,
          0.24383355325366723,
          -0.9675842556236326,
          1.7518834310759854,
          -0.320546364301262,
          -0.2277476437440045,
          -1.5932422694508461,
          -1.3008174172670077,
          -0.9020945722458695,
          0.16448231154543583,
          0.1145784664772824,
          -1.7016883847779694,
          -0.974731665016524,
          -0.5975212833723696,
          0.5871562548840167,
          -1.0283397156925966,
          -0.409282367782827,
          0.10430506218675178,
          -0.4465712127832941,
          1.9196218714227524,
          0.6907041041232975,
          0.5957288645870652,
          -0.27039248667590965,
          1.130625697362713,
          -0.7492189224537285
         ],
         "y": [
          -0.6179652555368043,
          -0.4148971544083097,
          -0.11581523866084353,
          0.07392075915761293,
          -0.2245399836335081,
          0.5923501656061804,
          -0.5905961268213281,
          0.48253336733695557,
          -0.7280540465786176,
          0.5765804107516692,
          -1.0149028550503907,
          1.0883582456987266,
          -0.995872746442021,
          -0.893646720451371,
          1.5791344394342448,
          -0.4128711651701568,
          0.2331462594529898,
          1.5300990775692824,
          -0.7363538087346813,
          -0.45456534817157906,
          -0.4756328609169831,
          -0.233915733857786,
          1.5280226570438202,
          1.3474914978325123,
          0.4281802433721822,
          0.08492524590883577,
          -1.1084255004766892,
          -1.1908545764427438,
          -0.3700717262910689,
          -0.9908541786615059,
          -0.5380960450176631,
          1.232065471122223,
          -0.7825439013365475,
          -0.3833154631379269,
          0.14120949970077543,
          1.178911906223115,
          -1.1371739219881927,
          -0.12647442277117157,
          -0.8466591416475977,
          -0.716322701260593
         ],
         "z": [
          1.7204237137504639,
          1.086126643318191,
          -1.1488324430397818,
          -0.3859077261323981,
          -0.9188151295194134,
          1.157339093814028,
          -0.20227548766548456,
          0.5687951953548228,
          -0.5672541068608288,
          -0.5729213895235411,
          -1.2664056007160573,
          -1.5219117166113352,
          -0.9967595362145873,
          -0.817155643285486,
          0.24866925866291845,
          0.917635765730187,
          0.5121426580361745,
          -0.543817281364393,
          -0.35696476676312455,
          1.0347801393953362,
          0.38537937922607673,
          0.34676108092669977,
          -0.8753389877007604,
          -0.5072880497793577,
          0.37167096440083297,
          0.41185938290211094,
          -0.13462454388357592,
          -0.8486865998333124,
          0.668713027627191,
          -1.0280686271729689,
          -1.304771095990933,
          -0.20004108178899693,
          0.946695984244794,
          1.1387208840604228,
          -0.40564536019769587,
          -0.9920713092837821,
          0.9619602916606658,
          1.1902615582887939,
          -1.060464004511722,
          -1.1092798543199451
         ]
        }
       ],
       "layout": {
        "coloraxis": {
         "colorbar": {
          "title": {
           "text": "color"
          }
         },
         "colorscale": [
          [
           0,
           "#0d0887"
          ],
          [
           0.1111111111111111,
           "#46039f"
          ],
          [
           0.2222222222222222,
           "#7201a8"
          ],
          [
           0.3333333333333333,
           "#9c179e"
          ],
          [
           0.4444444444444444,
           "#bd3786"
          ],
          [
           0.5555555555555556,
           "#d8576b"
          ],
          [
           0.6666666666666666,
           "#ed7953"
          ],
          [
           0.7777777777777778,
           "#fb9f3a"
          ],
          [
           0.8888888888888888,
           "#fdca26"
          ],
          [
           1,
           "#f0f921"
          ]
         ]
        },
        "legend": {
         "tracegroupgap": 0
        },
        "scene": {
         "domain": {
          "x": [
           0,
           1
          ],
          "y": [
           0,
           1
          ]
         },
         "xaxis": {
          "title": {
           "text": "x"
          }
         },
         "yaxis": {
          "title": {
           "text": "y"
          }
         },
         "zaxis": {
          "title": {
           "text": "z"
          }
         }
        },
        "template": {
         "data": {
          "bar": [
           {
            "error_x": {
             "color": "#2a3f5f"
            },
            "error_y": {
             "color": "#2a3f5f"
            },
            "marker": {
             "line": {
              "color": "#E5ECF6",
              "width": 0.5
             },
             "pattern": {
              "fillmode": "overlay",
              "size": 10,
              "solidity": 0.2
             }
            },
            "type": "bar"
           }
          ],
          "barpolar": [
           {
            "marker": {
             "line": {
              "color": "#E5ECF6",
              "width": 0.5
             },
             "pattern": {
              "fillmode": "overlay",
              "size": 10,
              "solidity": 0.2
             }
            },
            "type": "barpolar"
           }
          ],
          "carpet": [
           {
            "aaxis": {
             "endlinecolor": "#2a3f5f",
             "gridcolor": "white",
             "linecolor": "white",
             "minorgridcolor": "white",
             "startlinecolor": "#2a3f5f"
            },
            "baxis": {
             "endlinecolor": "#2a3f5f",
             "gridcolor": "white",
             "linecolor": "white",
             "minorgridcolor": "white",
             "startlinecolor": "#2a3f5f"
            },
            "type": "carpet"
           }
          ],
          "choropleth": [
           {
            "colorbar": {
             "outlinewidth": 0,
             "ticks": ""
            },
            "type": "choropleth"
           }
          ],
          "contour": [
           {
            "colorbar": {
             "outlinewidth": 0,
             "ticks": ""
            },
            "colorscale": [
             [
              0,
              "#0d0887"
             ],
             [
              0.1111111111111111,
              "#46039f"
             ],
             [
              0.2222222222222222,
              "#7201a8"
             ],
             [
              0.3333333333333333,
              "#9c179e"
             ],
             [
              0.4444444444444444,
              "#bd3786"
             ],
             [
              0.5555555555555556,
              "#d8576b"
             ],
             [
              0.6666666666666666,
              "#ed7953"
             ],
             [
              0.7777777777777778,
              "#fb9f3a"
             ],
             [
              0.8888888888888888,
              "#fdca26"
             ],
             [
              1,
              "#f0f921"
             ]
            ],
            "type": "contour"
           }
          ],
          "contourcarpet": [
           {
            "colorbar": {
             "outlinewidth": 0,
             "ticks": ""
            },
            "type": "contourcarpet"
           }
          ],
          "heatmap": [
           {
            "colorbar": {
             "outlinewidth": 0,
             "ticks": ""
            },
            "colorscale": [
             [
              0,
              "#0d0887"
             ],
             [
              0.1111111111111111,
              "#46039f"
             ],
             [
              0.2222222222222222,
              "#7201a8"
             ],
             [
              0.3333333333333333,
              "#9c179e"
             ],
             [
              0.4444444444444444,
              "#bd3786"
             ],
             [
              0.5555555555555556,
              "#d8576b"
             ],
             [
              0.6666666666666666,
              "#ed7953"
             ],
             [
              0.7777777777777778,
              "#fb9f3a"
             ],
             [
              0.8888888888888888,
              "#fdca26"
             ],
             [
              1,
              "#f0f921"
             ]
            ],
            "type": "heatmap"
           }
          ],
          "heatmapgl": [
           {
            "colorbar": {
             "outlinewidth": 0,
             "ticks": ""
            },
            "colorscale": [
             [
              0,
              "#0d0887"
             ],
             [
              0.1111111111111111,
              "#46039f"
             ],
             [
              0.2222222222222222,
              "#7201a8"
             ],
             [
              0.3333333333333333,
              "#9c179e"
             ],
             [
              0.4444444444444444,
              "#bd3786"
             ],
             [
              0.5555555555555556,
              "#d8576b"
             ],
             [
              0.6666666666666666,
              "#ed7953"
             ],
             [
              0.7777777777777778,
              "#fb9f3a"
             ],
             [
              0.8888888888888888,
              "#fdca26"
             ],
             [
              1,
              "#f0f921"
             ]
            ],
            "type": "heatmapgl"
           }
          ],
          "histogram": [
           {
            "marker": {
             "pattern": {
              "fillmode": "overlay",
              "size": 10,
              "solidity": 0.2
             }
            },
            "type": "histogram"
           }
          ],
          "histogram2d": [
           {
            "colorbar": {
             "outlinewidth": 0,
             "ticks": ""
            },
            "colorscale": [
             [
              0,
              "#0d0887"
             ],
             [
              0.1111111111111111,
              "#46039f"
             ],
             [
              0.2222222222222222,
              "#7201a8"
             ],
             [
              0.3333333333333333,
              "#9c179e"
             ],
             [
              0.4444444444444444,
              "#bd3786"
             ],
             [
              0.5555555555555556,
              "#d8576b"
             ],
             [
              0.6666666666666666,
              "#ed7953"
             ],
             [
              0.7777777777777778,
              "#fb9f3a"
             ],
             [
              0.8888888888888888,
              "#fdca26"
             ],
             [
              1,
              "#f0f921"
             ]
            ],
            "type": "histogram2d"
           }
          ],
          "histogram2dcontour": [
           {
            "colorbar": {
             "outlinewidth": 0,
             "ticks": ""
            },
            "colorscale": [
             [
              0,
              "#0d0887"
             ],
             [
              0.1111111111111111,
              "#46039f"
             ],
             [
              0.2222222222222222,
              "#7201a8"
             ],
             [
              0.3333333333333333,
              "#9c179e"
             ],
             [
              0.4444444444444444,
              "#bd3786"
             ],
             [
              0.5555555555555556,
              "#d8576b"
             ],
             [
              0.6666666666666666,
              "#ed7953"
             ],
             [
              0.7777777777777778,
              "#fb9f3a"
             ],
             [
              0.8888888888888888,
              "#fdca26"
             ],
             [
              1,
              "#f0f921"
             ]
            ],
            "type": "histogram2dcontour"
           }
          ],
          "mesh3d": [
           {
            "colorbar": {
             "outlinewidth": 0,
             "ticks": ""
            },
            "type": "mesh3d"
           }
          ],
          "parcoords": [
           {
            "line": {
             "colorbar": {
              "outlinewidth": 0,
              "ticks": ""
             }
            },
            "type": "parcoords"
           }
          ],
          "pie": [
           {
            "automargin": true,
            "type": "pie"
           }
          ],
          "scatter": [
           {
            "fillpattern": {
             "fillmode": "overlay",
             "size": 10,
             "solidity": 0.2
            },
            "type": "scatter"
           }
          ],
          "scatter3d": [
           {
            "line": {
             "colorbar": {
              "outlinewidth": 0,
              "ticks": ""
             }
            },
            "marker": {
             "colorbar": {
              "outlinewidth": 0,
              "ticks": ""
             }
            },
            "type": "scatter3d"
           }
          ],
          "scattercarpet": [
           {
            "marker": {
             "colorbar": {
              "outlinewidth": 0,
              "ticks": ""
             }
            },
            "type": "scattercarpet"
           }
          ],
          "scattergeo": [
           {
            "marker": {
             "colorbar": {
              "outlinewidth": 0,
              "ticks": ""
             }
            },
            "type": "scattergeo"
           }
          ],
          "scattergl": [
           {
            "marker": {
             "colorbar": {
              "outlinewidth": 0,
              "ticks": ""
             }
            },
            "type": "scattergl"
           }
          ],
          "scattermapbox": [
           {
            "marker": {
             "colorbar": {
              "outlinewidth": 0,
              "ticks": ""
             }
            },
            "type": "scattermapbox"
           }
          ],
          "scatterpolar": [
           {
            "marker": {
             "colorbar": {
              "outlinewidth": 0,
              "ticks": ""
             }
            },
            "type": "scatterpolar"
           }
          ],
          "scatterpolargl": [
           {
            "marker": {
             "colorbar": {
              "outlinewidth": 0,
              "ticks": ""
             }
            },
            "type": "scatterpolargl"
           }
          ],
          "scatterternary": [
           {
            "marker": {
             "colorbar": {
              "outlinewidth": 0,
              "ticks": ""
             }
            },
            "type": "scatterternary"
           }
          ],
          "surface": [
           {
            "colorbar": {
             "outlinewidth": 0,
             "ticks": ""
            },
            "colorscale": [
             [
              0,
              "#0d0887"
             ],
             [
              0.1111111111111111,
              "#46039f"
             ],
             [
              0.2222222222222222,
              "#7201a8"
             ],
             [
              0.3333333333333333,
              "#9c179e"
             ],
             [
              0.4444444444444444,
              "#bd3786"
             ],
             [
              0.5555555555555556,
              "#d8576b"
             ],
             [
              0.6666666666666666,
              "#ed7953"
             ],
             [
              0.7777777777777778,
              "#fb9f3a"
             ],
             [
              0.8888888888888888,
              "#fdca26"
             ],
             [
              1,
              "#f0f921"
             ]
            ],
            "type": "surface"
           }
          ],
          "table": [
           {
            "cells": {
             "fill": {
              "color": "#EBF0F8"
             },
             "line": {
              "color": "white"
             }
            },
            "header": {
             "fill": {
              "color": "#C8D4E3"
             },
             "line": {
              "color": "white"
             }
            },
            "type": "table"
           }
          ]
         },
         "layout": {
          "annotationdefaults": {
           "arrowcolor": "#2a3f5f",
           "arrowhead": 0,
           "arrowwidth": 1
          },
          "autotypenumbers": "strict",
          "coloraxis": {
           "colorbar": {
            "outlinewidth": 0,
            "ticks": ""
           }
          },
          "colorscale": {
           "diverging": [
            [
             0,
             "#8e0152"
            ],
            [
             0.1,
             "#c51b7d"
            ],
            [
             0.2,
             "#de77ae"
            ],
            [
             0.3,
             "#f1b6da"
            ],
            [
             0.4,
             "#fde0ef"
            ],
            [
             0.5,
             "#f7f7f7"
            ],
            [
             0.6,
             "#e6f5d0"
            ],
            [
             0.7,
             "#b8e186"
            ],
            [
             0.8,
             "#7fbc41"
            ],
            [
             0.9,
             "#4d9221"
            ],
            [
             1,
             "#276419"
            ]
           ],
           "sequential": [
            [
             0,
             "#0d0887"
            ],
            [
             0.1111111111111111,
             "#46039f"
            ],
            [
             0.2222222222222222,
             "#7201a8"
            ],
            [
             0.3333333333333333,
             "#9c179e"
            ],
            [
             0.4444444444444444,
             "#bd3786"
            ],
            [
             0.5555555555555556,
             "#d8576b"
            ],
            [
             0.6666666666666666,
             "#ed7953"
            ],
            [
             0.7777777777777778,
             "#fb9f3a"
            ],
            [
             0.8888888888888888,
             "#fdca26"
            ],
            [
             1,
             "#f0f921"
            ]
           ],
           "sequentialminus": [
            [
             0,
             "#0d0887"
            ],
            [
             0.1111111111111111,
             "#46039f"
            ],
            [
             0.2222222222222222,
             "#7201a8"
            ],
            [
             0.3333333333333333,
             "#9c179e"
            ],
            [
             0.4444444444444444,
             "#bd3786"
            ],
            [
             0.5555555555555556,
             "#d8576b"
            ],
            [
             0.6666666666666666,
             "#ed7953"
            ],
            [
             0.7777777777777778,
             "#fb9f3a"
            ],
            [
             0.8888888888888888,
             "#fdca26"
            ],
            [
             1,
             "#f0f921"
            ]
           ]
          },
          "colorway": [
           "#636efa",
           "#EF553B",
           "#00cc96",
           "#ab63fa",
           "#FFA15A",
           "#19d3f3",
           "#FF6692",
           "#B6E880",
           "#FF97FF",
           "#FECB52"
          ],
          "font": {
           "color": "#2a3f5f"
          },
          "geo": {
           "bgcolor": "white",
           "lakecolor": "white",
           "landcolor": "#E5ECF6",
           "showlakes": true,
           "showland": true,
           "subunitcolor": "white"
          },
          "hoverlabel": {
           "align": "left"
          },
          "hovermode": "closest",
          "mapbox": {
           "style": "light"
          },
          "paper_bgcolor": "white",
          "plot_bgcolor": "#E5ECF6",
          "polar": {
           "angularaxis": {
            "gridcolor": "white",
            "linecolor": "white",
            "ticks": ""
           },
           "bgcolor": "#E5ECF6",
           "radialaxis": {
            "gridcolor": "white",
            "linecolor": "white",
            "ticks": ""
           }
          },
          "scene": {
           "xaxis": {
            "backgroundcolor": "#E5ECF6",
            "gridcolor": "white",
            "gridwidth": 2,
            "linecolor": "white",
            "showbackground": true,
            "ticks": "",
            "zerolinecolor": "white"
           },
           "yaxis": {
            "backgroundcolor": "#E5ECF6",
            "gridcolor": "white",
            "gridwidth": 2,
            "linecolor": "white",
            "showbackground": true,
            "ticks": "",
            "zerolinecolor": "white"
           },
           "zaxis": {
            "backgroundcolor": "#E5ECF6",
            "gridcolor": "white",
            "gridwidth": 2,
            "linecolor": "white",
            "showbackground": true,
            "ticks": "",
            "zerolinecolor": "white"
           }
          },
          "shapedefaults": {
           "line": {
            "color": "#2a3f5f"
           }
          },
          "ternary": {
           "aaxis": {
            "gridcolor": "white",
            "linecolor": "white",
            "ticks": ""
           },
           "baxis": {
            "gridcolor": "white",
            "linecolor": "white",
            "ticks": ""
           },
           "bgcolor": "#E5ECF6",
           "caxis": {
            "gridcolor": "white",
            "linecolor": "white",
            "ticks": ""
           }
          },
          "title": {
           "x": 0.05
          },
          "xaxis": {
           "automargin": true,
           "gridcolor": "white",
           "linecolor": "white",
           "ticks": "",
           "title": {
            "standoff": 15
           },
           "zerolinecolor": "white",
           "zerolinewidth": 2
          },
          "yaxis": {
           "automargin": true,
           "gridcolor": "white",
           "linecolor": "white",
           "ticks": "",
           "title": {
            "standoff": 15
           },
           "zerolinecolor": "white",
           "zerolinewidth": 2
          }
         }
        },
        "title": {
         "text": "QRF with 2 QDT"
        }
       }
      }
     },
     "metadata": {},
     "output_type": "display_data"
    }
   ],
   "source": [
    "px.scatter_3d(x=x_testdf.iloc[:,0],y=x_testdf.iloc[:,1],z=x_testdf.iloc[:,2], color= y_pred, title=\"QRF with 2 QDT\")"
   ]
  },
  {
   "cell_type": "code",
   "execution_count": 760,
   "metadata": {},
   "outputs": [
    {
     "name": "stdout",
     "output_type": "stream",
     "text": [
      "3\n",
      " Training QDT no : 1\n",
      "Epoch:  1 | Loss: 0.053488 |  accuracy: 0.943396 \n",
      "Epoch:  2 | Loss: 0.067712 |  accuracy: 0.905660 \n",
      "Epoch:  3 | Loss: 0.036446 |  accuracy: 0.962264 \n",
      "Epoch:  4 | Loss: 0.033329 |  accuracy: 0.981132 \n",
      "Epoch:  5 | Loss: 0.039511 |  accuracy: 0.943396 \n",
      "Epoch:  6 | Loss: 0.041002 |  accuracy: 0.943396 \n",
      "Epoch:  7 | Loss: 0.039706 |  accuracy: 0.962264 \n",
      "Epoch:  8 | Loss: 0.037722 |  accuracy: 0.981132 \n",
      "Epoch:  9 | Loss: 0.035971 |  accuracy: 0.981132 \n",
      "Epoch: 10 | Loss: 0.035406 |  accuracy: 0.962264 \n",
      " Training QDT no : 2\n",
      "Epoch:  1 | Loss: 0.085222 |  accuracy: 0.849057 \n",
      "Epoch:  2 | Loss: 0.064337 |  accuracy: 0.924528 \n",
      "Epoch:  3 | Loss: 0.063040 |  accuracy: 0.962264 \n",
      "Epoch:  4 | Loss: 0.056102 |  accuracy: 0.943396 \n",
      "Epoch:  5 | Loss: 0.058519 |  accuracy: 0.924528 \n",
      "Epoch:  6 | Loss: 0.064289 |  accuracy: 0.924528 \n",
      "Epoch:  7 | Loss: 0.055537 |  accuracy: 0.962264 \n",
      "Epoch:  8 | Loss: 0.048760 |  accuracy: 0.981132 \n",
      "Epoch:  9 | Loss: 0.049072 |  accuracy: 0.981132 \n",
      "Epoch: 10 | Loss: 0.052684 |  accuracy: 0.962264 \n",
      " Training QDT no : 3\n",
      "Epoch:  1 | Loss: 0.121646 |  accuracy: 0.792453 \n",
      "Epoch:  2 | Loss: 0.094493 |  accuracy: 0.849057 \n",
      "Epoch:  3 | Loss: 0.075649 |  accuracy: 0.905660 \n",
      "Epoch:  4 | Loss: 0.066211 |  accuracy: 0.924528 \n",
      "Epoch:  5 | Loss: 0.062799 |  accuracy: 0.943396 \n",
      "Epoch:  6 | Loss: 0.056853 |  accuracy: 0.943396 \n",
      "Epoch:  7 | Loss: 0.065244 |  accuracy: 0.943396 \n",
      "Epoch:  8 | Loss: 0.066110 |  accuracy: 0.943396 \n",
      "Epoch:  9 | Loss: 0.043434 |  accuracy: 0.962264 \n",
      "Epoch: 10 | Loss: 0.033212 |  accuracy: 0.981132 \n",
      "[0 0 0 0 0 0 0 0 0 0 2 3 0 0 0 0 0 3 0 0 0 0 3 2 0 0 2 2 0 0 0 0 0 0 0 0 0\n",
      " 0 0 0]\n",
      "Recall(TP/FN+TP ):0.6666666666666666\n",
      "Precsion(TP/FP+TP): 0.5714285714285714 \n",
      "F1 score function of presscion and recall:0.6153846153846153 \n"
     ]
    },
    {
     "data": {
      "image/png": "[encoded data removed]",
      "text/plain": [
       "<Figure size 640x480 with 2 Axes>"
      ]
     },
     "metadata": {},
     "output_type": "display_data"
    }
   ],
   "source": [
    "qrf = QRF(X_train,y_train, no_QDT=3, sensetivity=0.5)\n",
    "\n",
    "qrf.train()\n",
    "y_pred,individual_y = qrf.predict(X_test, y_test)\n",
    "conMtx = confusion_matrix(y_test,y_pred)\n",
    "\n",
    "sns.heatmap(conMtx)\n",
    "f1 = f1_score(y_test,y_pred)\n",
    "recall = recall_score(y_test,y_pred)\n",
    "pre = precision_score(y_test,y_pred)\n",
    "\n",
    "print(f\"Recall(TP/FN+TP ):{recall}\")\n",
    "print(f\"Precsion(TP/FP+TP): {pre} \")\n",
    "print(f\"F1 score function of presscion and recall:{f1} \")"
   ]
  },
  {
   "cell_type": "code",
   "execution_count": 761,
   "metadata": {},
   "outputs": [
    {
     "data": {
      "application/vnd.plotly.v1+json": {
       "config": {
        "plotlyServerURL": "https://plot.ly"
       },
       "data": [
        {
         "hovertemplate": "x=%{x}<br>y=%{y}<br>z=%{z}<br>color=%{marker.color}<extra></extra>",
         "legendgroup": "",
         "marker": {
          "color": [
           0,
           0,
           0,
           0,
           0,
           0,
           0,
           0,
           0,
           0,
           1,
           1,
           0,
           0,
           0,
           0,
           0,
           1,
           0,
           0,
           0,
           0,
           1,
           1,
           0,
           0,
           1,
           1,
           0,
           0,
           0,
           0,
           0,
           0,
           0,
           0,
           0,
           0,
           0,
           0
          ],
          "coloraxis": "coloraxis",
          "symbol": "circle"
         },
         "mode": "markers",
         "name": "",
         "scene": "scene",
         "showlegend": false,
         "type": "scatter3d",
         "x": [
          0.33650422090296445,
          -0.15969839317638007,
          0.6438523509028455,
          1.8081560227921039,
          0.6419115802110177,
          -0.6934663922315143,
          1.8416150258780306,
          -0.5848171354676147,
          0.5710142132582692,
          1.1140526933018386,
          -0.8186248081587115,
          -1.3008090095697844,
          -0.491155186663,
          -0.7078467828176649,
          -0.5652350761731297,
          0.296977110342903,
          0.24383355325366723,
          -0.9675842556236326,
          1.7518834310759854,
          -0.320546364301262,
          -0.2277476437440045,
          -1.5932422694508461,
          -1.3008174172670077,
          -0.9020945722458695,
          0.16448231154543583,
          0.1145784664772824,
          -1.7016883847779694,
          -0.974731665016524,
          -0.5975212833723696,
          0.5871562548840167,
          -1.0283397156925966,
          -0.409282367782827,
          0.10430506218675178,
          -0.4465712127832941,
          1.9196218714227524,
          0.6907041041232975,
          0.5957288645870652,
          -0.27039248667590965,
          1.130625697362713,
          -0.7492189224537285
         ],
         "y": [
          -0.6179652555368043,
          -0.4148971544083097,
          -0.11581523866084353,
          0.07392075915761293,
          -0.2245399836335081,
          0.5923501656061804,
          -0.5905961268213281,
          0.48253336733695557,
          -0.7280540465786176,
          0.5765804107516692,
          -1.0149028550503907,
          1.0883582456987266,
          -0.995872746442021,
          -0.893646720451371,
          1.5791344394342448,
          -0.4128711651701568,
          0.2331462594529898,
          1.5300990775692824,
          -0.7363538087346813,
          -0.45456534817157906,
          -0.4756328609169831,
          -0.233915733857786,
          1.5280226570438202,
          1.3474914978325123,
          0.4281802433721822,
          0.08492524590883577,
          -1.1084255004766892,
          -1.1908545764427438,
          -0.3700717262910689,
          -0.9908541786615059,
          -0.5380960450176631,
          1.232065471122223,
          -0.7825439013365475,
          -0.3833154631379269,
          0.14120949970077543,
          1.178911906223115,
          -1.1371739219881927,
          -0.12647442277117157,
          -0.8466591416475977,
          -0.716322701260593
         ],
         "z": [
          1.7204237137504639,
          1.086126643318191,
          -1.1488324430397818,
          -0.3859077261323981,
          -0.9188151295194134,
          1.157339093814028,
          -0.20227548766548456,
          0.5687951953548228,
          -0.5672541068608288,
          -0.5729213895235411,
          -1.2664056007160573,
          -1.5219117166113352,
          -0.9967595362145873,
          -0.817155643285486,
          0.24866925866291845,
          0.917635765730187,
          0.5121426580361745,
          -0.543817281364393,
          -0.35696476676312455,
          1.0347801393953362,
          0.38537937922607673,
          0.34676108092669977,
          -0.8753389877007604,
          -0.5072880497793577,
          0.37167096440083297,
          0.41185938290211094,
          -0.13462454388357592,
          -0.8486865998333124,
          0.668713027627191,
          -1.0280686271729689,
          -1.304771095990933,
          -0.20004108178899693,
          0.946695984244794,
          1.1387208840604228,
          -0.40564536019769587,
          -0.9920713092837821,
          0.9619602916606658,
          1.1902615582887939,
          -1.060464004511722,
          -1.1092798543199451
         ]
        }
       ],
       "layout": {
        "coloraxis": {
         "colorbar": {
          "title": {
           "text": "color"
          }
         },
         "colorscale": [
          [
           0,
           "#0d0887"
          ],
          [
           0.1111111111111111,
           "#46039f"
          ],
          [
           0.2222222222222222,
           "#7201a8"
          ],
          [
           0.3333333333333333,
           "#9c179e"
          ],
          [
           0.4444444444444444,
           "#bd3786"
          ],
          [
           0.5555555555555556,
           "#d8576b"
          ],
          [
           0.6666666666666666,
           "#ed7953"
          ],
          [
           0.7777777777777778,
           "#fb9f3a"
          ],
          [
           0.8888888888888888,
           "#fdca26"
          ],
          [
           1,
           "#f0f921"
          ]
         ]
        },
        "legend": {
         "tracegroupgap": 0
        },
        "scene": {
         "domain": {
          "x": [
           0,
           1
          ],
          "y": [
           0,
           1
          ]
         },
         "xaxis": {
          "title": {
           "text": "x"
          }
         },
         "yaxis": {
          "title": {
           "text": "y"
          }
         },
         "zaxis": {
          "title": {
           "text": "z"
          }
         }
        },
        "template": {
         "data": {
          "bar": [
           {
            "error_x": {
             "color": "#2a3f5f"
            },
            "error_y": {
             "color": "#2a3f5f"
            },
            "marker": {
             "line": {
              "color": "#E5ECF6",
              "width": 0.5
             },
             "pattern": {
              "fillmode": "overlay",
              "size": 10,
              "solidity": 0.2
             }
            },
            "type": "bar"
           }
          ],
          "barpolar": [
           {
            "marker": {
             "line": {
              "color": "#E5ECF6",
              "width": 0.5
             },
             "pattern": {
              "fillmode": "overlay",
              "size": 10,
              "solidity": 0.2
             }
            },
            "type": "barpolar"
           }
          ],
          "carpet": [
           {
            "aaxis": {
             "endlinecolor": "#2a3f5f",
             "gridcolor": "white",
             "linecolor": "white",
             "minorgridcolor": "white",
             "startlinecolor": "#2a3f5f"
            },
            "baxis": {
             "endlinecolor": "#2a3f5f",
             "gridcolor": "white",
             "linecolor": "white",
             "minorgridcolor": "white",
             "startlinecolor": "#2a3f5f"
            },
            "type": "carpet"
           }
          ],
          "choropleth": [
           {
            "colorbar": {
             "outlinewidth": 0,
             "ticks": ""
            },
            "type": "choropleth"
           }
          ],
          "contour": [
           {
            "colorbar": {
             "outlinewidth": 0,
             "ticks": ""
            },
            "colorscale": [
             [
              0,
              "#0d0887"
             ],
             [
              0.1111111111111111,
              "#46039f"
             ],
             [
              0.2222222222222222,
              "#7201a8"
             ],
             [
              0.3333333333333333,
              "#9c179e"
             ],
             [
              0.4444444444444444,
              "#bd3786"
             ],
             [
              0.5555555555555556,
              "#d8576b"
             ],
             [
              0.6666666666666666,
              "#ed7953"
             ],
             [
              0.7777777777777778,
              "#fb9f3a"
             ],
             [
              0.8888888888888888,
              "#fdca26"
             ],
             [
              1,
              "#f0f921"
             ]
            ],
            "type": "contour"
           }
          ],
          "contourcarpet": [
           {
            "colorbar": {
             "outlinewidth": 0,
             "ticks": ""
            },
            "type": "contourcarpet"
           }
          ],
          "heatmap": [
           {
            "colorbar": {
             "outlinewidth": 0,
             "ticks": ""
            },
            "colorscale": [
             [
              0,
              "#0d0887"
             ],
             [
              0.1111111111111111,
              "#46039f"
             ],
             [
              0.2222222222222222,
              "#7201a8"
             ],
             [
              0.3333333333333333,
              "#9c179e"
             ],
             [
              0.4444444444444444,
              "#bd3786"
             ],
             [
              0.5555555555555556,
              "#d8576b"
             ],
             [
              0.6666666666666666,
              "#ed7953"
             ],
             [
              0.7777777777777778,
              "#fb9f3a"
             ],
             [
              0.8888888888888888,
              "#fdca26"
             ],
             [
              1,
              "#f0f921"
             ]
            ],
            "type": "heatmap"
           }
          ],
          "heatmapgl": [
           {
            "colorbar": {
             "outlinewidth": 0,
             "ticks": ""
            },
            "colorscale": [
             [
              0,
              "#0d0887"
             ],
             [
              0.1111111111111111,
              "#46039f"
             ],
             [
              0.2222222222222222,
              "#7201a8"
             ],
             [
              0.3333333333333333,
              "#9c179e"
             ],
             [
              0.4444444444444444,
              "#bd3786"
             ],
             [
              0.5555555555555556,
              "#d8576b"
             ],
             [
              0.6666666666666666,
              "#ed7953"
             ],
             [
              0.7777777777777778,
              "#fb9f3a"
             ],
             [
              0.8888888888888888,
              "#fdca26"
             ],
             [
              1,
              "#f0f921"
             ]
            ],
            "type": "heatmapgl"
           }
          ],
          "histogram": [
           {
            "marker": {
             "pattern": {
              "fillmode": "overlay",
              "size": 10,
              "solidity": 0.2
             }
            },
            "type": "histogram"
           }
          ],
          "histogram2d": [
           {
            "colorbar": {
             "outlinewidth": 0,
             "ticks": ""
            },
            "colorscale": [
             [
              0,
              "#0d0887"
             ],
             [
              0.1111111111111111,
              "#46039f"
             ],
             [
              0.2222222222222222,
              "#7201a8"
             ],
             [
              0.3333333333333333,
              "#9c179e"
             ],
             [
              0.4444444444444444,
              "#bd3786"
             ],
             [
              0.5555555555555556,
              "#d8576b"
             ],
             [
              0.6666666666666666,
              "#ed7953"
             ],
             [
              0.7777777777777778,
              "#fb9f3a"
             ],
             [
              0.8888888888888888,
              "#fdca26"
             ],
             [
              1,
              "#f0f921"
             ]
            ],
            "type": "histogram2d"
           }
          ],
          "histogram2dcontour": [
           {
            "colorbar": {
             "outlinewidth": 0,
             "ticks": ""
            },
            "colorscale": [
             [
              0,
              "#0d0887"
             ],
             [
              0.1111111111111111,
              "#46039f"
             ],
             [
              0.2222222222222222,
              "#7201a8"
             ],
             [
              0.3333333333333333,
              "#9c179e"
             ],
             [
              0.4444444444444444,
              "#bd3786"
             ],
             [
              0.5555555555555556,
              "#d8576b"
             ],
             [
              0.6666666666666666,
              "#ed7953"
             ],
             [
              0.7777777777777778,
              "#fb9f3a"
             ],
             [
              0.8888888888888888,
              "#fdca26"
             ],
             [
              1,
              "#f0f921"
             ]
            ],
            "type": "histogram2dcontour"
           }
          ],
          "mesh3d": [
           {
            "colorbar": {
             "outlinewidth": 0,
             "ticks": ""
            },
            "type": "mesh3d"
           }
          ],
          "parcoords": [
           {
            "line": {
             "colorbar": {
              "outlinewidth": 0,
              "ticks": ""
             }
            },
            "type": "parcoords"
           }
          ],
          "pie": [
           {
            "automargin": true,
            "type": "pie"
           }
          ],
          "scatter": [
           {
            "fillpattern": {
             "fillmode": "overlay",
             "size": 10,
             "solidity": 0.2
            },
            "type": "scatter"
           }
          ],
          "scatter3d": [
           {
            "line": {
             "colorbar": {
              "outlinewidth": 0,
              "ticks": ""
             }
            },
            "marker": {
             "colorbar": {
              "outlinewidth": 0,
              "ticks": ""
             }
            },
            "type": "scatter3d"
           }
          ],
          "scattercarpet": [
           {
            "marker": {
             "colorbar": {
              "outlinewidth": 0,
              "ticks": ""
             }
            },
            "type": "scattercarpet"
           }
          ],
          "scattergeo": [
           {
            "marker": {
             "colorbar": {
              "outlinewidth": 0,
              "ticks": ""
             }
            },
            "type": "scattergeo"
           }
          ],
          "scattergl": [
           {
            "marker": {
             "colorbar": {
              "outlinewidth": 0,
              "ticks": ""
             }
            },
            "type": "scattergl"
           }
          ],
          "scattermapbox": [
           {
            "marker": {
             "colorbar": {
              "outlinewidth": 0,
              "ticks": ""
             }
            },
            "type": "scattermapbox"
           }
          ],
          "scatterpolar": [
           {
            "marker": {
             "colorbar": {
              "outlinewidth": 0,
              "ticks": ""
             }
            },
            "type": "scatterpolar"
           }
          ],
          "scatterpolargl": [
           {
            "marker": {
             "colorbar": {
              "outlinewidth": 0,
              "ticks": ""
             }
            },
            "type": "scatterpolargl"
           }
          ],
          "scatterternary": [
           {
            "marker": {
             "colorbar": {
              "outlinewidth": 0,
              "ticks": ""
             }
            },
            "type": "scatterternary"
           }
          ],
          "surface": [
           {
            "colorbar": {
             "outlinewidth": 0,
             "ticks": ""
            },
            "colorscale": [
             [
              0,
              "#0d0887"
             ],
             [
              0.1111111111111111,
              "#46039f"
             ],
             [
              0.2222222222222222,
              "#7201a8"
             ],
             [
              0.3333333333333333,
              "#9c179e"
             ],
             [
              0.4444444444444444,
              "#bd3786"
             ],
             [
              0.5555555555555556,
              "#d8576b"
             ],
             [
              0.6666666666666666,
              "#ed7953"
             ],
             [
              0.7777777777777778,
              "#fb9f3a"
             ],
             [
              0.8888888888888888,
              "#fdca26"
             ],
             [
              1,
              "#f0f921"
             ]
            ],
            "type": "surface"
           }
          ],
          "table": [
           {
            "cells": {
             "fill": {
              "color": "#EBF0F8"
             },
             "line": {
              "color": "white"
             }
            },
            "header": {
             "fill": {
              "color": "#C8D4E3"
             },
             "line": {
              "color": "white"
             }
            },
            "type": "table"
           }
          ]
         },
         "layout": {
          "annotationdefaults": {
           "arrowcolor": "#2a3f5f",
           "arrowhead": 0,
           "arrowwidth": 1
          },
          "autotypenumbers": "strict",
          "coloraxis": {
           "colorbar": {
            "outlinewidth": 0,
            "ticks": ""
           }
          },
          "colorscale": {
           "diverging": [
            [
             0,
             "#8e0152"
            ],
            [
             0.1,
             "#c51b7d"
            ],
            [
             0.2,
             "#de77ae"
            ],
            [
             0.3,
             "#f1b6da"
            ],
            [
             0.4,
             "#fde0ef"
            ],
            [
             0.5,
             "#f7f7f7"
            ],
            [
             0.6,
             "#e6f5d0"
            ],
            [
             0.7,
             "#b8e186"
            ],
            [
             0.8,
             "#7fbc41"
            ],
            [
             0.9,
             "#4d9221"
            ],
            [
             1,
             "#276419"
            ]
           ],
           "sequential": [
            [
             0,
             "#0d0887"
            ],
            [
             0.1111111111111111,
             "#46039f"
            ],
            [
             0.2222222222222222,
             "#7201a8"
            ],
            [
             0.3333333333333333,
             "#9c179e"
            ],
            [
             0.4444444444444444,
             "#bd3786"
            ],
            [
             0.5555555555555556,
             "#d8576b"
            ],
            [
             0.6666666666666666,
             "#ed7953"
            ],
            [
             0.7777777777777778,
             "#fb9f3a"
            ],
            [
             0.8888888888888888,
             "#fdca26"
            ],
            [
             1,
             "#f0f921"
            ]
           ],
           "sequentialminus": [
            [
             0,
             "#0d0887"
            ],
            [
             0.1111111111111111,
             "#46039f"
            ],
            [
             0.2222222222222222,
             "#7201a8"
            ],
            [
             0.3333333333333333,
             "#9c179e"
            ],
            [
             0.4444444444444444,
             "#bd3786"
            ],
            [
             0.5555555555555556,
             "#d8576b"
            ],
            [
             0.6666666666666666,
             "#ed7953"
            ],
            [
             0.7777777777777778,
             "#fb9f3a"
            ],
            [
             0.8888888888888888,
             "#fdca26"
            ],
            [
             1,
             "#f0f921"
            ]
           ]
          },
          "colorway": [
           "#636efa",
           "#EF553B",
           "#00cc96",
           "#ab63fa",
           "#FFA15A",
           "#19d3f3",
           "#FF6692",
           "#B6E880",
           "#FF97FF",
           "#FECB52"
          ],
          "font": {
           "color": "#2a3f5f"
          },
          "geo": {
           "bgcolor": "white",
           "lakecolor": "white",
           "landcolor": "#E5ECF6",
           "showlakes": true,
           "showland": true,
           "subunitcolor": "white"
          },
          "hoverlabel": {
           "align": "left"
          },
          "hovermode": "closest",
          "mapbox": {
           "style": "light"
          },
          "paper_bgcolor": "white",
          "plot_bgcolor": "#E5ECF6",
          "polar": {
           "angularaxis": {
            "gridcolor": "white",
            "linecolor": "white",
            "ticks": ""
           },
           "bgcolor": "#E5ECF6",
           "radialaxis": {
            "gridcolor": "white",
            "linecolor": "white",
            "ticks": ""
           }
          },
          "scene": {
           "xaxis": {
            "backgroundcolor": "#E5ECF6",
            "gridcolor": "white",
            "gridwidth": 2,
            "linecolor": "white",
            "showbackground": true,
            "ticks": "",
            "zerolinecolor": "white"
           },
           "yaxis": {
            "backgroundcolor": "#E5ECF6",
            "gridcolor": "white",
            "gridwidth": 2,
            "linecolor": "white",
            "showbackground": true,
            "ticks": "",
            "zerolinecolor": "white"
           },
           "zaxis": {
            "backgroundcolor": "#E5ECF6",
            "gridcolor": "white",
            "gridwidth": 2,
            "linecolor": "white",
            "showbackground": true,
            "ticks": "",
            "zerolinecolor": "white"
           }
          },
          "shapedefaults": {
           "line": {
            "color": "#2a3f5f"
           }
          },
          "ternary": {
           "aaxis": {
            "gridcolor": "white",
            "linecolor": "white",
            "ticks": ""
           },
           "baxis": {
            "gridcolor": "white",
            "linecolor": "white",
            "ticks": ""
           },
           "bgcolor": "#E5ECF6",
           "caxis": {
            "gridcolor": "white",
            "linecolor": "white",
            "ticks": ""
           }
          },
          "title": {
           "x": 0.05
          },
          "xaxis": {
           "automargin": true,
           "gridcolor": "white",
           "linecolor": "white",
           "ticks": "",
           "title": {
            "standoff": 15
           },
           "zerolinecolor": "white",
           "zerolinewidth": 2
          },
          "yaxis": {
           "automargin": true,
           "gridcolor": "white",
           "linecolor": "white",
           "ticks": "",
           "title": {
            "standoff": 15
           },
           "zerolinecolor": "white",
           "zerolinewidth": 2
          }
         }
        },
        "title": {
         "text": "QRF with 3 QDT"
        }
       }
      }
     },
     "metadata": {},
     "output_type": "display_data"
    }
   ],
   "source": [
    "px.scatter_3d(x=x_testdf.iloc[:,0],y=x_testdf.iloc[:,1],z=x_testdf.iloc[:,2], color= y_pred ,title=\"QRF with 3 QDT\")"
   ]
  },
  {
   "cell_type": "code",
   "execution_count": 737,
   "metadata": {},
   "outputs": [
    {
     "name": "stdout",
     "output_type": "stream",
     "text": [
      "5\n",
      " Training QDT no : 1\n",
      "Epoch:  1 | Loss: 0.079449 |  accuracy: 0.937500 \n",
      "Epoch:  2 | Loss: 0.049968 |  accuracy: 0.937500 \n",
      "Epoch:  3 | Loss: 0.027935 |  accuracy: 1.000000 \n",
      "Epoch:  4 | Loss: 0.037136 |  accuracy: 0.968750 \n",
      "Epoch:  5 | Loss: 0.043420 |  accuracy: 0.968750 \n",
      "Epoch:  6 | Loss: 0.039514 |  accuracy: 0.968750 \n",
      "Epoch:  7 | Loss: 0.034201 |  accuracy: 0.968750 \n",
      "Epoch:  8 | Loss: 0.030892 |  accuracy: 1.000000 \n",
      "Epoch:  9 | Loss: 0.029332 |  accuracy: 1.000000 \n",
      "Epoch: 10 | Loss: 0.029779 |  accuracy: 1.000000 \n",
      " Training QDT no : 2\n",
      "Epoch:  1 | Loss: 0.050461 |  accuracy: 0.906250 \n",
      "Epoch:  2 | Loss: 0.046338 |  accuracy: 0.968750 \n",
      "Epoch:  3 | Loss: 0.026738 |  accuracy: 0.937500 \n",
      "Epoch:  4 | Loss: 0.025761 |  accuracy: 0.968750 \n",
      "Epoch:  5 | Loss: 0.031117 |  accuracy: 0.968750 \n",
      "Epoch:  6 | Loss: 0.032587 |  accuracy: 0.968750 \n",
      "Epoch:  7 | Loss: 0.030622 |  accuracy: 0.968750 \n",
      "Epoch:  8 | Loss: 0.029001 |  accuracy: 0.968750 \n",
      "Epoch:  9 | Loss: 0.028874 |  accuracy: 0.968750 \n",
      "Epoch: 10 | Loss: 0.028611 |  accuracy: 1.000000 \n",
      " Training QDT no : 3\n",
      "Epoch:  1 | Loss: 0.053767 |  accuracy: 0.937500 \n",
      "Epoch:  2 | Loss: 0.056455 |  accuracy: 0.968750 \n",
      "Epoch:  3 | Loss: 0.044499 |  accuracy: 0.968750 \n",
      "Epoch:  4 | Loss: 0.042434 |  accuracy: 0.968750 \n",
      "Epoch:  5 | Loss: 0.052885 |  accuracy: 0.968750 \n",
      "Epoch:  6 | Loss: 0.057716 |  accuracy: 0.968750 \n",
      "Epoch:  7 | Loss: 0.049470 |  accuracy: 0.968750 \n",
      "Epoch:  8 | Loss: 0.036045 |  accuracy: 0.968750 \n",
      "Epoch:  9 | Loss: 0.024610 |  accuracy: 0.968750 \n",
      "Epoch: 10 | Loss: 0.020521 |  accuracy: 1.000000 \n",
      " Training QDT no : 4\n",
      "Epoch:  1 | Loss: 0.111111 |  accuracy: 0.875000 \n",
      "Epoch:  2 | Loss: 0.058581 |  accuracy: 0.906250 \n",
      "Epoch:  3 | Loss: 0.104108 |  accuracy: 0.812500 \n",
      "Epoch:  4 | Loss: 0.125695 |  accuracy: 0.781250 \n",
      "Epoch:  5 | Loss: 0.106811 |  accuracy: 0.843750 \n",
      "Epoch:  6 | Loss: 0.075473 |  accuracy: 0.875000 \n",
      "Epoch:  7 | Loss: 0.060218 |  accuracy: 0.937500 \n",
      "Epoch:  8 | Loss: 0.069639 |  accuracy: 0.937500 \n",
      "Epoch:  9 | Loss: 0.079175 |  accuracy: 0.937500 \n",
      "Epoch: 10 | Loss: 0.074358 |  accuracy: 0.937500 \n",
      " Training QDT no : 5\n",
      "Epoch:  1 | Loss: 0.090700 |  accuracy: 0.875000 \n",
      "Epoch:  2 | Loss: 0.072908 |  accuracy: 0.937500 \n",
      "Epoch:  3 | Loss: 0.053627 |  accuracy: 0.937500 \n",
      "Epoch:  4 | Loss: 0.052861 |  accuracy: 0.968750 \n",
      "Epoch:  5 | Loss: 0.048658 |  accuracy: 0.968750 \n",
      "Epoch:  6 | Loss: 0.042105 |  accuracy: 0.968750 \n",
      "Epoch:  7 | Loss: 0.041859 |  accuracy: 0.968750 \n",
      "Epoch:  8 | Loss: 0.043863 |  accuracy: 0.968750 \n",
      "Epoch:  9 | Loss: 0.038448 |  accuracy: 0.968750 \n",
      "Epoch: 10 | Loss: 0.026888 |  accuracy: 1.000000 \n",
      "[0 0 0 0 0 0 0 0 0 0 2 4 0 0 0 0 0 5 0 0 0 0 5 4 0 0 0 0 0 0 0 0 0 0 0 0 0\n",
      " 0 0 0]\n",
      "Recall(TP/FN+TP ):0.6666666666666666\n",
      "Precsion(TP/FP+TP): 1.0 \n",
      "F1 score function of presscion and recall:0.8 \n"
     ]
    },
    {
     "data": {
      "image/png": "[encoded data removed]",
      "text/plain": [
       "<Figure size 640x480 with 2 Axes>"
      ]
     },
     "metadata": {},
     "output_type": "display_data"
    }
   ],
   "source": [
    "qrf = QRF(X_train,y_train, no_QDT=5, sensetivity=0.5)\n",
    "\n",
    "qrf.train()\n",
    "y_pred,individual_y = qrf.predict(X_test, y_test)\n",
    "conMtx = confusion_matrix(y_test,y_pred)\n",
    "\n",
    "sns.heatmap(conMtx)\n",
    "f1 = f1_score(y_test,y_pred)\n",
    "recall = recall_score(y_test,y_pred)\n",
    "pre = precision_score(y_test,y_pred)\n",
    "\n",
    "print(f\"Recall(TP/FN+TP ):{recall}\")\n",
    "print(f\"Precsion(TP/FP+TP): {pre} \")\n",
    "print(f\"F1 score function of presscion and recall:{f1} \")"
   ]
  },
  {
   "cell_type": "code",
   "execution_count": null,
   "metadata": {},
   "outputs": [
    {
     "data": {
      "application/vnd.plotly.v1+json": {
       "config": {
        "plotlyServerURL": "https://plot.ly"
       },
       "data": [
        {
         "hovertemplate": "x=%{x}<br>y=%{y}<br>z=%{z}<br>color=%{marker.color}<extra></extra>",
         "legendgroup": "",
         "marker": {
          "color": [
           0,
           0,
           0,
           0,
           0,
           0,
           0,
           0,
           0,
           0,
           0,
           1,
           0,
           0,
           0,
           0,
           0,
           1,
           0,
           0,
           0,
           0,
           1,
           1,
           0,
           0,
           0,
           0,
           0,
           0,
           0,
           0,
           0,
           0,
           0,
           0,
           0,
           0,
           0,
           0
          ],
          "coloraxis": "coloraxis",
          "symbol": "circle"
         },
         "mode": "markers",
         "name": "",
         "scene": "scene",
         "showlegend": false,
         "type": "scatter3d",
         "x": [
          0.33650422090296445,
          -0.15969839317638007,
          0.6438523509028455,
          1.8081560227921039,
          0.6419115802110177,
          -0.6934663922315143,
          1.8416150258780306,
          -0.5848171354676147,
          0.5710142132582692,
          1.1140526933018386,
          -0.8186248081587115,
          -1.3008090095697844,
          -0.491155186663,
          -0.7078467828176649,
          -0.5652350761731297,
          0.296977110342903,
          0.24383355325366723,
          -0.9675842556236326,
          1.7518834310759854,
          -0.320546364301262,
          -0.2277476437440045,
          -1.5932422694508461,
          -1.3008174172670077,
          -0.9020945722458695,
          0.16448231154543583,
          0.1145784664772824,
          -1.7016883847779694,
          -0.974731665016524,
          -0.5975212833723696,
          0.5871562548840167,
          -1.0283397156925966,
          -0.409282367782827,
          0.10430506218675178,
          -0.4465712127832941,
          1.9196218714227524,
          0.6907041041232975,
          0.5957288645870652,
          -0.27039248667590965,
          1.130625697362713,
          -0.7492189224537285
         ],
         "y": [
          -0.6179652555368043,
          -0.4148971544083097,
          -0.11581523866084353,
          0.07392075915761293,
          -0.2245399836335081,
          0.5923501656061804,
          -0.5905961268213281,
          0.48253336733695557,
          -0.7280540465786176,
          0.5765804107516692,
          -1.0149028550503907,
          1.0883582456987266,
          -0.995872746442021,
          -0.893646720451371,
          1.5791344394342448,
          -0.4128711651701568,
          0.2331462594529898,
          1.5300990775692824,
          -0.7363538087346813,
          -0.45456534817157906,
          -0.4756328609169831,
          -0.233915733857786,
          1.5280226570438202,
          1.3474914978325123,
          0.4281802433721822,
          0.08492524590883577,
          -1.1084255004766892,
          -1.1908545764427438,
          -0.3700717262910689,
          -0.9908541786615059,
          -0.5380960450176631,
          1.232065471122223,
          -0.7825439013365475,
          -0.3833154631379269,
          0.14120949970077543,
          1.178911906223115,
          -1.1371739219881927,
          -0.12647442277117157,
          -0.8466591416475977,
          -0.716322701260593
         ],
         "z": [
          1.7204237137504639,
          1.086126643318191,
          -1.1488324430397818,
          -0.3859077261323981,
          -0.9188151295194134,
          1.157339093814028,
          -0.20227548766548456,
          0.5687951953548228,
          -0.5672541068608288,
          -0.5729213895235411,
          -1.2664056007160573,
          -1.5219117166113352,
          -0.9967595362145873,
          -0.817155643285486,
          0.24866925866291845,
          0.917635765730187,
          0.5121426580361745,
          -0.543817281364393,
          -0.35696476676312455,
          1.0347801393953362,
          0.38537937922607673,
          0.34676108092669977,
          -0.8753389877007604,
          -0.5072880497793577,
          0.37167096440083297,
          0.41185938290211094,
          -0.13462454388357592,
          -0.8486865998333124,
          0.668713027627191,
          -1.0280686271729689,
          -1.304771095990933,
          -0.20004108178899693,
          0.946695984244794,
          1.1387208840604228,
          -0.40564536019769587,
          -0.9920713092837821,
          0.9619602916606658,
          1.1902615582887939,
          -1.060464004511722,
          -1.1092798543199451
         ]
        }
       ],
       "layout": {
        "coloraxis": {
         "colorbar": {
          "title": {
           "text": "color"
          }
         },
         "colorscale": [
          [
           0,
           "#0d0887"
          ],
          [
           0.1111111111111111,
           "#46039f"
          ],
          [
           0.2222222222222222,
           "#7201a8"
          ],
          [
           0.3333333333333333,
           "#9c179e"
          ],
          [
           0.4444444444444444,
           "#bd3786"
          ],
          [
           0.5555555555555556,
           "#d8576b"
          ],
          [
           0.6666666666666666,
           "#ed7953"
          ],
          [
           0.7777777777777778,
           "#fb9f3a"
          ],
          [
           0.8888888888888888,
           "#fdca26"
          ],
          [
           1,
           "#f0f921"
          ]
         ]
        },
        "legend": {
         "tracegroupgap": 0
        },
        "margin": {
         "t": 60
        },
        "scene": {
         "domain": {
          "x": [
           0,
           1
          ],
          "y": [
           0,
           1
          ]
         },
         "xaxis": {
          "title": {
           "text": "x"
          }
         },
         "yaxis": {
          "title": {
           "text": "y"
          }
         },
         "zaxis": {
          "title": {
           "text": "z"
          }
         }
        },
        "template": {
         "data": {
          "bar": [
           {
            "error_x": {
             "color": "#2a3f5f"
            },
            "error_y": {
             "color": "#2a3f5f"
            },
            "marker": {
             "line": {
              "color": "#E5ECF6",
              "width": 0.5
             },
             "pattern": {
              "fillmode": "overlay",
              "size": 10,
              "solidity": 0.2
             }
            },
            "type": "bar"
           }
          ],
          "barpolar": [
           {
            "marker": {
             "line": {
              "color": "#E5ECF6",
              "width": 0.5
             },
             "pattern": {
              "fillmode": "overlay",
              "size": 10,
              "solidity": 0.2
             }
            },
            "type": "barpolar"
           }
          ],
          "carpet": [
           {
            "aaxis": {
             "endlinecolor": "#2a3f5f",
             "gridcolor": "white",
             "linecolor": "white",
             "minorgridcolor": "white",
             "startlinecolor": "#2a3f5f"
            },
            "baxis": {
             "endlinecolor": "#2a3f5f",
             "gridcolor": "white",
             "linecolor": "white",
             "minorgridcolor": "white",
             "startlinecolor": "#2a3f5f"
            },
            "type": "carpet"
           }
          ],
          "choropleth": [
           {
            "colorbar": {
             "outlinewidth": 0,
             "ticks": ""
            },
            "type": "choropleth"
           }
          ],
          "contour": [
           {
            "colorbar": {
             "outlinewidth": 0,
             "ticks": ""
            },
            "colorscale": [
             [
              0,
              "#0d0887"
             ],
             [
              0.1111111111111111,
              "#46039f"
             ],
             [
              0.2222222222222222,
              "#7201a8"
             ],
             [
              0.3333333333333333,
              "#9c179e"
             ],
             [
              0.4444444444444444,
              "#bd3786"
             ],
             [
              0.5555555555555556,
              "#d8576b"
             ],
             [
              0.6666666666666666,
              "#ed7953"
             ],
             [
              0.7777777777777778,
              "#fb9f3a"
             ],
             [
              0.8888888888888888,
              "#fdca26"
             ],
             [
              1,
              "#f0f921"
             ]
            ],
            "type": "contour"
           }
          ],
          "contourcarpet": [
           {
            "colorbar": {
             "outlinewidth": 0,
             "ticks": ""
            },
            "type": "contourcarpet"
           }
          ],
          "heatmap": [
           {
            "colorbar": {
             "outlinewidth": 0,
             "ticks": ""
            },
            "colorscale": [
             [
              0,
              "#0d0887"
             ],
             [
              0.1111111111111111,
              "#46039f"
             ],
             [
              0.2222222222222222,
              "#7201a8"
             ],
             [
              0.3333333333333333,
              "#9c179e"
             ],
             [
              0.4444444444444444,
              "#bd3786"
             ],
             [
              0.5555555555555556,
              "#d8576b"
             ],
             [
              0.6666666666666666,
              "#ed7953"
             ],
             [
              0.7777777777777778,
              "#fb9f3a"
             ],
             [
              0.8888888888888888,
              "#fdca26"
             ],
             [
              1,
              "#f0f921"
             ]
            ],
            "type": "heatmap"
           }
          ],
          "heatmapgl": [
           {
            "colorbar": {
             "outlinewidth": 0,
             "ticks": ""
            },
            "colorscale": [
             [
              0,
              "#0d0887"
             ],
             [
              0.1111111111111111,
              "#46039f"
             ],
             [
              0.2222222222222222,
              "#7201a8"
             ],
             [
              0.3333333333333333,
              "#9c179e"
             ],
             [
              0.4444444444444444,
              "#bd3786"
             ],
             [
              0.5555555555555556,
              "#d8576b"
             ],
             [
              0.6666666666666666,
              "#ed7953"
             ],
             [
              0.7777777777777778,
              "#fb9f3a"
             ],
             [
              0.8888888888888888,
              "#fdca26"
             ],
             [
              1,
              "#f0f921"
             ]
            ],
            "type": "heatmapgl"
           }
          ],
          "histogram": [
           {
            "marker": {
             "pattern": {
              "fillmode": "overlay",
              "size": 10,
              "solidity": 0.2
             }
            },
            "type": "histogram"
           }
          ],
          "histogram2d": [
           {
            "colorbar": {
             "outlinewidth": 0,
             "ticks": ""
            },
            "colorscale": [
             [
              0,
              "#0d0887"
             ],
             [
              0.1111111111111111,
              "#46039f"
             ],
             [
              0.2222222222222222,
              "#7201a8"
             ],
             [
              0.3333333333333333,
              "#9c179e"
             ],
             [
              0.4444444444444444,
              "#bd3786"
             ],
             [
              0.5555555555555556,
              "#d8576b"
             ],
             [
              0.6666666666666666,
              "#ed7953"
             ],
             [
              0.7777777777777778,
              "#fb9f3a"
             ],
             [
              0.8888888888888888,
              "#fdca26"
             ],
             [
              1,
              "#f0f921"
             ]
            ],
            "type": "histogram2d"
           }
          ],
          "histogram2dcontour": [
           {
            "colorbar": {
             "outlinewidth": 0,
             "ticks": ""
            },
            "colorscale": [
             [
              0,
              "#0d0887"
             ],
             [
              0.1111111111111111,
              "#46039f"
             ],
             [
              0.2222222222222222,
              "#7201a8"
             ],
             [
              0.3333333333333333,
              "#9c179e"
             ],
             [
              0.4444444444444444,
              "#bd3786"
             ],
             [
              0.5555555555555556,
              "#d8576b"
             ],
             [
              0.6666666666666666,
              "#ed7953"
             ],
             [
              0.7777777777777778,
              "#fb9f3a"
             ],
             [
              0.8888888888888888,
              "#fdca26"
             ],
             [
              1,
              "#f0f921"
             ]
            ],
            "type": "histogram2dcontour"
           }
          ],
          "mesh3d": [
           {
            "colorbar": {
             "outlinewidth": 0,
             "ticks": ""
            },
            "type": "mesh3d"
           }
          ],
          "parcoords": [
           {
            "line": {
             "colorbar": {
              "outlinewidth": 0,
              "ticks": ""
             }
            },
            "type": "parcoords"
           }
          ],
          "pie": [
           {
            "automargin": true,
            "type": "pie"
           }
          ],
          "scatter": [
           {
            "fillpattern": {
             "fillmode": "overlay",
             "size": 10,
             "solidity": 0.2
            },
            "type": "scatter"
           }
          ],
          "scatter3d": [
           {
            "line": {
             "colorbar": {
              "outlinewidth": 0,
              "ticks": ""
             }
            },
            "marker": {
             "colorbar": {
              "outlinewidth": 0,
              "ticks": ""
             }
            },
            "type": "scatter3d"
           }
          ],
          "scattercarpet": [
           {
            "marker": {
             "colorbar": {
              "outlinewidth": 0,
              "ticks": ""
             }
            },
            "type": "scattercarpet"
           }
          ],
          "scattergeo": [
           {
            "marker": {
             "colorbar": {
              "outlinewidth": 0,
              "ticks": ""
             }
            },
            "type": "scattergeo"
           }
          ],
          "scattergl": [
           {
            "marker": {
             "colorbar": {
              "outlinewidth": 0,
              "ticks": ""
             }
            },
            "type": "scattergl"
           }
          ],
          "scattermapbox": [
           {
            "marker": {
             "colorbar": {
              "outlinewidth": 0,
              "ticks": ""
             }
            },
            "type": "scattermapbox"
           }
          ],
          "scatterpolar": [
           {
            "marker": {
             "colorbar": {
              "outlinewidth": 0,
              "ticks": ""
             }
            },
            "type": "scatterpolar"
           }
          ],
          "scatterpolargl": [
           {
            "marker": {
             "colorbar": {
              "outlinewidth": 0,
              "ticks": ""
             }
            },
            "type": "scatterpolargl"
           }
          ],
          "scatterternary": [
           {
            "marker": {
             "colorbar": {
              "outlinewidth": 0,
              "ticks": ""
             }
            },
            "type": "scatterternary"
           }
          ],
          "surface": [
           {
            "colorbar": {
             "outlinewidth": 0,
             "ticks": ""
            },
            "colorscale": [
             [
              0,
              "#0d0887"
             ],
             [
              0.1111111111111111,
              "#46039f"
             ],
             [
              0.2222222222222222,
              "#7201a8"
             ],
             [
              0.3333333333333333,
              "#9c179e"
             ],
             [
              0.4444444444444444,
              "#bd3786"
             ],
             [
              0.5555555555555556,
              "#d8576b"
             ],
             [
              0.6666666666666666,
              "#ed7953"
             ],
             [
              0.7777777777777778,
              "#fb9f3a"
             ],
             [
              0.8888888888888888,
              "#fdca26"
             ],
             [
              1,
              "#f0f921"
             ]
            ],
            "type": "surface"
           }
          ],
          "table": [
           {
            "cells": {
             "fill": {
              "color": "#EBF0F8"
             },
             "line": {
              "color": "white"
             }
            },
            "header": {
             "fill": {
              "color": "#C8D4E3"
             },
             "line": {
              "color": "white"
             }
            },
            "type": "table"
           }
          ]
         },
         "layout": {
          "annotationdefaults": {
           "arrowcolor": "#2a3f5f",
           "arrowhead": 0,
           "arrowwidth": 1
          },
          "autotypenumbers": "strict",
          "coloraxis": {
           "colorbar": {
            "outlinewidth": 0,
            "ticks": ""
           }
          },
          "colorscale": {
           "diverging": [
            [
             0,
             "#8e0152"
            ],
            [
             0.1,
             "#c51b7d"
            ],
            [
             0.2,
             "#de77ae"
            ],
            [
             0.3,
             "#f1b6da"
            ],
            [
             0.4,
             "#fde0ef"
            ],
            [
             0.5,
             "#f7f7f7"
            ],
            [
             0.6,
             "#e6f5d0"
            ],
            [
             0.7,
             "#b8e186"
            ],
            [
             0.8,
             "#7fbc41"
            ],
            [
             0.9,
             "#4d9221"
            ],
            [
             1,
             "#276419"
            ]
           ],
           "sequential": [
            [
             0,
             "#0d0887"
            ],
            [
             0.1111111111111111,
             "#46039f"
            ],
            [
             0.2222222222222222,
             "#7201a8"
            ],
            [
             0.3333333333333333,
             "#9c179e"
            ],
            [
             0.4444444444444444,
             "#bd3786"
            ],
            [
             0.5555555555555556,
             "#d8576b"
            ],
            [
             0.6666666666666666,
             "#ed7953"
            ],
            [
             0.7777777777777778,
             "#fb9f3a"
            ],
            [
             0.8888888888888888,
             "#fdca26"
            ],
            [
             1,
             "#f0f921"
            ]
           ],
           "sequentialminus": [
            [
             0,
             "#0d0887"
            ],
            [
             0.1111111111111111,
             "#46039f"
            ],
            [
             0.2222222222222222,
             "#7201a8"
            ],
            [
             0.3333333333333333,
             "#9c179e"
            ],
            [
             0.4444444444444444,
             "#bd3786"
            ],
            [
             0.5555555555555556,
             "#d8576b"
            ],
            [
             0.6666666666666666,
             "#ed7953"
            ],
            [
             0.7777777777777778,
             "#fb9f3a"
            ],
            [
             0.8888888888888888,
             "#fdca26"
            ],
            [
             1,
             "#f0f921"
            ]
           ]
          },
          "colorway": [
           "#636efa",
           "#EF553B",
           "#00cc96",
           "#ab63fa",
           "#FFA15A",
           "#19d3f3",
           "#FF6692",
           "#B6E880",
           "#FF97FF",
           "#FECB52"
          ],
          "font": {
           "color": "#2a3f5f"
          },
          "geo": {
           "bgcolor": "white",
           "lakecolor": "white",
           "landcolor": "#E5ECF6",
           "showlakes": true,
           "showland": true,
           "subunitcolor": "white"
          },
          "hoverlabel": {
           "align": "left"
          },
          "hovermode": "closest",
          "mapbox": {
           "style": "light"
          },
          "paper_bgcolor": "white",
          "plot_bgcolor": "#E5ECF6",
          "polar": {
           "angularaxis": {
            "gridcolor": "white",
            "linecolor": "white",
            "ticks": ""
           },
           "bgcolor": "#E5ECF6",
           "radialaxis": {
            "gridcolor": "white",
            "linecolor": "white",
            "ticks": ""
           }
          },
          "scene": {
           "xaxis": {
            "backgroundcolor": "#E5ECF6",
            "gridcolor": "white",
            "gridwidth": 2,
            "linecolor": "white",
            "showbackground": true,
            "ticks": "",
            "zerolinecolor": "white"
           },
           "yaxis": {
            "backgroundcolor": "#E5ECF6",
            "gridcolor": "white",
            "gridwidth": 2,
            "linecolor": "white",
            "showbackground": true,
            "ticks": "",
            "zerolinecolor": "white"
           },
           "zaxis": {
            "backgroundcolor": "#E5ECF6",
            "gridcolor": "white",
            "gridwidth": 2,
            "linecolor": "white",
            "showbackground": true,
            "ticks": "",
            "zerolinecolor": "white"
           }
          },
          "shapedefaults": {
           "line": {
            "color": "#2a3f5f"
           }
          },
          "ternary": {
           "aaxis": {
            "gridcolor": "white",
            "linecolor": "white",
            "ticks": ""
           },
           "baxis": {
            "gridcolor": "white",
            "linecolor": "white",
            "ticks": ""
           },
           "bgcolor": "#E5ECF6",
           "caxis": {
            "gridcolor": "white",
            "linecolor": "white",
            "ticks": ""
           }
          },
          "title": {
           "x": 0.05
          },
          "xaxis": {
           "automargin": true,
           "gridcolor": "white",
           "linecolor": "white",
           "ticks": "",
           "title": {
            "standoff": 15
           },
           "zerolinecolor": "white",
           "zerolinewidth": 2
          },
          "yaxis": {
           "automargin": true,
           "gridcolor": "white",
           "linecolor": "white",
           "ticks": "",
           "title": {
            "standoff": 15
           },
           "zerolinecolor": "white",
           "zerolinewidth": 2
          }
         }
        }
       }
      }
     },
     "metadata": {},
     "output_type": "display_data"
    }
   ],
   "source": [
    "px.scatter_3d(x=x_testdf.iloc[:,0],y=x_testdf.iloc[:,1],z=x_testdf.iloc[:,2], color= y_pred, title=\"QRF with 5 QDT\" )"
   ]
  },
  {
   "cell_type": "code",
   "execution_count": 735,
   "metadata": {},
   "outputs": [
    {
     "name": "stdout",
     "output_type": "stream",
     "text": [
      "20\n",
      " Training QDT no : 1\n",
      "Epoch:  1 | Loss: 0.101651 |  accuracy: 0.875000 \n",
      "Epoch:  2 | Loss: 0.101651 |  accuracy: 0.875000 \n",
      "Epoch:  3 | Loss: 0.101651 |  accuracy: 0.875000 \n",
      "Epoch:  4 | Loss: 0.101651 |  accuracy: 0.875000 \n",
      "Epoch:  5 | Loss: 0.101651 |  accuracy: 0.875000 \n",
      "Epoch:  6 | Loss: 0.101651 |  accuracy: 0.875000 \n",
      "Epoch:  7 | Loss: 0.101651 |  accuracy: 0.875000 \n",
      "Epoch:  8 | Loss: 0.101651 |  accuracy: 0.875000 \n",
      "Epoch:  9 | Loss: 0.101651 |  accuracy: 0.875000 \n",
      "Epoch: 10 | Loss: 0.101651 |  accuracy: 0.875000 \n",
      " Training QDT no : 2\n",
      "Epoch:  1 | Loss: 0.132266 |  accuracy: 0.875000 \n",
      "Epoch:  2 | Loss: 0.132266 |  accuracy: 0.875000 \n",
      "Epoch:  3 | Loss: 0.132266 |  accuracy: 0.875000 \n",
      "Epoch:  4 | Loss: 0.132266 |  accuracy: 0.875000 \n",
      "Epoch:  5 | Loss: 0.132266 |  accuracy: 0.875000 \n",
      "Epoch:  6 | Loss: 0.132266 |  accuracy: 0.875000 \n",
      "Epoch:  7 | Loss: 0.132266 |  accuracy: 0.875000 \n",
      "Epoch:  8 | Loss: 0.132266 |  accuracy: 0.875000 \n",
      "Epoch:  9 | Loss: 0.132266 |  accuracy: 0.875000 \n",
      "Epoch: 10 | Loss: 0.132266 |  accuracy: 0.875000 \n",
      " Training QDT no : 3\n",
      "Epoch:  1 | Loss: 0.242917 |  accuracy: 0.750000 \n",
      "Epoch:  2 | Loss: 0.242917 |  accuracy: 0.750000 \n",
      "Epoch:  3 | Loss: 0.242917 |  accuracy: 0.750000 \n",
      "Epoch:  4 | Loss: 0.242917 |  accuracy: 0.750000 \n",
      "Epoch:  5 | Loss: 0.242917 |  accuracy: 0.750000 \n",
      "Epoch:  6 | Loss: 0.242917 |  accuracy: 0.750000 \n",
      "Epoch:  7 | Loss: 0.242917 |  accuracy: 0.750000 \n",
      "Epoch:  8 | Loss: 0.242917 |  accuracy: 0.750000 \n",
      "Epoch:  9 | Loss: 0.242917 |  accuracy: 0.750000 \n",
      "Epoch: 10 | Loss: 0.242917 |  accuracy: 0.750000 \n",
      " Training QDT no : 4\n",
      "Epoch:  1 | Loss: 0.168285 |  accuracy: 0.750000 \n",
      "Epoch:  2 | Loss: 0.168285 |  accuracy: 0.750000 \n",
      "Epoch:  3 | Loss: 0.168285 |  accuracy: 0.750000 \n",
      "Epoch:  4 | Loss: 0.168285 |  accuracy: 0.750000 \n",
      "Epoch:  5 | Loss: 0.168285 |  accuracy: 0.750000 \n",
      "Epoch:  6 | Loss: 0.168285 |  accuracy: 0.750000 \n",
      "Epoch:  7 | Loss: 0.168285 |  accuracy: 0.750000 \n",
      "Epoch:  8 | Loss: 0.168285 |  accuracy: 0.750000 \n",
      "Epoch:  9 | Loss: 0.168285 |  accuracy: 0.750000 \n",
      "Epoch: 10 | Loss: 0.168285 |  accuracy: 0.750000 \n",
      " Training QDT no : 5\n",
      "Epoch:  1 | Loss: 0.157623 |  accuracy: 0.875000 \n",
      "Epoch:  2 | Loss: 0.157623 |  accuracy: 0.875000 \n",
      "Epoch:  3 | Loss: 0.157623 |  accuracy: 0.875000 \n",
      "Epoch:  4 | Loss: 0.157623 |  accuracy: 0.875000 \n",
      "Epoch:  5 | Loss: 0.157623 |  accuracy: 0.875000 \n",
      "Epoch:  6 | Loss: 0.157623 |  accuracy: 0.875000 \n",
      "Epoch:  7 | Loss: 0.157623 |  accuracy: 0.875000 \n",
      "Epoch:  8 | Loss: 0.157623 |  accuracy: 0.875000 \n",
      "Epoch:  9 | Loss: 0.157623 |  accuracy: 0.875000 \n",
      "Epoch: 10 | Loss: 0.157623 |  accuracy: 0.875000 \n",
      " Training QDT no : 6\n",
      "Epoch:  1 | Loss: 0.071131 |  accuracy: 0.875000 \n",
      "Epoch:  2 | Loss: 0.071131 |  accuracy: 0.875000 \n",
      "Epoch:  3 | Loss: 0.071131 |  accuracy: 0.875000 \n",
      "Epoch:  4 | Loss: 0.071131 |  accuracy: 0.875000 \n",
      "Epoch:  5 | Loss: 0.071131 |  accuracy: 0.875000 \n",
      "Epoch:  6 | Loss: 0.071131 |  accuracy: 0.875000 \n",
      "Epoch:  7 | Loss: 0.071131 |  accuracy: 0.875000 \n",
      "Epoch:  8 | Loss: 0.071131 |  accuracy: 0.875000 \n",
      "Epoch:  9 | Loss: 0.071131 |  accuracy: 0.875000 \n",
      "Epoch: 10 | Loss: 0.071131 |  accuracy: 0.875000 \n",
      " Training QDT no : 7\n",
      "Epoch:  1 | Loss: 0.034136 |  accuracy: 1.000000 \n",
      "Epoch:  2 | Loss: 0.034136 |  accuracy: 1.000000 \n",
      "Epoch:  3 | Loss: 0.034136 |  accuracy: 1.000000 \n",
      "Epoch:  4 | Loss: 0.034136 |  accuracy: 1.000000 \n",
      "Epoch:  5 | Loss: 0.034136 |  accuracy: 1.000000 \n",
      "Epoch:  6 | Loss: 0.034136 |  accuracy: 1.000000 \n",
      "Epoch:  7 | Loss: 0.034136 |  accuracy: 1.000000 \n",
      "Epoch:  8 | Loss: 0.034136 |  accuracy: 1.000000 \n",
      "Epoch:  9 | Loss: 0.034136 |  accuracy: 1.000000 \n",
      "Epoch: 10 | Loss: 0.034136 |  accuracy: 1.000000 \n",
      " Training QDT no : 8\n",
      "Epoch:  1 | Loss: 0.022282 |  accuracy: 1.000000 \n",
      "Epoch:  2 | Loss: 0.022282 |  accuracy: 1.000000 \n",
      "Epoch:  3 | Loss: 0.022282 |  accuracy: 1.000000 \n",
      "Epoch:  4 | Loss: 0.022282 |  accuracy: 1.000000 \n",
      "Epoch:  5 | Loss: 0.022282 |  accuracy: 1.000000 \n",
      "Epoch:  6 | Loss: 0.022282 |  accuracy: 1.000000 \n",
      "Epoch:  7 | Loss: 0.022282 |  accuracy: 1.000000 \n",
      "Epoch:  8 | Loss: 0.022282 |  accuracy: 1.000000 \n",
      "Epoch:  9 | Loss: 0.022282 |  accuracy: 1.000000 \n",
      "Epoch: 10 | Loss: 0.022282 |  accuracy: 1.000000 \n",
      " Training QDT no : 9\n",
      "Epoch:  1 | Loss: 0.127888 |  accuracy: 0.875000 \n",
      "Epoch:  2 | Loss: 0.127888 |  accuracy: 0.875000 \n",
      "Epoch:  3 | Loss: 0.127888 |  accuracy: 0.875000 \n",
      "Epoch:  4 | Loss: 0.127888 |  accuracy: 0.875000 \n",
      "Epoch:  5 | Loss: 0.127888 |  accuracy: 0.875000 \n",
      "Epoch:  6 | Loss: 0.127888 |  accuracy: 0.875000 \n",
      "Epoch:  7 | Loss: 0.127888 |  accuracy: 0.875000 \n",
      "Epoch:  8 | Loss: 0.127888 |  accuracy: 0.875000 \n",
      "Epoch:  9 | Loss: 0.127888 |  accuracy: 0.875000 \n",
      "Epoch: 10 | Loss: 0.127888 |  accuracy: 0.875000 \n",
      " Training QDT no : 10\n",
      "Epoch:  1 | Loss: 0.097245 |  accuracy: 0.875000 \n",
      "Epoch:  2 | Loss: 0.097245 |  accuracy: 0.875000 \n",
      "Epoch:  3 | Loss: 0.097245 |  accuracy: 0.875000 \n",
      "Epoch:  4 | Loss: 0.097245 |  accuracy: 0.875000 \n",
      "Epoch:  5 | Loss: 0.097245 |  accuracy: 0.875000 \n",
      "Epoch:  6 | Loss: 0.097245 |  accuracy: 0.875000 \n",
      "Epoch:  7 | Loss: 0.097245 |  accuracy: 0.875000 \n",
      "Epoch:  8 | Loss: 0.097245 |  accuracy: 0.875000 \n",
      "Epoch:  9 | Loss: 0.097245 |  accuracy: 0.875000 \n",
      "Epoch: 10 | Loss: 0.097245 |  accuracy: 0.875000 \n",
      " Training QDT no : 11\n",
      "Epoch:  1 | Loss: 0.115500 |  accuracy: 0.875000 \n",
      "Epoch:  2 | Loss: 0.115500 |  accuracy: 0.875000 \n",
      "Epoch:  3 | Loss: 0.115500 |  accuracy: 0.875000 \n",
      "Epoch:  4 | Loss: 0.115500 |  accuracy: 0.875000 \n",
      "Epoch:  5 | Loss: 0.115500 |  accuracy: 0.875000 \n",
      "Epoch:  6 | Loss: 0.115500 |  accuracy: 0.875000 \n",
      "Epoch:  7 | Loss: 0.115500 |  accuracy: 0.875000 \n",
      "Epoch:  8 | Loss: 0.115500 |  accuracy: 0.875000 \n",
      "Epoch:  9 | Loss: 0.115500 |  accuracy: 0.875000 \n",
      "Epoch: 10 | Loss: 0.115500 |  accuracy: 0.875000 \n",
      " Training QDT no : 12\n",
      "Epoch:  1 | Loss: 0.197498 |  accuracy: 0.750000 \n",
      "Epoch:  2 | Loss: 0.197498 |  accuracy: 0.750000 \n",
      "Epoch:  3 | Loss: 0.197498 |  accuracy: 0.750000 \n",
      "Epoch:  4 | Loss: 0.197498 |  accuracy: 0.750000 \n",
      "Epoch:  5 | Loss: 0.197498 |  accuracy: 0.750000 \n",
      "Epoch:  6 | Loss: 0.197498 |  accuracy: 0.750000 \n",
      "Epoch:  7 | Loss: 0.197498 |  accuracy: 0.750000 \n",
      "Epoch:  8 | Loss: 0.197498 |  accuracy: 0.750000 \n",
      "Epoch:  9 | Loss: 0.197498 |  accuracy: 0.750000 \n",
      "Epoch: 10 | Loss: 0.197498 |  accuracy: 0.750000 \n",
      " Training QDT no : 13\n",
      "Epoch:  1 | Loss: 0.199429 |  accuracy: 0.625000 \n",
      "Epoch:  2 | Loss: 0.199429 |  accuracy: 0.625000 \n",
      "Epoch:  3 | Loss: 0.199429 |  accuracy: 0.625000 \n",
      "Epoch:  4 | Loss: 0.199429 |  accuracy: 0.625000 \n",
      "Epoch:  5 | Loss: 0.199429 |  accuracy: 0.625000 \n",
      "Epoch:  6 | Loss: 0.199429 |  accuracy: 0.625000 \n",
      "Epoch:  7 | Loss: 0.199429 |  accuracy: 0.625000 \n",
      "Epoch:  8 | Loss: 0.199429 |  accuracy: 0.625000 \n",
      "Epoch:  9 | Loss: 0.199429 |  accuracy: 0.625000 \n",
      "Epoch: 10 | Loss: 0.199429 |  accuracy: 0.625000 \n",
      " Training QDT no : 14\n",
      "Epoch:  1 | Loss: 0.225940 |  accuracy: 0.625000 \n",
      "Epoch:  2 | Loss: 0.225940 |  accuracy: 0.625000 \n",
      "Epoch:  3 | Loss: 0.225940 |  accuracy: 0.625000 \n",
      "Epoch:  4 | Loss: 0.225940 |  accuracy: 0.625000 \n",
      "Epoch:  5 | Loss: 0.225940 |  accuracy: 0.625000 \n",
      "Epoch:  6 | Loss: 0.225940 |  accuracy: 0.625000 \n",
      "Epoch:  7 | Loss: 0.225940 |  accuracy: 0.625000 \n",
      "Epoch:  8 | Loss: 0.225940 |  accuracy: 0.625000 \n",
      "Epoch:  9 | Loss: 0.225940 |  accuracy: 0.625000 \n",
      "Epoch: 10 | Loss: 0.225940 |  accuracy: 0.625000 \n",
      " Training QDT no : 15\n",
      "Epoch:  1 | Loss: 0.212897 |  accuracy: 0.625000 \n",
      "Epoch:  2 | Loss: 0.212897 |  accuracy: 0.625000 \n",
      "Epoch:  3 | Loss: 0.212897 |  accuracy: 0.625000 \n",
      "Epoch:  4 | Loss: 0.212897 |  accuracy: 0.625000 \n",
      "Epoch:  5 | Loss: 0.212897 |  accuracy: 0.625000 \n",
      "Epoch:  6 | Loss: 0.212897 |  accuracy: 0.625000 \n",
      "Epoch:  7 | Loss: 0.212897 |  accuracy: 0.625000 \n",
      "Epoch:  8 | Loss: 0.212897 |  accuracy: 0.625000 \n",
      "Epoch:  9 | Loss: 0.212897 |  accuracy: 0.625000 \n",
      "Epoch: 10 | Loss: 0.212897 |  accuracy: 0.625000 \n",
      " Training QDT no : 16\n",
      "Epoch:  1 | Loss: 0.096798 |  accuracy: 0.875000 \n",
      "Epoch:  2 | Loss: 0.096798 |  accuracy: 0.875000 \n",
      "Epoch:  3 | Loss: 0.096798 |  accuracy: 0.875000 \n",
      "Epoch:  4 | Loss: 0.096798 |  accuracy: 0.875000 \n",
      "Epoch:  5 | Loss: 0.096798 |  accuracy: 0.875000 \n",
      "Epoch:  6 | Loss: 0.096798 |  accuracy: 0.875000 \n",
      "Epoch:  7 | Loss: 0.096798 |  accuracy: 0.875000 \n",
      "Epoch:  8 | Loss: 0.096798 |  accuracy: 0.875000 \n",
      "Epoch:  9 | Loss: 0.096798 |  accuracy: 0.875000 \n",
      "Epoch: 10 | Loss: 0.096798 |  accuracy: 0.875000 \n",
      " Training QDT no : 17\n",
      "Epoch:  1 | Loss: 0.139944 |  accuracy: 0.875000 \n",
      "Epoch:  2 | Loss: 0.139944 |  accuracy: 0.875000 \n",
      "Epoch:  3 | Loss: 0.139944 |  accuracy: 0.875000 \n",
      "Epoch:  4 | Loss: 0.139944 |  accuracy: 0.875000 \n",
      "Epoch:  5 | Loss: 0.139944 |  accuracy: 0.875000 \n",
      "Epoch:  6 | Loss: 0.139944 |  accuracy: 0.875000 \n",
      "Epoch:  7 | Loss: 0.139944 |  accuracy: 0.875000 \n",
      "Epoch:  8 | Loss: 0.139944 |  accuracy: 0.875000 \n",
      "Epoch:  9 | Loss: 0.139944 |  accuracy: 0.875000 \n",
      "Epoch: 10 | Loss: 0.139944 |  accuracy: 0.875000 \n",
      " Training QDT no : 18\n",
      "Epoch:  1 | Loss: 0.046045 |  accuracy: 1.000000 \n",
      "Epoch:  2 | Loss: 0.046045 |  accuracy: 1.000000 \n",
      "Epoch:  3 | Loss: 0.046045 |  accuracy: 1.000000 \n",
      "Epoch:  4 | Loss: 0.046045 |  accuracy: 1.000000 \n",
      "Epoch:  5 | Loss: 0.046045 |  accuracy: 1.000000 \n",
      "Epoch:  6 | Loss: 0.046045 |  accuracy: 1.000000 \n",
      "Epoch:  7 | Loss: 0.046045 |  accuracy: 1.000000 \n",
      "Epoch:  8 | Loss: 0.046045 |  accuracy: 1.000000 \n",
      "Epoch:  9 | Loss: 0.046045 |  accuracy: 1.000000 \n",
      "Epoch: 10 | Loss: 0.046045 |  accuracy: 1.000000 \n",
      " Training QDT no : 19\n",
      "Epoch:  1 | Loss: 0.102445 |  accuracy: 0.875000 \n",
      "Epoch:  2 | Loss: 0.102445 |  accuracy: 0.875000 \n",
      "Epoch:  3 | Loss: 0.102445 |  accuracy: 0.875000 \n",
      "Epoch:  4 | Loss: 0.102445 |  accuracy: 0.875000 \n",
      "Epoch:  5 | Loss: 0.102445 |  accuracy: 0.875000 \n",
      "Epoch:  6 | Loss: 0.102445 |  accuracy: 0.875000 \n",
      "Epoch:  7 | Loss: 0.102445 |  accuracy: 0.875000 \n",
      "Epoch:  8 | Loss: 0.102445 |  accuracy: 0.875000 \n",
      "Epoch:  9 | Loss: 0.102445 |  accuracy: 0.875000 \n",
      "Epoch: 10 | Loss: 0.102445 |  accuracy: 0.875000 \n",
      " Training QDT no : 20\n",
      "Epoch:  1 | Loss: 0.213746 |  accuracy: 0.750000 \n",
      "Epoch:  2 | Loss: 0.213746 |  accuracy: 0.750000 \n",
      "Epoch:  3 | Loss: 0.213746 |  accuracy: 0.750000 \n",
      "Epoch:  4 | Loss: 0.213746 |  accuracy: 0.750000 \n",
      "Epoch:  5 | Loss: 0.213746 |  accuracy: 0.750000 \n",
      "Epoch:  6 | Loss: 0.213746 |  accuracy: 0.750000 \n",
      "Epoch:  7 | Loss: 0.213746 |  accuracy: 0.750000 \n",
      "Epoch:  8 | Loss: 0.213746 |  accuracy: 0.750000 \n",
      "Epoch:  9 | Loss: 0.213746 |  accuracy: 0.750000 \n",
      "Epoch: 10 | Loss: 0.213746 |  accuracy: 0.750000 \n",
      "[ 0  0  1  0  0  1  0  6  0  6  2  4  0  0 13  0  0 18  0  1  0  0 13 20\n",
      "  3  1  4  8  0  0  0 20  0  1  0 20  0  0  0  0]\n",
      "Recall(TP/FN+TP ):0.8333333333333334\n",
      "Precsion(TP/FP+TP): 0.8333333333333334 \n",
      "F1 score function of presscion and recall:0.8333333333333334 \n"
     ]
    },
    {
     "data": {
      "image/png": "[encoded data removed]",
      "text/plain": [
       "<Figure size 640x480 with 2 Axes>"
      ]
     },
     "metadata": {},
     "output_type": "display_data"
    }
   ],
   "source": [
    "qrf = QRF(X_train,y_train, no_QDT=20, sensetivity= 0.5 ) \n",
    "\n",
    "qrf.train()\n",
    "y_pred,individual_y = qrf.predict(X_test, y_test)\n",
    "conMtx = confusion_matrix(y_test,y_pred)\n",
    "\n",
    "sns.heatmap(conMtx)\n",
    "f1 = f1_score(y_test,y_pred)\n",
    "recall = recall_score(y_test,y_pred)\n",
    "pre = precision_score(y_test,y_pred)\n",
    "\n",
    "print(f\"Recall(TP/FN+TP ):{recall}\")\n",
    "print(f\"Precsion(TP/FP+TP): {pre} \")\n",
    "print(f\"F1 score function of presscion and recall:{f1} \")"
   ]
  },
  {
   "cell_type": "code",
   "execution_count": null,
   "metadata": {},
   "outputs": [
    {
     "data": {
      "application/vnd.plotly.v1+json": {
       "config": {
        "plotlyServerURL": "https://plot.ly"
       },
       "data": [
        {
         "hovertemplate": "x=%{x}<br>y=%{y}<br>z=%{z}<br>color=%{marker.color}<extra></extra>",
         "legendgroup": "",
         "marker": {
          "color": [
           0,
           0,
           0,
           0,
           0,
           0,
           0,
           0,
           0,
           0,
           0,
           0,
           0,
           0,
           1,
           0,
           0,
           1,
           0,
           0,
           0,
           0,
           1,
           1,
           0,
           0,
           0,
           0,
           0,
           0,
           0,
           1,
           0,
           0,
           0,
           1,
           0,
           0,
           0,
           0
          ],
          "coloraxis": "coloraxis",
          "symbol": "circle"
         },
         "mode": "markers",
         "name": "",
         "scene": "scene",
         "showlegend": false,
         "type": "scatter3d",
         "x": [
          0.33650422090296445,
          -0.15969839317638007,
          0.6438523509028455,
          1.8081560227921039,
          0.6419115802110177,
          -0.6934663922315143,
          1.8416150258780306,
          -0.5848171354676147,
          0.5710142132582692,
          1.1140526933018386,
          -0.8186248081587115,
          -1.3008090095697844,
          -0.491155186663,
          -0.7078467828176649,
          -0.5652350761731297,
          0.296977110342903,
          0.24383355325366723,
          -0.9675842556236326,
          1.7518834310759854,
          -0.320546364301262,
          -0.2277476437440045,
          -1.5932422694508461,
          -1.3008174172670077,
          -0.9020945722458695,
          0.16448231154543583,
          0.1145784664772824,
          -1.7016883847779694,
          -0.974731665016524,
          -0.5975212833723696,
          0.5871562548840167,
          -1.0283397156925966,
          -0.409282367782827,
          0.10430506218675178,
          -0.4465712127832941,
          1.9196218714227524,
          0.6907041041232975,
          0.5957288645870652,
          -0.27039248667590965,
          1.130625697362713,
          -0.7492189224537285
         ],
         "y": [
          -0.6179652555368043,
          -0.4148971544083097,
          -0.11581523866084353,
          0.07392075915761293,
          -0.2245399836335081,
          0.5923501656061804,
          -0.5905961268213281,
          0.48253336733695557,
          -0.7280540465786176,
          0.5765804107516692,
          -1.0149028550503907,
          1.0883582456987266,
          -0.995872746442021,
          -0.893646720451371,
          1.5791344394342448,
          -0.4128711651701568,
          0.2331462594529898,
          1.5300990775692824,
          -0.7363538087346813,
          -0.45456534817157906,
          -0.4756328609169831,
          -0.233915733857786,
          1.5280226570438202,
          1.3474914978325123,
          0.4281802433721822,
          0.08492524590883577,
          -1.1084255004766892,
          -1.1908545764427438,
          -0.3700717262910689,
          -0.9908541786615059,
          -0.5380960450176631,
          1.232065471122223,
          -0.7825439013365475,
          -0.3833154631379269,
          0.14120949970077543,
          1.178911906223115,
          -1.1371739219881927,
          -0.12647442277117157,
          -0.8466591416475977,
          -0.716322701260593
         ],
         "z": [
          1.7204237137504639,
          1.086126643318191,
          -1.1488324430397818,
          -0.3859077261323981,
          -0.9188151295194134,
          1.157339093814028,
          -0.20227548766548456,
          0.5687951953548228,
          -0.5672541068608288,
          -0.5729213895235411,
          -1.2664056007160573,
          -1.5219117166113352,
          -0.9967595362145873,
          -0.817155643285486,
          0.24866925866291845,
          0.917635765730187,
          0.5121426580361745,
          -0.543817281364393,
          -0.35696476676312455,
          1.0347801393953362,
          0.38537937922607673,
          0.34676108092669977,
          -0.8753389877007604,
          -0.5072880497793577,
          0.37167096440083297,
          0.41185938290211094,
          -0.13462454388357592,
          -0.8486865998333124,
          0.668713027627191,
          -1.0280686271729689,
          -1.304771095990933,
          -0.20004108178899693,
          0.946695984244794,
          1.1387208840604228,
          -0.40564536019769587,
          -0.9920713092837821,
          0.9619602916606658,
          1.1902615582887939,
          -1.060464004511722,
          -1.1092798543199451
         ]
        }
       ],
       "layout": {
        "coloraxis": {
         "colorbar": {
          "title": {
           "text": "color"
          }
         },
         "colorscale": [
          [
           0,
           "#0d0887"
          ],
          [
           0.1111111111111111,
           "#46039f"
          ],
          [
           0.2222222222222222,
           "#7201a8"
          ],
          [
           0.3333333333333333,
           "#9c179e"
          ],
          [
           0.4444444444444444,
           "#bd3786"
          ],
          [
           0.5555555555555556,
           "#d8576b"
          ],
          [
           0.6666666666666666,
           "#ed7953"
          ],
          [
           0.7777777777777778,
           "#fb9f3a"
          ],
          [
           0.8888888888888888,
           "#fdca26"
          ],
          [
           1,
           "#f0f921"
          ]
         ]
        },
        "legend": {
         "tracegroupgap": 0
        },
        "margin": {
         "t": 60
        },
        "scene": {
         "domain": {
          "x": [
           0,
           1
          ],
          "y": [
           0,
           1
          ]
         },
         "xaxis": {
          "title": {
           "text": "x"
          }
         },
         "yaxis": {
          "title": {
           "text": "y"
          }
         },
         "zaxis": {
          "title": {
           "text": "z"
          }
         }
        },
        "template": {
         "data": {
          "bar": [
           {
            "error_x": {
             "color": "#2a3f5f"
            },
            "error_y": {
             "color": "#2a3f5f"
            },
            "marker": {
             "line": {
              "color": "#E5ECF6",
              "width": 0.5
             },
             "pattern": {
              "fillmode": "overlay",
              "size": 10,
              "solidity": 0.2
             }
            },
            "type": "bar"
           }
          ],
          "barpolar": [
           {
            "marker": {
             "line": {
              "color": "#E5ECF6",
              "width": 0.5
             },
             "pattern": {
              "fillmode": "overlay",
              "size": 10,
              "solidity": 0.2
             }
            },
            "type": "barpolar"
           }
          ],
          "carpet": [
           {
            "aaxis": {
             "endlinecolor": "#2a3f5f",
             "gridcolor": "white",
             "linecolor": "white",
             "minorgridcolor": "white",
             "startlinecolor": "#2a3f5f"
            },
            "baxis": {
             "endlinecolor": "#2a3f5f",
             "gridcolor": "white",
             "linecolor": "white",
             "minorgridcolor": "white",
             "startlinecolor": "#2a3f5f"
            },
            "type": "carpet"
           }
          ],
          "choropleth": [
           {
            "colorbar": {
             "outlinewidth": 0,
             "ticks": ""
            },
            "type": "choropleth"
           }
          ],
          "contour": [
           {
            "colorbar": {
             "outlinewidth": 0,
             "ticks": ""
            },
            "colorscale": [
             [
              0,
              "#0d0887"
             ],
             [
              0.1111111111111111,
              "#46039f"
             ],
             [
              0.2222222222222222,
              "#7201a8"
             ],
             [
              0.3333333333333333,
              "#9c179e"
             ],
             [
              0.4444444444444444,
              "#bd3786"
             ],
             [
              0.5555555555555556,
              "#d8576b"
             ],
             [
              0.6666666666666666,
              "#ed7953"
             ],
             [
              0.7777777777777778,
              "#fb9f3a"
             ],
             [
              0.8888888888888888,
              "#fdca26"
             ],
             [
              1,
              "#f0f921"
             ]
            ],
            "type": "contour"
           }
          ],
          "contourcarpet": [
           {
            "colorbar": {
             "outlinewidth": 0,
             "ticks": ""
            },
            "type": "contourcarpet"
           }
          ],
          "heatmap": [
           {
            "colorbar": {
             "outlinewidth": 0,
             "ticks": ""
            },
            "colorscale": [
             [
              0,
              "#0d0887"
             ],
             [
              0.1111111111111111,
              "#46039f"
             ],
             [
              0.2222222222222222,
              "#7201a8"
             ],
             [
              0.3333333333333333,
              "#9c179e"
             ],
             [
              0.4444444444444444,
              "#bd3786"
             ],
             [
              0.5555555555555556,
              "#d8576b"
             ],
             [
              0.6666666666666666,
              "#ed7953"
             ],
             [
              0.7777777777777778,
              "#fb9f3a"
             ],
             [
              0.8888888888888888,
              "#fdca26"
             ],
             [
              1,
              "#f0f921"
             ]
            ],
            "type": "heatmap"
           }
          ],
          "heatmapgl": [
           {
            "colorbar": {
             "outlinewidth": 0,
             "ticks": ""
            },
            "colorscale": [
             [
              0,
              "#0d0887"
             ],
             [
              0.1111111111111111,
              "#46039f"
             ],
             [
              0.2222222222222222,
              "#7201a8"
             ],
             [
              0.3333333333333333,
              "#9c179e"
             ],
             [
              0.4444444444444444,
              "#bd3786"
             ],
             [
              0.5555555555555556,
              "#d8576b"
             ],
             [
              0.6666666666666666,
              "#ed7953"
             ],
             [
              0.7777777777777778,
              "#fb9f3a"
             ],
             [
              0.8888888888888888,
              "#fdca26"
             ],
             [
              1,
              "#f0f921"
             ]
            ],
            "type": "heatmapgl"
           }
          ],
          "histogram": [
           {
            "marker": {
             "pattern": {
              "fillmode": "overlay",
              "size": 10,
              "solidity": 0.2
             }
            },
            "type": "histogram"
           }
          ],
          "histogram2d": [
           {
            "colorbar": {
             "outlinewidth": 0,
             "ticks": ""
            },
            "colorscale": [
             [
              0,
              "#0d0887"
             ],
             [
              0.1111111111111111,
              "#46039f"
             ],
             [
              0.2222222222222222,
              "#7201a8"
             ],
             [
              0.3333333333333333,
              "#9c179e"
             ],
             [
              0.4444444444444444,
              "#bd3786"
             ],
             [
              0.5555555555555556,
              "#d8576b"
             ],
             [
              0.6666666666666666,
              "#ed7953"
             ],
             [
              0.7777777777777778,
              "#fb9f3a"
             ],
             [
              0.8888888888888888,
              "#fdca26"
             ],
             [
              1,
              "#f0f921"
             ]
            ],
            "type": "histogram2d"
           }
          ],
          "histogram2dcontour": [
           {
            "colorbar": {
             "outlinewidth": 0,
             "ticks": ""
            },
            "colorscale": [
             [
              0,
              "#0d0887"
             ],
             [
              0.1111111111111111,
              "#46039f"
             ],
             [
              0.2222222222222222,
              "#7201a8"
             ],
             [
              0.3333333333333333,
              "#9c179e"
             ],
             [
              0.4444444444444444,
              "#bd3786"
             ],
             [
              0.5555555555555556,
              "#d8576b"
             ],
             [
              0.6666666666666666,
              "#ed7953"
             ],
             [
              0.7777777777777778,
              "#fb9f3a"
             ],
             [
              0.8888888888888888,
              "#fdca26"
             ],
             [
              1,
              "#f0f921"
             ]
            ],
            "type": "histogram2dcontour"
           }
          ],
          "mesh3d": [
           {
            "colorbar": {
             "outlinewidth": 0,
             "ticks": ""
            },
            "type": "mesh3d"
           }
          ],
          "parcoords": [
           {
            "line": {
             "colorbar": {
              "outlinewidth": 0,
              "ticks": ""
             }
            },
            "type": "parcoords"
           }
          ],
          "pie": [
           {
            "automargin": true,
            "type": "pie"
           }
          ],
          "scatter": [
           {
            "fillpattern": {
             "fillmode": "overlay",
             "size": 10,
             "solidity": 0.2
            },
            "type": "scatter"
           }
          ],
          "scatter3d": [
           {
            "line": {
             "colorbar": {
              "outlinewidth": 0,
              "ticks": ""
             }
            },
            "marker": {
             "colorbar": {
              "outlinewidth": 0,
              "ticks": ""
             }
            },
            "type": "scatter3d"
           }
          ],
          "scattercarpet": [
           {
            "marker": {
             "colorbar": {
              "outlinewidth": 0,
              "ticks": ""
             }
            },
            "type": "scattercarpet"
           }
          ],
          "scattergeo": [
           {
            "marker": {
             "colorbar": {
              "outlinewidth": 0,
              "ticks": ""
             }
            },
            "type": "scattergeo"
           }
          ],
          "scattergl": [
           {
            "marker": {
             "colorbar": {
              "outlinewidth": 0,
              "ticks": ""
             }
            },
            "type": "scattergl"
           }
          ],
          "scattermapbox": [
           {
            "marker": {
             "colorbar": {
              "outlinewidth": 0,
              "ticks": ""
             }
            },
            "type": "scattermapbox"
           }
          ],
          "scatterpolar": [
           {
            "marker": {
             "colorbar": {
              "outlinewidth": 0,
              "ticks": ""
             }
            },
            "type": "scatterpolar"
           }
          ],
          "scatterpolargl": [
           {
            "marker": {
             "colorbar": {
              "outlinewidth": 0,
              "ticks": ""
             }
            },
            "type": "scatterpolargl"
           }
          ],
          "scatterternary": [
           {
            "marker": {
             "colorbar": {
              "outlinewidth": 0,
              "ticks": ""
             }
            },
            "type": "scatterternary"
           }
          ],
          "surface": [
           {
            "colorbar": {
             "outlinewidth": 0,
             "ticks": ""
            },
            "colorscale": [
             [
              0,
              "#0d0887"
             ],
             [
              0.1111111111111111,
              "#46039f"
             ],
             [
              0.2222222222222222,
              "#7201a8"
             ],
             [
              0.3333333333333333,
              "#9c179e"
             ],
             [
              0.4444444444444444,
              "#bd3786"
             ],
             [
              0.5555555555555556,
              "#d8576b"
             ],
             [
              0.6666666666666666,
              "#ed7953"
             ],
             [
              0.7777777777777778,
              "#fb9f3a"
             ],
             [
              0.8888888888888888,
              "#fdca26"
             ],
             [
              1,
              "#f0f921"
             ]
            ],
            "type": "surface"
           }
          ],
          "table": [
           {
            "cells": {
             "fill": {
              "color": "#EBF0F8"
             },
             "line": {
              "color": "white"
             }
            },
            "header": {
             "fill": {
              "color": "#C8D4E3"
             },
             "line": {
              "color": "white"
             }
            },
            "type": "table"
           }
          ]
         },
         "layout": {
          "annotationdefaults": {
           "arrowcolor": "#2a3f5f",
           "arrowhead": 0,
           "arrowwidth": 1
          },
          "autotypenumbers": "strict",
          "coloraxis": {
           "colorbar": {
            "outlinewidth": 0,
            "ticks": ""
           }
          },
          "colorscale": {
           "diverging": [
            [
             0,
             "#8e0152"
            ],
            [
             0.1,
             "#c51b7d"
            ],
            [
             0.2,
             "#de77ae"
            ],
            [
             0.3,
             "#f1b6da"
            ],
            [
             0.4,
             "#fde0ef"
            ],
            [
             0.5,
             "#f7f7f7"
            ],
            [
             0.6,
             "#e6f5d0"
            ],
            [
             0.7,
             "#b8e186"
            ],
            [
             0.8,
             "#7fbc41"
            ],
            [
             0.9,
             "#4d9221"
            ],
            [
             1,
             "#276419"
            ]
           ],
           "sequential": [
            [
             0,
             "#0d0887"
            ],
            [
             0.1111111111111111,
             "#46039f"
            ],
            [
             0.2222222222222222,
             "#7201a8"
            ],
            [
             0.3333333333333333,
             "#9c179e"
            ],
            [
             0.4444444444444444,
             "#bd3786"
            ],
            [
             0.5555555555555556,
             "#d8576b"
            ],
            [
             0.6666666666666666,
             "#ed7953"
            ],
            [
             0.7777777777777778,
             "#fb9f3a"
            ],
            [
             0.8888888888888888,
             "#fdca26"
            ],
            [
             1,
             "#f0f921"
            ]
           ],
           "sequentialminus": [
            [
             0,
             "#0d0887"
            ],
            [
             0.1111111111111111,
             "#46039f"
            ],
            [
             0.2222222222222222,
             "#7201a8"
            ],
            [
             0.3333333333333333,
             "#9c179e"
            ],
            [
             0.4444444444444444,
             "#bd3786"
            ],
            [
             0.5555555555555556,
             "#d8576b"
            ],
            [
             0.6666666666666666,
             "#ed7953"
            ],
            [
             0.7777777777777778,
             "#fb9f3a"
            ],
            [
             0.8888888888888888,
             "#fdca26"
            ],
            [
             1,
             "#f0f921"
            ]
           ]
          },
          "colorway": [
           "#636efa",
           "#EF553B",
           "#00cc96",
           "#ab63fa",
           "#FFA15A",
           "#19d3f3",
           "#FF6692",
           "#B6E880",
           "#FF97FF",
           "#FECB52"
          ],
          "font": {
           "color": "#2a3f5f"
          },
          "geo": {
           "bgcolor": "white",
           "lakecolor": "white",
           "landcolor": "#E5ECF6",
           "showlakes": true,
           "showland": true,
           "subunitcolor": "white"
          },
          "hoverlabel": {
           "align": "left"
          },
          "hovermode": "closest",
          "mapbox": {
           "style": "light"
          },
          "paper_bgcolor": "white",
          "plot_bgcolor": "#E5ECF6",
          "polar": {
           "angularaxis": {
            "gridcolor": "white",
            "linecolor": "white",
            "ticks": ""
           },
           "bgcolor": "#E5ECF6",
           "radialaxis": {
            "gridcolor": "white",
            "linecolor": "white",
            "ticks": ""
           }
          },
          "scene": {
           "xaxis": {
            "backgroundcolor": "#E5ECF6",
            "gridcolor": "white",
            "gridwidth": 2,
            "linecolor": "white",
            "showbackground": true,
            "ticks": "",
            "zerolinecolor": "white"
           },
           "yaxis": {
            "backgroundcolor": "#E5ECF6",
            "gridcolor": "white",
            "gridwidth": 2,
            "linecolor": "white",
            "showbackground": true,
            "ticks": "",
            "zerolinecolor": "white"
           },
           "zaxis": {
            "backgroundcolor": "#E5ECF6",
            "gridcolor": "white",
            "gridwidth": 2,
            "linecolor": "white",
            "showbackground": true,
            "ticks": "",
            "zerolinecolor": "white"
           }
          },
          "shapedefaults": {
           "line": {
            "color": "#2a3f5f"
           }
          },
          "ternary": {
           "aaxis": {
            "gridcolor": "white",
            "linecolor": "white",
            "ticks": ""
           },
           "baxis": {
            "gridcolor": "white",
            "linecolor": "white",
            "ticks": ""
           },
           "bgcolor": "#E5ECF6",
           "caxis": {
            "gridcolor": "white",
            "linecolor": "white",
            "ticks": ""
           }
          },
          "title": {
           "x": 0.05
          },
          "xaxis": {
           "automargin": true,
           "gridcolor": "white",
           "linecolor": "white",
           "ticks": "",
           "title": {
            "standoff": 15
           },
           "zerolinecolor": "white",
           "zerolinewidth": 2
          },
          "yaxis": {
           "automargin": true,
           "gridcolor": "white",
           "linecolor": "white",
           "ticks": "",
           "title": {
            "standoff": 15
           },
           "zerolinecolor": "white",
           "zerolinewidth": 2
          }
         }
        }
       }
      }
     },
     "metadata": {},
     "output_type": "display_data"
    }
   ],
   "source": [
    "px.scatter_3d(x=x_testdf.iloc[:,0],y=x_testdf.iloc[:,1],z=x_testdf.iloc[:,2], color= y_pred,title=\"QRF with 20 QDT\")"
   ]
  },
  {
   "cell_type": "code",
   "execution_count": 722,
   "metadata": {},
   "outputs": [
    {
     "name": "stdout",
     "output_type": "stream",
     "text": [
      "Recall(TP/FN+TP ):0.6666666666666666\n",
      "Precsion(TP/FP+TP): 1.0 \n",
      "F1 score function of presscion and recall:0.8 \n"
     ]
    },
    {
     "data": {
      "image/png": "[encoded data removed]",
      "text/plain": [
       "<Figure size 640x480 with 2 Axes>"
      ]
     },
     "metadata": {},
     "output_type": "display_data"
    }
   ],
   "source": [
    "from sklearn.ensemble import RandomForestClassifier\n",
    "\n",
    "model = RandomForestClassifier(max_depth=2)\n",
    "model.fit(x_train,y_train)\n",
    "\n",
    "\n",
    "y_pred = model.predict(X_test)\n",
    "\n",
    "conMtx = confusion_matrix(y_test,y_pred)\n",
    "sns.heatmap(conMtx)\n",
    "f1 = f1_score(y_test,y_pred)\n",
    "recall = recall_score(y_test,y_pred)\n",
    "pre = precision_score(y_test,y_pred)\n",
    "\n",
    "print(f\"Recall(TP/FN+TP ):{recall}\")\n",
    "print(f\"Precsion(TP/FP+TP): {pre} \")\n",
    "print(f\"F1 score function of presscion and recall:{f1} \")\n"
   ]
  },
  {
   "cell_type": "markdown",
   "metadata": {},
   "source": []
  },
  {
   "cell_type": "code",
   "execution_count": null,
   "metadata": {},
   "outputs": [
    {
     "data": {
      "application/vnd.plotly.v1+json": {
       "config": {
        "plotlyServerURL": "https://plot.ly"
       },
       "data": [
        {
         "hovertemplate": "x=%{x}<br>y=%{y}<br>z=%{z}<br>color=%{marker.color}<extra></extra>",
         "legendgroup": "",
         "marker": {
          "color": [
           0,
           0,
           0,
           0,
           0,
           0,
           0,
           0,
           0,
           0,
           0,
           1,
           0,
           0,
           0,
           0,
           0,
           1,
           0,
           0,
           0,
           0,
           1,
           1,
           0,
           0,
           0,
           0,
           0,
           0,
           0,
           0,
           0,
           0,
           0,
           0,
           0,
           0,
           0,
           0
          ],
          "coloraxis": "coloraxis",
          "symbol": "circle"
         },
         "mode": "markers",
         "name": "",
         "scene": "scene",
         "showlegend": false,
         "type": "scatter3d",
         "x": [
          0.33650422090296445,
          -0.15969839317638007,
          0.6438523509028455,
          1.8081560227921039,
          0.6419115802110177,
          -0.6934663922315143,
          1.8416150258780306,
          -0.5848171354676147,
          0.5710142132582692,
          1.1140526933018386,
          -0.8186248081587115,
          -1.3008090095697844,
          -0.491155186663,
          -0.7078467828176649,
          -0.5652350761731297,
          0.296977110342903,
          0.24383355325366723,
          -0.9675842556236326,
          1.7518834310759854,
          -0.320546364301262,
          -0.2277476437440045,
          -1.5932422694508461,
          -1.3008174172670077,
          -0.9020945722458695,
          0.16448231154543583,
          0.1145784664772824,
          -1.7016883847779694,
          -0.974731665016524,
          -0.5975212833723696,
          0.5871562548840167,
          -1.0283397156925966,
          -0.409282367782827,
          0.10430506218675178,
          -0.4465712127832941,
          1.9196218714227524,
          0.6907041041232975,
          0.5957288645870652,
          -0.27039248667590965,
          1.130625697362713,
          -0.7492189224537285
         ],
         "y": [
          -0.6179652555368043,
          -0.4148971544083097,
          -0.11581523866084353,
          0.07392075915761293,
          -0.2245399836335081,
          0.5923501656061804,
          -0.5905961268213281,
          0.48253336733695557,
          -0.7280540465786176,
          0.5765804107516692,
          -1.0149028550503907,
          1.0883582456987266,
          -0.995872746442021,
          -0.893646720451371,
          1.5791344394342448,
          -0.4128711651701568,
          0.2331462594529898,
          1.5300990775692824,
          -0.7363538087346813,
          -0.45456534817157906,
          -0.4756328609169831,
          -0.233915733857786,
          1.5280226570438202,
          1.3474914978325123,
          0.4281802433721822,
          0.08492524590883577,
          -1.1084255004766892,
          -1.1908545764427438,
          -0.3700717262910689,
          -0.9908541786615059,
          -0.5380960450176631,
          1.232065471122223,
          -0.7825439013365475,
          -0.3833154631379269,
          0.14120949970077543,
          1.178911906223115,
          -1.1371739219881927,
          -0.12647442277117157,
          -0.8466591416475977,
          -0.716322701260593
         ],
         "z": [
          1.7204237137504639,
          1.086126643318191,
          -1.1488324430397818,
          -0.3859077261323981,
          -0.9188151295194134,
          1.157339093814028,
          -0.20227548766548456,
          0.5687951953548228,
          -0.5672541068608288,
          -0.5729213895235411,
          -1.2664056007160573,
          -1.5219117166113352,
          -0.9967595362145873,
          -0.817155643285486,
          0.24866925866291845,
          0.917635765730187,
          0.5121426580361745,
          -0.543817281364393,
          -0.35696476676312455,
          1.0347801393953362,
          0.38537937922607673,
          0.34676108092669977,
          -0.8753389877007604,
          -0.5072880497793577,
          0.37167096440083297,
          0.41185938290211094,
          -0.13462454388357592,
          -0.8486865998333124,
          0.668713027627191,
          -1.0280686271729689,
          -1.304771095990933,
          -0.20004108178899693,
          0.946695984244794,
          1.1387208840604228,
          -0.40564536019769587,
          -0.9920713092837821,
          0.9619602916606658,
          1.1902615582887939,
          -1.060464004511722,
          -1.1092798543199451
         ]
        }
       ],
       "layout": {
        "coloraxis": {
         "colorbar": {
          "title": {
           "text": "color"
          }
         },
         "colorscale": [
          [
           0,
           "#0d0887"
          ],
          [
           0.1111111111111111,
           "#46039f"
          ],
          [
           0.2222222222222222,
           "#7201a8"
          ],
          [
           0.3333333333333333,
           "#9c179e"
          ],
          [
           0.4444444444444444,
           "#bd3786"
          ],
          [
           0.5555555555555556,
           "#d8576b"
          ],
          [
           0.6666666666666666,
           "#ed7953"
          ],
          [
           0.7777777777777778,
           "#fb9f3a"
          ],
          [
           0.8888888888888888,
           "#fdca26"
          ],
          [
           1,
           "#f0f921"
          ]
         ]
        },
        "legend": {
         "tracegroupgap": 0
        },
        "margin": {
         "t": 60
        },
        "scene": {
         "domain": {
          "x": [
           0,
           1
          ],
          "y": [
           0,
           1
          ]
         },
         "xaxis": {
          "title": {
           "text": "x"
          }
         },
         "yaxis": {
          "title": {
           "text": "y"
          }
         },
         "zaxis": {
          "title": {
           "text": "z"
          }
         }
        },
        "template": {
         "data": {
          "bar": [
           {
            "error_x": {
             "color": "#2a3f5f"
            },
            "error_y": {
             "color": "#2a3f5f"
            },
            "marker": {
             "line": {
              "color": "#E5ECF6",
              "width": 0.5
             },
             "pattern": {
              "fillmode": "overlay",
              "size": 10,
              "solidity": 0.2
             }
            },
            "type": "bar"
           }
          ],
          "barpolar": [
           {
            "marker": {
             "line": {
              "color": "#E5ECF6",
              "width": 0.5
             },
             "pattern": {
              "fillmode": "overlay",
              "size": 10,
              "solidity": 0.2
             }
            },
            "type": "barpolar"
           }
          ],
          "carpet": [
           {
            "aaxis": {
             "endlinecolor": "#2a3f5f",
             "gridcolor": "white",
             "linecolor": "white",
             "minorgridcolor": "white",
             "startlinecolor": "#2a3f5f"
            },
            "baxis": {
             "endlinecolor": "#2a3f5f",
             "gridcolor": "white",
             "linecolor": "white",
             "minorgridcolor": "white",
             "startlinecolor": "#2a3f5f"
            },
            "type": "carpet"
           }
          ],
          "choropleth": [
           {
            "colorbar": {
             "outlinewidth": 0,
             "ticks": ""
            },
            "type": "choropleth"
           }
          ],
          "contour": [
           {
            "colorbar": {
             "outlinewidth": 0,
             "ticks": ""
            },
            "colorscale": [
             [
              0,
              "#0d0887"
             ],
             [
              0.1111111111111111,
              "#46039f"
             ],
             [
              0.2222222222222222,
              "#7201a8"
             ],
             [
              0.3333333333333333,
              "#9c179e"
             ],
             [
              0.4444444444444444,
              "#bd3786"
             ],
             [
              0.5555555555555556,
              "#d8576b"
             ],
             [
              0.6666666666666666,
              "#ed7953"
             ],
             [
              0.7777777777777778,
              "#fb9f3a"
             ],
             [
              0.8888888888888888,
              "#fdca26"
             ],
             [
              1,
              "#f0f921"
             ]
            ],
            "type": "contour"
           }
          ],
          "contourcarpet": [
           {
            "colorbar": {
             "outlinewidth": 0,
             "ticks": ""
            },
            "type": "contourcarpet"
           }
          ],
          "heatmap": [
           {
            "colorbar": {
             "outlinewidth": 0,
             "ticks": ""
            },
            "colorscale": [
             [
              0,
              "#0d0887"
             ],
             [
              0.1111111111111111,
              "#46039f"
             ],
             [
              0.2222222222222222,
              "#7201a8"
             ],
             [
              0.3333333333333333,
              "#9c179e"
             ],
             [
              0.4444444444444444,
              "#bd3786"
             ],
             [
              0.5555555555555556,
              "#d8576b"
             ],
             [
              0.6666666666666666,
              "#ed7953"
             ],
             [
              0.7777777777777778,
              "#fb9f3a"
             ],
             [
              0.8888888888888888,
              "#fdca26"
             ],
             [
              1,
              "#f0f921"
             ]
            ],
            "type": "heatmap"
           }
          ],
          "heatmapgl": [
           {
            "colorbar": {
             "outlinewidth": 0,
             "ticks": ""
            },
            "colorscale": [
             [
              0,
              "#0d0887"
             ],
             [
              0.1111111111111111,
              "#46039f"
             ],
             [
              0.2222222222222222,
              "#7201a8"
             ],
             [
              0.3333333333333333,
              "#9c179e"
             ],
             [
              0.4444444444444444,
              "#bd3786"
             ],
             [
              0.5555555555555556,
              "#d8576b"
             ],
             [
              0.6666666666666666,
              "#ed7953"
             ],
             [
              0.7777777777777778,
              "#fb9f3a"
             ],
             [
              0.8888888888888888,
              "#fdca26"
             ],
             [
              1,
              "#f0f921"
             ]
            ],
            "type": "heatmapgl"
           }
          ],
          "histogram": [
           {
            "marker": {
             "pattern": {
              "fillmode": "overlay",
              "size": 10,
              "solidity": 0.2
             }
            },
            "type": "histogram"
           }
          ],
          "histogram2d": [
           {
            "colorbar": {
             "outlinewidth": 0,
             "ticks": ""
            },
            "colorscale": [
             [
              0,
              "#0d0887"
             ],
             [
              0.1111111111111111,
              "#46039f"
             ],
             [
              0.2222222222222222,
              "#7201a8"
             ],
             [
              0.3333333333333333,
              "#9c179e"
             ],
             [
              0.4444444444444444,
              "#bd3786"
             ],
             [
              0.5555555555555556,
              "#d8576b"
             ],
             [
              0.6666666666666666,
              "#ed7953"
             ],
             [
              0.7777777777777778,
              "#fb9f3a"
             ],
             [
              0.8888888888888888,
              "#fdca26"
             ],
             [
              1,
              "#f0f921"
             ]
            ],
            "type": "histogram2d"
           }
          ],
          "histogram2dcontour": [
           {
            "colorbar": {
             "outlinewidth": 0,
             "ticks": ""
            },
            "colorscale": [
             [
              0,
              "#0d0887"
             ],
             [
              0.1111111111111111,
              "#46039f"
             ],
             [
              0.2222222222222222,
              "#7201a8"
             ],
             [
              0.3333333333333333,
              "#9c179e"
             ],
             [
              0.4444444444444444,
              "#bd3786"
             ],
             [
              0.5555555555555556,
              "#d8576b"
             ],
             [
              0.6666666666666666,
              "#ed7953"
             ],
             [
              0.7777777777777778,
              "#fb9f3a"
             ],
             [
              0.8888888888888888,
              "#fdca26"
             ],
             [
              1,
              "#f0f921"
             ]
            ],
            "type": "histogram2dcontour"
           }
          ],
          "mesh3d": [
           {
            "colorbar": {
             "outlinewidth": 0,
             "ticks": ""
            },
            "type": "mesh3d"
           }
          ],
          "parcoords": [
           {
            "line": {
             "colorbar": {
              "outlinewidth": 0,
              "ticks": ""
             }
            },
            "type": "parcoords"
           }
          ],
          "pie": [
           {
            "automargin": true,
            "type": "pie"
           }
          ],
          "scatter": [
           {
            "fillpattern": {
             "fillmode": "overlay",
             "size": 10,
             "solidity": 0.2
            },
            "type": "scatter"
           }
          ],
          "scatter3d": [
           {
            "line": {
             "colorbar": {
              "outlinewidth": 0,
              "ticks": ""
             }
            },
            "marker": {
             "colorbar": {
              "outlinewidth": 0,
              "ticks": ""
             }
            },
            "type": "scatter3d"
           }
          ],
          "scattercarpet": [
           {
            "marker": {
             "colorbar": {
              "outlinewidth": 0,
              "ticks": ""
             }
            },
            "type": "scattercarpet"
           }
          ],
          "scattergeo": [
           {
            "marker": {
             "colorbar": {
              "outlinewidth": 0,
              "ticks": ""
             }
            },
            "type": "scattergeo"
           }
          ],
          "scattergl": [
           {
            "marker": {
             "colorbar": {
              "outlinewidth": 0,
              "ticks": ""
             }
            },
            "type": "scattergl"
           }
          ],
          "scattermapbox": [
           {
            "marker": {
             "colorbar": {
              "outlinewidth": 0,
              "ticks": ""
             }
            },
            "type": "scattermapbox"
           }
          ],
          "scatterpolar": [
           {
            "marker": {
             "colorbar": {
              "outlinewidth": 0,
              "ticks": ""
             }
            },
            "type": "scatterpolar"
           }
          ],
          "scatterpolargl": [
           {
            "marker": {
             "colorbar": {
              "outlinewidth": 0,
              "ticks": ""
             }
            },
            "type": "scatterpolargl"
           }
          ],
          "scatterternary": [
           {
            "marker": {
             "colorbar": {
              "outlinewidth": 0,
              "ticks": ""
             }
            },
            "type": "scatterternary"
           }
          ],
          "surface": [
           {
            "colorbar": {
             "outlinewidth": 0,
             "ticks": ""
            },
            "colorscale": [
             [
              0,
              "#0d0887"
             ],
             [
              0.1111111111111111,
              "#46039f"
             ],
             [
              0.2222222222222222,
              "#7201a8"
             ],
             [
              0.3333333333333333,
              "#9c179e"
             ],
             [
              0.4444444444444444,
              "#bd3786"
             ],
             [
              0.5555555555555556,
              "#d8576b"
             ],
             [
              0.6666666666666666,
              "#ed7953"
             ],
             [
              0.7777777777777778,
              "#fb9f3a"
             ],
             [
              0.8888888888888888,
              "#fdca26"
             ],
             [
              1,
              "#f0f921"
             ]
            ],
            "type": "surface"
           }
          ],
          "table": [
           {
            "cells": {
             "fill": {
              "color": "#EBF0F8"
             },
             "line": {
              "color": "white"
             }
            },
            "header": {
             "fill": {
              "color": "#C8D4E3"
             },
             "line": {
              "color": "white"
             }
            },
            "type": "table"
           }
          ]
         },
         "layout": {
          "annotationdefaults": {
           "arrowcolor": "#2a3f5f",
           "arrowhead": 0,
           "arrowwidth": 1
          },
          "autotypenumbers": "strict",
          "coloraxis": {
           "colorbar": {
            "outlinewidth": 0,
            "ticks": ""
           }
          },
          "colorscale": {
           "diverging": [
            [
             0,
             "#8e0152"
            ],
            [
             0.1,
             "#c51b7d"
            ],
            [
             0.2,
             "#de77ae"
            ],
            [
             0.3,
             "#f1b6da"
            ],
            [
             0.4,
             "#fde0ef"
            ],
            [
             0.5,
             "#f7f7f7"
            ],
            [
             0.6,
             "#e6f5d0"
            ],
            [
             0.7,
             "#b8e186"
            ],
            [
             0.8,
             "#7fbc41"
            ],
            [
             0.9,
             "#4d9221"
            ],
            [
             1,
             "#276419"
            ]
           ],
           "sequential": [
            [
             0,
             "#0d0887"
            ],
            [
             0.1111111111111111,
             "#46039f"
            ],
            [
             0.2222222222222222,
             "#7201a8"
            ],
            [
             0.3333333333333333,
             "#9c179e"
            ],
            [
             0.4444444444444444,
             "#bd3786"
            ],
            [
             0.5555555555555556,
             "#d8576b"
            ],
            [
             0.6666666666666666,
             "#ed7953"
            ],
            [
             0.7777777777777778,
             "#fb9f3a"
            ],
            [
             0.8888888888888888,
             "#fdca26"
            ],
            [
             1,
             "#f0f921"
            ]
           ],
           "sequentialminus": [
            [
             0,
             "#0d0887"
            ],
            [
             0.1111111111111111,
             "#46039f"
            ],
            [
             0.2222222222222222,
             "#7201a8"
            ],
            [
             0.3333333333333333,
             "#9c179e"
            ],
            [
             0.4444444444444444,
             "#bd3786"
            ],
            [
             0.5555555555555556,
             "#d8576b"
            ],
            [
             0.6666666666666666,
             "#ed7953"
            ],
            [
             0.7777777777777778,
             "#fb9f3a"
            ],
            [
             0.8888888888888888,
             "#fdca26"
            ],
            [
             1,
             "#f0f921"
            ]
           ]
          },
          "colorway": [
           "#636efa",
           "#EF553B",
           "#00cc96",
           "#ab63fa",
           "#FFA15A",
           "#19d3f3",
           "#FF6692",
           "#B6E880",
           "#FF97FF",
           "#FECB52"
          ],
          "font": {
           "color": "#2a3f5f"
          },
          "geo": {
           "bgcolor": "white",
           "lakecolor": "white",
           "landcolor": "#E5ECF6",
           "showlakes": true,
           "showland": true,
           "subunitcolor": "white"
          },
          "hoverlabel": {
           "align": "left"
          },
          "hovermode": "closest",
          "mapbox": {
           "style": "light"
          },
          "paper_bgcolor": "white",
          "plot_bgcolor": "#E5ECF6",
          "polar": {
           "angularaxis": {
            "gridcolor": "white",
            "linecolor": "white",
            "ticks": ""
           },
           "bgcolor": "#E5ECF6",
           "radialaxis": {
            "gridcolor": "white",
            "linecolor": "white",
            "ticks": ""
           }
          },
          "scene": {
           "xaxis": {
            "backgroundcolor": "#E5ECF6",
            "gridcolor": "white",
            "gridwidth": 2,
            "linecolor": "white",
            "showbackground": true,
            "ticks": "",
            "zerolinecolor": "white"
           },
           "yaxis": {
            "backgroundcolor": "#E5ECF6",
            "gridcolor": "white",
            "gridwidth": 2,
            "linecolor": "white",
            "showbackground": true,
            "ticks": "",
            "zerolinecolor": "white"
           },
           "zaxis": {
            "backgroundcolor": "#E5ECF6",
            "gridcolor": "white",
            "gridwidth": 2,
            "linecolor": "white",
            "showbackground": true,
            "ticks": "",
            "zerolinecolor": "white"
           }
          },
          "shapedefaults": {
           "line": {
            "color": "#2a3f5f"
           }
          },
          "ternary": {
           "aaxis": {
            "gridcolor": "white",
            "linecolor": "white",
            "ticks": ""
           },
           "baxis": {
            "gridcolor": "white",
            "linecolor": "white",
            "ticks": ""
           },
           "bgcolor": "#E5ECF6",
           "caxis": {
            "gridcolor": "white",
            "linecolor": "white",
            "ticks": ""
           }
          },
          "title": {
           "x": 0.05
          },
          "xaxis": {
           "automargin": true,
           "gridcolor": "white",
           "linecolor": "white",
           "ticks": "",
           "title": {
            "standoff": 15
           },
           "zerolinecolor": "white",
           "zerolinewidth": 2
          },
          "yaxis": {
           "automargin": true,
           "gridcolor": "white",
           "linecolor": "white",
           "ticks": "",
           "title": {
            "standoff": 15
           },
           "zerolinecolor": "white",
           "zerolinewidth": 2
          }
         }
        }
       }
      }
     },
     "metadata": {},
     "output_type": "display_data"
    }
   ],
   "source": [
    "px.scatter_3d(x=x_testdf.iloc[:,0],y=x_testdf.iloc[:,1],z=x_testdf.iloc[:,2], color= y_pred, title=\"Classical Random Forest\")"
   ]
  },
  {
   "cell_type": "code",
   "execution_count": 762,
   "metadata": {},
   "outputs": [
    {
     "name": "stdout",
     "output_type": "stream",
     "text": [
      "Recall(TP/FN+TP ):0.6666666666666666\n",
      "Precsion(TP/FP+TP): 1.0 \n",
      "F1 score function of presscion and recall:0.8 \n"
     ]
    },
    {
     "data": {
      "image/png": "[encoded data removed]",
      "text/plain": [
       "<Figure size 640x480 with 2 Axes>"
      ]
     },
     "metadata": {},
     "output_type": "display_data"
    }
   ],
   "source": [
    "svm = SVC(kernel = 'rbf').fit(x_train, y_train)   \n",
    "\n",
    "y_pred = svm.predict(X_test)\n",
    "\n",
    "conMtx = confusion_matrix(y_test,y_pred)\n",
    "sns.heatmap(conMtx)\n",
    "f1 = f1_score(y_test,y_pred)\n",
    "recall = recall_score(y_test,y_pred)\n",
    "pre = precision_score(y_test,y_pred)\n",
    "\n",
    "print(f\"Recall(TP/FN+TP ):{recall}\")\n",
    "print(f\"Precsion(TP/FP+TP): {pre} \")\n",
    "print(f\"F1 score function of presscion and recall:{f1} \")"
   ]
  },
  {
   "cell_type": "code",
   "execution_count": 763,
   "metadata": {},
   "outputs": [
    {
     "data": {
      "application/vnd.plotly.v1+json": {
       "config": {
        "plotlyServerURL": "https://plot.ly"
       },
       "data": [
        {
         "hovertemplate": "x=%{x}<br>y=%{y}<br>z=%{z}<br>color=%{marker.color}<extra></extra>",
         "legendgroup": "",
         "marker": {
          "color": [
           0,
           0,
           0,
           0,
           0,
           0,
           0,
           0,
           0,
           0,
           0,
           1,
           0,
           0,
           0,
           0,
           0,
           1,
           0,
           0,
           0,
           0,
           1,
           1,
           0,
           0,
           0,
           0,
           0,
           0,
           0,
           0,
           0,
           0,
           0,
           0,
           0,
           0,
           0,
           0
          ],
          "coloraxis": "coloraxis",
          "symbol": "circle"
         },
         "mode": "markers",
         "name": "",
         "scene": "scene",
         "showlegend": false,
         "type": "scatter3d",
         "x": [
          0.33650422090296445,
          -0.15969839317638007,
          0.6438523509028455,
          1.8081560227921039,
          0.6419115802110177,
          -0.6934663922315143,
          1.8416150258780306,
          -0.5848171354676147,
          0.5710142132582692,
          1.1140526933018386,
          -0.8186248081587115,
          -1.3008090095697844,
          -0.491155186663,
          -0.7078467828176649,
          -0.5652350761731297,
          0.296977110342903,
          0.24383355325366723,
          -0.9675842556236326,
          1.7518834310759854,
          -0.320546364301262,
          -0.2277476437440045,
          -1.5932422694508461,
          -1.3008174172670077,
          -0.9020945722458695,
          0.16448231154543583,
          0.1145784664772824,
          -1.7016883847779694,
          -0.974731665016524,
          -0.5975212833723696,
          0.5871562548840167,
          -1.0283397156925966,
          -0.409282367782827,
          0.10430506218675178,
          -0.4465712127832941,
          1.9196218714227524,
          0.6907041041232975,
          0.5957288645870652,
          -0.27039248667590965,
          1.130625697362713,
          -0.7492189224537285
         ],
         "y": [
          -0.6179652555368043,
          -0.4148971544083097,
          -0.11581523866084353,
          0.07392075915761293,
          -0.2245399836335081,
          0.5923501656061804,
          -0.5905961268213281,
          0.48253336733695557,
          -0.7280540465786176,
          0.5765804107516692,
          -1.0149028550503907,
          1.0883582456987266,
          -0.995872746442021,
          -0.893646720451371,
          1.5791344394342448,
          -0.4128711651701568,
          0.2331462594529898,
          1.5300990775692824,
          -0.7363538087346813,
          -0.45456534817157906,
          -0.4756328609169831,
          -0.233915733857786,
          1.5280226570438202,
          1.3474914978325123,
          0.4281802433721822,
          0.08492524590883577,
          -1.1084255004766892,
          -1.1908545764427438,
          -0.3700717262910689,
          -0.9908541786615059,
          -0.5380960450176631,
          1.232065471122223,
          -0.7825439013365475,
          -0.3833154631379269,
          0.14120949970077543,
          1.178911906223115,
          -1.1371739219881927,
          -0.12647442277117157,
          -0.8466591416475977,
          -0.716322701260593
         ],
         "z": [
          1.7204237137504639,
          1.086126643318191,
          -1.1488324430397818,
          -0.3859077261323981,
          -0.9188151295194134,
          1.157339093814028,
          -0.20227548766548456,
          0.5687951953548228,
          -0.5672541068608288,
          -0.5729213895235411,
          -1.2664056007160573,
          -1.5219117166113352,
          -0.9967595362145873,
          -0.817155643285486,
          0.24866925866291845,
          0.917635765730187,
          0.5121426580361745,
          -0.543817281364393,
          -0.35696476676312455,
          1.0347801393953362,
          0.38537937922607673,
          0.34676108092669977,
          -0.8753389877007604,
          -0.5072880497793577,
          0.37167096440083297,
          0.41185938290211094,
          -0.13462454388357592,
          -0.8486865998333124,
          0.668713027627191,
          -1.0280686271729689,
          -1.304771095990933,
          -0.20004108178899693,
          0.946695984244794,
          1.1387208840604228,
          -0.40564536019769587,
          -0.9920713092837821,
          0.9619602916606658,
          1.1902615582887939,
          -1.060464004511722,
          -1.1092798543199451
         ]
        }
       ],
       "layout": {
        "coloraxis": {
         "colorbar": {
          "title": {
           "text": "color"
          }
         },
         "colorscale": [
          [
           0,
           "#0d0887"
          ],
          [
           0.1111111111111111,
           "#46039f"
          ],
          [
           0.2222222222222222,
           "#7201a8"
          ],
          [
           0.3333333333333333,
           "#9c179e"
          ],
          [
           0.4444444444444444,
           "#bd3786"
          ],
          [
           0.5555555555555556,
           "#d8576b"
          ],
          [
           0.6666666666666666,
           "#ed7953"
          ],
          [
           0.7777777777777778,
           "#fb9f3a"
          ],
          [
           0.8888888888888888,
           "#fdca26"
          ],
          [
           1,
           "#f0f921"
          ]
         ]
        },
        "legend": {
         "tracegroupgap": 0
        },
        "scene": {
         "domain": {
          "x": [
           0,
           1
          ],
          "y": [
           0,
           1
          ]
         },
         "xaxis": {
          "title": {
           "text": "x"
          }
         },
         "yaxis": {
          "title": {
           "text": "y"
          }
         },
         "zaxis": {
          "title": {
           "text": "z"
          }
         }
        },
        "template": {
         "data": {
          "bar": [
           {
            "error_x": {
             "color": "#2a3f5f"
            },
            "error_y": {
             "color": "#2a3f5f"
            },
            "marker": {
             "line": {
              "color": "#E5ECF6",
              "width": 0.5
             },
             "pattern": {
              "fillmode": "overlay",
              "size": 10,
              "solidity": 0.2
             }
            },
            "type": "bar"
           }
          ],
          "barpolar": [
           {
            "marker": {
             "line": {
              "color": "#E5ECF6",
              "width": 0.5
             },
             "pattern": {
              "fillmode": "overlay",
              "size": 10,
              "solidity": 0.2
             }
            },
            "type": "barpolar"
           }
          ],
          "carpet": [
           {
            "aaxis": {
             "endlinecolor": "#2a3f5f",
             "gridcolor": "white",
             "linecolor": "white",
             "minorgridcolor": "white",
             "startlinecolor": "#2a3f5f"
            },
            "baxis": {
             "endlinecolor": "#2a3f5f",
             "gridcolor": "white",
             "linecolor": "white",
             "minorgridcolor": "white",
             "startlinecolor": "#2a3f5f"
            },
            "type": "carpet"
           }
          ],
          "choropleth": [
           {
            "colorbar": {
             "outlinewidth": 0,
             "ticks": ""
            },
            "type": "choropleth"
           }
          ],
          "contour": [
           {
            "colorbar": {
             "outlinewidth": 0,
             "ticks": ""
            },
            "colorscale": [
             [
              0,
              "#0d0887"
             ],
             [
              0.1111111111111111,
              "#46039f"
             ],
             [
              0.2222222222222222,
              "#7201a8"
             ],
             [
              0.3333333333333333,
              "#9c179e"
             ],
             [
              0.4444444444444444,
              "#bd3786"
             ],
             [
              0.5555555555555556,
              "#d8576b"
             ],
             [
              0.6666666666666666,
              "#ed7953"
             ],
             [
              0.7777777777777778,
              "#fb9f3a"
             ],
             [
              0.8888888888888888,
              "#fdca26"
             ],
             [
              1,
              "#f0f921"
             ]
            ],
            "type": "contour"
           }
          ],
          "contourcarpet": [
           {
            "colorbar": {
             "outlinewidth": 0,
             "ticks": ""
            },
            "type": "contourcarpet"
           }
          ],
          "heatmap": [
           {
            "colorbar": {
             "outlinewidth": 0,
             "ticks": ""
            },
            "colorscale": [
             [
              0,
              "#0d0887"
             ],
             [
              0.1111111111111111,
              "#46039f"
             ],
             [
              0.2222222222222222,
              "#7201a8"
             ],
             [
              0.3333333333333333,
              "#9c179e"
             ],
             [
              0.4444444444444444,
              "#bd3786"
             ],
             [
              0.5555555555555556,
              "#d8576b"
             ],
             [
              0.6666666666666666,
              "#ed7953"
             ],
             [
              0.7777777777777778,
              "#fb9f3a"
             ],
             [
              0.8888888888888888,
              "#fdca26"
             ],
             [
              1,
              "#f0f921"
             ]
            ],
            "type": "heatmap"
           }
          ],
          "heatmapgl": [
           {
            "colorbar": {
             "outlinewidth": 0,
             "ticks": ""
            },
            "colorscale": [
             [
              0,
              "#0d0887"
             ],
             [
              0.1111111111111111,
              "#46039f"
             ],
             [
              0.2222222222222222,
              "#7201a8"
             ],
             [
              0.3333333333333333,
              "#9c179e"
             ],
             [
              0.4444444444444444,
              "#bd3786"
             ],
             [
              0.5555555555555556,
              "#d8576b"
             ],
             [
              0.6666666666666666,
              "#ed7953"
             ],
             [
              0.7777777777777778,
              "#fb9f3a"
             ],
             [
              0.8888888888888888,
              "#fdca26"
             ],
             [
              1,
              "#f0f921"
             ]
            ],
            "type": "heatmapgl"
           }
          ],
          "histogram": [
           {
            "marker": {
             "pattern": {
              "fillmode": "overlay",
              "size": 10,
              "solidity": 0.2
             }
            },
            "type": "histogram"
           }
          ],
          "histogram2d": [
           {
            "colorbar": {
             "outlinewidth": 0,
             "ticks": ""
            },
            "colorscale": [
             [
              0,
              "#0d0887"
             ],
             [
              0.1111111111111111,
              "#46039f"
             ],
             [
              0.2222222222222222,
              "#7201a8"
             ],
             [
              0.3333333333333333,
              "#9c179e"
             ],
             [
              0.4444444444444444,
              "#bd3786"
             ],
             [
              0.5555555555555556,
              "#d8576b"
             ],
             [
              0.6666666666666666,
              "#ed7953"
             ],
             [
              0.7777777777777778,
              "#fb9f3a"
             ],
             [
              0.8888888888888888,
              "#fdca26"
             ],
             [
              1,
              "#f0f921"
             ]
            ],
            "type": "histogram2d"
           }
          ],
          "histogram2dcontour": [
           {
            "colorbar": {
             "outlinewidth": 0,
             "ticks": ""
            },
            "colorscale": [
             [
              0,
              "#0d0887"
             ],
             [
              0.1111111111111111,
              "#46039f"
             ],
             [
              0.2222222222222222,
              "#7201a8"
             ],
             [
              0.3333333333333333,
              "#9c179e"
             ],
             [
              0.4444444444444444,
              "#bd3786"
             ],
             [
              0.5555555555555556,
              "#d8576b"
             ],
             [
              0.6666666666666666,
              "#ed7953"
             ],
             [
              0.7777777777777778,
              "#fb9f3a"
             ],
             [
              0.8888888888888888,
              "#fdca26"
             ],
             [
              1,
              "#f0f921"
             ]
            ],
            "type": "histogram2dcontour"
           }
          ],
          "mesh3d": [
           {
            "colorbar": {
             "outlinewidth": 0,
             "ticks": ""
            },
            "type": "mesh3d"
           }
          ],
          "parcoords": [
           {
            "line": {
             "colorbar": {
              "outlinewidth": 0,
              "ticks": ""
             }
            },
            "type": "parcoords"
           }
          ],
          "pie": [
           {
            "automargin": true,
            "type": "pie"
           }
          ],
          "scatter": [
           {
            "fillpattern": {
             "fillmode": "overlay",
             "size": 10,
             "solidity": 0.2
            },
            "type": "scatter"
           }
          ],
          "scatter3d": [
           {
            "line": {
             "colorbar": {
              "outlinewidth": 0,
              "ticks": ""
             }
            },
            "marker": {
             "colorbar": {
              "outlinewidth": 0,
              "ticks": ""
             }
            },
            "type": "scatter3d"
           }
          ],
          "scattercarpet": [
           {
            "marker": {
             "colorbar": {
              "outlinewidth": 0,
              "ticks": ""
             }
            },
            "type": "scattercarpet"
           }
          ],
          "scattergeo": [
           {
            "marker": {
             "colorbar": {
              "outlinewidth": 0,
              "ticks": ""
             }
            },
            "type": "scattergeo"
           }
          ],
          "scattergl": [
           {
            "marker": {
             "colorbar": {
              "outlinewidth": 0,
              "ticks": ""
             }
            },
            "type": "scattergl"
           }
          ],
          "scattermapbox": [
           {
            "marker": {
             "colorbar": {
              "outlinewidth": 0,
              "ticks": ""
             }
            },
            "type": "scattermapbox"
           }
          ],
          "scatterpolar": [
           {
            "marker": {
             "colorbar": {
              "outlinewidth": 0,
              "ticks": ""
             }
            },
            "type": "scatterpolar"
           }
          ],
          "scatterpolargl": [
           {
            "marker": {
             "colorbar": {
              "outlinewidth": 0,
              "ticks": ""
             }
            },
            "type": "scatterpolargl"
           }
          ],
          "scatterternary": [
           {
            "marker": {
             "colorbar": {
              "outlinewidth": 0,
              "ticks": ""
             }
            },
            "type": "scatterternary"
           }
          ],
          "surface": [
           {
            "colorbar": {
             "outlinewidth": 0,
             "ticks": ""
            },
            "colorscale": [
             [
              0,
              "#0d0887"
             ],
             [
              0.1111111111111111,
              "#46039f"
             ],
             [
              0.2222222222222222,
              "#7201a8"
             ],
             [
              0.3333333333333333,
              "#9c179e"
             ],
             [
              0.4444444444444444,
              "#bd3786"
             ],
             [
              0.5555555555555556,
              "#d8576b"
             ],
             [
              0.6666666666666666,
              "#ed7953"
             ],
             [
              0.7777777777777778,
              "#fb9f3a"
             ],
             [
              0.8888888888888888,
              "#fdca26"
             ],
             [
              1,
              "#f0f921"
             ]
            ],
            "type": "surface"
           }
          ],
          "table": [
           {
            "cells": {
             "fill": {
              "color": "#EBF0F8"
             },
             "line": {
              "color": "white"
             }
            },
            "header": {
             "fill": {
              "color": "#C8D4E3"
             },
             "line": {
              "color": "white"
             }
            },
            "type": "table"
           }
          ]
         },
         "layout": {
          "annotationdefaults": {
           "arrowcolor": "#2a3f5f",
           "arrowhead": 0,
           "arrowwidth": 1
          },
          "autotypenumbers": "strict",
          "coloraxis": {
           "colorbar": {
            "outlinewidth": 0,
            "ticks": ""
           }
          },
          "colorscale": {
           "diverging": [
            [
             0,
             "#8e0152"
            ],
            [
             0.1,
             "#c51b7d"
            ],
            [
             0.2,
             "#de77ae"
            ],
            [
             0.3,
             "#f1b6da"
            ],
            [
             0.4,
             "#fde0ef"
            ],
            [
             0.5,
             "#f7f7f7"
            ],
            [
             0.6,
             "#e6f5d0"
            ],
            [
             0.7,
             "#b8e186"
            ],
            [
             0.8,
             "#7fbc41"
            ],
            [
             0.9,
             "#4d9221"
            ],
            [
             1,
             "#276419"
            ]
           ],
           "sequential": [
            [
             0,
             "#0d0887"
            ],
            [
             0.1111111111111111,
             "#46039f"
            ],
            [
             0.2222222222222222,
             "#7201a8"
            ],
            [
             0.3333333333333333,
             "#9c179e"
            ],
            [
             0.4444444444444444,
             "#bd3786"
            ],
            [
             0.5555555555555556,
             "#d8576b"
            ],
            [
             0.6666666666666666,
             "#ed7953"
            ],
            [
             0.7777777777777778,
             "#fb9f3a"
            ],
            [
             0.8888888888888888,
             "#fdca26"
            ],
            [
             1,
             "#f0f921"
            ]
           ],
           "sequentialminus": [
            [
             0,
             "#0d0887"
            ],
            [
             0.1111111111111111,
             "#46039f"
            ],
            [
             0.2222222222222222,
             "#7201a8"
            ],
            [
             0.3333333333333333,
             "#9c179e"
            ],
            [
             0.4444444444444444,
             "#bd3786"
            ],
            [
             0.5555555555555556,
             "#d8576b"
            ],
            [
             0.6666666666666666,
             "#ed7953"
            ],
            [
             0.7777777777777778,
             "#fb9f3a"
            ],
            [
             0.8888888888888888,
             "#fdca26"
            ],
            [
             1,
             "#f0f921"
            ]
           ]
          },
          "colorway": [
           "#636efa",
           "#EF553B",
           "#00cc96",
           "#ab63fa",
           "#FFA15A",
           "#19d3f3",
           "#FF6692",
           "#B6E880",
           "#FF97FF",
           "#FECB52"
          ],
          "font": {
           "color": "#2a3f5f"
          },
          "geo": {
           "bgcolor": "white",
           "lakecolor": "white",
           "landcolor": "#E5ECF6",
           "showlakes": true,
           "showland": true,
           "subunitcolor": "white"
          },
          "hoverlabel": {
           "align": "left"
          },
          "hovermode": "closest",
          "mapbox": {
           "style": "light"
          },
          "paper_bgcolor": "white",
          "plot_bgcolor": "#E5ECF6",
          "polar": {
           "angularaxis": {
            "gridcolor": "white",
            "linecolor": "white",
            "ticks": ""
           },
           "bgcolor": "#E5ECF6",
           "radialaxis": {
            "gridcolor": "white",
            "linecolor": "white",
            "ticks": ""
           }
          },
          "scene": {
           "xaxis": {
            "backgroundcolor": "#E5ECF6",
            "gridcolor": "white",
            "gridwidth": 2,
            "linecolor": "white",
            "showbackground": true,
            "ticks": "",
            "zerolinecolor": "white"
           },
           "yaxis": {
            "backgroundcolor": "#E5ECF6",
            "gridcolor": "white",
            "gridwidth": 2,
            "linecolor": "white",
            "showbackground": true,
            "ticks": "",
            "zerolinecolor": "white"
           },
           "zaxis": {
            "backgroundcolor": "#E5ECF6",
            "gridcolor": "white",
            "gridwidth": 2,
            "linecolor": "white",
            "showbackground": true,
            "ticks": "",
            "zerolinecolor": "white"
           }
          },
          "shapedefaults": {
           "line": {
            "color": "#2a3f5f"
           }
          },
          "ternary": {
           "aaxis": {
            "gridcolor": "white",
            "linecolor": "white",
            "ticks": ""
           },
           "baxis": {
            "gridcolor": "white",
            "linecolor": "white",
            "ticks": ""
           },
           "bgcolor": "#E5ECF6",
           "caxis": {
            "gridcolor": "white",
            "linecolor": "white",
            "ticks": ""
           }
          },
          "title": {
           "x": 0.05
          },
          "xaxis": {
           "automargin": true,
           "gridcolor": "white",
           "linecolor": "white",
           "ticks": "",
           "title": {
            "standoff": 15
           },
           "zerolinecolor": "white",
           "zerolinewidth": 2
          },
          "yaxis": {
           "automargin": true,
           "gridcolor": "white",
           "linecolor": "white",
           "ticks": "",
           "title": {
            "standoff": 15
           },
           "zerolinecolor": "white",
           "zerolinewidth": 2
          }
         }
        },
        "title": {
         "text": "SVM With RBF Kernel"
        }
       }
      }
     },
     "metadata": {},
     "output_type": "display_data"
    }
   ],
   "source": [
    "px.scatter_3d(x=x_testdf.iloc[:,0],y=x_testdf.iloc[:,1],z=x_testdf.iloc[:,2], color= y_pred, title=\"SVM With RBF Kernel\")"
   ]
  },
  {
   "cell_type": "code",
   "execution_count": 764,
   "metadata": {},
   "outputs": [],
   "source": [
    "nqubits = 4\n",
    "devSVM = qml.device(\"lightning.qubit\", wires=nqubits) "
   ]
  },
  {
   "cell_type": "code",
   "execution_count": 766,
   "metadata": {},
   "outputs": [],
   "source": [
    "def qAnastz(nqubits, data, parameters):\n",
    "    nload = min(len(data), nqubits) \n",
    "    #print(nload)\n",
    "    for i in range(nload): \n",
    " \n",
    "        qml.Hadamard(i) \n",
    " \n",
    "        qml.RX(parameters[i][0] * data[i], wires = i)\n",
    "        #print(f\"qubit:{i},value{parameters[i][0]}\")\n",
    "    for i in range(nload-1): \n",
    "        for j in range(i+1,nload-(1+i)):\n",
    "            \n",
    "            wires = [i,i+j]\n",
    "            qml.IsingZZ(parameters[i][j+i]*data[i],wires)\n",
    "            #print(f\"qubit:{i},{j+1}value{parameters[i][j+i]}\")\n",
    "    for i in range(nload): \n",
    " \n",
    "        \n",
    " \n",
    "        qml.RY(parameters[i][3] * data[i], wires = i)\n",
    "    \n",
    "    for i in range(nload): \n",
    "\n",
    "        qml.RX(parameters[i][0] * data[i], wires = i)\n",
    " \n",
    "        qml.Hadamard(i) \n",
    "\n",
    "def init__para (nqubit,value):\n",
    "    para= []\n",
    "    for i in range(nqubit):\n",
    "        \n",
    "        p =[]\n",
    "        for j in range(nqubit):\n",
    "            p.append(value)\n",
    "        \n",
    "        para.append(p)\n",
    "        \n",
    "    return para\n",
    "\n",
    "def optomizer(para,index,score,nqubits,Learning_rate):\n",
    "    coef = (1-score)/nqubits # score-previous\n",
    "    print(f\"learning coef{coef}\")\n",
    "    for i  in range(len(para[index])):\n",
    "        para[index][i] = para[index][i]+(Learning_rate*coef)\n",
    "        \n",
    "    return para"
   ]
  },
  {
   "cell_type": "code",
   "execution_count": 767,
   "metadata": {},
   "outputs": [
    {
     "name": "stderr",
     "output_type": "stream",
     "text": [
      "c:\\Users\\John\\anaconda32\\lib\\site-packages\\sklearn\\svm\\_base.py:299: ConvergenceWarning:\n",
      "\n",
      "Solver terminated early (max_iter=1).  Consider pre-processing your data with StandardScaler or MinMaxScaler.\n",
      "\n"
     ]
    },
    {
     "name": "stdout",
     "output_type": "stream",
     "text": [
      "0.85625\n",
      "learning coef0.03593750000000001\n",
      "parameter index 0 Iteration:0 values[8.59375, 8.59375, 8.59375, 8.59375]\n"
     ]
    },
    {
     "name": "stderr",
     "output_type": "stream",
     "text": [
      "c:\\Users\\John\\anaconda32\\lib\\site-packages\\sklearn\\svm\\_base.py:299: ConvergenceWarning:\n",
      "\n",
      "Solver terminated early (max_iter=1).  Consider pre-processing your data with StandardScaler or MinMaxScaler.\n",
      "\n"
     ]
    },
    {
     "name": "stdout",
     "output_type": "stream",
     "text": [
      "0.3625\n",
      "learning coef0.159375\n",
      "parameter index 0 Iteration:1 values[24.53125, 24.53125, 24.53125, 24.53125]\n"
     ]
    },
    {
     "name": "stderr",
     "output_type": "stream",
     "text": [
      "c:\\Users\\John\\anaconda32\\lib\\site-packages\\sklearn\\svm\\_base.py:299: ConvergenceWarning:\n",
      "\n",
      "Solver terminated early (max_iter=1).  Consider pre-processing your data with StandardScaler or MinMaxScaler.\n",
      "\n"
     ]
    },
    {
     "name": "stdout",
     "output_type": "stream",
     "text": [
      "0.475\n",
      "learning coef0.13125\n",
      "parameter index 0 Iteration:2 values[37.65625, 37.65625, 37.65625, 37.65625]\n"
     ]
    },
    {
     "name": "stderr",
     "output_type": "stream",
     "text": [
      "c:\\Users\\John\\anaconda32\\lib\\site-packages\\sklearn\\svm\\_base.py:299: ConvergenceWarning:\n",
      "\n",
      "Solver terminated early (max_iter=1).  Consider pre-processing your data with StandardScaler or MinMaxScaler.\n",
      "\n"
     ]
    },
    {
     "name": "stdout",
     "output_type": "stream",
     "text": [
      "0.5875\n",
      "learning coef0.103125\n",
      "parameter index 0 Iteration:3 values[47.96875, 47.96875, 47.96875, 47.96875]\n"
     ]
    },
    {
     "name": "stderr",
     "output_type": "stream",
     "text": [
      "c:\\Users\\John\\anaconda32\\lib\\site-packages\\sklearn\\svm\\_base.py:299: ConvergenceWarning:\n",
      "\n",
      "Solver terminated early (max_iter=1).  Consider pre-processing your data with StandardScaler or MinMaxScaler.\n",
      "\n"
     ]
    },
    {
     "name": "stdout",
     "output_type": "stream",
     "text": [
      "0.575\n",
      "learning coef0.10625000000000001\n",
      "parameter index 0 Iteration:4 values[58.59375, 58.59375, 58.59375, 58.59375]\n"
     ]
    },
    {
     "name": "stderr",
     "output_type": "stream",
     "text": [
      "c:\\Users\\John\\anaconda32\\lib\\site-packages\\sklearn\\svm\\_base.py:299: ConvergenceWarning:\n",
      "\n",
      "Solver terminated early (max_iter=1).  Consider pre-processing your data with StandardScaler or MinMaxScaler.\n",
      "\n"
     ]
    },
    {
     "name": "stdout",
     "output_type": "stream",
     "text": [
      "0.7375\n",
      "learning coef0.06562499999999999\n",
      "parameter index 0 Iteration:5 values[65.15625, 65.15625, 65.15625, 65.15625]\n"
     ]
    },
    {
     "name": "stderr",
     "output_type": "stream",
     "text": [
      "c:\\Users\\John\\anaconda32\\lib\\site-packages\\sklearn\\svm\\_base.py:299: ConvergenceWarning:\n",
      "\n",
      "Solver terminated early (max_iter=1).  Consider pre-processing your data with StandardScaler or MinMaxScaler.\n",
      "\n"
     ]
    },
    {
     "name": "stdout",
     "output_type": "stream",
     "text": [
      "0.68125\n",
      "learning coef0.0796875\n",
      "parameter index 0 Iteration:6 values[73.125, 73.125, 73.125, 73.125]\n"
     ]
    },
    {
     "name": "stderr",
     "output_type": "stream",
     "text": [
      "c:\\Users\\John\\anaconda32\\lib\\site-packages\\sklearn\\svm\\_base.py:299: ConvergenceWarning:\n",
      "\n",
      "Solver terminated early (max_iter=1).  Consider pre-processing your data with StandardScaler or MinMaxScaler.\n",
      "\n"
     ]
    },
    {
     "name": "stdout",
     "output_type": "stream",
     "text": [
      "0.3125\n",
      "learning coef0.171875\n",
      "parameter index 0 Iteration:7 values[90.3125, 90.3125, 90.3125, 90.3125]\n"
     ]
    },
    {
     "name": "stderr",
     "output_type": "stream",
     "text": [
      "c:\\Users\\John\\anaconda32\\lib\\site-packages\\sklearn\\svm\\_base.py:299: ConvergenceWarning:\n",
      "\n",
      "Solver terminated early (max_iter=1).  Consider pre-processing your data with StandardScaler or MinMaxScaler.\n",
      "\n"
     ]
    },
    {
     "name": "stdout",
     "output_type": "stream",
     "text": [
      "0.625\n",
      "learning coef0.09375\n",
      "parameter index 0 Iteration:8 values[99.6875, 99.6875, 99.6875, 99.6875]\n"
     ]
    },
    {
     "name": "stderr",
     "output_type": "stream",
     "text": [
      "c:\\Users\\John\\anaconda32\\lib\\site-packages\\sklearn\\svm\\_base.py:299: ConvergenceWarning:\n",
      "\n",
      "Solver terminated early (max_iter=1).  Consider pre-processing your data with StandardScaler or MinMaxScaler.\n",
      "\n"
     ]
    },
    {
     "name": "stdout",
     "output_type": "stream",
     "text": [
      "0.4875\n",
      "learning coef0.128125\n",
      "parameter index 0 Iteration:9 values[112.5, 112.5, 112.5, 112.5]\n"
     ]
    }
   ],
   "source": [
    "@qml.qnode(devSVM)\n",
    "\n",
    "def kernel_circAntz(a, b): \n",
    "    qAnastz(nqubits,a,para)\n",
    "    qml.adjoint(qAnastz)(nqubits,b,para)\n",
    "    return qml.probs(wires = range(nqubits))\n",
    "def qkernelAntz(A, B): \n",
    " \n",
    "    return np.array([[kernel_circAntz(a, b)[0] for b in B] for a in A])\n",
    "\n",
    "\n",
    "iter = 10\n",
    "para = init__para(nqubits,5.0)\n",
    "index = 0\n",
    "prescore = 0\n",
    "paralist = list([[],[],[],[]])\n",
    "optpara = para\n",
    "\n",
    "for i in range(iter):\n",
    "    svm = SVC(kernel = qkernelAntz,max_iter=1).fit(x_train, y_train)\n",
    "    score= svm.score(x_train, y_train)\n",
    "    if score > prescore:\n",
    "        prescore = score\n",
    "        optpara[index]= para[index]\n",
    "    print(score)\n",
    "    paralist[index] = optomizer(para=para,index=index,score=score,nqubits=nqubits,Learning_rate=100)\n",
    "    print(f\"parameter index {index} Iteration:{i} values{paralist[index][index]}\")"
   ]
  },
  {
   "cell_type": "code",
   "execution_count": 780,
   "metadata": {},
   "outputs": [
    {
     "name": "stdout",
     "output_type": "stream",
     "text": [
      "0.85\n"
     ]
    }
   ],
   "source": [
    "para = optpara\n",
    "\n",
    "#p1 = [5.0,5.0,5.0,5.0]\n",
    "#p2 = [5.0,5.0,5.0,5.0]\n",
    "#p3 = [40.15625, 40.15625, 40.15625, 40.15625]\n",
    "#p4 = [19.53125, 19.53125, 19.53125, 19.53125]\n",
    "\n",
    "#para = [p1,p2,p3,p4]\n",
    "\n",
    "\n",
    "\n",
    "    \n",
    "svm = SVC(kernel = qkernelAntz).fit(x_train, y_train)   \n",
    "score= svm.score(x_test, y_test)\n",
    "print(score)\n"
   ]
  },
  {
   "cell_type": "code",
   "execution_count": 781,
   "metadata": {},
   "outputs": [
    {
     "name": "stdout",
     "output_type": "stream",
     "text": [
      "Recall(TP/FN+TP ):0.0\n",
      "Precsion(TP/FP+TP): 0.0 \n",
      "F1 score function of presscion and recall:0.0 \n"
     ]
    },
    {
     "name": "stderr",
     "output_type": "stream",
     "text": [
      "c:\\Users\\John\\anaconda32\\lib\\site-packages\\sklearn\\metrics\\_classification.py:1344: UndefinedMetricWarning:\n",
      "\n",
      "Precision is ill-defined and being set to 0.0 due to no predicted samples. Use `zero_division` parameter to control this behavior.\n",
      "\n"
     ]
    },
    {
     "data": {
      "image/png": "[encoded data removed]",
      "text/plain": [
       "<Figure size 640x480 with 2 Axes>"
      ]
     },
     "metadata": {},
     "output_type": "display_data"
    }
   ],
   "source": [
    "y_pred = svm.predict(X_test)\n",
    "conMtx = confusion_matrix(y_test,y_pred)\n",
    "sns.heatmap(conMtx)\n",
    "f1 = f1_score(y_test,y_pred)\n",
    "recall = recall_score(y_test,y_pred)\n",
    "pre = precision_score(y_test,y_pred)\n",
    "\n",
    "print(f\"Recall(TP/FN+TP ):{recall}\")\n",
    "print(f\"Precsion(TP/FP+TP): {pre} \")\n",
    "print(f\"F1 score function of presscion and recall:{f1} \")"
   ]
  },
  {
   "cell_type": "code",
   "execution_count": null,
   "metadata": {},
   "outputs": [],
   "source": []
  },
  {
   "cell_type": "code",
   "execution_count": 783,
   "metadata": {},
   "outputs": [
    {
     "data": {
      "application/vnd.plotly.v1+json": {
       "config": {
        "plotlyServerURL": "https://plot.ly"
       },
       "data": [
        {
         "hovertemplate": "x=%{x}<br>y=%{y}<br>z=%{z}<br>color=%{marker.color}<extra></extra>",
         "legendgroup": "",
         "marker": {
          "color": [
           0,
           0,
           0,
           0,
           0,
           0,
           0,
           0,
           0,
           0,
           0,
           0,
           0,
           0,
           0,
           0,
           0,
           0,
           0,
           0,
           0,
           0,
           0,
           0,
           0,
           0,
           0,
           0,
           0,
           0,
           0,
           0,
           0,
           0,
           0,
           0,
           0,
           0,
           0,
           0
          ],
          "coloraxis": "coloraxis",
          "symbol": "circle"
         },
         "mode": "markers",
         "name": "",
         "scene": "scene",
         "showlegend": false,
         "type": "scatter3d",
         "x": [
          0.33650422090296445,
          -0.15969839317638007,
          0.6438523509028455,
          1.8081560227921039,
          0.6419115802110177,
          -0.6934663922315143,
          1.8416150258780306,
          -0.5848171354676147,
          0.5710142132582692,
          1.1140526933018386,
          -0.8186248081587115,
          -1.3008090095697844,
          -0.491155186663,
          -0.7078467828176649,
          -0.5652350761731297,
          0.296977110342903,
          0.24383355325366723,
          -0.9675842556236326,
          1.7518834310759854,
          -0.320546364301262,
          -0.2277476437440045,
          -1.5932422694508461,
          -1.3008174172670077,
          -0.9020945722458695,
          0.16448231154543583,
          0.1145784664772824,
          -1.7016883847779694,
          -0.974731665016524,
          -0.5975212833723696,
          0.5871562548840167,
          -1.0283397156925966,
          -0.409282367782827,
          0.10430506218675178,
          -0.4465712127832941,
          1.9196218714227524,
          0.6907041041232975,
          0.5957288645870652,
          -0.27039248667590965,
          1.130625697362713,
          -0.7492189224537285
         ],
         "y": [
          -0.6179652555368043,
          -0.4148971544083097,
          -0.11581523866084353,
          0.07392075915761293,
          -0.2245399836335081,
          0.5923501656061804,
          -0.5905961268213281,
          0.48253336733695557,
          -0.7280540465786176,
          0.5765804107516692,
          -1.0149028550503907,
          1.0883582456987266,
          -0.995872746442021,
          -0.893646720451371,
          1.5791344394342448,
          -0.4128711651701568,
          0.2331462594529898,
          1.5300990775692824,
          -0.7363538087346813,
          -0.45456534817157906,
          -0.4756328609169831,
          -0.233915733857786,
          1.5280226570438202,
          1.3474914978325123,
          0.4281802433721822,
          0.08492524590883577,
          -1.1084255004766892,
          -1.1908545764427438,
          -0.3700717262910689,
          -0.9908541786615059,
          -0.5380960450176631,
          1.232065471122223,
          -0.7825439013365475,
          -0.3833154631379269,
          0.14120949970077543,
          1.178911906223115,
          -1.1371739219881927,
          -0.12647442277117157,
          -0.8466591416475977,
          -0.716322701260593
         ],
         "z": [
          1.7204237137504639,
          1.086126643318191,
          -1.1488324430397818,
          -0.3859077261323981,
          -0.9188151295194134,
          1.157339093814028,
          -0.20227548766548456,
          0.5687951953548228,
          -0.5672541068608288,
          -0.5729213895235411,
          -1.2664056007160573,
          -1.5219117166113352,
          -0.9967595362145873,
          -0.817155643285486,
          0.24866925866291845,
          0.917635765730187,
          0.5121426580361745,
          -0.543817281364393,
          -0.35696476676312455,
          1.0347801393953362,
          0.38537937922607673,
          0.34676108092669977,
          -0.8753389877007604,
          -0.5072880497793577,
          0.37167096440083297,
          0.41185938290211094,
          -0.13462454388357592,
          -0.8486865998333124,
          0.668713027627191,
          -1.0280686271729689,
          -1.304771095990933,
          -0.20004108178899693,
          0.946695984244794,
          1.1387208840604228,
          -0.40564536019769587,
          -0.9920713092837821,
          0.9619602916606658,
          1.1902615582887939,
          -1.060464004511722,
          -1.1092798543199451
         ]
        }
       ],
       "layout": {
        "coloraxis": {
         "colorbar": {
          "title": {
           "text": "color"
          }
         },
         "colorscale": [
          [
           0,
           "#0d0887"
          ],
          [
           0.1111111111111111,
           "#46039f"
          ],
          [
           0.2222222222222222,
           "#7201a8"
          ],
          [
           0.3333333333333333,
           "#9c179e"
          ],
          [
           0.4444444444444444,
           "#bd3786"
          ],
          [
           0.5555555555555556,
           "#d8576b"
          ],
          [
           0.6666666666666666,
           "#ed7953"
          ],
          [
           0.7777777777777778,
           "#fb9f3a"
          ],
          [
           0.8888888888888888,
           "#fdca26"
          ],
          [
           1,
           "#f0f921"
          ]
         ]
        },
        "legend": {
         "tracegroupgap": 0
        },
        "scene": {
         "domain": {
          "x": [
           0,
           1
          ],
          "y": [
           0,
           1
          ]
         },
         "xaxis": {
          "title": {
           "text": "x"
          }
         },
         "yaxis": {
          "title": {
           "text": "y"
          }
         },
         "zaxis": {
          "title": {
           "text": "z"
          }
         }
        },
        "template": {
         "data": {
          "bar": [
           {
            "error_x": {
             "color": "#2a3f5f"
            },
            "error_y": {
             "color": "#2a3f5f"
            },
            "marker": {
             "line": {
              "color": "#E5ECF6",
              "width": 0.5
             },
             "pattern": {
              "fillmode": "overlay",
              "size": 10,
              "solidity": 0.2
             }
            },
            "type": "bar"
           }
          ],
          "barpolar": [
           {
            "marker": {
             "line": {
              "color": "#E5ECF6",
              "width": 0.5
             },
             "pattern": {
              "fillmode": "overlay",
              "size": 10,
              "solidity": 0.2
             }
            },
            "type": "barpolar"
           }
          ],
          "carpet": [
           {
            "aaxis": {
             "endlinecolor": "#2a3f5f",
             "gridcolor": "white",
             "linecolor": "white",
             "minorgridcolor": "white",
             "startlinecolor": "#2a3f5f"
            },
            "baxis": {
             "endlinecolor": "#2a3f5f",
             "gridcolor": "white",
             "linecolor": "white",
             "minorgridcolor": "white",
             "startlinecolor": "#2a3f5f"
            },
            "type": "carpet"
           }
          ],
          "choropleth": [
           {
            "colorbar": {
             "outlinewidth": 0,
             "ticks": ""
            },
            "type": "choropleth"
           }
          ],
          "contour": [
           {
            "colorbar": {
             "outlinewidth": 0,
             "ticks": ""
            },
            "colorscale": [
             [
              0,
              "#0d0887"
             ],
             [
              0.1111111111111111,
              "#46039f"
             ],
             [
              0.2222222222222222,
              "#7201a8"
             ],
             [
              0.3333333333333333,
              "#9c179e"
             ],
             [
              0.4444444444444444,
              "#bd3786"
             ],
             [
              0.5555555555555556,
              "#d8576b"
             ],
             [
              0.6666666666666666,
              "#ed7953"
             ],
             [
              0.7777777777777778,
              "#fb9f3a"
             ],
             [
              0.8888888888888888,
              "#fdca26"
             ],
             [
              1,
              "#f0f921"
             ]
            ],
            "type": "contour"
           }
          ],
          "contourcarpet": [
           {
            "colorbar": {
             "outlinewidth": 0,
             "ticks": ""
            },
            "type": "contourcarpet"
           }
          ],
          "heatmap": [
           {
            "colorbar": {
             "outlinewidth": 0,
             "ticks": ""
            },
            "colorscale": [
             [
              0,
              "#0d0887"
             ],
             [
              0.1111111111111111,
              "#46039f"
             ],
             [
              0.2222222222222222,
              "#7201a8"
             ],
             [
              0.3333333333333333,
              "#9c179e"
             ],
             [
              0.4444444444444444,
              "#bd3786"
             ],
             [
              0.5555555555555556,
              "#d8576b"
             ],
             [
              0.6666666666666666,
              "#ed7953"
             ],
             [
              0.7777777777777778,
              "#fb9f3a"
             ],
             [
              0.8888888888888888,
              "#fdca26"
             ],
             [
              1,
              "#f0f921"
             ]
            ],
            "type": "heatmap"
           }
          ],
          "heatmapgl": [
           {
            "colorbar": {
             "outlinewidth": 0,
             "ticks": ""
            },
            "colorscale": [
             [
              0,
              "#0d0887"
             ],
             [
              0.1111111111111111,
              "#46039f"
             ],
             [
              0.2222222222222222,
              "#7201a8"
             ],
             [
              0.3333333333333333,
              "#9c179e"
             ],
             [
              0.4444444444444444,
              "#bd3786"
             ],
             [
              0.5555555555555556,
              "#d8576b"
             ],
             [
              0.6666666666666666,
              "#ed7953"
             ],
             [
              0.7777777777777778,
              "#fb9f3a"
             ],
             [
              0.8888888888888888,
              "#fdca26"
             ],
             [
              1,
              "#f0f921"
             ]
            ],
            "type": "heatmapgl"
           }
          ],
          "histogram": [
           {
            "marker": {
             "pattern": {
              "fillmode": "overlay",
              "size": 10,
              "solidity": 0.2
             }
            },
            "type": "histogram"
           }
          ],
          "histogram2d": [
           {
            "colorbar": {
             "outlinewidth": 0,
             "ticks": ""
            },
            "colorscale": [
             [
              0,
              "#0d0887"
             ],
             [
              0.1111111111111111,
              "#46039f"
             ],
             [
              0.2222222222222222,
              "#7201a8"
             ],
             [
              0.3333333333333333,
              "#9c179e"
             ],
             [
              0.4444444444444444,
              "#bd3786"
             ],
             [
              0.5555555555555556,
              "#d8576b"
             ],
             [
              0.6666666666666666,
              "#ed7953"
             ],
             [
              0.7777777777777778,
              "#fb9f3a"
             ],
             [
              0.8888888888888888,
              "#fdca26"
             ],
             [
              1,
              "#f0f921"
             ]
            ],
            "type": "histogram2d"
           }
          ],
          "histogram2dcontour": [
           {
            "colorbar": {
             "outlinewidth": 0,
             "ticks": ""
            },
            "colorscale": [
             [
              0,
              "#0d0887"
             ],
             [
              0.1111111111111111,
              "#46039f"
             ],
             [
              0.2222222222222222,
              "#7201a8"
             ],
             [
              0.3333333333333333,
              "#9c179e"
             ],
             [
              0.4444444444444444,
              "#bd3786"
             ],
             [
              0.5555555555555556,
              "#d8576b"
             ],
             [
              0.6666666666666666,
              "#ed7953"
             ],
             [
              0.7777777777777778,
              "#fb9f3a"
             ],
             [
              0.8888888888888888,
              "#fdca26"
             ],
             [
              1,
              "#f0f921"
             ]
            ],
            "type": "histogram2dcontour"
           }
          ],
          "mesh3d": [
           {
            "colorbar": {
             "outlinewidth": 0,
             "ticks": ""
            },
            "type": "mesh3d"
           }
          ],
          "parcoords": [
           {
            "line": {
             "colorbar": {
              "outlinewidth": 0,
              "ticks": ""
             }
            },
            "type": "parcoords"
           }
          ],
          "pie": [
           {
            "automargin": true,
            "type": "pie"
           }
          ],
          "scatter": [
           {
            "fillpattern": {
             "fillmode": "overlay",
             "size": 10,
             "solidity": 0.2
            },
            "type": "scatter"
           }
          ],
          "scatter3d": [
           {
            "line": {
             "colorbar": {
              "outlinewidth": 0,
              "ticks": ""
             }
            },
            "marker": {
             "colorbar": {
              "outlinewidth": 0,
              "ticks": ""
             }
            },
            "type": "scatter3d"
           }
          ],
          "scattercarpet": [
           {
            "marker": {
             "colorbar": {
              "outlinewidth": 0,
              "ticks": ""
             }
            },
            "type": "scattercarpet"
           }
          ],
          "scattergeo": [
           {
            "marker": {
             "colorbar": {
              "outlinewidth": 0,
              "ticks": ""
             }
            },
            "type": "scattergeo"
           }
          ],
          "scattergl": [
           {
            "marker": {
             "colorbar": {
              "outlinewidth": 0,
              "ticks": ""
             }
            },
            "type": "scattergl"
           }
          ],
          "scattermapbox": [
           {
            "marker": {
             "colorbar": {
              "outlinewidth": 0,
              "ticks": ""
             }
            },
            "type": "scattermapbox"
           }
          ],
          "scatterpolar": [
           {
            "marker": {
             "colorbar": {
              "outlinewidth": 0,
              "ticks": ""
             }
            },
            "type": "scatterpolar"
           }
          ],
          "scatterpolargl": [
           {
            "marker": {
             "colorbar": {
              "outlinewidth": 0,
              "ticks": ""
             }
            },
            "type": "scatterpolargl"
           }
          ],
          "scatterternary": [
           {
            "marker": {
             "colorbar": {
              "outlinewidth": 0,
              "ticks": ""
             }
            },
            "type": "scatterternary"
           }
          ],
          "surface": [
           {
            "colorbar": {
             "outlinewidth": 0,
             "ticks": ""
            },
            "colorscale": [
             [
              0,
              "#0d0887"
             ],
             [
              0.1111111111111111,
              "#46039f"
             ],
             [
              0.2222222222222222,
              "#7201a8"
             ],
             [
              0.3333333333333333,
              "#9c179e"
             ],
             [
              0.4444444444444444,
              "#bd3786"
             ],
             [
              0.5555555555555556,
              "#d8576b"
             ],
             [
              0.6666666666666666,
              "#ed7953"
             ],
             [
              0.7777777777777778,
              "#fb9f3a"
             ],
             [
              0.8888888888888888,
              "#fdca26"
             ],
             [
              1,
              "#f0f921"
             ]
            ],
            "type": "surface"
           }
          ],
          "table": [
           {
            "cells": {
             "fill": {
              "color": "#EBF0F8"
             },
             "line": {
              "color": "white"
             }
            },
            "header": {
             "fill": {
              "color": "#C8D4E3"
             },
             "line": {
              "color": "white"
             }
            },
            "type": "table"
           }
          ]
         },
         "layout": {
          "annotationdefaults": {
           "arrowcolor": "#2a3f5f",
           "arrowhead": 0,
           "arrowwidth": 1
          },
          "autotypenumbers": "strict",
          "coloraxis": {
           "colorbar": {
            "outlinewidth": 0,
            "ticks": ""
           }
          },
          "colorscale": {
           "diverging": [
            [
             0,
             "#8e0152"
            ],
            [
             0.1,
             "#c51b7d"
            ],
            [
             0.2,
             "#de77ae"
            ],
            [
             0.3,
             "#f1b6da"
            ],
            [
             0.4,
             "#fde0ef"
            ],
            [
             0.5,
             "#f7f7f7"
            ],
            [
             0.6,
             "#e6f5d0"
            ],
            [
             0.7,
             "#b8e186"
            ],
            [
             0.8,
             "#7fbc41"
            ],
            [
             0.9,
             "#4d9221"
            ],
            [
             1,
             "#276419"
            ]
           ],
           "sequential": [
            [
             0,
             "#0d0887"
            ],
            [
             0.1111111111111111,
             "#46039f"
            ],
            [
             0.2222222222222222,
             "#7201a8"
            ],
            [
             0.3333333333333333,
             "#9c179e"
            ],
            [
             0.4444444444444444,
             "#bd3786"
            ],
            [
             0.5555555555555556,
             "#d8576b"
            ],
            [
             0.6666666666666666,
             "#ed7953"
            ],
            [
             0.7777777777777778,
             "#fb9f3a"
            ],
            [
             0.8888888888888888,
             "#fdca26"
            ],
            [
             1,
             "#f0f921"
            ]
           ],
           "sequentialminus": [
            [
             0,
             "#0d0887"
            ],
            [
             0.1111111111111111,
             "#46039f"
            ],
            [
             0.2222222222222222,
             "#7201a8"
            ],
            [
             0.3333333333333333,
             "#9c179e"
            ],
            [
             0.4444444444444444,
             "#bd3786"
            ],
            [
             0.5555555555555556,
             "#d8576b"
            ],
            [
             0.6666666666666666,
             "#ed7953"
            ],
            [
             0.7777777777777778,
             "#fb9f3a"
            ],
            [
             0.8888888888888888,
             "#fdca26"
            ],
            [
             1,
             "#f0f921"
            ]
           ]
          },
          "colorway": [
           "#636efa",
           "#EF553B",
           "#00cc96",
           "#ab63fa",
           "#FFA15A",
           "#19d3f3",
           "#FF6692",
           "#B6E880",
           "#FF97FF",
           "#FECB52"
          ],
          "font": {
           "color": "#2a3f5f"
          },
          "geo": {
           "bgcolor": "white",
           "lakecolor": "white",
           "landcolor": "#E5ECF6",
           "showlakes": true,
           "showland": true,
           "subunitcolor": "white"
          },
          "hoverlabel": {
           "align": "left"
          },
          "hovermode": "closest",
          "mapbox": {
           "style": "light"
          },
          "paper_bgcolor": "white",
          "plot_bgcolor": "#E5ECF6",
          "polar": {
           "angularaxis": {
            "gridcolor": "white",
            "linecolor": "white",
            "ticks": ""
           },
           "bgcolor": "#E5ECF6",
           "radialaxis": {
            "gridcolor": "white",
            "linecolor": "white",
            "ticks": ""
           }
          },
          "scene": {
           "xaxis": {
            "backgroundcolor": "#E5ECF6",
            "gridcolor": "white",
            "gridwidth": 2,
            "linecolor": "white",
            "showbackground": true,
            "ticks": "",
            "zerolinecolor": "white"
           },
           "yaxis": {
            "backgroundcolor": "#E5ECF6",
            "gridcolor": "white",
            "gridwidth": 2,
            "linecolor": "white",
            "showbackground": true,
            "ticks": "",
            "zerolinecolor": "white"
           },
           "zaxis": {
            "backgroundcolor": "#E5ECF6",
            "gridcolor": "white",
            "gridwidth": 2,
            "linecolor": "white",
            "showbackground": true,
            "ticks": "",
            "zerolinecolor": "white"
           }
          },
          "shapedefaults": {
           "line": {
            "color": "#2a3f5f"
           }
          },
          "ternary": {
           "aaxis": {
            "gridcolor": "white",
            "linecolor": "white",
            "ticks": ""
           },
           "baxis": {
            "gridcolor": "white",
            "linecolor": "white",
            "ticks": ""
           },
           "bgcolor": "#E5ECF6",
           "caxis": {
            "gridcolor": "white",
            "linecolor": "white",
            "ticks": ""
           }
          },
          "title": {
           "x": 0.05
          },
          "xaxis": {
           "automargin": true,
           "gridcolor": "white",
           "linecolor": "white",
           "ticks": "",
           "title": {
            "standoff": 15
           },
           "zerolinecolor": "white",
           "zerolinewidth": 2
          },
          "yaxis": {
           "automargin": true,
           "gridcolor": "white",
           "linecolor": "white",
           "ticks": "",
           "title": {
            "standoff": 15
           },
           "zerolinecolor": "white",
           "zerolinewidth": 2
          }
         }
        },
        "title": {
         "text": "QSVM"
        }
       }
      }
     },
     "metadata": {},
     "output_type": "display_data"
    }
   ],
   "source": [
    "px.scatter_3d(x=x_testdf.iloc[:,0],y=x_testdf.iloc[:,1],z=x_testdf.iloc[:,2], color= y_pred, title=\"QSVM\")"
   ]
  }
 ],
 "metadata": {
  "kernelspec": {
   "display_name": "base",
   "language": "python",
   "name": "python3"
  },
  "language_info": {
   "codemirror_mode": {
    "name": "ipython",
    "version": 3
   },
   "file_extension": ".py",
   "mimetype": "text/x-python",
   "name": "python",
   "nbconvert_exporter": "python",
   "pygments_lexer": "ipython3",
   "version": "3.10.9"
  }
 },
 "nbformat": 4,
 "nbformat_minor": 2
}
